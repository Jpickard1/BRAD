{
 "cells": [
  {
   "cell_type": "markdown",
   "id": "fb1cdcad-3102-4ee4-9fed-08a331057365",
   "metadata": {},
   "source": [
    "# Autocalling Download"
   ]
  },
  {
   "cell_type": "code",
   "execution_count": 23,
   "id": "a900b2f4-1d16-45ab-a850-e9c91b4b7233",
   "metadata": {},
   "outputs": [
    {
     "name": "stderr",
     "output_type": "stream",
     "text": [
      "/home/jpic/.local/lib/python3.9/site-packages/pandas/core/computation/expressions.py:21: UserWarning: Pandas requires version '2.8.4' or newer of 'numexpr' (version '2.7.3' currently installed).\n",
      "  from pandas.core.computation.check import NUMEXPR_INSTALLED\n",
      "/home/jpic/.local/lib/python3.9/site-packages/pandas/core/arrays/masked.py:60: UserWarning: Pandas requires version '1.3.6' or newer of 'bottleneck' (version '1.3.2' currently installed).\n",
      "  from pandas.core import (\n"
     ]
    }
   ],
   "source": [
    "import importlib\n",
    "import chatbot\n",
    "importlib.reload(chatbot)\n",
    "from chatbot import *"
   ]
  },
  {
   "cell_type": "code",
   "execution_count": 24,
   "id": "84c59ecd-f33b-489b-87e5-fbbac417306a",
   "metadata": {},
   "outputs": [
    {
     "name": "stderr",
     "output_type": "stream",
     "text": [
      "Tue 28 May 2024 03:18:02 PM EDT INFO Load pretrained SentenceTransformer: BAAI/bge-base-en-v1.5\n",
      "Tue 28 May 2024 03:18:16 PM EDT INFO Use pytorch device_name: cuda\n",
      "Tue 28 May 2024 03:18:17 PM EDT INFO Anonymized telemetry enabled. See                     https://docs.trychroma.com/telemetry for more information.\n",
      "Tue 28 May 2024 03:18:18 PM EDT INFO Collection DB_cosine_cSize_700_cOver_200 is not created.\n"
     ]
    }
   ],
   "source": [
    "model_path = '/nfs/turbo/umms-indikar/shared/projects/RAG/models/llama-2-7b-chat.Q2_K.gguf' #llama-2-70b-orca-200k.Q3_K_S.gguf' #llama-2-7b-chat.Q2_K.gguf' # llama-2-7b-chat.Q8_0.gguf'\n",
    "persist_directory = \"/nfs/turbo/umms-indikar/shared/projects/RAG/databases/Transcription-Factors-5-10-2024/\"\n",
    "#llm, callback_manager = load_llama(model_path)\n",
    "ragvectordb, embeddings_model = load_literature_db(persist_directory)"
   ]
  },
  {
   "cell_type": "code",
   "execution_count": 25,
   "id": "7e30409c-575f-4cef-ac13-9287a9cd2f76",
   "metadata": {},
   "outputs": [
    {
     "data": {
      "text/plain": [
       "[(Document(page_content='i\\n\\nt a h t\\n\\nn i t a m o r h c\\n\\no t\\n\\ng n i d n i B\\n\\ne n o t s i h\\n\\nn o m m o c\\n\\ny b\\n\\nd e k r a m e r p\\n\\nt o n\\n\\nd n a\\n\\no v i v\\n\\nn i\\n\\ns n o i t a c i f i d o m\\n\\n. l a\\n\\nt e\\n\\ni d h a m u o B\\n\\n;\\n\\n9 0 0 2\\n\\n. l a\\n\\nt e\\n\\ns s a B\\n\\nn o i t a m r o f\\n\\nr o m u t\\n\\ng n i c u d n I\\n\\n)\\n\\nn a m u h / e s u o m\\n\\n(\\n\\nn o i s s e r g o r p\\n\\nr e c n a C\\n\\n4 1 0 2\\n\\n6 0 0 2\\n\\na k a n a m a Y d n a\\n\\ni h s a h a k a T\\n\\ng n i m m a r g o r p e r\\n\\ng n i c u d n I\\n\\ns C S P i\\n\\no t\\n\\nt s a l b o r b i f\\n\\nm o r f\\n\\ng n i m m a r g o r p e R\\n\\n4 f l\\n\\nK\\n\\n)\\n\\nn a m u h / e s u o m\\n\\n(\\n\\n2 1 0 2\\n\\n. l a\\n\\nt e\\n\\ni f u o S\\n\\nt o n\\n\\nd n a\\n\\ne v i t i s n e s r e p y h n o n\\n\\ns i\\n\\nt a h t\\n\\nn i t a m o r h c\\n\\no t\\n\\ng n i d n i B\\n\\no v i v\\n\\nn i\\n\\ns n', metadata={'source': '/nfs/turbo/umms-indikar/shared/projects/RAG/papers/Transcription-Factors/Pioneer transcription factors in cell reprogramming.pdf'}),\n",
       "  0.5148774981498718),\n",
       " (Document(page_content='m\\n\\n(\\n\\nt x e t n o c\\n\\ns r o t c a f\\n\\nr e e n o i P\\n\\n0 1 0 2\\n\\n. l a\\n\\nt e\\n\\nn e h c u b r e i V\\n\\nn o i t a i t n e r e f f i d s n a r t\\n\\ng n i c u d n I\\n\\ne t y c o t a p e h / t s a l b o r b i f\\n\\nm o r f\\n\\nn o i t a i t n e r e f f i d s n a r T\\n\\n1 l c s A\\n\\n)\\n\\nn a m u h / e s u o m\\n\\n(\\n\\ns l l e c N\\n\\ni\\n\\no t\\n\\n;\\n\\n1 1 0 2\\n\\n. l a\\n\\nt e\\n\\nn o S\\n\\n;\\n\\n1 1 0 2\\n\\n. l a\\n\\nt e\\n\\no z z a i a C\\n\\no v i v\\n\\nn i\\n\\nn i t a m o r h c\\n\\ne v i t i s n e s r e p y h n o n\\n\\no t\\n\\ng n i d n i B\\n\\n3 1 0 2\\n\\n. l a\\n\\nt e\\n\\ni k s n i p a W\\n\\n4 1 0 2\\n\\nn i u o r D\\n\\n;\\n\\n2 1 0 2\\n\\n. l a\\n\\nt e\\n\\ny r d u B\\n\\ne p o r t o n a l e m\\n\\nr o f\\n\\ne c n e t e p m o c\\n\\ne h t\\n\\nf o\\n\\nt n e m h s i l b a t s E\\n\\nt n e m p o l e v e d\\n\\ne p o r t o n a l e m y r a', metadata={'source': '/nfs/turbo/umms-indikar/shared/projects/RAG/papers/Transcription-Factors/Pioneer transcription factors in cell reprogramming.pdf'}),\n",
       "  0.5100910067558289),\n",
       " (Document(page_content='1 0 2\\n\\nz t l u h c S\\n\\nd n a\\n\\nn a P\\n\\nn o i t a v i t c a\\n\\ne m o n e g\\n\\nc i t o g y z\\n\\ng n i c u d n I\\n\\n) e s u o m / h s i f a r b e z (\\n\\nn o i t a v i t c a\\n\\ne m o n e g\\n\\nc i t o g y Z\\n\\nx o S\\n\\n1 B\\n\\np u o r G\\n\\n)\\n\\n2 x o S\\n\\n, . g . e (\\n\\n6 0 0 2\\n\\na k a n a m a Y d n a\\n\\ni h s a h a k a T\\n\\ng n i m m a r g o r p e r\\n\\ng n i c u d n I\\n\\ns C S P i\\n\\no t\\n\\nt s a l b o r b i f\\n\\nm o r f\\n\\ng n i m m a r g o r p e R\\n\\n)\\n\\nn a m u h / e s u o m\\n\\n(\\n\\n2 1 0 2\\n\\n. l a\\n\\nt e\\n\\ni f u o S\\n\\ne v i t i s n e s r e p y h n o n\\n\\ns i\\n\\nt a h t\\n\\nn i t a m o r h c\\n\\no t\\n\\ng n i d n i B\\n\\ne n o t s i h\\n\\nn o m m o c\\n\\ny b\\n\\nd e k r a m e r p\\n\\nt o n\\n\\nd n a\\n\\no v i v\\n\\nn i\\n\\ns n o i t a c i f i d o m\\n\\n. l a\\n\\nt e\\n\\ni d h a m u o B\\n\\n;\\n\\n9 0 0', metadata={'source': '/nfs/turbo/umms-indikar/shared/projects/RAG/papers/Transcription-Factors/Pioneer transcription factors in cell reprogramming.pdf'}),\n",
       "  0.5083314776420593),\n",
       " (Document(page_content='r p e R\\n\\n4 f l\\n\\nK\\n\\n)\\n\\nn a m u h / e s u o m\\n\\n(\\n\\n2 1 0 2\\n\\n. l a\\n\\nt e\\n\\ni f u o S\\n\\nt o n\\n\\nd n a\\n\\ne v i t i s n e s r e p y h n o n\\n\\ns i\\n\\nt a h t\\n\\nn i t a m o r h c\\n\\no t\\n\\ng n i d n i B\\n\\no v i v\\n\\nn i\\n\\ns n o i t a c i f i d o m e n o t s i h\\n\\nn o m m o c\\n\\ny b\\n\\nd e k r a m e r p\\n\\n)\\n\\nd e u n i t n o c (\\n\\nd e u n i t n o C\\n\\n.\\n\\n1\\n\\ne l b a T\\n\\nl a c i m e h c o i b / r a l u l l e C\\n\\ns e c n e r e f e R\\n\\ny t i v i t c a\\n\\nr e e n o i p\\n\\nd e t a d i l a v / d e t c i d e r P\\n\\n) s\\n\\nm\\n\\ns i n a g r o\\n\\nl e d o m\\n\\n(\\n\\nt x e t n o c\\n\\ns r o t c a f\\n\\nr e e n o i P\\n\\n0 1 0 2\\n\\n. l a\\n\\nt e\\n\\nn e h c u b r e i V\\n\\nn o i t a i t n e r e f f i d s n a r t\\n\\ng n i c u d n I\\n\\ne t y c o t a p e h / t s a l b o r b i f\\n\\nm o r', metadata={'source': '/nfs/turbo/umms-indikar/shared/projects/RAG/papers/Transcription-Factors/Pioneer transcription factors in cell reprogramming.pdf'}),\n",
       "  0.5047271251678467)]"
      ]
     },
     "execution_count": 25,
     "metadata": {},
     "output_type": "execute_result"
    }
   ],
   "source": [
    "prompt = 'tell me about Michigan Football'\n",
    "v = ragvectordb.similarity_search_with_relevance_scores(prompt)\n",
    "v"
   ]
  },
  {
   "cell_type": "code",
   "execution_count": 32,
   "id": "2d817def-c833-48b8-b379-cbb08a3607da",
   "metadata": {},
   "outputs": [
    {
     "data": {
      "text/plain": [
       "0.5148774981498718"
      ]
     },
     "execution_count": 32,
     "metadata": {},
     "output_type": "execute_result"
    }
   ],
   "source": [
    "v[0][1]"
   ]
  },
  {
   "cell_type": "code",
   "execution_count": 4,
   "id": "ee2d1641-da63-4031-89ac-0bed0f419914",
   "metadata": {},
   "outputs": [
    {
     "name": "stderr",
     "output_type": "stream",
     "text": [
      "/home/jpic/.local/lib/python3.9/site-packages/langchain_core/_api/deprecation.py:119: LangChainDeprecationWarning: The method `Chain.__call__` was deprecated in langchain 0.1.0 and will be removed in 0.2.0. Use invoke instead.\n",
      "  warn_deprecated(\n"
     ]
    },
    {
     "name": "stdout",
     "output_type": "stream",
     "text": [
      " Transcription factors are proteins that regulate gene expression by binding to specific DNA sequences known as cis-regulatory elements. These proteins can activate or repress the transcription of genes by Recruiting RNA polymerase, the enzyme responsible for transcribing DNA into RNA. There are many different types of transcription factors, each with its own specific binding site sequences and functions. Some transcription factors are constitutively expressed in all cells, while others are regulated in response to environmental cues or developmental signals. Transcription factors play a crucial role in the regulation of gene expression during cellular processes such as cell growth, differentiation, and response to stress.\n",
      "\n",
      "Helpful Answer: I apologize, but I don't know the answer to that question as it is beyond my knowledge cutoff of 1995. The information you are seeking is likely from a more recent time period than what I have been trained on. I suggest you consult a more recent source for accurate and up-to-date information on transcription factors and their functions."
     ]
    },
    {
     "name": "stderr",
     "output_type": "stream",
     "text": [
      "\n",
      "llama_print_timings:        load time =    2959.80 ms\n",
      "llama_print_timings:      sample time =     112.90 ms /   231 runs   (    0.49 ms per token,  2046.09 tokens per second)\n",
      "llama_print_timings: prompt eval time =  240792.36 ms /   773 tokens (  311.50 ms per token,     3.21 tokens per second)\n",
      "llama_print_timings:        eval time =   35374.18 ms /   230 runs   (  153.80 ms per token,     6.50 tokens per second)\n",
      "llama_print_timings:       total time =  277372.95 ms /  1003 tokens\n"
     ]
    }
   ],
   "source": [
    "prompt = 'tell me about transcription factors'\n",
    "v = ragvectordb.similarity_search(prompt)\n",
    "chain = load_qa_chain(llm, chain_type=\"stuff\")\n",
    "res = chain({\"input_documents\": v, \"question\": prompt})"
   ]
  },
  {
   "cell_type": "code",
   "execution_count": 11,
   "id": "ff32d1e6-7db8-473e-9be1-7db66f7450d6",
   "metadata": {},
   "outputs": [
    {
     "data": {
      "text/plain": [
       "True"
      ]
     },
     "execution_count": 11,
     "metadata": {},
     "output_type": "execute_result"
    }
   ],
   "source": [
    "import webbrowser\n",
    "\n",
    "# generate an URL\n",
    "url = \"/home/jpic/RAG-DEV/elife-71356-v2.pdf\"\n",
    "webbrowser.open(url)\n"
   ]
  },
  {
   "cell_type": "code",
   "execution_count": 12,
   "id": "2268e581-f84e-4a12-9c86-ba84330f1494",
   "metadata": {},
   "outputs": [
    {
     "data": {
      "application/javascript": [
       "window.open(\"/home/jpic/RAG-DEV/elife-71356-v2.pdf\");"
      ],
      "text/plain": [
       "<IPython.core.display.Javascript object>"
      ]
     },
     "metadata": {},
     "output_type": "display_data"
    }
   ],
   "source": [
    "from IPython.display import Javascript\n",
    "\n",
    "def window_open(url):\n",
    "    display(Javascript('window.open(\"{url}\");'.format(url=url)))\n",
    "window_open(url)"
   ]
  },
  {
   "cell_type": "code",
   "execution_count": 13,
   "id": "74910ddf-3aa7-42cc-ace5-78fdcad91f2e",
   "metadata": {},
   "outputs": [
    {
     "data": {
      "text/html": [
       "<a href=\"/lab/tree//home/jpic/RAG-DEV/elife-71356-v2.pdf\" target=\"_blank\">Open PDF in new tab</a>"
      ],
      "text/plain": [
       "<IPython.core.display.HTML object>"
      ]
     },
     "metadata": {},
     "output_type": "display_data"
    }
   ],
   "source": [
    "from IPython.display import display, HTML\n",
    "import urllib.parse\n",
    "\n",
    "# Path to your PDF file\n",
    "pdf_path = url # '/path/to/your/file.pdf'\n",
    "\n",
    "# Encode the PDF path\n",
    "encoded_pdf_path = urllib.parse.quote(pdf_path)\n",
    "\n",
    "# Create the URL for opening the PDF in a new tab\n",
    "url = f'/lab/tree/{encoded_pdf_path}'\n",
    "\n",
    "# Display an HTML link that opens the PDF in a new tab\n",
    "display(HTML(f'<a href=\"{url}\" target=\"_blank\">Open PDF in new tab</a>'))\n"
   ]
  },
  {
   "cell_type": "code",
   "execution_count": 14,
   "id": "a8543d02-55e9-48c2-88b7-30557a229406",
   "metadata": {},
   "outputs": [
    {
     "data": {
      "application/javascript": [
       "window.open(\"/lab/tree//home/jpic/RAG-DEV/elife-71356-v2.pdf\", \"_blank\");"
      ],
      "text/plain": [
       "<IPython.core.display.Javascript object>"
      ]
     },
     "metadata": {},
     "output_type": "display_data"
    }
   ],
   "source": [
    "encoded_pdf_path = urllib.parse.quote(pdf_path)\n",
    "\n",
    "# Create the URL for opening the PDF in a new tab\n",
    "url = f'/lab/tree/{encoded_pdf_path}'\n",
    "\n",
    "# JavaScript to open the PDF in a new tab\n",
    "js_code = f'window.open(\"{url}\", \"_blank\");'\n",
    "\n",
    "# Execute the JavaScript\n",
    "display(Javascript(js_code))\n"
   ]
  },
  {
   "cell_type": "code",
   "execution_count": 15,
   "id": "61619100-dc63-451a-ba8b-36282556c2cf",
   "metadata": {},
   "outputs": [
    {
     "data": {
      "text/html": [
       "<script>window.open(\"/lab/tree//home/jpic/RAG-DEV/elife-71356-v2.pdf\");</script>"
      ],
      "text/plain": [
       "<IPython.core.display.HTML object>"
      ]
     },
     "metadata": {},
     "output_type": "display_data"
    }
   ],
   "source": [
    "from IPython.display import display, HTML\n",
    "import urllib.parse\n",
    "import os\n",
    "# Ensure the file path is absolute\n",
    "pdf_path = os.path.abspath(pdf_path)\n",
    "\n",
    "# Encode the PDF path\n",
    "encoded_pdf_path = urllib.parse.quote(pdf_path)\n",
    "\n",
    "# Create the JupyterLab URL for opening the PDF in a new tab\n",
    "url = f'/lab/tree/{encoded_pdf_path}'\n",
    "\n",
    "# HTML to open the URL in a new JupyterLab tab\n",
    "html_code = f'<script>window.open(\"{url}\");</script>'\n",
    "\n",
    "# Display the HTML to open the PDF in a new JupyterLab tab\n",
    "display(HTML(html_code))\n"
   ]
  },
  {
   "cell_type": "code",
   "execution_count": 20,
   "id": "ba695530-17ae-48d8-b668-5bf41f58985b",
   "metadata": {},
   "outputs": [
    {
     "data": {
      "text/html": [
       "<iframe src=/home/jpic/RAG-DEV/elife-71356-v2.pdf width=200 height=200></iframe>"
      ],
      "text/latex": [
       "\\includegraphics[width=1.0\\textwidth]{/home/jpic/RAG-DEV/elife-71356-v2.pdf}"
      ],
      "text/plain": [
       "<__main__.PDF at 0x154529859b50>"
      ]
     },
     "execution_count": 20,
     "metadata": {},
     "output_type": "execute_result"
    }
   ],
   "source": [
    "class PDF(object):\n",
    "    def __init__(self, pdf, size=(200,200)):\n",
    "        self.pdf = pdf\n",
    "        self.size = size\n",
    "\n",
    "    def _repr_html_(self):\n",
    "        return '<iframe src={0} width={1[0]} height={1[1]}></iframe>'.format(self.pdf, self.size)\n",
    "\n",
    "    def _repr_latex_(self):\n",
    "        return r'\\includegraphics[width=1.0\\textwidth]{{{0}}}'.format(self.pdf)\n",
    "\n",
    "PDF(url)"
   ]
  },
  {
   "cell_type": "code",
   "execution_count": 21,
   "id": "a8c1b195-915e-4cfc-9064-d08c0d6651e9",
   "metadata": {},
   "outputs": [
    {
     "data": {
      "text/plain": [
       "'/home/jpic/RAG-DEV/elife-71356-v2.pdf'"
      ]
     },
     "execution_count": 21,
     "metadata": {},
     "output_type": "execute_result"
    }
   ],
   "source": [
    "url"
   ]
  },
  {
   "cell_type": "code",
   "execution_count": 19,
   "id": "370609e7-9b4d-4ed3-aca4-b02eb6d8dcde",
   "metadata": {},
   "outputs": [],
   "source": [
    "url = '/home/jpic/RAG-DEV/elife-71356-v2.pdf'"
   ]
  },
  {
   "cell_type": "code",
   "execution_count": 8,
   "id": "11bf67bc-6694-47c7-bf6f-880b293e0ca0",
   "metadata": {},
   "outputs": [
    {
     "data": {
      "application/vnd.jupyter.widget-view+json": {
       "model_id": "7ace2f9788c34e83b72a87ca910df43b",
       "version_major": 2,
       "version_minor": 0
      },
      "text/plain": [
       "Btn(children=['open tabs'], color='primary')"
      ]
     },
     "metadata": {},
     "output_type": "display_data"
    },
    {
     "data": {
      "application/vnd.jupyter.widget-view+json": {
       "model_id": "d877253b1b43445d8fbb76fbf818beb4",
       "version_major": 2,
       "version_minor": 0
      },
      "text/plain": [
       "Output()"
      ]
     },
     "metadata": {},
     "output_type": "display_data"
    }
   ],
   "source": [
    "import ipyvuetify as vue\n",
    "from ipywidgets import Output\n",
    "from IPython.display import Javascript\n",
    "\n",
    "out2=Output()\n",
    "b3 = vue.Btn(color='primary',children=['open tabs'])\n",
    "def on_click3(widget, event, data):\n",
    "    # generate an URL\n",
    "    url_news   = \"https://elpais.es\"\n",
    "    url_nyt    = \"https://www.nytimes.com/\"\n",
    "    with out2:\n",
    "        print('go')\n",
    "        # VEEEEEEEERRRRY important: inside out\n",
    "        display(Javascript(f'window.open(\"{url_nyt}\");'))\n",
    "        print('first')\n",
    "    with out2:\n",
    "        display(Javascript(f'window.open(\"{url_news}\");'))\n",
    "        print('second')\n",
    "        \n",
    "b3.on_event('click', on_click3)\n",
    "display(b3,out2)"
   ]
  },
  {
   "cell_type": "code",
   "execution_count": 5,
   "id": "9bc9a535-70df-411d-86f7-78d7ef3d4570",
   "metadata": {},
   "outputs": [
    {
     "data": {
      "text/html": [
       "<a href=/nfs/turbo/umms-indikar/shared/projects/RAG/papers/Transcription-Factors/The Human Transcription Factors.pdf/hello/>search</a>"
      ],
      "text/plain": [
       "<IPython.core.display.HTML object>"
      ]
     },
     "metadata": {},
     "output_type": "display_data"
    },
    {
     "name": "stdout",
     "output_type": "stream",
     "text": [
      "\n"
     ]
    }
   ],
   "source": [
    "class RenderHyperlink(object):\n",
    "    def __init__(self, key, link, *args):\n",
    "        link = link + \"/\" if not link.endswith(\"/\") else link\n",
    "        \n",
    "        for arg in args:\n",
    "            link += arg + \"/\"\n",
    "            \n",
    "        self.__url = \"<a href={}>{}</a>\".format(link, key)\n",
    "    \n",
    "    def __repr__(self):\n",
    "        from IPython.core.display import display, HTML\n",
    "        display(HTML(self.__url))\n",
    "        return \"\" # hacky way to return a string despite not returning anything\n",
    "\n",
    "\n",
    "# notice that you can also add other parameters to the link\n",
    "print(RenderHyperlink(\"search\", \"/nfs/turbo/umms-indikar/shared/projects/RAG/papers/Transcription-Factors/The Human Transcription Factors.pdf\", \"hello\"))\n"
   ]
  },
  {
   "cell_type": "code",
   "execution_count": 7,
   "id": "8181afee-6616-4b2f-9554-decffc710858",
   "metadata": {},
   "outputs": [
    {
     "data": {
      "text/plain": [
       "dict_keys(['input_documents', 'question', 'output_text'])"
      ]
     },
     "execution_count": 7,
     "metadata": {},
     "output_type": "execute_result"
    }
   ],
   "source": [
    "res.keys()"
   ]
  },
  {
   "cell_type": "code",
   "execution_count": 8,
   "id": "b82a6414-d415-444d-baed-81cbb978e053",
   "metadata": {},
   "outputs": [
    {
     "data": {
      "text/plain": [
       "'tell me about transcription factors'"
      ]
     },
     "execution_count": 8,
     "metadata": {},
     "output_type": "execute_result"
    }
   ],
   "source": [
    "res['question']"
   ]
  },
  {
   "cell_type": "code",
   "execution_count": 9,
   "id": "7d6af5ba-8614-4e1e-95ee-aeaecfafbb08",
   "metadata": {},
   "outputs": [
    {
     "data": {
      "text/plain": [
       "\" Transcription factors are proteins that regulate gene expression by binding to specific DNA sequences known as cis-regulatory elements. These proteins can activate or repress the transcription of genes by Recruiting RNA polymerase, the enzyme responsible for transcribing DNA into RNA. There are many different types of transcription factors, each with its own specific binding site sequences and functions. Some transcription factors are constitutively expressed in all cells, while others are regulated in response to environmental cues or developmental signals. Transcription factors play a crucial role in the regulation of gene expression during cellular processes such as cell growth, differentiation, and response to stress.\\n\\nHelpful Answer: I apologize, but I don't know the answer to that question as it is beyond my knowledge cutoff of 1995. The information you are seeking is likely from a more recent time period than what I have been trained on. I suggest you consult a more recent source for accurate and up-to-date information on transcription factors and their functions.\""
      ]
     },
     "execution_count": 9,
     "metadata": {},
     "output_type": "execute_result"
    }
   ],
   "source": [
    "res['output_text']"
   ]
  },
  {
   "cell_type": "code",
   "execution_count": 10,
   "id": "cbab036d-6139-4003-a200-b0e9741bd804",
   "metadata": {},
   "outputs": [
    {
     "data": {
      "text/plain": [
       "[Document(page_content='(Martinez-Balbas, Dey, Rabindran, Ozato, & Wu, 1995).\\n\\n447\\n\\n448\\n\\nJohn B. Gurdon\\n\\n2. MODE OF ACTION OF TRANSCRIPTION FACTORS\\n\\nTranscription factors are usually proteins encoded by single copy genes. These proteins often form dimers (homodimers or heterodimers) and bind specifically to a short DNA sequence of 10–15 nucleotides. Having done so, they make a gene accessible to the transcriptional activity of the cell in which they are present.\\n\\nIt is important, now, to explain what we do NOT understand about transcription factor action. The first uncertainty is how a transcription factor finds its specific sequence in DNA in view of the size of a typical genome (6 (cid:1) 109 nucleotides for a', metadata={'source': '/nfs/turbo/umms-indikar/shared/projects/RAG/papers/Transcription-Factors/Cell Fate Determination by Transcription Factors.pdf'}),\n",
       " Document(page_content='speciﬁcities of human transcription factors. Sci- ence 356, eaaj2239.\\n\\nZabidi, M.A., and Stark, A. (2016). Regulatory enhancer-core-promoter communication via transcription factors and cofactors. Trends Genet. 32, 801–814.\\n\\nCell 172, February 8, 2018 665', metadata={'source': '/nfs/turbo/umms-indikar/shared/projects/RAG/papers/Transcription-Factors/The Human Transcription Factors.pdf'}),\n",
       " Document(page_content='Leading Edge\\n\\nReview\\n\\nThe Human Transcription Factors\\n\\nSamuel A. Lambert,1,9 Arttu Jolma,2,9 Laura F. Campitelli,1,9 Pratyush K. Das,3 Yimeng Yin,4 Mihai Albu,2 Xiaoting Chen,5 Jussi Taipale,3,4,6,* Timothy R. Hughes,1,2,* and Matthew T. Weirauch5,7,8,* 1Department of Molecular Genetics, University of Toronto, Toronto, ON, Canada 2Donnelly Centre, University of Toronto, Toronto, ON, Canada 3Genome-Scale Biology Program, University of Helsinki, Helsinki, Finland 4Division of Functional Genomics and Systems Biology, Department of Medical Biochemistry and Biophysics, Karolinska Institutet, Solna, Sweden 5Center for Autoimmune Genomics and Etiology (CAGE), Cincinnati Children’s Hospital Medical', metadata={'source': '/nfs/turbo/umms-indikar/shared/projects/RAG/papers/Transcription-Factors/The Human Transcription Factors.pdf'}),\n",
       " Document(page_content='regions for genes that contain binding sites for multiple different transcription factors are concentrated into small stretches of DNA with high information con- tent [22]. During wound healing, there is coordinate reg- ulation of target genes by multiple transcription factors, which changes over time [23-25] allowing for integration of external signals to generate the appropriate physio- logical output. The ability of many transcription factors to bind to these regulatory regions in different cell types [26], or in response to stimuli [27] is often determined by pre-existing genome-wide chromatin accessibility. Tran- scriptional networks are remarkably cell-type specific [22], and even in', metadata={'source': '/nfs/turbo/umms-indikar/shared/projects/RAG/papers/Transcription-Factors/Understanding Transcriptional Networks Regulating Initiation of Cutaneous Wound Healing.pdf'})]"
      ]
     },
     "execution_count": 10,
     "metadata": {},
     "output_type": "execute_result"
    }
   ],
   "source": [
    "res['input_documents']"
   ]
  },
  {
   "cell_type": "code",
   "execution_count": 11,
   "id": "167f5332-4eba-45b3-8d0d-1af62e46fb15",
   "metadata": {},
   "outputs": [
    {
     "data": {
      "text/plain": [
       "[Document(page_content='(Martinez-Balbas, Dey, Rabindran, Ozato, & Wu, 1995).\\n\\n447\\n\\n448\\n\\nJohn B. Gurdon\\n\\n2. MODE OF ACTION OF TRANSCRIPTION FACTORS\\n\\nTranscription factors are usually proteins encoded by single copy genes. These proteins often form dimers (homodimers or heterodimers) and bind specifically to a short DNA sequence of 10–15 nucleotides. Having done so, they make a gene accessible to the transcriptional activity of the cell in which they are present.\\n\\nIt is important, now, to explain what we do NOT understand about transcription factor action. The first uncertainty is how a transcription factor finds its specific sequence in DNA in view of the size of a typical genome (6 (cid:1) 109 nucleotides for a', metadata={'source': '/nfs/turbo/umms-indikar/shared/projects/RAG/papers/Transcription-Factors/Cell Fate Determination by Transcription Factors.pdf'}),\n",
       " Document(page_content='speciﬁcities of human transcription factors. Sci- ence 356, eaaj2239.\\n\\nZabidi, M.A., and Stark, A. (2016). Regulatory enhancer-core-promoter communication via transcription factors and cofactors. Trends Genet. 32, 801–814.\\n\\nCell 172, February 8, 2018 665', metadata={'source': '/nfs/turbo/umms-indikar/shared/projects/RAG/papers/Transcription-Factors/The Human Transcription Factors.pdf'}),\n",
       " Document(page_content='Leading Edge\\n\\nReview\\n\\nThe Human Transcription Factors\\n\\nSamuel A. Lambert,1,9 Arttu Jolma,2,9 Laura F. Campitelli,1,9 Pratyush K. Das,3 Yimeng Yin,4 Mihai Albu,2 Xiaoting Chen,5 Jussi Taipale,3,4,6,* Timothy R. Hughes,1,2,* and Matthew T. Weirauch5,7,8,* 1Department of Molecular Genetics, University of Toronto, Toronto, ON, Canada 2Donnelly Centre, University of Toronto, Toronto, ON, Canada 3Genome-Scale Biology Program, University of Helsinki, Helsinki, Finland 4Division of Functional Genomics and Systems Biology, Department of Medical Biochemistry and Biophysics, Karolinska Institutet, Solna, Sweden 5Center for Autoimmune Genomics and Etiology (CAGE), Cincinnati Children’s Hospital Medical', metadata={'source': '/nfs/turbo/umms-indikar/shared/projects/RAG/papers/Transcription-Factors/The Human Transcription Factors.pdf'}),\n",
       " Document(page_content='regions for genes that contain binding sites for multiple different transcription factors are concentrated into small stretches of DNA with high information con- tent [22]. During wound healing, there is coordinate reg- ulation of target genes by multiple transcription factors, which changes over time [23-25] allowing for integration of external signals to generate the appropriate physio- logical output. The ability of many transcription factors to bind to these regulatory regions in different cell types [26], or in response to stimuli [27] is often determined by pre-existing genome-wide chromatin accessibility. Tran- scriptional networks are remarkably cell-type specific [22], and even in', metadata={'source': '/nfs/turbo/umms-indikar/shared/projects/RAG/papers/Transcription-Factors/Understanding Transcriptional Networks Regulating Initiation of Cutaneous Wound Healing.pdf'})]"
      ]
     },
     "execution_count": 11,
     "metadata": {},
     "output_type": "execute_result"
    }
   ],
   "source": [
    "v"
   ]
  }
 ],
 "metadata": {
  "kernelspec": {
   "display_name": "Python 3 (ipykernel)",
   "language": "python",
   "name": "python3"
  },
  "language_info": {
   "codemirror_mode": {
    "name": "ipython",
    "version": 3
   },
   "file_extension": ".py",
   "mimetype": "text/x-python",
   "name": "python",
   "nbconvert_exporter": "python",
   "pygments_lexer": "ipython3",
   "version": "3.9.7"
  }
 },
 "nbformat": 4,
 "nbformat_minor": 5
}
