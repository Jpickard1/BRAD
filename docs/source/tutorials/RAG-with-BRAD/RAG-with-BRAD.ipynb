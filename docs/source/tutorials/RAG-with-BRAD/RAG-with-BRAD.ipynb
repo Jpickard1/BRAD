{
 "cells": [
  {
   "cell_type": "markdown",
   "id": "90c59371-1957-447c-922e-bd8e416ed1fe",
   "metadata": {
    "tags": []
   },
   "source": [
    "# Retrieval Augmented Generation (RAG) with BRAD\n",
    "\n",
    "Given a collection of documents (pdfs), the RAG first builds a database by splitting up the text into equal size ('chunk_size'). These chunks can optionally be set to have some overlap ('chunk_overlap'). Both of these values within BRAD are set to 700 and 200 respectively but can be manually changed for different applications. Then, we vectorize these chunks using an embedding model from HuggingFace (Note - this step may take a while). Then, given a query, it embeds the query in the same embedding space and finds the top k chunks (preset to 4) with the closest cosine similarity to the query in the embedding space and uses these chunks as a basis for the response."
   ]
  },
  {
   "cell_type": "markdown",
   "id": "f185bba2-a3de-4013-9e58-9d0856829d16",
   "metadata": {},
   "source": [
    "# Literature Databases"
   ]
  },
  {
   "cell_type": "markdown",
   "id": "996b2a1b-48cb-428a-a4ea-e5c47a617b8c",
   "metadata": {},
   "source": [
    "## Building a Database"
   ]
  },
  {
   "cell_type": "code",
   "execution_count": 1,
   "id": "d8a78fec-c55f-4063-9768-cf101482e39a",
   "metadata": {},
   "outputs": [],
   "source": [
    "import subprocess\n",
    "import os\n",
    "from langchain.document_loaders import DirectoryLoader\n",
    "from langchain.document_loaders import UnstructuredPDFLoader\n",
    "from langchain.vectorstores import Chroma\n",
    "from langchain.embeddings import HuggingFaceEmbeddings\n",
    "import chromadb\n",
    "from langchain_community.document_loaders import PyPDFLoader\n",
    "from langchain_text_splitters import RecursiveCharacterTextSplitter"
   ]
  },
  {
   "cell_type": "code",
   "execution_count": 3,
   "id": "8c0a7a24-4c07-4657-a7b3-fe7e35252c13",
   "metadata": {},
   "outputs": [],
   "source": [
    "from BRAD import rag"
   ]
  },
  {
   "cell_type": "code",
   "execution_count": 3,
   "id": "0ae318e6-ef5e-4a7f-b669-ac99775f16d1",
   "metadata": {},
   "outputs": [
    {
     "name": "stdout",
     "output_type": "stream",
     "text": [
      "\n",
      "Work Directory: /home/jpic/RAG-DEV/tutorials/RAG-with-BRAD\n"
     ]
    },
    {
     "name": "stderr",
     "output_type": "stream",
     "text": [
      "/home/jpic/.local/lib/python3.11/site-packages/huggingface_hub/file_download.py:1132: FutureWarning: `resume_download` is deprecated and will be removed in version 1.0.0. Downloads always resume when possible. If you want to force a new download, use `force_download=True`.\n",
      "  warnings.warn(\n"
     ]
    },
    {
     "name": "stdout",
     "output_type": "stream",
     "text": [
      "\n",
      "Documents loading from: papers/\n"
     ]
    },
    {
     "name": "stderr",
     "output_type": "stream",
     "text": [
      "  0%|          | 0/1 [00:00<?, ?it/s]Error loading file papers/Pore-C.pdf\n",
      "100%|██████████| 1/1 [00:00<00:00,  1.11it/s]"
     ]
    },
    {
     "ename": "PDFInfoNotInstalledError",
     "evalue": "Unable to get page count. Is poppler installed and in PATH?",
     "output_type": "error",
     "traceback": [
      "\u001b[0;31m---------------------------------------------------------------------------\u001b[0m",
      "\u001b[0;31mFileNotFoundError\u001b[0m                         Traceback (most recent call last)",
      "File \u001b[0;32m~/.local/lib/python3.11/site-packages/pdf2image/pdf2image.py:581\u001b[0m, in \u001b[0;36mpdfinfo_from_path\u001b[0;34m(pdf_path, userpw, ownerpw, poppler_path, rawdates, timeout, first_page, last_page)\u001b[0m\n\u001b[1;32m    580\u001b[0m     env[\u001b[38;5;124m\"\u001b[39m\u001b[38;5;124mLD_LIBRARY_PATH\u001b[39m\u001b[38;5;124m\"\u001b[39m] \u001b[38;5;241m=\u001b[39m poppler_path \u001b[38;5;241m+\u001b[39m \u001b[38;5;124m\"\u001b[39m\u001b[38;5;124m:\u001b[39m\u001b[38;5;124m\"\u001b[39m \u001b[38;5;241m+\u001b[39m env\u001b[38;5;241m.\u001b[39mget(\u001b[38;5;124m\"\u001b[39m\u001b[38;5;124mLD_LIBRARY_PATH\u001b[39m\u001b[38;5;124m\"\u001b[39m, \u001b[38;5;124m\"\u001b[39m\u001b[38;5;124m\"\u001b[39m)\n\u001b[0;32m--> 581\u001b[0m proc \u001b[38;5;241m=\u001b[39m Popen(command, env\u001b[38;5;241m=\u001b[39menv, stdout\u001b[38;5;241m=\u001b[39mPIPE, stderr\u001b[38;5;241m=\u001b[39mPIPE)\n\u001b[1;32m    583\u001b[0m \u001b[38;5;28;01mtry\u001b[39;00m:\n",
      "File \u001b[0;32m/sw/pkgs/arc/python3.11-anaconda/2024.02-1/lib/python3.11/subprocess.py:1026\u001b[0m, in \u001b[0;36mPopen.__init__\u001b[0;34m(self, args, bufsize, executable, stdin, stdout, stderr, preexec_fn, close_fds, shell, cwd, env, universal_newlines, startupinfo, creationflags, restore_signals, start_new_session, pass_fds, user, group, extra_groups, encoding, errors, text, umask, pipesize, process_group)\u001b[0m\n\u001b[1;32m   1023\u001b[0m             \u001b[38;5;28mself\u001b[39m\u001b[38;5;241m.\u001b[39mstderr \u001b[38;5;241m=\u001b[39m io\u001b[38;5;241m.\u001b[39mTextIOWrapper(\u001b[38;5;28mself\u001b[39m\u001b[38;5;241m.\u001b[39mstderr,\n\u001b[1;32m   1024\u001b[0m                     encoding\u001b[38;5;241m=\u001b[39mencoding, errors\u001b[38;5;241m=\u001b[39merrors)\n\u001b[0;32m-> 1026\u001b[0m     \u001b[38;5;28mself\u001b[39m\u001b[38;5;241m.\u001b[39m_execute_child(args, executable, preexec_fn, close_fds,\n\u001b[1;32m   1027\u001b[0m                         pass_fds, cwd, env,\n\u001b[1;32m   1028\u001b[0m                         startupinfo, creationflags, shell,\n\u001b[1;32m   1029\u001b[0m                         p2cread, p2cwrite,\n\u001b[1;32m   1030\u001b[0m                         c2pread, c2pwrite,\n\u001b[1;32m   1031\u001b[0m                         errread, errwrite,\n\u001b[1;32m   1032\u001b[0m                         restore_signals,\n\u001b[1;32m   1033\u001b[0m                         gid, gids, uid, umask,\n\u001b[1;32m   1034\u001b[0m                         start_new_session, process_group)\n\u001b[1;32m   1035\u001b[0m \u001b[38;5;28;01mexcept\u001b[39;00m:\n\u001b[1;32m   1036\u001b[0m     \u001b[38;5;66;03m# Cleanup if the child failed starting.\u001b[39;00m\n",
      "File \u001b[0;32m/sw/pkgs/arc/python3.11-anaconda/2024.02-1/lib/python3.11/subprocess.py:1950\u001b[0m, in \u001b[0;36mPopen._execute_child\u001b[0;34m(self, args, executable, preexec_fn, close_fds, pass_fds, cwd, env, startupinfo, creationflags, shell, p2cread, p2cwrite, c2pread, c2pwrite, errread, errwrite, restore_signals, gid, gids, uid, umask, start_new_session, process_group)\u001b[0m\n\u001b[1;32m   1949\u001b[0m         err_msg \u001b[38;5;241m=\u001b[39m os\u001b[38;5;241m.\u001b[39mstrerror(errno_num)\n\u001b[0;32m-> 1950\u001b[0m     \u001b[38;5;28;01mraise\u001b[39;00m child_exception_type(errno_num, err_msg, err_filename)\n\u001b[1;32m   1951\u001b[0m \u001b[38;5;28;01mraise\u001b[39;00m child_exception_type(err_msg)\n",
      "\u001b[0;31mFileNotFoundError\u001b[0m: [Errno 2] No such file or directory: 'pdfinfo'",
      "\nDuring handling of the above exception, another exception occurred:\n",
      "\u001b[0;31mPDFInfoNotInstalledError\u001b[0m                  Traceback (most recent call last)",
      "Cell \u001b[0;32mIn[3], line 1\u001b[0m\n\u001b[0;32m----> 1\u001b[0m rag\u001b[38;5;241m.\u001b[39mcreate_database(docsPath\u001b[38;5;241m=\u001b[39m\u001b[38;5;124m'\u001b[39m\u001b[38;5;124mpapers/\u001b[39m\u001b[38;5;124m'\u001b[39m,\n\u001b[1;32m      2\u001b[0m                     dbName\u001b[38;5;241m=\u001b[39m\u001b[38;5;124m'\u001b[39m\u001b[38;5;124mtutorialDatabase\u001b[39m\u001b[38;5;124m'\u001b[39m,\n\u001b[1;32m      3\u001b[0m                     dbPath\u001b[38;5;241m=\u001b[39m\u001b[38;5;124m'\u001b[39m\u001b[38;5;124mdatabases/\u001b[39m\u001b[38;5;124m'\u001b[39m,\n\u001b[1;32m      4\u001b[0m                     HuggingFaceEmbeddingsModel \u001b[38;5;241m=\u001b[39m \u001b[38;5;124m'\u001b[39m\u001b[38;5;124mBAAI/bge-base-en-v1.5\u001b[39m\u001b[38;5;124m'\u001b[39m,\n\u001b[1;32m      5\u001b[0m                     chunk_size\u001b[38;5;241m=\u001b[39m[\u001b[38;5;241m700\u001b[39m],\n\u001b[1;32m      6\u001b[0m                     chunck_overlap\u001b[38;5;241m=\u001b[39m[\u001b[38;5;241m200\u001b[39m],\n\u001b[1;32m      7\u001b[0m                     v\u001b[38;5;241m=\u001b[39m\u001b[38;5;28;01mTrue\u001b[39;00m)\n",
      "File \u001b[0;32m~/RAG-DEV/BRAD/rag.py:309\u001b[0m, in \u001b[0;36mcreate_database\u001b[0;34m(docsPath, dbName, dbPath, HuggingFaceEmbeddingsModel, chunk_size, chunck_overlap, v)\u001b[0m\n\u001b[1;32m    302\u001b[0m text_loader_kwargs\u001b[38;5;241m=\u001b[39m{\u001b[38;5;124m'\u001b[39m\u001b[38;5;124mautodetect_encoding\u001b[39m\u001b[38;5;124m'\u001b[39m: \u001b[38;5;28;01mTrue\u001b[39;00m}\n\u001b[1;32m    303\u001b[0m loader \u001b[38;5;241m=\u001b[39m DirectoryLoader(docsPath,\n\u001b[1;32m    304\u001b[0m                          glob\u001b[38;5;241m=\u001b[39m\u001b[38;5;124m\"\u001b[39m\u001b[38;5;124m**/*.pdf\u001b[39m\u001b[38;5;124m\"\u001b[39m,\n\u001b[1;32m    305\u001b[0m                          loader_cls\u001b[38;5;241m=\u001b[39mUnstructuredPDFLoader, \n\u001b[1;32m    306\u001b[0m                          loader_kwargs\u001b[38;5;241m=\u001b[39mtext_loader_kwargs,\n\u001b[1;32m    307\u001b[0m                          show_progress\u001b[38;5;241m=\u001b[39m\u001b[38;5;28;01mTrue\u001b[39;00m,\n\u001b[1;32m    308\u001b[0m                          use_multithreading\u001b[38;5;241m=\u001b[39m\u001b[38;5;28;01mTrue\u001b[39;00m)\n\u001b[0;32m--> 309\u001b[0m docs_data \u001b[38;5;241m=\u001b[39m loader\u001b[38;5;241m.\u001b[39mload()\n\u001b[1;32m    311\u001b[0m \u001b[38;5;28mprint\u001b[39m(\u001b[38;5;124m'\u001b[39m\u001b[38;5;130;01m\\n\u001b[39;00m\u001b[38;5;124mDocuments loaded...\u001b[39m\u001b[38;5;124m'\u001b[39m) \u001b[38;5;28;01mif\u001b[39;00m v \u001b[38;5;28;01melse\u001b[39;00m \u001b[38;5;28;01mNone\u001b[39;00m\n\u001b[1;32m    313\u001b[0m chunk_size \u001b[38;5;241m=\u001b[39m [\u001b[38;5;241m700\u001b[39m] \u001b[38;5;66;03m#Chunk size \u001b[39;00m\n",
      "File \u001b[0;32m~/.local/lib/python3.11/site-packages/langchain_community/document_loaders/directory.py:117\u001b[0m, in \u001b[0;36mDirectoryLoader.load\u001b[0;34m(self)\u001b[0m\n\u001b[1;32m    115\u001b[0m \u001b[38;5;28;01mdef\u001b[39;00m \u001b[38;5;21mload\u001b[39m(\u001b[38;5;28mself\u001b[39m) \u001b[38;5;241m-\u001b[39m\u001b[38;5;241m>\u001b[39m List[Document]:\n\u001b[1;32m    116\u001b[0m \u001b[38;5;250m    \u001b[39m\u001b[38;5;124;03m\"\"\"Load documents.\"\"\"\u001b[39;00m\n\u001b[0;32m--> 117\u001b[0m     \u001b[38;5;28;01mreturn\u001b[39;00m \u001b[38;5;28mlist\u001b[39m(\u001b[38;5;28mself\u001b[39m\u001b[38;5;241m.\u001b[39mlazy_load())\n",
      "File \u001b[0;32m~/.local/lib/python3.11/site-packages/langchain_community/document_loaders/directory.py:178\u001b[0m, in \u001b[0;36mDirectoryLoader.lazy_load\u001b[0;34m(self)\u001b[0m\n\u001b[1;32m    169\u001b[0m             futures\u001b[38;5;241m.\u001b[39mappend(\n\u001b[1;32m    170\u001b[0m                 executor\u001b[38;5;241m.\u001b[39msubmit(\n\u001b[1;32m    171\u001b[0m                     \u001b[38;5;28mself\u001b[39m\u001b[38;5;241m.\u001b[39m_lazy_load_file_to_non_generator(\u001b[38;5;28mself\u001b[39m\u001b[38;5;241m.\u001b[39m_lazy_load_file),\n\u001b[0;32m   (...)\u001b[0m\n\u001b[1;32m    175\u001b[0m                 )\n\u001b[1;32m    176\u001b[0m             )\n\u001b[1;32m    177\u001b[0m         \u001b[38;5;28;01mfor\u001b[39;00m future \u001b[38;5;129;01min\u001b[39;00m concurrent\u001b[38;5;241m.\u001b[39mfutures\u001b[38;5;241m.\u001b[39mas_completed(futures):\n\u001b[0;32m--> 178\u001b[0m             \u001b[38;5;28;01mfor\u001b[39;00m item \u001b[38;5;129;01min\u001b[39;00m future\u001b[38;5;241m.\u001b[39mresult():\n\u001b[1;32m    179\u001b[0m                 \u001b[38;5;28;01myield\u001b[39;00m item\n\u001b[1;32m    180\u001b[0m \u001b[38;5;28;01melse\u001b[39;00m:\n",
      "File \u001b[0;32m/sw/pkgs/arc/python3.11-anaconda/2024.02-1/lib/python3.11/concurrent/futures/_base.py:449\u001b[0m, in \u001b[0;36mFuture.result\u001b[0;34m(self, timeout)\u001b[0m\n\u001b[1;32m    447\u001b[0m     \u001b[38;5;28;01mraise\u001b[39;00m CancelledError()\n\u001b[1;32m    448\u001b[0m \u001b[38;5;28;01melif\u001b[39;00m \u001b[38;5;28mself\u001b[39m\u001b[38;5;241m.\u001b[39m_state \u001b[38;5;241m==\u001b[39m FINISHED:\n\u001b[0;32m--> 449\u001b[0m     \u001b[38;5;28;01mreturn\u001b[39;00m \u001b[38;5;28mself\u001b[39m\u001b[38;5;241m.\u001b[39m__get_result()\n\u001b[1;32m    451\u001b[0m \u001b[38;5;28mself\u001b[39m\u001b[38;5;241m.\u001b[39m_condition\u001b[38;5;241m.\u001b[39mwait(timeout)\n\u001b[1;32m    453\u001b[0m \u001b[38;5;28;01mif\u001b[39;00m \u001b[38;5;28mself\u001b[39m\u001b[38;5;241m.\u001b[39m_state \u001b[38;5;129;01min\u001b[39;00m [CANCELLED, CANCELLED_AND_NOTIFIED]:\n",
      "File \u001b[0;32m/sw/pkgs/arc/python3.11-anaconda/2024.02-1/lib/python3.11/concurrent/futures/_base.py:401\u001b[0m, in \u001b[0;36mFuture.__get_result\u001b[0;34m(self)\u001b[0m\n\u001b[1;32m    399\u001b[0m \u001b[38;5;28;01mif\u001b[39;00m \u001b[38;5;28mself\u001b[39m\u001b[38;5;241m.\u001b[39m_exception:\n\u001b[1;32m    400\u001b[0m     \u001b[38;5;28;01mtry\u001b[39;00m:\n\u001b[0;32m--> 401\u001b[0m         \u001b[38;5;28;01mraise\u001b[39;00m \u001b[38;5;28mself\u001b[39m\u001b[38;5;241m.\u001b[39m_exception\n\u001b[1;32m    402\u001b[0m     \u001b[38;5;28;01mfinally\u001b[39;00m:\n\u001b[1;32m    403\u001b[0m         \u001b[38;5;66;03m# Break a reference cycle with the exception in self._exception\u001b[39;00m\n\u001b[1;32m    404\u001b[0m         \u001b[38;5;28mself\u001b[39m \u001b[38;5;241m=\u001b[39m \u001b[38;5;28;01mNone\u001b[39;00m\n",
      "File \u001b[0;32m/sw/pkgs/arc/python3.11-anaconda/2024.02-1/lib/python3.11/concurrent/futures/thread.py:58\u001b[0m, in \u001b[0;36m_WorkItem.run\u001b[0;34m(self)\u001b[0m\n\u001b[1;32m     55\u001b[0m     \u001b[38;5;28;01mreturn\u001b[39;00m\n\u001b[1;32m     57\u001b[0m \u001b[38;5;28;01mtry\u001b[39;00m:\n\u001b[0;32m---> 58\u001b[0m     result \u001b[38;5;241m=\u001b[39m \u001b[38;5;28mself\u001b[39m\u001b[38;5;241m.\u001b[39mfn(\u001b[38;5;241m*\u001b[39m\u001b[38;5;28mself\u001b[39m\u001b[38;5;241m.\u001b[39margs, \u001b[38;5;241m*\u001b[39m\u001b[38;5;241m*\u001b[39m\u001b[38;5;28mself\u001b[39m\u001b[38;5;241m.\u001b[39mkwargs)\n\u001b[1;32m     59\u001b[0m \u001b[38;5;28;01mexcept\u001b[39;00m \u001b[38;5;167;01mBaseException\u001b[39;00m \u001b[38;5;28;01mas\u001b[39;00m exc:\n\u001b[1;32m     60\u001b[0m     \u001b[38;5;28mself\u001b[39m\u001b[38;5;241m.\u001b[39mfuture\u001b[38;5;241m.\u001b[39mset_exception(exc)\n",
      "File \u001b[0;32m~/.local/lib/python3.11/site-packages/langchain_community/document_loaders/directory.py:189\u001b[0m, in \u001b[0;36mDirectoryLoader._lazy_load_file_to_non_generator.<locals>.non_generator\u001b[0;34m(item, path, pbar)\u001b[0m\n\u001b[1;32m    188\u001b[0m \u001b[38;5;28;01mdef\u001b[39;00m \u001b[38;5;21mnon_generator\u001b[39m(item: Path, path: Path, pbar: Optional[Any]) \u001b[38;5;241m-\u001b[39m\u001b[38;5;241m>\u001b[39m List:\n\u001b[0;32m--> 189\u001b[0m     \u001b[38;5;28;01mreturn\u001b[39;00m [x \u001b[38;5;28;01mfor\u001b[39;00m x \u001b[38;5;129;01min\u001b[39;00m func(item, path, pbar)]\n",
      "File \u001b[0;32m~/.local/lib/python3.11/site-packages/langchain_community/document_loaders/directory.py:189\u001b[0m, in \u001b[0;36m<listcomp>\u001b[0;34m(.0)\u001b[0m\n\u001b[1;32m    188\u001b[0m \u001b[38;5;28;01mdef\u001b[39;00m \u001b[38;5;21mnon_generator\u001b[39m(item: Path, path: Path, pbar: Optional[Any]) \u001b[38;5;241m-\u001b[39m\u001b[38;5;241m>\u001b[39m List:\n\u001b[0;32m--> 189\u001b[0m     \u001b[38;5;28;01mreturn\u001b[39;00m [x \u001b[38;5;28;01mfor\u001b[39;00m x \u001b[38;5;129;01min\u001b[39;00m func(item, path, pbar)]\n",
      "File \u001b[0;32m~/.local/lib/python3.11/site-packages/langchain_community/document_loaders/directory.py:220\u001b[0m, in \u001b[0;36mDirectoryLoader._lazy_load_file\u001b[0;34m(self, item, path, pbar)\u001b[0m\n\u001b[1;32m    218\u001b[0m     \u001b[38;5;28;01melse\u001b[39;00m:\n\u001b[1;32m    219\u001b[0m         logger\u001b[38;5;241m.\u001b[39merror(\u001b[38;5;124mf\u001b[39m\u001b[38;5;124m\"\u001b[39m\u001b[38;5;124mError loading file \u001b[39m\u001b[38;5;132;01m{\u001b[39;00m\u001b[38;5;28mstr\u001b[39m(item)\u001b[38;5;132;01m}\u001b[39;00m\u001b[38;5;124m\"\u001b[39m)\n\u001b[0;32m--> 220\u001b[0m         \u001b[38;5;28;01mraise\u001b[39;00m e\n\u001b[1;32m    221\u001b[0m \u001b[38;5;28;01mfinally\u001b[39;00m:\n\u001b[1;32m    222\u001b[0m     \u001b[38;5;28;01mif\u001b[39;00m pbar:\n",
      "File \u001b[0;32m~/.local/lib/python3.11/site-packages/langchain_community/document_loaders/directory.py:210\u001b[0m, in \u001b[0;36mDirectoryLoader._lazy_load_file\u001b[0;34m(self, item, path, pbar)\u001b[0m\n\u001b[1;32m    208\u001b[0m loader \u001b[38;5;241m=\u001b[39m \u001b[38;5;28mself\u001b[39m\u001b[38;5;241m.\u001b[39mloader_cls(\u001b[38;5;28mstr\u001b[39m(item), \u001b[38;5;241m*\u001b[39m\u001b[38;5;241m*\u001b[39m\u001b[38;5;28mself\u001b[39m\u001b[38;5;241m.\u001b[39mloader_kwargs)\n\u001b[1;32m    209\u001b[0m \u001b[38;5;28;01mtry\u001b[39;00m:\n\u001b[0;32m--> 210\u001b[0m     \u001b[38;5;28;01mfor\u001b[39;00m subdoc \u001b[38;5;129;01min\u001b[39;00m loader\u001b[38;5;241m.\u001b[39mlazy_load():\n\u001b[1;32m    211\u001b[0m         \u001b[38;5;28;01myield\u001b[39;00m subdoc\n\u001b[1;32m    212\u001b[0m \u001b[38;5;28;01mexcept\u001b[39;00m \u001b[38;5;167;01mNotImplementedError\u001b[39;00m:\n",
      "File \u001b[0;32m~/.local/lib/python3.11/site-packages/langchain_community/document_loaders/unstructured.py:88\u001b[0m, in \u001b[0;36mUnstructuredBaseLoader.lazy_load\u001b[0;34m(self)\u001b[0m\n\u001b[1;32m     86\u001b[0m \u001b[38;5;28;01mdef\u001b[39;00m \u001b[38;5;21mlazy_load\u001b[39m(\u001b[38;5;28mself\u001b[39m) \u001b[38;5;241m-\u001b[39m\u001b[38;5;241m>\u001b[39m Iterator[Document]:\n\u001b[1;32m     87\u001b[0m \u001b[38;5;250m    \u001b[39m\u001b[38;5;124;03m\"\"\"Load file.\"\"\"\u001b[39;00m\n\u001b[0;32m---> 88\u001b[0m     elements \u001b[38;5;241m=\u001b[39m \u001b[38;5;28mself\u001b[39m\u001b[38;5;241m.\u001b[39m_get_elements()\n\u001b[1;32m     89\u001b[0m     \u001b[38;5;28mself\u001b[39m\u001b[38;5;241m.\u001b[39m_post_process_elements(elements)\n\u001b[1;32m     90\u001b[0m     \u001b[38;5;28;01mif\u001b[39;00m \u001b[38;5;28mself\u001b[39m\u001b[38;5;241m.\u001b[39mmode \u001b[38;5;241m==\u001b[39m \u001b[38;5;124m\"\u001b[39m\u001b[38;5;124melements\u001b[39m\u001b[38;5;124m\"\u001b[39m:\n",
      "File \u001b[0;32m~/.local/lib/python3.11/site-packages/langchain_community/document_loaders/pdf.py:73\u001b[0m, in \u001b[0;36mUnstructuredPDFLoader._get_elements\u001b[0;34m(self)\u001b[0m\n\u001b[1;32m     70\u001b[0m \u001b[38;5;28;01mdef\u001b[39;00m \u001b[38;5;21m_get_elements\u001b[39m(\u001b[38;5;28mself\u001b[39m) \u001b[38;5;241m-\u001b[39m\u001b[38;5;241m>\u001b[39m List:\n\u001b[1;32m     71\u001b[0m     \u001b[38;5;28;01mfrom\u001b[39;00m \u001b[38;5;21;01munstructured\u001b[39;00m\u001b[38;5;21;01m.\u001b[39;00m\u001b[38;5;21;01mpartition\u001b[39;00m\u001b[38;5;21;01m.\u001b[39;00m\u001b[38;5;21;01mpdf\u001b[39;00m \u001b[38;5;28;01mimport\u001b[39;00m partition_pdf\n\u001b[0;32m---> 73\u001b[0m     \u001b[38;5;28;01mreturn\u001b[39;00m partition_pdf(filename\u001b[38;5;241m=\u001b[39m\u001b[38;5;28mself\u001b[39m\u001b[38;5;241m.\u001b[39mfile_path, \u001b[38;5;241m*\u001b[39m\u001b[38;5;241m*\u001b[39m\u001b[38;5;28mself\u001b[39m\u001b[38;5;241m.\u001b[39munstructured_kwargs)\n",
      "File \u001b[0;32m~/.local/lib/python3.11/site-packages/unstructured/documents/elements.py:591\u001b[0m, in \u001b[0;36mprocess_metadata.<locals>.decorator.<locals>.wrapper\u001b[0;34m(*args, **kwargs)\u001b[0m\n\u001b[1;32m    589\u001b[0m \u001b[38;5;129m@functools\u001b[39m\u001b[38;5;241m.\u001b[39mwraps(func)\n\u001b[1;32m    590\u001b[0m \u001b[38;5;28;01mdef\u001b[39;00m \u001b[38;5;21mwrapper\u001b[39m(\u001b[38;5;241m*\u001b[39margs: _P\u001b[38;5;241m.\u001b[39margs, \u001b[38;5;241m*\u001b[39m\u001b[38;5;241m*\u001b[39mkwargs: _P\u001b[38;5;241m.\u001b[39mkwargs) \u001b[38;5;241m-\u001b[39m\u001b[38;5;241m>\u001b[39m \u001b[38;5;28mlist\u001b[39m[Element]:\n\u001b[0;32m--> 591\u001b[0m     elements \u001b[38;5;241m=\u001b[39m func(\u001b[38;5;241m*\u001b[39margs, \u001b[38;5;241m*\u001b[39m\u001b[38;5;241m*\u001b[39mkwargs)\n\u001b[1;32m    592\u001b[0m     call_args \u001b[38;5;241m=\u001b[39m get_call_args_applying_defaults(func, \u001b[38;5;241m*\u001b[39margs, \u001b[38;5;241m*\u001b[39m\u001b[38;5;241m*\u001b[39mkwargs)\n\u001b[1;32m    594\u001b[0m     regex_metadata: \u001b[38;5;28mdict\u001b[39m[\u001b[38;5;124m\"\u001b[39m\u001b[38;5;124mstr\u001b[39m\u001b[38;5;124m\"\u001b[39m, \u001b[38;5;124m\"\u001b[39m\u001b[38;5;124mstr\u001b[39m\u001b[38;5;124m\"\u001b[39m] \u001b[38;5;241m=\u001b[39m call_args\u001b[38;5;241m.\u001b[39mget(\u001b[38;5;124m\"\u001b[39m\u001b[38;5;124mregex_metadata\u001b[39m\u001b[38;5;124m\"\u001b[39m, {})\n",
      "File \u001b[0;32m~/.local/lib/python3.11/site-packages/unstructured/file_utils/filetype.py:618\u001b[0m, in \u001b[0;36madd_filetype.<locals>.decorator.<locals>.wrapper\u001b[0;34m(*args, **kwargs)\u001b[0m\n\u001b[1;32m    616\u001b[0m \u001b[38;5;129m@functools\u001b[39m\u001b[38;5;241m.\u001b[39mwraps(func)\n\u001b[1;32m    617\u001b[0m \u001b[38;5;28;01mdef\u001b[39;00m \u001b[38;5;21mwrapper\u001b[39m(\u001b[38;5;241m*\u001b[39margs: _P\u001b[38;5;241m.\u001b[39margs, \u001b[38;5;241m*\u001b[39m\u001b[38;5;241m*\u001b[39mkwargs: _P\u001b[38;5;241m.\u001b[39mkwargs) \u001b[38;5;241m-\u001b[39m\u001b[38;5;241m>\u001b[39m List[Element]:\n\u001b[0;32m--> 618\u001b[0m     elements \u001b[38;5;241m=\u001b[39m func(\u001b[38;5;241m*\u001b[39margs, \u001b[38;5;241m*\u001b[39m\u001b[38;5;241m*\u001b[39mkwargs)\n\u001b[1;32m    619\u001b[0m     params \u001b[38;5;241m=\u001b[39m get_call_args_applying_defaults(func, \u001b[38;5;241m*\u001b[39margs, \u001b[38;5;241m*\u001b[39m\u001b[38;5;241m*\u001b[39mkwargs)\n\u001b[1;32m    620\u001b[0m     include_metadata \u001b[38;5;241m=\u001b[39m params\u001b[38;5;241m.\u001b[39mget(\u001b[38;5;124m\"\u001b[39m\u001b[38;5;124minclude_metadata\u001b[39m\u001b[38;5;124m\"\u001b[39m, \u001b[38;5;28;01mTrue\u001b[39;00m)\n",
      "File \u001b[0;32m~/.local/lib/python3.11/site-packages/unstructured/file_utils/filetype.py:582\u001b[0m, in \u001b[0;36madd_metadata.<locals>.wrapper\u001b[0;34m(*args, **kwargs)\u001b[0m\n\u001b[1;32m    580\u001b[0m \u001b[38;5;129m@functools\u001b[39m\u001b[38;5;241m.\u001b[39mwraps(func)\n\u001b[1;32m    581\u001b[0m \u001b[38;5;28;01mdef\u001b[39;00m \u001b[38;5;21mwrapper\u001b[39m(\u001b[38;5;241m*\u001b[39margs: _P\u001b[38;5;241m.\u001b[39margs, \u001b[38;5;241m*\u001b[39m\u001b[38;5;241m*\u001b[39mkwargs: _P\u001b[38;5;241m.\u001b[39mkwargs) \u001b[38;5;241m-\u001b[39m\u001b[38;5;241m>\u001b[39m List[Element]:\n\u001b[0;32m--> 582\u001b[0m     elements \u001b[38;5;241m=\u001b[39m func(\u001b[38;5;241m*\u001b[39margs, \u001b[38;5;241m*\u001b[39m\u001b[38;5;241m*\u001b[39mkwargs)\n\u001b[1;32m    583\u001b[0m     call_args \u001b[38;5;241m=\u001b[39m get_call_args_applying_defaults(func, \u001b[38;5;241m*\u001b[39margs, \u001b[38;5;241m*\u001b[39m\u001b[38;5;241m*\u001b[39mkwargs)\n\u001b[1;32m    584\u001b[0m     include_metadata \u001b[38;5;241m=\u001b[39m call_args\u001b[38;5;241m.\u001b[39mget(\u001b[38;5;124m\"\u001b[39m\u001b[38;5;124minclude_metadata\u001b[39m\u001b[38;5;124m\"\u001b[39m, \u001b[38;5;28;01mTrue\u001b[39;00m)\n",
      "File \u001b[0;32m~/.local/lib/python3.11/site-packages/unstructured/chunking/dispatch.py:74\u001b[0m, in \u001b[0;36madd_chunking_strategy.<locals>.wrapper\u001b[0;34m(*args, **kwargs)\u001b[0m\n\u001b[1;32m     71\u001b[0m \u001b[38;5;250m\u001b[39m\u001b[38;5;124;03m\"\"\"The decorated function is replaced with this one.\"\"\"\u001b[39;00m\n\u001b[1;32m     73\u001b[0m \u001b[38;5;66;03m# -- call the partitioning function to get the elements --\u001b[39;00m\n\u001b[0;32m---> 74\u001b[0m elements \u001b[38;5;241m=\u001b[39m func(\u001b[38;5;241m*\u001b[39margs, \u001b[38;5;241m*\u001b[39m\u001b[38;5;241m*\u001b[39mkwargs)\n\u001b[1;32m     76\u001b[0m \u001b[38;5;66;03m# -- look for a chunking-strategy argument --\u001b[39;00m\n\u001b[1;32m     77\u001b[0m call_args \u001b[38;5;241m=\u001b[39m get_call_args_applying_defaults(func, \u001b[38;5;241m*\u001b[39margs, \u001b[38;5;241m*\u001b[39m\u001b[38;5;241m*\u001b[39mkwargs)\n",
      "File \u001b[0;32m~/.local/lib/python3.11/site-packages/unstructured/partition/pdf.py:192\u001b[0m, in \u001b[0;36mpartition_pdf\u001b[0;34m(filename, file, include_page_breaks, strategy, infer_table_structure, ocr_languages, languages, include_metadata, metadata_filename, metadata_last_modified, chunking_strategy, hi_res_model_name, extract_images_in_pdf, extract_image_block_types, extract_image_block_output_dir, extract_image_block_to_payload, date_from_file_object, starting_page_number, extract_forms, form_extraction_skip_tables, **kwargs)\u001b[0m\n\u001b[1;32m    188\u001b[0m exactly_one(filename\u001b[38;5;241m=\u001b[39mfilename, file\u001b[38;5;241m=\u001b[39mfile)\n\u001b[1;32m    190\u001b[0m languages \u001b[38;5;241m=\u001b[39m check_language_args(languages \u001b[38;5;129;01mor\u001b[39;00m [], ocr_languages) \u001b[38;5;129;01mor\u001b[39;00m [\u001b[38;5;124m\"\u001b[39m\u001b[38;5;124meng\u001b[39m\u001b[38;5;124m\"\u001b[39m]\n\u001b[0;32m--> 192\u001b[0m \u001b[38;5;28;01mreturn\u001b[39;00m partition_pdf_or_image(\n\u001b[1;32m    193\u001b[0m     filename\u001b[38;5;241m=\u001b[39mfilename,\n\u001b[1;32m    194\u001b[0m     file\u001b[38;5;241m=\u001b[39mfile,\n\u001b[1;32m    195\u001b[0m     include_page_breaks\u001b[38;5;241m=\u001b[39minclude_page_breaks,\n\u001b[1;32m    196\u001b[0m     strategy\u001b[38;5;241m=\u001b[39mstrategy,\n\u001b[1;32m    197\u001b[0m     infer_table_structure\u001b[38;5;241m=\u001b[39minfer_table_structure,\n\u001b[1;32m    198\u001b[0m     languages\u001b[38;5;241m=\u001b[39mlanguages,\n\u001b[1;32m    199\u001b[0m     metadata_last_modified\u001b[38;5;241m=\u001b[39mmetadata_last_modified,\n\u001b[1;32m    200\u001b[0m     hi_res_model_name\u001b[38;5;241m=\u001b[39mhi_res_model_name,\n\u001b[1;32m    201\u001b[0m     extract_images_in_pdf\u001b[38;5;241m=\u001b[39mextract_images_in_pdf,\n\u001b[1;32m    202\u001b[0m     extract_image_block_types\u001b[38;5;241m=\u001b[39mextract_image_block_types,\n\u001b[1;32m    203\u001b[0m     extract_image_block_output_dir\u001b[38;5;241m=\u001b[39mextract_image_block_output_dir,\n\u001b[1;32m    204\u001b[0m     extract_image_block_to_payload\u001b[38;5;241m=\u001b[39mextract_image_block_to_payload,\n\u001b[1;32m    205\u001b[0m     date_from_file_object\u001b[38;5;241m=\u001b[39mdate_from_file_object,\n\u001b[1;32m    206\u001b[0m     starting_page_number\u001b[38;5;241m=\u001b[39mstarting_page_number,\n\u001b[1;32m    207\u001b[0m     extract_forms\u001b[38;5;241m=\u001b[39mextract_forms,\n\u001b[1;32m    208\u001b[0m     form_extraction_skip_tables\u001b[38;5;241m=\u001b[39mform_extraction_skip_tables,\n\u001b[1;32m    209\u001b[0m     \u001b[38;5;241m*\u001b[39m\u001b[38;5;241m*\u001b[39mkwargs,\n\u001b[1;32m    210\u001b[0m )\n",
      "File \u001b[0;32m~/.local/lib/python3.11/site-packages/unstructured/partition/pdf.py:321\u001b[0m, in \u001b[0;36mpartition_pdf_or_image\u001b[0;34m(filename, file, is_image, include_page_breaks, strategy, infer_table_structure, ocr_languages, languages, metadata_last_modified, hi_res_model_name, extract_images_in_pdf, extract_image_block_types, extract_image_block_output_dir, extract_image_block_to_payload, date_from_file_object, starting_page_number, extract_forms, form_extraction_skip_tables, **kwargs)\u001b[0m\n\u001b[1;32m    318\u001b[0m \u001b[38;5;28;01melif\u001b[39;00m strategy \u001b[38;5;241m==\u001b[39m PartitionStrategy\u001b[38;5;241m.\u001b[39mOCR_ONLY:\n\u001b[1;32m    319\u001b[0m     \u001b[38;5;66;03m# NOTE(robinson): Catches file conversion warnings when running with PDFs\u001b[39;00m\n\u001b[1;32m    320\u001b[0m     \u001b[38;5;28;01mwith\u001b[39;00m warnings\u001b[38;5;241m.\u001b[39mcatch_warnings():\n\u001b[0;32m--> 321\u001b[0m         elements \u001b[38;5;241m=\u001b[39m _partition_pdf_or_image_with_ocr(\n\u001b[1;32m    322\u001b[0m             filename\u001b[38;5;241m=\u001b[39mfilename,\n\u001b[1;32m    323\u001b[0m             file\u001b[38;5;241m=\u001b[39mfile,\n\u001b[1;32m    324\u001b[0m             include_page_breaks\u001b[38;5;241m=\u001b[39minclude_page_breaks,\n\u001b[1;32m    325\u001b[0m             languages\u001b[38;5;241m=\u001b[39mlanguages,\n\u001b[1;32m    326\u001b[0m             is_image\u001b[38;5;241m=\u001b[39mis_image,\n\u001b[1;32m    327\u001b[0m             metadata_last_modified\u001b[38;5;241m=\u001b[39mmetadata_last_modified \u001b[38;5;129;01mor\u001b[39;00m last_modification_date,\n\u001b[1;32m    328\u001b[0m             starting_page_number\u001b[38;5;241m=\u001b[39mstarting_page_number,\n\u001b[1;32m    329\u001b[0m             \u001b[38;5;241m*\u001b[39m\u001b[38;5;241m*\u001b[39mkwargs,\n\u001b[1;32m    330\u001b[0m         )\n\u001b[1;32m    331\u001b[0m         out_elements \u001b[38;5;241m=\u001b[39m _process_uncategorized_text_elements(elements)\n\u001b[1;32m    333\u001b[0m \u001b[38;5;28;01mreturn\u001b[39;00m out_elements\n",
      "File \u001b[0;32m~/.local/lib/python3.11/site-packages/unstructured/partition/pdf.py:773\u001b[0m, in \u001b[0;36m_partition_pdf_or_image_with_ocr\u001b[0;34m(filename, file, include_page_breaks, languages, is_image, metadata_last_modified, starting_page_number, **kwargs)\u001b[0m\n\u001b[1;32m    771\u001b[0m         elements\u001b[38;5;241m.\u001b[39mextend(page_elements)\n\u001b[1;32m    772\u001b[0m \u001b[38;5;28;01melse\u001b[39;00m:\n\u001b[0;32m--> 773\u001b[0m     \u001b[38;5;28;01mfor\u001b[39;00m page_number, image \u001b[38;5;129;01min\u001b[39;00m \u001b[38;5;28menumerate\u001b[39m(\n\u001b[1;32m    774\u001b[0m         convert_pdf_to_images(filename, file), start\u001b[38;5;241m=\u001b[39mstarting_page_number\n\u001b[1;32m    775\u001b[0m     ):\n\u001b[1;32m    776\u001b[0m         page_elements \u001b[38;5;241m=\u001b[39m _partition_pdf_or_image_with_ocr_from_image(\n\u001b[1;32m    777\u001b[0m             image\u001b[38;5;241m=\u001b[39mimage,\n\u001b[1;32m    778\u001b[0m             languages\u001b[38;5;241m=\u001b[39mlanguages,\n\u001b[0;32m   (...)\u001b[0m\n\u001b[1;32m    782\u001b[0m             \u001b[38;5;241m*\u001b[39m\u001b[38;5;241m*\u001b[39mkwargs,\n\u001b[1;32m    783\u001b[0m         )\n\u001b[1;32m    784\u001b[0m         elements\u001b[38;5;241m.\u001b[39mextend(page_elements)\n",
      "File \u001b[0;32m~/.local/lib/python3.11/site-packages/unstructured/partition/pdf_image/pdf_image_utils.py:389\u001b[0m, in \u001b[0;36mconvert_pdf_to_images\u001b[0;34m(filename, file, chunk_size)\u001b[0m\n\u001b[1;32m    387\u001b[0m \u001b[38;5;28;01melse\u001b[39;00m:\n\u001b[1;32m    388\u001b[0m     f_bytes \u001b[38;5;241m=\u001b[39m \u001b[38;5;28;01mNone\u001b[39;00m\n\u001b[0;32m--> 389\u001b[0m     info \u001b[38;5;241m=\u001b[39m pdf2image\u001b[38;5;241m.\u001b[39mpdfinfo_from_path(filename)\n\u001b[1;32m    391\u001b[0m total_pages \u001b[38;5;241m=\u001b[39m info[\u001b[38;5;124m\"\u001b[39m\u001b[38;5;124mPages\u001b[39m\u001b[38;5;124m\"\u001b[39m]\n\u001b[1;32m    392\u001b[0m \u001b[38;5;28;01mfor\u001b[39;00m start_page \u001b[38;5;129;01min\u001b[39;00m \u001b[38;5;28mrange\u001b[39m(\u001b[38;5;241m1\u001b[39m, total_pages \u001b[38;5;241m+\u001b[39m \u001b[38;5;241m1\u001b[39m, chunk_size):\n",
      "File \u001b[0;32m~/.local/lib/python3.11/site-packages/pdf2image/pdf2image.py:607\u001b[0m, in \u001b[0;36mpdfinfo_from_path\u001b[0;34m(pdf_path, userpw, ownerpw, poppler_path, rawdates, timeout, first_page, last_page)\u001b[0m\n\u001b[1;32m    604\u001b[0m     \u001b[38;5;28;01mreturn\u001b[39;00m d\n\u001b[1;32m    606\u001b[0m \u001b[38;5;28;01mexcept\u001b[39;00m \u001b[38;5;167;01mOSError\u001b[39;00m:\n\u001b[0;32m--> 607\u001b[0m     \u001b[38;5;28;01mraise\u001b[39;00m PDFInfoNotInstalledError(\n\u001b[1;32m    608\u001b[0m         \u001b[38;5;124m\"\u001b[39m\u001b[38;5;124mUnable to get page count. Is poppler installed and in PATH?\u001b[39m\u001b[38;5;124m\"\u001b[39m\n\u001b[1;32m    609\u001b[0m     )\n\u001b[1;32m    610\u001b[0m \u001b[38;5;28;01mexcept\u001b[39;00m \u001b[38;5;167;01mValueError\u001b[39;00m:\n\u001b[1;32m    611\u001b[0m     \u001b[38;5;28;01mraise\u001b[39;00m PDFPageCountError(\n\u001b[1;32m    612\u001b[0m         \u001b[38;5;124mf\u001b[39m\u001b[38;5;124m\"\u001b[39m\u001b[38;5;124mUnable to get page count.\u001b[39m\u001b[38;5;130;01m\\n\u001b[39;00m\u001b[38;5;132;01m{\u001b[39;00merr\u001b[38;5;241m.\u001b[39mdecode(\u001b[38;5;124m'\u001b[39m\u001b[38;5;124mutf8\u001b[39m\u001b[38;5;124m'\u001b[39m,\u001b[38;5;250m \u001b[39m\u001b[38;5;124m'\u001b[39m\u001b[38;5;124mignore\u001b[39m\u001b[38;5;124m'\u001b[39m)\u001b[38;5;132;01m}\u001b[39;00m\u001b[38;5;124m\"\u001b[39m\n\u001b[1;32m    613\u001b[0m     )\n",
      "\u001b[0;31mPDFInfoNotInstalledError\u001b[0m: Unable to get page count. Is poppler installed and in PATH?"
     ]
    }
   ],
   "source": [
    "rag.create_database(docsPath='papers/',\n",
    "                    dbName='tutorialDatabase',\n",
    "                    dbPath='databases/',\n",
    "                    HuggingFaceEmbeddingsModel = 'BAAI/bge-base-en-v1.5',\n",
    "                    chunk_size=[700],\n",
    "                    chunck_overlap=[200],\n",
    "                    v=True)"
   ]
  },
  {
   "cell_type": "markdown",
   "id": "6a53ec77-96e9-4356-8c8a-f16ea21f2606",
   "metadata": {},
   "source": [
    "# Connecting Literature Databases to BRAD"
   ]
  },
  {
   "cell_type": "code",
   "execution_count": 21,
   "id": "24efb3c9-c28e-41c5-9c97-b1099eed9bf5",
   "metadata": {},
   "outputs": [
    {
     "name": "stdin",
     "output_type": "stream",
     "text": [
      "Enter your NVIDIA API key:  ········\n"
     ]
    },
    {
     "name": "stderr",
     "output_type": "stream",
     "text": [
      "/home/jpic/.local/lib/python3.11/site-packages/langchain_nvidia_ai_endpoints/_statics.py:313: UserWarning: Model mistral_7b is deprecated. Using mistralai/mistral-7b-instruct-v0.2 instead.\n",
      "  warnings.warn(\n"
     ]
    }
   ],
   "source": [
    "from BRAD import llms\n",
    "llm = llms.load_nvidia()"
   ]
  },
  {
   "cell_type": "markdown",
   "id": "e54223fe-6cb3-4af3-858e-9547be80ee9b",
   "metadata": {},
   "source": [
    "## Specifiying the Database"
   ]
  },
  {
   "cell_type": "markdown",
   "id": "984c8386-b70d-4a19-919e-f06ae079742a",
   "metadata": {},
   "source": [
    "When running `brad.chat()`, there is an option to use a previously saved database. **ADD how to s Type Y to supplement your query with the database."
   ]
  },
  {
   "cell_type": "code",
   "execution_count": 22,
   "id": "d4d1f2e0-b7c5-4ca8-812f-d664f2df10bd",
   "metadata": {},
   "outputs": [],
   "source": [
    "import subprocess\n",
    "import os\n",
    "from langchain.document_loaders import DirectoryLoader\n",
    "from langchain.document_loaders import UnstructuredPDFLoader\n",
    "from langchain.vectorstores import Chroma\n",
    "from langchain.embeddings import HuggingFaceEmbeddings\n",
    "import chromadb\n",
    "from langchain_community.document_loaders import PyPDFLoader\n",
    "from langchain_text_splitters import RecursiveCharacterTextSplitter\n",
    "from langchain import PromptTemplate, LLMChain\n",
    "from langchain.memory import ConversationBufferMemory\n",
    "from langchain.chains import ConversationChain"
   ]
  },
  {
   "cell_type": "code",
   "execution_count": 23,
   "id": "26bcd5a8-370d-4365-9dc8-f4802a73dc30",
   "metadata": {},
   "outputs": [
    {
     "name": "stderr",
     "output_type": "stream",
     "text": [
      "/home/jpic/.local/lib/python3.11/site-packages/huggingface_hub/file_download.py:1132: FutureWarning: `resume_download` is deprecated and will be removed in version 1.0.0. Downloads always resume when possible. If you want to force a new download, use `force_download=True`.\n",
      "  warnings.warn(\n"
     ]
    }
   ],
   "source": [
    "# Load the database\n",
    "persist_directory = '/nfs/turbo/umms-indikar/shared/projects/RAG/databases/DigitalLibrary-10-June-2024/'\n",
    "embeddings_model = HuggingFaceEmbeddings(model_name='BAAI/bge-base-en-v1.5')\n",
    "db_name = \"DigitalLibrary\"\n",
    "_client_settings = chromadb.PersistentClient(path=(persist_directory + db_name))\n",
    "vectordb = Chroma(persist_directory=persist_directory, embedding_function=embeddings_model, client=_client_settings, collection_name=db_name)"
   ]
  },
  {
   "cell_type": "markdown",
   "id": "93ad94aa-b832-4905-a607-5aae8fefeb5d",
   "metadata": {},
   "source": [
    "## Viewing the Documents from BRAD"
   ]
  },
  {
   "cell_type": "code",
   "execution_count": null,
   "id": "83d942b5-2f8b-4a34-a87d-021255d96ad7",
   "metadata": {},
   "outputs": [],
   "source": [
    "def pretty_print_docs(docs):\n",
    "    print(f\"\\n{'-' * 100}\\n\".join([f\"Document {i+1}:\\n\" + d.page_content for i, d in enumerate(docs)]))"
   ]
  },
  {
   "cell_type": "markdown",
   "id": "b5a97f0d-9499-4bd8-8d6d-107457efaeaa",
   "metadata": {},
   "source": [
    "# MultiQuery RAG"
   ]
  },
  {
   "cell_type": "code",
   "execution_count": 5,
   "id": "2468f1e2-6308-4e45-b509-1ef48480ea67",
   "metadata": {},
   "outputs": [
    {
     "name": "stdout",
     "output_type": "stream",
     "text": [
      "Welcome to RAG! The chat log from this conversation will be saved to /home/jpic/BRAD/2024-06-16-23:53:20.661368.json. How can I help?\n"
     ]
    },
    {
     "name": "stderr",
     "output_type": "stream",
     "text": [
      "Sun 16 Jun 2024 11:53:20 PM EDT INFO local\n"
     ]
    },
    {
     "name": "stdout",
     "output_type": "stream",
     "text": [
      "==================================================\n"
     ]
    },
    {
     "name": "stdin",
     "output_type": "stream",
     "text": [
      "Input >>  /force RAG what cellular processes is the MYOD gene involved in?\n"
     ]
    },
    {
     "name": "stderr",
     "output_type": "stream",
     "text": [
      "Sun 16 Jun 2024 11:53:42 PM EDT INFO RAG\n"
     ]
    },
    {
     "name": "stdout",
     "output_type": "stream",
     "text": [
      "==================================================\n",
      "RAG >> 1: "
     ]
    },
    {
     "name": "stderr",
     "output_type": "stream",
     "text": [
      "/home/jpic/.local/lib/python3.11/site-packages/langchain_core/_api/deprecation.py:119: LangChainDeprecationWarning: The method `BaseRetriever.get_relevant_documents` was deprecated in langchain-core 0.1.46 and will be removed in 0.3.0. Use invoke instead.\n",
      "  warn_deprecated(\n",
      "Sun 16 Jun 2024 11:53:43 PM EDT INFO Generated queries: ['1. Which cellular functions does the MYOD gene influence or regulate?', '2. Can you identify the specific cellular pathways where the MYOD gene plays a role?', '3. What are the major cellular activities associated with the expression of the MYOD gene?']\n",
      "/home/jpic/.local/lib/python3.11/site-packages/langchain_core/_api/deprecation.py:119: LangChainDeprecationWarning: The method `Chain.__call__` was deprecated in langchain 0.1.0 and will be removed in 0.3.0. Use invoke instead.\n",
      "  warn_deprecated(\n"
     ]
    },
    {
     "name": "stdout",
     "output_type": "stream",
     "text": [
      "\n",
      "\n",
      "\u001b[1m> Entering new StuffDocumentsChain chain...\u001b[0m\n",
      "\n",
      "\n",
      "\u001b[1m> Entering new LLMChain chain...\u001b[0m\n",
      "Prompt after formatting:\n",
      "\u001b[32;1m\u001b[1;3mSystem: Use the following pieces of context to answer the user's question. \n",
      "If you don't know the answer, just say that you don't know, don't try to make up an answer.\n",
      "----------------\n",
      "expressed, how does Myod regulate skeletal muscle cell\n",
      "differentiation? In one sense, the answer seems fairly simple:Myod is a transcription factor with binding sites in theregulatory regions of many genes that are expressed in skeletalmuscle. Myod forms heterodimers with the nearly ubiquitousE-protein sub-family of bHLH proteins through the interactionof the HLH domains (see Fig. 1) (Lassar et al., 1991; Murre etal., 1989). The basic regions act as sequence-speciﬁc DNA-binding domains that recognize a binding site with the simplecore consensus sequence of CANNTG, termed an E-box, andshow additional preferences for internal and ﬂankingsequences (Blackwell and Weintraub, 1990). Myod has a singleamino-terminal acidic-activation domain, as determined by its\n",
      "fusion to the heterologous DNA-binding domain of the Gal4\n",
      "protein (Weintraub et al., 1991b), whereas E-proteins have amore complex mix of activation and repression domains(Markus et al., 2002) (see Fig. 1). Therefore, the simple\n",
      "\n",
      "There is a positive correlation between regulated MyoD\n",
      "binding (i.e., sites that are preferentially bound in myoblasts or\n",
      "differentiated myotubes) and gene expression. This suggests\n",
      "that sites regulating gene transcription in myotubes require addi-tional factors to modulate MyoD binding. Indeed, the sites asso-\n",
      "ciated with myotube-expressed genes are enriched for motifs of\n",
      "factors that are activated by MyoD and function with MyoD ina positive feed-forward circuit, as demonstrated previouslywith Mef2 ( Penn et al., 2004 ) and Myog ( Cao et al., 2006 ). In addi-\n",
      "tion, the Pbx/Meis complex cooperates with MyoD in activatinga subset of genes ( Berkes et al., 2004; Maves et al., 2007 ).\n",
      "Another ﬁnding was that genes decreasing expression with\n",
      "differentiation were associated with decreased MyoD binding\n",
      "at sites enriched for RP58 and AP1 motifs. A recent study (pub-lished after our analysis was complete) identiﬁed RP58 as a gene\n",
      "activated by MyoD during muscle differentiation that\n",
      "\n",
      "Cell, Vol. 75, 1241-1244, December 31, 1993, Copyright @ 1993 by Cell Press \n",
      "The MyoD Family and Myogenesis: \n",
      "Redundancy, Networks, \n",
      "and Thresholds \n",
      "Harold Weintraub \n",
      "Fred Hutchinson Cancer Research Center \n",
      "Howard Hughes Medical Institute Laboratory \n",
      "1124 Columbia Street \n",
      "Seattle, Washington 98104 \n",
      "The members of the MyoD family of myogenic transcrip- \n",
      "tional regulators (MyoD, Myf-5, MRF4, myogenin) have \n",
      "the remarkable property that, when expressed from a con- \n",
      "stitutive promoter, they can convert a large number of dif- \n",
      "ferent cell types into muscle (reviewed by Buckingham, \n",
      "1992; Emerson, 1990; Olson, 1990; Weintraub et al., \n",
      "1991). In contrast, mice with homozygous gene-targeted \n",
      "mutations in either MyoD or Myf-5 produce fairly normal \n",
      "amounts of muscle (Rudnicki et al., 1992; Braun et al., \n",
      "1992). This apparent paradox has now been resolved by \n",
      "two recent studies. In one, a simple genetic cross has \n",
      "shown that in the double homozygous mutants, in which \n",
      "both MyoD and Myfd are\n",
      "\n",
      "of mRNA is expressed in cells or embryos to inhibit the \n",
      "expression of specific mRNAs, allows the generation of lack-of-function phenotypes and permits the assessment \n",
      "of the role of specific genes in development in the absence \n",
      "of classical developmental genetics. \n",
      "More recently, in a remarkable series of experiments, \n",
      "Hal identified a single gene, myoD, which can elicit the \n",
      "entire prog'ram of muscle differentiation when introduced \n",
      "into nonmuscle cell types. He demonstrated that muscle \n",
      "cell differentiation could be elicited in fibroblasts following \n",
      "the transfer of genomic DNA from muscle cells. This led \n",
      "Hal to the isolation of the myoD gene, which encodes a \n",
      "transcriptional activator that promotes myogenesis by di- \n",
      "rectly binding to a control region shared by muscle-specific \n",
      "genes. Moreover, MyoD activates its own transcription, \n",
      "creating an autoregulatory loop that stabilizes the commit- \n",
      "ment to myogenesis. Structure-function analysis allowed \n",
      "the definition of a complex\n",
      "\n",
      "2687 Review\n",
      "Genetic experiments have shown that either Myod or Myf5\n",
      "can specify the skeletal muscle lineage in mice: mouse muscle\n",
      "develops relatively normally without either Myod or Myf5 ; but\n",
      "disrupting both genes results in the absence of skeletal musclecells, indicating that these genes are necessary to establish a\n",
      "viable muscle lineage (Rudnicki et al., 1993). Myog appearsto function ‘downstream’ of Myf5 and Myod to activate musclegene expression, and appears to be crucial for thedifferentiation of muscle cells in vivo. The disruption of Myog\n",
      "in mice prevents muscle differentiation in vivo, despite thecontinued expression of Myod , whereas cells cultured from the\n",
      "muscle primordium of Myog null mice form skeletal muscle as\n",
      "efficiently as cells derived from wild-type mice (Hasty et al.,1993; Nabeshima et al., 1993). This indicates that the functionsof Myod in terminal differentiation are suppressed by in vivosignaling events. By contrast, Myog is ‘blind’ to these\n",
      "suppressive signals\n",
      "\n",
      "as described thus far is designed to commit any single \n",
      "cell to an all-or-none decision, once levels of myogenic \n",
      "regulatory gene activity approach the threshold. In terms \n",
      "of the intricacies of their control networks, the MyoD (and \n",
      "achaete-scute) gene families share many parallels to the \n",
      "cyclin-C/n gene family, which is designed to control the \n",
      "START decision for the cell cycle. \n",
      "While it is not clear what potential myoblasts become \n",
      "(or, indeed, whether they even survive) in the MyoD- and \n",
      "My&!&deficient mice, it is notable that additional fat is ob- \n",
      "served in place of muscle. It has been known for some \n",
      "time that 1 OTB cell lines can give rise to both muscle and \n",
      "fat. Also interesting is the fact that while MyoD can cause \n",
      "growth arrest in Gl , the various mutants did not seem to \n",
      "develop tumors. However, the number of mice may not \n",
      "be large enough and their lives long enough to evaluate \n",
      "the consequences fully. Diversion of myogenic cells to \n",
      "an alternative lineage might also\n",
      "\n",
      "Harter,2003). In contrast to the differentiating muscle cell, whereMyod is associated with HATs, in the myoblast (the replicatingmuscle precursor cell), Myod is associated with histonedeacetylases (HDACs) and might actively suppress geneexpression (Fulco et al., 2003; Mal and Harter, 2003; Mal etal., 2001).\n",
      "These ﬁndings strongly suggest that Myod acts to negatively\n",
      "regulate the transcription of some genes in the myoblast andthat muscle differentiation is initiated when Myod switchesfrom its association with repressive factors to activatingfactors. The differentiation of Myod- expressing cell lines, such\n",
      "as the C2C12 myoblast cell line (Silberstein et al., 1986), canbe induced in culture by removing serum or it can be preventedby adding growth factors, such as Fgf or Tgf β(De Angelis et\n",
      "al., 1998; Li et al., 1992), indicating that mitogen stimulationin vivo might sustain a myoblast state. In addition, Notchsignaling represses both Myod transcription and Myod protein\n",
      "activity (Kopan et\n",
      "\n",
      "a combination of promoter-speciﬁc regulation of Myod binding and activity.\n",
      "Because Myod initiates the myogenic differentiation\n",
      "program and that program temporally regulates the activity of\n",
      "Myod, it follows that Myod programs the regulation of its ownactivity. It does this, at least in part, through a feed-forward\n",
      "Development\n",
      "\n",
      "is active (Penn et al., 2004). The feed-forward mechanism regulates the acti vity of Myod\n",
      "at a subset of promoters and imposes a temporal order on Myod-mediated gene expression. This diagram uses the graphical languag e BioD\n",
      "(Cook et al., 2001).\n",
      "Development\n",
      "\n",
      "transcription and Myod protein\n",
      "activity (Kopan et al., 1994; Nofziger et al., 1999), andprobably contributes to regulating differentiation in vivo. It isinteresting that while we have identiﬁed several mechanismsthat might delay myoblast differentiation, such as mitogens andNotch signaling, we do not yet have a good understanding ofthe events that occur in vivo to overcome these inhibitorysignals and to induce differentiation at a speciﬁc time andplace.\n",
      "A feed-forward circuit as a quantal step\n",
      "How does a single transcription factor execute an entireprogram of cell differentiation? How does a single event result\n",
      "in a predictable and complex response? Microarray expressionstudies of cultured C2C12 cells have shown that expressionlevels of many RNAs change during skeletal muscledifferentiation (Delgado et al., 2003; Tomczak et al., 2004). To\n",
      "determine how many of these changes are caused by theexpression and activity of Myod, we assessed gene expressionchanges in ﬁbroblasts with an\n",
      "Human: what cellular processes is the MYOD gene involved in?\u001b[0m\n",
      "\n",
      "\u001b[1m> Finished chain.\u001b[0m\n",
      "\n",
      "\u001b[1m> Finished chain.\u001b[0m\n",
      " The MYOD gene is involved in muscle differentiation. It is a transcription factor that regulates skeletal muscle cell differentiation by binding to specific DNA sequences, known as E-boxes, and forming heterodimers with E-proteins. Myod activation leads to the transcription of genes required for muscle cell differentiation and the suppression of genes that are not needed in differentiated muscle cells. The switch from Myod's association with repressive factors to activating factors initiates the myogenic differentiation program, which regulates the activity of Myod itself through a feed-forward mechanism. This feed-forward mechanism imposes a temporal order on Myod-mediated gene expression and enables Myod to execute an entire program of cell differentiation.\n",
      "Source: The circuitry of a master switch.pdf\n",
      "Source: Genome-wide MyoD Binding.pdf\n",
      "Source: The MyoD Family and Myogenesis Redundancy, Networks, and Thresholds.pdf\n",
      "Source: Harold Weintraub.pdf\n",
      "Source: The circuitry of a master switch.pdf\n",
      "Source: The MyoD Family and Myogenesis Redundancy, Networks, and Thresholds.pdf\n",
      "Source: The circuitry of a master switch.pdf\n",
      "Source: The circuitry of a master switch.pdf\n",
      "Source: The circuitry of a master switch.pdf\n",
      "Source: The circuitry of a master switch.pdf\n",
      "==================================================\n"
     ]
    },
    {
     "name": "stdin",
     "output_type": "stream",
     "text": [
      "Input >>  q\n"
     ]
    },
    {
     "name": "stdout",
     "output_type": "stream",
     "text": [
      "Thanks for chatting today! I hope to talk soon, and don't forget that a record of this conversation is available at: /home/jpic/BRAD/2024-06-16-23:53:20.661368.json\n"
     ]
    }
   ],
   "source": [
    "from BRAD import brad\n",
    "brad.chat(ragvectordb=vectordb)"
   ]
  },
  {
   "cell_type": "raw",
   "id": "a2815a04-1bef-4454-9368-98689924818d",
   "metadata": {},
   "source": [
    "/force RAG what cellular processes is the MYOD gene involved in?"
   ]
  },
  {
   "cell_type": "markdown",
   "id": "33ce017a-2299-4c52-91ae-650b90ed17e8",
   "metadata": {},
   "source": [
    "# Contextual Compression"
   ]
  },
  {
   "cell_type": "code",
   "execution_count": 81,
   "id": "e3f74302-faa3-48da-96f1-05962c23f1fb",
   "metadata": {},
   "outputs": [],
   "source": [
    "chatstatus = {\n",
    "    'config' : {\n",
    "        'debug':True\n",
    "    }\n",
    "}\n",
    "query = 'What cellular processes is MYOD involved in?'\n",
    "documentSearch = vectordb.similarity_search_with_relevance_scores(query=query, k=10)"
   ]
  },
  {
   "cell_type": "code",
   "execution_count": 82,
   "id": "4f27956c-e022-4443-a6b0-7281312a8f81",
   "metadata": {},
   "outputs": [
    {
     "data": {
      "text/plain": [
       "0.7678906917572021"
      ]
     },
     "execution_count": 82,
     "metadata": {},
     "output_type": "execute_result"
    }
   ],
   "source": [
    "documentSearch[0][1]"
   ]
  },
  {
   "cell_type": "code",
   "execution_count": 77,
   "id": "c0b2c00b-442b-4ae2-9084-bcd0c49073d9",
   "metadata": {},
   "outputs": [],
   "source": [
    "def summarizeDocumentTemplate():\n",
    "    template = \"\"\"**INSTRUCTIONS**\n",
    "You are an assistant responsible for compressing the important information in a document.\n",
    "You will be given a users query and a piece of text. Summarize the text with the following aims:\n",
    "1. remove information that is not complete ideas or unrelated to the topic of the user\n",
    "2. improve the clarity of the writing and information\n",
    "If there is no relevant information, say \"None\"\n",
    "\n",
    "**USER QUERY**\n",
    "{user_query}\n",
    "\n",
    "**TEXT**\n",
    "{text}\n",
    "\n",
    "**OUTPUT**\n",
    "<put summary output here>\n",
    "\"\"\"\n",
    "    return template"
   ]
  },
  {
   "cell_type": "code",
   "execution_count": 83,
   "id": "fe4ea774-9df2-401e-940d-79631cb92e1f",
   "metadata": {},
   "outputs": [
    {
     "name": "stdout",
     "output_type": "stream",
     "text": [
      "============\n",
      "a combination of promoter-speciﬁc regulation of Myod binding and activity.\n",
      "Because Myod initiates the myogenic differentiation\n",
      "program and that program temporally regulates the activity of\n",
      "Myod, it follows that Myod programs the regulation of its ownactivity. It does this, at least in part, through a feed-forward\n",
      "Development\n",
      "Summary: MYOD is involved in initiating the myogenic differentiation program, which temporally regulates its own activity through a feed-forward mechanism.\n",
      "============\n",
      "transcription and Myod protein\n",
      "activity (Kopan et al., 1994; Nofziger et al., 1999), andprobably contributes to regulating differentiation in vivo. It isinteresting that while we have identiﬁed several mechanismsthat might delay myoblast differentiation, such as mitogens andNotch signaling, we do not yet have a good understanding ofthe events that occur in vivo to overcome these inhibitorysignals and to induce differentiation at a speciﬁc time andplace.\n",
      "A feed-forward circuit as a quantal step\n",
      "How does a single transcription factor execute an entireprogram of cell differentiation? How does a single event result\n",
      "in a predictable and complex response? Microarray expressionstudies of cultured C2C12 cells have shown that expressionlevels of many RNAs change during skeletal muscledifferentiation (Delgado et al., 2003; Tomczak et al., 2004). To\n",
      "determine how many of these changes are caused by theexpression and activity of Myod, we assessed gene expressionchanges in ﬁbroblasts with an\n",
      "Summary: MYOD is a transcription factor involved in muscle differentiation as indicated by its role in gene transcription and regulation of myoblast differentiation both in vitro and in vivo (Kopan et al., 1994; Nofziger et al., 1999). Despite known inhibitors of differentiation like mitogens and Notch signaling, the precise mechanisms allowing differentiation to occur at specific times and places remain unclear. As for the execution of an entire program of cell differentation by a single transcription factor, research has shown that expression levels of many RNAs change during skeletal muscle differentiation in cultured C2C12 cells. To investigate the role of MYOD in these changes, gene expression was assessed in fibroblasts.\n",
      "============\n",
      "compartments. Thus, myogenin-independent myoblast \n",
      "identity seems to be definable by the generation of approx- \n",
      "imately the right number of cells in the right positions of \n",
      "the body under the direction of MyoD-Myf-5 function. \n",
      "Regulation of Myogenic Genes In Vitro and In Vivo \n",
      "Tissue culture experiments also support the notion that Minireview \n",
      "myogenin acts downstream of MyoD and Myf-5 since most \n",
      "myoblasts in culture express MyoD or Myf-5, but turn on \n",
      "myogenin only when induced to differentiate. Cell culture \n",
      "experiments have also contributed several additional lay- \n",
      "ers to the regulatory circuitry, showing that MyoD can acti- \n",
      "vate its own transcription as well as that of myogenin; \n",
      "myogenin can activate itself and as well as MyoD; and \n",
      "Myfd can activate itself, MyoD, and myogenin. Activation \n",
      "of myogenin seems to be mediated, in part, via a down- \n",
      "stream muscle transcription factor, MEF2 (Edmondson et \n",
      "al., 1992), so that in this case what is downstream and \n",
      "what is upstream may\n",
      "Summary: MyoD is a key transcription factor involved in muscle development. It regulates the expression of myogenin and other muscle-specific genes during both in vitro (tissue culture) and in vivo (living organism) processes. MyoD can also activate its own transcription and that of myogenin, while myogenin can activate MyoD and itself. The activation of myogenin is mediated in part by a muscle transcription factor called MEF2.\n",
      "============\n",
      "Cell, Vol. 75, 1241-1244, December 31, 1993, Copyright @ 1993 by Cell Press \n",
      "The MyoD Family and Myogenesis: \n",
      "Redundancy, Networks, \n",
      "and Thresholds \n",
      "Harold Weintraub \n",
      "Fred Hutchinson Cancer Research Center \n",
      "Howard Hughes Medical Institute Laboratory \n",
      "1124 Columbia Street \n",
      "Seattle, Washington 98104 \n",
      "The members of the MyoD family of myogenic transcrip- \n",
      "tional regulators (MyoD, Myf-5, MRF4, myogenin) have \n",
      "the remarkable property that, when expressed from a con- \n",
      "stitutive promoter, they can convert a large number of dif- \n",
      "ferent cell types into muscle (reviewed by Buckingham, \n",
      "1992; Emerson, 1990; Olson, 1990; Weintraub et al., \n",
      "1991). In contrast, mice with homozygous gene-targeted \n",
      "mutations in either MyoD or Myf-5 produce fairly normal \n",
      "amounts of muscle (Rudnicki et al., 1992; Braun et al., \n",
      "1992). This apparent paradox has now been resolved by \n",
      "two recent studies. In one, a simple genetic cross has \n",
      "shown that in the double homozygous mutants, in which \n",
      "both MyoD and Myfd are\n",
      "Summary: MYOD is a member of the MyoD family of myogenic transcriptional regulators, including Myf-5, MRF4, and myogenin. When expressed from a constitutive promoter, MYOD can convert various cell types into muscle. However, in mice with homogenous gene-targeted mutations for both MYOD and Myf-5, normal muscle amounts are produced, which was previously considered a paradox. This paradox has been resolved by recent studies that show in double homogenous mutants, both MyoD and Myf-5 are required for full muscle conversion and development.\n",
      "============\n",
      "expressed, how does Myod regulate skeletal muscle cell\n",
      "differentiation? In one sense, the answer seems fairly simple:Myod is a transcription factor with binding sites in theregulatory regions of many genes that are expressed in skeletalmuscle. Myod forms heterodimers with the nearly ubiquitousE-protein sub-family of bHLH proteins through the interactionof the HLH domains (see Fig. 1) (Lassar et al., 1991; Murre etal., 1989). The basic regions act as sequence-speciﬁc DNA-binding domains that recognize a binding site with the simplecore consensus sequence of CANNTG, termed an E-box, andshow additional preferences for internal and ﬂankingsequences (Blackwell and Weintraub, 1990). Myod has a singleamino-terminal acidic-activation domain, as determined by its\n",
      "fusion to the heterologous DNA-binding domain of the Gal4\n",
      "protein (Weintraub et al., 1991b), whereas E-proteins have amore complex mix of activation and repression domains(Markus et al., 2002) (see Fig. 1). Therefore, the simple\n",
      "Summary: MYOD is a transcription factor that regulates skeletal muscle cell differentiation by binding to the regulatory regions of genes expressed in muscle cells. It forms heterodimers with E-proteins through the interaction of their HLH domains, and recognizes DNA binding sites with the E-box consensus sequence (CANNTG). MYOD has an acidic-activation domain, while E-proteins have a more complex mix of activation and repression domains. (summary: MYOD is a muscle-specific transcription factor that regulates muscle gene expression by binding to the E-box sequence in partnership with E-proteins, using its acidic-activation domain to regulate gene expression.)\n",
      "============\n",
      "Harter,2003). In contrast to the differentiating muscle cell, whereMyod is associated with HATs, in the myoblast (the replicatingmuscle precursor cell), Myod is associated with histonedeacetylases (HDACs) and might actively suppress geneexpression (Fulco et al., 2003; Mal and Harter, 2003; Mal etal., 2001).\n",
      "These ﬁndings strongly suggest that Myod acts to negatively\n",
      "regulate the transcription of some genes in the myoblast andthat muscle differentiation is initiated when Myod switchesfrom its association with repressive factors to activatingfactors. The differentiation of Myod- expressing cell lines, such\n",
      "as the C2C12 myoblast cell line (Silberstein et al., 1986), canbe induced in culture by removing serum or it can be preventedby adding growth factors, such as Fgf or Tgf β(De Angelis et\n",
      "al., 1998; Li et al., 1992), indicating that mitogen stimulationin vivo might sustain a myoblast state. In addition, Notchsignaling represses both Myod transcription and Myod protein\n",
      "activity (Kopan et\n",
      "Summary: Myod is involved in regulating gene expression during muscle cell differentiation. In the replicating muscle precursor cell (myoblast), Myod associates with histone deacetylases (HDACs) and suppresses gene expression. However, during muscle differentiation, Myod switches to associating with histone acetyltransferases (HATs) and activates gene expression. This switch is important for initiating muscle differentiation, and it can be induced in cell lines such as C2C12 myoblasts by removing serum or adding growth factors like Fgf or Tgf β. Notch signaling also represses Myod's transcription and activity.\n",
      "============\n",
      "identiﬁcation of Myod1 (Lassar et al.,1986), a basic-helix-loop-helix (bHLH) transcription factorthat can induce skeletal muscle differentiation in cells frommany different lineages.The identiﬁcation of Myod as a master regulatory gene of\n",
      "skeletal muscle differentiation provided the opportunity to\n",
      "assess the roles of tissue-speciﬁc transcription factors and\n",
      "chromatin-associated proteins in regulating cell differentiation.\n",
      "It also provided the opportunity to address another importantquestion: how does a single transcription factor execute anentire program of cell differentiation? One reason to beinterested in the answer to this question is that it is a speciﬁc\n",
      "example of the broader question: how does a single event result\n",
      "in a predictable, complex response? It is likely thatunderstanding the orchestration of skeletal muscle geneexpression by Myod will provide insights into the regulationof other complex biological events.\n",
      "This review describes generally how Myod regulates the\n",
      "program\n",
      "Summary: MYOD, identified by Lassar et al. (1986), is a bHLH transcription factor that triggers skeletal muscle differentiation. Its discovery led to investigating the roles of muscle-specific transcription factors and chromatin-associated proteins in cell differentiation. Furthermore, it raised the question of how a single transcription factor manages an entire program of cell differentiation. This review focuses on how MYOD orchestrates the muscle gene expression process.\n",
      "============\n",
      "of mRNA is expressed in cells or embryos to inhibit the \n",
      "expression of specific mRNAs, allows the generation of lack-of-function phenotypes and permits the assessment \n",
      "of the role of specific genes in development in the absence \n",
      "of classical developmental genetics. \n",
      "More recently, in a remarkable series of experiments, \n",
      "Hal identified a single gene, myoD, which can elicit the \n",
      "entire prog'ram of muscle differentiation when introduced \n",
      "into nonmuscle cell types. He demonstrated that muscle \n",
      "cell differentiation could be elicited in fibroblasts following \n",
      "the transfer of genomic DNA from muscle cells. This led \n",
      "Hal to the isolation of the myoD gene, which encodes a \n",
      "transcriptional activator that promotes myogenesis by di- \n",
      "rectly binding to a control region shared by muscle-specific \n",
      "genes. Moreover, MyoD activates its own transcription, \n",
      "creating an autoregulatory loop that stabilizes the commit- \n",
      "ment to myogenesis. Structure-function analysis allowed \n",
      "the definition of a complex\n",
      "Summary: MYOD is a gene that encodes a transcriptional activator involved in muscle differentiation. When introduced into non-muscle cell types, it promotes myogenesis by binding to a control region shared by muscle-specific genes and activating its own transcription, creating an autoregulatory loop that strengthens the commitment to muscle cell development.\n",
      "============\n",
      "are\n",
      "directly correlated, allows us to consider control mechanisms ofthe chromosomal network that derive the network geometryfrom an initial configuration toward a specific cell type. This isparticularly exemplified by transcription factors that have broad\n",
      "influence on cell fate, such as MyoD. In addition to its role inmyoblasts as a transcription factor regulating expression of\n",
      "skeletal muscle genes, MyoD can convert fibroblasts to skeletalmuscle cells by activating the skeletal muscle differentiationprogram. Recent studies indicate that MyoD binds and induces\n",
      "histone modifications at tens of thousands of sites in the myoblast\n",
      "prior to transcription of most skeletal muscle genes, suggesting apotentially more global role in cell specification (10). Another“master regulator ”is GATA-1, a zinc finger transcription factor\n",
      "essential to maintenance of the erythroid and megakaryocytelineages (11). GATA-1 may have a global impact on nuclearorganization by catalyzing interactions within and\n",
      "Summary: MyoD is a transcription factor that plays a significant role in cell specification by converting fibroblasts into skeletal muscle cells. It does this by activating the skeletal muscle differentiation program and inducing histone modifications at tens of thousands of sites in the myoblast before the transcription of most skeletal muscle genes. This suggests a more global role in cell specification.\n",
      "============\n",
      "that read upstream tem- \n",
      "poral and positional cues [see below]), for defining the \n",
      "myoblast state and positioning the proper number of cells \n",
      "in the muscle-forming regions of the body, and for receiv- \n",
      "ing inhibitory signals from the environment; that MyoD \n",
      "may be primarily responsible for stabilizing the determined \n",
      "state via autoactivation; and that myogenin, once acti- \n",
      "vated by MyoD or Myfd, is used for bypassing negative \n",
      "control in vivo and for actually activating most (but not all) \n",
      "downstream muscle structural genes. MRM, which has many features in common with myogenin (e.g., late onset \n",
      "of expression), may also have a partially overlapping func- \n",
      "tion with myogenin, which could contribute to the residual \n",
      "myogenesis present in myogenin-deficient mice. Under \n",
      "certain conditions (e.g., overexpression or growth in vitro \n",
      "versus in vivo), these distinctions can become blurred. \n",
      "A major problem in postulating totally redundant func- \n",
      "tions for MyoD and Myf-5 is that over\n",
      "Summary: MYOD is involved in defining muscle cell state and positioning muscles in the body through receiving cues and giving inhibitory signals. It plays a role in stabilizing the muscle cell state through autoactivation. Myogenin, which is activated by MYOD or Myf-d, drives the activation of most muscle structural genes. MRM, which shares features with myogenin, may have a partial overlap in function with myogenin. The distinctions between the functions of MYOD and Myf-5 can blur under certain conditions. However, it is important to note that MYOD and Myf-5 do not have completely redundant functions.\n"
     ]
    },
    {
     "data": {
      "text/plain": [
       "[(Document(page_content='MYOD is involved in initiating the myogenic differentiation program, which temporally regulates its own activity through a feed-forward mechanism.', metadata={'page': 4, 'source': '/nfs/turbo/umms-indikar/shared/projects/RAG/papers/DigitalLibrary-9-June-2024/The circuitry of a master switch.pdf'}),\n",
       "  0.7678906917572021),\n",
       " (Document(page_content='MYOD is a transcription factor involved in muscle differentiation as indicated by its role in gene transcription and regulation of myoblast differentiation both in vitro and in vivo (Kopan et al., 1994; Nofziger et al., 1999). Despite known inhibitors of differentiation like mitogens and Notch signaling, the precise mechanisms allowing differentiation to occur at specific times and places remain unclear. As for the execution of an entire program of cell differentation by a single transcription factor, research has shown that expression levels of many RNAs change during skeletal muscle differentiation in cultured C2C12 cells. To investigate the role of MYOD in these changes, gene expression was assessed in fibroblasts.', metadata={'page': 4, 'source': '/nfs/turbo/umms-indikar/shared/projects/RAG/papers/DigitalLibrary-9-June-2024/The circuitry of a master switch.pdf'}),\n",
       "  0.7660456895828247),\n",
       " (Document(page_content='MyoD is a key transcription factor involved in muscle development. It regulates the expression of myogenin and other muscle-specific genes during both in vitro (tissue culture) and in vivo (living organism) processes. MyoD can also activate its own transcription and that of myogenin, while myogenin can activate MyoD and itself. The activation of myogenin is mediated in part by a muscle transcription factor called MEF2.', metadata={'page': 0, 'source': '/nfs/turbo/umms-indikar/shared/projects/RAG/papers/DigitalLibrary-9-June-2024/The MyoD Family and Myogenesis Redundancy, Networks, and Thresholds.pdf'}),\n",
       "  0.7584931254386902),\n",
       " (Document(page_content='MYOD is a member of the MyoD family of myogenic transcriptional regulators, including Myf-5, MRF4, and myogenin. When expressed from a constitutive promoter, MYOD can convert various cell types into muscle. However, in mice with homogenous gene-targeted mutations for both MYOD and Myf-5, normal muscle amounts are produced, which was previously considered a paradox. This paradox has been resolved by recent studies that show in double homogenous mutants, both MyoD and Myf-5 are required for full muscle conversion and development.', metadata={'page': 0, 'source': '/nfs/turbo/umms-indikar/shared/projects/RAG/papers/DigitalLibrary-9-June-2024/The MyoD Family and Myogenesis Redundancy, Networks, and Thresholds.pdf'}),\n",
       "  0.7571537494659424),\n",
       " (Document(page_content='MYOD is a transcription factor that regulates skeletal muscle cell differentiation by binding to the regulatory regions of genes expressed in muscle cells. It forms heterodimers with E-proteins through the interaction of their HLH domains, and recognizes DNA binding sites with the E-box consensus sequence (CANNTG). MYOD has an acidic-activation domain, while E-proteins have a more complex mix of activation and repression domains. (summary: MYOD is a muscle-specific transcription factor that regulates muscle gene expression by binding to the E-box sequence in partnership with E-proteins, using its acidic-activation domain to regulate gene expression.)', metadata={'page': 3, 'source': '/nfs/turbo/umms-indikar/shared/projects/RAG/papers/DigitalLibrary-9-June-2024/The circuitry of a master switch.pdf'}),\n",
       "  0.7549338340759277),\n",
       " (Document(page_content=\"Myod is involved in regulating gene expression during muscle cell differentiation. In the replicating muscle precursor cell (myoblast), Myod associates with histone deacetylases (HDACs) and suppresses gene expression. However, during muscle differentiation, Myod switches to associating with histone acetyltransferases (HATs) and activates gene expression. This switch is important for initiating muscle differentiation, and it can be induced in cell lines such as C2C12 myoblasts by removing serum or adding growth factors like Fgf or Tgf β. Notch signaling also represses Myod's transcription and activity.\", metadata={'page': 4, 'source': '/nfs/turbo/umms-indikar/shared/projects/RAG/papers/DigitalLibrary-9-June-2024/The circuitry of a master switch.pdf'}),\n",
       "  0.7548009157180786),\n",
       " (Document(page_content='MYOD, identified by Lassar et al. (1986), is a bHLH transcription factor that triggers skeletal muscle differentiation. Its discovery led to investigating the roles of muscle-specific transcription factors and chromatin-associated proteins in cell differentiation. Furthermore, it raised the question of how a single transcription factor manages an entire program of cell differentiation. This review focuses on how MYOD orchestrates the muscle gene expression process.', metadata={'page': 0, 'source': '/nfs/turbo/umms-indikar/shared/projects/RAG/papers/DigitalLibrary-9-June-2024/The circuitry of a master switch.pdf'}),\n",
       "  0.7541691064834595),\n",
       " (Document(page_content='MYOD is a gene that encodes a transcriptional activator involved in muscle differentiation. When introduced into non-muscle cell types, it promotes myogenesis by binding to a control region shared by muscle-specific genes and activating its own transcription, creating an autoregulatory loop that strengthens the commitment to muscle cell development.', metadata={'page': 0, 'source': '/nfs/turbo/umms-indikar/shared/projects/RAG/papers/DigitalLibrary-9-June-2024/Harold Weintraub.pdf'}),\n",
       "  0.7537667751312256),\n",
       " (Document(page_content='MyoD is a transcription factor that plays a significant role in cell specification by converting fibroblasts into skeletal muscle cells. It does this by activating the skeletal muscle differentiation program and inducing histone modifications at tens of thousands of sites in the myoblast before the transcription of most skeletal muscle genes. This suggests a more global role in cell specification.', metadata={'page': 2, 'source': '/nfs/turbo/umms-indikar/shared/projects/RAG/papers/DigitalLibrary-9-June-2024/Dynamics and control of state-dependent networks for probing genomic organization.pdf'}),\n",
       "  0.752388060092926),\n",
       " (Document(page_content='MYOD is involved in defining muscle cell state and positioning muscles in the body through receiving cues and giving inhibitory signals. It plays a role in stabilizing the muscle cell state through autoactivation. Myogenin, which is activated by MYOD or Myf-d, drives the activation of most muscle structural genes. MRM, which shares features with myogenin, may have a partial overlap in function with myogenin. The distinctions between the functions of MYOD and Myf-5 can blur under certain conditions. However, it is important to note that MYOD and Myf-5 do not have completely redundant functions.', metadata={'page': 2, 'source': '/nfs/turbo/umms-indikar/shared/projects/RAG/papers/DigitalLibrary-9-June-2024/The MyoD Family and Myogenesis Redundancy, Networks, and Thresholds.pdf'}),\n",
       "  0.7507756948471069)]"
      ]
     },
     "execution_count": 83,
     "metadata": {},
     "output_type": "execute_result"
    }
   ],
   "source": [
    "def contextualCompression(documentSearch, chatstatus):\n",
    "    \"\"\"\n",
    "    Summarizes the content of documents based on a user query, updating the \n",
    "    document search results with these summaries.\n",
    "\n",
    "    Args:\n",
    "        documentSearch (list): A list of documents where each document is a tuple, \n",
    "                               and the first element of the tuple has an attribute \n",
    "                               `page_content` containing the text content of the document.\n",
    "        chatstatus (dict): BRAD chatstatus used to track debuging\n",
    "\n",
    "    Returns:\n",
    "        list: The modified `documentSearch` list with updated `page_content` for each \n",
    "              document, replaced by their summaries.\n",
    "\n",
    "    Example:\n",
    "        documentSearch = [(Document(page_content=\"...\"),), ...]\n",
    "        chatstatus = {'config': {'debug': True}}\n",
    "        updatedDocs = contextualCompression(documentSearch, chatstatus)\n",
    "    \"\"\"\n",
    "    template = summarizeDocumentTemplate()\n",
    "    PROMPT = PromptTemplate(input_variables=[\"user_query\"], template=template)\n",
    "    reducedDocs = []\n",
    "    for i, doc in enumerate(documentSearch):\n",
    "        pageContent = doc[0].page_content\n",
    "        prompt = PROMPT.format(text=pageContent, user_query=query)\n",
    "        res = llm.invoke(input=prompt)\n",
    "        summary = res.content.strip()\n",
    "        if chatstatus['config']['debug']:\n",
    "            print('============')\n",
    "            print(pageContent)\n",
    "            print('Summary: ' + summary)\n",
    "        doc[0].page_content = summary\n",
    "        documentSearch[i] = doc\n",
    "    return documentSearch\n",
    "\n",
    "contextualCompression(documentSearch, chatstatus)"
   ]
  },
  {
   "cell_type": "code",
   "execution_count": 80,
   "id": "663ae67b-0223-4d86-ae59-de8603049793",
   "metadata": {},
   "outputs": [
    {
     "data": {
      "text/plain": [
       "[((Document(page_content='MYOD is involved in initiating the myogenic differentiation program, which temporally regulates its own activity through a feed-forward mechanism.', metadata={'page': 4, 'source': '/nfs/turbo/umms-indikar/shared/projects/RAG/papers/DigitalLibrary-9-June-2024/The circuitry of a master switch.pdf'}),\n",
       "   0.7678906917572021),\n",
       "  0.7678906917572021),\n",
       " ((Document(page_content='MYOD is a transcription factor involved in muscle differentiation as indicated by its role in gene transcription and regulation of myoblast differentiation both in vitro and in vivo (Kopan et al., 1994; Nofziger et al., 1999). Despite known inhibitors of differentiation like mitogens and Notch signaling, the precise mechanisms allowing differentiation to occur at specific times and places remain unclear. As for the execution of an entire program of cell differentation by a single transcription factor, research has shown that expression levels of many RNAs change during skeletal muscle differentiation in cultured C2C12 cells. To investigate the role of MYOD in these changes, gene expression was assessed in fibroblasts.', metadata={'page': 4, 'source': '/nfs/turbo/umms-indikar/shared/projects/RAG/papers/DigitalLibrary-9-June-2024/The circuitry of a master switch.pdf'}),\n",
       "   0.7660456895828247),\n",
       "  0.7660456895828247),\n",
       " ((Document(page_content='MyoD is a key transcription factor involved in muscle development. It regulates the expression of myogenin and other muscle-specific genes during both in vitro (tissue culture) and in vivo (living organism) processes. MyoD can also activate its own transcription and that of myogenin, while myogenin can activate MyoD and itself. The activation of myogenin is mediated in part by a muscle transcription factor called MEF2.', metadata={'page': 0, 'source': '/nfs/turbo/umms-indikar/shared/projects/RAG/papers/DigitalLibrary-9-June-2024/The MyoD Family and Myogenesis Redundancy, Networks, and Thresholds.pdf'}),\n",
       "   0.7584931254386902),\n",
       "  0.7584931254386902),\n",
       " ((Document(page_content='MYOD is a member of the MyoD family of myogenic transcriptional regulators, including Myf-5, MRF4, and myogenin. When expressed from a constitutive promoter, MYOD can convert various cell types into muscle. However, in mice with homogenous gene-targeted mutations for both MYOD and Myf-5, normal muscle amounts are produced, which was previously considered a paradox. This paradox has been resolved by recent studies that show in double homogenous mutants, both MyoD and Myf-5 are required for full muscle conversion and development.', metadata={'page': 0, 'source': '/nfs/turbo/umms-indikar/shared/projects/RAG/papers/DigitalLibrary-9-June-2024/The MyoD Family and Myogenesis Redundancy, Networks, and Thresholds.pdf'}),\n",
       "   0.7571537494659424),\n",
       "  0.7571537494659424),\n",
       " ((Document(page_content='MYOD is a transcription factor that regulates skeletal muscle cell differentiation by binding to the regulatory regions of genes expressed in muscle cells. It forms heterodimers with E-proteins through the interaction of their HLH domains, and recognizes DNA binding sites with the E-box consensus sequence (CANNTG). MYOD has an acidic-activation domain, while E-proteins have a more complex mix of activation and repression domains. (summary: MYOD is a muscle-specific transcription factor that regulates muscle gene expression by binding to the E-box sequence in partnership with E-proteins, using its acidic-activation domain to regulate gene expression.)', metadata={'page': 3, 'source': '/nfs/turbo/umms-indikar/shared/projects/RAG/papers/DigitalLibrary-9-June-2024/The circuitry of a master switch.pdf'}),\n",
       "   0.7549338340759277),\n",
       "  0.7549338340759277),\n",
       " ((Document(page_content=\"Myod is involved in regulating gene expression during muscle cell differentiation. In the replicating muscle precursor cell (myoblast), Myod associates with histone deacetylases (HDACs) and suppresses gene expression. However, during muscle differentiation, Myod switches to associating with histone acetyltransferases (HATs) and activates gene expression. This switch is important for initiating muscle differentiation, and it can be induced in cell lines such as C2C12 myoblasts by removing serum or adding growth factors like Fgf or Tgf β. Notch signaling also represses Myod's transcription and activity.\", metadata={'page': 4, 'source': '/nfs/turbo/umms-indikar/shared/projects/RAG/papers/DigitalLibrary-9-June-2024/The circuitry of a master switch.pdf'}),\n",
       "   0.7548009157180786),\n",
       "  0.7548009157180786),\n",
       " ((Document(page_content='MYOD, identified by Lassar et al. (1986), is a bHLH transcription factor that triggers skeletal muscle differentiation. Its discovery led to investigating the roles of muscle-specific transcription factors and chromatin-associated proteins in cell differentiation. Furthermore, it raised the question of how a single transcription factor manages an entire program of cell differentiation. This review focuses on how MYOD orchestrates the muscle gene expression process.', metadata={'page': 0, 'source': '/nfs/turbo/umms-indikar/shared/projects/RAG/papers/DigitalLibrary-9-June-2024/The circuitry of a master switch.pdf'}),\n",
       "   0.7541691064834595),\n",
       "  0.7541691064834595),\n",
       " ((Document(page_content='MYOD is a gene that encodes a transcriptional activator involved in muscle differentiation. When introduced into non-muscle cell types, it promotes myogenesis by binding to a control region shared by muscle-specific genes and activating its own transcription, creating an autoregulatory loop that strengthens the commitment to muscle cell development.', metadata={'page': 0, 'source': '/nfs/turbo/umms-indikar/shared/projects/RAG/papers/DigitalLibrary-9-June-2024/Harold Weintraub.pdf'}),\n",
       "   0.7537667751312256),\n",
       "  0.7537667751312256),\n",
       " ((Document(page_content='MyoD is a transcription factor that plays a significant role in cell specification by converting fibroblasts into skeletal muscle cells. It does this by activating the skeletal muscle differentiation program and inducing histone modifications at tens of thousands of sites in the myoblast before the transcription of most skeletal muscle genes. This suggests a more global role in cell specification.', metadata={'page': 2, 'source': '/nfs/turbo/umms-indikar/shared/projects/RAG/papers/DigitalLibrary-9-June-2024/Dynamics and control of state-dependent networks for probing genomic organization.pdf'}),\n",
       "   0.752388060092926),\n",
       "  0.752388060092926),\n",
       " ((Document(page_content='MYOD is involved in defining muscle cell state and positioning muscles in the body through receiving cues and giving inhibitory signals. It plays a role in stabilizing the muscle cell state through autoactivation. Myogenin, which is activated by MYOD or Myf-d, drives the activation of most muscle structural genes. MRM, which shares features with myogenin, may have a partial overlap in function with myogenin. The distinctions between the functions of MYOD and Myf-5 can blur under certain conditions. However, it is important to note that MYOD and Myf-5 do not have completely redundant functions.', metadata={'page': 2, 'source': '/nfs/turbo/umms-indikar/shared/projects/RAG/papers/DigitalLibrary-9-June-2024/The MyoD Family and Myogenesis Redundancy, Networks, and Thresholds.pdf'}),\n",
       "   0.7507756948471069),\n",
       "  0.7507756948471069)]"
      ]
     },
     "execution_count": 80,
     "metadata": {},
     "output_type": "execute_result"
    }
   ],
   "source": [
    "documentSearch"
   ]
  },
  {
   "cell_type": "code",
   "execution_count": 72,
   "id": "b768a47f-cdc6-42e6-a477-94caba610948",
   "metadata": {},
   "outputs": [
    {
     "data": {
      "text/plain": [
       "[(Document(page_content='a combination of promoter-speciﬁc regulation of Myod binding and activity.\\nBecause Myod initiates the myogenic differentiation\\nprogram and that program temporally regulates the activity of\\nMyod, it follows that Myod programs the regulation of its ownactivity. It does this, at least in part, through a feed-forward\\nDevelopment', metadata={'page': 4, 'source': '/nfs/turbo/umms-indikar/shared/projects/RAG/papers/DigitalLibrary-9-June-2024/The circuitry of a master switch.pdf'}),\n",
       "  0.7678906917572021),\n",
       " (Document(page_content='transcription and Myod protein\\nactivity (Kopan et al., 1994; Nofziger et al., 1999), andprobably contributes to regulating differentiation in vivo. It isinteresting that while we have identiﬁed several mechanismsthat might delay myoblast differentiation, such as mitogens andNotch signaling, we do not yet have a good understanding ofthe events that occur in vivo to overcome these inhibitorysignals and to induce differentiation at a speciﬁc time andplace.\\nA feed-forward circuit as a quantal step\\nHow does a single transcription factor execute an entireprogram of cell differentiation? How does a single event result\\nin a predictable and complex response? Microarray expressionstudies of cultured C2C12 cells have shown that expressionlevels of many RNAs change during skeletal muscledifferentiation (Delgado et al., 2003; Tomczak et al., 2004). To\\ndetermine how many of these changes are caused by theexpression and activity of Myod, we assessed gene expressionchanges in ﬁbroblasts with an', metadata={'page': 4, 'source': '/nfs/turbo/umms-indikar/shared/projects/RAG/papers/DigitalLibrary-9-June-2024/The circuitry of a master switch.pdf'}),\n",
       "  0.7660456895828247),\n",
       " (Document(page_content='compartments. Thus, myogenin-independent myoblast \\nidentity seems to be definable by the generation of approx- \\nimately the right number of cells in the right positions of \\nthe body under the direction of MyoD-Myf-5 function. \\nRegulation of Myogenic Genes In Vitro and In Vivo \\nTissue culture experiments also support the notion that Minireview \\nmyogenin acts downstream of MyoD and Myf-5 since most \\nmyoblasts in culture express MyoD or Myf-5, but turn on \\nmyogenin only when induced to differentiate. Cell culture \\nexperiments have also contributed several additional lay- \\ners to the regulatory circuitry, showing that MyoD can acti- \\nvate its own transcription as well as that of myogenin; \\nmyogenin can activate itself and as well as MyoD; and \\nMyfd can activate itself, MyoD, and myogenin. Activation \\nof myogenin seems to be mediated, in part, via a down- \\nstream muscle transcription factor, MEF2 (Edmondson et \\nal., 1992), so that in this case what is downstream and \\nwhat is upstream may', metadata={'page': 0, 'source': '/nfs/turbo/umms-indikar/shared/projects/RAG/papers/DigitalLibrary-9-June-2024/The MyoD Family and Myogenesis Redundancy, Networks, and Thresholds.pdf'}),\n",
       "  0.7584931254386902),\n",
       " (Document(page_content='Cell, Vol. 75, 1241-1244, December 31, 1993, Copyright @ 1993 by Cell Press \\nThe MyoD Family and Myogenesis: \\nRedundancy, Networks, \\nand Thresholds \\nHarold Weintraub \\nFred Hutchinson Cancer Research Center \\nHoward Hughes Medical Institute Laboratory \\n1124 Columbia Street \\nSeattle, Washington 98104 \\nThe members of the MyoD family of myogenic transcrip- \\ntional regulators (MyoD, Myf-5, MRF4, myogenin) have \\nthe remarkable property that, when expressed from a con- \\nstitutive promoter, they can convert a large number of dif- \\nferent cell types into muscle (reviewed by Buckingham, \\n1992; Emerson, 1990; Olson, 1990; Weintraub et al., \\n1991). In contrast, mice with homozygous gene-targeted \\nmutations in either MyoD or Myf-5 produce fairly normal \\namounts of muscle (Rudnicki et al., 1992; Braun et al., \\n1992). This apparent paradox has now been resolved by \\ntwo recent studies. In one, a simple genetic cross has \\nshown that in the double homozygous mutants, in which \\nboth MyoD and Myfd are', metadata={'page': 0, 'source': '/nfs/turbo/umms-indikar/shared/projects/RAG/papers/DigitalLibrary-9-June-2024/The MyoD Family and Myogenesis Redundancy, Networks, and Thresholds.pdf'}),\n",
       "  0.7571537494659424),\n",
       " (Document(page_content='expressed, how does Myod regulate skeletal muscle cell\\ndifferentiation? In one sense, the answer seems fairly simple:Myod is a transcription factor with binding sites in theregulatory regions of many genes that are expressed in skeletalmuscle. Myod forms heterodimers with the nearly ubiquitousE-protein sub-family of bHLH proteins through the interactionof the HLH domains (see Fig. 1) (Lassar et al., 1991; Murre etal., 1989). The basic regions act as sequence-speciﬁc DNA-binding domains that recognize a binding site with the simplecore consensus sequence of CANNTG, termed an E-box, andshow additional preferences for internal and ﬂankingsequences (Blackwell and Weintraub, 1990). Myod has a singleamino-terminal acidic-activation domain, as determined by its\\nfusion to the heterologous DNA-binding domain of the Gal4\\nprotein (Weintraub et al., 1991b), whereas E-proteins have amore complex mix of activation and repression domains(Markus et al., 2002) (see Fig. 1). Therefore, the simple', metadata={'page': 3, 'source': '/nfs/turbo/umms-indikar/shared/projects/RAG/papers/DigitalLibrary-9-June-2024/The circuitry of a master switch.pdf'}),\n",
       "  0.7549338340759277),\n",
       " (Document(page_content='Harter,2003). In contrast to the differentiating muscle cell, whereMyod is associated with HATs, in the myoblast (the replicatingmuscle precursor cell), Myod is associated with histonedeacetylases (HDACs) and might actively suppress geneexpression (Fulco et al., 2003; Mal and Harter, 2003; Mal etal., 2001).\\nThese ﬁndings strongly suggest that Myod acts to negatively\\nregulate the transcription of some genes in the myoblast andthat muscle differentiation is initiated when Myod switchesfrom its association with repressive factors to activatingfactors. The differentiation of Myod- expressing cell lines, such\\nas the C2C12 myoblast cell line (Silberstein et al., 1986), canbe induced in culture by removing serum or it can be preventedby adding growth factors, such as Fgf or Tgf β(De Angelis et\\nal., 1998; Li et al., 1992), indicating that mitogen stimulationin vivo might sustain a myoblast state. In addition, Notchsignaling represses both Myod transcription and Myod protein\\nactivity (Kopan et', metadata={'page': 4, 'source': '/nfs/turbo/umms-indikar/shared/projects/RAG/papers/DigitalLibrary-9-June-2024/The circuitry of a master switch.pdf'}),\n",
       "  0.7548009157180786),\n",
       " (Document(page_content='identiﬁcation of Myod1 (Lassar et al.,1986), a basic-helix-loop-helix (bHLH) transcription factorthat can induce skeletal muscle differentiation in cells frommany different lineages.The identiﬁcation of Myod as a master regulatory gene of\\nskeletal muscle differentiation provided the opportunity to\\nassess the roles of tissue-speciﬁc transcription factors and\\nchromatin-associated proteins in regulating cell differentiation.\\nIt also provided the opportunity to address another importantquestion: how does a single transcription factor execute anentire program of cell differentiation? One reason to beinterested in the answer to this question is that it is a speciﬁc\\nexample of the broader question: how does a single event result\\nin a predictable, complex response? It is likely thatunderstanding the orchestration of skeletal muscle geneexpression by Myod will provide insights into the regulationof other complex biological events.\\nThis review describes generally how Myod regulates the\\nprogram', metadata={'page': 0, 'source': '/nfs/turbo/umms-indikar/shared/projects/RAG/papers/DigitalLibrary-9-June-2024/The circuitry of a master switch.pdf'}),\n",
       "  0.7541691064834595),\n",
       " (Document(page_content=\"of mRNA is expressed in cells or embryos to inhibit the \\nexpression of specific mRNAs, allows the generation of lack-of-function phenotypes and permits the assessment \\nof the role of specific genes in development in the absence \\nof classical developmental genetics. \\nMore recently, in a remarkable series of experiments, \\nHal identified a single gene, myoD, which can elicit the \\nentire prog'ram of muscle differentiation when introduced \\ninto nonmuscle cell types. He demonstrated that muscle \\ncell differentiation could be elicited in fibroblasts following \\nthe transfer of genomic DNA from muscle cells. This led \\nHal to the isolation of the myoD gene, which encodes a \\ntranscriptional activator that promotes myogenesis by di- \\nrectly binding to a control region shared by muscle-specific \\ngenes. Moreover, MyoD activates its own transcription, \\ncreating an autoregulatory loop that stabilizes the commit- \\nment to myogenesis. Structure-function analysis allowed \\nthe definition of a complex\", metadata={'page': 0, 'source': '/nfs/turbo/umms-indikar/shared/projects/RAG/papers/DigitalLibrary-9-June-2024/Harold Weintraub.pdf'}),\n",
       "  0.7537667751312256),\n",
       " (Document(page_content='are\\ndirectly correlated, allows us to consider control mechanisms ofthe chromosomal network that derive the network geometryfrom an initial configuration toward a specific cell type. This isparticularly exemplified by transcription factors that have broad\\ninfluence on cell fate, such as MyoD. In addition to its role inmyoblasts as a transcription factor regulating expression of\\nskeletal muscle genes, MyoD can convert fibroblasts to skeletalmuscle cells by activating the skeletal muscle differentiationprogram. Recent studies indicate that MyoD binds and induces\\nhistone modifications at tens of thousands of sites in the myoblast\\nprior to transcription of most skeletal muscle genes, suggesting apotentially more global role in cell specification (10). Another“master regulator ”is GATA-1, a zinc finger transcription factor\\nessential to maintenance of the erythroid and megakaryocytelineages (11). GATA-1 may have a global impact on nuclearorganization by catalyzing interactions within and', metadata={'page': 2, 'source': '/nfs/turbo/umms-indikar/shared/projects/RAG/papers/DigitalLibrary-9-June-2024/Dynamics and control of state-dependent networks for probing genomic organization.pdf'}),\n",
       "  0.752388060092926),\n",
       " (Document(page_content='that read upstream tem- \\nporal and positional cues [see below]), for defining the \\nmyoblast state and positioning the proper number of cells \\nin the muscle-forming regions of the body, and for receiv- \\ning inhibitory signals from the environment; that MyoD \\nmay be primarily responsible for stabilizing the determined \\nstate via autoactivation; and that myogenin, once acti- \\nvated by MyoD or Myfd, is used for bypassing negative \\ncontrol in vivo and for actually activating most (but not all) \\ndownstream muscle structural genes. MRM, which has many features in common with myogenin (e.g., late onset \\nof expression), may also have a partially overlapping func- \\ntion with myogenin, which could contribute to the residual \\nmyogenesis present in myogenin-deficient mice. Under \\ncertain conditions (e.g., overexpression or growth in vitro \\nversus in vivo), these distinctions can become blurred. \\nA major problem in postulating totally redundant func- \\ntions for MyoD and Myf-5 is that over', metadata={'page': 2, 'source': '/nfs/turbo/umms-indikar/shared/projects/RAG/papers/DigitalLibrary-9-June-2024/The MyoD Family and Myogenesis Redundancy, Networks, and Thresholds.pdf'}),\n",
       "  0.7507756948471069)]"
      ]
     },
     "execution_count": 72,
     "metadata": {},
     "output_type": "execute_result"
    }
   ],
   "source": [
    "documentSearch"
   ]
  },
  {
   "cell_type": "code",
   "execution_count": 59,
   "id": "c54c8c25-33b4-4933-8f78-b5c7dbef780c",
   "metadata": {},
   "outputs": [
    {
     "data": {
      "text/plain": [
       "['Myod is involved in initiating the myogenic differentiation program, which regulates its own activity.',\n",
       " 'MYOD is involved in the process of cell differentiation in muscular tissues, specifically during skeletal muscle differentiation. It does so by regulating gene expression, as evidenced by changes in expression levels of many RNAs observed in microarray studies.',\n",
       " 'MYOD is involved in the regulation of myogenin expression during muscle cell differentiation.',\n",
       " 'MYOD is involved in the process of muscle conversion in cells, as expressed from a constitutive promoter, it can transform different cell types into muscle. However, homOzygous gene-targeted mutants of MYOD or Myf-5 produce normal amounts of muscle in mice. The recent studies resolved this paradox by showing that both MyoD and Myf-5 are required in the double homOzygous mutants for proper muscle development.',\n",
       " 'Myod is a transcription factor involved in skeletal muscle cell differentiation. It forms heterodimers with E-proteins through the interaction of their HLH domains and binds to E-boxes to regulate the expression of related genes.',\n",
       " 'In the myoblast cell, MYOD is associated with histone deacetylases (HDACs) and might suppress gene expression through this association (Fulco et al., 2003; Mal and Harter, 2003; Mal et al., 2001). This suggests that MYOD acts as a negative regulator of gene transcription in the myoblast, and muscle differentiation is initiated when MYOD switches from its association with repressive factors to activating factors (Silberstein et al., 1986; De Angelis et al., 1998; Li et al., 1992). Therefore, MYOD is involved in regulating the transcription of genes during myoblast development and differentiation.',\n",
       " 'MYOD is a master regulatory gene involved in skeletal muscle differentiation. It regulates this process by orchestrating the expression of skeletal muscle genes. (Summary)',\n",
       " 'MyoD is a transcriptional activator involved in muscle differentiation. It directly binds to the control region of muscle-specific genes, promoting myogenesis by activating its own transcription, creating an autoregulatory loop.',\n",
       " 'MyoD is involved in the process of converting fibroblasts to skeletal muscle cells, known as skeletal muscle differentiation. It does this by activating the skeletal muscle differentiation program and binding to and inducing histone modifications at tens of thousands of sites in the myoblast before the transcription of most skeletal muscle genes.',\n",
       " 'MYOD is involved in defining the myoblast state and positioning cells in muscle-forming regions of the body by activating the downstream muscle structural genes, primarily myogenin.']"
      ]
     },
     "execution_count": 59,
     "metadata": {},
     "output_type": "execute_result"
    }
   ],
   "source": [
    "reducedText"
   ]
  },
  {
   "cell_type": "code",
   "execution_count": null,
   "id": "b43fc7d5-4ca2-41c0-b787-5ec3d33bb012",
   "metadata": {},
   "outputs": [],
   "source": []
  },
  {
   "cell_type": "code",
   "execution_count": 51,
   "id": "0d2c88f0-d276-4baf-b11e-691b80a80dcb",
   "metadata": {},
   "outputs": [
    {
     "data": {
      "text/plain": [
       "'MyoD is involved in defining the myoblast state, positioning cells in muscle-forming regions, and receiving inhibitory signals from the environment. It primarily stabilizes the determined state via autoactivation. Myogenin, which is activated by MyoD, is used for actual activation of most muscle structural genes. MRM, which shares features with myogenin, may have a partially overlapping function with myogenin. The distinctions between their functions can blur under certain conditions.'"
      ]
     },
     "execution_count": 51,
     "metadata": {},
     "output_type": "execute_result"
    }
   ],
   "source": [
    "res.content.strip()"
   ]
  },
  {
   "cell_type": "code",
   "execution_count": 46,
   "id": "8e276351-1f80-4fb9-9d1b-4dfc52416423",
   "metadata": {},
   "outputs": [
    {
     "data": {
      "text/plain": [
       "ChatMessage(content=\" I'm just a computer program, so I don't have the ability to feel emotions like a human does. I'm here to help answer any questions you have to the best of my ability. Is there a specific topic you'd like to know more about?\", response_metadata={'role': 'assistant', 'content': \" I'm just a computer program, so I don't have the ability to feel emotions like a human does. I'm here to help answer any questions you have to the best of my ability. Is there a specific topic you'd like to know more about?\", 'token_usage': {'prompt_tokens': 14, 'total_tokens': 70, 'completion_tokens': 56}, 'model_name': 'mistralai/mistral-7b-instruct-v0.2'}, id='run-41ae1e56-16c0-42e8-a37e-e87909df9eb5-0', role='assistant')"
      ]
     },
     "execution_count": 46,
     "metadata": {},
     "output_type": "execute_result"
    }
   ],
   "source": [
    "prompt = PROMPT.format(text='YY', user_query='XX')\n",
    "llm.invoke(input=prompt)"
   ]
  },
  {
   "cell_type": "code",
   "execution_count": 44,
   "id": "289ec2a3-52e7-40b8-ace5-d38f0a536ed1",
   "metadata": {},
   "outputs": [
    {
     "name": "stdout",
     "output_type": "stream",
     "text": [
      "**INSTRUCTIONS**\n",
      "You are an assistant responsible for compressing the important information in a document.\n",
      "You will be given a users query and a piece of text. Summarize the text to contain only the information\n",
      "relevant to answering the users question. If no information is in the text is related, return None in the\n",
      "summary section.\n",
      "\n",
      "**USER QUERY**\n",
      "XX\n",
      "\n",
      "**TEXT**\n",
      "YY\n",
      "\n",
      "**OUTPUT**\n",
      "Summary: <output here>\n",
      "\n"
     ]
    }
   ],
   "source": [
    "prompt = PROMPT.format(text='YY', user_query='XX')\n",
    "print(prompt)"
   ]
  },
  {
   "cell_type": "code",
   "execution_count": null,
   "id": "e749d290-490f-4168-b653-6a563de46df5",
   "metadata": {},
   "outputs": [],
   "source": []
  },
  {
   "cell_type": "code",
   "execution_count": 32,
   "id": "8bd3f090-ef37-43ef-a689-0a7adf0ee19c",
   "metadata": {},
   "outputs": [
    {
     "ename": "AttributeError",
     "evalue": "'tuple' object has no attribute 'page_content'",
     "output_type": "error",
     "traceback": [
      "\u001b[0;31m---------------------------------------------------------------------------\u001b[0m",
      "\u001b[0;31mAttributeError\u001b[0m                            Traceback (most recent call last)",
      "Cell \u001b[0;32mIn[32], line 1\u001b[0m\n\u001b[0;32m----> 1\u001b[0m \u001b[43mdoc\u001b[49m\u001b[38;5;241;43m.\u001b[39;49m\u001b[43mpage_content\u001b[49m\n",
      "\u001b[0;31mAttributeError\u001b[0m: 'tuple' object has no attribute 'page_content'"
     ]
    }
   ],
   "source": [
    "doc.page_content"
   ]
  },
  {
   "cell_type": "code",
   "execution_count": 34,
   "id": "31785321-0bff-41d2-ae7d-e6a7c9cb55f3",
   "metadata": {},
   "outputs": [
    {
     "data": {
      "text/plain": [
       "ChatNVIDIA(model='mistralai/mistral-7b-instruct-v0.2')"
      ]
     },
     "execution_count": 34,
     "metadata": {},
     "output_type": "execute_result"
    }
   ],
   "source": [
    "llm"
   ]
  },
  {
   "cell_type": "code",
   "execution_count": null,
   "id": "6626ec50-d68a-4edd-b8b7-49f0b78a3a45",
   "metadata": {},
   "outputs": [],
   "source": []
  },
  {
   "cell_type": "code",
   "execution_count": null,
   "id": "68e1d696-0e5c-47bc-867b-f88b96774a70",
   "metadata": {},
   "outputs": [],
   "source": []
  },
  {
   "cell_type": "code",
   "execution_count": 8,
   "id": "83fc58e0-916c-4a8a-a291-b8a1532fd352",
   "metadata": {},
   "outputs": [
    {
     "ename": "NameError",
     "evalue": "name 'pretty_print_docs' is not defined",
     "output_type": "error",
     "traceback": [
      "\u001b[0;31m---------------------------------------------------------------------------\u001b[0m",
      "\u001b[0;31mNameError\u001b[0m                                 Traceback (most recent call last)",
      "Cell \u001b[0;32mIn[8], line 8\u001b[0m\n\u001b[1;32m      5\u001b[0m compression_retriever \u001b[38;5;241m=\u001b[39m ContextualCompressionRetriever(base_compressor\u001b[38;5;241m=\u001b[39mcompressor, base_retriever\u001b[38;5;241m=\u001b[39mretriever)\n\u001b[1;32m      7\u001b[0m compressed_docs \u001b[38;5;241m=\u001b[39m compression_retriever\u001b[38;5;241m.\u001b[39mget_relevant_documents(query\u001b[38;5;241m=\u001b[39m\u001b[38;5;124m'\u001b[39m\u001b[38;5;124mWhat cellular processes is MYOD involved in?\u001b[39m\u001b[38;5;124m'\u001b[39m)\n\u001b[0;32m----> 8\u001b[0m \u001b[43mpretty_print_docs\u001b[49m(compressed_docs)\n",
      "\u001b[0;31mNameError\u001b[0m: name 'pretty_print_docs' is not defined"
     ]
    }
   ],
   "source": [
    "from langchain.retrievers import ContextualCompressionRetriever\n",
    "from langchain.retrievers.document_compressors import LLMChainExtractor\n",
    "retriever = vectordb.as_retriever()\n",
    "compressor = LLMChainExtractor.from_llm(llm)\n",
    "compression_retriever = ContextualCompressionRetriever(base_compressor=compressor, base_retriever=retriever)\n",
    "\n",
    "compressed_docs = compression_retriever.get_relevant_documents(query='What cellular processes is MYOD involved in?')\n",
    "pretty_print_docs(compressed_docs)"
   ]
  },
  {
   "cell_type": "code",
   "execution_count": 10,
   "id": "23255eff-ef3a-46ed-82a3-310638e46c49",
   "metadata": {},
   "outputs": [
    {
     "name": "stdout",
     "output_type": "stream",
     "text": [
      "Document 1:\n",
      "Myod initiates the myogenic differentiation program and is involved in regulating its own activity through a feed-forward mechanism. (Context: a combination of promoter-specific regulation of Myod binding and activity. Because Myod initiates the myogenic differentiation program and that program temporally regulates the activity of Myod, it follows that Myod programs the regulation of its own activity. It does this, at least in part, through a feed-forward mechanism.)\n",
      "----------------------------------------------------------------------------------------------------\n",
      "Document 2:\n",
      "transcription and Myod protein activity (Kopan et al., 1994; Nofziger et al., 1999)\n",
      "Myod expression and activity leads to changes in gene expression during skeletal muscle differentiation (Delgado et al., 2003; Tomczak et al., 2004)\n",
      "----------------------------------------------------------------------------------------------------\n",
      "Document 3:\n",
      "MyoD is involved in the regulation of myogenin as well as its own transcription. Myogenin can also activate MyoD and itself. MEF2 is a downstream muscle transcription factor involved in the activation of myogenin.\n",
      "----------------------------------------------------------------------------------------------------\n",
      "Document 4:\n",
      "The members of the MyoD family of myogenic transcriptional regulators, including MyoD, have the property of converting different cell types into muscle when expressed from a constitutive promoter (Weintraub, 1993). MyoD and Myf-5 are important in myogenesis, but mice with homogenous gene-targeted mutations in either MyoD or Myf-5 produce fairly normal amounts of muscle (Rudnicki et al., 1992; Braun et al., 1992). The paradox of the large role of MyoD in converting cells into muscle but normal muscle production in knockout mice was recently resolved by showing that in the double homoygous mutants, both MyoD and Myfd are involved in the process.\n",
      "\n",
      "Relevant context: \"The members of the MyoD family of myogenic transcriptional regulators... have the property of converting different cell types into muscle... In contrast, mice with homoezygous gene-targeted mutations in either MyoD or Myf-5 produce fairly normal amounts of muscle... This paradox has now been resolved... in the double homoezygous mutants, both MyoD and Myfd are involved in the process.\"\n"
     ]
    }
   ],
   "source": [
    "pretty_print_docs(compressed_docs)"
   ]
  },
  {
   "cell_type": "code",
   "execution_count": 9,
   "id": "8857087f-7ae5-45c3-86ca-efd5be95abca",
   "metadata": {},
   "outputs": [],
   "source": [
    "def pretty_print_docs(docs):\n",
    "    print(f\"\\n{'-' * 100}\\n\".join([f\"Document {i+1}:\\n\" + d.page_content for i, d in enumerate(docs)]))"
   ]
  }
 ],
 "metadata": {
  "kernelspec": {
   "display_name": "Python 3 (ipykernel)",
   "language": "python",
   "name": "python3"
  },
  "language_info": {
   "codemirror_mode": {
    "name": "ipython",
    "version": 3
   },
   "file_extension": ".py",
   "mimetype": "text/x-python",
   "name": "python",
   "nbconvert_exporter": "python",
   "pygments_lexer": "ipython3",
   "version": "3.11.7"
  }
 },
 "nbformat": 4,
 "nbformat_minor": 5
}
