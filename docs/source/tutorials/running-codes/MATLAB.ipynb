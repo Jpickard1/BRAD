{
 "cells": [
  {
   "cell_type": "markdown",
   "id": "fc244dc8-c513-454a-8eb0-0390c6ad5db2",
   "metadata": {},
   "source": [
    "# Running MATLAB Functions and Scripts\n",
    "\n",
    "Running MATLAB codes is fairly straight forward. BRAD uses the python [`matlab.engine`](https://pypi.org/project/matlabengine/) module to execute scripts or functions. This allows any matlab function or script to be exected from a python envrionment.\n",
    "\n",
    "MATLAB scripts must be placed within the `matlab-path` directory within the configurations. Once the code is placed in the correct location, BRAD follows the following proceedure to execute a script:\n",
    "1. identify the most likely function based upon the user prompt\n",
    "2. read the documentation and function handle for the prompt\n",
    "3. use a LLM to take the prompt and documentation to construct an appropriate function call\n",
    "4. execute the matlab script"
   ]
  },
  {
   "cell_type": "code",
   "execution_count": 1,
   "id": "8a9edcf0-2da6-456c-b75b-4148657654d0",
   "metadata": {},
   "outputs": [
    {
     "name": "stdout",
     "output_type": "stream",
     "text": [
      "Welcome to RAG! The chat log from this conversation will be saved to /home/jpic/BRAD/2024-06-14-15:28:37.180033.json. How can I help?\n"
     ]
    },
    {
     "name": "stdin",
     "output_type": "stream",
     "text": [
      "Enter your NVIDIA API key:  ········\n"
     ]
    },
    {
     "name": "stdout",
     "output_type": "stream",
     "text": [
      "\n",
      "Would you like to use a database with BRAD [Y/N]?\n"
     ]
    },
    {
     "name": "stdin",
     "output_type": "stream",
     "text": [
      " N\n"
     ]
    },
    {
     "name": "stderr",
     "output_type": "stream",
     "text": [
      "Fri 14 Jun 2024 03:28:52 PM EDT INFO local\n"
     ]
    },
    {
     "name": "stdout",
     "output_type": "stream",
     "text": [
      "==================================================\n"
     ]
    },
    {
     "name": "stdin",
     "output_type": "stream",
     "text": [
      "Input >>  /force MATLAB say hello world from matlab\n"
     ]
    },
    {
     "name": "stdout",
     "output_type": "stream",
     "text": [
      "==================================================\n",
      "RAG >> 1: Matlab Caller Start\n"
     ]
    },
    {
     "name": "stderr",
     "output_type": "stream",
     "text": [
      "huggingface/tokenizers: The current process just got forked, after parallelism has already been used. Disabling parallelism to avoid deadlocks...\n",
      "To disable this warning, you can either:\n",
      "\t- Avoid using `tokenizers` before the fork if possible\n",
      "\t- Explicitly set the environment variable TOKENIZERS_PARALLELISM=(true | false)\n"
     ]
    },
    {
     "name": "stdout",
     "output_type": "stream",
     "text": [
      "Hello World! This message is generated from BRAD running the helloWorldMATLAB function!\n",
      "Debug: MATLAB code executed successfully.\n",
      "==================================================\n"
     ]
    },
    {
     "name": "stdin",
     "output_type": "stream",
     "text": [
      "Input >>  exit\n"
     ]
    },
    {
     "name": "stdout",
     "output_type": "stream",
     "text": [
      "Thanks for chatting today! I hope to talk soon, and don't forget that a record of this conversation is available at: /home/jpic/BRAD/2024-06-14-15:28:37.180033.json\n"
     ]
    }
   ],
   "source": [
    "from BRAD import brad\n",
    "brad.chat()\n",
    "# /force MATLAB run my matlabPipeline: NewPipeline with singleCell data file: data.csv\n",
    "# /force MATLAB say hello world from matlab"
   ]
  },
  {
   "cell_type": "markdown",
   "id": "533a699f-8429-4340-bb01-7f0d0dcdb0a9",
   "metadata": {},
   "source": [
    "# MATLAB Pipelines"
   ]
  },
  {
   "cell_type": "markdown",
   "id": "ab7c40e0-a990-4b2b-9fc3-bd12eb88ef21",
   "metadata": {},
   "source": [
    "## Biopipeline Designer"
   ]
  },
  {
   "cell_type": "markdown",
   "id": "57586131-b4f1-4b4b-8926-44c506262137",
   "metadata": {},
   "source": [
    "### Quality Control Pipeline"
   ]
  },
  {
   "cell_type": "code",
   "execution_count": 5,
   "id": "65f42538-4e33-468f-9d32-d5b4f3adb6c3",
   "metadata": {},
   "outputs": [
    {
     "name": "stdout",
     "output_type": "stream",
     "text": [
      "Welcome to RAG! The chat log from this conversation will be saved to /home/jpic/BRAD/2024-06-14-15:31:48.690792.json. How can I help?\n",
      "\n",
      "Would you like to use a database with BRAD [Y/N]?\n"
     ]
    },
    {
     "name": "stdin",
     "output_type": "stream",
     "text": [
      " N\n"
     ]
    },
    {
     "name": "stderr",
     "output_type": "stream",
     "text": [
      "Fri 14 Jun 2024 03:31:50 PM EDT INFO local\n"
     ]
    },
    {
     "name": "stdout",
     "output_type": "stream",
     "text": [
      "==================================================\n"
     ]
    },
    {
     "name": "stdin",
     "output_type": "stream",
     "text": [
      "Input >>  /force MATLAB run the quality control pipeline with the file SRR005164_1_50.fastq\n"
     ]
    },
    {
     "name": "stdout",
     "output_type": "stream",
     "text": [
      "==================================================\n",
      "RAG >> 1: Matlab Caller Start\n"
     ]
    },
    {
     "name": "stderr",
     "output_type": "stream",
     "text": [
      "huggingface/tokenizers: The current process just got forked, after parallelism has already been used. Disabling parallelism to avoid deadlocks...\n",
      "To disable this warning, you can either:\n",
      "\t- Avoid using `tokenizers` before the fork if possible\n",
      "\t- Explicitly set the environment variable TOKENIZERS_PARALLELISM=(true | false)\n"
     ]
    },
    {
     "name": "stdout",
     "output_type": "stream",
     "text": [
      "Running QC Pipeline\n",
      "FileName=\n",
      "SRR005164\\_1\\_50.fastq\n",
      "    1. Building the pipeline\n"
     ]
    },
    {
     "name": "stderr",
     "output_type": "stream",
     "text": [
      "Error using bioinfo.pipeline.block.FileChooser/set.Files\n",
      "Invalid input files. Relative file paths are not allowed. Specify full file paths.\n",
      "\n",
      "Error in bioinfo.pipeline.block.FileChooser (line 108)\n",
      "            obj.Files = Files;\n",
      "\n",
      "Error in qualityControl (line 34)\n",
      "    fastqfile = bioinfo.pipeline.blocks.FileChooser(which(fileName));\n",
      "\n"
     ]
    },
    {
     "name": "stdout",
     "output_type": "stream",
     "text": [
      "Debug: An error occurred during MATLAB code execution: \n",
      "  File /sw/pkgs/arc/matlab/R2023b/toolbox/bioinfo/pipeline/+bioinfo/+pipeline/+block/FileChooser.m, line 281, in FileChooser.set.Files\n",
      "\n",
      "  File /sw/pkgs/arc/matlab/R2023b/toolbox/bioinfo/pipeline/+bioinfo/+pipeline/+block/FileChooser.m, line 108, in FileChooser.FileChooser\n",
      "\n",
      "  File /home/jpic/RAG-DEV/tutorials/running-codes/matlab/qualityControl.m, line 34, in qualityControl\n",
      "Invalid input files. Relative file paths are not allowed. Specify full file paths.\n",
      "\n",
      "==================================================\n"
     ]
    },
    {
     "name": "stdin",
     "output_type": "stream",
     "text": [
      "Input >>  /force MATLAB run the quality control pipeline with the file SRR005164_1_50.fastq\n"
     ]
    },
    {
     "name": "stdout",
     "output_type": "stream",
     "text": [
      "==================================================\n",
      "RAG >> 2: Matlab Caller Start\n",
      "Running QC Pipeline\n",
      "FileName=\n",
      "SRR005164_1_50.fastq\n",
      "    1. Building the pipeline\n",
      "    2. Pipeline Built!\n",
      "    3. Running Pipeline\n",
      "Finished Running QC Pipeline\n",
      "Debug: MATLAB code executed successfully.\n",
      "==================================================\n"
     ]
    },
    {
     "name": "stdin",
     "output_type": "stream",
     "text": [
      "Input >>  q\n"
     ]
    },
    {
     "name": "stdout",
     "output_type": "stream",
     "text": [
      "Thanks for chatting today! I hope to talk soon, and don't forget that a record of this conversation is available at: /home/jpic/BRAD/2024-06-14-15:31:48.690792.json\n"
     ]
    }
   ],
   "source": [
    "from BRAD import brad\n",
    "brad.chat()\n",
    "# /force MATLAB run the quality control pipeline with the file SRR005164_1_50.fastq"
   ]
  }
 ],
 "metadata": {
  "kernelspec": {
   "display_name": "Python 3 (ipykernel)",
   "language": "python",
   "name": "python3"
  },
  "language_info": {
   "codemirror_mode": {
    "name": "ipython",
    "version": 3
   },
   "file_extension": ".py",
   "mimetype": "text/x-python",
   "name": "python",
   "nbconvert_exporter": "python",
   "pygments_lexer": "ipython3",
   "version": "3.11.7"
  }
 },
 "nbformat": 4,
 "nbformat_minor": 5
}
