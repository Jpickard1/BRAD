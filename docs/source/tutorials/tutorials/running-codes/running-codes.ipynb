{
 "cells": [
  {
   "cell_type": "markdown",
   "id": "02006a61-ec4d-4d96-b78f-cb605f0e07c1",
   "metadata": {},
   "source": [
    "# Running Codes with BRAD"
   ]
  },
  {
   "cell_type": "markdown",
   "id": "44cb32fa-51a2-44ac-8b28-64de8a5c7a50",
   "metadata": {},
   "source": [
    "# Python Codes"
   ]
  },
  {
   "cell_type": "markdown",
   "id": "4b683dff-4fe0-4848-ba93-a1c135e9850e",
   "metadata": {},
   "source": [
    "## Seaborn Implementation"
   ]
  },
  {
   "cell_type": "markdown",
   "id": "9e919de5-94b6-48ed-a73d-ec89f41fd6cd",
   "metadata": {},
   "source": [
    "## How to add new codes"
   ]
  },
  {
   "cell_type": "markdown",
   "id": "817a6bfd-0c33-43ba-a9bf-e2bd2c20aad0",
   "metadata": {},
   "source": [
    "# Snakemake Pipelines"
   ]
  },
  {
   "cell_type": "markdown",
   "id": "35a0d6f3-930b-4d98-b648-d85f32705f51",
   "metadata": {},
   "source": [
    "# MATLAB Codes and Pipelines\n",
    "\n",
    "This code will inforce:\n",
    "1. the user must enter the name of a matlab file/script to run that is found within the correct matlab directory"
   ]
  },
  {
   "cell_type": "code",
   "execution_count": 77,
   "id": "e35cfd25-a2f6-4b1d-a2c8-9ffdd89659ce",
   "metadata": {},
   "outputs": [],
   "source": [
    "from langchain import PromptTemplate, LLMChain\n",
    "from langchain.memory import ConversationBufferMemory\n",
    "from langchain.chains import ConversationChain\n",
    "memory = ConversationBufferMemory(ai_prefix=\"BRAD\")"
   ]
  },
  {
   "cell_type": "code",
   "execution_count": 67,
   "id": "e9272cda-e04d-4f10-9950-40a654a12fed",
   "metadata": {},
   "outputs": [
    {
     "name": "stdin",
     "output_type": "stream",
     "text": [
      "Enter your NVIDIA API key:  ········\n"
     ]
    }
   ],
   "source": [
    "from BRAD import llms\n",
    "llm = llms.load_nvidia(nvidia_model='meta/llama3-70b-instruct')"
   ]
  },
  {
   "cell_type": "code",
   "execution_count": 68,
   "id": "6828f2f9-b82f-4326-b089-b3d58ce30a20",
   "metadata": {},
   "outputs": [],
   "source": [
    "import os\n",
    "import glob\n",
    "import matlab.engine\n",
    "chatstatus = {\n",
    "    'prompt' : 'run the eigs command',\n",
    "    'matlabEng': None,\n",
    "    'matlab-path':'/home/jpic/RAG-DEV/tutorials/running-codes/matlab/',\n",
    "    'memory' : ConversationBufferMemory(ai_prefix=\"BRAD\"),\n",
    "    'llm'    : llm\n",
    "}"
   ]
  },
  {
   "cell_type": "code",
   "execution_count": 69,
   "id": "41d513b1-010a-4541-a864-49ab6611aea1",
   "metadata": {},
   "outputs": [],
   "source": [
    "def find_matlab_files(path):\n",
    "\n",
    "    # Construct the search pattern for .m files\n",
    "    search_pattern = os.path.join(path, '**', '*.m')\n",
    "    \n",
    "    # Find all .m files recursively\n",
    "    matlab_files = glob.glob(search_pattern, recursive=True)\n",
    "\n",
    "    # Extract only the file names from the full paths\n",
    "    file_names = [os.path.basename(file)[:-2] for file in matlab_files]\n",
    "    \n",
    "    return file_names\n",
    "\n",
    "def find_closest_function(query, functions):\n",
    "    # Find the closest matches to the query in the list of functions\n",
    "    closest_matches = difflib.get_close_matches(query, functions, n=1, cutoff=0.0)\n",
    "    \n",
    "    if closest_matches:\n",
    "        return closest_matches[0]\n",
    "    else:\n",
    "        return None\n",
    "\n",
    "def read_matlab_docstrings(file_path):\n",
    "    docstrings = []\n",
    "    first = True\n",
    "    with open(file_path, 'r') as file:\n",
    "        for line in file:\n",
    "            # print(line)\n",
    "            stripped_line = line.strip()\n",
    "            if stripped_line.startswith('%') or first:\n",
    "                # Remove the '%' character and any leading/trailing whitespace\n",
    "#                docstring = stripped_line[1:].strip()\n",
    "                docstrings.append(stripped_line)\n",
    "                first = False\n",
    "            else:\n",
    "                # Stop reading if we encounter a line that doesn't start with '%'\n",
    "                # assuming docstrings are at the beginning of the file\n",
    "                break\n",
    "    return \"\\n\".join(docstrings)\n"
   ]
  },
  {
   "cell_type": "code",
   "execution_count": 73,
   "id": "40af6ef5-f6de-4719-9218-5a8b00730ccc",
   "metadata": {},
   "outputs": [],
   "source": [
    "def callMatlab(chatstatus):\n",
    "    prompt = chatstatus['prompt']                                        # Get the user prompt\n",
    "    chatstatus['process'] = {}                                           # Begin saving plotting arguments\n",
    "    chatstatus['process']['name'] = 'Matlab'\n",
    "\n",
    "    # Add matlab files to the path\n",
    "    if chatstatus['matlab-path'] == 'matlab-tutorial/':\n",
    "        matlabPath = chatstatus['matlab-path']\n",
    "    else:\n",
    "        base_dir = os.path.expanduser('~')\n",
    "        matlabPath = os.path.join(base_dir, chatstatus['matlab-path'])\n",
    "    mpath = eng.addpath(eng.genpath(matlabPath))\n",
    "\n",
    "    # Identify matlab files we are adding to the path of BRAD\n",
    "    matlabFunctions = find_matlab_files(matlabPath)\n",
    "\n",
    "    # Identify which file we should use\n",
    "    matlabFunction = find_closest_function(prompt, matlabFunctions)\n",
    "\n",
    "    # Identify matlab arguments\n",
    "    matlabFunctionPath = os.path.join(matlabPath, matlabFunction + '.m')\n",
    "\n",
    "    # Get matlab docstrings\n",
    "    matlabDocStrings = read_matlab_docstrings(matlabFunctionPath)\n",
    "\n",
    "    # Turn on matlab engine just before running the code\n",
    "    if chatstatus['matlabEng'] is None:\n",
    "        chatstatus['matlabEng'] = matlab.engine.start_matlab()\n",
    "    \n",
    "    return matlabDocStrings\n",
    "    \n",
    "matlabDocStrings = callMatlab(chatstatus)"
   ]
  },
  {
   "cell_type": "code",
   "execution_count": 91,
   "id": "11b04ca5-d223-4e3b-b5be-7ffc0e4975b2",
   "metadata": {},
   "outputs": [],
   "source": [
    "# Identify the database and the search terms\n",
    "template = \"\"\"Current conversation:\\n{{history}}\n",
    "\n",
    "MATLAB FUNCTION DOCUMENTATION:\n",
    "{matlabDocumentation}\n",
    "\n",
    "CALL MATLAB FUNCTIONS FROM PYTHON:\n",
    "Use MATLAB® Engine API for Python® to call any MATLAB function on the MATLAB path. Some examples to call a few common matlab functions include:\n",
    "\n",
    "To call the matlab function myFnc which has no arguments:\n",
    "```\n",
    "eng.myFnc()\n",
    "```\n",
    "\n",
    "To add to the matlab path:\n",
    "```\n",
    "eng.addpath(\"C:/work/myfiles\")\n",
    "```\n",
    "\n",
    "To add a path to all subfolders:\n",
    "```\n",
    "s = eng.genpath('C:/work/myfiles')\n",
    "eng.addpath(s, nargout=0)\n",
    "```\n",
    "\n",
    "To use the is prime function which requires an input argument:\n",
    "```\n",
    "tf = eng.isprime(37)\n",
    "```\n",
    "\n",
    "To determine the greatest common denominator of two numbers, use the gcd function. Set nargout to return the three output arguments from gcd.\n",
    "```\n",
    "t = eng.gcd(100.0,80.0,nargout=3)\n",
    "```\n",
    "\n",
    "Query:{{input}}\n",
    "\n",
    "**INSTRUCTIONS**\n",
    "1. Given the user query and the documentation, identify each of the arguments found in the users query that should be passed to the matlab function.\n",
    "2. Using the matlab enging eng, provide the one line of code to execute the desired matlab commands. Assume all functions are added to the path and eng already exist.\n",
    "3. The last line of your response should say \"Execute: <Python codes we need to execute>\"\n",
    "\"\"\"\n",
    "chatstatus['prompt'] = 'run my matlabPipeline: NewPipeline with singleCell data file: data.csv'\n",
    "matlabDocStrings = callMatlab(chatstatus)\n",
    "filled_template = template.format(matlabDocumentation=matlabDocStrings) #, history=None, input=None)\n",
    "PROMPT = PromptTemplate(input_variables=[\"history\", \"input\"], template=filled_template)\n",
    "\n",
    "conversation = ConversationChain(prompt  = PROMPT,\n",
    "                                 llm     =    llm,\n",
    "                                 verbose =   True,\n",
    "                                 memory  = memory,\n",
    "                                )"
   ]
  },
  {
   "cell_type": "code",
   "execution_count": 88,
   "id": "f2937d82-d1a7-45f1-a2bf-b8d3673868c8",
   "metadata": {},
   "outputs": [
    {
     "name": "stdout",
     "output_type": "stream",
     "text": [
      "\n",
      "\n",
      "\u001b[1m> Entering new ConversationChain chain...\u001b[0m\n",
      "Prompt after formatting:\n",
      "\u001b[32;1m\u001b[1;3mCurrent conversation:\n",
      "Human: run my matlab pipeline: NewPipeline with singleCell data file: data.csv\n",
      "BRAD: Let's break down the user query:\n",
      "\n",
      "\"run my matlab pipeline: NewPipeline with singleCell data file: data.csv\"\n",
      "\n",
      "From the query, we can identify the following arguments:\n",
      "\n",
      "* `NewPipeline`: This is likely the MATLAB function to be called, equivalent to `AFUN` in the `eigs` documentation.\n",
      "* `data.csv`: This is the singleCell data file, which will be used as an input to the `NewPipeline` function.\n",
      "\n",
      "To execute the desired MATLAB command using the `eng` object, we can write:\n",
      "```\n",
      "eng.NewPipeline('data.csv')\n",
      "```\n",
      "This assumes that `NewPipeline` is a valid MATLAB function that takes a single input argument, which is the file name `data.csv`.\n",
      "Human: run my matlabPipeline: NewPipeline with singleCell data file: data.csv\n",
      "BRAD: Let's break down the user query:\n",
      "\n",
      "\"run my matlab pipeline: NewPipeline with singleCell data file: data.csv\"\n",
      "\n",
      "From the query, we can identify the following arguments:\n",
      "\n",
      "* `NewPipeline`: This is likely the MATLAB function to be called.\n",
      "* `data.csv`: This is the singleCell data file, which will be used as an input to the `NewPipeline` function.\n",
      "\n",
      "To execute the desired MATLAB command using the `eng` object, we can write:\n",
      "```\n",
      "eng.NewPipeline('data.csv')\n",
      "```\n",
      "This assumes that `NewPipeline` is a valid MATLAB function that takes a single input argument, which is the file name `data.csv`.\n",
      "Human: run my matlabPipeline: NewPipeline with singleCell data file: data.csv\n",
      "BRAD: Based on the user query and the documentation, the arguments that should be passed to the MATLAB function `NewPipeline` are:\n",
      "\n",
      "* `data.csv`: This is the singleCell data file, which will be used as an input to the `NewPipeline` function.\n",
      "\n",
      "To execute the desired MATLAB command using the `eng` object, we can write:\n",
      "```\n",
      "eng.NewPipeline('data.csv')\n",
      "```\n",
      "This assumes that `NewPipeline` is a valid MATLAB function that takes a single input argument, which is the file name `data.csv`.\n",
      "\n",
      "MATLAB FUNCTION DOCUMENTATION:\n",
      "function matlabPipeline(pipelineName, scPath)\n",
      "% matlabPipeline - A sample function to demonstrate argument handling\n",
      "%\n",
      "% Syntax: matlabPipeline(pipelineName, scPath)\n",
      "%\n",
      "% Inputs:\n",
      "%    pipelineName - name of the pipeline we are running\n",
      "%    scPath - path to single cell data file\n",
      "%\n",
      "% Outputs:\n",
      "%    None\n",
      "%\n",
      "% Example:\n",
      "%    matlabPipeline(10, 'example', [1, 2, 3])\n",
      "%    This example will print the inputs: 10, 'example', and [1, 2, 3]\n",
      "%\n",
      "% Other m-files required: none\n",
      "% Subfunctions: none\n",
      "% MAT-files required: none\n",
      "%\n",
      "% Author: Joshua Pickard\n",
      "% Email: jpic@umich.edu\n",
      "\n",
      "CALL MATLAB FUNCTIONS FROM PYTHON:\n",
      "Use MATLAB® Engine API for Python® to call any MATLAB function on the MATLAB path. Some examples to call a few common matlab functions include:\n",
      "\n",
      "To call the matlab function myFnc which has no arguments:\n",
      "```\n",
      "eng.myFnc()\n",
      "```\n",
      "\n",
      "To add to the matlab path:\n",
      "```\n",
      "eng.addpath(\"C:/work/myfiles\")\n",
      "```\n",
      "\n",
      "To add a path to all subfolders:\n",
      "```\n",
      "s = eng.genpath('C:/work/myfiles')\n",
      "eng.addpath(s, nargout=0)\n",
      "```\n",
      "\n",
      "To use the is prime function which requires an input argument:\n",
      "```\n",
      "tf = eng.isprime(37)\n",
      "```\n",
      "\n",
      "To determine the greatest common denominator of two numbers, use the gcd function. Set nargout to return the three output arguments from gcd.\n",
      "```\n",
      "t = eng.gcd(100.0,80.0,nargout=3)\n",
      "```\n",
      "\n",
      "Query:run my matlabPipeline: NewPipeline with singleCell data file: data.csv\n",
      "\n",
      "**INSTRUCTIONS**\n",
      "1. Given the user query and the documentation, identify each of the arguments found in the users query that should be passed to the matlab function.\n",
      "2. Using the matlab enging eng, provide the one line of code to execute the desired matlab commands. Assume all functions are added to the path and eng already exist.\n",
      "\u001b[0m\n",
      "\n",
      "\u001b[1m> Finished chain.\u001b[0m\n",
      "Let's break down the user query:\n",
      "\n",
      "\"run my matlabPipeline: NewPipeline with singleCell data file: data.csv\"\n",
      "\n",
      "From the query, we can identify the following arguments:\n",
      "\n",
      "* `NewPipeline`: This is the pipelineName argument, which is the name of the pipeline we are running.\n",
      "* `data.csv`: This is the scPath argument, which is the path to the single cell data file.\n",
      "\n",
      "To execute the desired MATLAB command using the `eng` object, we can write:\n",
      "```\n",
      "eng.matlabPipeline('NewPipeline', 'data.csv')\n",
      "```\n",
      "This assumes that `matlabPipeline` is a valid MATLAB function that takes two input arguments, `pipelineName` and `scPath`.\n"
     ]
    }
   ],
   "source": [
    "response = conversation.predict(input=chatstatus['prompt'] )\n",
    "print(response)"
   ]
  },
  {
   "cell_type": "code",
   "execution_count": 89,
   "id": "249d5622-9b3a-4419-9d77-26a9d46fe12e",
   "metadata": {},
   "outputs": [
    {
     "name": "stdout",
     "output_type": "stream",
     "text": [
      "Let's break down the user query:\n",
      "\n",
      "\"run my matlabPipeline: NewPipeline with singleCell data file: data.csv\"\n",
      "\n",
      "From the query, we can identify the following arguments:\n",
      "\n",
      "* `NewPipeline`: This is the pipelineName argument, which is the name of the pipeline we are running.\n",
      "* `data.csv`: This is the scPath argument, which is the path to the single cell data file.\n",
      "\n",
      "To execute the desired MATLAB command using the `eng` object, we can write:\n",
      "```\n",
      "eng.matlabPipeline('NewPipeline', 'data.csv')\n",
      "```\n",
      "This assumes that `matlabPipeline` is a valid MATLAB function that takes two input arguments, `pipelineName` and `scPath`.\n"
     ]
    }
   ],
   "source": [
    "print(response)"
   ]
  },
  {
   "cell_type": "code",
   "execution_count": 92,
   "id": "7ff50e38-c826-467b-b9d3-b57b51eb2f23",
   "metadata": {},
   "outputs": [
    {
     "name": "stdout",
     "output_type": "stream",
     "text": [
      "\n",
      "\n",
      "\u001b[1m> Entering new ConversationChain chain...\u001b[0m\n",
      "Prompt after formatting:\n",
      "\u001b[32;1m\u001b[1;3mCurrent conversation:\n",
      "Human: run my matlab pipeline: NewPipeline with singleCell data file: data.csv\n",
      "BRAD: Let's break down the user query:\n",
      "\n",
      "\"run my matlab pipeline: NewPipeline with singleCell data file: data.csv\"\n",
      "\n",
      "From the query, we can identify the following arguments:\n",
      "\n",
      "* `NewPipeline`: This is likely the MATLAB function to be called, equivalent to `AFUN` in the `eigs` documentation.\n",
      "* `data.csv`: This is the singleCell data file, which will be used as an input to the `NewPipeline` function.\n",
      "\n",
      "To execute the desired MATLAB command using the `eng` object, we can write:\n",
      "```\n",
      "eng.NewPipeline('data.csv')\n",
      "```\n",
      "This assumes that `NewPipeline` is a valid MATLAB function that takes a single input argument, which is the file name `data.csv`.\n",
      "Human: run my matlabPipeline: NewPipeline with singleCell data file: data.csv\n",
      "BRAD: Let's break down the user query:\n",
      "\n",
      "\"run my matlab pipeline: NewPipeline with singleCell data file: data.csv\"\n",
      "\n",
      "From the query, we can identify the following arguments:\n",
      "\n",
      "* `NewPipeline`: This is likely the MATLAB function to be called.\n",
      "* `data.csv`: This is the singleCell data file, which will be used as an input to the `NewPipeline` function.\n",
      "\n",
      "To execute the desired MATLAB command using the `eng` object, we can write:\n",
      "```\n",
      "eng.NewPipeline('data.csv')\n",
      "```\n",
      "This assumes that `NewPipeline` is a valid MATLAB function that takes a single input argument, which is the file name `data.csv`.\n",
      "Human: run my matlabPipeline: NewPipeline with singleCell data file: data.csv\n",
      "BRAD: Based on the user query and the documentation, the arguments that should be passed to the MATLAB function `NewPipeline` are:\n",
      "\n",
      "* `data.csv`: This is the singleCell data file, which will be used as an input to the `NewPipeline` function.\n",
      "\n",
      "To execute the desired MATLAB command using the `eng` object, we can write:\n",
      "```\n",
      "eng.NewPipeline('data.csv')\n",
      "```\n",
      "This assumes that `NewPipeline` is a valid MATLAB function that takes a single input argument, which is the file name `data.csv`.\n",
      "Human: run my matlabPipeline: NewPipeline with singleCell data file: data.csv\n",
      "BRAD: Let's break down the user query:\n",
      "\n",
      "\"run my matlabPipeline: NewPipeline with singleCell data file: data.csv\"\n",
      "\n",
      "From the query, we can identify the following arguments:\n",
      "\n",
      "* `NewPipeline`: This is the pipelineName argument, which is the name of the pipeline we are running.\n",
      "* `data.csv`: This is the scPath argument, which is the path to the single cell data file.\n",
      "\n",
      "To execute the desired MATLAB command using the `eng` object, we can write:\n",
      "```\n",
      "eng.matlabPipeline('NewPipeline', 'data.csv')\n",
      "```\n",
      "This assumes that `matlabPipeline` is a valid MATLAB function that takes two input arguments, `pipelineName` and `scPath`.\n",
      "Human: run singleCellEnrichment with data.csv\n",
      "BRAD: Let's break down the user query:\n",
      "\n",
      "\"run singleCellEnrichment with data.csv\"\n",
      "\n",
      "From the query, we can identify the following arguments:\n",
      "\n",
      "* `singleCellEnrichment`: This is the pipelineName argument, which is the name of the pipeline we are running.\n",
      "* `data.csv`: This is the scPath argument, which is the path to the single cell data file.\n",
      "\n",
      "To execute the desired MATLAB command using the `eng` object, we can write:\n",
      "```\n",
      "eng.matlabPipeline('singleCellEnrichment', 'data.csv')\n",
      "```\n",
      "This assumes that `matlabPipeline` is a valid MATLAB function that takes two input arguments, `pipelineName` and `scPath`.\n",
      "\n",
      "MATLAB FUNCTION DOCUMENTATION:\n",
      "function matlabPipeline(pipelineName, scPath)\n",
      "% matlabPipeline - A sample function to demonstrate argument handling\n",
      "%\n",
      "% Syntax: matlabPipeline(pipelineName, scPath)\n",
      "%\n",
      "% Inputs:\n",
      "%    pipelineName - name of the pipeline we are running\n",
      "%    scPath - path to single cell data file\n",
      "%\n",
      "% Outputs:\n",
      "%    None\n",
      "%\n",
      "% Example:\n",
      "%    matlabPipeline(10, 'example', [1, 2, 3])\n",
      "%    This example will print the inputs: 10, 'example', and [1, 2, 3]\n",
      "%\n",
      "% Other m-files required: none\n",
      "% Subfunctions: none\n",
      "% MAT-files required: none\n",
      "%\n",
      "% Author: Joshua Pickard\n",
      "% Email: jpic@umich.edu\n",
      "\n",
      "CALL MATLAB FUNCTIONS FROM PYTHON:\n",
      "Use MATLAB® Engine API for Python® to call any MATLAB function on the MATLAB path. Some examples to call a few common matlab functions include:\n",
      "\n",
      "To call the matlab function myFnc which has no arguments:\n",
      "```\n",
      "eng.myFnc()\n",
      "```\n",
      "\n",
      "To add to the matlab path:\n",
      "```\n",
      "eng.addpath(\"C:/work/myfiles\")\n",
      "```\n",
      "\n",
      "To add a path to all subfolders:\n",
      "```\n",
      "s = eng.genpath('C:/work/myfiles')\n",
      "eng.addpath(s, nargout=0)\n",
      "```\n",
      "\n",
      "To use the is prime function which requires an input argument:\n",
      "```\n",
      "tf = eng.isprime(37)\n",
      "```\n",
      "\n",
      "To determine the greatest common denominator of two numbers, use the gcd function. Set nargout to return the three output arguments from gcd.\n",
      "```\n",
      "t = eng.gcd(100.0,80.0,nargout=3)\n",
      "```\n",
      "\n",
      "Query:run singleCellEnrichment with data.csv\n",
      "\n",
      "**INSTRUCTIONS**\n",
      "1. Given the user query and the documentation, identify each of the arguments found in the users query that should be passed to the matlab function.\n",
      "2. Using the matlab enging eng, provide the one line of code to execute the desired matlab commands. Assume all functions are added to the path and eng already exist.\n",
      "3. The last line of your response should say \"Execute: <Python codes we need to execute>\"\n",
      "\u001b[0m\n",
      "\n",
      "\u001b[1m> Finished chain.\u001b[0m\n",
      "Based on the user query and the documentation, the arguments that should be passed to the MATLAB function `matlabPipeline` are:\n",
      "\n",
      "* `singleCellEnrichment`: This is the `pipelineName` argument, which is the name of the pipeline we are running.\n",
      "* `data.csv`: This is the `scPath` argument, which is the path to the single cell data file.\n",
      "\n",
      "To execute the desired MATLAB command using the `eng` object, we can write:\n",
      "```\n",
      "eng.matlabPipeline('singleCellEnrichment', 'data.csv')\n",
      "```\n",
      "Execute: eng.matlabPipeline('singleCellEnrichment', 'data.csv')\n"
     ]
    }
   ],
   "source": [
    "chatstatus['prompt'] = 'run singleCellEnrichment with data.csv'\n",
    "response = conversation.predict(input=chatstatus['prompt'] )\n",
    "print(response)"
   ]
  },
  {
   "cell_type": "code",
   "execution_count": 98,
   "id": "f788b44c-0fbd-4455-b5ae-d5634d833cab",
   "metadata": {},
   "outputs": [
    {
     "name": "stderr",
     "output_type": "stream",
     "text": [
      "Error using matlabPipeline\n",
      "Too many output arguments.\n",
      "\n"
     ]
    },
    {
     "ename": "MatlabExecutionError",
     "evalue": "Too many output arguments.\n",
     "output_type": "error",
     "traceback": [
      "\u001b[0;31m---------------------------------------------------------------------------\u001b[0m",
      "\u001b[0;31mMatlabExecutionError\u001b[0m                      Traceback (most recent call last)",
      "Cell \u001b[0;32mIn[98], line 1\u001b[0m\n\u001b[0;32m----> 1\u001b[0m \u001b[38;5;28;43meval\u001b[39;49m\u001b[43m(\u001b[49m\u001b[43mresponse\u001b[49m\u001b[38;5;241;43m.\u001b[39;49m\u001b[43msplit\u001b[49m\u001b[43m(\u001b[49m\u001b[38;5;124;43m'\u001b[39;49m\u001b[38;5;130;43;01m\\n\u001b[39;49;00m\u001b[38;5;124;43m'\u001b[39;49m\u001b[43m)\u001b[49m\u001b[43m[\u001b[49m\u001b[38;5;241;43m-\u001b[39;49m\u001b[38;5;241;43m1\u001b[39;49m\u001b[43m]\u001b[49m\u001b[38;5;241;43m.\u001b[39;49m\u001b[43msplit\u001b[49m\u001b[43m(\u001b[49m\u001b[38;5;124;43m'\u001b[39;49m\u001b[38;5;124;43m: \u001b[39;49m\u001b[38;5;124;43m'\u001b[39;49m\u001b[43m)\u001b[49m\u001b[43m[\u001b[49m\u001b[38;5;241;43m1\u001b[39;49m\u001b[43m]\u001b[49m\u001b[43m)\u001b[49m\n",
      "File \u001b[0;32m<string>:1\u001b[0m\n",
      "File \u001b[0;32m~/.local/lib/python3.11/site-packages/matlab/engine/matlabengine.py:71\u001b[0m, in \u001b[0;36mMatlabFunc.__call__\u001b[0;34m(self, *args, **kwargs)\u001b[0m\n\u001b[1;32m     68\u001b[0m     \u001b[38;5;28;01mreturn\u001b[39;00m FutureResult(\u001b[38;5;28mself\u001b[39m\u001b[38;5;241m.\u001b[39m_engine(), future, nargs, _stdout, _stderr, feval\u001b[38;5;241m=\u001b[39m\u001b[38;5;28;01mTrue\u001b[39;00m)\n\u001b[1;32m     69\u001b[0m \u001b[38;5;28;01melse\u001b[39;00m:\n\u001b[1;32m     70\u001b[0m     \u001b[38;5;28;01mreturn\u001b[39;00m \u001b[43mFutureResult\u001b[49m\u001b[43m(\u001b[49m\u001b[38;5;28;43mself\u001b[39;49m\u001b[38;5;241;43m.\u001b[39;49m\u001b[43m_engine\u001b[49m\u001b[43m(\u001b[49m\u001b[43m)\u001b[49m\u001b[43m,\u001b[49m\u001b[43m \u001b[49m\u001b[43mfuture\u001b[49m\u001b[43m,\u001b[49m\u001b[43m \u001b[49m\u001b[43mnargs\u001b[49m\u001b[43m,\u001b[49m\u001b[43m \u001b[49m\u001b[43m_stdout\u001b[49m\u001b[43m,\u001b[49m\n\u001b[0;32m---> 71\u001b[0m \u001b[43m                        \u001b[49m\u001b[43m_stderr\u001b[49m\u001b[43m,\u001b[49m\u001b[43m \u001b[49m\u001b[43mfeval\u001b[49m\u001b[38;5;241;43m=\u001b[39;49m\u001b[38;5;28;43;01mTrue\u001b[39;49;00m\u001b[43m)\u001b[49m\u001b[38;5;241;43m.\u001b[39;49m\u001b[43mresult\u001b[49m\u001b[43m(\u001b[49m\u001b[43m)\u001b[49m\n",
      "File \u001b[0;32m~/.local/lib/python3.11/site-packages/matlab/engine/futureresult.py:67\u001b[0m, in \u001b[0;36mFutureResult.result\u001b[0;34m(self, timeout)\u001b[0m\n\u001b[1;32m     64\u001b[0m     \u001b[38;5;28;01mif\u001b[39;00m timeout \u001b[38;5;241m<\u001b[39m \u001b[38;5;241m0\u001b[39m:\n\u001b[1;32m     65\u001b[0m         \u001b[38;5;28;01mraise\u001b[39;00m \u001b[38;5;167;01mTypeError\u001b[39;00m(pythonengine\u001b[38;5;241m.\u001b[39mgetMessage(\u001b[38;5;124m'\u001b[39m\u001b[38;5;124mTimeoutCannotBeNegative\u001b[39m\u001b[38;5;124m'\u001b[39m))\n\u001b[0;32m---> 67\u001b[0m \u001b[38;5;28;01mreturn\u001b[39;00m \u001b[38;5;28;43mself\u001b[39;49m\u001b[38;5;241;43m.\u001b[39;49m\u001b[43m__future\u001b[49m\u001b[38;5;241;43m.\u001b[39;49m\u001b[43mresult\u001b[49m\u001b[43m(\u001b[49m\u001b[43mtimeout\u001b[49m\u001b[43m)\u001b[49m\n",
      "File \u001b[0;32m~/.local/lib/python3.11/site-packages/matlab/engine/fevalfuture.py:82\u001b[0m, in \u001b[0;36mFevalFuture.result\u001b[0;34m(self, timeout)\u001b[0m\n\u001b[1;32m     79\u001b[0m \u001b[38;5;28;01mif\u001b[39;00m \u001b[38;5;129;01mnot\u001b[39;00m result_ready:\n\u001b[1;32m     80\u001b[0m     \u001b[38;5;28;01mraise\u001b[39;00m \u001b[38;5;167;01mTimeoutError\u001b[39;00m(pythonengine\u001b[38;5;241m.\u001b[39mgetMessage(\u001b[38;5;124m'\u001b[39m\u001b[38;5;124mMatlabFunctionTimeout\u001b[39m\u001b[38;5;124m'\u001b[39m))\n\u001b[0;32m---> 82\u001b[0m \u001b[38;5;28mself\u001b[39m\u001b[38;5;241m.\u001b[39m_result \u001b[38;5;241m=\u001b[39m \u001b[43mpythonengine\u001b[49m\u001b[38;5;241;43m.\u001b[39;49m\u001b[43mgetFEvalResult\u001b[49m\u001b[43m(\u001b[49m\u001b[38;5;28;43mself\u001b[39;49m\u001b[38;5;241;43m.\u001b[39;49m\u001b[43m_future\u001b[49m\u001b[43m,\u001b[49m\u001b[38;5;28;43mself\u001b[39;49m\u001b[38;5;241;43m.\u001b[39;49m\u001b[43m_nargout\u001b[49m\u001b[43m,\u001b[49m\u001b[43m \u001b[49m\u001b[38;5;28;43;01mNone\u001b[39;49;00m\u001b[43m,\u001b[49m\u001b[43m \u001b[49m\u001b[43mout\u001b[49m\u001b[38;5;241;43m=\u001b[39;49m\u001b[38;5;28;43mself\u001b[39;49m\u001b[38;5;241;43m.\u001b[39;49m\u001b[43m_out\u001b[49m\u001b[43m,\u001b[49m\u001b[43m \u001b[49m\u001b[43merr\u001b[49m\u001b[38;5;241;43m=\u001b[39;49m\u001b[38;5;28;43mself\u001b[39;49m\u001b[38;5;241;43m.\u001b[39;49m\u001b[43m_err\u001b[49m\u001b[43m)\u001b[49m\n\u001b[1;32m     83\u001b[0m \u001b[38;5;28mself\u001b[39m\u001b[38;5;241m.\u001b[39m_retrieved \u001b[38;5;241m=\u001b[39m \u001b[38;5;28;01mTrue\u001b[39;00m\n\u001b[1;32m     84\u001b[0m \u001b[38;5;28;01mreturn\u001b[39;00m \u001b[38;5;28mself\u001b[39m\u001b[38;5;241m.\u001b[39m_result\n",
      "\u001b[0;31mMatlabExecutionError\u001b[0m: Too many output arguments.\n"
     ]
    }
   ],
   "source": [
    "eval(response.split('\\n')[-1].split(': ')[1])"
   ]
  },
  {
   "cell_type": "code",
   "execution_count": 104,
   "id": "c127f39c-83e4-4000-9f7f-485501934d61",
   "metadata": {},
   "outputs": [
    {
     "ename": "SyntaxError",
     "evalue": "invalid syntax (<string>, line 1)",
     "output_type": "error",
     "traceback": [
      "Traceback \u001b[0;36m(most recent call last)\u001b[0m:\n",
      "\u001b[0m  File \u001b[1;32m~/.local/lib/python3.11/site-packages/IPython/core/interactiveshell.py:3508\u001b[0m in \u001b[1;35mrun_code\u001b[0m\n    exec(code_obj, self.user_global_ns, self.user_ns)\u001b[0m\n",
      "\u001b[0;36m  Cell \u001b[0;32mIn[104], line 1\u001b[0;36m\n\u001b[0;31m    eval('xx = ' + response.split('\\n')[-1].split(': ')[1])\u001b[0;36m\n",
      "\u001b[0;36m  File \u001b[0;32m<string>:1\u001b[0;36m\u001b[0m\n\u001b[0;31m    xx = eng.matlabPipeline('singleCellEnrichment', 'data.csv')\u001b[0m\n\u001b[0m       ^\u001b[0m\n\u001b[0;31mSyntaxError\u001b[0m\u001b[0;31m:\u001b[0m invalid syntax\n"
     ]
    }
   ],
   "source": [
    "eval('xx = ' + response.split('\\n')[-1].split(': ')[1])"
   ]
  },
  {
   "cell_type": "code",
   "execution_count": 100,
   "id": "bdfb139b-1f69-4f66-86a2-3956cbfd1207",
   "metadata": {},
   "outputs": [
    {
     "name": "stdout",
     "output_type": "stream",
     "text": [
      "Argument 1:\n",
      "singleCellEnrichment\n",
      "Argument 2:\n",
      "data.csv\n",
      "\n",
      "ret = \n",
      "\n",
      "    \"WORKING!!\"\n",
      "\n"
     ]
    },
    {
     "data": {
      "text/plain": [
       "'WORKING!!'"
      ]
     },
     "execution_count": 100,
     "metadata": {},
     "output_type": "execute_result"
    }
   ],
   "source": [
    "eng.matlabPipeline('singleCellEnrichment', 'data.csv')"
   ]
  },
  {
   "cell_type": "code",
   "execution_count": null,
   "id": "0ea923ef-b2ce-4504-9afe-144bf861a0f3",
   "metadata": {},
   "outputs": [],
   "source": []
  },
  {
   "cell_type": "code",
   "execution_count": null,
   "id": "34cd236b-a26f-49ec-9cb7-9a6bfaba3000",
   "metadata": {},
   "outputs": [],
   "source": []
  },
  {
   "cell_type": "code",
   "execution_count": 74,
   "id": "08422592-315a-4a7a-950b-0324cb3ee03c",
   "metadata": {},
   "outputs": [
    {
     "name": "stdout",
     "output_type": "stream",
     "text": [
      "function [V, D, flag] = eigs(varargin)\n",
      "% EIGS   Find a few eigenvalues and eigenvectors of a matrix\n",
      "%  D = EIGS(A) returns a vector of A's 6 largest magnitude eigenvalues.\n",
      "%  A must be square and should be large and sparse.\n",
      "%\n",
      "%  [V,D] = EIGS(A) returns a diagonal matrix D of A's 6 largest magnitude\n",
      "%  eigenvalues and a matrix V whose columns are the corresponding\n",
      "%  eigenvectors.\n",
      "%\n",
      "%  [V,D,FLAG] = EIGS(A) also returns a convergence flag. If FLAG is 0 then\n",
      "%  all the eigenvalues converged; otherwise not all converged.\n",
      "%\n",
      "%  EIGS(A,B) solves the generalized eigenvalue problem A*V == B*V*D. B must\n",
      "%  be the same size as A. EIGS(A,[],...) indicates the standard eigenvalue\n",
      "%  problem A*V == V*D.\n",
      "%\n",
      "%  EIGS(A,K) and EIGS(A,B,K) return the K largest magnitude eigenvalues.\n",
      "%\n",
      "%  EIGS(A,K,SIGMA) and EIGS(A,B,K,SIGMA) return K eigenvalues. If SIGMA is:\n",
      "%\n",
      "%      'largestabs' or 'smallestabs' - largest or smallest magnitude\n",
      "%    'largestreal' or 'smallestreal' - largest or smallest real part\n",
      "%                     'bothendsreal' - K/2 values with largest and\n",
      "%                                      smallest real part, respectively\n",
      "%                                      (one more from largest if K is odd)\n",
      "%\n",
      "%  For nonsymmetric problems, SIGMA can also be:\n",
      "%    'largestimag' or 'smallestimag' - largest or smallest imaginary part\n",
      "%                     'bothendsimag' - K/2 values with largest and\n",
      "%                                     smallest imaginary part, respectively\n",
      "%                                     (one more from largest if K is odd)\n",
      "%\n",
      "%  If SIGMA is a real or complex scalar including 0, EIGS finds the\n",
      "%  eigenvalues closest to SIGMA.\n",
      "%\n",
      "%  EIGS(A,K,SIGMA,NAME,VALUE) and EIGS(A,B,K,SIGMA,NAME,VALUE) configures\n",
      "%  additional options specified by one or more name-value pair arguments:\n",
      "%\n",
      "%  'IsFunctionSymmetric' - Symmetry of matrix applied by function handle Afun\n",
      "%            'Tolerance' - Convergence tolerance\n",
      "%        'MaxIterations' - Maximum number of iterations\n",
      "%    'SubspaceDimension' - Size of subspace\n",
      "%          'StartVector' - Starting vector\n",
      "%     'FailureTreatment' - Treatment of non-converged eigenvalues\n",
      "%              'Display' - Display diagnostic messages\n",
      "%           'IsCholesky' - B is actually its Cholesky factor\n",
      "%  'CholeskyPermutation' - Cholesky vector input refers to B(perm,perm)\n",
      "%  'IsSymmetricDefinite' - B is symmetric positive definite\n",
      "%\n",
      "%  EIGS(A,K,SIGMA,OPTIONS) and EIGS(A,B,K,SIGMA,OPTIONS) alternatively\n",
      "%  configures the additional options using a structure. See the\n",
      "%  documentation for more information.\n",
      "%\n",
      "%  EIGS(AFUN,N) and EIGS(AFUN,N,B) accept the function AFUN instead of the\n",
      "%  matrix A. AFUN is a function handle and Y = AFUN(X) should return\n",
      "%     A*X            if SIGMA is unspecified, or a string other than 'SM'\n",
      "%     A\\X            if SIGMA is 0 or 'SM'\n",
      "%     (A-SIGMA*I)\\X  if SIGMA is a nonzero scalar (standard problem)\n",
      "%     (A-SIGMA*B)\\X  if SIGMA is a nonzero scalar (generalized problem)\n",
      "%  N is the size of A. The matrix A, A-SIGMA*I or A-SIGMA*B represented by\n",
      "%  AFUN is assumed to be nonsymmetric unless specified otherwise\n",
      "%  by OPTS.issym.\n",
      "%\n",
      "%  EIGS(AFUN,N,...) is equivalent to EIGS(A,...) for all previous syntaxes.\n",
      "%\n",
      "%  Example:\n",
      "%     A = delsq(numgrid('C',15));  d1 = eigs(A,5,'SM');\n",
      "%\n",
      "%  Equivalently, if dnRk is the following one-line function:\n",
      "%     %----------------------------%\n",
      "%     function y = dnRk(x,R,k)\n",
      "%     y = (delsq(numgrid(R,k))) \\ x;\n",
      "%     %----------------------------%\n",
      "%\n",
      "%     n = size(A,1);  opts.issym = 1;\n",
      "%     d2 = eigs(@(x)dnRk(x,'C',15),n,5,'SM',opts);\n",
      "%\n",
      "%  See also EIG, SVDS, FUNCTION_HANDLE.\n"
     ]
    }
   ],
   "source": [
    "print(matlabDocStrings)"
   ]
  },
  {
   "cell_type": "code",
   "execution_count": 39,
   "id": "b71e2ed3-23ba-4d5a-9152-a42257e642ed",
   "metadata": {},
   "outputs": [],
   "source": [
    "import difflib\n",
    "\n",
    "# Example query and list of MATLAB functions\n",
    "query = \"ploty\"  # The function name specified in the query\n",
    "matlabFunctions = [\"plot\", \"scatter\", \"surf\", \"mesh\", \"contour\", \"plot3\"]\n",
    "\n",
    "def find_closest_function(query, functions):\n",
    "    # Find the closest matches to the query in the list of functions\n",
    "    closest_matches = difflib.get_close_matches(query, functions, n=1, cutoff=0.0)\n",
    "    \n",
    "    if closest_matches:\n",
    "        return closest_matches[0]\n",
    "    else:\n",
    "        return None\n",
    "\n",
    "# Find the closest MATLAB function\n",
    "closest_function = find_closest_function(query, matlabFunctions)\n"
   ]
  },
  {
   "cell_type": "code",
   "execution_count": 41,
   "id": "ffa22c9d-529d-4d6e-a7e2-988387c72dc0",
   "metadata": {},
   "outputs": [
    {
     "name": "stdout",
     "output_type": "stream",
     "text": [
      "Help on function get_close_matches in module difflib:\n",
      "\n",
      "get_close_matches(word, possibilities, n=3, cutoff=0.6)\n",
      "    Use SequenceMatcher to return list of the best \"good enough\" matches.\n",
      "    \n",
      "    word is a sequence for which close matches are desired (typically a\n",
      "    string).\n",
      "    \n",
      "    possibilities is a list of sequences against which to match word\n",
      "    (typically a list of strings).\n",
      "    \n",
      "    Optional arg n (default 3) is the maximum number of close matches to\n",
      "    return.  n must be > 0.\n",
      "    \n",
      "    Optional arg cutoff (default 0.6) is a float in [0, 1].  Possibilities\n",
      "    that don't score at least that similar to word are ignored.\n",
      "    \n",
      "    The best (no more than n) matches among the possibilities are returned\n",
      "    in a list, sorted by similarity score, most similar first.\n",
      "    \n",
      "    >>> get_close_matches(\"appel\", [\"ape\", \"apple\", \"peach\", \"puppy\"])\n",
      "    ['apple', 'ape']\n",
      "    >>> import keyword as _keyword\n",
      "    >>> get_close_matches(\"wheel\", _keyword.kwlist)\n",
      "    ['while']\n",
      "    >>> get_close_matches(\"Apple\", _keyword.kwlist)\n",
      "    []\n",
      "    >>> get_close_matches(\"accept\", _keyword.kwlist)\n",
      "    ['except']\n",
      "\n"
     ]
    }
   ],
   "source": [
    "help(difflib.get_close_matches)"
   ]
  },
  {
   "cell_type": "code",
   "execution_count": 1,
   "id": "dd2602a1-d9e7-49e5-b689-55852afceca7",
   "metadata": {},
   "outputs": [],
   "source": [
    "import matlab.engine"
   ]
  },
  {
   "cell_type": "code",
   "execution_count": 2,
   "id": "b8e81dd3-89bf-4cb4-a295-5a8b78fc96dc",
   "metadata": {},
   "outputs": [],
   "source": [
    "eng = matlab.engine.start_matlab()"
   ]
  },
  {
   "cell_type": "code",
   "execution_count": 3,
   "id": "e199427e-e802-48b5-8c04-5d6567dfd149",
   "metadata": {},
   "outputs": [
    {
     "name": "stdout",
     "output_type": "stream",
     "text": [
      "Hello Python World from MATLAB!\n"
     ]
    },
    {
     "data": {
      "text/plain": [
       "5.0"
      ]
     },
     "execution_count": 3,
     "metadata": {},
     "output_type": "execute_result"
    }
   ],
   "source": [
    "mpath = eng.addpath(eng.genpath('matlab/'))\n",
    "eng.myFunc()"
   ]
  },
  {
   "cell_type": "code",
   "execution_count": 17,
   "id": "0b475301-2d07-494c-b65e-f09f5700860d",
   "metadata": {},
   "outputs": [
    {
     "name": "stdout",
     "output_type": "stream",
     "text": [
      "Hello World\n",
      "This message is generated by running MATLAB code from Python.\n"
     ]
    },
    {
     "data": {
      "text/plain": [
       "0.0"
      ]
     },
     "execution_count": 17,
     "metadata": {},
     "output_type": "execute_result"
    }
   ],
   "source": [
    "eng.helloMATLAB()"
   ]
  },
  {
   "cell_type": "code",
   "execution_count": 8,
   "id": "92d66b2c-2452-4e7d-bde0-767e02741775",
   "metadata": {},
   "outputs": [
    {
     "name": "stdout",
     "output_type": "stream",
     "text": [
      "Hello Python World from MATLAB!\n"
     ]
    },
    {
     "data": {
      "text/plain": [
       "5.0"
      ]
     },
     "execution_count": 8,
     "metadata": {},
     "output_type": "execute_result"
    }
   ],
   "source": [
    "eng.myFunc()"
   ]
  },
  {
   "cell_type": "code",
   "execution_count": 1,
   "id": "ec7f6be7-8f76-4686-a301-ebc19d438da3",
   "metadata": {},
   "outputs": [
    {
     "ename": "NameError",
     "evalue": "name 'ConversationBufferMemory' is not defined",
     "output_type": "error",
     "traceback": [
      "\u001b[0;31m---------------------------------------------------------------------------\u001b[0m",
      "\u001b[0;31mNameError\u001b[0m                                 Traceback (most recent call last)",
      "Cell \u001b[0;32mIn[1], line 48\u001b[0m\n\u001b[1;32m     45\u001b[0m         tablesString \u001b[38;5;241m+\u001b[39m\u001b[38;5;241m=\u001b[39m tab \u001b[38;5;241m+\u001b[39m \u001b[38;5;124m'\u001b[39m\u001b[38;5;124m.columns = \u001b[39m\u001b[38;5;124m'\u001b[39m \u001b[38;5;241m+\u001b[39m \u001b[38;5;28mstr\u001b[39m(truncated_columns) \u001b[38;5;241m+\u001b[39m \u001b[38;5;124m'\u001b[39m\u001b[38;5;130;01m\\n\u001b[39;00m\u001b[38;5;124m'\u001b[39m\n\u001b[1;32m     46\u001b[0m     \u001b[38;5;28;01mreturn\u001b[39;00m tablesString\n\u001b[0;32m---> 48\u001b[0m memory \u001b[38;5;241m=\u001b[39m \u001b[43mConversationBufferMemory\u001b[49m(ai_prefix\u001b[38;5;241m=\u001b[39m\u001b[38;5;124m\"\u001b[39m\u001b[38;5;124mBRAD\u001b[39m\u001b[38;5;124m\"\u001b[39m)\n\u001b[1;32m     50\u001b[0m \u001b[38;5;66;03m# Identify the database and the search terms\u001b[39;00m\n\u001b[1;32m     51\u001b[0m template \u001b[38;5;241m=\u001b[39m \u001b[38;5;124m\"\"\"\u001b[39m\u001b[38;5;124mCurrent conversation:\u001b[39m\u001b[38;5;130;01m\\n\u001b[39;00m\u001b[38;5;124m{{\u001b[39m\u001b[38;5;124mhistory}}\u001b[39m\n\u001b[1;32m     52\u001b[0m \n\u001b[1;32m     53\u001b[0m \u001b[38;5;124mGENEONTOLOGY: The Gene Ontology (GO) is an initiative to unify the representation of gene and gene product attributes across all species via the aims: 1) maintain and develop its controlled vocabulary of gene and gene product attributes; 2) annotate genes and gene products, and assimilate and disseminate annotation data; and 3) provide tools for easy access to all aspects of the data provided by the project, and to enable functional interpretation of experimental data using the GO.\u001b[39m\n\u001b[0;32m   (...)\u001b[0m\n\u001b[1;32m     76\u001b[0m \u001b[38;5;124mMode: <Row or Column>\u001b[39m\n\u001b[1;32m     77\u001b[0m \u001b[38;5;124m\"\"\"\u001b[39m\n",
      "\u001b[0;31mNameError\u001b[0m: name 'ConversationBufferMemory' is not defined"
     ]
    }
   ],
   "source": [
    "memory = ConversationBufferMemory(ai_prefix=\"BRAD\")\n",
    "\n",
    "# Identify the database and the search terms\n",
    "template = \"\"\"Current conversation:\\n{{history}}\n",
    "\n",
    "Available Tables:\n",
    "{tables}\n",
    "\n",
    "Query:{{input}}\n",
    "\n",
    "**INSTRUCTIONS**\n",
    "1. From the query, decide if GENEONTOLOGY or ENRICHR should be used\n",
    "2. Identify genes in the users input that should be searched. propose genes with similar names, correct the users spelling, or make small modifications to the list, but do not propose genes that are not found in the humans input.\n",
    "3. If the user wants to extract genes from a table (python dataframe), provide the necessary code to get the genes into a python list, otherwise, say None.\n",
    "4. If there is code required, identify the name of the table, otherwise say None\n",
    "5. If there is code required, identify the row or column name of the table, otherwise say None\n",
    "6. If there is code required, specify if it is a row or column\n",
    "Format your output as follows with no additional information:\n",
    "\n",
    "Database: <ENRICHR or GENEONTOLOGY>\n",
    "Genes: <List of genes separated by commas in query or None if code is required>\n",
    "Code: <True or None>\n",
    "Table: <Table Name>\n",
    "Mode Name: <Row or Column Name>\n",
    "Mode: <Row or Column>\n",
    "\"\"\"\n",
    "tablesInfo = getTablesFormatting(tables)\n",
    "filled_template = template.format(tables=tablesInfo) #, history=None, input=None)\n",
    "PROMPT = PromptTemplate(input_variables=[\"history\", \"input\"], template=filled_template)\n",
    "\n",
    "conversation = ConversationChain(prompt  = PROMPT,\n",
    "                                 llm     = llm,\n",
    "                                 verbose = True,\n",
    "                                 memory  = memory,\n",
    "                                )"
   ]
  }
 ],
 "metadata": {
  "kernelspec": {
   "display_name": "Python 3 (ipykernel)",
   "language": "python",
   "name": "python3"
  },
  "language_info": {
   "codemirror_mode": {
    "name": "ipython",
    "version": 3
   },
   "file_extension": ".py",
   "mimetype": "text/x-python",
   "name": "python",
   "nbconvert_exporter": "python",
   "pygments_lexer": "ipython3",
   "version": "3.11.7"
  }
 },
 "nbformat": 4,
 "nbformat_minor": 5
}
