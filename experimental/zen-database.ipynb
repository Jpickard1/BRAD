{
 "cells": [
  {
   "cell_type": "markdown",
   "id": "3c292996-4377-4248-89ca-7be35d0f6d03",
   "metadata": {},
   "source": [
    "# Building a Database for ZEN"
   ]
  },
  {
   "cell_type": "markdown",
   "id": "864e20c1-9c71-4fe4-870b-0a9376372ce6",
   "metadata": {},
   "source": [
    "## Build Dataset\n",
    "\n",
    "The dataset is located at `/nfs/turbo/umms-indikar/shared/projects/RAG/databases/zen2.0`"
   ]
  },
  {
   "cell_type": "code",
   "execution_count": 1,
   "id": "ebaa2d6d-2aa6-4684-acd3-9cf40c1d240c",
   "metadata": {},
   "outputs": [],
   "source": [
    "import subprocess\n",
    "import os\n",
    "from langchain.document_loaders import DirectoryLoader\n",
    "from langchain.document_loaders import UnstructuredPDFLoader\n",
    "from langchain_community.document_loaders import PyPDFLoader\n",
    "from langchain.vectorstores import Chroma\n",
    "from langchain.embeddings import HuggingFaceEmbeddings\n",
    "from langchain_text_splitters import RecursiveCharacterTextSplitter\n",
    "import chromadb"
   ]
  },
  {
   "cell_type": "code",
   "execution_count": 2,
   "id": "e0bf3b9b-5bec-41ec-87b8-83349fb93a5b",
   "metadata": {},
   "outputs": [],
   "source": [
    "import subprocess\n",
    "import os\n",
    "from langchain.document_loaders import DirectoryLoader\n",
    "from langchain.document_loaders import UnstructuredPDFLoader\n",
    "from langchain_community.document_loaders import PyPDFLoader\n",
    "from langchain.vectorstores import Chroma\n",
    "from langchain.embeddings import HuggingFaceEmbeddings\n",
    "from langchain_text_splitters import RecursiveCharacterTextSplitter\n",
    "import chromadb"
   ]
  },
  {
   "cell_type": "code",
   "execution_count": 3,
   "id": "51a401e4-db11-4c3b-978c-d88212b235c9",
   "metadata": {},
   "outputs": [],
   "source": [
    "docsPath='/nfs/turbo/umms-indikar/shared/projects/RAG/papers/zen2.0/'\n",
    "dbName='ZEN'\n",
    "dbPath='/nfs/turbo/umms-indikar/shared/projects/RAG/databases/zen2.0/'\n",
    "HuggingFaceEmbeddingsModel = 'BAAI/bge-base-en-v1.5'\n",
    "chunk_size=[1000]\n",
    "chunck_overlap=[50]\n",
    "v=True"
   ]
  },
  {
   "cell_type": "code",
   "execution_count": 4,
   "id": "0cbf97b5-5ca3-4571-9ad9-491fe68fbb46",
   "metadata": {},
   "outputs": [
    {
     "name": "stdout",
     "output_type": "stream",
     "text": [
      "\n",
      "Work Directory: /home/jpic/RAG-DEV/experimental\n"
     ]
    },
    {
     "name": "stderr",
     "output_type": "stream",
     "text": [
      "/home/jpic/.local/lib/python3.11/site-packages/langchain_core/_api/deprecation.py:139: LangChainDeprecationWarning: The class `HuggingFaceEmbeddings` was deprecated in LangChain 0.2.2 and will be removed in 0.3.0. An updated version of the class exists in the langchain-huggingface package and should be used instead. To use it run `pip install -U langchain-huggingface` and import as `from langchain_huggingface import HuggingFaceEmbeddings`.\n",
      "  warn_deprecated(\n",
      "/home/jpic/.local/lib/python3.11/site-packages/sentence_transformers/cross_encoder/CrossEncoder.py:11: TqdmExperimentalWarning: Using `tqdm.autonotebook.tqdm` in notebook mode. Use `tqdm.tqdm` instead to force console mode (e.g. in jupyter console)\n",
      "  from tqdm.autonotebook import tqdm, trange\n"
     ]
    },
    {
     "data": {
      "application/vnd.jupyter.widget-view+json": {
       "model_id": "955d6a79009c4285878266697481ad78",
       "version_major": 2,
       "version_minor": 0
      },
      "text/plain": [
       "modules.json:   0%|          | 0.00/349 [00:00<?, ?B/s]"
      ]
     },
     "metadata": {},
     "output_type": "display_data"
    },
    {
     "data": {
      "application/vnd.jupyter.widget-view+json": {
       "model_id": "f68c1db74b6d4ed4ae4484bb93b83ae9",
       "version_major": 2,
       "version_minor": 0
      },
      "text/plain": [
       "config_sentence_transformers.json:   0%|          | 0.00/124 [00:00<?, ?B/s]"
      ]
     },
     "metadata": {},
     "output_type": "display_data"
    },
    {
     "data": {
      "application/vnd.jupyter.widget-view+json": {
       "model_id": "b2a84758224b4a7593695407447580e6",
       "version_major": 2,
       "version_minor": 0
      },
      "text/plain": [
       "README.md:   0%|          | 0.00/94.6k [00:00<?, ?B/s]"
      ]
     },
     "metadata": {},
     "output_type": "display_data"
    },
    {
     "data": {
      "application/vnd.jupyter.widget-view+json": {
       "model_id": "e63efdff4f1a47d9988469c23bff72b1",
       "version_major": 2,
       "version_minor": 0
      },
      "text/plain": [
       "sentence_bert_config.json:   0%|          | 0.00/52.0 [00:00<?, ?B/s]"
      ]
     },
     "metadata": {},
     "output_type": "display_data"
    },
    {
     "name": "stderr",
     "output_type": "stream",
     "text": [
      "/home/jpic/.local/lib/python3.11/site-packages/huggingface_hub/file_download.py:1132: FutureWarning: `resume_download` is deprecated and will be removed in version 1.0.0. Downloads always resume when possible. If you want to force a new download, use `force_download=True`.\n",
      "  warnings.warn(\n"
     ]
    },
    {
     "data": {
      "application/vnd.jupyter.widget-view+json": {
       "model_id": "bf37167020244df7b409a8c7bae02173",
       "version_major": 2,
       "version_minor": 0
      },
      "text/plain": [
       "config.json:   0%|          | 0.00/777 [00:00<?, ?B/s]"
      ]
     },
     "metadata": {},
     "output_type": "display_data"
    },
    {
     "data": {
      "application/vnd.jupyter.widget-view+json": {
       "model_id": "da72d5eb54a141c8907351f1d946357e",
       "version_major": 2,
       "version_minor": 0
      },
      "text/plain": [
       "model.safetensors:   0%|          | 0.00/438M [00:00<?, ?B/s]"
      ]
     },
     "metadata": {},
     "output_type": "display_data"
    },
    {
     "data": {
      "application/vnd.jupyter.widget-view+json": {
       "model_id": "ad14334749764fdbb8824275f4c55cb4",
       "version_major": 2,
       "version_minor": 0
      },
      "text/plain": [
       "tokenizer_config.json:   0%|          | 0.00/366 [00:00<?, ?B/s]"
      ]
     },
     "metadata": {},
     "output_type": "display_data"
    },
    {
     "data": {
      "application/vnd.jupyter.widget-view+json": {
       "model_id": "cf3442dc13b44518a6022ae52989c9b7",
       "version_major": 2,
       "version_minor": 0
      },
      "text/plain": [
       "vocab.txt:   0%|          | 0.00/232k [00:00<?, ?B/s]"
      ]
     },
     "metadata": {},
     "output_type": "display_data"
    },
    {
     "data": {
      "application/vnd.jupyter.widget-view+json": {
       "model_id": "8e9fa792886348f8bd9c2aa5859c9931",
       "version_major": 2,
       "version_minor": 0
      },
      "text/plain": [
       "tokenizer.json:   0%|          | 0.00/711k [00:00<?, ?B/s]"
      ]
     },
     "metadata": {},
     "output_type": "display_data"
    },
    {
     "data": {
      "application/vnd.jupyter.widget-view+json": {
       "model_id": "1837760c091c4b57a4be45492f11af9c",
       "version_major": 2,
       "version_minor": 0
      },
      "text/plain": [
       "special_tokens_map.json:   0%|          | 0.00/125 [00:00<?, ?B/s]"
      ]
     },
     "metadata": {},
     "output_type": "display_data"
    },
    {
     "data": {
      "application/vnd.jupyter.widget-view+json": {
       "model_id": "8c6bac8651d04e469ff8b3c2dd9d673c",
       "version_major": 2,
       "version_minor": 0
      },
      "text/plain": [
       "1_Pooling/config.json:   0%|          | 0.00/190 [00:00<?, ?B/s]"
      ]
     },
     "metadata": {},
     "output_type": "display_data"
    },
    {
     "name": "stdout",
     "output_type": "stream",
     "text": [
      "\n",
      "Documents loading from: /nfs/turbo/umms-indikar/shared/projects/RAG/papers/zen2.0/\n"
     ]
    }
   ],
   "source": [
    "local = os.getcwd()  ## Get local dir\n",
    "os.chdir(local)      ## shift the work dir to local dir\n",
    "\n",
    "print('\\nWork Directory: {}'.format(local)) if v else None\n",
    "\n",
    "#%% Phase 1 - Load DB\n",
    "embeddings_model = HuggingFaceEmbeddings(model_name=HuggingFaceEmbeddingsModel)\n",
    "\n",
    "print('\\nDocuments loading from:', docsPath) if v else None\n",
    "\n",
    "text_loader_kwargs={'autodetect_encoding': True}"
   ]
  },
  {
   "cell_type": "code",
   "execution_count": 5,
   "id": "a723cc5c-7ef4-4887-b0f1-35b5b287f99e",
   "metadata": {},
   "outputs": [
    {
     "name": "stderr",
     "output_type": "stream",
     "text": [
      "100%|██████████| 1/1 [00:02<00:00,  2.87s/it]\n"
     ]
    }
   ],
   "source": [
    "loader = DirectoryLoader(docsPath,\n",
    "                         glob=\"**/*.pdf\",\n",
    "                         loader_cls=PyPDFLoader, \n",
    "                         #loader_kwargs=text_loader_kwargs,\n",
    "                         show_progress=True,\n",
    "                         )\n",
    "docs_data = loader.load()"
   ]
  },
  {
   "cell_type": "code",
   "execution_count": 6,
   "id": "ad39849c-67ab-4ebc-8f49-346fd713b9f7",
   "metadata": {},
   "outputs": [
    {
     "name": "stderr",
     "output_type": "stream",
     "text": [
      "mkdir: cannot create directory ‘/nfs/turbo/umms-indikar/shared/projects/RAG/databases/zen2.0/ZEN/*’: No such file or directory\n"
     ]
    },
    {
     "name": "stdout",
     "output_type": "stream",
     "text": [
      "Split Documents: 260\n",
      "Beginning Chrom Call\n",
      "Completed Chroma Database:  ZEN\n"
     ]
    }
   ],
   "source": [
    "chunk_size = [1000] #Chunk size \n",
    "chunk_overlap = [50] #Chunk overlap\n",
    "for i in range(len(chunk_size)):\n",
    "    for j in range(len(chunk_overlap)):\n",
    "        text_splitter = RecursiveCharacterTextSplitter(chunk_size = chunk_size[i],\n",
    "                                                        chunk_overlap = chunk_overlap[j],\n",
    "                                                        separators=[\" \", \",\", \"\\n\", \". \"])\n",
    "        \n",
    "        data_splits = text_splitter.split_documents(docs_data)\n",
    "        print('Split Documents: ' + str(len(data_splits)))\n",
    "\n",
    "        p2_2 = subprocess.run('mkdir  %s/*'%(dbPath+dbName), shell=True)\n",
    "        _client_settings = chromadb.PersistentClient(path=(dbPath+dbName))\n",
    "\n",
    "        print('Beginning Chrom Call')\n",
    "        vectordb = Chroma.from_documents(documents           = data_splits,\n",
    "                                         embedding           = embeddings_model,\n",
    "                                         client              = _client_settings,\n",
    "                                         collection_name     = dbName,\n",
    "                                         collection_metadata = {\"hnsw:space\": \"cosine\"})\n",
    "\n",
    "        print('Completed Chroma Database: ', dbName) if v else None"
   ]
  },
  {
   "cell_type": "markdown",
   "id": "b4c1d60b-1bf8-4e27-afe3-fd9d0d9695bf",
   "metadata": {},
   "source": [
    "## Test Dataset"
   ]
  },
  {
   "cell_type": "code",
   "execution_count": 7,
   "id": "46b3e9ad-d211-4a18-b81b-518d592528cf",
   "metadata": {},
   "outputs": [
    {
     "name": "stderr",
     "output_type": "stream",
     "text": [
      "huggingface/tokenizers: The current process just got forked, after parallelism has already been used. Disabling parallelism to avoid deadlocks...\n",
      "To disable this warning, you can either:\n",
      "\t- Avoid using `tokenizers` before the fork if possible\n",
      "\t- Explicitly set the environment variable TOKENIZERS_PARALLELISM=(true | false)\n"
     ]
    }
   ],
   "source": [
    "from BRAD import brad"
   ]
  },
  {
   "cell_type": "code",
   "execution_count": 18,
   "id": "d439d4be-7c2b-450f-a668-7d7b20f66801",
   "metadata": {},
   "outputs": [
    {
     "name": "stderr",
     "output_type": "stream",
     "text": [
      "\u001b[32m2024-08-14 15:42:18 INFO semantic_router.utils.logger local\u001b[0m\n"
     ]
    },
    {
     "name": "stdout",
     "output_type": "stream",
     "text": [
      "Welcome to RAG! The chat log from this conversation will be saved to /home/jpic/BRAD/2024-08-14_15-42-17/log.json. How can I help?\n"
     ]
    }
   ],
   "source": [
    "bot = brad.chatbot(ragvectordb=vectordb)"
   ]
  },
  {
   "cell_type": "code",
   "execution_count": 19,
   "id": "046a2bdf-cf90-4653-8c3d-ded270ed4c01",
   "metadata": {},
   "outputs": [
    {
     "name": "stderr",
     "output_type": "stream",
     "text": [
      "2024-08-14 15:42:25,555 - INFO - RAG\n"
     ]
    },
    {
     "name": "stdout",
     "output_type": "stream",
     "text": [
      "==================================================\n",
      "BRAD >> 0: \n",
      "\n",
      "\n",
      "\u001b[1m> Entering new StuffDocumentsChain chain...\u001b[0m\n",
      "\n",
      "\n",
      "\u001b[1m> Entering new LLMChain chain...\u001b[0m\n",
      "Prompt after formatting:\n",
      "\u001b[32;1m\u001b[1;3mSystem: Use the following pieces of context to answer the user's question. \n",
      "If you don't know the answer, just say that you don't know, don't try to make up an answer.\n",
      "----------------\n",
      "Source: ZEN2-Software_Guide_Slidescan.pdf\n",
      "Content: joystick within the Stage tab to navigate more precisely. The main partof the window contains a LIVE image from the camera.\n",
      "4Autofocus on the specimen. To do so, you can use the Autofocus button. Ifthe system does not find a focus, you may have to focus manually, e.g., via theslider next to the virtual representation of the z-stack. If the Coarse focus stepwas executed previously and the software does not find a focus, this suggeststhat the focus parameters for the fine focus are not correct.\n",
      "5Once the specimen is in focus, double-check that the image is not too bright or\n",
      "too dark and that the white balance is correct. If you need to adjust one of\n",
      "these parameters, refer to Scan settings section.\n",
      "6You now have to adjust the Range. You could change the Interval, but it isnot normally necessary to make any significant changes. The following settingsare recommended for the Interval: 2.5x: 20 µm; 5x: 8 µm; 10x: 4 µm; 20x: 2µm; 40x: 1.5 µm), thus it is advised to change the number of\n",
      "\n",
      "Source: ZEN2-Software_Guide_Slidescan.pdf\n",
      "Content: in this case, thus thealgorithm will focus on the highest contrast along the z-stack.Compared to Basic, the focus is slightly slower but more accuratefor certain samples. Please be aware that Best does not meanthat this algorithm is always superior to Basic, as this depends on\n",
      "the kind of tissue/specimen.\n",
      "FFT This autofocus setting applies to the Fourier transform algorithm\n",
      "to determine the best focus value. This algorithm is slower thanthe other algorithms and should be used only in the case of theRing aperture contrast. It is not ideal for standard brightfieldcontrast or fluorescence as this algorithm looks for two contrast\n",
      "peaks and the local minimum between them.\n",
      "HG 2^8 This is an advanced algorithm compared to Basic and Best. This\n",
      "algorithm focuses less on the larger stained structures and moreon the smaller local structures, thus this algorithm will focusmore on nuclei, for example, than on unstained structures (e.g.,immunohistochemistry stains).\n",
      "Based on the current status of\n",
      "\n",
      "Source: ZEN2-Software_Guide_Slidescan.pdf\n",
      "Content: 3 Overview Wizards  |  3.3 Advanced Scan Profile Wizard (online)\n",
      "40 Software Guide ZEN 2 (blue edition)  |  V 2.2 en6To select a channel as Focus Reference highlight the channel and click on the\n",
      "button Focus Ref. and make sure that this channel is selected via the checkboxand the others are de-selected. You can still select the light source if you havetwo (e.g., Colibri.2 and HXP 120 V), as well as the intensity of the light source.Lower light source intensities normally result in less bleaching even if theexposure time is longer.\n",
      "7The next step is to Focus on the specimens and adjust both the exposure time (Time) and light source intensities. To see a live image from the camera, youhave to activate Live, which will display a live image, or else click on Snap totake a single snapshot of all selected channels. It is important to take extra carein Live mode as this can result in bleaching of the sample. It is therefore\n",
      "recommended to use this feature with caution and, if possible, to use\n",
      "\n",
      "Source: ZEN2-Software_Guide_Slidescan.pdf\n",
      "Content: 1 µm and the 40x Plan-Apo has a depth of focus of around 0.5 µm.The unevenness can be the result of a sub-optimal preparation or if the useraims to scan thick or cytological specimens. The best way to evaluate the optimal settings is to go to the representativeregion of the specimen, autofocus from a blurry image to an image where the\n",
      "\n",
      "Source: ZEN2-Software_Guide_Slidescan.pdf\n",
      "Content: ¢Sets the optimal resolution for the camera inAcquisition Mode tool. Resolution will be calculatedfrom camera parameters, numeric aperture,Microscanning will not be applied even if the camerawould support this mode.\n",
      "¢Sets the dynamic range for all fluorescence channels to50% or for all transmitted light channels to 80 %.\n",
      "\n",
      "Source: ZEN2-Software_Guide_Slidescan.pdf\n",
      "Content: As the function can process only one scene, it is important to selecta specimen with a large scene and not with many small ones.\n",
      "¢The use of fluorescence slides for the creation of reference images forfluorescence has sometimes disadvantages (e.g. sparse distribution of thesignal, bleaching). Thus it has to be considered to use at least for standardfluorescence channels (like DAPI, GFP, Cy3) a standard H&E sample and utilizethe autofluorescence of this sample.\n",
      "Procedure 1Open the image with ZEN software.\n",
      "\n",
      "Source: ZEN2-Software_Guide_Slidescan.pdf\n",
      "Content: Fluorescence profiles     30\n",
      "RRegion of Interest for Tissue\n",
      "Detection     32, 76\n",
      "SScan Profile Wizard     21\n",
      "Scan Settings     62Scan Settings Brightfield profiles     95Scan tab     6Set up prescan button Fluorescence\n",
      "profiles     29\n",
      "Setting up the ROI for the preview\n",
      "image Fluorescence profiles     130\n",
      "Shading Reference From Tile\n",
      "Image     131\n",
      "Sharpness measure set\n",
      "Basic     61, 94Best     61, 94Contrast Power     62, 95FFT     61, 94HG 2^8     61, 94\n",
      "Smart Profile Selection     106, 113\n",
      "Smart Scan Profile Selection\n",
      "Wizard     20\n",
      "Smart Setup     137\n",
      "Start Preview Scan     7Start Scan     7Storage location tool     10\n",
      "T\n",
      "TD Recognition Type     24\n",
      "Tissue Detection Settings     31, 74Tissue Detection Wizard     102\n",
      "\n",
      "Source: ZEN2-Software_Guide_Slidescan.pdf\n",
      "Content: contains the maximum\n",
      "contrast portions of all images recorded for this image field. This method\n",
      "guarantees maximum depth of sharpness. It is strongly recommended to usethe standard parameters as these have been selected for their optimal fit. For adetailed description of the single parameters, please refer to the help forstandard ZEN functionality of EDF. A scan with EDF is slightly faster than thesame scan with a Z-stack. It is important to note that an extended depth of\n",
      "\n",
      "Source: ZEN2-Software_Guide_Slidescan.pdf\n",
      "Content: 3 Overview Wizards  |  3.3 Advanced Scan Profile Wizard (online)\n",
      "Software Guide ZEN 2 (blue edition)  |  V 2.2 en 95Item Description\n",
      "Contrast\n",
      "PowerThis algorithm is comparable to the HG 2^8.\n",
      "3.3.2.6 Scan Settings\n",
      "Here you can set up the scan settings. These settings are important as theydetermine the image quality that is subsequently experienced by the user in termsof exposure time, white balance, etc. The settings under Post Processing andWhite Balance are similar to the standard ZEN tools.\n",
      "Info\n",
      "It is possible to change the camera in the Camera section; however, the HitachiHV-F202SCL is the best choice for brightfield scanning. Other cameras can resultin unexpected behavior.\n",
      "In the case of the Hitachi-HV-F202 camera, you can select whether you want to\n",
      "capture the image in 8-bit, 10-bit or 12-bit. Please note that a bit depth above 8\n",
      "bits will result in images with a much larger image size.\n",
      "\n",
      "Source: ZEN2-Software_Guide_Slidescan.pdf\n",
      "Content: is available and/or if\n",
      "the fluorophores are very sensitive to bleaching. It is also important for the kind of\n",
      "specimen to be visualized using this brightfield contrast method. This means thatcells spreads cannot be visualized with this contrast method.\n",
      "3.3.1.2 Label Scan Settings\n",
      "Here you can select the capture parameters of the label area.\n",
      "The label area ROI (Region Of Interest) is defined by the red rectangle shown in the\n",
      "live image. It is possible to adjust the frame in size and position freely to fit with thelabel on your slide. The label area is captured with reflected light and a separatecamera (called AxioCam IC).\n",
      "Human: What settings should I use for high-resolution imaging of live cells?\u001b[0m\n"
     ]
    },
    {
     "name": "stderr",
     "output_type": "stream",
     "text": [
      "2024-08-14 15:42:29,736 - INFO - \n",
      "\n",
      "\n",
      "route\n",
      "\n",
      "\n",
      "\n",
      "2024-08-14 15:42:29,737 - INFO - RAG\n",
      "2024-08-14 15:42:29,737 - INFO - \n",
      "\n",
      "PLANNER:\n",
      "\n",
      "{'module': 'RAG', 'steps': [{'func': 'rag.retrieval', 'multiquery': False, 'similarity': False, 'mmr': True, 'num-docs': 10, 'docs': \"[Document(metadata={'page': 87, 'source': '/nfs/turbo/umms-indikar/shared/projects/RAG/papers/zen2.0/ZEN2-Software_Guide_Slidescan.pdf'}, page_content='joystick within the Stage tab to navigate more precisely. The main partof the window contains a LIVE image from the camera.\\\\n4Autofocus on the specimen. To do so, you can use the Autofocus button. Ifthe system does not find a focus, you may have to focus manually, e.g., via theslider next to the virtual representation of the z-stack. If the Coarse focus stepwas executed previously and the software does not find a focus, this suggeststhat the focus parameters for the fine focus are not correct.\\\\n5Once the specimen is in focus, double-check that the image is not too bright or\\\\ntoo dark and that the white balance is correct. If you need to adjust one of\\\\nthese parameters, refer to Scan settings section.\\\\n6You now have to adjust the Range. You could change the Interval, but it isnot normally necessary to make any significant changes. The following settingsare recommended for the Interval: 2.5x: 20 µm; 5x: 8 µm; 10x: 4 µm; 20x: 2µm; 40x: 1.5 µm), thus it is advised to change the number of'), Document(metadata={'page': 93, 'source': '/nfs/turbo/umms-indikar/shared/projects/RAG/papers/zen2.0/ZEN2-Software_Guide_Slidescan.pdf'}, page_content='in this case, thus thealgorithm will focus on the highest contrast along the z-stack.Compared to Basic, the focus is slightly slower but more accuratefor certain samples. Please be aware that Best does not meanthat this algorithm is always superior to Basic, as this depends on\\\\nthe kind of tissue/specimen.\\\\nFFT This autofocus setting applies to the Fourier transform algorithm\\\\nto determine the best focus value. This algorithm is slower thanthe other algorithms and should be used only in the case of theRing aperture contrast. It is not ideal for standard brightfieldcontrast or fluorescence as this algorithm looks for two contrast\\\\npeaks and the local minimum between them.\\\\nHG 2^8 This is an advanced algorithm compared to Basic and Best. This\\\\nalgorithm focuses less on the larger stained structures and moreon the smaller local structures, thus this algorithm will focusmore on nuclei, for example, than on unstained structures (e.g.,immunohistochemistry stains).\\\\nBased on the current status of'), Document(metadata={'page': 39, 'source': '/nfs/turbo/umms-indikar/shared/projects/RAG/papers/zen2.0/ZEN2-Software_Guide_Slidescan.pdf'}, page_content='3 Overview Wizards\\\\xa0\\\\xa0|\\\\xa0 3.3 Advanced Scan Profile Wizard (online)\\\\n40 Software Guide ZEN 2 (blue edition)\\\\xa0\\\\xa0|\\\\xa0\\\\xa0V 2.2 en6To select a channel as Focus Reference highlight the channel and click on the\\\\nbutton Focus Ref. and make sure that this channel is selected via the checkboxand the others are de-selected. You can still select the light source if you havetwo (e.g., Colibri.2 and HXP 120 V), as well as the intensity of the light source.Lower light source intensities normally result in less bleaching even if theexposure time is longer.\\\\n7The next step is to Focus on the specimens and adjust both the exposure time (Time) and light source intensities. To see a live image from the camera, youhave to activate Live, which will display a live image, or else click on Snap totake a single snapshot of all selected channels. It is important to take extra carein Live mode as this can result in bleaching of the sample. It is therefore\\\\nrecommended to use this feature with caution and, if possible, to use'), Document(metadata={'page': 65, 'source': '/nfs/turbo/umms-indikar/shared/projects/RAG/papers/zen2.0/ZEN2-Software_Guide_Slidescan.pdf'}, page_content='1 µm and the 40x Plan-Apo has a depth of focus of around 0.5 µm.The unevenness can be the result of a sub-optimal preparation or if the useraims to scan thick or cytological specimens. The best way to evaluate the optimal settings is to go to the representativeregion of the specimen, autofocus from a blurry image to an image where the'), Document(metadata={'page': 137, 'source': '/nfs/turbo/umms-indikar/shared/projects/RAG/papers/zen2.0/ZEN2-Software_Guide_Slidescan.pdf'}, page_content='¢Sets the optimal resolution for the camera inAcquisition Mode tool. Resolution will be calculatedfrom camera parameters, numeric aperture,Microscanning will not be applied even if the camerawould support this mode.\\\\n¢Sets the dynamic range for all fluorescence channels to50% or for all transmitted light channels to 80 %.'), Document(metadata={'page': 130, 'source': '/nfs/turbo/umms-indikar/shared/projects/RAG/papers/zen2.0/ZEN2-Software_Guide_Slidescan.pdf'}, page_content='As the function can process only one scene, it is important to selecta specimen with a large scene and not with many small ones.\\\\n¢The use of fluorescence slides for the creation of reference images forfluorescence has sometimes disadvantages (e.g. sparse distribution of thesignal, bleaching). Thus it has to be considered to use at least for standardfluorescence channels (like DAPI, GFP, Cy3) a standard H&E sample and utilizethe autofluorescence of this sample.\\\\nProcedure 1Open the image with ZEN software.'), Document(metadata={'page': 142, 'source': '/nfs/turbo/umms-indikar/shared/projects/RAG/papers/zen2.0/ZEN2-Software_Guide_Slidescan.pdf'}, page_content='Fluorescence profiles\\\\xa0\\\\xa0\\\\xa0\\\\xa0\\\\xa030\\\\nRRegion of Interest for Tissue\\\\nDetection\\\\xa0\\\\xa0\\\\xa0\\\\xa0\\\\xa032, 76\\\\nSScan Profile Wizard\\\\xa0\\\\xa0\\\\xa0\\\\xa0\\\\xa021\\\\nScan Settings\\\\xa0\\\\xa0\\\\xa0\\\\xa0\\\\xa062Scan Settings Brightfield profiles\\\\xa0\\\\xa0\\\\xa0\\\\xa0\\\\xa095Scan tab\\\\xa0\\\\xa0\\\\xa0\\\\xa0\\\\xa06Set up prescan button Fluorescence\\\\nprofiles\\\\xa0\\\\xa0\\\\xa0\\\\xa0\\\\xa029\\\\nSetting up the ROI for the preview\\\\nimage Fluorescence profiles\\\\xa0\\\\xa0\\\\xa0\\\\xa0\\\\xa0130\\\\nShading Reference From Tile\\\\nImage\\\\xa0\\\\xa0\\\\xa0\\\\xa0\\\\xa0131\\\\nSharpness measure set\\\\nBasic\\\\xa0\\\\xa0\\\\xa0\\\\xa0\\\\xa061, 94Best\\\\xa0\\\\xa0\\\\xa0\\\\xa0\\\\xa061, 94Contrast Power\\\\xa0\\\\xa0\\\\xa0\\\\xa0\\\\xa062, 95FFT\\\\xa0\\\\xa0\\\\xa0\\\\xa0\\\\xa061, 94HG 2^8\\\\xa0\\\\xa0\\\\xa0\\\\xa0\\\\xa061, 94\\\\nSmart Profile Selection\\\\xa0\\\\xa0\\\\xa0\\\\xa0\\\\xa0106, 113\\\\nSmart Scan Profile Selection\\\\nWizard\\\\xa0\\\\xa0\\\\xa0\\\\xa0\\\\xa020\\\\nSmart Setup\\\\xa0\\\\xa0\\\\xa0\\\\xa0\\\\xa0137\\\\nStart Preview Scan\\\\xa0\\\\xa0\\\\xa0\\\\xa0\\\\xa07Start Scan\\\\xa0\\\\xa0\\\\xa0\\\\xa0\\\\xa07Storage location tool\\\\xa0\\\\xa0\\\\xa0\\\\xa0\\\\xa010\\\\nT\\\\nTD Recognition Type\\\\xa0\\\\xa0\\\\xa0\\\\xa0\\\\xa024\\\\nTissue Detection Settings\\\\xa0\\\\xa0\\\\xa0\\\\xa0\\\\xa031, 74Tissue Detection Wizard\\\\xa0\\\\xa0\\\\xa0\\\\xa0\\\\xa0102'), Document(metadata={'page': 97, 'source': '/nfs/turbo/umms-indikar/shared/projects/RAG/papers/zen2.0/ZEN2-Software_Guide_Slidescan.pdf'}, page_content='contains the maximum\\\\ncontrast portions of all images recorded for this image field. This method\\\\nguarantees maximum depth of sharpness. It is strongly recommended to usethe standard parameters as these have been selected for their optimal fit. For adetailed description of the single parameters, please refer to the help forstandard ZEN functionality of EDF. A scan with EDF is slightly faster than thesame scan with a Z-stack. It is important to note that an extended depth of'), Document(metadata={'page': 94, 'source': '/nfs/turbo/umms-indikar/shared/projects/RAG/papers/zen2.0/ZEN2-Software_Guide_Slidescan.pdf'}, page_content='3 Overview Wizards\\\\xa0\\\\xa0|\\\\xa0 3.3 Advanced Scan Profile Wizard (online)\\\\nSoftware Guide ZEN 2 (blue edition)\\\\xa0\\\\xa0|\\\\xa0\\\\xa0V 2.2 en 95Item Description\\\\nContrast\\\\nPowerThis algorithm is comparable to the HG 2^8.\\\\n3.3.2.6 Scan Settings\\\\nHere you can set up the scan settings. These settings are important as theydetermine the image quality that is subsequently experienced by the user in termsof exposure time, white balance, etc. The settings under Post Processing andWhite Balance are similar to the standard ZEN tools.\\\\nInfo\\\\nIt is possible to change the camera in the Camera section; however, the HitachiHV-F202SCL is the best choice for brightfield scanning. Other cameras can resultin unexpected behavior.\\\\nIn the case of the Hitachi-HV-F202 camera, you can select whether you want to\\\\ncapture the image in 8-bit, 10-bit or 12-bit. Please note that a bit depth above 8\\\\nbits will result in images with a much larger image size.'), Document(metadata={'page': 24, 'source': '/nfs/turbo/umms-indikar/shared/projects/RAG/papers/zen2.0/ZEN2-Software_Guide_Slidescan.pdf'}, page_content='is available and/or if\\\\nthe fluorophores are very sensitive to bleaching. It is also important for the kind of\\\\nspecimen to be visualized using this brightfield contrast method. This means thatcells spreads cannot be visualized with this contrast method.\\\\n3.3.1.2 Label Scan Settings\\\\nHere you can select the capture parameters of the label area.\\\\nThe label area ROI (Region Of Interest) is defined by the red rectangle shown in the\\\\nlive image. It is possible to adjust the frame in size and position freely to fit with thelabel on your slide. The label area is captured with reflected light and a separatecamera (called AxioCam IC).')]\"}, {'llm': \"model='meta/llama3-70b-instruct'\", 'memory': 'None', 'prompt': 'verbose=True llm_chain=LLMChain(verbose=True, prompt=ChatPromptTemplate(input_variables=[\\'context\\', \\'question\\'], messages=[SystemMessagePromptTemplate(prompt=PromptTemplate(input_variables=[\\'context\\'], template=\"Use the following pieces of context to answer the user\\'s question. \\\\nIf you don\\'t know the answer, just say that you don\\'t know, don\\'t try to make up an answer.\\\\n----------------\\\\n{context}\")), HumanMessagePromptTemplate(prompt=PromptTemplate(input_variables=[\\'question\\'], template=\\'{question}\\'))]), llm=ChatNVIDIA(model=\\'meta/llama3-70b-instruct\\')) document_variable_name=\\'context\\'', 'input': 'What settings should I use for high-resolution imaging of live cells?', 'output': '{\\'input_documents\\': {0: {\\'page_content\\': \\'Source: ZEN2-Software_Guide_Slidescan.pdf\\\\nContent: joystick within the Stage tab to navigate more precisely. The main partof the window contains a LIVE image from the camera.\\\\n4Autofocus on the specimen. To do so, you can use the Autofocus button. Ifthe system does not find a focus, you may have to focus manually, e.g., via theslider next to the virtual representation of the z-stack. If the Coarse focus stepwas executed previously and the software does not find a focus, this suggeststhat the focus parameters for the fine focus are not correct.\\\\n5Once the specimen is in focus, double-check that the image is not too bright or\\\\ntoo dark and that the white balance is correct. If you need to adjust one of\\\\nthese parameters, refer to Scan settings section.\\\\n6You now have to adjust the Range. You could change the Interval, but it isnot normally necessary to make any significant changes. The following settingsare recommended for the Interval: 2.5x: 20 µm; 5x: 8 µm; 10x: 4 µm; 20x: 2µm; 40x: 1.5 µm), thus it is advised to change the number of\\', \\'metadata\\': {\\'source\\': \"{\\'page\\': 87, \\'source\\': \\'/nfs/turbo/umms-indikar/shared/projects/RAG/papers/zen2.0/ZEN2-Software_Guide_Slidescan.pdf\\'}\"}}, 1: {\\'page_content\\': \\'Source: ZEN2-Software_Guide_Slidescan.pdf\\\\nContent: in this case, thus thealgorithm will focus on the highest contrast along the z-stack.Compared to Basic, the focus is slightly slower but more accuratefor certain samples. Please be aware that Best does not meanthat this algorithm is always superior to Basic, as this depends on\\\\nthe kind of tissue/specimen.\\\\nFFT This autofocus setting applies to the Fourier transform algorithm\\\\nto determine the best focus value. This algorithm is slower thanthe other algorithms and should be used only in the case of theRing aperture contrast. It is not ideal for standard brightfieldcontrast or fluorescence as this algorithm looks for two contrast\\\\npeaks and the local minimum between them.\\\\nHG 2^8 This is an advanced algorithm compared to Basic and Best. This\\\\nalgorithm focuses less on the larger stained structures and moreon the smaller local structures, thus this algorithm will focusmore on nuclei, for example, than on unstained structures (e.g.,immunohistochemistry stains).\\\\nBased on the current status of\\', \\'metadata\\': {\\'source\\': \"{\\'page\\': 93, \\'source\\': \\'/nfs/turbo/umms-indikar/shared/projects/RAG/papers/zen2.0/ZEN2-Software_Guide_Slidescan.pdf\\'}\"}}, 2: {\\'page_content\\': \\'Source: ZEN2-Software_Guide_Slidescan.pdf\\\\nContent: 3 Overview Wizards\\\\xa0\\\\xa0|\\\\xa0 3.3 Advanced Scan Profile Wizard (online)\\\\n40 Software Guide ZEN 2 (blue edition)\\\\xa0\\\\xa0|\\\\xa0\\\\xa0V 2.2 en6To select a channel as Focus Reference highlight the channel and click on the\\\\nbutton Focus Ref. and make sure that this channel is selected via the checkboxand the others are de-selected. You can still select the light source if you havetwo (e.g., Colibri.2 and HXP 120 V), as well as the intensity of the light source.Lower light source intensities normally result in less bleaching even if theexposure time is longer.\\\\n7The next step is to Focus on the specimens and adjust both the exposure time (Time) and light source intensities. To see a live image from the camera, youhave to activate Live, which will display a live image, or else click on Snap totake a single snapshot of all selected channels. It is important to take extra carein Live mode as this can result in bleaching of the sample. It is therefore\\\\nrecommended to use this feature with caution and, if possible, to use\\', \\'metadata\\': {\\'source\\': \"{\\'page\\': 39, \\'source\\': \\'/nfs/turbo/umms-indikar/shared/projects/RAG/papers/zen2.0/ZEN2-Software_Guide_Slidescan.pdf\\'}\"}}, 3: {\\'page_content\\': \\'Source: ZEN2-Software_Guide_Slidescan.pdf\\\\nContent: 1 µm and the 40x Plan-Apo has a depth of focus of around 0.5 µm.The unevenness can be the result of a sub-optimal preparation or if the useraims to scan thick or cytological specimens. The best way to evaluate the optimal settings is to go to the representativeregion of the specimen, autofocus from a blurry image to an image where the\\', \\'metadata\\': {\\'source\\': \"{\\'page\\': 65, \\'source\\': \\'/nfs/turbo/umms-indikar/shared/projects/RAG/papers/zen2.0/ZEN2-Software_Guide_Slidescan.pdf\\'}\"}}, 4: {\\'page_content\\': \\'Source: ZEN2-Software_Guide_Slidescan.pdf\\\\nContent: ¢Sets the optimal resolution for the camera inAcquisition Mode tool. Resolution will be calculatedfrom camera parameters, numeric aperture,Microscanning will not be applied even if the camerawould support this mode.\\\\n¢Sets the dynamic range for all fluorescence channels to50% or for all transmitted light channels to 80 %.\\', \\'metadata\\': {\\'source\\': \"{\\'page\\': 137, \\'source\\': \\'/nfs/turbo/umms-indikar/shared/projects/RAG/papers/zen2.0/ZEN2-Software_Guide_Slidescan.pdf\\'}\"}}, 5: {\\'page_content\\': \\'Source: ZEN2-Software_Guide_Slidescan.pdf\\\\nContent: As the function can process only one scene, it is important to selecta specimen with a large scene and not with many small ones.\\\\n¢The use of fluorescence slides for the creation of reference images forfluorescence has sometimes disadvantages (e.g. sparse distribution of thesignal, bleaching). Thus it has to be considered to use at least for standardfluorescence channels (like DAPI, GFP, Cy3) a standard H&E sample and utilizethe autofluorescence of this sample.\\\\nProcedure 1Open the image with ZEN software.\\', \\'metadata\\': {\\'source\\': \"{\\'page\\': 130, \\'source\\': \\'/nfs/turbo/umms-indikar/shared/projects/RAG/papers/zen2.0/ZEN2-Software_Guide_Slidescan.pdf\\'}\"}}, 6: {\\'page_content\\': \\'Source: ZEN2-Software_Guide_Slidescan.pdf\\\\nContent: Fluorescence profiles\\\\xa0\\\\xa0\\\\xa0\\\\xa0\\\\xa030\\\\nRRegion of Interest for Tissue\\\\nDetection\\\\xa0\\\\xa0\\\\xa0\\\\xa0\\\\xa032, 76\\\\nSScan Profile Wizard\\\\xa0\\\\xa0\\\\xa0\\\\xa0\\\\xa021\\\\nScan Settings\\\\xa0\\\\xa0\\\\xa0\\\\xa0\\\\xa062Scan Settings Brightfield profiles\\\\xa0\\\\xa0\\\\xa0\\\\xa0\\\\xa095Scan tab\\\\xa0\\\\xa0\\\\xa0\\\\xa0\\\\xa06Set up prescan button Fluorescence\\\\nprofiles\\\\xa0\\\\xa0\\\\xa0\\\\xa0\\\\xa029\\\\nSetting up the ROI for the preview\\\\nimage Fluorescence profiles\\\\xa0\\\\xa0\\\\xa0\\\\xa0\\\\xa0130\\\\nShading Reference From Tile\\\\nImage\\\\xa0\\\\xa0\\\\xa0\\\\xa0\\\\xa0131\\\\nSharpness measure set\\\\nBasic\\\\xa0\\\\xa0\\\\xa0\\\\xa0\\\\xa061, 94Best\\\\xa0\\\\xa0\\\\xa0\\\\xa0\\\\xa061, 94Contrast Power\\\\xa0\\\\xa0\\\\xa0\\\\xa0\\\\xa062, 95FFT\\\\xa0\\\\xa0\\\\xa0\\\\xa0\\\\xa061, 94HG 2^8\\\\xa0\\\\xa0\\\\xa0\\\\xa0\\\\xa061, 94\\\\nSmart Profile Selection\\\\xa0\\\\xa0\\\\xa0\\\\xa0\\\\xa0106, 113\\\\nSmart Scan Profile Selection\\\\nWizard\\\\xa0\\\\xa0\\\\xa0\\\\xa0\\\\xa020\\\\nSmart Setup\\\\xa0\\\\xa0\\\\xa0\\\\xa0\\\\xa0137\\\\nStart Preview Scan\\\\xa0\\\\xa0\\\\xa0\\\\xa0\\\\xa07Start Scan\\\\xa0\\\\xa0\\\\xa0\\\\xa0\\\\xa07Storage location tool\\\\xa0\\\\xa0\\\\xa0\\\\xa0\\\\xa010\\\\nT\\\\nTD Recognition Type\\\\xa0\\\\xa0\\\\xa0\\\\xa0\\\\xa024\\\\nTissue Detection Settings\\\\xa0\\\\xa0\\\\xa0\\\\xa0\\\\xa031, 74Tissue Detection Wizard\\\\xa0\\\\xa0\\\\xa0\\\\xa0\\\\xa0102\\', \\'metadata\\': {\\'source\\': \"{\\'page\\': 142, \\'source\\': \\'/nfs/turbo/umms-indikar/shared/projects/RAG/papers/zen2.0/ZEN2-Software_Guide_Slidescan.pdf\\'}\"}}, 7: {\\'page_content\\': \\'Source: ZEN2-Software_Guide_Slidescan.pdf\\\\nContent: contains the maximum\\\\ncontrast portions of all images recorded for this image field. This method\\\\nguarantees maximum depth of sharpness. It is strongly recommended to usethe standard parameters as these have been selected for their optimal fit. For adetailed description of the single parameters, please refer to the help forstandard ZEN functionality of EDF. A scan with EDF is slightly faster than thesame scan with a Z-stack. It is important to note that an extended depth of\\', \\'metadata\\': {\\'source\\': \"{\\'page\\': 97, \\'source\\': \\'/nfs/turbo/umms-indikar/shared/projects/RAG/papers/zen2.0/ZEN2-Software_Guide_Slidescan.pdf\\'}\"}}, 8: {\\'page_content\\': \\'Source: ZEN2-Software_Guide_Slidescan.pdf\\\\nContent: 3 Overview Wizards\\\\xa0\\\\xa0|\\\\xa0 3.3 Advanced Scan Profile Wizard (online)\\\\nSoftware Guide ZEN 2 (blue edition)\\\\xa0\\\\xa0|\\\\xa0\\\\xa0V 2.2 en 95Item Description\\\\nContrast\\\\nPowerThis algorithm is comparable to the HG 2^8.\\\\n3.3.2.6 Scan Settings\\\\nHere you can set up the scan settings. These settings are important as theydetermine the image quality that is subsequently experienced by the user in termsof exposure time, white balance, etc. The settings under Post Processing andWhite Balance are similar to the standard ZEN tools.\\\\nInfo\\\\nIt is possible to change the camera in the Camera section; however, the HitachiHV-F202SCL is the best choice for brightfield scanning. Other cameras can resultin unexpected behavior.\\\\nIn the case of the Hitachi-HV-F202 camera, you can select whether you want to\\\\ncapture the image in 8-bit, 10-bit or 12-bit. Please note that a bit depth above 8\\\\nbits will result in images with a much larger image size.\\', \\'metadata\\': {\\'source\\': \"{\\'page\\': 94, \\'source\\': \\'/nfs/turbo/umms-indikar/shared/projects/RAG/papers/zen2.0/ZEN2-Software_Guide_Slidescan.pdf\\'}\"}}, 9: {\\'page_content\\': \\'Source: ZEN2-Software_Guide_Slidescan.pdf\\\\nContent: is available and/or if\\\\nthe fluorophores are very sensitive to bleaching. It is also important for the kind of\\\\nspecimen to be visualized using this brightfield contrast method. This means thatcells spreads cannot be visualized with this contrast method.\\\\n3.3.1.2 Label Scan Settings\\\\nHere you can select the capture parameters of the label area.\\\\nThe label area ROI (Region Of Interest) is defined by the red rectangle shown in the\\\\nlive image. It is possible to adjust the frame in size and position freely to fit with thelabel on your slide. The label area is captured with reflected light and a separatecamera (called AxioCam IC).\\', \\'metadata\\': {\\'source\\': \"{\\'page\\': 24, \\'source\\': \\'/nfs/turbo/umms-indikar/shared/projects/RAG/papers/zen2.0/ZEN2-Software_Guide_Slidescan.pdf\\'}\"}}}, \\'question\\': \\'What settings should I use for high-resolution imaging of live cells?\\', \\'output_text\\': \\'The provided context does not specifically mention high-resolution imaging of live cells. However, it does provide some general guidance on autofocus settings, scan settings, and camera settings that might be relevant.\\\\n\\\\nFor autofocus settings, the context suggests that the \"Best\" algorithm might be suitable for certain samples, but it\\\\\\'s not always superior to the \"Basic\" algorithm. The \"FFT\" algorithm is slower and should only be used for Ring aperture contrast. The \"HG 2^8\" algorithm is more advanced and focuses on smaller local structures.\\\\n\\\\nFor scan settings, the context recommends using the standard parameters for optimal image quality. It also suggests that the camera settings, such as exposure time, white balance, and bit depth, can be adjusted to suit the specific needs of the user.\\\\n\\\\nHowever, without more specific information about the live cell imaging setup and the desired resolution, it\\\\\\'s difficult to provide specific settings recommendations.\\\\n\\\\nI would recommend consulting the ZEN 2 software guide or contacting the manufacturer\\\\\\'s support team for more detailed guidance on high-resolution imaging of live cells using the specific microscope and camera setup.\\'}', 'parsedOutput': 'The provided context does not specifically mention high-resolution imaging of live cells. However, it does provide some general guidance on autofocus settings, scan settings, and camera settings that might be relevant.\\n\\nFor autofocus settings, the context suggests that the \"Best\" algorithm might be suitable for certain samples, but it\\'s not always superior to the \"Basic\" algorithm. The \"FFT\" algorithm is slower and should only be used for Ring aperture contrast. The \"HG 2^8\" algorithm is more advanced and focuses on smaller local structures.\\n\\nFor scan settings, the context recommends using the standard parameters for optimal image quality. It also suggests that the camera settings, such as exposure time, white balance, and bit depth, can be adjusted to suit the specific needs of the user.\\n\\nHowever, without more specific information about the live cell imaging setup and the desired resolution, it\\'s difficult to provide specific settings recommendations.\\n\\nI would recommend consulting the ZEN 2 software guide or contacting the manufacturer\\'s support team for more detailed guidance on high-resolution imaging of live cells using the specific microscope and camera setup.', 'purpose': 'RAG'}], 'sources': ['ZEN2-Software_Guide_Slidescan.pdf']}\n"
     ]
    },
    {
     "name": "stdout",
     "output_type": "stream",
     "text": [
      "\n",
      "\u001b[1m> Finished chain.\u001b[0m\n",
      "\n",
      "\u001b[1m> Finished chain.\u001b[0m\n",
      "The provided context does not specifically mention high-resolution imaging of live cells. However, it does provide some general guidance on autofocus settings, scan settings, and camera settings that might be relevant.\n",
      "\n",
      "For autofocus settings, the context suggests that the \"Best\" algorithm might be suitable for certain samples, but it's not always superior to the \"Basic\" algorithm. The \"FFT\" algorithm is slower and should only be used for Ring aperture contrast. The \"HG 2^8\" algorithm is more advanced and focuses on smaller local structures.\n",
      "\n",
      "For scan settings, the context recommends using the standard parameters for optimal image quality. It also suggests that the camera settings, such as exposure time, white balance, and bit depth, can be adjusted to suit the specific needs of the user.\n",
      "\n",
      "However, without more specific information about the live cell imaging setup and the desired resolution, it's difficult to provide specific settings recommendations.\n",
      "\n",
      "I would recommend consulting the ZEN 2 software guide or contacting the manufacturer's support team for more detailed guidance on high-resolution imaging of live cells using the specific microscope and camera setup.\n",
      "Sources:\n",
      "ZEN2-Software_Guide_Slidescan.pdf\n"
     ]
    },
    {
     "data": {
      "text/plain": [
       "'The provided context does not specifically mention high-resolution imaging of live cells. However, it does provide some general guidance on autofocus settings, scan settings, and camera settings that might be relevant.\\n\\nFor autofocus settings, the context suggests that the \"Best\" algorithm might be suitable for certain samples, but it\\'s not always superior to the \"Basic\" algorithm. The \"FFT\" algorithm is slower and should only be used for Ring aperture contrast. The \"HG 2^8\" algorithm is more advanced and focuses on smaller local structures.\\n\\nFor scan settings, the context recommends using the standard parameters for optimal image quality. It also suggests that the camera settings, such as exposure time, white balance, and bit depth, can be adjusted to suit the specific needs of the user.\\n\\nHowever, without more specific information about the live cell imaging setup and the desired resolution, it\\'s difficult to provide specific settings recommendations.\\n\\nI would recommend consulting the ZEN 2 software guide or contacting the manufacturer\\'s support team for more detailed guidance on high-resolution imaging of live cells using the specific microscope and camera setup.'"
      ]
     },
     "execution_count": 19,
     "metadata": {},
     "output_type": "execute_result"
    }
   ],
   "source": [
    "bot.invoke('What settings should I use for high-resolution imaging of live cells?')"
   ]
  },
  {
   "cell_type": "code",
   "execution_count": 17,
   "id": "82fc3bfa-db9d-4fa0-b648-3681e3797f3a",
   "metadata": {},
   "outputs": [
    {
     "data": {
      "text/plain": [
       "<langchain_community.vectorstores.chroma.Chroma at 0x150e99fad6d0>"
      ]
     },
     "execution_count": 17,
     "metadata": {},
     "output_type": "execute_result"
    }
   ],
   "source": [
    "vectordb"
   ]
  }
 ],
 "metadata": {
  "kernelspec": {
   "display_name": "Python 3 (ipykernel)",
   "language": "python",
   "name": "python3"
  },
  "language_info": {
   "codemirror_mode": {
    "name": "ipython",
    "version": 3
   },
   "file_extension": ".py",
   "mimetype": "text/x-python",
   "name": "python",
   "nbconvert_exporter": "python",
   "pygments_lexer": "ipython3",
   "version": "3.11.7"
  }
 },
 "nbformat": 4,
 "nbformat_minor": 5
}
