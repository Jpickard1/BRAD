{
 "cells": [
  {
   "cell_type": "markdown",
   "id": "c7ab2f5a-d552-480c-8388-ea8eaeb575b5",
   "metadata": {},
   "source": [
    "# EX-10-June-2024-Analysis"
   ]
  },
  {
   "cell_type": "markdown",
   "id": "364ca5f8-f984-412d-843c-ac8ff491f369",
   "metadata": {},
   "source": [
    "## Set up"
   ]
  },
  {
   "cell_type": "code",
   "execution_count": 1,
   "id": "22c8ebd0-d69f-49f6-b317-49bf40c918e6",
   "metadata": {},
   "outputs": [
    {
     "name": "stderr",
     "output_type": "stream",
     "text": [
      "/home/machoi/.local/lib/python3.9/site-packages/pandas/core/computation/expressions.py:21: UserWarning: Pandas requires version '2.8.4' or newer of 'numexpr' (version '2.7.3' currently installed).\n",
      "  from pandas.core.computation.check import NUMEXPR_INSTALLED\n",
      "/home/machoi/.local/lib/python3.9/site-packages/pandas/core/arrays/masked.py:60: UserWarning: Pandas requires version '1.3.6' or newer of 'bottleneck' (version '1.3.2' currently installed).\n",
      "  from pandas.core import (\n"
     ]
    }
   ],
   "source": [
    "# Standard python imports\n",
    "import umap                     # dimension reduction\n",
    "import pandas as pd             # working with tables & spreadsheets\n",
    "import numpy as np              # working with matrices & numbers\n",
    "import seaborn as sns           # visualization\n",
    "import matplotlib.pyplot as plt # visualization\n"
   ]
  },
  {
   "cell_type": "code",
   "execution_count": 2,
   "id": "73b75921-b24d-4b8f-8790-9e08f78d5092",
   "metadata": {},
   "outputs": [],
   "source": [
    "# Packages for working with text and embeddings\n",
    "from langchain.embeddings import HuggingFaceEmbeddings # Embedding text to vectors\n",
    "from sentence_transformers import SentenceTransformer, util #to calculate similarity"
   ]
  },
  {
   "cell_type": "code",
   "execution_count": 3,
   "id": "fee30773-44ba-4a67-85ce-1d5ecc5975dc",
   "metadata": {},
   "outputs": [],
   "source": [
    "# Load results from experiment\n",
    "dfLLM = pd.read_csv('EX-10-JUNE-2024-LLM-llama3-70b.csv')\n",
    "dfRAG = pd.read_csv('EX-10-JUNE-2024-RAG-llama3-70b.csv')"
   ]
  },
  {
   "cell_type": "markdown",
   "id": "e61ac50f-e68c-4889-b6fb-8ab58839f4a5",
   "metadata": {},
   "source": [
    "# Represent Prompts as Vectors"
   ]
  },
  {
   "cell_type": "code",
   "execution_count": 4,
   "id": "a2cce9ec-cf4b-427d-b414-5e8f74c309cd",
   "metadata": {},
   "outputs": [
    {
     "name": "stderr",
     "output_type": "stream",
     "text": [
      "/home/machoi/.local/lib/python3.9/site-packages/huggingface_hub/file_download.py:1132: FutureWarning: `resume_download` is deprecated and will be removed in version 1.0.0. Downloads always resume when possible. If you want to force a new download, use `force_download=True`.\n",
      "  warnings.warn(\n",
      "/home/machoi/.local/lib/python3.9/site-packages/huggingface_hub/file_download.py:1132: FutureWarning: `resume_download` is deprecated and will be removed in version 1.0.0. Downloads always resume when possible. If you want to force a new download, use `force_download=True`.\n",
      "  warnings.warn(\n"
     ]
    }
   ],
   "source": [
    "# Load the embedder model\n",
    "embedder = HuggingFaceEmbeddings(model_name='BAAI/bge-base-en-v1.5')"
   ]
  },
  {
   "cell_type": "code",
   "execution_count": 5,
   "id": "7f046d12-4cd3-44fb-b726-374fc4c189dc",
   "metadata": {},
   "outputs": [
    {
     "data": {
      "text/plain": [
       "0       Gene regulation is often described from the pe...\n",
       "1       Gene regulation is often described from the pe...\n",
       "2       Gene regulation is often described from the pe...\n",
       "3       Gene regulation is often described from the pe...\n",
       "4       Gene regulation is often described from the pe...\n",
       "                              ...                        \n",
       "2065    In nonlinear control theory, there are differe...\n",
       "2066    In nonlinear control theory, there are differe...\n",
       "2067    In nonlinear control theory, there are differe...\n",
       "2068    In nonlinear control theory, there are differe...\n",
       "2069    In nonlinear control theory, there are differe...\n",
       "Name: prompt, Length: 2070, dtype: object"
      ]
     },
     "execution_count": 5,
     "metadata": {},
     "output_type": "execute_result"
    }
   ],
   "source": [
    "dfRAG['prompt'] # This is how you see all the prompts"
   ]
  },
  {
   "cell_type": "code",
   "execution_count": 6,
   "id": "4220a8fd-3104-4e44-b2f8-579291192c26",
   "metadata": {},
   "outputs": [],
   "source": [
    "uniquePrompts = list(dfRAG['prompt'].unique()) # Get the unique prompts"
   ]
  },
  {
   "cell_type": "code",
   "execution_count": 7,
   "id": "1fa7d6c8-010e-4dd0-9670-73797a510358",
   "metadata": {},
   "outputs": [
    {
     "name": "stderr",
     "output_type": "stream",
     "text": [
      "/home/machoi/.local/lib/python3.9/site-packages/torch/cuda/__init__.py:619: UserWarning: Can't initialize NVML\n",
      "  warnings.warn(\"Can't initialize NVML\")\n"
     ]
    },
    {
     "name": "stdout",
     "output_type": "stream",
     "text": [
      "768\n"
     ]
    }
   ],
   "source": [
    "# convert each prompt to an embedding\n",
    "embeddings = []\n",
    "for prompt in uniquePrompts:\n",
    "    embeddings.append(embedder.embed_query(prompt))\n",
    "embeddings = np.array(embeddings)\n",
    "print(len(embeddings[0]))"
   ]
  },
  {
   "cell_type": "code",
   "execution_count": 8,
   "id": "98eae20a-d6ff-4817-a7f6-8f7d2a6dc1c3",
   "metadata": {},
   "outputs": [
    {
     "name": "stderr",
     "output_type": "stream",
     "text": [
      "/home/machoi/.local/lib/python3.9/site-packages/umap/umap_.py:1945: UserWarning: n_jobs value 1 overridden to 1 by setting random_state. Use no seed for parallelism.\n",
      "  warn(f\"n_jobs value {self.n_jobs} overridden to 1 by setting random_state. Use no seed for parallelism.\")\n",
      "/home/machoi/.local/lib/python3.9/site-packages/numba/np/ufunc/parallel.py:371: NumbaWarning: \u001b[1mThe TBB threading layer requires TBB version 2021 update 6 or later i.e., TBB_INTERFACE_VERSION >= 12060. Found TBB_INTERFACE_VERSION = 12040. The TBB threading layer is disabled.\u001b[0m\n",
      "  warnings.warn(problem)\n"
     ]
    }
   ],
   "source": [
    "# make umap embeddings\n",
    "reducer = umap.UMAP(n_components=2, random_state=2)\n",
    "embedding = reducer.fit_transform(embeddings)\n",
    "\n",
    "udf = pd.DataFrame()           # save umap results to a dataframe\n",
    "udf['UMAP 1'] = embedding[:,0]\n",
    "udf['UMAP 2'] = embedding[:,1]\n",
    "udf['Prompt'] = uniquePrompts"
   ]
  },
  {
   "cell_type": "code",
   "execution_count": 9,
   "id": "34f5418e-f0c3-40a6-96fa-3993a57bba6b",
   "metadata": {},
   "outputs": [],
   "source": [
    "# makde some new columns in umap dataframe for number of words and length of each prompt\n",
    "udf['len'] = udf['Prompt'].str.len()\n",
    "udf['nwords'] = udf['Prompt'].str.split(' ').apply(len)"
   ]
  },
  {
   "cell_type": "code",
   "execution_count": 10,
   "id": "b87126d6-96ce-4117-9a46-5718408b695b",
   "metadata": {},
   "outputs": [
    {
     "data": {
      "image/png": "[encoded data removed]",
      "text/plain": [
       "<Figure size 450x450 with 1 Axes>"
      ]
     },
     "metadata": {
      "needs_background": "light"
     },
     "output_type": "display_data"
    }
   ],
   "source": [
    "# visualize the prompt embeddings\n",
    "plt.figure(figsize=(3, 3), dpi=150)\n",
    "sns.scatterplot(data=udf,\n",
    "                x='UMAP 1',\n",
    "                y='UMAP 2',\n",
    "                hue='nwords',\n",
    "                #palette='Paired',  # Alternative palettes: 'Set2', 'tab10', 'Accent', 'Paired'\n",
    "                edgecolor='k',  # Set the edge color to black\n",
    "                s=100,\n",
    "                #legend = False,\n",
    "                linewidth=0.7)  # Adjust the width of the edge\n",
    "\n",
    "plt.title('Prompts')\n",
    "plt.xlabel('UMAP 1')\n",
    "plt.ylabel('UMAP 2')\n",
    "#plt.xticks([])\n",
    "plt.yticks([])\n",
    "sns.despine()\n",
    "plt.show()\n"
   ]
  },
  {
   "cell_type": "code",
   "execution_count": 11,
   "id": "02efed51-9a3c-450c-9ec2-c01b43d8eaaf",
   "metadata": {},
   "outputs": [
    {
     "data": {
      "text/html": [
       "<div>\n",
       "<style scoped>\n",
       "    .dataframe tbody tr th:only-of-type {\n",
       "        vertical-align: middle;\n",
       "    }\n",
       "\n",
       "    .dataframe tbody tr th {\n",
       "        vertical-align: top;\n",
       "    }\n",
       "\n",
       "    .dataframe thead th {\n",
       "        text-align: right;\n",
       "    }\n",
       "</style>\n",
       "<table border=\"1\" class=\"dataframe\">\n",
       "  <thead>\n",
       "    <tr style=\"text-align: right;\">\n",
       "      <th></th>\n",
       "      <th>UMAP 1</th>\n",
       "      <th>UMAP 2</th>\n",
       "      <th>Prompt</th>\n",
       "      <th>len</th>\n",
       "      <th>nwords</th>\n",
       "    </tr>\n",
       "  </thead>\n",
       "  <tbody>\n",
       "    <tr>\n",
       "      <th>0</th>\n",
       "      <td>16.527084</td>\n",
       "      <td>2.848790</td>\n",
       "      <td>Gene regulation is often described from the pe...</td>\n",
       "      <td>382</td>\n",
       "      <td>58</td>\n",
       "    </tr>\n",
       "    <tr>\n",
       "      <th>1</th>\n",
       "      <td>16.900120</td>\n",
       "      <td>2.289071</td>\n",
       "      <td>Compare and contrast the utility of dynamical ...</td>\n",
       "      <td>257</td>\n",
       "      <td>37</td>\n",
       "    </tr>\n",
       "    <tr>\n",
       "      <th>2</th>\n",
       "      <td>17.430874</td>\n",
       "      <td>4.003430</td>\n",
       "      <td>Synthetic lethality occurs when the knockout o...</td>\n",
       "      <td>402</td>\n",
       "      <td>69</td>\n",
       "    </tr>\n",
       "    <tr>\n",
       "      <th>3</th>\n",
       "      <td>17.141191</td>\n",
       "      <td>5.395928</td>\n",
       "      <td>The addition of transcription factors have bee...</td>\n",
       "      <td>245</td>\n",
       "      <td>40</td>\n",
       "    </tr>\n",
       "    <tr>\n",
       "      <th>4</th>\n",
       "      <td>18.008572</td>\n",
       "      <td>3.148445</td>\n",
       "      <td>RNAi is used to silence different genes. How l...</td>\n",
       "      <td>153</td>\n",
       "      <td>27</td>\n",
       "    </tr>\n",
       "    <tr>\n",
       "      <th>...</th>\n",
       "      <td>...</td>\n",
       "      <td>...</td>\n",
       "      <td>...</td>\n",
       "      <td>...</td>\n",
       "      <td>...</td>\n",
       "    </tr>\n",
       "    <tr>\n",
       "      <th>202</th>\n",
       "      <td>16.077547</td>\n",
       "      <td>3.937479</td>\n",
       "      <td>Chromatin conformation capture methods are one...</td>\n",
       "      <td>273</td>\n",
       "      <td>42</td>\n",
       "    </tr>\n",
       "    <tr>\n",
       "      <th>203</th>\n",
       "      <td>16.013634</td>\n",
       "      <td>3.606310</td>\n",
       "      <td>I recently completed my Hi-C experiment and ha...</td>\n",
       "      <td>186</td>\n",
       "      <td>34</td>\n",
       "    </tr>\n",
       "    <tr>\n",
       "      <th>204</th>\n",
       "      <td>15.688565</td>\n",
       "      <td>3.680752</td>\n",
       "      <td>Often, Hi-C data from chromatin conformation c...</td>\n",
       "      <td>326</td>\n",
       "      <td>50</td>\n",
       "    </tr>\n",
       "    <tr>\n",
       "      <th>205</th>\n",
       "      <td>14.950389</td>\n",
       "      <td>1.869179</td>\n",
       "      <td>In nonlinear control theory, there are differe...</td>\n",
       "      <td>191</td>\n",
       "      <td>31</td>\n",
       "    </tr>\n",
       "    <tr>\n",
       "      <th>206</th>\n",
       "      <td>14.871212</td>\n",
       "      <td>1.752614</td>\n",
       "      <td>In nonlinear control theory, there are differe...</td>\n",
       "      <td>193</td>\n",
       "      <td>31</td>\n",
       "    </tr>\n",
       "  </tbody>\n",
       "</table>\n",
       "<p>207 rows × 5 columns</p>\n",
       "</div>"
      ],
      "text/plain": [
       "        UMAP 1    UMAP 2                                             Prompt  \\\n",
       "0    16.527084  2.848790  Gene regulation is often described from the pe...   \n",
       "1    16.900120  2.289071  Compare and contrast the utility of dynamical ...   \n",
       "2    17.430874  4.003430  Synthetic lethality occurs when the knockout o...   \n",
       "3    17.141191  5.395928  The addition of transcription factors have bee...   \n",
       "4    18.008572  3.148445  RNAi is used to silence different genes. How l...   \n",
       "..         ...       ...                                                ...   \n",
       "202  16.077547  3.937479  Chromatin conformation capture methods are one...   \n",
       "203  16.013634  3.606310  I recently completed my Hi-C experiment and ha...   \n",
       "204  15.688565  3.680752  Often, Hi-C data from chromatin conformation c...   \n",
       "205  14.950389  1.869179  In nonlinear control theory, there are differe...   \n",
       "206  14.871212  1.752614  In nonlinear control theory, there are differe...   \n",
       "\n",
       "     len  nwords  \n",
       "0    382      58  \n",
       "1    257      37  \n",
       "2    402      69  \n",
       "3    245      40  \n",
       "4    153      27  \n",
       "..   ...     ...  \n",
       "202  273      42  \n",
       "203  186      34  \n",
       "204  326      50  \n",
       "205  191      31  \n",
       "206  193      31  \n",
       "\n",
       "[207 rows x 5 columns]"
      ]
     },
     "execution_count": 11,
     "metadata": {},
     "output_type": "execute_result"
    }
   ],
   "source": [
    "# What is this outlieing cluster?\n",
    "udf[udf['UMAP 1'] > 5]\n",
    "\n",
    "# Ah it is the set of prompts related to math"
   ]
  },
  {
   "cell_type": "markdown",
   "id": "0e9df0fc-cc05-4c5a-9483-c8844b4d3abd",
   "metadata": {},
   "source": [
    "# Responses from LLM Only"
   ]
  },
  {
   "cell_type": "code",
   "execution_count": 12,
   "id": "05dbb700-0cfa-4eb4-9ec3-a95cf9bf568f",
   "metadata": {},
   "outputs": [
    {
     "name": "stdout",
     "output_type": "stream",
     "text": [
      "(414, 768)\n"
     ]
    }
   ],
   "source": [
    "# convert each prompt to an embedding\n",
    "embeddings = []\n",
    "for prompt in dfLLM['response-0']:\n",
    "    embeddings.append(embedder.embed_query(prompt))\n",
    "for prompt in dfLLM['response-1']:\n",
    "    embeddings.append(embedder.embed_query(prompt))\n",
    "embeddings = np.array(embeddings)\n",
    "print(embeddings.shape)"
   ]
  },
  {
   "cell_type": "code",
   "execution_count": 13,
   "id": "03b5f7b7-8439-42f6-bd9d-50303b27ca47",
   "metadata": {},
   "outputs": [
    {
     "name": "stderr",
     "output_type": "stream",
     "text": [
      "/home/machoi/.local/lib/python3.9/site-packages/umap/umap_.py:1945: UserWarning: n_jobs value 1 overridden to 1 by setting random_state. Use no seed for parallelism.\n",
      "  warn(f\"n_jobs value {self.n_jobs} overridden to 1 by setting random_state. Use no seed for parallelism.\")\n"
     ]
    }
   ],
   "source": [
    "# make umap embeddings\n",
    "reducer = umap.UMAP(n_components=2, random_state=2)\n",
    "embedding = reducer.fit_transform(embeddings)\n",
    "\n",
    "udf = pd.DataFrame()           # save umap results to a dataframe\n",
    "udf['UMAP 1'] = embedding[:,0]\n",
    "udf['UMAP 2'] = embedding[:,1]\n",
    "udf['Prompt'] = list(dfLLM['response-0']) + list(dfLLM['response-1'])"
   ]
  },
  {
   "cell_type": "code",
   "execution_count": 14,
   "id": "1d355fc3-2cfb-4d50-906a-357e6f8546b7",
   "metadata": {},
   "outputs": [
    {
     "data": {
      "image/png": "[encoded data removed]",
      "text/plain": [
       "<Figure size 450x450 with 1 Axes>"
      ]
     },
     "metadata": {
      "needs_background": "light"
     },
     "output_type": "display_data"
    }
   ],
   "source": [
    "# visualize the prompt embeddings\n",
    "plt.figure(figsize=(3, 3), dpi=150)\n",
    "sns.scatterplot(data=udf,\n",
    "                x='UMAP 1',\n",
    "                y='UMAP 2',\n",
    "                #hue='nwords',\n",
    "                #palette='Paired',  # Alternative palettes: 'Set2', 'tab10', 'Accent', 'Paired'\n",
    "                edgecolor='k',  # Set the edge color to black\n",
    "                s=100,\n",
    "                #legend = False,\n",
    "                linewidth=0.7)  # Adjust the width of the edge\n",
    "\n",
    "plt.title('Prompts')\n",
    "plt.xlabel('UMAP 1')\n",
    "plt.ylabel('UMAP 2')\n",
    "#plt.xticks([])\n",
    "#plt.yticks([])\n",
    "sns.despine()\n",
    "plt.show()"
   ]
  },
  {
   "cell_type": "code",
   "execution_count": 15,
   "id": "6bfd9b31-2758-4aea-9fe6-9ce109dce392",
   "metadata": {},
   "outputs": [
    {
     "data": {
      "text/html": [
       "<div>\n",
       "<style scoped>\n",
       "    .dataframe tbody tr th:only-of-type {\n",
       "        vertical-align: middle;\n",
       "    }\n",
       "\n",
       "    .dataframe tbody tr th {\n",
       "        vertical-align: top;\n",
       "    }\n",
       "\n",
       "    .dataframe thead th {\n",
       "        text-align: right;\n",
       "    }\n",
       "</style>\n",
       "<table border=\"1\" class=\"dataframe\">\n",
       "  <thead>\n",
       "    <tr style=\"text-align: right;\">\n",
       "      <th></th>\n",
       "      <th>UMAP 1</th>\n",
       "      <th>UMAP 2</th>\n",
       "      <th>Prompt</th>\n",
       "    </tr>\n",
       "  </thead>\n",
       "  <tbody>\n",
       "  </tbody>\n",
       "</table>\n",
       "</div>"
      ],
      "text/plain": [
       "Empty DataFrame\n",
       "Columns: [UMAP 1, UMAP 2, Prompt]\n",
       "Index: []"
      ]
     },
     "execution_count": 15,
     "metadata": {},
     "output_type": "execute_result"
    }
   ],
   "source": [
    "udf[(udf['UMAP 2'] < -4) & (udf['UMAP 1'] < 3)]"
   ]
  },
  {
   "cell_type": "code",
   "execution_count": 16,
   "id": "d9d605e0-bbc4-4984-88a6-f2c50f584622",
   "metadata": {},
   "outputs": [
    {
     "data": {
      "text/html": [
       "<div>\n",
       "<style scoped>\n",
       "    .dataframe tbody tr th:only-of-type {\n",
       "        vertical-align: middle;\n",
       "    }\n",
       "\n",
       "    .dataframe tbody tr th {\n",
       "        vertical-align: top;\n",
       "    }\n",
       "\n",
       "    .dataframe thead th {\n",
       "        text-align: right;\n",
       "    }\n",
       "</style>\n",
       "<table border=\"1\" class=\"dataframe\">\n",
       "  <thead>\n",
       "    <tr style=\"text-align: right;\">\n",
       "      <th></th>\n",
       "      <th>UMAP 1</th>\n",
       "      <th>UMAP 2</th>\n",
       "      <th>Prompt</th>\n",
       "    </tr>\n",
       "  </thead>\n",
       "  <tbody>\n",
       "    <tr>\n",
       "      <th>0</th>\n",
       "      <td>-0.795827</td>\n",
       "      <td>10.389265</td>\n",
       "      <td>I don't know. The question is quite specific a...</td>\n",
       "    </tr>\n",
       "    <tr>\n",
       "      <th>1</th>\n",
       "      <td>-0.508393</td>\n",
       "      <td>11.015285</td>\n",
       "      <td>What a fascinating question!\\n\\nDynamical syst...</td>\n",
       "    </tr>\n",
       "    <tr>\n",
       "      <th>2</th>\n",
       "      <td>-1.546285</td>\n",
       "      <td>9.060222</td>\n",
       "      <td>These two ideas are related in that they both ...</td>\n",
       "    </tr>\n",
       "    <tr>\n",
       "      <th>3</th>\n",
       "      <td>-4.475158</td>\n",
       "      <td>8.602977</td>\n",
       "      <td>The relationship between transcription factor ...</td>\n",
       "    </tr>\n",
       "    <tr>\n",
       "      <th>4</th>\n",
       "      <td>-2.574024</td>\n",
       "      <td>8.501575</td>\n",
       "      <td>The duration of RNA interference (RNAi) gene s...</td>\n",
       "    </tr>\n",
       "    <tr>\n",
       "      <th>...</th>\n",
       "      <td>...</td>\n",
       "      <td>...</td>\n",
       "      <td>...</td>\n",
       "    </tr>\n",
       "    <tr>\n",
       "      <th>408</th>\n",
       "      <td>-0.675305</td>\n",
       "      <td>13.920862</td>\n",
       "      <td>There are several methods to deliver transcrip...</td>\n",
       "    </tr>\n",
       "    <tr>\n",
       "      <th>409</th>\n",
       "      <td>-1.401724</td>\n",
       "      <td>7.150062</td>\n",
       "      <td>According to the context, polymer models, such...</td>\n",
       "    </tr>\n",
       "    <tr>\n",
       "      <th>410</th>\n",
       "      <td>-1.585951</td>\n",
       "      <td>7.074240</td>\n",
       "      <td>Congratulations on completing your Hi-C experi...</td>\n",
       "    </tr>\n",
       "    <tr>\n",
       "      <th>412</th>\n",
       "      <td>-0.618908</td>\n",
       "      <td>10.807566</td>\n",
       "      <td>I'd be happy to help!\\n\\nIn control theory, ob...</td>\n",
       "    </tr>\n",
       "    <tr>\n",
       "      <th>413</th>\n",
       "      <td>-0.593621</td>\n",
       "      <td>10.877089</td>\n",
       "      <td>I'd be happy to help!\\n\\nIn control theory, co...</td>\n",
       "    </tr>\n",
       "  </tbody>\n",
       "</table>\n",
       "<p>334 rows × 3 columns</p>\n",
       "</div>"
      ],
      "text/plain": [
       "       UMAP 1     UMAP 2                                             Prompt\n",
       "0   -0.795827  10.389265  I don't know. The question is quite specific a...\n",
       "1   -0.508393  11.015285  What a fascinating question!\\n\\nDynamical syst...\n",
       "2   -1.546285   9.060222  These two ideas are related in that they both ...\n",
       "3   -4.475158   8.602977  The relationship between transcription factor ...\n",
       "4   -2.574024   8.501575  The duration of RNA interference (RNAi) gene s...\n",
       "..        ...        ...                                                ...\n",
       "408 -0.675305  13.920862  There are several methods to deliver transcrip...\n",
       "409 -1.401724   7.150062  According to the context, polymer models, such...\n",
       "410 -1.585951   7.074240  Congratulations on completing your Hi-C experi...\n",
       "412 -0.618908  10.807566  I'd be happy to help!\\n\\nIn control theory, ob...\n",
       "413 -0.593621  10.877089  I'd be happy to help!\\n\\nIn control theory, co...\n",
       "\n",
       "[334 rows x 3 columns]"
      ]
     },
     "execution_count": 16,
     "metadata": {},
     "output_type": "execute_result"
    }
   ],
   "source": [
    "udf[udf['UMAP 2'] > 7]"
   ]
  },
  {
   "cell_type": "code",
   "execution_count": 17,
   "id": "f0289c32-8b1a-4688-a2aa-7f0958f4fed6",
   "metadata": {},
   "outputs": [
    {
     "data": {
      "text/html": [
       "<div>\n",
       "<style scoped>\n",
       "    .dataframe tbody tr th:only-of-type {\n",
       "        vertical-align: middle;\n",
       "    }\n",
       "\n",
       "    .dataframe tbody tr th {\n",
       "        vertical-align: top;\n",
       "    }\n",
       "\n",
       "    .dataframe thead th {\n",
       "        text-align: right;\n",
       "    }\n",
       "</style>\n",
       "<table border=\"1\" class=\"dataframe\">\n",
       "  <thead>\n",
       "    <tr style=\"text-align: right;\">\n",
       "      <th></th>\n",
       "      <th>UMAP 1</th>\n",
       "      <th>UMAP 2</th>\n",
       "      <th>Prompt</th>\n",
       "    </tr>\n",
       "  </thead>\n",
       "  <tbody>\n",
       "    <tr>\n",
       "      <th>23</th>\n",
       "      <td>16.600540</td>\n",
       "      <td>-3.993419</td>\n",
       "      <td>I don't know.</td>\n",
       "    </tr>\n",
       "    <tr>\n",
       "      <th>62</th>\n",
       "      <td>16.016813</td>\n",
       "      <td>-3.238431</td>\n",
       "      <td>I don't have enough information to provide a s...</td>\n",
       "    </tr>\n",
       "    <tr>\n",
       "      <th>67</th>\n",
       "      <td>16.744514</td>\n",
       "      <td>-3.971726</td>\n",
       "      <td>I don't know.</td>\n",
       "    </tr>\n",
       "    <tr>\n",
       "      <th>105</th>\n",
       "      <td>16.660532</td>\n",
       "      <td>-4.052228</td>\n",
       "      <td>I don't know.</td>\n",
       "    </tr>\n",
       "    <tr>\n",
       "      <th>111</th>\n",
       "      <td>16.735573</td>\n",
       "      <td>-4.038409</td>\n",
       "      <td>I don't know.</td>\n",
       "    </tr>\n",
       "    <tr>\n",
       "      <th>112</th>\n",
       "      <td>16.089262</td>\n",
       "      <td>-3.306937</td>\n",
       "      <td>I don't have enough information to provide a s...</td>\n",
       "    </tr>\n",
       "    <tr>\n",
       "      <th>115</th>\n",
       "      <td>16.179714</td>\n",
       "      <td>-3.411871</td>\n",
       "      <td>I don't know the answer to this question as it...</td>\n",
       "    </tr>\n",
       "    <tr>\n",
       "      <th>127</th>\n",
       "      <td>16.735388</td>\n",
       "      <td>-4.161504</td>\n",
       "      <td>I don't know.</td>\n",
       "    </tr>\n",
       "    <tr>\n",
       "      <th>135</th>\n",
       "      <td>16.494623</td>\n",
       "      <td>-3.866020</td>\n",
       "      <td>I don't know. The provided context is empty, a...</td>\n",
       "    </tr>\n",
       "    <tr>\n",
       "      <th>137</th>\n",
       "      <td>16.628893</td>\n",
       "      <td>-4.012102</td>\n",
       "      <td>I don't know.</td>\n",
       "    </tr>\n",
       "    <tr>\n",
       "      <th>141</th>\n",
       "      <td>16.066076</td>\n",
       "      <td>-3.284855</td>\n",
       "      <td>I don't know the answer to this question as it...</td>\n",
       "    </tr>\n",
       "    <tr>\n",
       "      <th>160</th>\n",
       "      <td>16.215322</td>\n",
       "      <td>-3.432954</td>\n",
       "      <td>Based on the provided context, I don't have en...</td>\n",
       "    </tr>\n",
       "    <tr>\n",
       "      <th>230</th>\n",
       "      <td>16.639091</td>\n",
       "      <td>-4.084302</td>\n",
       "      <td>I don't know.</td>\n",
       "    </tr>\n",
       "    <tr>\n",
       "      <th>269</th>\n",
       "      <td>16.060104</td>\n",
       "      <td>-3.284100</td>\n",
       "      <td>I don't know the answer to this question as it...</td>\n",
       "    </tr>\n",
       "    <tr>\n",
       "      <th>312</th>\n",
       "      <td>16.755861</td>\n",
       "      <td>-4.145342</td>\n",
       "      <td>I don't know.</td>\n",
       "    </tr>\n",
       "    <tr>\n",
       "      <th>318</th>\n",
       "      <td>16.812172</td>\n",
       "      <td>-4.197598</td>\n",
       "      <td>I don't know.</td>\n",
       "    </tr>\n",
       "    <tr>\n",
       "      <th>319</th>\n",
       "      <td>16.051147</td>\n",
       "      <td>-3.334043</td>\n",
       "      <td>I don't have enough information to provide a s...</td>\n",
       "    </tr>\n",
       "    <tr>\n",
       "      <th>322</th>\n",
       "      <td>16.106493</td>\n",
       "      <td>-3.331814</td>\n",
       "      <td>I don't know the answer to this question as it...</td>\n",
       "    </tr>\n",
       "    <tr>\n",
       "      <th>325</th>\n",
       "      <td>15.967811</td>\n",
       "      <td>-3.183832</td>\n",
       "      <td>I'm not familiar with the specific study or re...</td>\n",
       "    </tr>\n",
       "    <tr>\n",
       "      <th>327</th>\n",
       "      <td>16.137787</td>\n",
       "      <td>-3.368218</td>\n",
       "      <td>According to the provided context, I don't hav...</td>\n",
       "    </tr>\n",
       "    <tr>\n",
       "      <th>332</th>\n",
       "      <td>16.712009</td>\n",
       "      <td>-4.083764</td>\n",
       "      <td>I don't know.</td>\n",
       "    </tr>\n",
       "    <tr>\n",
       "      <th>334</th>\n",
       "      <td>16.633631</td>\n",
       "      <td>-4.129645</td>\n",
       "      <td>I don't know.</td>\n",
       "    </tr>\n",
       "    <tr>\n",
       "      <th>342</th>\n",
       "      <td>16.591061</td>\n",
       "      <td>-3.965481</td>\n",
       "      <td>I don't know. The context provided is empty, a...</td>\n",
       "    </tr>\n",
       "    <tr>\n",
       "      <th>344</th>\n",
       "      <td>16.737705</td>\n",
       "      <td>-4.048592</td>\n",
       "      <td>I don't know.</td>\n",
       "    </tr>\n",
       "    <tr>\n",
       "      <th>348</th>\n",
       "      <td>16.182550</td>\n",
       "      <td>-3.480260</td>\n",
       "      <td>I don't know. The provided context is empty, a...</td>\n",
       "    </tr>\n",
       "    <tr>\n",
       "      <th>367</th>\n",
       "      <td>16.096292</td>\n",
       "      <td>-3.325633</td>\n",
       "      <td>Based on the provided context, I don't have en...</td>\n",
       "    </tr>\n",
       "  </tbody>\n",
       "</table>\n",
       "</div>"
      ],
      "text/plain": [
       "        UMAP 1    UMAP 2                                             Prompt\n",
       "23   16.600540 -3.993419                                      I don't know.\n",
       "62   16.016813 -3.238431  I don't have enough information to provide a s...\n",
       "67   16.744514 -3.971726                                      I don't know.\n",
       "105  16.660532 -4.052228                                      I don't know.\n",
       "111  16.735573 -4.038409                                      I don't know.\n",
       "112  16.089262 -3.306937  I don't have enough information to provide a s...\n",
       "115  16.179714 -3.411871  I don't know the answer to this question as it...\n",
       "127  16.735388 -4.161504                                      I don't know.\n",
       "135  16.494623 -3.866020  I don't know. The provided context is empty, a...\n",
       "137  16.628893 -4.012102                                      I don't know.\n",
       "141  16.066076 -3.284855  I don't know the answer to this question as it...\n",
       "160  16.215322 -3.432954  Based on the provided context, I don't have en...\n",
       "230  16.639091 -4.084302                                      I don't know.\n",
       "269  16.060104 -3.284100  I don't know the answer to this question as it...\n",
       "312  16.755861 -4.145342                                      I don't know.\n",
       "318  16.812172 -4.197598                                      I don't know.\n",
       "319  16.051147 -3.334043  I don't have enough information to provide a s...\n",
       "322  16.106493 -3.331814  I don't know the answer to this question as it...\n",
       "325  15.967811 -3.183832  I'm not familiar with the specific study or re...\n",
       "327  16.137787 -3.368218  According to the provided context, I don't hav...\n",
       "332  16.712009 -4.083764                                      I don't know.\n",
       "334  16.633631 -4.129645                                      I don't know.\n",
       "342  16.591061 -3.965481  I don't know. The context provided is empty, a...\n",
       "344  16.737705 -4.048592                                      I don't know.\n",
       "348  16.182550 -3.480260  I don't know. The provided context is empty, a...\n",
       "367  16.096292 -3.325633  Based on the provided context, I don't have en..."
      ]
     },
     "execution_count": 17,
     "metadata": {},
     "output_type": "execute_result"
    }
   ],
   "source": [
    "udf[udf['UMAP 1'] > 10]"
   ]
  },
  {
   "cell_type": "markdown",
   "id": "6a4efbc7-2fd0-4e66-a1e7-c1ba66648af8",
   "metadata": {},
   "source": [
    "## Response Analysis"
   ]
  },
  {
   "cell_type": "markdown",
   "id": "473d4e6f-a180-4e8d-9ea1-5a5f19245e47",
   "metadata": {},
   "source": [
    "1. Compare query with responses and see if worst doc masked = best response\n",
    "2. Compare responses with masked doc\n",
    "3. Compare (2) and score between LLM w/o RAG and masked doc and see if RAG does better\n"
   ]
  },
  {
   "cell_type": "code",
   "execution_count": null,
   "id": "a71ceb72-2e6c-4664-8069-579851ecad67",
   "metadata": {},
   "outputs": [],
   "source": []
  },
  {
   "cell_type": "code",
   "execution_count": 18,
   "id": "8f2f5de1-2433-4248-bce9-f11e87c5f753",
   "metadata": {},
   "outputs": [
    {
     "name": "stdout",
     "output_type": "stream",
     "text": [
      "2070\n"
     ]
    }
   ],
   "source": [
    "number_of_responses = len(dfRAG['response'])\n",
    "print(number_of_responses)\n",
    "def cosine_sim(doc1, doc2):\n",
    "    dotprod = np.dot(doc1, doc2)\n",
    "    doc1norm = np.linalg.norm(doc1)\n",
    "    doc2norm = np.linalg.norm(doc2)\n",
    "    return (dotprod / (doc1norm*doc2norm))"
   ]
  },
  {
   "cell_type": "code",
   "execution_count": 26,
   "id": "027ee142-bac4-4b9a-a97c-5cc5db0f86f6",
   "metadata": {},
   "outputs": [
    {
     "name": "stdout",
     "output_type": "stream",
     "text": [
      "                                               Response  SimScore  hidden-mean\n",
      "0     Based on the provided context, it seems that t...  0.820625     0.767294\n",
      "1     Based on the provided context, it seems that t...  0.838815     0.767906\n",
      "2     Based on the provided context, it seems that t...  0.824021     0.770486\n",
      "3     Based on the provided context, it seems that t...  0.780363     0.780678\n",
      "4     Based on the provided context, it seems that t...  0.786614     0.783259\n",
      "...                                                 ...       ...          ...\n",
      "2065  In nonlinear control theory, controllability r...  0.839725     0.778345\n",
      "2066  In nonlinear control theory, controllability r...  0.821966     0.781089\n",
      "2067  I can help you with that!\\n\\nIn nonlinear cont...  0.842532     0.782072\n",
      "2068  In nonlinear control theory, controllability r...  0.828482     0.782291\n",
      "2069  In nonlinear control theory, controllability r...  0.817775     0.786732\n",
      "\n",
      "[2070 rows x 3 columns]\n",
      "Out of the 207 questions, 19 of the responses did the best with the best resources.\n"
     ]
    }
   ],
   "source": [
    "#objective 1\n",
    "index = 0\n",
    "sim_score = []\n",
    "response_comp = []\n",
    "hidden_means = []\n",
    "for response in dfRAG['response']:\n",
    "    question = dfRAG['prompt'][index]\n",
    "    r_embedding = embedder.embed_query(response)\n",
    "    r_embedding = np.array(r_embedding)\n",
    "    q_embedding = embedder.embed_query(question)\n",
    "    q_embedding = np.array(q_embedding)\n",
    "    #append to lists to make into dataFrame\n",
    "    sim_score.append(cosine_sim(r_embedding, q_embedding))\n",
    "    response_comp.append(response)\n",
    "    hidden_means.append((dfRAG['hiddenScore-0'][index]+dfRAG['hiddenScore-1'][index])/2)\n",
    "    index += 1\n",
    "scoring_df = pd.DataFrame({\n",
    "    'Response': response_comp,\n",
    "    'SimScore': sim_score,\n",
    "    'hidden-mean': hidden_means\n",
    "})\n",
    "print(scoring_df)\n",
    "confirmation = 0\n",
    "number_of_questions = int(number_of_responses/10)\n",
    "for i in range(0, number_of_questions):\n",
    "    lower_bound = i*10\n",
    "    upper_bound = (i)*10+9\n",
    "    subset_score = scoring_df.loc[lower_bound:upper_bound]\n",
    "    best_score = max(subset_score['SimScore'].tolist())\n",
    "    worst_docs = min(subset_score['hidden-mean'].tolist())\n",
    "    best_score_index = subset_score['SimScore'].tolist().index(best_score)\n",
    "    worst_docs_index = subset_score['hidden-mean'].tolist().index(worst_docs)\n",
    "    #best_score = subset_score['SimScore'].unstack().idxmax()\n",
    "    #worst_docs = subset_score['hidden-mean'].unstack().idxmin()\n",
    "    if best_score_index == worst_docs_index:\n",
    "        confirmation += 1\n",
    "print(f\"Out of the {number_of_questions} questions, {confirmation} of the responses did the best with the best resources.\")"
   ]
  },
  {
   "cell_type": "code",
   "execution_count": null,
   "id": "5784253f-712a-44b2-9be0-331fa9055560",
   "metadata": {},
   "outputs": [],
   "source": []
  },
  {
   "cell_type": "code",
   "execution_count": 20,
   "id": "486b1206-597d-4edb-a9ef-ef52997a2a9a",
   "metadata": {},
   "outputs": [],
   "source": [
    "# Function to map values to inices\n",
    "def map_values_to_indices(values, mapping):\n",
    "    return [mapping[value] for value in values]"
   ]
  },
  {
   "cell_type": "code",
   "execution_count": 28,
   "id": "5d5e7816-1bb9-4914-a39f-f8151ba5ea1a",
   "metadata": {},
   "outputs": [
    {
     "name": "stdout",
     "output_type": "stream",
     "text": [
      "                                               Response  hiddenScore-1  \\\n",
      "0     Based on the provided context, it seems that t...       0.769875   \n",
      "1     Based on the provided context, it seems that t...       0.771098   \n",
      "2     Based on the provided context, it seems that t...       0.771098   \n",
      "3     Based on the provided context, it seems that t...       0.796643   \n",
      "4     Based on the provided context, it seems that t...       0.796643   \n",
      "...                                                 ...            ...   \n",
      "2065  In nonlinear control theory, controllability r...       0.782787   \n",
      "2066  In nonlinear control theory, controllability r...       0.790678   \n",
      "2067  I can help you with that!\\n\\nIn nonlinear cont...       0.790678   \n",
      "2068  In nonlinear control theory, controllability r...       0.790678   \n",
      "2069  In nonlinear control theory, controllability r...       0.790678   \n",
      "\n",
      "      hiddenScore-2  hiddenScoreComp-1  hiddenScoreComp-2  \n",
      "0          0.764714           0.764708           0.739259  \n",
      "1          0.764714           0.804652           0.751962  \n",
      "2          0.769875           0.788335           0.773427  \n",
      "3          0.764714           0.801610           0.761907  \n",
      "4          0.769875           0.773494           0.771488  \n",
      "...             ...                ...                ...  \n",
      "2065       0.773904           0.702776           0.704628  \n",
      "2066       0.771501           0.758686           0.717522  \n",
      "2067       0.773467           0.769319           0.707958  \n",
      "2068       0.773904           0.762038           0.700093  \n",
      "2069       0.782787           0.735828           0.668993  \n",
      "\n",
      "[2070 rows x 5 columns]\n"
     ]
    }
   ],
   "source": [
    "#Objective 2\n",
    "index = 0\n",
    "response_comp = []\n",
    "hidden_score1 = []\n",
    "hidden_score2 = []\n",
    "hidden_score_comp1 = []\n",
    "hidden_score_comp2 = []\n",
    "\n",
    "for response in dfRAG['response']:\n",
    "    r_embedding = embedder.embed_query(response)\n",
    "    r_embedding = np.array(r_embedding)\n",
    "    hidden1 = str(dfRAG['hiddenText-0'][index])\n",
    "    hidden2 = str(dfRAG['hiddenText-1'][index])\n",
    "    h_embedding1 = embedder.embed_query(hidden1)\n",
    "    h_embedding1 = np.array(h_embedding1)\n",
    "    h_embedding2 = embedder.embed_query(hidden2)\n",
    "    h_embedding2 = np.array(h_embedding2)\n",
    "    hidden1 = cosine_sim(r_embedding, h_embedding1)\n",
    "    hidden2 = cosine_sim(r_embedding, h_embedding2)\n",
    "    #append to lists to make into dataFrame\n",
    "    response_comp.append(response)\n",
    "    hidden_score1.append(dfRAG['hiddenScore-0'][index])\n",
    "    hidden_score2.append(dfRAG['hiddenScore-1'][index])\n",
    "    #comparison between response to masked doc\n",
    "    hidden_score_comp1.append(hidden1)\n",
    "    hidden_score_comp2.append(hidden2)\n",
    "    index += 1\n",
    "scoring_df = pd.DataFrame({\n",
    "    'Response': response_comp,\n",
    "    'hiddenScore-1': hidden_score1,\n",
    "    'hiddenScore-2': hidden_score2,\n",
    "    'hiddenScoreComp-1': hidden_score_comp1,\n",
    "    'hiddenScoreComp-2': hidden_score_comp2\n",
    "})\n",
    "print(scoring_df)"
   ]
  },
  {
   "cell_type": "code",
   "execution_count": 44,
   "id": "df360180-7d2d-498b-b20d-974352f7546e",
   "metadata": {},
   "outputs": [
    {
     "name": "stdout",
     "output_type": "stream",
     "text": [
      "Out of the 207 questions, 67 of the weakest document have on average the weakest response.\n"
     ]
    }
   ],
   "source": [
    "number_of_questions = int(number_of_responses/10)\n",
    "match = 0\n",
    "for i in range(0, number_of_questions):\n",
    "    lower_bound = i*10\n",
    "    upper_bound = (i)*10+9\n",
    "    #look at each question individually\n",
    "    subset_score = scoring_df.loc[lower_bound:upper_bound]\n",
    "    column1 = subset_score['hiddenScore-1'].to_list()\n",
    "    column2 = subset_score['hiddenScore-2'].to_list()\n",
    "    all_values = column1 + column2\n",
    "    distinct_values = list(set(all_values))\n",
    "    value_to_index = {value: idx for idx, value in enumerate(distinct_values)}\n",
    "    #print(\"Distinct values and their indices:\", value_to_index)\n",
    "    column1_indices = map_values_to_indices(column1, value_to_index)\n",
    "    column2_indices = map_values_to_indices(column2, value_to_index)\n",
    "\n",
    "    #print(\"Column 1 indices:\", column1_indices)\n",
    "    #print(\"Column 2 indices:\", column2_indices)\n",
    "    column1_score = subset_score['hiddenScoreComp-1'].to_list()\n",
    "    column2_score = subset_score['hiddenScoreComp-2'].to_list()\n",
    "    # Combine the indices into rows\n",
    "    rows = list(zip(column1_indices, column2_indices))\n",
    "\n",
    "    # Initialize dictionaries to store sums and counts for each index\n",
    "    index_sums = {index: 0 for index in value_to_index.values()}\n",
    "    index_counts = {index: 0 for index in value_to_index.values()}\n",
    "\n",
    "# Accumulate sums and counts for column1_indices and column2_indices\n",
    "    for idx, (c1_index, c2_index, score1, score2) in enumerate(zip(column1_indices, column2_indices, column1_score, column2_score)):\n",
    "        index_sums[c1_index] += score1\n",
    "        index_counts[c1_index] += 1\n",
    "        index_sums[c2_index] += score2\n",
    "        index_counts[c2_index] += 1\n",
    "\n",
    "    # Compute the average for each index\n",
    "    index_averages = {index: index_sums[index] / index_counts[index] for index in index_sums}\n",
    "\n",
    "    #print(\"Index averages:\", index_averages)\n",
    "    inverted_dict = {value: key for key, value in value_to_index.items()}\n",
    "    min_average = min(index_averages, key=index_averages.get)\n",
    "    min_ref = min(inverted_dict, key=inverted_dict.get)\n",
    "    #print(\"min average:\", min_average)\n",
    "    #print(\"min reference:\", min_ref)\n",
    "    if min_average == min_ref:\n",
    "        match += 1\n",
    "print(f\"Out of the {number_of_questions} questions, {match} of the weakest document have on average the weakest response.\")\n",
    "    "
   ]
  },
  {
   "cell_type": "code",
   "execution_count": 51,
   "id": "9729bd5c-df2e-4b54-93c2-ac6524be7064",
   "metadata": {},
   "outputs": [
    {
     "name": "stdout",
     "output_type": "stream",
     "text": [
      "Out of the 2070 responses, 190 responses given by BRAD outpreform standard LLM absolutely.\n",
      "Out of the 2070 responses, 203 responses given by BRAD outpreform standard LLM on average.\n"
     ]
    }
   ],
   "source": [
    "#objective 3\n",
    "comparison = 0\n",
    "avg_comparison = 0\n",
    "for i in range(len(dfLLM['response-0'])):\n",
    "    question = dfLLM['prompt'][i]\n",
    "    response1 = dfLLM['response-0'][i]\n",
    "    response2 = dfLLM['response-1'][i]\n",
    "    response1 = embedder.embed_query(response1)\n",
    "    response1 = np.array(response1)\n",
    "    response2 = embedder.embed_query(response2)\n",
    "    response2 = np.array(response2)\n",
    "    \n",
    "    hidden1 = str(dfRAG['hiddenText-0'][i])\n",
    "    hidden2 = str(dfRAG['hiddenText-1'][i])\n",
    "    h_embedding1 = embedder.embed_query(hidden1)\n",
    "    h_embedding1 = np.array(h_embedding1)\n",
    "    h_embedding2 = embedder.embed_query(hidden2)\n",
    "    h_embedding2 = np.array(h_embedding2)\n",
    "    hidden1 = cosine_sim(response1, h_embedding1)\n",
    "    hidden2 = cosine_sim(response1, h_embedding2)\n",
    "    hidden3 = cosine_sim(response2, h_embedding1)\n",
    "    hidden4 = cosine_sim(response2, h_embedding2)\n",
    "\n",
    "    #append to lists to make into dataFrame\n",
    "    best_output = max(hidden1, hidden2, hidden3, hidden4)\n",
    "    mean_output = (hidden1+ hidden2+ hidden3+ hidden4)/4\n",
    "    if min(scoring_df['hiddenScoreComp-1'][i], scoring_df['hiddenScoreComp-2'][i]) > best_output:\n",
    "        comparison += 1\n",
    "    if ((scoring_df['hiddenScoreComp-1'][i]+ scoring_df['hiddenScoreComp-2'][i])/2) > mean_output:\n",
    "        avg_comparison += 1\n",
    "print(f\"Out of the {number_of_responses} responses, {comparison} responses given by BRAD outpreform standard LLM absolutely.\")\n",
    "print(f\"Out of the {number_of_responses} responses, {avg_comparison} responses given by BRAD outpreform standard LLM on average.\")\n"
   ]
  },
  {
   "cell_type": "code",
   "execution_count": null,
   "id": "a2c90380-ed42-4074-b404-daaf4370cc09",
   "metadata": {},
   "outputs": [],
   "source": []
  },
  {
   "cell_type": "code",
   "execution_count": null,
   "id": "720a416d-1513-4ffc-92e4-645438055361",
   "metadata": {},
   "outputs": [],
   "source": []
  }
 ],
 "metadata": {
  "kernelspec": {
   "display_name": "Python 3 (ipykernel)",
   "language": "python",
   "name": "python3"
  },
  "language_info": {
   "codemirror_mode": {
    "name": "ipython",
    "version": 3
   },
   "file_extension": ".py",
   "mimetype": "text/x-python",
   "name": "python",
   "nbconvert_exporter": "python",
   "pygments_lexer": "ipython3",
   "version": "3.9.7"
  }
 },
 "nbformat": 4,
 "nbformat_minor": 5
}
