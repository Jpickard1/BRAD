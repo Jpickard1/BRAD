{
 "cells": [
  {
   "cell_type": "markdown",
   "id": "ae8061a7-131f-4221-9b0f-847936ab41fd",
   "metadata": {},
   "source": [
    "# Bioinformatics Databases"
   ]
  },
  {
   "cell_type": "markdown",
   "id": "34278479-75c3-4a75-acac-bf33ddac6046",
   "metadata": {},
   "source": [
    "BRAD WROTE THIS PARAGRAPH:\n",
    "\n",
    "In this tutorial, we will guide you on how to use the Bioinformatic Retrieval Augmented Data (BRAD) chatbot to retrieve enriched pathways and functional annotations for your gene lists from the ENRICHR and Gene Ontology databases. BRAD is a powerful AI model equipped with a text database, web browsing capabilities, as well as access to the ENRICHR and Gene Ontology databases to provide you with accurate and up-to-date information in the fields of biology, bioinformatics, genetics, and data science. \n",
    "\n",
    "To begin, ensure that you have the necessary software and packages installed on your system for BRAD. You can refer to the installation instructions provided on the official BRAD GitHub repository. Once installed, launch your preferred terminal or command prompt, followed by typing `brad` and pressing Enter. With BRAD up and running, you can start working with your gene lists and generate enriched pathways and functional annotations.\n",
    "\n",
    "\n",
    "To forge a connection with the ENRICHR and Gene Ontology databases, initiate the chat by addressing BRAD as follows: \"Hello BRAD, I would like to use the Gene Ontology and ENRICHR databases to explore the functions and pathways enriched in my gene list. Could you please assist me with this task?\". BRAD will respond by acknowledging your request and communicating the steps required to proceed.\n",
    "\n",
    "\n",
    "For ENRICHR analysis, BRAD will need you to input a list of genes in one of the accepted formats like a gene list file, TSV/.csv file, or as a string of gene names. \"Here are some examples of valid gene input formats: 'gene1,gene2,gene3', 'gene1.txt' or 'gene_list.tsv'. What's the file format or gene list you're working with, user?\". Once the gene list is provided, BRAD will utilize a pipeline to fetch the relevant enriched pathways and interpret the results using easy-to-understand texts.\n",
    "\n",
    "\n",
    "For Gene Ontology analysis, once your gene list is fed into the system, BRAD will automatically query the database to generate the functional annotations and their corresponding labels using GO terminology. These functions will be presented as GO slim and full sets, helping you understand the biological role and molecular function of the genes in your list.\n",
    "\n",
    "\n",
    "In summary, BRAD provides a simple and effective solution for accessing the wealth of knowledge contained within the ENRICHR and Gene Ontology databases. By following this tutorial and practicing with BRAD, you'll become well-versed in using these databases for enriching your gene lists and gaining a deeper understanding of the biological implications behind your data. Happy exploring!"
   ]
  },
  {
   "cell_type": "markdown",
   "id": "a167bbeb-3613-43a7-838f-73bfa8c28651",
   "metadata": {},
   "source": [
    "# Enrichr"
   ]
  },
  {
   "cell_type": "markdown",
   "id": "2cf2e262-7e59-4682-80b7-147fd0e4cd65",
   "metadata": {},
   "source": [
    "# Gene Ontology"
   ]
  },
  {
   "cell_type": "markdown",
   "id": "698f91b1-cab4-4aba-8c72-1bd9a15e4033",
   "metadata": {},
   "source": [
    "# Querying Databases with BRAD"
   ]
  },
  {
   "cell_type": "code",
   "execution_count": null,
   "id": "4634e764-eb8f-47fc-9cd9-6ccceb42e2cf",
   "metadata": {},
   "outputs": [],
   "source": []
  },
  {
   "cell_type": "markdown",
   "id": "8e1af9a8-5f2b-41fa-9d56-8a202f8da095",
   "metadata": {},
   "source": [
    "# Connecting New Databases?"
   ]
  },
  {
   "cell_type": "code",
   "execution_count": null,
   "id": "acdae0ce-a62e-4cf8-8429-1f9bafa6de6d",
   "metadata": {},
   "outputs": [],
   "source": []
  },
  {
   "cell_type": "markdown",
   "id": "fccde095-8c5a-469c-8df4-3e26a8bcaabb",
   "metadata": {},
   "source": [
    "# Scratch"
   ]
  },
  {
   "cell_type": "code",
   "execution_count": 1,
   "id": "1e953ac7-3ca6-4f58-8217-2ea303e22f8a",
   "metadata": {},
   "outputs": [
    {
     "name": "stderr",
     "output_type": "stream",
     "text": [
      "[nltk_data] Downloading package words to /home/jpic/nltk_data...\n",
      "[nltk_data]   Package words is already up-to-date!\n",
      "[nltk_data] Downloading package wordnet to /home/jpic/nltk_data...\n",
      "[nltk_data]   Package wordnet is already up-to-date!\n",
      "[nltk_data] Downloading package omw-1.4 to /home/jpic/nltk_data...\n",
      "[nltk_data]   Package omw-1.4 is already up-to-date!\n"
     ]
    }
   ],
   "source": [
    "from BRAD.gene_ontology import geneOntology\n",
    "from BRAD.enrichr import queryEnrichr"
   ]
  },
  {
   "cell_type": "code",
   "execution_count": 2,
   "id": "72b951be-fc47-4416-82f1-50433c5ca362",
   "metadata": {},
   "outputs": [],
   "source": [
    "from langchain import PromptTemplate, LLMChain\n",
    "from langchain.memory import ConversationBufferMemory\n",
    "from langchain.chains import ConversationChain\n",
    "from BRAD import llms"
   ]
  },
  {
   "cell_type": "code",
   "execution_count": 6,
   "id": "c7f4fee6-f97e-4555-8bdf-df5c3884d513",
   "metadata": {},
   "outputs": [
    {
     "name": "stdin",
     "output_type": "stream",
     "text": [
      "Enter your NVIDIA API key:  ········\n"
     ]
    }
   ],
   "source": [
    "llm = llms.load_nvidia(nvidia_model='meta/llama3-70b-instruct')"
   ]
  },
  {
   "cell_type": "code",
   "execution_count": null,
   "id": "d04c374f-74bd-4a7b-8ce3-35e891ff87c8",
   "metadata": {},
   "outputs": [
    {
     "name": "stderr",
     "output_type": "stream",
     "text": [
      "[nltk_data] Downloading package words to /home/jpic/nltk_data...\n",
      "[nltk_data]   Package words is already up-to-date!\n",
      "[nltk_data] Downloading package wordnet to /home/jpic/nltk_data...\n",
      "[nltk_data]   Package wordnet is already up-to-date!\n",
      "[nltk_data] Downloading package omw-1.4 to /home/jpic/nltk_data...\n",
      "[nltk_data]   Package omw-1.4 is already up-to-date!\n"
     ]
    },
    {
     "name": "stdout",
     "output_type": "stream",
     "text": [
      "Welcome to RAG! The chat log from this conversation will be saved to ~/BRAD/2024-06-06-23:15:43.863730.json. How can I help?\n"
     ]
    },
    {
     "name": "stdin",
     "output_type": "stream",
     "text": [
      "Enter your NVIDIA API key:  ········\n"
     ]
    },
    {
     "name": "stdout",
     "output_type": "stream",
     "text": [
      "\n",
      "Would you like to use a database with BRAD [Y/N]?\n"
     ]
    },
    {
     "name": "stdin",
     "output_type": "stream",
     "text": [
      " N\n"
     ]
    },
    {
     "name": "stderr",
     "output_type": "stream",
     "text": [
      "Thu Jun  6 23:15:54 2024 INFO local\n"
     ]
    },
    {
     "name": "stdout",
     "output_type": "stream",
     "text": [
      "==================================================\n"
     ]
    },
    {
     "name": "stdin",
     "output_type": "stream",
     "text": [
      "Input >>  /force GGET look up the following genes on gene ontology: PCNA, CDT1, GEM cMYC, MYOD, MYOG\n"
     ]
    },
    {
     "name": "stderr",
     "output_type": "stream",
     "text": [
      "Thu Jun  6 23:16:06 2024 INFO GGET\n"
     ]
    },
    {
     "name": "stdout",
     "output_type": "stream",
     "text": [
      "==================================================\n",
      "RAG >> 1: \n",
      "\n",
      "\u001b[1m> Entering new ConversationChain chain...\u001b[0m\n",
      "Prompt after formatting:\n",
      "\u001b[32;1m\u001b[1;3mCurrent conversation:\n",
      "\n",
      "    \n",
      "    GENEONTOLOGY: The Gene Ontology (GO) is an initiative to unify the representation of gene and gene product attributes across all species via the aims: 1) maintain and develop its controlled vocabulary of gene and gene product attributes; 2) annotate genes and gene products, and assimilate and disseminate annotation data; and 3) provide tools for easy access to all aspects of the data provided by the project, and to enable functional interpretation of experimental data using the GO.\n",
      "    \n",
      "    ENRICHR: is a tool used to lookup sets of genes and their functional association. ENRICHR has access to many gene-set libraries including Allen_Brain_Atlas_up, ENCODE_Histone_Modifications_2015, Enrichr_Libraries_Most_Popular_Genes, FANTOM6_lncRNA_KD_DEGs, GO_Biological_Process_2023, GTEx, Human_Gene_Atlas, KEGG, REACTOME, Transcription_Factor_PPIs, WikiPathways and many others databases.\n",
      "    \n",
      "    Available Tables:\n",
      "    \n",
      "    \n",
      "    Query:/force GGET look up the following genes on gene ontology: PCNA, CDT1, GEM cMYC, MYOD, MYOG\n",
      "    \n",
      "    **INSTRUCTIONS**\n",
      "    1. From the query, decide if GENEONTOLOGY or ENRICHR should be used\n",
      "    2. Identify genes in the users input that should be searched. propose genes with similar names, correct the users spelling, or make small modifications to the list, but do not propose genes that are not found in the humans input.\n",
      "    3. If the user wants to extract genes from a table (python dataframe), provide the necessary code to get the genes into a python list, otherwise, say None.\n",
      "    4. If there is code required, identify the name of the table, otherwise say None\n",
      "    5. If there is code required, identify the row or column name of the table, otherwise say None\n",
      "    6. If there is code required, specify if it is a row or column\n",
      "    Format your output as follows with no additional information:\n",
      "    \n",
      "    database: <ENRICHR or GENEONTOLOGY>\n",
      "    genes: <List of genes separated by commas in query or None if code is required>\n",
      "    code: <True or None>\n",
      "    table: <Table Name>\n",
      "    mode name: <Row or Column Name>\n",
      "    mode: <Row or Column>\n",
      "    \u001b[0m\n",
      "\n",
      "\u001b[1m> Finished chain.\u001b[0m\n",
      " database: GENEONTOLOGY\n",
      "genes: \"PCNA, CDT1, GEM cMYC, MYOD, MYOG\"\n",
      "code: None\n",
      " database: GENEONTOLOGY\n",
      "genes: PCNA, CDT1, GEM cMYC, MYOD, MYOG\n",
      "code: None\n",
      "None\n",
      "{'database': 'GENEONTOLOGY', 'genes': ['PCNA', ' CDT1', ' GEM cMYC', ' MYOD', ' MYOG'], 'code': 'None'}\n",
      "['PCNA', ' CDT1', ' GEM cMYC', ' MYOD', ' MYOG']\n",
      "['PCNA', ' CDT1', ' GEM cMYC', ' MYOD', ' MYOG']\n",
      "ID: GO:0043626\n",
      "Text: A protein complex composed of three identical PCNA monomers, each comprising two similar domains, which are joined in a head-to-tail arrangement to form a homotrimer. Forms a ring-like structure in solution, with a central hole sufficiently large to accommodate the double helix of DNA. Originally characterized as a DNA sliding clamp for replicative DNA polymerases and as an essential component of the replisome, and has also been shown to be involved in other processes including Okazaki fragment processing, DNA repair, translesion DNA synthesis, DNA methylation, chromatin remodeling and cell cycle regulation.\n",
      "ID: GO:0090618\n",
      "Text: The process of removing the PCNA complex from DNA when Okazaki fragments are completed or the replication fork terminates.\n",
      "ID: GO:0070557\n",
      "Text: A protein complex that contains the cyclin-dependent protein kinase inhibitor p21WAF1/CIP1 bound to PCNA; formation of the complex inhibits DNA replication.\n",
      "ID: GO:0003689\n",
      "Text: Facilitating the opening of the ring structure of the PCNA complex, or any of the related sliding clamp complexes, and their closing around the DNA duplex, driven by ATP hydrolysis.\n",
      "ID: GO:0003892\n",
      "Text: OBSOLETE. A nuclear protein that associates as a trimer and then interacts with delta DNA polymerase and epsilon DNA polymerase, acting as an auxiliary factor for DNA replication and DNA repair.\n",
      "\n",
      " would you like to download charts associated with these genes [Y/N]?\n"
     ]
    },
    {
     "name": "stdin",
     "output_type": "stream",
     "text": [
      " Y\n"
     ]
    },
    {
     "name": "stdout",
     "output_type": "stream",
     "text": [
      "Directory '/home/jpic/RAG-DEV/tutorials/online-bioinformatics-databases/go_charts' created successfully\n",
      "\n",
      " would you like to download the paper associated with these genes [Y/N]?\n"
     ]
    },
    {
     "name": "stdin",
     "output_type": "stream",
     "text": [
      " Y\n"
     ]
    },
    {
     "name": "stdout",
     "output_type": "stream",
     "text": [
      "{'numberOfHits': 1, 'results': [{'id': 'GO:0043626', 'isObsolete': False, 'name': 'PCNA complex', 'definition': {'text': 'A protein complex composed of three identical PCNA monomers, each comprising two similar domains, which are joined in a head-to-tail arrangement to form a homotrimer. Forms a ring-like structure in solution, with a central hole sufficiently large to accommodate the double helix of DNA. Originally characterized as a DNA sliding clamp for replicative DNA polymerases and as an essential component of the replisome, and has also been shown to be involved in other processes including Okazaki fragment processing, DNA repair, translesion DNA synthesis, DNA methylation, chromatin remodeling and cell cycle regulation.', 'xrefs': [{'dbCode': 'PMID', 'dbId': '12829735'}]}, 'synonyms': [{'name': 'proliferating cell nuclear antigen complex', 'type': 'exact'}, {'name': 'sliding clamp', 'type': 'broad'}, {'name': 'PCNA homotrimer', 'type': 'exact'}], 'aspect': 'cellular_component', 'usage': 'Unrestricted'}], 'pageInfo': None}\n",
      "['12829735']\n",
      "Directory '/home/jpic/RAG-DEV/tutorials/online-bioinformatics-databases/specialized_docs' created successfully\n",
      "12829735\n",
      "https://doi.org/10.1242/jcs.00653\n",
      "Not public\n",
      "Directory '/home/jpic/RAG-DEV/tutorials/online-bioinformatics-databases/go_charts' created successfully\n",
      "\n",
      " would you like to download the paper associated with these genes [Y/N]?\n"
     ]
    },
    {
     "name": "stdin",
     "output_type": "stream",
     "text": [
      " Y\n"
     ]
    },
    {
     "name": "stdout",
     "output_type": "stream",
     "text": [
      "{'numberOfHits': 1, 'results': [{'id': 'GO:0090618', 'isObsolete': False, 'name': 'DNA clamp unloading', 'definition': {'text': 'The process of removing the PCNA complex from DNA when Okazaki fragments are completed or the replication fork terminates.', 'xrefs': [{'dbCode': 'PMID', 'dbId': '23499004'}]}, 'synonyms': [{'name': 'PCNA unloading', 'type': 'related'}], 'children': [{'id': 'GO:0061860', 'relation': 'part_of'}], 'aspect': 'biological_process', 'usage': 'Unrestricted'}], 'pageInfo': None}\n",
      "['23499004']\n",
      "Directory '/home/jpic/RAG-DEV/tutorials/online-bioinformatics-databases/specialized_docs' created successfully\n",
      "23499004\n",
      "https://doi.org/10.1016/j.molcel.2013.02.012\n",
      "Not public\n",
      "Directory '/home/jpic/RAG-DEV/tutorials/online-bioinformatics-databases/go_charts' created successfully\n",
      "\n",
      " would you like to download the paper associated with these genes [Y/N]?\n"
     ]
    },
    {
     "name": "stdin",
     "output_type": "stream",
     "text": [
      " Y\n"
     ]
    },
    {
     "name": "stdout",
     "output_type": "stream",
     "text": [
      "{'numberOfHits': 1, 'results': [{'id': 'GO:0070557', 'isObsolete': False, 'name': 'PCNA-p21 complex', 'definition': {'text': 'A protein complex that contains the cyclin-dependent protein kinase inhibitor p21WAF1/CIP1 bound to PCNA; formation of the complex inhibits DNA replication.', 'xrefs': [{'dbCode': 'PMID', 'dbId': '7911228'}, {'dbCode': 'PMID', 'dbId': '7915843'}]}, 'aspect': 'cellular_component', 'usage': 'Unrestricted'}], 'pageInfo': None}\n",
      "['7911228', '7915843']\n",
      "Directory '/home/jpic/RAG-DEV/tutorials/online-bioinformatics-databases/specialized_docs' created successfully\n",
      "7911228\n",
      "https://doi.org/10.1038/369574a0\n",
      "Not public\n",
      "7915843\n",
      "http://www.ncbi.nlm.nih.gov/pmc/articles/pmc44665/\n",
      "https://ncbi.nlm.nih.gov/pmc/articles/PMC44665/pdf/pnas01140-0357.pdf\n",
      "Directory '/home/jpic/RAG-DEV/tutorials/online-bioinformatics-databases/go_charts' created successfully\n",
      "\n",
      " would you like to download the paper associated with these genes [Y/N]?\n"
     ]
    },
    {
     "name": "stdin",
     "output_type": "stream",
     "text": [
      " Y\n"
     ]
    },
    {
     "name": "stdout",
     "output_type": "stream",
     "text": [
      "{'numberOfHits': 1, 'results': [{'id': 'GO:0003689', 'isObsolete': False, 'name': 'DNA clamp loader activity', 'definition': {'text': 'Facilitating the opening of the ring structure of the PCNA complex, or any of the related sliding clamp complexes, and their closing around the DNA duplex, driven by ATP hydrolysis.', 'xrefs': [{'dbCode': 'PMID', 'dbId': '16082778'}]}, 'synonyms': [{'name': 'DNA-protein loading ATPase activity', 'type': 'related'}, {'name': 'protein-DNA loading ATPase activity', 'type': 'related'}, {'name': 'PCNA loading complex activity', 'type': 'narrow'}, {'name': 'PCNA loading activity', 'type': 'narrow'}, {'name': 'DNA clamp loading ATPase activity', 'type': 'exact'}], 'aspect': 'molecular_function', 'usage': 'Unrestricted'}], 'pageInfo': None}\n",
      "['16082778']\n",
      "Directory '/home/jpic/RAG-DEV/tutorials/online-bioinformatics-databases/specialized_docs' created successfully\n",
      "16082778\n",
      "http://www.ncbi.nlm.nih.gov/pmc/articles/pmc1160110/\n",
      "https://ncbi.nlm.nih.gov/pmc/articles/PMC1160110/pdf/gki674.pdf\n",
      "Directory '/home/jpic/RAG-DEV/tutorials/online-bioinformatics-databases/go_charts' created successfully\n",
      "\n",
      " would you like to download the paper associated with these genes [Y/N]?\n"
     ]
    },
    {
     "name": "stdin",
     "output_type": "stream",
     "text": [
      " Y\n"
     ]
    },
    {
     "name": "stdout",
     "output_type": "stream",
     "text": [
      "{'numberOfHits': 1, 'results': [{'id': 'GO:0003892', 'isObsolete': True, 'name': 'obsolete proliferating cell nuclear antigen', 'definition': {'text': 'OBSOLETE. A nuclear protein that associates as a trimer and then interacts with delta DNA polymerase and epsilon DNA polymerase, acting as an auxiliary factor for DNA replication and DNA repair.', 'xrefs': [{'dbCode': 'ISBN', 'dbId': '0123668387'}]}, 'comment': \"This term was made obsolete because describing something as an 'antigen' means that an organism can produce antibodies to it, which says nothing about the gene product activity.\", 'synonyms': [{'name': 'PCNA', 'type': 'exact'}, {'name': 'proliferating cell nuclear antigen', 'type': 'exact'}], 'aspect': 'molecular_function', 'usage': 'Unrestricted'}], 'pageInfo': None}\n",
      "['0123668387']\n",
      "Directory '/home/jpic/RAG-DEV/tutorials/online-bioinformatics-databases/specialized_docs' created successfully\n",
      "0123668387\n",
      "0123668387 could not be gathered.\n",
      "No Gene Ontology Available - Searching Gene Products\n",
      "ID: A0A151MUY7\n",
      "ID: A0A0D9S2Q3\n",
      "ID: A0A0V1NSX5\n",
      "ID: A0A0B2VM83\n",
      "ID: A0A2I4ASC3\n",
      "ID: A0A1S3EW85\n",
      "ID: A0A1V4K1B9\n",
      "ID: A0A1A8UC42\n",
      "ID: A0A3Q1LIW5\n",
      "ID: A0A4Y2KGL9\n",
      "ID: A0A672MBI2\n",
      "ID: A0A851UPV4\n",
      "ID: A0A851Y624\n",
      "ID: A0A852BZ79\n",
      "ID: A0A852M8G0\n",
      "ID: A0A852MGL5\n",
      "ID: A0A8C7B1K4\n",
      "ID: A0A8C2TVV4\n",
      "ID: A0A8C0AMK1\n",
      "ID: A0A8C5Z7E2\n",
      "ID: A0A8D2DMZ2\n",
      "ID: A0A8D2KKI1\n",
      "ID: A0A8C5DGH9\n",
      "ID: A0A8C9BIZ5\n",
      "ID: A0A8C9J6B6\n",
      "\n",
      " would you like to download the gene product annotation [Y/N]?\n"
     ]
    },
    {
     "name": "stdin",
     "output_type": "stream",
     "text": [
      " Y\n"
     ]
    },
    {
     "name": "stdout",
     "output_type": "stream",
     "text": [
      "PCNA\n",
      "Directory '/home/jpic/RAG-DEV/tutorials/online-bioinformatics-databases/go_annotations' created successfully\n",
      "Error occurred while searching database: 400 Client Error:  for url: https://www.ebi.ac.uk/QuickGO/services/annotation/downloadSearch?geneProductId=PCNA\n",
      "==================================================\n"
     ]
    }
   ],
   "source": [
    "from BRAD import brad\n",
    "brad.chat()"
   ]
  },
  {
   "cell_type": "code",
   "execution_count": null,
   "id": "32133133-6442-4565-8242-460a8300ba07",
   "metadata": {
    "scrolled": true
   },
   "outputs": [
    {
     "name": "stderr",
     "output_type": "stream",
     "text": [
      "[nltk_data] Downloading package words to /home/jpic/nltk_data...\n",
      "[nltk_data]   Package words is already up-to-date!\n",
      "[nltk_data] Downloading package wordnet to /home/jpic/nltk_data...\n",
      "[nltk_data]   Package wordnet is already up-to-date!\n",
      "[nltk_data] Downloading package omw-1.4 to /home/jpic/nltk_data...\n",
      "[nltk_data]   Package omw-1.4 is already up-to-date!\n"
     ]
    },
    {
     "name": "stdout",
     "output_type": "stream",
     "text": [
      "Welcome to RAG! The chat log from this conversation will be saved to ~/BRAD/2024-06-06-22:53:48.784530.json. How can I help?\n"
     ]
    },
    {
     "name": "stdin",
     "output_type": "stream",
     "text": [
      "Enter your NVIDIA API key:  ········\n"
     ]
    },
    {
     "name": "stdout",
     "output_type": "stream",
     "text": [
      "\n",
      "Would you like to use a database with BRAD [Y/N]?\n"
     ]
    },
    {
     "name": "stdin",
     "output_type": "stream",
     "text": [
      " N\n"
     ]
    },
    {
     "name": "stderr",
     "output_type": "stream",
     "text": [
      "Thu Jun  6 22:53:55 2024 INFO local\n"
     ]
    },
    {
     "name": "stdout",
     "output_type": "stream",
     "text": [
      "==================================================\n"
     ]
    },
    {
     "name": "stdin",
     "output_type": "stream",
     "text": [
      "Input >>  /force GGET look up the following genes on gene ontology: PCNA, CDT1, GEM cMYC, MYOD, MYOG\n"
     ]
    },
    {
     "name": "stderr",
     "output_type": "stream",
     "text": [
      "Thu Jun  6 22:53:59 2024 INFO GGET\n"
     ]
    },
    {
     "name": "stdout",
     "output_type": "stream",
     "text": [
      "==================================================\n",
      "RAG >> 1: \n",
      "\n",
      "\u001b[1m> Entering new ConversationChain chain...\u001b[0m\n",
      "Prompt after formatting:\n",
      "\u001b[32;1m\u001b[1;3mCurrent conversation:\n",
      "\n",
      "    \n",
      "    GENEONTOLOGY: The Gene Ontology (GO) is an initiative to unify the representation of gene and gene product attributes across all species via the aims: 1) maintain and develop its controlled vocabulary of gene and gene product attributes; 2) annotate genes and gene products, and assimilate and disseminate annotation data; and 3) provide tools for easy access to all aspects of the data provided by the project, and to enable functional interpretation of experimental data using the GO.\n",
      "    \n",
      "    ENRICHR: is a tool used to lookup sets of genes and their functional association. ENRICHR has access to many gene-set libraries including Allen_Brain_Atlas_up, ENCODE_Histone_Modifications_2015, Enrichr_Libraries_Most_Popular_Genes, FANTOM6_lncRNA_KD_DEGs, GO_Biological_Process_2023, GTEx, Human_Gene_Atlas, KEGG, REACTOME, Transcription_Factor_PPIs, WikiPathways and many others databases.\n",
      "    \n",
      "    Available Tables:\n",
      "    \n",
      "    \n",
      "    Query:/force GGET look up the following genes on gene ontology: PCNA, CDT1, GEM cMYC, MYOD, MYOG\n",
      "    \n",
      "    **INSTRUCTIONS**\n",
      "    1. From the query, decide if GENEONTOLOGY or ENRICHR should be used\n",
      "    2. Identify genes in the users input that should be searched. propose genes with similar names, correct the users spelling, or make small modifications to the list, but do not propose genes that are not found in the humans input.\n",
      "    3. If the user wants to extract genes from a table (python dataframe), provide the necessary code to get the genes into a python list, otherwise, say None.\n",
      "    4. If there is code required, identify the name of the table, otherwise say None\n",
      "    5. If there is code required, identify the row or column name of the table, otherwise say None\n",
      "    6. If there is code required, specify if it is a row or column\n",
      "    Format your output as follows with no additional information:\n",
      "    \n",
      "    database: <ENRICHR or GENEONTOLOGY>\n",
      "    genes: <List of genes separated by commas in query or None if code is required>\n",
      "    code: <True or None>\n",
      "    table: <Table Name>\n",
      "    mode name: <Row or Column Name>\n",
      "    mode: <Row or Column>\n",
      "    \u001b[0m\n",
      "\n",
      "\u001b[1m> Finished chain.\u001b[0m\n",
      " database: GENEONTOLOGY\n",
      "genes: \"PCNA, CDT1, GEM cMYC, MYOD, MYOG\"\n",
      "code: None\n",
      " database: GENEONTOLOGY\n",
      "genes: PCNA, CDT1, GEM cMYC, MYOD, MYOG\n",
      "code: None\n",
      "None\n",
      "{'database': 'GENEONTOLOGY', 'genes': ['PCNA', ' CDT1', ' GEM cMYC', ' MYOD', ' MYOG'], 'code': 'None'}\n",
      "['PCNA', ' CDT1', ' GEM cMYC', ' MYOD', ' MYOG']\n",
      "Error occurred while searching database: 'list' object has no attribute 'split'\n",
      "==================================================\n"
     ]
    },
    {
     "name": "stdin",
     "output_type": "stream",
     "text": [
      "Input >>  /force GGET look up the following genes on enrichr: PCNA, CDT1, GEM cMYC, MYOD, MYOG\n"
     ]
    },
    {
     "name": "stderr",
     "output_type": "stream",
     "text": [
      "Thu Jun  6 22:54:14 2024 INFO GGET\n"
     ]
    },
    {
     "name": "stdout",
     "output_type": "stream",
     "text": [
      "==================================================\n",
      "RAG >> 2: \n",
      "\n",
      "\u001b[1m> Entering new ConversationChain chain...\u001b[0m\n",
      "Prompt after formatting:\n",
      "\u001b[32;1m\u001b[1;3mCurrent conversation:\n",
      "Human: /force GGET look up the following genes on gene ontology: PCNA, CDT1, GEM cMYC, MYOD, MYOG\n",
      "BRAD:  database: GENEONTOLOGY\n",
      "genes: \"PCNA, CDT1, GEM cMYC, MYOD, MYOG\"\n",
      "code: None\n",
      "    \n",
      "    GENEONTOLOGY: The Gene Ontology (GO) is an initiative to unify the representation of gene and gene product attributes across all species via the aims: 1) maintain and develop its controlled vocabulary of gene and gene product attributes; 2) annotate genes and gene products, and assimilate and disseminate annotation data; and 3) provide tools for easy access to all aspects of the data provided by the project, and to enable functional interpretation of experimental data using the GO.\n",
      "    \n",
      "    ENRICHR: is a tool used to lookup sets of genes and their functional association. ENRICHR has access to many gene-set libraries including Allen_Brain_Atlas_up, ENCODE_Histone_Modifications_2015, Enrichr_Libraries_Most_Popular_Genes, FANTOM6_lncRNA_KD_DEGs, GO_Biological_Process_2023, GTEx, Human_Gene_Atlas, KEGG, REACTOME, Transcription_Factor_PPIs, WikiPathways and many others databases.\n",
      "    \n",
      "    Available Tables:\n",
      "    \n",
      "    \n",
      "    Query:/force GGET look up the following genes on enrichr: PCNA, CDT1, GEM cMYC, MYOD, MYOG\n",
      "    \n",
      "    **INSTRUCTIONS**\n",
      "    1. From the query, decide if GENEONTOLOGY or ENRICHR should be used\n",
      "    2. Identify genes in the users input that should be searched. propose genes with similar names, correct the users spelling, or make small modifications to the list, but do not propose genes that are not found in the humans input.\n",
      "    3. If the user wants to extract genes from a table (python dataframe), provide the necessary code to get the genes into a python list, otherwise, say None.\n",
      "    4. If there is code required, identify the name of the table, otherwise say None\n",
      "    5. If there is code required, identify the row or column name of the table, otherwise say None\n",
      "    6. If there is code required, specify if it is a row or column\n",
      "    Format your output as follows with no additional information:\n",
      "    \n",
      "    database: <ENRICHR or GENEONTOLOGY>\n",
      "    genes: <List of genes separated by commas in query or None if code is required>\n",
      "    code: <True or None>\n",
      "    table: <Table Name>\n",
      "    mode name: <Row or Column Name>\n",
      "    mode: <Row or Column>\n",
      "    \u001b[0m\n",
      "\n",
      "\u001b[1m> Finished chain.\u001b[0m\n",
      " database: ENRICHR\n",
      "genes: \"PCNA, CDT1, GEM cMYC, MYOD, MYOG\"\n",
      "code: None\n",
      " database: ENRICHR\n",
      "genes: PCNA, CDT1, GEM cMYC, MYOD, MYOG\n",
      "code: None\n",
      "None\n",
      "{'database': 'ENRICHR', 'genes': ['PCNA', ' CDT1', ' GEM cMYC', ' MYOD', ' MYOG'], 'code': 'None'}\n",
      "['PCNA', ' CDT1', ' GEM cMYC', ' MYOD', ' MYOG']\n"
     ]
    },
    {
     "name": "stderr",
     "output_type": "stream",
     "text": [
      "Thu Jun  6 22:54:15 2024 INFO Performing Enichr analysis using database GO_Biological_Process_2021.\n"
     ]
    },
    {
     "name": "stdout",
     "output_type": "stream",
     "text": [
      "The following table was generated by quering the gene list against GO_Biological_Process_2021:\n"
     ]
    },
    {
     "data": {
      "text/html": [
       "<style type=\"text/css\">\n",
       "</style>\n",
       "<table id=\"T_a2537\">\n",
       "  <thead>\n",
       "    <tr>\n",
       "      <th class=\"blank level0\" >&nbsp;</th>\n",
       "      <th id=\"T_a2537_level0_col0\" class=\"col_heading level0 col0\" >rank</th>\n",
       "      <th id=\"T_a2537_level0_col1\" class=\"col_heading level0 col1\" >path_name</th>\n",
       "      <th id=\"T_a2537_level0_col2\" class=\"col_heading level0 col2\" >p_val</th>\n",
       "      <th id=\"T_a2537_level0_col3\" class=\"col_heading level0 col3\" >z_score</th>\n",
       "      <th id=\"T_a2537_level0_col4\" class=\"col_heading level0 col4\" >combined_score</th>\n",
       "      <th id=\"T_a2537_level0_col5\" class=\"col_heading level0 col5\" >overlapping_genes</th>\n",
       "      <th id=\"T_a2537_level0_col6\" class=\"col_heading level0 col6\" >adj_p_val</th>\n",
       "      <th id=\"T_a2537_level0_col7\" class=\"col_heading level0 col7\" >database</th>\n",
       "    </tr>\n",
       "  </thead>\n",
       "  <tbody>\n",
       "    <tr>\n",
       "      <th id=\"T_a2537_level0_row0\" class=\"row_heading level0 row0\" >0</th>\n",
       "      <td id=\"T_a2537_row0_col0\" class=\"data row0 col0\" >1</td>\n",
       "      <td id=\"T_a2537_row0_col1\" class=\"data row0 col1\" >positive regulation of DNA replication (GO:0045740)</td>\n",
       "      <td id=\"T_a2537_row0_col2\" class=\"data row0 col2\" >0.000007</td>\n",
       "      <td id=\"T_a2537_row0_col3\" class=\"data row0 col3\" >888.000000</td>\n",
       "      <td id=\"T_a2537_row0_col4\" class=\"data row0 col4\" >10567.294169</td>\n",
       "      <td id=\"T_a2537_row0_col5\" class=\"data row0 col5\" >['CDT1', 'PCNA']</td>\n",
       "      <td id=\"T_a2537_row0_col6\" class=\"data row0 col6\" >0.000720</td>\n",
       "      <td id=\"T_a2537_row0_col7\" class=\"data row0 col7\" >GO_Biological_Process_2021</td>\n",
       "    </tr>\n",
       "    <tr>\n",
       "      <th id=\"T_a2537_level0_row1\" class=\"row_heading level0 row1\" >1</th>\n",
       "      <td id=\"T_a2537_row1_col0\" class=\"data row1 col0\" >2</td>\n",
       "      <td id=\"T_a2537_row1_col1\" class=\"data row1 col1\" >regulation of transcription involved in G1/S transition of mitotic cell cycle (GO:0000083)</td>\n",
       "      <td id=\"T_a2537_row1_col2\" class=\"data row1 col2\" >0.000025</td>\n",
       "      <td id=\"T_a2537_row1_col3\" class=\"data row1 col3\" >443.666667</td>\n",
       "      <td id=\"T_a2537_row1_col4\" class=\"data row1 col4\" >4706.270584</td>\n",
       "      <td id=\"T_a2537_row1_col5\" class=\"data row1 col5\" >['CDT1', 'PCNA']</td>\n",
       "      <td id=\"T_a2537_row1_col6\" class=\"data row1 col6\" >0.001310</td>\n",
       "      <td id=\"T_a2537_row1_col7\" class=\"data row1 col7\" >GO_Biological_Process_2021</td>\n",
       "    </tr>\n",
       "    <tr>\n",
       "      <th id=\"T_a2537_level0_row2\" class=\"row_heading level0 row2\" >2</th>\n",
       "      <td id=\"T_a2537_row2_col0\" class=\"data row2 col0\" >3</td>\n",
       "      <td id=\"T_a2537_row2_col1\" class=\"data row2 col1\" >regulation of DNA replication (GO:0006275)</td>\n",
       "      <td id=\"T_a2537_row2_col2\" class=\"data row2 col2\" >0.000069</td>\n",
       "      <td id=\"T_a2537_row2_col3\" class=\"data row2 col3\" >260.705882</td>\n",
       "      <td id=\"T_a2537_row2_col4\" class=\"data row2 col4\" >2499.635584</td>\n",
       "      <td id=\"T_a2537_row2_col5\" class=\"data row2 col5\" >['CDT1', 'PCNA']</td>\n",
       "      <td id=\"T_a2537_row2_col6\" class=\"data row2 col6\" >0.002422</td>\n",
       "      <td id=\"T_a2537_row2_col7\" class=\"data row2 col7\" >GO_Biological_Process_2021</td>\n",
       "    </tr>\n",
       "  </tbody>\n",
       "</table>\n"
      ],
      "text/plain": [
       "<pandas.io.formats.style.Styler at 0x14bb278ef150>"
      ]
     },
     "metadata": {},
     "output_type": "display_data"
    },
    {
     "name": "stdout",
     "output_type": "stream",
     "text": [
      "The table has been saved to: RAG-gget-GO_Biological_Process_2021-2024-06-0622:54:15.939575.csv\n",
      "==================================================\n"
     ]
    },
    {
     "name": "stdin",
     "output_type": "stream",
     "text": [
      "Input >>  /force GGET look up the following genes on BioCarta_2015: PCNA, CDT1, GEM cMYC, MYOD, MYOG\n"
     ]
    },
    {
     "name": "stderr",
     "output_type": "stream",
     "text": [
      "Thu Jun  6 23:09:12 2024 INFO GGET\n"
     ]
    },
    {
     "name": "stdout",
     "output_type": "stream",
     "text": [
      "==================================================\n",
      "RAG >> 3: \n",
      "\n",
      "\u001b[1m> Entering new ConversationChain chain...\u001b[0m\n",
      "Prompt after formatting:\n",
      "\u001b[32;1m\u001b[1;3mCurrent conversation:\n",
      "Human: /force GGET look up the following genes on gene ontology: PCNA, CDT1, GEM cMYC, MYOD, MYOG\n",
      "BRAD:  database: GENEONTOLOGY\n",
      "genes: \"PCNA, CDT1, GEM cMYC, MYOD, MYOG\"\n",
      "code: None\n",
      "Human: /force GGET look up the following genes on enrichr: PCNA, CDT1, GEM cMYC, MYOD, MYOG\n",
      "BRAD:  database: ENRICHR\n",
      "genes: \"PCNA, CDT1, GEM cMYC, MYOD, MYOG\"\n",
      "code: None\n",
      "    \n",
      "    GENEONTOLOGY: The Gene Ontology (GO) is an initiative to unify the representation of gene and gene product attributes across all species via the aims: 1) maintain and develop its controlled vocabulary of gene and gene product attributes; 2) annotate genes and gene products, and assimilate and disseminate annotation data; and 3) provide tools for easy access to all aspects of the data provided by the project, and to enable functional interpretation of experimental data using the GO.\n",
      "    \n",
      "    ENRICHR: is a tool used to lookup sets of genes and their functional association. ENRICHR has access to many gene-set libraries including Allen_Brain_Atlas_up, ENCODE_Histone_Modifications_2015, Enrichr_Libraries_Most_Popular_Genes, FANTOM6_lncRNA_KD_DEGs, GO_Biological_Process_2023, GTEx, Human_Gene_Atlas, KEGG, REACTOME, Transcription_Factor_PPIs, WikiPathways and many others databases.\n",
      "    \n",
      "    Available Tables:\n",
      "    \n",
      "    \n",
      "    Query:/force GGET look up the following genes on BioCarta_2015: PCNA, CDT1, GEM cMYC, MYOD, MYOG\n",
      "    \n",
      "    **INSTRUCTIONS**\n",
      "    1. From the query, decide if GENEONTOLOGY or ENRICHR should be used\n",
      "    2. Identify genes in the users input that should be searched. propose genes with similar names, correct the users spelling, or make small modifications to the list, but do not propose genes that are not found in the humans input.\n",
      "    3. If the user wants to extract genes from a table (python dataframe), provide the necessary code to get the genes into a python list, otherwise, say None.\n",
      "    4. If there is code required, identify the name of the table, otherwise say None\n",
      "    5. If there is code required, identify the row or column name of the table, otherwise say None\n",
      "    6. If there is code required, specify if it is a row or column\n",
      "    Format your output as follows with no additional information:\n",
      "    \n",
      "    database: <ENRICHR or GENEONTOLOGY>\n",
      "    genes: <List of genes separated by commas in query or None if code is required>\n",
      "    code: <True or None>\n",
      "    table: <Table Name>\n",
      "    mode name: <Row or Column Name>\n",
      "    mode: <Row or Column>\n",
      "    \u001b[0m\n"
     ]
    },
    {
     "name": "stderr",
     "output_type": "stream",
     "text": [
      "Thu Jun  6 23:09:13 2024 INFO Performing Enichr analysis using database BioCarta_2015.\n"
     ]
    },
    {
     "name": "stdout",
     "output_type": "stream",
     "text": [
      "\n",
      "\u001b[1m> Finished chain.\u001b[0m\n",
      " database: ENRICHR\n",
      "genes: \"PCNA, CDT1, GEM cMYC, MYOD, MYOG\"\n",
      "code: None\n",
      "table: None\n",
      "mode name: None\n",
      "mode: None\n",
      " database: ENRICHR\n",
      "genes: PCNA, CDT1, GEM cMYC, MYOD, MYOG\n",
      "code: None\n",
      "table: None\n",
      "mode name: None\n",
      "mode: None\n",
      "None\n",
      "{'database': 'ENRICHR', 'genes': ['PCNA', ' CDT1', ' GEM cMYC', ' MYOD', ' MYOG'], 'code': 'None'}\n",
      "['PCNA', ' CDT1', ' GEM cMYC', ' MYOD', ' MYOG']\n",
      "The following table was generated by quering the gene list against BioCarta_2015:\n"
     ]
    },
    {
     "data": {
      "text/html": [
       "<style type=\"text/css\">\n",
       "</style>\n",
       "<table id=\"T_4453c\">\n",
       "  <thead>\n",
       "    <tr>\n",
       "      <th class=\"blank level0\" >&nbsp;</th>\n",
       "      <th id=\"T_4453c_level0_col0\" class=\"col_heading level0 col0\" >rank</th>\n",
       "      <th id=\"T_4453c_level0_col1\" class=\"col_heading level0 col1\" >path_name</th>\n",
       "      <th id=\"T_4453c_level0_col2\" class=\"col_heading level0 col2\" >p_val</th>\n",
       "      <th id=\"T_4453c_level0_col3\" class=\"col_heading level0 col3\" >z_score</th>\n",
       "      <th id=\"T_4453c_level0_col4\" class=\"col_heading level0 col4\" >combined_score</th>\n",
       "      <th id=\"T_4453c_level0_col5\" class=\"col_heading level0 col5\" >overlapping_genes</th>\n",
       "      <th id=\"T_4453c_level0_col6\" class=\"col_heading level0 col6\" >adj_p_val</th>\n",
       "      <th id=\"T_4453c_level0_col7\" class=\"col_heading level0 col7\" >database</th>\n",
       "    </tr>\n",
       "  </thead>\n",
       "  <tbody>\n",
       "    <tr>\n",
       "      <th id=\"T_4453c_level0_row0\" class=\"row_heading level0 row0\" >0</th>\n",
       "      <td id=\"T_4453c_row0_col0\" class=\"data row0 col0\" >1</td>\n",
       "      <td id=\"T_4453c_row0_col1\" class=\"data row0 col1\" >cdk regulation of dna replication</td>\n",
       "      <td id=\"T_4453c_row0_col2\" class=\"data row0 col2\" >0.004492</td>\n",
       "      <td id=\"T_4453c_row0_col3\" class=\"data row0 col3\" >293.794118</td>\n",
       "      <td id=\"T_4453c_row0_col4\" class=\"data row0 col4\" >1588.072397</td>\n",
       "      <td id=\"T_4453c_row0_col5\" class=\"data row0 col5\" >['CDT1']</td>\n",
       "      <td id=\"T_4453c_row0_col6\" class=\"data row0 col6\" >0.013477</td>\n",
       "      <td id=\"T_4453c_row0_col7\" class=\"data row0 col7\" >BioCarta_2015</td>\n",
       "    </tr>\n",
       "    <tr>\n",
       "      <th id=\"T_4453c_level0_row1\" class=\"row_heading level0 row1\" >1</th>\n",
       "      <td id=\"T_4453c_row1_col0\" class=\"data row1 col0\" >2</td>\n",
       "      <td id=\"T_4453c_row1_col1\" class=\"data row1 col1\" >il-2 receptor beta chain in t cell activation</td>\n",
       "      <td id=\"T_4453c_row1_col2\" class=\"data row1 col2\" >0.012191</td>\n",
       "      <td id=\"T_4453c_row1_col3\" class=\"data row1 col3\" >103.890625</td>\n",
       "      <td id=\"T_4453c_row1_col4\" class=\"data row1 col4\" >457.850064</td>\n",
       "      <td id=\"T_4453c_row1_col5\" class=\"data row1 col5\" >['PCNA']</td>\n",
       "      <td id=\"T_4453c_row1_col6\" class=\"data row1 col6\" >0.017133</td>\n",
       "      <td id=\"T_4453c_row1_col7\" class=\"data row1 col7\" >BioCarta_2015</td>\n",
       "    </tr>\n",
       "    <tr>\n",
       "      <th id=\"T_4453c_level0_row2\" class=\"row_heading level0 row2\" >2</th>\n",
       "      <td id=\"T_4453c_row2_col0\" class=\"data row2 col0\" >3</td>\n",
       "      <td id=\"T_4453c_row2_col1\" class=\"data row2 col1\" >p53 signaling pathway</td>\n",
       "      <td id=\"T_4453c_row2_col2\" class=\"data row2 col2\" >0.017133</td>\n",
       "      <td id=\"T_4453c_row2_col3\" class=\"data row2 col3\" >73.261029</td>\n",
       "      <td id=\"T_4453c_row2_col4\" class=\"data row2 col4\" >297.934433</td>\n",
       "      <td id=\"T_4453c_row2_col5\" class=\"data row2 col5\" >['PCNA']</td>\n",
       "      <td id=\"T_4453c_row2_col6\" class=\"data row2 col6\" >0.017133</td>\n",
       "      <td id=\"T_4453c_row2_col7\" class=\"data row2 col7\" >BioCarta_2015</td>\n",
       "    </tr>\n",
       "  </tbody>\n",
       "</table>\n"
      ],
      "text/plain": [
       "<pandas.io.formats.style.Styler at 0x14bb26d1bad0>"
      ]
     },
     "metadata": {},
     "output_type": "display_data"
    },
    {
     "name": "stdout",
     "output_type": "stream",
     "text": [
      "The table has been saved to: RAG-gget-BioCarta_2015-2024-06-0623:09:14.010768.csv\n",
      "==================================================\n"
     ]
    },
    {
     "name": "stdin",
     "output_type": "stream",
     "text": [
      "Input >>  /force GGET look up the following genes on gene ontology: PCNA, CDT1, GEM cMYC, MYOD, MYOG\n"
     ]
    },
    {
     "name": "stderr",
     "output_type": "stream",
     "text": [
      "Thu Jun  6 23:13:16 2024 INFO GGET\n"
     ]
    },
    {
     "name": "stdout",
     "output_type": "stream",
     "text": [
      "==================================================\n",
      "RAG >> 4: \n",
      "\n",
      "\u001b[1m> Entering new ConversationChain chain...\u001b[0m\n",
      "Prompt after formatting:\n",
      "\u001b[32;1m\u001b[1;3mCurrent conversation:\n",
      "Human: /force GGET look up the following genes on gene ontology: PCNA, CDT1, GEM cMYC, MYOD, MYOG\n",
      "BRAD:  database: GENEONTOLOGY\n",
      "genes: \"PCNA, CDT1, GEM cMYC, MYOD, MYOG\"\n",
      "code: None\n",
      "Human: /force GGET look up the following genes on enrichr: PCNA, CDT1, GEM cMYC, MYOD, MYOG\n",
      "BRAD:  database: ENRICHR\n",
      "genes: \"PCNA, CDT1, GEM cMYC, MYOD, MYOG\"\n",
      "code: None\n",
      "Human: /force GGET look up the following genes on BioCarta_2015: PCNA, CDT1, GEM cMYC, MYOD, MYOG\n",
      "BRAD:  database: ENRICHR\n",
      "genes: \"PCNA, CDT1, GEM cMYC, MYOD, MYOG\"\n",
      "code: None\n",
      "table: None\n",
      "mode name: None\n",
      "mode: None\n",
      "    \n",
      "    GENEONTOLOGY: The Gene Ontology (GO) is an initiative to unify the representation of gene and gene product attributes across all species via the aims: 1) maintain and develop its controlled vocabulary of gene and gene product attributes; 2) annotate genes and gene products, and assimilate and disseminate annotation data; and 3) provide tools for easy access to all aspects of the data provided by the project, and to enable functional interpretation of experimental data using the GO.\n",
      "    \n",
      "    ENRICHR: is a tool used to lookup sets of genes and their functional association. ENRICHR has access to many gene-set libraries including Allen_Brain_Atlas_up, ENCODE_Histone_Modifications_2015, Enrichr_Libraries_Most_Popular_Genes, FANTOM6_lncRNA_KD_DEGs, GO_Biological_Process_2023, GTEx, Human_Gene_Atlas, KEGG, REACTOME, Transcription_Factor_PPIs, WikiPathways and many others databases.\n",
      "    \n",
      "    Available Tables:\n",
      "    \n",
      "    \n",
      "    Query:/force GGET look up the following genes on gene ontology: PCNA, CDT1, GEM cMYC, MYOD, MYOG\n",
      "    \n",
      "    **INSTRUCTIONS**\n",
      "    1. From the query, decide if GENEONTOLOGY or ENRICHR should be used\n",
      "    2. Identify genes in the users input that should be searched. propose genes with similar names, correct the users spelling, or make small modifications to the list, but do not propose genes that are not found in the humans input.\n",
      "    3. If the user wants to extract genes from a table (python dataframe), provide the necessary code to get the genes into a python list, otherwise, say None.\n",
      "    4. If there is code required, identify the name of the table, otherwise say None\n",
      "    5. If there is code required, identify the row or column name of the table, otherwise say None\n",
      "    6. If there is code required, specify if it is a row or column\n",
      "    Format your output as follows with no additional information:\n",
      "    \n",
      "    database: <ENRICHR or GENEONTOLOGY>\n",
      "    genes: <List of genes separated by commas in query or None if code is required>\n",
      "    code: <True or None>\n",
      "    table: <Table Name>\n",
      "    mode name: <Row or Column Name>\n",
      "    mode: <Row or Column>\n",
      "    \u001b[0m\n",
      "\n",
      "\u001b[1m> Finished chain.\u001b[0m\n",
      " database: GENEONTOLOGY\n",
      "genes: \"PCNA, CDT1, GEM cMYC, MYOD, MYOG\"\n",
      "code: None\n",
      " database: GENEONTOLOGY\n",
      "genes: PCNA, CDT1, GEM cMYC, MYOD, MYOG\n",
      "code: None\n",
      "None\n",
      "{'database': 'GENEONTOLOGY', 'genes': ['PCNA', ' CDT1', ' GEM cMYC', ' MYOD', ' MYOG'], 'code': 'None'}\n",
      "['PCNA', ' CDT1', ' GEM cMYC', ' MYOD', ' MYOG']\n",
      "Error occurred while searching database: 'list' object has no attribute 'split'\n",
      "==================================================\n"
     ]
    }
   ],
   "source": [
    "from BRAD import brad\n",
    "brad.chat"
   ]
  },
  {
   "cell_type": "code",
   "execution_count": null,
   "id": "e75c80c5-29c4-43c2-9790-c353dc32335c",
   "metadata": {},
   "outputs": [],
   "source": [
    "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"
   ]
  },
  {
   "cell_type": "code",
   "execution_count": null,
   "id": "09f35f9f-1974-4c91-b4ff-261d0141bc09",
   "metadata": {},
   "outputs": [],
   "source": [
    "/force GGET look up the following genes on gene ontology: PCNA, CDT1, GEM cMYC, MYOD, MYOG"
   ]
  },
  {
   "cell_type": "code",
   "execution_count": null,
   "id": "5fe0363f-9313-4fc9-a9e3-390abdde8f5b",
   "metadata": {},
   "outputs": [],
   "source": []
  },
  {
   "cell_type": "code",
   "execution_count": 116,
   "id": "d7ba3d74-adcd-45a8-874f-c092cccb1315",
   "metadata": {},
   "outputs": [],
   "source": [
    "def parse_llm_response(response):\n",
    "    \"\"\"\n",
    "    Parses the LLM response to extract the database name and search terms.\n",
    "    \n",
    "    Parameters:\n",
    "    response (str): The response from the LLM.\n",
    "    \n",
    "    Returns:\n",
    "    dict: A dictionary with the database name and a list of search terms.\n",
    "    \"\"\"\n",
    "    # Initialize an empty dictionary to hold the parsed data\n",
    "    parsed_data = {}\n",
    "\n",
    "    # Split the response into lines\n",
    "    lines = response.strip().split('\\n')\n",
    "\n",
    "    # Extract the database name\n",
    "    database_line = lines[0].replace(\"Database:\", \"\").strip()\n",
    "    parsed_data[\"database\"] = database_line\n",
    "\n",
    "    genes_line = lines[1].replace(\"Genes:\", \"\").strip()\n",
    "    parsed_data[\"genes\"] = genes_line.split(',')\n",
    "\n",
    "    code_line = lines[2].replace(\"Code:\", \"\").strip()\n",
    "    parsed_data[\"code\"] = code_line.split(',')\n",
    "\n",
    "    table_line = lines[3].replace(\"Table:\", \"\").strip()\n",
    "    parsed_data[\"table\"] = table_line.split(',')\n",
    "\n",
    "    mode_name_line = lines[4].replace(\"Mode Name:\", \"\").strip()\n",
    "    parsed_data[\"mode_name\"] = mode_name_line.split(',')\n",
    "\n",
    "    mode_line = lines[5].replace(\"Mode:\", \"\").strip()\n",
    "    parsed_data[\"mode\"] = mode_name_line.split(',')\n",
    "\n",
    "    return parsed_data\n",
    "    \n",
    "def getTablesFormatting(tables):\n",
    "    tablesString = \"\"\n",
    "    for tab in tables:\n",
    "        columns_list = list(tables[tab].columns)\n",
    "        truncated_columns = columns_list[:10]  # Get the first 10 entries\n",
    "        if len(columns_list) > 10:\n",
    "            truncated_columns.append(\"...\")  # Add '...' if the list is longer than 10\n",
    "        tablesString += tab + '.columns = ' + str(truncated_columns) + '\\n'\n",
    "    return tablesString\n",
    "    \n",
    "memory = ConversationBufferMemory(ai_prefix=\"BRAD\")\n",
    "\n",
    "# Define the mapping of keywords to functions\n",
    "database_functions = {\n",
    "    'ENRICHR'   : queryEnrichr,\n",
    "    'GENEONTOLOGY' : geneOntology,\n",
    "}\n",
    "\n",
    "# Identify the database and the search terms\n",
    "template = \"\"\"Current conversation:\\n{{history}}\n",
    "\n",
    "GENEONTOLOGY: The Gene Ontology (GO) is an initiative to unify the representation of gene and gene product attributes across all species via the aims: 1) maintain and develop its controlled vocabulary of gene and gene product attributes; 2) annotate genes and gene products, and assimilate and disseminate annotation data; and 3) provide tools for easy access to all aspects of the data provided by the project, and to enable functional interpretation of experimental data using the GO.\n",
    "\n",
    "ENRICHR: is a tool used to lookup sets of genes and their functional association. ENRICHR has access to many gene-set libraries including Allen_Brain_Atlas_up, ENCODE_Histone_Modifications_2015, Enrichr_Libraries_Most_Popular_Genes, FANTOM6_lncRNA_KD_DEGs, GO_Biological_Process_2023, GTEx, Human_Gene_Atlas, KEGG, REACTOME, Transcription_Factor_PPIs, WikiPathways and many others databases.\n",
    "\n",
    "Available Tables:\n",
    "{tables}\n",
    "\n",
    "Query:{{input}}\n",
    "\n",
    "**INSTRUCTIONS**\n",
    "1. From the query, decide if GENEONTOLOGY or ENRICHR should be used\n",
    "2. Identify genes in the users input that should be searched. propose genes with similar names, correct the users spelling, or make small modifications to the list, but do not propose genes that are not found in the humans input.\n",
    "3. If the user wants to extract genes from a table (python dataframe), provide the necessary code to get the genes into a python list, otherwise, say None.\n",
    "4. If there is code required, identify the name of the table, otherwise say None\n",
    "5. If there is code required, identify the row or column name of the table, otherwise say None\n",
    "6. If there is code required, specify if it is a row or column\n",
    "Format your output as follows with no additional information:\n",
    "\n",
    "Database: <ENRICHR or GENEONTOLOGY>\n",
    "Genes: <List of genes separated by commas in query or None if code is required>\n",
    "Code: <True or None>\n",
    "Table: <Table Name>\n",
    "Mode Name: <Row or Column Name>\n",
    "Mode: <Row or Column>\n",
    "\"\"\"\n",
    "tablesInfo = getTablesFormatting(tables)\n",
    "filled_template = template.format(tables=tablesInfo) #, history=None, input=None)\n",
    "PROMPT = PromptTemplate(input_variables=[\"history\", \"input\"], template=filled_template)\n",
    "\n",
    "conversation = ConversationChain(prompt  = PROMPT,\n",
    "                                 llm     = llm,\n",
    "                                 verbose = True,\n",
    "                                 memory  = memory,\n",
    "                                )"
   ]
  },
  {
   "cell_type": "code",
   "execution_count": 117,
   "id": "bbcc983a-d9ea-436f-af05-581f7039fe7a",
   "metadata": {},
   "outputs": [
    {
     "name": "stdout",
     "output_type": "stream",
     "text": [
      "\n",
      "\n",
      "\u001b[1m> Entering new ConversationChain chain...\u001b[0m\n",
      "Prompt after formatting:\n",
      "\u001b[32;1m\u001b[1;3mCurrent conversation:\n",
      "\n",
      "\n",
      "GENEONTOLOGY: The Gene Ontology (GO) is an initiative to unify the representation of gene and gene product attributes across all species via the aims: 1) maintain and develop its controlled vocabulary of gene and gene product attributes; 2) annotate genes and gene products, and assimilate and disseminate annotation data; and 3) provide tools for easy access to all aspects of the data provided by the project, and to enable functional interpretation of experimental data using the GO.\n",
      "\n",
      "ENRICHR: is a tool used to lookup sets of genes and their functional association. ENRICHR has access to many gene-set libraries including Allen_Brain_Atlas_up, ENCODE_Histone_Modifications_2015, Enrichr_Libraries_Most_Popular_Genes, FANTOM6_lncRNA_KD_DEGs, GO_Biological_Process_2023, GTEx, Human_Gene_Atlas, KEGG, REACTOME, Transcription_Factor_PPIs, WikiPathways and many others databases.\n",
      "\n",
      "Available Tables:\n",
      "organs.columns = ['Liver', 'Kidney', 'Heart']\n",
      "single cells.columns = ['Cell_1', 'Cell_2', 'Cell_3']\n",
      "barcodess.columns = ['Barcode_1', 'Barcode_2', 'Barcode_3']\n",
      "\n",
      "\n",
      "Query:look up the heart column genes in KEGG\n",
      "\n",
      "**INSTRUCTIONS**\n",
      "1. From the query, decide if GENEONTOLOGY or ENRICHR should be used\n",
      "2. Identify genes in the users input that should be searched. propose genes with similar names, correct the users spelling, or make small modifications to the list, but do not propose genes that are not found in the humans input.\n",
      "3. If the user wants to extract genes from a table (python dataframe), provide the necessary code to get the genes into a python list, otherwise, say None.\n",
      "4. If there is code required, identify the name of the table, otherwise say None\n",
      "5. If there is code required, identify the row or column name of the table, otherwise say None\n",
      "6. If there is code required, specify if it is a row or column\n",
      "Format your output as follows with no additional information:\n",
      "\n",
      "Database: <ENRICHR or GENEONTOLOGY>\n",
      "Genes: <List of genes separated by commas in query or None if code is required>\n",
      "Code: <True or None>\n",
      "Table: <Table Name>\n",
      "Mode Name: <Row or Column Name>\n",
      "Mode: <Row or Column>\n",
      "\u001b[0m\n",
      "\n",
      "\u001b[1m> Finished chain.\u001b[0m\n"
     ]
    },
    {
     "data": {
      "text/plain": [
       "{'database': 'ENRICHR',\n",
       " 'genes': ['None'],\n",
       " 'code': ['True'],\n",
       " 'table': ['single cells'],\n",
       " 'mode_name': ['Heart'],\n",
       " 'mode': ['Heart']}"
      ]
     },
     "execution_count": 117,
     "metadata": {},
     "output_type": "execute_result"
    }
   ],
   "source": [
    "query = 'look up the heart column genes in KEGG'\n",
    "response = conversation.predict(input=query)\n",
    "parse_llm_response(response)"
   ]
  },
  {
   "cell_type": "code",
   "execution_count": 115,
   "id": "ea4548cc-edf6-4892-9869-32756ad85ecd",
   "metadata": {},
   "outputs": [
    {
     "data": {
      "text/plain": [
       "{'database': 'ENRICHR',\n",
       " 'genes': ['None'],\n",
       " 'code': ['True'],\n",
       " 'table': ['single cells'],\n",
       " 'mode_name': ['Heart'],\n",
       " 'mode': ['Heart']}"
      ]
     },
     "execution_count": 115,
     "metadata": {},
     "output_type": "execute_result"
    }
   ],
   "source": [
    "parse_llm_response(response)"
   ]
  },
  {
   "cell_type": "code",
   "execution_count": 114,
   "id": "0f7164c1-59e4-4203-ad1d-9a248226c9af",
   "metadata": {},
   "outputs": [],
   "source": []
  },
  {
   "cell_type": "code",
   "execution_count": 105,
   "id": "8c5080c3-e432-4f76-892b-f7caf21db06c",
   "metadata": {},
   "outputs": [],
   "source": [
    "def getTablesFormatting(tables):\n",
    "    tablesString = \"\"\n",
    "    for tab in tables:\n",
    "        columns_list = list(tables[tab].columns)\n",
    "        truncated_columns = columns_list[:10]  # Get the first 10 entries\n",
    "        if len(columns_list) > 10:\n",
    "            truncated_columns.append(\"...\")  # Add '...' if the list is longer than 10\n",
    "        tablesString += tab + '.columns = ' + str(truncated_columns) + '\\n'\n",
    "    return tablesString\n",
    "    \n",
    "memory = ConversationBufferMemory(ai_prefix=\"BRAD\")\n",
    "\n",
    "# Define the mapping of keywords to functions\n",
    "database_functions = {\n",
    "    'ENRICHR'   : queryEnrichr,\n",
    "    'GENEONTOLOGY' : geneOntology,\n",
    "}\n",
    "\n",
    "# Identify the database and the search terms\n",
    "template = \"\"\"Current conversation:\\n{{history}}\n",
    "\n",
    "GENEONTOLOGY: The Gene Ontology (GO) is an initiative to unify the representation of gene and gene product attributes across all species via the aims: 1) maintain and develop its controlled vocabulary of gene and gene product attributes; 2) annotate genes and gene products, and assimilate and disseminate annotation data; and 3) provide tools for easy access to all aspects of the data provided by the project, and to enable functional interpretation of experimental data using the GO.\n",
    "\n",
    "ENRICHR: is a tool used to lookup sets of genes and their functional association. ENRICHR has access to many gene-set libraries including Allen_Brain_Atlas_up, ENCODE_Histone_Modifications_2015, Enrichr_Libraries_Most_Popular_Genes, FANTOM6_lncRNA_KD_DEGs, GO_Biological_Process_2023, GTEx, Human_Gene_Atlas, KEGG, REACTOME, Transcription_Factor_PPIs, WikiPathways and many others databases.\n",
    "\n",
    "Available Tables:\n",
    "{tables}\n",
    "\n",
    "Query:{{input}}\n",
    "\n",
    "From the query, decide if GENEONTOLOGY or ENRICHR should be searched. Also, identify the gene names from the users query that should be searched. Feel free to propose genes with similar names, correct the users spelling, or make small modifications to the list, but do not propose genes that are wiledly different than what are included in the users query. Also, if the user wants to extract genes from a table, provide the necessary code to get the genes, otherwise, say None. Format your output as follows with no additions:\n",
    "\n",
    "Database: <ENRICHR or GENEONTOLOGY>\n",
    "Search Terms: <improved search terms>\n",
    "Code: <provide code to extract genes from dataframes such as: list(tableName[columnName].values) when the genes are in a column or list(tableName.loc[rowName].values) when the genes are in a row>\n",
    "\"\"\"\n",
    "tablesInfo = getTablesFormatting(tables)\n",
    "filled_template = template.format(tables=tablesInfo) #, history=None, input=None)\n",
    "PROMPT = PromptTemplate(input_variables=[\"history\", \"input\"], template=filled_template)\n",
    "\n",
    "conversation = ConversationChain(prompt  = PROMPT,\n",
    "                                 llm     = llm,\n",
    "                                 verbose = True,\n",
    "                                 memory  = memory,\n",
    "                                )"
   ]
  },
  {
   "cell_type": "code",
   "execution_count": 106,
   "id": "ae133e1a-c4b3-4b2e-8507-a43fe4f0c8b7",
   "metadata": {},
   "outputs": [
    {
     "name": "stdout",
     "output_type": "stream",
     "text": [
      "\n",
      "\n",
      "\u001b[1m> Entering new ConversationChain chain...\u001b[0m\n",
      "Prompt after formatting:\n",
      "\u001b[32;1m\u001b[1;3mCurrent conversation:\n",
      "\n",
      "\n",
      "GENEONTOLOGY: The Gene Ontology (GO) is an initiative to unify the representation of gene and gene product attributes across all species via the aims: 1) maintain and develop its controlled vocabulary of gene and gene product attributes; 2) annotate genes and gene products, and assimilate and disseminate annotation data; and 3) provide tools for easy access to all aspects of the data provided by the project, and to enable functional interpretation of experimental data using the GO.\n",
      "\n",
      "ENRICHR: is a tool used to lookup sets of genes and their functional association. ENRICHR has access to many gene-set libraries including Allen_Brain_Atlas_up, ENCODE_Histone_Modifications_2015, Enrichr_Libraries_Most_Popular_Genes, FANTOM6_lncRNA_KD_DEGs, GO_Biological_Process_2023, GTEx, Human_Gene_Atlas, KEGG, REACTOME, Transcription_Factor_PPIs, WikiPathways and many others databases.\n",
      "\n",
      "Available Tables:\n",
      "organs.columns = ['Liver', 'Kidney', 'Heart']\n",
      "single cells.columns = ['Cell_1', 'Cell_2', 'Cell_3']\n",
      "barcodess.columns = ['Barcode_1', 'Barcode_2', 'Barcode_3']\n",
      "\n",
      "\n",
      "Query:look up the heart column genes in KEGG\n",
      "\n",
      "From the query, decide if GENEONTOLOGY or ENRICHR should be searched. Also, identify the gene names from the users query that should be searched. Feel free to propose genes with similar names, correct the users spelling, or make small modifications to the list, but do not propose genes that are wiledly different than what are included in the users query. Also, if the user wants to extract genes from a table, provide the necessary code to get the genes, otherwise, say None. Format your output as follows with no additions:\n",
      "\n",
      "Database: <ENRICHR or GENEONTOLOGY>\n",
      "Search Terms: <improved search terms>\n",
      "Code: <provide code to extract genes from dataframes such as: list(tableName[columnName].values) when the genes are in a column or list(tableName.loc[rowName].values) when the genes are in a row>\n",
      "\u001b[0m\n",
      "\n",
      "\u001b[1m> Finished chain.\u001b[0m\n",
      "Database: ENRICHR\n",
      "Search Terms: Heart\n",
      "Code: list(heart.columns)\n"
     ]
    }
   ],
   "source": [
    "query = 'look up the heart column genes in KEGG'\n",
    "response = conversation.predict(input=query)\n",
    "print(response)"
   ]
  },
  {
   "cell_type": "code",
   "execution_count": 104,
   "id": "3d43031d-e6f1-4fe3-96ee-29ade112797e",
   "metadata": {},
   "outputs": [
    {
     "ename": "KeyError",
     "evalue": "'Heart'",
     "output_type": "error",
     "traceback": [
      "\u001b[0;31m---------------------------------------------------------------------------\u001b[0m",
      "\u001b[0;31mKeyError\u001b[0m                                  Traceback (most recent call last)",
      "File \u001b[0;32m~/.local/lib/python3.11/site-packages/pandas/core/indexes/base.py:3653\u001b[0m, in \u001b[0;36mIndex.get_loc\u001b[0;34m(self, key)\u001b[0m\n\u001b[1;32m   3652\u001b[0m \u001b[38;5;28;01mtry\u001b[39;00m:\n\u001b[0;32m-> 3653\u001b[0m     \u001b[38;5;28;01mreturn\u001b[39;00m \u001b[38;5;28;43mself\u001b[39;49m\u001b[38;5;241;43m.\u001b[39;49m\u001b[43m_engine\u001b[49m\u001b[38;5;241;43m.\u001b[39;49m\u001b[43mget_loc\u001b[49m\u001b[43m(\u001b[49m\u001b[43mcasted_key\u001b[49m\u001b[43m)\u001b[49m\n\u001b[1;32m   3654\u001b[0m \u001b[38;5;28;01mexcept\u001b[39;00m \u001b[38;5;167;01mKeyError\u001b[39;00m \u001b[38;5;28;01mas\u001b[39;00m err:\n",
      "File \u001b[0;32m~/.local/lib/python3.11/site-packages/pandas/_libs/index.pyx:147\u001b[0m, in \u001b[0;36mpandas._libs.index.IndexEngine.get_loc\u001b[0;34m()\u001b[0m\n",
      "File \u001b[0;32m~/.local/lib/python3.11/site-packages/pandas/_libs/index.pyx:176\u001b[0m, in \u001b[0;36mpandas._libs.index.IndexEngine.get_loc\u001b[0;34m()\u001b[0m\n",
      "File \u001b[0;32mpandas/_libs/hashtable_class_helper.pxi:7080\u001b[0m, in \u001b[0;36mpandas._libs.hashtable.PyObjectHashTable.get_item\u001b[0;34m()\u001b[0m\n",
      "File \u001b[0;32mpandas/_libs/hashtable_class_helper.pxi:7088\u001b[0m, in \u001b[0;36mpandas._libs.hashtable.PyObjectHashTable.get_item\u001b[0;34m()\u001b[0m\n",
      "\u001b[0;31mKeyError\u001b[0m: 'Heart'",
      "\nThe above exception was the direct cause of the following exception:\n",
      "\u001b[0;31mKeyError\u001b[0m                                  Traceback (most recent call last)",
      "Cell \u001b[0;32mIn[104], line 1\u001b[0m\n\u001b[0;32m----> 1\u001b[0m \u001b[38;5;28mlist\u001b[39m(\u001b[43mtables\u001b[49m\u001b[43m[\u001b[49m\u001b[38;5;124;43m'\u001b[39;49m\u001b[38;5;124;43msingle cells\u001b[39;49m\u001b[38;5;124;43m'\u001b[39;49m\u001b[43m]\u001b[49m\u001b[43m[\u001b[49m\u001b[38;5;124;43m'\u001b[39;49m\u001b[38;5;124;43mHeart\u001b[39;49m\u001b[38;5;124;43m'\u001b[39;49m\u001b[43m]\u001b[49m\u001b[38;5;241m.\u001b[39mvalues)\n",
      "File \u001b[0;32m~/.local/lib/python3.11/site-packages/pandas/core/frame.py:3761\u001b[0m, in \u001b[0;36mDataFrame.__getitem__\u001b[0;34m(self, key)\u001b[0m\n\u001b[1;32m   3759\u001b[0m \u001b[38;5;28;01mif\u001b[39;00m \u001b[38;5;28mself\u001b[39m\u001b[38;5;241m.\u001b[39mcolumns\u001b[38;5;241m.\u001b[39mnlevels \u001b[38;5;241m>\u001b[39m \u001b[38;5;241m1\u001b[39m:\n\u001b[1;32m   3760\u001b[0m     \u001b[38;5;28;01mreturn\u001b[39;00m \u001b[38;5;28mself\u001b[39m\u001b[38;5;241m.\u001b[39m_getitem_multilevel(key)\n\u001b[0;32m-> 3761\u001b[0m indexer \u001b[38;5;241m=\u001b[39m \u001b[38;5;28;43mself\u001b[39;49m\u001b[38;5;241;43m.\u001b[39;49m\u001b[43mcolumns\u001b[49m\u001b[38;5;241;43m.\u001b[39;49m\u001b[43mget_loc\u001b[49m\u001b[43m(\u001b[49m\u001b[43mkey\u001b[49m\u001b[43m)\u001b[49m\n\u001b[1;32m   3762\u001b[0m \u001b[38;5;28;01mif\u001b[39;00m is_integer(indexer):\n\u001b[1;32m   3763\u001b[0m     indexer \u001b[38;5;241m=\u001b[39m [indexer]\n",
      "File \u001b[0;32m~/.local/lib/python3.11/site-packages/pandas/core/indexes/base.py:3655\u001b[0m, in \u001b[0;36mIndex.get_loc\u001b[0;34m(self, key)\u001b[0m\n\u001b[1;32m   3653\u001b[0m     \u001b[38;5;28;01mreturn\u001b[39;00m \u001b[38;5;28mself\u001b[39m\u001b[38;5;241m.\u001b[39m_engine\u001b[38;5;241m.\u001b[39mget_loc(casted_key)\n\u001b[1;32m   3654\u001b[0m \u001b[38;5;28;01mexcept\u001b[39;00m \u001b[38;5;167;01mKeyError\u001b[39;00m \u001b[38;5;28;01mas\u001b[39;00m err:\n\u001b[0;32m-> 3655\u001b[0m     \u001b[38;5;28;01mraise\u001b[39;00m \u001b[38;5;167;01mKeyError\u001b[39;00m(key) \u001b[38;5;28;01mfrom\u001b[39;00m \u001b[38;5;21;01merr\u001b[39;00m\n\u001b[1;32m   3656\u001b[0m \u001b[38;5;28;01mexcept\u001b[39;00m \u001b[38;5;167;01mTypeError\u001b[39;00m:\n\u001b[1;32m   3657\u001b[0m     \u001b[38;5;66;03m# If we have a listlike key, _check_indexing_error will raise\u001b[39;00m\n\u001b[1;32m   3658\u001b[0m     \u001b[38;5;66;03m#  InvalidIndexError. Otherwise we fall through and re-raise\u001b[39;00m\n\u001b[1;32m   3659\u001b[0m     \u001b[38;5;66;03m#  the TypeError.\u001b[39;00m\n\u001b[1;32m   3660\u001b[0m     \u001b[38;5;28mself\u001b[39m\u001b[38;5;241m.\u001b[39m_check_indexing_error(key)\n",
      "\u001b[0;31mKeyError\u001b[0m: 'Heart'"
     ]
    }
   ],
   "source": [
    "list(tables['single cells']['Heart'].values)"
   ]
  },
  {
   "cell_type": "code",
   "execution_count": 68,
   "id": "3d761217-1715-4d53-bf78-1f580cf41700",
   "metadata": {},
   "outputs": [
    {
     "name": "stdout",
     "output_type": "stream",
     "text": [
      "foo test bar {other}\n",
      "foo test bar whatever\n"
     ]
    }
   ],
   "source": [
    "x = \"foo {test} bar {{other}}\".format(test=\"test\") # other won't be filled in here\n",
    "print(x)                              # prints \"foo test bar {other}\"\n",
    "print(x.format(other=\"whatever\"))     # prints \"foo test bar whatever\"\n"
   ]
  },
  {
   "cell_type": "code",
   "execution_count": 84,
   "id": "15068790-b3eb-4d28-a294-d9dad2099ee6",
   "metadata": {},
   "outputs": [
    {
     "name": "stdout",
     "output_type": "stream",
     "text": [
      "organs.columns = ['Liver', 'Kidney', 'Heart']\n",
      "single cells.columns = ['Cell_1', 'Cell_2', 'Cell_3']\n",
      "barcodess.columns = ['Barcode_1', 'Barcode_2', 'Barcode_3']\n",
      "\n"
     ]
    }
   ],
   "source": [
    "def getTablesFormatting(tables):\n",
    "    tablesString = \"\"\n",
    "    for tab in tables.keys():\n",
    "        tablesString += tab + '.columns = ' + str(list(tables[tab].columns)[:10]) + '\\n'\n",
    "    return tablesString\n",
    "\n",
    "tbs = getTablesFormatting(tables)\n",
    "print(tbs)"
   ]
  },
  {
   "cell_type": "code",
   "execution_count": 74,
   "id": "b303549f-8338-459e-83f9-a7885def7153",
   "metadata": {},
   "outputs": [
    {
     "data": {
      "text/plain": [
       "['A', 'B', 'C']"
      ]
     },
     "execution_count": 74,
     "metadata": {},
     "output_type": "execute_result"
    }
   ],
   "source": [
    "list(df.columns)"
   ]
  },
  {
   "cell_type": "code",
   "execution_count": 87,
   "id": "0477f34e-14d5-4739-b73f-4367e732a9bb",
   "metadata": {},
   "outputs": [],
   "source": [
    "from langchain.chains.summarize import load_summarize_chain\n",
    "conversation = ConversationChain(prompt  = PROMPT,\n",
    "                                 llm     = llm,\n",
    "                                 verbose = True,\n",
    "                                 memory  = memory,\n",
    "                                )"
   ]
  },
  {
   "cell_type": "code",
   "execution_count": 47,
   "id": "1878e73e-1ec0-4048-9b37-a10a6e28ae9c",
   "metadata": {},
   "outputs": [],
   "source": [
    "chain = PROMPT | llm"
   ]
  },
  {
   "cell_type": "code",
   "execution_count": 49,
   "id": "e5876805-167a-4282-a1e9-7b01a47528c7",
   "metadata": {},
   "outputs": [
    {
     "ename": "AttributeError",
     "evalue": "'RunnableSequence' object has no attribute 'predict'",
     "output_type": "error",
     "traceback": [
      "\u001b[0;31m---------------------------------------------------------------------------\u001b[0m",
      "\u001b[0;31mAttributeError\u001b[0m                            Traceback (most recent call last)",
      "Cell \u001b[0;32mIn[49], line 1\u001b[0m\n\u001b[0;32m----> 1\u001b[0m response \u001b[38;5;241m=\u001b[39m \u001b[43mchain\u001b[49m\u001b[38;5;241;43m.\u001b[39;49m\u001b[43mpredict\u001b[49m(\u001b[38;5;28minput\u001b[39m\u001b[38;5;241m=\u001b[39mquery)\n",
      "\u001b[0;31mAttributeError\u001b[0m: 'RunnableSequence' object has no attribute 'predict'"
     ]
    }
   ],
   "source": [
    "response = chain.predict(input=query)"
   ]
  },
  {
   "cell_type": "code",
   "execution_count": null,
   "id": "a0eb3553-d8a3-439f-a61d-c8e59c040dc6",
   "metadata": {},
   "outputs": [],
   "source": []
  },
  {
   "cell_type": "code",
   "execution_count": 22,
   "id": "53f167e2-7e98-4164-9ef9-cbed3aa0ffa7",
   "metadata": {},
   "outputs": [
    {
     "name": "stdout",
     "output_type": "stream",
     "text": [
      "\n",
      "\n",
      "\u001b[1m> Entering new ConversationChain chain...\u001b[0m\n",
      "Prompt after formatting:\n",
      "\u001b[32;1m\u001b[1;3mCurrent conversation:\n",
      "\n",
      "\n",
      "GENEONTOLOGY: The Gene Ontology (GO) is an initiative to unify the representation of gene and gene product attributes across all species via the aims: 1) maintain and develop its controlled vocabulary of gene and gene product attributes; 2) annotate genes and gene products, and assimilate and disseminate annotation data; and 3) provide tools for easy access to all aspects of the data provided by the project, and to enable functional interpretation of experimental data using the GO.\n",
      "\n",
      "ENRICHR: is a tool used to lookup sets of genes and their functional association. ENRICHR has access to many gene-set libraries including Allen_Brain_Atlas_up, ENCODE_Histone_Modifications_2015, Enrichr_Libraries_Most_Popular_Genes, FANTOM6_lncRNA_KD_DEGs, GO_Biological_Process_2023, GTEx, Human_Gene_Atlas, KEGG, REACTOME, Transcription_Factor_PPIs, WikiPathways and many others databases.\n",
      "\n",
      "Query:look up PCNA, CDT1, GEM, cMYA, and CDT1 with gene ontology\n",
      "\n",
      "From the query, decide if GENEONTOLOGY or ENRICHR should be searched. Also, identify the gene names from the users query that should be searched. Feel free to propose genes with similar names, correct the users spelling, or make small modifications to the list, but do not propose genes that are wiledly different than what are included in the users query. Also, if the user wants to extract genes from a table, provide the necessary code to get the genes, otherwise, say None. Format your output as follows with no additions:\n",
      "\n",
      "Database: <ENRICHR or GENEONTOLOGY>\n",
      "Search Terms: <improved search terms>\n",
      "Code: <provide code to extract genes from dataframes>\n",
      "\u001b[0m\n",
      "\n",
      "\u001b[1m> Finished chain.\u001b[0m\n",
      "Database: ENRICHR\n",
      "Search Terms: PCNA, CDT1, GEMININ (instead of GEM), MYBL2 (instead of cMYA), CDT1\n",
      "Code: None\n"
     ]
    }
   ],
   "source": [
    "query = 'look up PCNA, CDT1, GEM, cMYA, and CDT1 with gene ontology'\n",
    "response = conversation.predict(input=query)\n",
    "print(response)"
   ]
  },
  {
   "cell_type": "code",
   "execution_count": 29,
   "id": "e2fb021d-997d-4c31-8e30-00a1277bf396",
   "metadata": {},
   "outputs": [
    {
     "name": "stdout",
     "output_type": "stream",
     "text": [
      "\n",
      "\n",
      "\u001b[1m> Entering new ConversationChain chain...\u001b[0m\n",
      "Prompt after formatting:\n",
      "\u001b[32;1m\u001b[1;3mCurrent conversation:\n",
      "\n",
      "\n",
      "GENEONTOLOGY: The Gene Ontology (GO) is an initiative to unify the representation of gene and gene product attributes across all species via the aims: 1) maintain and develop its controlled vocabulary of gene and gene product attributes; 2) annotate genes and gene products, and assimilate and disseminate annotation data; and 3) provide tools for easy access to all aspects of the data provided by the project, and to enable functional interpretation of experimental data using the GO.\n",
      "\n",
      "ENRICHR: is a tool used to lookup sets of genes and their functional association. ENRICHR has access to many gene-set libraries including Allen_Brain_Atlas_up, ENCODE_Histone_Modifications_2015, Enrichr_Libraries_Most_Popular_Genes, FANTOM6_lncRNA_KD_DEGs, GO_Biological_Process_2023, GTEx, Human_Gene_Atlas, KEGG, REACTOME, Transcription_Factor_PPIs, WikiPathways and many others databases.\n",
      "\n",
      "Query:check out all of the genes in scRNAseq under gene-names in SILAC_Phosphoproteomics\n",
      "\n",
      "Available Tables:\n",
      "- DGC.columns = ['Fibroblast Genes', 'HSC', 'TFs']\n",
      "- HWG.columns = ['Scott', 'Not Gene Names', 'Gene Names']\n",
      "- scRNAseq.columns = ['sc1', 'sc2', ..., 'sc100']\n",
      "\n",
      "From the query, decide if GENEONTOLOGY or ENRICHR should be searched. Also, identify the gene names from the users query that should be searched. Feel free to propose genes with similar names, correct the users spelling, or make small modifications to the list, but do not propose genes that are wiledly different than what are included in the users query. Also, if the user wants to extract genes from a table, provide the necessary code to get the genes, otherwise, say None. Format your output as follows with no additions:\n",
      "\n",
      "Database: <ENRICHR or GENEONTOLOGY>\n",
      "Search Terms: <improved search terms>\n",
      "Code: <provide code to extract genes from dataframes>\n",
      "\u001b[0m\n",
      "\n",
      "\u001b[1m> Finished chain.\u001b[0m\n",
      "Database: ENRICHR\n",
      "Search Terms: SILAC_Phosphoproteomics\n",
      "Code: scRNAseq_gene_names = scRNAseq.values.flatten().tolist()\n"
     ]
    }
   ],
   "source": [
    "query = 'check out all of the genes in scRNAseq under gene-names in SILAC_Phosphoproteomics'\n",
    "response = conversation.predict(input=query)\n",
    "print(response)"
   ]
  },
  {
   "cell_type": "code",
   "execution_count": 30,
   "id": "03047f2f-2e62-48bc-9e79-2878617bd473",
   "metadata": {},
   "outputs": [
    {
     "name": "stdout",
     "output_type": "stream",
     "text": [
      "\n",
      "\n",
      "\u001b[1m> Entering new ConversationChain chain...\u001b[0m\n",
      "Prompt after formatting:\n",
      "\u001b[32;1m\u001b[1;3mCurrent conversation:\n",
      "Human: check out all of the genes in scRNAseq under gene-names in SILAC_Phosphoproteomics\n",
      "BRAD: Database: ENRICHR\n",
      "Search Terms: SILAC_Phosphoproteomics\n",
      "Code: scRNAseq_gene_names = scRNAseq.values.flatten().tolist()\n",
      "\n",
      "GENEONTOLOGY: The Gene Ontology (GO) is an initiative to unify the representation of gene and gene product attributes across all species via the aims: 1) maintain and develop its controlled vocabulary of gene and gene product attributes; 2) annotate genes and gene products, and assimilate and disseminate annotation data; and 3) provide tools for easy access to all aspects of the data provided by the project, and to enable functional interpretation of experimental data using the GO.\n",
      "\n",
      "ENRICHR: is a tool used to lookup sets of genes and their functional association. ENRICHR has access to many gene-set libraries including Allen_Brain_Atlas_up, ENCODE_Histone_Modifications_2015, Enrichr_Libraries_Most_Popular_Genes, FANTOM6_lncRNA_KD_DEGs, GO_Biological_Process_2023, GTEx, Human_Gene_Atlas, KEGG, REACTOME, Transcription_Factor_PPIs, WikiPathways and many others databases.\n",
      "\n",
      "Query:check out all of the genes sc1\n",
      "\n",
      "Available Tables:\n",
      "- DGC.columns = ['Fibroblast Genes', 'HSC', 'TFs']\n",
      "- HWG.columns = ['Scott', 'Not Gene Names', 'Gene Names']\n",
      "- scRNAseq.columns = ['sc1', 'sc2', ..., 'sc100']\n",
      "\n",
      "From the query, decide if GENEONTOLOGY or ENRICHR should be searched. Also, identify the gene names from the users query that should be searched. Feel free to propose genes with similar names, correct the users spelling, or make small modifications to the list, but do not propose genes that are wiledly different than what are included in the users query. Also, if the user wants to extract genes from a table, provide the necessary code to get the genes, otherwise, say None. Format your output as follows with no additions:\n",
      "\n",
      "Database: <ENRICHR or GENEONTOLOGY>\n",
      "Search Terms: <improved search terms>\n",
      "Code: <provide code to extract genes from dataframes>\n",
      "\u001b[0m\n",
      "\n",
      "\u001b[1m> Finished chain.\u001b[0m\n",
      "Database: ENRICHR\n",
      "Search Terms: sc1\n",
      "Code: sc1_gene_names = scRNAseq['sc1'].values.flatten().tolist()\n"
     ]
    }
   ],
   "source": [
    "query = 'check out all of the genes sc1'\n",
    "response = conversation.predict(input=query)\n",
    "print(response)"
   ]
  },
  {
   "cell_type": "code",
   "execution_count": 31,
   "id": "0912f147-b1c3-4dc2-acff-48040f3715d1",
   "metadata": {},
   "outputs": [
    {
     "name": "stdout",
     "output_type": "stream",
     "text": [
      "\n",
      "\n",
      "\u001b[1m> Entering new ConversationChain chain...\u001b[0m\n",
      "Prompt after formatting:\n",
      "\u001b[32;1m\u001b[1;3mCurrent conversation:\n",
      "Human: check out all of the genes in scRNAseq under gene-names in SILAC_Phosphoproteomics\n",
      "BRAD: Database: ENRICHR\n",
      "Search Terms: SILAC_Phosphoproteomics\n",
      "Code: scRNAseq_gene_names = scRNAseq.values.flatten().tolist()\n",
      "Human: check out all of the genes sc1\n",
      "BRAD: Database: ENRICHR\n",
      "Search Terms: sc1\n",
      "Code: sc1_gene_names = scRNAseq['sc1'].values.flatten().tolist()\n",
      "\n",
      "GENEONTOLOGY: The Gene Ontology (GO) is an initiative to unify the representation of gene and gene product attributes across all species via the aims: 1) maintain and develop its controlled vocabulary of gene and gene product attributes; 2) annotate genes and gene products, and assimilate and disseminate annotation data; and 3) provide tools for easy access to all aspects of the data provided by the project, and to enable functional interpretation of experimental data using the GO.\n",
      "\n",
      "ENRICHR: is a tool used to lookup sets of genes and their functional association. ENRICHR has access to many gene-set libraries including Allen_Brain_Atlas_up, ENCODE_Histone_Modifications_2015, Enrichr_Libraries_Most_Popular_Genes, FANTOM6_lncRNA_KD_DEGs, GO_Biological_Process_2023, GTEx, Human_Gene_Atlas, KEGG, REACTOME, Transcription_Factor_PPIs, WikiPathways and many others databases.\n",
      "\n",
      "Query:find the definitions of all the genes sc1\n",
      "\n",
      "Available Tables:\n",
      "- DGC.columns = ['Fibroblast Genes', 'HSC', 'TFs']\n",
      "- HWG.columns = ['Scott', 'Not Gene Names', 'Gene Names']\n",
      "- scRNAseq.columns = ['sc1', 'sc2', ..., 'sc100']\n",
      "\n",
      "From the query, decide if GENEONTOLOGY or ENRICHR should be searched. Also, identify the gene names from the users query that should be searched. Feel free to propose genes with similar names, correct the users spelling, or make small modifications to the list, but do not propose genes that are wiledly different than what are included in the users query. Also, if the user wants to extract genes from a table, provide the necessary code to get the genes, otherwise, say None. Format your output as follows with no additions:\n",
      "\n",
      "Database: <ENRICHR or GENEONTOLOGY>\n",
      "Search Terms: <improved search terms>\n",
      "Code: <provide code to extract genes from dataframes>\n",
      "\u001b[0m\n",
      "\n",
      "\u001b[1m> Finished chain.\u001b[0m\n",
      "Database: ENRICHR\n",
      "Search Terms: sc1\n",
      "Code: sc1_gene_names = scRNAseq['sc1'].values.flatten().tolist()\n"
     ]
    }
   ],
   "source": [
    "query = 'find the definitions of all the genes sc1'\n",
    "response = conversation.predict(input=query)\n",
    "print(response)"
   ]
  },
  {
   "cell_type": "code",
   "execution_count": 35,
   "id": "b7b522a2-986a-402f-9391-7dd092c2ff0e",
   "metadata": {},
   "outputs": [
    {
     "name": "stdout",
     "output_type": "stream",
     "text": [
      "\n",
      "\n",
      "\u001b[1m> Entering new ConversationChain chain...\u001b[0m\n",
      "Prompt after formatting:\n",
      "\u001b[32;1m\u001b[1;3mCurrent conversation:\n",
      "\n",
      "\n",
      "GENEONTOLOGY: The Gene Ontology (GO) is an initiative to unify the representation of gene and gene product attributes across all species via the aims: 1) maintain and develop its controlled vocabulary of gene and gene product attributes; 2) annotate genes and gene products, and assimilate and disseminate annotation data; and 3) provide tools for easy access to all aspects of the data provided by the project, and to enable functional interpretation of experimental data using the GO.\n",
      "\n",
      "ENRICHR: is a tool used to lookup sets of genes and their functional association. ENRICHR has access to many gene-set libraries including Allen_Brain_Atlas_up, ENCODE_Histone_Modifications_2015, Enrichr_Libraries_Most_Popular_Genes, FANTOM6_lncRNA_KD_DEGs, GO_Biological_Process_2023, GTEx, Human_Gene_Atlas, KEGG, REACTOME, Transcription_Factor_PPIs, WikiPathways and many others databases.\n",
      "\n",
      "Query:find the ontology definitions of all the genes sc1\n",
      "\n",
      "Available Tables:\n",
      "- DGC.columns = ['Fibroblast Genes', 'HSC', 'TFs']\n",
      "- HWG.columns = ['Scott', 'Not Gene Names', 'Gene Names']\n",
      "- scRNAseq.columns = ['sc1', 'sc2', ..., 'sc100']\n",
      "\n",
      "From the query, decide if GENEONTOLOGY or ENRICHR should be searched. Also, identify the gene names from the users query that should be searched. Feel free to propose genes with similar names, correct the users spelling, or make small modifications to the list, but do not propose genes that are wiledly different than what are included in the users query. Also, if the user wants to extract genes from a table, provide the necessary code to get the genes, otherwise, say None. Format your output as follows with no additions:\n",
      "\n",
      "Database: <ENRICHR or GENEONTOLOGY>\n",
      "Search Terms: <improved search terms>\n",
      "Code: <provide code to extract genes from dataframes>\n",
      "\u001b[0m\n",
      "\n",
      "\u001b[1m> Finished chain.\u001b[0m\n",
      "Database: ENRICHR\n",
      "Search Terms: sc1\n",
      "Code: sc1_genes = scRNAseq['sc1'].tolist()\n"
     ]
    }
   ],
   "source": [
    "query = 'find the ontology definitions of all the genes sc1'\n",
    "response = conversation.predict(input=query)\n",
    "print(response)"
   ]
  },
  {
   "cell_type": "code",
   "execution_count": 5,
   "id": "faf6f516-d878-43bc-a26d-36a3b2258925",
   "metadata": {},
   "outputs": [
    {
     "ename": "NameError",
     "evalue": "name 'XX' is not defined",
     "output_type": "error",
     "traceback": [
      "\u001b[0;31m---------------------------------------------------------------------------\u001b[0m",
      "\u001b[0;31mNameError\u001b[0m                                 Traceback (most recent call last)",
      "Cell \u001b[0;32mIn[5], line 1\u001b[0m\n\u001b[0;32m----> 1\u001b[0m \u001b[38;5;28;43meval\u001b[39;49m\u001b[43m(\u001b[49m\u001b[38;5;124;43m'\u001b[39;49m\u001b[38;5;124;43mXX\u001b[39;49m\u001b[38;5;124;43m'\u001b[39;49m\u001b[43m)\u001b[49m\n",
      "File \u001b[0;32m<string>:1\u001b[0m\n",
      "\u001b[0;31mNameError\u001b[0m: name 'XX' is not defined"
     ]
    }
   ],
   "source": []
  },
  {
   "cell_type": "code",
   "execution_count": 40,
   "id": "2e69fcdd-8380-4087-ab41-f0040aac9ed7",
   "metadata": {},
   "outputs": [
    {
     "name": "stdout",
     "output_type": "stream",
     "text": [
      "[2 5 8]\n"
     ]
    }
   ],
   "source": [
    "import pandas as pd\n",
    "\n",
    "# Sample DataFrame\n",
    "data = {'A': [1, 2, 3], 'B': [4, 5, 6], 'C': [7, 8, 9]}\n",
    "df = pd.DataFrame(data)\n",
    "\n",
    "# Access row with label 1\n",
    "row = df.loc[1].values\n",
    "print(row)\n"
   ]
  },
  {
   "cell_type": "code",
   "execution_count": 41,
   "id": "d10b6d16-e9cf-4ed1-b2ee-e6501024c092",
   "metadata": {},
   "outputs": [
    {
     "data": {
      "text/html": [
       "<div>\n",
       "<style scoped>\n",
       "    .dataframe tbody tr th:only-of-type {\n",
       "        vertical-align: middle;\n",
       "    }\n",
       "\n",
       "    .dataframe tbody tr th {\n",
       "        vertical-align: top;\n",
       "    }\n",
       "\n",
       "    .dataframe thead th {\n",
       "        text-align: right;\n",
       "    }\n",
       "</style>\n",
       "<table border=\"1\" class=\"dataframe\">\n",
       "  <thead>\n",
       "    <tr style=\"text-align: right;\">\n",
       "      <th></th>\n",
       "      <th>A</th>\n",
       "      <th>B</th>\n",
       "      <th>C</th>\n",
       "    </tr>\n",
       "  </thead>\n",
       "  <tbody>\n",
       "    <tr>\n",
       "      <th>0</th>\n",
       "      <td>1</td>\n",
       "      <td>4</td>\n",
       "      <td>7</td>\n",
       "    </tr>\n",
       "    <tr>\n",
       "      <th>1</th>\n",
       "      <td>2</td>\n",
       "      <td>5</td>\n",
       "      <td>8</td>\n",
       "    </tr>\n",
       "    <tr>\n",
       "      <th>2</th>\n",
       "      <td>3</td>\n",
       "      <td>6</td>\n",
       "      <td>9</td>\n",
       "    </tr>\n",
       "  </tbody>\n",
       "</table>\n",
       "</div>"
      ],
      "text/plain": [
       "   A  B  C\n",
       "0  1  4  7\n",
       "1  2  5  8\n",
       "2  3  6  9"
      ]
     },
     "execution_count": 41,
     "metadata": {},
     "output_type": "execute_result"
    }
   ],
   "source": [
    "df"
   ]
  },
  {
   "cell_type": "code",
   "execution_count": 78,
   "id": "fbebf84f-2b7b-43fa-9cf6-fa52fd56032d",
   "metadata": {},
   "outputs": [
    {
     "name": "stdout",
     "output_type": "stream",
     "text": [
      "Single Cell Gene Expression DataFrame:\n",
      "       Cell_1 Cell_2 Cell_3\n",
      "Gene_1  GeneA  GeneD  GeneG\n",
      "Gene_2  GeneB  GeneE  GeneH\n",
      "Gene_3  GeneC  GeneF  GeneI\n",
      "\n",
      "Gene Expression by Barcode DataFrame:\n",
      "         Barcode_1 Barcode_2 Barcode_3\n",
      "Sample_1     GeneJ     GeneN     GeneR\n",
      "Sample_2     GeneK     GeneO     GeneS\n",
      "Sample_3     GeneL     GeneP     GeneT\n",
      "Sample_4     GeneM     GeneQ     GeneU\n",
      "\n",
      "Gene Expression in Different Organs DataFrame:\n",
      "         Liver  Kidney   Heart\n",
      "Mouse_1  GeneV   GeneY  GeneB1\n",
      "Mouse_2  GeneW   GeneZ  GeneC1\n",
      "Mouse_3  GeneX  GeneA1  GeneD1\n"
     ]
    }
   ],
   "source": [
    "import pandas as pd\n",
    "\n",
    "# Example 1: Single cell gene expression\n",
    "data_single_cell = {\n",
    "    \"Cell_1\": [\"GeneA\", \"GeneB\", \"GeneC\"],\n",
    "    \"Cell_2\": [\"GeneD\", \"GeneE\", \"GeneF\"],\n",
    "    \"Cell_3\": [\"GeneG\", \"GeneH\", \"GeneI\"]\n",
    "}\n",
    "df_single_cell = pd.DataFrame(data_single_cell, index=[\"Gene_1\", \"Gene_2\", \"Gene_3\"])\n",
    "print(\"Single Cell Gene Expression DataFrame:\")\n",
    "print(df_single_cell)\n",
    "print()\n",
    "\n",
    "# Example 2: Gene expression by barcode\n",
    "data_barcode = {\n",
    "    \"Barcode_1\": [\"GeneJ\", \"GeneK\", \"GeneL\", \"GeneM\"],\n",
    "    \"Barcode_2\": [\"GeneN\", \"GeneO\", \"GeneP\", \"GeneQ\"],\n",
    "    \"Barcode_3\": [\"GeneR\", \"GeneS\", \"GeneT\", \"GeneU\"]\n",
    "}\n",
    "df_barcode = pd.DataFrame(data_barcode, index=[\"Sample_1\", \"Sample_2\", \"Sample_3\", \"Sample_4\"])\n",
    "print(\"Gene Expression by Barcode DataFrame:\")\n",
    "print(df_barcode)\n",
    "print()\n",
    "\n",
    "# Example 3: Gene expression in different organs\n",
    "data_organs = {\n",
    "    \"Liver\": [\"GeneV\", \"GeneW\", \"GeneX\"],\n",
    "    \"Kidney\": [\"GeneY\", \"GeneZ\", \"GeneA1\"],\n",
    "    \"Heart\": [\"GeneB1\", \"GeneC1\", \"GeneD1\"]\n",
    "}\n",
    "df_organs = pd.DataFrame(data_organs, index=[\"Mouse_1\", \"Mouse_2\", \"Mouse_3\"])\n",
    "print(\"Gene Expression in Different Organs DataFrame:\")\n",
    "print(df_organs)\n",
    "\n",
    "tables = {\n",
    "    'organs':df_organs,\n",
    "    'single cells':df_single_cell,\n",
    "    'barcodess':df_barcode\n",
    "}"
   ]
  }
 ],
 "metadata": {
  "kernelspec": {
   "display_name": "Python 3 (ipykernel)",
   "language": "python",
   "name": "python3"
  },
  "language_info": {
   "codemirror_mode": {
    "name": "ipython",
    "version": 3
   },
   "file_extension": ".py",
   "mimetype": "text/x-python",
   "name": "python",
   "nbconvert_exporter": "python",
   "pygments_lexer": "ipython3",
   "version": "3.11.7"
  }
 },
 "nbformat": 4,
 "nbformat_minor": 5
}
