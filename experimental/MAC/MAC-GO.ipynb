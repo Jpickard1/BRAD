{
 "cells": [
  {
   "cell_type": "code",
   "execution_count": 1,
   "id": "a9be02db-c532-44d4-91c6-26d66cdd8047",
   "metadata": {},
   "outputs": [],
   "source": [
    "from BRAD import brad"
   ]
  },
  {
   "cell_type": "markdown",
   "id": "8515016a-d71f-42e9-931e-8139b3ebcc33",
   "metadata": {},
   "source": [
    "NVIDIA API= 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\n",
    "\n",
    "\n",
    "\n",
    "\n",
    "/force DATABASE look up MYOD on Gene Ontology"
   ]
  },
  {
   "cell_type": "code",
   "execution_count": null,
   "id": "6728e29e-f139-43a6-b961-cc86510995a5",
   "metadata": {
    "scrolled": true
   },
   "outputs": [
    {
     "name": "stdin",
     "output_type": "stream",
     "text": [
      "Enter your NVIDIA API key:  ········\n"
     ]
    },
    {
     "name": "stdout",
     "output_type": "stream",
     "text": [
      "\n",
      "Would you like to use a database with BRAD [Y/N]?\n"
     ]
    },
    {
     "name": "stdin",
     "output_type": "stream",
     "text": [
      " N\n"
     ]
    },
    {
     "name": "stderr",
     "output_type": "stream",
     "text": [
      "\u001b[32m2024-07-08 01:31:37 INFO semantic_router.utils.logger local\u001b[0m\n"
     ]
    }
   ],
   "source": [
    "brad.chat()"
   ]
  },
  {
   "cell_type": "code",
   "execution_count": null,
   "id": "7b33c53b-090b-4608-82cc-55377d78d62a",
   "metadata": {},
   "outputs": [],
   "source": []
  },
  {
   "cell_type": "code",
   "execution_count": null,
   "id": "a67458f1-327d-44c3-b354-a81b34f4c93f",
   "metadata": {},
   "outputs": [],
   "source": []
  }
 ],
 "metadata": {
  "kernelspec": {
   "display_name": "Python 3 (ipykernel)",
   "language": "python",
   "name": "python3"
  },
  "language_info": {
   "codemirror_mode": {
    "name": "ipython",
    "version": 3
   },
   "file_extension": ".py",
   "mimetype": "text/x-python",
   "name": "python",
   "nbconvert_exporter": "python",
   "pygments_lexer": "ipython3",
   "version": "3.11.7"
  }
 },
 "nbformat": 4,
 "nbformat_minor": 5
}
