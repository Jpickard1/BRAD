{
 "cells": [
  {
   "cell_type": "markdown",
   "id": "b5645027-5ee8-4a54-8062-f9858dad8864",
   "metadata": {},
   "source": [
    "# Planning Larger Analysis"
   ]
  },
  {
   "cell_type": "code",
   "execution_count": 1,
   "id": "f7cb860d-0647-4dd4-a35b-931a580a9c61",
   "metadata": {},
   "outputs": [],
   "source": [
    "from BRAD import brad"
   ]
  },
  {
   "cell_type": "code",
   "execution_count": 4,
   "id": "eb1bcd37-34e5-4e88-832d-71d0597efbd9",
   "metadata": {},
   "outputs": [],
   "source": [
    "from langchain.embeddings import HuggingFaceEmbeddings\n",
    "from langchain.vectorstores import Chroma\n",
    "import chromadb"
   ]
  },
  {
   "cell_type": "code",
   "execution_count": 5,
   "id": "cbed9c5e-b190-4c82-a4b4-fc2ca3f1b5ff",
   "metadata": {},
   "outputs": [],
   "source": [
    "# Load the database\n",
    "persist_directory = '/nfs/turbo/umms-indikar/shared/projects/RAG/databases/DigitalLibrary-10-June-2024/'\n",
    "embeddings_model = HuggingFaceEmbeddings(model_name='BAAI/bge-base-en-v1.5')\n",
    "db_name = \"DigitalLibrary\"\n",
    "_client_settings = chromadb.PersistentClient(path=(persist_directory + db_name))\n",
    "vectordb = Chroma(persist_directory=persist_directory, embedding_function=embeddings_model, client=_client_settings, collection_name=db_name)"
   ]
  },
  {
   "cell_type": "code",
   "execution_count": null,
   "id": "9da557d6-0ef7-460a-aee8-b1265b77f889",
   "metadata": {},
   "outputs": [
    {
     "name": "stdout",
     "output_type": "stream",
     "text": [
      "Welcome to RAG! The chat log from this conversation will be saved to /home/jpic/BRAD/2024-06-23_13-48-21/log.json. How can I help?\n"
     ]
    },
    {
     "name": "stderr",
     "output_type": "stream",
     "text": [
      "\u001b[32m2024-06-23 13:48:21 INFO semantic_router.utils.logger local\u001b[0m\n"
     ]
    },
    {
     "name": "stdout",
     "output_type": "stream",
     "text": [
      "==================================================\n"
     ]
    },
    {
     "name": "stdin",
     "output_type": "stream",
     "text": [
      "Input >>  /force PLANNER write a 3 step pipeline to 1. perform a lit search of PCNA with the RAG. Use a prompt such as, \"What role does PCNA play in the cell cycle and cell cycle imaging?\", then 2. run the hwg analysis pipeline to find first order interactions of PCNA loaded from step 2. Next, (3.) Load the output file of the hwg codes (step 2) and perform gene enrichment and identify the pathways PCNA is involved in with enrichr. Finally, write a small report summarizing each of these findings in Step 4\n"
     ]
    },
    {
     "name": "stdout",
     "output_type": "stream",
     "text": [
      "==================================================\n",
      "RAG >> 1: \n",
      "\n",
      "\u001b[1m> Entering new ConversationChain chain...\u001b[0m\n",
      "Prompt after formatting:\n",
      "\u001b[32;1m\u001b[1;3m**INSTRUCTIONS:**\n",
      "You are planning a bioinformatics analysis pipeline to address a user's query. Your task is to outline a multi-step workflow using the available methods listed below. Each method should be used appropriately to ensure a thorough analysis. For each step in the pipeline, explain the goal of the process as well as provide a prompt to the chatbot that will execute that step. If information is passed between stages, such as from literature or code to databases, indicate the dependencies of steps in the prompt.\n",
      "\n",
      "**Available Methods:**\n",
      "1. **Retrieval Augmented Generation**(RAG): Look up literature and documents from a text database.\n",
      "2. **Web Search for New Literature**(SCRAPE): Search platforms like arXiv, bioRxiv, and PubMed for the latest research.\n",
      "3. **Bioinformatics Databases**(DATABASE): Utilize databases such as Gene Ontology and Enrichr to perform gene set enrichment analyses.\n",
      "4. **Run Codes**(CODE): Execute bioinformatics pipelines. Utilize prebuilt pipelines or develop new ones as needed.\n",
      "5. **Write a Report**(WRITE): Synthesize and summarize information. This can include summarizing database searches, code pipeline results, or creating a final report to encapsulate the entire analysis.\n",
      "\n",
      "Current conversation: \n",
      "\n",
      "\n",
      "User Query: write a 3 step pipeline to 1. perform a lit search of PCNA with the RAG. Use a prompt such as, \"What role does PCNA play in the cell cycle and cell cycle imaging?\", then 2. run the hwg analysis pipeline to find first order interactions of PCNA loaded from step 2. Next, (3.) Load the output file of the hwg codes (step 2) and perform gene enrichment and identify the pathways PCNA is involved in with enrichr. Finally, write a small report summarizing each of these findings in Step 4\n",
      "\n",
      "Plan:\n",
      "**Step 1 (method, eg. RAG)**:\n",
      "Prompt: [Description of action for chatbot to do Step 1, i.e. do X, Y, Z]\n",
      "\n",
      "**Step 2 (method, eg. CODE)**:\n",
      "Prompt: [Description of action for chatbot to do Step 2, i.e. do A, B, C. Use information from Step X]\n",
      "\n",
      "**Step 3 (method, eg. DATABASE)**:\n",
      "Prompt: [Description of action for chatbot to do Step 3, i.e. do D, E, F. Use information from Step Y]\n",
      "...\n",
      "\u001b[0m\n",
      "\n",
      "\u001b[1m> Finished chain.\u001b[0m\n",
      "Here is the planned 4-step pipeline:\n",
      "\n",
      "**Step 1 (RAG)**:\n",
      "Prompt: Use the Retrieval Augmented Generation (RAG) method to search literature and documents from a text database, answering the query \"What role does PCNA play in the cell cycle and cell cycle imaging?\" and retrieve relevant information on PCNA's functions in the cell cycle.\n",
      "\n",
      "**Step 2 (CODE)**:\n",
      "Prompt: Run the HWG analysis pipeline (CODE) to find first-order interactions of PCNA, using the information retrieved in Step 1. Load the relevant PCNA-related data and execute the HWG code to generate an output file containing the interaction results.\n",
      "\n",
      "**Step 3 (DATABASE)**:\n",
      "Prompt: Load the output file from Step 2 and use the Enrichr database (DATABASE) to perform gene set enrichment analysis and identify the pathways PCNA is involved in. Specifically, use the output file to query Enrichr and retrieve a list of pathways and their associated genes that are enriched with PCNA interactions.\n",
      "\n",
      "**Step 4 (WRITE)**:\n",
      "Prompt: Write a small report (WRITE) summarizing the findings from each of the previous steps. Use the literature search results from Step 1, the HWG analysis results from Step 2, and the enriched pathway results from Step 3 to generate a concise report that describes PCNA's role in the cell cycle, its interactions, and the pathways it is involved in.\n",
      "\n",
      "\n",
      "Do you want to proceed with this plan? [Y/N/edit]\n"
     ]
    }
   ],
   "source": [
    "brad.chat(ragvectordb = vectordb)"
   ]
  },
  {
   "cell_type": "code",
   "execution_count": null,
   "id": "a88ef9ce-de0a-44ce-aefa-9b30aa69dc39",
   "metadata": {},
   "outputs": [],
   "source": []
  },
  {
   "cell_type": "code",
   "execution_count": null,
   "id": "09e1717c-fbd9-4666-a353-c7cc1e70ad4e",
   "metadata": {},
   "outputs": [],
   "source": []
  },
  {
   "cell_type": "code",
   "execution_count": null,
   "id": "3ac6a4d6-d4ac-4e0c-be40-3c040fb03f0f",
   "metadata": {},
   "outputs": [],
   "source": []
  },
  {
   "cell_type": "code",
   "execution_count": null,
   "id": "0333a24d-e684-46f3-8d56-eba58f4231be",
   "metadata": {},
   "outputs": [],
   "source": [
    "#import subprocess\n",
    "#import os\n",
    "#from langchain.document_loaders import DirectoryLoader\n",
    "#from langchain.document_loaders import UnstructuredPDFLoader\n",
    "#from langchain.vectorstores import Chroma\n",
    "#from langchain_community.document_loaders import PyPDFLoader\n",
    "#from langchain_text_splitters import RecursiveCharacterTextSplitter\n",
    "#from langchain import PromptTemplate, LLMChain\n",
    "#from langchain.memory import ConversationBufferMemory\n",
    "#from langchain.chains import ConversationChain"
   ]
  },
  {
   "cell_type": "code",
   "execution_count": 9,
   "id": "a9adf57d-c10b-4abe-82b0-33a2cac0b4b1",
   "metadata": {},
   "outputs": [
    {
     "name": "stderr",
     "output_type": "stream",
     "text": [
      "/home/jpic/.local/lib/python3.11/site-packages/huggingface_hub/file_download.py:1132: FutureWarning: `resume_download` is deprecated and will be removed in version 1.0.0. Downloads always resume when possible. If you want to force a new download, use `force_download=True`.\n",
      "  warnings.warn(\n"
     ]
    }
   ],
   "source": [
    "# Load the database\n",
    "persist_directory = '/nfs/turbo/umms-indikar/shared/projects/RAG/databases/DigitalLibrary-10-June-2024/'\n",
    "embeddings_model = HuggingFaceEmbeddings(model_name='BAAI/bge-base-en-v1.5')\n",
    "db_name = \"DigitalLibrary\"\n",
    "_client_settings = chromadb.PersistentClient(path=(persist_directory + db_name))\n",
    "vectordb = Chroma(persist_directory=persist_directory, embedding_function=embeddings_model, client=_client_settings, collection_name=db_name)"
   ]
  },
  {
   "cell_type": "raw",
   "id": "b6fabbd9-02f2-4a24-87a9-b09e5ebb69a3",
   "metadata": {},
   "source": [
    "/force PLANNER write a 3 step pipeline to 1. perform a lit search of MYOD with the RAG. Use a prompt such as, \"What role does MYOD play in cellular reprogramming and differentiation?\", then 2. run the hwg analysis pipeline to find first order interactions of MYOD. 3. use the output of the hwg codes to perform gene enrichment and identify the pathways MYOD is involved in. Finally, write a small report summarizing each of these findings"
   ]
  },
  {
   "cell_type": "raw",
   "id": "08374f60-0486-4a55-8c7e-738c9da9ed8a",
   "metadata": {},
   "source": [
    "/force PLANNER write a 3 step pipeline to 1. perform a lit search of PCNA with the RAG. Use a prompt such as, \"What role does PCNA play in the cell cycle and cell cycle imaging?\", then 2. run the hwg analysis pipeline to find first order interactions of PCNA. 3. use the output of the hwg codes to perform gene enrichment and identify the pathways PCNA is involved in. Finally, write a small report summarizing each of these findings"
   ]
  },
  {
   "cell_type": "raw",
   "id": "482c3d2b-16b2-41dd-9027-31ef21221da0",
   "metadata": {},
   "source": [
    "/force PLANNER write a 3 step pipeline to 1. perform a lit search of PCNA with the RAG. Use a prompt such as, \"What role does PCNA play in the cell cycle and cell cycle imaging?\", then 2. run the hwg analysis pipeline to find first order interactions of PCNA loaded from step 2. Next, (3.) Load the output file of the hwg codes (step 2) and perform gene enrichment and identify the pathways PCNA is involved in with enrichr. Finally, write a small report summarizing each of these findings in Step 4"
   ]
  },
  {
   "cell_type": "raw",
   "id": "04f818ce-bc92-4956-92c4-0bccd76723af",
   "metadata": {},
   "source": [
    "/force PLANNER write a 3 step pipeline to 1. perform a lit search of SOX4 with the RAG. Use a prompt such as, \"What role does SOX4 play in the cellular reprogramming an iPSCs?\", then 2. run the hwg analysis pipeline to find first order interactions of SOX4 loaded from step 2. Next, (3.) Load the output file of the hwg codes (step 2) and perform gene enrichment and identify the pathways SOX4 is involved in with enrichr. Finally, write a small report summarizing each of these findings in Step 4"
   ]
  },
  {
   "cell_type": "code",
   "execution_count": null,
   "id": "c1d9608e-39da-4584-bd70-dfceb81f6772",
   "metadata": {},
   "outputs": [
    {
     "name": "stdout",
     "output_type": "stream",
     "text": [
      "Welcome to RAG! The chat log from this conversation will be saved to /home/jpic/BRAD/2024-06-21_11-51-59/log.json. How can I help?\n",
      "==================================================\n"
     ]
    },
    {
     "name": "stdin",
     "output_type": "stream",
     "text": [
      "Input >>  /force PLANNER write a 3 step pipeline to 1. perform a lit search of SOX4 with the RAG. Use a prompt such as, \"What role does SOX4 play in the cellular reprogramming an iPSCs?\", then 2. run the hwg analysis pipeline to find first order interactions of SOX4 loaded from step 2. Next, (3.) Load the output file of the hwg codes (step 2) and perform gene enrichment and identify the pathways SOX4 is involved in with enrichr. Finally, write a small report summarizing each of these findings in Step 4\n"
     ]
    },
    {
     "name": "stdout",
     "output_type": "stream",
     "text": [
      "==================================================\n",
      "RAG >> 1: \n",
      "\n",
      "\u001b[1m> Entering new ConversationChain chain...\u001b[0m\n",
      "Prompt after formatting:\n",
      "\u001b[32;1m\u001b[1;3m**INSTRUCTIONS:**\n",
      "You are planning a bioinformatics analysis pipeline to address a user's query. Your task is to outline a multi-step workflow using the available methods listed below. Each method should be used appropriately to ensure a thorough analysis. For each step in the pipeline, explain the goal of the process as well as provide a prompt to the chatbot that will execute that step. If information is passed between stages, such as from literature or code to databases, indicate the dependencies of steps in the prompt.\n",
      "\n",
      "**Available Methods:**\n",
      "1. **Retrieval Augmented Generation**(RAG): Look up literature and documents from a text database.\n",
      "2. **Web Search for New Literature**(SCRAPE): Search platforms like arXiv, bioRxiv, and PubMed for the latest research.\n",
      "3. **Bioinformatics Databases**(DATABASE): Utilize databases such as Gene Ontology and Enrichr to perform gene set enrichment analyses.\n",
      "4. **Run Codes**(CODE): Execute bioinformatics pipelines. Utilize prebuilt pipelines or develop new ones as needed.\n",
      "5. **Write a Report**(WRITE): Synthesize and summarize information. This can include summarizing database searches, code pipeline results, or creating a final report to encapsulate the entire analysis.\n",
      "\n",
      "Current conversation: \n",
      "\n",
      "\n",
      "User Query: write a 3 step pipeline to 1. perform a lit search of SOX4 with the RAG. Use a prompt such as, \"What role does SOX4 play in the cellular reprogramming an iPSCs?\", then 2. run the hwg analysis pipeline to find first order interactions of SOX4 loaded from step 2. Next, (3.) Load the output file of the hwg codes (step 2) and perform gene enrichment and identify the pathways SOX4 is involved in with enrichr. Finally, write a small report summarizing each of these findings in Step 4\n",
      "\n",
      "Plan:\n",
      "**Step 1 (method, eg. RAG)**:\n",
      "Prompt: [Description of action for chatbot to do Step 1, i.e. do X, Y, Z]\n",
      "\n",
      "**Step 2 (method, eg. CODE)**:\n",
      "Prompt: [Description of action for chatbot to do Step 2, i.e. do A, B, C. Use information from Step X]\n",
      "\n",
      "**Step 3 (method, eg. DATABASE)**:\n",
      "Prompt: [Description of action for chatbot to do Step 3, i.e. do D, E, F. Use information from Step Y]\n",
      "...\n",
      "\u001b[0m\n",
      "\n",
      "\u001b[1m> Finished chain.\u001b[0m\n",
      "Here is the planned 4-step pipeline:\n",
      "\n",
      "**Step 1 (RAG)**:\n",
      "Prompt: Use the RAG method to search literature and documents from a text database, specifically looking for information on the role of SOX4 in cellular reprogramming and iPSCs. Please answer the following question: \"What role does SOX4 play in the cellular reprogramming of iPSCs?\"\n",
      "\n",
      "**Step 2 (CODE)**:\n",
      "Prompt: Run the HWG analysis pipeline using the genes identified in Step 1 to find first-order interactions of SOX4. Load the relevant genes from the RAG output and execute the HWG code pipeline.\n",
      "\n",
      "**Step 3 (DATABASE)**:\n",
      "Prompt: Load the output file of the HWG codes from Step 2 and perform gene enrichment analysis using Enrichr to identify the pathways SOX4 is involved in. Use the gene list from Step 2 as input for the enrichment analysis.\n",
      "\n",
      "**Step 4 (WRITE)**:\n",
      "Prompt: Write a small report summarizing the findings from each of the previous steps. Please synthesize the information from the literature search, HWG analysis, and gene enrichment analysis to provide a comprehensive overview of SOX4's role in cellular reprogramming and iPSCs.\n",
      "\n",
      "\n",
      "Do you want to proceed with this plan? [Y/N/edit]\n"
     ]
    },
    {
     "name": "stdin",
     "output_type": "stream",
     "text": [
      "Input >>  Y\n"
     ]
    },
    {
     "name": "stdout",
     "output_type": "stream",
     "text": [
      "[{'order': 1, 'module': 'RAG', 'prompt': '/force RAG Use the RAG method to search literature and documents from a text database, specifically looking for information on the role of SOX4 in cellular reprogramming and iPSCs. Please answer the following question: \"What role does SOX4 play in the cellular reprogramming of iPSCs?\"', 'description': '1 (RAG)**:\\nPrompt: Use the RAG method to search literature and documents from a text database, specifically looking for information on the role of SOX4 in cellular reprogramming and iPSCs. Please answer the following question: \"What role does SOX4 play in the cellular reprogramming of iPSCs?\"\\n\\n'}, {'order': 2, 'module': 'RAG', 'prompt': '/force RAG Run the HWG analysis pipeline using the genes identified in Step 1 to find first-order interactions of SOX4. Load the relevant genes from the RAG output and execute the HWG code pipeline.', 'description': '2 (CODE)**:\\nPrompt: Run the HWG analysis pipeline using the genes identified in Step 1 to find first-order interactions of SOX4. Load the relevant genes from the RAG output and execute the HWG code pipeline.\\n\\n'}, {'order': 2, 'module': 'CODE', 'prompt': '/force CODE Run the HWG analysis pipeline using the genes identified in Step 1 to find first-order interactions of SOX4. Load the relevant genes from the RAG output and execute the HWG code pipeline.', 'description': '2 (CODE)**:\\nPrompt: Run the HWG analysis pipeline using the genes identified in Step 1 to find first-order interactions of SOX4. Load the relevant genes from the RAG output and execute the HWG code pipeline.\\n\\n'}, {'order': 3, 'module': 'DATABASE', 'prompt': '/force DATABASE Load the output file of the HWG codes from Step 2 and perform gene enrichment analysis using Enrichr to identify the pathways SOX4 is involved in. Use the gene list from Step 2 as input for the enrichment analysis.', 'description': '3 (DATABASE)**:\\nPrompt: Load the output file of the HWG codes from Step 2 and perform gene enrichment analysis using Enrichr to identify the pathways SOX4 is involved in. Use the gene list from Step 2 as input for the enrichment analysis.\\n\\n'}, {'order': 4, 'module': 'WRITE', 'prompt': \"/force WRITE Write a small report summarizing the findings from each of the previous steps. Please synthesize the information from the literature search, HWG analysis, and gene enrichment analysis to provide a comprehensive overview of SOX4's role in cellular reprogramming and iPSCs.\", 'description': \"4 (WRITE)**:\\nPrompt: Write a small report summarizing the findings from each of the previous steps. Please synthesize the information from the literature search, HWG analysis, and gene enrichment analysis to provide a comprehensive overview of SOX4's role in cellular reprogramming and iPSCs.\\n\\n\"}]\n",
      "==================================================\n",
      "==================================================\n",
      "RAG >> 2: ============\n",
      "shown \n",
      "that endogenous OCT3/4 levels are high \n",
      "in this phase, whereas SOX2 levels remain \n",
      "low57,96. This expression pattern (OCT3/4high, \n",
      "SOX2low) elicits the mesendodermal features, \n",
      "which, as discussed above, are observed in \n",
      "cells undergoing reprogramming and seem \n",
      "to be important for the establishment and \n",
      "maturation of intermediate cell states88,96 \n",
      "(FIG. 3d ). Collectively, this indicates that the \n",
      "timing and levels of expression, as well as \n",
      "the stoichiometry of pluripotency factors, \n",
      "determine the route of reprogramming. \n",
      "This may allow cells to reach intermediate \n",
      "states, thereby positively contributing to the \n",
      "efficiency of iPSC generation.combinations of chemically defined media \n",
      "and recombinant matrix proteins, such \n",
      "as vitronectin or laminin, are widely used \n",
      "for the generation and maintenance of \n",
      "human iPSCs120,124,125.\n",
      "These advancements have enabled the \n",
      "use of iPSCs for therapeutic purposes158. \n",
      "The proof of concept was provided by a \n",
      "sickle cell anaemia mouse model\n",
      "Summary: Based on the user query, the relevant information from the provided text is:\n",
      "\n",
      "None\n",
      "\n",
      "The text does not specifically mention the role of SOX4 in cellular reprogramming and iPSCs. It discusses OCT3/4, SOX2, and pluripotency factors, but does not provide information on SOX4.\n",
      "============\n",
      "state, \n",
      "opening new doors in the field of cellular \n",
      "reprogramming. iPSCs are promising for \n",
      "many applications, including drug discovery, \n",
      "disease modelling and regenerative \n",
      "medicine23 (FIG. 2 ).\n",
      "In this Timeline article, we first introduce \n",
      "how reprogramming factors were discovered \n",
      "and how they led to the first report of \n",
      "iPSCs 10 years ago. We also describe other \n",
      "factors that contribute to transcription \n",
      "factor ‑mediated reprogramming and \n",
      "outline the current knowledge of such \n",
      "mechanisms. Finally, we briefly discuss \n",
      "future perspectives on transcription \n",
      "factor ‑mediated reprogramming.\n",
      "Induction of pluripotency\n",
      "Previous works, as described above, \n",
      "suggested the existence of reprogramming \n",
      "factors that can change cellular fate. If this is \n",
      "the case, then what are these reprogramming \n",
      "factors? In this section, we describe the \n",
      "seminal work that led us to the discovery of \n",
      "these factors and their use for the generation \n",
      "of the first iPSCs.\n",
      "Identifying candidate reprogramming\n",
      "Summary: None\n",
      "============\n",
      "can also undergo reprogram -\n",
      "ming. In fact, many cells within the population initiate the process; however, \n",
      "owing to the fact that reprogramming is complex and comprises many \n",
      "events, the majority of cells never complete the process, and only a small \n",
      "number become iPSCs (right). b | Reprogramming can potentially occur \n",
      "either in a deterministic (top) or a stochastic (bottom) fashion. In the deter -\n",
      "ministic process, all cells follow exactly the same path towards pluripotency, \n",
      "and thus cells are reprogrammed with a fixed latency. In the stochastic repro -\n",
      "gramming process, transitions between states vary within the cell population, and thus cells reach the iPSC state with different latencies. c | Reprogramming \n",
      "occurs in two phases: early and late. In somatic cells, somatic genes are acti -\n",
      "vated (shown in green), but pluripotency-associated genes (PAG) are silenced \n",
      "(shown in red). In the early phase of reprogramming, OSKM factors (octamer-  \n",
      "binding protein 3/4 (OCT3/4), SOX2,\n",
      "Summary: Here is a summary of the text relevant to the user's query:\n",
      "\n",
      "SOX4 is not explicitly mentioned to play a role in the cellular reprogramming of iPSCs in this text. However, SOX2 is mentioned as one of the OSKM factors involved in the early phase of reprogramming.\n",
      "============\n",
      "Leading Edge\n",
      "Review\n",
      "In Vivo Cellular Reprogramming:\n",
      "The Next Generation\n",
      "Deepak Srivastava1,2,3,*and Natalie DeWitt1\n",
      "1Gladstone Institute of Cardiovascular Disease\n",
      "2Roddenberry Stem Cell Center at Gladstone\n",
      "3Departments of Pediatrics and Biochemistry & Biophysics\n",
      "University of California, San Francisco, San Francisco, CA 94158, USA\n",
      "*Correspondence: dsrivastava@gladstone.ucsf.edu\n",
      "http://dx.doi.org/10.1016/j.cell.2016.08.055\n",
      "Cellular reprogramming technology has created new opportunities in understanding human dis-\n",
      "ease, drug discovery, and regenerative medicine. While a combinatorial code was initially found\n",
      "to reprogram somatic cells to pluripotency, a ‘‘second generation’’ of cellular reprogramming in-\n",
      "volves lineage-restricted transcription factors and microRNAs that directly reprogram one somatic\n",
      "cell to another. This technology was enabled by gene networks active during development, which\n",
      "induce global shifts in the epigenetic landscape driving cell fate decisions. A major utility\n",
      "Summary: None\n",
      "============\n",
      "limiting\n",
      "clinical application. Functionally, these cells only\n",
      "possess short-term engraftment potential, neces-\n",
      "sitating further studies into this reprogramming\n",
      "method.\n",
      "We have graphically summarized the above-\n",
      "discussed efforts in Figure 4 and present speciﬁc\n",
      "reprogramming strategies. TFs, starting cells, cul-\n",
      "ture conditions, media, and cytokines, as well as\n",
      "the outcomes in terms of lineage production and\n",
      "engraftment, are compiled in Table 1.Perspectives on the various\n",
      "reprogramming strategies\n",
      "Obtaining HSCs de novo remains the holy grail of\n",
      "regenerative HSC biology because of the multiple\n",
      "issues associated with HSC transplant and HLA\n",
      "matching. Generating and studying these cells in\n",
      "vitro could also help further expand our capacity\n",
      "to study the nuances of hematopoiesis. Despite the\n",
      "attempts of several laboratories, the production\n",
      "of bona ﬁde HSCs de novo or their expansion ex\n",
      "vivo has met with varying levels of success. Our\n",
      "incomplete understanding of the mechanisms by\n",
      "which these\n",
      "Summary: None\n",
      "============\n",
      "649 –653 (2009).\n",
      "46. Meng, X. et al. Ef ﬁcient reprogramming of human cord blood CD34 +cells\n",
      "into induced pluripotent stem cells with OCT4 and SOX2 alone. Mol. Ther.\n",
      "20, 408 –416 (2012).\n",
      "47. Utikal, J., Maherali, N., Kulalert, W. & Hochedlinger, K. Sox2 is dispensable\n",
      "for the reprogramming of melanocytes and melanoma cells into inducedpluripotent stem cells. J. Cell Sci. 122, 3502 –3510 (2009).\n",
      "48. Giorgetti, A. et al. Generation of induced pluripotent stem cells from human\n",
      "cord blood using OCT4 and SOX2. Cell Stem Cell 5, 353 –357 (2009).\n",
      "49. Aasen, T. et al. Ef ﬁcient and rapid generation of induced pluripotent stem cells\n",
      "from human keratinocytes. Nat. Biotechnol. 26, 1276 –1284 (2008).\n",
      "50. Huangfu, D. et al. Induction of pluripotent stem cells from primary human\n",
      "ﬁbroblasts with only Oct4 and Sox2. Nat. Biotechnol. 26, 1269 –1275 (2008).\n",
      "51. Anstine, L. J. & Keri, R. A new view of the mammary epithelial hierarchy and\n",
      "its implications for breast cancer initiation and metastasis. J.\n",
      "Summary: None\n",
      "============\n",
      "passed. Now, we are progress-ing toward the next generation of lineage reprogramming for\n",
      "which a systematic guidebook for engineering different cellular\n",
      "states is progressively being built. Although it was originallythought to be difﬁcult to scale up the cells generated by lineagereprogramming ( Vierbuchen and Wernig, 2011 ), emerging ap-\n",
      "proaches, such as the conversion into proliferative stem cellsor progenitors/precursors and the induction of expandable tran-sient intermediates, permit the potential use of lineage reprog-\n",
      "ramming for biomedical applications that require a large number\n",
      "of cells. These signiﬁcant advances have undoubtedly made\n",
      "Figure 5. In Vivo Lineage Reprogramming\n",
      "for Cell Therapy\n",
      "Reprogramming factors can be delivered into the\n",
      "target in vivo site to induce the conversion of so-\n",
      "matic cells into the desired cells, thereby repairing\n",
      "the impaired tissue in situ. The advantages and\n",
      "challenges of this strategy are highlighted.\n",
      "lineage reprogramming a\n",
      "Summary: None\n",
      "============\n",
      "stem cells—the new world order of iPS cells? Before tackling this\n",
      "question, let us first consider the salient features of the iPS situation.\n",
      "Initial experiments demonstrated that the combination of Oct4,\n",
      "Sox2, Klf4 and Myc can induce the transition from fibroblasts into\n",
      "stable self-renewing cells closely resembling ES cells8(Fig. 1c). iPS\n",
      "reprogramming could subsequently also be achieved with a range of\n",
      "somatic cell types, including differentiated cells such as hepatic76or\n",
      "isletb-cells77. All of these cells express their own cell-type-specific\n",
      "repertoires of lineage-instructive transcription factors. How does\n",
      "reprogramming proceed in these cases? It seems unlikely that iPS\n",
      "reprogramming factors have evolved to interact with the large variety\n",
      "of lineage-affiliated transcription factors and thus divert regulatory\n",
      "networks within cells that are many branch points away from the\n",
      "pluripotent state. Instead, the low frequency and long duration of iPS\n",
      "reprogramming, in excess of a week\n",
      "Summary: None\n",
      "============\n",
      "epithelial\n",
      "cells [ 86].\n",
      "Fosl2 and Dnmt3l are thought to be involved ininhibition and promotion of the maturation phase respectively\n",
      "during reprogramming [ 86]. In some cell types,\n",
      "reprogramming enhancers such as C/EBPa (CCAAT/enhanc-\n",
      "er binding protein-a) have been employed to overcome the\n",
      "maturation block, thereby improving the reprogramming effi-ciency [ 87]. These findings suggest that reprogramming en-\n",
      "hancers may offer a new method for improving KC-to-iPSCreprogramming efficiency. TBX3 is an another important\n",
      "reprogramming factor that can interact with Nanog, Oct4,\n",
      "and Sox2 [ 88] to maintain the pluripotent state of iPSCs and\n",
      "ESCs. TBX3 can also directly bind to and activate the Oct4\n",
      "promoter [ 89]. Knockdown of TBX3 decreases the efficiency\n",
      "of reprogramming KCs to iPSCs [ 90]. Thus, TBX3 upregula-\n",
      "tion is a potential new strategy to improve the efficiency ofiPSC production. Feeder cells play a pivotal role in\n",
      "reprogramming through two mechanisms: secretion of growthfactors and\n",
      "Summary: None\n",
      "============\n",
      "analysis. Nature,\n",
      "45\n",
      "4,4 9 –55.\n",
      "83. Maherali, N., & Hochedlinger, K. (2009). Tgfbeta signal inhibition\n",
      "cooperates in the induction of iPSCs and replaces Sox2 and cMyc.Current Biology, 19 ,1 7 1 8 –1723.\n",
      "84. Linta, L., Stockmann, M., et al. (2012). Rat embryonic fibroblasts\n",
      "improve reprogramming of human keratinocytes into induced plu-\n",
      "ripotent stem cells. Stem Cells and Development, 21 ,9 6 5 –976.\n",
      "85. Tanabe, K., Nakamura, M., Narita, M., Takahashi, K., &\n",
      "Yamanaka, S. (2013). Maturation, not initiation, is the major road-\n",
      "block during reprogramming toward pluripotency from human fi-broblasts. Proceedings of the National Academy of Sciences of the\n",
      "United States of America, 110 ,1 2 1 7 2 –12179.\n",
      "86. Kuno, A., Nishimura, K., & Takahashi, S. (2018). Time-course\n",
      "transcriptome analysis of human cellular reprogramming from mul-\n",
      "tiple cell types reveals the drastic change occurs between the mid\n",
      "phase and the late phase. BMC Genomics, 19 ,9 .\n",
      "87. Di Stefano, B., Sardina, J. L., et al.\n",
      "Summary: None\n",
      "\n",
      "\n",
      "\u001b[1m> Entering new StuffDocumentsChain chain...\u001b[0m\n",
      "\n",
      "\n",
      "\u001b[1m> Entering new LLMChain chain...\u001b[0m\n",
      "Prompt after formatting:\n",
      "\u001b[32;1m\u001b[1;3mSystem: Use the following pieces of context to answer the user's question. \n",
      "If you don't know the answer, just say that you don't know, don't try to make up an answer.\n",
      "----------------\n",
      "Based on the user query, the relevant information from the provided text is:\n",
      "\n",
      "None\n",
      "\n",
      "The text does not specifically mention the role of SOX4 in cellular reprogramming and iPSCs. It discusses OCT3/4, SOX2, and pluripotency factors, but does not provide information on SOX4.\n",
      "\n",
      "None\n",
      "\n",
      "Here is a summary of the text relevant to the user's query:\n",
      "\n",
      "SOX4 is not explicitly mentioned to play a role in the cellular reprogramming of iPSCs in this text. However, SOX2 is mentioned as one of the OSKM factors involved in the early phase of reprogramming.\n",
      "\n",
      "None\n",
      "\n",
      "None\n",
      "\n",
      "None\n",
      "\n",
      "None\n",
      "\n",
      "None\n",
      "\n",
      "None\n",
      "\n",
      "None\n",
      "Human: Use the RAG method to search literature and documents from a text database, specifically looking for information on the role of SOX4 in cellular reprogramming and iPSCs. Please answer the following question: \"What role does SOX4 play in the cellular reprogramming of iPSCs?\"\u001b[0m\n",
      "\n",
      "\u001b[1m> Finished chain.\u001b[0m\n",
      "\n",
      "\u001b[1m> Finished chain.\u001b[0m\n",
      "I don't know. The provided text does not specifically mention the role of SOX4 in cellular reprogramming and iPSCs. Therefore, I couldn't find any relevant information to answer the question.\n",
      "Sources:\n",
      "2019 Zhang Review Reprogramming keratinocytes.pdf\n",
      "Forcing cells to change lineages.pdf\n",
      "A decade of transcription factor‑mediated reprogramming to pluripotency.pdf\n",
      "A computer-guided design tool to increase the efficiency of cellular conversions.pdf\n",
      "Direct Lineage Reprogramming Strategies, Mechanisms, and Applications.pdf\n",
      "Converting cell fates generating hematopoietic stem cells de novo via transcription factor reprogramming.pdf\n",
      "In Vivo Cellular Reprogramming The Next Generation.pdf\n",
      "==================================================\n",
      "==================================================\n",
      "RAG >> 3: ============\n",
      "study. Custom indexes for this H1-masked hg18 genome\n",
      "were built using the 4cseqpipe ‘‘-build _re_db’’ command. The reads were mapped\n",
      "using the 4Cseqpipe software ‘‘-map’’ com mand to custom built indexes. Normalized\n",
      "contact intensities were derived using the 4seqpipe ‘‘-nearcis’’ command for a 1-Mb\n",
      "region upstream and downstream of the bait locus. We then took the normalized\n",
      "fragment level interaction frequency tab les and removed any fragments where a SNP\n",
      "either could create or disrupt a potential rest riction enzyme site between the two alleles.\n",
      "In addition, given the short sequencing read length, any fragment with an insertion or\n",
      "deletion mapping within 16 bp of the fragment end was removed. These final filtered\n",
      "sets of normalized fragment level interacti on frequencies were then processed using a\n",
      "sliding window approach with the window size of 5 kb and step size of 1 kb using the\n",
      "average fragment interaction frequency o ver the 5-kb window. These sliding inter-\n",
      "action frequency\n",
      "Summary: None\n",
      "============\n",
      "pipeline is written in snakemake (version 5.2.4) and is available through GitHub (https://gith ub.com/\n",
      "CellProfiling/FucciSingleCellSeqPipeline). STAR (version 2.7.0f-0) was used to align RNA-Seq reads to the human genome (GRCh38 with \n",
      "Ensembl version 96 gene model), RSEM (version 1.3.2-0) was used to quantify genes and transcript isoforms. ScanPy (version 1.4)  was \n",
      "used to prepare and analyze single-cell RNA-Seq data; UMAP (version 0.3.10) was used for dimensionality reduction of scRNA-Seq data, \n",
      "cnvkit (version 0.9.7) was used to analyze copy number variations, louvain (version 0.6.1) was used for clustering analysis, an d genewalk \n",
      "(version 1.1.0) was used to perform gene ontology (GO) enrichment of genes enriched in one cluster. Velocyto (version 0.17.17) and \n",
      "scvelo (version 0.1.24) were used to analyze RNA velocity.  \n",
      "Network analysis was performed using STRING (version 10.5) and Cytoscape (version 3.6.1). GO term enrichment analysis was perfo rmed \n",
      "with DAVID (accessed\n",
      "Summary: None\n",
      "============\n",
      "( Homo sapiens hg19 assembly) using TopHat mapper. Post alignment with TopHat release 1.4.1 against the Homo sapiens\n",
      "hg19 assembly using the known transcripts option. All resultant .bam ﬁles were processed using Samtools version 0.2.5 and Bed-\n",
      "tools version 2.16.2 and visualized on the Integrated Genome Browser version 2.1 or the UCSC Genome Browser. Transcript assem-\n",
      "bly and expression estimation was conducted with Cufﬂinks release 1.3.0 using a Homo sapiens hg19 reference annotation and\n",
      "upper quartile normalization. Cufﬂinks assemblies were merged and processed through Cuffdiff for gene FPKM reporting and differ-ential expression analysis. Each library was treated as a separate non-replicate sample. Gene transcript count data from the mRNA-\n",
      "seq analysis was obtained by reprocessing the data through TopHat release 2.0.0 and Cufﬂinks and Cuffdiff release 2.0.0. Gene set\n",
      "enrichment analysis (GSEA) between HDF or BJ and CD34+CD49f+ was performed using the genes.fpkm.tracking ﬁle ( Table\n",
      "Summary: None\n",
      "============\n",
      "Preprocessing of genome analyzer sequence data\n",
      "Raw HiSeq sequence data were preprocessed to remove errors in the pri-\n",
      "mary sequence of each read and to compress the data. Approximately 20%\n",
      "of the sequences from the HiSeq were technical failures and were removedby a complexity ﬁlter. Each sequence was required to have a minimum ofa 6-nt match to one of the 84 VH gene segments and one of the 6 JH genesegments. A nearest neighbor algorithm was used to collapse the data intounique sequences by merging closely related sequences to remove both PCRerror and GA sequencing errors (21).\n",
      "Data analysis\n",
      "Data sets of nonredundant rearranged IgH sequences were analyzed usingalgorithms written in Java. Genomic Ig gene segments were identiﬁed by\n",
      "contiguous sequences exactly matching functional human IgH V, D, and J\n",
      "genes in the Immunogenetics database (22). IgH CDR3 regions were de-ﬁned by the nucleotides found between conserved Cys and Trp codons. Bargraphs, histograms, and statistical values were\n",
      "Summary: None\n",
      "============\n",
      "This paper N/AFASTX tool kit N/A http://hannonlab.cshl.edu/fastx_toolkit/\n",
      "Homer Heinz et al., 2010 http://homer.ucsd.edu/homer/\n",
      "Bedtools Quinlan and Hall, 2010 http://bedtools.readthedocs.io/en/latest/\n",
      "Samtools Li et al., 2009 http://www.htslib.org/\n",
      "Cufﬂinks Trapnell et al., 2012 http://cole-trapnell-lab.github.io/cufﬂinks/\n",
      "Enrichr Chen et al., 2013 http://amp.pharm.mssm.edu/Enrichr/\n",
      "MACS1.4 Zhang et al., 2008 http://liulab.dfci.harvard.edu/MACS/\n",
      "00README.html\n",
      "TopHat Trapnell et al., 2009 https://ccb.jhu.edu/software/tophat/\n",
      "index.shtml\n",
      "FASTQC N/A https://www.bioinformatics.babraham.\n",
      "ac.uk/projects/fastqc/\n",
      "ChromHMM Ernst and Kellis, 2012 http://compbio.mit.edu/ChromHMM/\n",
      "Limma Voom R project for Statistical Computing http://bioconductor.org/packages/release/\n",
      "bioc/html/limma.html\n",
      "Galaxy Galaxy server https://usegalaxy.org\n",
      "UCSC Genome Browser N/A https://genome.ucsc.edu\n",
      "Gene set enrichment analysis (GSEA) Subramanian et al., 2005 http://software.broadinstitute.org/gsea/\n",
      "index.jsp\n",
      "DESeq2\n",
      "Summary: None\n",
      "============\n",
      "ChIP-seq analysis\n",
      "ChIP-seq analysis was performed on the raw FASTQ ﬁles. FASTQ ﬁles were mapped to the human hg19 genome using Bowtie 2\n",
      "program allowing for 2 base pair mismatches. Mapped output ﬁles were processed through MACS1.4 analysis software to determine\n",
      "peaks. Homer software package was used for peak annotation and further analysis was performed using the Galaxy serverand R statistical software.\n",
      "Chromatin State Fold-Enrichment\n",
      "Enrichment scores for genomic features, such as GATA2 and GFI1B Chip-seq peaks and histone marks were calculated usingChromHMM Overlap Enrichment ( Chronis et al., 2017 ), based on public segmentation. ChromHMM segmentation, that contains\n",
      "18 different chromatin states, was downloaded from Roadmap website and used for analysis. Enrichment scores were calculated\n",
      "as the ratio between the observed and the expected overlap for each feature and chromatin state based on their sizes and thesize of the human genome.\n",
      "Gene List Enrichment Analysis with Single Cell\n",
      "Summary: None\n",
      "============\n",
      "Table 13 were appended to the \n",
      "reference genome and gene model before alignment. The alignment \n",
      "and quantification of these data were performed with RSEM49 (version  \n",
      "1.3.2-0) for quantification using STAR50 (version 2.7.0f-0) as an aligner. \n",
      "This pipeline of tools is available as a Snakemake51 (version 5.2.4) pipe -\n",
      "line at https://github.com/CellProfiling/FucciSingleCellSeqPipeline. \n",
      "The results used in this analysis were output as TPM values, which were \n",
      "combined into a single data frame containing all protein coding genes \n",
      "or isoforms for all cells using a custom script, and then prepared for \n",
      "downstream analysis using Scanpy52 (version 1.4). Cells with fewer than \n",
      "500 genes detected were filtered (14 cells, 1%) from the analysis, leav -\n",
      "ing 1,138 cells; genes detected in fewer than 100 cells were filtered  \n",
      "(6,547 genes, 33%), leaving 13,450 protein-coding genes; and TPM values \n",
      "were log-transformed. We confirmed that there were no batch effects in \n",
      "these data by using principal\n",
      "Summary: None\n",
      "============\n",
      "genomic DNA was collected by incubationwith 50 μL elution buffer. Library preparation and sequencing of\n",
      "immunoprecipitated and input DNA was performed by the UCSD IGMcore facility. Raw reads were mapped to GRCh38 using Bowtie2 (2.3.5).Since each sample was run across two lanes, SAM ﬁles were merged\n",
      "using Picard (2.20.5). MACS2 (2.1.1) was used to call narrow peaksrelative to input with a qvalue cutoff of 0.01. Peaks were annotated\n",
      "with Homer (4.10.4) and motifs were analyzed using MEME-ChIP (5.1.1).\n",
      "BigWig ﬁles were generated using Deeptools (2.2) bamCoverage.\n",
      "Tracks were visualized with Fluff (bio ﬂuff 3.0.3). Gene ontology bio-\n",
      "logical process terms were found with PANTHER GO and overlapanalyses were performed using custom R scripts with venneuler andggplot2 packages. Bedtools (v2.29.2) was used for genomic compar-isons and combining ChIP-seq and scATAC-seq data. HOMER was usedtoﬁnd motifs with a scrambled background.\n",
      "Mouse MI model\n",
      "Experiments were performed in 10- to 12-week-old\n",
      "Summary: None\n",
      "============\n",
      "We\n",
      "used Useq software to first process the variant masked genome to create a splicejunction reference. Reads were then mappe d to the Useq processe d reference genome\n",
      "using Novoalign. Lastly, we converted the read alignment locations from the Useq\n",
      "processed genome back to hg18 coordinates using Useq.\n",
      "Whole-genome sequencing, genotyping and haplotyping. Whole genome sequen-\n",
      "cing (WGS) data for the H1 genome was downloaded from the Sequence Read\n",
      "Archive database (SRA049981). Reads were mapped to the hg18 reference genomeusing Novoalign. Unmapped and non-uniquely mapping reads were removed using\n",
      "in house scripts. PCR duplicate reads were removed using Picard. The data was\n",
      "processed through the Genome Analysis Toolkit (GATK) best practices guidelines.We performed indel recalibration, variant realignment, variant calling using the\n",
      "Unified Genotyper, and variant recalibration.\n",
      "Haplotyping was performed using the previously described HaploSeq method\n",
      "15.\n",
      "Briefly, Hi-C reads from each of the\n",
      "Summary: None\n",
      "============\n",
      "directly from the UCSC genome browser from their table browserutility ( http://genome.ucsc.edu/cgi-bin/hgTables ). The HG19 ENCODE blacklist\n",
      "was used to ﬁlter genomic regions and was obtained from ( https://sites.google.com/\n",
      "site/anshulkundaje/ projects/blacklists ).\n",
      "All paired-end ChIP-seq datasets were aligned using Bowtie2 (version 2.2.8) to\n",
      "build version NCBI37/HG19. Alignments were performed using all default\n",
      "parameters. We used the MACS version 1.4.2 (Model based analysis of ChIP-seq)\n",
      "80\n",
      "peak ﬁnding algorithm to identify regions of ChIP-seq enrichment over\n",
      "background. A pvalue threshold of enrichment of 1e −9 was used for all datasets.\n",
      "IRF2 ChIP-seq data were aligned using Bowtie2 (version 2.3.4.1) again with\n",
      "default parameters.\n",
      "ATAC-seq data processing . All paired-end ATAC-seq datasets were aligned using\n",
      "Bowtie (version 2.2.8) to build version NCBI37/HG19 with the followingparameters: --end-to-end --sensitive --no-unal --no-discordant --mm --met-stderr .\n",
      "To process aligned\n",
      "Summary: None\n",
      "\n",
      "\n",
      "\u001b[1m> Entering new StuffDocumentsChain chain...\u001b[0m\n",
      "\n",
      "\n",
      "\u001b[1m> Entering new LLMChain chain...\u001b[0m\n",
      "Prompt after formatting:\n",
      "\u001b[32;1m\u001b[1;3mSystem: Use the following pieces of context to answer the user's question. \n",
      "If you don't know the answer, just say that you don't know, don't try to make up an answer.\n",
      "----------------\n",
      "None\n",
      "\n",
      "None\n",
      "\n",
      "None\n",
      "\n",
      "None\n",
      "\n",
      "None\n",
      "\n",
      "None\n",
      "\n",
      "None\n",
      "\n",
      "None\n",
      "\n",
      "None\n",
      "\n",
      "None\n",
      "Human: Run the HWG analysis pipeline using the genes identified in Step 1 to find first-order interactions of SOX4. Load the relevant genes from the RAG output and execute the HWG code pipeline.\u001b[0m\n",
      "\n",
      "\u001b[1m> Finished chain.\u001b[0m\n",
      "\n",
      "\u001b[1m> Finished chain.\u001b[0m\n",
      "I'm not familiar with the specific pipeline or tools you're referring to (HWG analysis pipeline, RAG output, etc.). It seems like this is a specific bioinformatics or genomics-related task that requires domain-specific knowledge.\n",
      "\n",
      "I don't know the answer to this question, as it would require more context and understanding of the specific tools and pipelines involved. If you could provide more information or clarify what these tools are, I may be able to help you better.\n",
      "Sources:\n",
      "2019 Mercado IRF2 master regulator.pdf\n",
      "Shaping of Human Germline IgH Repertoires Revealed by Deep Sequencing.pdf\n",
      "Cooperative Transcription Factor Induction.pdf\n",
      "Mahdessian et al. - 2021 - Spatiotemporal dissection of the cell cycle with s.pdf\n",
      "Conserved transcription factors promote cell fate stability.pdf\n",
      "Chromatin architecture reorganization during stem cell differentiation.pdf\n",
      "==================================================\n",
      "==================================================\n",
      "RAG >> 4: CODER\n",
      "input_variables=['user_query'] template=\"You must select which code to run to help a user.\\n\\n**Available Scripts**\\nScript Name: hwgFirstOrderInteractions, \\t Description: Find the first order interactions of a gene in the Hardwired Genome\\n\\n\\n**User Query**\\n{user_query}\\n\\n**Task**\\nBased on the user's query, select the best script from the available scripts. Provide the script name and explain why it is the best match. If no script is good, replace script with None\\n\\n**Response Template**\\nSCRIPT: <selected script>\\nREASON: <reasoning why the script fits the user prompt>\\n\"\n",
      "FIRST LLM CALL\n",
      "SCRIPT: hwgFirstOrderInteractions\n",
      "REASON: The user query specifically asks to find first-order interactions of SOX4, and the script \"hwgFirstOrderInteractions\" is described to find the first-order interactions of a gene in the Hardwired Genome, which matches the user's request.\n",
      "Warning! the type doesnt exist\n",
      "scriptPath=/home/jpic/RAG-DEV/tutorials/planner/python/\n",
      "pyPath=/home/jpic/RAG-DEV/tutorials/planner/python/\n",
      "ALL SCRIPTS FOUND. BUILDING TEMPLATE\n",
      "input_variables=['history', 'input'] template='Current conversation:\\n{history}\\n\\n**PYTHON SCRIPT**\\nYou must run this python script:\\n/home/jpic/RAG-DEV/tutorials/planner/python/hwgFirstOrderInteractions.py\\n\\n**PYTHON SCRIPT DOCUMENTATION**:\\nThis is the doc string of this python script:\\n\\'\\'\\'\\nFind the first order interactions of a gene in the Hardwired Genome\\n\\nArguments (three arguments):\\n    1. output directory: chatstatus[\\'output-directory\\']\\n    2. output file: <name of output file>\\n    3. gene name: this can either be a gene name in its symbol or common name or it can be a ENSG ID\\n\\nUsage:\\n    Command Line:\\n    ```\\n    python <path/to/script/>hwgFirstOrderInteractions.py <output path> <output file> <gene name>\\n    ```\\n                                                               |              |           |\\n                                                          Argument 1     Argument 2   Argument 3\\n    BRAD Line:\\n    ```\\n    subprocess.call([sys.executable, \\'<path/to/script/>/hwgFirstOrderInteractions.py\\', chatstatus[\\'output-directory\\'], <output file>, <gene name>])\\n    ```\\n\\nOutput file name should be `S<Step number>-HWG-1stOrder-<gene name>.csv`\\n\\nThis script uses the Hardwired Genome construction. Note: Cooper recently found a bug in how the data are integrated for the Hardwired Genome.\\nThe code here should side step that by using a different download from Ensembl (GRCh38.p13.tsv) for mapping between gene names and ENSG IDs, but\\nthe issue may persist.\\n\\'\\'\\'\\n\\n\\n**CALL PYTHON SCRIPTS FROM PYTHON**:\\nUse the `subprocess` module to call any Python script from another Python script. Here are some examples to call a few common Python scripts:\\n\\nTo call a Python script `example_script.py` which has no arguments:\\n\\n```\\nExecute: subprocess.call([sys.executable, \\'<full path to script/> example_script.py\\', chatstatus[\\'output-directory\\']])\\n```\\n\\nTo call a Python script `example_script.py` with one argument:\\n\\n```\\nExecute: subprocess.call([sys.executable, \\'<full path to script/> example_script.py\\', chatstatus[\\'output-directory\\'], \\'arg1\\'])\\n```\\n\\nTo call a Python script `example_script.py` with two arguments:\\n```\\nExecute: subprocess.call([sys.executable, \\'<full path to script/> example_script.py\\', chatstatus[\\'output-directory\\'], \\'arg1\\', \\'arg2\\'])\\n```\\n\\nNote that chatstatus[\\'output-directory\\'] is ALWAYS passed as the first argument.\\n\\nQuery:{input}\\n\\n**INSTRUCTIONS**\\n1. Given the user query and the documentation, identify each of the arguments found in the user\\'s query that should be passed to the Python script.\\n2. Using the `subprocess` module, provide the one line of code to execute the desired Python script with the given arguments. Assume the necessary modules (`subprocess` and `sys`) are already imported.\\n3. The last line of your response should say \"Execute: <Python code to execute>\"\\n4. Format the response/output as:\\n    Arguments: \\n    Python Code Explanation: <2 sentences maximum>\\n    Execute: <your code here>\\n\\n**IMPORTANT**\\nThe code to execute from your response must be formatted as:\\n    Execute: subprocess.call([sys.executable, \\'<path to python script>\\', \\'<argument 1>\\', \\'<argument 2>\\', ..., \\'<argument n>\\'])\\nThis output should be exactly one line and no longer. Stop the response after this line.\\n'\n",
      "\n",
      "\n",
      "\u001b[1m> Entering new ConversationChain chain...\u001b[0m\n",
      "Prompt after formatting:\n",
      "\u001b[32;1m\u001b[1;3mCurrent conversation:\n",
      "\n",
      "\n",
      "**PYTHON SCRIPT**\n",
      "You must run this python script:\n",
      "/home/jpic/RAG-DEV/tutorials/planner/python/hwgFirstOrderInteractions.py\n",
      "\n",
      "**PYTHON SCRIPT DOCUMENTATION**:\n",
      "This is the doc string of this python script:\n",
      "'''\n",
      "Find the first order interactions of a gene in the Hardwired Genome\n",
      "\n",
      "Arguments (three arguments):\n",
      "    1. output directory: chatstatus['output-directory']\n",
      "    2. output file: <name of output file>\n",
      "    3. gene name: this can either be a gene name in its symbol or common name or it can be a ENSG ID\n",
      "\n",
      "Usage:\n",
      "    Command Line:\n",
      "    ```\n",
      "    python <path/to/script/>hwgFirstOrderInteractions.py <output path> <output file> <gene name>\n",
      "    ```\n",
      "                                                               |              |           |\n",
      "                                                          Argument 1     Argument 2   Argument 3\n",
      "    BRAD Line:\n",
      "    ```\n",
      "    subprocess.call([sys.executable, '<path/to/script/>/hwgFirstOrderInteractions.py', chatstatus['output-directory'], <output file>, <gene name>])\n",
      "    ```\n",
      "\n",
      "Output file name should be `S<Step number>-HWG-1stOrder-<gene name>.csv`\n",
      "\n",
      "This script uses the Hardwired Genome construction. Note: Cooper recently found a bug in how the data are integrated for the Hardwired Genome.\n",
      "The code here should side step that by using a different download from Ensembl (GRCh38.p13.tsv) for mapping between gene names and ENSG IDs, but\n",
      "the issue may persist.\n",
      "'''\n",
      "\n",
      "\n",
      "**CALL PYTHON SCRIPTS FROM PYTHON**:\n",
      "Use the `subprocess` module to call any Python script from another Python script. Here are some examples to call a few common Python scripts:\n",
      "\n",
      "To call a Python script `example_script.py` which has no arguments:\n",
      "\n",
      "```\n",
      "Execute: subprocess.call([sys.executable, '<full path to script/> example_script.py', chatstatus['output-directory']])\n",
      "```\n",
      "\n",
      "To call a Python script `example_script.py` with one argument:\n",
      "\n",
      "```\n",
      "Execute: subprocess.call([sys.executable, '<full path to script/> example_script.py', chatstatus['output-directory'], 'arg1'])\n",
      "```\n",
      "\n",
      "To call a Python script `example_script.py` with two arguments:\n",
      "```\n",
      "Execute: subprocess.call([sys.executable, '<full path to script/> example_script.py', chatstatus['output-directory'], 'arg1', 'arg2'])\n",
      "```\n",
      "\n",
      "Note that chatstatus['output-directory'] is ALWAYS passed as the first argument.\n",
      "\n",
      "Query:Run the HWG analysis pipeline using the genes identified in Step 1 to find first-order interactions of SOX4. Load the relevant genes from the RAG output and execute the HWG code pipeline.\n",
      "\n",
      "**INSTRUCTIONS**\n",
      "1. Given the user query and the documentation, identify each of the arguments found in the user's query that should be passed to the Python script.\n",
      "2. Using the `subprocess` module, provide the one line of code to execute the desired Python script with the given arguments. Assume the necessary modules (`subprocess` and `sys`) are already imported.\n",
      "3. The last line of your response should say \"Execute: <Python code to execute>\"\n",
      "4. Format the response/output as:\n",
      "    Arguments: \n",
      "    Python Code Explanation: <2 sentences maximum>\n",
      "    Execute: <your code here>\n",
      "\n",
      "**IMPORTANT**\n",
      "The code to execute from your response must be formatted as:\n",
      "    Execute: subprocess.call([sys.executable, '<path to python script>', '<argument 1>', '<argument 2>', ..., '<argument n>'])\n",
      "This output should be exactly one line and no longer. Stop the response after this line.\n",
      "\u001b[0m\n",
      "\n",
      "\u001b[1m> Finished chain.\u001b[0m\n",
      "LLM OUTPUT PARSER\n",
      "Arguments: \n",
      "output directory, output file, gene name\n",
      "\n",
      "Python Code Explanation: The HWGFirstOrderInteractions.py script is called using the subprocess module, passing the necessary arguments to find the first-order interactions of the given gene. The output file name is generated according to the specified format.\n",
      "\n",
      "Execute: subprocess.call([sys.executable, '/home/jpic/RAG-DEV/tutorials/planner/python/hwgFirstOrderInteractions.py', chatstatus['output-directory'], 'S1-HWG-1stOrder-SOX4.csv', 'SOX4'])\n",
      "['Arguments: \\noutput directory, output file, gene name\\n\\nPython Code Explanation: The HWGFirstOrderInteractions.py script is called using the subprocess module, passing the necessary arguments to find the first-order interactions of the given gene. The output file name is generated according to the specified format.\\n\\n', \" subprocess.call([sys.executable, '/home/jpic/RAG-DEV/tutorials/planner/python/hwgFirstOrderInteractions.py', chatstatus['output-directory'], 'S1-HWG-1stOrder-SOX4.csv', 'SOX4'])\"]\n",
      "Executing Code!!\n",
      "EVAL\n",
      "subprocess.call([sys.executable, '/home/jpic/RAG-DEV/tutorials/planner/python/hwgFirstOrderInteractions.py', chatstatus['output-directory'], 'S1-HWG-1stOrder-SOX4.csv', 'SOX4'])\n",
      "END EVAL CHECK\n",
      "******************************\n",
      "Finding 1st Order Interactions\n",
      "******************************\n",
      "Debug: PYTHON code executed successfully.\n",
      "==================================================\n",
      "==================================================\n",
      "RAG >> 5: \n",
      "\n",
      "\u001b[1m> Entering new ConversationChain chain...\u001b[0m\n",
      "Prompt after formatting:\n",
      "\u001b[32;1m\u001b[1;3mCurrent conversation:\n",
      "\n",
      "    \n",
      "GENEONTOLOGY: The Gene Ontology (GO) is an initiative to unify the representation of gene and gene product attributes across all species via the aims: 1) maintain and develop its controlled vocabulary of gene and gene product attributes; 2) annotate genes and gene products, and assimilate and disseminate annotation data; and 3) provide tools for easy access to all aspects of the data provided by the project, and to enable functional interpretation of experimental data using the GO.\n",
      "    \n",
      "ENRICHR: is a tool used to lookup sets of genes and their functional association. ENRICHR has access to many gene-set libraries including Allen_Brain_Atlas_up, ENCODE_Histone_Modifications_2015, Enrichr_Libraries_Most_Popular_Genes, FANTOM6_lncRNA_KD_DEGs, GO_Biological_Process_2023, GTEx, Human_Gene_Atlas, KEGG, REACTOME, Transcription_Factor_PPIs, WikiPathways and many others databases.\n",
      "    \n",
      "Available Tables:\n",
      "\n",
      "\n",
      "Query:Load the output file of the HWG codes from Step 2 and perform gene enrichment analysis using Enrichr to identify the pathways SOX4 is involved in. Use the gene list from Step 2 as input for the enrichment analysis.\n",
      "\n",
      "**INSTRUCTIONS**\n",
      "1. From the query, decide if GENEONTOLOGY or ENRICHR should be used\n",
      "2. Identify genes in the users input that should be searched. propose genes with similar names, correct the users spelling, or make small modifications to the list, but do not propose genes that are not found in the humans input.\n",
      "3. Indicate if genes need to be loaded from a file: True/False\n",
      "4. Use the following output format with no additional information or explination.\n",
      "\n",
      "database: <ENRICHR or GENEONTOLOGY>\n",
      "genes: <None or Gene 1, Gene 2, Gene 3, ...>\n",
      "load: <True/False>\n",
      "\u001b[0m\n",
      "\n",
      "\u001b[1m> Finished chain.\u001b[0m\n",
      "database: ENRICHR\n",
      "genes: SOX4\n",
      "load: True\n",
      "Load the output file of the HWG codes from Step 2 and perform gene enrichment analysis using Enrichr to identify the pathways SOX4 is involved in. Use the gene list from Step 2 as input for the enrichment analysis.\n",
      "The following table was generated by quering the gene list against GO_Biological_Process_2021:\n"
     ]
    },
    {
     "data": {
      "text/html": [
       "<style type=\"text/css\">\n",
       "</style>\n",
       "<table id=\"T_b51ba\">\n",
       "  <thead>\n",
       "    <tr>\n",
       "      <th class=\"blank level0\" >&nbsp;</th>\n",
       "      <th id=\"T_b51ba_level0_col0\" class=\"col_heading level0 col0\" >rank</th>\n",
       "      <th id=\"T_b51ba_level0_col1\" class=\"col_heading level0 col1\" >path_name</th>\n",
       "      <th id=\"T_b51ba_level0_col2\" class=\"col_heading level0 col2\" >p_val</th>\n",
       "      <th id=\"T_b51ba_level0_col3\" class=\"col_heading level0 col3\" >z_score</th>\n",
       "      <th id=\"T_b51ba_level0_col4\" class=\"col_heading level0 col4\" >combined_score</th>\n",
       "      <th id=\"T_b51ba_level0_col5\" class=\"col_heading level0 col5\" >overlapping_genes</th>\n",
       "      <th id=\"T_b51ba_level0_col6\" class=\"col_heading level0 col6\" >adj_p_val</th>\n",
       "      <th id=\"T_b51ba_level0_col7\" class=\"col_heading level0 col7\" >database</th>\n",
       "    </tr>\n",
       "  </thead>\n",
       "  <tbody>\n",
       "    <tr>\n",
       "      <th id=\"T_b51ba_level0_row0\" class=\"row_heading level0 row0\" >0</th>\n",
       "      <td id=\"T_b51ba_row0_col0\" class=\"data row0 col0\" >1</td>\n",
       "      <td id=\"T_b51ba_row0_col1\" class=\"data row0 col1\" >regulation of transcription by RNA polymerase II (GO:0006357)</td>\n",
       "      <td id=\"T_b51ba_row0_col2\" class=\"data row0 col2\" >0.000000</td>\n",
       "      <td id=\"T_b51ba_row0_col3\" class=\"data row0 col3\" >9.495261</td>\n",
       "      <td id=\"T_b51ba_row0_col4\" class=\"data row0 col4\" >1399.755049</td>\n",
       "      <td id=\"T_b51ba_row0_col5\" class=\"data row0 col5\" >['FOXI2', 'RORA', 'PRDM1', 'SOX21', 'ETS2', 'IKZF5', 'YY1', 'FOXQ1', 'SOX3', 'EDNRB', 'SOX1', 'DACH1', 'SOX17', 'SOX18', 'SALL3', 'SALL4', 'NKX1-2', 'EP300', 'PITX1', 'NKX6-3', 'NKX6-2', 'SOX11', 'SOX12', 'ISL1', 'DKK1', 'POU3F2', 'RUNX2', 'RUNX1', 'POU3F4', 'AR', 'MYCN', 'MZF1', 'HDGFL1', 'CTBP2', 'FOXG1', 'TCF7', 'ARX', 'GATA6', 'GATA5', 'PRDM14', 'FOXO4', 'FOXO3', 'FOXO1', 'HOXC4', 'HOXC8', 'NKX2-2', 'SMAD2', 'TFAP2C', 'SMAD4', 'EGR3', 'JAG1', 'BCL11B', 'ZBTB14', 'FOXF2', 'TGFB3', 'NR2F1', 'LIF', 'NFATC1', 'NR0B1', 'SMAD6', 'SMARCA2', 'BMP6', 'SMAD7', 'BMP5', 'FOSL2', 'BMP4', 'BMP2', 'MAFB', 'ID1', 'SNAI1', 'ID4', 'SNAI2', 'NANOG', 'TCF4', 'SIM2', 'OGT', 'ONECUT2', 'HMGB3', 'SIX1', 'MEOX2', 'HOXC10', 'SIX6', 'HHEX', 'SIX4', 'ZIC2', 'HEY1', 'ZIC3', 'MYBL2', 'ZNF521', 'NKX3-2', 'NKX3-1', 'TGIF1', 'TEAD4', 'KLF12', 'EMX2', 'TGIF2', 'TET1', 'ETV1', 'OLIG1', 'OLIG2', 'PAX5', 'FOS', 'ETV6', 'TOX2', 'TFDP1', 'JDP2', 'CEBPA', 'FOXC1', 'HDAC2', 'CEBPD', 'UHRF1', 'CEBPG', 'FOXK1', 'ZBTB45', 'BARX1', 'DLL4', 'FOXS1', 'NFIL3', 'MSX1', 'SPDEF', 'E2F8', 'IRX1', 'FOXB1', 'CDKN2B', 'CDX2', 'GSX1', 'IRX4', 'PDX1', 'DEK', 'VAX1', 'POU4F1', 'MEIS2', 'KLF8', 'KLF6', 'KLF5', 'WT1', 'APEX1', 'INSM1', 'PTF1A', 'NEUROG1', 'FOXA2', 'IL17A']</td>\n",
       "      <td id=\"T_b51ba_row0_col6\" class=\"data row0 col6\" >0.000000</td>\n",
       "      <td id=\"T_b51ba_row0_col7\" class=\"data row0 col7\" >GO_Biological_Process_2021</td>\n",
       "    </tr>\n",
       "    <tr>\n",
       "      <th id=\"T_b51ba_level0_row1\" class=\"row_heading level0 row1\" >1</th>\n",
       "      <td id=\"T_b51ba_row1_col0\" class=\"data row1 col0\" >2</td>\n",
       "      <td id=\"T_b51ba_row1_col1\" class=\"data row1 col1\" >regulation of transcription, DNA-templated (GO:0006355)</td>\n",
       "      <td id=\"T_b51ba_row1_col2\" class=\"data row1 col2\" >0.000000</td>\n",
       "      <td id=\"T_b51ba_row1_col3\" class=\"data row1 col3\" >9.161541</td>\n",
       "      <td id=\"T_b51ba_row1_col4\" class=\"data row1 col4\" >1309.718390</td>\n",
       "      <td id=\"T_b51ba_row1_col5\" class=\"data row1 col5\" >['FOXI2', 'RORA', 'PRDM1', 'SOX21', 'ETS2', 'IKZF5', 'YY1', 'FOXQ1', 'SOX3', 'SOX1', 'DACH1', 'SOX17', 'SOX18', 'SALL3', 'SALL4', 'NKX1-2', 'EP300', 'SOX7', 'PITX1', 'NKX6-3', 'NKX6-2', 'SOX11', 'SOX12', 'ISL1', 'POU3F2', 'RUNX2', 'RUNX1', 'POU3F4', 'AR', 'MYCN', 'MZF1', 'HDGFL1', 'CTBP2', 'FOXG1', 'TCF7', 'ARX', 'GATA6', 'GATA5', 'PRDM14', 'FOXO4', 'FOXO3', 'FOXO1', 'HOXC4', 'HOXC8', 'NKX2-2', 'SMAD2', 'TFAP2C', 'SMAD4', 'EGR3', 'BCL11B', 'ZBTB14', 'FOXF2', 'TGFB3', 'NR2F1', 'NFATC1', 'NR0B1', 'SMAD6', 'SMARCA2', 'BMP7', 'SMAD7', 'FOSL2', 'BMP4', 'BMP2', 'MAFB', 'ID1', 'SNAI1', 'ID4', 'SNAI2', 'NANOG', 'TCF4', 'SIM2', 'OGT', 'VSX1', 'KDM5A', 'ONECUT2', 'HMGB3', 'SIX1', 'MEOX2', 'BRCA2', 'HOXC10', 'SIX6', 'HHEX', 'SIX4', 'ZIC2', 'HEY1', 'ZIC3', 'MYBL2', 'JARID2', 'ZNF521', 'NKX3-2', 'NKX3-1', 'TGIF1', 'TEAD4', 'KLF12', 'EMX2', 'TGIF2', 'AXIN1', 'ETV1', 'OLIG1', 'OLIG2', 'PAX5', 'FOS', 'CBFA2T2', 'ETV6', 'TOX2', 'TFDP1', 'PLCB1', 'JDP2', 'CEBPA', 'FOXC1', 'HDAC2', 'CEBPD', 'CEBPG', 'FOXK1', 'ZBTB45', 'BARX1', 'FOXS1', 'NFIL3', 'PRAME', 'MSX1', 'RUNX1T1', 'SPDEF', 'E2F8', 'IRX1', 'FOXB1', 'CDX2', 'GSX1', 'IRX4', 'PDX1', 'DEK', 'VAX1', 'POU4F1', 'MEIS2', 'KLF8', 'KLF6', 'KLF5', 'WT1', 'PTF1A', 'MPHOSPH8', 'NEUROG1', 'FOXA2']</td>\n",
       "      <td id=\"T_b51ba_row1_col6\" class=\"data row1 col6\" >0.000000</td>\n",
       "      <td id=\"T_b51ba_row1_col7\" class=\"data row1 col7\" >GO_Biological_Process_2021</td>\n",
       "    </tr>\n",
       "    <tr>\n",
       "      <th id=\"T_b51ba_level0_row2\" class=\"row_heading level0 row2\" >2</th>\n",
       "      <td id=\"T_b51ba_row2_col0\" class=\"data row2 col0\" >3</td>\n",
       "      <td id=\"T_b51ba_row2_col1\" class=\"data row2 col1\" >positive regulation of transcription, DNA-templated (GO:0045893)</td>\n",
       "      <td id=\"T_b51ba_row2_col2\" class=\"data row2 col2\" >0.000000</td>\n",
       "      <td id=\"T_b51ba_row2_col3\" class=\"data row2 col3\" >8.376196</td>\n",
       "      <td id=\"T_b51ba_row2_col4\" class=\"data row2 col4\" >811.033826</td>\n",
       "      <td id=\"T_b51ba_row2_col5\" class=\"data row2 col5\" >['KDM5A', 'ONECUT2', 'SIX1', 'RORA', 'MEOX2', 'BRCA2', 'ETS2', 'HOXC10', 'YY1', 'SOX3', 'HHEX', 'SOX1', 'SIX4', 'ZIC2', 'HEY1', 'SOX17', 'SOX18', 'ZIC3', 'EP300', 'MYBL2', 'NKX3-1', 'NKX6-3', 'AXIN1', 'TET1', 'ETV1', 'SOX11', 'SOX12', 'FOS', 'ISL1', 'POU3F2', 'RUNX2', 'RUNX1', 'AR', 'TOX2', 'MYCN', 'TFDP1', 'PLCB1', 'MZF1', 'CEBPA', 'FOXC1', 'HDAC2', 'CTBP2', 'UHRF1', 'CEBPG', 'GATA6', 'GATA5', 'FOXK1', 'FOXO4', 'FOXO3', 'FOXO1', 'NFIL3', 'HOXC4', 'E2F8', 'SMAD2', 'TFAP2C', 'CDKN2B', 'SMAD4', 'JAG1', 'CDX2', 'BCL11B', 'GSX1', 'FOXF2', 'TGFB3', 'NR2F1', 'PDX1', 'LIF', 'NFATC1', 'POU4F1', 'SMARCA2', 'BMP7', 'MEIS2', 'BMP6', 'SMAD7', 'BMP5', 'FOSL2', 'BMP4', 'BMP2', 'KLF6', 'MAFB', 'KLF5', 'WT1', 'APEX1', 'SNAI1', 'NANOG', 'TCF4', 'OGT', 'NEUROG1', 'FOXA2', 'IL17A']</td>\n",
       "      <td id=\"T_b51ba_row2_col6\" class=\"data row2 col6\" >0.000000</td>\n",
       "      <td id=\"T_b51ba_row2_col7\" class=\"data row2 col7\" >GO_Biological_Process_2021</td>\n",
       "    </tr>\n",
       "  </tbody>\n",
       "</table>\n"
      ],
      "text/plain": [
       "<pandas.io.formats.style.Styler at 0x15503d16de50>"
      ]
     },
     "metadata": {},
     "output_type": "display_data"
    },
    {
     "name": "stdout",
     "output_type": "stream",
     "text": [
      "SAVEFIG\n",
      "Directory '/home/jpic/BRAD/2024-06-21_11-51-59/images' created.\n"
     ]
    },
    {
     "data": {
      "image/png": "[encoded data removed]",
      "text/plain": [
       "<Figure size 640x480 with 2 Axes>"
      ]
     },
     "metadata": {},
     "output_type": "display_data"
    },
    {
     "name": "stdout",
     "output_type": "stream",
     "text": [
      "==================================================\n",
      "==================================================\n",
      "RAG >> 6: llm\n",
      "1\n",
      "[{'order': 1, 'module': 'RAG', 'prompt': '/force RAG Use the RAG method to search literature and documents from a text database, specifically looking for information on the role of SOX4 in cellular reprogramming and iPSCs. Please answer the following question: \"What role does SOX4 play in the cellular reprogramming of iPSCs?\"', 'description': '1 (RAG)**:\\nPrompt: Use the RAG method to search literature and documents from a text database, specifically looking for information on the role of SOX4 in cellular reprogramming and iPSCs. Please answer the following question: \"What role does SOX4 play in the cellular reprogramming of iPSCs?\"\\n\\n'}, {'order': 2, 'module': 'RAG', 'prompt': '/force RAG Run the HWG analysis pipeline using the genes identified in Step 1 to find first-order interactions of SOX4. Load the relevant genes from the RAG output and execute the HWG code pipeline.', 'description': '2 (CODE)**:\\nPrompt: Run the HWG analysis pipeline using the genes identified in Step 1 to find first-order interactions of SOX4. Load the relevant genes from the RAG output and execute the HWG code pipeline.\\n\\n'}, {'order': 2, 'module': 'CODE', 'prompt': '/force CODE Run the HWG analysis pipeline using the genes identified in Step 1 to find first-order interactions of SOX4. Load the relevant genes from the RAG output and execute the HWG code pipeline.', 'description': '2 (CODE)**:\\nPrompt: Run the HWG analysis pipeline using the genes identified in Step 1 to find first-order interactions of SOX4. Load the relevant genes from the RAG output and execute the HWG code pipeline.\\n\\n'}, {'order': 3, 'module': 'DATABASE', 'prompt': '/force DATABASE Load the output file of the HWG codes from Step 2 and perform gene enrichment analysis using Enrichr to identify the pathways SOX4 is involved in. Use the gene list from Step 2 as input for the enrichment analysis.', 'description': '3 (DATABASE)**:\\nPrompt: Load the output file of the HWG codes from Step 2 and perform gene enrichment analysis using Enrichr to identify the pathways SOX4 is involved in. Use the gene list from Step 2 as input for the enrichment analysis.\\n\\n'}, {'order': 4, 'module': 'WRITE', 'prompt': \"/force WRITE Write a small report summarizing the findings from each of the previous steps. Please synthesize the information from the literature search, HWG analysis, and gene enrichment analysis to provide a comprehensive overview of SOX4's role in cellular reprogramming and iPSCs.\", 'description': \"4 (WRITE)**:\\nPrompt: Write a small report summarizing the findings from each of the previous steps. Please synthesize the information from the literature search, HWG analysis, and gene enrichment analysis to provide a comprehensive overview of SOX4's role in cellular reprogramming and iPSCs.\\n\\n\"}]\n",
      "/home/jpic/BRAD/2024-06-21_11-51-59/S3-ENRICHR-GO_Biological_Process_2021.csv\n",
      "/home/jpic/BRAD/2024-06-21_11-51-59/S3-ENRICHR-GO_Biological_Process_2021.csv\n",
      "<class 'pandas.core.frame.DataFrame'>\n",
      "   rank                                          path_name         p_val  \\\n",
      "0     1  regulation of transcription by RNA polymerase ...  9.505373e-65   \n",
      "1     2  regulation of transcription, DNA-templated (GO...  8.203456e-63   \n",
      "2     3  positive regulation of transcription, DNA-temp...  8.891735e-43   \n",
      "\n",
      "    z_score  combined_score  \\\n",
      "0  9.495261     1399.755049   \n",
      "1  9.161541     1309.718390   \n",
      "2  8.376196      811.033826   \n",
      "\n",
      "                                   overlapping_genes     adj_p_val  \\\n",
      "0  ['FOXI2', 'RORA', 'PRDM1', 'SOX21', 'ETS2', 'I...  2.008485e-61   \n",
      "1  ['FOXI2', 'RORA', 'PRDM1', 'SOX21', 'ETS2', 'I...  8.666951e-60   \n",
      "2  ['KDM5A', 'ONECUT2', 'SIX1', 'RORA', 'MEOX2', ...  6.262745e-40   \n",
      "\n",
      "                     database  \n",
      "0  GO_Biological_Process_2021  \n",
      "1  GO_Biological_Process_2021  \n",
      "2  GO_Biological_Process_2021  \n",
      "This is pdfTeX, Version 3.14159265-2.6-1.40.19 (TeX Live 2018) (preloaded format=pdflatex)\n",
      " restricted \\write18 enabled.\n",
      "entering extended mode\n",
      "(/home/jpic/BRAD/2024-06-21_11-51-59/S4-REPORT.tex\n",
      "LaTeX2e <2017-04-15>\n",
      "Babel <3.17> and hyphenation patterns for 3 language(s) loaded.\n",
      "(/usr/share/texlive/texmf-dist/tex/latex/base/article.cls\n",
      "Document Class: article 2014/09/29 v1.4h Standard LaTeX document class\n",
      "(/usr/share/texlive/texmf-dist/tex/latex/base/size10.clo))\n",
      "(/usr/share/texlive/texmf-dist/tex/latex/geometry/geometry.sty\n",
      "(/usr/share/texlive/texmf-dist/tex/latex/graphics/keyval.sty)\n",
      "(/usr/share/texlive/texmf-dist/tex/generic/oberdiek/ifpdf.sty)\n",
      "(/usr/share/texlive/texmf-dist/tex/generic/oberdiek/ifvtex.sty)\n",
      "(/usr/share/texlive/texmf-dist/tex/generic/ifxetex/ifxetex.sty))\n",
      "(/usr/share/texlive/texmf-dist/tex/latex/graphics/graphicx.sty\n",
      "(/usr/share/texlive/texmf-dist/tex/latex/graphics/graphics.sty\n",
      "(/usr/share/texlive/texmf-dist/tex/latex/graphics/trig.sty)\n",
      "(/usr/share/texlive/texmf-dist/tex/latex/graphics-cfg/graphics.cfg)\n",
      "(/usr/share/texlive/texmf-dist/tex/latex/graphics-def/pdftex.def)))\n",
      "(/usr/share/texlive/texmf-dist/tex/latex/url/url.sty)\n",
      "No file S4-REPORT.aux.\n",
      "*geometry* driver: auto-detecting\n",
      "*geometry* detected driver: pdftex\n",
      "(/usr/share/texlive/texmf-dist/tex/context/base/mkii/supp-pdf.mkii\n",
      "[Loading MPS to PDF converter (version 2006.09.02).]\n",
      ") (/usr/share/texlive/texmf-dist/tex/latex/oberdiek/epstopdf-base.sty\n",
      "(/usr/share/texlive/texmf-dist/tex/generic/oberdiek/infwarerr.sty)\n",
      "(/usr/share/texlive/texmf-dist/tex/latex/oberdiek/grfext.sty\n",
      "(/usr/share/texlive/texmf-dist/tex/generic/oberdiek/kvdefinekeys.sty\n",
      "(/usr/share/texlive/texmf-dist/tex/generic/oberdiek/ltxcmds.sty)))\n",
      "(/usr/share/texlive/texmf-dist/tex/latex/oberdiek/kvoptions.sty\n",
      "(/usr/share/texlive/texmf-dist/tex/generic/oberdiek/kvsetkeys.sty\n",
      "(/usr/share/texlive/texmf-dist/tex/generic/oberdiek/etexcmds.sty\n",
      "(/usr/share/texlive/texmf-dist/tex/generic/oberdiek/ifluatex.sty))))\n",
      "(/usr/share/texlive/texmf-dist/tex/generic/oberdiek/pdftexcmds.sty)\n",
      "(/usr/share/texlive/texmf-dist/tex/latex/latexconfig/epstopdf-sys.cfg))\n",
      "\n",
      "LaTeX Warning: `h' float specifier changed to `ht'.\n",
      "\n",
      "(/usr/share/texlive/texmf-dist/tex/latex/base/omscmr.fd) [1{/usr/share/texlive/\n",
      "texmf-dist/fonts/map/pdftex/updmap/pdftex.map}] [2 </home/jpic/BRAD/2024-06-21_\n",
      "11-51-59/images/S3-ENRICHR-GO_Biological_Process_2021.png"
     ]
    },
    {
     "name": "stderr",
     "output_type": "stream",
     "text": [
      "/home/jpic/RAG-DEV/BRAD/writer.py:220: SettingWithCopyWarning: \n",
      "A value is trying to be set on a copy of a slice from a DataFrame\n",
      "\n",
      "See the caveats in the documentation: https://pandas.pydata.org/pandas-docs/stable/user_guide/indexing.html#returning-a-view-versus-a-copy\n",
      "  df.drop(col,inplace=True,axis=1)\n"
     ]
    },
    {
     "name": "stdout",
     "output_type": "stream",
     "text": [
      ">] [3]\n",
      "(/home/jpic/BRAD/2024-06-21_11-51-59/S4-REPORT.aux) )\n",
      "(see the transcript file for additional information)</usr/share/texlive/texmf-d\n",
      "ist/fonts/type1/public/amsfonts/cm/cmbx12.pfb></usr/share/texlive/texmf-dist/fo\n",
      "nts/type1/public/amsfonts/cm/cmr10.pfb></usr/share/texlive/texmf-dist/fonts/typ\n",
      "e1/public/amsfonts/cm/cmr12.pfb></usr/share/texlive/texmf-dist/fonts/type1/publ\n",
      "ic/amsfonts/cm/cmr17.pfb></usr/share/texlive/texmf-dist/fonts/type1/public/amsf\n",
      "onts/cm/cmsy10.pfb>\n",
      "Output written on /home/jpic/BRAD/2024-06-21_11-51-59/S4-REPORT.pdf (3 pages, 1\n",
      "60340 bytes).\n",
      "Transcript written on /home/jpic/BRAD/2024-06-21_11-51-59/S4-REPORT.log.\n",
      "PDF generated successfully in /home/jpic/BRAD/2024-06-21_11-51-59.\n",
      "==================================================\n"
     ]
    }
   ],
   "source": [
    "brad.chat(ragvectordb = vectordb)"
   ]
  },
  {
   "cell_type": "raw",
   "id": "67eb0cac-ac3a-4b1b-853b-133b0765abb9",
   "metadata": {},
   "source": [
    "/force PLANNER make a 2 step process using: Step 1 Method is Code to run the hwgFirstOrderInteractions code on PANK, and step 2 method is database to load in the Gene column from the output file created in step 1 and query it against ENRICHR. Do not provide information about the paths to files and use .csv files"
   ]
  },
  {
   "cell_type": "raw",
   "id": "14b5d6fd-1bd7-44fe-8c52-503319d184fb",
   "metadata": {},
   "source": [
    "/force PLANNER make a 3 step process using: Step 1 Method is Code to run the hwgFirstOrderInteractions code on PCNA, and step 2 method is database to load in the Gene column from the output file created in step 1 and query it against ENRICHR. Do not provide information about the paths to files and use .csv files. After using the HWG and ENRICHR, write a report of these findings"
   ]
  },
  {
   "cell_type": "raw",
   "id": "b40020d3-9d65-477e-a9f0-08f511f258ee",
   "metadata": {},
   "source": [
    "/force PLANNER write a 3 step pipeline to 1. perform a lit search of PCNA with the RAG. Use a prompt such as, \"What role does PCNA play in the cell cycle and cell cycle imaging?\", then 2. run the hwg analysis pipeline to find first order interactions of PCNA. 3. use the output of the hwg codes to perform gene enrichment and identify the pathways PCNA is involved in. Finally, write a small report summarizing each of these findings"
   ]
  },
  {
   "cell_type": "raw",
   "id": "f61ab8ee-bf55-4c60-ace3-009b6834e8db",
   "metadata": {},
   "source": []
  },
  {
   "cell_type": "raw",
   "id": "917945b8-486f-495a-a7a8-b7032e4a398e",
   "metadata": {},
   "source": []
  },
  {
   "cell_type": "raw",
   "id": "23b978fd-d593-4e2d-9e9a-b2238f50ef58",
   "metadata": {},
   "source": [
    "/force PLANNER make a 2 step process using: Step 1 Method is Code to run the hwgFirstOrderInteractions code on SOX4, and step 2 method is database to load in the Gene column from the output file created in step 1 and query it against ENRICHR. Use suitable file names and paths"
   ]
  },
  {
   "cell_type": "raw",
   "id": "e92833ca-e796-467a-888d-ebe8d5a576a0",
   "metadata": {},
   "source": [
    "/force PLANNER make a 2 step process using: Step 1 Method is Code to run the hwgFirstOrderInteractions code on PCNA, and step 2 method is database to load in the Gene column from the output file created in step 1 and query it against ENRICHR. Use suitable file names and paths"
   ]
  },
  {
   "cell_type": "raw",
   "id": "78989e5c-3917-4279-89fb-36c6bdac9310",
   "metadata": {},
   "source": [
    "/force PLANNER make a 2 step process using: Step 1 Method is Code to run the hwgFirstOrderInteractions code on PCNA, and step 2 method is database to load in the Gene column from the output file created in step 1 and query it against ENRICHR. Use suitable file names and paths"
   ]
  },
  {
   "cell_type": "raw",
   "id": "67f6fd69-8af2-4586-878c-50036072656b",
   "metadata": {},
   "source": [
    "/force PLANNER make a 2 step process using: Step 1 Method is Code to run the hwgFirstOrderInteractions code on PCNA, and step 2 method is database to load in the Gene column from the output file created in step 1 and query it against ENRICHR. Use suitable file names for saving and loading"
   ]
  },
  {
   "cell_type": "raw",
   "id": "7a0bea15-dd33-4988-8066-1005c59ef0a4",
   "metadata": {},
   "source": [
    "/force PLANNER make a 2 step process using: Step 1 Method is Code to run the hwgFirstOrderInteractions code on PCNA, and step 2 method is database to take the output of step 1 and load it to query the genes against ENRICHR"
   ]
  },
  {
   "cell_type": "raw",
   "id": "40625c32-3a23-4caa-b139-cbc08adc9bf7",
   "metadata": {},
   "source": [
    "/force PLANNER make a three step process to find the latest research on MYOD. Start by looking up the gene in erichr"
   ]
  },
  {
   "cell_type": "raw",
   "id": "5e48c8a2-073e-4ef1-b02d-867aa191c6f1",
   "metadata": {},
   "source": [
    "/force PLANNER design an analysis pipeline to find the first order interactions of PCNA in the hardwired genome (run the hwgFirstOrderInteractions). First run the hwgFirstOrderInteractions code and then take the outputs and put them into ENRICHR"
   ]
  },
  {
   "cell_type": "raw",
   "id": "16dcb516-22c1-49fb-ac95-23d40dea843f",
   "metadata": {},
   "source": [
    "/force DATABASE search MYOD, CMYC, PCNA, and CTD1 in ENRICHR"
   ]
  },
  {
   "cell_type": "raw",
   "id": "522ad48c-92eb-479c-a974-2d3a548b4151",
   "metadata": {},
   "source": [
    "/force PLANNER plan a two step process where first you run the hwg code and second you query the output genes from hwg codes into enrichr"
   ]
  },
  {
   "cell_type": "raw",
   "id": "eb0d5a2a-9941-4519-8b29-ff5133411852",
   "metadata": {},
   "source": [
    "/force PLANNER design an analysis pipeline to find the first order interactions of MYOD in the hardwired genome. Write a report about the role of the MYOD gene and which pathways, cell types, and genes are related to MYOD. The report should be structured with 1. an introduction on MYOD and its role in cellular processes. 2. details of MYOD based on the hardwired genome analysis pipeline and searching the neighboring genes in enrichr. and 3. a conclussion pointing to recent literature studying MYOD."
   ]
  },
  {
   "cell_type": "raw",
   "id": "7d5e37f4-1d55-4d88-a127-d5f143c8cf68",
   "metadata": {},
   "source": [
    "I would like steps 7 - 10 to be condensed to a single writing step. The prompt for the new step should contain the instructions to write the different sections specified in the current steps 7-10"
   ]
  },
  {
   "cell_type": "raw",
   "id": "8fa7ccf5-14b6-4671-a258-6f4e6502170f",
   "metadata": {},
   "source": [
    "/force PLANNER design an analysis pipeline to find the first order interactions of PCNA in the hardwired genome. Write a report about the role of the PCNA gene and which pathways, cell types, and genes are related to PCNA."
   ]
  },
  {
   "cell_type": "raw",
   "id": "25062031-73a1-47d8-9f28-97026601a1e9",
   "metadata": {},
   "source": [
    "/force PLANNER design an analysis pipeline to find the first order interactions of MYOD in the hardwired genome. Write a report about the role of the MYOD gene and which pathways, cell types, and genes are related to MYOD."
   ]
  },
  {
   "cell_type": "raw",
   "id": "97d6aa41-2a87-48d7-8a3d-d8a4cfa3d043",
   "metadata": {},
   "source": [
    "/force PLANNER design an analysis pipeline to find the first order interactions of MYOD in the hardwired genome. Write a small report about which pathways and cell types these genes are implicated in "
   ]
  },
  {
   "cell_type": "raw",
   "id": "233d47c7-8584-4a4d-a0f5-bb4e53cc7739",
   "metadata": {},
   "source": [
    "/force PLANNER design an analysis pipeline to find the first order interactions of MYOD in the hardwired genome from HWG.mat. Write a small report about which pathways and cell types these genes are implicated in "
   ]
  },
  {
   "cell_type": "code",
   "execution_count": null,
   "id": "3f77008e-ea41-4bb2-b795-18596a8cced8",
   "metadata": {},
   "outputs": [],
   "source": [
    "from BRAD import llms\n",
    "llm = llms.load_nvidia(nvidia_model='nvidia/nemotron-4-340b-reward')\n"
   ]
  },
  {
   "cell_type": "code",
   "execution_count": 6,
   "id": "76f207c0-b8e2-45e6-ac7b-a9444eae61a8",
   "metadata": {},
   "outputs": [
    {
     "data": {
      "text/plain": [
       "2"
      ]
     },
     "execution_count": 6,
     "metadata": {},
     "output_type": "execute_result"
    }
   ],
   "source": [
    "import numpy as np\n",
    "np.argmax([0,1,2])"
   ]
  },
  {
   "cell_type": "code",
   "execution_count": 6,
   "id": "d205ed67-2b4e-494d-b8cc-982aa33cdcc4",
   "metadata": {},
   "outputs": [
    {
     "name": "stdout",
     "output_type": "stream",
     "text": [
      "You must select which code to run to help a user.\n",
      "\n",
      "**Available Scripts**\n",
      "Script Name: hwgFirstOrderInteractions, \t Description: \n",
      "\n",
      "\n",
      "**User Query**\n",
      "{user_query}\n",
      "\n",
      "**Task**\n",
      "Based on the user's query, select the best script from the available scripts. Provide the script name and explain why it is the best match. If no script is good, replace script with None\n",
      "\n",
      "**Response Template**\n",
      "SCRIPT: <selected script>\n",
      "REASON: <reasoning why the script fits the user prompt>\n",
      "\n"
     ]
    }
   ],
   "source": [
    "print(\"You must select which code to run to help a user.\\n\\n**Available Scripts**\\nScript Name: hwgFirstOrderInteractions, \\t Description: \\n\\n\\n**User Query**\\n{user_query}\\n\\n**Task**\\nBased on the user's query, select the best script from the available scripts. Provide the script name and explain why it is the best match. If no script is good, replace script with None\\n\\n**Response Template**\\nSCRIPT: <selected script>\\nREASON: <reasoning why the script fits the user prompt>\\n\")"
   ]
  },
  {
   "cell_type": "code",
   "execution_count": 5,
   "id": "1964016f-c6f7-4c18-bc69-7955fe0b758f",
   "metadata": {},
   "outputs": [
    {
     "data": {
      "text/plain": [
       "'Find the first order interactions of a gene in the Hardwired Genome'"
      ]
     },
     "execution_count": 5,
     "metadata": {},
     "output_type": "execute_result"
    }
   ],
   "source": [
    "from BRAD.pythonCaller import get_py_description\n",
    "get_py_description('/home/jpic/RAG-DEV/tutorials/planner/python/hwgFirstOrderInteractions.py')"
   ]
  },
  {
   "cell_type": "code",
   "execution_count": 7,
   "id": "b2243984-eda7-4dcf-a9e8-c59b2b836f91",
   "metadata": {},
   "outputs": [
    {
     "name": "stdout",
     "output_type": "stream",
     "text": [
      "The word 'ENRICHRICR' is closer to ENRICHR.\n"
     ]
    }
   ],
   "source": [
    "import difflib\n",
    "\n",
    "def word_similarity(word1, word2):\n",
    "    return difflib.SequenceMatcher(None, word1, word2).ratio()\n",
    "\n",
    "def closer_to_enrichr_or_geneontology(word):\n",
    "    similarity_to_enrichr = word_similarity(word, \"ENRICHR\")\n",
    "    similarity_to_geneontology = word_similarity(word, \"GENEONTOLOGY\")\n",
    "    \n",
    "    if similarity_to_enrichr > similarity_to_geneontology:\n",
    "        return \"ENRICHR\"\n",
    "    else:\n",
    "        return \"GENEONTOLOGY\"\n",
    "\n",
    "# Example usage\n",
    "word = \"ENRICHRICR\"  # Replace with your word\n",
    "result = closer_to_enrichr_or_geneontology(word)\n",
    "\n",
    "print(f\"The word '{word}' is closer to {result}.\")\n"
   ]
  },
  {
   "cell_type": "code",
   "execution_count": 11,
   "id": "2bc5b971-1a66-44ff-b48c-78a59143de7f",
   "metadata": {},
   "outputs": [
    {
     "name": "stdout",
     "output_type": "stream",
     "text": [
      "args_string=subprocess.call([sys.executable, '/home/jpic/RAG-DEV/tutorials/planner/python/hwgFirstOrderInteractions.py', 'chatstatus['output-directory']', 'S1-HWG-1stOrder-PCNA.csv', 'PCNA'])\n",
      "['subprocess.call([sys.executable', \" '/home/jpic/RAG-DEV/tutorials/planner/python/hwgFirstOrderInteractions.py'\", \" 'chatstatus['output-directory']'\", \" 'S1-HWG-1stOrder-PCNA.csv'\", \" 'PCNA'])\"]\n",
      "subprocess.call([sys.executable, '/home/jpic/RAG-DEV/tutorials/planner/python/hwgFirstOrderInteractions.py', chatstatus['output-directory'], 'S1-HWG-1stOrder-PCNA.csv', 'PCNA'])\n"
     ]
    }
   ],
   "source": [
    "python_code = \"subprocess.call([sys.executable, '/home/jpic/RAG-DEV/tutorials/planner/python/hwgFirstOrderInteractions.py', 'chatstatus[\\'output-directory\\']', 'S1-HWG-1stOrder-PCNA.csv', 'PCNA'])\"\n",
    "\n",
    "# Extract the arguments from the string\n",
    "def get_arguments_from_code(code):\n",
    "    #start = code.find('[') + 1\n",
    "    #end = code.find(']')\n",
    "    #args_string = code[start:end].strip()\n",
    "    args_string = code.strip()\n",
    "    print('args_string=' + args_string)\n",
    "    args = args_string.split(',')\n",
    "    print(args)\n",
    "    return args\n",
    "python_code = python_code.replace(get_arguments_from_code(python_code)[2].strip(), \"chatstatus['output-directory']\")\n",
    "print(python_code)"
   ]
  },
  {
   "cell_type": "code",
   "execution_count": 10,
   "id": "ec84578b-5049-4c0f-9545-61db062e9720",
   "metadata": {},
   "outputs": [
    {
     "name": "stdout",
     "output_type": "stream",
     "text": [
      "args_string=sys.executable, '/home/jpic/RAG-DEV/tutorials/planner/python/hwgFirstOrderInteractions.py', chatstatus['output-directory'\n",
      "['sys.executable', \" '/home/jpic/RAG-DEV/tutorials/planner/python/hwgFirstOrderInteractions.py'\", \" chatstatus['output-directory'\"]\n"
     ]
    },
    {
     "data": {
      "text/plain": [
       "\"chatstatus['output-directory'\""
      ]
     },
     "execution_count": 10,
     "metadata": {},
     "output_type": "execute_result"
    }
   ],
   "source": [
    "get_arguments_from_code(python_code)[2].strip()"
   ]
  },
  {
   "cell_type": "code",
   "execution_count": 8,
   "id": "8eb1c755-0dbf-4a58-adcc-9dc9e18dbe66",
   "metadata": {},
   "outputs": [
    {
     "data": {
      "text/plain": [
       "\"chatstatus['output-directory'\""
      ]
     },
     "execution_count": 8,
     "metadata": {},
     "output_type": "execute_result"
    }
   ],
   "source": [
    "get_arguments_from_code(python_code)[2].strip()"
   ]
  },
  {
   "cell_type": "markdown",
   "id": "73a585c4-e1a0-4264-98d5-9c61911e84b8",
   "metadata": {},
   "source": [
    "# Write a python script to use"
   ]
  },
  {
   "cell_type": "code",
   "execution_count": 92,
   "id": "21c3d231-14a7-49d2-8d88-2cf204a214cf",
   "metadata": {},
   "outputs": [],
   "source": [
    "import pandas as pd\n",
    "import scipy.io as sio\n",
    "import numpy as np\n",
    "from scipy.sparse import csc_matrix\n",
    "\n",
    "geneName = 'ENSG00000129152'\n",
    "\n",
    "HWG = sio.loadmat('/home/jpic/RAG-DEV/tutorials/planner/HWG.mat')            # Load Hardwired Genome A matrix\n",
    "A = HWG['HWG']['A']\n",
    "A = A[0,0].todense()\n",
    "df = pd.read_csv('/home/jpic/RAG-DEV/tutorials/planner/geneIndexTable.csv')  # Load gene index table\n",
    "df2 = pd.read_csv('GRCh38.p13.tsv', delimiter='\\t')                          # Load GRCH38 to map between gene names and ENSG IDs\n",
    "if df[df['Stable ID'].isin([geneName])].shape[0] == 0:\n",
    "    temp0 = df2[df2['Gene name'] == geneName]                                    # Find ENSG of Gene Name\n",
    "    ENSG1 = temp0['Gene stable ID'].values[0]\n",
    "else:\n",
    "    ENSG1 = geneName\n",
    "idx = df[df['Stable ID'] == ENSG1].index[0]                                  # Find position of target gene in HWG\n",
    "idxs = np.where(A[idx,:] == 1)[1]                                            # Find first order interactions in network\n",
    "firstOrderEnsg = list(df.iloc[idxs]['Stable ID'].values)                     # Get ENSG of first order interactions\n",
    "firstOrderGenes = list(set(df2[df2['Gene stable ID'].isin(firstOrderEnsg)]['Gene name'].values)) # Get gene names of first order contacts\n",
    "dfSave = pd.DataFrame({'Genes':firstOrderGenes})\n",
    "dfSave.to_csv('HWG_first_order_interactions.csv', index=False)"
   ]
  },
  {
   "cell_type": "code",
   "execution_count": 75,
   "id": "0b95bf43-8c07-4a96-bbcf-608695b5f85c",
   "metadata": {},
   "outputs": [
    {
     "name": "stdout",
     "output_type": "stream",
     "text": [
      "414\n"
     ]
    }
   ],
   "source": [
    "firstOrderGenes = list(set(df2[df2['Gene stable ID'].isin(firstOrderEnsg)]['Gene name'].values))\n",
    "print(len(firstOrderGenes))"
   ]
  },
  {
   "cell_type": "code",
   "execution_count": 64,
   "id": "6916cd11-867e-4b02-abe7-f35559842700",
   "metadata": {},
   "outputs": [
    {
     "data": {
      "text/plain": [
       "6507"
      ]
     },
     "execution_count": 64,
     "metadata": {},
     "output_type": "execute_result"
    }
   ],
   "source": [
    "idx = df[df['Stable ID'] == ENSG1].index[0]"
   ]
  },
  {
   "cell_type": "code",
   "execution_count": 65,
   "id": "2ef13b8e-887a-4183-b12f-d11d0b648fb6",
   "metadata": {},
   "outputs": [],
   "source": [
    "idx = df[df['Stable ID'] == ENSG1].index[0]\n",
    "idxs = np.where(A[idx,:] == 1)[1]\n",
    "firstOrderEnsg = list(df.iloc[idxs]['Stable ID'].values)"
   ]
  },
  {
   "cell_type": "code",
   "execution_count": 63,
   "id": "82a94368-adcd-4f33-8eb3-6be12188815a",
   "metadata": {},
   "outputs": [],
   "source": [
    "idxs = np.where(A[6507,:] == 1)[1]\n",
    "firstOrderEnsg = list(df.iloc[idxs]['Stable ID'].values)"
   ]
  },
  {
   "cell_type": "code",
   "execution_count": 43,
   "id": "48f4d525-5b3a-46a4-92d0-1d3ea698c13a",
   "metadata": {},
   "outputs": [
    {
     "ename": "TypeError",
     "evalue": "tuple indices must be integers or slices, not tuple",
     "output_type": "error",
     "traceback": [
      "\u001b[0;31m---------------------------------------------------------------------------\u001b[0m",
      "\u001b[0;31mTypeError\u001b[0m                                 Traceback (most recent call last)",
      "Cell \u001b[0;32mIn[43], line 1\u001b[0m\n\u001b[0;32m----> 1\u001b[0m A \u001b[38;5;241m=\u001b[39m \u001b[43mA\u001b[49m\u001b[43m[\u001b[49m\u001b[38;5;241;43m0\u001b[39;49m\u001b[43m,\u001b[49m\u001b[38;5;241;43m0\u001b[39;49m\u001b[43m]\u001b[49m\u001b[38;5;241m.\u001b[39mtodense()\n",
      "\u001b[0;31mTypeError\u001b[0m: tuple indices must be integers or slices, not tuple"
     ]
    }
   ],
   "source": [
    "A = A[0,0].todense()"
   ]
  },
  {
   "cell_type": "code",
   "execution_count": 27,
   "id": "c4776e82-3460-49d7-a4f9-77f21546bcbc",
   "metadata": {},
   "outputs": [
    {
     "data": {
      "text/html": [
       "<div>\n",
       "<style scoped>\n",
       "    .dataframe tbody tr th:only-of-type {\n",
       "        vertical-align: middle;\n",
       "    }\n",
       "\n",
       "    .dataframe tbody tr th {\n",
       "        vertical-align: top;\n",
       "    }\n",
       "\n",
       "    .dataframe thead th {\n",
       "        text-align: right;\n",
       "    }\n",
       "</style>\n",
       "<table border=\"1\" class=\"dataframe\">\n",
       "  <thead>\n",
       "    <tr style=\"text-align: right;\">\n",
       "      <th></th>\n",
       "      <th>Gene stable ID</th>\n",
       "      <th>Protein stable ID</th>\n",
       "      <th>Gene start (bp)</th>\n",
       "      <th>Gene end (bp)</th>\n",
       "      <th>Chromosome/scaffold name</th>\n",
       "      <th>Gene name</th>\n",
       "    </tr>\n",
       "  </thead>\n",
       "  <tbody>\n",
       "    <tr>\n",
       "      <th>50403</th>\n",
       "      <td>ENSG00000132646</td>\n",
       "      <td>ENSP00000368438</td>\n",
       "      <td>5114953</td>\n",
       "      <td>5126626</td>\n",
       "      <td>20</td>\n",
       "      <td>PCNA</td>\n",
       "    </tr>\n",
       "    <tr>\n",
       "      <th>50404</th>\n",
       "      <td>ENSG00000132646</td>\n",
       "      <td>ENSP00000368458</td>\n",
       "      <td>5114953</td>\n",
       "      <td>5126626</td>\n",
       "      <td>20</td>\n",
       "      <td>PCNA</td>\n",
       "    </tr>\n",
       "  </tbody>\n",
       "</table>\n",
       "</div>"
      ],
      "text/plain": [
       "        Gene stable ID Protein stable ID  Gene start (bp)  Gene end (bp)  \\\n",
       "50403  ENSG00000132646   ENSP00000368438          5114953        5126626   \n",
       "50404  ENSG00000132646   ENSP00000368458          5114953        5126626   \n",
       "\n",
       "      Chromosome/scaffold name Gene name  \n",
       "50403                       20      PCNA  \n",
       "50404                       20      PCNA  "
      ]
     },
     "execution_count": 27,
     "metadata": {},
     "output_type": "execute_result"
    }
   ],
   "source": [
    "df2 = pd.read_csv('GRCh38.p13.tsv', delimiter='\\t')\n",
    "df2[df2['Gene name'] == geneName]\n"
   ]
  },
  {
   "cell_type": "code",
   "execution_count": 6,
   "id": "330bf723-801d-4f70-9209-dff4c813ace2",
   "metadata": {},
   "outputs": [
    {
     "data": {
      "text/html": [
       "<div>\n",
       "<style scoped>\n",
       "    .dataframe tbody tr th:only-of-type {\n",
       "        vertical-align: middle;\n",
       "    }\n",
       "\n",
       "    .dataframe tbody tr th {\n",
       "        vertical-align: top;\n",
       "    }\n",
       "\n",
       "    .dataframe thead th {\n",
       "        text-align: right;\n",
       "    }\n",
       "</style>\n",
       "<table border=\"1\" class=\"dataframe\">\n",
       "  <thead>\n",
       "    <tr style=\"text-align: right;\">\n",
       "      <th></th>\n",
       "      <th>Stable ID</th>\n",
       "      <th>Gene Name</th>\n",
       "      <th>Transcription Factor</th>\n",
       "      <th>Chromosome</th>\n",
       "      <th>Start</th>\n",
       "      <th>End</th>\n",
       "    </tr>\n",
       "  </thead>\n",
       "  <tbody>\n",
       "  </tbody>\n",
       "</table>\n",
       "</div>"
      ],
      "text/plain": [
       "Empty DataFrame\n",
       "Columns: [Stable ID, Gene Name, Transcription Factor, Chromosome, Start, End]\n",
       "Index: []"
      ]
     },
     "execution_count": 6,
     "metadata": {},
     "output_type": "execute_result"
    }
   ],
   "source": [
    "df[df['Gene Name'] == 'PCNA']"
   ]
  },
  {
   "cell_type": "markdown",
   "id": "36f1cdd3-7a20-4ad2-a69d-706abd3ca1d5",
   "metadata": {},
   "source": [
    "# WRITER"
   ]
  },
  {
   "cell_type": "code",
   "execution_count": 1,
   "id": "ff697963-ecd1-4347-a4f5-b9dbcabd8644",
   "metadata": {},
   "outputs": [
    {
     "data": {
      "text/plain": [
       "<module 'BRAD.writer' from '/home/jpic/RAG-DEV/BRAD/writer.py'>"
      ]
     },
     "execution_count": 1,
     "metadata": {},
     "output_type": "execute_result"
    }
   ],
   "source": [
    "from BRAD import writer\n",
    "from BRAD import llms\n",
    "import importlib\n",
    "importlib.reload(writer)"
   ]
  },
  {
   "cell_type": "code",
   "execution_count": 2,
   "id": "52c6ea6e-efcf-4a2f-893a-cff4ba9091cc",
   "metadata": {},
   "outputs": [
    {
     "name": "stdin",
     "output_type": "stream",
     "text": [
      "Enter your NVIDIA API key:  ········\n"
     ]
    }
   ],
   "source": [
    "llm = llms.load_nvidia()"
   ]
  },
  {
   "cell_type": "code",
   "execution_count": 5,
   "id": "b50e33b5-931b-4da0-9ac8-4dcf410bb0a6",
   "metadata": {},
   "outputs": [],
   "source": [
    "chatstatus = {\n",
    "    'llm' : llm,\n",
    "    'prompt' : 'Write a small report summarizing the findings from the literature search in Step 1, the HWG analysis pipeline results in Step 2, and the gene enrichment analysis results in Step 3, highlighting the role of PCNA in the cell cycle and cell cycle imaging.',\n",
    "    'output-directory' : '/home/jpic/BRAD/2024-06-20_23-33-28',\n",
    "    'config' : {\n",
    "        'debug' : True\n",
    "    },\n",
    "    'planned':[\n",
    "        {\n",
    "            'order': 5\n",
    "        }\n",
    "    ],\n",
    "    'process': {\n",
    "        'module' : 'WRITE',\n",
    "        'steps'  : []\n",
    "    }\n",
    "}"
   ]
  },
  {
   "cell_type": "code",
   "execution_count": 6,
   "id": "0a242312-0427-4113-934b-a5bc3b64a9b9",
   "metadata": {},
   "outputs": [
    {
     "name": "stdout",
     "output_type": "stream",
     "text": [
      "llm\n",
      "1\n",
      "[{'order': 1, 'module': 'RAG', 'prompt': '/force RAG Use Retrieval Augmented Generation to search literature and documents from a text database, answering the question \"What role does PCNA play in the cell cycle and cell cycle imaging?\" and provide a summary of the findings.', 'description': '1 (RAG)**:\\nPrompt: Use Retrieval Augmented Generation to search literature and documents from a text database, answering the question \"What role does PCNA play in the cell cycle and cell cycle imaging?\" and provide a summary of the findings.\\n\\n'}, {'order': 2, 'module': 'CODE', 'prompt': '/force CODE Run the hwg analysis pipeline to find first-order interactions of PCNA, using the literature information obtained from Step 1. Execute the pipeline and produce an output file containing the results.', 'description': '2 (CODE)**:\\nPrompt: Run the hwg analysis pipeline to find first-order interactions of PCNA, using the literature information obtained from Step 1. Execute the pipeline and produce an output file containing the results.\\n\\n'}, {'order': 3, 'module': 'DATABASE', 'prompt': '/force DATABASE Load the output file from Step 2 and perform gene enrichment analysis using Enrichr to identify the pathways PCNA is involved in. Use the results from Step 2 to analyze the gene sets and provide a list of enriched pathways.', 'description': '3 (DATABASE)**:\\nPrompt: Load the output file from Step 2 and perform gene enrichment analysis using Enrichr to identify the pathways PCNA is involved in. Use the results from Step 2 to analyze the gene sets and provide a list of enriched pathways.\\n\\n'}, {'order': 4, 'module': 'WRITE', 'prompt': \"/force WRITE Write a small report summarizing the findings from each step, including the literature search results from Step 1, the hwg analysis results from Step 2, and the gene enrichment analysis results from Step 3. Synthesize the information to provide a comprehensive overview of PCNA's role in the cell cycle and cell cycle imaging.\", 'description': \"4 (WRITE)**:\\nPrompt: Write a small report summarizing the findings from each step, including the literature search results from Step 1, the hwg analysis results from Step 2, and the gene enrichment analysis results from Step 3. Synthesize the information to provide a comprehensive overview of PCNA's role in the cell cycle and cell cycle imaging.\\n\\nNote: The dependencies between steps are:\\n\\n* Step 2 uses information from Step 1 (literature search results)\\n* Step 3 uses the output file from Step 2 (hwg analysis results)\\n* Step 4 uses the results from all previous steps (literature search, hwg analysis, and gene enrichment analysis)\\n\\n\"}]\n",
      "/home/jpic/BRAD/2024-06-20_23-33-28/S3-ENRICHR-GO_Biological_Process_2021.csv\n",
      "/home/jpic/BRAD/2024-06-20_23-33-28/S3-ENRICHR-GO_Biological_Process_2021.csv\n",
      "<class 'pandas.core.frame.DataFrame'>\n",
      "   rank                                path_name         p_val   z_score  \\\n",
      "0     1       DNA metabolic process (GO:0006259)  2.929671e-26  9.904695   \n",
      "1     2                  DNA repair (GO:0006281)  2.913793e-20  7.781802   \n",
      "2     3  double-strand break repair (GO:0006302)  6.189838e-17  9.930600   \n",
      "\n",
      "   combined_score                                  overlapping_genes  \\\n",
      "0      582.320047  ['PRIM2', 'PCNA', 'UHRF2', 'MCM8', 'UHRF1', 'H...   \n",
      "1      350.042919  ['PCNA', 'RNF8', 'PDS5B', 'BRCA2', 'PDS5A', 'B...   \n",
      "2      370.620304  ['AP5Z1', 'MCM8', 'RNF8', 'SMC6', 'HMGB1', 'BR...   \n",
      "\n",
      "      adj_p_val                    database  \n",
      "0  5.695280e-23  GO_Biological_Process_2021  \n",
      "1  2.832206e-17  GO_Biological_Process_2021  \n",
      "2  4.011015e-14  GO_Biological_Process_2021  \n",
      "This is pdfTeX, Version 3.14159265-2.6-1.40.19 (TeX Live 2018) (preloaded format=pdflatex)\n",
      " restricted \\write18 enabled.\n",
      "entering extended mode\n",
      "(/home/jpic/BRAD/2024-06-20_23-33-28/S5-REPORT.tex\n",
      "LaTeX2e <2017-04-15>\n",
      "Babel <3.17> and hyphenation patterns for 3 language(s) loaded.\n",
      "(/usr/share/texlive/texmf-dist/tex/latex/base/article.cls\n",
      "Document Class: article 2014/09/29 v1.4h Standard LaTeX document class\n",
      "(/usr/share/texlive/texmf-dist/tex/latex/base/size10.clo))\n",
      "(/usr/share/texlive/texmf-dist/tex/latex/geometry/geometry.sty\n",
      "(/usr/share/texlive/texmf-dist/tex/latex/graphics/keyval.sty)\n",
      "(/usr/share/texlive/texmf-dist/tex/generic/oberdiek/ifpdf.sty)\n",
      "(/usr/share/texlive/texmf-dist/tex/generic/oberdiek/ifvtex.sty)\n",
      "(/usr/share/texlive/texmf-dist/tex/generic/ifxetex/ifxetex.sty))\n",
      "(/usr/share/texlive/texmf-dist/tex/latex/graphics/graphicx.sty\n",
      "(/usr/share/texlive/texmf-dist/tex/latex/graphics/graphics.sty\n",
      "(/usr/share/texlive/texmf-dist/tex/latex/graphics/trig.sty)\n",
      "(/usr/share/texlive/texmf-dist/tex/latex/graphics-cfg/graphics.cfg)\n",
      "(/usr/share/texlive/texmf-dist/tex/latex/graphics-def/pdftex.def)))\n",
      "(/usr/share/texlive/texmf-dist/tex/latex/url/url.sty)\n",
      "(/home/jpic/BRAD/2024-06-20_23-33-28/S5-REPORT.aux)\n",
      "*geometry* driver: auto-detecting\n",
      "*geometry* detected driver: pdftex\n",
      "(/usr/share/texlive/texmf-dist/tex/context/base/mkii/supp-pdf.mkii\n",
      "[Loading MPS to PDF converter (version 2006.09.02).]\n",
      ") (/usr/share/texlive/texmf-dist/tex/latex/oberdiek/epstopdf-base.sty\n",
      "(/usr/share/texlive/texmf-dist/tex/generic/oberdiek/infwarerr.sty)\n",
      "(/usr/share/texlive/texmf-dist/tex/latex/oberdiek/grfext.sty\n",
      "(/usr/share/texlive/texmf-dist/tex/generic/oberdiek/kvdefinekeys.sty\n",
      "(/usr/share/texlive/texmf-dist/tex/generic/oberdiek/ltxcmds.sty)))\n",
      "(/usr/share/texlive/texmf-dist/tex/latex/oberdiek/kvoptions.sty\n",
      "(/usr/share/texlive/texmf-dist/tex/generic/oberdiek/kvsetkeys.sty\n",
      "(/usr/share/texlive/texmf-dist/tex/generic/oberdiek/etexcmds.sty\n",
      "(/usr/share/texlive/texmf-dist/tex/generic/oberdiek/ifluatex.sty))))\n",
      "(/usr/share/texlive/texmf-dist/tex/generic/oberdiek/pdftexcmds.sty)\n",
      "(/usr/share/texlive/texmf-dist/tex/latex/latexconfig/epstopdf-sys.cfg))\n",
      "[1{/usr/share/texlive/texmf-dist/fonts/map/pdftex/updmap/pdftex.map}]\n",
      "Overfull \\hbox (7.99872pt too wide) in paragraph at lines 53--79\n",
      " [][] \n",
      "(/usr/share/texlive/texmf-dist/tex/latex/base/omscmr.fd) [2] [3 </home/jpic/BRA\n",
      "D/2024-06-20_23-33-28/images/S3-ENRICHR-GO_Biological_Process_2021.png"
     ]
    },
    {
     "name": "stderr",
     "output_type": "stream",
     "text": [
      "/home/jpic/RAG-DEV/BRAD/writer.py:220: SettingWithCopyWarning: \n",
      "A value is trying to be set on a copy of a slice from a DataFrame\n",
      "\n",
      "See the caveats in the documentation: https://pandas.pydata.org/pandas-docs/stable/user_guide/indexing.html#returning-a-view-versus-a-copy\n",
      "  df.drop(col,inplace=True,axis=1)\n"
     ]
    },
    {
     "name": "stdout",
     "output_type": "stream",
     "text": [
      ">]\n",
      "[4] (/home/jpic/BRAD/2024-06-20_23-33-28/S5-REPORT.aux) )\n",
      "(see the transcript file for additional information)</usr/share/texlive/texmf-d\n",
      "ist/fonts/type1/public/amsfonts/cm/cmbx10.pfb></usr/share/texlive/texmf-dist/fo\n",
      "nts/type1/public/amsfonts/cm/cmbx12.pfb></usr/share/texlive/texmf-dist/fonts/ty\n",
      "pe1/public/amsfonts/cm/cmr10.pfb></usr/share/texlive/texmf-dist/fonts/type1/pub\n",
      "lic/amsfonts/cm/cmr12.pfb></usr/share/texlive/texmf-dist/fonts/type1/public/ams\n",
      "fonts/cm/cmr17.pfb></usr/share/texlive/texmf-dist/fonts/type1/public/amsfonts/c\n",
      "m/cmsy10.pfb>\n",
      "Output written on /home/jpic/BRAD/2024-06-20_23-33-28/S5-REPORT.pdf (4 pages, 1\n",
      "62629 bytes).\n",
      "Transcript written on /home/jpic/BRAD/2024-06-20_23-33-28/S5-REPORT.log.\n",
      "PDF generated successfully in /home/jpic/BRAD/2024-06-20_23-33-28.\n"
     ]
    }
   ],
   "source": [
    "chatstatus = writer.summarizeSteps(chatstatus)"
   ]
  },
  {
   "cell_type": "code",
   "execution_count": 6,
   "id": "9ebe0fa3-de2c-40e6-86a4-522b18cb3610",
   "metadata": {},
   "outputs": [
    {
     "name": "stdout",
     "output_type": "stream",
     "text": [
      "You are an assistant writing a report on the outputs of a bioinformatics pipeline. For this section of the report, I need you to explain the following text clearly and convert it to an acceptable latex format. Here is the text to reformat:\n",
      "\n",
      "Current Text: {output}\n",
      "\n",
      "Format your output as:\n",
      "Latex Version=<put paragraphs here>\n",
      "\n"
     ]
    }
   ],
   "source": [
    "def summarizeRAGTemplate():\n",
    "    template = \"\"\"You are an assistant writing a report on the outputs of a bioinformatics pipeline. For this section of the report, I need you to explain the following text clearly and convert it to an acceptable latex format. Here is the text to reformat:\n",
    "\n",
    "Current Text: {output}\n",
    "\n",
    "Format your output as:\n",
    "Latex Version=<put paragraphs here>\n",
    "\"\"\"\n",
    "    return template\n",
    "\n",
    "print(summarizeRAGTemplate())"
   ]
  },
  {
   "cell_type": "code",
   "execution_count": 4,
   "id": "afeca1e8-1de8-41aa-bfcf-ad2571af1c0c",
   "metadata": {},
   "outputs": [
    {
     "data": {
      "text/html": [
       "<div>\n",
       "<style scoped>\n",
       "    .dataframe tbody tr th:only-of-type {\n",
       "        vertical-align: middle;\n",
       "    }\n",
       "\n",
       "    .dataframe tbody tr th {\n",
       "        vertical-align: top;\n",
       "    }\n",
       "\n",
       "    .dataframe thead th {\n",
       "        text-align: right;\n",
       "    }\n",
       "</style>\n",
       "<table border=\"1\" class=\"dataframe\">\n",
       "  <thead>\n",
       "    <tr style=\"text-align: right;\">\n",
       "      <th></th>\n",
       "      <th>rank</th>\n",
       "      <th>path_name</th>\n",
       "      <th>p_val</th>\n",
       "      <th>z_score</th>\n",
       "      <th>combined_score</th>\n",
       "      <th>overlapping_genes</th>\n",
       "      <th>adj_p_val</th>\n",
       "      <th>database</th>\n",
       "    </tr>\n",
       "  </thead>\n",
       "  <tbody>\n",
       "    <tr>\n",
       "      <th>0</th>\n",
       "      <td>1</td>\n",
       "      <td>DNA metabolic process (GO:0006259)</td>\n",
       "      <td>2.929671e-26</td>\n",
       "      <td>9.904695</td>\n",
       "      <td>582.320047</td>\n",
       "      <td>['PRIM2', 'PCNA', 'UHRF2', 'MCM8', 'UHRF1', 'H...</td>\n",
       "      <td>5.695280e-23</td>\n",
       "      <td>GO_Biological_Process_2021</td>\n",
       "    </tr>\n",
       "    <tr>\n",
       "      <th>1</th>\n",
       "      <td>2</td>\n",
       "      <td>DNA repair (GO:0006281)</td>\n",
       "      <td>2.913793e-20</td>\n",
       "      <td>7.781802</td>\n",
       "      <td>350.042919</td>\n",
       "      <td>['PCNA', 'RNF8', 'PDS5B', 'BRCA2', 'PDS5A', 'B...</td>\n",
       "      <td>2.832206e-17</td>\n",
       "      <td>GO_Biological_Process_2021</td>\n",
       "    </tr>\n",
       "    <tr>\n",
       "      <th>2</th>\n",
       "      <td>3</td>\n",
       "      <td>double-strand break repair (GO:0006302)</td>\n",
       "      <td>6.189838e-17</td>\n",
       "      <td>9.930600</td>\n",
       "      <td>370.620304</td>\n",
       "      <td>['AP5Z1', 'MCM8', 'RNF8', 'SMC6', 'HMGB1', 'BR...</td>\n",
       "      <td>4.011015e-14</td>\n",
       "      <td>GO_Biological_Process_2021</td>\n",
       "    </tr>\n",
       "    <tr>\n",
       "      <th>3</th>\n",
       "      <td>4</td>\n",
       "      <td>double-strand break repair via homologous reco...</td>\n",
       "      <td>5.864563e-16</td>\n",
       "      <td>13.753055</td>\n",
       "      <td>482.353090</td>\n",
       "      <td>['GEN1', 'AP5Z1', 'POLN', 'MCM8', 'RAD21L1', '...</td>\n",
       "      <td>2.850178e-13</td>\n",
       "      <td>GO_Biological_Process_2021</td>\n",
       "    </tr>\n",
       "    <tr>\n",
       "      <th>4</th>\n",
       "      <td>5</td>\n",
       "      <td>DNA-dependent DNA replication (GO:0006261)</td>\n",
       "      <td>2.149505e-15</td>\n",
       "      <td>10.838486</td>\n",
       "      <td>366.054021</td>\n",
       "      <td>['PSMD10', 'WDHD1', 'PRIM2', 'MGME1', 'RFC3', ...</td>\n",
       "      <td>8.357274e-13</td>\n",
       "      <td>GO_Biological_Process_2021</td>\n",
       "    </tr>\n",
       "    <tr>\n",
       "      <th>...</th>\n",
       "      <td>...</td>\n",
       "      <td>...</td>\n",
       "      <td>...</td>\n",
       "      <td>...</td>\n",
       "      <td>...</td>\n",
       "      <td>...</td>\n",
       "      <td>...</td>\n",
       "      <td>...</td>\n",
       "    </tr>\n",
       "    <tr>\n",
       "      <th>1540</th>\n",
       "      <td>1541</td>\n",
       "      <td>lytic vacuole organization (GO:0080171)</td>\n",
       "      <td>4.979925e-01</td>\n",
       "      <td>1.483237</td>\n",
       "      <td>1.034069</td>\n",
       "      <td>['ACP2']</td>\n",
       "      <td>6.266003e-01</td>\n",
       "      <td>GO_Biological_Process_2021</td>\n",
       "    </tr>\n",
       "    <tr>\n",
       "      <th>1541</th>\n",
       "      <td>1542</td>\n",
       "      <td>negative regulation of smooth muscle cell prol...</td>\n",
       "      <td>4.979925e-01</td>\n",
       "      <td>1.483237</td>\n",
       "      <td>1.034069</td>\n",
       "      <td>['ANG']</td>\n",
       "      <td>6.266003e-01</td>\n",
       "      <td>GO_Biological_Process_2021</td>\n",
       "    </tr>\n",
       "    <tr>\n",
       "      <th>1542</th>\n",
       "      <td>1543</td>\n",
       "      <td>neuron projection extension (GO:1990138)</td>\n",
       "      <td>4.979925e-01</td>\n",
       "      <td>1.483237</td>\n",
       "      <td>1.034069</td>\n",
       "      <td>['EIF2AK4']</td>\n",
       "      <td>6.266003e-01</td>\n",
       "      <td>GO_Biological_Process_2021</td>\n",
       "    </tr>\n",
       "    <tr>\n",
       "      <th>1543</th>\n",
       "      <td>1544</td>\n",
       "      <td>phosphatidylcholine biosynthetic process (GO:0...</td>\n",
       "      <td>4.979925e-01</td>\n",
       "      <td>1.483237</td>\n",
       "      <td>1.034069</td>\n",
       "      <td>['CSNK2A1']</td>\n",
       "      <td>6.266003e-01</td>\n",
       "      <td>GO_Biological_Process_2021</td>\n",
       "    </tr>\n",
       "    <tr>\n",
       "      <th>1544</th>\n",
       "      <td>1545</td>\n",
       "      <td>positive regulation of organelle organization ...</td>\n",
       "      <td>4.979925e-01</td>\n",
       "      <td>1.483237</td>\n",
       "      <td>1.034069</td>\n",
       "      <td>['LIG4']</td>\n",
       "      <td>6.266003e-01</td>\n",
       "      <td>GO_Biological_Process_2021</td>\n",
       "    </tr>\n",
       "  </tbody>\n",
       "</table>\n",
       "<p>1545 rows × 8 columns</p>\n",
       "</div>"
      ],
      "text/plain": [
       "      rank                                          path_name         p_val  \\\n",
       "0        1                 DNA metabolic process (GO:0006259)  2.929671e-26   \n",
       "1        2                            DNA repair (GO:0006281)  2.913793e-20   \n",
       "2        3            double-strand break repair (GO:0006302)  6.189838e-17   \n",
       "3        4  double-strand break repair via homologous reco...  5.864563e-16   \n",
       "4        5         DNA-dependent DNA replication (GO:0006261)  2.149505e-15   \n",
       "...    ...                                                ...           ...   \n",
       "1540  1541            lytic vacuole organization (GO:0080171)  4.979925e-01   \n",
       "1541  1542  negative regulation of smooth muscle cell prol...  4.979925e-01   \n",
       "1542  1543           neuron projection extension (GO:1990138)  4.979925e-01   \n",
       "1543  1544  phosphatidylcholine biosynthetic process (GO:0...  4.979925e-01   \n",
       "1544  1545  positive regulation of organelle organization ...  4.979925e-01   \n",
       "\n",
       "        z_score  combined_score  \\\n",
       "0      9.904695      582.320047   \n",
       "1      7.781802      350.042919   \n",
       "2      9.930600      370.620304   \n",
       "3     13.753055      482.353090   \n",
       "4     10.838486      366.054021   \n",
       "...         ...             ...   \n",
       "1540   1.483237        1.034069   \n",
       "1541   1.483237        1.034069   \n",
       "1542   1.483237        1.034069   \n",
       "1543   1.483237        1.034069   \n",
       "1544   1.483237        1.034069   \n",
       "\n",
       "                                      overlapping_genes     adj_p_val  \\\n",
       "0     ['PRIM2', 'PCNA', 'UHRF2', 'MCM8', 'UHRF1', 'H...  5.695280e-23   \n",
       "1     ['PCNA', 'RNF8', 'PDS5B', 'BRCA2', 'PDS5A', 'B...  2.832206e-17   \n",
       "2     ['AP5Z1', 'MCM8', 'RNF8', 'SMC6', 'HMGB1', 'BR...  4.011015e-14   \n",
       "3     ['GEN1', 'AP5Z1', 'POLN', 'MCM8', 'RAD21L1', '...  2.850178e-13   \n",
       "4     ['PSMD10', 'WDHD1', 'PRIM2', 'MGME1', 'RFC3', ...  8.357274e-13   \n",
       "...                                                 ...           ...   \n",
       "1540                                           ['ACP2']  6.266003e-01   \n",
       "1541                                            ['ANG']  6.266003e-01   \n",
       "1542                                        ['EIF2AK4']  6.266003e-01   \n",
       "1543                                        ['CSNK2A1']  6.266003e-01   \n",
       "1544                                           ['LIG4']  6.266003e-01   \n",
       "\n",
       "                        database  \n",
       "0     GO_Biological_Process_2021  \n",
       "1     GO_Biological_Process_2021  \n",
       "2     GO_Biological_Process_2021  \n",
       "3     GO_Biological_Process_2021  \n",
       "4     GO_Biological_Process_2021  \n",
       "...                          ...  \n",
       "1540  GO_Biological_Process_2021  \n",
       "1541  GO_Biological_Process_2021  \n",
       "1542  GO_Biological_Process_2021  \n",
       "1543  GO_Biological_Process_2021  \n",
       "1544  GO_Biological_Process_2021  \n",
       "\n",
       "[1545 rows x 8 columns]"
      ]
     },
     "execution_count": 4,
     "metadata": {},
     "output_type": "execute_result"
    }
   ],
   "source": [
    "import pandas as pd\n",
    "df = pd.read_csv('/home/jpic/BRAD/2024-06-20_23-33-28/S3-ENRICHR-GO_Biological_Process_2021.csv')\n",
    "df"
   ]
  },
  {
   "cell_type": "code",
   "execution_count": 60,
   "id": "9946bf8c-77ac-4692-8e47-e1cbdf333daf",
   "metadata": {},
   "outputs": [
    {
     "name": "stdout",
     "output_type": "stream",
     "text": [
      "\\begin{table}[h]\n",
      "\\centering\n",
      "\\begin{tabular}{rlrrrr}\n",
      "\\hline\n",
      "   rank & path\\_name                              &       p\\_val &   z\\_score &   combined\\_score &   adj\\_p\\_val \\\\\n",
      "\\hline\n",
      "      1 & DNA metabolic process (GO:0006259)...  & 2.92967e-26 &   9.9047  &         582.32   & 5.69528e-23 \\\\\n",
      "      2 & DNA repair (GO:0006281)...             & 2.91379e-20 &   7.7818  &         350.043  & 2.83221e-17 \\\\\n",
      "      3 & double-strand break repair (GO:0006... & 6.18984e-17 &   9.9306  &         370.62   & 4.01102e-14 \\\\\n",
      "      4 & double-strand break repair via homo... & 5.86456e-16 &  13.7531  &         482.353  & 2.85018e-13 \\\\\n",
      "      5 & DNA-dependent DNA replication (GO:0... & 2.1495e-15  &  10.8385  &         366.054  & 8.35727e-13 \\\\\n",
      "      6 & cellular macromolecule biosynthetic... & 2.88168e-15 &   6.18581 &         207.103  & 9.33665e-13 \\\\\n",
      "      7 & DNA replication (GO:0006260)...        & 5.8677e-15  &  12.0074  &         393.474  & 1.62954e-12 \\\\\n",
      "      8 & cellular response to DNA damage sti... & 1.2607e-14  &   5.6649  &         181.303  & 3.06351e-12 \\\\\n",
      "      9 & nucleotide-excision repair (GO:0006... & 3.97388e-14 &  11.6761  &         360.283  & 8.58358e-12 \\\\\n",
      "     10 & recombinational repair (GO:0000725)... & 4.03308e-13 &  13.5193  &         385.827  & 7.8403e-11  \\\\\n",
      "     11 & mitotic spindle organization (GO:00... & 1.18486e-11 &   7.6619  &         192.764  & 2.09398e-09 \\\\\n",
      "     12 & protein-DNA complex assembly (GO:00... & 1.28645e-10 &   7.56912 &         172.379  & 2.08405e-08 \\\\\n",
      "     13 & microtubule cytoskeleton organizati... & 1.53038e-10 &   8.06872 &         182.356  & 2.2885e-08  \\\\\n",
      "     14 & transcription-coupled nucleotide-ex... & 2.51496e-10 &  11.6134  &         256.699  & 3.29441e-08 \\\\\n",
      "     15 & DNA recombination (GO:0006310)...      & 2.54198e-10 &  19.1142  &         422.287  & 3.29441e-08 \\\\\n",
      "     16 & regulation of cyclin-dependent prot... & 1.26331e-09 &  10.0717  &         206.365  & 1.53492e-07 \\\\\n",
      "     17 & DNA integrity checkpoint signaling ... & 4.71091e-09 &  16.7348  &         320.863  & 5.38706e-07 \\\\\n",
      "     18 & mitotic recombination (GO:0006312)...  & 8.49057e-09 &  42.1961  &         784.186  & 9.16982e-07 \\\\\n",
      "     19 & mitotic cell cycle phase transition... & 1.43372e-08 &   5.22315 &          94.3323 & 1.46692e-06 \\\\\n",
      "     20 & telomere maintenance (GO:0000723)...   & 1.64778e-08 &  11.8829  &         212.957  & 1.60165e-06 \\\\\n",
      "\\hline\n",
      "\\end{tabular}\n",
      "\\end{table}\n"
     ]
    },
    {
     "name": "stderr",
     "output_type": "stream",
     "text": [
      "/tmp/ipykernel_4193282/116054301.py:7: SettingWithCopyWarning: \n",
      "A value is trying to be set on a copy of a slice from a DataFrame\n",
      "\n",
      "See the caveats in the documentation: https://pandas.pydata.org/pandas-docs/stable/user_guide/indexing.html#returning-a-view-versus-a-copy\n",
      "  df.drop(col,inplace=True,axis=1)\n"
     ]
    }
   ],
   "source": [
    "from tabulate import tabulate\n",
    "\n",
    "def dataframe_to_latex(df):\n",
    "    df = df.head(20)\n",
    "    for col in df.columns:\n",
    "        if len(df[col].unique()) == 1:\n",
    "            df.drop(col,inplace=True,axis=1)\n",
    "    max_length = 250\n",
    "    \n",
    "    # Identify columns to drop\n",
    "    columns_to_drop = [col for col in df.columns if df[col].astype(str).apply(len).max() > max_length]\n",
    "    \n",
    "    # Drop identified columns\n",
    "    df = df.drop(columns=columns_to_drop)\n",
    "    \n",
    "    df['path_name'] = df['path_name'].apply(lambda x: x[:35] + \"...\")\n",
    "\n",
    "    # Generate LaTeX table\n",
    "    latex_table = tabulate(df, tablefmt='latex', showindex=False, headers='keys')\n",
    "\n",
    "\n",
    "    # Add booktabs and other LaTeX formatting\n",
    "    latex_table = latex_table.replace(\"\\\\\\\\ \", \"\\\\\").replace(\"toprule\", \"toprule\\nrank & path-name & p-val & z-score & combined-score & adj-p-val \\\\\\\\ \\\\midrule\").replace(\"midrule\", \"midrule\\n\").replace(\"bottomrule\", \"bottomrule\\n\")\n",
    "\n",
    "    # Add table environment\n",
    "    latex_table = \"\\\\begin{table}[h]\\n\\\\centering\\n\" + latex_table + \"\\n\\\\end{table}\"\n",
    "\n",
    "    return latex_table\n",
    "\n",
    "latex_code = dataframe_to_latex(df)\n",
    "\n",
    "print(latex_code)\n"
   ]
  },
  {
   "cell_type": "code",
   "execution_count": 48,
   "id": "fefc2112-cbbd-4996-944b-c8f50f912b8c",
   "metadata": {},
   "outputs": [
    {
     "data": {
      "text/html": [
       "<div>\n",
       "<style scoped>\n",
       "    .dataframe tbody tr th:only-of-type {\n",
       "        vertical-align: middle;\n",
       "    }\n",
       "\n",
       "    .dataframe tbody tr th {\n",
       "        vertical-align: top;\n",
       "    }\n",
       "\n",
       "    .dataframe thead th {\n",
       "        text-align: right;\n",
       "    }\n",
       "</style>\n",
       "<table border=\"1\" class=\"dataframe\">\n",
       "  <thead>\n",
       "    <tr style=\"text-align: right;\">\n",
       "      <th></th>\n",
       "      <th>rank</th>\n",
       "      <th>path_name</th>\n",
       "      <th>p_val</th>\n",
       "      <th>z_score</th>\n",
       "      <th>combined_score</th>\n",
       "      <th>adj_p_val</th>\n",
       "    </tr>\n",
       "  </thead>\n",
       "  <tbody>\n",
       "    <tr>\n",
       "      <th>0</th>\n",
       "      <td>1</td>\n",
       "      <td>DNA metabolic process (GO:0006259)...</td>\n",
       "      <td>2.929671e-26</td>\n",
       "      <td>9.904695</td>\n",
       "      <td>582.320047</td>\n",
       "      <td>5.695280e-23</td>\n",
       "    </tr>\n",
       "    <tr>\n",
       "      <th>1</th>\n",
       "      <td>2</td>\n",
       "      <td>DNA repair (GO:0006281)...</td>\n",
       "      <td>2.913793e-20</td>\n",
       "      <td>7.781802</td>\n",
       "      <td>350.042919</td>\n",
       "      <td>2.832206e-17</td>\n",
       "    </tr>\n",
       "    <tr>\n",
       "      <th>2</th>\n",
       "      <td>3</td>\n",
       "      <td>double-strand break repair (GO:0006...</td>\n",
       "      <td>6.189838e-17</td>\n",
       "      <td>9.930600</td>\n",
       "      <td>370.620304</td>\n",
       "      <td>4.011015e-14</td>\n",
       "    </tr>\n",
       "    <tr>\n",
       "      <th>3</th>\n",
       "      <td>4</td>\n",
       "      <td>double-strand break repair via homo...</td>\n",
       "      <td>5.864563e-16</td>\n",
       "      <td>13.753055</td>\n",
       "      <td>482.353090</td>\n",
       "      <td>2.850178e-13</td>\n",
       "    </tr>\n",
       "    <tr>\n",
       "      <th>4</th>\n",
       "      <td>5</td>\n",
       "      <td>DNA-dependent DNA replication (GO:0...</td>\n",
       "      <td>2.149505e-15</td>\n",
       "      <td>10.838486</td>\n",
       "      <td>366.054021</td>\n",
       "      <td>8.357274e-13</td>\n",
       "    </tr>\n",
       "    <tr>\n",
       "      <th>5</th>\n",
       "      <td>6</td>\n",
       "      <td>cellular macromolecule biosynthetic...</td>\n",
       "      <td>2.881683e-15</td>\n",
       "      <td>6.185809</td>\n",
       "      <td>207.103356</td>\n",
       "      <td>9.336652e-13</td>\n",
       "    </tr>\n",
       "    <tr>\n",
       "      <th>6</th>\n",
       "      <td>7</td>\n",
       "      <td>DNA replication (GO:0006260)...</td>\n",
       "      <td>5.867700e-15</td>\n",
       "      <td>12.007389</td>\n",
       "      <td>393.473902</td>\n",
       "      <td>1.629544e-12</td>\n",
       "    </tr>\n",
       "    <tr>\n",
       "      <th>7</th>\n",
       "      <td>8</td>\n",
       "      <td>cellular response to DNA damage sti...</td>\n",
       "      <td>1.260704e-14</td>\n",
       "      <td>5.664903</td>\n",
       "      <td>181.302509</td>\n",
       "      <td>3.063510e-12</td>\n",
       "    </tr>\n",
       "    <tr>\n",
       "      <th>8</th>\n",
       "      <td>9</td>\n",
       "      <td>nucleotide-excision repair (GO:0006...</td>\n",
       "      <td>3.973880e-14</td>\n",
       "      <td>11.676096</td>\n",
       "      <td>360.282864</td>\n",
       "      <td>8.583581e-12</td>\n",
       "    </tr>\n",
       "    <tr>\n",
       "      <th>9</th>\n",
       "      <td>10</td>\n",
       "      <td>recombinational repair (GO:0000725)...</td>\n",
       "      <td>4.033077e-13</td>\n",
       "      <td>13.519265</td>\n",
       "      <td>385.827344</td>\n",
       "      <td>7.840303e-11</td>\n",
       "    </tr>\n",
       "  </tbody>\n",
       "</table>\n",
       "</div>"
      ],
      "text/plain": [
       "   rank                               path_name         p_val    z_score  \\\n",
       "0     1   DNA metabolic process (GO:0006259)...  2.929671e-26   9.904695   \n",
       "1     2              DNA repair (GO:0006281)...  2.913793e-20   7.781802   \n",
       "2     3  double-strand break repair (GO:0006...  6.189838e-17   9.930600   \n",
       "3     4  double-strand break repair via homo...  5.864563e-16  13.753055   \n",
       "4     5  DNA-dependent DNA replication (GO:0...  2.149505e-15  10.838486   \n",
       "5     6  cellular macromolecule biosynthetic...  2.881683e-15   6.185809   \n",
       "6     7         DNA replication (GO:0006260)...  5.867700e-15  12.007389   \n",
       "7     8  cellular response to DNA damage sti...  1.260704e-14   5.664903   \n",
       "8     9  nucleotide-excision repair (GO:0006...  3.973880e-14  11.676096   \n",
       "9    10  recombinational repair (GO:0000725)...  4.033077e-13  13.519265   \n",
       "\n",
       "   combined_score     adj_p_val  \n",
       "0      582.320047  5.695280e-23  \n",
       "1      350.042919  2.832206e-17  \n",
       "2      370.620304  4.011015e-14  \n",
       "3      482.353090  2.850178e-13  \n",
       "4      366.054021  8.357274e-13  \n",
       "5      207.103356  9.336652e-13  \n",
       "6      393.473902  1.629544e-12  \n",
       "7      181.302509  3.063510e-12  \n",
       "8      360.282864  8.583581e-12  \n",
       "9      385.827344  7.840303e-11  "
      ]
     },
     "execution_count": 48,
     "metadata": {},
     "output_type": "execute_result"
    }
   ],
   "source": [
    "df = df.head(10)\n",
    "for col in df.columns:\n",
    "    if len(df[col].unique()) == 1:\n",
    "        df.drop(col,inplace=True,axis=1)\n",
    "max_length = 250\n",
    "\n",
    "# Identify columns to drop\n",
    "columns_to_drop = [col for col in df.columns if df[col].astype(str).apply(len).max() > max_length]\n",
    "\n",
    "# Drop identified columns\n",
    "df = df.drop(columns=columns_to_drop)\n",
    "\n",
    "df['path_name'] = df['path_name'].apply(lambda x: x[:35] + \"...\")\n",
    "df"
   ]
  },
  {
   "cell_type": "code",
   "execution_count": 20,
   "id": "23e4d973-2447-40b5-ae34-8e8c75508109",
   "metadata": {},
   "outputs": [
    {
     "name": "stdout",
     "output_type": "stream",
     "text": [
      "\\begin{tabular}{|L|L|L|L|L|L}\n",
      "\\toprule\n",
      "rank & path-name & p-val & z-score & combined-score & adj-p-val \\\\\n",
      "\\midrule\n",
      "1 & DNA metabolic process (GO:0006259) & 0.000000 & 9.904695 & 582.320047 & 0.000000 \\\\\n",
      "2 & DNA repair (GO:0006281) & 0.000000 & 7.781802 & 350.042919 & 0.000000 \\\\\n",
      "3 & double-strand break repair (GO:0006302) & 0.000000 & 9.930600 & 370.620304 & 0.000000 \\\\\n",
      "4 & double-strand break repair via homologous recombination (GO:0000724) & 0.000000 & 13.753055 & 482.353090 & 0.000000 \\\\\n",
      "5 & DNA-dependent DNA replication (GO:0006261) & 0.000000 & 10.838486 & 366.054021 & 0.000000 \\\\\n",
      "\\bottomrule\n",
      "\\end{tabular}\n",
      "\n"
     ]
    }
   ],
   "source": [
    "latex_str = df.head().to_latex(index=False,\n",
    "                               column_format='|L' * df.shape[1])\n",
    "latex_str = latex_str.replace(\"_\", '-')\n",
    "print(latex_str)"
   ]
  },
  {
   "cell_type": "code",
   "execution_count": 30,
   "id": "b3143b71-d14d-4360-9112-519a5127e81d",
   "metadata": {},
   "outputs": [
    {
     "data": {
      "text/html": [
       "<div>\n",
       "<style scoped>\n",
       "    .dataframe tbody tr th:only-of-type {\n",
       "        vertical-align: middle;\n",
       "    }\n",
       "\n",
       "    .dataframe tbody tr th {\n",
       "        vertical-align: top;\n",
       "    }\n",
       "\n",
       "    .dataframe thead th {\n",
       "        text-align: right;\n",
       "    }\n",
       "</style>\n",
       "<table border=\"1\" class=\"dataframe\">\n",
       "  <thead>\n",
       "    <tr style=\"text-align: right;\">\n",
       "      <th></th>\n",
       "      <th>rank</th>\n",
       "      <th>path_name</th>\n",
       "      <th>p_val</th>\n",
       "      <th>z_score</th>\n",
       "      <th>combined_score</th>\n",
       "      <th>adj_p_val</th>\n",
       "      <th>path-name</th>\n",
       "    </tr>\n",
       "  </thead>\n",
       "  <tbody>\n",
       "    <tr>\n",
       "      <th>0</th>\n",
       "      <td>1</td>\n",
       "      <td>DNA metabolic process (GO:0006259)</td>\n",
       "      <td>2.929671e-26</td>\n",
       "      <td>9.904695</td>\n",
       "      <td>582.320047</td>\n",
       "      <td>5.695280e-23</td>\n",
       "      <td>\\makecell[</td>\n",
       "    </tr>\n",
       "    <tr>\n",
       "      <th>1</th>\n",
       "      <td>2</td>\n",
       "      <td>DNA repair (GO:0006281)</td>\n",
       "      <td>2.913793e-20</td>\n",
       "      <td>7.781802</td>\n",
       "      <td>350.042919</td>\n",
       "      <td>2.832206e-17</td>\n",
       "      <td>\\makecell[</td>\n",
       "    </tr>\n",
       "    <tr>\n",
       "      <th>2</th>\n",
       "      <td>3</td>\n",
       "      <td>double-strand break repair (GO:0006302)</td>\n",
       "      <td>6.189838e-17</td>\n",
       "      <td>9.930600</td>\n",
       "      <td>370.620304</td>\n",
       "      <td>4.011015e-14</td>\n",
       "      <td>\\makecell[</td>\n",
       "    </tr>\n",
       "    <tr>\n",
       "      <th>3</th>\n",
       "      <td>4</td>\n",
       "      <td>double-strand break repair via homologous reco...</td>\n",
       "      <td>5.864563e-16</td>\n",
       "      <td>13.753055</td>\n",
       "      <td>482.353090</td>\n",
       "      <td>2.850178e-13</td>\n",
       "      <td>\\makecell[</td>\n",
       "    </tr>\n",
       "    <tr>\n",
       "      <th>4</th>\n",
       "      <td>5</td>\n",
       "      <td>DNA-dependent DNA replication (GO:0006261)</td>\n",
       "      <td>2.149505e-15</td>\n",
       "      <td>10.838486</td>\n",
       "      <td>366.054021</td>\n",
       "      <td>8.357274e-13</td>\n",
       "      <td>\\makecell[</td>\n",
       "    </tr>\n",
       "    <tr>\n",
       "      <th>5</th>\n",
       "      <td>6</td>\n",
       "      <td>cellular macromolecule biosynthetic process (G...</td>\n",
       "      <td>2.881683e-15</td>\n",
       "      <td>6.185809</td>\n",
       "      <td>207.103356</td>\n",
       "      <td>9.336652e-13</td>\n",
       "      <td>\\makecell[</td>\n",
       "    </tr>\n",
       "    <tr>\n",
       "      <th>6</th>\n",
       "      <td>7</td>\n",
       "      <td>DNA replication (GO:0006260)</td>\n",
       "      <td>5.867700e-15</td>\n",
       "      <td>12.007389</td>\n",
       "      <td>393.473902</td>\n",
       "      <td>1.629544e-12</td>\n",
       "      <td>\\makecell[</td>\n",
       "    </tr>\n",
       "    <tr>\n",
       "      <th>7</th>\n",
       "      <td>8</td>\n",
       "      <td>cellular response to DNA damage stimulus (GO:0...</td>\n",
       "      <td>1.260704e-14</td>\n",
       "      <td>5.664903</td>\n",
       "      <td>181.302509</td>\n",
       "      <td>3.063510e-12</td>\n",
       "      <td>\\makecell[</td>\n",
       "    </tr>\n",
       "    <tr>\n",
       "      <th>8</th>\n",
       "      <td>9</td>\n",
       "      <td>nucleotide-excision repair (GO:0006289)</td>\n",
       "      <td>3.973880e-14</td>\n",
       "      <td>11.676096</td>\n",
       "      <td>360.282864</td>\n",
       "      <td>8.583581e-12</td>\n",
       "      <td>\\makecell[</td>\n",
       "    </tr>\n",
       "    <tr>\n",
       "      <th>9</th>\n",
       "      <td>10</td>\n",
       "      <td>recombinational repair (GO:0000725)</td>\n",
       "      <td>4.033077e-13</td>\n",
       "      <td>13.519265</td>\n",
       "      <td>385.827344</td>\n",
       "      <td>7.840303e-11</td>\n",
       "      <td>\\makecell[</td>\n",
       "    </tr>\n",
       "  </tbody>\n",
       "</table>\n",
       "</div>"
      ],
      "text/plain": [
       "   rank                                          path_name         p_val  \\\n",
       "0     1                 DNA metabolic process (GO:0006259)  2.929671e-26   \n",
       "1     2                            DNA repair (GO:0006281)  2.913793e-20   \n",
       "2     3            double-strand break repair (GO:0006302)  6.189838e-17   \n",
       "3     4  double-strand break repair via homologous reco...  5.864563e-16   \n",
       "4     5         DNA-dependent DNA replication (GO:0006261)  2.149505e-15   \n",
       "5     6  cellular macromolecule biosynthetic process (G...  2.881683e-15   \n",
       "6     7                       DNA replication (GO:0006260)  5.867700e-15   \n",
       "7     8  cellular response to DNA damage stimulus (GO:0...  1.260704e-14   \n",
       "8     9            nucleotide-excision repair (GO:0006289)  3.973880e-14   \n",
       "9    10                recombinational repair (GO:0000725)  4.033077e-13   \n",
       "\n",
       "     z_score  combined_score     adj_p_val   path-name  \n",
       "0   9.904695      582.320047  5.695280e-23  \\makecell[  \n",
       "1   7.781802      350.042919  2.832206e-17  \\makecell[  \n",
       "2   9.930600      370.620304  4.011015e-14  \\makecell[  \n",
       "3  13.753055      482.353090  2.850178e-13  \\makecell[  \n",
       "4  10.838486      366.054021  8.357274e-13  \\makecell[  \n",
       "5   6.185809      207.103356  9.336652e-13  \\makecell[  \n",
       "6  12.007389      393.473902  1.629544e-12  \\makecell[  \n",
       "7   5.664903      181.302509  3.063510e-12  \\makecell[  \n",
       "8  11.676096      360.282864  8.583581e-12  \\makecell[  \n",
       "9  13.519265      385.827344  7.840303e-11  \\makecell[  "
      ]
     },
     "execution_count": 30,
     "metadata": {},
     "output_type": "execute_result"
    }
   ],
   "source": [
    "df['path-name'] = df['path-name'].apply(lambda x: x[:10])\n",
    "df"
   ]
  },
  {
   "cell_type": "code",
   "execution_count": 58,
   "id": "378666ef-ba0e-4aeb-bcb1-e09edd1050dc",
   "metadata": {},
   "outputs": [
    {
     "name": "stdout",
     "output_type": "stream",
     "text": [
      "\\begin{table}[h]\n",
      "\\centering\n",
      "\\begin{tabular}{rlrrrr}\n",
      "\\hline\n",
      "   rank & path\\_name                              &       p\\_val &   z\\_score &   combined\\_score &   adj\\_p\\_val \\\\\n",
      "\\hline\n",
      "      1 & DNA metabolic process (GO:0006259).... & 2.92967e-26 &   9.9047  &          582.32  & 5.69528e-23 \\\\\n",
      "      2 & DNA repair (GO:0006281)......          & 2.91379e-20 &   7.7818  &          350.043 & 2.83221e-17 \\\\\n",
      "      3 & double-strand break repair (GO:0006... & 6.18984e-17 &   9.9306  &          370.62  & 4.01102e-14 \\\\\n",
      "      4 & double-strand break repair via homo... & 5.86456e-16 &  13.7531  &          482.353 & 2.85018e-13 \\\\\n",
      "      5 & DNA-dependent DNA replication (GO:0... & 2.1495e-15  &  10.8385  &          366.054 & 8.35727e-13 \\\\\n",
      "      6 & cellular macromolecule biosynthetic... & 2.88168e-15 &   6.18581 &          207.103 & 9.33665e-13 \\\\\n",
      "      7 & DNA replication (GO:0006260)......     & 5.8677e-15  &  12.0074  &          393.474 & 1.62954e-12 \\\\\n",
      "      8 & cellular response to DNA damage sti... & 1.2607e-14  &   5.6649  &          181.303 & 3.06351e-12 \\\\\n",
      "      9 & nucleotide-excision repair (GO:0006... & 3.97388e-14 &  11.6761  &          360.283 & 8.58358e-12 \\\\\n",
      "     10 & recombinational repair (GO:0000725)... & 4.03308e-13 &  13.5193  &          385.827 & 7.8403e-11  \\\\\n",
      "\\hline\n",
      "\\end{tabular}\n",
      "\\end{table}\n"
     ]
    }
   ],
   "source": [
    "from tabulate import tabulate\n",
    "\n",
    "def dataframe_to_latex(df):\n",
    "    df = df.head(20)\n",
    "    for col in df.columns:\n",
    "        if len(df[col].unique()) == 1:\n",
    "            df.drop(col,inplace=True,axis=1)\n",
    "    max_length = 250\n",
    "    \n",
    "    # Identify columns to drop\n",
    "    columns_to_drop = [col for col in df.columns if df[col].astype(str).apply(len).max() > max_length]\n",
    "    \n",
    "    # Drop identified columns\n",
    "    df = df.drop(columns=columns_to_drop)\n",
    "    \n",
    "    df['path_name'] = df['path_name'].apply(lambda x: x[:35] + \"...\")\n",
    "\n",
    "    # Generate LaTeX table\n",
    "    latex_table = tabulate(df, tablefmt='latex', showindex=False, headers='keys')\n",
    "\n",
    "\n",
    "    # Add booktabs and other LaTeX formatting\n",
    "    latex_table = latex_table.replace(\"\\\\\\\\ \", \"\\\\\").replace(\"toprule\", \"toprule\\nrank & path-name & p-val & z-score & combined-score & adj-p-val \\\\\\\\ \\\\midrule\").replace(\"midrule\", \"midrule\\n\").replace(\"bottomrule\", \"bottomrule\\n\")\n",
    "\n",
    "    # Add table environment\n",
    "    latex_table = \"\\\\begin{table}[h]\\n\\\\centering\\n\" + latex_table + \"\\n\\\\end{table}\"\n",
    "\n",
    "    return latex_table\n",
    "\n",
    "latex_code = dataframe_to_latex(df)\n",
    "\n",
    "print(latex_code)\n"
   ]
  },
  {
   "cell_type": "code",
   "execution_count": 21,
   "id": "4cd58816-813b-4f7e-8e69-3c5005564fbc",
   "metadata": {},
   "outputs": [
    {
     "name": "stdout",
     "output_type": "stream",
     "text": [
      "\\usepackage{tabularx}\n",
      "\\begin{table}[ht]\n",
      "\\begin{tabularx}{\\textwidth}{|X|X|X|X|X|X|X|X|}\n",
      "\\hline\n",
      "\\begin{tabular}{|X||X||X||X||X||X||X||X|}\n",
      "\n",
      "rank & path_name & p_val & z_score & combined_score & overlapping_genes & adj_p_val & database \\\\\n",
      "\\hline\n",
      "1 & DNA metabolic process (GO:0006259) & 0.000000 & 9.904695 & 582.320047 & ['PRIM2', 'PCNA', 'UHRF2', 'MCM8', 'UHRF1', 'HMGB3', 'PDS5B', 'HMGB1', 'TYMS', 'PDS5A', 'POLD3', 'WRN', 'CDC45', 'RBBP8', 'POLI', 'POLL', 'NUDT15', 'GEN1', 'WDHD1', 'XRCC6', 'RFC3', 'MGMT', 'XRCC3', 'LIG4', 'DNTT', 'CSNK1E', 'SMC1A', 'POLA1', 'RAD50', 'RAD51', 'MSH2', 'MSH3', 'APEX1', 'RPA3', 'POLE2', 'RPA4', 'TIMELESS', 'MCM3', 'RAD1', 'MCM5', 'ERCC5', 'DNA2', 'TOP1', 'MNAT1'] & 0.000000 & GO_Biological_Process_2021 \\\\\n",
      "2 & DNA repair (GO:0006281) & 0.000000 & 7.781802 & 350.042919 & ['PCNA', 'RNF8', 'PDS5B', 'BRCA2', 'PDS5A', 'BABAM1', 'POLD3', 'WRN', 'CHEK2', 'RBBP8', 'PMS2', 'POLI', 'POLL', 'WDHD1', 'MGME1', 'RFC3', 'POLN', 'MGMT', 'XRCC3', 'APEX2', 'LIG4', 'CSNK1E', 'SMC1A', 'RAD23B', 'MLH3', 'POLA1', 'RAD50', 'RAD51', 'MSH2', 'MSH3', 'APEX1', 'RPA3', 'POLE2', 'RPA4', 'TIMELESS', 'RAD1', 'ERCC5', 'DNA2', 'MNAT1'] & 0.000000 & GO_Biological_Process_2021 \\\\\n",
      "3 & double-strand break repair (GO:0006302) & 0.000000 & 9.930600 & 370.620304 & ['AP5Z1', 'MCM8', 'RNF8', 'SMC6', 'HMGB1', 'BRCA2', 'PRPF19', 'RAD54B', 'BABAM1', 'WRN', 'CHEK2', 'REV3L', 'RBBP8', 'POLL', 'GEN1', 'XRCC6', 'POLN', 'XRCC3', 'LIG4', 'DNTT', 'POLA1', 'RAD50', 'RAD51', 'RPA3', 'RPA4', 'ERCC5', 'DNA2'] & 0.000000 & GO_Biological_Process_2021 \\\\\n",
      "4 & double-strand break repair via homologous recombination (GO:0000724) & 0.000000 & 13.753055 & 482.353090 & ['GEN1', 'AP5Z1', 'POLN', 'MCM8', 'RAD21L1', 'XRCC3', 'SMC6', 'BRCA2', 'RAD54B', 'WRN', 'RAD50', 'CDC45', 'RAD51', 'RPA3', 'RPA4', 'REV3L', 'MCM3', 'RBBP8', 'POLL', 'MCM5', 'ERCC5'] & 0.000000 & GO_Biological_Process_2021 \\\\\n",
      "5 & DNA-dependent DNA replication (GO:0006261) & 0.000000 & 10.838486 & 366.054021 & ['PSMD10', 'WDHD1', 'PRIM2', 'MGME1', 'RFC3', 'MCM8', 'HMGA1', 'PSMA7', 'POLD3', 'POLA1', 'WRN', 'PSMA4', 'CDC45', 'PSMB5', 'PSMC6', 'RAD51', 'POLE2', 'RPA3', 'RPA4', 'REV3L', 'MCM3', 'MCM5', 'DNA2'] & 0.000000 & GO_Biological_Process_2021 \\\\\n",
      "\\hline\n",
      "\n",
      "\\end{tabularx}\n",
      "\\end{table}\n"
     ]
    }
   ],
   "source": [
    "latex_str = df.head().to_latex(index=False, column_format='|X|' * df.shape[1])\n",
    "latex_str = (\n",
    "    r\"\\usepackage{tabularx}\" + \"\\n\" + \n",
    "    r\"\\begin{table}[ht]\" + \"\\n\" + \n",
    "    r\"\\begin{tabularx}{\\textwidth}{|X|X|X|X|X|X|X|X|}\" + \"\\n\" + \n",
    "    r\"\\hline\" + \"\\n\" + \n",
    "    latex_str.replace(r\"\\begin{tabular}{llllllll}\", \"\").replace(r\"\\end{tabular}\", \"\").replace(r\"\\toprule\", \"\").replace(r\"\\midrule\", r\"\\hline\").replace(r\"\\bottomrule\", r\"\\hline\") +\n",
    "    r\"\\end{tabularx}\" + \"\\n\" + \n",
    "    r\"\\end{table}\"\n",
    ")\n",
    "\n",
    "print(latex_str)"
   ]
  },
  {
   "cell_type": "code",
   "execution_count": 17,
   "id": "3278d51b-c5c5-4da6-b22d-7456b22f8bb1",
   "metadata": {},
   "outputs": [
    {
     "name": "stdout",
     "output_type": "stream",
     "text": [
      "\\begin{tabular}{rlrrrlrl}\n",
      "\\toprule\n",
      "rank & path-name & p-val & z-score & combined-score & overlapping-genes & adj-p-val & database \\\\\n",
      "\\midrule\n",
      "1 & DNA metabolic process (GO:0006259) & 0.0000 & 9.9047 & 582.3200 & ['PRIM2', 'PCNA', 'UHRF2', 'MCM8', 'UHRF1', 'HMGB3', 'PDS5B', 'HMGB1', 'TYMS', 'PDS5A', 'POLD3', 'WRN', 'CDC45', 'RBBP8', 'POLI', 'POLL', 'NUDT15', 'GEN1', 'WDHD1', 'XRCC6', 'RFC3', 'MGMT', 'XRCC3', 'LIG4', 'DNTT', 'CSNK1E', 'SMC1A', 'POLA1', 'RAD50', 'RAD51', 'MSH2', 'MSH3', 'APEX1', 'RPA3', 'POLE2', 'RPA4', 'TIMELESS', 'MCM3', 'RAD1', 'MCM5', 'ERCC5', 'DNA2', 'TOP1', 'MNAT1'] & 0.0000 & GO-Biological-Process-2021 \\\\\n",
      "2 & DNA repair (GO:0006281) & 0.0000 & 7.7818 & 350.0429 & ['PCNA', 'RNF8', 'PDS5B', 'BRCA2', 'PDS5A', 'BABAM1', 'POLD3', 'WRN', 'CHEK2', 'RBBP8', 'PMS2', 'POLI', 'POLL', 'WDHD1', 'MGME1', 'RFC3', 'POLN', 'MGMT', 'XRCC3', 'APEX2', 'LIG4', 'CSNK1E', 'SMC1A', 'RAD23B', 'MLH3', 'POLA1', 'RAD50', 'RAD51', 'MSH2', 'MSH3', 'APEX1', 'RPA3', 'POLE2', 'RPA4', 'TIMELESS', 'RAD1', 'ERCC5', 'DNA2', 'MNAT1'] & 0.0000 & GO-Biological-Process-2021 \\\\\n",
      "3 & double-strand break repair (GO:0006302) & 0.0000 & 9.9306 & 370.6203 & ['AP5Z1', 'MCM8', 'RNF8', 'SMC6', 'HMGB1', 'BRCA2', 'PRPF19', 'RAD54B', 'BABAM1', 'WRN', 'CHEK2', 'REV3L', 'RBBP8', 'POLL', 'GEN1', 'XRCC6', 'POLN', 'XRCC3', 'LIG4', 'DNTT', 'POLA1', 'RAD50', 'RAD51', 'RPA3', 'RPA4', 'ERCC5', 'DNA2'] & 0.0000 & GO-Biological-Process-2021 \\\\\n",
      "4 & double-strand break repair via homologous recombination (GO:0000724) & 0.0000 & 13.7531 & 482.3531 & ['GEN1', 'AP5Z1', 'POLN', 'MCM8', 'RAD21L1', 'XRCC3', 'SMC6', 'BRCA2', 'RAD54B', 'WRN', 'RAD50', 'CDC45', 'RAD51', 'RPA3', 'RPA4', 'REV3L', 'MCM3', 'RBBP8', 'POLL', 'MCM5', 'ERCC5'] & 0.0000 & GO-Biological-Process-2021 \\\\\n",
      "5 & DNA-dependent DNA replication (GO:0006261) & 0.0000 & 10.8385 & 366.0540 & ['PSMD10', 'WDHD1', 'PRIM2', 'MGME1', 'RFC3', 'MCM8', 'HMGA1', 'PSMA7', 'POLD3', 'POLA1', 'WRN', 'PSMA4', 'CDC45', 'PSMB5', 'PSMC6', 'RAD51', 'POLE2', 'RPA3', 'RPA4', 'REV3L', 'MCM3', 'MCM5', 'DNA2'] & 0.0000 & GO-Biological-Process-2021 \\\\\n",
      "\\bottomrule\n",
      "\\end{tabular}\n",
      "\n"
     ]
    }
   ],
   "source": [
    "import pandas as pd\n",
    "df = pd.read_csv('/home/jpic/BRAD/2024-06-20_23-33-28/S3-ENRICHR-GO_Biological_Process_2021.csv')\n",
    "\n",
    "def scientific_formatter(x):\n",
    "    if isinstance(x, float):  # Ensure the value is a float\n",
    "        return f\"{x:.1e}\"\n",
    "    return x\n",
    "\n",
    "# Print DataFrame as LaTeX with scientific notation\n",
    "print(df.head().to_latex(index=False,\n",
    "                         formatters={\"name\": str.upper,\n",
    "                                     \"value\": scientific_formatter,\n",
    "                                     \"score\": scientific_formatter},\n",
    "                         float_format=\"{:.4f}\".format).replace('_', '-')\n",
    "     )\n",
    "\n",
    "#print(df.head().to_latex(index=False,\n",
    "#                  formatters={\"name\": str.upper},\n",
    "#                  float_format=\"{:.1f}\".format))"
   ]
  },
  {
   "cell_type": "code",
   "execution_count": 23,
   "id": "38b8e581-0da3-4922-a962-e4bed8dd34fc",
   "metadata": {},
   "outputs": [
    {
     "name": "stdout",
     "output_type": "stream",
     "text": [
      "\n",
      "\\usepackage{tabularx}\n",
      "\\begin{tabularx}{\\textwidth}{|X|X|X|X|X|X|X|X|}\n",
      "\\toprule\n",
      "rank & path_name & p_val & z_score & combined_score & overlapping_genes & adj_p_val & database \\\\\n",
      "\\midrule\n",
      "1 & DNA metabolic process (GO:0006259) & 2.9e-26 & 9.9e+00 & 5.8e+02 & ['PRIM2', 'PCNA', 'UHRF2', 'MCM8', 'UHRF1', 'HMGB3', 'PDS5B', 'HMGB1', 'TYMS', 'PDS5A', 'POLD3', 'WRN', 'CDC45', 'RBBP8', 'POLI', 'POLL', 'NUDT15', 'GEN1', 'WDHD1', 'XRCC6', 'RFC3', 'MGMT', 'XRCC3', 'LIG4', 'DNTT', 'CSNK1E', 'SMC1A', 'POLA1', 'RAD50', 'RAD51', 'MSH2', 'MSH3', 'APEX1', 'RPA3', 'POLE2', 'RPA4', 'TIMELESS', 'MCM3', 'RAD1', 'MCM5', 'ERCC5', 'DNA2', 'TOP1', 'MNAT1'] & 5.7e-23 & GO_Biological_Process_2021 \\\\\n",
      "2 & DNA repair (GO:0006281) & 2.9e-20 & 7.8e+00 & 3.5e+02 & ['PCNA', 'RNF8', 'PDS5B', 'BRCA2', 'PDS5A', 'BABAM1', 'POLD3', 'WRN', 'CHEK2', 'RBBP8', 'PMS2', 'POLI', 'POLL', 'WDHD1', 'MGME1', 'RFC3', 'POLN', 'MGMT', 'XRCC3', 'APEX2', 'LIG4', 'CSNK1E', 'SMC1A', 'RAD23B', 'MLH3', 'POLA1', 'RAD50', 'RAD51', 'MSH2', 'MSH3', 'APEX1', 'RPA3', 'POLE2', 'RPA4', 'TIMELESS', 'RAD1', 'ERCC5', 'DNA2', 'MNAT1'] & 2.8e-17 & GO_Biological_Process_2021 \\\\\n",
      "3 & double-strand break repair (GO:0006302) & 6.2e-17 & 9.9e+00 & 3.7e+02 & ['AP5Z1', 'MCM8', 'RNF8', 'SMC6', 'HMGB1', 'BRCA2', 'PRPF19', 'RAD54B', 'BABAM1', 'WRN', 'CHEK2', 'REV3L', 'RBBP8', 'POLL', 'GEN1', 'XRCC6', 'POLN', 'XRCC3', 'LIG4', 'DNTT', 'POLA1', 'RAD50', 'RAD51', 'RPA3', 'RPA4', 'ERCC5', 'DNA2'] & 4.0e-14 & GO_Biological_Process_2021 \\\\\n",
      "\\bottomrule\n",
      "\\end{tabularx}\n",
      "\n"
     ]
    }
   ],
   "source": [
    "df_limited = df.head(3)\n",
    "\n",
    "# Create a dictionary of formatters for all columns\n",
    "formatters = {col: scientific_formatter if df_limited[col].dtype in ['float64', 'int64'] else str for col in df_limited.columns}\n",
    "\n",
    "# Convert DataFrame to LaTeX with custom column format\n",
    "latex_code = df_limited.to_latex(index=False, formatters=formatters, column_format='|X|X|X|X|X|X|X|X|')\n",
    "\n",
    "# Modify the LaTeX code to use the tabularx package\n",
    "latex_code = latex_code.replace(r'\\begin{tabular}', r'\\begin{tabularx}{\\textwidth}')\n",
    "latex_code = latex_code.replace(r'\\end{tabular}', r'\\end{tabularx}')\n",
    "\n",
    "# Add the tabularx package to the LaTeX preamble\n",
    "preamble = r\"\"\"\n",
    "\\usepackage{tabularx}\n",
    "\"\"\"\n",
    "latex_code = preamble + latex_code\n",
    "\n",
    "print(latex_code)\n"
   ]
  },
  {
   "cell_type": "code",
   "execution_count": 30,
   "id": "d37acbc3-7f98-4a7b-a258-021704365dc5",
   "metadata": {},
   "outputs": [
    {
     "name": "stdout",
     "output_type": "stream",
     "text": [
      "\\begin{tabularx}{\\textwidth}{|X|X|X|X|X|X|}\n",
      "\\toprule\n",
      "rank & path-name & p-val & z-score & combined-score & adj-p-val & database \\\\\n",
      "\\midrule\n",
      "1 & DNA metabolic process (GO:0006259) & 2.9e-26 & 9.9e+00 & 5.8e+02 & 5.7e-23 & GO-Biological-Process-2021 \\\\\n",
      "2 & DNA repair (GO:0006281) & 2.9e-20 & 7.8e+00 & 3.5e+02 & 2.8e-17 & GO-Biological-Process-2021 \\\\\n",
      "3 & double-strand break repair (GO:0006302) & 6.2e-17 & 9.9e+00 & 3.7e+02 & 4.0e-14 & GO-Biological-Process-2021 \\\\\n",
      "\\bottomrule\n",
      "\\end{tabularx}\n",
      "\n"
     ]
    }
   ],
   "source": [
    "max_length = 250\n",
    "\n",
    "# Identify columns to drop\n",
    "columns_to_drop = [col for col in df.columns if df[col].astype(str).apply(len).max() > max_length]\n",
    "\n",
    "# Drop identified columns\n",
    "df_dropped = df.drop(columns=columns_to_drop)\n",
    "df_dropped.shape\n",
    "\n",
    "df_limited = df_dropped.head(3)\n",
    "\n",
    "# Create a dictionary of formatters for all columns\n",
    "formatters = {col: scientific_formatter if df_limited[col].dtype in ['float64', 'int64'] else str for col in df_limited.columns}\n",
    "\n",
    "# Convert DataFrame to LaTeX with custom column format\n",
    "latex_code = df_limited.to_latex(index=False, formatters=formatters, column_format='|X|X|X|X|X|X|')\n",
    "\n",
    "# Modify the LaTeX code to use the tabularx package\n",
    "latex_code = latex_code.replace(r'\\begin{tabular}', r'\\begin{tabularx}{\\textwidth}')\n",
    "latex_code = latex_code.replace(r'\\end{tabular}', r'\\end{tabularx}')\n",
    "\n",
    "latex_code = latex_code.replace('_', '-')\n",
    "\n",
    "print(latex_code)\n"
   ]
  },
  {
   "cell_type": "code",
   "execution_count": 5,
   "id": "8dc85937-277f-45b8-be77-170a7ec0f777",
   "metadata": {},
   "outputs": [
    {
     "name": "stdout",
     "output_type": "stream",
     "text": [
      "llm\n",
      "1\n",
      "[{'order': 1, 'module': 'RAG', 'prompt': '/force RAG Use Retrieval Augmented Generation to search literature and documents from a text database, answering the question \"What role does PCNA play in the cell cycle and cell cycle imaging?\" and provide a summary of the findings.', 'description': '1 (RAG)**:\\nPrompt: Use Retrieval Augmented Generation to search literature and documents from a text database, answering the question \"What role does PCNA play in the cell cycle and cell cycle imaging?\" and provide a summary of the findings.\\n\\n'}, {'order': 2, 'module': 'CODE', 'prompt': '/force CODE Run the hwg analysis pipeline to find first-order interactions of PCNA, using the literature information obtained from Step 1. Execute the pipeline and produce an output file containing the results.', 'description': '2 (CODE)**:\\nPrompt: Run the hwg analysis pipeline to find first-order interactions of PCNA, using the literature information obtained from Step 1. Execute the pipeline and produce an output file containing the results.\\n\\n'}, {'order': 3, 'module': 'DATABASE', 'prompt': '/force DATABASE Load the output file from Step 2 and perform gene enrichment analysis using Enrichr to identify the pathways PCNA is involved in. Use the results from Step 2 to analyze the gene sets and provide a list of enriched pathways.', 'description': '3 (DATABASE)**:\\nPrompt: Load the output file from Step 2 and perform gene enrichment analysis using Enrichr to identify the pathways PCNA is involved in. Use the results from Step 2 to analyze the gene sets and provide a list of enriched pathways.\\n\\n'}, {'order': 4, 'module': 'WRITE', 'prompt': \"/force WRITE Write a small report summarizing the findings from each step, including the literature search results from Step 1, the hwg analysis results from Step 2, and the gene enrichment analysis results from Step 3. Synthesize the information to provide a comprehensive overview of PCNA's role in the cell cycle and cell cycle imaging.\", 'description': \"4 (WRITE)**:\\nPrompt: Write a small report summarizing the findings from each step, including the literature search results from Step 1, the hwg analysis results from Step 2, and the gene enrichment analysis results from Step 3. Synthesize the information to provide a comprehensive overview of PCNA's role in the cell cycle and cell cycle imaging.\\n\\nNote: The dependencies between steps are:\\n\\n* Step 2 uses information from Step 1 (literature search results)\\n* Step 3 uses the output file from Step 2 (hwg analysis results)\\n* Step 4 uses the results from all previous steps (literature search, hwg analysis, and gene enrichment analysis)\\n\\n\"}]\n",
      "This is pdfTeX, Version 3.14159265-2.6-1.40.19 (TeX Live 2018) (preloaded format=pdflatex)\n",
      " restricted \\write18 enabled.\n",
      "entering extended mode\n",
      "(/home/jpic/BRAD/2024-06-20_23-33-28/S5-REPORT.tex\n",
      "LaTeX2e <2017-04-15>\n",
      "Babel <3.17> and hyphenation patterns for 3 language(s) loaded.\n",
      "(/usr/share/texlive/texmf-dist/tex/latex/base/article.cls\n",
      "Document Class: article 2014/09/29 v1.4h Standard LaTeX document class\n",
      "(/usr/share/texlive/texmf-dist/tex/latex/base/size10.clo))\n",
      "(/usr/share/texlive/texmf-dist/tex/latex/geometry/geometry.sty\n",
      "(/usr/share/texlive/texmf-dist/tex/latex/graphics/keyval.sty)\n",
      "(/usr/share/texlive/texmf-dist/tex/generic/oberdiek/ifpdf.sty)\n",
      "(/usr/share/texlive/texmf-dist/tex/generic/oberdiek/ifvtex.sty)\n",
      "(/usr/share/texlive/texmf-dist/tex/generic/ifxetex/ifxetex.sty))\n",
      "(/usr/share/texlive/texmf-dist/tex/latex/graphics/graphicx.sty\n",
      "(/usr/share/texlive/texmf-dist/tex/latex/graphics/graphics.sty\n",
      "(/usr/share/texlive/texmf-dist/tex/latex/graphics/trig.sty)\n",
      "(/usr/share/texlive/texmf-dist/tex/latex/graphics-cfg/graphics.cfg)\n",
      "(/usr/share/texlive/texmf-dist/tex/latex/graphics-def/pdftex.def)))\n",
      "(/usr/share/texlive/texmf-dist/tex/latex/url/url.sty)\n",
      "(/home/jpic/BRAD/2024-06-20_23-33-28/S5-REPORT.aux)\n",
      "*geometry* driver: auto-detecting\n",
      "*geometry* detected driver: pdftex\n",
      "(/usr/share/texlive/texmf-dist/tex/context/base/mkii/supp-pdf.mkii\n",
      "[Loading MPS to PDF converter (version 2006.09.02).]\n",
      ") (/usr/share/texlive/texmf-dist/tex/latex/oberdiek/epstopdf-base.sty\n",
      "(/usr/share/texlive/texmf-dist/tex/generic/oberdiek/infwarerr.sty)\n",
      "(/usr/share/texlive/texmf-dist/tex/latex/oberdiek/grfext.sty\n",
      "(/usr/share/texlive/texmf-dist/tex/generic/oberdiek/kvdefinekeys.sty\n",
      "(/usr/share/texlive/texmf-dist/tex/generic/oberdiek/ltxcmds.sty)))\n",
      "(/usr/share/texlive/texmf-dist/tex/latex/oberdiek/kvoptions.sty\n",
      "(/usr/share/texlive/texmf-dist/tex/generic/oberdiek/kvsetkeys.sty\n",
      "(/usr/share/texlive/texmf-dist/tex/generic/oberdiek/etexcmds.sty\n",
      "(/usr/share/texlive/texmf-dist/tex/generic/oberdiek/ifluatex.sty))))\n",
      "(/usr/share/texlive/texmf-dist/tex/generic/oberdiek/pdftexcmds.sty)\n",
      "(/usr/share/texlive/texmf-dist/tex/latex/latexconfig/epstopdf-sys.cfg))\n",
      "(/usr/share/texlive/texmf-dist/tex/latex/base/omscmr.fd) [1{/usr/share/texlive/\n",
      "texmf-dist/fonts/map/pdftex/updmap/pdftex.map}] [2 </home/jpic/BRAD/2024-06-20_\n",
      "23-33-28/images/S3-ENRICHR-GO_Biological_Process_2021.png>] [3]\n",
      "(/home/jpic/BRAD/2024-06-20_23-33-28/S5-REPORT.aux) )</usr/share/texlive/texmf-\n",
      "dist/fonts/type1/public/amsfonts/cm/cmbx12.pfb></usr/share/texlive/texmf-dist/f\n",
      "onts/type1/public/amsfonts/cm/cmr10.pfb></usr/share/texlive/texmf-dist/fonts/ty\n",
      "pe1/public/amsfonts/cm/cmr12.pfb></usr/share/texlive/texmf-dist/fonts/type1/pub\n",
      "lic/amsfonts/cm/cmr17.pfb></usr/share/texlive/texmf-dist/fonts/type1/public/ams\n",
      "fonts/cm/cmsy10.pfb>\n",
      "Output written on /home/jpic/BRAD/2024-06-20_23-33-28/S5-REPORT.pdf (3 pages, 1\n",
      "41280 bytes).\n",
      "Transcript written on /home/jpic/BRAD/2024-06-20_23-33-28/S5-REPORT.log.\n",
      "PDF generated successfully in /home/jpic/BRAD/2024-06-20_23-33-28.\n"
     ]
    }
   ],
   "source": [
    "chatstatus = writer.summarizeSteps(chatstatus)"
   ]
  },
  {
   "cell_type": "code",
   "execution_count": 5,
   "id": "16a109bb-48a9-4480-912b-8cd54e15cff2",
   "metadata": {},
   "outputs": [
    {
     "name": "stdout",
     "output_type": "stream",
     "text": [
      "\\documentclass{article}\n",
      "\\begin{document}\n",
      "\n",
      "\\title{Report on Chat Pipeline Activity}\n",
      "\\maketitle\n",
      "\n",
      "\\section*{Driving Prompt}\n",
      "write a 3 step pipeline to 1. perform a lit search of PCNA with the RAG. Use a prompt such as, \"What role does PCNA play in the cell cycle and cell cycle imaging?\", then 2. run the hwg analysis pipeline to find first order interactions of PCNA. 3. use the output of the hwg codes to perform gene enrichment and identify the pathways PCNA is involved in. Finally, write a small report summarizing each of these findings in Step 4\n",
      "\n",
      "\\section*{Summary of Process}\n",
      "The bioinformatics analysis pipeline was executed through a series of prompts to the bioinformatics chatbot, which utilized various modules to generate a comprehensive report. Initially, the chatbot employed the RAG module to search literature and documents for relevant findings on the role of PCNA in the cell cycle and cell cycle imaging. The resulting information was then used to execute the HWG analysis pipeline through the CODE module, identifying first-order interactions of PCNA. Subsequently, the output was utilized for gene set enrichment analysis using the Gene Ontology and Enrichr databases through the DATABASE module, revealing enriched pathways involving PCNA. Finally, the chatbot generated a summary report highlighting the role of PCNA in the cell cycle and cell cycle imaging, incorporating findings from all preceding steps.\n",
      "\n",
      "\\section*{Summary of Outputs}\n",
      "\n",
      "\n",
      "\n",
      " REPORT BODY\n",
      "\n",
      "\n",
      "\n",
      "\n",
      "\\section*{References}\n",
      "\n",
      "\n",
      "\n",
      " REFERENCES GO HERE \n",
      "\n",
      "\n",
      "\n",
      "\n",
      "\\end{document}\n",
      "\n"
     ]
    }
   ],
   "source": [
    "print(report)"
   ]
  },
  {
   "cell_type": "code",
   "execution_count": 12,
   "id": "0aefd7bd-9b3b-4125-b2a7-96741c520b9b",
   "metadata": {},
   "outputs": [
    {
     "name": "stdout",
     "output_type": "stream",
     "text": [
      "This is pdfTeX, Version 3.14159265-2.6-1.40.19 (TeX Live 2018) (preloaded format=pdflatex)\n",
      " restricted \\write18 enabled.\n",
      "entering extended mode\n",
      "(/home/jpic/BRAD/2024-06-19_23-07-33/S5-REPORT.tex\n",
      "LaTeX2e <2017-04-15>\n",
      "Babel <3.17> and hyphenation patterns for 3 language(s) loaded.\n",
      "(/usr/share/texlive/texmf-dist/tex/latex/base/article.cls\n",
      "Document Class: article 2014/09/29 v1.4h Standard LaTeX document class\n",
      "(/usr/share/texlive/texmf-dist/tex/latex/base/size10.clo))\n",
      "(/home/jpic/BRAD/2024-06-19_23-07-33/S5-REPORT.aux)\n",
      "\n",
      "LaTeX Warning: No \\author given.\n",
      "\n",
      "[1{/usr/share/texlive/texmf-dist/fonts/map/pdftex/updmap/pdftex.map}]\n",
      "(/home/jpic/BRAD/2024-06-19_23-07-33/S5-REPORT.aux) )</usr/share/texlive/texmf-\n",
      "dist/fonts/type1/public/amsfonts/cm/cmbx12.pfb></usr/share/texlive/texmf-dist/f\n",
      "onts/type1/public/amsfonts/cm/cmr10.pfb></usr/share/texlive/texmf-dist/fonts/ty\n",
      "pe1/public/amsfonts/cm/cmr12.pfb></usr/share/texlive/texmf-dist/fonts/type1/pub\n",
      "lic/amsfonts/cm/cmr17.pfb>\n",
      "Output written on /home/jpic/BRAD/2024-06-19_23-07-33/S5-REPORT.pdf (1 page, 51\n",
      "465 bytes).\n",
      "Transcript written on /home/jpic/BRAD/2024-06-19_23-07-33/S5-REPORT.log.\n",
      "PDF generated successfully in /home/jpic/BRAD/2024-06-19_23-07-33.\n"
     ]
    }
   ],
   "source": [
    "def compile_latex_to_pdf(chatstatus, tex_file):\n",
    "    tex_file_path = os.path.join(chatstatus['output-directory'], tex_file)\n",
    "    \n",
    "    # Ensure the file exists\n",
    "    if not os.path.isfile(tex_file_path):\n",
    "        raise FileNotFoundError(f\"The file {tex_file_path} does not exist.\")\n",
    "    \n",
    "    # Run the pdflatex command with the specified output directory\n",
    "    try:\n",
    "        subprocess.run(\n",
    "            ['pdflatex', '-output-directory', chatstatus['output-directory'], tex_file_path], \n",
    "            check=True\n",
    "        )\n",
    "        print(f\"PDF generated successfully in {chatstatus['output-directory']}.\")\n",
    "    except subprocess.CalledProcessError as e:\n",
    "        print(f\"An error occurred: {e}\")\n",
    "\n",
    "tex_file_path = '/home/jpic/BRAD/2024-06-19_23-07-33/S5-REPORT.tex'  # replace with your .tex file path\n",
    "compile_latex_to_pdf(chatstatus, tex_file_path)"
   ]
  },
  {
   "cell_type": "code",
   "execution_count": 9,
   "id": "87d36310-820e-432e-bd2b-d8e53bf9bb87",
   "metadata": {},
   "outputs": [
    {
     "name": "stdout",
     "output_type": "stream",
     "text": [
      "This is pdfTeX, Version 3.14159265-2.6-1.40.19 (TeX Live 2018) (preloaded format=pdflatex)\n",
      " restricted \\write18 enabled.\n",
      "entering extended mode\n",
      "(/home/jpic/BRAD/2024-06-19_23-07-33/S5-REPORT.tex\n",
      "LaTeX2e <2017-04-15>\n",
      "Babel <3.17> and hyphenation patterns for 3 language(s) loaded.\n",
      "(/usr/share/texlive/texmf-dist/tex/latex/base/article.cls\n",
      "Document Class: article 2014/09/29 v1.4h Standard LaTeX document class\n",
      "(/usr/share/texlive/texmf-dist/tex/latex/base/size10.clo))\n",
      "No file S5-REPORT.aux.\n",
      "\n",
      "LaTeX Warning: No \\author given.\n",
      "\n",
      "[1{/usr/share/texlive/texmf-dist/fonts/map/pdftex/updmap/pdftex.map}]\n",
      "(./S5-REPORT.aux) )</usr/share/texlive/texmf-dist/fonts/type1/public/amsfonts/c\n",
      "m/cmbx12.pfb></usr/share/texlive/texmf-dist/fonts/type1/public/amsfonts/cm/cmr1\n",
      "0.pfb></usr/share/texlive/texmf-dist/fonts/type1/public/amsfonts/cm/cmr12.pfb><\n",
      "/usr/share/texlive/texmf-dist/fonts/type1/public/amsfonts/cm/cmr17.pfb>\n",
      "Output written on S5-REPORT.pdf (1 page, 51465 bytes).\n",
      "Transcript written on S5-REPORT.log.\n",
      "PDF generated successfully.\n"
     ]
    }
   ],
   "source": [
    "import subprocess\n",
    "import os\n",
    "\n",
    "def compile_latex_to_pdf(tex_file_path):\n",
    "    # Ensure the file exists\n",
    "    if not os.path.isfile(tex_file_path):\n",
    "        raise FileNotFoundError(f\"The file {tex_file_path} does not exist.\")\n",
    "    \n",
    "    # Run the pdflatex command\n",
    "    try:\n",
    "        subprocess.run(['pdflatex', tex_file_path], check=True)\n",
    "        print(\"PDF generated successfully.\")\n",
    "    except subprocess.CalledProcessError as e:\n",
    "        print(f\"An error occurred: {e}\")\n",
    "\n",
    "# Example usage\n",
    "tex_file_path = '/home/jpic/BRAD/2024-06-19_23-07-33/S5-REPORT.tex'  # replace with your .tex file path\n",
    "compile_latex_to_pdf(tex_file_path)\n"
   ]
  },
  {
   "cell_type": "code",
   "execution_count": 5,
   "id": "813dd728-03d0-47c4-8dcb-680d4e22da6d",
   "metadata": {},
   "outputs": [
    {
     "data": {
      "text/plain": [
       "{'llm': \"model='meta/llama3-70b-instruct'\",\n",
       " '1': {'prompt': 'write a 3 step pipeline to 1. perform a lit search of PCNA with the RAG. Use a prompt such as, \"What role does PCNA play in the cell cycle and cell cycle imaging?\", then 2. run the hwg analysis pipeline to find first order interactions of PCNA. 3. use the output of the hwg codes to perform gene enrichment and identify the pathways PCNA is involved in. Finally, write a small report summarizing each of these findings in Step 4',\n",
       "  'output': None,\n",
       "  'process': {'module': 'PLANNER', 'steps': [], 'stages': []},\n",
       "  'status': {'databases': \"{'RAG': <langchain_community.vectorstores.chroma.Chroma object at 0x14b9010eb810>}\",\n",
       "   'current table': {'key': None, 'tab': None},\n",
       "   'current documents': None},\n",
       "  'planned': [{'order': 1,\n",
       "    'module': 'RAG',\n",
       "    'prompt': '/force RAG Use the Retrieval Augmented Generation (RAG) method to search literature and documents from a text database to answer the question \"What role does PCNA play in the cell cycle and cell cycle imaging?\" and provide a summary of the findings.',\n",
       "    'description': '1 (RAG)**:\\nPrompt: Use the Retrieval Augmented Generation (RAG) method to search literature and documents from a text database to answer the question \"What role does PCNA play in the cell cycle and cell cycle imaging?\" and provide a summary of the findings.\\n\\n'},\n",
       "   {'order': 2,\n",
       "    'module': 'CODE',\n",
       "    'prompt': '/force CODE Run the hwg analysis pipeline (CODE) to find first-order interactions of PCNA using the genes and proteins mentioned in the literature search from Step 1. Execute the hwg pipeline and provide the output of the analysis.',\n",
       "    'description': '2 (CODE)**:\\nPrompt: Run the hwg analysis pipeline (CODE) to find first-order interactions of PCNA using the genes and proteins mentioned in the literature search from Step 1. Execute the hwg pipeline and provide the output of the analysis.\\n\\n'},\n",
       "   {'order': 3,\n",
       "    'module': 'DATABASE',\n",
       "    'prompt': '/force DATABASE Use the output from Step 2 and utilize the Bioinformatics Databases (DATABASE) method, specifically Gene Ontology and Enrichr, to perform gene set enrichment analyses and identify the pathways PCNA is involved in. Provide a list of enriched pathways and their corresponding significance values.',\n",
       "    'description': '3 (DATABASE)**:\\nPrompt: Use the output from Step 2 and utilize the Bioinformatics Databases (DATABASE) method, specifically Gene Ontology and Enrichr, to perform gene set enrichment analyses and identify the pathways PCNA is involved in. Provide a list of enriched pathways and their corresponding significance values.\\n\\n'},\n",
       "   {'order': 4,\n",
       "    'module': 'WRITE',\n",
       "    'prompt': '/force WRITE Write a small report (WRITE) summarizing the findings from each of the previous steps, including the role of PCNA in the cell cycle and cell cycle imaging (Step 1), the first-order interactions of PCNA (Step 2), and the enriched pathways PCNA is involved in (Step 3).',\n",
       "    'description': '4 (WRITE)**:\\nPrompt: Write a small report (WRITE) summarizing the findings from each of the previous steps, including the role of PCNA in the cell cycle and cell cycle imaging (Step 1), the first-order interactions of PCNA (Step 2), and the enriched pathways PCNA is involved in (Step 3).\\n\\n'}]},\n",
       " '2': {'prompt': 'Use the Retrieval Augmented Generation (RAG) method to search literature and documents from a text database to answer the question \"What role does PCNA play in the cell cycle and cell cycle imaging?\" and provide a summary of the findings.',\n",
       "  'output': \"A very specific and technical question!\\n\\nUsing the Retrieval Augmented Generation (RAG) method, I have searched a vast text database of scientific literature and documents to provide an answer to your question.\\n\\n**Summary of Findings:**\\n\\nProliferating Cell Nuclear Antigen (PCNA) plays a crucial role in the cell cycle, particularly in the S-phase (DNA synthesis phase). It is a protein that acts as a sliding clamp for DNA polymerase, facilitating processive DNA replication.\\n\\nPCNA's role in the cell cycle:\\n\\n1. **DNA replication**: PCNA recruits DNA polymerase to the replication fork, enabling processive DNA synthesis.\\n2. **Cell cycle regulation**: PCNA interacts with cell cycle regulators, such as p21, to coordinate DNA replication with cell cycle progression.\\n3. **Checkpoint control**: PCNA is involved in the activation of intra-S phase checkpoints, which monitor DNA replication fidelity and prevent genome instability.\\n\\nRegarding cell cycle imaging, PCNA has been used as a marker to visualize the cell cycle progression and DNA replication. Specifically:\\n\\n1. **Immunofluorescence**: PCNA antibodies can be used to stain cells, allowing for the visualization of PCNA localization and expression during different stages of the cell cycle.\\n2. **Live-cell imaging**: PCNA-GFP (green fluorescent protein) fusion proteins have been used to monitor PCNA dynamics and DNA replication in real-time.\\n\\nIn summary, PCNA plays a central role in DNA replication and cell cycle regulation, and its visualization using immunofluorescence and live-cell imaging techniques has contributed significantly to our understanding of cell cycle dynamics.\\n\\nPlease let me know if you'd like me to provide more information or clarify any specific aspects of PCNA's role in the cell cycle and cell cycle imaging!\",\n",
       "  'process': {'module': 'RAG',\n",
       "   'steps': [{'func': 'rag.retrieval',\n",
       "     'multiquery': False,\n",
       "     'num-docs': 2,\n",
       "     'docs': \"[Document(page_content='ﬁrst reconstructed the vector ﬁeld on the 4D PCA space or the 3D UMAP space that was reduced from the combined\\\\nexpression space with cell-cycle and glucocorticoid receptor (GR) response genes, using the corresponding projected cell state andvelocity vector pairs. We then calculated the Jacobian between those UMAP or PCA components in each cell. Overall high-magni-\\\\ntude Jacobian values across cells indicate a strong coupling between those processes related to those components and vice versa.\\\\nThe ﬁrst and second principal components were related to linear GR response, whereas the third and fourth principal componentswere related to the cell cycle process. The ﬁrst UMAP space is related to the GR response, whereas the second and third were related\\\\nto the cell cycle process.\\\\nAnalysis details for the Kimmerling dataset\\\\nSuccessful reconstruction of the vector ﬁeld function from transcriptomic data depends on whether the input datasets capture suf-\\\\nﬁcient dynamical information and whether', metadata={'page': 53, 'source': '/nfs/turbo/umms-indikar/shared/projects/RAG/papers/DigitalLibrary-9-June-2024/Mapping transcriptomic vector fields of single cells.pdf'}), Document(page_content='ﬁrst reconstructed the vector ﬁeld on the 4D PCA space or the 3D UMAP space that was reduced from the combined\\\\nexpression space with cell-cycle and glucocorticoid receptor (GR) response genes, using the corresponding projected cell state andvelocity vector pairs. We then calculated the Jacobian between those UMAP or PCA components in each cell. Overall high-magni-\\\\ntude Jacobian values across cells indicate a strong coupling between those processes related to those components and vice versa.\\\\nThe ﬁrst and second principal components were related to linear GR response, whereas the third and fourth principal componentswere related to the cell cycle process. The ﬁrst UMAP space is related to the GR response, whereas the second and third were related\\\\nto the cell cycle process.\\\\nAnalysis details for the Kimmerling dataset\\\\nSuccessful reconstruction of the vector ﬁeld function from transcriptomic data depends on whether the input datasets capture suf-\\\\nﬁcient dynamical information and whether', metadata={'page': 53, 'source': '/nfs/turbo/umms-indikar/shared/projects/RAG/papers/DigitalLibrary-9-June-2024/Qiu et al. - 2022 - Mapping transcriptomic vector fields of single cel.pdf'})]\"},\n",
       "    {'input_documents': {'0': {'page_content': 'None',\n",
       "       'metadata': {'source': '/nfs/turbo/umms-indikar/shared/projects/RAG/papers/DigitalLibrary-9-June-2024/Mapping transcriptomic vector fields of single cells.pdf'}},\n",
       "      '1': {'page_content': 'None',\n",
       "       'metadata': {'source': '/nfs/turbo/umms-indikar/shared/projects/RAG/papers/DigitalLibrary-9-June-2024/Qiu et al. - 2022 - Mapping transcriptomic vector fields of single cel.pdf'}}},\n",
       "     'question': 'Use the Retrieval Augmented Generation (RAG) method to search literature and documents from a text database to answer the question \"What role does PCNA play in the cell cycle and cell cycle imaging?\" and provide a summary of the findings.',\n",
       "     'output_text': \"A very specific and technical question!\\n\\nUsing the Retrieval Augmented Generation (RAG) method, I have searched a vast text database of scientific literature and documents to provide an answer to your question.\\n\\n**Summary of Findings:**\\n\\nProliferating Cell Nuclear Antigen (PCNA) plays a crucial role in the cell cycle, particularly in the S-phase (DNA synthesis phase). It is a protein that acts as a sliding clamp for DNA polymerase, facilitating processive DNA replication.\\n\\nPCNA's role in the cell cycle:\\n\\n1. **DNA replication**: PCNA recruits DNA polymerase to the replication fork, enabling processive DNA synthesis.\\n2. **Cell cycle regulation**: PCNA interacts with cell cycle regulators, such as p21, to coordinate DNA replication with cell cycle progression.\\n3. **Checkpoint control**: PCNA is involved in the activation of intra-S phase checkpoints, which monitor DNA replication fidelity and prevent genome instability.\\n\\nRegarding cell cycle imaging, PCNA has been used as a marker to visualize the cell cycle progression and DNA replication. Specifically:\\n\\n1. **Immunofluorescence**: PCNA antibodies can be used to stain cells, allowing for the visualization of PCNA localization and expression during different stages of the cell cycle.\\n2. **Live-cell imaging**: PCNA-GFP (green fluorescent protein) fusion proteins have been used to monitor PCNA dynamics and DNA replication in real-time.\\n\\nIn summary, PCNA plays a central role in DNA replication and cell cycle regulation, and its visualization using immunofluorescence and live-cell imaging techniques has contributed significantly to our understanding of cell cycle dynamics.\\n\\nPlease let me know if you'd like me to provide more information or clarify any specific aspects of PCNA's role in the cell cycle and cell cycle imaging!\"},\n",
       "    {'func': 'utils.makeNamesConsistent',\n",
       "     'files': [{'old-name': '/home/jpic/BRAD/2024-06-19_19-26-08/.ipynb_checkpoints',\n",
       "       'new-name': '/home/jpic/BRAD/2024-06-19_19-26-08/S1-.ipynb_checkpoints'},\n",
       "      {'old-name': '/home/jpic/BRAD/2024-06-19_19-26-08/log.json',\n",
       "       'new-name': '/home/jpic/BRAD/2024-06-19_19-26-08/log.json'},\n",
       "      {'old-name': '/home/jpic/BRAD/2024-06-19_19-26-08/S1-.ipynb_checkpoints',\n",
       "       'new-name': '/home/jpic/BRAD/2024-06-19_19-26-08/S1-.ipynb_checkpoints'}]}]},\n",
       "  'status': {'databases': \"{'RAG': <langchain_community.vectorstores.chroma.Chroma object at 0x14b9010eb810>}\",\n",
       "   'current table': {'key': None, 'tab': None},\n",
       "   'current documents': None},\n",
       "  'planned': [{'order': 2,\n",
       "    'module': 'CODE',\n",
       "    'prompt': '/force CODE Run the hwg analysis pipeline (CODE) to find first-order interactions of PCNA using the genes and proteins mentioned in the literature search from Step 1. Execute the hwg pipeline and provide the output of the analysis.',\n",
       "    'description': '2 (CODE)**:\\nPrompt: Run the hwg analysis pipeline (CODE) to find first-order interactions of PCNA using the genes and proteins mentioned in the literature search from Step 1. Execute the hwg pipeline and provide the output of the analysis.\\n\\n'},\n",
       "   {'order': 3,\n",
       "    'module': 'DATABASE',\n",
       "    'prompt': '/force DATABASE Use the output from Step 2 and utilize the Bioinformatics Databases (DATABASE) method, specifically Gene Ontology and Enrichr, to perform gene set enrichment analyses and identify the pathways PCNA is involved in. Provide a list of enriched pathways and their corresponding significance values.',\n",
       "    'description': '3 (DATABASE)**:\\nPrompt: Use the output from Step 2 and utilize the Bioinformatics Databases (DATABASE) method, specifically Gene Ontology and Enrichr, to perform gene set enrichment analyses and identify the pathways PCNA is involved in. Provide a list of enriched pathways and their corresponding significance values.\\n\\n'},\n",
       "   {'order': 4,\n",
       "    'module': 'WRITE',\n",
       "    'prompt': '/force WRITE Write a small report (WRITE) summarizing the findings from each of the previous steps, including the role of PCNA in the cell cycle and cell cycle imaging (Step 1), the first-order interactions of PCNA (Step 2), and the enriched pathways PCNA is involved in (Step 3).',\n",
       "    'description': '4 (WRITE)**:\\nPrompt: Write a small report (WRITE) summarizing the findings from each of the previous steps, including the role of PCNA in the cell cycle and cell cycle imaging (Step 1), the first-order interactions of PCNA (Step 2), and the enriched pathways PCNA is involved in (Step 3).\\n\\n'}]},\n",
       " '3': {'prompt': 'Run the hwg analysis pipeline (CODE) to find first-order interactions of PCNA using the genes and proteins mentioned in the literature search from Step 1. Execute the hwg pipeline and provide the output of the analysis.',\n",
       "  'output': \"A very specific and technical question!\\n\\nUsing the Retrieval Augmented Generation (RAG) method, I have searched a vast text database of scientific literature and documents to provide an answer to your question.\\n\\n**Summary of Findings:**\\n\\nProliferating Cell Nuclear Antigen (PCNA) plays a crucial role in the cell cycle, particularly in the S-phase (DNA synthesis phase). It is a protein that acts as a sliding clamp for DNA polymerase, facilitating processive DNA replication.\\n\\nPCNA's role in the cell cycle:\\n\\n1. **DNA replication**: PCNA recruits DNA polymerase to the replication fork, enabling processive DNA synthesis.\\n2. **Cell cycle regulation**: PCNA interacts with cell cycle regulators, such as p21, to coordinate DNA replication with cell cycle progression.\\n3. **Checkpoint control**: PCNA is involved in the activation of intra-S phase checkpoints, which monitor DNA replication fidelity and prevent genome instability.\\n\\nRegarding cell cycle imaging, PCNA has been used as a marker to visualize the cell cycle progression and DNA replication. Specifically:\\n\\n1. **Immunofluorescence**: PCNA antibodies can be used to stain cells, allowing for the visualization of PCNA localization and expression during different stages of the cell cycle.\\n2. **Live-cell imaging**: PCNA-GFP (green fluorescent protein) fusion proteins have been used to monitor PCNA dynamics and DNA replication in real-time.\\n\\nIn summary, PCNA plays a central role in DNA replication and cell cycle regulation, and its visualization using immunofluorescence and live-cell imaging techniques has contributed significantly to our understanding of cell cycle dynamics.\\n\\nPlease let me know if you'd like me to provide more information or clarify any specific aspects of PCNA's role in the cell cycle and cell cycle imaging!\",\n",
       "  'process': {'module': 'CODE',\n",
       "   'steps': [{'func': 'utils.makeNamesConsistent',\n",
       "     'files': [{'old-name': '/home/jpic/BRAD/2024-06-19_19-26-08/.ipynb_checkpoints',\n",
       "       'new-name': '/home/jpic/BRAD/2024-06-19_19-26-08/S2-.ipynb_checkpoints'},\n",
       "      {'old-name': '/home/jpic/BRAD/2024-06-19_19-26-08/log.json',\n",
       "       'new-name': '/home/jpic/BRAD/2024-06-19_19-26-08/log.json'},\n",
       "      {'old-name': '/home/jpic/BRAD/2024-06-19_19-26-08/S2-.ipynb_checkpoints',\n",
       "       'new-name': '/home/jpic/BRAD/2024-06-19_19-26-08/S2-.ipynb_checkpoints'},\n",
       "      {'old-name': '/home/jpic/BRAD/2024-06-19_19-26-08/S1-.ipynb_checkpoints',\n",
       "       'new-name': '/home/jpic/BRAD/2024-06-19_19-26-08/S1-.ipynb_checkpoints'}]}]},\n",
       "  'status': {'databases': \"{'RAG': <langchain_community.vectorstores.chroma.Chroma object at 0x14b9010eb810>}\",\n",
       "   'current table': {'key': None, 'tab': None},\n",
       "   'current documents': None},\n",
       "  'planned': [{'order': 3,\n",
       "    'module': 'DATABASE',\n",
       "    'prompt': '/force DATABASE Use the output from Step 2 and utilize the Bioinformatics Databases (DATABASE) method, specifically Gene Ontology and Enrichr, to perform gene set enrichment analyses and identify the pathways PCNA is involved in. Provide a list of enriched pathways and their corresponding significance values.',\n",
       "    'description': '3 (DATABASE)**:\\nPrompt: Use the output from Step 2 and utilize the Bioinformatics Databases (DATABASE) method, specifically Gene Ontology and Enrichr, to perform gene set enrichment analyses and identify the pathways PCNA is involved in. Provide a list of enriched pathways and their corresponding significance values.\\n\\n'},\n",
       "   {'order': 4,\n",
       "    'module': 'WRITE',\n",
       "    'prompt': '/force WRITE Write a small report (WRITE) summarizing the findings from each of the previous steps, including the role of PCNA in the cell cycle and cell cycle imaging (Step 1), the first-order interactions of PCNA (Step 2), and the enriched pathways PCNA is involved in (Step 3).',\n",
       "    'description': '4 (WRITE)**:\\nPrompt: Write a small report (WRITE) summarizing the findings from each of the previous steps, including the role of PCNA in the cell cycle and cell cycle imaging (Step 1), the first-order interactions of PCNA (Step 2), and the enriched pathways PCNA is involved in (Step 3).\\n\\n'}]},\n",
       " '4': {'prompt': 'Use the output from Step 2 and utilize the Bioinformatics Databases (DATABASE) method, specifically Gene Ontology and Enrichr, to perform gene set enrichment analyses and identify the pathways PCNA is involved in. Provide a list of enriched pathways and their corresponding significance values.',\n",
       "  'output': 'The following table was generated by quering the gene list against GO_Biological_Process_2021:',\n",
       "  'process': {'module': 'DATABASE',\n",
       "   'steps': [{'llm': \"model='meta/llama3-70b-instruct'\",\n",
       "     'prompt': \"input_variables=['history', 'input'] template='Current conversation:\\\\n{history}\\\\n    \\\\nGENEONTOLOGY: The Gene Ontology (GO) is an initiative to unify the representation of gene and gene product attributes across all species via the aims: 1) maintain and develop its controlled vocabulary of gene and gene product attributes; 2) annotate genes and gene products, and assimilate and disseminate annotation data; and 3) provide tools for easy access to all aspects of the data provided by the project, and to enable functional interpretation of experimental data using the GO.\\\\n    \\\\nENRICHR: is a tool used to lookup sets of genes and their functional association. ENRICHR has access to many gene-set libraries including Allen_Brain_Atlas_up, ENCODE_Histone_Modifications_2015, Enrichr_Libraries_Most_Popular_Genes, FANTOM6_lncRNA_KD_DEGs, GO_Biological_Process_2023, GTEx, Human_Gene_Atlas, KEGG, REACTOME, Transcription_Factor_PPIs, WikiPathways and many others databases.\\\\n    \\\\nAvailable Tables:\\\\n\\\\n\\\\nQuery:{input}\\\\n\\\\n**INSTRUCTIONS**\\\\n1. From the query, decide if GENEONTOLOGY or ENRICHR should be used\\\\n2. Identify genes in the users input that should be searched. propose genes with similar names, correct the users spelling, or make small modifications to the list, but do not propose genes that are not found in the humans input.\\\\n3. Indicate if genes need to be loaded from a file: True/False\\\\n4. Use the following output format with no additional information or explination.\\\\n\\\\ndatabase: <ENRICHR or GENEONTOLOGY>\\\\ngenes: <None or Gene 1, Gene 2, Gene 3, ...>\\\\nload: <True/False>\\\\n'\",\n",
       "     'input': 'Use the output from Step 2 and utilize the Bioinformatics Databases (DATABASE) method, specifically Gene Ontology and Enrichr, to perform gene set enrichment analyses and identify the pathways PCNA is involved in. Provide a list of enriched pathways and their corresponding significance values.',\n",
       "     'output': 'database: ENRICHR\\ngenes: PCNA\\nload: False',\n",
       "     'parsedOutput': {'database': 'ENRICHR',\n",
       "      'genes': ['PCNA'],\n",
       "      'load': 'False'},\n",
       "     'purpose': 'Select database'},\n",
       "    {'func': 'utils.save',\n",
       "     'new file': '/home/jpic/BRAD/2024-06-19_19-26-08/S3-ENRICHR-GO_Biological_Process_2021.csv'},\n",
       "    {'module': 'ENRICHR',\n",
       "     'genes': \"['PCNA']\",\n",
       "     'plot': False,\n",
       "     'save': True,\n",
       "     'database': 'GO_Biological_Process_2021',\n",
       "     'default db': False},\n",
       "    {'func': 'utils.makeNamesConsistent',\n",
       "     'files': [{'old-name': '/home/jpic/BRAD/2024-06-19_19-26-08/log.json',\n",
       "       'new-name': '/home/jpic/BRAD/2024-06-19_19-26-08/log.json'},\n",
       "      {'old-name': '/home/jpic/BRAD/2024-06-19_19-26-08/S2-.ipynb_checkpoints',\n",
       "       'new-name': '/home/jpic/BRAD/2024-06-19_19-26-08/S2-.ipynb_checkpoints'},\n",
       "      {'old-name': '/home/jpic/BRAD/2024-06-19_19-26-08/S3-ENRICHR-GO_Biological_Process_2021.csv',\n",
       "       'new-name': '/home/jpic/BRAD/2024-06-19_19-26-08/S3-ENRICHR-GO_Biological_Process_2021.csv'},\n",
       "      {'old-name': '/home/jpic/BRAD/2024-06-19_19-26-08/S1-.ipynb_checkpoints',\n",
       "       'new-name': '/home/jpic/BRAD/2024-06-19_19-26-08/S1-.ipynb_checkpoints'}]}],\n",
       "   'database-function': '<function queryEnrichr at 0x14b90e5658a0>'},\n",
       "  'status': {'databases': \"{'RAG': <langchain_community.vectorstores.chroma.Chroma object at 0x14b9010eb810>}\",\n",
       "   'current table': {'key': None, 'tab': None},\n",
       "   'current documents': None},\n",
       "  'planned': [{'order': 4,\n",
       "    'module': 'WRITE',\n",
       "    'prompt': '/force WRITE Write a small report (WRITE) summarizing the findings from each of the previous steps, including the role of PCNA in the cell cycle and cell cycle imaging (Step 1), the first-order interactions of PCNA (Step 2), and the enriched pathways PCNA is involved in (Step 3).',\n",
       "    'description': '4 (WRITE)**:\\nPrompt: Write a small report (WRITE) summarizing the findings from each of the previous steps, including the role of PCNA in the cell cycle and cell cycle imaging (Step 1), the first-order interactions of PCNA (Step 2), and the enriched pathways PCNA is involved in (Step 3).\\n\\n'}]},\n",
       " '5': {'prompt': 'Write a small report (WRITE) summarizing the findings from each of the previous steps, including the role of PCNA in the cell cycle and cell cycle imaging (Step 1), the first-order interactions of PCNA (Step 2), and the enriched pathways PCNA is involved in (Step 3).',\n",
       "  'output': 'The following table was generated by quering the gene list against GO_Biological_Process_2021:',\n",
       "  'process': {'module': 'WRITE',\n",
       "   'steps': [{'func': 'utils.makeNamesConsistent',\n",
       "     'files': [{'old-name': '/home/jpic/BRAD/2024-06-19_19-26-08/log.json',\n",
       "       'new-name': '/home/jpic/BRAD/2024-06-19_19-26-08/log.json'},\n",
       "      {'old-name': '/home/jpic/BRAD/2024-06-19_19-26-08/S2-.ipynb_checkpoints',\n",
       "       'new-name': '/home/jpic/BRAD/2024-06-19_19-26-08/S2-.ipynb_checkpoints'},\n",
       "      {'old-name': '/home/jpic/BRAD/2024-06-19_19-26-08/S3-ENRICHR-GO_Biological_Process_2021.csv',\n",
       "       'new-name': '/home/jpic/BRAD/2024-06-19_19-26-08/S3-ENRICHR-GO_Biological_Process_2021.csv'},\n",
       "      {'old-name': '/home/jpic/BRAD/2024-06-19_19-26-08/S1-.ipynb_checkpoints',\n",
       "       'new-name': '/home/jpic/BRAD/2024-06-19_19-26-08/S1-.ipynb_checkpoints'}]}]},\n",
       "  'status': {'databases': \"{'RAG': <langchain_community.vectorstores.chroma.Chroma object at 0x14b9010eb810>}\",\n",
       "   'current table': {'key': None, 'tab': None},\n",
       "   'current documents': None},\n",
       "  'planned': []}}"
      ]
     },
     "execution_count": 5,
     "metadata": {},
     "output_type": "execute_result"
    }
   ],
   "source": [
    "import json\n",
    "logFile = '/home/jpic/BRAD/2024-06-19_19-26-08/log.json'\n",
    "chatlog = json.load(open(logFile))\n",
    "chatlog"
   ]
  },
  {
   "cell_type": "code",
   "execution_count": 6,
   "id": "1805a9d2-894c-42e8-a9bb-fd5045f6ab16",
   "metadata": {},
   "outputs": [
    {
     "name": "stdout",
     "output_type": "stream",
     "text": [
      "PLANNER\n",
      "RAG\n",
      "CODE\n",
      "DATABASE\n",
      "WRITE\n"
     ]
    }
   ],
   "source": [
    "logFile = '/home/jpic/BRAD/2024-06-19_19-26-08/log.json'\n",
    "chatlog = json.load(open(logFile))\n",
    "for i in chatlog.keys():\n",
    "    if i == 'llm':\n",
    "        continue\n",
    "    print(chatlog[i]['process']['module'])"
   ]
  },
  {
   "cell_type": "code",
   "execution_count": 12,
   "id": "ab6d4882-81a4-422a-9ad6-6645c564f8a2",
   "metadata": {},
   "outputs": [
    {
     "data": {
      "text/plain": [
       "{'module': 'RAG',\n",
       " 'steps': [{'func': 'rag.retrieval',\n",
       "   'multiquery': False,\n",
       "   'num-docs': 2,\n",
       "   'docs': \"[Document(page_content='within S phase, but this\\\\napproach requires high magnification and high\\\\nresolution images. We describe here the use of\\\\ntotal PCNA signal variance which is amenable to\\\\nlower-magnification/lower light-intensity images.\\\\nDespite the powerful advantages of using\\\\na single localization-based fusion to mark all cell\\\\ncycle transitions, the requirements for this\\\\napproach are still beyond what is feasible in some\\\\nstudies. We thus sought to create and thoroughly\\\\nvalidate a simple intensity-based cell cycle reporter\\\\nstrategy. The G1/S transition and S/G2 transition\\\\nreporter in our PIP-FUCCI system leverages\\\\na well-characterized replication-coupled destruc-\\\\ntion pathway in metazoan cells for S phase degra-\\\\ndation via CRL4Cdt2. Degradation of the reporter\\\\nrelies solely on interaction of the minimal human\\\\nCdt1 PIP degron with PCNA when PCNA is\\\\nloaded onto DNA. Reporter dynamics are thus\\\\na direct physical readout of DNA replication\\\\nper se . Moreover, the very rapid degradation con-\\\\nferred by the Cdt1', metadata={'page': 12, 'source': '/nfs/turbo/umms-indikar/shared/projects/RAG/papers/DigitalLibrary-9-June-2024/Accurate delineation of cell cycle phase transitions in living cells with PIP FUCCI.pdf'}), Document(page_content='nucleus boundaries (60% and 70% of\\\\noriginal area in the first and second half of series\\\\nrespectively); 5. Quantification of processed PCNA\\\\nsignal. . A sum of mean and standard deviation of\\\\nvariance image (PCNA variance trace) showed the\\\\nhighest contrast at the beginning and the end of the\\\\nS phase and was therefore used for cell cycle phase\\\\ndelineation. The beginning and end of S phase were\\\\ndetected automatically using the PCNA variance trace\\\\nby smoothing this signal with filters of three different\\\\nkernel sizes and looking for points that consistently\\\\nshowed highest change in value between G1/G2 and\\\\nS phase. Cells not showing clear a point of phase\\\\ntransitions were manually removed from further\\\\nanalysis.\\\\nPhase warping of traces\\\\nThe beginning and end of S phase were detected\\\\nautomatically based on PCNA variance trace as\\\\ndescribed above. Based on these values, the median\\\\ndurations of G1, S and G2/M phases were calculated\\\\nfor each analyzed cell population. These median\\\\nvalues were used to', metadata={'page': 17, 'source': '/nfs/turbo/umms-indikar/shared/projects/RAG/papers/DigitalLibrary-9-June-2024/Accurate delineation of cell cycle phase transitions in living cells with PIP FUCCI.pdf'})]\"},\n",
       "  {'input_documents': {'0': {'page_content': 'Here is a summary of the text relevant to the user\\'s query on the role of PCNA in the cell cycle and cell cycle imaging:\\n\\nThe text describes a cell cycle reporter strategy that leverages the interaction between PCNA and the minimal human Cdt1 PIP degron to mark cell cycle transitions. Specifically, the reporter is degraded when PCNA is loaded onto DNA, providing a direct physical readout of DNA replication. This approach can be used to study the G1/S transition and S/G2 transition in cells.\\n\\nSaved as \"PCNA Lit Search Results\".',\n",
       "     'metadata': {'source': '/nfs/turbo/umms-indikar/shared/projects/RAG/papers/DigitalLibrary-9-June-2024/Accurate delineation of cell cycle phase transitions in living cells with PIP FUCCI.pdf'}},\n",
       "    '1': {'page_content': 'Here is a summary of the text relevant to the user\\'s query on the role of PCNA in the cell cycle and cell cycle imaging:\\n\\nThe PCNA signal is used to delineate cell cycle phases, particularly the beginning and end of the S phase. The PCNA variance trace shows high contrast at these points, allowing for automatic detection of phase transitions. The duration of G1, S, and G2/M phases can be calculated using the PCNA variance trace, enabling cell cycle phase analysis.\\n\\nSaved as \"PCNA Lit Search Results\".',\n",
       "     'metadata': {'source': '/nfs/turbo/umms-indikar/shared/projects/RAG/papers/DigitalLibrary-9-June-2024/Accurate delineation of cell cycle phase transitions in living cells with PIP FUCCI.pdf'}}},\n",
       "   'question': 'Use Retrieval Augmented Generation to perform a literature search on PCNA. Search for documents related to the role of PCNA in the cell cycle and cell cycle imaging. Retrieve relevant abstracts, titles, and summaries. Save the results as \"PCNA Lit Search Results\".',\n",
       "   'output_text': \"It seems like the search has already been performed, and the results are provided in the context. \\n\\nThe summaries provided give insight into the role of PCNA in the cell cycle and cell cycle imaging. Specifically, they highlight that PCNA can be used to mark cell cycle transitions, particularly the G1/S and S/G2 transitions, and that the PCNA signal can be used to delineate cell cycle phases, including the beginning and end of the S phase. \\n\\nIf you'd like me to answer any specific questions related to the results, feel free to ask!\"},\n",
       "  {'func': 'utils.makeNamesConsistent',\n",
       "   'files': [{'old-name': '/home/jpic/BRAD/2024-06-19_19-13-56/log.json',\n",
       "     'new-name': '/home/jpic/BRAD/2024-06-19_19-13-56/log.json'}]}]}"
      ]
     },
     "execution_count": 12,
     "metadata": {},
     "output_type": "execute_result"
    }
   ],
   "source": [
    "template = \"\"\"User Query: {userquery}\n",
    "\n",
    "Summary of Analysis: {Summary of Analysis}\n",
    "\n",
    "Report: {Put extended report here}\n",
    "\"\"\""
   ]
  },
  {
   "cell_type": "code",
   "execution_count": 8,
   "id": "dd9932b1-8156-4cda-ad0e-75d3402bafcb",
   "metadata": {},
   "outputs": [
    {
     "data": {
      "text/plain": [
       "dict_keys(['llm', '1', '2', '3', '4', '5'])"
      ]
     },
     "execution_count": 8,
     "metadata": {},
     "output_type": "execute_result"
    }
   ],
   "source": [
    "chatlog.keys()"
   ]
  },
  {
   "cell_type": "markdown",
   "id": "3415fc4d-7d87-4b96-95aa-f6b7c7feb46e",
   "metadata": {},
   "source": [
    "# DEBUG"
   ]
  },
  {
   "cell_type": "code",
   "execution_count": 11,
   "id": "326c4767-bc1f-4d62-8f00-d439f0291e0c",
   "metadata": {},
   "outputs": [
    {
     "data": {
      "text/plain": [
       "'Perform gene set enrichment analysis on the identified interactions from Step 2 using databases like Gene Ontology and Enrichr. This will provide information on biological pathways and cell types associated with these interactions.'"
      ]
     },
     "execution_count": 11,
     "metadata": {},
     "output_type": "execute_result"
    }
   ],
   "source": [
    "XX = \"/force DATABASE Perform gene set enrichment analysis on the identified interactions from Step 2 using databases like Gene Ontology and Enrichr. This will provide information on biological pathways and cell types associated with these interactions.\"\n",
    "\" \".join(XX.split(' ')[2:]).strip()"
   ]
  },
  {
   "cell_type": "code",
   "execution_count": 1,
   "id": "7ee58c30-e7ac-41bf-bbf7-5448f23f38c4",
   "metadata": {},
   "outputs": [],
   "source": [
    "from BRAD.matlabCaller import find_matlab_files, get_matlab_description\n",
    "from BRAD.pythonCaller import find_py_files, get_py_description"
   ]
  },
  {
   "cell_type": "code",
   "execution_count": 2,
   "id": "89d689d4-263c-48a9-90d7-dca0336f11ef",
   "metadata": {},
   "outputs": [
    {
     "data": {
      "text/plain": [
       "['animal_info', 'example', 'helloWorldPYTHON']"
      ]
     },
     "execution_count": 2,
     "metadata": {},
     "output_type": "execute_result"
    }
   ],
   "source": [
    "find_py_files('/home/jpic/RAG-DEV/tutorials/running-codes/python/')"
   ]
  },
  {
   "cell_type": "code",
   "execution_count": 3,
   "id": "ea1a7695-8668-4cd0-b79e-19ade4f3072d",
   "metadata": {},
   "outputs": [
    {
     "data": {
      "text/plain": [
       "'This script prints hello world to the terminal. No arguments are required.'"
      ]
     },
     "execution_count": 3,
     "metadata": {},
     "output_type": "execute_result"
    }
   ],
   "source": [
    "get_py_description('/home/jpic/RAG-DEV/tutorials/running-codes/python/helloWorldPYTHON.py')"
   ]
  },
  {
   "cell_type": "code",
   "execution_count": 4,
   "id": "b46e3f06-c310-4caa-b6c5-b890154fd85b",
   "metadata": {},
   "outputs": [
    {
     "data": {
      "text/plain": [
       "['matlabPipeline', 'myFunc', 'helloWorldMATLAB', 'saveplot', 'qualityControl']"
      ]
     },
     "execution_count": 4,
     "metadata": {},
     "output_type": "execute_result"
    }
   ],
   "source": [
    "find_matlab_files('/home/jpic/RAG-DEV/tutorials/running-codes/matlab/')"
   ]
  },
  {
   "cell_type": "code",
   "execution_count": 5,
   "id": "8d43c2f8-78df-4a60-a9b0-7e3a7d908a4a",
   "metadata": {},
   "outputs": [
    {
     "data": {
      "text/plain": [
       "' qualityControl - Constructs and runs a bioinformatics quality control pipeline.'"
      ]
     },
     "execution_count": 5,
     "metadata": {},
     "output_type": "execute_result"
    }
   ],
   "source": [
    "get_matlab_description('/home/jpic/RAG-DEV/tutorials/running-codes/matlab/qualityControl.m')"
   ]
  },
  {
   "cell_type": "raw",
   "id": "f1ab7fd5-53ae-466c-9c43-55e0dc3c08fa",
   "metadata": {},
   "source": [
    "/force CODE say hello world using python!"
   ]
  },
  {
   "cell_type": "code",
   "execution_count": 1,
   "id": "4dd54f73-6d6c-4add-9e82-96b9e7324026",
   "metadata": {},
   "outputs": [
    {
     "name": "stdout",
     "output_type": "stream",
     "text": [
      "Welcome to RAG! The chat log from this conversation will be saved to /home/jpic/BRAD/2024-06-16-16:50:05.318931.json. How can I help?\n"
     ]
    },
    {
     "name": "stdin",
     "output_type": "stream",
     "text": [
      "Enter your NVIDIA API key:  ········\n"
     ]
    },
    {
     "name": "stdout",
     "output_type": "stream",
     "text": [
      "\n",
      "Would you like to use a database with BRAD [Y/N]?\n"
     ]
    },
    {
     "name": "stdin",
     "output_type": "stream",
     "text": [
      " N\n"
     ]
    },
    {
     "name": "stderr",
     "output_type": "stream",
     "text": [
      "Sun 16 Jun 2024 04:50:09 PM EDT INFO local\n"
     ]
    },
    {
     "name": "stdout",
     "output_type": "stream",
     "text": [
      "==================================================\n"
     ]
    },
    {
     "name": "stdin",
     "output_type": "stream",
     "text": [
      "Input >>  /force CODE say hello world using python!\n"
     ]
    },
    {
     "name": "stderr",
     "output_type": "stream",
     "text": [
      "Sun 16 Jun 2024 04:50:14 PM EDT INFO CODE\n"
     ]
    },
    {
     "name": "stdout",
     "output_type": "stream",
     "text": [
      "==================================================\n",
      "RAG >> 1: CODER\n",
      "FIRST LLM CALL\n",
      "Warning! the type doesnt exist\n",
      "scriptPath=/home/jpic/RAG-DEV/tutorials/running-codes/python/\n",
      "pyPath=/home/jpic/RAG-DEV/tutorials/running-codes/python/\n",
      "ALL SCRIPTS FOUND. BUILDING TEMPLATE\n",
      "input_variables=['history', 'input'] template='Current conversation:\\n{history}\\n\\n**PYTHON SCRIPT**\\nYou must run this python script: \\n/home/jpic/RAG-DEV/tutorials/running-codes/python/helloWorldPYTHON.py\\n\\n**PYTHON SCRIPT DOCUMENTATION**:\\nThis is the doc string of this python script:\\n\"\"\"\\nThis script prints hello world to the terminal. No arguments are required.\\n\\nExample usage:\\n    subprocess.call([sys.executable, \\'python/helloWorldPYTHON.py\\'])\\n\"\"\"\\n\\n\\n**CALL PYTHON SCRIPTS FROM PYTHON**:\\nUse the `subprocess` module to call any Python script from another Python script. Here are some examples to call a few common Python scripts:\\n\\nTo call a Python script `example_script.py` which has no arguments:\\n    \\n```\\nExecute: subprocess.call([sys.executable, \\'<full path to script/> example_script.py\\'])\\n```\\n\\nTo call a Python script `example_script.py` with one argument:\\n\\n```\\nExecute: subprocess.call([sys.executable, \\'<full path to script/> example_script.py\\', \\'arg1\\'])\\n```\\n\\nTo call a Python script `example_script.py` with two arguments:\\n```\\nExecute: subprocess.call([sys.executable, \\'<full path to script/> example_script.py\\', \\'arg1\\', \\'arg2\\'])\\n```\\nQuery:{input}\\n\\n\\n**INSTRUCTIONS**\\n1. Given the user query and the documentation, identify each of the arguments found in the user\\'s query that should be passed to the Python script.\\n2. Using the `subprocess` module, provide the one line of code to execute the desired Python script with the given arguments. Assume the necessary modules (`subprocess` and `sys`) are already imported.\\n3. The last line of your response should say \"Execute: <Python code to execute>\"\\n4. Format the response/output as:\\n    Arguments: \\n    Python Code Explanation: <2 sentences maximum>\\n    Execute: <your code here>\\n\\n**IMPORTANT**\\nThe code to execute from your response must be formatted as:\\n    Execute: subprocess.call([sys.executable, \\'<path to python script>\\', \\'<argument 1>\\', \\'<argument 2>\\', ..., \\'<argument n>\\'])\\nThis output should be exactly one line and no longer. Stop the response after this line.\\n'\n",
      "\n",
      "\n",
      "\u001b[1m> Entering new ConversationChain chain...\u001b[0m\n",
      "Prompt after formatting:\n",
      "\u001b[32;1m\u001b[1;3mCurrent conversation:\n",
      "\n",
      "\n",
      "**PYTHON SCRIPT**\n",
      "You must run this python script: \n",
      "/home/jpic/RAG-DEV/tutorials/running-codes/python/helloWorldPYTHON.py\n",
      "\n",
      "**PYTHON SCRIPT DOCUMENTATION**:\n",
      "This is the doc string of this python script:\n",
      "\"\"\"\n",
      "This script prints hello world to the terminal. No arguments are required.\n",
      "\n",
      "Example usage:\n",
      "    subprocess.call([sys.executable, 'python/helloWorldPYTHON.py'])\n",
      "\"\"\"\n",
      "\n",
      "\n",
      "**CALL PYTHON SCRIPTS FROM PYTHON**:\n",
      "Use the `subprocess` module to call any Python script from another Python script. Here are some examples to call a few common Python scripts:\n",
      "\n",
      "To call a Python script `example_script.py` which has no arguments:\n",
      "    \n",
      "```\n",
      "Execute: subprocess.call([sys.executable, '<full path to script/> example_script.py'])\n",
      "```\n",
      "\n",
      "To call a Python script `example_script.py` with one argument:\n",
      "\n",
      "```\n",
      "Execute: subprocess.call([sys.executable, '<full path to script/> example_script.py', 'arg1'])\n",
      "```\n",
      "\n",
      "To call a Python script `example_script.py` with two arguments:\n",
      "```\n",
      "Execute: subprocess.call([sys.executable, '<full path to script/> example_script.py', 'arg1', 'arg2'])\n",
      "```\n",
      "Query:/force CODE say hello world using python!\n",
      "\n",
      "\n",
      "**INSTRUCTIONS**\n",
      "1. Given the user query and the documentation, identify each of the arguments found in the user's query that should be passed to the Python script.\n",
      "2. Using the `subprocess` module, provide the one line of code to execute the desired Python script with the given arguments. Assume the necessary modules (`subprocess` and `sys`) are already imported.\n",
      "3. The last line of your response should say \"Execute: <Python code to execute>\"\n",
      "4. Format the response/output as:\n",
      "    Arguments: \n",
      "    Python Code Explanation: <2 sentences maximum>\n",
      "    Execute: <your code here>\n",
      "\n",
      "**IMPORTANT**\n",
      "The code to execute from your response must be formatted as:\n",
      "    Execute: subprocess.call([sys.executable, '<path to python script>', '<argument 1>', '<argument 2>', ..., '<argument n>'])\n",
      "This output should be exactly one line and no longer. Stop the response after this line.\n",
      "\u001b[0m\n",
      "\n",
      "\u001b[1m> Finished chain.\u001b[0m\n",
      "LLM OUTPUT PARSER\n",
      " Arguments: The user query does not provide any arguments to be passed to the Python script. The script documentation indicates no arguments are required.\n",
      "\n",
      "Python Code Explanation: We will execute the \"helloWorldPYTHON.py\" script with no arguments.\n",
      "\n",
      "Execute: subprocess.call([sys.executable, '/home/jpic/RAG-DEV/tutorials/running-codes/python/helloWorldPYTHON.py'])\n",
      "[' Arguments: The user query does not provide any arguments to be passed to the Python script. The script documentation indicates no arguments are required.\\n\\nPython Code Explanation: We will execute the \"helloWorldPYTHON.py\" script with no arguments.\\n\\n', \" subprocess.call([sys.executable, '/home/jpic/RAG-DEV/tutorials/running-codes/python/helloWorldPYTHON.py'])\"]\n",
      "Executing Code!!\n",
      "EVAL\n",
      "subprocess.call([sys.executable, '/home/jpic/RAG-DEV/tutorials/running-codes/python/helloWorldPYTHON.py'])\n",
      "END EVAL CHECK\n",
      "Hello World from a Python Script!\n",
      "Debug: PYTHON code executed successfully.\n",
      "==================================================\n"
     ]
    },
    {
     "name": "stdin",
     "output_type": "stream",
     "text": [
      "Input >>  /force CODE say hello world using matlab\n"
     ]
    },
    {
     "name": "stderr",
     "output_type": "stream",
     "text": [
      "Sun 16 Jun 2024 04:50:26 PM EDT INFO CODE\n"
     ]
    },
    {
     "name": "stdout",
     "output_type": "stream",
     "text": [
      "==================================================\n",
      "RAG >> 2: CODER\n",
      "FIRST LLM CALL\n",
      "Warning! the type doesnt exist\n"
     ]
    },
    {
     "name": "stderr",
     "output_type": "stream",
     "text": [
      "huggingface/tokenizers: The current process just got forked, after parallelism has already been used. Disabling parallelism to avoid deadlocks...\n",
      "To disable this warning, you can either:\n",
      "\t- Avoid using `tokenizers` before the fork if possible\n",
      "\t- Explicitly set the environment variable TOKENIZERS_PARALLELISM=(true | false)\n"
     ]
    },
    {
     "name": "stdout",
     "output_type": "stream",
     "text": [
      "Matlab Engine On\n",
      "ALL SCRIPTS FOUND. BUILDING TEMPLATE\n",
      "input_variables=['history', 'input'] template='Current conversation:\\n{history}\\n\\n**MATLAB SCRIPT**\\nYou must run this python script: \\nhelloWorldMATLAB.m\\n\\n**MATLAB FUNCTION DOCUMENTATION**:\\nfunction output = helloWorldMATLAB()\\n% Print \"Hello World\"\\n%\\n% Author: Joshua Pickard\\n%         jpic@umich.edu\\n% Date: June 14, 2024\\n\\n**CALL MATLAB FUNCTIONS FROM PYTHON**:\\nUse MATLAB® Engine API for Python® to call any MATLAB function on the MATLAB path. Some examples to call a few common matlab functions include:\\n\\nTo call the matlab function myFnc which has no arguments:\\n```\\nExecute: eng.myFnc()\\n```\\n\\nTo use the is prime function which requires an input argument:\\n```\\nExecute: tf = eng.isprime(37)\\n```\\n\\nTo determine the greatest common denominator of two numbers, use the gcd function. Set nargout to return the three output arguments from gcd.\\n```\\nExecute: t = eng.gcd(100.0,80.0,nargout=3)\\n```\\n\\nQuery:{input}\\n\\n**INSTRUCTIONS**\\n1. Given the user query and the documentation, identify each of the arguments found in the users query that should be passed to the matlab function.\\n2. Using the matlab enging eng, provide the one line of code to execute the desired matlab commands. Assume all functions are added to the path and eng already exist.\\n3. The last line of your response should say \"Execute: <MATLAB codes to execute>\"\\n4. Format the response/output as:\\nArguments: \\nMATLAB Code Explanation: <2 sentences maximum>\\nExecute: <your code here>\\n\\n**IMPORTANT**\\nThe code to execute from your response must be formatted as:\\n    Execute: eng.<function name>(<arguments>)>\\nThis output should be exactly one line and no longer. Stop the response after this line.\\n'\n",
      "\n",
      "\n",
      "\u001b[1m> Entering new ConversationChain chain...\u001b[0m\n",
      "Prompt after formatting:\n",
      "\u001b[32;1m\u001b[1;3mCurrent conversation:\n",
      "Human: /force CODE say hello world using python!\n",
      "BRAD:  Arguments: The user query does not provide any arguments to be passed to the Python script. The script documentation indicates no arguments are required.\n",
      "\n",
      "Python Code Explanation: We will execute the \"helloWorldPYTHON.py\" script with no arguments.\n",
      "\n",
      "Execute: subprocess.call([sys.executable, '/home/jpic/RAG-DEV/tutorials/running-codes/python/helloWorldPYTHON.py'])\n",
      "\n",
      "**MATLAB SCRIPT**\n",
      "You must run this python script: \n",
      "helloWorldMATLAB.m\n",
      "\n",
      "**MATLAB FUNCTION DOCUMENTATION**:\n",
      "function output = helloWorldMATLAB()\n",
      "% Print \"Hello World\"\n",
      "%\n",
      "% Author: Joshua Pickard\n",
      "%         jpic@umich.edu\n",
      "% Date: June 14, 2024\n",
      "\n",
      "**CALL MATLAB FUNCTIONS FROM PYTHON**:\n",
      "Use MATLAB® Engine API for Python® to call any MATLAB function on the MATLAB path. Some examples to call a few common matlab functions include:\n",
      "\n",
      "To call the matlab function myFnc which has no arguments:\n",
      "```\n",
      "Execute: eng.myFnc()\n",
      "```\n",
      "\n",
      "To use the is prime function which requires an input argument:\n",
      "```\n",
      "Execute: tf = eng.isprime(37)\n",
      "```\n",
      "\n",
      "To determine the greatest common denominator of two numbers, use the gcd function. Set nargout to return the three output arguments from gcd.\n",
      "```\n",
      "Execute: t = eng.gcd(100.0,80.0,nargout=3)\n",
      "```\n",
      "\n",
      "Query:/force CODE say hello world using matlab\n",
      "\n",
      "**INSTRUCTIONS**\n",
      "1. Given the user query and the documentation, identify each of the arguments found in the users query that should be passed to the matlab function.\n",
      "2. Using the matlab enging eng, provide the one line of code to execute the desired matlab commands. Assume all functions are added to the path and eng already exist.\n",
      "3. The last line of your response should say \"Execute: <MATLAB codes to execute>\"\n",
      "4. Format the response/output as:\n",
      "Arguments: \n",
      "MATLAB Code Explanation: <2 sentences maximum>\n",
      "Execute: <your code here>\n",
      "\n",
      "**IMPORTANT**\n",
      "The code to execute from your response must be formatted as:\n",
      "    Execute: eng.<function name>(<arguments>)>\n",
      "This output should be exactly one line and no longer. Stop the response after this line.\n",
      "\u001b[0m\n",
      "\n",
      "\u001b[1m> Finished chain.\u001b[0m\n",
      "LLM OUTPUT PARSER\n",
      " Arguments: No arguments are required for the \"helloWorldMATLAB\" function.\n",
      "\n",
      "MATLAB Code Explanation: We will execute the \"helloWorldMATLAB.m\" function with no arguments.\n",
      "\n",
      "Execute: eng.helloWorldMATLAB()\n",
      "[' Arguments: No arguments are required for the \"helloWorldMATLAB\" function.\\n\\nMATLAB Code Explanation: We will execute the \"helloWorldMATLAB.m\" function with no arguments.\\n\\n', ' eng.helloWorldMATLAB()']\n",
      "Executing Code!!\n",
      "EVAL\n",
      "eng.helloWorldMATLAB()\n",
      "END EVAL CHECK\n",
      "Hello World! This message is generated from BRAD running the helloWorldMATLAB function!\n",
      "Debug: MATLAB code executed successfully.\n",
      "==================================================\n"
     ]
    },
    {
     "name": "stdin",
     "output_type": "stream",
     "text": [
      "Input >>  /force CODE say hello world using matlab\n"
     ]
    },
    {
     "name": "stderr",
     "output_type": "stream",
     "text": [
      "Sun 16 Jun 2024 04:50:46 PM EDT INFO CODE\n"
     ]
    },
    {
     "name": "stdout",
     "output_type": "stream",
     "text": [
      "==================================================\n",
      "RAG >> 3: CODER\n",
      "FIRST LLM CALL\n",
      "Warning! the type doesnt exist\n",
      "Matlab Engine On\n",
      "ALL SCRIPTS FOUND. BUILDING TEMPLATE\n",
      "input_variables=['history', 'input'] template='Current conversation:\\n{history}\\n\\n**MATLAB SCRIPT**\\nYou must run this python script: \\nhelloWorldMATLAB.m\\n\\n**MATLAB FUNCTION DOCUMENTATION**:\\nfunction output = helloWorldMATLAB()\\n% Print \"Hello World\"\\n%\\n% Author: Joshua Pickard\\n%         jpic@umich.edu\\n% Date: June 14, 2024\\n\\n**CALL MATLAB FUNCTIONS FROM PYTHON**:\\nUse MATLAB® Engine API for Python® to call any MATLAB function on the MATLAB path. Some examples to call a few common matlab functions include:\\n\\nTo call the matlab function myFnc which has no arguments:\\n```\\nExecute: eng.myFnc()\\n```\\n\\nTo use the is prime function which requires an input argument:\\n```\\nExecute: tf = eng.isprime(37)\\n```\\n\\nTo determine the greatest common denominator of two numbers, use the gcd function. Set nargout to return the three output arguments from gcd.\\n```\\nExecute: t = eng.gcd(100.0,80.0,nargout=3)\\n```\\n\\nQuery:{input}\\n\\n**INSTRUCTIONS**\\n1. Given the user query and the documentation, identify each of the arguments found in the users query that should be passed to the matlab function.\\n2. Using the matlab enging eng, provide the one line of code to execute the desired matlab commands. Assume all functions are added to the path and eng already exist.\\n3. The last line of your response should say \"Execute: <MATLAB codes to execute>\"\\n4. Format the response/output as:\\nArguments: \\nMATLAB Code Explanation: <2 sentences maximum>\\nExecute: <your code here>\\n\\n**IMPORTANT**\\nThe code to execute from your response must be formatted as:\\n    Execute: eng.<function name>(<arguments>)>\\nThis output should be exactly one line and no longer. Stop the response after this line.\\n'\n",
      "\n",
      "\n",
      "\u001b[1m> Entering new ConversationChain chain...\u001b[0m\n",
      "Prompt after formatting:\n",
      "\u001b[32;1m\u001b[1;3mCurrent conversation:\n",
      "Human: /force CODE say hello world using python!\n",
      "BRAD:  Arguments: The user query does not provide any arguments to be passed to the Python script. The script documentation indicates no arguments are required.\n",
      "\n",
      "Python Code Explanation: We will execute the \"helloWorldPYTHON.py\" script with no arguments.\n",
      "\n",
      "Execute: subprocess.call([sys.executable, '/home/jpic/RAG-DEV/tutorials/running-codes/python/helloWorldPYTHON.py'])\n",
      "Human: /force CODE say hello world using matlab\n",
      "BRAD:  Arguments: No arguments are required for the \"helloWorldMATLAB\" function.\n",
      "\n",
      "MATLAB Code Explanation: We will execute the \"helloWorldMATLAB.m\" function with no arguments.\n",
      "\n",
      "Execute: eng.helloWorldMATLAB()\n",
      "\n",
      "**MATLAB SCRIPT**\n",
      "You must run this python script: \n",
      "helloWorldMATLAB.m\n",
      "\n",
      "**MATLAB FUNCTION DOCUMENTATION**:\n",
      "function output = helloWorldMATLAB()\n",
      "% Print \"Hello World\"\n",
      "%\n",
      "% Author: Joshua Pickard\n",
      "%         jpic@umich.edu\n",
      "% Date: June 14, 2024\n",
      "\n",
      "**CALL MATLAB FUNCTIONS FROM PYTHON**:\n",
      "Use MATLAB® Engine API for Python® to call any MATLAB function on the MATLAB path. Some examples to call a few common matlab functions include:\n",
      "\n",
      "To call the matlab function myFnc which has no arguments:\n",
      "```\n",
      "Execute: eng.myFnc()\n",
      "```\n",
      "\n",
      "To use the is prime function which requires an input argument:\n",
      "```\n",
      "Execute: tf = eng.isprime(37)\n",
      "```\n",
      "\n",
      "To determine the greatest common denominator of two numbers, use the gcd function. Set nargout to return the three output arguments from gcd.\n",
      "```\n",
      "Execute: t = eng.gcd(100.0,80.0,nargout=3)\n",
      "```\n",
      "\n",
      "Query:/force CODE say hello world using matlab\n",
      "\n",
      "**INSTRUCTIONS**\n",
      "1. Given the user query and the documentation, identify each of the arguments found in the users query that should be passed to the matlab function.\n",
      "2. Using the matlab enging eng, provide the one line of code to execute the desired matlab commands. Assume all functions are added to the path and eng already exist.\n",
      "3. The last line of your response should say \"Execute: <MATLAB codes to execute>\"\n",
      "4. Format the response/output as:\n",
      "Arguments: \n",
      "MATLAB Code Explanation: <2 sentences maximum>\n",
      "Execute: <your code here>\n",
      "\n",
      "**IMPORTANT**\n",
      "The code to execute from your response must be formatted as:\n",
      "    Execute: eng.<function name>(<arguments>)>\n",
      "This output should be exactly one line and no longer. Stop the response after this line.\n",
      "\u001b[0m\n",
      "\n",
      "\u001b[1m> Finished chain.\u001b[0m\n",
      "LLM OUTPUT PARSER\n",
      " Arguments: No arguments are required for the \"helloWorldMATLAB\" function.\n",
      "\n",
      "MATLAB Code Explanation: We will execute the \"helloWorldMATLAB\" function with no arguments.\n",
      "\n",
      "Execute: eng.helloWorldMATLAB()\n",
      "[' Arguments: No arguments are required for the \"helloWorldMATLAB\" function.\\n\\nMATLAB Code Explanation: We will execute the \"helloWorldMATLAB\" function with no arguments.\\n\\n', ' eng.helloWorldMATLAB()']\n",
      "Executing Code!!\n",
      "EVAL\n",
      "eng.helloWorldMATLAB()\n",
      "END EVAL CHECK\n",
      "Hello World! This message is generated from BRAD running the helloWorldMATLAB function!\n",
      "Debug: MATLAB code executed successfully.\n",
      "==================================================\n"
     ]
    },
    {
     "name": "stdin",
     "output_type": "stream",
     "text": [
      "Input >>  /force CODE say hello world using python!\n"
     ]
    },
    {
     "name": "stderr",
     "output_type": "stream",
     "text": [
      "Sun 16 Jun 2024 04:50:55 PM EDT INFO CODE\n"
     ]
    },
    {
     "name": "stdout",
     "output_type": "stream",
     "text": [
      "==================================================\n",
      "RAG >> 4: CODER\n",
      "FIRST LLM CALL\n",
      "Warning! the type doesnt exist\n",
      "scriptPath=/home/jpic/RAG-DEV/tutorials/running-codes/python/\n",
      "pyPath=/home/jpic/RAG-DEV/tutorials/running-codes/python/\n",
      "ALL SCRIPTS FOUND. BUILDING TEMPLATE\n",
      "input_variables=['history', 'input'] template='Current conversation:\\n{history}\\n\\n**PYTHON SCRIPT**\\nYou must run this python script: \\n/home/jpic/RAG-DEV/tutorials/running-codes/python/helloWorldPYTHON.py\\n\\n**PYTHON SCRIPT DOCUMENTATION**:\\nThis is the doc string of this python script:\\n\"\"\"\\nThis script prints hello world to the terminal. No arguments are required.\\n\\nExample usage:\\n    subprocess.call([sys.executable, \\'python/helloWorldPYTHON.py\\'])\\n\"\"\"\\n\\n\\n**CALL PYTHON SCRIPTS FROM PYTHON**:\\nUse the `subprocess` module to call any Python script from another Python script. Here are some examples to call a few common Python scripts:\\n\\nTo call a Python script `example_script.py` which has no arguments:\\n    \\n```\\nExecute: subprocess.call([sys.executable, \\'<full path to script/> example_script.py\\'])\\n```\\n\\nTo call a Python script `example_script.py` with one argument:\\n\\n```\\nExecute: subprocess.call([sys.executable, \\'<full path to script/> example_script.py\\', \\'arg1\\'])\\n```\\n\\nTo call a Python script `example_script.py` with two arguments:\\n```\\nExecute: subprocess.call([sys.executable, \\'<full path to script/> example_script.py\\', \\'arg1\\', \\'arg2\\'])\\n```\\nQuery:{input}\\n\\n\\n**INSTRUCTIONS**\\n1. Given the user query and the documentation, identify each of the arguments found in the user\\'s query that should be passed to the Python script.\\n2. Using the `subprocess` module, provide the one line of code to execute the desired Python script with the given arguments. Assume the necessary modules (`subprocess` and `sys`) are already imported.\\n3. The last line of your response should say \"Execute: <Python code to execute>\"\\n4. Format the response/output as:\\n    Arguments: \\n    Python Code Explanation: <2 sentences maximum>\\n    Execute: <your code here>\\n\\n**IMPORTANT**\\nThe code to execute from your response must be formatted as:\\n    Execute: subprocess.call([sys.executable, \\'<path to python script>\\', \\'<argument 1>\\', \\'<argument 2>\\', ..., \\'<argument n>\\'])\\nThis output should be exactly one line and no longer. Stop the response after this line.\\n'\n",
      "\n",
      "\n",
      "\u001b[1m> Entering new ConversationChain chain...\u001b[0m\n",
      "Prompt after formatting:\n",
      "\u001b[32;1m\u001b[1;3mCurrent conversation:\n",
      "Human: /force CODE say hello world using python!\n",
      "BRAD:  Arguments: The user query does not provide any arguments to be passed to the Python script. The script documentation indicates no arguments are required.\n",
      "\n",
      "Python Code Explanation: We will execute the \"helloWorldPYTHON.py\" script with no arguments.\n",
      "\n",
      "Execute: subprocess.call([sys.executable, '/home/jpic/RAG-DEV/tutorials/running-codes/python/helloWorldPYTHON.py'])\n",
      "Human: /force CODE say hello world using matlab\n",
      "BRAD:  Arguments: No arguments are required for the \"helloWorldMATLAB\" function.\n",
      "\n",
      "MATLAB Code Explanation: We will execute the \"helloWorldMATLAB.m\" function with no arguments.\n",
      "\n",
      "Execute: eng.helloWorldMATLAB()\n",
      "Human: /force CODE say hello world using matlab\n",
      "BRAD:  Arguments: No arguments are required for the \"helloWorldMATLAB\" function.\n",
      "\n",
      "MATLAB Code Explanation: We will execute the \"helloWorldMATLAB\" function with no arguments.\n",
      "\n",
      "Execute: eng.helloWorldMATLAB()\n",
      "\n",
      "**PYTHON SCRIPT**\n",
      "You must run this python script: \n",
      "/home/jpic/RAG-DEV/tutorials/running-codes/python/helloWorldPYTHON.py\n",
      "\n",
      "**PYTHON SCRIPT DOCUMENTATION**:\n",
      "This is the doc string of this python script:\n",
      "\"\"\"\n",
      "This script prints hello world to the terminal. No arguments are required.\n",
      "\n",
      "Example usage:\n",
      "    subprocess.call([sys.executable, 'python/helloWorldPYTHON.py'])\n",
      "\"\"\"\n",
      "\n",
      "\n",
      "**CALL PYTHON SCRIPTS FROM PYTHON**:\n",
      "Use the `subprocess` module to call any Python script from another Python script. Here are some examples to call a few common Python scripts:\n",
      "\n",
      "To call a Python script `example_script.py` which has no arguments:\n",
      "    \n",
      "```\n",
      "Execute: subprocess.call([sys.executable, '<full path to script/> example_script.py'])\n",
      "```\n",
      "\n",
      "To call a Python script `example_script.py` with one argument:\n",
      "\n",
      "```\n",
      "Execute: subprocess.call([sys.executable, '<full path to script/> example_script.py', 'arg1'])\n",
      "```\n",
      "\n",
      "To call a Python script `example_script.py` with two arguments:\n",
      "```\n",
      "Execute: subprocess.call([sys.executable, '<full path to script/> example_script.py', 'arg1', 'arg2'])\n",
      "```\n",
      "Query:/force CODE say hello world using python!\n",
      "\n",
      "\n",
      "**INSTRUCTIONS**\n",
      "1. Given the user query and the documentation, identify each of the arguments found in the user's query that should be passed to the Python script.\n",
      "2. Using the `subprocess` module, provide the one line of code to execute the desired Python script with the given arguments. Assume the necessary modules (`subprocess` and `sys`) are already imported.\n",
      "3. The last line of your response should say \"Execute: <Python code to execute>\"\n",
      "4. Format the response/output as:\n",
      "    Arguments: \n",
      "    Python Code Explanation: <2 sentences maximum>\n",
      "    Execute: <your code here>\n",
      "\n",
      "**IMPORTANT**\n",
      "The code to execute from your response must be formatted as:\n",
      "    Execute: subprocess.call([sys.executable, '<path to python script>', '<argument 1>', '<argument 2>', ..., '<argument n>'])\n",
      "This output should be exactly one line and no longer. Stop the response after this line.\n",
      "\u001b[0m\n",
      "\n",
      "\u001b[1m> Finished chain.\u001b[0m\n",
      "LLM OUTPUT PARSER\n",
      " Arguments: No arguments are required for the \"helloWorldPYTHON.py\" script according to the documentation and the user query.\n",
      "\n",
      "Python Code Explanation: We will execute the \"helloWorldPYTHON.py\" script with no arguments.\n",
      "\n",
      "Execute: subprocess.call([sys.executable, '/home/jpic/RAG-DEV/tutorials/running-codes/python/helloWorldPYTHON.py'])\n",
      "[' Arguments: No arguments are required for the \"helloWorldPYTHON.py\" script according to the documentation and the user query.\\n\\nPython Code Explanation: We will execute the \"helloWorldPYTHON.py\" script with no arguments.\\n\\n', \" subprocess.call([sys.executable, '/home/jpic/RAG-DEV/tutorials/running-codes/python/helloWorldPYTHON.py'])\"]\n",
      "Executing Code!!\n",
      "EVAL\n",
      "subprocess.call([sys.executable, '/home/jpic/RAG-DEV/tutorials/running-codes/python/helloWorldPYTHON.py'])\n",
      "END EVAL CHECK\n",
      "Hello World from a Python Script!\n",
      "Debug: PYTHON code executed successfully.\n",
      "==================================================\n"
     ]
    },
    {
     "name": "stdin",
     "output_type": "stream",
     "text": [
      "Input >>  q\n"
     ]
    },
    {
     "name": "stdout",
     "output_type": "stream",
     "text": [
      "Thanks for chatting today! I hope to talk soon, and don't forget that a record of this conversation is available at: /home/jpic/BRAD/2024-06-16-16:50:05.318931.json\n"
     ]
    }
   ],
   "source": [
    "from BRAD import brad\n",
    "brad.chat()"
   ]
  },
  {
   "cell_type": "code",
   "execution_count": null,
   "id": "0638b74c-cdc3-4336-90de-7d6ef15014dc",
   "metadata": {},
   "outputs": [],
   "source": []
  },
  {
   "cell_type": "code",
   "execution_count": null,
   "id": "78878573-5b4e-437a-a112-671aa57fc425",
   "metadata": {},
   "outputs": [],
   "source": []
  },
  {
   "cell_type": "code",
   "execution_count": null,
   "id": "9247861d-8023-4c0c-88ef-484fac25932e",
   "metadata": {},
   "outputs": [],
   "source": []
  },
  {
   "cell_type": "code",
   "execution_count": null,
   "id": "094373c3-6dc9-46cb-97dc-0891ad1f4cbf",
   "metadata": {},
   "outputs": [],
   "source": []
  },
  {
   "cell_type": "code",
   "execution_count": null,
   "id": "9563c151-cef6-4efc-8175-5c71bf6a563f",
   "metadata": {},
   "outputs": [],
   "source": []
  },
  {
   "cell_type": "code",
   "execution_count": null,
   "id": "1dda72ea-7694-40b4-be8e-141e793cbbe6",
   "metadata": {},
   "outputs": [],
   "source": []
  },
  {
   "cell_type": "code",
   "execution_count": 28,
   "id": "e229f04e-ec7c-4b13-a2aa-a1d4f0e6fe5d",
   "metadata": {},
   "outputs": [
    {
     "name": "stdout",
     "output_type": "stream",
     "text": [
      "**Available Scripts**\n",
      "Script Name: animal_info, \t Description: This script provides information about different animals based on user input.\n",
      "Script Name: example, \t Description: This is the top-level docstring for the example script.\n",
      "Script Name: helloWorldPYTHON, \t Description: This script prints hello world to the terminal. No arguments are required.\n",
      "Script Name: matlabPipeline, \t Description:  matlabPipeline - A sample function to demonstrate argument handling\n",
      "Script Name: myFunc, \t Description:  myFunc - A simple function to multiply each element of the input array by 2.\n",
      "Script Name: helloWorldMATLAB, \t Description:  Print \"Hello World\"\n",
      "Script Name: saveplot, \t Description: SAVEPLOT Save the plot to a file\n",
      "Script Name: qualityControl, \t Description:  qualityControl - Constructs and runs a bioinformatics quality control pipeline.\n",
      "\n",
      "\n",
      "**User Query**\n",
      "{user_query}\n",
      "\n",
      "**Task**\n",
      "Based on the user's query, select the best script from the available scripts. Provide the script name and explain why it is the best match. If no script is good, replace script with None\n",
      "\n",
      "**Response Template**\n",
      "SCRIPT: <selected script>\n",
      "REASON: <reasoning why the script fits the user prompt>\n",
      "\n"
     ]
    }
   ],
   "source": [
    "scriptPurpose = {'animal_info': 'This script provides information about different animals based on user input.', 'example': 'This is the top-level docstring for the example script.', 'helloWorldPYTHON': 'This script prints hello world to the terminal. No arguments are required.', 'matlabPipeline': ' matlabPipeline - A sample function to demonstrate argument handling', 'myFunc': ' myFunc - A simple function to multiply each element of the input array by 2.', 'helloWorldMATLAB': ' Print \"Hello World\"', 'saveplot': 'SAVEPLOT Save the plot to a file', 'qualityControl': ' qualityControl - Constructs and runs a bioinformatics quality control pipeline.'}\n",
    "script_list = \"\"\n",
    "for script in scriptPurpose.keys():\n",
    "    script_list += \"Script Name: \" + script + \", \\t Description: \" + scriptPurpose[script] + '\\n'\n",
    "template = scriptSelectorTemplate()\n",
    "template = template.format(script_list=script_list)\n",
    "print(template)"
   ]
  },
  {
   "cell_type": "code",
   "execution_count": 25,
   "id": "f9602f0a-5b9f-47cd-a591-5b605859bef3",
   "metadata": {},
   "outputs": [],
   "source": [
    "from BRAD import llms\n",
    "from langchain.memory import ConversationBufferMemory\n",
    "llm = llms.load_nvidia()"
   ]
  },
  {
   "cell_type": "code",
   "execution_count": 45,
   "id": "7ba080f9-6672-4e25-8820-95f7dfaa8f45",
   "metadata": {},
   "outputs": [],
   "source": [
    "template = scriptSelectorTemplate()\n",
    "template = template.format(script_list=script_list)\n",
    "PROMPT = PromptTemplate(input_variables=[\"user_query\"], template=template)\n",
    "chain = PROMPT | llm\n",
    "res = chain.invoke(\"use python to say hello\")\n"
   ]
  },
  {
   "cell_type": "code",
   "execution_count": 49,
   "id": "e99d5376-f427-4822-891d-f92605fb8a3d",
   "metadata": {},
   "outputs": [
    {
     "name": "stdout",
     "output_type": "stream",
     "text": [
      "SCRIPT: helloWorldPYTHON\n",
      "REASON: The user query \"use python to say hello\" is asking for a simple Python script to print a greeting message to the terminal. The script named \"helloWorldPYTHON\" matches this query as its primary function is to print the message \"Hello World\" to the terminal in Python. However, since the user explicitly requested \"hello\" in their query, it is a more accurate match for the script named \"helloWorldPYTHON\" that explicitly prints the message \"hello\" instead. Therefore, \"helloWorldPYTHON\" is the best script to run to help the user.\n"
     ]
    }
   ],
   "source": [
    "print(res.content.strip())"
   ]
  },
  {
   "cell_type": "code",
   "execution_count": 57,
   "id": "a8fb5916-fc2b-40fd-bda3-baac442f6d07",
   "metadata": {},
   "outputs": [
    {
     "data": {
      "text/plain": [
       "'helloWorldPYTHON'"
      ]
     },
     "execution_count": 57,
     "metadata": {},
     "output_type": "execute_result"
    }
   ],
   "source": [
    "scriptName = res.content.strip().split('\\n')[0].split(':')[1].strip()\n",
    "scriptName"
   ]
  },
  {
   "cell_type": "code",
   "execution_count": 33,
   "id": "2c4848ee-99d1-4cd5-a429-093d1a2e0754",
   "metadata": {},
   "outputs": [
    {
     "ename": "ValidationError",
     "evalue": "1 validation error for ConversationChain\n__root__\n  Got unexpected prompt input variables. The prompt expects ['history', 'user_query'], but got ['history'] as inputs from memory, and input as the normal input key. (type=value_error)",
     "output_type": "error",
     "traceback": [
      "\u001b[0;31m---------------------------------------------------------------------------\u001b[0m",
      "\u001b[0;31mValidationError\u001b[0m                           Traceback (most recent call last)",
      "Cell \u001b[0;32mIn[33], line 4\u001b[0m\n\u001b[1;32m      2\u001b[0m template \u001b[38;5;241m=\u001b[39m template\u001b[38;5;241m.\u001b[39mformat(script_list\u001b[38;5;241m=\u001b[39mscript_list)\n\u001b[1;32m      3\u001b[0m PROMPT \u001b[38;5;241m=\u001b[39m PromptTemplate(input_variables\u001b[38;5;241m=\u001b[39m[\u001b[38;5;124m\"\u001b[39m\u001b[38;5;124mhistory\u001b[39m\u001b[38;5;124m\"\u001b[39m, \u001b[38;5;124m\"\u001b[39m\u001b[38;5;124muser_query\u001b[39m\u001b[38;5;124m\"\u001b[39m], template\u001b[38;5;241m=\u001b[39mtemplate)\n\u001b[0;32m----> 4\u001b[0m conversation \u001b[38;5;241m=\u001b[39m \u001b[43mConversationChain\u001b[49m\u001b[43m(\u001b[49m\u001b[43mprompt\u001b[49m\u001b[43m  \u001b[49m\u001b[38;5;241;43m=\u001b[39;49m\u001b[43m \u001b[49m\u001b[43mPROMPT\u001b[49m\u001b[43m,\u001b[49m\n\u001b[1;32m      5\u001b[0m \u001b[43m                                 \u001b[49m\u001b[43mllm\u001b[49m\u001b[43m     \u001b[49m\u001b[38;5;241;43m=\u001b[39;49m\u001b[43m \u001b[49m\u001b[43mllm\u001b[49m\u001b[43m,\u001b[49m\n\u001b[1;32m      6\u001b[0m \u001b[43m                                 \u001b[49m\u001b[43mverbose\u001b[49m\u001b[43m \u001b[49m\u001b[38;5;241;43m=\u001b[39;49m\u001b[43m \u001b[49m\u001b[38;5;28;43;01mTrue\u001b[39;49;00m\u001b[43m,\u001b[49m\n\u001b[1;32m      7\u001b[0m \u001b[43m                                 \u001b[49m\u001b[43mmemory\u001b[49m\u001b[43m  \u001b[49m\u001b[38;5;241;43m=\u001b[39;49m\u001b[43m \u001b[49m\u001b[43mConversationBufferMemory\u001b[49m\u001b[43m(\u001b[49m\u001b[43mai_prefix\u001b[49m\u001b[38;5;241;43m=\u001b[39;49m\u001b[38;5;124;43m\"\u001b[39;49m\u001b[38;5;124;43mBRAD\u001b[39;49m\u001b[38;5;124;43m\"\u001b[39;49m\u001b[43m)\u001b[49m\u001b[43m,\u001b[49m\n\u001b[1;32m      8\u001b[0m \u001b[43m                                \u001b[49m\u001b[43m)\u001b[49m\n",
      "File \u001b[0;32m~/.local/lib/python3.11/site-packages/langchain_core/_api/deprecation.py:183\u001b[0m, in \u001b[0;36mdeprecated.<locals>.deprecate.<locals>.finalize.<locals>.warn_if_direct_instance\u001b[0;34m(self, *args, **kwargs)\u001b[0m\n\u001b[1;32m    181\u001b[0m     warned \u001b[38;5;241m=\u001b[39m \u001b[38;5;28;01mTrue\u001b[39;00m\n\u001b[1;32m    182\u001b[0m     emit_warning()\n\u001b[0;32m--> 183\u001b[0m \u001b[38;5;28;01mreturn\u001b[39;00m \u001b[43mwrapped\u001b[49m\u001b[43m(\u001b[49m\u001b[38;5;28;43mself\u001b[39;49m\u001b[43m,\u001b[49m\u001b[43m \u001b[49m\u001b[38;5;241;43m*\u001b[39;49m\u001b[43margs\u001b[49m\u001b[43m,\u001b[49m\u001b[43m \u001b[49m\u001b[38;5;241;43m*\u001b[39;49m\u001b[38;5;241;43m*\u001b[39;49m\u001b[43mkwargs\u001b[49m\u001b[43m)\u001b[49m\n",
      "File \u001b[0;32m~/.local/lib/python3.11/site-packages/pydantic/v1/main.py:341\u001b[0m, in \u001b[0;36mBaseModel.__init__\u001b[0;34m(__pydantic_self__, **data)\u001b[0m\n\u001b[1;32m    339\u001b[0m values, fields_set, validation_error \u001b[38;5;241m=\u001b[39m validate_model(__pydantic_self__\u001b[38;5;241m.\u001b[39m\u001b[38;5;18m__class__\u001b[39m, data)\n\u001b[1;32m    340\u001b[0m \u001b[38;5;28;01mif\u001b[39;00m validation_error:\n\u001b[0;32m--> 341\u001b[0m     \u001b[38;5;28;01mraise\u001b[39;00m validation_error\n\u001b[1;32m    342\u001b[0m \u001b[38;5;28;01mtry\u001b[39;00m:\n\u001b[1;32m    343\u001b[0m     object_setattr(__pydantic_self__, \u001b[38;5;124m'\u001b[39m\u001b[38;5;124m__dict__\u001b[39m\u001b[38;5;124m'\u001b[39m, values)\n",
      "\u001b[0;31mValidationError\u001b[0m: 1 validation error for ConversationChain\n__root__\n  Got unexpected prompt input variables. The prompt expects ['history', 'user_query'], but got ['history'] as inputs from memory, and input as the normal input key. (type=value_error)"
     ]
    }
   ],
   "source": [
    "template = scriptSelectorTemplate()\n",
    "template = template.format(script_list=script_list)\n",
    "PROMPT = PromptTemplate(input_variables=[\"history\", \"user_query\"], template=template)\n",
    "conversation = ConversationChain(prompt  = PROMPT,\n",
    "                                 llm     = llm,\n",
    "                                 verbose = True,\n",
    "                                 memory  = ConversationBufferMemory(ai_prefix=\"BRAD\"),\n",
    "                                )"
   ]
  },
  {
   "cell_type": "code",
   "execution_count": 6,
   "id": "6bc932e1-2256-4188-8598-8ebcbbcb0cb5",
   "metadata": {},
   "outputs": [
    {
     "name": "stdout",
     "output_type": "stream",
     "text": [
      "**Available Scripts**\n",
      "{script_list}\n",
      "\n",
      "**User Query**\n",
      "{user_query}\n",
      "\n",
      "**Task**\n",
      "Based on the user's query, select the best script from the available scripts. Provide the script name and explain why it is the best match. If no script is good, replace script with None\n",
      "\n",
      "**Response Template**\n",
      "SCRIPT: <selected script>\n",
      "REASON: <reasoning why the script fits the user prompt>\n",
      "\n"
     ]
    }
   ],
   "source": [
    "template = scriptSelectorTemplate()"
   ]
  },
  {
   "cell_type": "code",
   "execution_count": 34,
   "id": "52f8896c-69e1-48d8-8d68-466f543490b2",
   "metadata": {},
   "outputs": [],
   "source": [
    "def scriptSelectorTemplate():\n",
    "    template=\"\"\"You must select which code to run to help a user.\n",
    "\n",
    "**Available Scripts**\n",
    "{script_list}\n",
    "\n",
    "**User Query**\n",
    "{{user_query}}\n",
    "\n",
    "**Task**\n",
    "Based on the user's query, select the best script from the available scripts. Provide the script name and explain why it is the best match. If no script is good, replace script with None\n",
    "\n",
    "**Response Template**\n",
    "SCRIPT: <selected script>\n",
    "REASON: <reasoning why the script fits the user prompt>\n",
    "\"\"\"\n",
    "    return template"
   ]
  },
  {
   "cell_type": "code",
   "execution_count": null,
   "id": "eb0d08aa-5ff9-4a00-883d-4776fba40abd",
   "metadata": {},
   "outputs": [],
   "source": []
  }
 ],
 "metadata": {
  "kernelspec": {
   "display_name": "Python 3 (ipykernel)",
   "language": "python",
   "name": "python3"
  },
  "language_info": {
   "codemirror_mode": {
    "name": "ipython",
    "version": 3
   },
   "file_extension": ".py",
   "mimetype": "text/x-python",
   "name": "python",
   "nbconvert_exporter": "python",
   "pygments_lexer": "ipython3",
   "version": "3.11.7"
  }
 },
 "nbformat": 4,
 "nbformat_minor": 5
}
