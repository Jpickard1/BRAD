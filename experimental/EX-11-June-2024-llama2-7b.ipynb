{
 "cells": [
  {
   "cell_type": "markdown",
   "id": "8be88bc6-f4e3-4c92-8af6-e8126e7e1009",
   "metadata": {},
   "source": [
    "# EX2\n",
    "\n",
    "How does the temperature impact variablity in model responses when no information is supplied?"
   ]
  },
  {
   "cell_type": "markdown",
   "id": "0395a57a-e7af-4331-a2c2-639025528a54",
   "metadata": {},
   "source": [
    "# Setup"
   ]
  },
  {
   "cell_type": "code",
   "execution_count": 1,
   "id": "874bcfc8-9cad-439e-bf49-ebd9eab33399",
   "metadata": {},
   "outputs": [],
   "source": [
    "import os\n",
    "import numpy as np\n",
    "import pandas as pd\n",
    "import subprocess\n",
    "from langchain.document_loaders import DirectoryLoader\n",
    "from langchain.document_loaders import UnstructuredPDFLoader\n",
    "from langchain_community.document_loaders import PyPDFLoader\n",
    "from langchain.vectorstores import Chroma\n",
    "from langchain.embeddings import HuggingFaceEmbeddings\n",
    "from langchain_text_splitters import RecursiveCharacterTextSplitter\n",
    "from langchain.chains.question_answering import load_qa_chain\n",
    "import chromadb\n",
    "from itertools import combinations"
   ]
  },
  {
   "cell_type": "code",
   "execution_count": 2,
   "id": "4555b233-ce1b-481c-a484-4a860fc251d4",
   "metadata": {},
   "outputs": [],
   "source": [
    "from BRAD import llms\n",
    "from BRAD import brad\n",
    "from BRAD import rag"
   ]
  },
  {
   "cell_type": "markdown",
   "id": "58a20c72-1ecb-41e6-8e15-c0dd0f028128",
   "metadata": {},
   "source": [
    "## Code for Running the Experiment"
   ]
  },
  {
   "cell_type": "code",
   "execution_count": 3,
   "id": "2eb51bea-68df-4f8c-b3f5-f0df21ff11da",
   "metadata": {},
   "outputs": [],
   "source": [
    "def runPrompt(prompt,\n",
    "              llm,                                         # preloaded LLM\n",
    "              numNoRagCalls    = 12,                       # Number of trials without the RAG\n",
    "              llmOnlyOutputFile='EX-10-JUNE-2024-LLM.csv'):# Outputs of the LLM without the RAG\n",
    "\n",
    "    # Make the RAG chain\n",
    "    chain = load_qa_chain(llm, chain_type=\"stuff\", verbose = True)\n",
    "\n",
    "    # No RAG\n",
    "    outputs = {\n",
    "        'prompt':[prompt],\n",
    "    }\n",
    "    for i in range(numNoRagCalls):\n",
    "        # Call LLM\n",
    "        response   = chain({\"input_documents\": [], \"question\": prompt})\n",
    "        outputs['response-'+str(i)] = response['output_text']\n",
    "\n",
    "    # Save RAG output to file\n",
    "    df = pd.DataFrame(outputs)\n",
    "    if os.path.isfile(llmOnlyOutputFile):\n",
    "        # File exists, append to it\n",
    "        df.to_csv(llmOnlyOutputFile, mode='a', header=False, index=False)\n",
    "    else:\n",
    "        # File does not exist, create a new file\n",
    "        df.to_csv(llmOnlyOutputFile, mode='w', header=True, index=False)\n",
    "\n"
   ]
  },
  {
   "cell_type": "markdown",
   "id": "be6ba32c-9a77-427b-85e3-a86a68753986",
   "metadata": {},
   "source": [
    "# Run LLM Calls"
   ]
  },
  {
   "cell_type": "code",
   "execution_count": 5,
   "id": "27fb2460-eb96-4262-adf7-15d323c5d4f5",
   "metadata": {},
   "outputs": [
    {
     "data": {
      "text/plain": [
       "1.0"
      ]
     },
     "execution_count": 5,
     "metadata": {},
     "output_type": "execute_result"
    }
   ],
   "source": [
    "float('1')"
   ]
  },
  {
   "cell_type": "code",
   "execution_count": 4,
   "id": "2d7f67c1-adf0-44e2-8acf-ef2ee33ca509",
   "metadata": {},
   "outputs": [
    {
     "name": "stdout",
     "output_type": "stream",
     "text": [
      "0.1\n",
      "Gene regulation is often described from the perspective of a dynamical system, where gene expression or other measures are used to construct a state space model. In deterministic dynamical systems, the state variable contains sufficient information to determine the future of the system. What experimental measurements do you believe are sufficient to determine the state of a cell?\n"
     ]
    },
    {
     "name": "stderr",
     "output_type": "stream",
     "text": [
      "/home/jpic/.local/lib/python3.11/site-packages/langchain_core/_api/deprecation.py:119: LangChainDeprecationWarning: The method `Chain.__call__` was deprecated in langchain 0.1.0 and will be removed in 0.3.0. Use invoke instead.\n",
      "  warn_deprecated(\n"
     ]
    },
    {
     "name": "stdout",
     "output_type": "stream",
     "text": [
      "\n",
      "\n",
      "\u001b[1m> Entering new StuffDocumentsChain chain...\u001b[0m\n",
      "\n",
      "\n",
      "\u001b[1m> Entering new LLMChain chain...\u001b[0m\n",
      "Prompt after formatting:\n",
      "\u001b[32;1m\u001b[1;3mUse the following pieces of context to answer the question at the end. If you don't know the answer, just say that you don't know, don't try to make up an answer.\n",
      "\n",
      "\n",
      "\n",
      "Question: Gene regulation is often described from the perspective of a dynamical system, where gene expression or other measures are used to construct a state space model. In deterministic dynamical systems, the state variable contains sufficient information to determine the future of the system. What experimental measurements do you believe are sufficient to determine the state of a cell?\n",
      "Helpful Answer:\u001b[0m\n"
     ]
    },
    {
     "name": "stderr",
     "output_type": "stream",
     "text": [
      "\n",
      "KeyboardInterrupt\n",
      "\n"
     ]
    }
   ],
   "source": [
    "# load questions\n",
    "for temp in [0.1, 0.2, 0.3, 0.4, 0.5, 0.6, 0.7, 0.8, 0.9]:\n",
    "    print(temp)\n",
    "    llm = llms.load_llama('/nfs/turbo/umms-indikar/shared/projects/RAG/models/llama-2-7b-chat.Q2_K.gguf', temperature=temp, max_tokens=300)\n",
    "    df = pd.read_csv('EX-10-June-2024-Qs.csv')\n",
    "    prompts =  df['Question']\n",
    "    for i, prompt in enumerate(prompts):\n",
    "        print(prompt)\n",
    "        runPrompt(prompt,\n",
    "                  llm,                                        # preloaded LLM\n",
    "                  numNoRagCalls    = 3,                       # Number of trials without the RAG\n",
    "                  llmOnlyOutputFile='EX2-11-JUNE-2024-LLM-llama2-7b-temp-' + str(temp) + '.csv') # Outputs of the LLM without the RAG\n",
    "    \n",
    "    "
   ]
  },
  {
   "cell_type": "code",
   "execution_count": 31,
   "id": "a9c8e78b-16c5-4793-8d73-ea8e9e5f2997",
   "metadata": {},
   "outputs": [
    {
     "data": {
      "text/plain": [
       "Index(['prompt', 'response-0', 'response-1', 'response-2'], dtype='object')"
      ]
     },
     "execution_count": 31,
     "metadata": {},
     "output_type": "execute_result"
    }
   ],
   "source": [
    "df = pd.read_csv('EX-10-JUNE-2024-LLM.csv')\n",
    "df.columns"
   ]
  },
  {
   "cell_type": "code",
   "execution_count": 32,
   "id": "6a8d79cc-b139-4a8e-8668-afd5b5177154",
   "metadata": {},
   "outputs": [
    {
     "data": {
      "text/plain": [
       "[\"I don't know. The question is quite specific and requires expertise in gene regulation and dynamical systems. While I can understand the context, I'm not aware of a definitive answer to this question. Determining the state of a cell is a complex task, and it's likely that multiple experimental measurements would be required to accurately determine the state of a cell. However, I'm not aware of a specific set of measurements that are widely accepted as sufficient to determine the state of a cell.\"]"
      ]
     },
     "execution_count": 32,
     "metadata": {},
     "output_type": "execute_result"
    }
   ],
   "source": [
    "list(df['response-0'])"
   ]
  },
  {
   "cell_type": "code",
   "execution_count": 33,
   "id": "bd60ba4b-6858-4124-85be-57a6da86f6f4",
   "metadata": {},
   "outputs": [
    {
     "data": {
      "text/plain": [
       "[\"I don't know. The question is quite specific and requires expertise in gene regulation and dynamical systems. While I can understand the context, I'm not aware of a definitive answer to this question. Determining the state of a cell is a complex task, and it's likely that multiple experimental measurements would be required to accurately capture the state of a cell. However, I'm not aware of a specific set of measurements that are widely accepted as sufficient to determine the state of a cell.\"]"
      ]
     },
     "execution_count": 33,
     "metadata": {},
     "output_type": "execute_result"
    }
   ],
   "source": [
    "list(df['response-1'])"
   ]
  },
  {
   "cell_type": "code",
   "execution_count": 34,
   "id": "fa738ab9-4aeb-4a58-808d-e22466c4fc69",
   "metadata": {},
   "outputs": [
    {
     "data": {
      "text/plain": [
       "[\"I don't know. The question is quite specific and requires expertise in gene regulation and dynamical systems. While I can understand the context, I'm not aware of a definitive answer to this question. Determining the state of a cell is a complex task, and it's likely that multiple experimental measurements would be required to capture the complexity of cellular behavior. However, I'm not aware of a specific set of measurements that are widely accepted as sufficient to determine the state of a cell.\"]"
      ]
     },
     "execution_count": 34,
     "metadata": {},
     "output_type": "execute_result"
    }
   ],
   "source": [
    "list(df['response-2'])"
   ]
  },
  {
   "cell_type": "code",
   "execution_count": null,
   "id": "a03a2588-db19-48de-9cd3-d1d33db01266",
   "metadata": {},
   "outputs": [],
   "source": []
  },
  {
   "cell_type": "code",
   "execution_count": null,
   "id": "ca4e13ad-aad2-4b28-91b7-fbed7606765d",
   "metadata": {},
   "outputs": [],
   "source": []
  },
  {
   "cell_type": "code",
   "execution_count": null,
   "id": "b412195b-1e06-4339-a76e-6f9be2d562e0",
   "metadata": {},
   "outputs": [],
   "source": []
  },
  {
   "cell_type": "code",
   "execution_count": null,
   "id": "8c0fadf2-5d9f-4ce4-97b1-9d08959a19f6",
   "metadata": {},
   "outputs": [],
   "source": []
  },
  {
   "cell_type": "code",
   "execution_count": 9,
   "id": "fdbc8bce-c05f-47fb-9fe2-2bff5d094a4b",
   "metadata": {},
   "outputs": [
    {
     "name": "stdout",
     "output_type": "stream",
     "text": [
      "0\n",
      "1\n",
      "2\n"
     ]
    },
    {
     "data": {
      "text/plain": [
       "True"
      ]
     },
     "execution_count": 9,
     "metadata": {},
     "output_type": "execute_result"
    }
   ],
   "source": [
    "for i in list(combinations(np.arange(5), 3))[0]:\n",
    "    print(i)\n",
    "0 in list(combinations(np.arange(5), 3))[0]"
   ]
  }
 ],
 "metadata": {
  "kernelspec": {
   "display_name": "Python 3 (ipykernel)",
   "language": "python",
   "name": "python3"
  },
  "language_info": {
   "codemirror_mode": {
    "name": "ipython",
    "version": 3
   },
   "file_extension": ".py",
   "mimetype": "text/x-python",
   "name": "python",
   "nbconvert_exporter": "python",
   "pygments_lexer": "ipython3",
   "version": "3.11.7"
  }
 },
 "nbformat": 4,
 "nbformat_minor": 5
}
