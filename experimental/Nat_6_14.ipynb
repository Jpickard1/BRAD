{
 "cells": [
  {
   "cell_type": "code",
   "execution_count": 7,
   "id": "700db589-c931-49eb-9ecf-1ba362b93654",
   "metadata": {},
   "outputs": [],
   "source": [
    "from BRAD import llms\n",
    "llm = llms.load_nvidia()\n"
   ]
  },
  {
   "cell_type": "code",
   "execution_count": 8,
   "id": "31df1227-328d-489b-9662-052baa209c88",
   "metadata": {},
   "outputs": [],
   "source": [
    "import subprocess\n",
    "import os\n",
    "from langchain.document_loaders import DirectoryLoader\n",
    "from langchain.document_loaders import UnstructuredPDFLoader\n",
    "from langchain.vectorstores import Chroma\n",
    "from langchain.embeddings import HuggingFaceEmbeddings\n",
    "import chromadb\n",
    "from langchain_community.document_loaders import PyPDFLoader\n",
    "from langchain_text_splitters import RecursiveCharacterTextSplitter"
   ]
  },
  {
   "cell_type": "code",
   "execution_count": 9,
   "id": "a424fcb6-012a-4a11-90f0-4194f6b0011f",
   "metadata": {},
   "outputs": [
    {
     "name": "stderr",
     "output_type": "stream",
     "text": [
      "/home/oliven/.local/lib/python3.11/site-packages/huggingface_hub/file_download.py:1132: FutureWarning: `resume_download` is deprecated and will be removed in version 1.0.0. Downloads always resume when possible. If you want to force a new download, use `force_download=True`.\n",
      "  warnings.warn(\n"
     ]
    }
   ],
   "source": [
    "persist_directory = '/nfs/turbo/umms-indikar/shared/projects/RAG/databases/DigitalLibrary-10-June-2024/'\n",
    "embeddings_model = HuggingFaceEmbeddings(model_name='BAAI/bge-base-en-v1.5')\n",
    "db_name = \"DigitalLibrary\"\n",
    "_client_settings = chromadb.PersistentClient(path=(persist_directory + db_name))\n",
    "vectordb = Chroma(persist_directory=persist_directory, embedding_function=embeddings_model, client=_client_settings, collection_name=db_name)"
   ]
  },
  {
   "cell_type": "code",
   "execution_count": 10,
   "id": "9465f538-58be-4c96-b270-4c5569779516",
   "metadata": {},
   "outputs": [],
   "source": [
    "prompt = \"What is Pip Fucci for the cell cycle?\"\n",
    "documentSearch = vectordb.similarity_search_with_relevance_scores(prompt, k=5)"
   ]
  },
  {
   "cell_type": "code",
   "execution_count": 11,
   "id": "3c63f2f1-923f-4d93-aaae-29063acfbe61",
   "metadata": {},
   "outputs": [
    {
     "data": {
      "text/plain": [
       "[(Document(page_content='S phase is best visualized in cells with high reporter\\nexpression since it requires accumulation above the\\ndetection threshold.\\nBecause DNA replication is an essentially irre-\\nversible step, S phase entry and progression is\\ntightly regulated. Detecting the G1/S transition in\\nliving cells is not a simple technological task how-\\never. PIP-FUCCI is a precise method for demar-\\ncating cell cycle phase transitions in mammalian\\ncells. Relative to first-generation FUCCI reporters,\\nthe simplicity of the new PIP-mVenus fragment\\nreduces the number of confounding factors that\\nmust be considered when designing and interpret-\\ning experiments. PIP-FUCCI reagents are available\\nto researchers for straightforward cell cycle phase\\ndetermination. We anticipate that the ability to\\nclearly distinguish G1 from S phase and S phase\\nfrom G2 in both fixed and live cells will be parti-\\ncularly useful for investigations focused on cell\\nproliferation commitment and the maintenance\\nof genome stability.\\nMaterials and', metadata={'page': 15, 'source': '/nfs/turbo/umms-indikar/shared/projects/RAG/papers/DigitalLibrary-9-June-2024/Accurate delineation of cell cycle phase transitions in living cells with PIP FUCCI.pdf'}),\n",
       "  0.811396598815918),\n",
       " (Document(page_content='are substantially and\\nvariably offset from true S phase boundaries. To enhance detection of phase transitions, we\\ngenerated a new reporter whose oscillations are directly coupled to DNA replication and com-\\nbined it with the FUCCI APC/C reporter to create “PIP-FUCCI ”. The PIP degron fusion protein\\nprecisely marks the G1/S and S/G2 transitions; shows a rapid decrease in signal in response to\\nlarge doses of DNA damage only during G1; and distinguishes cell type-specific and DNA damage\\nsource-dependent arrest phenotypes. We provide guidance to investigators in selecting appro-\\npriate fluorescent cell cycle reporters and new analysis strategies for delineating cell cycle\\ntransitions.ARTICLE HISTORY\\nReceived 28 August 2018\\nRevised 15 October 2018\\nAccepted 19 October 2018\\nKEYWORDS\\nLive-cell imaging; G1/S\\ntransition; single-cell\\ndynamics\\nIntroduction\\nThe eukaryotic cell division cycle is tightly regu-\\nlated to ensure timely cell proliferation while\\nmaintaining genome stability. For this', metadata={'page': 1, 'source': '/nfs/turbo/umms-indikar/shared/projects/RAG/papers/DigitalLibrary-9-June-2024/Accurate delineation of cell cycle phase transitions in living cells with PIP FUCCI.pdf'}),\n",
       "  0.8026002645492554),\n",
       " (Document(page_content='50 1000150300450600fluorescence PIP [a.u.]S G2/M\\ncell cycle progression [%]meansingle cellG1 c\\n0 5 10 15 20050100\\ntime [h]normalized signals [%]PIP\\nGeminin1-110PCNAvarianceG1 S G2/MCdt11-17NLS HA mVenus P2A mCherry Gem1-110PCNA01234567 8 9 10 11 12 13 14 15 16 17 18 19 20 21PIP Gem1-110G1 S G2/Mb\\nf\\n-20 -16 -12 -8 -4 0\\ntime before labeling [h]5\\n15\\n25\\n35\\n45\\n55individual cellsEdU \\nG1\\nS\\nG2PIP-mVenus0 50 100\\ncell cycle progression [%]02004006008001000S G2/M G1\\nmeansingle cellfluorescence Gem1-110  [a.u.]\\nDAPI EdU PCNA e\\nG1PIP Gem1-110phases\\n0 [a.u.] 1500S\\nSSG2S\\nMG1G1G1PIP-FUCCI \\nFigure 3. PIP-FUCCI is a precise cell cycle phase indicator .a) Schematic of the PIP-FUCCI dual reporter expression construct.\\nCdt1 1–17= human Cdt1 amino acids 1-17 including the PIP degron, NLS = SV40 nuclear localization signal, HA = epitope tag,\\nP2A = self-cleaving peptide, Gem 1-110 = human Geminin amino acids 1-110 including both the D box and KEN motif. b) Selected\\nimages from wide field time-lapse imaging', metadata={'page': 7, 'source': '/nfs/turbo/umms-indikar/shared/projects/RAG/papers/DigitalLibrary-9-June-2024/Accurate delineation of cell cycle phase transitions in living cells with PIP FUCCI.pdf'}),\n",
       "  0.7894014120101929),\n",
       " (Document(page_content='5 minutes. Importantly, unlike the\\nbroad S phase offset in Cdt1 30-120 degradation in\\ncells with different reporter expression levels,\\nDifferent PIP-mVenus reporter expression levels\\nhad virtually no effect on degradation timing rela-\\ntive to S phase; even high reporter expression accu-\\nrately marks S phase onset ( Figure 4(b) , p = 0.26).\\nTo further define the accuracy of PIP-FUCCI as\\na cell cycle reporter, we compared cell cycle phase\\ndurations defined by PCNA variance or PIP-\\nFUCCI intensity levels in both U2OS cells and in\\na non-transformed human epithelial cell line, RPE-\\nhTert (Supplementary Movie 2). We found PIP-\\nFUCCI to be just as accurate as PCNA variance\\nfor defining cell cycle phases in both cell lines\\n(Figure 4(c) ).\\nThe effects of DNA damage on PIP-FUCCI\\ndynamics\\nIn addition to being loaded at active DNA replication\\nforks, PCNA is also loaded during DNA damage\\nrepair [ 29–34]. Since PCNA loading is a prerequisite\\nfor PIP-degron-containing substrate interactions with\\nthe', metadata={'page': 6, 'source': '/nfs/turbo/umms-indikar/shared/projects/RAG/papers/DigitalLibrary-9-June-2024/Accurate delineation of cell cycle phase transitions in living cells with PIP FUCCI.pdf'}),\n",
       "  0.7746945023536682),\n",
       " (Document(page_content='we\\nhad previously reported), and cells remaining in\\nan S-phase like state [ 49]. Taken together, these\\nexamples show that the relative accumulation and\\ndynamics of the PIP-FUCCI reporters can distin-\\nguish cell type-specific and DNA damage source-\\ndependent arrest phenotypes.5101520phase length [h]25\\n0\\nPCNA PIP PCNA PIP PCNA PIP PCNA PIP PCNA PIP PCNA PIPmeanRPE U2OSG1\\nRPE U2OSS G2/M\\nNS NS NS NS NS NSRPE U2OSa\\ncb\\n0200400\\ntime [h]fluorescence [a.u.]\\n0 2 0S G2/M G1\\nPIPrisePIPmidPIPmax\\nPIPmin\\nGemrise0 200 400 600\\nPIP max signal [a.u.]-1-0.500.51offset [h]\\n(PIP mid) - (S phase start)mean offset ~5 min\\nR2 = 0.01\\np = 0.26\\nFigure 4. The PIP degron fusion protein precisely marks the G1/S and S/G2 transitions .a) One annotated example of traces\\nfrom a single U2OS cell expressing PIP-mVenus (green) and mCherry-Gem 1-110 (magenta). “PIPmid”is the time at which 50% of the\\nmaximum PIP-mVenus signal is lost (( “PIPmax”–“ PIPmin”)/2) and is used to mark the beginning of S phase. Details of', metadata={'page': 8, 'source': '/nfs/turbo/umms-indikar/shared/projects/RAG/papers/DigitalLibrary-9-June-2024/Accurate delineation of cell cycle phase transitions in living cells with PIP FUCCI.pdf'}),\n",
       "  0.7685279846191406)]"
      ]
     },
     "execution_count": 11,
     "metadata": {},
     "output_type": "execute_result"
    }
   ],
   "source": [
    "documentSearch"
   ]
  },
  {
   "cell_type": "code",
   "execution_count": 12,
   "id": "f5e790ab-7ad2-43cf-b3c1-bdf3792cf7ce",
   "metadata": {},
   "outputs": [
    {
     "name": "stdout",
     "output_type": "stream",
     "text": [
      "Source: Accurate delineation of cell cycle phase transitions in living cells with PIP FUCCI.pdf\n",
      "Source: Accurate delineation of cell cycle phase transitions in living cells with PIP FUCCI.pdf\n",
      "Source: Accurate delineation of cell cycle phase transitions in living cells with PIP FUCCI.pdf\n",
      "Source: Accurate delineation of cell cycle phase transitions in living cells with PIP FUCCI.pdf\n",
      "Source: Accurate delineation of cell cycle phase transitions in living cells with PIP FUCCI.pdf\n"
     ]
    }
   ],
   "source": [
    "for item in documentSearch:\n",
    "    doc = item[0]\n",
    "    source = doc.metadata.get('source')\n",
    "    short_source = os.path.basename(source)\n",
    "    print(f\"Source: {short_source}\")"
   ]
  },
  {
   "cell_type": "code",
   "execution_count": 13,
   "id": "2da8e61d-8eb0-499e-9fd7-3cf50235ab5b",
   "metadata": {},
   "outputs": [],
   "source": [
    "def queryDocs(chatstatus):\n",
    "    \"\"\"\n",
    "    Queries documents based on the user prompt and updates the chat status with the results.\n",
    "\n",
    "    :param chatstatus: A dictionary containing the current chat status, including the prompt, LLM, vector database, and memory.\n",
    "    :type chatstatus: dict\n",
    "\n",
    "    :raises KeyError: If required keys are not found in the chatstatus dictionary.\n",
    "    :raises AttributeError: If methods on the vector database or LLM objects are called incorrectly.\n",
    "\n",
    "    :return: The updated chat status dictionary with the query results.\n",
    "    :rtype: dict\n",
    "    \"\"\"\n",
    "    process = {}\n",
    "    llm      = chatstatus['llm']              # get the llm\n",
    "    prompt   = chatstatus['prompt']           # get the user prompt\n",
    "    vectordb = chatstatus['databases']['RAG'] # get the vector database\n",
    "    memory   = chatstatus['memory']           # get the memory of the model\n",
    "    \n",
    "    # query to database\n",
    "    if vectordb is not None:\n",
    "        documentSearch = vectordb.similarity_search_with_relevance_scores(prompt, k=chatstatus['config']['num_articles_retrieved'])\n",
    "        docs, scores = getDocumentSimilarity(documentSearch)\n",
    "        chain = load_qa_chain(llm, chain_type=\"stuff\", verbose = chatstatus['config']['debug'])\n",
    "        #bertscores\n",
    "        if chatstatus['config']['experiment'] is True:\n",
    "            # scoring_experiment(chain, docs, scores, prompt)\n",
    "            crossValidationOfDocumentsExperiment(chain, docs, scores, prompt, chatstatus)\n",
    "            chatstatus['process'] = {'type': 'docs cross validation experiment'}\n",
    "        else:\n",
    "            # pass the database output to the llm       \n",
    "            res = chain({\"input_documents\": docs, \"question\": prompt})\n",
    "            print(res['output_text'])\n",
    "            for item in documentSearch:\n",
    "                doc = item[0]\n",
    "                source = doc.metadata.get('source')\n",
    "                short_source = os.path.basename(source)\n",
    "                print(f\"Source: {short_source}\")\n",
    "            # change inputs to be json readable\n",
    "            res['input_documents'] = getInputDocumentJSONs(res['input_documents'])\n",
    "            chatstatus['output'], chatstatus['process'] = res['output_text'], res\n",
    "    else:\n",
    "        template = \"\"\"Current conversation: {history}\\n\\n\\nNew Input: \\n{input}\"\"\"\n",
    "        PROMPT = PromptTemplate(input_variables=[\"history\", \"input\"], template=template)\n",
    "        conversation = ConversationChain(prompt  = PROMPT,\n",
    "                                         llm     = llm,\n",
    "                                         verbose = chatstatus['config']['debug'],\n",
    "                                         memory  = memory,\n",
    "                                        )\n",
    "        prompt = getDefaultContext() + prompt\n",
    "        response = conversation.predict(input=prompt)\n",
    "        print(response)\n",
    "        chatstatus['output'] = response\n",
    "        chatstatus['process'] = {'type': 'LLM Conversation'}\n",
    "    # update and return the chatstatus\n",
    "    # chatstatus['output'], chatstatus['process'] = res['output_text'], res\n",
    "    return chatstatus"
   ]
  },
  {
   "cell_type": "code",
   "execution_count": 1,
   "id": "f3ace011-62c3-4c27-ad00-955daddfbbb5",
   "metadata": {},
   "outputs": [],
   "source": [
    "from BRAD import brad\n"
   ]
  },
  {
   "cell_type": "code",
   "execution_count": 18,
   "id": "d56ceebd-84ba-4cfc-8976-035c3c292f2c",
   "metadata": {},
   "outputs": [],
   "source": [
    "### ok yeah this shit aint workign (originally wanted it so i could make sure I'm putting the cited sources in the right place)\n",
    "### so im gonna spend a while trying to figure out the cosine similarity stuff "
   ]
  },
  {
   "cell_type": "code",
   "execution_count": null,
   "id": "88e981b4-665c-4a06-92de-f24d984b91ed",
   "metadata": {},
   "outputs": [
    {
     "name": "stdout",
     "output_type": "stream",
     "text": [
      "Welcome to RAG! The chat log from this conversation will be saved to /home/oliven/BRAD/2024-06-14-15:18:25.200414.json. How can I help?\n"
     ]
    },
    {
     "name": "stdin",
     "output_type": "stream",
     "text": [
      "Enter your NVIDIA API key:  ········\n"
     ]
    },
    {
     "name": "stdout",
     "output_type": "stream",
     "text": [
      "\n",
      "Would you like to use a database with BRAD [Y/N]?\n"
     ]
    },
    {
     "name": "stdin",
     "output_type": "stream",
     "text": [
      " y\n"
     ]
    },
    {
     "name": "stderr",
     "output_type": "stream",
     "text": [
      "/home/oliven/.local/lib/python3.11/site-packages/langchain_core/_api/deprecation.py:119: LangChainDeprecationWarning: The class `HuggingFaceEmbeddings` was deprecated in LangChain 0.2.2 and will be removed in 0.3.0. An updated version of the class exists in the langchain-huggingface package and should be used instead. To use it run `pip install -U langchain-huggingface` and import as `from langchain_huggingface import HuggingFaceEmbeddings`.\n",
      "  warn_deprecated(\n",
      "/home/oliven/.local/lib/python3.11/site-packages/huggingface_hub/file_download.py:1132: FutureWarning: `resume_download` is deprecated and will be removed in version 1.0.0. Downloads always resume when possible. If you want to force a new download, use `force_download=True`.\n",
      "  warnings.warn(\n"
     ]
    },
    {
     "name": "stdout",
     "output_type": "stream",
     "text": [
      "==================================================\n"
     ]
    },
    {
     "name": "stdin",
     "output_type": "stream",
     "text": [
      "Input >>  What is Pip Fucci for the cell cycle?\n"
     ]
    },
    {
     "name": "stdout",
     "output_type": "stream",
     "text": [
      "==================================================\n",
      "RAG >> 1: "
     ]
    },
    {
     "name": "stderr",
     "output_type": "stream",
     "text": [
      "/home/oliven/.local/lib/python3.11/site-packages/langchain_core/_api/deprecation.py:119: LangChainDeprecationWarning: The method `Chain.__call__` was deprecated in langchain 0.1.0 and will be removed in 0.3.0. Use invoke instead.\n",
      "  warn_deprecated(\n"
     ]
    },
    {
     "name": "stdout",
     "output_type": "stream",
     "text": [
      "\n",
      "\n",
      "\u001b[1m> Entering new StuffDocumentsChain chain...\u001b[0m\n",
      "\n",
      "\n",
      "\u001b[1m> Entering new LLMChain chain...\u001b[0m\n",
      "Prompt after formatting:\n",
      "\u001b[32;1m\u001b[1;3mSystem: Use the following pieces of context to answer the user's question. \n",
      "If you don't know the answer, just say that you don't know, don't try to make up an answer.\n",
      "----------------\n",
      "for long-term storage. PBAN, a Gateway-compatible, doxycycline-inducible, puromycin-selectable PiggyBac vector was constructed from PB-TRE-dCas9-VPR (Addgene no. 63800) and used to deliver TFs to hiPSCs using a Lonza Nucleofector X-Unit (AAF-1002X), following the manufacturer’s instructions. Electroporated cells were transferred to a six-well Matrigel-coated plate in mTeSR1 with ROCK inhibitor. Cells were selected with 1 μg ml−1 of puromycin (Gibco, A1113803).\n",
      "\n",
      "Flow cytometry and FACS. For flow cytometry analysis and FACS, cells were dissociated using TrypLE Express, washed and resuspended in FACS buffer (PBS with 10% FBS). For surface antigens, live cells were stained with\n",
      "\n",
      "for long-term storage. PBAN, a Gateway-compatible, doxycycline-inducible, puromycin-selectable PiggyBac vector was constructed from PB-TRE-dCas9-VPR (Addgene no. 63800) and used to deliver TFs to hiPSCs using a Lonza Nucleofector X-Unit (AAF-1002X), following the manufacturer’s instructions. Electroporated cells were transferred to a six-well Matrigel-coated plate in mTeSR1 with ROCK inhibitor. Cells were selected with 1 μg ml−1 of puromycin (Gibco, A1113803).\n",
      "\n",
      "Flow cytometry and FACS. For flow cytometry analysis and FACS, cells were dissociated using TrypLE Express, washed and resuspended in FACS buffer (PBS with 10% FBS). For surface antigens, live cells were stained with\n",
      "\n",
      "at a low multiplicity of infection (MOI) of 0.1, and we confirmed the induction of TF over- expression (Supplementary Fig. 1i). We transduced, in triplicates, three hiPSC lines (PGP1, CRTD5 and ATCC-DYS0100) that have similar characteristics (that is, all reprogrammed from male fibro- blasts using Sendai virus) to reduce effects arising from the variabil- ity among hiPSC lines. Greater than 87% TF coverage was achieved in all three hiPSC lines (Supplementary Fig. 1j) by transducing a sufficient number of cells.\n",
      "\n",
      "ATOH1 programs hiPSCs into induced neurons. ATOH1 was the most efficient driver of differentiation in all three hiPSC lines (Fig. 1d). This TF has been implicated in the development\n",
      "\n",
      "at a low multiplicity of infection (MOI) of 0.1, and we confirmed the induction of TF over- expression (Supplementary Fig. 1i). We transduced, in triplicates, three hiPSC lines (PGP1, CRTD5 and ATCC-DYS0100) that have similar characteristics (that is, all reprogrammed from male fibro- blasts using Sendai virus) to reduce effects arising from the variabil- ity among hiPSC lines. Greater than 87% TF coverage was achieved in all three hiPSC lines (Supplementary Fig. 1j) by transducing a sufficient number of cells.\n",
      "\n",
      "ATOH1 programs hiPSCs into induced neurons. ATOH1 was the most efficient driver of differentiation in all three hiPSC lines (Fig. 1d). This TF has been implicated in the development\n",
      "\n",
      "to the reference index using the STAR command, counted using bash scripts and plotted in R.\n",
      "\n",
      "Human-specific anti-CD31\n",
      "\n",
      "Dako\n",
      "\n",
      "Anti-α-smooth muscle actin Abcam Abcam Anti-MAP2\n",
      "\n",
      "Alexa 488 anti-mouse IgG\n",
      "\n",
      "Invitrogen\n",
      "\n",
      "M0823\n",
      "\n",
      "ab5694\n",
      "\n",
      "ab92434\n",
      "\n",
      "A21202\n",
      "\n",
      "Alexa 647 anti-mouse IgG\n",
      "\n",
      "Invitrogen\n",
      "\n",
      "A31571\n",
      "\n",
      "Cell culture. The PGP1 hiPSC line without integrated Yamanaka factors was generated from adult dermal fibroblasts from a 55-year-old male (Coriell, GM23248)66, and the CRTD5 hiPSC line67 was generated from foreskin fibroblasts (ATCC CRL-2522), both using the CytoTune 2.0 Sendai Reprogramming Kit (Invitrogen, A16517). Cells were adapted to feeder-free culture, verified for pluripotency by flow cytometry\n",
      "\n",
      "to the reference index using the STAR command, counted using bash scripts and plotted in R.\n",
      "\n",
      "Human-specific anti-CD31\n",
      "\n",
      "Dako\n",
      "\n",
      "Anti-α-smooth muscle actin Abcam Abcam Anti-MAP2\n",
      "\n",
      "Alexa 488 anti-mouse IgG\n",
      "\n",
      "Invitrogen\n",
      "\n",
      "M0823\n",
      "\n",
      "ab5694\n",
      "\n",
      "ab92434\n",
      "\n",
      "A21202\n",
      "\n",
      "Alexa 647 anti-mouse IgG\n",
      "\n",
      "Invitrogen\n",
      "\n",
      "A31571\n",
      "\n",
      "Cell culture. The PGP1 hiPSC line without integrated Yamanaka factors was generated from adult dermal fibroblasts from a 55-year-old male (Coriell, GM23248)66, and the CRTD5 hiPSC line67 was generated from foreskin fibroblasts (ATCC CRL-2522), both using the CytoTune 2.0 Sendai Reprogramming Kit (Invitrogen, A16517). Cells were adapted to feeder-free culture, verified for pluripotency by flow cytometry\n",
      "\n",
      "in the source material. We overcame this by de novo synthesis of the 273 ORFs that were not available in existing large ORF collections15–18 (Supplementary Fig. 1c) and merged them to create the Human TFome.\n",
      "\n",
      "To express the Human TFome in hiPSCs, we first cloned the library as one pool into an all-in-one doxycycline-inducible (Tet-On), puromycin-selectable lentiviral vector (Supplementary Fig. 1d–h). We ensured that cells received, at most, one TF by transducing them with the pooled library at a low multiplicity of infection (MOI) of 0.1, and we confirmed the induction of TF over- expression (Supplementary Fig. 1i). We transduced, in triplicates, three hiPSC lines (PGP1, CRTD5 and\n",
      "\n",
      "in the source material. We overcame this by de novo synthesis of the 273 ORFs that were not available in existing large ORF collections15–18 (Supplementary Fig. 1c) and merged them to create the Human TFome.\n",
      "\n",
      "To express the Human TFome in hiPSCs, we first cloned the library as one pool into an all-in-one doxycycline-inducible (Tet-On), puromycin-selectable lentiviral vector (Supplementary Fig. 1d–h). We ensured that cells received, at most, one TF by transducing them with the pooled library at a low multiplicity of infection (MOI) of 0.1, and we confirmed the induction of TF over- expression (Supplementary Fig. 1i). We transduced, in triplicates, three hiPSC lines (PGP1, CRTD5 and\n",
      "\n",
      "foreskin fibroblasts (ATCC CRL-2522), both using the CytoTune 2.0 Sendai Reprogramming Kit (Invitrogen, A16517). Cells were adapted to feeder-free culture, verified for pluripotency by flow cytometry and karyotyped. The ATCC DYS0100 hiPSC (ACS-1019 DYS0100) hiPSC was obtained from ATCC. Cell lines were verified by short tandem repeat profiling (Dana-Farber Cancer Institute), regularly verified to be mycoplasma free using the Universal Mycoplasma Detection Kit (ATCC, 30- 1012K) and cultured between passages 8 and 40. hiPSCs were cultured in mTeSR1 (STEMCELL Technologies, 05850) without antibiotics on tissue-culture-treated plates coated with Matrigel (Corning, 354277), and media were changed\n",
      "\n",
      "foreskin fibroblasts (ATCC CRL-2522), both using the CytoTune 2.0 Sendai Reprogramming Kit (Invitrogen, A16517). Cells were adapted to feeder-free culture, verified for pluripotency by flow cytometry and karyotyped. The ATCC DYS0100 hiPSC (ACS-1019 DYS0100) hiPSC was obtained from ATCC. Cell lines were verified by short tandem repeat profiling (Dana-Farber Cancer Institute), regularly verified to be mycoplasma free using the Universal Mycoplasma Detection Kit (ATCC, 30- 1012K) and cultured between passages 8 and 40. hiPSCs were cultured in mTeSR1 (STEMCELL Technologies, 05850) without antibiotics on tissue-culture-treated plates coated with Matrigel (Corning, 354277), and media were changed\n",
      "Human: What is Pip Fucci for the cell cycle?\u001b[0m\n",
      "\n",
      "\u001b[1m> Finished chain.\u001b[0m\n",
      "\n",
      "\u001b[1m> Finished chain.\u001b[0m\n",
      " Pip Fucci is not mentioned in the context provided. Fucci stands for \"FLOT1-ിδ-Cdn1-p16-CDK4-p21\" and is a biomarker-based method for cell cycle analysis in budding yeast and mammalian cells. It uses a combination of five fluorescently labeled proteins to monitor the cell cycle progression. However, the context discusses the use of hiPSCs (human induced pluripotent stem cells), flow cytometry, and FACS (fluorescence-activated cell sorting), but it does not mention Pip Fucci specifically.\n",
      "Source: A comprehensive library of human transcription factors for cell fate engineering.pdf\n",
      "Source: A comprehensive library of human transcription.pdf\n",
      "Source: A comprehensive library of human transcription factors for cell fate engineering.pdf\n",
      "Source: A comprehensive library of human transcription.pdf\n",
      "Source: A comprehensive library of human transcription factors for cell fate engineering.pdf\n",
      "Source: A comprehensive library of human transcription.pdf\n",
      "Source: A comprehensive library of human transcription factors for cell fate engineering.pdf\n",
      "Source: A comprehensive library of human transcription.pdf\n",
      "Source: A comprehensive library of human transcription factors for cell fate engineering.pdf\n",
      "Source: A comprehensive library of human transcription.pdf\n",
      "==================================================\n"
     ]
    }
   ],
   "source": [
    "brad.chat()\n"
   ]
  },
  {
   "cell_type": "code",
   "execution_count": null,
   "id": "230edcfa-c4c6-4008-bb88-ed5a871c1cba",
   "metadata": {},
   "outputs": [],
   "source": []
  },
  {
   "cell_type": "code",
   "execution_count": null,
   "id": "0ac3da34-4a67-46d0-b7a7-3c54cf3203cf",
   "metadata": {},
   "outputs": [],
   "source": []
  },
  {
   "cell_type": "code",
   "execution_count": null,
   "id": "1f386f70-12d8-4651-961e-5ca065a9878d",
   "metadata": {},
   "outputs": [],
   "source": []
  }
 ],
 "metadata": {
  "kernelspec": {
   "display_name": "Python 3 (ipykernel)",
   "language": "python",
   "name": "python3"
  },
  "language_info": {
   "codemirror_mode": {
    "name": "ipython",
    "version": 3
   },
   "file_extension": ".py",
   "mimetype": "text/x-python",
   "name": "python",
   "nbconvert_exporter": "python",
   "pygments_lexer": "ipython3",
   "version": "3.11.7"
  }
 },
 "nbformat": 4,
 "nbformat_minor": 5
}
