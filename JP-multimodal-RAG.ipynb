{
 "cells": [
  {
   "cell_type": "markdown",
   "id": "b46b06dd-28cc-4054-aa26-c53c961c477f",
   "metadata": {},
   "source": [
    "# Multi-modal RAG"
   ]
  },
  {
   "cell_type": "code",
   "execution_count": null,
   "id": "88813bf0-5bd7-4829-bbbd-18e3b87f2978",
   "metadata": {},
   "outputs": [],
   "source": []
  }
 ],
 "metadata": {
  "kernelspec": {
   "display_name": "Python 3 (ipykernel)",
   "language": "python",
   "name": "python3"
  },
  "language_info": {
   "codemirror_mode": {
    "name": "ipython",
    "version": 3
   },
   "file_extension": ".py",
   "mimetype": "text/x-python",
   "name": "python",
   "nbconvert_exporter": "python",
   "pygments_lexer": "ipython3",
   "version": "3.10.9"
  }
 },
 "nbformat": 4,
 "nbformat_minor": 5
}
