{
 "cells": [
  {
   "cell_type": "markdown",
   "id": "0afbee1c-37a1-4e7d-86e9-c605415f956f",
   "metadata": {},
   "source": [
    "# Geneformer Embeddings with BRAD\n",
    "\n",
    "This notebook is to demonastrate that we can run the Geneformer codes from BRAD. We have the following issues currently:\n",
    "1. I need to see code that will take a counts matrix and make a `.dataset` directory that can be input to geneformer\n",
    "2. We need to be able to free the GPU/deal with CUDA to make sure that we can run the Geneformer model. Currently, the issue is that we call the Geneformer code, in a mannor that is appropriate, and then we hit a CUDA issue. I verified that the function call is appropriate.\n",
    "\n",
    "I emailed Kris so that we could resolve issue 2. Also, perhaps we should discuss exactly formats we want to be able to put in and take out of Geneformer, particularally as it related to how BRAD will connect other codes, such as Nicks SysID repo."
   ]
  },
  {
   "cell_type": "markdown",
   "id": "4ed67a58-d6e8-44a5-9ed3-c558ee540f54",
   "metadata": {},
   "source": [
    "## Geneformer with BRAD"
   ]
  },
  {
   "cell_type": "code",
   "execution_count": 1,
   "id": "b47b4348-e300-4a7f-abd7-4950f3c838ce",
   "metadata": {},
   "outputs": [],
   "source": [
    "from BRAD import brad"
   ]
  },
  {
   "cell_type": "raw",
   "id": "70abdc62-6a6b-436a-8e9c-b3758b67270b",
   "metadata": {},
   "source": [
    "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"
   ]
  },
  {
   "cell_type": "raw",
   "id": "deba1d9e-90c8-4afb-b53a-bcacd10ad4d0",
   "metadata": {},
   "source": [
    "/force CODE please run the gene former code with this input: /nfs/turbo/umms-indikar/shared/projects/geneformer/example_input_files/cell_classification/disease_classification/human_dcm_hcm_nf.dataset/"
   ]
  },
  {
   "cell_type": "code",
   "execution_count": null,
   "id": "c8cbb7be-202b-41f5-862e-8f2cf0fe6be0",
   "metadata": {},
   "outputs": [],
   "source": [
    "import torch\n",
    "torch.cuda.empty_cache()\n"
   ]
  },
  {
   "cell_type": "code",
   "execution_count": 2,
   "id": "2e0d7651-5964-4252-832d-d4980b5ca1dc",
   "metadata": {},
   "outputs": [
    {
     "name": "stdin",
     "output_type": "stream",
     "text": [
      "Enter your NVIDIA API key:  ········\n"
     ]
    },
    {
     "name": "stdout",
     "output_type": "stream",
     "text": [
      "\n",
      "Would you like to use a database with BRAD [Y/N]?\n"
     ]
    },
    {
     "name": "stdin",
     "output_type": "stream",
     "text": [
      " N\n"
     ]
    },
    {
     "name": "stderr",
     "output_type": "stream",
     "text": [
      "\u001b[32m2024-06-27 22:30:31 INFO semantic_router.utils.logger local\u001b[0m\n"
     ]
    },
    {
     "name": "stdout",
     "output_type": "stream",
     "text": [
      "Welcome to RAG! The chat log from this conversation will be saved to /home/jpic/BRAD/2024-06-27_22-30-23/log.json. How can I help?\n",
      "==================================================\n"
     ]
    },
    {
     "name": "stdin",
     "output_type": "stream",
     "text": [
      "Input >>  /force CODE please run the gene former embedding code with this input file: /nfs/turbo/umms-indikar/shared/projects/geneformer/example_input_files/cell_classification/disease_classification/human_dcm_hcm_nf.dataset/\n"
     ]
    },
    {
     "name": "stderr",
     "output_type": "stream",
     "text": [
      "2024-06-27 22:30:52,872 - INFO - CODE\n",
      "2024-06-27 22:30:52,874 - INFO - CODER\n",
      "2024-06-27 22:30:52,878 - INFO - input_variables=['user_query'] template=\"You must select which code to run to help a user.\\n\\n**Available Scripts**\\nScript Name: geneformerEmbeddings, \\t Description: Get gene former embeddings of your data\\n\\n\\n**User Query**\\n{user_query}\\n\\n**Task**\\nBased on the user's query, select the best script from the available scripts. Provide the script name and explain why it is the best match. If no script is good, replace script with None\\n\\n**Response Template**\\nSCRIPT: <selected script>\\nREASON: <reasoning why the script fits the user prompt>\\n\"\n",
      "2024-06-27 22:30:52,880 - INFO - FIRST LLM CALL\n"
     ]
    },
    {
     "name": "stdout",
     "output_type": "stream",
     "text": [
      "==================================================\n",
      "RAG >> 0: \n",
      "DEBUG\n",
      "CODER\n",
      "DEBUG\n",
      "input_variables=['user_query'] template=\"You must select which code to run to help a user.\\n\\n**Available Scripts**\\nScript Name: geneformerEmbeddings, \\t Description: Get gene former embeddings of your data\\n\\n\\n**User Query**\\n{user_query}\\n\\n**Task**\\nBased on the user's query, select the best script from the available scripts. Provide the script name and explain why it is the best match. If no script is good, replace script with None\\n\\n**Response Template**\\nSCRIPT: <selected script>\\nREASON: <reasoning why the script fits the user prompt>\\n\"\n",
      "DEBUG\n",
      "FIRST LLM CALL\n"
     ]
    },
    {
     "name": "stderr",
     "output_type": "stream",
     "text": [
      "2024-06-27 22:30:54,023 - INFO - SCRIPT: geneformerEmbeddings\n",
      "REASON: The user query explicitly mentions running the \"gene former embedding code\" and provides an input file, which matches the description of the geneformerEmbeddings script, making it the best match.\n",
      "2024-06-27 22:30:54,026 - INFO - Warning! the type doesn't exist\n",
      "2024-06-27 22:30:54,029 - INFO - scriptPath=/home/jpic/RAG-DEV/tutorials/geneformer/python\n",
      "2024-06-27 22:30:54,032 - INFO - pyPath=/home/jpic/RAG-DEV/tutorials/geneformer/python\n",
      "2024-06-27 22:30:54,034 - INFO - ALL SCRIPTS FOUND. BUILDING TEMPLATE\n",
      "2024-06-27 22:30:54,035 - INFO - input_variables=['history', 'input'] template='Current conversation:\\n{history}\\n\\n**PYTHON SCRIPT**\\nYou must run this python script:\\n/home/jpic/RAG-DEV/tutorials/geneformer/python/geneformerEmbeddings.py\\n\\n**PYTHON SCRIPT DOCUMENTATION**:\\nThis is the doc string of this python script:\\n\\'\\'\\'\\nGet gene former embeddings of your data\\n\\nArguments (three arguments):\\n    1. output path: chatstatus[\\'output-directory\\']\\n    2. output file: <name of output file>\\n    3. input file: <name of the input file>\\n\\nUsage:\\n    Command Line:\\n    ```\\n    python <path/to/script/>geneformerEmbedding.py <output path> <output file> <input file>\\n    ```\\n                                                       |              |           |\\n                                                   Argument 1     Argument 2   Argument 3\\n    BRAD Line:\\n    ```\\n    subprocess.call([sys.executable, \\'<path/to/script/>/geneformerEmbedding.py\\', chatstatus[\\'output-directory\\'], <output file>, <input file>])\\n    ```\\n\\nOutput file name should be `S<Step number>-EF-Embeddings.csv`\\n\\nThis script uses Geneformer to embed gene expression data.\\n\\'\\'\\'\\n\\n\\n**CALL PYTHON SCRIPTS FROM PYTHON**:\\nUse the `subprocess` module to call any Python script from another Python script. Here are some examples to call a few common Python scripts:\\n\\nTo call a Python script `example_script.py` which has no arguments:\\n\\n```\\nExecute: subprocess.call([sys.executable, \\'<full path to script/> example_script.py\\', chatstatus[\\'output-directory\\']])\\n```\\n\\nTo call a Python script `example_script.py` with one argument:\\n\\n```\\nExecute: subprocess.call([sys.executable, \\'<full path to script/> example_script.py\\', chatstatus[\\'output-directory\\'], \\'arg1\\'])\\n```\\n\\nTo call a Python script `example_script.py` with two arguments:\\n```\\nExecute: subprocess.call([sys.executable, \\'<full path to script/> example_script.py\\', chatstatus[\\'output-directory\\'], \\'arg1\\', \\'arg2\\'])\\n```\\n\\nNote that chatstatus[\\'output-directory\\'] is ALWAYS passed as the first argument.\\n\\nQuery:{input}\\n\\n**INSTRUCTIONS**\\n1. Given the user query and the documentation, identify each of the arguments found in the user\\'s query that should be passed to the Python script.\\n2. Using the `subprocess` module, provide the one line of code to execute the desired Python script with the given arguments. Assume the necessary modules (`subprocess` and `sys`) are already imported.\\n3. The last line of your response should say \"Execute: <Python code to execute>\"\\n4. Format the response/output as:\\n    Arguments: \\n    Python Code Explanation: <2 sentences maximum>\\n    Execute: <your code here>\\n\\n**IMPORTANT**\\nThe code to execute from your response must be formatted as:\\n    Execute: subprocess.call([sys.executable, \\'<path to python script>\\', \\'<argument 1>\\', \\'<argument 2>\\', ..., \\'<argument n>\\'])\\nThis output should be exactly one line and no longer. Stop the response after this line.\\n'\n"
     ]
    },
    {
     "name": "stdout",
     "output_type": "stream",
     "text": [
      "DEBUG\n",
      "SCRIPT: geneformerEmbeddings\n",
      "REASON: The user query explicitly mentions running the \"gene former embedding code\" and provides an input file, which matches the description of the geneformerEmbeddings script, making it the best match.\n",
      "DEBUG\n",
      "Warning! the type doesn't exist\n",
      "DEBUG\n",
      "scriptPath=/home/jpic/RAG-DEV/tutorials/geneformer/python\n",
      "DEBUG\n",
      "pyPath=/home/jpic/RAG-DEV/tutorials/geneformer/python\n",
      "DEBUG\n",
      "ALL SCRIPTS FOUND. BUILDING TEMPLATE\n",
      "DEBUG\n",
      "input_variables=['history', 'input'] template='Current conversation:\\n{history}\\n\\n**PYTHON SCRIPT**\\nYou must run this python script:\\n/home/jpic/RAG-DEV/tutorials/geneformer/python/geneformerEmbeddings.py\\n\\n**PYTHON SCRIPT DOCUMENTATION**:\\nThis is the doc string of this python script:\\n\\'\\'\\'\\nGet gene former embeddings of your data\\n\\nArguments (three arguments):\\n    1. output path: chatstatus[\\'output-directory\\']\\n    2. output file: <name of output file>\\n    3. input file: <name of the input file>\\n\\nUsage:\\n    Command Line:\\n    ```\\n    python <path/to/script/>geneformerEmbedding.py <output path> <output file> <input file>\\n    ```\\n                                                       |              |           |\\n                                                   Argument 1     Argument 2   Argument 3\\n    BRAD Line:\\n    ```\\n    subprocess.call([sys.executable, \\'<path/to/script/>/geneformerEmbedding.py\\', chatstatus[\\'output-directory\\'], <output file>, <input file>])\\n    ```\\n\\nOutput file name should be `S<Step number>-EF-Embeddings.csv`\\n\\nThis script uses Geneformer to embed gene expression data.\\n\\'\\'\\'\\n\\n\\n**CALL PYTHON SCRIPTS FROM PYTHON**:\\nUse the `subprocess` module to call any Python script from another Python script. Here are some examples to call a few common Python scripts:\\n\\nTo call a Python script `example_script.py` which has no arguments:\\n\\n```\\nExecute: subprocess.call([sys.executable, \\'<full path to script/> example_script.py\\', chatstatus[\\'output-directory\\']])\\n```\\n\\nTo call a Python script `example_script.py` with one argument:\\n\\n```\\nExecute: subprocess.call([sys.executable, \\'<full path to script/> example_script.py\\', chatstatus[\\'output-directory\\'], \\'arg1\\'])\\n```\\n\\nTo call a Python script `example_script.py` with two arguments:\\n```\\nExecute: subprocess.call([sys.executable, \\'<full path to script/> example_script.py\\', chatstatus[\\'output-directory\\'], \\'arg1\\', \\'arg2\\'])\\n```\\n\\nNote that chatstatus[\\'output-directory\\'] is ALWAYS passed as the first argument.\\n\\nQuery:{input}\\n\\n**INSTRUCTIONS**\\n1. Given the user query and the documentation, identify each of the arguments found in the user\\'s query that should be passed to the Python script.\\n2. Using the `subprocess` module, provide the one line of code to execute the desired Python script with the given arguments. Assume the necessary modules (`subprocess` and `sys`) are already imported.\\n3. The last line of your response should say \"Execute: <Python code to execute>\"\\n4. Format the response/output as:\\n    Arguments: \\n    Python Code Explanation: <2 sentences maximum>\\n    Execute: <your code here>\\n\\n**IMPORTANT**\\nThe code to execute from your response must be formatted as:\\n    Execute: subprocess.call([sys.executable, \\'<path to python script>\\', \\'<argument 1>\\', \\'<argument 2>\\', ..., \\'<argument n>\\'])\\nThis output should be exactly one line and no longer. Stop the response after this line.\\n'\n",
      "\n",
      "\n",
      "\u001b[1m> Entering new ConversationChain chain...\u001b[0m\n",
      "Prompt after formatting:\n",
      "\u001b[32;1m\u001b[1;3mCurrent conversation:\n",
      "\n",
      "\n",
      "**PYTHON SCRIPT**\n",
      "You must run this python script:\n",
      "/home/jpic/RAG-DEV/tutorials/geneformer/python/geneformerEmbeddings.py\n",
      "\n",
      "**PYTHON SCRIPT DOCUMENTATION**:\n",
      "This is the doc string of this python script:\n",
      "'''\n",
      "Get gene former embeddings of your data\n",
      "\n",
      "Arguments (three arguments):\n",
      "    1. output path: chatstatus['output-directory']\n",
      "    2. output file: <name of output file>\n",
      "    3. input file: <name of the input file>\n",
      "\n",
      "Usage:\n",
      "    Command Line:\n",
      "    ```\n",
      "    python <path/to/script/>geneformerEmbedding.py <output path> <output file> <input file>\n",
      "    ```\n",
      "                                                       |              |           |\n",
      "                                                   Argument 1     Argument 2   Argument 3\n",
      "    BRAD Line:\n",
      "    ```\n",
      "    subprocess.call([sys.executable, '<path/to/script/>/geneformerEmbedding.py', chatstatus['output-directory'], <output file>, <input file>])\n",
      "    ```\n",
      "\n",
      "Output file name should be `S<Step number>-EF-Embeddings.csv`\n",
      "\n",
      "This script uses Geneformer to embed gene expression data.\n",
      "'''\n",
      "\n",
      "\n",
      "**CALL PYTHON SCRIPTS FROM PYTHON**:\n",
      "Use the `subprocess` module to call any Python script from another Python script. Here are some examples to call a few common Python scripts:\n",
      "\n",
      "To call a Python script `example_script.py` which has no arguments:\n",
      "\n",
      "```\n",
      "Execute: subprocess.call([sys.executable, '<full path to script/> example_script.py', chatstatus['output-directory']])\n",
      "```\n",
      "\n",
      "To call a Python script `example_script.py` with one argument:\n",
      "\n",
      "```\n",
      "Execute: subprocess.call([sys.executable, '<full path to script/> example_script.py', chatstatus['output-directory'], 'arg1'])\n",
      "```\n",
      "\n",
      "To call a Python script `example_script.py` with two arguments:\n",
      "```\n",
      "Execute: subprocess.call([sys.executable, '<full path to script/> example_script.py', chatstatus['output-directory'], 'arg1', 'arg2'])\n",
      "```\n",
      "\n",
      "Note that chatstatus['output-directory'] is ALWAYS passed as the first argument.\n",
      "\n",
      "Query:please run the gene former embedding code with this input file: /nfs/turbo/umms-indikar/shared/projects/geneformer/example_input_files/cell_classification/disease_classification/human_dcm_hcm_nf.dataset/\n",
      "\n",
      "**INSTRUCTIONS**\n",
      "1. Given the user query and the documentation, identify each of the arguments found in the user's query that should be passed to the Python script.\n",
      "2. Using the `subprocess` module, provide the one line of code to execute the desired Python script with the given arguments. Assume the necessary modules (`subprocess` and `sys`) are already imported.\n",
      "3. The last line of your response should say \"Execute: <Python code to execute>\"\n",
      "4. Format the response/output as:\n",
      "    Arguments: \n",
      "    Python Code Explanation: <2 sentences maximum>\n",
      "    Execute: <your code here>\n",
      "\n",
      "**IMPORTANT**\n",
      "The code to execute from your response must be formatted as:\n",
      "    Execute: subprocess.call([sys.executable, '<path to python script>', '<argument 1>', '<argument 2>', ..., '<argument n>'])\n",
      "This output should be exactly one line and no longer. Stop the response after this line.\n",
      "\u001b[0m\n"
     ]
    },
    {
     "name": "stderr",
     "output_type": "stream",
     "text": [
      "2024-06-27 22:30:57,472 - INFO - LLM OUTPUT PARSER\n",
      "2024-06-27 22:30:57,473 - INFO - Arguments: \n",
      "output path: chatstatus['output-directory'], output file: S<Step number>-EF-Embeddings.csv, input file: /nfs/turbo/umms-indikar/shared/projects/geneformer/example_input_files/cell_classification/disease_classification/human_dcm_hcm_nf.dataset/\n",
      "Python Code Explanation: The Python script geneformerEmbeddings.py is called with the necessary arguments using the subprocess module. The arguments include the output path, output file, and input file.\n",
      "Execute: subprocess.call([sys.executable, '/home/jpic/RAG-DEV/tutorials/geneformer/python/geneformerEmbeddings.py', chatstatus['output-directory'], 'S<Step number>-EF-Embeddings.csv', '/nfs/turbo/umms-indikar/shared/projects/geneformer/example_input_files/cell_classification/disease_classification/human_dcm_hcm_nf.dataset/'])\n",
      "2024-06-27 22:30:57,474 - INFO - [\"Arguments: \\noutput path: chatstatus['output-directory'], output file: S<Step number>-EF-Embeddings.csv, input file: /nfs/turbo/umms-indikar/shared/projects/geneformer/example_input_files/cell_classification/disease_classification/human_dcm_hcm_nf.dataset/\\nPython Code Explanation: The Python script geneformerEmbeddings.py is called with the necessary arguments using the subprocess module. The arguments include the output path, output file, and input file.\\n\", \" subprocess.call([sys.executable, '/home/jpic/RAG-DEV/tutorials/geneformer/python/geneformerEmbeddings.py', chatstatus['output-directory'], 'S<Step number>-EF-Embeddings.csv', '/nfs/turbo/umms-indikar/shared/projects/geneformer/example_input_files/cell_classification/disease_classification/human_dcm_hcm_nf.dataset/'])\"]\n",
      "2024-06-27 22:30:57,475 - INFO - Executing Code!!\n",
      "2024-06-27 22:30:57,476 - INFO - EVAL\n",
      "2024-06-27 22:30:57,477 - INFO - subprocess.call([sys.executable, '/home/jpic/RAG-DEV/tutorials/geneformer/python/geneformerEmbeddings.py', chatstatus['output-directory'], 'S<Step number>-EF-Embeddings.csv', '/nfs/turbo/umms-indikar/shared/projects/geneformer/example_input_files/cell_classification/disease_classification/human_dcm_hcm_nf.dataset/'])\n",
      "2024-06-27 22:30:57,478 - INFO - END EVAL CHECK\n"
     ]
    },
    {
     "name": "stdout",
     "output_type": "stream",
     "text": [
      "\n",
      "\u001b[1m> Finished chain.\u001b[0m\n",
      "DEBUG\n",
      "LLM OUTPUT PARSER\n",
      "DEBUG\n",
      "Arguments: \n",
      "output path: chatstatus['output-directory'], output file: S<Step number>-EF-Embeddings.csv, input file: /nfs/turbo/umms-indikar/shared/projects/geneformer/example_input_files/cell_classification/disease_classification/human_dcm_hcm_nf.dataset/\n",
      "Python Code Explanation: The Python script geneformerEmbeddings.py is called with the necessary arguments using the subprocess module. The arguments include the output path, output file, and input file.\n",
      "Execute: subprocess.call([sys.executable, '/home/jpic/RAG-DEV/tutorials/geneformer/python/geneformerEmbeddings.py', chatstatus['output-directory'], 'S<Step number>-EF-Embeddings.csv', '/nfs/turbo/umms-indikar/shared/projects/geneformer/example_input_files/cell_classification/disease_classification/human_dcm_hcm_nf.dataset/'])\n",
      "DEBUG\n",
      "[\"Arguments: \\noutput path: chatstatus['output-directory'], output file: S<Step number>-EF-Embeddings.csv, input file: /nfs/turbo/umms-indikar/shared/projects/geneformer/example_input_files/cell_classification/disease_classification/human_dcm_hcm_nf.dataset/\\nPython Code Explanation: The Python script geneformerEmbeddings.py is called with the necessary arguments using the subprocess module. The arguments include the output path, output file, and input file.\\n\", \" subprocess.call([sys.executable, '/home/jpic/RAG-DEV/tutorials/geneformer/python/geneformerEmbeddings.py', chatstatus['output-directory'], 'S<Step number>-EF-Embeddings.csv', '/nfs/turbo/umms-indikar/shared/projects/geneformer/example_input_files/cell_classification/disease_classification/human_dcm_hcm_nf.dataset/'])\"]\n",
      "DEBUG\n",
      "Executing Code!!\n",
      "DEBUG\n",
      "EVAL\n",
      "DEBUG\n",
      "subprocess.call([sys.executable, '/home/jpic/RAG-DEV/tutorials/geneformer/python/geneformerEmbeddings.py', chatstatus['output-directory'], 'S<Step number>-EF-Embeddings.csv', '/nfs/turbo/umms-indikar/shared/projects/geneformer/example_input_files/cell_classification/disease_classification/human_dcm_hcm_nf.dataset/'])\n",
      "DEBUG\n",
      "END EVAL CHECK\n"
     ]
    },
    {
     "name": "stderr",
     "output_type": "stream",
     "text": [
      "/home/jpic/.local/lib/python3.11/site-packages/torch/_utils.py:776: UserWarning: TypedStorage is deprecated. It will be removed in the future and UntypedStorage will be the only storage class. This should only matter to you if you are using storages directly.  To access UntypedStorage directly, use tensor.untyped_storage() instead of tensor.storage()\n",
      "  return self.fget.__get__(instance, owner)()\n",
      "Traceback (most recent call last):\n",
      "  File \"/home/jpic/RAG-DEV/tutorials/geneformer/python/geneformerEmbeddings.py\", line 58, in <module>\n",
      "    main()\n",
      "  File \"/home/jpic/RAG-DEV/tutorials/geneformer/python/geneformerEmbeddings.py\", line 52, in main\n",
      "    embs = embex.extract_embs(model,\n",
      "           ^^^^^^^^^^^^^^^^^^^^^^^^^\n",
      "  File \"/home/jpic/.local/lib/python3.11/site-packages/geneformer/emb_extractor.py\", line 562, in extract_embs\n",
      "    model = pu.load_model(\n",
      "            ^^^^^^^^^^^^^^\n",
      "  File \"/home/jpic/.local/lib/python3.11/site-packages/geneformer/perturber_utils.py\", line 147, in load_model\n",
      "    model = model.to(\"cuda\")\n",
      "            ^^^^^^^^^^^^^^^^\n",
      "  File \"/home/jpic/.local/lib/python3.11/site-packages/transformers/modeling_utils.py\", line 2724, in to\n",
      "    return super().to(*args, **kwargs)\n",
      "           ^^^^^^^^^^^^^^^^^^^^^^^^^^^\n",
      "  File \"/home/jpic/.local/lib/python3.11/site-packages/torch/nn/modules/module.py\", line 1145, in to\n",
      "    return self._apply(convert)\n",
      "           ^^^^^^^^^^^^^^^^^^^^\n",
      "  File \"/home/jpic/.local/lib/python3.11/site-packages/torch/nn/modules/module.py\", line 797, in _apply\n",
      "    module._apply(fn)\n",
      "  File \"/home/jpic/.local/lib/python3.11/site-packages/torch/nn/modules/module.py\", line 797, in _apply\n",
      "    module._apply(fn)\n",
      "  File \"/home/jpic/.local/lib/python3.11/site-packages/torch/nn/modules/module.py\", line 797, in _apply\n",
      "    module._apply(fn)\n",
      "  File \"/home/jpic/.local/lib/python3.11/site-packages/torch/nn/modules/module.py\", line 820, in _apply\n",
      "    param_applied = fn(param)\n",
      "                    ^^^^^^^^^\n",
      "  File \"/home/jpic/.local/lib/python3.11/site-packages/torch/nn/modules/module.py\", line 1143, in convert\n",
      "    return t.to(device, dtype if t.is_floating_point() or t.is_complex() else None, non_blocking)\n",
      "           ^^^^^^^^^^^^^^^^^^^^^^^^^^^^^^^^^^^^^^^^^^^^^^^^^^^^^^^^^^^^^^^^^^^^^^^^^^^^^^^^^^^^^^\n",
      "RuntimeError: CUDA error: CUDA-capable device(s) is/are busy or unavailable\n",
      "CUDA kernel errors might be asynchronously reported at some other API call, so the stacktrace below might be incorrect.\n",
      "For debugging consider passing CUDA_LAUNCH_BLOCKING=1.\n",
      "Compile with `TORCH_USE_CUDA_DSA` to enable device-side assertions.\n",
      "\n",
      "2024-06-27 22:31:05,587 - INFO - Debug: PYTHON code executed successfully.\n",
      "2024-06-27 22:31:05,588 - INFO - \n",
      "\n",
      "\n",
      "route\n",
      "\n",
      "\n",
      "\n",
      "2024-06-27 22:31:05,589 - INFO - CODE\n",
      "2024-06-27 22:31:05,590 - INFO - \n",
      "\n",
      "PLANNER:\n",
      "\n",
      "{'module': 'CODE', 'steps': []}\n"
     ]
    },
    {
     "name": "stdout",
     "output_type": "stream",
     "text": [
      "DEBUG\n",
      "Debug: PYTHON code executed successfully.\n",
      "DEBUG\n",
      "\n",
      "\n",
      "\n",
      "route\n",
      "\n",
      "\n",
      "\n",
      "DEBUG\n",
      "CODE\n",
      "DEBUG\n",
      "\n",
      "\n",
      "PLANNER:\n",
      "\n",
      "{'module': 'CODE', 'steps': []}\n",
      "==================================================\n"
     ]
    },
    {
     "name": "stdin",
     "output_type": "stream",
     "text": [
      "Input >>  q\n"
     ]
    },
    {
     "name": "stdout",
     "output_type": "stream",
     "text": [
      "Thanks for chatting today! I hope to talk soon, and don't forget that a record of this conversation is available at: /home/jpic/BRAD/2024-06-27_22-30-23/log.json\n"
     ]
    }
   ],
   "source": [
    "brad.chat()"
   ]
  },
  {
   "cell_type": "markdown",
   "id": "1348c54b-dae9-496c-9b34-7e763cd3e6de",
   "metadata": {},
   "source": [
    "## Setting up Geneformer"
   ]
  },
  {
   "cell_type": "code",
   "execution_count": 1,
   "id": "f324bd42-24bc-4173-bea1-23a8747c84d5",
   "metadata": {},
   "outputs": [
    {
     "name": "stdout",
     "output_type": "stream",
     "text": [
      "/home/jpic/RAG-DEV/tutorials/geneformer\n"
     ]
    }
   ],
   "source": [
    "!pwd"
   ]
  },
  {
   "cell_type": "code",
   "execution_count": 3,
   "id": "6aac8f40-0e42-4209-abd7-b346bd4db429",
   "metadata": {},
   "outputs": [],
   "source": [
    "import subprocess\n",
    "import os"
   ]
  },
  {
   "cell_type": "code",
   "execution_count": 4,
   "id": "4864ae9e-dfa9-422d-b747-a27b5d659c83",
   "metadata": {},
   "outputs": [],
   "source": [
    "data_path = \"/nfs/turbo/umms-indikar/shared/projects/geneformer/example_input_files/cell_classification/disease_classification/human_dcm_hcm_nf.dataset/\""
   ]
  },
  {
   "cell_type": "code",
   "execution_count": 8,
   "id": "012a8376-8a38-4f4d-bb1a-29d62b6f7730",
   "metadata": {},
   "outputs": [],
   "source": [
    "import torch\n",
    "torch.cuda.empty_cache()\n",
    "import gc\n",
    "gc.collect()\n",
    "torch.cuda.empty_cache()"
   ]
  },
  {
   "cell_type": "code",
   "execution_count": 9,
   "id": "8ab016d4-a9cf-4343-8876-53c4fc0331ac",
   "metadata": {},
   "outputs": [
    {
     "name": "stderr",
     "output_type": "stream",
     "text": [
      "/home/jpic/.local/lib/python3.11/site-packages/torch/_utils.py:776: UserWarning: TypedStorage is deprecated. It will be removed in the future and UntypedStorage will be the only storage class. This should only matter to you if you are using storages directly.  To access UntypedStorage directly, use tensor.untyped_storage() instead of tensor.storage()\n",
      "  return self.fget.__get__(instance, owner)()\n",
      "Traceback (most recent call last):\n",
      "  File \"/home/jpic/RAG-DEV/tutorials/geneformer/python/geneformerEmbeddings.py\", line 58, in <module>\n",
      "    main()\n",
      "  File \"/home/jpic/RAG-DEV/tutorials/geneformer/python/geneformerEmbeddings.py\", line 52, in main\n",
      "    embs = embex.extract_embs(model,\n",
      "           ^^^^^^^^^^^^^^^^^^^^^^^^^\n",
      "  File \"/home/jpic/.local/lib/python3.11/site-packages/geneformer/emb_extractor.py\", line 562, in extract_embs\n",
      "    model = pu.load_model(\n",
      "            ^^^^^^^^^^^^^^\n",
      "  File \"/home/jpic/.local/lib/python3.11/site-packages/geneformer/perturber_utils.py\", line 147, in load_model\n",
      "    model = model.to(\"cuda\")\n",
      "            ^^^^^^^^^^^^^^^^\n",
      "  File \"/home/jpic/.local/lib/python3.11/site-packages/transformers/modeling_utils.py\", line 2724, in to\n",
      "    return super().to(*args, **kwargs)\n",
      "           ^^^^^^^^^^^^^^^^^^^^^^^^^^^\n",
      "  File \"/home/jpic/.local/lib/python3.11/site-packages/torch/nn/modules/module.py\", line 1145, in to\n",
      "    return self._apply(convert)\n",
      "           ^^^^^^^^^^^^^^^^^^^^\n",
      "  File \"/home/jpic/.local/lib/python3.11/site-packages/torch/nn/modules/module.py\", line 797, in _apply\n",
      "    module._apply(fn)\n",
      "  File \"/home/jpic/.local/lib/python3.11/site-packages/torch/nn/modules/module.py\", line 797, in _apply\n",
      "    module._apply(fn)\n",
      "  File \"/home/jpic/.local/lib/python3.11/site-packages/torch/nn/modules/module.py\", line 797, in _apply\n",
      "    module._apply(fn)\n",
      "  File \"/home/jpic/.local/lib/python3.11/site-packages/torch/nn/modules/module.py\", line 820, in _apply\n",
      "    param_applied = fn(param)\n",
      "                    ^^^^^^^^^\n",
      "  File \"/home/jpic/.local/lib/python3.11/site-packages/torch/nn/modules/module.py\", line 1143, in convert\n",
      "    return t.to(device, dtype if t.is_floating_point() or t.is_complex() else None, non_blocking)\n",
      "           ^^^^^^^^^^^^^^^^^^^^^^^^^^^^^^^^^^^^^^^^^^^^^^^^^^^^^^^^^^^^^^^^^^^^^^^^^^^^^^^^^^^^^^\n",
      "RuntimeError: CUDA error: CUDA-capable device(s) is/are busy or unavailable\n",
      "CUDA kernel errors might be asynchronously reported at some other API call, so the stacktrace below might be incorrect.\n",
      "For debugging consider passing CUDA_LAUNCH_BLOCKING=1.\n",
      "Compile with `TORCH_USE_CUDA_DSA` to enable device-side assertions.\n",
      "\n"
     ]
    },
    {
     "data": {
      "text/plain": [
       "1"
      ]
     },
     "execution_count": 9,
     "metadata": {},
     "output_type": "execute_result"
    }
   ],
   "source": [
    "subprocess.call([sys.executable, os.path.join('python', 'geneformerEmbeddings.py'), '/home/jpic/RAG-DEV/tutorials/geneformer', 'GF-out.csv', data_path])"
   ]
  },
  {
   "cell_type": "code",
   "execution_count": 5,
   "id": "396adf78-dac9-421a-9ba3-9d7c282d3cc1",
   "metadata": {},
   "outputs": [
    {
     "data": {
      "text/plain": [
       "'python/geneformerEmbedding.py'"
      ]
     },
     "execution_count": 5,
     "metadata": {},
     "output_type": "execute_result"
    }
   ],
   "source": [
    "os.path.join('python', 'geneformerEmbedding.py')"
   ]
  },
  {
   "cell_type": "code",
   "execution_count": null,
   "id": "ba23f17c-f0d6-4326-a01d-e42830bcd6e2",
   "metadata": {},
   "outputs": [],
   "source": []
  }
 ],
 "metadata": {
  "kernelspec": {
   "display_name": "Python 3 (ipykernel)",
   "language": "python",
   "name": "python3"
  },
  "language_info": {
   "codemirror_mode": {
    "name": "ipython",
    "version": 3
   },
   "file_extension": ".py",
   "mimetype": "text/x-python",
   "name": "python",
   "nbconvert_exporter": "python",
   "pygments_lexer": "ipython3",
   "version": "3.11.7"
  }
 },
 "nbformat": 4,
 "nbformat_minor": 5
}
