{
 "cells": [
  {
   "cell_type": "code",
   "execution_count": 1,
   "id": "f51a78e4-6893-4f7c-9004-3e617786bf9e",
   "metadata": {},
   "outputs": [],
   "source": [
    "from BRAD import brad"
   ]
  },
  {
   "cell_type": "code",
   "execution_count": 2,
   "id": "62053941-9b9b-4b3b-a8bb-6df974e47dc8",
   "metadata": {},
   "outputs": [
    {
     "name": "stdin",
     "output_type": "stream",
     "text": [
      "Enter your NVIDIA API key:  ········\n"
     ]
    },
    {
     "name": "stdout",
     "output_type": "stream",
     "text": [
      "\n",
      "Would you like to use a database with BRAD [Y/N]?\n"
     ]
    },
    {
     "name": "stdin",
     "output_type": "stream",
     "text": [
      " N\n"
     ]
    },
    {
     "name": "stderr",
     "output_type": "stream",
     "text": [
      "\u001b[32m2024-07-19 00:17:15 INFO semantic_router.utils.logger local\u001b[0m\n"
     ]
    },
    {
     "name": "stdout",
     "output_type": "stream",
     "text": [
      "Welcome to RAG! The chat log from this conversation will be saved to /home/jpic/BRAD/2024-07-19_00-16-59/log.json. How can I help?\n"
     ]
    }
   ],
   "source": [
    "sadie = brad.chatbot()"
   ]
  },
  {
   "cell_type": "code",
   "execution_count": null,
   "id": "f5d050d2-0605-432b-9a49-4ee5b6c4af6f",
   "metadata": {},
   "outputs": [
    {
     "name": "stdout",
     "output_type": "stream",
     "text": [
      "\n",
      "Would you like to use a database with BRAD [Y/N]?\n"
     ]
    },
    {
     "name": "stdin",
     "output_type": "stream",
     "text": [
      " n\n"
     ]
    },
    {
     "name": "stderr",
     "output_type": "stream",
     "text": [
      "\u001b[32m2024-07-19 00:01:46 INFO semantic_router.utils.logger local\u001b[0m\n"
     ]
    },
    {
     "name": "stdout",
     "output_type": "stream",
     "text": [
      "Welcome to RAG! The chat log from this conversation will be saved to /home/jpic/BRAD/2024-07-19_00-01-44/log.json. How can I help?\n",
      "==================================================\n"
     ]
    },
    {
     "name": "stdin",
     "output_type": "stream",
     "text": [
      "Input >>  /force CODE please embed all of the Tabula Sapiens data with scGPT\n"
     ]
    },
    {
     "name": "stderr",
     "output_type": "stream",
     "text": [
      "2024-07-19 00:02:21,844 - INFO - CODE\n",
      "2024-07-19 00:02:21,846 - INFO - CODER\n",
      "2024-07-19 00:02:21,851 - INFO - input_variables=['user_query'] template=\"You must select which code to run to help a user.\\n\\n**Available Scripts**\\nScript Name: scgpt, \\t Description: This file orchistrates submitting an array job to the cluster to embed all of the Tabula Sapiens data with scGPT. Run this file when you want to embed all of the Tabula Sapiens dataset.\\nScript Name: ts_embedding-tGPT, \\t Description: DO NOT RUN THIS CODE.\\nScript Name: geneformer, \\t Description: This file orchistrates submitting an array job to the cluster to embed all of the Tabula Sapiens data with Geneformer. Run this file when you want to embed all of the Tabula Sapiens dataset. DO NOT RUN THIS CODE.\\nScript Name: tgpt, \\t Description: This file orchistrates submitting an array job to the cluster to embed all of the Tabula Sapiens data with scGPT. Run this file when you want to embed all of the Tabula Sapiens dataset. DO NOT RUN THIS CODE.\\nScript Name: ts_embedding-GF-T, \\t Description: DO NOT RUN THIS CODE.\\nScript Name: ts_embedding-scGPT, \\t Description: DO NOT RUN THIS CODE.\\n\\n\\n**User Query**\\n{user_query}\\n\\n**Task**\\nBased on the user's query, select the best script from the available scripts. Provide the script name and explain why it is the best match. If no script is good, replace script with None\\n\\n**Response Template**\\nSCRIPT: <selected script>\\nREASON: <reasoning why the script fits the user prompt>\\n\"\n",
      "2024-07-19 00:02:21,853 - INFO - FIRST LLM CALL\n"
     ]
    },
    {
     "name": "stdout",
     "output_type": "stream",
     "text": [
      "==================================================\n",
      "BRAD >> 0: \n"
     ]
    },
    {
     "name": "stderr",
     "output_type": "stream",
     "text": [
      "2024-07-19 00:02:22,783 - INFO - SCRIPT: scgpt\n",
      "REASON: The user wants to embed all of the Tabula Sapiens data using scGPT. The script 'scgpt' is designed specifically for this task, as it orchestrates submitting an array job to the cluster to embed the Tabula Sapiens data with scGPT. Therefore, it is the best match for the user's query.\n",
      "2024-07-19 00:02:22,785 - INFO - Warning! the type doesn't exist\n",
      "2024-07-19 00:02:22,786 - INFO - scriptPath=/home/jpic/BRAD-Tools/foundation-models/\n",
      "2024-07-19 00:02:22,787 - INFO - pyPath=/home/jpic/BRAD-Tools/foundation-models/\n",
      "2024-07-19 00:02:22,789 - INFO - ALL SCRIPTS FOUND. BUILDING TEMPLATE\n",
      "2024-07-19 00:02:22,792 - INFO - input_variables=['history', 'input'] template='Current conversation:\\n{history}\\n\\n**PYTHON SCRIPT**\\nYou must run this python script:\\n/home/jpic/BRAD-Tools/foundation-models/scgpt.py\\n\\n**PYTHON SCRIPT DOCUMENTATION**:\\nThis is the doc string of this python script:\\n\"\"\"\\nThis file orchistrates submitting an array job to the cluster to embed all of the Tabula Sapiens data with scGPT. Run this file when you want to embed all of the Tabula Sapiens dataset.\\n\\nThis file takes no input arguments and it should always be run the exact same way.\\n\\nUsage:\\nCommand Line:\\n```\\npython <path/to/script/>scgpt.py\\n```\\n\\nBRAD Line:\\n```\\nsubprocess.run([sys.executable, \\'<path/to/script/>/scgpt.py\\'], capture_output=True, text=True)\\n```\\n\"\"\"\\n\\n\\n**CALL PYTHON SCRIPTS FROM PYTHON**:\\nUse the `subprocess` module to call any Python script from another Python script. Here are some examples to call a few common Python scripts:\\n\\nTo call a Python script `example_script.py` which has no arguments:\\n\\n```\\nExecute: subprocess.run([sys.executable, \\'<full path to script/> example_script.py\\', chatstatus[\\'output-directory\\']], capture_output=True, text=True)\\n```\\n\\nTo call a Python script `example_script.py` with one argument:\\n\\n```\\nExecute: subprocess.run([sys.executable, \\'<full path to script/> example_script.py\\', chatstatus[\\'output-directory\\'], \\'arg1\\'], capture_output=True, text=True)\\n```\\n\\nTo call a Python script `example_script.py` with two arguments:\\n```\\nExecute: subprocess.run([sys.executable, \\'<full path to script/> example_script.py\\', chatstatus[\\'output-directory\\'], \\'arg1\\', \\'arg2\\'], capture_output=True, text=True)\\n```\\n\\nNote that chatstatus[\\'output-directory\\'] is ALWAYS passed as the first argument.\\n\\nThe following files were previously created by BRAD and could be used as input to a function if necessary:\\n\\n\\nQuery:{input}\\n\\n**INSTRUCTIONS**\\n1. Given the user query and the documentation, identify each of the arguments found in the user\\'s query that should be passed to the Python script.\\n2. Using the `subprocess` module, provide the one line of code to execute the desired Python script with the given arguments. Assume the necessary modules (`subprocess` and `sys`) are already imported.\\n3. The last line of your response should say \"Execute: <Python code to execute>\"\\n4. Do not include any extra words or characters. Format the response/output as:\\n    Arguments: \\n    Python Code Explanation: <2 sentences maximum>\\n    Execute: <your code here>\\n\\n**IMPORTANT**\\nThe code to execute from your response must be formatted as:\\n    Execute: subprocess.call([sys.executable, \\'<path to python script>\\', \\'<argument 1>\\', \\'<argument 2>\\', ..., \\'<argument n>\\'], capture_output=True, text=True))\\nThis output should be exactly one line and no longer. Stop the response after this line.\\n'\n"
     ]
    },
    {
     "name": "stdout",
     "output_type": "stream",
     "text": [
      "\n",
      "\n",
      "\u001b[1m> Entering new ConversationChain chain...\u001b[0m\n",
      "Prompt after formatting:\n",
      "\u001b[32;1m\u001b[1;3mCurrent conversation:\n",
      "\n",
      "\n",
      "**PYTHON SCRIPT**\n",
      "You must run this python script:\n",
      "/home/jpic/BRAD-Tools/foundation-models/scgpt.py\n",
      "\n",
      "**PYTHON SCRIPT DOCUMENTATION**:\n",
      "This is the doc string of this python script:\n",
      "\"\"\"\n",
      "This file orchistrates submitting an array job to the cluster to embed all of the Tabula Sapiens data with scGPT. Run this file when you want to embed all of the Tabula Sapiens dataset.\n",
      "\n",
      "This file takes no input arguments and it should always be run the exact same way.\n",
      "\n",
      "Usage:\n",
      "Command Line:\n",
      "```\n",
      "python <path/to/script/>scgpt.py\n",
      "```\n",
      "\n",
      "BRAD Line:\n",
      "```\n",
      "subprocess.run([sys.executable, '<path/to/script/>/scgpt.py'], capture_output=True, text=True)\n",
      "```\n",
      "\"\"\"\n",
      "\n",
      "\n",
      "**CALL PYTHON SCRIPTS FROM PYTHON**:\n",
      "Use the `subprocess` module to call any Python script from another Python script. Here are some examples to call a few common Python scripts:\n",
      "\n",
      "To call a Python script `example_script.py` which has no arguments:\n",
      "\n",
      "```\n",
      "Execute: subprocess.run([sys.executable, '<full path to script/> example_script.py', chatstatus['output-directory']], capture_output=True, text=True)\n",
      "```\n",
      "\n",
      "To call a Python script `example_script.py` with one argument:\n",
      "\n",
      "```\n",
      "Execute: subprocess.run([sys.executable, '<full path to script/> example_script.py', chatstatus['output-directory'], 'arg1'], capture_output=True, text=True)\n",
      "```\n",
      "\n",
      "To call a Python script `example_script.py` with two arguments:\n",
      "```\n",
      "Execute: subprocess.run([sys.executable, '<full path to script/> example_script.py', chatstatus['output-directory'], 'arg1', 'arg2'], capture_output=True, text=True)\n",
      "```\n",
      "\n",
      "Note that chatstatus['output-directory'] is ALWAYS passed as the first argument.\n",
      "\n",
      "The following files were previously created by BRAD and could be used as input to a function if necessary:\n",
      "\n",
      "\n",
      "Query:please embed all of the Tabula Sapiens data with scGPT\n",
      "\n",
      "**INSTRUCTIONS**\n",
      "1. Given the user query and the documentation, identify each of the arguments found in the user's query that should be passed to the Python script.\n",
      "2. Using the `subprocess` module, provide the one line of code to execute the desired Python script with the given arguments. Assume the necessary modules (`subprocess` and `sys`) are already imported.\n",
      "3. The last line of your response should say \"Execute: <Python code to execute>\"\n",
      "4. Do not include any extra words or characters. Format the response/output as:\n",
      "    Arguments: \n",
      "    Python Code Explanation: <2 sentences maximum>\n",
      "    Execute: <your code here>\n",
      "\n",
      "**IMPORTANT**\n",
      "The code to execute from your response must be formatted as:\n",
      "    Execute: subprocess.call([sys.executable, '<path to python script>', '<argument 1>', '<argument 2>', ..., '<argument n>'], capture_output=True, text=True))\n",
      "This output should be exactly one line and no longer. Stop the response after this line.\n",
      "\u001b[0m\n"
     ]
    },
    {
     "name": "stderr",
     "output_type": "stream",
     "text": [
      "2024-07-19 00:02:23,759 - INFO - LLM OUTPUT PARSER\n",
      "2024-07-19 00:02:23,760 - INFO - Arguments: The user's query does not require any specific arguments beyond what is already provided in the output directory from `chatstatus`.\n",
      "\n",
      "Python Code Explanation: This code executes the scGPT script for embedding all of the Tabula Sapiens data using BRAD's array job functionality.\n",
      "\n",
      "Execute: `subprocess.run([sys.executable, '/home/jpic/BRAD-Tools/foundation-models/scgpt.py'], capture_output=True, text=True)`\n",
      "2024-07-19 00:02:23,762 - INFO - [\"Arguments: The user's query does not require any specific arguments beyond what is already provided in the output directory from `chatstatus`.\\n\\nPython Code Explanation: This code executes the scGPT script for embedding all of the Tabula Sapiens data using BRAD's array job functionality.\\n\\n\", \" `subprocess.run([sys.executable, '/home/jpic/BRAD-Tools/foundation-models/scgpt.py'], capture_output=True, text=True)`\"]\n",
      "2024-07-19 00:02:23,763 - INFO - Stripped funciton call\n",
      "2024-07-19 00:02:23,765 - INFO - subprocess.run([sys.executable, '/home/jpic/BRAD-Tools/foundation-models/scgpt.py'], capture_output=True, text=True)\n",
      "2024-07-19 00:02:23,766 - INFO - Cleaned up function call:\n",
      "\n",
      "2024-07-19 00:02:23,767 - INFO - subprocess.run([sys.executable, '/home/jpic/BRAD-Tools/foundation-models/scgpt.py'], capture_output=True, text=True)\n",
      "2024-07-19 00:02:23,768 - INFO - \n",
      "\n",
      "2024-07-19 00:02:23,770 - INFO - EVAL\n",
      "2024-07-19 00:02:23,771 - INFO - subprocess.run([sys.executable, '/home/jpic/BRAD-Tools/foundation-models/scgpt.py'], capture_output=True, text=True)\n",
      "2024-07-19 00:02:23,773 - INFO - END EVAL CHECK\n",
      "2024-07-19 00:02:23,774 - INFO - PYTHON CODE OUTPUT DIRECTORY CHANGED\n",
      "2024-07-19 00:02:23,775 - INFO - subprocess.run([sys.executable, '/home/jpic/BRAD-Tools/foundation-models/scgpt.py'], chatstatus['output-directory'], text=True)\n",
      "2024-07-19 00:02:23,776 - INFO - Finalized PYTHON Call:\n",
      "2024-07-19 00:02:23,777 - INFO -    \n",
      "2024-07-19 00:02:23,778 - INFO - response = subprocess.run([sys.executable, '/home/jpic/BRAD-Tools/foundation-models/scgpt.py'], chatstatus['output-directory'], text=True)\n",
      "2024-07-19 00:02:23,779 - INFO -    \n",
      "2024-07-19 00:02:23,781 - INFO - Debug: An error occurred during PYTHON code execution: bufsize must be an integer\n",
      "2024-07-19 00:02:23,782 - INFO - \n",
      "\n",
      "\n",
      "route\n",
      "\n",
      "\n",
      "\n",
      "2024-07-19 00:02:23,783 - INFO - CODE\n",
      "2024-07-19 00:02:23,784 - INFO - \n",
      "\n",
      "PLANNER:\n",
      "\n",
      "{'module': 'CODE', 'steps': [{'llm': '', 'memory': 'None', 'prompt': 'input_variables=[\\'user_query\\'] template=\"You must select which code to run to help a user.\\\\n\\\\n**Available Scripts**\\\\nScript Name: scgpt, \\\\t Description: This file orchistrates submitting an array job to the cluster to embed all of the Tabula Sapiens data with scGPT. Run this file when you want to embed all of the Tabula Sapiens dataset.\\\\nScript Name: ts_embedding-tGPT, \\\\t Description: DO NOT RUN THIS CODE.\\\\nScript Name: geneformer, \\\\t Description: This file orchistrates submitting an array job to the cluster to embed all of the Tabula Sapiens data with Geneformer. Run this file when you want to embed all of the Tabula Sapiens dataset. DO NOT RUN THIS CODE.\\\\nScript Name: tgpt, \\\\t Description: This file orchistrates submitting an array job to the cluster to embed all of the Tabula Sapiens data with scGPT. Run this file when you want to embed all of the Tabula Sapiens dataset. DO NOT RUN THIS CODE.\\\\nScript Name: ts_embedding-GF-T, \\\\t Description: DO NOT RUN THIS CODE.\\\\nScript Name: ts_embedding-scGPT, \\\\t Description: DO NOT RUN THIS CODE.\\\\n\\\\n\\\\n**User Query**\\\\n{user_query}\\\\n\\\\n**Task**\\\\nBased on the user\\'s query, select the best script from the available scripts. Provide the script name and explain why it is the best match. If no script is good, replace script with None\\\\n\\\\n**Response Template**\\\\nSCRIPT: <selected script>\\\\nREASON: <reasoning why the script fits the user prompt>\\\\n\"', 'input': 'please embed all of the Tabula Sapiens data with scGPT', 'output': 'content=\"SCRIPT: scgpt\\\\nREASON: The user wants to embed all of the Tabula Sapiens data using scGPT. The script \\'scgpt\\' is designed specifically for this task, as it orchestrates submitting an array job to the cluster to embed the Tabula Sapiens data with scGPT. Therefore, it is the best match for the user\\'s query.\" response_metadata={\\'role\\': \\'assistant\\', \\'content\\': \"SCRIPT: scgpt\\\\nREASON: The user wants to embed all of the Tabula Sapiens data using scGPT. The script \\'scgpt\\' is designed specifically for this task, as it orchestrates submitting an array job to the cluster to embed the Tabula Sapiens data with scGPT. Therefore, it is the best match for the user\\'s query.\", \\'token_usage\\': {\\'prompt_tokens\\': 400, \\'total_tokens\\': 487, \\'completion_tokens\\': 87}, \\'model_name\\': \\'mistralai/mixtral-8x7b-instruct-v0.1\\'} id=\\'run-a28000ea-16ab-458c-af5f-b12e9b354ee4-0\\' role=\\'assistant\\'', 'parsedOutput': {'scriptName': '/home/jpic/BRAD-Tools/foundation-models/scgpt.py', 'scriptType': 'python', 'scriptPath': '/home/jpic/BRAD-Tools/foundation-models/'}, 'purpose': 'Select which code to run'}, {'llm': '', 'memory': 'None', 'prompt': 'input_variables=[\\'history\\', \\'input\\'] template=\\'Current conversation:\\\\n{history}\\\\n\\\\n**PYTHON SCRIPT**\\\\nYou must run this python script:\\\\n/home/jpic/BRAD-Tools/foundation-models/scgpt.py\\\\n\\\\n**PYTHON SCRIPT DOCUMENTATION**:\\\\nThis is the doc string of this python script:\\\\n\"\"\"\\\\nThis file orchistrates submitting an array job to the cluster to embed all of the Tabula Sapiens data with scGPT. Run this file when you want to embed all of the Tabula Sapiens dataset.\\\\n\\\\nThis file takes no input arguments and it should always be run the exact same way.\\\\n\\\\nUsage:\\\\nCommand Line:\\\\n```\\\\npython <path/to/script/>scgpt.py\\\\n```\\\\n\\\\nBRAD Line:\\\\n```\\\\nsubprocess.run([sys.executable, \\\\\\'<path/to/script/>/scgpt.py\\\\\\'], capture_output=True, text=True)\\\\n```\\\\n\"\"\"\\\\n\\\\n\\\\n**CALL PYTHON SCRIPTS FROM PYTHON**:\\\\nUse the `subprocess` module to call any Python script from another Python script. Here are some examples to call a few common Python scripts:\\\\n\\\\nTo call a Python script `example_script.py` which has no arguments:\\\\n\\\\n```\\\\nExecute: subprocess.run([sys.executable, \\\\\\'<full path to script/> example_script.py\\\\\\', chatstatus[\\\\\\'output-directory\\\\\\']], capture_output=True, text=True)\\\\n```\\\\n\\\\nTo call a Python script `example_script.py` with one argument:\\\\n\\\\n```\\\\nExecute: subprocess.run([sys.executable, \\\\\\'<full path to script/> example_script.py\\\\\\', chatstatus[\\\\\\'output-directory\\\\\\'], \\\\\\'arg1\\\\\\'], capture_output=True, text=True)\\\\n```\\\\n\\\\nTo call a Python script `example_script.py` with two arguments:\\\\n```\\\\nExecute: subprocess.run([sys.executable, \\\\\\'<full path to script/> example_script.py\\\\\\', chatstatus[\\\\\\'output-directory\\\\\\'], \\\\\\'arg1\\\\\\', \\\\\\'arg2\\\\\\'], capture_output=True, text=True)\\\\n```\\\\n\\\\nNote that chatstatus[\\\\\\'output-directory\\\\\\'] is ALWAYS passed as the first argument.\\\\n\\\\nThe following files were previously created by BRAD and could be used as input to a function if necessary:\\\\n\\\\n\\\\nQuery:{input}\\\\n\\\\n**INSTRUCTIONS**\\\\n1. Given the user query and the documentation, identify each of the arguments found in the user\\\\\\'s query that should be passed to the Python script.\\\\n2. Using the `subprocess` module, provide the one line of code to execute the desired Python script with the given arguments. Assume the necessary modules (`subprocess` and `sys`) are already imported.\\\\n3. The last line of your response should say \"Execute: <Python code to execute>\"\\\\n4. Do not include any extra words or characters. Format the response/output as:\\\\n    Arguments: \\\\n    Python Code Explanation: <2 sentences maximum>\\\\n    Execute: <your code here>\\\\n\\\\n**IMPORTANT**\\\\nThe code to execute from your response must be formatted as:\\\\n    Execute: subprocess.call([sys.executable, \\\\\\'<path to python script>\\\\\\', \\\\\\'<argument 1>\\\\\\', \\\\\\'<argument 2>\\\\\\', ..., \\\\\\'<argument n>\\\\\\'], capture_output=True, text=True))\\\\nThis output should be exactly one line and no longer. Stop the response after this line.\\\\n\\'', 'input': 'please embed all of the Tabula Sapiens data with scGPT', 'output': \"Arguments: The user's query does not require any specific arguments beyond what is already provided in the output directory from `chatstatus`.\\n\\nPython Code Explanation: This code executes the scGPT script for embedding all of the Tabula Sapiens data using BRAD's array job functionality.\\n\\nExecute: `subprocess.run([sys.executable, '/home/jpic/BRAD-Tools/foundation-models/scgpt.py'], capture_output=True, text=True)`\", 'parsedOutput': {'code': \"subprocess.run([sys.executable, '/home/jpic/BRAD-Tools/foundation-models/scgpt.py'], capture_output=True, text=True)\"}, 'purpose': 'Format function call'}]}\n"
     ]
    },
    {
     "name": "stdout",
     "output_type": "stream",
     "text": [
      "\n",
      "\u001b[1m> Finished chain.\u001b[0m\n",
      "==================================================\n"
     ]
    },
    {
     "name": "stdin",
     "output_type": "stream",
     "text": [
      "Input >>  /force CODE please embed all of the Tabula Sapiens data with scGPT\n"
     ]
    },
    {
     "name": "stderr",
     "output_type": "stream",
     "text": [
      "2024-07-19 00:04:03,821 - INFO - CODE\n",
      "2024-07-19 00:04:03,822 - INFO - CODER\n",
      "2024-07-19 00:04:03,826 - INFO - input_variables=['user_query'] template=\"You must select which code to run to help a user.\\n\\n**Available Scripts**\\nScript Name: scgpt, \\t Description: This file orchistrates submitting an array job to the cluster to embed all of the Tabula Sapiens data with scGPT. Run this file when you want to embed all of the Tabula Sapiens dataset.\\nScript Name: ts_embedding-tGPT, \\t Description: DO NOT RUN THIS CODE.\\nScript Name: geneformer, \\t Description: This file orchistrates submitting an array job to the cluster to embed all of the Tabula Sapiens data with Geneformer. Run this file when you want to embed all of the Tabula Sapiens dataset. DO NOT RUN THIS CODE.\\nScript Name: tgpt, \\t Description: This file orchistrates submitting an array job to the cluster to embed all of the Tabula Sapiens data with scGPT. Run this file when you want to embed all of the Tabula Sapiens dataset. DO NOT RUN THIS CODE.\\nScript Name: ts_embedding-GF-T, \\t Description: DO NOT RUN THIS CODE.\\nScript Name: ts_embedding-scGPT, \\t Description: DO NOT RUN THIS CODE.\\n\\n\\n**User Query**\\n{user_query}\\n\\n**Task**\\nBased on the user's query, select the best script from the available scripts. Provide the script name and explain why it is the best match. If no script is good, replace script with None\\n\\n**Response Template**\\nSCRIPT: <selected script>\\nREASON: <reasoning why the script fits the user prompt>\\n\"\n",
      "2024-07-19 00:04:03,827 - INFO - FIRST LLM CALL\n"
     ]
    },
    {
     "name": "stdout",
     "output_type": "stream",
     "text": [
      "==================================================\n",
      "BRAD >> 1: \n"
     ]
    },
    {
     "name": "stderr",
     "output_type": "stream",
     "text": [
      "2024-07-19 00:04:04,614 - INFO - SCRIPT: scgpt\n",
      "REASON: The script \"scgpt\" is the best match for the user's query as it orchestrates submitting an array job to the cluster to embed all of the Tabula Sapiens data with scGPT. This directly corresponds to the user's request to embed the Tabula Sapiens data using scGPT.\n",
      "2024-07-19 00:04:04,615 - INFO - Warning! the type doesn't exist\n",
      "2024-07-19 00:04:04,616 - INFO - scriptPath=/home/jpic/BRAD-Tools/foundation-models/\n",
      "2024-07-19 00:04:04,616 - INFO - pyPath=/home/jpic/BRAD-Tools/foundation-models/\n",
      "2024-07-19 00:04:04,617 - INFO - ALL SCRIPTS FOUND. BUILDING TEMPLATE\n",
      "2024-07-19 00:04:04,619 - INFO - input_variables=['history', 'input'] template='Current conversation:\\n{history}\\n\\n**PYTHON SCRIPT**\\nYou must run this python script:\\n/home/jpic/BRAD-Tools/foundation-models/scgpt.py\\n\\n**PYTHON SCRIPT DOCUMENTATION**:\\nThis is the doc string of this python script:\\n\"\"\"\\nThis file orchistrates submitting an array job to the cluster to embed all of the Tabula Sapiens data with scGPT. Run this file when you want to embed all of the Tabula Sapiens dataset.\\n\\nThis file takes no input arguments and it should always be run the exact same way.\\n\\nUsage:\\nCommand Line:\\n```\\npython <path/to/script/>scgpt.py chatstatus[\\'output-directory\\']\\n```\\n\\nBRAD Line:\\n```\\nsubprocess.run([sys.executable, \\'<path/to/script/>/scgpt.py\\', chatstatus[\\'output-directory\\']], capture_output=True, text=True)\\n```\\n\"\"\"\\n\\n\\n**CALL PYTHON SCRIPTS FROM PYTHON**:\\nUse the `subprocess` module to call any Python script from another Python script. Here are some examples to call a few common Python scripts:\\n\\nTo call a Python script `example_script.py` which has no arguments:\\n\\n```\\nExecute: subprocess.run([sys.executable, \\'<full path to script/> example_script.py\\', chatstatus[\\'output-directory\\']], capture_output=True, text=True)\\n```\\n\\nTo call a Python script `example_script.py` with one argument:\\n\\n```\\nExecute: subprocess.run([sys.executable, \\'<full path to script/> example_script.py\\', chatstatus[\\'output-directory\\'], \\'arg1\\'], capture_output=True, text=True)\\n```\\n\\nTo call a Python script `example_script.py` with two arguments:\\n```\\nExecute: subprocess.run([sys.executable, \\'<full path to script/> example_script.py\\', chatstatus[\\'output-directory\\'], \\'arg1\\', \\'arg2\\'], capture_output=True, text=True)\\n```\\n\\nNote that chatstatus[\\'output-directory\\'] is ALWAYS passed as the first argument.\\n\\nThe following files were previously created by BRAD and could be used as input to a function if necessary:\\nlog.json\\n\\nQuery:{input}\\n\\n**INSTRUCTIONS**\\n1. Given the user query and the documentation, identify each of the arguments found in the user\\'s query that should be passed to the Python script.\\n2. Using the `subprocess` module, provide the one line of code to execute the desired Python script with the given arguments. Assume the necessary modules (`subprocess` and `sys`) are already imported.\\n3. The last line of your response should say \"Execute: <Python code to execute>\"\\n4. Do not include any extra words or characters. Format the response/output as:\\n    Arguments: \\n    Python Code Explanation: <2 sentences maximum>\\n    Execute: <your code here>\\n\\n**IMPORTANT**\\nThe code to execute from your response must be formatted as:\\n    Execute: subprocess.call([sys.executable, \\'<path to python script>\\', \\'<argument 1>\\', \\'<argument 2>\\', ..., \\'<argument n>\\'], capture_output=True, text=True))\\nThis output should be exactly one line and no longer. Stop the response after this line.\\n'\n"
     ]
    },
    {
     "name": "stdout",
     "output_type": "stream",
     "text": [
      "\n",
      "\n",
      "\u001b[1m> Entering new ConversationChain chain...\u001b[0m\n",
      "Prompt after formatting:\n",
      "\u001b[32;1m\u001b[1;3mCurrent conversation:\n",
      "\n",
      "\n",
      "**PYTHON SCRIPT**\n",
      "You must run this python script:\n",
      "/home/jpic/BRAD-Tools/foundation-models/scgpt.py\n",
      "\n",
      "**PYTHON SCRIPT DOCUMENTATION**:\n",
      "This is the doc string of this python script:\n",
      "\"\"\"\n",
      "This file orchistrates submitting an array job to the cluster to embed all of the Tabula Sapiens data with scGPT. Run this file when you want to embed all of the Tabula Sapiens dataset.\n",
      "\n",
      "This file takes no input arguments and it should always be run the exact same way.\n",
      "\n",
      "Usage:\n",
      "Command Line:\n",
      "```\n",
      "python <path/to/script/>scgpt.py chatstatus['output-directory']\n",
      "```\n",
      "\n",
      "BRAD Line:\n",
      "```\n",
      "subprocess.run([sys.executable, '<path/to/script/>/scgpt.py', chatstatus['output-directory']], capture_output=True, text=True)\n",
      "```\n",
      "\"\"\"\n",
      "\n",
      "\n",
      "**CALL PYTHON SCRIPTS FROM PYTHON**:\n",
      "Use the `subprocess` module to call any Python script from another Python script. Here are some examples to call a few common Python scripts:\n",
      "\n",
      "To call a Python script `example_script.py` which has no arguments:\n",
      "\n",
      "```\n",
      "Execute: subprocess.run([sys.executable, '<full path to script/> example_script.py', chatstatus['output-directory']], capture_output=True, text=True)\n",
      "```\n",
      "\n",
      "To call a Python script `example_script.py` with one argument:\n",
      "\n",
      "```\n",
      "Execute: subprocess.run([sys.executable, '<full path to script/> example_script.py', chatstatus['output-directory'], 'arg1'], capture_output=True, text=True)\n",
      "```\n",
      "\n",
      "To call a Python script `example_script.py` with two arguments:\n",
      "```\n",
      "Execute: subprocess.run([sys.executable, '<full path to script/> example_script.py', chatstatus['output-directory'], 'arg1', 'arg2'], capture_output=True, text=True)\n",
      "```\n",
      "\n",
      "Note that chatstatus['output-directory'] is ALWAYS passed as the first argument.\n",
      "\n",
      "The following files were previously created by BRAD and could be used as input to a function if necessary:\n",
      "log.json\n",
      "\n",
      "Query:please embed all of the Tabula Sapiens data with scGPT\n",
      "\n",
      "**INSTRUCTIONS**\n",
      "1. Given the user query and the documentation, identify each of the arguments found in the user's query that should be passed to the Python script.\n",
      "2. Using the `subprocess` module, provide the one line of code to execute the desired Python script with the given arguments. Assume the necessary modules (`subprocess` and `sys`) are already imported.\n",
      "3. The last line of your response should say \"Execute: <Python code to execute>\"\n",
      "4. Do not include any extra words or characters. Format the response/output as:\n",
      "    Arguments: \n",
      "    Python Code Explanation: <2 sentences maximum>\n",
      "    Execute: <your code here>\n",
      "\n",
      "**IMPORTANT**\n",
      "The code to execute from your response must be formatted as:\n",
      "    Execute: subprocess.call([sys.executable, '<path to python script>', '<argument 1>', '<argument 2>', ..., '<argument n>'], capture_output=True, text=True))\n",
      "This output should be exactly one line and no longer. Stop the response after this line.\n",
      "\u001b[0m\n"
     ]
    },
    {
     "name": "stderr",
     "output_type": "stream",
     "text": [
      "2024-07-19 00:04:05,952 - INFO - LLM OUTPUT PARSER\n",
      "2024-07-19 00:04:05,953 - INFO - Arguments:\n",
      "\n",
      "* <path/to/script/>/scgpt.py: The path to the Python script that should be executed.\n",
      "* chatstatus['output-directory']: The output directory that is generated by BRAD and passed as an argument to the script.\n",
      "\n",
      "Python Code Explanation:\n",
      "\n",
      "* We need to run the scGPT script to embed all of the Tabula Sapiens data.\n",
      "* The script takes no input arguments, and we need to pass the output directory generated by BRAD.\n",
      "\n",
      "Execute:\n",
      "```python\n",
      "subprocess.run([sys.executable, '/home/jpic/BRAD-Tools/foundation-models/scgpt.py', chatstatus['output-directory']], capture_output=True, text=True)\n",
      "```\n",
      "2024-07-19 00:04:05,953 - INFO - [\"Arguments:\\n\\n* <path/to/script/>/scgpt.py: The path to the Python script that should be executed.\\n* chatstatus['output-directory']: The output directory that is generated by BRAD and passed as an argument to the script.\\n\\nPython Code Explanation:\\n\\n* We need to run the scGPT script to embed all of the Tabula Sapiens data.\\n* The script takes no input arguments, and we need to pass the output directory generated by BRAD.\\n\\n\", \"\\n```python\\nsubprocess.run([sys.executable, '/home/jpic/BRAD-Tools/foundation-models/scgpt.py', chatstatus['output-directory']], capture_output=True, text=True)\\n```\"]\n",
      "2024-07-19 00:04:05,953 - INFO - Stripped funciton call\n",
      "2024-07-19 00:04:05,954 - INFO - python\n",
      "subprocess.run([sys.executable, '/home/jpic/BRAD-Tools/foundation-models/scgpt.py', chatstatus['output-directory']], capture_output=True, text=True)\n",
      "\n",
      "2024-07-19 00:04:05,954 - INFO - Cleaned up function call:\n",
      "\n",
      "2024-07-19 00:04:05,955 - INFO - subprocess.run([sys.executable, '/home/jpic/BRAD-Tools/foundation-models/scgpt.py', chatstatus['output-directory']], capture_output=True, text=True)\n",
      "\n",
      "2024-07-19 00:04:05,955 - INFO - \n",
      "\n",
      "2024-07-19 00:04:05,957 - INFO - EVAL\n",
      "2024-07-19 00:04:05,957 - INFO - subprocess.run([sys.executable, '/home/jpic/BRAD-Tools/foundation-models/scgpt.py', chatstatus['output-directory']], capture_output=True, text=True)\n",
      "\n",
      "2024-07-19 00:04:05,958 - INFO - END EVAL CHECK\n",
      "2024-07-19 00:04:05,958 - INFO - Finalized PYTHON Call:\n",
      "2024-07-19 00:04:05,958 - INFO -    \n",
      "2024-07-19 00:04:05,959 - INFO - response = subprocess.run([sys.executable, '/home/jpic/BRAD-Tools/foundation-models/scgpt.py', chatstatus['output-directory']], capture_output=True, text=True)\n",
      "\n",
      "2024-07-19 00:04:05,959 - INFO -    \n"
     ]
    },
    {
     "name": "stdout",
     "output_type": "stream",
     "text": [
      "\n",
      "\u001b[1m> Finished chain.\u001b[0m\n"
     ]
    },
    {
     "name": "stderr",
     "output_type": "stream",
     "text": [
      "2024-07-19 00:04:07,839 - INFO - Debug: PYTHON code executed successfully.\n",
      "2024-07-19 00:04:07,840 - INFO - Code Execution Output:\n",
      "2024-07-19 00:04:07,840 - INFO - CompletedProcess(args=['/sw/pkgs/arc/python3.11-anaconda/2024.02-1/bin/python', '/home/jpic/BRAD-Tools/foundation-models/scgpt.py', '/home/jpic/BRAD/2024-07-19_00-01-44'], returncode=0, stdout='stdout: Submitted batch job 10907481\\n\\nstderr: \\n', stderr='')\n",
      "2024-07-19 00:04:07,841 - INFO - Debug: PYTHON code output saved to output.\n",
      "2024-07-19 00:04:07,841 - INFO - \n",
      "\n",
      "\n",
      "route\n",
      "\n",
      "\n",
      "\n",
      "2024-07-19 00:04:07,841 - INFO - CODE\n",
      "2024-07-19 00:04:07,842 - INFO - \n",
      "\n",
      "PLANNER:\n",
      "\n",
      "{'module': 'CODE', 'steps': [{'llm': '', 'memory': 'None', 'prompt': 'input_variables=[\\'user_query\\'] template=\"You must select which code to run to help a user.\\\\n\\\\n**Available Scripts**\\\\nScript Name: scgpt, \\\\t Description: This file orchistrates submitting an array job to the cluster to embed all of the Tabula Sapiens data with scGPT. Run this file when you want to embed all of the Tabula Sapiens dataset.\\\\nScript Name: ts_embedding-tGPT, \\\\t Description: DO NOT RUN THIS CODE.\\\\nScript Name: geneformer, \\\\t Description: This file orchistrates submitting an array job to the cluster to embed all of the Tabula Sapiens data with Geneformer. Run this file when you want to embed all of the Tabula Sapiens dataset. DO NOT RUN THIS CODE.\\\\nScript Name: tgpt, \\\\t Description: This file orchistrates submitting an array job to the cluster to embed all of the Tabula Sapiens data with scGPT. Run this file when you want to embed all of the Tabula Sapiens dataset. DO NOT RUN THIS CODE.\\\\nScript Name: ts_embedding-GF-T, \\\\t Description: DO NOT RUN THIS CODE.\\\\nScript Name: ts_embedding-scGPT, \\\\t Description: DO NOT RUN THIS CODE.\\\\n\\\\n\\\\n**User Query**\\\\n{user_query}\\\\n\\\\n**Task**\\\\nBased on the user\\'s query, select the best script from the available scripts. Provide the script name and explain why it is the best match. If no script is good, replace script with None\\\\n\\\\n**Response Template**\\\\nSCRIPT: <selected script>\\\\nREASON: <reasoning why the script fits the user prompt>\\\\n\"', 'input': 'please embed all of the Tabula Sapiens data with scGPT', 'output': 'content=\\'SCRIPT: scgpt\\\\nREASON: The script \"scgpt\" is the best match for the user\\\\\\'s query as it orchestrates submitting an array job to the cluster to embed all of the Tabula Sapiens data with scGPT. This directly corresponds to the user\\\\\\'s request to embed the Tabula Sapiens data using scGPT.\\' response_metadata={\\'role\\': \\'assistant\\', \\'content\\': \\'SCRIPT: scgpt\\\\nREASON: The script \"scgpt\" is the best match for the user\\\\\\'s query as it orchestrates submitting an array job to the cluster to embed all of the Tabula Sapiens data with scGPT. This directly corresponds to the user\\\\\\'s request to embed the Tabula Sapiens data using scGPT.\\', \\'token_usage\\': {\\'prompt_tokens\\': 400, \\'total_tokens\\': 482, \\'completion_tokens\\': 82}, \\'model_name\\': \\'mistralai/mixtral-8x7b-instruct-v0.1\\'} id=\\'run-a2a97a91-0818-4c10-8858-a99da2fbe768-0\\' role=\\'assistant\\'', 'parsedOutput': {'scriptName': '/home/jpic/BRAD-Tools/foundation-models/scgpt.py', 'scriptType': 'python', 'scriptPath': '/home/jpic/BRAD-Tools/foundation-models/'}, 'purpose': 'Select which code to run'}, {'llm': '', 'memory': 'None', 'prompt': 'input_variables=[\\'history\\', \\'input\\'] template=\\'Current conversation:\\\\n{history}\\\\n\\\\n**PYTHON SCRIPT**\\\\nYou must run this python script:\\\\n/home/jpic/BRAD-Tools/foundation-models/scgpt.py\\\\n\\\\n**PYTHON SCRIPT DOCUMENTATION**:\\\\nThis is the doc string of this python script:\\\\n\"\"\"\\\\nThis file orchistrates submitting an array job to the cluster to embed all of the Tabula Sapiens data with scGPT. Run this file when you want to embed all of the Tabula Sapiens dataset.\\\\n\\\\nThis file takes no input arguments and it should always be run the exact same way.\\\\n\\\\nUsage:\\\\nCommand Line:\\\\n```\\\\npython <path/to/script/>scgpt.py chatstatus[\\\\\\'output-directory\\\\\\']\\\\n```\\\\n\\\\nBRAD Line:\\\\n```\\\\nsubprocess.run([sys.executable, \\\\\\'<path/to/script/>/scgpt.py\\\\\\', chatstatus[\\\\\\'output-directory\\\\\\']], capture_output=True, text=True)\\\\n```\\\\n\"\"\"\\\\n\\\\n\\\\n**CALL PYTHON SCRIPTS FROM PYTHON**:\\\\nUse the `subprocess` module to call any Python script from another Python script. Here are some examples to call a few common Python scripts:\\\\n\\\\nTo call a Python script `example_script.py` which has no arguments:\\\\n\\\\n```\\\\nExecute: subprocess.run([sys.executable, \\\\\\'<full path to script/> example_script.py\\\\\\', chatstatus[\\\\\\'output-directory\\\\\\']], capture_output=True, text=True)\\\\n```\\\\n\\\\nTo call a Python script `example_script.py` with one argument:\\\\n\\\\n```\\\\nExecute: subprocess.run([sys.executable, \\\\\\'<full path to script/> example_script.py\\\\\\', chatstatus[\\\\\\'output-directory\\\\\\'], \\\\\\'arg1\\\\\\'], capture_output=True, text=True)\\\\n```\\\\n\\\\nTo call a Python script `example_script.py` with two arguments:\\\\n```\\\\nExecute: subprocess.run([sys.executable, \\\\\\'<full path to script/> example_script.py\\\\\\', chatstatus[\\\\\\'output-directory\\\\\\'], \\\\\\'arg1\\\\\\', \\\\\\'arg2\\\\\\'], capture_output=True, text=True)\\\\n```\\\\n\\\\nNote that chatstatus[\\\\\\'output-directory\\\\\\'] is ALWAYS passed as the first argument.\\\\n\\\\nThe following files were previously created by BRAD and could be used as input to a function if necessary:\\\\nlog.json\\\\n\\\\nQuery:{input}\\\\n\\\\n**INSTRUCTIONS**\\\\n1. Given the user query and the documentation, identify each of the arguments found in the user\\\\\\'s query that should be passed to the Python script.\\\\n2. Using the `subprocess` module, provide the one line of code to execute the desired Python script with the given arguments. Assume the necessary modules (`subprocess` and `sys`) are already imported.\\\\n3. The last line of your response should say \"Execute: <Python code to execute>\"\\\\n4. Do not include any extra words or characters. Format the response/output as:\\\\n    Arguments: \\\\n    Python Code Explanation: <2 sentences maximum>\\\\n    Execute: <your code here>\\\\n\\\\n**IMPORTANT**\\\\nThe code to execute from your response must be formatted as:\\\\n    Execute: subprocess.call([sys.executable, \\\\\\'<path to python script>\\\\\\', \\\\\\'<argument 1>\\\\\\', \\\\\\'<argument 2>\\\\\\', ..., \\\\\\'<argument n>\\\\\\'], capture_output=True, text=True))\\\\nThis output should be exactly one line and no longer. Stop the response after this line.\\\\n\\'', 'input': 'please embed all of the Tabula Sapiens data with scGPT', 'output': \"Arguments:\\n\\n* <path/to/script/>/scgpt.py: The path to the Python script that should be executed.\\n* chatstatus['output-directory']: The output directory that is generated by BRAD and passed as an argument to the script.\\n\\nPython Code Explanation:\\n\\n* We need to run the scGPT script to embed all of the Tabula Sapiens data.\\n* The script takes no input arguments, and we need to pass the output directory generated by BRAD.\\n\\nExecute:\\n```python\\nsubprocess.run([sys.executable, '/home/jpic/BRAD-Tools/foundation-models/scgpt.py', chatstatus['output-directory']], capture_output=True, text=True)\\n```\", 'parsedOutput': {'code': \"subprocess.run([sys.executable, '/home/jpic/BRAD-Tools/foundation-models/scgpt.py', chatstatus['output-directory']], capture_output=True, text=True)\\n\"}, 'purpose': 'Format function call'}, {'func': 'pythonCaller.execute_python_code', 'code': \"response = subprocess.run([sys.executable, '/home/jpic/BRAD-Tools/foundation-models/scgpt.py', chatstatus['output-directory']], capture_output=True, text=True)\\n\", 'purpose': 'execute python code'}]}\n"
     ]
    },
    {
     "name": "stdout",
     "output_type": "stream",
     "text": [
      "==================================================\n"
     ]
    },
    {
     "name": "stdin",
     "output_type": "stream",
     "text": [
      "Input >>  /force CODE please embed all of the Tabula Sapiens data with scGPT\n"
     ]
    },
    {
     "name": "stderr",
     "output_type": "stream",
     "text": [
      "2024-07-19 00:10:06,207 - INFO - CODE\n",
      "2024-07-19 00:10:06,208 - INFO - CODER\n",
      "2024-07-19 00:10:06,213 - INFO - input_variables=['user_query'] template=\"You must select which code to run to help a user.\\n\\n**Available Scripts**\\nScript Name: scgpt, \\t Description: This file orchistrates submitting an array job to the cluster to embed all of the Tabula Sapiens data with scGPT. Run this file when you want to embed all of the Tabula Sapiens dataset.\\nScript Name: ts_embedding-tGPT, \\t Description: DO NOT RUN THIS CODE.\\nScript Name: geneformer, \\t Description: This file orchistrates submitting an array job to the cluster to embed all of the Tabula Sapiens data with Geneformer. Run this file when you want to embed all of the Tabula Sapiens dataset. DO NOT RUN THIS CODE.\\nScript Name: tgpt, \\t Description: This file orchistrates submitting an array job to the cluster to embed all of the Tabula Sapiens data with scGPT. Run this file when you want to embed all of the Tabula Sapiens dataset. DO NOT RUN THIS CODE.\\nScript Name: ts_embedding-GF-T, \\t Description: DO NOT RUN THIS CODE.\\nScript Name: ts_embedding-scGPT, \\t Description: DO NOT RUN THIS CODE.\\n\\n\\n**User Query**\\n{user_query}\\n\\n**Task**\\nBased on the user's query, select the best script from the available scripts. Provide the script name and explain why it is the best match. If no script is good, replace script with None\\n\\n**Response Template**\\nSCRIPT: <selected script>\\nREASON: <reasoning why the script fits the user prompt>\\n\"\n",
      "2024-07-19 00:10:06,214 - INFO - FIRST LLM CALL\n"
     ]
    },
    {
     "name": "stdout",
     "output_type": "stream",
     "text": [
      "==================================================\n",
      "BRAD >> 2: \n"
     ]
    },
    {
     "name": "stderr",
     "output_type": "stream",
     "text": [
      "2024-07-19 00:10:07,033 - INFO - SCRIPT: scgpt\n",
      "REASON: The user wants to embed all of the Tabula Sapiens data using scGPT. The script 'scgpt' is designed specifically for this task, as it orchestrates submitting an array job to the cluster to embed the Tabula Sapiens data with scGPT. Therefore, it is the best match for the user's query.\n",
      "2024-07-19 00:10:07,034 - INFO - Warning! the type doesn't exist\n",
      "2024-07-19 00:10:07,035 - INFO - scriptPath=/home/jpic/BRAD-Tools/foundation-models/\n",
      "2024-07-19 00:10:07,035 - INFO - pyPath=/home/jpic/BRAD-Tools/foundation-models/\n",
      "2024-07-19 00:10:07,036 - INFO - ALL SCRIPTS FOUND. BUILDING TEMPLATE\n",
      "2024-07-19 00:10:07,037 - INFO - input_variables=['history', 'input'] template='Current conversation:\\n{history}\\n\\n**PYTHON SCRIPT**\\nYou must run this python script:\\n/home/jpic/BRAD-Tools/foundation-models/scgpt.py\\n\\n**PYTHON SCRIPT DOCUMENTATION**:\\nThis is the doc string of this python script:\\n\"\"\"\\nThis file orchistrates submitting an array job to the cluster to embed all of the Tabula Sapiens data with scGPT. Run this file when you want to embed all of the Tabula Sapiens dataset.\\n\\nThis file takes no input arguments and it should always be run the exact same way.\\n\\nUsage:\\nCommand Line:\\n```\\npython <path/to/script/>scgpt.py chatstatus[\\'output-directory\\']\\n```\\n\\nBRAD Line:\\n```\\nsubprocess.run([sys.executable, \\'<path/to/script/>/scgpt.py\\', chatstatus[\\'output-directory\\']], capture_output=True, text=True)\\n```\\n\"\"\"\\n\\n\\n**CALL PYTHON SCRIPTS FROM PYTHON**:\\nUse the `subprocess` module to call any Python script from another Python script. Here are some examples to call a few common Python scripts:\\n\\nTo call a Python script `example_script.py` which has no arguments:\\n\\n```\\nExecute: subprocess.run([sys.executable, \\'<full path to script/> example_script.py\\', chatstatus[\\'output-directory\\']], capture_output=True, text=True)\\n```\\n\\nTo call a Python script `example_script.py` with one argument:\\n\\n```\\nExecute: subprocess.run([sys.executable, \\'<full path to script/> example_script.py\\', chatstatus[\\'output-directory\\'], \\'arg1\\'], capture_output=True, text=True)\\n```\\n\\nTo call a Python script `example_script.py` with two arguments:\\n```\\nExecute: subprocess.run([sys.executable, \\'<full path to script/> example_script.py\\', chatstatus[\\'output-directory\\'], \\'arg1\\', \\'arg2\\'], capture_output=True, text=True)\\n```\\n\\nNote that chatstatus[\\'output-directory\\'] is ALWAYS passed as the first argument.\\n\\nThe following files were previously created by BRAD and could be used as input to a function if necessary:\\nlog.json\\n\\nQuery:{input}\\n\\n**INSTRUCTIONS**\\n1. Given the user query and the documentation, identify each of the arguments found in the user\\'s query that should be passed to the Python script.\\n2. Using the `subprocess` module, provide the one line of code to execute the desired Python script with the given arguments. Assume the necessary modules (`subprocess` and `sys`) are already imported.\\n3. The last line of your response should say \"Execute: <Python code to execute>\"\\n4. Do not include any extra words or characters. Format the response/output as:\\n    Arguments: \\n    Python Code Explanation: <2 sentences maximum>\\n    Execute: <your code here>\\n\\n**IMPORTANT**\\nThe code to execute from your response must be formatted as:\\n    Execute: subprocess.call([sys.executable, \\'<path to python script>\\', \\'<argument 1>\\', \\'<argument 2>\\', ..., \\'<argument n>\\'], capture_output=True, text=True))\\nThis output should be exactly one line and no longer. Stop the response after this line.\\n'\n"
     ]
    },
    {
     "name": "stdout",
     "output_type": "stream",
     "text": [
      "\n",
      "\n",
      "\u001b[1m> Entering new ConversationChain chain...\u001b[0m\n",
      "Prompt after formatting:\n",
      "\u001b[32;1m\u001b[1;3mCurrent conversation:\n",
      "\n",
      "\n",
      "**PYTHON SCRIPT**\n",
      "You must run this python script:\n",
      "/home/jpic/BRAD-Tools/foundation-models/scgpt.py\n",
      "\n",
      "**PYTHON SCRIPT DOCUMENTATION**:\n",
      "This is the doc string of this python script:\n",
      "\"\"\"\n",
      "This file orchistrates submitting an array job to the cluster to embed all of the Tabula Sapiens data with scGPT. Run this file when you want to embed all of the Tabula Sapiens dataset.\n",
      "\n",
      "This file takes no input arguments and it should always be run the exact same way.\n",
      "\n",
      "Usage:\n",
      "Command Line:\n",
      "```\n",
      "python <path/to/script/>scgpt.py chatstatus['output-directory']\n",
      "```\n",
      "\n",
      "BRAD Line:\n",
      "```\n",
      "subprocess.run([sys.executable, '<path/to/script/>/scgpt.py', chatstatus['output-directory']], capture_output=True, text=True)\n",
      "```\n",
      "\"\"\"\n",
      "\n",
      "\n",
      "**CALL PYTHON SCRIPTS FROM PYTHON**:\n",
      "Use the `subprocess` module to call any Python script from another Python script. Here are some examples to call a few common Python scripts:\n",
      "\n",
      "To call a Python script `example_script.py` which has no arguments:\n",
      "\n",
      "```\n",
      "Execute: subprocess.run([sys.executable, '<full path to script/> example_script.py', chatstatus['output-directory']], capture_output=True, text=True)\n",
      "```\n",
      "\n",
      "To call a Python script `example_script.py` with one argument:\n",
      "\n",
      "```\n",
      "Execute: subprocess.run([sys.executable, '<full path to script/> example_script.py', chatstatus['output-directory'], 'arg1'], capture_output=True, text=True)\n",
      "```\n",
      "\n",
      "To call a Python script `example_script.py` with two arguments:\n",
      "```\n",
      "Execute: subprocess.run([sys.executable, '<full path to script/> example_script.py', chatstatus['output-directory'], 'arg1', 'arg2'], capture_output=True, text=True)\n",
      "```\n",
      "\n",
      "Note that chatstatus['output-directory'] is ALWAYS passed as the first argument.\n",
      "\n",
      "The following files were previously created by BRAD and could be used as input to a function if necessary:\n",
      "log.json\n",
      "\n",
      "Query:please embed all of the Tabula Sapiens data with scGPT\n",
      "\n",
      "**INSTRUCTIONS**\n",
      "1. Given the user query and the documentation, identify each of the arguments found in the user's query that should be passed to the Python script.\n",
      "2. Using the `subprocess` module, provide the one line of code to execute the desired Python script with the given arguments. Assume the necessary modules (`subprocess` and `sys`) are already imported.\n",
      "3. The last line of your response should say \"Execute: <Python code to execute>\"\n",
      "4. Do not include any extra words or characters. Format the response/output as:\n",
      "    Arguments: \n",
      "    Python Code Explanation: <2 sentences maximum>\n",
      "    Execute: <your code here>\n",
      "\n",
      "**IMPORTANT**\n",
      "The code to execute from your response must be formatted as:\n",
      "    Execute: subprocess.call([sys.executable, '<path to python script>', '<argument 1>', '<argument 2>', ..., '<argument n>'], capture_output=True, text=True))\n",
      "This output should be exactly one line and no longer. Stop the response after this line.\n",
      "\u001b[0m\n"
     ]
    },
    {
     "name": "stderr",
     "output_type": "stream",
     "text": [
      "2024-07-19 00:10:08,369 - INFO - LLM OUTPUT PARSER\n",
      "2024-07-19 00:10:08,370 - INFO - Arguments:\n",
      "\n",
      "* <path/to/script/>/scgpt.py: The path to the Python script that should be executed.\n",
      "* chatstatus['output-directory']: The output directory that is generated by BRAD and passed as an argument to the script.\n",
      "\n",
      "Python Code Explanation:\n",
      "\n",
      "* We need to run the scGPT script to embed all of the Tabula Sapiens data.\n",
      "* The script takes no input arguments, and we need to pass the output directory generated by BRAD.\n",
      "\n",
      "Execute:\n",
      "```python\n",
      "subprocess.run([sys.executable, '/home/jpic/BRAD-Tools/foundation-models/scgpt.py', chatstatus['output-directory']], capture_output=True, text=True)\n",
      "```\n",
      "2024-07-19 00:10:08,371 - INFO - [\"Arguments:\\n\\n* <path/to/script/>/scgpt.py: The path to the Python script that should be executed.\\n* chatstatus['output-directory']: The output directory that is generated by BRAD and passed as an argument to the script.\\n\\nPython Code Explanation:\\n\\n* We need to run the scGPT script to embed all of the Tabula Sapiens data.\\n* The script takes no input arguments, and we need to pass the output directory generated by BRAD.\\n\\n\", \"\\n```python\\nsubprocess.run([sys.executable, '/home/jpic/BRAD-Tools/foundation-models/scgpt.py', chatstatus['output-directory']], capture_output=True, text=True)\\n```\"]\n",
      "2024-07-19 00:10:08,371 - INFO - Stripped funciton call\n",
      "2024-07-19 00:10:08,371 - INFO - python\n",
      "subprocess.run([sys.executable, '/home/jpic/BRAD-Tools/foundation-models/scgpt.py', chatstatus['output-directory']], capture_output=True, text=True)\n",
      "\n",
      "2024-07-19 00:10:08,372 - INFO - Cleaned up function call:\n",
      "\n",
      "2024-07-19 00:10:08,372 - INFO - subprocess.run([sys.executable, '/home/jpic/BRAD-Tools/foundation-models/scgpt.py', chatstatus['output-directory']], capture_output=True, text=True)\n",
      "\n",
      "2024-07-19 00:10:08,373 - INFO - \n",
      "\n",
      "2024-07-19 00:10:08,374 - INFO - EVAL\n",
      "2024-07-19 00:10:08,375 - INFO - subprocess.run([sys.executable, '/home/jpic/BRAD-Tools/foundation-models/scgpt.py', chatstatus['output-directory']], capture_output=True, text=True)\n",
      "\n",
      "2024-07-19 00:10:08,375 - INFO - END EVAL CHECK\n",
      "2024-07-19 00:10:08,375 - INFO - Finalized PYTHON Call:\n",
      "2024-07-19 00:10:08,376 - INFO -    \n",
      "2024-07-19 00:10:08,376 - INFO - response = subprocess.run([sys.executable, '/home/jpic/BRAD-Tools/foundation-models/scgpt.py', chatstatus['output-directory']], capture_output=True, text=True)\n",
      "\n",
      "2024-07-19 00:10:08,377 - INFO -    \n",
      "2024-07-19 00:10:08,481 - INFO - Debug: PYTHON code executed successfully.\n",
      "2024-07-19 00:10:08,483 - INFO - Code Execution Output:\n",
      "2024-07-19 00:10:08,484 - INFO - CompletedProcess(args=['/sw/pkgs/arc/python3.11-anaconda/2024.02-1/bin/python', '/home/jpic/BRAD-Tools/foundation-models/scgpt.py', '/home/jpic/BRAD/2024-07-19_00-01-44'], returncode=0, stdout='stdout: Submitted batch job 10907519\\n\\nstderr: \\n', stderr='')\n",
      "2024-07-19 00:10:08,485 - INFO - Debug: PYTHON code output saved to output.\n",
      "2024-07-19 00:10:08,485 - INFO - \n",
      "\n",
      "\n",
      "route\n",
      "\n",
      "\n",
      "\n",
      "2024-07-19 00:10:08,487 - INFO - CODE\n",
      "2024-07-19 00:10:08,488 - INFO - \n",
      "\n",
      "PLANNER:\n",
      "\n",
      "{'module': 'CODE', 'steps': [{'llm': '', 'memory': 'None', 'prompt': 'input_variables=[\\'user_query\\'] template=\"You must select which code to run to help a user.\\\\n\\\\n**Available Scripts**\\\\nScript Name: scgpt, \\\\t Description: This file orchistrates submitting an array job to the cluster to embed all of the Tabula Sapiens data with scGPT. Run this file when you want to embed all of the Tabula Sapiens dataset.\\\\nScript Name: ts_embedding-tGPT, \\\\t Description: DO NOT RUN THIS CODE.\\\\nScript Name: geneformer, \\\\t Description: This file orchistrates submitting an array job to the cluster to embed all of the Tabula Sapiens data with Geneformer. Run this file when you want to embed all of the Tabula Sapiens dataset. DO NOT RUN THIS CODE.\\\\nScript Name: tgpt, \\\\t Description: This file orchistrates submitting an array job to the cluster to embed all of the Tabula Sapiens data with scGPT. Run this file when you want to embed all of the Tabula Sapiens dataset. DO NOT RUN THIS CODE.\\\\nScript Name: ts_embedding-GF-T, \\\\t Description: DO NOT RUN THIS CODE.\\\\nScript Name: ts_embedding-scGPT, \\\\t Description: DO NOT RUN THIS CODE.\\\\n\\\\n\\\\n**User Query**\\\\n{user_query}\\\\n\\\\n**Task**\\\\nBased on the user\\'s query, select the best script from the available scripts. Provide the script name and explain why it is the best match. If no script is good, replace script with None\\\\n\\\\n**Response Template**\\\\nSCRIPT: <selected script>\\\\nREASON: <reasoning why the script fits the user prompt>\\\\n\"', 'input': 'please embed all of the Tabula Sapiens data with scGPT', 'output': 'content=\"SCRIPT: scgpt\\\\nREASON: The user wants to embed all of the Tabula Sapiens data using scGPT. The script \\'scgpt\\' is designed specifically for this task, as it orchestrates submitting an array job to the cluster to embed the Tabula Sapiens data with scGPT. Therefore, it is the best match for the user\\'s query.\" response_metadata={\\'role\\': \\'assistant\\', \\'content\\': \"SCRIPT: scgpt\\\\nREASON: The user wants to embed all of the Tabula Sapiens data using scGPT. The script \\'scgpt\\' is designed specifically for this task, as it orchestrates submitting an array job to the cluster to embed the Tabula Sapiens data with scGPT. Therefore, it is the best match for the user\\'s query.\", \\'token_usage\\': {\\'prompt_tokens\\': 400, \\'total_tokens\\': 487, \\'completion_tokens\\': 87}, \\'model_name\\': \\'mistralai/mixtral-8x7b-instruct-v0.1\\'} id=\\'run-26515d40-ef84-4ab8-8f54-bd9e3f1f0271-0\\' role=\\'assistant\\'', 'parsedOutput': {'scriptName': '/home/jpic/BRAD-Tools/foundation-models/scgpt.py', 'scriptType': 'python', 'scriptPath': '/home/jpic/BRAD-Tools/foundation-models/'}, 'purpose': 'Select which code to run'}, {'llm': '', 'memory': 'None', 'prompt': 'input_variables=[\\'history\\', \\'input\\'] template=\\'Current conversation:\\\\n{history}\\\\n\\\\n**PYTHON SCRIPT**\\\\nYou must run this python script:\\\\n/home/jpic/BRAD-Tools/foundation-models/scgpt.py\\\\n\\\\n**PYTHON SCRIPT DOCUMENTATION**:\\\\nThis is the doc string of this python script:\\\\n\"\"\"\\\\nThis file orchistrates submitting an array job to the cluster to embed all of the Tabula Sapiens data with scGPT. Run this file when you want to embed all of the Tabula Sapiens dataset.\\\\n\\\\nThis file takes no input arguments and it should always be run the exact same way.\\\\n\\\\nUsage:\\\\nCommand Line:\\\\n```\\\\npython <path/to/script/>scgpt.py chatstatus[\\\\\\'output-directory\\\\\\']\\\\n```\\\\n\\\\nBRAD Line:\\\\n```\\\\nsubprocess.run([sys.executable, \\\\\\'<path/to/script/>/scgpt.py\\\\\\', chatstatus[\\\\\\'output-directory\\\\\\']], capture_output=True, text=True)\\\\n```\\\\n\"\"\"\\\\n\\\\n\\\\n**CALL PYTHON SCRIPTS FROM PYTHON**:\\\\nUse the `subprocess` module to call any Python script from another Python script. Here are some examples to call a few common Python scripts:\\\\n\\\\nTo call a Python script `example_script.py` which has no arguments:\\\\n\\\\n```\\\\nExecute: subprocess.run([sys.executable, \\\\\\'<full path to script/> example_script.py\\\\\\', chatstatus[\\\\\\'output-directory\\\\\\']], capture_output=True, text=True)\\\\n```\\\\n\\\\nTo call a Python script `example_script.py` with one argument:\\\\n\\\\n```\\\\nExecute: subprocess.run([sys.executable, \\\\\\'<full path to script/> example_script.py\\\\\\', chatstatus[\\\\\\'output-directory\\\\\\'], \\\\\\'arg1\\\\\\'], capture_output=True, text=True)\\\\n```\\\\n\\\\nTo call a Python script `example_script.py` with two arguments:\\\\n```\\\\nExecute: subprocess.run([sys.executable, \\\\\\'<full path to script/> example_script.py\\\\\\', chatstatus[\\\\\\'output-directory\\\\\\'], \\\\\\'arg1\\\\\\', \\\\\\'arg2\\\\\\'], capture_output=True, text=True)\\\\n```\\\\n\\\\nNote that chatstatus[\\\\\\'output-directory\\\\\\'] is ALWAYS passed as the first argument.\\\\n\\\\nThe following files were previously created by BRAD and could be used as input to a function if necessary:\\\\nlog.json\\\\n\\\\nQuery:{input}\\\\n\\\\n**INSTRUCTIONS**\\\\n1. Given the user query and the documentation, identify each of the arguments found in the user\\\\\\'s query that should be passed to the Python script.\\\\n2. Using the `subprocess` module, provide the one line of code to execute the desired Python script with the given arguments. Assume the necessary modules (`subprocess` and `sys`) are already imported.\\\\n3. The last line of your response should say \"Execute: <Python code to execute>\"\\\\n4. Do not include any extra words or characters. Format the response/output as:\\\\n    Arguments: \\\\n    Python Code Explanation: <2 sentences maximum>\\\\n    Execute: <your code here>\\\\n\\\\n**IMPORTANT**\\\\nThe code to execute from your response must be formatted as:\\\\n    Execute: subprocess.call([sys.executable, \\\\\\'<path to python script>\\\\\\', \\\\\\'<argument 1>\\\\\\', \\\\\\'<argument 2>\\\\\\', ..., \\\\\\'<argument n>\\\\\\'], capture_output=True, text=True))\\\\nThis output should be exactly one line and no longer. Stop the response after this line.\\\\n\\'', 'input': 'please embed all of the Tabula Sapiens data with scGPT', 'output': \"Arguments:\\n\\n* <path/to/script/>/scgpt.py: The path to the Python script that should be executed.\\n* chatstatus['output-directory']: The output directory that is generated by BRAD and passed as an argument to the script.\\n\\nPython Code Explanation:\\n\\n* We need to run the scGPT script to embed all of the Tabula Sapiens data.\\n* The script takes no input arguments, and we need to pass the output directory generated by BRAD.\\n\\nExecute:\\n```python\\nsubprocess.run([sys.executable, '/home/jpic/BRAD-Tools/foundation-models/scgpt.py', chatstatus['output-directory']], capture_output=True, text=True)\\n```\", 'parsedOutput': {'code': \"subprocess.run([sys.executable, '/home/jpic/BRAD-Tools/foundation-models/scgpt.py', chatstatus['output-directory']], capture_output=True, text=True)\\n\"}, 'purpose': 'Format function call'}, {'func': 'pythonCaller.execute_python_code', 'code': \"response = subprocess.run([sys.executable, '/home/jpic/BRAD-Tools/foundation-models/scgpt.py', chatstatus['output-directory']], capture_output=True, text=True)\\n\", 'purpose': 'execute python code'}]}\n"
     ]
    },
    {
     "name": "stdout",
     "output_type": "stream",
     "text": [
      "\n",
      "\u001b[1m> Finished chain.\u001b[0m\n",
      "==================================================\n"
     ]
    }
   ],
   "source": [
    "sadie.chat()"
   ]
  }
 ],
 "metadata": {
  "kernelspec": {
   "display_name": "Python 3 (ipykernel)",
   "language": "python",
   "name": "python3"
  },
  "language_info": {
   "codemirror_mode": {
    "name": "ipython",
    "version": 3
   },
   "file_extension": ".py",
   "mimetype": "text/x-python",
   "name": "python",
   "nbconvert_exporter": "python",
   "pygments_lexer": "ipython3",
   "version": "3.11.7"
  }
 },
 "nbformat": 4,
 "nbformat_minor": 5
}
