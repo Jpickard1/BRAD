{
 "cells": [
  {
   "cell_type": "markdown",
   "id": "c6818200-527b-47f1-b117-7d483372f8a2",
   "metadata": {},
   "source": [
    "# In-Code Integrations"
   ]
  },
  {
   "cell_type": "code",
   "execution_count": 1,
   "id": "a878039c-b3fa-427a-babf-632ce30297ec",
   "metadata": {},
   "outputs": [],
   "source": [
    "from pydmd import dmd\n",
    "from BRAD import brad"
   ]
  },
  {
   "cell_type": "code",
   "execution_count": null,
   "id": "87703ca5-df10-4801-bc59-1ceca6ad27de",
   "metadata": {},
   "outputs": [],
   "source": []
  }
 ],
 "metadata": {
  "kernelspec": {
   "display_name": "Python 3 (ipykernel)",
   "language": "python",
   "name": "python3"
  },
  "language_info": {
   "codemirror_mode": {
    "name": "ipython",
    "version": 3
   },
   "file_extension": ".py",
   "mimetype": "text/x-python",
   "name": "python",
   "nbconvert_exporter": "python",
   "pygments_lexer": "ipython3",
   "version": "3.11.7"
  }
 },
 "nbformat": 4,
 "nbformat_minor": 5
}
