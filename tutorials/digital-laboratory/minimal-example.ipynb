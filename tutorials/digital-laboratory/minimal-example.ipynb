{
 "cells": [
  {
   "cell_type": "markdown",
   "id": "1733e2d1-a50b-4a7d-94fd-63af5a7e873c",
   "metadata": {},
   "source": [
    "# Minimal Example of the Digital Laboratory"
   ]
  },
  {
   "cell_type": "code",
   "execution_count": 1,
   "id": "932bd929-97d9-4554-88ef-9968128c4cf5",
   "metadata": {},
   "outputs": [],
   "source": [
    "from BRAD import brad\n",
    "import pandas as pd\n",
    "import numpy as np\n",
    "import matplotlib.pyplot as plt\n",
    "import seaborn as sns"
   ]
  },
  {
   "cell_type": "code",
   "execution_count": 8,
   "id": "159b7ec2-2e23-493a-bf4d-51bbfc1119fa",
   "metadata": {},
   "outputs": [],
   "source": [
    "from langchain.prompts import ChatPromptTemplate\n",
    "from langchain.output_parsers import ResponseSchema, StructuredOutputParser\n"
   ]
  },
  {
   "cell_type": "code",
   "execution_count": 4,
   "id": "8a1d680d-7858-4ca6-ad67-7bc4bafdac0f",
   "metadata": {},
   "outputs": [],
   "source": [
    "import spacy\n",
    "\n",
    "# Load spaCy model\n",
    "nlp = spacy.load(\"en_core_web_sm\")\n",
    "\n",
    "def parse_general_response(response_str):\n",
    "    doc = nlp(response_str)\n",
    "    parsed_data = {\n",
    "        \"entities\": []\n",
    "    }\n",
    "    \n",
    "    for ent in doc.ents:\n",
    "        parsed_data[\"entities\"].append({\n",
    "            \"text\": ent.text,\n",
    "            \"label\": ent.label_\n",
    "        })\n",
    "    \n",
    "    return parsed_data\n"
   ]
  },
  {
   "cell_type": "code",
   "execution_count": null,
   "id": "edffaaae-408a-48bd-99d8-d75c79e0a9ae",
   "metadata": {},
   "outputs": [],
   "source": [
    "# Function to initialize multiple bots\n",
    "def initialize_bots(num_workers):\n",
    "    master_bot = brad.chatbot()\n",
    "    worker_bots = [brad.chatbot() for _ in range(num_workers)]\n",
    "    return master_bot, worker_bots\n",
    "\n",
    "# Function for the master bot to divide a complex task into smaller tasks\n",
    "def master_divide_task(master_bot, complex_task):\n",
    "    # Assume master bot has a method to parse and divide tasks\n",
    "    response = master_bot.invoke(f\"Divide this task: {complex_task}\")\n",
    "    divided_tasks = response.get('tasks', [])  # Example structure\n",
    "    return divided_tasks\n",
    "\n",
    "# Function for the master bot to assign tasks to worker bots\n",
    "def assign_tasks_to_workers(divided_tasks, worker_bots):\n",
    "    num_bots = len(worker_bots)\n",
    "    assigned_tasks = {i: [] for i in range(num_bots)}\n",
    "    for i, task in enumerate(divided_tasks):\n",
    "        assigned_tasks[i % num_bots].append(task)\n",
    "    return assigned_tasks\n",
    "\n",
    "# Function for worker bots to execute tasks\n",
    "def workers_execute_tasks(worker_bots, assigned_tasks):\n",
    "    results = {}\n",
    "    for i, bot in enumerate(worker_bots):\n",
    "        bot_results = []\n",
    "        for task in assigned_tasks[i]:\n",
    "            response = bot.invoke(task)\n",
    "            bot_results.append(response)\n",
    "        results[i] = bot_results\n",
    "    return results\n",
    "\n",
    "# Function for the master bot to aggregate results\n",
    "def master_aggregate_results(master_bot, worker_results):\n",
    "    # Assume master bot has a method to aggregate results\n",
    "    response = master_bot.invoke(f\"Aggregate these results: {worker_results}\")\n",
    "    aggregated_results = response.get('aggregated_results', [])  # Example structure\n",
    "    return aggregated_results\n",
    "\n",
    "# Main function to simulate the digital laboratory with a master bot\n",
    "def simulate_digital_lab_with_master(complex_task, num_workers):\n",
    "    # Step 1: Initialize master and worker bots\n",
    "    master_bot, worker_bots = initialize_bots(num_workers)\n",
    "    \n",
    "    # Step 2: Master bot divides the complex task into smaller tasks\n",
    "    divided_tasks = master_divide_task(master_bot, complex_task)\n",
    "    \n",
    "    # Step 3: Master bot assigns tasks to worker bots\n",
    "    assigned_tasks = assign_tasks_to_workers(divided_tasks, worker_bots)\n",
    "    \n",
    "    # Step 4: Worker bots execute assigned tasks\n",
    "    worker_results = workers_execute_tasks(worker_bots, assigned_tasks)\n",
    "    \n",
    "    # Step 5: Master bot aggregates results\n",
    "    aggregated_results = master_aggregate_results(master_bot, worker_results)\n",
    "    \n",
    "    return aggregated_results\n",
    "\n",
    "# Example complex task\n",
    "complex_task = \"Analyze the given dataset, search for relevant literature, preprocess the data, perform PCA and UMAP, and summarize findings.\"\n",
    "\n",
    "# Number of worker bots\n",
    "num_workers = 3\n",
    "\n",
    "# Simulate the digital laboratory with a master bot\n",
    "results = simulate_digital_lab_with_master(complex_task, num_workers)\n",
    "\n",
    "# Print the results\n",
    "print(\"Aggregated Results:\")\n",
    "print(results)\n"
   ]
  }
 ],
 "metadata": {
  "kernelspec": {
   "display_name": "Python 3 (ipykernel)",
   "language": "python",
   "name": "python3"
  },
  "language_info": {
   "codemirror_mode": {
    "name": "ipython",
    "version": 3
   },
   "file_extension": ".py",
   "mimetype": "text/x-python",
   "name": "python",
   "nbconvert_exporter": "python",
   "pygments_lexer": "ipython3",
   "version": "3.11.7"
  }
 },
 "nbformat": 4,
 "nbformat_minor": 5
}
