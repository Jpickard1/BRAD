{
 "cells": [
  {
   "cell_type": "markdown",
   "id": "20a98180-b9b0-4707-ab2e-5212e9409db6",
   "metadata": {},
   "source": [
    "# Working with Data"
   ]
  },
  {
   "cell_type": "markdown",
   "id": "bb642967-a620-4f37-8a73-d7af9e469d31",
   "metadata": {},
   "source": [
    "# Types of Data"
   ]
  },
  {
   "cell_type": "markdown",
   "id": "a16a05d1-98c6-4cf2-9961-4b0a981621b2",
   "metadata": {},
   "source": [
    "# Loading Data"
   ]
  },
  {
   "cell_type": "markdown",
   "id": "2af5239d-b4ba-4e4a-9dea-db435a2a1b3d",
   "metadata": {},
   "source": [
    "# Manipulation"
   ]
  },
  {
   "cell_type": "markdown",
   "id": "0f999649-0950-4880-91da-a73ef22a964c",
   "metadata": {},
   "source": [
    "# Visualization"
   ]
  }
 ],
 "metadata": {
  "kernelspec": {
   "display_name": "Python 3 (ipykernel)",
   "language": "python",
   "name": "python3"
  },
  "language_info": {
   "codemirror_mode": {
    "name": "ipython",
    "version": 3
   },
   "file_extension": ".py",
   "mimetype": "text/x-python",
   "name": "python",
   "nbconvert_exporter": "python",
   "pygments_lexer": "ipython3",
   "version": "3.11.7"
  }
 },
 "nbformat": 4,
 "nbformat_minor": 5
}
