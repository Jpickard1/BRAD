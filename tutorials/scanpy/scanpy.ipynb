{
 "cells": [
  {
   "cell_type": "markdown",
   "id": "44fe39ba-81f8-4b79-8f9a-a351e3b07cc0",
   "metadata": {},
   "source": [
    "# Running `SCANPY` with BRAD"
   ]
  },
  {
   "cell_type": "code",
   "execution_count": 1,
   "id": "a854121a-2790-4a9a-80af-dfa16b57ddd1",
   "metadata": {},
   "outputs": [],
   "source": [
    "from BRAD import brad"
   ]
  },
  {
   "cell_type": "markdown",
   "id": "e9ea220e-b588-4c11-912a-f6ea06ebdc87",
   "metadata": {},
   "source": [
    "The below conversation makes a UMAP visualization of single cells found in the Liver in the Tabula Sapiens dataset. It generates the following image:\n",
    "\n",
    "![Alt text](/home/jpic/RAG-DEV/tutorials/scanpy/2024-07-30_13-57-24/umapumap.png)\n"
   ]
  },
  {
   "cell_type": "code",
   "execution_count": null,
   "id": "0bcd475c-cb52-4b72-8c07-5a075d2dc961",
   "metadata": {},
   "outputs": [
    {
     "name": "stdout",
     "output_type": "stream",
     "text": [
      "\n",
      "Would you like to use a database with BRAD [Y/N]?\n"
     ]
    },
    {
     "name": "stdin",
     "output_type": "stream",
     "text": [
      " N\n"
     ]
    },
    {
     "name": "stderr",
     "output_type": "stream",
     "text": [
      "\u001b[32m2024-08-01 01:25:32 INFO semantic_router.utils.logger local\u001b[0m\n"
     ]
    },
    {
     "name": "stdout",
     "output_type": "stream",
     "text": [
      "Welcome to RAG! The chat log from this conversation will be saved to /home/jpic/RAG-DEV/tutorials/scanpy/2024-08-01_01-25-30/log.json. How can I help?\n",
      "==================================================\n"
     ]
    },
    {
     "name": "stdin",
     "output_type": "stream",
     "text": [
      "Input >>  /force CODE With the data found in /nfs/turbo/umms-indikar/shared/projects/DGC/data/tabula_sapiens/extract/TS_Liver.h5ad please make a UMAP visualization of the single cells and save the UMAP to a new file. Set the color according to the cell_ontology_class field! Thank you!\n"
     ]
    },
    {
     "name": "stderr",
     "output_type": "stream",
     "text": [
      "2024-08-01 01:25:46,404 - INFO - CODE\n",
      "2024-08-01 01:25:46,405 - INFO - CODER\n",
      "2024-08-01 01:25:46,407 - INFO - input_variables=['user_query'] template=\"You must select which code to run to help a user.\\n\\n**Available Scripts**\\nScript Name: scanpy_brad, \\t Description: This script executes a series of scanpy commands on an AnnData object loaded from a .h5ad file and saves the resulting AnnData object back to disk.\\n\\n\\n**User Query**\\n{user_query}\\n\\n**Task**\\nBased on the user's query, select the best script from the available scripts. Provide the script name and explain why it is the best match. If no script is good, replace script with None\\n\\n**Response Template**\\nSCRIPT: <selected script>\\nREASON: <reasoning why the script fits the user prompt>\\n\"\n",
      "2024-08-01 01:25:46,407 - INFO - FIRST LLM CALL\n"
     ]
    },
    {
     "name": "stdout",
     "output_type": "stream",
     "text": [
      "==================================================\n",
      "BRAD >> 0: \n"
     ]
    },
    {
     "name": "stderr",
     "output_type": "stream",
     "text": [
      "2024-08-01 01:25:47,697 - INFO - SCRIPT: scanpy_brad\n",
      "REASON: The user wants to perform a UMAP visualization of single cells from a .h5ad file, which is exactly what the scanpy_brad script is designed to do. It loads an AnnData object from a .h5ad file, executes a series of scanpy commands (which can include UMAP visualization), and saves the resulting AnnData object back to disk.\n",
      "2024-08-01 01:25:47,697 - INFO - scriptPath=/home/jpic/RAG-DEV/tutorials/scanpy/scripts\n",
      "2024-08-01 01:25:47,698 - INFO - ALL SCRIPTS FOUND. BUILDING TEMPLATE\n",
      "2024-08-01 01:25:47,699 - INFO - input_variables=['history', 'input'] template='Current conversation:\\n{history}\\n\\n**PYTHON SCRIPT**\\nYou must run this python script:\\n/home/jpic/RAG-DEV/tutorials/scanpy/scripts/scanpy_brad.py\\n\\n**PYTHON SCRIPT DOCUMENTATION**:\\nThis is the doc string of this python script:\\n\"\"\"\\nThis script executes a series of scanpy commands on an AnnData object loaded from a .h5ad file and saves the resulting AnnData object back to disk.\\n\\nArguments (four arguments):\\n    1. output directory: chatstatus[\\'output-directory\\']\\n    2. output file: <name of output file>\\n    3. input file: <file created in previous step>\\n    4. scanpy commands: a list of scanpy commands to be executed on the AnnData object (provided as a single string with commands separated by a delimiter, e.g., \\';\\')\\n\\nBased on the arguments, the input file will be loaded, then your commands will be executed, and finally, the output or resulting ann data object will be saved to the corrrectou output file and directory. Your code is not responsible for loading the .h5ad object, that will happen automatically, and when loaded, the object will be called adata. Your scanpy commands can operate directly on the adata object that will be loaded for you.\\n\\nAdditionally, the following imports are already provided for you and can be used in your code:\\n```\\nimport scanpy as sc\\nimport seaborn as sns\\nimport matplotlib.pyplot as plt\\nimport os\\n```\\n\\n**Usage**\\nBRAD Line:\\n```\\nsubprocess.run([sys.executable, \"<path/to/script/>/scanpy_brad.py\", chatstatus[\\'output-directory\\'], <output file>, <input file>, \"<scanpy commands>\"], capture_output=True, text=True)\\n```\\n\\n**Examples**\\nUse the below examples to help generate your code.\\n\\n*Example 1*\\nUser Prompt: Run scanpy preprocessing and UMAP visualization on XXX.h5ad and save the UMAP plot\\nResponse Code:\\n```\\nresponse = subprocess.run([sys.executable, \"<path/to/script/>/scanpy_brad.py\", chatstatus[\\'output-directory\\'], \"XXX-modified.h5ad\", \"<path/to/data>/XXX.h5ad\", \"sc.pp.neighbors(adata); sc.tl.umap(adata); sc.pl.umap(adata, save=\\'umap.png\\')\"], capture_output=True, text=True)\\n```\\nExplination: the adata object will be loaded in memory already. The command \"sc.pp.neighbors(adata)\" will preprocess the data, then the command \"sc.tl.umap(adata)\" will perform UMAP, and finally the command \"sc.pl.umap(adata, \\'umap.png\\')\" will save the UMAP to a well named file.\\n\\n*Example 2*\\nUser Prompt: Perform PCA and clustering on the dataset YYY.h5ad and save the PCA plot\\nResponse Code:\\n```\\nresponse = subprocess.run([sys.executable, \"<path/to/script/>/scanpy_brad.py\", chatstatus[\\'output-directory\\'], \"YYY-modified.h5ad\", \"<path/to/data>/YYY.h5ad\", \"sc.pp.pca(adata); sc.tl.leiden(adata); sc.pl.pca(adata, save=\\'pca.png\\')\"], capture_output=True, text=True)\\n```\\nExplination: the adata object will be loaded in memory already. The command \"sc.pp.pca(adata)\" will preprocess the data, then the command \"sc.tl.leiden(adata)\" will perform the leiden algorithm, and finally the command \"sc.pl.pca(adata, save=\\'pca.png\\')\" will save the PCA to a well named file.\\n\\n**OUTPUT FILE NAME INSTRUCTIONS**\\n1. Output path should be chatstatus[\\'output-directory\\']\\n2. Output file name should be `<descriptive name>.h5ad`\\n\"\"\"\\n\\n\\n**CALL PYTHON SCRIPTS FROM PYTHON**:\\nUse the `subprocess` module to call any Python script from another Python script. Here are some examples to call a few common Python scripts:\\n\\nTo call a Python script `example_script.py` which has no arguments:\\n\\n```\\nExecute: subprocess.run([sys.executable, \\'<full path to script/> example_script.py\\', chatstatus[\\'output-directory\\']], capture_output=True, text=True)\\n```\\n\\nTo call a Python script `example_script.py` with one argument:\\n\\n```\\nExecute: subprocess.run([sys.executable, \\'<full path to script/> example_script.py\\', chatstatus[\\'output-directory\\'], \\'arg1\\'], capture_output=True, text=True)\\n```\\n\\nTo call a Python script `example_script.py` with two arguments:\\n```\\nExecute: subprocess.run([sys.executable, \\'<full path to script/> example_script.py\\', chatstatus[\\'output-directory\\'], \\'arg1\\', \\'arg2\\'], capture_output=True, text=True)\\n```\\n\\nNote that chatstatus[\\'output-directory\\'] is ALWAYS passed as the first argument.\\n\\nThe following files were previously created by BRAD and could be used as input to a function if necessary:\\n\\n\\nQuery:{input}\\n\\n**PYTHON SCRIPT**\\nPlease use the correct script name and path. You must run this python script:\\n/home/jpic/RAG-DEV/tutorials/scanpy/scripts/scanpy_brad.py\\n\\n**INSTRUCTIONS**\\n1. Given the user query and the documentation, identify each of the arguments found in the user\\'s query that should be passed to the Python script.\\n2. Using the `subprocess` module, provide the one line of code to execute the desired Python script with the given arguments. Assume the necessary modules (`subprocess` and `sys`) are already imported.\\n3. The last line of your response should say \"Execute: <Python code to execute>\"\\n4. Do not include any extra words or characters. Format the response/output as:\\n    Arguments: \\n    Python Code Explanation: <2 sentences maximum>\\n    Execute: <your code here>\\n\\n**IMPORTANT**\\nThe code to execute from your response must be formatted as:\\n    Execute: subprocess.call([sys.executable, \\'<path to python script>\\', \\'<argument 1>\\', \\'<argument 2>\\', ..., \\'<argument n>\\'], capture_output=True, text=True))\\nThis output should be exactly one line and no longer. Stop the response after this line.\\n'\n"
     ]
    },
    {
     "name": "stdout",
     "output_type": "stream",
     "text": [
      "\n",
      "\n",
      "\u001b[1m> Entering new ConversationChain chain...\u001b[0m\n",
      "Prompt after formatting:\n",
      "\u001b[32;1m\u001b[1;3mCurrent conversation:\n",
      "\n",
      "\n",
      "**PYTHON SCRIPT**\n",
      "You must run this python script:\n",
      "/home/jpic/RAG-DEV/tutorials/scanpy/scripts/scanpy_brad.py\n",
      "\n",
      "**PYTHON SCRIPT DOCUMENTATION**:\n",
      "This is the doc string of this python script:\n",
      "\"\"\"\n",
      "This script executes a series of scanpy commands on an AnnData object loaded from a .h5ad file and saves the resulting AnnData object back to disk.\n",
      "\n",
      "Arguments (four arguments):\n",
      "    1. output directory: chatstatus['output-directory']\n",
      "    2. output file: <name of output file>\n",
      "    3. input file: <file created in previous step>\n",
      "    4. scanpy commands: a list of scanpy commands to be executed on the AnnData object (provided as a single string with commands separated by a delimiter, e.g., ';')\n",
      "\n",
      "Based on the arguments, the input file will be loaded, then your commands will be executed, and finally, the output or resulting ann data object will be saved to the corrrectou output file and directory. Your code is not responsible for loading the .h5ad object, that will happen automatically, and when loaded, the object will be called adata. Your scanpy commands can operate directly on the adata object that will be loaded for you.\n",
      "\n",
      "Additionally, the following imports are already provided for you and can be used in your code:\n",
      "```\n",
      "import scanpy as sc\n",
      "import seaborn as sns\n",
      "import matplotlib.pyplot as plt\n",
      "import os\n",
      "```\n",
      "\n",
      "**Usage**\n",
      "BRAD Line:\n",
      "```\n",
      "subprocess.run([sys.executable, \"<path/to/script/>/scanpy_brad.py\", chatstatus['output-directory'], <output file>, <input file>, \"<scanpy commands>\"], capture_output=True, text=True)\n",
      "```\n",
      "\n",
      "**Examples**\n",
      "Use the below examples to help generate your code.\n",
      "\n",
      "*Example 1*\n",
      "User Prompt: Run scanpy preprocessing and UMAP visualization on XXX.h5ad and save the UMAP plot\n",
      "Response Code:\n",
      "```\n",
      "response = subprocess.run([sys.executable, \"<path/to/script/>/scanpy_brad.py\", chatstatus['output-directory'], \"XXX-modified.h5ad\", \"<path/to/data>/XXX.h5ad\", \"sc.pp.neighbors(adata); sc.tl.umap(adata); sc.pl.umap(adata, save='umap.png')\"], capture_output=True, text=True)\n",
      "```\n",
      "Explination: the adata object will be loaded in memory already. The command \"sc.pp.neighbors(adata)\" will preprocess the data, then the command \"sc.tl.umap(adata)\" will perform UMAP, and finally the command \"sc.pl.umap(adata, 'umap.png')\" will save the UMAP to a well named file.\n",
      "\n",
      "*Example 2*\n",
      "User Prompt: Perform PCA and clustering on the dataset YYY.h5ad and save the PCA plot\n",
      "Response Code:\n",
      "```\n",
      "response = subprocess.run([sys.executable, \"<path/to/script/>/scanpy_brad.py\", chatstatus['output-directory'], \"YYY-modified.h5ad\", \"<path/to/data>/YYY.h5ad\", \"sc.pp.pca(adata); sc.tl.leiden(adata); sc.pl.pca(adata, save='pca.png')\"], capture_output=True, text=True)\n",
      "```\n",
      "Explination: the adata object will be loaded in memory already. The command \"sc.pp.pca(adata)\" will preprocess the data, then the command \"sc.tl.leiden(adata)\" will perform the leiden algorithm, and finally the command \"sc.pl.pca(adata, save='pca.png')\" will save the PCA to a well named file.\n",
      "\n",
      "**OUTPUT FILE NAME INSTRUCTIONS**\n",
      "1. Output path should be chatstatus['output-directory']\n",
      "2. Output file name should be `<descriptive name>.h5ad`\n",
      "\"\"\"\n",
      "\n",
      "\n",
      "**CALL PYTHON SCRIPTS FROM PYTHON**:\n",
      "Use the `subprocess` module to call any Python script from another Python script. Here are some examples to call a few common Python scripts:\n",
      "\n",
      "To call a Python script `example_script.py` which has no arguments:\n",
      "\n",
      "```\n",
      "Execute: subprocess.run([sys.executable, '<full path to script/> example_script.py', chatstatus['output-directory']], capture_output=True, text=True)\n",
      "```\n",
      "\n",
      "To call a Python script `example_script.py` with one argument:\n",
      "\n",
      "```\n",
      "Execute: subprocess.run([sys.executable, '<full path to script/> example_script.py', chatstatus['output-directory'], 'arg1'], capture_output=True, text=True)\n",
      "```\n",
      "\n",
      "To call a Python script `example_script.py` with two arguments:\n",
      "```\n",
      "Execute: subprocess.run([sys.executable, '<full path to script/> example_script.py', chatstatus['output-directory'], 'arg1', 'arg2'], capture_output=True, text=True)\n",
      "```\n",
      "\n",
      "Note that chatstatus['output-directory'] is ALWAYS passed as the first argument.\n",
      "\n",
      "The following files were previously created by BRAD and could be used as input to a function if necessary:\n",
      "\n",
      "\n",
      "Query:With the data found in /nfs/turbo/umms-indikar/shared/projects/DGC/data/tabula_sapiens/extract/TS_Liver.h5ad please make a UMAP visualization of the single cells and save the UMAP to a new file. Set the color according to the cell_ontology_class field! Thank you!\n",
      "\n",
      "**PYTHON SCRIPT**\n",
      "Please use the correct script name and path. You must run this python script:\n",
      "/home/jpic/RAG-DEV/tutorials/scanpy/scripts/scanpy_brad.py\n",
      "\n",
      "**INSTRUCTIONS**\n",
      "1. Given the user query and the documentation, identify each of the arguments found in the user's query that should be passed to the Python script.\n",
      "2. Using the `subprocess` module, provide the one line of code to execute the desired Python script with the given arguments. Assume the necessary modules (`subprocess` and `sys`) are already imported.\n",
      "3. The last line of your response should say \"Execute: <Python code to execute>\"\n",
      "4. Do not include any extra words or characters. Format the response/output as:\n",
      "    Arguments: \n",
      "    Python Code Explanation: <2 sentences maximum>\n",
      "    Execute: <your code here>\n",
      "\n",
      "**IMPORTANT**\n",
      "The code to execute from your response must be formatted as:\n",
      "    Execute: subprocess.call([sys.executable, '<path to python script>', '<argument 1>', '<argument 2>', ..., '<argument n>'], capture_output=True, text=True))\n",
      "This output should be exactly one line and no longer. Stop the response after this line.\n",
      "\u001b[0m\n"
     ]
    },
    {
     "name": "stderr",
     "output_type": "stream",
     "text": [
      "2024-08-01 01:25:51,976 - INFO - LLM OUTPUT PARSER\n",
      "2024-08-01 01:25:51,976 - INFO - Arguments: /nfs/turbo/umms-indikar/shared/projects/DGC/data/tabula_sapiens/extract/TS_Liver.h5ad, TS_Liver-modified.h5ad, /nfs/turbo/umms-indikar/shared/projects/DGC/data/tabula_sapiens/extract/, sc.pp.neighbors(adata); sc.tl.umap(adata); sc.pl.umap(adata, color='cell_ontology_class', save='umap.png')\n",
      "\n",
      "Python Code Explanation: The arguments provided are the input file, output file, output directory, and the scanpy commands to execute. The scanpy commands preprocess the data, perform UMAP, and save the UMAP plot colored by cell_ontology_class.\n",
      "\n",
      "Execute: subprocess.run([sys.executable, '/home/jpic/RAG-DEV/tutorials/scanpy/scripts/scanpy_brad.py', '/nfs/turbo/umms-indikar/shared/projects/DGC/data/tabula_sapiens/extract/', 'TS_Liver-modified.h5ad', '/nfs/turbo/umms-indikar/shared/projects/DGC/data/tabula_sapiens/extract/TS_Liver.h5ad', 'sc.pp.neighbors(adata); sc.tl.umap(adata); sc.pl.umap(adata, color=\\'cell_ontology_class\\', save=\\'umap.png\\')'], capture_output=True, text=True)\n",
      "2024-08-01 01:25:51,976 - INFO - [\"Arguments: /nfs/turbo/umms-indikar/shared/projects/DGC/data/tabula_sapiens/extract/TS_Liver.h5ad, TS_Liver-modified.h5ad, /nfs/turbo/umms-indikar/shared/projects/DGC/data/tabula_sapiens/extract/, sc.pp.neighbors(adata); sc.tl.umap(adata); sc.pl.umap(adata, color='cell_ontology_class', save='umap.png')\\n\\nPython Code Explanation: The arguments provided are the input file, output file, output directory, and the scanpy commands to execute. The scanpy commands preprocess the data, perform UMAP, and save the UMAP plot colored by cell_ontology_class.\\n\\n\", \" subprocess.run([sys.executable, '/home/jpic/RAG-DEV/tutorials/scanpy/scripts/scanpy_brad.py', '/nfs/turbo/umms-indikar/shared/projects/DGC/data/tabula_sapiens/extract/', 'TS_Liver-modified.h5ad', '/nfs/turbo/umms-indikar/shared/projects/DGC/data/tabula_sapiens/extract/TS_Liver.h5ad', 'sc.pp.neighbors(adata); sc.tl.umap(adata); sc.pl.umap(adata, color=\\\\'cell_ontology_class\\\\', save=\\\\'umap.png\\\\')'], capture_output=True, text=True)\"]\n",
      "2024-08-01 01:25:51,977 - INFO - Stripped funciton call\n",
      "2024-08-01 01:25:51,977 - INFO - subprocess.run([sys.executable, '/home/jpic/RAG-DEV/tutorials/scanpy/scripts/scanpy_brad.py', '/nfs/turbo/umms-indikar/shared/projects/DGC/data/tabula_sapiens/extract/', 'TS_Liver-modified.h5ad', '/nfs/turbo/umms-indikar/shared/projects/DGC/data/tabula_sapiens/extract/TS_Liver.h5ad', 'sc.pp.neighbors(adata); sc.tl.umap(adata); sc.pl.umap(adata, color=\\'cell_ontology_class\\', save=\\'umap.png\\')'], capture_output=True, text=True)\n",
      "2024-08-01 01:25:51,977 - INFO - Cleaned up function call:\n",
      "\n",
      "2024-08-01 01:25:51,977 - INFO - subprocess.run([sys.executable, '/home/jpic/RAG-DEV/tutorials/scanpy/scripts/scanpy_brad.py', '/nfs/turbo/umms-indikar/shared/projects/DGC/data/tabula_sapiens/extract/', 'TS_Liver-modified.h5ad', '/nfs/turbo/umms-indikar/shared/projects/DGC/data/tabula_sapiens/extract/TS_Liver.h5ad', 'sc.pp.neighbors(adata); sc.tl.umap(adata); sc.pl.umap(adata, color=\\'cell_ontology_class\\', save=\\'umap.png\\')'], capture_output=True, text=True)\n",
      "2024-08-01 01:25:51,978 - INFO - \n",
      "\n",
      "2024-08-01 01:25:51,979 - INFO - EVAL\n",
      "2024-08-01 01:25:51,979 - INFO - subprocess.run([sys.executable, '/home/jpic/RAG-DEV/tutorials/scanpy/scripts/scanpy_brad.py', '/nfs/turbo/umms-indikar/shared/projects/DGC/data/tabula_sapiens/extract/', 'TS_Liver-modified.h5ad', '/nfs/turbo/umms-indikar/shared/projects/DGC/data/tabula_sapiens/extract/TS_Liver.h5ad', 'sc.pp.neighbors(adata); sc.tl.umap(adata); sc.pl.umap(adata, color=\\'cell_ontology_class\\', save=\\'umap.png\\')'], capture_output=True, text=True)\n",
      "2024-08-01 01:25:51,979 - INFO - END EVAL CHECK\n",
      "2024-08-01 01:25:51,979 - INFO - PYTHON CODE OUTPUT DIRECTORY CHANGED\n",
      "2024-08-01 01:25:51,980 - INFO - subprocess.run([sys.executable, '/home/jpic/RAG-DEV/tutorials/scanpy/scripts/scanpy_brad.py', chatstatus['output-directory'], 'TS_Liver-modified.h5ad', '/nfs/turbo/umms-indikar/shared/projects/DGC/data/tabula_sapiens/extract/TS_Liver.h5ad', 'sc.pp.neighbors(adata); sc.tl.umap(adata); sc.pl.umap(adata, color=\\'cell_ontology_class\\', save=\\'umap.png\\')'], capture_output=True, text=True)\n",
      "2024-08-01 01:25:51,980 - INFO - Finalized PYTHON Call:\n",
      "2024-08-01 01:25:51,980 - INFO -    \n",
      "2024-08-01 01:25:51,980 - INFO - response = subprocess.run([sys.executable, '/home/jpic/RAG-DEV/tutorials/scanpy/scripts/scanpy_brad.py', chatstatus['output-directory'], 'TS_Liver-modified.h5ad', '/nfs/turbo/umms-indikar/shared/projects/DGC/data/tabula_sapiens/extract/TS_Liver.h5ad', 'sc.pp.neighbors(adata); sc.tl.umap(adata); sc.pl.umap(adata, color=\\'cell_ontology_class\\', save=\\'umap.png\\')'], capture_output=True, text=True)\n",
      "2024-08-01 01:25:51,981 - INFO -    \n"
     ]
    },
    {
     "name": "stdout",
     "output_type": "stream",
     "text": [
      "\n",
      "\u001b[1m> Finished chain.\u001b[0m\n"
     ]
    },
    {
     "name": "stderr",
     "output_type": "stream",
     "text": [
      "2024-08-01 01:26:24,457 - INFO - Debug: PYTHON code executed successfully.\n",
      "2024-08-01 01:26:24,457 - INFO - Code Execution Output:\n",
      "2024-08-01 01:26:24,458 - INFO - CompletedProcess(args=['/sw/pkgs/arc/python3.11-anaconda/2024.02-1/bin/python', '/home/jpic/RAG-DEV/tutorials/scanpy/scripts/scanpy_brad.py', '/home/jpic/RAG-DEV/tutorials/scanpy/2024-08-01_01-25-30', 'TS_Liver-modified.h5ad', '/nfs/turbo/umms-indikar/shared/projects/DGC/data/tabula_sapiens/extract/TS_Liver.h5ad', \"sc.pp.neighbors(adata); sc.tl.umap(adata); sc.pl.umap(adata, color='cell_ontology_class', save='umap.png')\"], returncode=0, stdout=\"adata loaded from /nfs/turbo/umms-indikar/shared/projects/DGC/data/tabula_sapiens/extract/TS_Liver.h5ad\\nadata.shape=(5007, 58870)\\nadata.obs.columns=Index(['organ_tissue', 'method', 'donor', 'anatomical_information',\\n       'n_counts_UMIs', 'n_genes', 'cell_ontology_class', 'free_annotation',\\n       'manually_annotated', 'compartment', 'gender'],\\n      dtype='object')\\nadata.obs.head()=                                       organ_tissue method  ...  compartment gender\\ncell_id                                                     ...                    \\nAAACCCACACTCCTGT_TSP6_Liver_NA_10X_1_1        Liver    10X  ...       immune   male\\nAAACGAAGTACCAGAG_TSP6_Liver_NA_10X_1_1        Liver    10X  ...       immune   male\\nAAACGCTCAACGGCTC_TSP6_Liver_NA_10X_1_1        Liver    10X  ...  endothelial   male\\nAAAGAACAGCCTCTTC_TSP6_Liver_NA_10X_1_1        Liver    10X  ...       immune   male\\nAAAGAACGTAGCACAG_TSP6_Liver_NA_10X_1_1        Liver    10X  ...       immune   male\\n\\n[5 rows x 11 columns]\\nadata.var.head()=             gene_symbol     feature_type  ...      mean       std\\nDDX11L1          DDX11L1  Gene Expression  ...  0.000039  0.005574\\nWASH7P            WASH7P  Gene Expression  ...  0.001080  0.031731\\nMIR6859-1      MIR6859-1  Gene Expression  ...  0.000033  0.005634\\nMIR1302-2HG  MIR1302-2HG  Gene Expression  ...  0.000048  0.008041\\nMIR1302-2      MIR1302-2  Gene Expression  ...  0.000000  1.000000\\n\\n[5 rows x 9 columns]\\n****************************\\n      EXECUTE COMMANDS      \\n****************************\\nsc.pp.neighbors(adata)\\nsc.tl.umap(adata)\\nsc.pl.umap(adata, color='cell_ontology_class', save='umap.png')\\nFigure(1200x1200)\\n\", stderr='WARNING: saving figure to file /home/jpic/RAG-DEV/tutorials/scanpy/2024-08-01_01-25-30/umapumap.png\\n')\n",
      "2024-08-01 01:26:24,458 - INFO - Debug: PYTHON code output saved to output.\n",
      "2024-08-01 01:26:24,458 - INFO - \n",
      "\n",
      "\n",
      "route\n",
      "\n",
      "\n",
      "\n",
      "2024-08-01 01:26:24,458 - INFO - CODE\n",
      "2024-08-01 01:26:24,459 - INFO - \n",
      "\n",
      "PLANNER:\n",
      "\n",
      "{'module': 'CODE', 'steps': [{'llm': \"model='meta/llama3-70b-instruct'\", 'memory': 'None', 'prompt': 'input_variables=[\\'user_query\\'] template=\"You must select which code to run to help a user.\\\\n\\\\n**Available Scripts**\\\\nScript Name: scanpy_brad, \\\\t Description: This script executes a series of scanpy commands on an AnnData object loaded from a .h5ad file and saves the resulting AnnData object back to disk.\\\\n\\\\n\\\\n**User Query**\\\\n{user_query}\\\\n\\\\n**Task**\\\\nBased on the user\\'s query, select the best script from the available scripts. Provide the script name and explain why it is the best match. If no script is good, replace script with None\\\\n\\\\n**Response Template**\\\\nSCRIPT: <selected script>\\\\nREASON: <reasoning why the script fits the user prompt>\\\\n\"', 'input': 'With the data found in /nfs/turbo/umms-indikar/shared/projects/DGC/data/tabula_sapiens/extract/TS_Liver.h5ad please make a UMAP visualization of the single cells and save the UMAP to a new file. Set the color according to the cell_ontology_class field! Thank you!', 'output': \"content='SCRIPT: scanpy_brad\\\\nREASON: The user wants to perform a UMAP visualization of single cells from a .h5ad file, which is exactly what the scanpy_brad script is designed to do. It loads an AnnData object from a .h5ad file, executes a series of scanpy commands (which can include UMAP visualization), and saves the resulting AnnData object back to disk.' response_metadata={'role': 'assistant', 'content': 'SCRIPT: scanpy_brad\\\\nREASON: The user wants to perform a UMAP visualization of single cells from a .h5ad file, which is exactly what the scanpy_brad script is designed to do. It loads an AnnData object from a .h5ad file, executes a series of scanpy commands (which can include UMAP visualization), and saves the resulting AnnData object back to disk.', 'token_usage': {'prompt_tokens': 212, 'total_tokens': 298, 'completion_tokens': 86}, 'model_name': 'meta/llama3-70b-instruct'} id='run-f77c2f08-833e-4f6e-9e27-ca680ba3cad7-0' role='assistant'\", 'parsedOutput': {'scriptName': '/home/jpic/RAG-DEV/tutorials/scanpy/scripts/scanpy_brad.py', 'scriptType': 'python', 'scriptPath': '/home/jpic/RAG-DEV/tutorials/scanpy/scripts'}, 'purpose': 'Select which code to run'}, {'llm': \"model='meta/llama3-70b-instruct'\", 'memory': 'None', 'prompt': 'input_variables=[\\'history\\', \\'input\\'] template=\\'Current conversation:\\\\n{history}\\\\n\\\\n**PYTHON SCRIPT**\\\\nYou must run this python script:\\\\n/home/jpic/RAG-DEV/tutorials/scanpy/scripts/scanpy_brad.py\\\\n\\\\n**PYTHON SCRIPT DOCUMENTATION**:\\\\nThis is the doc string of this python script:\\\\n\"\"\"\\\\nThis script executes a series of scanpy commands on an AnnData object loaded from a .h5ad file and saves the resulting AnnData object back to disk.\\\\n\\\\nArguments (four arguments):\\\\n    1. output directory: chatstatus[\\\\\\'output-directory\\\\\\']\\\\n    2. output file: <name of output file>\\\\n    3. input file: <file created in previous step>\\\\n    4. scanpy commands: a list of scanpy commands to be executed on the AnnData object (provided as a single string with commands separated by a delimiter, e.g., \\\\\\';\\\\\\')\\\\n\\\\nBased on the arguments, the input file will be loaded, then your commands will be executed, and finally, the output or resulting ann data object will be saved to the corrrectou output file and directory. Your code is not responsible for loading the .h5ad object, that will happen automatically, and when loaded, the object will be called adata. Your scanpy commands can operate directly on the adata object that will be loaded for you.\\\\n\\\\nAdditionally, the following imports are already provided for you and can be used in your code:\\\\n```\\\\nimport scanpy as sc\\\\nimport seaborn as sns\\\\nimport matplotlib.pyplot as plt\\\\nimport os\\\\n```\\\\n\\\\n**Usage**\\\\nBRAD Line:\\\\n```\\\\nsubprocess.run([sys.executable, \"<path/to/script/>/scanpy_brad.py\", chatstatus[\\\\\\'output-directory\\\\\\'], <output file>, <input file>, \"<scanpy commands>\"], capture_output=True, text=True)\\\\n```\\\\n\\\\n**Examples**\\\\nUse the below examples to help generate your code.\\\\n\\\\n*Example 1*\\\\nUser Prompt: Run scanpy preprocessing and UMAP visualization on XXX.h5ad and save the UMAP plot\\\\nResponse Code:\\\\n```\\\\nresponse = subprocess.run([sys.executable, \"<path/to/script/>/scanpy_brad.py\", chatstatus[\\\\\\'output-directory\\\\\\'], \"XXX-modified.h5ad\", \"<path/to/data>/XXX.h5ad\", \"sc.pp.neighbors(adata); sc.tl.umap(adata); sc.pl.umap(adata, save=\\\\\\'umap.png\\\\\\')\"], capture_output=True, text=True)\\\\n```\\\\nExplination: the adata object will be loaded in memory already. The command \"sc.pp.neighbors(adata)\" will preprocess the data, then the command \"sc.tl.umap(adata)\" will perform UMAP, and finally the command \"sc.pl.umap(adata, \\\\\\'umap.png\\\\\\')\" will save the UMAP to a well named file.\\\\n\\\\n*Example 2*\\\\nUser Prompt: Perform PCA and clustering on the dataset YYY.h5ad and save the PCA plot\\\\nResponse Code:\\\\n```\\\\nresponse = subprocess.run([sys.executable, \"<path/to/script/>/scanpy_brad.py\", chatstatus[\\\\\\'output-directory\\\\\\'], \"YYY-modified.h5ad\", \"<path/to/data>/YYY.h5ad\", \"sc.pp.pca(adata); sc.tl.leiden(adata); sc.pl.pca(adata, save=\\\\\\'pca.png\\\\\\')\"], capture_output=True, text=True)\\\\n```\\\\nExplination: the adata object will be loaded in memory already. The command \"sc.pp.pca(adata)\" will preprocess the data, then the command \"sc.tl.leiden(adata)\" will perform the leiden algorithm, and finally the command \"sc.pl.pca(adata, save=\\\\\\'pca.png\\\\\\')\" will save the PCA to a well named file.\\\\n\\\\n**OUTPUT FILE NAME INSTRUCTIONS**\\\\n1. Output path should be chatstatus[\\\\\\'output-directory\\\\\\']\\\\n2. Output file name should be `<descriptive name>.h5ad`\\\\n\"\"\"\\\\n\\\\n\\\\n**CALL PYTHON SCRIPTS FROM PYTHON**:\\\\nUse the `subprocess` module to call any Python script from another Python script. Here are some examples to call a few common Python scripts:\\\\n\\\\nTo call a Python script `example_script.py` which has no arguments:\\\\n\\\\n```\\\\nExecute: subprocess.run([sys.executable, \\\\\\'<full path to script/> example_script.py\\\\\\', chatstatus[\\\\\\'output-directory\\\\\\']], capture_output=True, text=True)\\\\n```\\\\n\\\\nTo call a Python script `example_script.py` with one argument:\\\\n\\\\n```\\\\nExecute: subprocess.run([sys.executable, \\\\\\'<full path to script/> example_script.py\\\\\\', chatstatus[\\\\\\'output-directory\\\\\\'], \\\\\\'arg1\\\\\\'], capture_output=True, text=True)\\\\n```\\\\n\\\\nTo call a Python script `example_script.py` with two arguments:\\\\n```\\\\nExecute: subprocess.run([sys.executable, \\\\\\'<full path to script/> example_script.py\\\\\\', chatstatus[\\\\\\'output-directory\\\\\\'], \\\\\\'arg1\\\\\\', \\\\\\'arg2\\\\\\'], capture_output=True, text=True)\\\\n```\\\\n\\\\nNote that chatstatus[\\\\\\'output-directory\\\\\\'] is ALWAYS passed as the first argument.\\\\n\\\\nThe following files were previously created by BRAD and could be used as input to a function if necessary:\\\\n\\\\n\\\\nQuery:{input}\\\\n\\\\n**PYTHON SCRIPT**\\\\nPlease use the correct script name and path. You must run this python script:\\\\n/home/jpic/RAG-DEV/tutorials/scanpy/scripts/scanpy_brad.py\\\\n\\\\n**INSTRUCTIONS**\\\\n1. Given the user query and the documentation, identify each of the arguments found in the user\\\\\\'s query that should be passed to the Python script.\\\\n2. Using the `subprocess` module, provide the one line of code to execute the desired Python script with the given arguments. Assume the necessary modules (`subprocess` and `sys`) are already imported.\\\\n3. The last line of your response should say \"Execute: <Python code to execute>\"\\\\n4. Do not include any extra words or characters. Format the response/output as:\\\\n    Arguments: \\\\n    Python Code Explanation: <2 sentences maximum>\\\\n    Execute: <your code here>\\\\n\\\\n**IMPORTANT**\\\\nThe code to execute from your response must be formatted as:\\\\n    Execute: subprocess.call([sys.executable, \\\\\\'<path to python script>\\\\\\', \\\\\\'<argument 1>\\\\\\', \\\\\\'<argument 2>\\\\\\', ..., \\\\\\'<argument n>\\\\\\'], capture_output=True, text=True))\\\\nThis output should be exactly one line and no longer. Stop the response after this line.\\\\n\\'', 'input': 'With the data found in /nfs/turbo/umms-indikar/shared/projects/DGC/data/tabula_sapiens/extract/TS_Liver.h5ad please make a UMAP visualization of the single cells and save the UMAP to a new file. Set the color according to the cell_ontology_class field! Thank you!', 'output': \"Arguments: /nfs/turbo/umms-indikar/shared/projects/DGC/data/tabula_sapiens/extract/TS_Liver.h5ad, TS_Liver-modified.h5ad, /nfs/turbo/umms-indikar/shared/projects/DGC/data/tabula_sapiens/extract/, sc.pp.neighbors(adata); sc.tl.umap(adata); sc.pl.umap(adata, color='cell_ontology_class', save='umap.png')\\n\\nPython Code Explanation: The arguments provided are the input file, output file, output directory, and the scanpy commands to execute. The scanpy commands preprocess the data, perform UMAP, and save the UMAP plot colored by cell_ontology_class.\\n\\nExecute: subprocess.run([sys.executable, '/home/jpic/RAG-DEV/tutorials/scanpy/scripts/scanpy_brad.py', '/nfs/turbo/umms-indikar/shared/projects/DGC/data/tabula_sapiens/extract/', 'TS_Liver-modified.h5ad', '/nfs/turbo/umms-indikar/shared/projects/DGC/data/tabula_sapiens/extract/TS_Liver.h5ad', 'sc.pp.neighbors(adata); sc.tl.umap(adata); sc.pl.umap(adata, color=\\\\'cell_ontology_class\\\\', save=\\\\'umap.png\\\\')'], capture_output=True, text=True)\", 'parsedOutput': {'code': \"subprocess.run([sys.executable, '/home/jpic/RAG-DEV/tutorials/scanpy/scripts/scanpy_brad.py', '/nfs/turbo/umms-indikar/shared/projects/DGC/data/tabula_sapiens/extract/', 'TS_Liver-modified.h5ad', '/nfs/turbo/umms-indikar/shared/projects/DGC/data/tabula_sapiens/extract/TS_Liver.h5ad', 'sc.pp.neighbors(adata); sc.tl.umap(adata); sc.pl.umap(adata, color=\\\\'cell_ontology_class\\\\', save=\\\\'umap.png\\\\')'], capture_output=True, text=True)\"}, 'purpose': 'Format function call'}, {'func': 'pythonCaller.execute_python_code', 'code': \"response = subprocess.run([sys.executable, '/home/jpic/RAG-DEV/tutorials/scanpy/scripts/scanpy_brad.py', chatstatus['output-directory'], 'TS_Liver-modified.h5ad', '/nfs/turbo/umms-indikar/shared/projects/DGC/data/tabula_sapiens/extract/TS_Liver.h5ad', 'sc.pp.neighbors(adata); sc.tl.umap(adata); sc.pl.umap(adata, color=\\\\'cell_ontology_class\\\\', save=\\\\'umap.png\\\\')'], capture_output=True, text=True)\", 'purpose': 'execute python code'}]}\n",
      "2024-08-01 01:26:24,462 - INFO - current llm calls=2\n"
     ]
    },
    {
     "name": "stdout",
     "output_type": "stream",
     "text": [
      "==================================================\n"
     ]
    }
   ],
   "source": [
    "brad.chat(config='/home/jpic/RAG-DEV/tutorials/scanpy/config-scanpy.json')"
   ]
  },
  {
   "cell_type": "raw",
   "id": "ba02a695-df40-4a86-a32e-d33dfa9d004f",
   "metadata": {},
   "source": [
    "/force CODE With the data found in /nfs/turbo/umms-indikar/shared/projects/DGC/data/tabula_sapiens/extract/TS_Liver.h5ad please make a UMAP visualization of the single cells and save the UMAP to a new file. Set the color according to the cell_ontology_class field! Thank you!\n",
    "\n",
    "In the plot, color the cells according to the cell_ontology_class field. Also, please despine the axis. Thank you"
   ]
  }
 ],
 "metadata": {
  "kernelspec": {
   "display_name": "Python 3 (ipykernel)",
   "language": "python",
   "name": "python3"
  },
  "language_info": {
   "codemirror_mode": {
    "name": "ipython",
    "version": 3
   },
   "file_extension": ".py",
   "mimetype": "text/x-python",
   "name": "python",
   "nbconvert_exporter": "python",
   "pygments_lexer": "ipython3",
   "version": "3.11.7"
  }
 },
 "nbformat": 4,
 "nbformat_minor": 5
}
