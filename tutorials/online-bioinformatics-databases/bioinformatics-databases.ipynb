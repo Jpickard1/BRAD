{
 "cells": [
  {
   "cell_type": "markdown",
   "id": "ae8061a7-131f-4221-9b0f-847936ab41fd",
   "metadata": {},
   "source": [
    "# Bioinformatics Databases"
   ]
  },
  {
   "cell_type": "markdown",
   "id": "a167bbeb-3613-43a7-838f-73bfa8c28651",
   "metadata": {},
   "source": [
    "# Enrichr"
   ]
  },
  {
   "cell_type": "markdown",
   "id": "2cf2e262-7e59-4682-80b7-147fd0e4cd65",
   "metadata": {},
   "source": [
    "# Gene Ontology"
   ]
  },
  {
   "cell_type": "markdown",
   "id": "698f91b1-cab4-4aba-8c72-1bd9a15e4033",
   "metadata": {},
   "source": [
    "# Querying Databases with BRAD"
   ]
  },
  {
   "cell_type": "markdown",
   "id": "8e1af9a8-5f2b-41fa-9d56-8a202f8da095",
   "metadata": {},
   "source": [
    "# Connecting New Databases?"
   ]
  }
 ],
 "metadata": {
  "kernelspec": {
   "display_name": "Python 3 (ipykernel)",
   "language": "python",
   "name": "python3"
  },
  "language_info": {
   "codemirror_mode": {
    "name": "ipython",
    "version": 3
   },
   "file_extension": ".py",
   "mimetype": "text/x-python",
   "name": "python",
   "nbconvert_exporter": "python",
   "pygments_lexer": "ipython3",
   "version": "3.11.7"
  }
 },
 "nbformat": 4,
 "nbformat_minor": 5
}
