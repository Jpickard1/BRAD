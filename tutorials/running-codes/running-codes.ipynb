{
 "cells": [
  {
   "cell_type": "markdown",
   "id": "02006a61-ec4d-4d96-b78f-cb605f0e07c1",
   "metadata": {},
   "source": [
    "# Running Codes with BRAD"
   ]
  },
  {
   "cell_type": "markdown",
   "id": "44cb32fa-51a2-44ac-8b28-64de8a5c7a50",
   "metadata": {},
   "source": [
    "# Python Codes"
   ]
  },
  {
   "cell_type": "markdown",
   "id": "4b683dff-4fe0-4848-ba93-a1c135e9850e",
   "metadata": {},
   "source": [
    "## Seaborn Implementation"
   ]
  },
  {
   "cell_type": "markdown",
   "id": "9e919de5-94b6-48ed-a73d-ec89f41fd6cd",
   "metadata": {},
   "source": [
    "## How to add new codes"
   ]
  },
  {
   "cell_type": "markdown",
   "id": "817a6bfd-0c33-43ba-a9bf-e2bd2c20aad0",
   "metadata": {},
   "source": [
    "# Snakemake Pipelines"
   ]
  },
  {
   "cell_type": "markdown",
   "id": "35a0d6f3-930b-4d98-b648-d85f32705f51",
   "metadata": {},
   "source": [
    "# MATLAB Codes and Pipelines"
   ]
  }
 ],
 "metadata": {
  "kernelspec": {
   "display_name": "Python 3 (ipykernel)",
   "language": "python",
   "name": "python3"
  },
  "language_info": {
   "codemirror_mode": {
    "name": "ipython",
    "version": 3
   },
   "file_extension": ".py",
   "mimetype": "text/x-python",
   "name": "python",
   "nbconvert_exporter": "python",
   "pygments_lexer": "ipython3",
   "version": "3.11.7"
  }
 },
 "nbformat": 4,
 "nbformat_minor": 5
}
