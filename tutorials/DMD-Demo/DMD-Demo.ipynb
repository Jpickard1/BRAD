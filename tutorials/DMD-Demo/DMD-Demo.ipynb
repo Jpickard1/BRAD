{
 "cells": [
  {
   "cell_type": "code",
   "execution_count": null,
   "id": "829b6482-0102-4a0f-a3b7-c98386924d32",
   "metadata": {},
   "outputs": [],
   "source": []
  },
  {
   "cell_type": "code",
   "execution_count": null,
   "id": "146c0499-9289-4fa7-9f30-21f914954b72",
   "metadata": {},
   "outputs": [],
   "source": []
  },
  {
   "cell_type": "code",
   "execution_count": 1,
   "id": "217b2753-0d3c-4265-a087-4b7e0483de09",
   "metadata": {},
   "outputs": [],
   "source": [
    "from BRAD import brad"
   ]
  },
  {
   "cell_type": "code",
   "execution_count": 3,
   "id": "051356db-4523-4b58-adae-95c2f63621e8",
   "metadata": {},
   "outputs": [
    {
     "name": "stdout",
     "output_type": "stream",
     "text": [
      "\n",
      "Would you like to use a database with BRAD [Y/N]?\n"
     ]
    },
    {
     "name": "stdin",
     "output_type": "stream",
     "text": [
      " N\n"
     ]
    },
    {
     "name": "stderr",
     "output_type": "stream",
     "text": [
      "\u001b[32m2024-06-30 18:51:36 INFO semantic_router.utils.logger local\u001b[0m\n"
     ]
    },
    {
     "name": "stdout",
     "output_type": "stream",
     "text": [
      "Welcome to RAG! The chat log from this conversation will be saved to /home/jpic/BRAD/2024-06-30_18-51-34/log.json. How can I help?\n",
      "==================================================\n"
     ]
    },
    {
     "name": "stdin",
     "output_type": "stream",
     "text": [
      "Input >>  /force CODE load the 2015 dataset to h5ad format please\n"
     ]
    },
    {
     "name": "stderr",
     "output_type": "stream",
     "text": [
      "2024-06-30 18:52:04,253 - INFO - CODE\n",
      "2024-06-30 18:52:04,254 - INFO - CODER\n",
      "2024-06-30 18:52:04,258 - INFO - input_variables=['user_query'] template=\"You must select which code to run to help a user.\\n\\n**Available Scripts**\\nScript Name: geneformerCoordinatesTimeSeries, \\t Description: This script organizes datasets into a format to work with time series gene expression using individual geneformer embeddings as the state space. From a .h5ad file, a .pkl file is constructed here that will contain the state type being geneformer, the state names being geneformer coordinates, and the time series data organized as states (geneformer coordinates) by timepoint (hours) by replicates (experiment replicates).\\nScript Name: geneCoordinatesTimeSeries, \\t Description: This script organizes datasets into a format to work with time series gene expression using individual gene expresession as the state space. From a .h5ad file, a .pkl file is constructed here that will contain the state type being gene expression, the state names being gene names, and the time series data organized as states (genes) by timepoint (hours) by replicates (experiment replicates).\\nScript Name: linearModels, \\t Description: This file builds linear and linear time variant (LTI and LTV) models of gene expressions.\\nScript Name: geneformerEmbeddings, \\t Description: Get gene former embeddings of your data\\nScript Name: buildLinearModel, \\t Description: This script builds linear models of time series data using Dynamic Mode Decomposition (DMD).\\nScript Name: datasetSelector, \\t Description: This script is a file chooser to load a gene expression dataset from the lab's turbo partition to give access to the data to BRAD.\\nScript Name: buildLTVModel, \\t Description: This script builds linear time varying models of time series data using Data Guided Control model.\\n\\n\\n**User Query**\\n{user_query}\\n\\n**Task**\\nBased on the user's query, select the best script from the available scripts. Provide the script name and explain why it is the best match. If no script is good, replace script with None\\n\\n**Response Template**\\nSCRIPT: <selected script>\\nREASON: <reasoning why the script fits the user prompt>\\n\"\n",
      "2024-06-30 18:52:04,259 - INFO - FIRST LLM CALL\n"
     ]
    },
    {
     "name": "stdout",
     "output_type": "stream",
     "text": [
      "==================================================\n",
      "RAG >> 0: \n"
     ]
    },
    {
     "name": "stderr",
     "output_type": "stream",
     "text": [
      "2024-06-30 18:52:05,322 - INFO - SCRIPT: datasetSelector\n",
      "REASON: The user wants to load the 2015 dataset to h5ad format, and the datasetSelector script is a file chooser that loads a gene expression dataset from the lab's turbo partition, which matches the user's request.\n",
      "2024-06-30 18:52:05,323 - INFO - Warning! the type doesn't exist\n",
      "2024-06-30 18:52:05,324 - INFO - scriptPath=/home/jpic/BRAD-Tools/\n",
      "2024-06-30 18:52:05,324 - INFO - pyPath=/home/jpic/BRAD-Tools/\n",
      "2024-06-30 18:52:05,325 - INFO - ALL SCRIPTS FOUND. BUILDING TEMPLATE\n",
      "2024-06-30 18:52:05,327 - INFO - input_variables=['history', 'input'] template='Current conversation:\\n{history}\\n\\n**PYTHON SCRIPT**\\nYou must run this python script:\\n/home/jpic/BRAD-Tools/datasetSelector.py\\n\\n**PYTHON SCRIPT DOCUMENTATION**:\\nThis is the doc string of this python script:\\n\"\"\"\\nThis script is a file chooser to load a gene expression dataset from the lab\\'s turbo partition to give access to the data to BRAD.\\n\\nArguments (three arguments):\\n    1. output directory: chatstatus[\\'output-directory\\']\\n    2. output file: <name of output file>\\n    3. dataset: this can be any of the following:\\n        - \"2015\": a bulk RNAseq time series dataset of synchronized Fibroblast proliferation\\n        - \"2018\": a bulk RNAseq time series dataset of Weintraubs Myogenic reprogramming experiment\\n\\nUsage:\\n    Command Line:\\n    ```\\n    python <path/to/script/>datasetSelector.py <output path> <output file> <gene name>\\n    ```\\n                                                               |              |           |\\n                                                          Argument 1     Argument 2   Argument 3\\n    BRAD Line:\\n    ```\\n    subprocess.call([sys.executable, \\'<path/to/script/>/datasetSelector.py\\', chatstatus[\\'output-directory\\'], <output file>, <gene name>])\\n    ```\\n\\n**OUTPUT FILE NAME INSTRUCTIONS**\\n1. Output path should be chatstatus[\\'output-directory\\']\\n2. Output file name should be `S0-<data set name>.h5ad`\\n\"\"\"\\n\\n\\n**CALL PYTHON SCRIPTS FROM PYTHON**:\\nUse the `subprocess` module to call any Python script from another Python script. Here are some examples to call a few common Python scripts:\\n\\nTo call a Python script `example_script.py` which has no arguments:\\n\\n```\\nExecute: subprocess.call([sys.executable, \\'<full path to script/> example_script.py\\', chatstatus[\\'output-directory\\']])\\n```\\n\\nTo call a Python script `example_script.py` with one argument:\\n\\n```\\nExecute: subprocess.call([sys.executable, \\'<full path to script/> example_script.py\\', chatstatus[\\'output-directory\\'], \\'arg1\\'])\\n```\\n\\nTo call a Python script `example_script.py` with two arguments:\\n```\\nExecute: subprocess.call([sys.executable, \\'<full path to script/> example_script.py\\', chatstatus[\\'output-directory\\'], \\'arg1\\', \\'arg2\\'])\\n```\\n\\nNote that chatstatus[\\'output-directory\\'] is ALWAYS passed as the first argument.\\n\\nThe following files were previously created by BRAD and could be used as input to a function if necessary:\\n\\n\\nQuery:{input}\\n\\n**INSTRUCTIONS**\\n1. Given the user query and the documentation, identify each of the arguments found in the user\\'s query that should be passed to the Python script.\\n2. Using the `subprocess` module, provide the one line of code to execute the desired Python script with the given arguments. Assume the necessary modules (`subprocess` and `sys`) are already imported.\\n3. The last line of your response should say \"Execute: <Python code to execute>\"\\n4. Format the response/output as:\\n    Arguments: \\n    Python Code Explanation: <2 sentences maximum>\\n    Execute: <your code here>\\n\\n**IMPORTANT**\\nThe code to execute from your response must be formatted as:\\n    Execute: subprocess.call([sys.executable, \\'<path to python script>\\', \\'<argument 1>\\', \\'<argument 2>\\', ..., \\'<argument n>\\'])\\nThis output should be exactly one line and no longer. Stop the response after this line.\\n'\n"
     ]
    },
    {
     "name": "stdout",
     "output_type": "stream",
     "text": [
      "\n",
      "\n",
      "\u001b[1m> Entering new ConversationChain chain...\u001b[0m\n",
      "Prompt after formatting:\n",
      "\u001b[32;1m\u001b[1;3mCurrent conversation:\n",
      "\n",
      "\n",
      "**PYTHON SCRIPT**\n",
      "You must run this python script:\n",
      "/home/jpic/BRAD-Tools/datasetSelector.py\n",
      "\n",
      "**PYTHON SCRIPT DOCUMENTATION**:\n",
      "This is the doc string of this python script:\n",
      "\"\"\"\n",
      "This script is a file chooser to load a gene expression dataset from the lab's turbo partition to give access to the data to BRAD.\n",
      "\n",
      "Arguments (three arguments):\n",
      "    1. output directory: chatstatus['output-directory']\n",
      "    2. output file: <name of output file>\n",
      "    3. dataset: this can be any of the following:\n",
      "        - \"2015\": a bulk RNAseq time series dataset of synchronized Fibroblast proliferation\n",
      "        - \"2018\": a bulk RNAseq time series dataset of Weintraubs Myogenic reprogramming experiment\n",
      "\n",
      "Usage:\n",
      "    Command Line:\n",
      "    ```\n",
      "    python <path/to/script/>datasetSelector.py <output path> <output file> <gene name>\n",
      "    ```\n",
      "                                                               |              |           |\n",
      "                                                          Argument 1     Argument 2   Argument 3\n",
      "    BRAD Line:\n",
      "    ```\n",
      "    subprocess.call([sys.executable, '<path/to/script/>/datasetSelector.py', chatstatus['output-directory'], <output file>, <gene name>])\n",
      "    ```\n",
      "\n",
      "**OUTPUT FILE NAME INSTRUCTIONS**\n",
      "1. Output path should be chatstatus['output-directory']\n",
      "2. Output file name should be `S0-<data set name>.h5ad`\n",
      "\"\"\"\n",
      "\n",
      "\n",
      "**CALL PYTHON SCRIPTS FROM PYTHON**:\n",
      "Use the `subprocess` module to call any Python script from another Python script. Here are some examples to call a few common Python scripts:\n",
      "\n",
      "To call a Python script `example_script.py` which has no arguments:\n",
      "\n",
      "```\n",
      "Execute: subprocess.call([sys.executable, '<full path to script/> example_script.py', chatstatus['output-directory']])\n",
      "```\n",
      "\n",
      "To call a Python script `example_script.py` with one argument:\n",
      "\n",
      "```\n",
      "Execute: subprocess.call([sys.executable, '<full path to script/> example_script.py', chatstatus['output-directory'], 'arg1'])\n",
      "```\n",
      "\n",
      "To call a Python script `example_script.py` with two arguments:\n",
      "```\n",
      "Execute: subprocess.call([sys.executable, '<full path to script/> example_script.py', chatstatus['output-directory'], 'arg1', 'arg2'])\n",
      "```\n",
      "\n",
      "Note that chatstatus['output-directory'] is ALWAYS passed as the first argument.\n",
      "\n",
      "The following files were previously created by BRAD and could be used as input to a function if necessary:\n",
      "\n",
      "\n",
      "Query:load the 2015 dataset to h5ad format please\n",
      "\n",
      "**INSTRUCTIONS**\n",
      "1. Given the user query and the documentation, identify each of the arguments found in the user's query that should be passed to the Python script.\n",
      "2. Using the `subprocess` module, provide the one line of code to execute the desired Python script with the given arguments. Assume the necessary modules (`subprocess` and `sys`) are already imported.\n",
      "3. The last line of your response should say \"Execute: <Python code to execute>\"\n",
      "4. Format the response/output as:\n",
      "    Arguments: \n",
      "    Python Code Explanation: <2 sentences maximum>\n",
      "    Execute: <your code here>\n",
      "\n",
      "**IMPORTANT**\n",
      "The code to execute from your response must be formatted as:\n",
      "    Execute: subprocess.call([sys.executable, '<path to python script>', '<argument 1>', '<argument 2>', ..., '<argument n>'])\n",
      "This output should be exactly one line and no longer. Stop the response after this line.\n",
      "\u001b[0m\n"
     ]
    },
    {
     "name": "stderr",
     "output_type": "stream",
     "text": [
      "2024-06-30 18:52:07,512 - INFO - LLM OUTPUT PARSER\n",
      "2024-06-30 18:52:07,512 - INFO - Arguments: \n",
      "output directory: chatstatus['output-directory'], output file: S0-2015.h5ad, dataset: 2015\n",
      "\n",
      "Python Code Explanation: We identify the arguments from the user query and the script documentation. The output directory is chatstatus['output-directory'], the output file is S0-2015.h5ad, and the dataset is 2015.\n",
      "\n",
      "Execute: subprocess.call([sys.executable, '/home/jpic/BRAD-Tools/datasetSelector.py', chatstatus['output-directory'], 'S0-2015.h5ad', '2015'])\n",
      "2024-06-30 18:52:07,513 - INFO - [\"Arguments: \\noutput directory: chatstatus['output-directory'], output file: S0-2015.h5ad, dataset: 2015\\n\\nPython Code Explanation: We identify the arguments from the user query and the script documentation. The output directory is chatstatus['output-directory'], the output file is S0-2015.h5ad, and the dataset is 2015.\\n\\n\", \" subprocess.call([sys.executable, '/home/jpic/BRAD-Tools/datasetSelector.py', chatstatus['output-directory'], 'S0-2015.h5ad', '2015'])\"]\n",
      "2024-06-30 18:52:07,513 - INFO - Executing Code!!\n",
      "2024-06-30 18:52:07,514 - INFO - EVAL\n",
      "2024-06-30 18:52:07,514 - INFO - subprocess.call([sys.executable, '/home/jpic/BRAD-Tools/datasetSelector.py', chatstatus['output-directory'], 'S0-2015.h5ad', '2015'])\n",
      "2024-06-30 18:52:07,514 - INFO - END EVAL CHECK\n"
     ]
    },
    {
     "name": "stdout",
     "output_type": "stream",
     "text": [
      "\n",
      "\u001b[1m> Finished chain.\u001b[0m\n",
      "******************************\n",
      "       Dataset Selector       \n",
      "******************************\n"
     ]
    },
    {
     "name": "stderr",
     "output_type": "stream",
     "text": [
      "/home/jpic/.local/lib/python3.11/site-packages/anndata/__init__.py:55: FutureWarning: `anndata.read` is deprecated, use `anndata.read_h5ad` instead. `ad.read` will be removed in mid 2024.\n",
      "  warnings.warn(\n",
      "2024-06-30 18:52:10,343 - INFO - Debug: PYTHON code executed successfully.\n",
      "2024-06-30 18:52:10,345 - INFO - \n",
      "\n",
      "\n",
      "route\n",
      "\n",
      "\n",
      "\n",
      "2024-06-30 18:52:10,345 - INFO - CODE\n",
      "2024-06-30 18:52:10,346 - INFO - \n",
      "\n",
      "PLANNER:\n",
      "\n",
      "{'module': 'CODE', 'steps': []}\n"
     ]
    },
    {
     "name": "stdout",
     "output_type": "stream",
     "text": [
      "==================================================\n"
     ]
    },
    {
     "name": "stdin",
     "output_type": "stream",
     "text": [
      "Input >>  /force CODE convert the 2015 data to gene coordinate formate please\n"
     ]
    },
    {
     "name": "stderr",
     "output_type": "stream",
     "text": [
      "2024-06-30 18:52:18,624 - INFO - CODE\n",
      "2024-06-30 18:52:18,624 - INFO - CODER\n",
      "2024-06-30 18:52:18,626 - INFO - input_variables=['user_query'] template=\"You must select which code to run to help a user.\\n\\n**Available Scripts**\\nScript Name: geneformerCoordinatesTimeSeries, \\t Description: This script organizes datasets into a format to work with time series gene expression using individual geneformer embeddings as the state space. From a .h5ad file, a .pkl file is constructed here that will contain the state type being geneformer, the state names being geneformer coordinates, and the time series data organized as states (geneformer coordinates) by timepoint (hours) by replicates (experiment replicates).\\nScript Name: geneCoordinatesTimeSeries, \\t Description: This script organizes datasets into a format to work with time series gene expression using individual gene expresession as the state space. From a .h5ad file, a .pkl file is constructed here that will contain the state type being gene expression, the state names being gene names, and the time series data organized as states (genes) by timepoint (hours) by replicates (experiment replicates).\\nScript Name: linearModels, \\t Description: This file builds linear and linear time variant (LTI and LTV) models of gene expressions.\\nScript Name: geneformerEmbeddings, \\t Description: Get gene former embeddings of your data\\nScript Name: buildLinearModel, \\t Description: This script builds linear models of time series data using Dynamic Mode Decomposition (DMD).\\nScript Name: datasetSelector, \\t Description: This script is a file chooser to load a gene expression dataset from the lab's turbo partition to give access to the data to BRAD.\\nScript Name: buildLTVModel, \\t Description: This script builds linear time varying models of time series data using Data Guided Control model.\\n\\n\\n**User Query**\\n{user_query}\\n\\n**Task**\\nBased on the user's query, select the best script from the available scripts. Provide the script name and explain why it is the best match. If no script is good, replace script with None\\n\\n**Response Template**\\nSCRIPT: <selected script>\\nREASON: <reasoning why the script fits the user prompt>\\n\"\n",
      "2024-06-30 18:52:18,627 - INFO - FIRST LLM CALL\n"
     ]
    },
    {
     "name": "stdout",
     "output_type": "stream",
     "text": [
      "==================================================\n",
      "RAG >> 1: \n"
     ]
    },
    {
     "name": "stderr",
     "output_type": "stream",
     "text": [
      "2024-06-30 18:52:20,447 - INFO - SCRIPT: geneCoordinatesTimeSeries\n",
      "REASON: The user asked to convert the 2015 data to a gene coordinate format, which is exactly what the geneCoordinatesTimeSeries script does. It takes an .h5ad file as input and outputs a .pkl file with the state type as gene expression, state names as gene names, and time series data organized as states (genes) by timepoint (hours) by replicates (experiment replicates).\n",
      "2024-06-30 18:52:20,447 - INFO - Warning! the type doesn't exist\n",
      "2024-06-30 18:52:20,448 - INFO - scriptPath=/home/jpic/BRAD-Tools/\n",
      "2024-06-30 18:52:20,448 - INFO - pyPath=/home/jpic/BRAD-Tools/\n",
      "2024-06-30 18:52:20,448 - INFO - ALL SCRIPTS FOUND. BUILDING TEMPLATE\n",
      "2024-06-30 18:52:20,449 - INFO - input_variables=['history', 'input'] template='Current conversation:\\n{history}\\n\\n**PYTHON SCRIPT**\\nYou must run this python script:\\n/home/jpic/BRAD-Tools/geneCoordinatesTimeSeries.py\\n\\n**PYTHON SCRIPT DOCUMENTATION**:\\nThis is the doc string of this python script:\\n\"\"\"\\nThis script organizes datasets into a format to work with time series gene expression using individual gene expresession as the state space. From a .h5ad file, a .pkl file is constructed here that will contain the state type being gene expression, the state names being gene names, and the time series data organized as states (genes) by timepoint (hours) by replicates (experiment replicates).\\n\\nArguments (three arguments):\\n    1. output directory: chatstatus[\\'output-directory\\']\\n    2. output file: <name of output file>\\n    3. input file: <file created in previous step>\\n\\nUsage:\\n    Command Line:\\n    ```\\n    python <path/to/script/>geneCoordinateTimeSeries.py <output path> <output file> <input file>\\n    ```\\n                                                             |              |           |\\n                                                         Argument 1     Argument 2   Argument 3\\n    BRAD Line:\\n    ```\\n    subprocess.call([sys.executable, \\'<path/to/script/>/geneCoordinateTimeSeries.py\\', chatstatus[\\'output-directory\\'], <output file>, <input file>])\\n    ```\\n\\n**OUTPUT FILE NAME INSTRUCTIONS**\\n1. Output path should be chatstatus[\\'output-directory\\']\\n2. Output file name should be `S1-<data set name>.pkl`\\n\"\"\"\\n\\n\\n**CALL PYTHON SCRIPTS FROM PYTHON**:\\nUse the `subprocess` module to call any Python script from another Python script. Here are some examples to call a few common Python scripts:\\n\\nTo call a Python script `example_script.py` which has no arguments:\\n\\n```\\nExecute: subprocess.call([sys.executable, \\'<full path to script/> example_script.py\\', chatstatus[\\'output-directory\\']])\\n```\\n\\nTo call a Python script `example_script.py` with one argument:\\n\\n```\\nExecute: subprocess.call([sys.executable, \\'<full path to script/> example_script.py\\', chatstatus[\\'output-directory\\'], \\'arg1\\'])\\n```\\n\\nTo call a Python script `example_script.py` with two arguments:\\n```\\nExecute: subprocess.call([sys.executable, \\'<full path to script/> example_script.py\\', chatstatus[\\'output-directory\\'], \\'arg1\\', \\'arg2\\'])\\n```\\n\\nNote that chatstatus[\\'output-directory\\'] is ALWAYS passed as the first argument.\\n\\nThe following files were previously created by BRAD and could be used as input to a function if necessary:\\nlog.json\\nS0-2015.h5ad\\n\\nQuery:{input}\\n\\n**INSTRUCTIONS**\\n1. Given the user query and the documentation, identify each of the arguments found in the user\\'s query that should be passed to the Python script.\\n2. Using the `subprocess` module, provide the one line of code to execute the desired Python script with the given arguments. Assume the necessary modules (`subprocess` and `sys`) are already imported.\\n3. The last line of your response should say \"Execute: <Python code to execute>\"\\n4. Format the response/output as:\\n    Arguments: \\n    Python Code Explanation: <2 sentences maximum>\\n    Execute: <your code here>\\n\\n**IMPORTANT**\\nThe code to execute from your response must be formatted as:\\n    Execute: subprocess.call([sys.executable, \\'<path to python script>\\', \\'<argument 1>\\', \\'<argument 2>\\', ..., \\'<argument n>\\'])\\nThis output should be exactly one line and no longer. Stop the response after this line.\\n'\n"
     ]
    },
    {
     "name": "stdout",
     "output_type": "stream",
     "text": [
      "\n",
      "\n",
      "\u001b[1m> Entering new ConversationChain chain...\u001b[0m\n",
      "Prompt after formatting:\n",
      "\u001b[32;1m\u001b[1;3mCurrent conversation:\n",
      "\n",
      "\n",
      "**PYTHON SCRIPT**\n",
      "You must run this python script:\n",
      "/home/jpic/BRAD-Tools/geneCoordinatesTimeSeries.py\n",
      "\n",
      "**PYTHON SCRIPT DOCUMENTATION**:\n",
      "This is the doc string of this python script:\n",
      "\"\"\"\n",
      "This script organizes datasets into a format to work with time series gene expression using individual gene expresession as the state space. From a .h5ad file, a .pkl file is constructed here that will contain the state type being gene expression, the state names being gene names, and the time series data organized as states (genes) by timepoint (hours) by replicates (experiment replicates).\n",
      "\n",
      "Arguments (three arguments):\n",
      "    1. output directory: chatstatus['output-directory']\n",
      "    2. output file: <name of output file>\n",
      "    3. input file: <file created in previous step>\n",
      "\n",
      "Usage:\n",
      "    Command Line:\n",
      "    ```\n",
      "    python <path/to/script/>geneCoordinateTimeSeries.py <output path> <output file> <input file>\n",
      "    ```\n",
      "                                                             |              |           |\n",
      "                                                         Argument 1     Argument 2   Argument 3\n",
      "    BRAD Line:\n",
      "    ```\n",
      "    subprocess.call([sys.executable, '<path/to/script/>/geneCoordinateTimeSeries.py', chatstatus['output-directory'], <output file>, <input file>])\n",
      "    ```\n",
      "\n",
      "**OUTPUT FILE NAME INSTRUCTIONS**\n",
      "1. Output path should be chatstatus['output-directory']\n",
      "2. Output file name should be `S1-<data set name>.pkl`\n",
      "\"\"\"\n",
      "\n",
      "\n",
      "**CALL PYTHON SCRIPTS FROM PYTHON**:\n",
      "Use the `subprocess` module to call any Python script from another Python script. Here are some examples to call a few common Python scripts:\n",
      "\n",
      "To call a Python script `example_script.py` which has no arguments:\n",
      "\n",
      "```\n",
      "Execute: subprocess.call([sys.executable, '<full path to script/> example_script.py', chatstatus['output-directory']])\n",
      "```\n",
      "\n",
      "To call a Python script `example_script.py` with one argument:\n",
      "\n",
      "```\n",
      "Execute: subprocess.call([sys.executable, '<full path to script/> example_script.py', chatstatus['output-directory'], 'arg1'])\n",
      "```\n",
      "\n",
      "To call a Python script `example_script.py` with two arguments:\n",
      "```\n",
      "Execute: subprocess.call([sys.executable, '<full path to script/> example_script.py', chatstatus['output-directory'], 'arg1', 'arg2'])\n",
      "```\n",
      "\n",
      "Note that chatstatus['output-directory'] is ALWAYS passed as the first argument.\n",
      "\n",
      "The following files were previously created by BRAD and could be used as input to a function if necessary:\n",
      "log.json\n",
      "S0-2015.h5ad\n",
      "\n",
      "Query:convert the 2015 data to gene coordinate formate please\n",
      "\n",
      "**INSTRUCTIONS**\n",
      "1. Given the user query and the documentation, identify each of the arguments found in the user's query that should be passed to the Python script.\n",
      "2. Using the `subprocess` module, provide the one line of code to execute the desired Python script with the given arguments. Assume the necessary modules (`subprocess` and `sys`) are already imported.\n",
      "3. The last line of your response should say \"Execute: <Python code to execute>\"\n",
      "4. Format the response/output as:\n",
      "    Arguments: \n",
      "    Python Code Explanation: <2 sentences maximum>\n",
      "    Execute: <your code here>\n",
      "\n",
      "**IMPORTANT**\n",
      "The code to execute from your response must be formatted as:\n",
      "    Execute: subprocess.call([sys.executable, '<path to python script>', '<argument 1>', '<argument 2>', ..., '<argument n>'])\n",
      "This output should be exactly one line and no longer. Stop the response after this line.\n",
      "\u001b[0m\n"
     ]
    },
    {
     "name": "stderr",
     "output_type": "stream",
     "text": [
      "2024-06-30 18:52:22,576 - INFO - LLM OUTPUT PARSER\n",
      "2024-06-30 18:52:22,576 - INFO - Arguments: \n",
      "1. output directory: chatstatus['output-directory']\n",
      "2. output file: S1-2015.pkl\n",
      "3. input file: S0-2015.h5ad\n",
      "\n",
      "Python Code Explanation: We are calling the geneCoordinateTimeSeries.py script with the necessary arguments. The output file name is formatted according to the instructions.\n",
      "\n",
      "Execute: subprocess.call([sys.executable, '/home/jpic/BRAD-Tools/geneCoordinatesTimeSeries.py', chatstatus['output-directory'], 'S1-2015.pkl', 'S0-2015.h5ad'])\n",
      "2024-06-30 18:52:22,577 - INFO - [\"Arguments: \\n1. output directory: chatstatus['output-directory']\\n2. output file: S1-2015.pkl\\n3. input file: S0-2015.h5ad\\n\\nPython Code Explanation: We are calling the geneCoordinateTimeSeries.py script with the necessary arguments. The output file name is formatted according to the instructions.\\n\\n\", \" subprocess.call([sys.executable, '/home/jpic/BRAD-Tools/geneCoordinatesTimeSeries.py', chatstatus['output-directory'], 'S1-2015.pkl', 'S0-2015.h5ad'])\"]\n",
      "2024-06-30 18:52:22,578 - INFO - Replacing: S0-2015.h5ad with /home/jpic/BRAD/2024-06-30_18-51-34/S0-2015.h5ad\n",
      "2024-06-30 18:52:22,578 - INFO - New String: subprocess.call([sys.executable, '/home/jpic/BRAD-Tools/geneCoordinatesTimeSeries.py', chatstatus['output-directory'], 'S1-2015.pkl', '/home/jpic/BRAD/2024-06-30_18-51-34/S0-2015.h5ad'])\n",
      "2024-06-30 18:52:22,578 - INFO - Executing Code!!\n",
      "2024-06-30 18:52:22,579 - INFO - EVAL\n",
      "2024-06-30 18:52:22,579 - INFO - subprocess.call([sys.executable, '/home/jpic/BRAD-Tools/geneCoordinatesTimeSeries.py', chatstatus['output-directory'], 'S1-2015.pkl', '/home/jpic/BRAD/2024-06-30_18-51-34/S0-2015.h5ad'])\n",
      "2024-06-30 18:52:22,579 - INFO - END EVAL CHECK\n"
     ]
    },
    {
     "name": "stdout",
     "output_type": "stream",
     "text": [
      "\n",
      "\u001b[1m> Finished chain.\u001b[0m\n",
      "Dataset=/home/jpic/BRAD/2024-06-30_18-51-34/S0-2015.h5ad\n",
      "Data saved to /home/jpic/BRAD/2024-06-30_18-51-34/S1-2015.pkl\n"
     ]
    },
    {
     "name": "stderr",
     "output_type": "stream",
     "text": [
      "/home/jpic/.local/lib/python3.11/site-packages/anndata/__init__.py:55: FutureWarning: `anndata.read` is deprecated, use `anndata.read_h5ad` instead. `ad.read` will be removed in mid 2024.\n",
      "  warnings.warn(\n",
      "2024-06-30 18:52:24,959 - INFO - Debug: PYTHON code executed successfully.\n",
      "2024-06-30 18:52:24,960 - INFO - \n",
      "\n",
      "\n",
      "route\n",
      "\n",
      "\n",
      "\n",
      "2024-06-30 18:52:24,961 - INFO - CODE\n",
      "2024-06-30 18:52:24,962 - INFO - \n",
      "\n",
      "PLANNER:\n",
      "\n",
      "{'module': 'CODE', 'steps': []}\n"
     ]
    },
    {
     "name": "stdout",
     "output_type": "stream",
     "text": [
      "==================================================\n"
     ]
    },
    {
     "name": "stdin",
     "output_type": "stream",
     "text": [
      "Input >>  /force CODE build a LTV model using the 2015 output from Step 1\n"
     ]
    },
    {
     "name": "stderr",
     "output_type": "stream",
     "text": [
      "2024-06-30 18:52:38,790 - INFO - CODE\n",
      "2024-06-30 18:52:38,791 - INFO - CODER\n",
      "2024-06-30 18:52:38,793 - INFO - input_variables=['user_query'] template=\"You must select which code to run to help a user.\\n\\n**Available Scripts**\\nScript Name: geneformerCoordinatesTimeSeries, \\t Description: This script organizes datasets into a format to work with time series gene expression using individual geneformer embeddings as the state space. From a .h5ad file, a .pkl file is constructed here that will contain the state type being geneformer, the state names being geneformer coordinates, and the time series data organized as states (geneformer coordinates) by timepoint (hours) by replicates (experiment replicates).\\nScript Name: geneCoordinatesTimeSeries, \\t Description: This script organizes datasets into a format to work with time series gene expression using individual gene expresession as the state space. From a .h5ad file, a .pkl file is constructed here that will contain the state type being gene expression, the state names being gene names, and the time series data organized as states (genes) by timepoint (hours) by replicates (experiment replicates).\\nScript Name: linearModels, \\t Description: This file builds linear and linear time variant (LTI and LTV) models of gene expressions.\\nScript Name: geneformerEmbeddings, \\t Description: Get gene former embeddings of your data\\nScript Name: buildLinearModel, \\t Description: This script builds linear models of time series data using Dynamic Mode Decomposition (DMD).\\nScript Name: datasetSelector, \\t Description: This script is a file chooser to load a gene expression dataset from the lab's turbo partition to give access to the data to BRAD.\\nScript Name: buildLTVModel, \\t Description: This script builds linear time varying models of time series data using Data Guided Control model.\\n\\n\\n**User Query**\\n{user_query}\\n\\n**Task**\\nBased on the user's query, select the best script from the available scripts. Provide the script name and explain why it is the best match. If no script is good, replace script with None\\n\\n**Response Template**\\nSCRIPT: <selected script>\\nREASON: <reasoning why the script fits the user prompt>\\n\"\n",
      "2024-06-30 18:52:38,793 - INFO - FIRST LLM CALL\n"
     ]
    },
    {
     "name": "stdout",
     "output_type": "stream",
     "text": [
      "==================================================\n",
      "RAG >> 2: \n"
     ]
    },
    {
     "name": "stderr",
     "output_type": "stream",
     "text": [
      "2024-06-30 18:52:40,456 - INFO - SCRIPT: buildLTVModel\n",
      "REASON: The user wants to build a Linear Time Varying (LTV) model, which is exactly what the buildLTVModel script is designed to do. The mention of \"2015 output from Step 1\" suggests that the user already has the necessary data and wants to apply the LTV model to it, which is the purpose of this script.\n",
      "2024-06-30 18:52:40,457 - INFO - Warning! the type doesn't exist\n",
      "2024-06-30 18:52:40,457 - INFO - scriptPath=/home/jpic/BRAD-Tools/\n",
      "2024-06-30 18:52:40,458 - INFO - pyPath=/home/jpic/BRAD-Tools/\n",
      "2024-06-30 18:52:40,458 - INFO - ALL SCRIPTS FOUND. BUILDING TEMPLATE\n",
      "2024-06-30 18:52:40,459 - INFO - input_variables=['history', 'input'] template='Current conversation:\\n{history}\\n\\n**PYTHON SCRIPT**\\nYou must run this python script:\\n/home/jpic/BRAD-Tools/buildLTVModel.py\\n\\n**PYTHON SCRIPT DOCUMENTATION**:\\nThis is the doc string of this python script:\\n\"\"\"\\nThis script builds linear time varying models of time series data using Data Guided Control model.\\n\\nArguments (four arguments):\\n    1. output directory: chatstatus[\\'output-directory\\']\\n    2. output file: <name of output file>\\n    3. input file: the file created previously in the pipeline with formatted time series data\\n    4. DMD Rank: this parameter controls the amount reduced order modeling. A value of -1 indicates no model reduction\\n\\nUsage:\\n    Command Line:\\n    ```\\n    python <path/to/script/>datasetSelector.py <output path> <output file> <input file>\\n    ```\\n                                                     |              |            |\\n                                                 Argument 1     Argument 2   Argument 3\\n    BRAD Line:\\n    ```\\n    subprocess.call([sys.executable, \\'<path/to/script/>/buildLinearModel.py\\', chatstatus[\\'output-directory\\'], <output file>, <input file>, <dmd rank>])\\n    ```\\n\\n**OUTPUT FILE NAME INSTRUCTIONS**\\n1. Output path should be chatstatus[\\'output-directory\\']\\n2. Output file name should be `S2-<descriptive name>.pkl`\\n\"\"\"\\n\\n\\n**CALL PYTHON SCRIPTS FROM PYTHON**:\\nUse the `subprocess` module to call any Python script from another Python script. Here are some examples to call a few common Python scripts:\\n\\nTo call a Python script `example_script.py` which has no arguments:\\n\\n```\\nExecute: subprocess.call([sys.executable, \\'<full path to script/> example_script.py\\', chatstatus[\\'output-directory\\']])\\n```\\n\\nTo call a Python script `example_script.py` with one argument:\\n\\n```\\nExecute: subprocess.call([sys.executable, \\'<full path to script/> example_script.py\\', chatstatus[\\'output-directory\\'], \\'arg1\\'])\\n```\\n\\nTo call a Python script `example_script.py` with two arguments:\\n```\\nExecute: subprocess.call([sys.executable, \\'<full path to script/> example_script.py\\', chatstatus[\\'output-directory\\'], \\'arg1\\', \\'arg2\\'])\\n```\\n\\nNote that chatstatus[\\'output-directory\\'] is ALWAYS passed as the first argument.\\n\\nThe following files were previously created by BRAD and could be used as input to a function if necessary:\\nlog.json\\nS1-2015.pkl\\nS0-2015.h5ad\\n\\nQuery:{input}\\n\\n**INSTRUCTIONS**\\n1. Given the user query and the documentation, identify each of the arguments found in the user\\'s query that should be passed to the Python script.\\n2. Using the `subprocess` module, provide the one line of code to execute the desired Python script with the given arguments. Assume the necessary modules (`subprocess` and `sys`) are already imported.\\n3. The last line of your response should say \"Execute: <Python code to execute>\"\\n4. Format the response/output as:\\n    Arguments: \\n    Python Code Explanation: <2 sentences maximum>\\n    Execute: <your code here>\\n\\n**IMPORTANT**\\nThe code to execute from your response must be formatted as:\\n    Execute: subprocess.call([sys.executable, \\'<path to python script>\\', \\'<argument 1>\\', \\'<argument 2>\\', ..., \\'<argument n>\\'])\\nThis output should be exactly one line and no longer. Stop the response after this line.\\n'\n"
     ]
    },
    {
     "name": "stdout",
     "output_type": "stream",
     "text": [
      "\n",
      "\n",
      "\u001b[1m> Entering new ConversationChain chain...\u001b[0m\n",
      "Prompt after formatting:\n",
      "\u001b[32;1m\u001b[1;3mCurrent conversation:\n",
      "\n",
      "\n",
      "**PYTHON SCRIPT**\n",
      "You must run this python script:\n",
      "/home/jpic/BRAD-Tools/buildLTVModel.py\n",
      "\n",
      "**PYTHON SCRIPT DOCUMENTATION**:\n",
      "This is the doc string of this python script:\n",
      "\"\"\"\n",
      "This script builds linear time varying models of time series data using Data Guided Control model.\n",
      "\n",
      "Arguments (four arguments):\n",
      "    1. output directory: chatstatus['output-directory']\n",
      "    2. output file: <name of output file>\n",
      "    3. input file: the file created previously in the pipeline with formatted time series data\n",
      "    4. DMD Rank: this parameter controls the amount reduced order modeling. A value of -1 indicates no model reduction\n",
      "\n",
      "Usage:\n",
      "    Command Line:\n",
      "    ```\n",
      "    python <path/to/script/>datasetSelector.py <output path> <output file> <input file>\n",
      "    ```\n",
      "                                                     |              |            |\n",
      "                                                 Argument 1     Argument 2   Argument 3\n",
      "    BRAD Line:\n",
      "    ```\n",
      "    subprocess.call([sys.executable, '<path/to/script/>/buildLinearModel.py', chatstatus['output-directory'], <output file>, <input file>, <dmd rank>])\n",
      "    ```\n",
      "\n",
      "**OUTPUT FILE NAME INSTRUCTIONS**\n",
      "1. Output path should be chatstatus['output-directory']\n",
      "2. Output file name should be `S2-<descriptive name>.pkl`\n",
      "\"\"\"\n",
      "\n",
      "\n",
      "**CALL PYTHON SCRIPTS FROM PYTHON**:\n",
      "Use the `subprocess` module to call any Python script from another Python script. Here are some examples to call a few common Python scripts:\n",
      "\n",
      "To call a Python script `example_script.py` which has no arguments:\n",
      "\n",
      "```\n",
      "Execute: subprocess.call([sys.executable, '<full path to script/> example_script.py', chatstatus['output-directory']])\n",
      "```\n",
      "\n",
      "To call a Python script `example_script.py` with one argument:\n",
      "\n",
      "```\n",
      "Execute: subprocess.call([sys.executable, '<full path to script/> example_script.py', chatstatus['output-directory'], 'arg1'])\n",
      "```\n",
      "\n",
      "To call a Python script `example_script.py` with two arguments:\n",
      "```\n",
      "Execute: subprocess.call([sys.executable, '<full path to script/> example_script.py', chatstatus['output-directory'], 'arg1', 'arg2'])\n",
      "```\n",
      "\n",
      "Note that chatstatus['output-directory'] is ALWAYS passed as the first argument.\n",
      "\n",
      "The following files were previously created by BRAD and could be used as input to a function if necessary:\n",
      "log.json\n",
      "S1-2015.pkl\n",
      "S0-2015.h5ad\n",
      "\n",
      "Query:build a LTV model using the 2015 output from Step 1\n",
      "\n",
      "**INSTRUCTIONS**\n",
      "1. Given the user query and the documentation, identify each of the arguments found in the user's query that should be passed to the Python script.\n",
      "2. Using the `subprocess` module, provide the one line of code to execute the desired Python script with the given arguments. Assume the necessary modules (`subprocess` and `sys`) are already imported.\n",
      "3. The last line of your response should say \"Execute: <Python code to execute>\"\n",
      "4. Format the response/output as:\n",
      "    Arguments: \n",
      "    Python Code Explanation: <2 sentences maximum>\n",
      "    Execute: <your code here>\n",
      "\n",
      "**IMPORTANT**\n",
      "The code to execute from your response must be formatted as:\n",
      "    Execute: subprocess.call([sys.executable, '<path to python script>', '<argument 1>', '<argument 2>', ..., '<argument n>'])\n",
      "This output should be exactly one line and no longer. Stop the response after this line.\n",
      "\u001b[0m\n"
     ]
    },
    {
     "name": "stderr",
     "output_type": "stream",
     "text": [
      "2024-06-30 18:52:43,115 - INFO - LLM OUTPUT PARSER\n",
      "2024-06-30 18:52:43,116 - INFO - Arguments: \n",
      "1. output directory: chatstatus['output-directory']\n",
      "2. output file: S2-2015.pkl\n",
      "3. input file: S1-2015.pkl\n",
      "4. DMD Rank: we'll use the default value of -1 for this example\n",
      "\n",
      "Python Code Explanation: The Python code uses the subprocess module to call the buildLTVModel.py script with the required arguments. The script builds a linear time varying model using the 2015 output from Step 1.\n",
      "\n",
      "Execute: subprocess.call([sys.executable, '/home/jpic/BRAD-Tools/buildLTVModel.py', chatstatus['output-directory'], 'S2-2015.pkl', 'S1-2015.pkl', '-1'])\n",
      "2024-06-30 18:52:43,116 - INFO - [\"Arguments: \\n1. output directory: chatstatus['output-directory']\\n2. output file: S2-2015.pkl\\n3. input file: S1-2015.pkl\\n4. DMD Rank: we'll use the default value of -1 for this example\\n\\nPython Code Explanation: The Python code uses the subprocess module to call the buildLTVModel.py script with the required arguments. The script builds a linear time varying model using the 2015 output from Step 1.\\n\\n\", \" subprocess.call([sys.executable, '/home/jpic/BRAD-Tools/buildLTVModel.py', chatstatus['output-directory'], 'S2-2015.pkl', 'S1-2015.pkl', '-1'])\"]\n",
      "2024-06-30 18:52:43,117 - INFO - Replacing: S1-2015.pkl with /home/jpic/BRAD/2024-06-30_18-51-34/S1-2015.pkl\n",
      "2024-06-30 18:52:43,117 - INFO - New String: subprocess.call([sys.executable, '/home/jpic/BRAD-Tools/buildLTVModel.py', chatstatus['output-directory'], 'S2-2015.pkl', '/home/jpic/BRAD/2024-06-30_18-51-34/S1-2015.pkl', '-1'])\n",
      "2024-06-30 18:52:43,118 - INFO - Executing Code!!\n",
      "2024-06-30 18:52:43,118 - INFO - EVAL\n",
      "2024-06-30 18:52:43,118 - INFO - subprocess.call([sys.executable, '/home/jpic/BRAD-Tools/buildLTVModel.py', chatstatus['output-directory'], 'S2-2015.pkl', '/home/jpic/BRAD/2024-06-30_18-51-34/S1-2015.pkl', '-1'])\n",
      "2024-06-30 18:52:43,119 - INFO - END EVAL CHECK\n"
     ]
    },
    {
     "name": "stdout",
     "output_type": "stream",
     "text": [
      "\n",
      "\u001b[1m> Finished chain.\u001b[0m\n",
      "******************************\n",
      "      Data Guided Control     \n",
      "******************************\n",
      "Output Path: /home/jpic/BRAD/2024-06-30_18-51-34\n",
      "Output File: S2-2015.pkl\n",
      "Input File: /home/jpic/BRAD/2024-06-30_18-51-34/S1-2015.pkl\n"
     ]
    },
    {
     "name": "stderr",
     "output_type": "stream",
     "text": [
      "Traceback (most recent call last):\n",
      "2024-06-30 18:54:13,759 - INFO - Debug: PYTHON code executed successfully.\n",
      "2024-06-30 18:54:13,760 - INFO - \n",
      "\n",
      "\n",
      "route\n",
      "\n",
      "\n",
      "\n",
      "2024-06-30 18:54:13,760 - INFO - CODE\n",
      "2024-06-30 18:54:13,761 - INFO - \n",
      "\n",
      "PLANNER:\n",
      "\n",
      "{'module': 'CODE', 'steps': []}\n"
     ]
    },
    {
     "ename": "OSError",
     "evalue": "[Errno 28] No space left on device",
     "output_type": "error",
     "traceback": [
      "\u001b[0;31m---------------------------------------------------------------------------\u001b[0m",
      "\u001b[0;31mOSError\u001b[0m                                   Traceback (most recent call last)",
      "Cell \u001b[0;32mIn[3], line 1\u001b[0m\n\u001b[0;32m----> 1\u001b[0m \u001b[43mbrad\u001b[49m\u001b[38;5;241;43m.\u001b[39;49m\u001b[43mchat\u001b[49m\u001b[43m(\u001b[49m\u001b[43m)\u001b[49m\n",
      "File \u001b[0;32m~/RAG-DEV/BRAD/brad.py:440\u001b[0m, in \u001b[0;36mchat\u001b[0;34m(model_path, persist_directory, llm, ragvectordb, embeddings_model)\u001b[0m\n\u001b[1;32m    437\u001b[0m             chatstatus[\u001b[38;5;124m'\u001b[39m\u001b[38;5;124mqueue pointer\u001b[39m\u001b[38;5;124m'\u001b[39m] \u001b[38;5;241m+\u001b[39m\u001b[38;5;241m=\u001b[39m \u001b[38;5;241m1\u001b[39m\n\u001b[1;32m    439\u001b[0m     \u001b[38;5;66;03m# Log and reset these values\u001b[39;00m\n\u001b[0;32m--> 440\u001b[0m     chatlog, chatstatus \u001b[38;5;241m=\u001b[39m \u001b[43mlog\u001b[49m\u001b[38;5;241;43m.\u001b[39;49m\u001b[43mlogger\u001b[49m\u001b[43m(\u001b[49m\u001b[43mchatlog\u001b[49m\u001b[43m,\u001b[49m\u001b[43m \u001b[49m\u001b[43mchatstatus\u001b[49m\u001b[43m,\u001b[49m\u001b[43m \u001b[49m\u001b[43mchatname\u001b[49m\u001b[43m)\u001b[49m\n\u001b[1;32m    442\u001b[0m chatstatus \u001b[38;5;241m=\u001b[39m log\u001b[38;5;241m.\u001b[39muserOutput(\u001b[38;5;124m\"\u001b[39m\u001b[38;5;124mThanks for chatting today! I hope to talk soon, and don\u001b[39m\u001b[38;5;124m'\u001b[39m\u001b[38;5;124mt forget that a record of this conversation is available at: \u001b[39m\u001b[38;5;124m\"\u001b[39m \u001b[38;5;241m+\u001b[39m chatname, chatstatus\u001b[38;5;241m=\u001b[39mchatstatus)\n",
      "File \u001b[0;32m~/RAG-DEV/BRAD/log.py:49\u001b[0m, in \u001b[0;36mlogger\u001b[0;34m(chatlog, chatstatus, chatname)\u001b[0m\n\u001b[1;32m     29\u001b[0m process_serializable \u001b[38;5;241m=\u001b[39m {\n\u001b[1;32m     30\u001b[0m         key: value \u001b[38;5;28;01mif\u001b[39;00m is_json_serializable(value) \u001b[38;5;28;01melse\u001b[39;00m \u001b[38;5;28mstr\u001b[39m(value)\n\u001b[1;32m     31\u001b[0m         \u001b[38;5;28;01mfor\u001b[39;00m key, value \u001b[38;5;129;01min\u001b[39;00m chatstatus[\u001b[38;5;124m'\u001b[39m\u001b[38;5;124mprocess\u001b[39m\u001b[38;5;124m'\u001b[39m]\u001b[38;5;241m.\u001b[39mitems()\n\u001b[1;32m     32\u001b[0m     }\n\u001b[1;32m     34\u001b[0m chatlog[\u001b[38;5;28mlen\u001b[39m(chatlog)] \u001b[38;5;241m=\u001b[39m {\n\u001b[1;32m     35\u001b[0m     \u001b[38;5;124m'\u001b[39m\u001b[38;5;124mprompt\u001b[39m\u001b[38;5;124m'\u001b[39m : chatstatus[\u001b[38;5;124m'\u001b[39m\u001b[38;5;124mprompt\u001b[39m\u001b[38;5;124m'\u001b[39m],  \u001b[38;5;66;03m# the input to the user\u001b[39;00m\n\u001b[1;32m     36\u001b[0m     \u001b[38;5;124m'\u001b[39m\u001b[38;5;124moutput\u001b[39m\u001b[38;5;124m'\u001b[39m : chatstatus[\u001b[38;5;124m'\u001b[39m\u001b[38;5;124moutput\u001b[39m\u001b[38;5;124m'\u001b[39m],  \u001b[38;5;66;03m# the output to the user\u001b[39;00m\n\u001b[0;32m   (...)\u001b[0m\n\u001b[1;32m     47\u001b[0m     },\n\u001b[1;32m     48\u001b[0m }\n\u001b[0;32m---> 49\u001b[0m \u001b[43m\u001b[49m\u001b[38;5;28;43;01mwith\u001b[39;49;00m\u001b[43m \u001b[49m\u001b[38;5;28;43mopen\u001b[39;49m\u001b[43m(\u001b[49m\u001b[43mchatname\u001b[49m\u001b[43m,\u001b[49m\u001b[43m \u001b[49m\u001b[38;5;124;43m'\u001b[39;49m\u001b[38;5;124;43mw\u001b[39;49m\u001b[38;5;124;43m'\u001b[39;49m\u001b[43m)\u001b[49m\u001b[43m \u001b[49m\u001b[38;5;28;43;01mas\u001b[39;49;00m\u001b[43m \u001b[49m\u001b[43mfp\u001b[49m\u001b[43m:\u001b[49m\n\u001b[1;32m     50\u001b[0m \u001b[43m    \u001b[49m\u001b[43mjson\u001b[49m\u001b[38;5;241;43m.\u001b[39;49m\u001b[43mdump\u001b[49m\u001b[43m(\u001b[49m\u001b[43mchatlog\u001b[49m\u001b[43m,\u001b[49m\u001b[43m \u001b[49m\u001b[43mfp\u001b[49m\u001b[43m,\u001b[49m\u001b[43m \u001b[49m\u001b[43mindent\u001b[49m\u001b[38;5;241;43m=\u001b[39;49m\u001b[38;5;241;43m4\u001b[39;49m\u001b[43m)\u001b[49m\n\u001b[1;32m     51\u001b[0m chatstatus[\u001b[38;5;124m'\u001b[39m\u001b[38;5;124mprocess\u001b[39m\u001b[38;5;124m'\u001b[39m] \u001b[38;5;241m=\u001b[39m \u001b[38;5;28;01mNone\u001b[39;00m\n",
      "\u001b[0;31mOSError\u001b[0m: [Errno 28] No space left on device"
     ]
    }
   ],
   "source": [
    "brad.chat()"
   ]
  },
  {
   "cell_type": "code",
   "execution_count": 14,
   "id": "8a5c8789-8231-4674-b16f-153a09eb25ad",
   "metadata": {},
   "outputs": [],
   "source": [
    "from BRAD import utils\n",
    "import os\n",
    "chatstatus = {\n",
    "    'output-directory' : '/home/jpic/BRAD/2024-06-30_17-46-02'\n",
    "}\n",
    "\n",
    "files = utils.outputFiles(chatstatus)\n",
    "append_path = chatstatus['output-directory']\n",
    "\n",
    "string = \"\"\"subprocess.call([sys.executable, '/home/jpic/BRAD-Tools/geneCoordinatesTimeSeries.py', chatstatus['output-directory'], 'S1-S0-2018.pkl', 'S0-2018.h5ad'])\"\"\"\n",
    "\n",
    "for file in files:\n",
    "    if file in string:\n",
    "        fileWpath = os.path.join(append_path, file)\n",
    "        if fileWpath not in string:\n",
    "            string = string.replace(file, fileWpath)"
   ]
  },
  {
   "cell_type": "code",
   "execution_count": 15,
   "id": "a4a85ca8-4dd3-47dc-a79c-4086765d7272",
   "metadata": {},
   "outputs": [
    {
     "data": {
      "text/plain": [
       "\"subprocess.call([sys.executable, '/home/jpic/BRAD-Tools/geneCoordinatesTimeSeries.py', chatstatus['output-directory'], 'S1-S0-2018.pkl', '/home/jpic/BRAD/2024-06-30_17-46-02/S0-2018.h5ad'])\""
      ]
     },
     "execution_count": 15,
     "metadata": {},
     "output_type": "execute_result"
    }
   ],
   "source": [
    "string"
   ]
  },
  {
   "cell_type": "code",
   "execution_count": 6,
   "id": "c840ffcc-0943-42c8-9ec5-d98981fc9a4e",
   "metadata": {},
   "outputs": [
    {
     "ename": "NameError",
     "evalue": "name 'string' is not defined",
     "output_type": "error",
     "traceback": [
      "\u001b[0;31m---------------------------------------------------------------------------\u001b[0m",
      "\u001b[0;31mNameError\u001b[0m                                 Traceback (most recent call last)",
      "Cell \u001b[0;32mIn[6], line 1\u001b[0m\n\u001b[0;32m----> 1\u001b[0m \u001b[43mstring\u001b[49m\n",
      "\u001b[0;31mNameError\u001b[0m: name 'string' is not defined"
     ]
    }
   ],
   "source": [
    "string"
   ]
  },
  {
   "cell_type": "code",
   "execution_count": null,
   "id": "081cc2d4-ae04-432f-9c0f-5c2b85edd84c",
   "metadata": {},
   "outputs": [],
   "source": []
  },
  {
   "cell_type": "code",
   "execution_count": 4,
   "id": "01c08a04-7728-474d-bdf8-bd09a0ecb6d7",
   "metadata": {},
   "outputs": [],
   "source": [
    "from semantic_router.encoders import HuggingFaceEncoder"
   ]
  },
  {
   "cell_type": "code",
   "execution_count": 6,
   "id": "8ead963f-f0ee-405c-b236-88ee4597c14c",
   "metadata": {},
   "outputs": [
    {
     "data": {
      "text/plain": [
       "HuggingFaceEncoder(name='sentence-transformers/all-MiniLM-L6-v2', score_threshold=0.5, type='huggingface', tokenizer_kwargs={}, model_kwargs={}, device='cpu')"
      ]
     },
     "execution_count": 6,
     "metadata": {},
     "output_type": "execute_result"
    }
   ],
   "source": [
    "HuggingFaceEncoder(device='cpu')"
   ]
  },
  {
   "cell_type": "code",
   "execution_count": 5,
   "id": "c408d2d5-38dc-4b63-9dc8-1f195ff6e5fd",
   "metadata": {},
   "outputs": [
    {
     "name": "stdout",
     "output_type": "stream",
     "text": [
      "Help on class HuggingFaceEncoder in module semantic_router.encoders.huggingface:\n",
      "\n",
      "class HuggingFaceEncoder(semantic_router.encoders.base.BaseEncoder)\n",
      " |  HuggingFaceEncoder(*, name: str = 'sentence-transformers/all-MiniLM-L6-v2', score_threshold: float = 0.5, type: str = 'huggingface', tokenizer_kwargs: Dict = {}, model_kwargs: Dict = {}, device: Optional[str] = None) -> None\n",
      " |  \n",
      " |  Method resolution order:\n",
      " |      HuggingFaceEncoder\n",
      " |      semantic_router.encoders.base.BaseEncoder\n",
      " |      pydantic.v1.main.BaseModel\n",
      " |      pydantic.v1.utils.Representation\n",
      " |      builtins.object\n",
      " |  \n",
      " |  Methods defined here:\n",
      " |  \n",
      " |  __call__(self, docs: List[str], batch_size: int = 32, normalize_embeddings: bool = True, pooling_strategy: str = 'mean') -> List[List[float]]\n",
      " |      Call self as a function.\n",
      " |  \n",
      " |  __init__(self, **data)\n",
      " |      Create a new model by parsing and validating input data from keyword arguments.\n",
      " |      \n",
      " |      Raises ValidationError if the input data cannot be parsed to form a valid model.\n",
      " |  \n",
      " |  ----------------------------------------------------------------------\n",
      " |  Static methods defined here:\n",
      " |  \n",
      " |  __json_encoder__ = pydantic_encoder(obj: Any) -> Any\n",
      " |  \n",
      " |  ----------------------------------------------------------------------\n",
      " |  Data and other attributes defined here:\n",
      " |  \n",
      " |  __abstractmethods__ = frozenset()\n",
      " |  \n",
      " |  __annotations__ = {'_model': typing.Any, '_tokenizer': typing.Any, '_t...\n",
      " |  \n",
      " |  __class_vars__ = set()\n",
      " |  \n",
      " |  __config__ = <class 'pydantic.v1.config.Config'>\n",
      " |  \n",
      " |  __custom_root_type__ = False\n",
      " |  \n",
      " |  __exclude_fields__ = None\n",
      " |  \n",
      " |  __fields__ = {'device': ModelField(name='device', type=Optional[str], ...\n",
      " |  \n",
      " |  __hash__ = None\n",
      " |  \n",
      " |  __include_fields__ = None\n",
      " |  \n",
      " |  __post_root_validators__ = []\n",
      " |  \n",
      " |  __pre_root_validators__ = []\n",
      " |  \n",
      " |  __private_attributes__ = {'_model': ModelPrivateAttr(default=PydanticU...\n",
      " |  \n",
      " |  __schema_cache__ = {}\n",
      " |  \n",
      " |  __signature__ = <Signature (*, name: str = 'sentence-transformer...Dic...\n",
      " |  \n",
      " |  __validators__ = {}\n",
      " |  \n",
      " |  ----------------------------------------------------------------------\n",
      " |  Data and other attributes inherited from semantic_router.encoders.base.BaseEncoder:\n",
      " |  \n",
      " |  Config = <class 'semantic_router.encoders.base.BaseEncoder.Config'>\n",
      " |  \n",
      " |  ----------------------------------------------------------------------\n",
      " |  Methods inherited from pydantic.v1.main.BaseModel:\n",
      " |  \n",
      " |  __eq__(self, other: Any) -> bool\n",
      " |      Return self==value.\n",
      " |  \n",
      " |  __getstate__(self) -> 'DictAny'\n",
      " |      Helper for pickle.\n",
      " |  \n",
      " |  __iter__(self) -> 'TupleGenerator'\n",
      " |      so `dict(model)` works\n",
      " |  \n",
      " |  __repr_args__(self) -> 'ReprArgs'\n",
      " |      Returns the attributes to show in __str__, __repr__, and __pretty__ this is generally overridden.\n",
      " |      \n",
      " |      Can either return:\n",
      " |      * name - value pairs, e.g.: `[('foo_name', 'foo'), ('bar_name', ['b', 'a', 'r'])]`\n",
      " |      * or, just values, e.g.: `[(None, 'foo'), (None, ['b', 'a', 'r'])]`\n",
      " |  \n",
      " |  __setattr__(self, name, value)\n",
      " |      Implement setattr(self, name, value).\n",
      " |  \n",
      " |  __setstate__(self, state: 'DictAny') -> None\n",
      " |  \n",
      " |  copy(self: 'Model', *, include: Union[ForwardRef('AbstractSetIntStr'), ForwardRef('MappingIntStrAny'), NoneType] = None, exclude: Union[ForwardRef('AbstractSetIntStr'), ForwardRef('MappingIntStrAny'), NoneType] = None, update: Optional[ForwardRef('DictStrAny')] = None, deep: bool = False) -> 'Model'\n",
      " |      Duplicate a model, optionally choose which fields to include, exclude and change.\n",
      " |      \n",
      " |      :param include: fields to include in new model\n",
      " |      :param exclude: fields to exclude from new model, as with values this takes precedence over include\n",
      " |      :param update: values to change/add in the new model. Note: the data is not validated before creating\n",
      " |          the new model: you should trust this data\n",
      " |      :param deep: set to `True` to make a deep copy of the model\n",
      " |      :return: new model instance\n",
      " |  \n",
      " |  dict(self, *, include: Union[ForwardRef('AbstractSetIntStr'), ForwardRef('MappingIntStrAny'), NoneType] = None, exclude: Union[ForwardRef('AbstractSetIntStr'), ForwardRef('MappingIntStrAny'), NoneType] = None, by_alias: bool = False, skip_defaults: Optional[bool] = None, exclude_unset: bool = False, exclude_defaults: bool = False, exclude_none: bool = False) -> 'DictStrAny'\n",
      " |      Generate a dictionary representation of the model, optionally specifying which fields to include or exclude.\n",
      " |  \n",
      " |  json(self, *, include: Union[ForwardRef('AbstractSetIntStr'), ForwardRef('MappingIntStrAny'), NoneType] = None, exclude: Union[ForwardRef('AbstractSetIntStr'), ForwardRef('MappingIntStrAny'), NoneType] = None, by_alias: bool = False, skip_defaults: Optional[bool] = None, exclude_unset: bool = False, exclude_defaults: bool = False, exclude_none: bool = False, encoder: Optional[Callable[[Any], Any]] = None, models_as_dict: bool = True, **dumps_kwargs: Any) -> str\n",
      " |      Generate a JSON representation of the model, `include` and `exclude` arguments as per `dict()`.\n",
      " |      \n",
      " |      `encoder` is an optional function to supply as `default` to json.dumps(), other arguments as per `json.dumps()`.\n",
      " |  \n",
      " |  ----------------------------------------------------------------------\n",
      " |  Class methods inherited from pydantic.v1.main.BaseModel:\n",
      " |  \n",
      " |  __get_validators__() -> 'CallableGenerator' from pydantic.v1.main.ModelMetaclass\n",
      " |  \n",
      " |  __try_update_forward_refs__(**localns: Any) -> None from pydantic.v1.main.ModelMetaclass\n",
      " |      Same as update_forward_refs but will not raise exception\n",
      " |      when forward references are not defined.\n",
      " |  \n",
      " |  construct(_fields_set: Optional[ForwardRef('SetStr')] = None, **values: Any) -> 'Model' from pydantic.v1.main.ModelMetaclass\n",
      " |      Creates a new model setting __dict__ and __fields_set__ from trusted or pre-validated data.\n",
      " |      Default values are respected, but no other validation is performed.\n",
      " |      Behaves as if `Config.extra = 'allow'` was set since it adds all passed values\n",
      " |  \n",
      " |  from_orm(obj: Any) -> 'Model' from pydantic.v1.main.ModelMetaclass\n",
      " |  \n",
      " |  parse_file(path: Union[str, pathlib.Path], *, content_type: str = None, encoding: str = 'utf8', proto: pydantic.v1.parse.Protocol = None, allow_pickle: bool = False) -> 'Model' from pydantic.v1.main.ModelMetaclass\n",
      " |  \n",
      " |  parse_obj(obj: Any) -> 'Model' from pydantic.v1.main.ModelMetaclass\n",
      " |  \n",
      " |  parse_raw(b: Union[str, bytes], *, content_type: str = None, encoding: str = 'utf8', proto: pydantic.v1.parse.Protocol = None, allow_pickle: bool = False) -> 'Model' from pydantic.v1.main.ModelMetaclass\n",
      " |  \n",
      " |  schema(by_alias: bool = True, ref_template: str = '#/definitions/{model}') -> 'DictStrAny' from pydantic.v1.main.ModelMetaclass\n",
      " |  \n",
      " |  schema_json(*, by_alias: bool = True, ref_template: str = '#/definitions/{model}', **dumps_kwargs: Any) -> str from pydantic.v1.main.ModelMetaclass\n",
      " |  \n",
      " |  update_forward_refs(**localns: Any) -> None from pydantic.v1.main.ModelMetaclass\n",
      " |      Try to update ForwardRefs on fields based on this Model, globalns and localns.\n",
      " |  \n",
      " |  validate(value: Any) -> 'Model' from pydantic.v1.main.ModelMetaclass\n",
      " |  \n",
      " |  ----------------------------------------------------------------------\n",
      " |  Data descriptors inherited from pydantic.v1.main.BaseModel:\n",
      " |  \n",
      " |  __dict__\n",
      " |      dictionary for instance variables\n",
      " |  \n",
      " |  __fields_set__\n",
      " |  \n",
      " |  ----------------------------------------------------------------------\n",
      " |  Methods inherited from pydantic.v1.utils.Representation:\n",
      " |  \n",
      " |  __pretty__(self, fmt: Callable[[Any], Any], **kwargs: Any) -> Generator[Any, NoneType, NoneType]\n",
      " |      Used by devtools (https://python-devtools.helpmanual.io/) to provide a human readable representations of objects\n",
      " |  \n",
      " |  __repr__(self) -> str\n",
      " |      Return repr(self).\n",
      " |  \n",
      " |  __repr_name__(self) -> str\n",
      " |      Name of the instance's class, used in __repr__.\n",
      " |  \n",
      " |  __repr_str__(self, join_str: str) -> str\n",
      " |  \n",
      " |  __rich_repr__(self) -> 'RichReprResult'\n",
      " |      Get fields for Rich library\n",
      " |  \n",
      " |  __str__(self) -> str\n",
      " |      Return str(self).\n",
      "\n"
     ]
    }
   ],
   "source": [
    "help(HuggingFaceEncoder)"
   ]
  }
 ],
 "metadata": {
  "kernelspec": {
   "display_name": "Python 3 (ipykernel)",
   "language": "python",
   "name": "python3"
  },
  "language_info": {
   "codemirror_mode": {
    "name": "ipython",
    "version": 3
   },
   "file_extension": ".py",
   "mimetype": "text/x-python",
   "name": "python",
   "nbconvert_exporter": "python",
   "pygments_lexer": "ipython3",
   "version": "3.11.7"
  }
 },
 "nbformat": 4,
 "nbformat_minor": 5
}
