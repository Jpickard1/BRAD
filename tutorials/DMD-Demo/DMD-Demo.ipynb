{
 "cells": [
  {
   "cell_type": "code",
   "execution_count": 1,
   "id": "829b6482-0102-4a0f-a3b7-c98386924d32",
   "metadata": {},
   "outputs": [
    {
     "data": {
      "text/plain": [
       "False"
      ]
     },
     "execution_count": 1,
     "metadata": {},
     "output_type": "execute_result"
    }
   ],
   "source": [
    "import torch\n",
    "torch.cuda.is_available()"
   ]
  },
  {
   "cell_type": "code",
   "execution_count": 10,
   "id": "4825b929-c66f-404a-bac0-02e4c6b5d840",
   "metadata": {},
   "outputs": [
    {
     "name": "stdout",
     "output_type": "stream",
     "text": [
      "All test cases passed!\n"
     ]
    }
   ],
   "source": [
    "# Test cases\n",
    "def test_has_unclosed_symbols():\n",
    "    assert has_unclosed_symbols('') == False, \"Test case 1 failed\"\n",
    "    assert has_unclosed_symbols('Hello, world!') == False, \"Test case 2 failed\"\n",
    "    assert has_unclosed_symbols('print(\"Hello, world!\")') == False, \"Test case 3 failed\"\n",
    "    assert has_unclosed_symbols('print(\"Hello, world!') == True, \"Test case 4 failed\"\n",
    "    assert has_unclosed_symbols(\"print('Hello, world!')\") == False, \"Test case 5 failed\"\n",
    "    assert has_unclosed_symbols(\"print('Hello, world!\") == True, \"Test case 6 failed\"\n",
    "    assert has_unclosed_symbols('func(a, b)') == False, \"Test case 7 failed\"\n",
    "    assert has_unclosed_symbols('func(a, b]') == True, \"Test case 8 failed\"\n",
    "    assert has_unclosed_symbols('[{()}]') == False, \"Test case 9 failed\"\n",
    "    assert has_unclosed_symbols('[{(})]') == True, \"Test case 10 failed\"\n",
    "    assert has_unclosed_symbols('\"{[(]}\"') == True, \"Test case 11 failed\"\n",
    "    assert has_unclosed_symbols('\"{[()]}\"') == False, \"Test case 12 failed\"\n",
    "\n",
    "    print(\"All test cases passed!\")\n",
    "\n",
    "# Run test cases\n",
    "test_has_unclosed_symbols()\n"
   ]
  },
  {
   "cell_type": "code",
   "execution_count": 9,
   "id": "252d83ce-40b1-4569-b459-88063cb089af",
   "metadata": {},
   "outputs": [
    {
     "data": {
      "text/plain": [
       "True"
      ]
     },
     "execution_count": 9,
     "metadata": {},
     "output_type": "execute_result"
    }
   ],
   "source": [
    "has_unclosed_symbols('print(\"Hello, world!\")')"
   ]
  },
  {
   "cell_type": "markdown",
   "id": "b98d02ba-452d-4192-b1a6-93640491404e",
   "metadata": {},
   "source": [
    "## Example Prompts\n",
    "1. Load the 2015 cell cycle dataset\n",
    "2. Convert the dataset to gene coordinates\n",
    "3. Build a DMD or linear model of the 2015 data\n",
    "4. Perform biomarker or sensor selection on this data"
   ]
  },
  {
   "cell_type": "code",
   "execution_count": 1,
   "id": "217b2753-0d3c-4265-a087-4b7e0483de09",
   "metadata": {},
   "outputs": [],
   "source": [
    "from BRAD import brad"
   ]
  },
  {
   "cell_type": "raw",
   "id": "ee43e3c5-c012-4c0e-8a1a-4e0e109d1d39",
   "metadata": {},
   "source": [
    "/force WRITE make a summary of our conversation. Provide math equations in latex formatting to describe the Dynamic Mode Decomposition"
   ]
  },
  {
   "cell_type": "code",
   "execution_count": null,
   "id": "051356db-4523-4b58-adae-95c2f63621e8",
   "metadata": {},
   "outputs": [
    {
     "name": "stdin",
     "output_type": "stream",
     "text": [
      "Enter your NVIDIA API key:  ········\n"
     ]
    },
    {
     "name": "stdout",
     "output_type": "stream",
     "text": [
      "\n",
      "Would you like to use a database with BRAD [Y/N]?\n"
     ]
    },
    {
     "name": "stdin",
     "output_type": "stream",
     "text": [
      " N\n"
     ]
    },
    {
     "name": "stderr",
     "output_type": "stream",
     "text": [
      "\u001b[32m2024-07-22 22:19:41 INFO semantic_router.utils.logger local\u001b[0m\n"
     ]
    },
    {
     "name": "stdout",
     "output_type": "stream",
     "text": [
      "Welcome to RAG! The chat log from this conversation will be saved to /home/jpic/BRAD/2024-07-22_21-49-32/log.json. How can I help?\n",
      "==================================================\n"
     ]
    },
    {
     "name": "stdin",
     "output_type": "stream",
     "text": [
      "Input >>  /force CODE Build a DMD or linear model of the 2015 data\n"
     ]
    },
    {
     "name": "stderr",
     "output_type": "stream",
     "text": [
      "2024-07-22 22:19:56,820 - INFO - CODE\n",
      "2024-07-22 22:19:56,821 - INFO - CODER\n",
      "2024-07-22 22:19:56,826 - INFO - input_variables=['user_query'] template=\"You must select which code to run to help a user.\\n\\n**Available Scripts**\\nScript Name: scgpt, \\t Description: This file orchistrates submitting an array job to the cluster to embed all of the Tabula Sapiens data with scGPT. Run this file when you want to embed all of the Tabula Sapiens dataset.\\nScript Name: ts_embedding-tGPT, \\t Description: DO NOT RUN THIS CODE.\\nScript Name: geneformer, \\t Description: This file orchistrates submitting an array job to the cluster to embed all of the Tabula Sapiens data with Geneformer. Run this file when you want to embed all of the Tabula Sapiens dataset. DO NOT RUN THIS CODE.\\nScript Name: tgpt, \\t Description: This file orchistrates submitting an array job to the cluster to embed all of the Tabula Sapiens data with scGPT. Run this file when you want to embed all of the Tabula Sapiens dataset. DO NOT RUN THIS CODE.\\nScript Name: ts_embedding-GF-T, \\t Description: DO NOT RUN THIS CODE.\\nScript Name: ts_embedding-scGPT, \\t Description: DO NOT RUN THIS CODE.\\nScript Name: geneformerCoordinatesTimeSeries, \\t Description: This script organizes datasets into a format to work with time series gene expression using individual geneformer embeddings as the state space. From a .h5ad file, a .pkl file is constructed here that will contain the state type being geneformer, the state names being geneformer coordinates, and the time series data organized as states (geneformer coordinates) by timepoint (hours) by replicates (experiment replicates).\\nScript Name: geneCoordinatesTimeSeries, \\t Description: This script organizes datasets into a format to work with time series gene expression using individual gene expresession as the state space. From a .h5ad file, a .pkl file is constructed here that will contain the state type being gene expression, the state names being gene names, and the time series data organized as states (genes) by timepoint (hours) by replicates (experiment replicates).\\nScript Name: linearModels, \\t Description: This file builds linear and linear time variant (LTI and LTV) models of gene expressions.\\nScript Name: annData2timeSeries, \\t Description: This script converts datasets from an AnnData object to a format compatible with building models of time series data. AnnData from a .h5ad file are converted to a .pkl file that will contain the state type or coordinates space (raw data, geneformer embedinggs, etc.), the state names, and the time series data organized as states (coordinates) by timepoint (hours) by replicates (experiment replicates).\\nScript Name: geneformerEmbeddings, \\t Description: Get gene former embeddings of your data\\nScript Name: biomarkerSelectionTimeVarying, \\t Description: This script performs time varying sensor or biomarker selection on dynamical systems models of cellular processes. It selects new sensors at each time point.\\nScript Name: buildLinearModel, \\t Description: This script builds linear models of time series data using Dynamic Mode Decomposition (DMD).\\nScript Name: counts2geneformer2anndata, \\t Description: This script converts single cell counts matrix in to a gene former embedding embeddings or GF coordinates as an Ann Data object.\\nScript Name: datasetSelector, \\t Description: datasetSelector.py is the script for loading or selecing datasets by name. This must be the first script run. This script is a file chooser to load a gene expression dataset from the lab's turbo partition to give access to the data to BRAD.\\nScript Name: biomarkerSelection, \\t Description: This script performs sensor selection on models of dynamical systems. This is applied to models of cellular processes for biomarker selection.\\nScript Name: buildLTVModel, \\t Description: This script builds linear time varying models of time series data using Data Guided Control model.\\nScript Name: hwgFirstOrderInteractions, \\t Description: Find the first order interactions of a gene in the Hardwired Genome\\nScript Name: test, \\t Description: This script was made for Joshua to test and learn python\\n\\n\\n**User Query**\\n{user_query}\\n\\n**Task**\\nBased on the user's query, select the best script from the available scripts. Provide the script name and explain why it is the best match. If no script is good, replace script with None\\n\\n**Response Template**\\nSCRIPT: <selected script>\\nREASON: <reasoning why the script fits the user prompt>\\n\"\n",
      "2024-07-22 22:19:56,827 - INFO - FIRST LLM CALL\n"
     ]
    },
    {
     "name": "stdout",
     "output_type": "stream",
     "text": [
      "==================================================\n",
      "BRAD >> 5: \n"
     ]
    },
    {
     "name": "stderr",
     "output_type": "stream",
     "text": [
      "2024-07-22 22:19:57,624 - INFO - SCRIPT: buildLinearModel\n",
      "REASON: This script is the best match for the user's query as it specifically mentions building a linear model and includes Dynamic Mode Decomposition (DMD) as an option. The user requested to build a DMD or linear model of the 2015 data, and this script directly addresses that requirement.\n",
      "2024-07-22 22:19:57,624 - INFO - scriptPath=/home/jpic/BRAD-Tools/dynamics-observability\n",
      "2024-07-22 22:19:57,624 - INFO - ALL SCRIPTS FOUND. BUILDING TEMPLATE\n",
      "2024-07-22 22:19:57,625 - INFO - input_variables=['history', 'input'] template='Current conversation:\\n{history}\\n\\n**PYTHON SCRIPT**\\nYou must run this python script:\\n/home/jpic/BRAD-Tools/dynamics-observability/buildLinearModel.py\\n\\n**PYTHON SCRIPT DOCUMENTATION**:\\nThis is the doc string of this python script:\\n\"\"\"\\nThis script builds linear models of time series data using Dynamic Mode Decomposition (DMD).\\n\\nArguments (four arguments):\\n    1. output directory: chatstatus[\\'output-directory\\']\\n    2. output file: <name of output file>\\n    3. input file: the file created previously in the pipeline with formatted time series data\\n    4. DMD Rank: this parameter controls the amount reduced order modeling. A value of -1 indicates no model reduction\\n\\nUsage:\\nCommand Line:\\n```\\npython <path/to/script/>datasetSelector.py <output path> <output file> <input file> <dmd rank>\\n```\\n                                                 |              |            |           |\\n                                             Argument 1     Argument 2   Argument 3  Argument 4\\nBRAD Line:\\n```\\nsubprocess.run([sys.executable, \\'<path/to/script/>/buildLinearModel.py\\', chatstatus[\\'output-directory\\'], <output file>, <input file>, <dmd rank>], capture_output=True, text=True)\\n```\\n\\n*Always replace <path/to/script> with the correct path given above.*\\n\\nDynamic Mode Decomposition (DMD):\\n--------------------------------\\nDMD is a data-driven modeling method that decomposes a given dataset into a collection of dynamic modes, each associated with a fixed frequency, growth/decay rate, and amplitude. The key idea is to approximate the linear dynamics of the system using snapshots of data.\\n\\nGiven a sequence of snapshots X = [x1, x2, ..., xm] and Y = [x2, x3, ..., xm+1], where each snapshot xi represents the state of the system at time ti, DMD seeks to find a matrix A such that:\\n\\n    Y ≈ AX\\n\\nTo achieve this, DMD solves the following optimization problem:\\n\\n    A = Y X^†\\n\\nwhere X^† is the pseudoinverse of X.\\n\\nTo compute the DMD modes and eigenvalues, we perform the following steps:\\n1. Compute the Singular Value Decomposition (SVD) of X:\\n\\n    X = UΣV*\\n\\n2. Approximate A using the reduced-order model:\\n\\n    Ã = U^* Y V Σ^(-1)\\n\\n3. Compute the eigendecomposition of Ã:\\n\\n    ÃW = WΛ\\n\\nwhere Λ contains the eigenvalues and W contains the eigenvectors (DMD modes).\\n\\nThe DMD rank parameter controls the amount of reduced-order modeling. A value of -1 indicates no model reduction, using the full rank of the data matrix.\\n\\n\\n**OUTPUT FILE NAME INSTRUCTIONS**\\n1. Output path should be chatstatus[\\'output-directory\\']\\n2. Output file name should be `S2-<descriptive name>.pkl`\\n\"\"\"\\n\\n\\n**CALL PYTHON SCRIPTS FROM PYTHON**:\\nUse the `subprocess` module to call any Python script from another Python script. Here are some examples to call a few common Python scripts:\\n\\nTo call a Python script `example_script.py` which has no arguments:\\n\\n```\\nExecute: subprocess.run([sys.executable, \\'<full path to script/> example_script.py\\', chatstatus[\\'output-directory\\']], capture_output=True, text=True)\\n```\\n\\nTo call a Python script `example_script.py` with one argument:\\n\\n```\\nExecute: subprocess.run([sys.executable, \\'<full path to script/> example_script.py\\', chatstatus[\\'output-directory\\'], \\'arg1\\'], capture_output=True, text=True)\\n```\\n\\nTo call a Python script `example_script.py` with two arguments:\\n```\\nExecute: subprocess.run([sys.executable, \\'<full path to script/> example_script.py\\', chatstatus[\\'output-directory\\'], \\'arg1\\', \\'arg2\\'], capture_output=True, text=True)\\n```\\n\\nNote that chatstatus[\\'output-directory\\'] is ALWAYS passed as the first argument.\\n\\nThe following files were previously created by BRAD and could be used as input to a function if necessary:\\nlog.json\\nS1-2015.pkl\\nS0-2015.h5ad\\n\\nQuery:{input}\\n\\n**PYTHON SCRIPT**\\nPlease use the correct script name and path. You must run this python script:\\n/home/jpic/BRAD-Tools/dynamics-observability/buildLinearModel.py\\n\\n**INSTRUCTIONS**\\n1. Given the user query and the documentation, identify each of the arguments found in the user\\'s query that should be passed to the Python script.\\n2. Using the `subprocess` module, provide the one line of code to execute the desired Python script with the given arguments. Assume the necessary modules (`subprocess` and `sys`) are already imported.\\n3. The last line of your response should say \"Execute: <Python code to execute>\"\\n4. Do not include any extra words or characters. Format the response/output as:\\n    Arguments: \\n    Python Code Explanation: <2 sentences maximum>\\n    Execute: <your code here>\\n\\n**IMPORTANT**\\nThe code to execute from your response must be formatted as:\\n    Execute: subprocess.call([sys.executable, \\'<path to python script>\\', \\'<argument 1>\\', \\'<argument 2>\\', ..., \\'<argument n>\\'], capture_output=True, text=True))\\nThis output should be exactly one line and no longer. Stop the response after this line.\\n'\n"
     ]
    },
    {
     "name": "stdout",
     "output_type": "stream",
     "text": [
      "\n",
      "\n",
      "\u001b[1m> Entering new ConversationChain chain...\u001b[0m\n",
      "Prompt after formatting:\n",
      "\u001b[32;1m\u001b[1;3mCurrent conversation:\n",
      "\n",
      "\n",
      "**PYTHON SCRIPT**\n",
      "You must run this python script:\n",
      "/home/jpic/BRAD-Tools/dynamics-observability/buildLinearModel.py\n",
      "\n",
      "**PYTHON SCRIPT DOCUMENTATION**:\n",
      "This is the doc string of this python script:\n",
      "\"\"\"\n",
      "This script builds linear models of time series data using Dynamic Mode Decomposition (DMD).\n",
      "\n",
      "Arguments (four arguments):\n",
      "    1. output directory: chatstatus['output-directory']\n",
      "    2. output file: <name of output file>\n",
      "    3. input file: the file created previously in the pipeline with formatted time series data\n",
      "    4. DMD Rank: this parameter controls the amount reduced order modeling. A value of -1 indicates no model reduction\n",
      "\n",
      "Usage:\n",
      "Command Line:\n",
      "```\n",
      "python <path/to/script/>datasetSelector.py <output path> <output file> <input file> <dmd rank>\n",
      "```\n",
      "                                                 |              |            |           |\n",
      "                                             Argument 1     Argument 2   Argument 3  Argument 4\n",
      "BRAD Line:\n",
      "```\n",
      "subprocess.run([sys.executable, '<path/to/script/>/buildLinearModel.py', chatstatus['output-directory'], <output file>, <input file>, <dmd rank>], capture_output=True, text=True)\n",
      "```\n",
      "\n",
      "*Always replace <path/to/script> with the correct path given above.*\n",
      "\n",
      "Dynamic Mode Decomposition (DMD):\n",
      "--------------------------------\n",
      "DMD is a data-driven modeling method that decomposes a given dataset into a collection of dynamic modes, each associated with a fixed frequency, growth/decay rate, and amplitude. The key idea is to approximate the linear dynamics of the system using snapshots of data.\n",
      "\n",
      "Given a sequence of snapshots X = [x1, x2, ..., xm] and Y = [x2, x3, ..., xm+1], where each snapshot xi represents the state of the system at time ti, DMD seeks to find a matrix A such that:\n",
      "\n",
      "    Y ≈ AX\n",
      "\n",
      "To achieve this, DMD solves the following optimization problem:\n",
      "\n",
      "    A = Y X^†\n",
      "\n",
      "where X^† is the pseudoinverse of X.\n",
      "\n",
      "To compute the DMD modes and eigenvalues, we perform the following steps:\n",
      "1. Compute the Singular Value Decomposition (SVD) of X:\n",
      "\n",
      "    X = UΣV*\n",
      "\n",
      "2. Approximate A using the reduced-order model:\n",
      "\n",
      "    Ã = U^* Y V Σ^(-1)\n",
      "\n",
      "3. Compute the eigendecomposition of Ã:\n",
      "\n",
      "    ÃW = WΛ\n",
      "\n",
      "where Λ contains the eigenvalues and W contains the eigenvectors (DMD modes).\n",
      "\n",
      "The DMD rank parameter controls the amount of reduced-order modeling. A value of -1 indicates no model reduction, using the full rank of the data matrix.\n",
      "\n",
      "\n",
      "**OUTPUT FILE NAME INSTRUCTIONS**\n",
      "1. Output path should be chatstatus['output-directory']\n",
      "2. Output file name should be `S2-<descriptive name>.pkl`\n",
      "\"\"\"\n",
      "\n",
      "\n",
      "**CALL PYTHON SCRIPTS FROM PYTHON**:\n",
      "Use the `subprocess` module to call any Python script from another Python script. Here are some examples to call a few common Python scripts:\n",
      "\n",
      "To call a Python script `example_script.py` which has no arguments:\n",
      "\n",
      "```\n",
      "Execute: subprocess.run([sys.executable, '<full path to script/> example_script.py', chatstatus['output-directory']], capture_output=True, text=True)\n",
      "```\n",
      "\n",
      "To call a Python script `example_script.py` with one argument:\n",
      "\n",
      "```\n",
      "Execute: subprocess.run([sys.executable, '<full path to script/> example_script.py', chatstatus['output-directory'], 'arg1'], capture_output=True, text=True)\n",
      "```\n",
      "\n",
      "To call a Python script `example_script.py` with two arguments:\n",
      "```\n",
      "Execute: subprocess.run([sys.executable, '<full path to script/> example_script.py', chatstatus['output-directory'], 'arg1', 'arg2'], capture_output=True, text=True)\n",
      "```\n",
      "\n",
      "Note that chatstatus['output-directory'] is ALWAYS passed as the first argument.\n",
      "\n",
      "The following files were previously created by BRAD and could be used as input to a function if necessary:\n",
      "log.json\n",
      "S1-2015.pkl\n",
      "S0-2015.h5ad\n",
      "\n",
      "Query:Build a DMD or linear model of the 2015 data\n",
      "\n",
      "**PYTHON SCRIPT**\n",
      "Please use the correct script name and path. You must run this python script:\n",
      "/home/jpic/BRAD-Tools/dynamics-observability/buildLinearModel.py\n",
      "\n",
      "**INSTRUCTIONS**\n",
      "1. Given the user query and the documentation, identify each of the arguments found in the user's query that should be passed to the Python script.\n",
      "2. Using the `subprocess` module, provide the one line of code to execute the desired Python script with the given arguments. Assume the necessary modules (`subprocess` and `sys`) are already imported.\n",
      "3. The last line of your response should say \"Execute: <Python code to execute>\"\n",
      "4. Do not include any extra words or characters. Format the response/output as:\n",
      "    Arguments: \n",
      "    Python Code Explanation: <2 sentences maximum>\n",
      "    Execute: <your code here>\n",
      "\n",
      "**IMPORTANT**\n",
      "The code to execute from your response must be formatted as:\n",
      "    Execute: subprocess.call([sys.executable, '<path to python script>', '<argument 1>', '<argument 2>', ..., '<argument n>'], capture_output=True, text=True))\n",
      "This output should be exactly one line and no longer. Stop the response after this line.\n",
      "\u001b[0m\n"
     ]
    },
    {
     "name": "stderr",
     "output_type": "stream",
     "text": [
      "2024-07-22 22:19:59,163 - INFO - LLM OUTPUT PARSER\n",
      "2024-07-22 22:19:59,164 - INFO - Arguments:\n",
      "output-directory: chatstatus['output-directory']\n",
      "output file: 'S2-2015DMDModel.pkl'\n",
      "input file: 'S1-2015.pkl'\n",
      "dmd rank: a value indicating the amount of reduced-order modeling, or -1 for no reduction\n",
      "\n",
      "Python Code Explanation:\n",
      "This code runs the buildLinearModel.py script using specified arguments and sets 'capture_output' and 'text' to True to capture the output as text.\n",
      "\n",
      "Execute:\n",
      "`subprocess.run([sys.executable, '/home/jpic/BRAD-Tools/dynamics-observability/buildLinearModel.py', chatstatus['output-directory'], 'S2-2015DMDModel.pkl', 'S1-2015.pkl', '-1'], capture_output=True, text=True)`\n",
      "2024-07-22 22:19:59,164 - INFO - [\"Arguments:\\noutput-directory: chatstatus['output-directory']\\noutput file: 'S2-2015DMDModel.pkl'\\ninput file: 'S1-2015.pkl'\\ndmd rank: a value indicating the amount of reduced-order modeling, or -1 for no reduction\\n\\nPython Code Explanation:\\nThis code runs the buildLinearModel.py script using specified arguments and sets 'capture_output' and 'text' to True to capture the output as text.\\n\\n\", \"\\n`subprocess.run([sys.executable, '/home/jpic/BRAD-Tools/dynamics-observability/buildLinearModel.py', chatstatus['output-directory'], 'S2-2015DMDModel.pkl', 'S1-2015.pkl', '-1'], capture_output=True, text=True)`\"]\n",
      "2024-07-22 22:19:59,164 - INFO - Stripped funciton call\n",
      "2024-07-22 22:19:59,165 - INFO - subprocess.run([sys.executable, '/home/jpic/BRAD-Tools/dynamics-observability/buildLinearModel.py', chatstatus['output-directory'], 'S2-2015DMDModel.pkl', 'S1-2015.pkl', '-1'], capture_output=True, text=True)\n",
      "2024-07-22 22:19:59,165 - INFO - Cleaned up function call:\n",
      "\n",
      "2024-07-22 22:19:59,165 - INFO - subprocess.run([sys.executable, '/home/jpic/BRAD-Tools/dynamics-observability/buildLinearModel.py', chatstatus['output-directory'], 'S2-2015DMDModel.pkl', 'S1-2015.pkl', '-1'], capture_output=True, text=True)\n",
      "2024-07-22 22:19:59,165 - INFO - \n",
      "\n",
      "2024-07-22 22:19:59,166 - INFO - Replacing: S1-2015.pkl with /home/jpic/BRAD/2024-07-22_21-49-32/S1-2015.pkl\n",
      "2024-07-22 22:19:59,167 - INFO - New String: subprocess.run([sys.executable, '/home/jpic/BRAD-Tools/dynamics-observability/buildLinearModel.py', chatstatus['output-directory'], 'S2-2015DMDModel.pkl', '/home/jpic/BRAD/2024-07-22_21-49-32/S1-2015.pkl', '-1'], capture_output=True, text=True)\n",
      "2024-07-22 22:19:59,167 - INFO - EVAL\n",
      "2024-07-22 22:19:59,167 - INFO - subprocess.run([sys.executable, '/home/jpic/BRAD-Tools/dynamics-observability/buildLinearModel.py', chatstatus['output-directory'], 'S2-2015DMDModel.pkl', '/home/jpic/BRAD/2024-07-22_21-49-32/S1-2015.pkl', '-1'], capture_output=True, text=True)\n",
      "2024-07-22 22:19:59,167 - INFO - END EVAL CHECK\n",
      "2024-07-22 22:19:59,168 - INFO - Finalized PYTHON Call:\n",
      "2024-07-22 22:19:59,168 - INFO -    \n",
      "2024-07-22 22:19:59,168 - INFO - response = subprocess.run([sys.executable, '/home/jpic/BRAD-Tools/dynamics-observability/buildLinearModel.py', chatstatus['output-directory'], 'S2-2015DMDModel.pkl', '/home/jpic/BRAD/2024-07-22_21-49-32/S1-2015.pkl', '-1'], capture_output=True, text=True)\n",
      "2024-07-22 22:19:59,168 - INFO -    \n"
     ]
    },
    {
     "name": "stdout",
     "output_type": "stream",
     "text": [
      "\n",
      "\u001b[1m> Finished chain.\u001b[0m\n"
     ]
    },
    {
     "name": "stderr",
     "output_type": "stream",
     "text": [
      "2024-07-22 22:21:04,638 - INFO - Debug: PYTHON code executed successfully.\n",
      "2024-07-22 22:21:04,638 - INFO - Code Execution Output:\n",
      "2024-07-22 22:21:04,638 - INFO - CompletedProcess(args=['/sw/pkgs/arc/python3.11-anaconda/2024.02-1/bin/python', '/home/jpic/BRAD-Tools/dynamics-observability/buildLinearModel.py', '/home/jpic/BRAD/2024-07-22_21-49-32', 'S2-2015DMDModel.pkl', '/home/jpic/BRAD/2024-07-22_21-49-32/S1-2015.pkl', '-1'], returncode=0, stdout='******************************\\n  Dynamic Mode Decomposition  \\n******************************\\nOutput Path: /home/jpic/BRAD/2024-07-22_21-49-32\\nOutput File: S2-2015DMDModel.pkl\\nInput File: /home/jpic/BRAD/2024-07-22_21-49-32/S1-2015.pkl\\nDMD Rank: None\\nModel saved to /home/jpic/BRAD/2024-07-22_21-49-32/S2-2015DMDModel.pkl\\n', stderr='')\n",
      "2024-07-22 22:21:04,639 - INFO - Debug: PYTHON code output saved to output.\n",
      "2024-07-22 22:21:04,639 - INFO - \n",
      "\n",
      "\n",
      "route\n",
      "\n",
      "\n",
      "\n",
      "2024-07-22 22:21:04,639 - INFO - CODE\n",
      "2024-07-22 22:21:04,640 - INFO - \n",
      "\n",
      "PLANNER:\n",
      "\n",
      "{'module': 'CODE', 'steps': [{'llm': '', 'memory': 'None', 'prompt': 'input_variables=[\\'user_query\\'] template=\"You must select which code to run to help a user.\\\\n\\\\n**Available Scripts**\\\\nScript Name: scgpt, \\\\t Description: This file orchistrates submitting an array job to the cluster to embed all of the Tabula Sapiens data with scGPT. Run this file when you want to embed all of the Tabula Sapiens dataset.\\\\nScript Name: ts_embedding-tGPT, \\\\t Description: DO NOT RUN THIS CODE.\\\\nScript Name: geneformer, \\\\t Description: This file orchistrates submitting an array job to the cluster to embed all of the Tabula Sapiens data with Geneformer. Run this file when you want to embed all of the Tabula Sapiens dataset. DO NOT RUN THIS CODE.\\\\nScript Name: tgpt, \\\\t Description: This file orchistrates submitting an array job to the cluster to embed all of the Tabula Sapiens data with scGPT. Run this file when you want to embed all of the Tabula Sapiens dataset. DO NOT RUN THIS CODE.\\\\nScript Name: ts_embedding-GF-T, \\\\t Description: DO NOT RUN THIS CODE.\\\\nScript Name: ts_embedding-scGPT, \\\\t Description: DO NOT RUN THIS CODE.\\\\nScript Name: geneformerCoordinatesTimeSeries, \\\\t Description: This script organizes datasets into a format to work with time series gene expression using individual geneformer embeddings as the state space. From a .h5ad file, a .pkl file is constructed here that will contain the state type being geneformer, the state names being geneformer coordinates, and the time series data organized as states (geneformer coordinates) by timepoint (hours) by replicates (experiment replicates).\\\\nScript Name: geneCoordinatesTimeSeries, \\\\t Description: This script organizes datasets into a format to work with time series gene expression using individual gene expresession as the state space. From a .h5ad file, a .pkl file is constructed here that will contain the state type being gene expression, the state names being gene names, and the time series data organized as states (genes) by timepoint (hours) by replicates (experiment replicates).\\\\nScript Name: linearModels, \\\\t Description: This file builds linear and linear time variant (LTI and LTV) models of gene expressions.\\\\nScript Name: annData2timeSeries, \\\\t Description: This script converts datasets from an AnnData object to a format compatible with building models of time series data. AnnData from a .h5ad file are converted to a .pkl file that will contain the state type or coordinates space (raw data, geneformer embedinggs, etc.), the state names, and the time series data organized as states (coordinates) by timepoint (hours) by replicates (experiment replicates).\\\\nScript Name: geneformerEmbeddings, \\\\t Description: Get gene former embeddings of your data\\\\nScript Name: biomarkerSelectionTimeVarying, \\\\t Description: This script performs time varying sensor or biomarker selection on dynamical systems models of cellular processes. It selects new sensors at each time point.\\\\nScript Name: buildLinearModel, \\\\t Description: This script builds linear models of time series data using Dynamic Mode Decomposition (DMD).\\\\nScript Name: counts2geneformer2anndata, \\\\t Description: This script converts single cell counts matrix in to a gene former embedding embeddings or GF coordinates as an Ann Data object.\\\\nScript Name: datasetSelector, \\\\t Description: datasetSelector.py is the script for loading or selecing datasets by name. This must be the first script run. This script is a file chooser to load a gene expression dataset from the lab\\'s turbo partition to give access to the data to BRAD.\\\\nScript Name: biomarkerSelection, \\\\t Description: This script performs sensor selection on models of dynamical systems. This is applied to models of cellular processes for biomarker selection.\\\\nScript Name: buildLTVModel, \\\\t Description: This script builds linear time varying models of time series data using Data Guided Control model.\\\\nScript Name: hwgFirstOrderInteractions, \\\\t Description: Find the first order interactions of a gene in the Hardwired Genome\\\\nScript Name: test, \\\\t Description: This script was made for Joshua to test and learn python\\\\n\\\\n\\\\n**User Query**\\\\n{user_query}\\\\n\\\\n**Task**\\\\nBased on the user\\'s query, select the best script from the available scripts. Provide the script name and explain why it is the best match. If no script is good, replace script with None\\\\n\\\\n**Response Template**\\\\nSCRIPT: <selected script>\\\\nREASON: <reasoning why the script fits the user prompt>\\\\n\"', 'input': 'Build a DMD or linear model of the 2015 data', 'output': 'content=\"SCRIPT: buildLinearModel\\\\nREASON: This script is the best match for the user\\'s query as it specifically mentions building a linear model and includes Dynamic Mode Decomposition (DMD) as an option. The user requested to build a DMD or linear model of the 2015 data, and this script directly addresses that requirement.\" response_metadata={\\'role\\': \\'assistant\\', \\'content\\': \"SCRIPT: buildLinearModel\\\\nREASON: This script is the best match for the user\\'s query as it specifically mentions building a linear model and includes Dynamic Mode Decomposition (DMD) as an option. The user requested to build a DMD or linear model of the 2015 data, and this script directly addresses that requirement.\", \\'token_usage\\': {\\'prompt_tokens\\': 1085, \\'total_tokens\\': 1163, \\'completion_tokens\\': 78}, \\'model_name\\': \\'mistralai/mixtral-8x7b-instruct-v0.1\\'} id=\\'run-9c8ede45-6a0f-4dad-a4ec-29e29a5f1e93-0\\' role=\\'assistant\\'', 'parsedOutput': {'scriptName': '/home/jpic/BRAD-Tools/dynamics-observability/buildLinearModel.py', 'scriptType': 'python', 'scriptPath': '/home/jpic/BRAD-Tools/dynamics-observability'}, 'purpose': 'Select which code to run'}, {'llm': '', 'memory': 'None', 'prompt': 'input_variables=[\\'history\\', \\'input\\'] template=\\'Current conversation:\\\\n{history}\\\\n\\\\n**PYTHON SCRIPT**\\\\nYou must run this python script:\\\\n/home/jpic/BRAD-Tools/dynamics-observability/buildLinearModel.py\\\\n\\\\n**PYTHON SCRIPT DOCUMENTATION**:\\\\nThis is the doc string of this python script:\\\\n\"\"\"\\\\nThis script builds linear models of time series data using Dynamic Mode Decomposition (DMD).\\\\n\\\\nArguments (four arguments):\\\\n    1. output directory: chatstatus[\\\\\\'output-directory\\\\\\']\\\\n    2. output file: <name of output file>\\\\n    3. input file: the file created previously in the pipeline with formatted time series data\\\\n    4. DMD Rank: this parameter controls the amount reduced order modeling. A value of -1 indicates no model reduction\\\\n\\\\nUsage:\\\\nCommand Line:\\\\n```\\\\npython <path/to/script/>datasetSelector.py <output path> <output file> <input file> <dmd rank>\\\\n```\\\\n                                                 |              |            |           |\\\\n                                             Argument 1     Argument 2   Argument 3  Argument 4\\\\nBRAD Line:\\\\n```\\\\nsubprocess.run([sys.executable, \\\\\\'<path/to/script/>/buildLinearModel.py\\\\\\', chatstatus[\\\\\\'output-directory\\\\\\'], <output file>, <input file>, <dmd rank>], capture_output=True, text=True)\\\\n```\\\\n\\\\n*Always replace <path/to/script> with the correct path given above.*\\\\n\\\\nDynamic Mode Decomposition (DMD):\\\\n--------------------------------\\\\nDMD is a data-driven modeling method that decomposes a given dataset into a collection of dynamic modes, each associated with a fixed frequency, growth/decay rate, and amplitude. The key idea is to approximate the linear dynamics of the system using snapshots of data.\\\\n\\\\nGiven a sequence of snapshots X = [x1, x2, ..., xm] and Y = [x2, x3, ..., xm+1], where each snapshot xi represents the state of the system at time ti, DMD seeks to find a matrix A such that:\\\\n\\\\n    Y ≈ AX\\\\n\\\\nTo achieve this, DMD solves the following optimization problem:\\\\n\\\\n    A = Y X^†\\\\n\\\\nwhere X^† is the pseudoinverse of X.\\\\n\\\\nTo compute the DMD modes and eigenvalues, we perform the following steps:\\\\n1. Compute the Singular Value Decomposition (SVD) of X:\\\\n\\\\n    X = UΣV*\\\\n\\\\n2. Approximate A using the reduced-order model:\\\\n\\\\n    Ã = U^* Y V Σ^(-1)\\\\n\\\\n3. Compute the eigendecomposition of Ã:\\\\n\\\\n    ÃW = WΛ\\\\n\\\\nwhere Λ contains the eigenvalues and W contains the eigenvectors (DMD modes).\\\\n\\\\nThe DMD rank parameter controls the amount of reduced-order modeling. A value of -1 indicates no model reduction, using the full rank of the data matrix.\\\\n\\\\n\\\\n**OUTPUT FILE NAME INSTRUCTIONS**\\\\n1. Output path should be chatstatus[\\\\\\'output-directory\\\\\\']\\\\n2. Output file name should be `S2-<descriptive name>.pkl`\\\\n\"\"\"\\\\n\\\\n\\\\n**CALL PYTHON SCRIPTS FROM PYTHON**:\\\\nUse the `subprocess` module to call any Python script from another Python script. Here are some examples to call a few common Python scripts:\\\\n\\\\nTo call a Python script `example_script.py` which has no arguments:\\\\n\\\\n```\\\\nExecute: subprocess.run([sys.executable, \\\\\\'<full path to script/> example_script.py\\\\\\', chatstatus[\\\\\\'output-directory\\\\\\']], capture_output=True, text=True)\\\\n```\\\\n\\\\nTo call a Python script `example_script.py` with one argument:\\\\n\\\\n```\\\\nExecute: subprocess.run([sys.executable, \\\\\\'<full path to script/> example_script.py\\\\\\', chatstatus[\\\\\\'output-directory\\\\\\'], \\\\\\'arg1\\\\\\'], capture_output=True, text=True)\\\\n```\\\\n\\\\nTo call a Python script `example_script.py` with two arguments:\\\\n```\\\\nExecute: subprocess.run([sys.executable, \\\\\\'<full path to script/> example_script.py\\\\\\', chatstatus[\\\\\\'output-directory\\\\\\'], \\\\\\'arg1\\\\\\', \\\\\\'arg2\\\\\\'], capture_output=True, text=True)\\\\n```\\\\n\\\\nNote that chatstatus[\\\\\\'output-directory\\\\\\'] is ALWAYS passed as the first argument.\\\\n\\\\nThe following files were previously created by BRAD and could be used as input to a function if necessary:\\\\nlog.json\\\\nS1-2015.pkl\\\\nS0-2015.h5ad\\\\n\\\\nQuery:{input}\\\\n\\\\n**PYTHON SCRIPT**\\\\nPlease use the correct script name and path. You must run this python script:\\\\n/home/jpic/BRAD-Tools/dynamics-observability/buildLinearModel.py\\\\n\\\\n**INSTRUCTIONS**\\\\n1. Given the user query and the documentation, identify each of the arguments found in the user\\\\\\'s query that should be passed to the Python script.\\\\n2. Using the `subprocess` module, provide the one line of code to execute the desired Python script with the given arguments. Assume the necessary modules (`subprocess` and `sys`) are already imported.\\\\n3. The last line of your response should say \"Execute: <Python code to execute>\"\\\\n4. Do not include any extra words or characters. Format the response/output as:\\\\n    Arguments: \\\\n    Python Code Explanation: <2 sentences maximum>\\\\n    Execute: <your code here>\\\\n\\\\n**IMPORTANT**\\\\nThe code to execute from your response must be formatted as:\\\\n    Execute: subprocess.call([sys.executable, \\\\\\'<path to python script>\\\\\\', \\\\\\'<argument 1>\\\\\\', \\\\\\'<argument 2>\\\\\\', ..., \\\\\\'<argument n>\\\\\\'], capture_output=True, text=True))\\\\nThis output should be exactly one line and no longer. Stop the response after this line.\\\\n\\'', 'input': 'Build a DMD or linear model of the 2015 data', 'output': \"Arguments:\\noutput-directory: chatstatus['output-directory']\\noutput file: 'S2-2015DMDModel.pkl'\\ninput file: 'S1-2015.pkl'\\ndmd rank: a value indicating the amount of reduced-order modeling, or -1 for no reduction\\n\\nPython Code Explanation:\\nThis code runs the buildLinearModel.py script using specified arguments and sets 'capture_output' and 'text' to True to capture the output as text.\\n\\nExecute:\\n`subprocess.run([sys.executable, '/home/jpic/BRAD-Tools/dynamics-observability/buildLinearModel.py', chatstatus['output-directory'], 'S2-2015DMDModel.pkl', 'S1-2015.pkl', '-1'], capture_output=True, text=True)`\", 'parsedOutput': {'code': \"subprocess.run([sys.executable, '/home/jpic/BRAD-Tools/dynamics-observability/buildLinearModel.py', chatstatus['output-directory'], 'S2-2015DMDModel.pkl', 'S1-2015.pkl', '-1'], capture_output=True, text=True)\"}, 'purpose': 'Format function call'}, {'func': 'pythonCaller.execute_python_code', 'code': \"response = subprocess.run([sys.executable, '/home/jpic/BRAD-Tools/dynamics-observability/buildLinearModel.py', chatstatus['output-directory'], 'S2-2015DMDModel.pkl', '/home/jpic/BRAD/2024-07-22_21-49-32/S1-2015.pkl', '-1'], capture_output=True, text=True)\", 'purpose': 'execute python code'}]}\n",
      "2024-07-22 22:21:04,648 - INFO - current llm calls=2\n"
     ]
    },
    {
     "name": "stdout",
     "output_type": "stream",
     "text": [
      "==================================================\n"
     ]
    },
    {
     "name": "stdin",
     "output_type": "stream",
     "text": [
      "Input >>  /force CODE Perform biomarker or sensor selection on this model\n"
     ]
    },
    {
     "name": "stderr",
     "output_type": "stream",
     "text": [
      "2024-07-22 22:21:43,556 - INFO - CODE\n",
      "2024-07-22 22:21:43,557 - INFO - CODER\n",
      "2024-07-22 22:21:43,564 - INFO - input_variables=['user_query'] template=\"You must select which code to run to help a user.\\n\\n**Available Scripts**\\nScript Name: scgpt, \\t Description: This file orchistrates submitting an array job to the cluster to embed all of the Tabula Sapiens data with scGPT. Run this file when you want to embed all of the Tabula Sapiens dataset.\\nScript Name: ts_embedding-tGPT, \\t Description: DO NOT RUN THIS CODE.\\nScript Name: geneformer, \\t Description: This file orchistrates submitting an array job to the cluster to embed all of the Tabula Sapiens data with Geneformer. Run this file when you want to embed all of the Tabula Sapiens dataset. DO NOT RUN THIS CODE.\\nScript Name: tgpt, \\t Description: This file orchistrates submitting an array job to the cluster to embed all of the Tabula Sapiens data with scGPT. Run this file when you want to embed all of the Tabula Sapiens dataset. DO NOT RUN THIS CODE.\\nScript Name: ts_embedding-GF-T, \\t Description: DO NOT RUN THIS CODE.\\nScript Name: ts_embedding-scGPT, \\t Description: DO NOT RUN THIS CODE.\\nScript Name: geneformerCoordinatesTimeSeries, \\t Description: This script organizes datasets into a format to work with time series gene expression using individual geneformer embeddings as the state space. From a .h5ad file, a .pkl file is constructed here that will contain the state type being geneformer, the state names being geneformer coordinates, and the time series data organized as states (geneformer coordinates) by timepoint (hours) by replicates (experiment replicates).\\nScript Name: geneCoordinatesTimeSeries, \\t Description: This script organizes datasets into a format to work with time series gene expression using individual gene expresession as the state space. From a .h5ad file, a .pkl file is constructed here that will contain the state type being gene expression, the state names being gene names, and the time series data organized as states (genes) by timepoint (hours) by replicates (experiment replicates).\\nScript Name: linearModels, \\t Description: This file builds linear and linear time variant (LTI and LTV) models of gene expressions.\\nScript Name: annData2timeSeries, \\t Description: This script converts datasets from an AnnData object to a format compatible with building models of time series data. AnnData from a .h5ad file are converted to a .pkl file that will contain the state type or coordinates space (raw data, geneformer embedinggs, etc.), the state names, and the time series data organized as states (coordinates) by timepoint (hours) by replicates (experiment replicates).\\nScript Name: geneformerEmbeddings, \\t Description: Get gene former embeddings of your data\\nScript Name: biomarkerSelectionTimeVarying, \\t Description: This script performs time varying sensor or biomarker selection on dynamical systems models of cellular processes. It selects new sensors at each time point.\\nScript Name: buildLinearModel, \\t Description: This script builds linear models of time series data using Dynamic Mode Decomposition (DMD).\\nScript Name: counts2geneformer2anndata, \\t Description: This script converts single cell counts matrix in to a gene former embedding embeddings or GF coordinates as an Ann Data object.\\nScript Name: datasetSelector, \\t Description: datasetSelector.py is the script for loading or selecing datasets by name. This must be the first script run. This script is a file chooser to load a gene expression dataset from the lab's turbo partition to give access to the data to BRAD.\\nScript Name: biomarkerSelection, \\t Description: This script performs sensor selection on models of dynamical systems. This is applied to models of cellular processes for biomarker selection.\\nScript Name: buildLTVModel, \\t Description: This script builds linear time varying models of time series data using Data Guided Control model.\\nScript Name: hwgFirstOrderInteractions, \\t Description: Find the first order interactions of a gene in the Hardwired Genome\\nScript Name: test, \\t Description: This script was made for Joshua to test and learn python\\n\\n\\n**User Query**\\n{user_query}\\n\\n**Task**\\nBased on the user's query, select the best script from the available scripts. Provide the script name and explain why it is the best match. If no script is good, replace script with None\\n\\n**Response Template**\\nSCRIPT: <selected script>\\nREASON: <reasoning why the script fits the user prompt>\\n\"\n",
      "2024-07-22 22:21:43,565 - INFO - FIRST LLM CALL\n"
     ]
    },
    {
     "name": "stdout",
     "output_type": "stream",
     "text": [
      "==================================================\n",
      "BRAD >> 6: \n"
     ]
    },
    {
     "name": "stderr",
     "output_type": "stream",
     "text": [
      "2024-07-22 22:21:44,206 - INFO - SCRIPT: biomarkerSelectionTimeVarying\n",
      "REASON: This script performs time-varying sensor or biomarker selection on dynamical systems models of cellular processes, making it the best match for the user's query.\n",
      "2024-07-22 22:21:44,207 - INFO - scriptPath=/home/jpic/BRAD-Tools/dynamics-observability\n",
      "2024-07-22 22:21:44,207 - INFO - ALL SCRIPTS FOUND. BUILDING TEMPLATE\n",
      "2024-07-22 22:21:44,208 - INFO - input_variables=['history', 'input'] template='Current conversation:\\n{history}\\n\\n**PYTHON SCRIPT**\\nYou must run this python script:\\n/home/jpic/BRAD-Tools/dynamics-observability/biomarkerSelectionTimeVarying.py\\n\\n**PYTHON SCRIPT DOCUMENTATION**:\\nThis is the doc string of this python script:\\n\"\"\"\\nThis script performs time varying sensor or biomarker selection on dynamical systems models of cellular processes. It selects new sensors at each time point.\\n\\nArguments (four arguments):\\n    1. output directory: chatstatus[\\'output-directory\\']\\n    2. output file: <name of output file>\\n    3. input file: the file created previously with the LTI or LTV model\\n    4. start time: (int, default 0) the first time to select sensors at (inclusive), ex: 0\\n    5. end time: (int, default 10) the last time to select sensors at (not inclusive), ex: 10\\n    6. verbose: (optional, True or False) if sensor selection should be run in verbose mode so that more output will be displayed to the user.\\n\\nUsage:\\nCommand Line:\\n```\\npython <path/to/script/>biomarkerSelectionTimeVarying.py <output path> <output file> <input file> <start time> <end time> <verbose>\\n```\\n\\nBRAD Line:\\n```\\nsubprocess.call([sys.executable, \\'<path/to/script/>/biomarkerSelectionTimeVarying.py\\', chatstatus[\\'output-directory\\'], <output file>, <input file>, <start time>, <end time>, <verbose>], capture_output=True, text=True)\\n```\\n\\n*Always replace <path/to/script> with the correct path given above.*\\n\\n**OUTPUT FILE NAME INSTRUCTIONS**\\n1. Output path should be chatstatus[\\'output-directory\\']\\n2. Output file name should be `S3-<descriptive name>.csv`\\n\"\"\"\\n\\n\\n**CALL PYTHON SCRIPTS FROM PYTHON**:\\nUse the `subprocess` module to call any Python script from another Python script. Here are some examples to call a few common Python scripts:\\n\\nTo call a Python script `example_script.py` which has no arguments:\\n\\n```\\nExecute: subprocess.run([sys.executable, \\'<full path to script/> example_script.py\\', chatstatus[\\'output-directory\\']], capture_output=True, text=True)\\n```\\n\\nTo call a Python script `example_script.py` with one argument:\\n\\n```\\nExecute: subprocess.run([sys.executable, \\'<full path to script/> example_script.py\\', chatstatus[\\'output-directory\\'], \\'arg1\\'], capture_output=True, text=True)\\n```\\n\\nTo call a Python script `example_script.py` with two arguments:\\n```\\nExecute: subprocess.run([sys.executable, \\'<full path to script/> example_script.py\\', chatstatus[\\'output-directory\\'], \\'arg1\\', \\'arg2\\'], capture_output=True, text=True)\\n```\\n\\nNote that chatstatus[\\'output-directory\\'] is ALWAYS passed as the first argument.\\n\\nThe following files were previously created by BRAD and could be used as input to a function if necessary:\\nlog.json\\nS1-2015.pkl\\nS0-2015.h5ad\\nS2-2015DMDModel.pkl\\n\\nQuery:{input}\\n\\n**PYTHON SCRIPT**\\nPlease use the correct script name and path. You must run this python script:\\n/home/jpic/BRAD-Tools/dynamics-observability/biomarkerSelectionTimeVarying.py\\n\\n**INSTRUCTIONS**\\n1. Given the user query and the documentation, identify each of the arguments found in the user\\'s query that should be passed to the Python script.\\n2. Using the `subprocess` module, provide the one line of code to execute the desired Python script with the given arguments. Assume the necessary modules (`subprocess` and `sys`) are already imported.\\n3. The last line of your response should say \"Execute: <Python code to execute>\"\\n4. Do not include any extra words or characters. Format the response/output as:\\n    Arguments: \\n    Python Code Explanation: <2 sentences maximum>\\n    Execute: <your code here>\\n\\n**IMPORTANT**\\nThe code to execute from your response must be formatted as:\\n    Execute: subprocess.call([sys.executable, \\'<path to python script>\\', \\'<argument 1>\\', \\'<argument 2>\\', ..., \\'<argument n>\\'], capture_output=True, text=True))\\nThis output should be exactly one line and no longer. Stop the response after this line.\\n'\n"
     ]
    },
    {
     "name": "stdout",
     "output_type": "stream",
     "text": [
      "\n",
      "\n",
      "\u001b[1m> Entering new ConversationChain chain...\u001b[0m\n",
      "Prompt after formatting:\n",
      "\u001b[32;1m\u001b[1;3mCurrent conversation:\n",
      "\n",
      "\n",
      "**PYTHON SCRIPT**\n",
      "You must run this python script:\n",
      "/home/jpic/BRAD-Tools/dynamics-observability/biomarkerSelectionTimeVarying.py\n",
      "\n",
      "**PYTHON SCRIPT DOCUMENTATION**:\n",
      "This is the doc string of this python script:\n",
      "\"\"\"\n",
      "This script performs time varying sensor or biomarker selection on dynamical systems models of cellular processes. It selects new sensors at each time point.\n",
      "\n",
      "Arguments (four arguments):\n",
      "    1. output directory: chatstatus['output-directory']\n",
      "    2. output file: <name of output file>\n",
      "    3. input file: the file created previously with the LTI or LTV model\n",
      "    4. start time: (int, default 0) the first time to select sensors at (inclusive), ex: 0\n",
      "    5. end time: (int, default 10) the last time to select sensors at (not inclusive), ex: 10\n",
      "    6. verbose: (optional, True or False) if sensor selection should be run in verbose mode so that more output will be displayed to the user.\n",
      "\n",
      "Usage:\n",
      "Command Line:\n",
      "```\n",
      "python <path/to/script/>biomarkerSelectionTimeVarying.py <output path> <output file> <input file> <start time> <end time> <verbose>\n",
      "```\n",
      "\n",
      "BRAD Line:\n",
      "```\n",
      "subprocess.call([sys.executable, '<path/to/script/>/biomarkerSelectionTimeVarying.py', chatstatus['output-directory'], <output file>, <input file>, <start time>, <end time>, <verbose>], capture_output=True, text=True)\n",
      "```\n",
      "\n",
      "*Always replace <path/to/script> with the correct path given above.*\n",
      "\n",
      "**OUTPUT FILE NAME INSTRUCTIONS**\n",
      "1. Output path should be chatstatus['output-directory']\n",
      "2. Output file name should be `S3-<descriptive name>.csv`\n",
      "\"\"\"\n",
      "\n",
      "\n",
      "**CALL PYTHON SCRIPTS FROM PYTHON**:\n",
      "Use the `subprocess` module to call any Python script from another Python script. Here are some examples to call a few common Python scripts:\n",
      "\n",
      "To call a Python script `example_script.py` which has no arguments:\n",
      "\n",
      "```\n",
      "Execute: subprocess.run([sys.executable, '<full path to script/> example_script.py', chatstatus['output-directory']], capture_output=True, text=True)\n",
      "```\n",
      "\n",
      "To call a Python script `example_script.py` with one argument:\n",
      "\n",
      "```\n",
      "Execute: subprocess.run([sys.executable, '<full path to script/> example_script.py', chatstatus['output-directory'], 'arg1'], capture_output=True, text=True)\n",
      "```\n",
      "\n",
      "To call a Python script `example_script.py` with two arguments:\n",
      "```\n",
      "Execute: subprocess.run([sys.executable, '<full path to script/> example_script.py', chatstatus['output-directory'], 'arg1', 'arg2'], capture_output=True, text=True)\n",
      "```\n",
      "\n",
      "Note that chatstatus['output-directory'] is ALWAYS passed as the first argument.\n",
      "\n",
      "The following files were previously created by BRAD and could be used as input to a function if necessary:\n",
      "log.json\n",
      "S1-2015.pkl\n",
      "S0-2015.h5ad\n",
      "S2-2015DMDModel.pkl\n",
      "\n",
      "Query:Perform biomarker or sensor selection on this model\n",
      "\n",
      "**PYTHON SCRIPT**\n",
      "Please use the correct script name and path. You must run this python script:\n",
      "/home/jpic/BRAD-Tools/dynamics-observability/biomarkerSelectionTimeVarying.py\n",
      "\n",
      "**INSTRUCTIONS**\n",
      "1. Given the user query and the documentation, identify each of the arguments found in the user's query that should be passed to the Python script.\n",
      "2. Using the `subprocess` module, provide the one line of code to execute the desired Python script with the given arguments. Assume the necessary modules (`subprocess` and `sys`) are already imported.\n",
      "3. The last line of your response should say \"Execute: <Python code to execute>\"\n",
      "4. Do not include any extra words or characters. Format the response/output as:\n",
      "    Arguments: \n",
      "    Python Code Explanation: <2 sentences maximum>\n",
      "    Execute: <your code here>\n",
      "\n",
      "**IMPORTANT**\n",
      "The code to execute from your response must be formatted as:\n",
      "    Execute: subprocess.call([sys.executable, '<path to python script>', '<argument 1>', '<argument 2>', ..., '<argument n>'], capture_output=True, text=True))\n",
      "This output should be exactly one line and no longer. Stop the response after this line.\n",
      "\u001b[0m\n"
     ]
    },
    {
     "name": "stderr",
     "output_type": "stream",
     "text": [
      "2024-07-22 22:21:45,989 - INFO - LLM OUTPUT PARSER\n",
      "2024-07-22 22:21:45,990 - INFO - Arguments:\n",
      "\n",
      "1. `<output path>`: chatstatus['output-directory']\n",
      "2. `<output file>`: S3-biomarkerSelection.csv\n",
      "3. `<input file>`: S2-2015DMDModel.pkl\n",
      "4. `<start time>`: 0\n",
      "5. `<end time>`: 10\n",
      "6. `<verbose>`: False\n",
      "\n",
      "Python Code Explanation: The script performs time-varying sensor or biomarker selection on dynamical systems models of cellular processes. It selects new sensors at each time point.\n",
      "\n",
      "Execute: `subprocess.run([sys.executable, '/home/jpic/BRAD-Tools/dynamics-observability/biomarkerSelectionTimeVarying.py', chatstatus['output-directory'], 'S3-biomarkerSelection.csv', 'S2-2015DMDModel.pkl', '0', '10', 'False'], capture_output=True, text=True)`\n",
      "2024-07-22 22:21:45,990 - INFO - [\"Arguments:\\n\\n1. `<output path>`: chatstatus['output-directory']\\n2. `<output file>`: S3-biomarkerSelection.csv\\n3. `<input file>`: S2-2015DMDModel.pkl\\n4. `<start time>`: 0\\n5. `<end time>`: 10\\n6. `<verbose>`: False\\n\\nPython Code Explanation: The script performs time-varying sensor or biomarker selection on dynamical systems models of cellular processes. It selects new sensors at each time point.\\n\\n\", \" `subprocess.run([sys.executable, '/home/jpic/BRAD-Tools/dynamics-observability/biomarkerSelectionTimeVarying.py', chatstatus['output-directory'], 'S3-biomarkerSelection.csv', 'S2-2015DMDModel.pkl', '0', '10', 'False'], capture_output=True, text=True)`\"]\n",
      "2024-07-22 22:21:45,990 - INFO - Stripped funciton call\n",
      "2024-07-22 22:21:45,991 - INFO - subprocess.run([sys.executable, '/home/jpic/BRAD-Tools/dynamics-observability/biomarkerSelectionTimeVarying.py', chatstatus['output-directory'], 'S3-biomarkerSelection.csv', 'S2-2015DMDModel.pkl', '0', '10', 'False'], capture_output=True, text=True)\n",
      "2024-07-22 22:21:45,991 - INFO - Cleaned up function call:\n",
      "\n",
      "2024-07-22 22:21:45,991 - INFO - subprocess.run([sys.executable, '/home/jpic/BRAD-Tools/dynamics-observability/biomarkerSelectionTimeVarying.py', chatstatus['output-directory'], 'S3-biomarkerSelection.csv', 'S2-2015DMDModel.pkl', '0', '10', 'False'], capture_output=True, text=True)\n",
      "2024-07-22 22:21:45,991 - INFO - \n",
      "\n",
      "2024-07-22 22:21:45,992 - INFO - Replacing: S2-2015DMDModel.pkl with /home/jpic/BRAD/2024-07-22_21-49-32/S2-2015DMDModel.pkl\n",
      "2024-07-22 22:21:45,992 - INFO - New String: subprocess.run([sys.executable, '/home/jpic/BRAD-Tools/dynamics-observability/biomarkerSelectionTimeVarying.py', chatstatus['output-directory'], 'S3-biomarkerSelection.csv', '/home/jpic/BRAD/2024-07-22_21-49-32/S2-2015DMDModel.pkl', '0', '10', 'False'], capture_output=True, text=True)\n",
      "2024-07-22 22:21:45,993 - INFO - EVAL\n",
      "2024-07-22 22:21:45,993 - INFO - subprocess.run([sys.executable, '/home/jpic/BRAD-Tools/dynamics-observability/biomarkerSelectionTimeVarying.py', chatstatus['output-directory'], 'S3-biomarkerSelection.csv', '/home/jpic/BRAD/2024-07-22_21-49-32/S2-2015DMDModel.pkl', '0', '10', 'False'], capture_output=True, text=True)\n",
      "2024-07-22 22:21:45,993 - INFO - END EVAL CHECK\n",
      "2024-07-22 22:21:45,993 - INFO - Finalized PYTHON Call:\n",
      "2024-07-22 22:21:45,994 - INFO -    \n",
      "2024-07-22 22:21:45,994 - INFO - response = subprocess.run([sys.executable, '/home/jpic/BRAD-Tools/dynamics-observability/biomarkerSelectionTimeVarying.py', chatstatus['output-directory'], 'S3-biomarkerSelection.csv', '/home/jpic/BRAD/2024-07-22_21-49-32/S2-2015DMDModel.pkl', '0', '10', 'False'], capture_output=True, text=True)\n",
      "2024-07-22 22:21:45,994 - INFO -    \n"
     ]
    },
    {
     "name": "stdout",
     "output_type": "stream",
     "text": [
      "\n",
      "\u001b[1m> Finished chain.\u001b[0m\n"
     ]
    },
    {
     "name": "stderr",
     "output_type": "stream",
     "text": [
      "2024-07-22 22:22:20,315 - INFO - Debug: PYTHON code executed successfully.\n",
      "2024-07-22 22:22:20,316 - INFO - Code Execution Output:\n",
      "2024-07-22 22:22:20,316 - INFO - CompletedProcess(args=['/sw/pkgs/arc/python3.11-anaconda/2024.02-1/bin/python', '/home/jpic/BRAD-Tools/dynamics-observability/biomarkerSelectionTimeVarying.py', '/home/jpic/BRAD/2024-07-22_21-49-32', 'S3-biomarkerSelection.csv', '/home/jpic/BRAD/2024-07-22_21-49-32/S2-2015DMDModel.pkl', '0', '10', 'False'], returncode=0, stdout='Time varying biomarker selection script has been called!\\n*******************************\\n Time Varying Sensor Selection \\n*******************************\\nOutput Path: /home/jpic/BRAD/2024-07-22_21-49-32\\nOutput File: S3-biomarkerSelection.csv\\nInput File : /home/jpic/BRAD/2024-07-22_21-49-32/S2-2015DMDModel.pkl\\nstartTime  : 0\\nendTime    : 10\\nverbose    : False\\n..............................\\n         Model Loaded         \\n..............................\\n      Sensors Selected        \\nModel saved to /home/jpic/BRAD/2024-07-22_21-49-32/time_0_S3-biomarkerSelection.csv\\nModel saved to /home/jpic/BRAD/2024-07-22_21-49-32/time_1_S3-biomarkerSelection.csv\\nModel saved to /home/jpic/BRAD/2024-07-22_21-49-32/time_2_S3-biomarkerSelection.csv\\nModel saved to /home/jpic/BRAD/2024-07-22_21-49-32/time_3_S3-biomarkerSelection.csv\\nModel saved to /home/jpic/BRAD/2024-07-22_21-49-32/time_4_S3-biomarkerSelection.csv\\nModel saved to /home/jpic/BRAD/2024-07-22_21-49-32/time_5_S3-biomarkerSelection.csv\\nModel saved to /home/jpic/BRAD/2024-07-22_21-49-32/time_6_S3-biomarkerSelection.csv\\nModel saved to /home/jpic/BRAD/2024-07-22_21-49-32/time_7_S3-biomarkerSelection.csv\\nModel saved to /home/jpic/BRAD/2024-07-22_21-49-32/time_8_S3-biomarkerSelection.csv\\nModel saved to /home/jpic/BRAD/2024-07-22_21-49-32/time_9_S3-biomarkerSelection.csv\\n..............................\\n      Sensors To File         \\n', stderr='')\n",
      "2024-07-22 22:22:20,317 - INFO - Debug: PYTHON code output saved to output.\n",
      "2024-07-22 22:22:20,317 - INFO - \n",
      "\n",
      "\n",
      "route\n",
      "\n",
      "\n",
      "\n",
      "2024-07-22 22:22:20,317 - INFO - CODE\n",
      "2024-07-22 22:22:20,317 - INFO - \n",
      "\n",
      "PLANNER:\n",
      "\n",
      "{'module': 'CODE', 'steps': [{'llm': '', 'memory': 'None', 'prompt': 'input_variables=[\\'user_query\\'] template=\"You must select which code to run to help a user.\\\\n\\\\n**Available Scripts**\\\\nScript Name: scgpt, \\\\t Description: This file orchistrates submitting an array job to the cluster to embed all of the Tabula Sapiens data with scGPT. Run this file when you want to embed all of the Tabula Sapiens dataset.\\\\nScript Name: ts_embedding-tGPT, \\\\t Description: DO NOT RUN THIS CODE.\\\\nScript Name: geneformer, \\\\t Description: This file orchistrates submitting an array job to the cluster to embed all of the Tabula Sapiens data with Geneformer. Run this file when you want to embed all of the Tabula Sapiens dataset. DO NOT RUN THIS CODE.\\\\nScript Name: tgpt, \\\\t Description: This file orchistrates submitting an array job to the cluster to embed all of the Tabula Sapiens data with scGPT. Run this file when you want to embed all of the Tabula Sapiens dataset. DO NOT RUN THIS CODE.\\\\nScript Name: ts_embedding-GF-T, \\\\t Description: DO NOT RUN THIS CODE.\\\\nScript Name: ts_embedding-scGPT, \\\\t Description: DO NOT RUN THIS CODE.\\\\nScript Name: geneformerCoordinatesTimeSeries, \\\\t Description: This script organizes datasets into a format to work with time series gene expression using individual geneformer embeddings as the state space. From a .h5ad file, a .pkl file is constructed here that will contain the state type being geneformer, the state names being geneformer coordinates, and the time series data organized as states (geneformer coordinates) by timepoint (hours) by replicates (experiment replicates).\\\\nScript Name: geneCoordinatesTimeSeries, \\\\t Description: This script organizes datasets into a format to work with time series gene expression using individual gene expresession as the state space. From a .h5ad file, a .pkl file is constructed here that will contain the state type being gene expression, the state names being gene names, and the time series data organized as states (genes) by timepoint (hours) by replicates (experiment replicates).\\\\nScript Name: linearModels, \\\\t Description: This file builds linear and linear time variant (LTI and LTV) models of gene expressions.\\\\nScript Name: annData2timeSeries, \\\\t Description: This script converts datasets from an AnnData object to a format compatible with building models of time series data. AnnData from a .h5ad file are converted to a .pkl file that will contain the state type or coordinates space (raw data, geneformer embedinggs, etc.), the state names, and the time series data organized as states (coordinates) by timepoint (hours) by replicates (experiment replicates).\\\\nScript Name: geneformerEmbeddings, \\\\t Description: Get gene former embeddings of your data\\\\nScript Name: biomarkerSelectionTimeVarying, \\\\t Description: This script performs time varying sensor or biomarker selection on dynamical systems models of cellular processes. It selects new sensors at each time point.\\\\nScript Name: buildLinearModel, \\\\t Description: This script builds linear models of time series data using Dynamic Mode Decomposition (DMD).\\\\nScript Name: counts2geneformer2anndata, \\\\t Description: This script converts single cell counts matrix in to a gene former embedding embeddings or GF coordinates as an Ann Data object.\\\\nScript Name: datasetSelector, \\\\t Description: datasetSelector.py is the script for loading or selecing datasets by name. This must be the first script run. This script is a file chooser to load a gene expression dataset from the lab\\'s turbo partition to give access to the data to BRAD.\\\\nScript Name: biomarkerSelection, \\\\t Description: This script performs sensor selection on models of dynamical systems. This is applied to models of cellular processes for biomarker selection.\\\\nScript Name: buildLTVModel, \\\\t Description: This script builds linear time varying models of time series data using Data Guided Control model.\\\\nScript Name: hwgFirstOrderInteractions, \\\\t Description: Find the first order interactions of a gene in the Hardwired Genome\\\\nScript Name: test, \\\\t Description: This script was made for Joshua to test and learn python\\\\n\\\\n\\\\n**User Query**\\\\n{user_query}\\\\n\\\\n**Task**\\\\nBased on the user\\'s query, select the best script from the available scripts. Provide the script name and explain why it is the best match. If no script is good, replace script with None\\\\n\\\\n**Response Template**\\\\nSCRIPT: <selected script>\\\\nREASON: <reasoning why the script fits the user prompt>\\\\n\"', 'input': 'Perform biomarker or sensor selection on this model', 'output': 'content=\"SCRIPT: biomarkerSelectionTimeVarying\\\\nREASON: This script performs time-varying sensor or biomarker selection on dynamical systems models of cellular processes, making it the best match for the user\\'s query.\" response_metadata={\\'role\\': \\'assistant\\', \\'content\\': \"SCRIPT: biomarkerSelectionTimeVarying\\\\nREASON: This script performs time-varying sensor or biomarker selection on dynamical systems models of cellular processes, making it the best match for the user\\'s query.\", \\'token_usage\\': {\\'prompt_tokens\\': 1082, \\'total_tokens\\': 1138, \\'completion_tokens\\': 56}, \\'model_name\\': \\'mistralai/mixtral-8x7b-instruct-v0.1\\'} id=\\'run-fe9f56f2-8bff-49ec-a651-38fb976a5cfa-0\\' role=\\'assistant\\'', 'parsedOutput': {'scriptName': '/home/jpic/BRAD-Tools/dynamics-observability/biomarkerSelectionTimeVarying.py', 'scriptType': 'python', 'scriptPath': '/home/jpic/BRAD-Tools/dynamics-observability'}, 'purpose': 'Select which code to run'}, {'llm': '', 'memory': 'None', 'prompt': 'input_variables=[\\'history\\', \\'input\\'] template=\\'Current conversation:\\\\n{history}\\\\n\\\\n**PYTHON SCRIPT**\\\\nYou must run this python script:\\\\n/home/jpic/BRAD-Tools/dynamics-observability/biomarkerSelectionTimeVarying.py\\\\n\\\\n**PYTHON SCRIPT DOCUMENTATION**:\\\\nThis is the doc string of this python script:\\\\n\"\"\"\\\\nThis script performs time varying sensor or biomarker selection on dynamical systems models of cellular processes. It selects new sensors at each time point.\\\\n\\\\nArguments (four arguments):\\\\n    1. output directory: chatstatus[\\\\\\'output-directory\\\\\\']\\\\n    2. output file: <name of output file>\\\\n    3. input file: the file created previously with the LTI or LTV model\\\\n    4. start time: (int, default 0) the first time to select sensors at (inclusive), ex: 0\\\\n    5. end time: (int, default 10) the last time to select sensors at (not inclusive), ex: 10\\\\n    6. verbose: (optional, True or False) if sensor selection should be run in verbose mode so that more output will be displayed to the user.\\\\n\\\\nUsage:\\\\nCommand Line:\\\\n```\\\\npython <path/to/script/>biomarkerSelectionTimeVarying.py <output path> <output file> <input file> <start time> <end time> <verbose>\\\\n```\\\\n\\\\nBRAD Line:\\\\n```\\\\nsubprocess.call([sys.executable, \\\\\\'<path/to/script/>/biomarkerSelectionTimeVarying.py\\\\\\', chatstatus[\\\\\\'output-directory\\\\\\'], <output file>, <input file>, <start time>, <end time>, <verbose>], capture_output=True, text=True)\\\\n```\\\\n\\\\n*Always replace <path/to/script> with the correct path given above.*\\\\n\\\\n**OUTPUT FILE NAME INSTRUCTIONS**\\\\n1. Output path should be chatstatus[\\\\\\'output-directory\\\\\\']\\\\n2. Output file name should be `S3-<descriptive name>.csv`\\\\n\"\"\"\\\\n\\\\n\\\\n**CALL PYTHON SCRIPTS FROM PYTHON**:\\\\nUse the `subprocess` module to call any Python script from another Python script. Here are some examples to call a few common Python scripts:\\\\n\\\\nTo call a Python script `example_script.py` which has no arguments:\\\\n\\\\n```\\\\nExecute: subprocess.run([sys.executable, \\\\\\'<full path to script/> example_script.py\\\\\\', chatstatus[\\\\\\'output-directory\\\\\\']], capture_output=True, text=True)\\\\n```\\\\n\\\\nTo call a Python script `example_script.py` with one argument:\\\\n\\\\n```\\\\nExecute: subprocess.run([sys.executable, \\\\\\'<full path to script/> example_script.py\\\\\\', chatstatus[\\\\\\'output-directory\\\\\\'], \\\\\\'arg1\\\\\\'], capture_output=True, text=True)\\\\n```\\\\n\\\\nTo call a Python script `example_script.py` with two arguments:\\\\n```\\\\nExecute: subprocess.run([sys.executable, \\\\\\'<full path to script/> example_script.py\\\\\\', chatstatus[\\\\\\'output-directory\\\\\\'], \\\\\\'arg1\\\\\\', \\\\\\'arg2\\\\\\'], capture_output=True, text=True)\\\\n```\\\\n\\\\nNote that chatstatus[\\\\\\'output-directory\\\\\\'] is ALWAYS passed as the first argument.\\\\n\\\\nThe following files were previously created by BRAD and could be used as input to a function if necessary:\\\\nlog.json\\\\nS1-2015.pkl\\\\nS0-2015.h5ad\\\\nS2-2015DMDModel.pkl\\\\n\\\\nQuery:{input}\\\\n\\\\n**PYTHON SCRIPT**\\\\nPlease use the correct script name and path. You must run this python script:\\\\n/home/jpic/BRAD-Tools/dynamics-observability/biomarkerSelectionTimeVarying.py\\\\n\\\\n**INSTRUCTIONS**\\\\n1. Given the user query and the documentation, identify each of the arguments found in the user\\\\\\'s query that should be passed to the Python script.\\\\n2. Using the `subprocess` module, provide the one line of code to execute the desired Python script with the given arguments. Assume the necessary modules (`subprocess` and `sys`) are already imported.\\\\n3. The last line of your response should say \"Execute: <Python code to execute>\"\\\\n4. Do not include any extra words or characters. Format the response/output as:\\\\n    Arguments: \\\\n    Python Code Explanation: <2 sentences maximum>\\\\n    Execute: <your code here>\\\\n\\\\n**IMPORTANT**\\\\nThe code to execute from your response must be formatted as:\\\\n    Execute: subprocess.call([sys.executable, \\\\\\'<path to python script>\\\\\\', \\\\\\'<argument 1>\\\\\\', \\\\\\'<argument 2>\\\\\\', ..., \\\\\\'<argument n>\\\\\\'], capture_output=True, text=True))\\\\nThis output should be exactly one line and no longer. Stop the response after this line.\\\\n\\'', 'input': 'Perform biomarker or sensor selection on this model', 'output': \"Arguments:\\n\\n1. `<output path>`: chatstatus['output-directory']\\n2. `<output file>`: S3-biomarkerSelection.csv\\n3. `<input file>`: S2-2015DMDModel.pkl\\n4. `<start time>`: 0\\n5. `<end time>`: 10\\n6. `<verbose>`: False\\n\\nPython Code Explanation: The script performs time-varying sensor or biomarker selection on dynamical systems models of cellular processes. It selects new sensors at each time point.\\n\\nExecute: `subprocess.run([sys.executable, '/home/jpic/BRAD-Tools/dynamics-observability/biomarkerSelectionTimeVarying.py', chatstatus['output-directory'], 'S3-biomarkerSelection.csv', 'S2-2015DMDModel.pkl', '0', '10', 'False'], capture_output=True, text=True)`\", 'parsedOutput': {'code': \"subprocess.run([sys.executable, '/home/jpic/BRAD-Tools/dynamics-observability/biomarkerSelectionTimeVarying.py', chatstatus['output-directory'], 'S3-biomarkerSelection.csv', 'S2-2015DMDModel.pkl', '0', '10', 'False'], capture_output=True, text=True)\"}, 'purpose': 'Format function call'}, {'func': 'pythonCaller.execute_python_code', 'code': \"response = subprocess.run([sys.executable, '/home/jpic/BRAD-Tools/dynamics-observability/biomarkerSelectionTimeVarying.py', chatstatus['output-directory'], 'S3-biomarkerSelection.csv', '/home/jpic/BRAD/2024-07-22_21-49-32/S2-2015DMDModel.pkl', '0', '10', 'False'], capture_output=True, text=True)\", 'purpose': 'execute python code'}]}\n",
      "2024-07-22 22:22:20,356 - INFO - current llm calls=4\n"
     ]
    },
    {
     "name": "stdout",
     "output_type": "stream",
     "text": [
      "==================================================\n"
     ]
    }
   ],
   "source": [
    "brad.chat(restart='/home/jpic/BRAD/2024-07-22_21-49-32')"
   ]
  },
  {
   "cell_type": "code",
   "execution_count": null,
   "id": "143af569-9253-4d06-ac72-c76088d6c493",
   "metadata": {},
   "outputs": [],
   "source": []
  },
  {
   "cell_type": "raw",
   "id": "999747f9-6fe2-4478-be69-b07432515ee3",
   "metadata": {},
   "source": [
    "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"
   ]
  },
  {
   "cell_type": "code",
   "execution_count": 4,
   "id": "6e89c24f-8787-4f49-96cf-8171005fb10f",
   "metadata": {},
   "outputs": [
    {
     "data": {
      "text/plain": [
       "'5 = 5'"
      ]
     },
     "execution_count": 4,
     "metadata": {},
     "output_type": "execute_result"
    }
   ],
   "source": [
    "strs = \"{x} = {x}\"\n",
    "strs.format(x=5)"
   ]
  },
  {
   "cell_type": "raw",
   "id": "6c25cb0c-694a-46be-9e8b-13542e2adda3",
   "metadata": {},
   "source": [
    "/force CODE Load the 2015 cell cycle dataset\n",
    "/force CODE Convert the dataset to gene coordinates\n",
    "/force CODE Build a DMD or linear model of the 2015 data\n",
    "/force CODE Perform biomarker or sensor selection on this model\n",
    "/force CODE Perform time varying biomarker selection on this data from times 0 to 3. set verbose to true.\n",
    "/force DATABASE load the biomarker file we created and perform gene enrichrment on the state column\n",
    "/force WRITE make a summary of our conversation"
   ]
  },
  {
   "cell_type": "code",
   "execution_count": 4,
   "id": "65e7e8d4-94b4-44a4-aa8d-5fe7225a6335",
   "metadata": {},
   "outputs": [
    {
     "data": {
      "text/plain": [
       "array([0, 1, 2, 3, 4])"
      ]
     },
     "execution_count": 4,
     "metadata": {},
     "output_type": "execute_result"
    }
   ],
   "source": [
    "import numpy as np\n",
    "np.arange(0,5)"
   ]
  },
  {
   "cell_type": "code",
   "execution_count": 3,
   "id": "f2f28feb-6182-4a80-b9fe-b555b0612808",
   "metadata": {},
   "outputs": [],
   "source": [
    "import subprocess"
   ]
  },
  {
   "cell_type": "code",
   "execution_count": 7,
   "id": "69b9392f-89e6-439a-8e47-028ed7a92098",
   "metadata": {},
   "outputs": [
    {
     "name": "stdout",
     "output_type": "stream",
     "text": [
      "from a print statement\n"
     ]
    }
   ],
   "source": [
    "exec(\"response = subprocess.run([sys.executable, '/home/jpic/BRAD-Tools/test.py'], capture_output=True, text=True)\")\n",
    "print(response.stdout.strip())\n"
   ]
  },
  {
   "cell_type": "code",
   "execution_count": 3,
   "id": "8a3eb4f3-c749-4395-affa-766570fadc60",
   "metadata": {},
   "outputs": [],
   "source": [
    "string = \"\"\"response = subprocess.run([sys.executable, '/home/jpic/BRAD-Tools/datasetSelector.py', '', 'S0-2015.h5ad', '2015'], capture_output=True, text=True)\"\"\""
   ]
  },
  {
   "cell_type": "code",
   "execution_count": 6,
   "id": "71888e74-8d73-4d97-b81d-be391da67d79",
   "metadata": {},
   "outputs": [],
   "source": [
    "exec(string)"
   ]
  },
  {
   "cell_type": "code",
   "execution_count": 4,
   "id": "a21a554f-0001-47e0-8a2d-3c375f76293b",
   "metadata": {},
   "outputs": [],
   "source": [
    "response = subprocess.run([sys.executable, '/home/jpic/BRAD-Tools/datasetSelector.py', '', 'S0-2015.h5ad', '2015'], capture_output=True, text=True)"
   ]
  },
  {
   "cell_type": "code",
   "execution_count": 5,
   "id": "ee1f08c7-12bc-4bd6-8aa6-994e898a2d9c",
   "metadata": {},
   "outputs": [
    {
     "name": "stdout",
     "output_type": "stream",
     "text": [
      "******************************\n",
      "       Dataset Selector       \n",
      "******************************\n",
      "\n"
     ]
    }
   ],
   "source": [
    "print(response.stdout)"
   ]
  },
  {
   "cell_type": "raw",
   "id": "81dade34-4ddc-48ba-a1bf-78ba8448e580",
   "metadata": {},
   "source": [
    "Load the cell cycle dataset"
   ]
  },
  {
   "cell_type": "raw",
   "id": "14f1f6a7-280e-494b-9d3b-2f1dfb79fff6",
   "metadata": {},
   "source": [
    "/force CODE Load the cell cycle dataset\n",
    "/force CODE Convert the dataset to gene coordinates\n",
    "/force CODE Build a DMD or linear model of the 2015 data\n",
    "/force CODE Perform biomarker or sensor selection on this data\n",
    "/force DATABASE load the biomarker file we created and perform gene enrichrment on the state column\n",
    "/force WRITE make a summary of all this\n"
   ]
  },
  {
   "cell_type": "raw",
   "id": "ab7e9731-1fb0-4858-8f85-9627ce479ac5",
   "metadata": {},
   "source": [
    "/force DATABASE load the biomarker file we created and perform gene enrichrment on the biomarker column\n",
    "/force DATABASE load the biomarkers from the previous step and perform gene ernichment on the biomarker column\n",
    "/force DATABASE perform gene enrichment on the state variables from the selected biomarkers"
   ]
  }
 ],
 "metadata": {
  "kernelspec": {
   "display_name": "Python 3 (ipykernel)",
   "language": "python",
   "name": "python3"
  },
  "language_info": {
   "codemirror_mode": {
    "name": "ipython",
    "version": 3
   },
   "file_extension": ".py",
   "mimetype": "text/x-python",
   "name": "python",
   "nbconvert_exporter": "python",
   "pygments_lexer": "ipython3",
   "version": "3.11.7"
  }
 },
 "nbformat": 4,
 "nbformat_minor": 5
}
