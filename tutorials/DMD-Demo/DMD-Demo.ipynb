{
 "cells": [
  {
   "cell_type": "code",
   "execution_count": 1,
   "id": "829b6482-0102-4a0f-a3b7-c98386924d32",
   "metadata": {},
   "outputs": [
    {
     "data": {
      "text/plain": [
       "True"
      ]
     },
     "execution_count": 1,
     "metadata": {},
     "output_type": "execute_result"
    }
   ],
   "source": [
    "import torch\n",
    "torch.cuda.is_available()"
   ]
  },
  {
   "cell_type": "markdown",
   "id": "b98d02ba-452d-4192-b1a6-93640491404e",
   "metadata": {},
   "source": [
    "## Example Prompts\n",
    "1. Load the 2015 cell cycle dataset\n",
    "2. Convert the dataset to gene coordinates\n",
    "3. Build a DMD or linear model of the 2015 data\n",
    "4. Perform biomarker or sensor selection on this data"
   ]
  },
  {
   "cell_type": "code",
   "execution_count": 1,
   "id": "217b2753-0d3c-4265-a087-4b7e0483de09",
   "metadata": {},
   "outputs": [],
   "source": [
    "from BRAD import brad"
   ]
  },
  {
   "cell_type": "raw",
   "id": "ee43e3c5-c012-4c0e-8a1a-4e0e109d1d39",
   "metadata": {},
   "source": [
    "/force WRITE make a summary of our conversation. Provide math equations in latex formatting to describe the Dynamic Mode Decomposition"
   ]
  },
  {
   "cell_type": "code",
   "execution_count": null,
   "id": "051356db-4523-4b58-adae-95c2f63621e8",
   "metadata": {},
   "outputs": [
    {
     "name": "stdin",
     "output_type": "stream",
     "text": [
      "Enter your NVIDIA API key:  ········\n"
     ]
    },
    {
     "name": "stdout",
     "output_type": "stream",
     "text": [
      "\n",
      "Would you like to use a database with BRAD [Y/N]?\n"
     ]
    },
    {
     "name": "stdin",
     "output_type": "stream",
     "text": [
      " N\n"
     ]
    },
    {
     "name": "stderr",
     "output_type": "stream",
     "text": [
      "\u001b[32m2024-07-04 13:24:01 INFO semantic_router.utils.logger local\u001b[0m\n"
     ]
    },
    {
     "name": "stdout",
     "output_type": "stream",
     "text": [
      "Welcome to RAG! The chat log from this conversation will be saved to /home/jpic/BRAD/2024-07-03_16-28-48/log.json. How can I help?\n",
      "==================================================\n"
     ]
    },
    {
     "name": "stdin",
     "output_type": "stream",
     "text": [
      "Input >>  /force CODE convert the gene former embeddings to a time series dataset please\n"
     ]
    },
    {
     "name": "stderr",
     "output_type": "stream",
     "text": [
      "2024-07-04 13:25:08,642 - INFO - CODE\n",
      "2024-07-04 13:25:08,643 - INFO - CODER\n",
      "2024-07-04 13:25:08,691 - INFO - input_variables=['user_query'] template=\"You must select which code to run to help a user.\\n\\n**Available Scripts**\\nScript Name: geneformerCoordinatesTimeSeries, \\t Description: This script organizes datasets into a format to work with time series gene expression using individual geneformer embeddings as the state space. From a .h5ad file, a .pkl file is constructed here that will contain the state type being geneformer, the state names being geneformer coordinates, and the time series data organized as states (geneformer coordinates) by timepoint (hours) by replicates (experiment replicates).\\nScript Name: geneCoordinatesTimeSeries, \\t Description: This script organizes datasets into a format to work with time series gene expression using individual gene expresession as the state space. From a .h5ad file, a .pkl file is constructed here that will contain the state type being gene expression, the state names being gene names, and the time series data organized as states (genes) by timepoint (hours) by replicates (experiment replicates).\\nScript Name: linearModels, \\t Description: This file builds linear and linear time variant (LTI and LTV) models of gene expressions.\\nScript Name: annData2timeSeries, \\t Description: This script converts datasets from an AnnData object to a format compatible with building models of time series data. AnnData from a .h5ad file are converted to a .pkl file that will contain the state type or coordinates space (raw data, geneformer embedinggs, etc.), the state names, and the time series data organized as states (coordinates) by timepoint (hours) by replicates (experiment replicates).\\nScript Name: geneformerEmbeddings, \\t Description: Get gene former embeddings of your data\\nScript Name: biomarkerSelectionTimeVarying, \\t Description: This script performs time varying sensor or biomarker selection on dynamical systems models of cellular processes. It selects new sensors at each time point.\\nScript Name: buildLinearModel, \\t Description: This script builds linear models of time series data using Dynamic Mode Decomposition (DMD).\\nScript Name: test, \\t Description: This script was made for Joshua to test and learn python\\nScript Name: counts2geneformer2anndata, \\t Description: This script converts single cell counts matrix in to a gene former embedding embeddings or GF coordinates as an Ann Data object.\\nScript Name: datasetSelector, \\t Description: This script is a file chooser to load a gene expression dataset from the lab's turbo partition to give access to the data to BRAD.\\nScript Name: biomarkerSelection, \\t Description: This script performs sensor selection on models of dynamical systems. This is applied to models of cellular processes for biomarker selection.\\nScript Name: buildLTVModel, \\t Description: This script builds linear time varying models of time series data using Data Guided Control model.\\n\\n\\n**User Query**\\n{user_query}\\n\\n**Task**\\nBased on the user's query, select the best script from the available scripts. Provide the script name and explain why it is the best match. If no script is good, replace script with None\\n\\n**Response Template**\\nSCRIPT: <selected script>\\nREASON: <reasoning why the script fits the user prompt>\\n\"\n",
      "2024-07-04 13:25:08,693 - INFO - FIRST LLM CALL\n"
     ]
    },
    {
     "name": "stdout",
     "output_type": "stream",
     "text": [
      "==================================================\n",
      "BRAD >> 2: \n"
     ]
    },
    {
     "name": "stderr",
     "output_type": "stream",
     "text": [
      "2024-07-04 13:25:11,057 - INFO - SCRIPT: annData2timeSeries\n",
      "REASON: The user wants to convert gene former embeddings to a time series dataset. The annData2timeSeries script is the best match because it converts datasets from an AnnData object (which can contain gene former embeddings) to a format compatible with building models of time series data, which is exactly what the user is asking for.\n",
      "2024-07-04 13:25:11,058 - INFO - Warning! the type doesn't exist\n",
      "2024-07-04 13:25:11,059 - INFO - scriptPath=/home/jpic/BRAD-Tools/\n",
      "2024-07-04 13:25:11,059 - INFO - pyPath=/home/jpic/BRAD-Tools/\n",
      "2024-07-04 13:25:11,060 - INFO - ALL SCRIPTS FOUND. BUILDING TEMPLATE\n",
      "2024-07-04 13:25:11,063 - INFO - input_variables=['history', 'input'] template='Current conversation:\\n{history}\\n\\n**PYTHON SCRIPT**\\nYou must run this python script:\\n/home/jpic/BRAD-Tools/annData2timeSeries.py\\n\\n**PYTHON SCRIPT DOCUMENTATION**:\\nThis is the doc string of this python script:\\n\"\"\"\\nThis script converts datasets from an AnnData object to a format compatible with building models of time series data. AnnData from a .h5ad file are converted to a .pkl file that will contain the state type or coordinates space (raw data, geneformer embedinggs, etc.), the state names, and the time series data organized as states (coordinates) by timepoint (hours) by replicates (experiment replicates).\\n\\nArguments (three arguments):\\n    1. output directory: chatstatus[\\'output-directory\\']\\n    2. output file: <name of output file>\\n    3. input file: <file created in previous step>\\n\\nUsage:\\n    Command Line:\\n    ```\\n    python <path/to/script/>annData2timeSeries.py <output path> <output file> <input file>\\n    ```\\n                                                    |              |           |\\n                                                Argument 1     Argument 2   Argument 3\\n    BRAD Line:\\n    ```\\n    subprocess.call([sys.executable, \\'<path/to/script/>/annData2timeSeries.py\\', chatstatus[\\'output-directory\\'], <output file>, <input file>])\\n    ```\\n\\n**OUTPUT FILE NAME INSTRUCTIONS**\\n1. Output path should be chatstatus[\\'output-directory\\']\\n2. Output file name should be `<descriptive name>.pkl`\\n\"\"\"\\n\\n\\n**CALL PYTHON SCRIPTS FROM PYTHON**:\\nUse the `subprocess` module to call any Python script from another Python script. Here are some examples to call a few common Python scripts:\\n\\nTo call a Python script `example_script.py` which has no arguments:\\n\\n```\\nExecute: subprocess.run([sys.executable, \\'<full path to script/> example_script.py\\', chatstatus[\\'output-directory\\']], capture_output=True, text=True)\\n)\\n```\\n\\nTo call a Python script `example_script.py` with one argument:\\n\\n```\\nExecute: subprocess.run([sys.executable, \\'<full path to script/> example_script.py\\', chatstatus[\\'output-directory\\'], \\'arg1\\'], capture_output=True, text=True)\\n)\\n```\\n\\nTo call a Python script `example_script.py` with two arguments:\\n```\\nExecute: subprocess.run([sys.executable, \\'<full path to script/> example_script.py\\', chatstatus[\\'output-directory\\'], \\'arg1\\', \\'arg2\\'], capture_output=True, text=True)\\n)\\n```\\n\\nNote that chatstatus[\\'output-directory\\'] is ALWAYS passed as the first argument.\\n\\nThe following files were previously created by BRAD and could be used as input to a function if necessary:\\nS0-2015_GF_embedding.h5ad\\nlog.json\\nS0-2015.dataset\\nS0-2015.h5ad\\n\\nQuery:{input}\\n\\n**INSTRUCTIONS**\\n1. Given the user query and the documentation, identify each of the arguments found in the user\\'s query that should be passed to the Python script.\\n2. Using the `subprocess` module, provide the one line of code to execute the desired Python script with the given arguments. Assume the necessary modules (`subprocess` and `sys`) are already imported.\\n3. The last line of your response should say \"Execute: <Python code to execute>\"\\n4. Format the response/output as:\\n    Arguments: \\n    Python Code Explanation: <2 sentences maximum>\\n    Execute: <your code here>\\n\\n**IMPORTANT**\\nThe code to execute from your response must be formatted as:\\n    Execute: subprocess.call([sys.executable, \\'<path to python script>\\', \\'<argument 1>\\', \\'<argument 2>\\', ..., \\'<argument n>\\'], capture_output=True, text=True))\\nThis output should be exactly one line and no longer. Stop the response after this line.\\n'\n"
     ]
    },
    {
     "name": "stdout",
     "output_type": "stream",
     "text": [
      "\n",
      "\n",
      "\u001b[1m> Entering new ConversationChain chain...\u001b[0m\n",
      "Prompt after formatting:\n",
      "\u001b[32;1m\u001b[1;3mCurrent conversation:\n",
      "\n",
      "\n",
      "**PYTHON SCRIPT**\n",
      "You must run this python script:\n",
      "/home/jpic/BRAD-Tools/annData2timeSeries.py\n",
      "\n",
      "**PYTHON SCRIPT DOCUMENTATION**:\n",
      "This is the doc string of this python script:\n",
      "\"\"\"\n",
      "This script converts datasets from an AnnData object to a format compatible with building models of time series data. AnnData from a .h5ad file are converted to a .pkl file that will contain the state type or coordinates space (raw data, geneformer embedinggs, etc.), the state names, and the time series data organized as states (coordinates) by timepoint (hours) by replicates (experiment replicates).\n",
      "\n",
      "Arguments (three arguments):\n",
      "    1. output directory: chatstatus['output-directory']\n",
      "    2. output file: <name of output file>\n",
      "    3. input file: <file created in previous step>\n",
      "\n",
      "Usage:\n",
      "    Command Line:\n",
      "    ```\n",
      "    python <path/to/script/>annData2timeSeries.py <output path> <output file> <input file>\n",
      "    ```\n",
      "                                                    |              |           |\n",
      "                                                Argument 1     Argument 2   Argument 3\n",
      "    BRAD Line:\n",
      "    ```\n",
      "    subprocess.call([sys.executable, '<path/to/script/>/annData2timeSeries.py', chatstatus['output-directory'], <output file>, <input file>])\n",
      "    ```\n",
      "\n",
      "**OUTPUT FILE NAME INSTRUCTIONS**\n",
      "1. Output path should be chatstatus['output-directory']\n",
      "2. Output file name should be `<descriptive name>.pkl`\n",
      "\"\"\"\n",
      "\n",
      "\n",
      "**CALL PYTHON SCRIPTS FROM PYTHON**:\n",
      "Use the `subprocess` module to call any Python script from another Python script. Here are some examples to call a few common Python scripts:\n",
      "\n",
      "To call a Python script `example_script.py` which has no arguments:\n",
      "\n",
      "```\n",
      "Execute: subprocess.run([sys.executable, '<full path to script/> example_script.py', chatstatus['output-directory']], capture_output=True, text=True)\n",
      ")\n",
      "```\n",
      "\n",
      "To call a Python script `example_script.py` with one argument:\n",
      "\n",
      "```\n",
      "Execute: subprocess.run([sys.executable, '<full path to script/> example_script.py', chatstatus['output-directory'], 'arg1'], capture_output=True, text=True)\n",
      ")\n",
      "```\n",
      "\n",
      "To call a Python script `example_script.py` with two arguments:\n",
      "```\n",
      "Execute: subprocess.run([sys.executable, '<full path to script/> example_script.py', chatstatus['output-directory'], 'arg1', 'arg2'], capture_output=True, text=True)\n",
      ")\n",
      "```\n",
      "\n",
      "Note that chatstatus['output-directory'] is ALWAYS passed as the first argument.\n",
      "\n",
      "The following files were previously created by BRAD and could be used as input to a function if necessary:\n",
      "S0-2015_GF_embedding.h5ad\n",
      "log.json\n",
      "S0-2015.dataset\n",
      "S0-2015.h5ad\n",
      "\n",
      "Query:convert the gene former embeddings to a time series dataset please\n",
      "\n",
      "**INSTRUCTIONS**\n",
      "1. Given the user query and the documentation, identify each of the arguments found in the user's query that should be passed to the Python script.\n",
      "2. Using the `subprocess` module, provide the one line of code to execute the desired Python script with the given arguments. Assume the necessary modules (`subprocess` and `sys`) are already imported.\n",
      "3. The last line of your response should say \"Execute: <Python code to execute>\"\n",
      "4. Format the response/output as:\n",
      "    Arguments: \n",
      "    Python Code Explanation: <2 sentences maximum>\n",
      "    Execute: <your code here>\n",
      "\n",
      "**IMPORTANT**\n",
      "The code to execute from your response must be formatted as:\n",
      "    Execute: subprocess.call([sys.executable, '<path to python script>', '<argument 1>', '<argument 2>', ..., '<argument n>'], capture_output=True, text=True))\n",
      "This output should be exactly one line and no longer. Stop the response after this line.\n",
      "\u001b[0m\n"
     ]
    },
    {
     "name": "stderr",
     "output_type": "stream",
     "text": [
      "2024-07-04 13:25:15,217 - INFO - LLM OUTPUT PARSER\n",
      "2024-07-04 13:25:15,218 - INFO - Arguments: \n",
      "1. output directory: chatstatus['output-directory']\n",
      "2. output file: GF_embedding.pkl\n",
      "3. input file: S0-2015_GF_embedding.h5ad\n",
      "\n",
      "Python Code Explanation: \n",
      "We are converting the gene former embeddings to a time series dataset. \n",
      "This code will execute the annData2timeSeries.py script with the necessary arguments.\n",
      "\n",
      "Execute: subprocess.call([sys.executable, '/home/jpic/BRAD-Tools/annData2timeSeries.py', chatstatus['output-directory'], 'GF_embedding.pkl', 'S0-2015_GF_embedding.h5ad'], capture_output=True, text=True)\n",
      "2024-07-04 13:25:15,220 - INFO - [\"Arguments: \\n1. output directory: chatstatus['output-directory']\\n2. output file: GF_embedding.pkl\\n3. input file: S0-2015_GF_embedding.h5ad\\n\\nPython Code Explanation: \\nWe are converting the gene former embeddings to a time series dataset. \\nThis code will execute the annData2timeSeries.py script with the necessary arguments.\\n\\n\", \" subprocess.call([sys.executable, '/home/jpic/BRAD-Tools/annData2timeSeries.py', chatstatus['output-directory'], 'GF_embedding.pkl', 'S0-2015_GF_embedding.h5ad'], capture_output=True, text=True)\"]\n",
      "2024-07-04 13:25:15,221 - INFO - subprocess.call([sys.executable, '/home/jpic/BRAD-Tools/annData2timeSeries.py', chatstatus['output-directory'], 'GF_embedding.pkl', 'S0-2015_GF_embedding.h5ad'], capture_output=True, text=True)\n",
      "2024-07-04 13:25:15,222 - INFO - subprocess.run([sys.executable, '/home/jpic/BRAD-Tools/annData2timeSeries.py', chatstatus['output-directory'], 'GF_embedding.pkl', 'S0-2015_GF_embedding.h5ad'], capture_output=True, text=True)\n",
      "2024-07-04 13:25:15,223 - INFO - Replacing: S0-2015_GF_embedding.h5ad with /home/jpic/BRAD/2024-07-03_16-28-48/S0-2015_GF_embedding.h5ad\n",
      "2024-07-04 13:25:15,224 - INFO - New String: subprocess.run([sys.executable, '/home/jpic/BRAD-Tools/annData2timeSeries.py', chatstatus['output-directory'], 'GF_embedding.pkl', '/home/jpic/BRAD/2024-07-03_16-28-48/S0-2015_GF_embedding.h5ad'], capture_output=True, text=True)\n",
      "2024-07-04 13:25:15,225 - INFO - Executing Code!!\n",
      "2024-07-04 13:25:15,226 - INFO - EVAL\n",
      "2024-07-04 13:25:15,227 - INFO - subprocess.run([sys.executable, '/home/jpic/BRAD-Tools/annData2timeSeries.py', chatstatus['output-directory'], 'GF_embedding.pkl', '/home/jpic/BRAD/2024-07-03_16-28-48/S0-2015_GF_embedding.h5ad'], capture_output=True, text=True)\n",
      "2024-07-04 13:25:15,228 - INFO - END EVAL CHECK\n",
      "2024-07-04 13:25:15,228 - INFO - Finalized PYTHON Call:\n",
      "2024-07-04 13:25:15,230 - INFO -    \n",
      "2024-07-04 13:25:15,230 - INFO - response = subprocess.run([sys.executable, '/home/jpic/BRAD-Tools/annData2timeSeries.py', chatstatus['output-directory'], 'GF_embedding.pkl', '/home/jpic/BRAD/2024-07-03_16-28-48/S0-2015_GF_embedding.h5ad'], capture_output=True, text=True)\n",
      "2024-07-04 13:25:15,231 - INFO -    \n"
     ]
    },
    {
     "name": "stdout",
     "output_type": "stream",
     "text": [
      "\n",
      "\u001b[1m> Finished chain.\u001b[0m\n"
     ]
    },
    {
     "name": "stderr",
     "output_type": "stream",
     "text": [
      "2024-07-04 13:25:25,776 - INFO - Debug: PYTHON code executed successfully.\n",
      "2024-07-04 13:25:25,778 - INFO - Code Execution Output:\n",
      "2024-07-04 13:25:25,779 - INFO - CompletedProcess(args=['/sw/pkgs/arc/python3.11-anaconda/2024.02-1/bin/python', '/home/jpic/BRAD-Tools/annData2timeSeries.py', '/home/jpic/BRAD/2024-07-03_16-28-48', 'GF_embedding.pkl', '/home/jpic/BRAD/2024-07-03_16-28-48/S0-2015_GF_embedding.h5ad'], returncode=0, stdout='******************************\\n  Convert to Gene Coordinates \\n******************************\\nDataset=/home/jpic/BRAD/2024-07-03_16-28-48/S0-2015_GF_embedding.h5ad\\nData saved to /home/jpic/BRAD/2024-07-03_16-28-48/GF_embedding.pkl\\n', stderr='/home/jpic/.local/lib/python3.11/site-packages/anndata/__init__.py:55: FutureWarning: `anndata.read` is deprecated, use `anndata.read_h5ad` instead. `ad.read` will be removed in mid 2024.\\n  warnings.warn(\\n/home/jpic/.local/lib/python3.11/site-packages/anndata/_core/aligned_df.py:67: ImplicitModificationWarning: Transforming to str index.\\n  warnings.warn(\"Transforming to str index.\", ImplicitModificationWarning)\\n')\n",
      "2024-07-04 13:25:25,779 - INFO - Debug: PYTHON code output saved to output.\n",
      "2024-07-04 13:25:25,781 - INFO - \n",
      "\n",
      "\n",
      "route\n",
      "\n",
      "\n",
      "\n",
      "2024-07-04 13:25:25,781 - INFO - CODE\n",
      "2024-07-04 13:25:25,782 - INFO - \n",
      "\n",
      "PLANNER:\n",
      "\n",
      "{'module': 'CODE', 'steps': [{'llm': \"model='meta/llama3-70b-instruct'\", 'prompt': 'input_variables=[\\'user_query\\'] template=\"You must select which code to run to help a user.\\\\n\\\\n**Available Scripts**\\\\nScript Name: geneformerCoordinatesTimeSeries, \\\\t Description: This script organizes datasets into a format to work with time series gene expression using individual geneformer embeddings as the state space. From a .h5ad file, a .pkl file is constructed here that will contain the state type being geneformer, the state names being geneformer coordinates, and the time series data organized as states (geneformer coordinates) by timepoint (hours) by replicates (experiment replicates).\\\\nScript Name: geneCoordinatesTimeSeries, \\\\t Description: This script organizes datasets into a format to work with time series gene expression using individual gene expresession as the state space. From a .h5ad file, a .pkl file is constructed here that will contain the state type being gene expression, the state names being gene names, and the time series data organized as states (genes) by timepoint (hours) by replicates (experiment replicates).\\\\nScript Name: linearModels, \\\\t Description: This file builds linear and linear time variant (LTI and LTV) models of gene expressions.\\\\nScript Name: annData2timeSeries, \\\\t Description: This script converts datasets from an AnnData object to a format compatible with building models of time series data. AnnData from a .h5ad file are converted to a .pkl file that will contain the state type or coordinates space (raw data, geneformer embedinggs, etc.), the state names, and the time series data organized as states (coordinates) by timepoint (hours) by replicates (experiment replicates).\\\\nScript Name: geneformerEmbeddings, \\\\t Description: Get gene former embeddings of your data\\\\nScript Name: biomarkerSelectionTimeVarying, \\\\t Description: This script performs time varying sensor or biomarker selection on dynamical systems models of cellular processes. It selects new sensors at each time point.\\\\nScript Name: buildLinearModel, \\\\t Description: This script builds linear models of time series data using Dynamic Mode Decomposition (DMD).\\\\nScript Name: test, \\\\t Description: This script was made for Joshua to test and learn python\\\\nScript Name: counts2geneformer2anndata, \\\\t Description: This script converts single cell counts matrix in to a gene former embedding embeddings or GF coordinates as an Ann Data object.\\\\nScript Name: datasetSelector, \\\\t Description: This script is a file chooser to load a gene expression dataset from the lab\\'s turbo partition to give access to the data to BRAD.\\\\nScript Name: biomarkerSelection, \\\\t Description: This script performs sensor selection on models of dynamical systems. This is applied to models of cellular processes for biomarker selection.\\\\nScript Name: buildLTVModel, \\\\t Description: This script builds linear time varying models of time series data using Data Guided Control model.\\\\n\\\\n\\\\n**User Query**\\\\n{user_query}\\\\n\\\\n**Task**\\\\nBased on the user\\'s query, select the best script from the available scripts. Provide the script name and explain why it is the best match. If no script is good, replace script with None\\\\n\\\\n**Response Template**\\\\nSCRIPT: <selected script>\\\\nREASON: <reasoning why the script fits the user prompt>\\\\n\"', 'input': 'convert the gene former embeddings to a time series dataset please', 'output': \"content='SCRIPT: annData2timeSeries\\\\nREASON: The user wants to convert gene former embeddings to a time series dataset. The annData2timeSeries script is the best match because it converts datasets from an AnnData object (which can contain gene former embeddings) to a format compatible with building models of time series data, which is exactly what the user is asking for.' response_metadata={'role': 'assistant', 'content': 'SCRIPT: annData2timeSeries\\\\nREASON: The user wants to convert gene former embeddings to a time series dataset. The annData2timeSeries script is the best match because it converts datasets from an AnnData object (which can contain gene former embeddings) to a format compatible with building models of time series data, which is exactly what the user is asking for.', 'token_usage': {'prompt_tokens': 677, 'total_tokens': 753, 'completion_tokens': 76}, 'model_name': 'meta/llama3-70b-instruct'} id='run-6c8f297c-d5b5-41c5-a02f-efa6d704f0a3-0' role='assistant'\", 'parsedOutput': {'scriptName': '/home/jpic/BRAD-Tools/annData2timeSeries.py', 'scriptType': 'python', 'scriptPath': '/home/jpic/BRAD-Tools/'}, 'purpose': 'Select which code to run'}, {'llm': \"model='meta/llama3-70b-instruct'\", 'prompt': 'input_variables=[\\'history\\', \\'input\\'] template=\\'Current conversation:\\\\n{history}\\\\n\\\\n**PYTHON SCRIPT**\\\\nYou must run this python script:\\\\n/home/jpic/BRAD-Tools/annData2timeSeries.py\\\\n\\\\n**PYTHON SCRIPT DOCUMENTATION**:\\\\nThis is the doc string of this python script:\\\\n\"\"\"\\\\nThis script converts datasets from an AnnData object to a format compatible with building models of time series data. AnnData from a .h5ad file are converted to a .pkl file that will contain the state type or coordinates space (raw data, geneformer embedinggs, etc.), the state names, and the time series data organized as states (coordinates) by timepoint (hours) by replicates (experiment replicates).\\\\n\\\\nArguments (three arguments):\\\\n    1. output directory: chatstatus[\\\\\\'output-directory\\\\\\']\\\\n    2. output file: <name of output file>\\\\n    3. input file: <file created in previous step>\\\\n\\\\nUsage:\\\\n    Command Line:\\\\n    ```\\\\n    python <path/to/script/>annData2timeSeries.py <output path> <output file> <input file>\\\\n    ```\\\\n                                                    |              |           |\\\\n                                                Argument 1     Argument 2   Argument 3\\\\n    BRAD Line:\\\\n    ```\\\\n    subprocess.call([sys.executable, \\\\\\'<path/to/script/>/annData2timeSeries.py\\\\\\', chatstatus[\\\\\\'output-directory\\\\\\'], <output file>, <input file>])\\\\n    ```\\\\n\\\\n**OUTPUT FILE NAME INSTRUCTIONS**\\\\n1. Output path should be chatstatus[\\\\\\'output-directory\\\\\\']\\\\n2. Output file name should be `<descriptive name>.pkl`\\\\n\"\"\"\\\\n\\\\n\\\\n**CALL PYTHON SCRIPTS FROM PYTHON**:\\\\nUse the `subprocess` module to call any Python script from another Python script. Here are some examples to call a few common Python scripts:\\\\n\\\\nTo call a Python script `example_script.py` which has no arguments:\\\\n\\\\n```\\\\nExecute: subprocess.run([sys.executable, \\\\\\'<full path to script/> example_script.py\\\\\\', chatstatus[\\\\\\'output-directory\\\\\\']], capture_output=True, text=True)\\\\n)\\\\n```\\\\n\\\\nTo call a Python script `example_script.py` with one argument:\\\\n\\\\n```\\\\nExecute: subprocess.run([sys.executable, \\\\\\'<full path to script/> example_script.py\\\\\\', chatstatus[\\\\\\'output-directory\\\\\\'], \\\\\\'arg1\\\\\\'], capture_output=True, text=True)\\\\n)\\\\n```\\\\n\\\\nTo call a Python script `example_script.py` with two arguments:\\\\n```\\\\nExecute: subprocess.run([sys.executable, \\\\\\'<full path to script/> example_script.py\\\\\\', chatstatus[\\\\\\'output-directory\\\\\\'], \\\\\\'arg1\\\\\\', \\\\\\'arg2\\\\\\'], capture_output=True, text=True)\\\\n)\\\\n```\\\\n\\\\nNote that chatstatus[\\\\\\'output-directory\\\\\\'] is ALWAYS passed as the first argument.\\\\n\\\\nThe following files were previously created by BRAD and could be used as input to a function if necessary:\\\\nS0-2015_GF_embedding.h5ad\\\\nlog.json\\\\nS0-2015.dataset\\\\nS0-2015.h5ad\\\\n\\\\nQuery:{input}\\\\n\\\\n**INSTRUCTIONS**\\\\n1. Given the user query and the documentation, identify each of the arguments found in the user\\\\\\'s query that should be passed to the Python script.\\\\n2. Using the `subprocess` module, provide the one line of code to execute the desired Python script with the given arguments. Assume the necessary modules (`subprocess` and `sys`) are already imported.\\\\n3. The last line of your response should say \"Execute: <Python code to execute>\"\\\\n4. Format the response/output as:\\\\n    Arguments: \\\\n    Python Code Explanation: <2 sentences maximum>\\\\n    Execute: <your code here>\\\\n\\\\n**IMPORTANT**\\\\nThe code to execute from your response must be formatted as:\\\\n    Execute: subprocess.call([sys.executable, \\\\\\'<path to python script>\\\\\\', \\\\\\'<argument 1>\\\\\\', \\\\\\'<argument 2>\\\\\\', ..., \\\\\\'<argument n>\\\\\\'], capture_output=True, text=True))\\\\nThis output should be exactly one line and no longer. Stop the response after this line.\\\\n\\'', 'input': 'convert the gene former embeddings to a time series dataset please', 'output': \"Arguments: \\n1. output directory: chatstatus['output-directory']\\n2. output file: GF_embedding.pkl\\n3. input file: S0-2015_GF_embedding.h5ad\\n\\nPython Code Explanation: \\nWe are converting the gene former embeddings to a time series dataset. \\nThis code will execute the annData2timeSeries.py script with the necessary arguments.\\n\\nExecute: subprocess.call([sys.executable, '/home/jpic/BRAD-Tools/annData2timeSeries.py', chatstatus['output-directory'], 'GF_embedding.pkl', 'S0-2015_GF_embedding.h5ad'], capture_output=True, text=True)\", 'parsedOutput': {'code': \"subprocess.run([sys.executable, '/home/jpic/BRAD-Tools/annData2timeSeries.py', chatstatus['output-directory'], 'GF_embedding.pkl', 'S0-2015_GF_embedding.h5ad'], capture_output=True, text=True)\"}, 'purpose': 'Format function call'}]}\n"
     ]
    },
    {
     "name": "stdout",
     "output_type": "stream",
     "text": [
      "==================================================\n"
     ]
    },
    {
     "name": "stdin",
     "output_type": "stream",
     "text": [
      "Input >>  /force CODE build a linear model with dynamic mode decomposition of the gene former embeddings\n"
     ]
    },
    {
     "name": "stderr",
     "output_type": "stream",
     "text": [
      "2024-07-04 13:29:41,100 - INFO - CODE\n",
      "2024-07-04 13:29:41,101 - INFO - CODER\n",
      "2024-07-04 13:29:41,105 - INFO - input_variables=['user_query'] template=\"You must select which code to run to help a user.\\n\\n**Available Scripts**\\nScript Name: geneformerCoordinatesTimeSeries, \\t Description: This script organizes datasets into a format to work with time series gene expression using individual geneformer embeddings as the state space. From a .h5ad file, a .pkl file is constructed here that will contain the state type being geneformer, the state names being geneformer coordinates, and the time series data organized as states (geneformer coordinates) by timepoint (hours) by replicates (experiment replicates).\\nScript Name: geneCoordinatesTimeSeries, \\t Description: This script organizes datasets into a format to work with time series gene expression using individual gene expresession as the state space. From a .h5ad file, a .pkl file is constructed here that will contain the state type being gene expression, the state names being gene names, and the time series data organized as states (genes) by timepoint (hours) by replicates (experiment replicates).\\nScript Name: linearModels, \\t Description: This file builds linear and linear time variant (LTI and LTV) models of gene expressions.\\nScript Name: annData2timeSeries, \\t Description: This script converts datasets from an AnnData object to a format compatible with building models of time series data. AnnData from a .h5ad file are converted to a .pkl file that will contain the state type or coordinates space (raw data, geneformer embedinggs, etc.), the state names, and the time series data organized as states (coordinates) by timepoint (hours) by replicates (experiment replicates).\\nScript Name: geneformerEmbeddings, \\t Description: Get gene former embeddings of your data\\nScript Name: biomarkerSelectionTimeVarying, \\t Description: This script performs time varying sensor or biomarker selection on dynamical systems models of cellular processes. It selects new sensors at each time point.\\nScript Name: buildLinearModel, \\t Description: This script builds linear models of time series data using Dynamic Mode Decomposition (DMD).\\nScript Name: test, \\t Description: This script was made for Joshua to test and learn python\\nScript Name: counts2geneformer2anndata, \\t Description: This script converts single cell counts matrix in to a gene former embedding embeddings or GF coordinates as an Ann Data object.\\nScript Name: datasetSelector, \\t Description: This script is a file chooser to load a gene expression dataset from the lab's turbo partition to give access to the data to BRAD.\\nScript Name: biomarkerSelection, \\t Description: This script performs sensor selection on models of dynamical systems. This is applied to models of cellular processes for biomarker selection.\\nScript Name: buildLTVModel, \\t Description: This script builds linear time varying models of time series data using Data Guided Control model.\\n\\n\\n**User Query**\\n{user_query}\\n\\n**Task**\\nBased on the user's query, select the best script from the available scripts. Provide the script name and explain why it is the best match. If no script is good, replace script with None\\n\\n**Response Template**\\nSCRIPT: <selected script>\\nREASON: <reasoning why the script fits the user prompt>\\n\"\n",
      "2024-07-04 13:29:41,106 - INFO - FIRST LLM CALL\n"
     ]
    },
    {
     "name": "stdout",
     "output_type": "stream",
     "text": [
      "==================================================\n",
      "BRAD >> 3: \n"
     ]
    },
    {
     "name": "stderr",
     "output_type": "stream",
     "text": [
      "2024-07-04 13:29:43,003 - INFO - SCRIPT: buildLinearModel\n",
      "REASON: The user query explicitly asks to \"build a linear model with dynamic mode decomposition of the gene former embeddings\", which is exactly what the `buildLinearModel` script does. It uses Dynamic Mode Decomposition (DMD) to build linear models of time series data, and since the query mentions gene former embeddings, it is likely that the user wants to build a linear model of the gene former embeddings using DMD.\n",
      "2024-07-04 13:29:43,004 - INFO - Warning! the type doesn't exist\n",
      "2024-07-04 13:29:43,004 - INFO - scriptPath=/home/jpic/BRAD-Tools/\n",
      "2024-07-04 13:29:43,005 - INFO - pyPath=/home/jpic/BRAD-Tools/\n",
      "2024-07-04 13:29:43,005 - INFO - ALL SCRIPTS FOUND. BUILDING TEMPLATE\n",
      "2024-07-04 13:29:43,006 - INFO - input_variables=['history', 'input'] template='Current conversation:\\n{history}\\n\\n**PYTHON SCRIPT**\\nYou must run this python script:\\n/home/jpic/BRAD-Tools/buildLinearModel.py\\n\\n**PYTHON SCRIPT DOCUMENTATION**:\\nThis is the doc string of this python script:\\n\"\"\"\\nThis script builds linear models of time series data using Dynamic Mode Decomposition (DMD).\\n\\nArguments (four arguments):\\n    1. output directory: chatstatus[\\'output-directory\\']\\n    2. output file: <name of output file>\\n    3. input file: the file created previously in the pipeline with formatted time series data\\n    4. DMD Rank: this parameter controls the amount reduced order modeling. A value of -1 indicates no model reduction\\n\\nUsage:\\n    Command Line:\\n    ```\\n    python <path/to/script/>datasetSelector.py <output path> <output file> <input file> <dmd rank>\\n    ```\\n                                                     |              |            |           |\\n                                                 Argument 1     Argument 2   Argument 3  Argument 4\\n    BRAD Line:\\n    ```\\n    subprocess.call([sys.executable, \\'<path/to/script/>/buildLinearModel.py\\', chatstatus[\\'output-directory\\'], <output file>, <input file>, <dmd rank>], capture_output=True, text=True)\\n    ```\\n\\nDynamic Mode Decomposition (DMD):\\n--------------------------------\\nDMD is a data-driven modeling method that decomposes a given dataset into a collection of dynamic modes, each associated with a fixed frequency, growth/decay rate, and amplitude. The key idea is to approximate the linear dynamics of the system using snapshots of data.\\n\\nGiven a sequence of snapshots X = [x1, x2, ..., xm] and Y = [x2, x3, ..., xm+1], where each snapshot xi represents the state of the system at time ti, DMD seeks to find a matrix A such that:\\n\\n    Y ≈ AX\\n\\nTo achieve this, DMD solves the following optimization problem:\\n\\n    A = Y X^†\\n\\nwhere X^† is the pseudoinverse of X.\\n\\nTo compute the DMD modes and eigenvalues, we perform the following steps:\\n1. Compute the Singular Value Decomposition (SVD) of X:\\n\\n    X = UΣV*\\n\\n2. Approximate A using the reduced-order model:\\n\\n    Ã = U^* Y V Σ^(-1)\\n\\n3. Compute the eigendecomposition of Ã:\\n\\n    ÃW = WΛ\\n\\nwhere Λ contains the eigenvalues and W contains the eigenvectors (DMD modes).\\n\\nThe DMD rank parameter controls the amount of reduced-order modeling. A value of -1 indicates no model reduction, using the full rank of the data matrix.\\n\\n\\n**OUTPUT FILE NAME INSTRUCTIONS**\\n1. Output path should be chatstatus[\\'output-directory\\']\\n2. Output file name should be `S2-<descriptive name>.pkl`\\n\"\"\"\\n\\n\\n**CALL PYTHON SCRIPTS FROM PYTHON**:\\nUse the `subprocess` module to call any Python script from another Python script. Here are some examples to call a few common Python scripts:\\n\\nTo call a Python script `example_script.py` which has no arguments:\\n\\n```\\nExecute: subprocess.run([sys.executable, \\'<full path to script/> example_script.py\\', chatstatus[\\'output-directory\\']], capture_output=True, text=True)\\n)\\n```\\n\\nTo call a Python script `example_script.py` with one argument:\\n\\n```\\nExecute: subprocess.run([sys.executable, \\'<full path to script/> example_script.py\\', chatstatus[\\'output-directory\\'], \\'arg1\\'], capture_output=True, text=True)\\n)\\n```\\n\\nTo call a Python script `example_script.py` with two arguments:\\n```\\nExecute: subprocess.run([sys.executable, \\'<full path to script/> example_script.py\\', chatstatus[\\'output-directory\\'], \\'arg1\\', \\'arg2\\'], capture_output=True, text=True)\\n)\\n```\\n\\nNote that chatstatus[\\'output-directory\\'] is ALWAYS passed as the first argument.\\n\\nThe following files were previously created by BRAD and could be used as input to a function if necessary:\\nS0-2015_GF_embedding.h5ad\\nlog.json\\nS0-2015.dataset\\nS0-2015.h5ad\\nGF_embedding.pkl\\n\\nQuery:{input}\\n\\n**INSTRUCTIONS**\\n1. Given the user query and the documentation, identify each of the arguments found in the user\\'s query that should be passed to the Python script.\\n2. Using the `subprocess` module, provide the one line of code to execute the desired Python script with the given arguments. Assume the necessary modules (`subprocess` and `sys`) are already imported.\\n3. The last line of your response should say \"Execute: <Python code to execute>\"\\n4. Format the response/output as:\\n    Arguments: \\n    Python Code Explanation: <2 sentences maximum>\\n    Execute: <your code here>\\n\\n**IMPORTANT**\\nThe code to execute from your response must be formatted as:\\n    Execute: subprocess.call([sys.executable, \\'<path to python script>\\', \\'<argument 1>\\', \\'<argument 2>\\', ..., \\'<argument n>\\'], capture_output=True, text=True))\\nThis output should be exactly one line and no longer. Stop the response after this line.\\n'\n"
     ]
    },
    {
     "name": "stdout",
     "output_type": "stream",
     "text": [
      "\n",
      "\n",
      "\u001b[1m> Entering new ConversationChain chain...\u001b[0m\n",
      "Prompt after formatting:\n",
      "\u001b[32;1m\u001b[1;3mCurrent conversation:\n",
      "\n",
      "\n",
      "**PYTHON SCRIPT**\n",
      "You must run this python script:\n",
      "/home/jpic/BRAD-Tools/buildLinearModel.py\n",
      "\n",
      "**PYTHON SCRIPT DOCUMENTATION**:\n",
      "This is the doc string of this python script:\n",
      "\"\"\"\n",
      "This script builds linear models of time series data using Dynamic Mode Decomposition (DMD).\n",
      "\n",
      "Arguments (four arguments):\n",
      "    1. output directory: chatstatus['output-directory']\n",
      "    2. output file: <name of output file>\n",
      "    3. input file: the file created previously in the pipeline with formatted time series data\n",
      "    4. DMD Rank: this parameter controls the amount reduced order modeling. A value of -1 indicates no model reduction\n",
      "\n",
      "Usage:\n",
      "    Command Line:\n",
      "    ```\n",
      "    python <path/to/script/>datasetSelector.py <output path> <output file> <input file> <dmd rank>\n",
      "    ```\n",
      "                                                     |              |            |           |\n",
      "                                                 Argument 1     Argument 2   Argument 3  Argument 4\n",
      "    BRAD Line:\n",
      "    ```\n",
      "    subprocess.call([sys.executable, '<path/to/script/>/buildLinearModel.py', chatstatus['output-directory'], <output file>, <input file>, <dmd rank>], capture_output=True, text=True)\n",
      "    ```\n",
      "\n",
      "Dynamic Mode Decomposition (DMD):\n",
      "--------------------------------\n",
      "DMD is a data-driven modeling method that decomposes a given dataset into a collection of dynamic modes, each associated with a fixed frequency, growth/decay rate, and amplitude. The key idea is to approximate the linear dynamics of the system using snapshots of data.\n",
      "\n",
      "Given a sequence of snapshots X = [x1, x2, ..., xm] and Y = [x2, x3, ..., xm+1], where each snapshot xi represents the state of the system at time ti, DMD seeks to find a matrix A such that:\n",
      "\n",
      "    Y ≈ AX\n",
      "\n",
      "To achieve this, DMD solves the following optimization problem:\n",
      "\n",
      "    A = Y X^†\n",
      "\n",
      "where X^† is the pseudoinverse of X.\n",
      "\n",
      "To compute the DMD modes and eigenvalues, we perform the following steps:\n",
      "1. Compute the Singular Value Decomposition (SVD) of X:\n",
      "\n",
      "    X = UΣV*\n",
      "\n",
      "2. Approximate A using the reduced-order model:\n",
      "\n",
      "    Ã = U^* Y V Σ^(-1)\n",
      "\n",
      "3. Compute the eigendecomposition of Ã:\n",
      "\n",
      "    ÃW = WΛ\n",
      "\n",
      "where Λ contains the eigenvalues and W contains the eigenvectors (DMD modes).\n",
      "\n",
      "The DMD rank parameter controls the amount of reduced-order modeling. A value of -1 indicates no model reduction, using the full rank of the data matrix.\n",
      "\n",
      "\n",
      "**OUTPUT FILE NAME INSTRUCTIONS**\n",
      "1. Output path should be chatstatus['output-directory']\n",
      "2. Output file name should be `S2-<descriptive name>.pkl`\n",
      "\"\"\"\n",
      "\n",
      "\n",
      "**CALL PYTHON SCRIPTS FROM PYTHON**:\n",
      "Use the `subprocess` module to call any Python script from another Python script. Here are some examples to call a few common Python scripts:\n",
      "\n",
      "To call a Python script `example_script.py` which has no arguments:\n",
      "\n",
      "```\n",
      "Execute: subprocess.run([sys.executable, '<full path to script/> example_script.py', chatstatus['output-directory']], capture_output=True, text=True)\n",
      ")\n",
      "```\n",
      "\n",
      "To call a Python script `example_script.py` with one argument:\n",
      "\n",
      "```\n",
      "Execute: subprocess.run([sys.executable, '<full path to script/> example_script.py', chatstatus['output-directory'], 'arg1'], capture_output=True, text=True)\n",
      ")\n",
      "```\n",
      "\n",
      "To call a Python script `example_script.py` with two arguments:\n",
      "```\n",
      "Execute: subprocess.run([sys.executable, '<full path to script/> example_script.py', chatstatus['output-directory'], 'arg1', 'arg2'], capture_output=True, text=True)\n",
      ")\n",
      "```\n",
      "\n",
      "Note that chatstatus['output-directory'] is ALWAYS passed as the first argument.\n",
      "\n",
      "The following files were previously created by BRAD and could be used as input to a function if necessary:\n",
      "S0-2015_GF_embedding.h5ad\n",
      "log.json\n",
      "S0-2015.dataset\n",
      "S0-2015.h5ad\n",
      "GF_embedding.pkl\n",
      "\n",
      "Query:build a linear model with dynamic mode decomposition of the gene former embeddings\n",
      "\n",
      "**INSTRUCTIONS**\n",
      "1. Given the user query and the documentation, identify each of the arguments found in the user's query that should be passed to the Python script.\n",
      "2. Using the `subprocess` module, provide the one line of code to execute the desired Python script with the given arguments. Assume the necessary modules (`subprocess` and `sys`) are already imported.\n",
      "3. The last line of your response should say \"Execute: <Python code to execute>\"\n",
      "4. Format the response/output as:\n",
      "    Arguments: \n",
      "    Python Code Explanation: <2 sentences maximum>\n",
      "    Execute: <your code here>\n",
      "\n",
      "**IMPORTANT**\n",
      "The code to execute from your response must be formatted as:\n",
      "    Execute: subprocess.call([sys.executable, '<path to python script>', '<argument 1>', '<argument 2>', ..., '<argument n>'], capture_output=True, text=True))\n",
      "This output should be exactly one line and no longer. Stop the response after this line.\n",
      "\u001b[0m\n"
     ]
    },
    {
     "name": "stderr",
     "output_type": "stream",
     "text": [
      "2024-07-04 13:29:46,100 - INFO - LLM OUTPUT PARSER\n",
      "2024-07-04 13:29:46,100 - INFO - Arguments: \n",
      "    1. output directory: chatstatus['output-directory']\n",
      "    2. output file: 'S2-GeneFormer_Embeddings_LinearModel.pkl'\n",
      "    3. input file: 'GF_embedding.pkl'\n",
      "    4. DMD Rank: -1 (no model reduction)\n",
      "\n",
      "Python Code Explanation: \n",
      "The code executes the Python script 'buildLinearModel.py' with the specified arguments. It uses the 'subprocess' module to run the script with the given arguments.\n",
      "\n",
      "Execute: subprocess.call([sys.executable, '/home/jpic/BRAD-Tools/buildLinearModel.py', chatstatus['output-directory'], 'S2-GeneFormer_Embeddings_LinearModel.pkl', 'GF_embedding.pkl', '-1'], capture_output=True, text=True)\n",
      "2024-07-04 13:29:46,101 - INFO - [\"Arguments: \\n    1. output directory: chatstatus['output-directory']\\n    2. output file: 'S2-GeneFormer_Embeddings_LinearModel.pkl'\\n    3. input file: 'GF_embedding.pkl'\\n    4. DMD Rank: -1 (no model reduction)\\n\\nPython Code Explanation: \\nThe code executes the Python script 'buildLinearModel.py' with the specified arguments. It uses the 'subprocess' module to run the script with the given arguments.\\n\\n\", \" subprocess.call([sys.executable, '/home/jpic/BRAD-Tools/buildLinearModel.py', chatstatus['output-directory'], 'S2-GeneFormer_Embeddings_LinearModel.pkl', 'GF_embedding.pkl', '-1'], capture_output=True, text=True)\"]\n",
      "2024-07-04 13:29:46,101 - INFO - subprocess.call([sys.executable, '/home/jpic/BRAD-Tools/buildLinearModel.py', chatstatus['output-directory'], 'S2-GeneFormer_Embeddings_LinearModel.pkl', 'GF_embedding.pkl', '-1'], capture_output=True, text=True)\n",
      "2024-07-04 13:29:46,101 - INFO - subprocess.run([sys.executable, '/home/jpic/BRAD-Tools/buildLinearModel.py', chatstatus['output-directory'], 'S2-GeneFormer_Embeddings_LinearModel.pkl', 'GF_embedding.pkl', '-1'], capture_output=True, text=True)\n",
      "2024-07-04 13:29:46,103 - INFO - Replacing: GF_embedding.pkl with /home/jpic/BRAD/2024-07-03_16-28-48/GF_embedding.pkl\n",
      "2024-07-04 13:29:46,103 - INFO - New String: subprocess.run([sys.executable, '/home/jpic/BRAD-Tools/buildLinearModel.py', chatstatus['output-directory'], 'S2-GeneFormer_Embeddings_LinearModel.pkl', '/home/jpic/BRAD/2024-07-03_16-28-48/GF_embedding.pkl', '-1'], capture_output=True, text=True)\n",
      "2024-07-04 13:29:46,104 - INFO - Executing Code!!\n",
      "2024-07-04 13:29:46,104 - INFO - EVAL\n",
      "2024-07-04 13:29:46,105 - INFO - subprocess.run([sys.executable, '/home/jpic/BRAD-Tools/buildLinearModel.py', chatstatus['output-directory'], 'S2-GeneFormer_Embeddings_LinearModel.pkl', '/home/jpic/BRAD/2024-07-03_16-28-48/GF_embedding.pkl', '-1'], capture_output=True, text=True)\n",
      "2024-07-04 13:29:46,105 - INFO - END EVAL CHECK\n",
      "2024-07-04 13:29:46,106 - INFO - Finalized PYTHON Call:\n",
      "2024-07-04 13:29:46,106 - INFO -    \n",
      "2024-07-04 13:29:46,106 - INFO - response = subprocess.run([sys.executable, '/home/jpic/BRAD-Tools/buildLinearModel.py', chatstatus['output-directory'], 'S2-GeneFormer_Embeddings_LinearModel.pkl', '/home/jpic/BRAD/2024-07-03_16-28-48/GF_embedding.pkl', '-1'], capture_output=True, text=True)\n",
      "2024-07-04 13:29:46,107 - INFO -    \n"
     ]
    },
    {
     "name": "stdout",
     "output_type": "stream",
     "text": [
      "\n",
      "\u001b[1m> Finished chain.\u001b[0m\n"
     ]
    },
    {
     "name": "stderr",
     "output_type": "stream",
     "text": [
      "2024-07-04 13:29:47,225 - INFO - Debug: PYTHON code executed successfully.\n",
      "2024-07-04 13:29:47,226 - INFO - Code Execution Output:\n",
      "2024-07-04 13:29:47,227 - INFO - CompletedProcess(args=['/sw/pkgs/arc/python3.11-anaconda/2024.02-1/bin/python', '/home/jpic/BRAD-Tools/buildLinearModel.py', '/home/jpic/BRAD/2024-07-03_16-28-48', 'S2-GeneFormer_Embeddings_LinearModel.pkl', '/home/jpic/BRAD/2024-07-03_16-28-48/GF_embedding.pkl', '-1'], returncode=0, stdout='******************************\\n  Dynamic Mode Decomposition  \\n******************************\\nOutput Path: /home/jpic/BRAD/2024-07-03_16-28-48\\nOutput File: S2-GeneFormer_Embeddings_LinearModel.pkl\\nInput File: /home/jpic/BRAD/2024-07-03_16-28-48/GF_embedding.pkl\\nDMD Rank: None\\nModel saved to /home/jpic/BRAD/2024-07-03_16-28-48/S2-GeneFormer_Embeddings_LinearModel.pkl\\n', stderr='')\n",
      "2024-07-04 13:29:47,228 - INFO - Debug: PYTHON code output saved to output.\n",
      "2024-07-04 13:29:47,229 - INFO - \n",
      "\n",
      "\n",
      "route\n",
      "\n",
      "\n",
      "\n",
      "2024-07-04 13:29:47,230 - INFO - CODE\n",
      "2024-07-04 13:29:47,231 - INFO - \n",
      "\n",
      "PLANNER:\n",
      "\n",
      "{'module': 'CODE', 'steps': [{'llm': \"model='meta/llama3-70b-instruct'\", 'prompt': 'input_variables=[\\'user_query\\'] template=\"You must select which code to run to help a user.\\\\n\\\\n**Available Scripts**\\\\nScript Name: geneformerCoordinatesTimeSeries, \\\\t Description: This script organizes datasets into a format to work with time series gene expression using individual geneformer embeddings as the state space. From a .h5ad file, a .pkl file is constructed here that will contain the state type being geneformer, the state names being geneformer coordinates, and the time series data organized as states (geneformer coordinates) by timepoint (hours) by replicates (experiment replicates).\\\\nScript Name: geneCoordinatesTimeSeries, \\\\t Description: This script organizes datasets into a format to work with time series gene expression using individual gene expresession as the state space. From a .h5ad file, a .pkl file is constructed here that will contain the state type being gene expression, the state names being gene names, and the time series data organized as states (genes) by timepoint (hours) by replicates (experiment replicates).\\\\nScript Name: linearModels, \\\\t Description: This file builds linear and linear time variant (LTI and LTV) models of gene expressions.\\\\nScript Name: annData2timeSeries, \\\\t Description: This script converts datasets from an AnnData object to a format compatible with building models of time series data. AnnData from a .h5ad file are converted to a .pkl file that will contain the state type or coordinates space (raw data, geneformer embedinggs, etc.), the state names, and the time series data organized as states (coordinates) by timepoint (hours) by replicates (experiment replicates).\\\\nScript Name: geneformerEmbeddings, \\\\t Description: Get gene former embeddings of your data\\\\nScript Name: biomarkerSelectionTimeVarying, \\\\t Description: This script performs time varying sensor or biomarker selection on dynamical systems models of cellular processes. It selects new sensors at each time point.\\\\nScript Name: buildLinearModel, \\\\t Description: This script builds linear models of time series data using Dynamic Mode Decomposition (DMD).\\\\nScript Name: test, \\\\t Description: This script was made for Joshua to test and learn python\\\\nScript Name: counts2geneformer2anndata, \\\\t Description: This script converts single cell counts matrix in to a gene former embedding embeddings or GF coordinates as an Ann Data object.\\\\nScript Name: datasetSelector, \\\\t Description: This script is a file chooser to load a gene expression dataset from the lab\\'s turbo partition to give access to the data to BRAD.\\\\nScript Name: biomarkerSelection, \\\\t Description: This script performs sensor selection on models of dynamical systems. This is applied to models of cellular processes for biomarker selection.\\\\nScript Name: buildLTVModel, \\\\t Description: This script builds linear time varying models of time series data using Data Guided Control model.\\\\n\\\\n\\\\n**User Query**\\\\n{user_query}\\\\n\\\\n**Task**\\\\nBased on the user\\'s query, select the best script from the available scripts. Provide the script name and explain why it is the best match. If no script is good, replace script with None\\\\n\\\\n**Response Template**\\\\nSCRIPT: <selected script>\\\\nREASON: <reasoning why the script fits the user prompt>\\\\n\"', 'input': 'build a linear model with dynamic mode decomposition of the gene former embeddings', 'output': 'content=\\'SCRIPT: buildLinearModel\\\\nREASON: The user query explicitly asks to \"build a linear model with dynamic mode decomposition of the gene former embeddings\", which is exactly what the `buildLinearModel` script does. It uses Dynamic Mode Decomposition (DMD) to build linear models of time series data, and since the query mentions gene former embeddings, it is likely that the user wants to build a linear model of the gene former embeddings using DMD.\\' response_metadata={\\'role\\': \\'assistant\\', \\'content\\': \\'SCRIPT: buildLinearModel\\\\nREASON: The user query explicitly asks to \"build a linear model with dynamic mode decomposition of the gene former embeddings\", which is exactly what the `buildLinearModel` script does. It uses Dynamic Mode Decomposition (DMD) to build linear models of time series data, and since the query mentions gene former embeddings, it is likely that the user wants to build a linear model of the gene former embeddings using DMD.\\', \\'token_usage\\': {\\'prompt_tokens\\': 679, \\'total_tokens\\': 772, \\'completion_tokens\\': 93}, \\'model_name\\': \\'meta/llama3-70b-instruct\\'} id=\\'run-e9d401ae-27b3-4827-b166-76093ac69e6f-0\\' role=\\'assistant\\'', 'parsedOutput': {'scriptName': '/home/jpic/BRAD-Tools/buildLinearModel.py', 'scriptType': 'python', 'scriptPath': '/home/jpic/BRAD-Tools/'}, 'purpose': 'Select which code to run'}, {'llm': \"model='meta/llama3-70b-instruct'\", 'prompt': 'input_variables=[\\'history\\', \\'input\\'] template=\\'Current conversation:\\\\n{history}\\\\n\\\\n**PYTHON SCRIPT**\\\\nYou must run this python script:\\\\n/home/jpic/BRAD-Tools/buildLinearModel.py\\\\n\\\\n**PYTHON SCRIPT DOCUMENTATION**:\\\\nThis is the doc string of this python script:\\\\n\"\"\"\\\\nThis script builds linear models of time series data using Dynamic Mode Decomposition (DMD).\\\\n\\\\nArguments (four arguments):\\\\n    1. output directory: chatstatus[\\\\\\'output-directory\\\\\\']\\\\n    2. output file: <name of output file>\\\\n    3. input file: the file created previously in the pipeline with formatted time series data\\\\n    4. DMD Rank: this parameter controls the amount reduced order modeling. A value of -1 indicates no model reduction\\\\n\\\\nUsage:\\\\n    Command Line:\\\\n    ```\\\\n    python <path/to/script/>datasetSelector.py <output path> <output file> <input file> <dmd rank>\\\\n    ```\\\\n                                                     |              |            |           |\\\\n                                                 Argument 1     Argument 2   Argument 3  Argument 4\\\\n    BRAD Line:\\\\n    ```\\\\n    subprocess.call([sys.executable, \\\\\\'<path/to/script/>/buildLinearModel.py\\\\\\', chatstatus[\\\\\\'output-directory\\\\\\'], <output file>, <input file>, <dmd rank>], capture_output=True, text=True)\\\\n    ```\\\\n\\\\nDynamic Mode Decomposition (DMD):\\\\n--------------------------------\\\\nDMD is a data-driven modeling method that decomposes a given dataset into a collection of dynamic modes, each associated with a fixed frequency, growth/decay rate, and amplitude. The key idea is to approximate the linear dynamics of the system using snapshots of data.\\\\n\\\\nGiven a sequence of snapshots X = [x1, x2, ..., xm] and Y = [x2, x3, ..., xm+1], where each snapshot xi represents the state of the system at time ti, DMD seeks to find a matrix A such that:\\\\n\\\\n    Y ≈ AX\\\\n\\\\nTo achieve this, DMD solves the following optimization problem:\\\\n\\\\n    A = Y X^†\\\\n\\\\nwhere X^† is the pseudoinverse of X.\\\\n\\\\nTo compute the DMD modes and eigenvalues, we perform the following steps:\\\\n1. Compute the Singular Value Decomposition (SVD) of X:\\\\n\\\\n    X = UΣV*\\\\n\\\\n2. Approximate A using the reduced-order model:\\\\n\\\\n    Ã = U^* Y V Σ^(-1)\\\\n\\\\n3. Compute the eigendecomposition of Ã:\\\\n\\\\n    ÃW = WΛ\\\\n\\\\nwhere Λ contains the eigenvalues and W contains the eigenvectors (DMD modes).\\\\n\\\\nThe DMD rank parameter controls the amount of reduced-order modeling. A value of -1 indicates no model reduction, using the full rank of the data matrix.\\\\n\\\\n\\\\n**OUTPUT FILE NAME INSTRUCTIONS**\\\\n1. Output path should be chatstatus[\\\\\\'output-directory\\\\\\']\\\\n2. Output file name should be `S2-<descriptive name>.pkl`\\\\n\"\"\"\\\\n\\\\n\\\\n**CALL PYTHON SCRIPTS FROM PYTHON**:\\\\nUse the `subprocess` module to call any Python script from another Python script. Here are some examples to call a few common Python scripts:\\\\n\\\\nTo call a Python script `example_script.py` which has no arguments:\\\\n\\\\n```\\\\nExecute: subprocess.run([sys.executable, \\\\\\'<full path to script/> example_script.py\\\\\\', chatstatus[\\\\\\'output-directory\\\\\\']], capture_output=True, text=True)\\\\n)\\\\n```\\\\n\\\\nTo call a Python script `example_script.py` with one argument:\\\\n\\\\n```\\\\nExecute: subprocess.run([sys.executable, \\\\\\'<full path to script/> example_script.py\\\\\\', chatstatus[\\\\\\'output-directory\\\\\\'], \\\\\\'arg1\\\\\\'], capture_output=True, text=True)\\\\n)\\\\n```\\\\n\\\\nTo call a Python script `example_script.py` with two arguments:\\\\n```\\\\nExecute: subprocess.run([sys.executable, \\\\\\'<full path to script/> example_script.py\\\\\\', chatstatus[\\\\\\'output-directory\\\\\\'], \\\\\\'arg1\\\\\\', \\\\\\'arg2\\\\\\'], capture_output=True, text=True)\\\\n)\\\\n```\\\\n\\\\nNote that chatstatus[\\\\\\'output-directory\\\\\\'] is ALWAYS passed as the first argument.\\\\n\\\\nThe following files were previously created by BRAD and could be used as input to a function if necessary:\\\\nS0-2015_GF_embedding.h5ad\\\\nlog.json\\\\nS0-2015.dataset\\\\nS0-2015.h5ad\\\\nGF_embedding.pkl\\\\n\\\\nQuery:{input}\\\\n\\\\n**INSTRUCTIONS**\\\\n1. Given the user query and the documentation, identify each of the arguments found in the user\\\\\\'s query that should be passed to the Python script.\\\\n2. Using the `subprocess` module, provide the one line of code to execute the desired Python script with the given arguments. Assume the necessary modules (`subprocess` and `sys`) are already imported.\\\\n3. The last line of your response should say \"Execute: <Python code to execute>\"\\\\n4. Format the response/output as:\\\\n    Arguments: \\\\n    Python Code Explanation: <2 sentences maximum>\\\\n    Execute: <your code here>\\\\n\\\\n**IMPORTANT**\\\\nThe code to execute from your response must be formatted as:\\\\n    Execute: subprocess.call([sys.executable, \\\\\\'<path to python script>\\\\\\', \\\\\\'<argument 1>\\\\\\', \\\\\\'<argument 2>\\\\\\', ..., \\\\\\'<argument n>\\\\\\'], capture_output=True, text=True))\\\\nThis output should be exactly one line and no longer. Stop the response after this line.\\\\n\\'', 'input': 'build a linear model with dynamic mode decomposition of the gene former embeddings', 'output': \"Arguments: \\n    1. output directory: chatstatus['output-directory']\\n    2. output file: 'S2-GeneFormer_Embeddings_LinearModel.pkl'\\n    3. input file: 'GF_embedding.pkl'\\n    4. DMD Rank: -1 (no model reduction)\\n\\nPython Code Explanation: \\nThe code executes the Python script 'buildLinearModel.py' with the specified arguments. It uses the 'subprocess' module to run the script with the given arguments.\\n\\nExecute: subprocess.call([sys.executable, '/home/jpic/BRAD-Tools/buildLinearModel.py', chatstatus['output-directory'], 'S2-GeneFormer_Embeddings_LinearModel.pkl', 'GF_embedding.pkl', '-1'], capture_output=True, text=True)\", 'parsedOutput': {'code': \"subprocess.run([sys.executable, '/home/jpic/BRAD-Tools/buildLinearModel.py', chatstatus['output-directory'], 'S2-GeneFormer_Embeddings_LinearModel.pkl', 'GF_embedding.pkl', '-1'], capture_output=True, text=True)\"}, 'purpose': 'Format function call'}]}\n"
     ]
    },
    {
     "name": "stdout",
     "output_type": "stream",
     "text": [
      "==================================================\n"
     ]
    }
   ],
   "source": [
    "brad.chat(restart='/home/jpic/BRAD/2024-07-03_16-28-48')"
   ]
  },
  {
   "cell_type": "raw",
   "id": "7d62de1e-102e-4e72-b21b-4fdf4a12e581",
   "metadata": {},
   "source": []
  },
  {
   "cell_type": "raw",
   "id": "6c25cb0c-694a-46be-9e8b-13542e2adda3",
   "metadata": {},
   "source": [
    "/force CODE Load the cell cycle dataset\n",
    "/force CODE Convert the dataset to gene coordinates\n",
    "/force CODE Build a DMD or linear model of the 2015 data\n",
    "/force CODE Perform biomarker or sensor selection on this data\n",
    "/force CODE Perform time varying biomarker selection on this data from times 0 to 3. set verbose to true.\n",
    "/force DATABASE load the biomarker file we created and perform gene enrichrment on the state column\n",
    "/force WRITE make a summary of our conversation"
   ]
  },
  {
   "cell_type": "code",
   "execution_count": 4,
   "id": "65e7e8d4-94b4-44a4-aa8d-5fe7225a6335",
   "metadata": {},
   "outputs": [
    {
     "data": {
      "text/plain": [
       "array([0, 1, 2, 3, 4])"
      ]
     },
     "execution_count": 4,
     "metadata": {},
     "output_type": "execute_result"
    }
   ],
   "source": [
    "import numpy as np\n",
    "np.arange(0,5)"
   ]
  },
  {
   "cell_type": "code",
   "execution_count": 3,
   "id": "f2f28feb-6182-4a80-b9fe-b555b0612808",
   "metadata": {},
   "outputs": [],
   "source": [
    "import subprocess"
   ]
  },
  {
   "cell_type": "code",
   "execution_count": 7,
   "id": "69b9392f-89e6-439a-8e47-028ed7a92098",
   "metadata": {},
   "outputs": [
    {
     "name": "stdout",
     "output_type": "stream",
     "text": [
      "from a print statement\n"
     ]
    }
   ],
   "source": [
    "exec(\"response = subprocess.run([sys.executable, '/home/jpic/BRAD-Tools/test.py'], capture_output=True, text=True)\")\n",
    "print(response.stdout.strip())\n"
   ]
  },
  {
   "cell_type": "code",
   "execution_count": 3,
   "id": "8a3eb4f3-c749-4395-affa-766570fadc60",
   "metadata": {},
   "outputs": [],
   "source": [
    "string = \"\"\"response = subprocess.run([sys.executable, '/home/jpic/BRAD-Tools/datasetSelector.py', '', 'S0-2015.h5ad', '2015'], capture_output=True, text=True)\"\"\""
   ]
  },
  {
   "cell_type": "code",
   "execution_count": 6,
   "id": "71888e74-8d73-4d97-b81d-be391da67d79",
   "metadata": {},
   "outputs": [],
   "source": [
    "exec(string)"
   ]
  },
  {
   "cell_type": "code",
   "execution_count": 4,
   "id": "a21a554f-0001-47e0-8a2d-3c375f76293b",
   "metadata": {},
   "outputs": [],
   "source": [
    "response = subprocess.run([sys.executable, '/home/jpic/BRAD-Tools/datasetSelector.py', '', 'S0-2015.h5ad', '2015'], capture_output=True, text=True)"
   ]
  },
  {
   "cell_type": "code",
   "execution_count": 5,
   "id": "ee1f08c7-12bc-4bd6-8aa6-994e898a2d9c",
   "metadata": {},
   "outputs": [
    {
     "name": "stdout",
     "output_type": "stream",
     "text": [
      "******************************\n",
      "       Dataset Selector       \n",
      "******************************\n",
      "\n"
     ]
    }
   ],
   "source": [
    "print(response.stdout)"
   ]
  },
  {
   "cell_type": "raw",
   "id": "81dade34-4ddc-48ba-a1bf-78ba8448e580",
   "metadata": {},
   "source": [
    "Load the cell cycle dataset"
   ]
  },
  {
   "cell_type": "raw",
   "id": "14f1f6a7-280e-494b-9d3b-2f1dfb79fff6",
   "metadata": {},
   "source": [
    "/force CODE Load the cell cycle dataset\n",
    "/force CODE Convert the dataset to gene coordinates\n",
    "/force CODE Build a DMD or linear model of the 2015 data\n",
    "/force CODE Perform biomarker or sensor selection on this data\n",
    "/force DATABASE load the biomarker file we created and perform gene enrichrment on the state column\n",
    "/force WRITE make a summary of all this\n"
   ]
  },
  {
   "cell_type": "raw",
   "id": "ab7e9731-1fb0-4858-8f85-9627ce479ac5",
   "metadata": {},
   "source": [
    "/force DATABASE load the biomarker file we created and perform gene enrichrment on the biomarker column\n",
    "/force DATABASE load the biomarkers from the previous step and perform gene ernichment on the biomarker column\n",
    "/force DATABASE perform gene enrichment on the state variables from the selected biomarkers"
   ]
  }
 ],
 "metadata": {
  "kernelspec": {
   "display_name": "Python 3 (ipykernel)",
   "language": "python",
   "name": "python3"
  },
  "language_info": {
   "codemirror_mode": {
    "name": "ipython",
    "version": 3
   },
   "file_extension": ".py",
   "mimetype": "text/x-python",
   "name": "python",
   "nbconvert_exporter": "python",
   "pygments_lexer": "ipython3",
   "version": "3.11.7"
  }
 },
 "nbformat": 4,
 "nbformat_minor": 5
}
