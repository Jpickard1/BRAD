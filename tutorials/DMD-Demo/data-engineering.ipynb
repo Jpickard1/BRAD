{
 "cells": [
  {
   "cell_type": "markdown",
   "id": "5d807cd5-a3bf-438d-8fcd-180ffe6d1554",
   "metadata": {},
   "source": [
    "# Data Engineering for the 2015 and 2018 data\n",
    "\n",
    "This notebook formats the 2015 and 2018 data to be used as input/output for the pipeline being build in the `DMD-Demo.ipynb`"
   ]
  },
  {
   "cell_type": "markdown",
   "id": "4684c9d2-b6ce-4699-b368-7d651455d67d",
   "metadata": {},
   "source": [
    "## Dataset chooser"
   ]
  },
  {
   "cell_type": "code",
   "execution_count": null,
   "id": "7c2ca658-2097-4156-baa6-0c15acfad177",
   "metadata": {},
   "outputs": [],
   "source": [
    "def main():\n",
    "    outputPath = sys.argv[1] # chatstatus['output-directory']\n",
    "    outputFile = sys.argv[2] # output file name\n",
    "    dataset    = sys.argv[3]\n",
    "\n",
    "    outputFile = os.path.join(outputPath, outputFile)\n",
    "    \n",
    "    print('******************************')\n",
    "    print('Dataset Selector')\n",
    "    print('******************************')\n",
    "\n",
    "    out_path = \"/nfs/turbo/umms-indikar/shared/projects/geneformer/data/rajapakse_lab_data.h5ad\"\n",
    "    ad = an.read(out_path)\n",
    "    \n",
    "    if dataset == '2015':\n",
    "        ds = 'chen_2015'\n",
    "    elif dataset == '2018':\n",
    "        ds = 'liu_2018'\n",
    "    else:\n",
    "        print('Dataset is invalid!')\n",
    "\n",
    "    adDs = ad[ad.obs['dataset'] == 'liu_2018']\n",
    "    adDs.write(outputFile)\n",
    "    "
   ]
  },
  {
   "cell_type": "code",
   "execution_count": 2,
   "id": "ef592a0d-6d59-4212-b378-4d310c686a21",
   "metadata": {},
   "outputs": [],
   "source": [
    "import anndata as an"
   ]
  },
  {
   "cell_type": "code",
   "execution_count": 6,
   "id": "2fd47fcb-93f9-4256-93bd-d354d7e830d8",
   "metadata": {},
   "outputs": [
    {
     "name": "stderr",
     "output_type": "stream",
     "text": [
      "/home/jpic/.local/lib/python3.11/site-packages/anndata/__init__.py:55: FutureWarning: `anndata.read` is deprecated, use `anndata.read_h5ad` instead. `ad.read` will be removed in mid 2024.\n",
      "  warnings.warn(\n"
     ]
    },
    {
     "data": {
      "text/plain": [
       "AnnData object with n_obs × n_vars = 66 × 19393\n",
       "    obs: 'dataset', 'sample_id', 'timepoint', 'hour', 'n_counts', 'control'\n",
       "    var: 'gene_id', 'token_id', 'Chromosome', 'Source', 'Feature', 'Start', 'End', 'Score', 'Strand', 'Frame', 'gene_version', 'gene_source', 'gene_biotype', 'transcript_id', 'transcript_version', 'transcript_name', 'transcript_source', 'transcript_biotype', 'tag', 'ccds_id', 'exon_number', 'exon_id', 'exon_version', 'protein_id', 'protein_version', 'transcript_support_level', 'ensembl_id'"
      ]
     },
     "execution_count": 6,
     "metadata": {},
     "output_type": "execute_result"
    }
   ],
   "source": [
    "out_path = \"/nfs/turbo/umms-indikar/shared/projects/geneformer/data/rajapakse_lab_data.h5ad\"\n",
    "ad = an.read(out_path)\n",
    "#adata\n",
    "ad"
   ]
  },
  {
   "cell_type": "code",
   "execution_count": 14,
   "id": "03fb612f-21f1-4b87-9d06-75ca18833109",
   "metadata": {},
   "outputs": [
    {
     "data": {
      "text/plain": [
       "48"
      ]
     },
     "execution_count": 14,
     "metadata": {},
     "output_type": "execute_result"
    }
   ],
   "source": [
    "sum(ad.obs['dataset'] == 'liu_2018')"
   ]
  },
  {
   "cell_type": "code",
   "execution_count": 23,
   "id": "7d4e55e9-46f1-487c-ae84-e8d8d2c8713f",
   "metadata": {},
   "outputs": [],
   "source": [
    "adDs = ad[ad.obs['dataset'] == 'liu_2018']"
   ]
  },
  {
   "cell_type": "markdown",
   "id": "81faa7a5-3a60-4892-b46d-50a9e47be351",
   "metadata": {},
   "source": [
    "## Standard TPM formatting\n",
    "\n",
    "Take the `.h5ad` files and make pickle files where `X` is state variables by time by replicates"
   ]
  },
  {
   "cell_type": "code",
   "execution_count": 9,
   "id": "a02d002b-b2a5-458e-864d-756fecb14aba",
   "metadata": {},
   "outputs": [],
   "source": [
    "import numpy as np"
   ]
  },
  {
   "cell_type": "code",
   "execution_count": 32,
   "id": "162d430e-a198-4bfd-9184-cdb68a8bfaaf",
   "metadata": {},
   "outputs": [
    {
     "name": "stderr",
     "output_type": "stream",
     "text": [
      "/home/jpic/.local/lib/python3.11/site-packages/anndata/__init__.py:55: FutureWarning: `anndata.read` is deprecated, use `anndata.read_h5ad` instead. `ad.read` will be removed in mid 2024.\n",
      "  warnings.warn(\n"
     ]
    }
   ],
   "source": [
    "out_path = '/home/jpic/BRAD/2024-06-30_16-39-42/S0-2018.h5ad'\n",
    "ad = an.read(out_path)\n",
    "\n",
    "# stateType = 'Gene Name'\n",
    "# states = list(ad.var.index)\n"
   ]
  },
  {
   "cell_type": "code",
   "execution_count": 33,
   "id": "3970a79e-4f89-4b47-a661-be99fd86354e",
   "metadata": {},
   "outputs": [
    {
     "data": {
      "text/plain": [
       "AnnData object with n_obs × n_vars = 48 × 19393\n",
       "    obs: 'dataset', 'sample_id', 'timepoint', 'hour', 'n_counts', 'control', 'order', 'replicate', 'batch'\n",
       "    var: 'gene_id', 'token_id', 'Chromosome', 'Source', 'Feature', 'Start', 'End', 'Score', 'Strand', 'Frame', 'gene_version', 'gene_source', 'gene_biotype', 'transcript_id', 'transcript_version', 'transcript_name', 'transcript_source', 'transcript_biotype', 'tag', 'ccds_id', 'exon_number', 'exon_id', 'exon_version', 'protein_id', 'protein_version', 'transcript_support_level', 'ensembl_id'"
      ]
     },
     "execution_count": 33,
     "metadata": {},
     "output_type": "execute_result"
    }
   ],
   "source": [
    "ad"
   ]
  },
  {
   "cell_type": "code",
   "execution_count": 34,
   "id": "969f4cd1-6343-461c-b79f-bb8ec87fc033",
   "metadata": {},
   "outputs": [],
   "source": [
    "n = ad.shape[1]\n",
    "T = ad.obs['order'].nunique()\n",
    "R = ad.obs['replicate'].nunique()\n",
    "X = np.zeros((n, T, R))"
   ]
  },
  {
   "cell_type": "code",
   "execution_count": 35,
   "id": "2f267b4f-893b-457e-8225-977a7d4ee9c8",
   "metadata": {},
   "outputs": [],
   "source": [
    "timepoints = ad.obs['order'].unique()\n",
    "replicates = ad.obs['replicate'].unique()"
   ]
  },
  {
   "cell_type": "code",
   "execution_count": 48,
   "id": "8fbf867a-be5a-4573-8335-2e5656b98a03",
   "metadata": {},
   "outputs": [],
   "source": [
    "for i in range(ad.obs.shape[0]):\n",
    "    order = ad.obs['order'][i]\n",
    "    replicate = ad.obs['replicate'][i]\n",
    "\n",
    "    time = np.where(timepoints == order)[0][0]\n",
    "    rep = np.where(replicates == replicate)[0][0]\n",
    "\n",
    "    X[:, time, rep] = ad.X[i, :]\n",
    "\n",
    "states = list(ad.var.index)\n",
    "metadata = ad.var\n",
    "\n",
    "# Please write code to save X, states, and metadata to a pkl file at output_file"
   ]
  },
  {
   "cell_type": "code",
   "execution_count": 50,
   "id": "ff2ebfe9-8337-4175-9b07-c533cd0c4eaa",
   "metadata": {},
   "outputs": [
    {
     "data": {
      "text/html": [
       "<div>\n",
       "<style scoped>\n",
       "    .dataframe tbody tr th:only-of-type {\n",
       "        vertical-align: middle;\n",
       "    }\n",
       "\n",
       "    .dataframe tbody tr th {\n",
       "        vertical-align: top;\n",
       "    }\n",
       "\n",
       "    .dataframe thead th {\n",
       "        text-align: right;\n",
       "    }\n",
       "</style>\n",
       "<table border=\"1\" class=\"dataframe\">\n",
       "  <thead>\n",
       "    <tr style=\"text-align: right;\">\n",
       "      <th></th>\n",
       "      <th>gene_id</th>\n",
       "      <th>token_id</th>\n",
       "      <th>Chromosome</th>\n",
       "      <th>Source</th>\n",
       "      <th>Feature</th>\n",
       "      <th>Start</th>\n",
       "      <th>End</th>\n",
       "      <th>Score</th>\n",
       "      <th>Strand</th>\n",
       "      <th>Frame</th>\n",
       "      <th>...</th>\n",
       "      <th>transcript_biotype</th>\n",
       "      <th>tag</th>\n",
       "      <th>ccds_id</th>\n",
       "      <th>exon_number</th>\n",
       "      <th>exon_id</th>\n",
       "      <th>exon_version</th>\n",
       "      <th>protein_id</th>\n",
       "      <th>protein_version</th>\n",
       "      <th>transcript_support_level</th>\n",
       "      <th>ensembl_id</th>\n",
       "    </tr>\n",
       "    <tr>\n",
       "      <th>gene_name</th>\n",
       "      <th></th>\n",
       "      <th></th>\n",
       "      <th></th>\n",
       "      <th></th>\n",
       "      <th></th>\n",
       "      <th></th>\n",
       "      <th></th>\n",
       "      <th></th>\n",
       "      <th></th>\n",
       "      <th></th>\n",
       "      <th></th>\n",
       "      <th></th>\n",
       "      <th></th>\n",
       "      <th></th>\n",
       "      <th></th>\n",
       "      <th></th>\n",
       "      <th></th>\n",
       "      <th></th>\n",
       "      <th></th>\n",
       "      <th></th>\n",
       "      <th></th>\n",
       "    </tr>\n",
       "  </thead>\n",
       "  <tbody>\n",
       "    <tr>\n",
       "      <th>A1BG</th>\n",
       "      <td>ENSG00000121410</td>\n",
       "      <td>5150.0</td>\n",
       "      <td>19</td>\n",
       "      <td>ensembl_havana</td>\n",
       "      <td>gene</td>\n",
       "      <td>58345177.0</td>\n",
       "      <td>58353492.0</td>\n",
       "      <td>.</td>\n",
       "      <td>-</td>\n",
       "      <td>.</td>\n",
       "      <td>...</td>\n",
       "      <td>NaN</td>\n",
       "      <td>NaN</td>\n",
       "      <td>NaN</td>\n",
       "      <td>NaN</td>\n",
       "      <td>NaN</td>\n",
       "      <td>NaN</td>\n",
       "      <td>NaN</td>\n",
       "      <td>NaN</td>\n",
       "      <td>NaN</td>\n",
       "      <td>ENSG00000121410</td>\n",
       "    </tr>\n",
       "    <tr>\n",
       "      <th>A1CF</th>\n",
       "      <td>ENSG00000148584</td>\n",
       "      <td>9064.0</td>\n",
       "      <td>10</td>\n",
       "      <td>ensembl_havana</td>\n",
       "      <td>gene</td>\n",
       "      <td>50799408.0</td>\n",
       "      <td>50885675.0</td>\n",
       "      <td>.</td>\n",
       "      <td>-</td>\n",
       "      <td>.</td>\n",
       "      <td>...</td>\n",
       "      <td>NaN</td>\n",
       "      <td>NaN</td>\n",
       "      <td>NaN</td>\n",
       "      <td>NaN</td>\n",
       "      <td>NaN</td>\n",
       "      <td>NaN</td>\n",
       "      <td>NaN</td>\n",
       "      <td>NaN</td>\n",
       "      <td>NaN</td>\n",
       "      <td>ENSG00000148584</td>\n",
       "    </tr>\n",
       "    <tr>\n",
       "      <th>A2M</th>\n",
       "      <td>ENSG00000175899</td>\n",
       "      <td>13826.0</td>\n",
       "      <td>12</td>\n",
       "      <td>ensembl_havana</td>\n",
       "      <td>gene</td>\n",
       "      <td>9067663.0</td>\n",
       "      <td>9116229.0</td>\n",
       "      <td>.</td>\n",
       "      <td>-</td>\n",
       "      <td>.</td>\n",
       "      <td>...</td>\n",
       "      <td>NaN</td>\n",
       "      <td>NaN</td>\n",
       "      <td>NaN</td>\n",
       "      <td>NaN</td>\n",
       "      <td>NaN</td>\n",
       "      <td>NaN</td>\n",
       "      <td>NaN</td>\n",
       "      <td>NaN</td>\n",
       "      <td>NaN</td>\n",
       "      <td>ENSG00000175899</td>\n",
       "    </tr>\n",
       "    <tr>\n",
       "      <th>A2ML1</th>\n",
       "      <td>ENSG00000166535</td>\n",
       "      <td>11812.0</td>\n",
       "      <td>12</td>\n",
       "      <td>ensembl_havana</td>\n",
       "      <td>gene</td>\n",
       "      <td>8822620.0</td>\n",
       "      <td>8887001.0</td>\n",
       "      <td>.</td>\n",
       "      <td>+</td>\n",
       "      <td>.</td>\n",
       "      <td>...</td>\n",
       "      <td>NaN</td>\n",
       "      <td>NaN</td>\n",
       "      <td>NaN</td>\n",
       "      <td>NaN</td>\n",
       "      <td>NaN</td>\n",
       "      <td>NaN</td>\n",
       "      <td>NaN</td>\n",
       "      <td>NaN</td>\n",
       "      <td>NaN</td>\n",
       "      <td>ENSG00000166535</td>\n",
       "    </tr>\n",
       "    <tr>\n",
       "      <th>A3GALT2</th>\n",
       "      <td>ENSG00000184389</td>\n",
       "      <td>15327.0</td>\n",
       "      <td>1</td>\n",
       "      <td>ensembl_havana</td>\n",
       "      <td>gene</td>\n",
       "      <td>33306765.0</td>\n",
       "      <td>33321098.0</td>\n",
       "      <td>.</td>\n",
       "      <td>-</td>\n",
       "      <td>.</td>\n",
       "      <td>...</td>\n",
       "      <td>NaN</td>\n",
       "      <td>NaN</td>\n",
       "      <td>NaN</td>\n",
       "      <td>NaN</td>\n",
       "      <td>NaN</td>\n",
       "      <td>NaN</td>\n",
       "      <td>NaN</td>\n",
       "      <td>NaN</td>\n",
       "      <td>NaN</td>\n",
       "      <td>ENSG00000184389</td>\n",
       "    </tr>\n",
       "    <tr>\n",
       "      <th>...</th>\n",
       "      <td>...</td>\n",
       "      <td>...</td>\n",
       "      <td>...</td>\n",
       "      <td>...</td>\n",
       "      <td>...</td>\n",
       "      <td>...</td>\n",
       "      <td>...</td>\n",
       "      <td>...</td>\n",
       "      <td>...</td>\n",
       "      <td>...</td>\n",
       "      <td>...</td>\n",
       "      <td>...</td>\n",
       "      <td>...</td>\n",
       "      <td>...</td>\n",
       "      <td>...</td>\n",
       "      <td>...</td>\n",
       "      <td>...</td>\n",
       "      <td>...</td>\n",
       "      <td>...</td>\n",
       "      <td>...</td>\n",
       "      <td>...</td>\n",
       "    </tr>\n",
       "    <tr>\n",
       "      <th>ZYG11A</th>\n",
       "      <td>ENSG00000203995</td>\n",
       "      <td>17515.0</td>\n",
       "      <td>1</td>\n",
       "      <td>ensembl_havana</td>\n",
       "      <td>gene</td>\n",
       "      <td>52842510.0</td>\n",
       "      <td>52894998.0</td>\n",
       "      <td>.</td>\n",
       "      <td>+</td>\n",
       "      <td>.</td>\n",
       "      <td>...</td>\n",
       "      <td>NaN</td>\n",
       "      <td>NaN</td>\n",
       "      <td>NaN</td>\n",
       "      <td>NaN</td>\n",
       "      <td>NaN</td>\n",
       "      <td>NaN</td>\n",
       "      <td>NaN</td>\n",
       "      <td>NaN</td>\n",
       "      <td>NaN</td>\n",
       "      <td>ENSG00000203995</td>\n",
       "    </tr>\n",
       "    <tr>\n",
       "      <th>ZYG11B</th>\n",
       "      <td>ENSG00000162378</td>\n",
       "      <td>10655.0</td>\n",
       "      <td>1</td>\n",
       "      <td>ensembl_havana</td>\n",
       "      <td>gene</td>\n",
       "      <td>52726452.0</td>\n",
       "      <td>52827336.0</td>\n",
       "      <td>.</td>\n",
       "      <td>+</td>\n",
       "      <td>.</td>\n",
       "      <td>...</td>\n",
       "      <td>NaN</td>\n",
       "      <td>NaN</td>\n",
       "      <td>NaN</td>\n",
       "      <td>NaN</td>\n",
       "      <td>NaN</td>\n",
       "      <td>NaN</td>\n",
       "      <td>NaN</td>\n",
       "      <td>NaN</td>\n",
       "      <td>NaN</td>\n",
       "      <td>ENSG00000162378</td>\n",
       "    </tr>\n",
       "    <tr>\n",
       "      <th>ZYX</th>\n",
       "      <td>ENSG00000159840</td>\n",
       "      <td>10336.0</td>\n",
       "      <td>7</td>\n",
       "      <td>ensembl_havana</td>\n",
       "      <td>gene</td>\n",
       "      <td>143381294.0</td>\n",
       "      <td>143391111.0</td>\n",
       "      <td>.</td>\n",
       "      <td>+</td>\n",
       "      <td>.</td>\n",
       "      <td>...</td>\n",
       "      <td>NaN</td>\n",
       "      <td>NaN</td>\n",
       "      <td>NaN</td>\n",
       "      <td>NaN</td>\n",
       "      <td>NaN</td>\n",
       "      <td>NaN</td>\n",
       "      <td>NaN</td>\n",
       "      <td>NaN</td>\n",
       "      <td>NaN</td>\n",
       "      <td>ENSG00000159840</td>\n",
       "    </tr>\n",
       "    <tr>\n",
       "      <th>ZZEF1</th>\n",
       "      <td>ENSG00000074755</td>\n",
       "      <td>1277.0</td>\n",
       "      <td>17</td>\n",
       "      <td>ensembl_havana</td>\n",
       "      <td>gene</td>\n",
       "      <td>4004444.0</td>\n",
       "      <td>4143030.0</td>\n",
       "      <td>.</td>\n",
       "      <td>-</td>\n",
       "      <td>.</td>\n",
       "      <td>...</td>\n",
       "      <td>NaN</td>\n",
       "      <td>NaN</td>\n",
       "      <td>NaN</td>\n",
       "      <td>NaN</td>\n",
       "      <td>NaN</td>\n",
       "      <td>NaN</td>\n",
       "      <td>NaN</td>\n",
       "      <td>NaN</td>\n",
       "      <td>NaN</td>\n",
       "      <td>ENSG00000074755</td>\n",
       "    </tr>\n",
       "    <tr>\n",
       "      <th>ZZZ3</th>\n",
       "      <td>ENSG00000036549</td>\n",
       "      <td>533.0</td>\n",
       "      <td>1</td>\n",
       "      <td>ensembl_havana</td>\n",
       "      <td>gene</td>\n",
       "      <td>77562415.0</td>\n",
       "      <td>77683419.0</td>\n",
       "      <td>.</td>\n",
       "      <td>-</td>\n",
       "      <td>.</td>\n",
       "      <td>...</td>\n",
       "      <td>NaN</td>\n",
       "      <td>NaN</td>\n",
       "      <td>NaN</td>\n",
       "      <td>NaN</td>\n",
       "      <td>NaN</td>\n",
       "      <td>NaN</td>\n",
       "      <td>NaN</td>\n",
       "      <td>NaN</td>\n",
       "      <td>NaN</td>\n",
       "      <td>ENSG00000036549</td>\n",
       "    </tr>\n",
       "  </tbody>\n",
       "</table>\n",
       "<p>19393 rows × 27 columns</p>\n",
       "</div>"
      ],
      "text/plain": [
       "                   gene_id  token_id Chromosome          Source Feature  \\\n",
       "gene_name                                                                 \n",
       "A1BG       ENSG00000121410    5150.0         19  ensembl_havana    gene   \n",
       "A1CF       ENSG00000148584    9064.0         10  ensembl_havana    gene   \n",
       "A2M        ENSG00000175899   13826.0         12  ensembl_havana    gene   \n",
       "A2ML1      ENSG00000166535   11812.0         12  ensembl_havana    gene   \n",
       "A3GALT2    ENSG00000184389   15327.0          1  ensembl_havana    gene   \n",
       "...                    ...       ...        ...             ...     ...   \n",
       "ZYG11A     ENSG00000203995   17515.0          1  ensembl_havana    gene   \n",
       "ZYG11B     ENSG00000162378   10655.0          1  ensembl_havana    gene   \n",
       "ZYX        ENSG00000159840   10336.0          7  ensembl_havana    gene   \n",
       "ZZEF1      ENSG00000074755    1277.0         17  ensembl_havana    gene   \n",
       "ZZZ3       ENSG00000036549     533.0          1  ensembl_havana    gene   \n",
       "\n",
       "                 Start          End Score Strand Frame  ...  \\\n",
       "gene_name                                               ...   \n",
       "A1BG        58345177.0   58353492.0     .      -     .  ...   \n",
       "A1CF        50799408.0   50885675.0     .      -     .  ...   \n",
       "A2M          9067663.0    9116229.0     .      -     .  ...   \n",
       "A2ML1        8822620.0    8887001.0     .      +     .  ...   \n",
       "A3GALT2     33306765.0   33321098.0     .      -     .  ...   \n",
       "...                ...          ...   ...    ...   ...  ...   \n",
       "ZYG11A      52842510.0   52894998.0     .      +     .  ...   \n",
       "ZYG11B      52726452.0   52827336.0     .      +     .  ...   \n",
       "ZYX        143381294.0  143391111.0     .      +     .  ...   \n",
       "ZZEF1        4004444.0    4143030.0     .      -     .  ...   \n",
       "ZZZ3        77562415.0   77683419.0     .      -     .  ...   \n",
       "\n",
       "           transcript_biotype tag ccds_id  exon_number  exon_id  exon_version  \\\n",
       "gene_name                                                                       \n",
       "A1BG                      NaN NaN     NaN          NaN      NaN           NaN   \n",
       "A1CF                      NaN NaN     NaN          NaN      NaN           NaN   \n",
       "A2M                       NaN NaN     NaN          NaN      NaN           NaN   \n",
       "A2ML1                     NaN NaN     NaN          NaN      NaN           NaN   \n",
       "A3GALT2                   NaN NaN     NaN          NaN      NaN           NaN   \n",
       "...                       ...  ..     ...          ...      ...           ...   \n",
       "ZYG11A                    NaN NaN     NaN          NaN      NaN           NaN   \n",
       "ZYG11B                    NaN NaN     NaN          NaN      NaN           NaN   \n",
       "ZYX                       NaN NaN     NaN          NaN      NaN           NaN   \n",
       "ZZEF1                     NaN NaN     NaN          NaN      NaN           NaN   \n",
       "ZZZ3                      NaN NaN     NaN          NaN      NaN           NaN   \n",
       "\n",
       "           protein_id  protein_version  transcript_support_level  \\\n",
       "gene_name                                                          \n",
       "A1BG              NaN              NaN                       NaN   \n",
       "A1CF              NaN              NaN                       NaN   \n",
       "A2M               NaN              NaN                       NaN   \n",
       "A2ML1             NaN              NaN                       NaN   \n",
       "A3GALT2           NaN              NaN                       NaN   \n",
       "...               ...              ...                       ...   \n",
       "ZYG11A            NaN              NaN                       NaN   \n",
       "ZYG11B            NaN              NaN                       NaN   \n",
       "ZYX               NaN              NaN                       NaN   \n",
       "ZZEF1             NaN              NaN                       NaN   \n",
       "ZZZ3              NaN              NaN                       NaN   \n",
       "\n",
       "                ensembl_id  \n",
       "gene_name                   \n",
       "A1BG       ENSG00000121410  \n",
       "A1CF       ENSG00000148584  \n",
       "A2M        ENSG00000175899  \n",
       "A2ML1      ENSG00000166535  \n",
       "A3GALT2    ENSG00000184389  \n",
       "...                    ...  \n",
       "ZYG11A     ENSG00000203995  \n",
       "ZYG11B     ENSG00000162378  \n",
       "ZYX        ENSG00000159840  \n",
       "ZZEF1      ENSG00000074755  \n",
       "ZZZ3       ENSG00000036549  \n",
       "\n",
       "[19393 rows x 27 columns]"
      ]
     },
     "execution_count": 50,
     "metadata": {},
     "output_type": "execute_result"
    }
   ],
   "source": [
    "ad.var"
   ]
  },
  {
   "cell_type": "code",
   "execution_count": 30,
   "id": "7d6eb063-ed9a-482b-a8ff-03a852cac3ec",
   "metadata": {},
   "outputs": [
    {
     "data": {
      "text/plain": [
       "data_id\n",
       "S1a    0.0\n",
       "S1b    0.0\n",
       "S2a    0.0\n",
       "S2b    0.0\n",
       "S3a    1.0\n",
       "S3b    1.0\n",
       "S4a    2.0\n",
       "S4b    2.0\n",
       "S5a    3.0\n",
       "S5b    3.0\n",
       "S6a    4.0\n",
       "S6b    4.0\n",
       "S7a    5.0\n",
       "S7b    5.0\n",
       "S8a    6.0\n",
       "S8b    6.0\n",
       "S9a    7.0\n",
       "S9b    7.0\n",
       "Name: timepoint, dtype: float64"
      ]
     },
     "execution_count": 30,
     "metadata": {},
     "output_type": "execute_result"
    }
   ],
   "source": [
    "ad.obs['timepoint']"
   ]
  },
  {
   "cell_type": "markdown",
   "id": "67272b83-0a0b-4383-a101-00b8052eed9b",
   "metadata": {},
   "source": [
    "# Scratch"
   ]
  },
  {
   "cell_type": "code",
   "execution_count": 58,
   "id": "d9bc1c72-01c1-44c0-b7ed-27ade4217c7d",
   "metadata": {},
   "outputs": [],
   "source": [
    "import pickle\n",
    "\n",
    "# Specify the path to the pickle file\n",
    "pickle_file_path = '/home/jpic/BRAD/2024-06-30_17-53-04/S1-2018.pkl'\n",
    "\n",
    "# Load the pickle file\n",
    "with open(pickle_file_path, 'rb') as file:\n",
    "    data = pickle.load(file)\n",
    "\n"
   ]
  },
  {
   "cell_type": "code",
   "execution_count": 59,
   "id": "378b2358-45b2-476a-93b5-722687bb2abc",
   "metadata": {},
   "outputs": [
    {
     "data": {
      "text/plain": [
       "(19393, 16, 3)"
      ]
     },
     "execution_count": 59,
     "metadata": {},
     "output_type": "execute_result"
    }
   ],
   "source": [
    "data['X'].shape"
   ]
  },
  {
   "cell_type": "code",
   "execution_count": 63,
   "id": "8f48c68b-51a1-4243-8135-103a20069b2e",
   "metadata": {},
   "outputs": [],
   "source": [
    "import sys\n",
    "sys.path.append('/home/jpic/BRAD-Tools')\n",
    "from classes import model # LinearTimeInvariant"
   ]
  },
  {
   "cell_type": "code",
   "execution_count": 64,
   "id": "c93e3614-a128-4c3a-a5d9-f1630b7ccfb7",
   "metadata": {},
   "outputs": [],
   "source": [
    "import pickle\n",
    "\n",
    "# Specify the path to the pickle file\n",
    "pickle_file_path = '/home/jpic/BRAD-Tools/test.pkl'\n",
    "\n",
    "# Load the pickle file\n",
    "with open(pickle_file_path, 'rb') as file:\n",
    "    data = pickle.load(file)\n",
    "\n"
   ]
  },
  {
   "cell_type": "code",
   "execution_count": 70,
   "id": "4aec1dd5-d1fb-4102-a8c8-71fe7ec04c2d",
   "metadata": {},
   "outputs": [
    {
     "data": {
      "text/plain": [
       "(19393, 19393)"
      ]
     },
     "execution_count": 70,
     "metadata": {},
     "output_type": "execute_result"
    }
   ],
   "source": [
    "data.f['A'].shape"
   ]
  }
 ],
 "metadata": {
  "kernelspec": {
   "display_name": "Python 3 (ipykernel)",
   "language": "python",
   "name": "python3"
  },
  "language_info": {
   "codemirror_mode": {
    "name": "ipython",
    "version": 3
   },
   "file_extension": ".py",
   "mimetype": "text/x-python",
   "name": "python",
   "nbconvert_exporter": "python",
   "pygments_lexer": "ipython3",
   "version": "3.11.7"
  }
 },
 "nbformat": 4,
 "nbformat_minor": 5
}
