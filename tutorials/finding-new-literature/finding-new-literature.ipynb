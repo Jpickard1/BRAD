{
 "cells": [
  {
   "cell_type": "markdown",
   "id": "1ff30a42-5d1b-418c-990a-2d2889f7b627",
   "metadata": {},
   "source": [
    "# Finding New Literature with BRAD"
   ]
  },
  {
   "cell_type": "markdown",
   "id": "84c7b1b5-cb53-41fd-88b1-9d6b2fa20a2b",
   "metadata": {},
   "source": [
    "# Online Resources"
   ]
  },
  {
   "cell_type": "markdown",
   "id": "488ac5fe-ca6f-4fa4-9c7f-dd7258cc9d18",
   "metadata": {},
   "source": [
    "Users can find new research papers on arXiv, bioRxiv and Pubmed. There are two main ways to do this.\n",
    "1. Submit a query that insinuates BRAD to search for papers\n",
    "2. Use the `/force /scrape` command at the beginning of your query\n",
    "BRAD uses a smaller language model to determine which keywords and resource to search.\n",
    "If propmt"
   ]
  },
  {
   "cell_type": "markdown",
   "id": "210c4fbc-c57b-4226-a480-1ce5dd35a79c",
   "metadata": {},
   "source": [
    "## arXiv"
   ]
  },
  {
   "cell_type": "markdown",
   "id": "1c9b4ce8-aeb5-43c8-b9bc-e68ffefdc760",
   "metadata": {},
   "source": [
    "tbh idk if we need something for these in particular"
   ]
  },
  {
   "cell_type": "markdown",
   "id": "b3157242-b566-41b6-974c-ba676d7cf19d",
   "metadata": {},
   "source": [
    "## bioRxiv"
   ]
  },
  {
   "cell_type": "markdown",
   "id": "baeca2cd-cfbd-4450-b134-a507d59c3f52",
   "metadata": {},
   "source": [
    "## PubMed"
   ]
  },
  {
   "cell_type": "markdown",
   "id": "6da6b01d-3afa-4393-bff2-d12b226cd165",
   "metadata": {},
   "source": [
    "# Chat with BRAD"
   ]
  },
  {
   "cell_type": "raw",
   "id": "6e85622e-e658-4dec-9179-d9169e205277",
   "metadata": {},
   "source": [
    "find me the latest research regarding bifurcation control of gradient dynamical systems on manifolds\n",
    "find PubMeds most recent work on "
   ]
  },
  {
   "cell_type": "code",
   "execution_count": null,
   "id": "c2a7069b-450d-4d74-9b93-eb7aee040e14",
   "metadata": {},
   "outputs": [
    {
     "name": "stdout",
     "output_type": "stream",
     "text": [
      "\n",
      "Would you like to use a database with BRAD [Y/N]?\n"
     ]
    },
    {
     "name": "stdin",
     "output_type": "stream",
     "text": [
      " N\n"
     ]
    },
    {
     "name": "stderr",
     "output_type": "stream",
     "text": [
      "\u001b[32m2024-07-07 20:50:57 INFO semantic_router.utils.logger local\u001b[0m\n"
     ]
    },
    {
     "name": "stdout",
     "output_type": "stream",
     "text": [
      "Welcome to RAG! The chat log from this conversation will be saved to /home/jpic/BRAD/2024-07-07_20-50-47/log.json. How can I help?\n",
      "==================================================\n"
     ]
    },
    {
     "name": "stdin",
     "output_type": "stream",
     "text": [
      "Input >>  find me the latest research regarding bifurcation control of gradient dynamical systems on manifolds\n"
     ]
    },
    {
     "name": "stderr",
     "output_type": "stream",
     "text": [
      "2024-07-07 20:51:45,613 - INFO - SCRAPE\n"
     ]
    },
    {
     "name": "stdout",
     "output_type": "stream",
     "text": [
      "==================================================\n",
      "BRAD >> 0: \n",
      "\n",
      "\n",
      "\u001b[1m> Entering new ConversationChain chain...\u001b[0m\n",
      "Prompt after formatting:\n",
      "\u001b[32;1m\u001b[1;3mCurrent conversation:\n",
      "\n",
      "    \n",
      "    Query:find me the latest research regarding bifurcation control of gradient dynamical systems on manifolds\n",
      "    \n",
      "    From the query, decide if ARXIV, PUBMED, or BIORXIV should be searched, and propose no more than 10 search terms for this query and database. Separate each term with a comma, and provide no extra information/explination for either the database or search terms. Format your output as follows with no additions:\n",
      "    \n",
      "    Database: <ARXIV, PUBMED, or BIORXIV>\n",
      "    Search Terms: <improved search terms>\n",
      "    \u001b[0m\n"
     ]
    },
    {
     "name": "stderr",
     "output_type": "stream",
     "text": [
      "2024-07-07 20:51:50,260 - INFO - searching on ARXIV...\n",
      "2024-07-07 20:51:50,261 - INFO - Search Terms: ['bifurcation control', 'gradient dynamical systems', 'manifolds', 'recent research', 'latest results', 'stability analysis', 'nonlinear systems', 'control theory', 'optimization', 'differential equations.']\n",
      "2024-07-07 20:51:50,263 - INFO - Error occurred while searching on ARXIV: name 'chatstatus' is not defined\n",
      "2024-07-07 20:51:50,265 - INFO - \n",
      "\n",
      "\n",
      "route\n",
      "\n",
      "\n",
      "\n",
      "2024-07-07 20:51:50,266 - INFO - SCRAPE\n",
      "2024-07-07 20:51:50,267 - INFO - \n",
      "\n",
      "PLANNER:\n",
      "\n",
      "{'module': 'SCRAPE', 'steps': [{'llm': '', 'memory': \"chat_memory=InMemoryChatMessageHistory(messages=[HumanMessage(content='find me the latest research regarding bifurcation control of gradient dynamical systems on manifolds'), AIMessage(content=' Database: ARXIV\\\\nSearch Terms: bifurcation control, gradient dynamical systems, manifolds, recent research, latest results, stability analysis, nonlinear systems, control theory, optimization, differential equations.')]) ai_prefix='BRAD'\", 'prompt': \"input_variables=['history', 'input'] template='Current conversation:\\\\n{history}\\\\n    \\\\n    Query:{input}\\\\n    \\\\n    From the query, decide if ARXIV, PUBMED, or BIORXIV should be searched, and propose no more than 10 search terms for this query and database. Separate each term with a comma, and provide no extra information/explination for either the database or search terms. Format your output as follows with no additions:\\\\n    \\\\n    Database: <ARXIV, PUBMED, or BIORXIV>\\\\n    Search Terms: <improved search terms>\\\\n    '\", 'input': 'find me the latest research regarding bifurcation control of gradient dynamical systems on manifolds', 'output': ' Database: ARXIV\\nSearch Terms: bifurcation control, gradient dynamical systems, manifolds, recent research, latest results, stability analysis, nonlinear systems, control theory, optimization, differential equations.', 'parsedOutput': {'database': 'ARXIV', 'search_terms': ['bifurcation control', 'gradient dynamical systems', 'manifolds', 'recent research', 'latest results', 'stability analysis', 'nonlinear systems', 'control theory', 'optimization', 'differential equations.']}, 'purpose': 'identify how to web scrape'}, {'searched': 'ERROR'}]}\n"
     ]
    },
    {
     "name": "stdout",
     "output_type": "stream",
     "text": [
      "\n",
      "\u001b[1m> Finished chain.\u001b[0m\n",
      "searching the following on arxiv: bifurcation control\n",
      "==================================================\n"
     ]
    }
   ],
   "source": [
    "from BRAD import brad\n",
    "brad.chat()"
   ]
  },
  {
   "cell_type": "code",
   "execution_count": null,
   "id": "f2d41d33-c770-4f89-81d4-73e3cf3d787c",
   "metadata": {},
   "outputs": [],
   "source": []
  },
  {
   "cell_type": "code",
   "execution_count": null,
   "id": "22dba8b4-ffd1-4139-b244-ff899e55280b",
   "metadata": {},
   "outputs": [],
   "source": []
  },
  {
   "cell_type": "code",
   "execution_count": null,
   "id": "5044a573-24c0-48e8-9632-ee9fe9488ec7",
   "metadata": {},
   "outputs": [
    {
     "name": "stderr",
     "output_type": "stream",
     "text": [
      "[nltk_data] Downloading package words to /home/jpic/nltk_data...\n",
      "[nltk_data]   Package words is already up-to-date!\n",
      "[nltk_data] Downloading package wordnet to /home/jpic/nltk_data...\n",
      "[nltk_data]   Package wordnet is already up-to-date!\n",
      "[nltk_data] Downloading package omw-1.4 to /home/jpic/nltk_data...\n",
      "[nltk_data]   Package omw-1.4 is already up-to-date!\n"
     ]
    },
    {
     "name": "stdout",
     "output_type": "stream",
     "text": [
      "Welcome to RAG! The chat log from this conversation will be saved to ~/BRAD/2024-06-06-09:56:42.745056.json. How can I help?\n"
     ]
    },
    {
     "name": "stdin",
     "output_type": "stream",
     "text": [
      "Enter your NVIDIA API key:  ········\n"
     ]
    },
    {
     "name": "stdout",
     "output_type": "stream",
     "text": [
      "\n",
      "Would you like to use a database with BRAD [Y/N]?\n"
     ]
    },
    {
     "name": "stdin",
     "output_type": "stream",
     "text": [
      " N\n"
     ]
    },
    {
     "name": "stderr",
     "output_type": "stream",
     "text": [
      "Thu Jun  6 09:56:50 2024 INFO local\n"
     ]
    },
    {
     "name": "stdout",
     "output_type": "stream",
     "text": [
      "==================================================\n"
     ]
    },
    {
     "name": "stdin",
     "output_type": "stream",
     "text": [
      "Input >>  find me the latest research regarding bifurcation control of gradient dynamical systems on manifolds\n"
     ]
    },
    {
     "name": "stderr",
     "output_type": "stream",
     "text": [
      "Thu Jun  6 09:57:12 2024 INFO SCRAPE\n"
     ]
    },
    {
     "name": "stdout",
     "output_type": "stream",
     "text": [
      "==================================================\n",
      "RAG >> 1: \n",
      "\n",
      "\u001b[1m> Entering new ConversationChain chain...\u001b[0m\n",
      "Prompt after formatting:\n",
      "\u001b[32;1m\u001b[1;3mCurrent conversation:\n",
      "\n",
      "    \n",
      "    Query:find me the latest research regarding bifurcation control of gradient dynamical systems on manifolds\n",
      "    \n",
      "    From the query, decide if ARXIV, PUBMED, or BIORXIV should be searched, and propose no more than 10 words for this query and database.\n",
      "    \n",
      "    Database: <ARXIV, PUBMED, or BIORXIV>\n",
      "    Search Terms: <improved search terms>\n",
      "    \u001b[0m\n",
      "\n",
      "\u001b[1m> Finished chain.\u001b[0m\n",
      "searching on ARXIV...\n",
      "Search Terms: Bifurcation control Gradient dynamical systems Manifolds Latest research\n",
      "searching the following on arxiv: Bifurcation control Gradient dynamical systems Manifolds Latest research\n",
      "https://arxiv.org/search/?searchtype=all&query=Bifurcation+control+Gradient+dynamical+systems+Manifolds+Latest+research&abstracts=show&size=50&order=\n",
      "Directory '/home/jpic/RAG-DEV/tutorials/finding-new-literature/arxiv' created successfully\n",
      "Error occurred while searching on ARXIV: \"None of [Index(['Title', 'Authors', 'Abstract'], dtype='object')] are in the [columns]\"\n",
      "==================================================\n"
     ]
    },
    {
     "name": "stdin",
     "output_type": "stream",
     "text": [
      "Input >>  find me bioRxiv's latest work on cellular reprogramming for mice\n"
     ]
    },
    {
     "name": "stderr",
     "output_type": "stream",
     "text": [
      "Thu Jun  6 10:35:06 2024 INFO SCRAPE\n"
     ]
    },
    {
     "name": "stdout",
     "output_type": "stream",
     "text": [
      "==================================================\n",
      "RAG >> 2: \n",
      "\n",
      "\u001b[1m> Entering new ConversationChain chain...\u001b[0m\n",
      "Prompt after formatting:\n",
      "\u001b[32;1m\u001b[1;3mCurrent conversation:\n",
      "Human: find me the latest research regarding bifurcation control of gradient dynamical systems on manifolds\n",
      "BRAD:  Database: ARXIV\n",
      "Search Terms: Bifurcation control, Gradient dynamical systems, Manifolds, Latest research\n",
      "    \n",
      "    Query:find me bioRxiv's latest work on cellular reprogramming for mice\n",
      "    \n",
      "    From the query, decide if ARXIV, PUBMED, or BIORXIV should be searched, and propose no more than 10 words for this query and database.\n",
      "    \n",
      "    Database: <ARXIV, PUBMED, or BIORXIV>\n",
      "    Search Terms: <improved search terms>\n",
      "    \u001b[0m\n",
      "\n",
      "\u001b[1m> Finished chain.\u001b[0m\n",
      "searching on ARXIV...\n",
      "Search Terms: Cellular reprogramming Mice Latest research ARXIV:pre-prints\n",
      "searching the following on arxiv: Cellular reprogramming Mice Latest research ARXIV:pre-prints\n",
      "https://arxiv.org/search/?searchtype=all&query=Cellular+reprogramming+Mice+Latest+research+ARXIV:pre-prints&abstracts=show&size=50&order=\n",
      "Directory '/home/jpic/RAG-DEV/tutorials/finding-new-literature/arxiv' created successfully\n",
      "Error occurred while searching on ARXIV: \"None of [Index(['Title', 'Authors', 'Abstract'], dtype='object')] are in the [columns]\"\n",
      "==================================================\n"
     ]
    }
   ],
   "source": [
    "from BRAD import brad\n",
    "brad.chat()"
   ]
  },
  {
   "cell_type": "code",
   "execution_count": 2,
   "id": "a8af2006-9fcb-45f6-a296-7f63dcefa227",
   "metadata": {},
   "outputs": [
    {
     "name": "stdout",
     "output_type": "stream",
     "text": [
      "Welcome to RAG! The chat log from this conversation will be saved to ~/BRAD/2024-06-06-00:28:06.079879.json. How can I help?\n",
      "\n",
      "Would you like to use a database with BRAD [Y/N]?\n"
     ]
    },
    {
     "name": "stdin",
     "output_type": "stream",
     "text": [
      " N\n"
     ]
    },
    {
     "name": "stderr",
     "output_type": "stream",
     "text": [
      "Thu Jun  6 00:28:08 2024 INFO local\n"
     ]
    },
    {
     "name": "stdout",
     "output_type": "stream",
     "text": [
      "==================================================\n"
     ]
    },
    {
     "name": "stdin",
     "output_type": "stream",
     "text": [
      "Input >>  find the latest work on bifurcation control online\n"
     ]
    },
    {
     "name": "stderr",
     "output_type": "stream",
     "text": [
      "Thu Jun  6 00:28:33 2024 INFO SCRAPE\n"
     ]
    },
    {
     "name": "stdout",
     "output_type": "stream",
     "text": [
      "==================================================\n",
      "RAG >> 1: "
     ]
    },
    {
     "ename": "KeyError",
     "evalue": "'debug'",
     "output_type": "error",
     "traceback": [
      "\u001b[0;31m---------------------------------------------------------------------------\u001b[0m",
      "\u001b[0;31mKeyError\u001b[0m                                  Traceback (most recent call last)",
      "Cell \u001b[0;32mIn[2], line 1\u001b[0m\n\u001b[0;32m----> 1\u001b[0m \u001b[43mbrad\u001b[49m\u001b[38;5;241;43m.\u001b[39;49m\u001b[43mchat\u001b[49m\u001b[43m(\u001b[49m\u001b[43m)\u001b[49m\n",
      "File \u001b[0;32m~/RAG-DEV/BRAD/brad.py:507\u001b[0m, in \u001b[0;36mchat\u001b[0;34m(model_path, persist_directory, llm, ragvectordb, embeddings_model)\u001b[0m\n\u001b[1;32m    504\u001b[0m module \u001b[38;5;241m=\u001b[39m module_functions[routeName]\n\u001b[1;32m    506\u001b[0m \u001b[38;5;66;03m# Query database\u001b[39;00m\n\u001b[0;32m--> 507\u001b[0m chatstatus \u001b[38;5;241m=\u001b[39m \u001b[43mmodule\u001b[49m\u001b[43m(\u001b[49m\u001b[43mchatstatus\u001b[49m\u001b[43m)\u001b[49m\n\u001b[1;32m    509\u001b[0m \u001b[38;5;66;03m# Log and reset these values\u001b[39;00m\n\u001b[1;32m    510\u001b[0m chatlog, chatstatus \u001b[38;5;241m=\u001b[39m logger(chatlog, chatstatus, chatname)\n",
      "File \u001b[0;32m~/RAG-DEV/BRAD/scraper.py:54\u001b[0m, in \u001b[0;36mwebScraping\u001b[0;34m(chatstatus)\u001b[0m\n\u001b[1;32m     42\u001b[0m template \u001b[38;5;241m=\u001b[39m \u001b[38;5;124m\"\"\"\u001b[39m\u001b[38;5;124mCurrent conversation:\u001b[39m\u001b[38;5;130;01m\\n\u001b[39;00m\u001b[38;5;132;01m{history}\u001b[39;00m\n\u001b[1;32m     43\u001b[0m \u001b[38;5;124m\u001b[39m\n\u001b[1;32m     44\u001b[0m \u001b[38;5;124mQuery:\u001b[39m\u001b[38;5;132;01m{input}\u001b[39;00m\n\u001b[0;32m   (...)\u001b[0m\n\u001b[1;32m     49\u001b[0m \u001b[38;5;124mSearch Terms: <improved search terms>\u001b[39m\n\u001b[1;32m     50\u001b[0m \u001b[38;5;124m\u001b[39m\u001b[38;5;124m\"\"\"\u001b[39m\n\u001b[1;32m     51\u001b[0m PROMPT \u001b[38;5;241m=\u001b[39m PromptTemplate(input_variables\u001b[38;5;241m=\u001b[39m[\u001b[38;5;124m\"\u001b[39m\u001b[38;5;124mhistory\u001b[39m\u001b[38;5;124m\"\u001b[39m, \u001b[38;5;124m\"\u001b[39m\u001b[38;5;124minput\u001b[39m\u001b[38;5;124m\"\u001b[39m], template\u001b[38;5;241m=\u001b[39mtemplate)\n\u001b[1;32m     52\u001b[0m conversation \u001b[38;5;241m=\u001b[39m ConversationChain(prompt  \u001b[38;5;241m=\u001b[39m PROMPT,\n\u001b[1;32m     53\u001b[0m                                  llm     \u001b[38;5;241m=\u001b[39m llm,\n\u001b[0;32m---> 54\u001b[0m                                  verbose \u001b[38;5;241m=\u001b[39m \u001b[43mchatstatus\u001b[49m\u001b[43m[\u001b[49m\u001b[38;5;124;43m'\u001b[39;49m\u001b[38;5;124;43mdebug\u001b[39;49m\u001b[38;5;124;43m'\u001b[39;49m\u001b[43m]\u001b[49m,\n\u001b[1;32m     55\u001b[0m                                  memory  \u001b[38;5;241m=\u001b[39m memory,\n\u001b[1;32m     56\u001b[0m                                 )\n\u001b[1;32m     57\u001b[0m response \u001b[38;5;241m=\u001b[39m conversation\u001b[38;5;241m.\u001b[39mpredict(\u001b[38;5;28minput\u001b[39m\u001b[38;5;241m=\u001b[39mquery)\n\u001b[1;32m     58\u001b[0m llmResponse \u001b[38;5;241m=\u001b[39m parse_llm_response(response)\n",
      "\u001b[0;31mKeyError\u001b[0m: 'debug'"
     ]
    }
   ],
   "source": [
    "brad.chat()"
   ]
  }
 ],
 "metadata": {
  "kernelspec": {
   "display_name": "Python 3 (ipykernel)",
   "language": "python",
   "name": "python3"
  },
  "language_info": {
   "codemirror_mode": {
    "name": "ipython",
    "version": 3
   },
   "file_extension": ".py",
   "mimetype": "text/x-python",
   "name": "python",
   "nbconvert_exporter": "python",
   "pygments_lexer": "ipython3",
   "version": "3.11.7"
  }
 },
 "nbformat": 4,
 "nbformat_minor": 5
}
