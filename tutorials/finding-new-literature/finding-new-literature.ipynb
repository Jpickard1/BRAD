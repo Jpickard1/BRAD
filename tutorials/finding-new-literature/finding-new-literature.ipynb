{
 "cells": [
  {
   "cell_type": "markdown",
   "id": "1ff30a42-5d1b-418c-990a-2d2889f7b627",
   "metadata": {},
   "source": [
    "# Finding New Literature with BRAD"
   ]
  },
  {
   "cell_type": "markdown",
   "id": "84c7b1b5-cb53-41fd-88b1-9d6b2fa20a2b",
   "metadata": {},
   "source": [
    "# Online Resources"
   ]
  },
  {
   "cell_type": "markdown",
   "id": "210c4fbc-c57b-4226-a480-1ce5dd35a79c",
   "metadata": {},
   "source": [
    "## arXiv"
   ]
  },
  {
   "cell_type": "markdown",
   "id": "b3157242-b566-41b6-974c-ba676d7cf19d",
   "metadata": {},
   "source": [
    "## bioRxiv"
   ]
  },
  {
   "cell_type": "markdown",
   "id": "baeca2cd-cfbd-4450-b134-a507d59c3f52",
   "metadata": {},
   "source": [
    "## PubMed"
   ]
  },
  {
   "cell_type": "markdown",
   "id": "6da6b01d-3afa-4393-bff2-d12b226cd165",
   "metadata": {},
   "source": [
    "# Chat with BRAD"
   ]
  }
 ],
 "metadata": {
  "kernelspec": {
   "display_name": "Python 3 (ipykernel)",
   "language": "python",
   "name": "python3"
  },
  "language_info": {
   "codemirror_mode": {
    "name": "ipython",
    "version": 3
   },
   "file_extension": ".py",
   "mimetype": "text/x-python",
   "name": "python",
   "nbconvert_exporter": "python",
   "pygments_lexer": "ipython3",
   "version": "3.11.7"
  }
 },
 "nbformat": 4,
 "nbformat_minor": 5
}
