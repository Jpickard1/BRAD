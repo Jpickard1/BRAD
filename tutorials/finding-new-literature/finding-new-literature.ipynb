{
 "cells": [
  {
   "cell_type": "markdown",
   "id": "1ff30a42-5d1b-418c-990a-2d2889f7b627",
   "metadata": {},
   "source": [
    "# Finding New Literature with BRAD"
   ]
  },
  {
   "cell_type": "markdown",
   "id": "84c7b1b5-cb53-41fd-88b1-9d6b2fa20a2b",
   "metadata": {},
   "source": [
    "# Online Resources"
   ]
  },
  {
   "cell_type": "markdown",
   "id": "210c4fbc-c57b-4226-a480-1ce5dd35a79c",
   "metadata": {},
   "source": [
    "## arXiv"
   ]
  },
  {
   "cell_type": "markdown",
   "id": "b3157242-b566-41b6-974c-ba676d7cf19d",
   "metadata": {},
   "source": [
    "## bioRxiv"
   ]
  },
  {
   "cell_type": "markdown",
   "id": "baeca2cd-cfbd-4450-b134-a507d59c3f52",
   "metadata": {},
   "source": [
    "## PubMed"
   ]
  },
  {
   "cell_type": "markdown",
   "id": "6da6b01d-3afa-4393-bff2-d12b226cd165",
   "metadata": {},
   "source": [
    "# Chat with BRAD"
   ]
  },
  {
   "cell_type": "code",
   "execution_count": null,
   "id": "c2a7069b-450d-4d74-9b93-eb7aee040e14",
   "metadata": {},
   "outputs": [
    {
     "name": "stderr",
     "output_type": "stream",
     "text": [
      "[nltk_data] Downloading package words to /home/jpic/nltk_data...\n",
      "[nltk_data]   Package words is already up-to-date!\n",
      "[nltk_data] Downloading package wordnet to /home/jpic/nltk_data...\n",
      "[nltk_data]   Package wordnet is already up-to-date!\n",
      "[nltk_data] Downloading package omw-1.4 to /home/jpic/nltk_data...\n",
      "[nltk_data]   Package omw-1.4 is already up-to-date!\n"
     ]
    },
    {
     "name": "stdout",
     "output_type": "stream",
     "text": [
      "Welcome to RAG! The chat log from this conversation will be saved to ~/BRAD/2024-06-06-10:44:24.041872.json. How can I help?\n"
     ]
    },
    {
     "name": "stdin",
     "output_type": "stream",
     "text": [
      "Enter your NVIDIA API key:  ········\n"
     ]
    },
    {
     "name": "stdout",
     "output_type": "stream",
     "text": [
      "\n",
      "Would you like to use a database with BRAD [Y/N]?\n"
     ]
    },
    {
     "name": "stdin",
     "output_type": "stream",
     "text": [
      " N\n"
     ]
    },
    {
     "name": "stderr",
     "output_type": "stream",
     "text": [
      "Thu Jun  6 10:44:31 2024 INFO local\n"
     ]
    },
    {
     "name": "stdout",
     "output_type": "stream",
     "text": [
      "==================================================\n"
     ]
    },
    {
     "name": "stdin",
     "output_type": "stream",
     "text": [
      "Input >>  find me the latest research regarding bifurcation control of gradient dynamical systems on manifolds\n"
     ]
    },
    {
     "name": "stderr",
     "output_type": "stream",
     "text": [
      "Thu Jun  6 10:44:38 2024 INFO SCRAPE\n"
     ]
    },
    {
     "name": "stdout",
     "output_type": "stream",
     "text": [
      "==================================================\n",
      "RAG >> 1: \n",
      "\n",
      "\u001b[1m> Entering new ConversationChain chain...\u001b[0m\n",
      "Prompt after formatting:\n",
      "\u001b[32;1m\u001b[1;3mCurrent conversation:\n",
      "\n",
      "    \n",
      "    Query:find me the latest research regarding bifurcation control of gradient dynamical systems on manifolds\n",
      "    \n",
      "    From the query, decide if ARXIV, PUBMED, or BIORXIV should be searched, and propose no more than 10 search terms for this query and database. Separate each term with a comma, and provide no extra information/explination for either the database or search terms. Format your output as follows with no additions:\n",
      "    \n",
      "    Database: <ARXIV, PUBMED, or BIORXIV>\n",
      "    Search Terms: <improved search terms>\n",
      "    \u001b[0m\n",
      "\n",
      "\u001b[1m> Finished chain.\u001b[0m\n",
      "searching on ARXIV...\n",
      "Search Terms: ['bifurcation control', 'gradient dynamical systems', 'manifolds', 'nonlinear systems', 'stability analysis', 'bifurcation theory', 'singular value decomposition', 'optimization methods', 'numerical methods', 'bifurcation analysis.']\n",
      "searching the following on arxiv: bifurcation control\n",
      "https://arxiv.org/search/?searchtype=all&query=bifurcation+control&abstracts=show&size=50&order=\n",
      "Directory '/home/jpic/RAG-DEV/tutorials/finding-new-literature/arxiv' created successfully\n"
     ]
    },
    {
     "data": {
      "text/html": [
       "<div>\n",
       "<style scoped>\n",
       "    .dataframe tbody tr th:only-of-type {\n",
       "        vertical-align: middle;\n",
       "    }\n",
       "\n",
       "    .dataframe tbody tr th {\n",
       "        vertical-align: top;\n",
       "    }\n",
       "\n",
       "    .dataframe thead th {\n",
       "        text-align: right;\n",
       "    }\n",
       "</style>\n",
       "<table border=\"1\" class=\"dataframe\">\n",
       "  <thead>\n",
       "    <tr style=\"text-align: right;\">\n",
       "      <th></th>\n",
       "      <th>Title</th>\n",
       "      <th>Authors</th>\n",
       "      <th>Abstract</th>\n",
       "    </tr>\n",
       "  </thead>\n",
       "  <tbody>\n",
       "    <tr>\n",
       "      <th>0</th>\n",
       "      <td>Estimates on the domain of validity for Lyapun...</td>\n",
       "      <td>Pranav Gupta,Anastasia Bizyaeva,Ravi Banavar</td>\n",
       "      <td>Lyapunov-Schmidt reduction is a dimensionality...</td>\n",
       "    </tr>\n",
       "    <tr>\n",
       "      <th>1</th>\n",
       "      <td>ControllingColloidal Flow through a Microfluid...</td>\n",
       "      <td>Alexander P. Antonov,Matthew Terkel,Fabian Jan...</td>\n",
       "      <td>Microscopic particles flowing through narrow c...</td>\n",
       "    </tr>\n",
       "    <tr>\n",
       "      <th>2</th>\n",
       "      <td>Colloidal bubble propulsion mediated through v...</td>\n",
       "      <td>Alexander Chamolly,Sébastien Michelin,Eric Lauga</td>\n",
       "      <td>Bubble-propelled catalytic colloids stand out ...</td>\n",
       "    </tr>\n",
       "    <tr>\n",
       "      <th>3</th>\n",
       "      <td>Topologicalbifurcationsin a mean-field game</td>\n",
       "      <td>Ali Akbar Rezaei Lori,Piyush Grover</td>\n",
       "      <td>…in time system of two coupled nonlinear parti...</td>\n",
       "    </tr>\n",
       "    <tr>\n",
       "      <th>4</th>\n",
       "      <td>BifurcationPatterns and ChaosControlin Discret...</td>\n",
       "      <td>M. Priyanka,P. Muthukumar</td>\n",
       "      <td>…point are analyzed, which represents the coex...</td>\n",
       "    </tr>\n",
       "    <tr>\n",
       "      <th>5</th>\n",
       "      <td>Bifurcationsin Latch-Mediated Spring Actuation...</td>\n",
       "      <td>Vittal Srinivasan,Nak-seung Patrick Hyun</td>\n",
       "      <td>…latch-based LaMSA mechanism. The authors answ...</td>\n",
       "    </tr>\n",
       "    <tr>\n",
       "      <th>6</th>\n",
       "      <td>Periodic forces combined with feedback induce ...</td>\n",
       "      <td>Yusuke Kato,Hiroshi Kori</td>\n",
       "      <td>…suggest that the entrainment to the periodic ...</td>\n",
       "    </tr>\n",
       "    <tr>\n",
       "      <th>7</th>\n",
       "      <td>Scenarios for the appearance of strange attrac...</td>\n",
       "      <td>Ivan Garashchuk,Alexey Kazakov,Dmitry Sinelshc...</td>\n",
       "      <td>…types of bubbles oscillations may be benefici...</td>\n",
       "    </tr>\n",
       "    <tr>\n",
       "      <th>8</th>\n",
       "      <td>Strategiccontrolfor a Boltzmann like decision-...</td>\n",
       "      <td>Luis Guillermo Venegas-Pineda,Hildeberto Jardó...</td>\n",
       "      <td>…resource, we use geometric singular perturbat...</td>\n",
       "    </tr>\n",
       "    <tr>\n",
       "      <th>9</th>\n",
       "      <td>Data-Driven Model Identification Near a Superc...</td>\n",
       "      <td>Dan Wilson</td>\n",
       "      <td>A data-driven model identification strategy is...</td>\n",
       "    </tr>\n",
       "  </tbody>\n",
       "</table>\n",
       "</div>"
      ],
      "text/plain": [
       "                                               Title  \\\n",
       "0  Estimates on the domain of validity for Lyapun...   \n",
       "1  ControllingColloidal Flow through a Microfluid...   \n",
       "2  Colloidal bubble propulsion mediated through v...   \n",
       "3        Topologicalbifurcationsin a mean-field game   \n",
       "4  BifurcationPatterns and ChaosControlin Discret...   \n",
       "5  Bifurcationsin Latch-Mediated Spring Actuation...   \n",
       "6  Periodic forces combined with feedback induce ...   \n",
       "7  Scenarios for the appearance of strange attrac...   \n",
       "8  Strategiccontrolfor a Boltzmann like decision-...   \n",
       "9  Data-Driven Model Identification Near a Superc...   \n",
       "\n",
       "                                             Authors  \\\n",
       "0       Pranav Gupta,Anastasia Bizyaeva,Ravi Banavar   \n",
       "1  Alexander P. Antonov,Matthew Terkel,Fabian Jan...   \n",
       "2   Alexander Chamolly,Sébastien Michelin,Eric Lauga   \n",
       "3                Ali Akbar Rezaei Lori,Piyush Grover   \n",
       "4                          M. Priyanka,P. Muthukumar   \n",
       "5           Vittal Srinivasan,Nak-seung Patrick Hyun   \n",
       "6                           Yusuke Kato,Hiroshi Kori   \n",
       "7  Ivan Garashchuk,Alexey Kazakov,Dmitry Sinelshc...   \n",
       "8  Luis Guillermo Venegas-Pineda,Hildeberto Jardó...   \n",
       "9                                         Dan Wilson   \n",
       "\n",
       "                                            Abstract  \n",
       "0  Lyapunov-Schmidt reduction is a dimensionality...  \n",
       "1  Microscopic particles flowing through narrow c...  \n",
       "2  Bubble-propelled catalytic colloids stand out ...  \n",
       "3  …in time system of two coupled nonlinear parti...  \n",
       "4  …point are analyzed, which represents the coex...  \n",
       "5  …latch-based LaMSA mechanism. The authors answ...  \n",
       "6  …suggest that the entrainment to the periodic ...  \n",
       "7  …types of bubbles oscillations may be benefici...  \n",
       "8  …resource, we use geometric singular perturbat...  \n",
       "9  A data-driven model identification strategy is...  "
      ]
     },
     "metadata": {},
     "output_type": "display_data"
    },
    {
     "name": "stdout",
     "output_type": "stream",
     "text": [
      "would you like to download these articles [Y/N]?\n"
     ]
    },
    {
     "name": "stdin",
     "output_type": "stream",
     "text": [
      " Y\n"
     ]
    },
    {
     "name": "stdout",
     "output_type": "stream",
     "text": [
      "Error occurred while searching on ARXIV: name 'path' is not defined\n",
      "==================================================\n"
     ]
    },
    {
     "name": "stdin",
     "output_type": "stream",
     "text": [
      "Input >>  find me bioRxiv's latest work on cellular reprogramming for mice\n"
     ]
    },
    {
     "name": "stderr",
     "output_type": "stream",
     "text": [
      "Thu Jun  6 10:45:52 2024 INFO SCRAPE\n"
     ]
    },
    {
     "name": "stdout",
     "output_type": "stream",
     "text": [
      "==================================================\n",
      "RAG >> 2: \n",
      "\n",
      "\u001b[1m> Entering new ConversationChain chain...\u001b[0m\n",
      "Prompt after formatting:\n",
      "\u001b[32;1m\u001b[1;3mCurrent conversation:\n",
      "Human: find me the latest research regarding bifurcation control of gradient dynamical systems on manifolds\n",
      "BRAD:  Database: ARXIV\n",
      "Search Terms: bifurcation control, gradient dynamical systems, manifolds, nonlinear systems, stability analysis, bifurcation theory, singular value decomposition, optimization methods, numerical methods, bifurcation analysis.\n",
      "    \n",
      "    Query:find me bioRxiv's latest work on cellular reprogramming for mice\n",
      "    \n",
      "    From the query, decide if ARXIV, PUBMED, or BIORXIV should be searched, and propose no more than 10 search terms for this query and database. Separate each term with a comma, and provide no extra information/explination for either the database or search terms. Format your output as follows with no additions:\n",
      "    \n",
      "    Database: <ARXIV, PUBMED, or BIORXIV>\n",
      "    Search Terms: <improved search terms>\n",
      "    \u001b[0m\n",
      "\n",
      "\u001b[1m> Finished chain.\u001b[0m\n",
      "searching on BIORXIV...\n",
      "Search Terms: ['cellular reprogramming', 'mice', 'stem cells', 'differentiation', 'gene expression', 'CRISPR', 'epigenetics', 'transcription factors', 'developmental biology', 'regenerative medicine.']\n",
      "http://biorxiv.org/search/jcode%3Abiorxiv%20abstract_title%3Acellular reprogramming%20abstract_title_flags%3Amatch-all%20limit_from%3A2015-06-06%20limit_to%3A2024-06-06%20numresults%3A75%20format_result%3Acondensed%20sort%3Arelevance-rank\n",
      "Fetching search results 1 to 75...\n",
      "Max number of records (75) reached. Fetched in 7.1 seconds.\n",
      "Directory '/home/jpic/RAG-DEV/tutorials/finding-new-literature/specialized_docs' created successfully\n",
      "Downloading 75 PDFs to /home/jpic/RAG-DEV/tutorials/finding-new-literature/specialized_docs...\n",
      "Download complete.\n",
      "Total time to fetch and manipulate records was 218.9 seconds.\n",
      "http://biorxiv.org/search/jcode%3Abiorxiv%20abstract_title%3Amice%20abstract_title_flags%3Amatch-all%20limit_from%3A2015-06-06%20limit_to%3A2024-06-06%20numresults%3A75%20format_result%3Acondensed%20sort%3Arelevance-rank\n",
      "Fetching search results 1 to 75...\n",
      "Error occurred while searching on BIORXIV: invalid literal for int() with base 10: '21,506'\n",
      "==================================================\n"
     ]
    },
    {
     "name": "stdin",
     "output_type": "stream",
     "text": [
      "Input >>  find me PubMeds's latest work on cellular reprogramming for mice\n"
     ]
    },
    {
     "name": "stderr",
     "output_type": "stream",
     "text": [
      "Thu Jun  6 10:50:37 2024 INFO SCRAPE\n"
     ]
    },
    {
     "name": "stdout",
     "output_type": "stream",
     "text": [
      "==================================================\n",
      "RAG >> 3: \n",
      "\n",
      "\u001b[1m> Entering new ConversationChain chain...\u001b[0m\n",
      "Prompt after formatting:\n",
      "\u001b[32;1m\u001b[1;3mCurrent conversation:\n",
      "Human: find me the latest research regarding bifurcation control of gradient dynamical systems on manifolds\n",
      "BRAD:  Database: ARXIV\n",
      "Search Terms: bifurcation control, gradient dynamical systems, manifolds, nonlinear systems, stability analysis, bifurcation theory, singular value decomposition, optimization methods, numerical methods, bifurcation analysis.\n",
      "Human: find me bioRxiv's latest work on cellular reprogramming for mice\n",
      "BRAD:  Database: BIORXIV\n",
      "Search Terms: cellular reprogramming, mice, stem cells, differentiation, gene expression, CRISPR, epigenetics, transcription factors, developmental biology, regenerative medicine.\n",
      "    \n",
      "    Query:find me PubMeds's latest work on cellular reprogramming for mice\n",
      "    \n",
      "    From the query, decide if ARXIV, PUBMED, or BIORXIV should be searched, and propose no more than 10 search terms for this query and database. Separate each term with a comma, and provide no extra information/explination for either the database or search terms. Format your output as follows with no additions:\n",
      "    \n",
      "    Database: <ARXIV, PUBMED, or BIORXIV>\n",
      "    Search Terms: <improved search terms>\n",
      "    \u001b[0m\n",
      "\n",
      "\u001b[1m> Finished chain.\u001b[0m\n",
      "searching on PUBMED...\n",
      "Search Terms: ['cellular reprogramming', 'mice', 'stem cells', 'differentiation', 'gene expression', 'transcription factors', 'CRISPR', 'epigenetics', 'developmental biology', 'regenerative medicine.']\n",
      "Directory '/home/jpic/RAG-DEV/tutorials/finding-new-literature/specialized_docs' created successfully\n",
      "36383700 could not be gathered.\n",
      "pdf collection complete!\n",
      "Directory '/home/jpic/RAG-DEV/tutorials/finding-new-literature/specialized_docs' created successfully\n",
      "pdf collection complete!\n",
      "Directory '/home/jpic/RAG-DEV/tutorials/finding-new-literature/specialized_docs' created successfully\n",
      "pdf collection complete!\n",
      "Directory '/home/jpic/RAG-DEV/tutorials/finding-new-literature/specialized_docs' created successfully\n",
      "pdf collection complete!\n",
      "Directory '/home/jpic/RAG-DEV/tutorials/finding-new-literature/specialized_docs' created successfully\n",
      "pdf collection complete!\n",
      "Directory '/home/jpic/RAG-DEV/tutorials/finding-new-literature/specialized_docs' created successfully\n",
      "pdf collection complete!\n",
      "Directory '/home/jpic/RAG-DEV/tutorials/finding-new-literature/specialized_docs' created successfully\n",
      "pdf collection complete!\n",
      "Directory '/home/jpic/RAG-DEV/tutorials/finding-new-literature/specialized_docs' created successfully\n",
      "pdf collection complete!\n",
      "Directory '/home/jpic/RAG-DEV/tutorials/finding-new-literature/specialized_docs' created successfully\n",
      "34345912 could not be gathered.\n",
      "pdf collection complete!\n",
      "Directory '/home/jpic/RAG-DEV/tutorials/finding-new-literature/specialized_docs' created successfully\n",
      "Error occurred while searching on PUBMED: 'NoneType' object has no attribute 'attrs'\n",
      "==================================================\n"
     ]
    }
   ],
   "source": [
    "from BRAD import brad\n",
    "brad.chat()"
   ]
  },
  {
   "cell_type": "code",
   "execution_count": null,
   "id": "f2d41d33-c770-4f89-81d4-73e3cf3d787c",
   "metadata": {},
   "outputs": [],
   "source": []
  },
  {
   "cell_type": "code",
   "execution_count": null,
   "id": "22dba8b4-ffd1-4139-b244-ff899e55280b",
   "metadata": {},
   "outputs": [],
   "source": []
  },
  {
   "cell_type": "code",
   "execution_count": null,
   "id": "5044a573-24c0-48e8-9632-ee9fe9488ec7",
   "metadata": {},
   "outputs": [
    {
     "name": "stderr",
     "output_type": "stream",
     "text": [
      "[nltk_data] Downloading package words to /home/jpic/nltk_data...\n",
      "[nltk_data]   Package words is already up-to-date!\n",
      "[nltk_data] Downloading package wordnet to /home/jpic/nltk_data...\n",
      "[nltk_data]   Package wordnet is already up-to-date!\n",
      "[nltk_data] Downloading package omw-1.4 to /home/jpic/nltk_data...\n",
      "[nltk_data]   Package omw-1.4 is already up-to-date!\n"
     ]
    },
    {
     "name": "stdout",
     "output_type": "stream",
     "text": [
      "Welcome to RAG! The chat log from this conversation will be saved to ~/BRAD/2024-06-06-09:56:42.745056.json. How can I help?\n"
     ]
    },
    {
     "name": "stdin",
     "output_type": "stream",
     "text": [
      "Enter your NVIDIA API key:  ········\n"
     ]
    },
    {
     "name": "stdout",
     "output_type": "stream",
     "text": [
      "\n",
      "Would you like to use a database with BRAD [Y/N]?\n"
     ]
    },
    {
     "name": "stdin",
     "output_type": "stream",
     "text": [
      " N\n"
     ]
    },
    {
     "name": "stderr",
     "output_type": "stream",
     "text": [
      "Thu Jun  6 09:56:50 2024 INFO local\n"
     ]
    },
    {
     "name": "stdout",
     "output_type": "stream",
     "text": [
      "==================================================\n"
     ]
    },
    {
     "name": "stdin",
     "output_type": "stream",
     "text": [
      "Input >>  find me the latest research regarding bifurcation control of gradient dynamical systems on manifolds\n"
     ]
    },
    {
     "name": "stderr",
     "output_type": "stream",
     "text": [
      "Thu Jun  6 09:57:12 2024 INFO SCRAPE\n"
     ]
    },
    {
     "name": "stdout",
     "output_type": "stream",
     "text": [
      "==================================================\n",
      "RAG >> 1: \n",
      "\n",
      "\u001b[1m> Entering new ConversationChain chain...\u001b[0m\n",
      "Prompt after formatting:\n",
      "\u001b[32;1m\u001b[1;3mCurrent conversation:\n",
      "\n",
      "    \n",
      "    Query:find me the latest research regarding bifurcation control of gradient dynamical systems on manifolds\n",
      "    \n",
      "    From the query, decide if ARXIV, PUBMED, or BIORXIV should be searched, and propose no more than 10 words for this query and database.\n",
      "    \n",
      "    Database: <ARXIV, PUBMED, or BIORXIV>\n",
      "    Search Terms: <improved search terms>\n",
      "    \u001b[0m\n",
      "\n",
      "\u001b[1m> Finished chain.\u001b[0m\n",
      "searching on ARXIV...\n",
      "Search Terms: Bifurcation control Gradient dynamical systems Manifolds Latest research\n",
      "searching the following on arxiv: Bifurcation control Gradient dynamical systems Manifolds Latest research\n",
      "https://arxiv.org/search/?searchtype=all&query=Bifurcation+control+Gradient+dynamical+systems+Manifolds+Latest+research&abstracts=show&size=50&order=\n",
      "Directory '/home/jpic/RAG-DEV/tutorials/finding-new-literature/arxiv' created successfully\n",
      "Error occurred while searching on ARXIV: \"None of [Index(['Title', 'Authors', 'Abstract'], dtype='object')] are in the [columns]\"\n",
      "==================================================\n"
     ]
    },
    {
     "name": "stdin",
     "output_type": "stream",
     "text": [
      "Input >>  find me bioRxiv's latest work on cellular reprogramming for mice\n"
     ]
    },
    {
     "name": "stderr",
     "output_type": "stream",
     "text": [
      "Thu Jun  6 10:35:06 2024 INFO SCRAPE\n"
     ]
    },
    {
     "name": "stdout",
     "output_type": "stream",
     "text": [
      "==================================================\n",
      "RAG >> 2: \n",
      "\n",
      "\u001b[1m> Entering new ConversationChain chain...\u001b[0m\n",
      "Prompt after formatting:\n",
      "\u001b[32;1m\u001b[1;3mCurrent conversation:\n",
      "Human: find me the latest research regarding bifurcation control of gradient dynamical systems on manifolds\n",
      "BRAD:  Database: ARXIV\n",
      "Search Terms: Bifurcation control, Gradient dynamical systems, Manifolds, Latest research\n",
      "    \n",
      "    Query:find me bioRxiv's latest work on cellular reprogramming for mice\n",
      "    \n",
      "    From the query, decide if ARXIV, PUBMED, or BIORXIV should be searched, and propose no more than 10 words for this query and database.\n",
      "    \n",
      "    Database: <ARXIV, PUBMED, or BIORXIV>\n",
      "    Search Terms: <improved search terms>\n",
      "    \u001b[0m\n",
      "\n",
      "\u001b[1m> Finished chain.\u001b[0m\n",
      "searching on ARXIV...\n",
      "Search Terms: Cellular reprogramming Mice Latest research ARXIV:pre-prints\n",
      "searching the following on arxiv: Cellular reprogramming Mice Latest research ARXIV:pre-prints\n",
      "https://arxiv.org/search/?searchtype=all&query=Cellular+reprogramming+Mice+Latest+research+ARXIV:pre-prints&abstracts=show&size=50&order=\n",
      "Directory '/home/jpic/RAG-DEV/tutorials/finding-new-literature/arxiv' created successfully\n",
      "Error occurred while searching on ARXIV: \"None of [Index(['Title', 'Authors', 'Abstract'], dtype='object')] are in the [columns]\"\n",
      "==================================================\n"
     ]
    }
   ],
   "source": [
    "from BRAD import brad\n",
    "brad.chat()"
   ]
  },
  {
   "cell_type": "code",
   "execution_count": 2,
   "id": "a8af2006-9fcb-45f6-a296-7f63dcefa227",
   "metadata": {},
   "outputs": [
    {
     "name": "stdout",
     "output_type": "stream",
     "text": [
      "Welcome to RAG! The chat log from this conversation will be saved to ~/BRAD/2024-06-06-00:28:06.079879.json. How can I help?\n",
      "\n",
      "Would you like to use a database with BRAD [Y/N]?\n"
     ]
    },
    {
     "name": "stdin",
     "output_type": "stream",
     "text": [
      " N\n"
     ]
    },
    {
     "name": "stderr",
     "output_type": "stream",
     "text": [
      "Thu Jun  6 00:28:08 2024 INFO local\n"
     ]
    },
    {
     "name": "stdout",
     "output_type": "stream",
     "text": [
      "==================================================\n"
     ]
    },
    {
     "name": "stdin",
     "output_type": "stream",
     "text": [
      "Input >>  find the latest work on bifurcation control online\n"
     ]
    },
    {
     "name": "stderr",
     "output_type": "stream",
     "text": [
      "Thu Jun  6 00:28:33 2024 INFO SCRAPE\n"
     ]
    },
    {
     "name": "stdout",
     "output_type": "stream",
     "text": [
      "==================================================\n",
      "RAG >> 1: "
     ]
    },
    {
     "ename": "KeyError",
     "evalue": "'debug'",
     "output_type": "error",
     "traceback": [
      "\u001b[0;31m---------------------------------------------------------------------------\u001b[0m",
      "\u001b[0;31mKeyError\u001b[0m                                  Traceback (most recent call last)",
      "Cell \u001b[0;32mIn[2], line 1\u001b[0m\n\u001b[0;32m----> 1\u001b[0m \u001b[43mbrad\u001b[49m\u001b[38;5;241;43m.\u001b[39;49m\u001b[43mchat\u001b[49m\u001b[43m(\u001b[49m\u001b[43m)\u001b[49m\n",
      "File \u001b[0;32m~/RAG-DEV/BRAD/brad.py:507\u001b[0m, in \u001b[0;36mchat\u001b[0;34m(model_path, persist_directory, llm, ragvectordb, embeddings_model)\u001b[0m\n\u001b[1;32m    504\u001b[0m module \u001b[38;5;241m=\u001b[39m module_functions[routeName]\n\u001b[1;32m    506\u001b[0m \u001b[38;5;66;03m# Query database\u001b[39;00m\n\u001b[0;32m--> 507\u001b[0m chatstatus \u001b[38;5;241m=\u001b[39m \u001b[43mmodule\u001b[49m\u001b[43m(\u001b[49m\u001b[43mchatstatus\u001b[49m\u001b[43m)\u001b[49m\n\u001b[1;32m    509\u001b[0m \u001b[38;5;66;03m# Log and reset these values\u001b[39;00m\n\u001b[1;32m    510\u001b[0m chatlog, chatstatus \u001b[38;5;241m=\u001b[39m logger(chatlog, chatstatus, chatname)\n",
      "File \u001b[0;32m~/RAG-DEV/BRAD/scraper.py:54\u001b[0m, in \u001b[0;36mwebScraping\u001b[0;34m(chatstatus)\u001b[0m\n\u001b[1;32m     42\u001b[0m template \u001b[38;5;241m=\u001b[39m \u001b[38;5;124m\"\"\"\u001b[39m\u001b[38;5;124mCurrent conversation:\u001b[39m\u001b[38;5;130;01m\\n\u001b[39;00m\u001b[38;5;132;01m{history}\u001b[39;00m\n\u001b[1;32m     43\u001b[0m \u001b[38;5;124m\u001b[39m\n\u001b[1;32m     44\u001b[0m \u001b[38;5;124mQuery:\u001b[39m\u001b[38;5;132;01m{input}\u001b[39;00m\n\u001b[0;32m   (...)\u001b[0m\n\u001b[1;32m     49\u001b[0m \u001b[38;5;124mSearch Terms: <improved search terms>\u001b[39m\n\u001b[1;32m     50\u001b[0m \u001b[38;5;124m\u001b[39m\u001b[38;5;124m\"\"\"\u001b[39m\n\u001b[1;32m     51\u001b[0m PROMPT \u001b[38;5;241m=\u001b[39m PromptTemplate(input_variables\u001b[38;5;241m=\u001b[39m[\u001b[38;5;124m\"\u001b[39m\u001b[38;5;124mhistory\u001b[39m\u001b[38;5;124m\"\u001b[39m, \u001b[38;5;124m\"\u001b[39m\u001b[38;5;124minput\u001b[39m\u001b[38;5;124m\"\u001b[39m], template\u001b[38;5;241m=\u001b[39mtemplate)\n\u001b[1;32m     52\u001b[0m conversation \u001b[38;5;241m=\u001b[39m ConversationChain(prompt  \u001b[38;5;241m=\u001b[39m PROMPT,\n\u001b[1;32m     53\u001b[0m                                  llm     \u001b[38;5;241m=\u001b[39m llm,\n\u001b[0;32m---> 54\u001b[0m                                  verbose \u001b[38;5;241m=\u001b[39m \u001b[43mchatstatus\u001b[49m\u001b[43m[\u001b[49m\u001b[38;5;124;43m'\u001b[39;49m\u001b[38;5;124;43mdebug\u001b[39;49m\u001b[38;5;124;43m'\u001b[39;49m\u001b[43m]\u001b[49m,\n\u001b[1;32m     55\u001b[0m                                  memory  \u001b[38;5;241m=\u001b[39m memory,\n\u001b[1;32m     56\u001b[0m                                 )\n\u001b[1;32m     57\u001b[0m response \u001b[38;5;241m=\u001b[39m conversation\u001b[38;5;241m.\u001b[39mpredict(\u001b[38;5;28minput\u001b[39m\u001b[38;5;241m=\u001b[39mquery)\n\u001b[1;32m     58\u001b[0m llmResponse \u001b[38;5;241m=\u001b[39m parse_llm_response(response)\n",
      "\u001b[0;31mKeyError\u001b[0m: 'debug'"
     ]
    }
   ],
   "source": [
    "brad.chat()"
   ]
  }
 ],
 "metadata": {
  "kernelspec": {
   "display_name": "Python 3 (ipykernel)",
   "language": "python",
   "name": "python3"
  },
  "language_info": {
   "codemirror_mode": {
    "name": "ipython",
    "version": 3
   },
   "file_extension": ".py",
   "mimetype": "text/x-python",
   "name": "python",
   "nbconvert_exporter": "python",
   "pygments_lexer": "ipython3",
   "version": "3.11.7"
  }
 },
 "nbformat": 4,
 "nbformat_minor": 5
}
