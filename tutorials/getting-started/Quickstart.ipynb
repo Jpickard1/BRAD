{
 "cells": [
  {
   "cell_type": "markdown",
   "id": "0408d8b8-3aef-491e-9a17-babc6c6d9c33",
   "metadata": {},
   "source": [
    "# Getting Started with BRAD"
   ]
  },
  {
   "cell_type": "code",
   "execution_count": null,
   "id": "a497d4d2-95c9-4f2d-8521-bc8ff6d7ec3a",
   "metadata": {},
   "outputs": [],
   "source": [
    "# This documentaiton is both a jupyter notebook and part of the read the docs"
   ]
  },
  {
   "cell_type": "markdown",
   "id": "6df09a5f-6bae-41fd-869f-8457e3c5bd38",
   "metadata": {},
   "source": [
    "# Instillation"
   ]
  },
  {
   "cell_type": "markdown",
   "id": "701172af-b30e-47e5-a34f-0102ca5084aa",
   "metadata": {},
   "source": [
    "## PyPI and PIP"
   ]
  },
  {
   "cell_type": "code",
   "execution_count": null,
   "id": "e9c097c0-9ca5-4800-b17a-c88e2883175e",
   "metadata": {},
   "outputs": [],
   "source": [
    "# This needs to be filled in once we upload to PyPI"
   ]
  },
  {
   "cell_type": "markdown",
   "id": "d798084c-9f68-4914-ac37-b33129d1db56",
   "metadata": {},
   "source": [
    "## Local and Development Instillation\n",
    "\n",
    "To install the local version, you can download the code by cloning the [github repository here](https://github.com/Jpickard1/RAG-DEV/tree/main). In the main directory of the repository, you can install the codes locally using the command `pip install -e .`"
   ]
  },
  {
   "cell_type": "markdown",
   "id": "0abdfa00-de91-43d9-9289-cf6d4723bed7",
   "metadata": {},
   "source": [
    "# Chatting with BRAD"
   ]
  },
  {
   "cell_type": "code",
   "execution_count": 1,
   "id": "930d2e77-442b-4bea-a288-af4a5b266f03",
   "metadata": {},
   "outputs": [
    {
     "name": "stderr",
     "output_type": "stream",
     "text": [
      "[nltk_data] Downloading package words to /home/jpic/nltk_data...\n",
      "[nltk_data]   Package words is already up-to-date!\n",
      "[nltk_data] Downloading package wordnet to /home/jpic/nltk_data...\n",
      "[nltk_data]   Package wordnet is already up-to-date!\n",
      "[nltk_data] Downloading package omw-1.4 to /home/jpic/nltk_data...\n",
      "[nltk_data]   Package omw-1.4 is already up-to-date!\n"
     ]
    }
   ],
   "source": [
    "from BRAD import llms"
   ]
  },
  {
   "cell_type": "markdown",
   "id": "b05634d5-f7ad-42c6-bd57-ed6cf8f4b0d2",
   "metadata": {},
   "source": [
    "## Choosing your Large Language Model (LLM)"
   ]
  },
  {
   "cell_type": "markdown",
   "id": "e5bbde14-21b6-4ba9-942d-3ae05624d730",
   "metadata": {},
   "source": [
    "### Local LLMs\n",
    "\n",
    "The `load_llama` function is designed to load and initialize a Llama model with a specified set of parameters. This function is particularly useful for setting up a language model for various natural language processing tasks. Below, we provide a detailed explanation of how to use this function and the parameters it accepts.\n",
    "\n",
    "The `load_llama` function loads a pre-trained Llama model from a given file path, configures it with a specified context length, maximum number of tokens to generate, and verbosity settings. The function returns an instance of the `LlamaCpp` model, which can then be used for generating text or other NLP tasks."
   ]
  },
  {
   "cell_type": "code",
   "execution_count": null,
   "id": "b61d48bb-f41c-4a2c-8c78-5b50ec66e24d",
   "metadata": {},
   "outputs": [],
   "source": [
    "llm = llms.load_llama()"
   ]
  },
  {
   "cell_type": "markdown",
   "id": "5fca6611-ec64-4b3d-990d-4cac92646367",
   "metadata": {},
   "source": [
    "### NVIDIA LLMs\n",
    "\n",
    "The load_nvidia function is designed to load and initialize an NVIDIA model with a specified set of parameters. This function is particularly useful for setting up a language model for various natural language processing tasks, leveraging NVIDIA's powerful AI capabilities. Below, we provide a detailed explanation of how to use this function and the parameters it accepts.\n",
    "\n",
    "The load_nvidia function loads a pre-trained NVIDIA model using the provided model name and API key. If the API key is not supplied as an argument, the function will prompt the user to input it securely. The function ensures that the API key is valid and initializes an instance of the ChatNVIDIA model, which can then be used for generating text or other NLP tasks.\n",
    "\n",
    "You can look to [NVIDIA's Website](https://build.nvidia.com/explore/discover) for a list of available models."
   ]
  },
  {
   "cell_type": "code",
   "execution_count": 2,
   "id": "663c10a8-85e0-4c73-9a7c-19bf01854769",
   "metadata": {},
   "outputs": [
    {
     "name": "stdin",
     "output_type": "stream",
     "text": [
      "Enter your NVIDIA API key:  ········\n"
     ]
    },
    {
     "name": "stderr",
     "output_type": "stream",
     "text": [
      "/home/jpic/.local/lib/python3.11/site-packages/langchain_nvidia_ai_endpoints/_statics.py:313: UserWarning: Model mistral_7b is deprecated. Using mistralai/mistral-7b-instruct-v0.2 instead.\n",
      "  warnings.warn(\n"
     ]
    }
   ],
   "source": [
    "llm = llms.load_nvidia()"
   ]
  },
  {
   "cell_type": "markdown",
   "id": "c6c1f53b-e3a1-48a5-bdb7-babaa0ac2bcf",
   "metadata": {},
   "source": [
    "## Running BRAD"
   ]
  },
  {
   "cell_type": "code",
   "execution_count": 3,
   "id": "42424e60-5900-4998-9283-84be3745ffc0",
   "metadata": {},
   "outputs": [],
   "source": [
    "from BRAD import brad"
   ]
  },
  {
   "cell_type": "code",
   "execution_count": null,
   "id": "c364aea9-3bff-4119-91f2-c102e6700e04",
   "metadata": {},
   "outputs": [
    {
     "name": "stderr",
     "output_type": "stream",
     "text": [
      "Tue Jun  4 17:01:18 2024 INFO Use pytorch device_name: cpu\n",
      "Tue Jun  4 17:01:18 2024 INFO Load pretrained SentenceTransformer: BAAI/bge-base-en-v1.5\n"
     ]
    },
    {
     "name": "stdout",
     "output_type": "stream",
     "text": [
      "Welcome to RAG! The chat log from this conversation will be saved to ~/BRAD/2024-06-04-17:01:18.328931.json. How can I help?\n"
     ]
    },
    {
     "name": "stderr",
     "output_type": "stream",
     "text": [
      "/home/jpic/.local/lib/python3.11/site-packages/huggingface_hub/file_download.py:1132: FutureWarning: `resume_download` is deprecated and will be removed in version 1.0.0. Downloads always resume when possible. If you want to force a new download, use `force_download=True`.\n",
      "  warnings.warn(\n",
      "Tue Jun  4 17:01:19 2024 INFO Anonymized telemetry enabled. See                     https://docs.trychroma.com/telemetry for more information.\n",
      "Tue Jun  4 17:01:20 2024 INFO Collection DB_cosine_cSize_700_cOver_200 is not created.\n",
      "Tue Jun  4 17:01:21 2024 INFO local\n"
     ]
    },
    {
     "name": "stdout",
     "output_type": "stream",
     "text": [
      "==================================================\n"
     ]
    }
   ],
   "source": [
    "brad.chat(llm=llm)"
   ]
  },
  {
   "cell_type": "code",
   "execution_count": 8,
   "id": "02e7a60e-f41c-439b-a80b-a9b64312075e",
   "metadata": {},
   "outputs": [
    {
     "data": {
      "text/plain": [
       "ChatNVIDIA(model='mistralai/mistral-7b-instruct-v0.2')"
      ]
     },
     "execution_count": 8,
     "metadata": {},
     "output_type": "execute_result"
    }
   ],
   "source": [
    "llm"
   ]
  },
  {
   "cell_type": "markdown",
   "id": "de8f265c-aa61-4c30-a3fc-aba98ed6ecc6",
   "metadata": {},
   "source": [
    "# Anatomy of BRAD\n",
    "- help, force, set, configs, logs, modules"
   ]
  },
  {
   "cell_type": "markdown",
   "id": "a5bcbb43-502f-4306-98d1-849bcb729229",
   "metadata": {},
   "source": [
    "## Helpful Prompts"
   ]
  },
  {
   "cell_type": "markdown",
   "id": "139759b0-2cdb-4b67-aec9-2e5bc568a588",
   "metadata": {},
   "source": [
    "## Configurations"
   ]
  }
 ],
 "metadata": {
  "kernelspec": {
   "display_name": "Python 3 (ipykernel)",
   "language": "python",
   "name": "python3"
  },
  "language_info": {
   "codemirror_mode": {
    "name": "ipython",
    "version": 3
   },
   "file_extension": ".py",
   "mimetype": "text/x-python",
   "name": "python",
   "nbconvert_exporter": "python",
   "pygments_lexer": "ipython3",
   "version": "3.11.7"
  }
 },
 "nbformat": 4,
 "nbformat_minor": 5
}
