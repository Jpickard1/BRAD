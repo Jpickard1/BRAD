{
 "cells": [
  {
   "cell_type": "markdown",
   "id": "0408d8b8-3aef-491e-9a17-babc6c6d9c33",
   "metadata": {},
   "source": [
    "# Getting Started with BRAD"
   ]
  },
  {
   "cell_type": "code",
   "execution_count": null,
   "id": "a497d4d2-95c9-4f2d-8521-bc8ff6d7ec3a",
   "metadata": {},
   "outputs": [],
   "source": [
    "# This documentaiton is both a jupyter notebook and part of the read the docs"
   ]
  },
  {
   "cell_type": "markdown",
   "id": "6df09a5f-6bae-41fd-869f-8457e3c5bd38",
   "metadata": {},
   "source": [
    "# Instillation"
   ]
  },
  {
   "cell_type": "markdown",
   "id": "701172af-b30e-47e5-a34f-0102ca5084aa",
   "metadata": {},
   "source": [
    "## PyPI and PIP"
   ]
  },
  {
   "cell_type": "markdown",
   "id": "d798084c-9f68-4914-ac37-b33129d1db56",
   "metadata": {},
   "source": [
    "## Local Instillation"
   ]
  },
  {
   "cell_type": "markdown",
   "id": "f3b19525-1c2c-40e9-bc6e-2baec19bc450",
   "metadata": {},
   "source": [
    "## Add to Path"
   ]
  },
  {
   "cell_type": "markdown",
   "id": "0abdfa00-de91-43d9-9289-cf6d4723bed7",
   "metadata": {},
   "source": [
    "# Chatting with BRAD"
   ]
  },
  {
   "cell_type": "markdown",
   "id": "b05634d5-f7ad-42c6-bd57-ed6cf8f4b0d2",
   "metadata": {},
   "source": [
    "## Choosing your Large Language Model (LLM)"
   ]
  },
  {
   "cell_type": "markdown",
   "id": "e5bbde14-21b6-4ba9-942d-3ae05624d730",
   "metadata": {},
   "source": [
    "### Local LLMs"
   ]
  },
  {
   "cell_type": "markdown",
   "id": "5fca6611-ec64-4b3d-990d-4cac92646367",
   "metadata": {},
   "source": [
    "### NVIDIA LLMs"
   ]
  },
  {
   "cell_type": "markdown",
   "id": "c6c1f53b-e3a1-48a5-bdb7-babaa0ac2bcf",
   "metadata": {},
   "source": [
    "## Running BRAD"
   ]
  },
  {
   "cell_type": "markdown",
   "id": "de8f265c-aa61-4c30-a3fc-aba98ed6ecc6",
   "metadata": {},
   "source": [
    "# Anatomy of BRAD\n",
    "- help, force, set, configs, logs, modules"
   ]
  },
  {
   "cell_type": "markdown",
   "id": "a5bcbb43-502f-4306-98d1-849bcb729229",
   "metadata": {},
   "source": [
    "## Helpful Prompts"
   ]
  },
  {
   "cell_type": "markdown",
   "id": "139759b0-2cdb-4b67-aec9-2e5bc568a588",
   "metadata": {},
   "source": [
    "## Configurations"
   ]
  }
 ],
 "metadata": {
  "kernelspec": {
   "display_name": "Python 3 (ipykernel)",
   "language": "python",
   "name": "python3"
  },
  "language_info": {
   "codemirror_mode": {
    "name": "ipython",
    "version": 3
   },
   "file_extension": ".py",
   "mimetype": "text/x-python",
   "name": "python",
   "nbconvert_exporter": "python",
   "pygments_lexer": "ipython3",
   "version": "3.11.7"
  }
 },
 "nbformat": 4,
 "nbformat_minor": 5
}
