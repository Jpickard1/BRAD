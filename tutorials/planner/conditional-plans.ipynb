{
 "cells": [
  {
   "cell_type": "markdown",
   "id": "be9e7bd4-f5cc-41e9-a0f8-158170b4322b",
   "metadata": {},
   "source": [
    "# Conditional Plans"
   ]
  },
  {
   "cell_type": "code",
   "execution_count": 1,
   "id": "d74bb5b4-f36f-47f7-a0d4-170b49c88a4b",
   "metadata": {},
   "outputs": [
    {
     "name": "stderr",
     "output_type": "stream",
     "text": [
      "/home/jpic/.local/lib/python3.11/site-packages/huggingface_hub/file_download.py:1132: FutureWarning: `resume_download` is deprecated and will be removed in version 1.0.0. Downloads always resume when possible. If you want to force a new download, use `force_download=True`.\n",
      "  warnings.warn(\n"
     ]
    }
   ],
   "source": [
    "from BRAD import brad\n",
    "from langchain.embeddings import HuggingFaceEmbeddings\n",
    "from langchain.vectorstores import Chroma\n",
    "import chromadb\n",
    "import logging\n",
    "# Load the database\n",
    "persist_directory = '/nfs/turbo/umms-indikar/shared/projects/RAG/databases/DigitalLibrary-10-June-2024/'\n",
    "embeddings_model = HuggingFaceEmbeddings(model_name='BAAI/bge-base-en-v1.5')\n",
    "db_name = \"DigitalLibrary\"\n",
    "_client_settings = chromadb.PersistentClient(path=(persist_directory + db_name))\n",
    "vectordb = Chroma(persist_directory=persist_directory, embedding_function=embeddings_model, client=_client_settings, collection_name=db_name)"
   ]
  },
  {
   "cell_type": "raw",
   "id": "d63476a7-a6e5-4bae-8ac6-982e7e89f475",
   "metadata": {},
   "source": [
    "/force PLANNER write an analysis pipeline to write a detailed summary of the role of MYOD in the cellular reprogramming. First, I want you to use the RAG and tell me how confident you are in your answer. Then, if you are not confident, I want you to webscrape articles related to MYOD, and perform RAG analysis again based upon these new articles. Continue doing this until you are confident in your RAG answer, and then write a report on what you learned. This should have the following steps: 1. RAG, 2. ROUTER, 3. SCRAPE 4. RAG, 5. WRITE. If Step 1 is confident, the ROUTER should indicate to proceed directly to step 5"
   ]
  },
  {
   "cell_type": "raw",
   "id": "f5eb6bd1-9f3c-4ea1-af6d-92b51d1f309b",
   "metadata": {},
   "source": [
    "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"
   ]
  },
  {
   "cell_type": "code",
   "execution_count": null,
   "id": "751eaa5b-0a16-4799-a41f-66b3632ebf12",
   "metadata": {},
   "outputs": [
    {
     "name": "stdout",
     "output_type": "stream",
     "text": [
      "Welcome to RAG! The chat log from this conversation will be saved to /home/jpic/BRAD/2024-06-25_16-28-46/log.json. How can I help?\n"
     ]
    },
    {
     "name": "stdin",
     "output_type": "stream",
     "text": [
      "Enter your NVIDIA API key:  ········\n"
     ]
    },
    {
     "name": "stderr",
     "output_type": "stream",
     "text": [
      "\u001b[32m2024-06-25 16:28:51 INFO semantic_router.utils.logger local\u001b[0m\n"
     ]
    },
    {
     "name": "stdout",
     "output_type": "stream",
     "text": [
      "==================================================\n"
     ]
    },
    {
     "name": "stdin",
     "output_type": "stream",
     "text": [
      "Input >>  /force PLANNER write a 3 step pipeline to 1. perform a lit search of PCNA with the RAG. Use a prompt such as, \"What role does PCNA play in the cell cycle and cell cycle imaging?\", then 2. run the hwg analysis pipeline to find first order interactions of PCNA loaded from step 2. Next, (3.) Load the output file of the hwg codes (step 2) and perform gene enrichment and identify the pathways PCNA is involved in with enrichr. Finally, write a small report summarizing each of these findings in Step 4\n"
     ]
    },
    {
     "name": "stderr",
     "output_type": "stream",
     "text": [
      "INFO:root:PLANNER\n"
     ]
    },
    {
     "name": "stdout",
     "output_type": "stream",
     "text": [
      "==================================================\n",
      "RAG >> 0: \n",
      "\n",
      "\u001b[1m> Entering new ConversationChain chain...\u001b[0m\n",
      "Prompt after formatting:\n",
      "\u001b[32;1m\u001b[1;3m**INSTRUCTIONS:**\n",
      "You are planning a bioinformatics analysis pipeline to address a user's query. Your task is to outline a multi-step workflow using the available methods listed below. Each method should be used appropriately to ensure a thorough analysis. For each step in the pipeline, explain the goal of the process as well as provide a prompt to the chatbot that will execute that step. If information is passed between stages, such as from literature or code to databases, indicate the dependencies of steps in the prompt.\n",
      "\n",
      "**Available Methods:**\n",
      "1. **RAG**: Look up literature and documents from a text database.\n",
      "2. **SCRAPE**: Search platforms like arXiv, bioRxiv, and PubMed for the latest research.\n",
      "3. **DATABASE**: Utilize bioinformatics databases such as Gene Ontology and Enrichr to perform gene set enrichment analyses.\n",
      "4. **CODE**: Execute bioinformatics pipelines. Utilize prebuilt pipelines or develop new ones as needed.\n",
      "5. **WRITE**: Synthesize and summarize information. This can include summarizing database searches, code pipeline results, or creating a final report to encapsulate the entire analysis.\n",
      "6. **ROUTER**: Determine which step we should proceed to next.\n",
      "\n",
      "Current conversation: \n",
      "\n",
      "\n",
      "User Query: write a 3 step pipeline to 1. perform a lit search of PCNA with the RAG. Use a prompt such as, \"What role does PCNA play in the cell cycle and cell cycle imaging?\", then 2. run the hwg analysis pipeline to find first order interactions of PCNA loaded from step 2. Next, (3.) Load the output file of the hwg codes (step 2) and perform gene enrichment and identify the pathways PCNA is involved in with enrichr. Finally, write a small report summarizing each of these findings in Step 4\n",
      "\n",
      "Plan:\n",
      "**Step 1 (method, eg. RAG)**:\n",
      "Prompt: [Description of action for chatbot to do Step 1, i.e. do X, Y, Z]\n",
      "\n",
      "**Step 2 (method, eg. CODE)**:\n",
      "Prompt: [Description of action for chatbot to do Step 2, i.e. do A, B, C. Use information from Step X]\n",
      "...\n",
      "\u001b[0m\n",
      "\n",
      "\u001b[1m> Finished chain.\u001b[0m\n",
      "Here is the planned pipeline:\n",
      "\n",
      "**Step 1 (RAG)**:\n",
      "Prompt: \"Use the RAG method to search the literature for the role of PCNA in the cell cycle and cell cycle imaging. Provide a brief summary of the key findings.\"\n",
      "\n",
      "**Step 2 (CODE)**:\n",
      "Prompt: \"Execute the HWG analysis pipeline to find first-order interactions of PCNA. Load the relevant information from Step 1, including the key findings on PCNA's role in the cell cycle and cell cycle imaging, to inform the analysis.\"\n",
      "\n",
      "**Step 3 (DATABASE)**:\n",
      "Prompt: \"Load the output file from the HWG analysis pipeline (Step 2) and perform gene enrichment analysis using Enrichr to identify the pathways PCNA is involved in. Use the gene interaction data from Step 2 as input for the enrichment analysis.\"\n",
      "\n",
      "**Step 4 (WRITE)**:\n",
      "Prompt: \"Synthesize and summarize the findings from Steps 1-3. Write a small report that outlines the role of PCNA in the cell cycle and cell cycle imaging (from Step 1), its first-order interactions (from Step 2), and the pathways it is involved in (from Step 3).\"\n",
      "\n",
      "Let me know if this meets your requirements!\n",
      "\n",
      "\n",
      "Do you want to proceed with this plan? [Y/N/edit]\n"
     ]
    },
    {
     "name": "stdin",
     "output_type": "stream",
     "text": [
      "Input >>  Y\n"
     ]
    },
    {
     "name": "stderr",
     "output_type": "stream",
     "text": [
      "INFO:root:exit planner\n",
      "INFO:root:\n",
      "\n",
      "\n",
      "route\n",
      "\n",
      "\n",
      "\n",
      "INFO:root:PLANNER\n",
      "INFO:root:\n",
      "\n",
      "PLANNER:\n",
      "\n",
      "{'module': 'PLANNER', 'steps': []}\n",
      "INFO:root:RAG\n"
     ]
    },
    {
     "name": "stdout",
     "output_type": "stream",
     "text": [
      "[{'order': 1, 'module': 'RAG', 'prompt': '/force RAG \"Use the RAG method to search the literature for the role of PCNA in the cell cycle and cell cycle imaging. Provide a brief summary of the key findings.\"', 'description': '1 (RAG)**:\\nPrompt: \"Use the RAG method to search the literature for the role of PCNA in the cell cycle and cell cycle imaging. Provide a brief summary of the key findings.\"\\n\\n'}, {'order': 2, 'module': 'CODE', 'prompt': '/force CODE \"Execute the HWG analysis pipeline to find first-order interactions of PCNA. Load the relevant information from Step 1, including the key findings on PCNA\\'s role in the cell cycle and cell cycle imaging, to inform the analysis.\"', 'description': '2 (CODE)**:\\nPrompt: \"Execute the HWG analysis pipeline to find first-order interactions of PCNA. Load the relevant information from Step 1, including the key findings on PCNA\\'s role in the cell cycle and cell cycle imaging, to inform the analysis.\"\\n\\n'}, {'order': 3, 'module': 'DATABASE', 'prompt': '/force DATABASE \"Load the output file from the HWG analysis pipeline (Step 2) and perform gene enrichment analysis using Enrichr to identify the pathways PCNA is involved in. Use the gene interaction data from Step 2 as input for the enrichment analysis.\"', 'description': '3 (DATABASE)**:\\nPrompt: \"Load the output file from the HWG analysis pipeline (Step 2) and perform gene enrichment analysis using Enrichr to identify the pathways PCNA is involved in. Use the gene interaction data from Step 2 as input for the enrichment analysis.\"\\n\\n'}, {'order': 4, 'module': 'WRITE', 'prompt': '/force WRITE \"Synthesize and summarize the findings from Steps 1-3. Write a small report that outlines the role of PCNA in the cell cycle and cell cycle imaging (from Step 1), its first-order interactions (from Step 2), and the pathways it is involved in (from Step 3).\"', 'description': '4 (WRITE)**:\\nPrompt: \"Synthesize and summarize the findings from Steps 1-3. Write a small report that outlines the role of PCNA in the cell cycle and cell cycle imaging (from Step 1), its first-order interactions (from Step 2), and the pathways it is involved in (from Step 3).\"\\n\\nLet me know if this meets your requirements!\\n\\n'}]\n",
      "DEBUG\n",
      "exit planner\n",
      "DEBUG\n",
      "\n",
      "\n",
      "\n",
      "route\n",
      "\n",
      "\n",
      "\n",
      "DEBUG\n",
      "PLANNER\n",
      "DEBUG\n",
      "\n",
      "\n",
      "PLANNER:\n",
      "\n",
      "{'module': 'PLANNER', 'steps': []}\n",
      "==================================================\n",
      "==================================================\n",
      "RAG >> 1: "
     ]
    }
   ],
   "source": [
    "logging.basicConfig(level=logging.INFO)\n",
    "brad.chat(ragvectordb = vectordb)"
   ]
  },
  {
   "cell_type": "code",
   "execution_count": null,
   "id": "0cdc4ab6-ffb4-4bc8-8cf8-9720503fed79",
   "metadata": {},
   "outputs": [],
   "source": []
  },
  {
   "cell_type": "code",
   "execution_count": null,
   "id": "2a30e0a0-4899-43f5-9970-ce29e1d358d1",
   "metadata": {},
   "outputs": [],
   "source": []
  },
  {
   "cell_type": "code",
   "execution_count": null,
   "id": "b24b1530-e48c-4246-8c96-be2d6bad8967",
   "metadata": {},
   "outputs": [],
   "source": []
  },
  {
   "cell_type": "code",
   "execution_count": null,
   "id": "5846c42d-c2eb-41d7-b64e-fb935319ccc2",
   "metadata": {},
   "outputs": [],
   "source": []
  },
  {
   "cell_type": "code",
   "execution_count": null,
   "id": "bf902eb7-793f-4b65-acea-1743877f6e13",
   "metadata": {},
   "outputs": [],
   "source": []
  },
  {
   "cell_type": "code",
   "execution_count": null,
   "id": "093d15ba-9037-4c92-84c9-17c692b6eed8",
   "metadata": {},
   "outputs": [],
   "source": []
  },
  {
   "cell_type": "raw",
   "id": "352fbd5d-6820-4d8c-af72-8cf1949b3003",
   "metadata": {},
   "source": [
    "/force PLANNER write a 3 step pipeline to 1. perform a lit search of PCNA with the RAG. Use a prompt such as, \"What role does PCNA play in the cell cycle and cell cycle imaging?\", then 2. run the hwg analysis pipeline to find first order interactions of PCNA loaded from step 2. Next, (3.) Load the output file of the hwg codes (step 2) and perform gene enrichment and identify the pathways PCNA is involved in with enrichr. Finally, write a small report summarizing each of these findings in Step 4"
   ]
  },
  {
   "cell_type": "raw",
   "id": "80c79a49-4319-468a-9751-ce410385feb3",
   "metadata": {},
   "source": [
    "/force PLANNER perform an analysis pipeline to find the first order interactions of PCNA in the hardwird genome. if there are at least 100 interactions from step 1, then, I want you to do gene enrichment with ENRICHR and then use the RAG. If there are fewer than 100 first order interactions, only use the RAG."
   ]
  }
 ],
 "metadata": {
  "kernelspec": {
   "display_name": "Python 3 (ipykernel)",
   "language": "python",
   "name": "python3"
  },
  "language_info": {
   "codemirror_mode": {
    "name": "ipython",
    "version": 3
   },
   "file_extension": ".py",
   "mimetype": "text/x-python",
   "name": "python",
   "nbconvert_exporter": "python",
   "pygments_lexer": "ipython3",
   "version": "3.11.7"
  }
 },
 "nbformat": 4,
 "nbformat_minor": 5
}
