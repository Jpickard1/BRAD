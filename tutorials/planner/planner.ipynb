{
 "cells": [
  {
   "cell_type": "markdown",
   "id": "b5645027-5ee8-4a54-8062-f9858dad8864",
   "metadata": {},
   "source": [
    "# Planning Larger Analysis"
   ]
  },
  {
   "cell_type": "code",
   "execution_count": 1,
   "id": "f7cb860d-0647-4dd4-a35b-931a580a9c61",
   "metadata": {},
   "outputs": [],
   "source": [
    "from BRAD import brad"
   ]
  },
  {
   "cell_type": "code",
   "execution_count": 2,
   "id": "0333a24d-e684-46f3-8d56-eba58f4231be",
   "metadata": {},
   "outputs": [],
   "source": [
    "import subprocess\n",
    "import os\n",
    "from langchain.document_loaders import DirectoryLoader\n",
    "from langchain.document_loaders import UnstructuredPDFLoader\n",
    "from langchain.vectorstores import Chroma\n",
    "from langchain.embeddings import HuggingFaceEmbeddings\n",
    "import chromadb\n",
    "from langchain_community.document_loaders import PyPDFLoader\n",
    "from langchain_text_splitters import RecursiveCharacterTextSplitter\n",
    "from langchain import PromptTemplate, LLMChain\n",
    "from langchain.memory import ConversationBufferMemory\n",
    "from langchain.chains import ConversationChain"
   ]
  },
  {
   "cell_type": "code",
   "execution_count": 3,
   "id": "a9adf57d-c10b-4abe-82b0-33a2cac0b4b1",
   "metadata": {},
   "outputs": [
    {
     "name": "stderr",
     "output_type": "stream",
     "text": [
      "Thu 20 Jun 2024 11:19:32 AM EDT INFO PyTorch version 2.0.1 available.\n",
      "Thu 20 Jun 2024 11:19:32 AM EDT INFO Use pytorch device_name: cpu\n",
      "Thu 20 Jun 2024 11:19:32 AM EDT INFO Load pretrained SentenceTransformer: BAAI/bge-base-en-v1.5\n",
      "/home/jpic/.local/lib/python3.11/site-packages/huggingface_hub/file_download.py:1132: FutureWarning: `resume_download` is deprecated and will be removed in version 1.0.0. Downloads always resume when possible. If you want to force a new download, use `force_download=True`.\n",
      "  warnings.warn(\n",
      "Thu 20 Jun 2024 11:19:34 AM EDT INFO Anonymized telemetry enabled. See                     https://docs.trychroma.com/telemetry for more information.\n",
      "Thu 20 Jun 2024 11:19:34 AM EDT INFO Collection DigitalLibrary is not created.\n"
     ]
    }
   ],
   "source": [
    "# Load the database\n",
    "persist_directory = '/nfs/turbo/umms-indikar/shared/projects/RAG/databases/DigitalLibrary-10-June-2024/'\n",
    "embeddings_model = HuggingFaceEmbeddings(model_name='BAAI/bge-base-en-v1.5')\n",
    "db_name = \"DigitalLibrary\"\n",
    "_client_settings = chromadb.PersistentClient(path=(persist_directory + db_name))\n",
    "vectordb = Chroma(persist_directory=persist_directory, embedding_function=embeddings_model, client=_client_settings, collection_name=db_name)"
   ]
  },
  {
   "cell_type": "raw",
   "id": "b6fabbd9-02f2-4a24-87a9-b09e5ebb69a3",
   "metadata": {},
   "source": [
    "/force PLANNER write a 3 step pipeline to 1. perform a lit search of MYOD with the RAG. Use a prompt such as, \"What role does MYOD play in cellular reprogramming and differentiation?\", then 2. run the hwg analysis pipeline to find first order interactions of MYOD. 3. use the output of the hwg codes to perform gene enrichment and identify the pathways MYOD is involved in. Finally, write a small report summarizing each of these findings"
   ]
  },
  {
   "cell_type": "raw",
   "id": "08374f60-0486-4a55-8c7e-738c9da9ed8a",
   "metadata": {},
   "source": [
    "/force PLANNER write a 3 step pipeline to 1. perform a lit search of PCNA with the RAG. Use a prompt such as, \"What role does PCNA play in the cell cycle and cell cycle imaging?\", then 2. run the hwg analysis pipeline to find first order interactions of PCNA. 3. use the output of the hwg codes to perform gene enrichment and identify the pathways PCNA is involved in. Finally, write a small report summarizing each of these findings"
   ]
  },
  {
   "cell_type": "raw",
   "id": "482c3d2b-16b2-41dd-9027-31ef21221da0",
   "metadata": {},
   "source": [
    "/force PLANNER write a 3 step pipeline to 1. perform a lit search of PCNA with the RAG. Use a prompt such as, \"What role does PCNA play in the cell cycle and cell cycle imaging?\", then 2. run the hwg analysis pipeline to find first order interactions of PCNA loaded from step 2. Next, (3.) Load the output file of the hwg codes (step 2) and perform gene enrichment and identify the pathways PCNA is involved in with enrichr. Finally, write a small report summarizing each of these findings in Step 4"
   ]
  },
  {
   "cell_type": "code",
   "execution_count": null,
   "id": "c1d9608e-39da-4584-bd70-dfceb81f6772",
   "metadata": {},
   "outputs": [
    {
     "name": "stdout",
     "output_type": "stream",
     "text": [
      "Welcome to RAG! The chat log from this conversation will be saved to /home/jpic/BRAD/2024-06-20_11-26-20/log.json. How can I help?\n"
     ]
    },
    {
     "name": "stderr",
     "output_type": "stream",
     "text": [
      "Thu 20 Jun 2024 11:26:20 AM EDT INFO local\n"
     ]
    },
    {
     "name": "stdout",
     "output_type": "stream",
     "text": [
      "==================================================\n"
     ]
    },
    {
     "name": "stdin",
     "output_type": "stream",
     "text": [
      "Input >>  /force PLANNER write a 3 step pipeline to 1. perform a lit search of PCNA with the RAG. Use a prompt such as, \"What role does PCNA play in the cell cycle and cell cycle imaging?\", then 2. run the hwg analysis pipeline to find first order interactions of PCNA loaded from step 2. Next, (3.) Load the output file of the hwg codes (step 2) and perform gene enrichment and identify the pathways PCNA is involved in with enrichr. Finally, write a small report summarizing each of these findings in Step 4\n"
     ]
    },
    {
     "name": "stderr",
     "output_type": "stream",
     "text": [
      "Thu 20 Jun 2024 11:26:31 AM EDT INFO PLANNER\n"
     ]
    },
    {
     "name": "stdout",
     "output_type": "stream",
     "text": [
      "==================================================\n",
      "RAG >> 1: \n",
      "\n",
      "\u001b[1m> Entering new ConversationChain chain...\u001b[0m\n",
      "Prompt after formatting:\n",
      "\u001b[32;1m\u001b[1;3m**INSTRUCTIONS:**\n",
      "You are planning a bioinformatics analysis pipeline to address a user's query. Your task is to outline a multi-step workflow using the available methods listed below. Each method should be used appropriately to ensure a thorough analysis. For each step in the pipeline, explain the goal of the process as well as provide a prompt to the chatbot that will execute that step. If information is passed between stages, such as from literature or code to databases, indicate the dependencies of steps in the prompt.\n",
      "\n",
      "**Available Methods:**\n",
      "1. **Retrieval Augmented Generation**(RAG): Look up literature and documents from a text database.\n",
      "2. **Web Search for New Literature**(SCRAPE): Search platforms like arXiv, bioRxiv, and PubMed for the latest research.\n",
      "3. **Bioinformatics Databases**(DATABASE): Utilize databases such as Gene Ontology and Enrichr to perform gene set enrichment analyses.\n",
      "4. **Run Codes**(CODE): Execute bioinformatics pipelines. Utilize prebuilt pipelines or develop new ones as needed.\n",
      "5. **Write a Report**(WRITE): Synthesize and summarize information. This can include summarizing database searches, code pipeline results, or creating a final report to encapsulate the entire analysis.\n",
      "\n",
      "Current conversation: \n",
      "\n",
      "\n",
      "User Query: write a 3 step pipeline to 1. perform a lit search of PCNA with the RAG. Use a prompt such as, \"What role does PCNA play in the cell cycle and cell cycle imaging?\", then 2. run the hwg analysis pipeline to find first order interactions of PCNA loaded from step 2. Next, (3.) Load the output file of the hwg codes (step 2) and perform gene enrichment and identify the pathways PCNA is involved in with enrichr. Finally, write a small report summarizing each of these findings in Step 4\n",
      "\n",
      "Plan:\n",
      "**Step 1 (method, eg. RAG)**:\n",
      "Prompt: [Description of action for chatbot to do Step 1, i.e. do X, Y, Z]\n",
      "\n",
      "**Step 2 (method, eg. CODE)**:\n",
      "Prompt: [Description of action for chatbot to do Step 2, i.e. do A, B, C. Use information from Step X]\n",
      "\n",
      "**Step 3 (method, eg. DATABASE)**:\n",
      "Prompt: [Description of action for chatbot to do Step 3, i.e. do D, E, F. Use information from Step Y]\n",
      "...\n",
      "\u001b[0m\n",
      "\n",
      "\u001b[1m> Finished chain.\u001b[0m\n",
      "Here is the planned 4-step pipeline:\n",
      "\n",
      "**Step 1 (RAG)**:\n",
      "Prompt: Use the RAG method to search literature and documents from a text database for the query \"What role does PCNA play in the cell cycle and cell cycle imaging?\" and return a summary of relevant findings.\n",
      "\n",
      "**Step 2 (CODE)**:\n",
      "Prompt: Execute the HWG analysis pipeline to find first-order interactions of PCNA using the information gathered from Step 1. Load the results from the literature search into the pipeline to inform the analysis and generate an output file containing the interaction data.\n",
      "\n",
      "**Step 3 (DATABASE)**:\n",
      "Prompt: Load the output file from Step 2 and use the Enrichr database to perform gene enrichment analysis and identify the pathways that PCNA is involved in. Use the gene interaction data from Step 2 as input for the enrichment analysis.\n",
      "\n",
      "**Step 4 (WRITE)**:\n",
      "Prompt: Write a small report summarizing the findings from each step, including the role of PCNA in the cell cycle and cell cycle imaging from Step 1, the first-order interactions of PCNA from Step 2, and the enriched pathways from Step 3. Synthesize the information to provide a comprehensive overview of PCNA's functions and interactions.\n",
      "\n",
      "\n",
      "Do you want to proceed with this plan? [Y/N/edit]\n"
     ]
    },
    {
     "name": "stdin",
     "output_type": "stream",
     "text": [
      "Input >>  Y\n"
     ]
    },
    {
     "name": "stderr",
     "output_type": "stream",
     "text": [
      "Thu 20 Jun 2024 11:26:40 AM EDT INFO RAG\n"
     ]
    },
    {
     "name": "stdout",
     "output_type": "stream",
     "text": [
      "[{'order': 1, 'module': 'RAG', 'prompt': '/force RAG Use the RAG method to search literature and documents from a text database for the query \"What role does PCNA play in the cell cycle and cell cycle imaging?\" and return a summary of relevant findings.', 'description': '1 (RAG)**:\\nPrompt: Use the RAG method to search literature and documents from a text database for the query \"What role does PCNA play in the cell cycle and cell cycle imaging?\" and return a summary of relevant findings.\\n\\n'}, {'order': 2, 'module': 'CODE', 'prompt': '/force CODE Execute the HWG analysis pipeline to find first-order interactions of PCNA using the information gathered from Step 1. Load the results from the literature search into the pipeline to inform the analysis and generate an output file containing the interaction data.', 'description': '2 (CODE)**:\\nPrompt: Execute the HWG analysis pipeline to find first-order interactions of PCNA using the information gathered from Step 1. Load the results from the literature search into the pipeline to inform the analysis and generate an output file containing the interaction data.\\n\\n'}, {'order': 3, 'module': 'DATABASE', 'prompt': '/force DATABASE Load the output file from Step 2 and use the Enrichr database to perform gene enrichment analysis and identify the pathways that PCNA is involved in. Use the gene interaction data from Step 2 as input for the enrichment analysis.', 'description': '3 (DATABASE)**:\\nPrompt: Load the output file from Step 2 and use the Enrichr database to perform gene enrichment analysis and identify the pathways that PCNA is involved in. Use the gene interaction data from Step 2 as input for the enrichment analysis.\\n\\n'}, {'order': 4, 'module': 'WRITE', 'prompt': \"/force WRITE Write a small report summarizing the findings from each step, including the role of PCNA in the cell cycle and cell cycle imaging from Step 1, the first-order interactions of PCNA from Step 2, and the enriched pathways from Step 3. Synthesize the information to provide a comprehensive overview of PCNA's functions and interactions.\", 'description': \"4 (WRITE)**:\\nPrompt: Write a small report summarizing the findings from each step, including the role of PCNA in the cell cycle and cell cycle imaging from Step 1, the first-order interactions of PCNA from Step 2, and the enriched pathways from Step 3. Synthesize the information to provide a comprehensive overview of PCNA's functions and interactions.\\n\\n\"}]\n",
      "\n",
      "\n",
      "PLANNER:\n",
      "\n",
      "{'module': 'PLANNER', 'steps': [], 'stages': [{'order': 1, 'module': 'RAG', 'prompt': '/force RAG Use the RAG method to search literature and documents from a text database for the query \"What role does PCNA play in the cell cycle and cell cycle imaging?\" and return a summary of relevant findings.', 'description': '1 (RAG)**:\\nPrompt: Use the RAG method to search literature and documents from a text database for the query \"What role does PCNA play in the cell cycle and cell cycle imaging?\" and return a summary of relevant findings.\\n\\n'}, {'order': 2, 'module': 'CODE', 'prompt': '/force CODE Execute the HWG analysis pipeline to find first-order interactions of PCNA using the information gathered from Step 1. Load the results from the literature search into the pipeline to inform the analysis and generate an output file containing the interaction data.', 'description': '2 (CODE)**:\\nPrompt: Execute the HWG analysis pipeline to find first-order interactions of PCNA using the information gathered from Step 1. Load the results from the literature search into the pipeline to inform the analysis and generate an output file containing the interaction data.\\n\\n'}, {'order': 3, 'module': 'DATABASE', 'prompt': '/force DATABASE Load the output file from Step 2 and use the Enrichr database to perform gene enrichment analysis and identify the pathways that PCNA is involved in. Use the gene interaction data from Step 2 as input for the enrichment analysis.', 'description': '3 (DATABASE)**:\\nPrompt: Load the output file from Step 2 and use the Enrichr database to perform gene enrichment analysis and identify the pathways that PCNA is involved in. Use the gene interaction data from Step 2 as input for the enrichment analysis.\\n\\n'}, {'order': 4, 'module': 'WRITE', 'prompt': \"/force WRITE Write a small report summarizing the findings from each step, including the role of PCNA in the cell cycle and cell cycle imaging from Step 1, the first-order interactions of PCNA from Step 2, and the enriched pathways from Step 3. Synthesize the information to provide a comprehensive overview of PCNA's functions and interactions.\", 'description': \"4 (WRITE)**:\\nPrompt: Write a small report summarizing the findings from each step, including the role of PCNA in the cell cycle and cell cycle imaging from Step 1, the first-order interactions of PCNA from Step 2, and the enriched pathways from Step 3. Synthesize the information to provide a comprehensive overview of PCNA's functions and interactions.\\n\\n\"}]}\n",
      "==================================================\n",
      "==================================================\n",
      "RAG >> 2: ============\n",
      "nucleus boundaries (60% and 70% of\n",
      "original area in the first and second half of series\n",
      "respectively); 5. Quantification of processed PCNA\n",
      "signal. . A sum of mean and standard deviation of\n",
      "variance image (PCNA variance trace) showed the\n",
      "highest contrast at the beginning and the end of the\n",
      "S phase and was therefore used for cell cycle phase\n",
      "delineation. The beginning and end of S phase were\n",
      "detected automatically using the PCNA variance trace\n",
      "by smoothing this signal with filters of three different\n",
      "kernel sizes and looking for points that consistently\n",
      "showed highest change in value between G1/G2 and\n",
      "S phase. Cells not showing clear a point of phase\n",
      "transitions were manually removed from further\n",
      "analysis.\n",
      "Phase warping of traces\n",
      "The beginning and end of S phase were detected\n",
      "automatically based on PCNA variance trace as\n",
      "described above. Based on these values, the median\n",
      "durations of G1, S and G2/M phases were calculated\n",
      "for each analyzed cell population. These median\n",
      "values were used to\n",
      "Summary: Here is a summary of the relevant findings related to the role of PCNA in the cell cycle and cell cycle imaging:\n",
      "\n",
      "PCNA (Proliferating Cell Nuclear Antigen) plays a crucial role in cell cycle phase delineation. The PCNA variance trace, which is a sum of mean and standard deviation of variance image, shows the highest contrast at the beginning and end of the S phase, allowing for automatic detection of phase transitions. This enables the calculation of median durations of G1, S, and G2/M phases for each analyzed cell population.\n",
      "============\n",
      "within S phase, but this\n",
      "approach requires high magnification and high\n",
      "resolution images. We describe here the use of\n",
      "total PCNA signal variance which is amenable to\n",
      "lower-magnification/lower light-intensity images.\n",
      "Despite the powerful advantages of using\n",
      "a single localization-based fusion to mark all cell\n",
      "cycle transitions, the requirements for this\n",
      "approach are still beyond what is feasible in some\n",
      "studies. We thus sought to create and thoroughly\n",
      "validate a simple intensity-based cell cycle reporter\n",
      "strategy. The G1/S transition and S/G2 transition\n",
      "reporter in our PIP-FUCCI system leverages\n",
      "a well-characterized replication-coupled destruc-\n",
      "tion pathway in metazoan cells for S phase degra-\n",
      "dation via CRL4Cdt2. Degradation of the reporter\n",
      "relies solely on interaction of the minimal human\n",
      "Cdt1 PIP degron with PCNA when PCNA is\n",
      "loaded onto DNA. Reporter dynamics are thus\n",
      "a direct physical readout of DNA replication\n",
      "per se . Moreover, the very rapid degradation con-\n",
      "ferred by the Cdt1\n",
      "Summary: Here is a summary of the relevant findings related to the role of PCNA in the cell cycle and cell cycle imaging:\n",
      "\n",
      "PCNA plays a crucial role in cell cycle imaging, particularly in S phase, where it is loaded onto DNA. The interaction between PCNA and the minimal human Cdt1 PIP degron leads to the degradation of a reporter, which is a direct physical readout of DNA replication. This degradation is rapid and relies solely on the interaction with PCNA, allowing for accurate cell cycle transition reporting.\n",
      "============\n",
      "Table 1. Cell cycle reporters for use in mammalian cells.\n",
      "Reporter Pattern Advantages Considerations\n",
      "PCNA (or PCNA\n",
      "nanobody [ 55])G1 diffuse\n",
      "nuclear●DNA replication sensor\n",
      "●Single fluorescence channel for all phases\n",
      "(time lapse only)\n",
      "●high-contrast S/G2 transition marker●requires high resolution images\n",
      "●requires regular nuclear morphology and\n",
      "monolayer culture\n",
      "●subtle G1/S changeS punctate\n",
      "G2 diffuse\n",
      "nuclear\n",
      "M diffuse\n",
      "whole cell\n",
      "Cdt1 30-120 (or\n",
      "Cdt1 16-120 )G1 increasing ●SCFSkp2activity sensor ●requires T or E in linker (at 29)\n",
      "●slow degradation in S phase\n",
      "●very sensitive to reporter expression levelsS peaks after\n",
      "G1/S\n",
      "G2 low\n",
      "M low\n",
      "PIP G1 stable ●DNA replication sensor\n",
      "●single fluorescence channel for all phases\n",
      "(time lapse only)\n",
      "●high-contrast G1/S marker\n",
      "●insensitive to reporter expression levels●absent in S phase (requires 2ndmarker for\n",
      "automated tracking)\n",
      "●sensitive to high levels of exogenous DNA\n",
      "damage in G1S absent\n",
      "G2 increasing\n",
      "M diffuse\n",
      "whole cell\n",
      "Geminin 1-110 (or\n",
      "Geminin\n",
      "Summary: Based on the user query, the relevant information from the provided text is:\n",
      "\n",
      "PCNA (or PCNA nanobody) is a DNA replication sensor that can be used to report on the cell cycle. It has a diffuse nuclear pattern in G1, punctate in S, diffuse nuclear in G2, and diffuse whole cell in M phase. It is a high-contrast S/G2 transition marker, but requires high-resolution images, regular nuclear morphology, and monolayer culture.\n",
      "\n",
      "No other information in the text is directly relevant to the specific role of PCNA in the cell cycle and cell cycle imaging.\n",
      "============\n",
      "to accurately iden-\n",
      "tify cell cycle phases in fixed cells.\n",
      "Because measuring PCNA variance is technically\n",
      "more demanding than measuring PIP-mVenus sig-\n",
      "nal intensity, we performed a detailed analysis of\n",
      "the reliability for calling cell cycle phases in time\n",
      "lapse experiments using only the intensity levels of\n",
      "PIP-mVenus and compared this approach to mea-\n",
      "suring PCNA variance. We defined the start of\n",
      "S phase as the point when the intensity value ofPIP-mVenus was half of its maximal value in G1;\n",
      "we call this point “PIP mid”(Figure 4(a) ); we note\n",
      "that this point is a few minutes after the true\n",
      "S phase onset given the requirement for PCNA\n",
      "loading before PIP-mVenus degradation. When\n",
      "using PIP-mVenus as an indicator of the S to G2\n",
      "transition we use the onset of signal accumulation\n",
      "(termed “PIP rise”). PIP-mid is tightly correlated\n",
      "with the onset of PCNA foci formation (quantified\n",
      "by the increase in PCNA variance) with an offset of\n",
      "approximately 5 minutes. Importantly, unlike the\n",
      "broad S\n",
      "Summary: Here is a summary of the relevant findings related to the role of PCNA in the cell cycle and cell cycle imaging:\n",
      "\n",
      "PCNA plays a crucial role in identifying cell cycle phases, particularly in the S phase. The formation of PCNA foci is tightly correlated with the onset of the S to G2 transition, which can be indicated by the increase in PCNA variance. This event occurs approximately 5 minutes before the \"PIP-mid\" point, which is defined as the point when the intensity value of PIP-mVenus is half of its maximal value in G1.\n",
      "============\n",
      "White dots indicate the beginning and end of S phase annotated\n",
      "manually based on the PCNA signal. f) Micrographs of selected asynchronously growing U2OS cells before EdU labeling (PCNA, PIP,\n",
      "and Gem 1-110) and after labeling (DAPI and EdU). The cell cycle phase of each cell is indicated in the most right panel. Scale bar,\n",
      "25 µm.2502 G. D. GRANT ET AL.\n",
      "Summary: None\n",
      "============\n",
      "ﬁrst reconstructed the vector ﬁeld on the 4D PCA space or the 3D UMAP space that was reduced from the combined\n",
      "expression space with cell-cycle and glucocorticoid receptor (GR) response genes, using the corresponding projected cell state andvelocity vector pairs. We then calculated the Jacobian between those UMAP or PCA components in each cell. Overall high-magni-\n",
      "tude Jacobian values across cells indicate a strong coupling between those processes related to those components and vice versa.\n",
      "The ﬁrst and second principal components were related to linear GR response, whereas the third and fourth principal componentswere related to the cell cycle process. The ﬁrst UMAP space is related to the GR response, whereas the second and third were related\n",
      "to the cell cycle process.\n",
      "Analysis details for the Kimmerling dataset\n",
      "Successful reconstruction of the vector ﬁeld function from transcriptomic data depends on whether the input datasets capture suf-\n",
      "ﬁcient dynamical information and whether\n",
      "Summary: Based on the user query, the relevant information from the provided text is:\n",
      "\n",
      "The third and fourth principal components from the PCA space and the second and third UMAP spaces are related to the cell cycle process. \n",
      "\n",
      "No direct mention of PCNA is found in the provided text. If more text were available, it might be possible to find relevant information about PCNA's role in the cell cycle and cell cycle imaging.\n",
      "============\n",
      "ﬁrst reconstructed the vector ﬁeld on the 4D PCA space or the 3D UMAP space that was reduced from the combined\n",
      "expression space with cell-cycle and glucocorticoid receptor (GR) response genes, using the corresponding projected cell state andvelocity vector pairs. We then calculated the Jacobian between those UMAP or PCA components in each cell. Overall high-magni-\n",
      "tude Jacobian values across cells indicate a strong coupling between those processes related to those components and vice versa.\n",
      "The ﬁrst and second principal components were related to linear GR response, whereas the third and fourth principal componentswere related to the cell cycle process. The ﬁrst UMAP space is related to the GR response, whereas the second and third were related\n",
      "to the cell cycle process.\n",
      "Analysis details for the Kimmerling dataset\n",
      "Successful reconstruction of the vector ﬁeld function from transcriptomic data depends on whether the input datasets capture suf-\n",
      "ﬁcient dynamical information and whether\n",
      "Summary: Based on the user query, the relevant information from the provided text is:\n",
      "\n",
      "The third and fourth principal components from the PCA space and the second and third UMAP spaces are related to the cell cycle process. \n",
      "\n",
      "No specific information about PCNA's role in the cell cycle or cell cycle imaging was found in the provided text. If more text is available, it may be possible to find relevant information.\n",
      "============\n",
      "PCNA reporter precisely marks the\n",
      "boundaries of S phase, its use requires high-CELL CYCLE 2499\n",
      "Summary: Based on the user query, the relevant information from the provided text is:\n",
      "\n",
      "PCNA reporter precisely marks the boundaries of S phase.\n",
      "\n",
      "This sentence suggests that PCNA plays a role in the cell cycle, specifically in the S phase.\n",
      "============\n",
      "by PCNA localiza-\n",
      "tion requires time-lapse microscopy of sufficient reso-\n",
      "lution in cells with regular nuclear morphology to\n",
      "robustly detect the smaller PCNA foci in early\n",
      "S phase, but the dramatic dissolution of large foci at\n",
      "the end of S phase makes it an excellent marker of the\n",
      "S/G2 transition. On the other hand, Geminin 1-110\n",
      "fragment dynamics proved to be an unreliable marker\n",
      "of this transition in some cell lines. Therefore,\n",
      "Geminin 1-110 should not be selected as a single bio-\n",
      "sensor unless activity of APC/C rather than cell cycle\n",
      "phase detection is required. When multiple fluores-\n",
      "cence channels are available, we recommend includ-\n",
      "ing both a cell cycle phase reporter and a constitutively\n",
      "stable reporter for automated tracking (PCNA or his-\n",
      "tone H2B). Both the PIP degron reporter (i.e. PIP-\n",
      "mVenus) and Cdt1(1/100)Cy(-) are accurate reporters\n",
      "of the beginning and end of S phase, and the end of2508 G. D. GRANT ET AL.\n",
      "Summary: Here is a summary of the relevant findings related to the role of PCNA in the cell cycle and cell cycle imaging:\n",
      "\n",
      "PCNA is a reliable marker for the S/G2 transition in the cell cycle. Its localization requires high-resolution time-lapse microscopy in cells with regular nuclear morphology, particularly for detecting smaller PCNA foci in early S phase. PCNA is a recommended reporter for automated tracking, especially when used in combination with a constitutively stable reporter like histone H2B.\n",
      "============\n",
      "and\n",
      "a set of morphological operations to define oval\n",
      "shaped nuclear ROIs. In case of failed segmentation,the user could choose to provide manually defined\n",
      "polygons as replacement ROIs. The same set of ROIs\n",
      "was used to analyze all fluorescence channels.\n",
      "PCNA analysis\n",
      "The PCNA pattern was analyzed within nuclear ROIs\n",
      "as defined by tracking and segmentation (above).\n",
      "Subsequently, images were processed in a series of\n",
      "steps implemented in Fiji (ImageJ): 1. Image smooth-\n",
      "ing using Gaussian Blur filter of small kernel (to\n",
      "remove high spatial frequency noise); 2. Removal of\n",
      "extensive darker regions corresponding to nucleoli\n",
      "using Remove Outliers algorithm of ImageJ; 3. Edge\n",
      "enhancement by calculation of local neighborhood\n",
      "variance using Variance filter (sigma 2 –4 times bigger\n",
      "than the one used in step 1; exact values were adjusted\n",
      "based on cell line and magnification used); 4.\n",
      "Reduction of nuclear regions area to avoid artefacts\n",
      "of detecting nucleus boundaries (60% and 70% of\n",
      "original area\n",
      "Summary: Here is a summary of the relevant findings related to the role of PCNA in the cell cycle and cell cycle imaging:\n",
      "\n",
      "PCNA analysis involved analyzing the PCNA pattern within nuclear ROIs defined by tracking and segmentation. The analysis involved a series of image processing steps, including image smoothing, removal of darker regions corresponding to nucleoli, edge enhancement, and reduction of nuclear regions area to avoid artifacts.\n",
      "\n",
      "Note: There is no direct information in the provided text about the role of PCNA in the cell cycle. The text only discusses the analysis of PCNA patterns in nuclear ROIs, but does not provide information on its role in the cell cycle.\n",
      "\n",
      "\n",
      "\u001b[1m> Entering new StuffDocumentsChain chain...\u001b[0m\n",
      "\n",
      "\n",
      "\u001b[1m> Entering new LLMChain chain...\u001b[0m\n",
      "Prompt after formatting:\n",
      "\u001b[32;1m\u001b[1;3mSystem: Use the following pieces of context to answer the user's question. \n",
      "If you don't know the answer, just say that you don't know, don't try to make up an answer.\n",
      "----------------\n",
      "Here is a summary of the relevant findings related to the role of PCNA in the cell cycle and cell cycle imaging:\n",
      "\n",
      "PCNA (Proliferating Cell Nuclear Antigen) plays a crucial role in cell cycle phase delineation. The PCNA variance trace, which is a sum of mean and standard deviation of variance image, shows the highest contrast at the beginning and end of the S phase, allowing for automatic detection of phase transitions. This enables the calculation of median durations of G1, S, and G2/M phases for each analyzed cell population.\n",
      "\n",
      "Here is a summary of the relevant findings related to the role of PCNA in the cell cycle and cell cycle imaging:\n",
      "\n",
      "PCNA plays a crucial role in cell cycle imaging, particularly in S phase, where it is loaded onto DNA. The interaction between PCNA and the minimal human Cdt1 PIP degron leads to the degradation of a reporter, which is a direct physical readout of DNA replication. This degradation is rapid and relies solely on the interaction with PCNA, allowing for accurate cell cycle transition reporting.\n",
      "\n",
      "Based on the user query, the relevant information from the provided text is:\n",
      "\n",
      "PCNA (or PCNA nanobody) is a DNA replication sensor that can be used to report on the cell cycle. It has a diffuse nuclear pattern in G1, punctate in S, diffuse nuclear in G2, and diffuse whole cell in M phase. It is a high-contrast S/G2 transition marker, but requires high-resolution images, regular nuclear morphology, and monolayer culture.\n",
      "\n",
      "No other information in the text is directly relevant to the specific role of PCNA in the cell cycle and cell cycle imaging.\n",
      "\n",
      "Here is a summary of the relevant findings related to the role of PCNA in the cell cycle and cell cycle imaging:\n",
      "\n",
      "PCNA plays a crucial role in identifying cell cycle phases, particularly in the S phase. The formation of PCNA foci is tightly correlated with the onset of the S to G2 transition, which can be indicated by the increase in PCNA variance. This event occurs approximately 5 minutes before the \"PIP-mid\" point, which is defined as the point when the intensity value of PIP-mVenus is half of its maximal value in G1.\n",
      "\n",
      "None\n",
      "\n",
      "Based on the user query, the relevant information from the provided text is:\n",
      "\n",
      "The third and fourth principal components from the PCA space and the second and third UMAP spaces are related to the cell cycle process. \n",
      "\n",
      "No direct mention of PCNA is found in the provided text. If more text were available, it might be possible to find relevant information about PCNA's role in the cell cycle and cell cycle imaging.\n",
      "\n",
      "Based on the user query, the relevant information from the provided text is:\n",
      "\n",
      "The third and fourth principal components from the PCA space and the second and third UMAP spaces are related to the cell cycle process. \n",
      "\n",
      "No specific information about PCNA's role in the cell cycle or cell cycle imaging was found in the provided text. If more text is available, it may be possible to find relevant information.\n",
      "\n",
      "Based on the user query, the relevant information from the provided text is:\n",
      "\n",
      "PCNA reporter precisely marks the boundaries of S phase.\n",
      "\n",
      "This sentence suggests that PCNA plays a role in the cell cycle, specifically in the S phase.\n",
      "\n",
      "Here is a summary of the relevant findings related to the role of PCNA in the cell cycle and cell cycle imaging:\n",
      "\n",
      "PCNA is a reliable marker for the S/G2 transition in the cell cycle. Its localization requires high-resolution time-lapse microscopy in cells with regular nuclear morphology, particularly for detecting smaller PCNA foci in early S phase. PCNA is a recommended reporter for automated tracking, especially when used in combination with a constitutively stable reporter like histone H2B.\n",
      "\n",
      "Here is a summary of the relevant findings related to the role of PCNA in the cell cycle and cell cycle imaging:\n",
      "\n",
      "PCNA analysis involved analyzing the PCNA pattern within nuclear ROIs defined by tracking and segmentation. The analysis involved a series of image processing steps, including image smoothing, removal of darker regions corresponding to nucleoli, edge enhancement, and reduction of nuclear regions area to avoid artifacts.\n",
      "\n",
      "Note: There is no direct information in the provided text about the role of PCNA in the cell cycle. The text only discusses the analysis of PCNA patterns in nuclear ROIs, but does not provide information on its role in the cell cycle.\n",
      "Human: Use the RAG method to search literature and documents from a text database for the query \"What role does PCNA play in the cell cycle and cell cycle imaging?\" and return a summary of relevant findings.\u001b[0m\n"
     ]
    },
    {
     "name": "stderr",
     "output_type": "stream",
     "text": [
      "Thu 20 Jun 2024 11:27:06 AM EDT INFO CODE\n"
     ]
    },
    {
     "name": "stdout",
     "output_type": "stream",
     "text": [
      "\n",
      "\u001b[1m> Finished chain.\u001b[0m\n",
      "\n",
      "\u001b[1m> Finished chain.\u001b[0m\n",
      "Based on the provided text database, here is a summary of the relevant findings related to the role of PCNA in the cell cycle and cell cycle imaging:\n",
      "\n",
      "PCNA plays a crucial role in cell cycle phase delineation, particularly in the S phase, where it is loaded onto DNA. The formation of PCNA foci is tightly correlated with the onset of the S to G2 transition, which can be indicated by the increase in PCNA variance. PCNA is a reliable marker for the S/G2 transition in the cell cycle and precisely marks the boundaries of S phase. The PCNA variance trace shows the highest contrast at the beginning and end of the S phase, allowing for automatic detection of phase transitions. This enables the calculation of median durations of G1, S, and G2/M phases for each analyzed cell population.\n",
      "\n",
      "PCNA is also a high-contrast S/G2 transition marker, but requires high-resolution images, regular nuclear morphology, and monolayer culture for accurate cell cycle transition reporting. Additionally, PCNA is a recommended reporter for automated tracking, especially when used in combination with a constitutively stable reporter like histone H2B.\n",
      "\n",
      "Overall, PCNA plays a crucial role in identifying cell cycle phases, particularly in the S phase, and is a valuable tool in cell cycle imaging.\n",
      "Sources:\n",
      "Accurate delineation of cell cycle phase transitions in living cells with PIP FUCCI.pdf\n",
      "Qiu et al. - 2022 - Mapping transcriptomic vector fields of single cel.pdf\n",
      "Mapping transcriptomic vector fields of single cells.pdf\n",
      "\n",
      "\n",
      "PLANNER:\n",
      "\n",
      "{'module': 'RAG', 'steps': [{'func': 'rag.retrieval', 'multiquery': False, 'num-docs': 10, 'docs': \"[Document(page_content='nucleus boundaries (60% and 70% of\\\\noriginal area in the first and second half of series\\\\nrespectively); 5. Quantification of processed PCNA\\\\nsignal. . A sum of mean and standard deviation of\\\\nvariance image (PCNA variance trace) showed the\\\\nhighest contrast at the beginning and the end of the\\\\nS phase and was therefore used for cell cycle phase\\\\ndelineation. The beginning and end of S phase were\\\\ndetected automatically using the PCNA variance trace\\\\nby smoothing this signal with filters of three different\\\\nkernel sizes and looking for points that consistently\\\\nshowed highest change in value between G1/G2 and\\\\nS phase. Cells not showing clear a point of phase\\\\ntransitions were manually removed from further\\\\nanalysis.\\\\nPhase warping of traces\\\\nThe beginning and end of S phase were detected\\\\nautomatically based on PCNA variance trace as\\\\ndescribed above. Based on these values, the median\\\\ndurations of G1, S and G2/M phases were calculated\\\\nfor each analyzed cell population. These median\\\\nvalues were used to', metadata={'page': 17, 'source': '/nfs/turbo/umms-indikar/shared/projects/RAG/papers/DigitalLibrary-9-June-2024/Accurate delineation of cell cycle phase transitions in living cells with PIP FUCCI.pdf'}), Document(page_content='within S phase, but this\\\\napproach requires high magnification and high\\\\nresolution images. We describe here the use of\\\\ntotal PCNA signal variance which is amenable to\\\\nlower-magnification/lower light-intensity images.\\\\nDespite the powerful advantages of using\\\\na single localization-based fusion to mark all cell\\\\ncycle transitions, the requirements for this\\\\napproach are still beyond what is feasible in some\\\\nstudies. We thus sought to create and thoroughly\\\\nvalidate a simple intensity-based cell cycle reporter\\\\nstrategy. The G1/S transition and S/G2 transition\\\\nreporter in our PIP-FUCCI system leverages\\\\na well-characterized replication-coupled destruc-\\\\ntion pathway in metazoan cells for S phase degra-\\\\ndation via CRL4Cdt2. Degradation of the reporter\\\\nrelies solely on interaction of the minimal human\\\\nCdt1 PIP degron with PCNA when PCNA is\\\\nloaded onto DNA. Reporter dynamics are thus\\\\na direct physical readout of DNA replication\\\\nper se . Moreover, the very rapid degradation con-\\\\nferred by the Cdt1', metadata={'page': 12, 'source': '/nfs/turbo/umms-indikar/shared/projects/RAG/papers/DigitalLibrary-9-June-2024/Accurate delineation of cell cycle phase transitions in living cells with PIP FUCCI.pdf'}), Document(page_content='Table 1. Cell cycle reporters for use in mammalian cells.\\\\nReporter Pattern Advantages Considerations\\\\nPCNA (or PCNA\\\\nnanobody [ 55])G1 diffuse\\\\nnuclear●DNA replication sensor\\\\n●Single fluorescence channel for all phases\\\\n(time lapse only)\\\\n●high-contrast S/G2 transition marker●requires high resolution images\\\\n●requires regular nuclear morphology and\\\\nmonolayer culture\\\\n●subtle G1/S changeS punctate\\\\nG2 diffuse\\\\nnuclear\\\\nM diffuse\\\\nwhole cell\\\\nCdt1 30-120 (or\\\\nCdt1 16-120 )G1 increasing ●SCFSkp2activity sensor ●requires T or E in linker (at 29)\\\\n●slow degradation in S phase\\\\n●very sensitive to reporter expression levelsS peaks after\\\\nG1/S\\\\nG2 low\\\\nM low\\\\nPIP G1 stable ●DNA replication sensor\\\\n●single fluorescence channel for all phases\\\\n(time lapse only)\\\\n●high-contrast G1/S marker\\\\n●insensitive to reporter expression levels●absent in S phase (requires 2ndmarker for\\\\nautomated tracking)\\\\n●sensitive to high levels of exogenous DNA\\\\ndamage in G1S absent\\\\nG2 increasing\\\\nM diffuse\\\\nwhole cell\\\\nGeminin 1-110 (or\\\\nGeminin', metadata={'page': 14, 'source': '/nfs/turbo/umms-indikar/shared/projects/RAG/papers/DigitalLibrary-9-June-2024/Accurate delineation of cell cycle phase transitions in living cells with PIP FUCCI.pdf'}), Document(page_content='to accurately iden-\\\\ntify cell cycle phases in fixed cells.\\\\nBecause measuring PCNA variance is technically\\\\nmore demanding than measuring PIP-mVenus sig-\\\\nnal intensity, we performed a detailed analysis of\\\\nthe reliability for calling cell cycle phases in time\\\\nlapse experiments using only the intensity levels of\\\\nPIP-mVenus and compared this approach to mea-\\\\nsuring PCNA variance. We defined the start of\\\\nS phase as the point when the intensity value ofPIP-mVenus was half of its maximal value in G1;\\\\nwe call this point “PIP mid”(Figure 4(a) ); we note\\\\nthat this point is a few minutes after the true\\\\nS phase onset given the requirement for PCNA\\\\nloading before PIP-mVenus degradation. When\\\\nusing PIP-mVenus as an indicator of the S to G2\\\\ntransition we use the onset of signal accumulation\\\\n(termed “PIP rise”). PIP-mid is tightly correlated\\\\nwith the onset of PCNA foci formation (quantified\\\\nby the increase in PCNA variance) with an offset of\\\\napproximately 5 minutes. Importantly, unlike the\\\\nbroad S', metadata={'page': 6, 'source': '/nfs/turbo/umms-indikar/shared/projects/RAG/papers/DigitalLibrary-9-June-2024/Accurate delineation of cell cycle phase transitions in living cells with PIP FUCCI.pdf'}), Document(page_content='White dots indicate the beginning and end of S phase annotated\\\\nmanually based on the PCNA signal. f) Micrographs of selected asynchronously growing U2OS cells before EdU labeling (PCNA, PIP,\\\\nand Gem 1-110) and after labeling (DAPI and EdU). The cell cycle phase of each cell is indicated in the most right panel. Scale bar,\\\\n25 µm.2502 G. D. GRANT ET AL.', metadata={'page': 7, 'source': '/nfs/turbo/umms-indikar/shared/projects/RAG/papers/DigitalLibrary-9-June-2024/Accurate delineation of cell cycle phase transitions in living cells with PIP FUCCI.pdf'}), Document(page_content='ﬁrst reconstructed the vector ﬁeld on the 4D PCA space or the 3D UMAP space that was reduced from the combined\\\\nexpression space with cell-cycle and glucocorticoid receptor (GR) response genes, using the corresponding projected cell state andvelocity vector pairs. We then calculated the Jacobian between those UMAP or PCA components in each cell. Overall high-magni-\\\\ntude Jacobian values across cells indicate a strong coupling between those processes related to those components and vice versa.\\\\nThe ﬁrst and second principal components were related to linear GR response, whereas the third and fourth principal componentswere related to the cell cycle process. The ﬁrst UMAP space is related to the GR response, whereas the second and third were related\\\\nto the cell cycle process.\\\\nAnalysis details for the Kimmerling dataset\\\\nSuccessful reconstruction of the vector ﬁeld function from transcriptomic data depends on whether the input datasets capture suf-\\\\nﬁcient dynamical information and whether', metadata={'page': 53, 'source': '/nfs/turbo/umms-indikar/shared/projects/RAG/papers/DigitalLibrary-9-June-2024/Mapping transcriptomic vector fields of single cells.pdf'}), Document(page_content='ﬁrst reconstructed the vector ﬁeld on the 4D PCA space or the 3D UMAP space that was reduced from the combined\\\\nexpression space with cell-cycle and glucocorticoid receptor (GR) response genes, using the corresponding projected cell state andvelocity vector pairs. We then calculated the Jacobian between those UMAP or PCA components in each cell. Overall high-magni-\\\\ntude Jacobian values across cells indicate a strong coupling between those processes related to those components and vice versa.\\\\nThe ﬁrst and second principal components were related to linear GR response, whereas the third and fourth principal componentswere related to the cell cycle process. The ﬁrst UMAP space is related to the GR response, whereas the second and third were related\\\\nto the cell cycle process.\\\\nAnalysis details for the Kimmerling dataset\\\\nSuccessful reconstruction of the vector ﬁeld function from transcriptomic data depends on whether the input datasets capture suf-\\\\nﬁcient dynamical information and whether', metadata={'page': 53, 'source': '/nfs/turbo/umms-indikar/shared/projects/RAG/papers/DigitalLibrary-9-June-2024/Qiu et al. - 2022 - Mapping transcriptomic vector fields of single cel.pdf'}), Document(page_content='PCNA reporter precisely marks the\\\\nboundaries of S phase, its use requires high-CELL CYCLE 2499', metadata={'page': 4, 'source': '/nfs/turbo/umms-indikar/shared/projects/RAG/papers/DigitalLibrary-9-June-2024/Accurate delineation of cell cycle phase transitions in living cells with PIP FUCCI.pdf'}), Document(page_content='by PCNA localiza-\\\\ntion requires time-lapse microscopy of sufficient reso-\\\\nlution in cells with regular nuclear morphology to\\\\nrobustly detect the smaller PCNA foci in early\\\\nS phase, but the dramatic dissolution of large foci at\\\\nthe end of S phase makes it an excellent marker of the\\\\nS/G2 transition. On the other hand, Geminin 1-110\\\\nfragment dynamics proved to be an unreliable marker\\\\nof this transition in some cell lines. Therefore,\\\\nGeminin 1-110 should not be selected as a single bio-\\\\nsensor unless activity of APC/C rather than cell cycle\\\\nphase detection is required. When multiple fluores-\\\\ncence channels are available, we recommend includ-\\\\ning both a cell cycle phase reporter and a constitutively\\\\nstable reporter for automated tracking (PCNA or his-\\\\ntone H2B). Both the PIP degron reporter (i.e. PIP-\\\\nmVenus) and Cdt1(1/100)Cy(-) are accurate reporters\\\\nof the beginning and end of S phase, and the end of2508 G. D. GRANT ET AL.', metadata={'page': 13, 'source': '/nfs/turbo/umms-indikar/shared/projects/RAG/papers/DigitalLibrary-9-June-2024/Accurate delineation of cell cycle phase transitions in living cells with PIP FUCCI.pdf'}), Document(page_content='and\\\\na set of morphological operations to define oval\\\\nshaped nuclear ROIs. In case of failed segmentation,the user could choose to provide manually defined\\\\npolygons as replacement ROIs. The same set of ROIs\\\\nwas used to analyze all fluorescence channels.\\\\nPCNA analysis\\\\nThe PCNA pattern was analyzed within nuclear ROIs\\\\nas defined by tracking and segmentation (above).\\\\nSubsequently, images were processed in a series of\\\\nsteps implemented in Fiji (ImageJ): 1. Image smooth-\\\\ning using Gaussian Blur filter of small kernel (to\\\\nremove high spatial frequency noise); 2. Removal of\\\\nextensive darker regions corresponding to nucleoli\\\\nusing Remove Outliers algorithm of ImageJ; 3. Edge\\\\nenhancement by calculation of local neighborhood\\\\nvariance using Variance filter (sigma 2 –4 times bigger\\\\nthan the one used in step 1; exact values were adjusted\\\\nbased on cell line and magnification used); 4.\\\\nReduction of nuclear regions area to avoid artefacts\\\\nof detecting nucleus boundaries (60% and 70% of\\\\noriginal area', metadata={'page': 17, 'source': '/nfs/turbo/umms-indikar/shared/projects/RAG/papers/DigitalLibrary-9-June-2024/Accurate delineation of cell cycle phase transitions in living cells with PIP FUCCI.pdf'})]\"}, {'input_documents': {0: {'page_content': 'Here is a summary of the relevant findings related to the role of PCNA in the cell cycle and cell cycle imaging:\\n\\nPCNA (Proliferating Cell Nuclear Antigen) plays a crucial role in cell cycle phase delineation. The PCNA variance trace, which is a sum of mean and standard deviation of variance image, shows the highest contrast at the beginning and end of the S phase, allowing for automatic detection of phase transitions. This enables the calculation of median durations of G1, S, and G2/M phases for each analyzed cell population.', 'metadata': {'source': '/nfs/turbo/umms-indikar/shared/projects/RAG/papers/DigitalLibrary-9-June-2024/Accurate delineation of cell cycle phase transitions in living cells with PIP FUCCI.pdf'}}, 1: {'page_content': 'Here is a summary of the relevant findings related to the role of PCNA in the cell cycle and cell cycle imaging:\\n\\nPCNA plays a crucial role in cell cycle imaging, particularly in S phase, where it is loaded onto DNA. The interaction between PCNA and the minimal human Cdt1 PIP degron leads to the degradation of a reporter, which is a direct physical readout of DNA replication. This degradation is rapid and relies solely on the interaction with PCNA, allowing for accurate cell cycle transition reporting.', 'metadata': {'source': '/nfs/turbo/umms-indikar/shared/projects/RAG/papers/DigitalLibrary-9-June-2024/Accurate delineation of cell cycle phase transitions in living cells with PIP FUCCI.pdf'}}, 2: {'page_content': 'Based on the user query, the relevant information from the provided text is:\\n\\nPCNA (or PCNA nanobody) is a DNA replication sensor that can be used to report on the cell cycle. It has a diffuse nuclear pattern in G1, punctate in S, diffuse nuclear in G2, and diffuse whole cell in M phase. It is a high-contrast S/G2 transition marker, but requires high-resolution images, regular nuclear morphology, and monolayer culture.\\n\\nNo other information in the text is directly relevant to the specific role of PCNA in the cell cycle and cell cycle imaging.', 'metadata': {'source': '/nfs/turbo/umms-indikar/shared/projects/RAG/papers/DigitalLibrary-9-June-2024/Accurate delineation of cell cycle phase transitions in living cells with PIP FUCCI.pdf'}}, 3: {'page_content': 'Here is a summary of the relevant findings related to the role of PCNA in the cell cycle and cell cycle imaging:\\n\\nPCNA plays a crucial role in identifying cell cycle phases, particularly in the S phase. The formation of PCNA foci is tightly correlated with the onset of the S to G2 transition, which can be indicated by the increase in PCNA variance. This event occurs approximately 5 minutes before the \"PIP-mid\" point, which is defined as the point when the intensity value of PIP-mVenus is half of its maximal value in G1.', 'metadata': {'source': '/nfs/turbo/umms-indikar/shared/projects/RAG/papers/DigitalLibrary-9-June-2024/Accurate delineation of cell cycle phase transitions in living cells with PIP FUCCI.pdf'}}, 4: {'page_content': 'None', 'metadata': {'source': '/nfs/turbo/umms-indikar/shared/projects/RAG/papers/DigitalLibrary-9-June-2024/Accurate delineation of cell cycle phase transitions in living cells with PIP FUCCI.pdf'}}, 5: {'page_content': \"Based on the user query, the relevant information from the provided text is:\\n\\nThe third and fourth principal components from the PCA space and the second and third UMAP spaces are related to the cell cycle process. \\n\\nNo direct mention of PCNA is found in the provided text. If more text were available, it might be possible to find relevant information about PCNA's role in the cell cycle and cell cycle imaging.\", 'metadata': {'source': '/nfs/turbo/umms-indikar/shared/projects/RAG/papers/DigitalLibrary-9-June-2024/Mapping transcriptomic vector fields of single cells.pdf'}}, 6: {'page_content': \"Based on the user query, the relevant information from the provided text is:\\n\\nThe third and fourth principal components from the PCA space and the second and third UMAP spaces are related to the cell cycle process. \\n\\nNo specific information about PCNA's role in the cell cycle or cell cycle imaging was found in the provided text. If more text is available, it may be possible to find relevant information.\", 'metadata': {'source': '/nfs/turbo/umms-indikar/shared/projects/RAG/papers/DigitalLibrary-9-June-2024/Qiu et al. - 2022 - Mapping transcriptomic vector fields of single cel.pdf'}}, 7: {'page_content': 'Based on the user query, the relevant information from the provided text is:\\n\\nPCNA reporter precisely marks the boundaries of S phase.\\n\\nThis sentence suggests that PCNA plays a role in the cell cycle, specifically in the S phase.', 'metadata': {'source': '/nfs/turbo/umms-indikar/shared/projects/RAG/papers/DigitalLibrary-9-June-2024/Accurate delineation of cell cycle phase transitions in living cells with PIP FUCCI.pdf'}}, 8: {'page_content': 'Here is a summary of the relevant findings related to the role of PCNA in the cell cycle and cell cycle imaging:\\n\\nPCNA is a reliable marker for the S/G2 transition in the cell cycle. Its localization requires high-resolution time-lapse microscopy in cells with regular nuclear morphology, particularly for detecting smaller PCNA foci in early S phase. PCNA is a recommended reporter for automated tracking, especially when used in combination with a constitutively stable reporter like histone H2B.', 'metadata': {'source': '/nfs/turbo/umms-indikar/shared/projects/RAG/papers/DigitalLibrary-9-June-2024/Accurate delineation of cell cycle phase transitions in living cells with PIP FUCCI.pdf'}}, 9: {'page_content': 'Here is a summary of the relevant findings related to the role of PCNA in the cell cycle and cell cycle imaging:\\n\\nPCNA analysis involved analyzing the PCNA pattern within nuclear ROIs defined by tracking and segmentation. The analysis involved a series of image processing steps, including image smoothing, removal of darker regions corresponding to nucleoli, edge enhancement, and reduction of nuclear regions area to avoid artifacts.\\n\\nNote: There is no direct information in the provided text about the role of PCNA in the cell cycle. The text only discusses the analysis of PCNA patterns in nuclear ROIs, but does not provide information on its role in the cell cycle.', 'metadata': {'source': '/nfs/turbo/umms-indikar/shared/projects/RAG/papers/DigitalLibrary-9-June-2024/Accurate delineation of cell cycle phase transitions in living cells with PIP FUCCI.pdf'}}}, 'question': 'Use the RAG method to search literature and documents from a text database for the query \"What role does PCNA play in the cell cycle and cell cycle imaging?\" and return a summary of relevant findings.', 'output_text': 'Based on the provided text database, here is a summary of the relevant findings related to the role of PCNA in the cell cycle and cell cycle imaging:\\n\\nPCNA plays a crucial role in cell cycle phase delineation, particularly in the S phase, where it is loaded onto DNA. The formation of PCNA foci is tightly correlated with the onset of the S to G2 transition, which can be indicated by the increase in PCNA variance. PCNA is a reliable marker for the S/G2 transition in the cell cycle and precisely marks the boundaries of S phase. The PCNA variance trace shows the highest contrast at the beginning and end of the S phase, allowing for automatic detection of phase transitions. This enables the calculation of median durations of G1, S, and G2/M phases for each analyzed cell population.\\n\\nPCNA is also a high-contrast S/G2 transition marker, but requires high-resolution images, regular nuclear morphology, and monolayer culture for accurate cell cycle transition reporting. Additionally, PCNA is a recommended reporter for automated tracking, especially when used in combination with a constitutively stable reporter like histone H2B.\\n\\nOverall, PCNA plays a crucial role in identifying cell cycle phases, particularly in the S phase, and is a valuable tool in cell cycle imaging.'}, {'func': 'utils.makeNamesConsistent', 'files': [{'old-name': '/home/jpic/BRAD/2024-06-20_11-26-20/log.json', 'new-name': '/home/jpic/BRAD/2024-06-20_11-26-20/log.json'}]}], 'sources': ['Accurate delineation of cell cycle phase transitions in living cells with PIP FUCCI.pdf', 'Qiu et al. - 2022 - Mapping transcriptomic vector fields of single cel.pdf', 'Mapping transcriptomic vector fields of single cells.pdf']}\n",
      "==================================================\n",
      "==================================================\n",
      "RAG >> 3: CODER\n",
      "input_variables=['user_query'] template=\"You must select which code to run to help a user.\\n\\n**Available Scripts**\\nScript Name: hwgFirstOrderInteractions, \\t Description: Find the first order interactions of a gene in the Hardwired Genome\\n\\n\\n**User Query**\\n{user_query}\\n\\n**Task**\\nBased on the user's query, select the best script from the available scripts. Provide the script name and explain why it is the best match. If no script is good, replace script with None\\n\\n**Response Template**\\nSCRIPT: <selected script>\\nREASON: <reasoning why the script fits the user prompt>\\n\"\n",
      "FIRST LLM CALL\n",
      "SCRIPT: hwgFirstOrderInteractions\n",
      "REASON: The user query specifically asks to find the first-order interactions of a gene (PCNA) using the HWG analysis pipeline, which matches the description of the hwgFirstOrderInteractions script. This script is the best match because it is designed to find the first order interactions of a gene in the Hardwired Genome, which aligns with the user's request.\n",
      "Warning! the type doesnt exist\n",
      "scriptPath=/home/jpic/RAG-DEV/tutorials/planner/python/\n",
      "pyPath=/home/jpic/RAG-DEV/tutorials/planner/python/\n",
      "ALL SCRIPTS FOUND. BUILDING TEMPLATE\n",
      "input_variables=['history', 'input'] template='Current conversation:\\n{history}\\n\\n**PYTHON SCRIPT**\\nYou must run this python script:\\n/home/jpic/RAG-DEV/tutorials/planner/python/hwgFirstOrderInteractions.py\\n\\n**PYTHON SCRIPT DOCUMENTATION**:\\nThis is the doc string of this python script:\\n\\'\\'\\'\\nFind the first order interactions of a gene in the Hardwired Genome\\n\\nArguments (three arguments):\\n    1. output directory: chatstatus[\\'output-directory\\']\\n    2. output file: <name of output file>\\n    3. gene name: this can either be a gene name in its symbol or common name or it can be a ENSG ID\\n\\nUsage:\\n    Command Line:\\n    ```\\n    python <path/to/script/>hwgFirstOrderInteractions.py <output path> <output file> <gene name>\\n    ```\\n                                                               |              |           |\\n                                                          Argument 1     Argument 2   Argument 3\\n    BRAD Line:\\n    ```\\n    subprocess.call([sys.executable, \\'<path/to/script/>/hwgFirstOrderInteractions.py\\', chatstatus[\\'output-directory\\'], <output file>, <gene name>])\\n    ```\\n\\nOutput file name should be `S<Step number>-HWG-1stOrder-<gene name>.csv`\\n\\nThis script uses the Hardwired Genome construction. Note: Cooper recently found a bug in how the data are integrated for the Hardwired Genome.\\nThe code here should side step that by using a different download from Ensembl (GRCh38.p13.tsv) for mapping between gene names and ENSG IDs, but\\nthe issue may persist.\\n\\'\\'\\'\\n\\n\\n**CALL PYTHON SCRIPTS FROM PYTHON**:\\nUse the `subprocess` module to call any Python script from another Python script. Here are some examples to call a few common Python scripts:\\n\\nTo call a Python script `example_script.py` which has no arguments:\\n\\n```\\nExecute: subprocess.call([sys.executable, \\'<full path to script/> example_script.py\\', chatstatus[\\'output-directory\\']])\\n```\\n\\nTo call a Python script `example_script.py` with one argument:\\n\\n```\\nExecute: subprocess.call([sys.executable, \\'<full path to script/> example_script.py\\', chatstatus[\\'output-directory\\'], \\'arg1\\'])\\n```\\n\\nTo call a Python script `example_script.py` with two arguments:\\n```\\nExecute: subprocess.call([sys.executable, \\'<full path to script/> example_script.py\\', chatstatus[\\'output-directory\\'], \\'arg1\\', \\'arg2\\'])\\n```\\n\\nNote that chatstatus[\\'output-directory\\'] is ALWAYS passed as the first argument.\\n\\nQuery:{input}\\n\\n**INSTRUCTIONS**\\n1. Given the user query and the documentation, identify each of the arguments found in the user\\'s query that should be passed to the Python script.\\n2. Using the `subprocess` module, provide the one line of code to execute the desired Python script with the given arguments. Assume the necessary modules (`subprocess` and `sys`) are already imported.\\n3. The last line of your response should say \"Execute: <Python code to execute>\"\\n4. Format the response/output as:\\n    Arguments: \\n    Python Code Explanation: <2 sentences maximum>\\n    Execute: <your code here>\\n\\n**IMPORTANT**\\nThe code to execute from your response must be formatted as:\\n    Execute: subprocess.call([sys.executable, \\'<path to python script>\\', \\'<argument 1>\\', \\'<argument 2>\\', ..., \\'<argument n>\\'])\\nThis output should be exactly one line and no longer. Stop the response after this line.\\n'\n",
      "\n",
      "\n",
      "\u001b[1m> Entering new ConversationChain chain...\u001b[0m\n",
      "Prompt after formatting:\n",
      "\u001b[32;1m\u001b[1;3mCurrent conversation:\n",
      "\n",
      "\n",
      "**PYTHON SCRIPT**\n",
      "You must run this python script:\n",
      "/home/jpic/RAG-DEV/tutorials/planner/python/hwgFirstOrderInteractions.py\n",
      "\n",
      "**PYTHON SCRIPT DOCUMENTATION**:\n",
      "This is the doc string of this python script:\n",
      "'''\n",
      "Find the first order interactions of a gene in the Hardwired Genome\n",
      "\n",
      "Arguments (three arguments):\n",
      "    1. output directory: chatstatus['output-directory']\n",
      "    2. output file: <name of output file>\n",
      "    3. gene name: this can either be a gene name in its symbol or common name or it can be a ENSG ID\n",
      "\n",
      "Usage:\n",
      "    Command Line:\n",
      "    ```\n",
      "    python <path/to/script/>hwgFirstOrderInteractions.py <output path> <output file> <gene name>\n",
      "    ```\n",
      "                                                               |              |           |\n",
      "                                                          Argument 1     Argument 2   Argument 3\n",
      "    BRAD Line:\n",
      "    ```\n",
      "    subprocess.call([sys.executable, '<path/to/script/>/hwgFirstOrderInteractions.py', chatstatus['output-directory'], <output file>, <gene name>])\n",
      "    ```\n",
      "\n",
      "Output file name should be `S<Step number>-HWG-1stOrder-<gene name>.csv`\n",
      "\n",
      "This script uses the Hardwired Genome construction. Note: Cooper recently found a bug in how the data are integrated for the Hardwired Genome.\n",
      "The code here should side step that by using a different download from Ensembl (GRCh38.p13.tsv) for mapping between gene names and ENSG IDs, but\n",
      "the issue may persist.\n",
      "'''\n",
      "\n",
      "\n",
      "**CALL PYTHON SCRIPTS FROM PYTHON**:\n",
      "Use the `subprocess` module to call any Python script from another Python script. Here are some examples to call a few common Python scripts:\n",
      "\n",
      "To call a Python script `example_script.py` which has no arguments:\n",
      "\n",
      "```\n",
      "Execute: subprocess.call([sys.executable, '<full path to script/> example_script.py', chatstatus['output-directory']])\n",
      "```\n",
      "\n",
      "To call a Python script `example_script.py` with one argument:\n",
      "\n",
      "```\n",
      "Execute: subprocess.call([sys.executable, '<full path to script/> example_script.py', chatstatus['output-directory'], 'arg1'])\n",
      "```\n",
      "\n",
      "To call a Python script `example_script.py` with two arguments:\n",
      "```\n",
      "Execute: subprocess.call([sys.executable, '<full path to script/> example_script.py', chatstatus['output-directory'], 'arg1', 'arg2'])\n",
      "```\n",
      "\n",
      "Note that chatstatus['output-directory'] is ALWAYS passed as the first argument.\n",
      "\n",
      "Query:Execute the HWG analysis pipeline to find first-order interactions of PCNA using the information gathered from Step 1. Load the results from the literature search into the pipeline to inform the analysis and generate an output file containing the interaction data.\n",
      "\n",
      "**INSTRUCTIONS**\n",
      "1. Given the user query and the documentation, identify each of the arguments found in the user's query that should be passed to the Python script.\n",
      "2. Using the `subprocess` module, provide the one line of code to execute the desired Python script with the given arguments. Assume the necessary modules (`subprocess` and `sys`) are already imported.\n",
      "3. The last line of your response should say \"Execute: <Python code to execute>\"\n",
      "4. Format the response/output as:\n",
      "    Arguments: \n",
      "    Python Code Explanation: <2 sentences maximum>\n",
      "    Execute: <your code here>\n",
      "\n",
      "**IMPORTANT**\n",
      "The code to execute from your response must be formatted as:\n",
      "    Execute: subprocess.call([sys.executable, '<path to python script>', '<argument 1>', '<argument 2>', ..., '<argument n>'])\n",
      "This output should be exactly one line and no longer. Stop the response after this line.\n",
      "\u001b[0m\n",
      "\n",
      "\u001b[1m> Finished chain.\u001b[0m\n",
      "LLM OUTPUT PARSER\n",
      "Arguments: \n",
      "    1. output directory: from chatstatus['output-directory']\n",
      "    2. output file: S1-HWG-1stOrder-PCNA.csv\n",
      "    3. gene name: PCNA\n",
      "\n",
      "Python Code Explanation: \n",
      "    This script finds the first-order interactions of a gene in the Hardwired Genome. The arguments passed are the output directory, output file, and gene name.\n",
      "\n",
      "Execute: subprocess.call([sys.executable, '/home/jpic/RAG-DEV/tutorials/planner/python/hwgFirstOrderInteractions.py', chatstatus['output-directory'], 'S1-HWG-1stOrder-PCNA.csv', 'PCNA'])\n",
      "[\"Arguments: \\n    1. output directory: from chatstatus['output-directory']\\n    2. output file: S1-HWG-1stOrder-PCNA.csv\\n    3. gene name: PCNA\\n\\nPython Code Explanation: \\n    This script finds the first-order interactions of a gene in the Hardwired Genome. The arguments passed are the output directory, output file, and gene name.\\n\\n\", \" subprocess.call([sys.executable, '/home/jpic/RAG-DEV/tutorials/planner/python/hwgFirstOrderInteractions.py', chatstatus['output-directory'], 'S1-HWG-1stOrder-PCNA.csv', 'PCNA'])\"]\n",
      "Executing Code!!\n",
      "EVAL\n",
      "subprocess.call([sys.executable, '/home/jpic/RAG-DEV/tutorials/planner/python/hwgFirstOrderInteractions.py', chatstatus['output-directory'], 'S1-HWG-1stOrder-PCNA.csv', 'PCNA'])\n",
      "END EVAL CHECK\n"
     ]
    },
    {
     "name": "stderr",
     "output_type": "stream",
     "text": [
      "Thu 20 Jun 2024 11:27:13 AM EDT INFO DATABASE\n"
     ]
    },
    {
     "name": "stdout",
     "output_type": "stream",
     "text": [
      "******************************\n",
      "Finding 1st Order Interactions\n",
      "******************************\n",
      "Debug: PYTHON code executed successfully.\n",
      "\n",
      "\n",
      "PLANNER:\n",
      "\n",
      "{'module': 'CODE', 'steps': [{'func': 'utils.makeNamesConsistent', 'files': [{'old-name': '/home/jpic/BRAD/2024-06-20_11-26-20/log.json', 'new-name': '/home/jpic/BRAD/2024-06-20_11-26-20/log.json'}, {'old-name': '/home/jpic/BRAD/2024-06-20_11-26-20/S1-HWG-1stOrder-PCNA.csv', 'new-name': '/home/jpic/BRAD/2024-06-20_11-26-20/S1-HWG-1stOrder-PCNA.csv'}]}]}\n",
      "==================================================\n",
      "==================================================\n",
      "RAG >> 4: \n",
      "\n",
      "\u001b[1m> Entering new ConversationChain chain...\u001b[0m\n",
      "Prompt after formatting:\n",
      "\u001b[32;1m\u001b[1;3mCurrent conversation:\n",
      "\n",
      "    \n",
      "GENEONTOLOGY: The Gene Ontology (GO) is an initiative to unify the representation of gene and gene product attributes across all species via the aims: 1) maintain and develop its controlled vocabulary of gene and gene product attributes; 2) annotate genes and gene products, and assimilate and disseminate annotation data; and 3) provide tools for easy access to all aspects of the data provided by the project, and to enable functional interpretation of experimental data using the GO.\n",
      "    \n",
      "ENRICHR: is a tool used to lookup sets of genes and their functional association. ENRICHR has access to many gene-set libraries including Allen_Brain_Atlas_up, ENCODE_Histone_Modifications_2015, Enrichr_Libraries_Most_Popular_Genes, FANTOM6_lncRNA_KD_DEGs, GO_Biological_Process_2023, GTEx, Human_Gene_Atlas, KEGG, REACTOME, Transcription_Factor_PPIs, WikiPathways and many others databases.\n",
      "    \n",
      "Available Tables:\n",
      "\n",
      "\n",
      "Query:Load the output file from Step 2 and use the Enrichr database to perform gene enrichment analysis and identify the pathways that PCNA is involved in. Use the gene interaction data from Step 2 as input for the enrichment analysis.\n",
      "\n",
      "**INSTRUCTIONS**\n",
      "1. From the query, decide if GENEONTOLOGY or ENRICHR should be used\n",
      "2. Identify genes in the users input that should be searched. propose genes with similar names, correct the users spelling, or make small modifications to the list, but do not propose genes that are not found in the humans input.\n",
      "3. Indicate if genes need to be loaded from a file: True/False\n",
      "4. Use the following output format with no additional information or explination.\n",
      "\n",
      "database: <ENRICHR or GENEONTOLOGY>\n",
      "genes: <None or Gene 1, Gene 2, Gene 3, ...>\n",
      "load: <True/False>\n",
      "\u001b[0m\n",
      "\n",
      "\u001b[1m> Finished chain.\u001b[0m\n",
      "database: ENRICHR\n",
      "genes: PCNA\n",
      "load: True\n",
      "database: ENRICHR\n",
      "genes: PCNA\n",
      "load: True\n",
      "{'database': 'ENRICHR', 'genes': ['PCNA'], 'load': 'True'}\n",
      "log.json\n",
      "S1-HWG-1stOrder-PCNA.csv\n",
      "**INSTRUCTIONS**\n",
      "You are a digital assistant responsible for determining which file we should load based on a users prompt. You many choose either the files listed under AVAILABLE FILES or found in the USER QUERY. Based upon the user query, specify which if any fields should be loaded from the table. Rather than specifying a table name, the user might specify ot load data from a particular step. In this case, files are saved with the prefix `S<number>-<File Name>` to denote which step to load them from.\n",
      "\n",
      "**EXAMPLES**\n",
      "\n",
      "Here the files are selected by name:\n",
      "```\n",
      "Available Files:\n",
      "S1-<AAA>.tsv\n",
      "S2-<BBB>.csv\n",
      "\n",
      "User Query:\n",
      "Use the <XXX> output from <BBB> for the this phase of anlaysis.\n",
      "\n",
      "Output:\n",
      "File: S2-<BBB>.csv\n",
      "Fields: <XXX>\n",
      "```\n",
      "\n",
      "Here the files are selected by Step:\n",
      "```\n",
      "Available Files:\n",
      "S1-<AAA>.tsv\n",
      "S2-<BBB>.csv\n",
      "\n",
      "User Query:\n",
      "Use the <YYY> identified in Step 1 as input to the codes.\n",
      "\n",
      "Output:\n",
      "File: S1-<AAA>.tsv\n",
      "Fields: <YYY>\n",
      "```\n",
      "\n",
      "**USER QUERY**\n",
      "{user_query}\n",
      "\n",
      "You must select one of the following available files based on that users query:\n",
      "log.json\n",
      "S1-HWG-1stOrder-PCNA.csv\n",
      "\n",
      "**OUTPUT**\n",
      "File: <which file you selected>\n",
      "Fields: <which fields in the file are important>\n",
      "\n",
      "Load the output file from Step 2 and use the Enrichr database to perform gene enrichment analysis and identify the pathways that PCNA is involved in. Use the gene interaction data from Step 2 as input for the enrichment analysis.\n",
      "File=S1-HWG-1stOrder-PCNA.csv\n",
      "Fields=gene interaction data\n"
     ]
    },
    {
     "name": "stderr",
     "output_type": "stream",
     "text": [
      "Thu 20 Jun 2024 11:27:17 AM EDT INFO Performing Enichr analysis using database GO_Biological_Process_2021.\n"
     ]
    },
    {
     "name": "stdout",
     "output_type": "stream",
     "text": [
      "field identifier response=\n",
      "Genes\n",
      "['PSMG2', 'MTERF3', 'MAGOHB', 'TPX2', 'UBQLN1', 'PRIM2', 'TRDMT1', 'RCN2', 'INCENP', 'CCNY', 'VBP1', 'NDC80', 'E2F5', 'SEC61A2', 'RPS10-NUDT3', 'TFDP3', 'MAPRE1', 'HSPA12B', 'TSPYL4', 'TYMS', 'SUPT16H', 'POLD3', 'RPL36A', 'NUDT15', 'PRDX3', 'RAD23B', 'H3-5', 'CCNK', 'MCM3', 'APMAP', 'DHX33', 'YWHAQ', 'OXA1L', 'UROS', 'TEX30', 'GPD1', 'NNT', 'NUS1', 'MTFR2', 'RPUSD2', 'TXNDC5', 'AAR2', 'DSN1', 'HSPH1', 'CHD6', 'LDHC', 'ENO4', 'ITM2A', 'POLR2E', 'GNPNAT1', 'BCAT1', 'GRPEL1', 'CDCA2', 'EXOSC8', 'USP18', 'AURKA', 'TGDS', 'TXN', 'AK3', 'CNOT7', 'XPNPEP1', 'C1QBP', 'CDADC1', 'OSGEP', 'MGME1', 'NONO', 'GART', 'FAM83D', 'PSMG1', 'CDKN2B', 'TFAM', 'SLC27A5', 'RANBP6', 'COL19A1', 'TTK', 'UBE2D1', 'HMGB1', 'AHCY', 'NUDT12', 'RB1', 'MAP1LC3A', 'RPS4X', 'SUV39H2', 'CCT5', 'MIS18A', 'SPAG6', 'PSMA4', 'SLC6A8', 'NUP155', 'RTF2', 'MRPS28', 'MKKS', 'GTPBP3', 'COL4A2', 'PSMD10', 'CCNA1', 'PMS2', 'RAD51', 'RNF8', 'SUGT1', 'UBE2J1', 'TRMU', 'MGMT', 'BABAM1', 'RNASEH2B', 'MOCS1', 'FOXO3', 'PAPOLG', 'HDAC2', 'POLR2F', 'COL17A1', 'KIN', 'RBBP8', 'ERCC6L', 'CTPS2', 'ING1', 'RPL17-C18orf32', 'PDS5B', 'SUMO4', 'CDC45', 'ANK3', 'POLI', 'CCNQ', 'ARMC1', 'DHX15', 'SNRPD3', 'PPCDC', 'PDSS1', 'DSCC1', 'PRPS1', 'RACGAP1', 'SIVA1', 'ACP2', 'SMARCA2', 'AK7', 'HTRA1', 'PCNA', 'RBBP7', 'PHF11', 'ARHGAP4', 'SNX5', 'PRTFDC1', 'MCIDAS', 'KPNA3', 'MT-CYB', 'HMGB3', 'EIF2AK1', 'CCT8', 'EEF1E1', 'ZWINT', 'LDHAL6B', 'MCAT', 'RPL36AL', 'DNTT', 'DDX39A', 'SPO11', 'RPS12', 'RPA4', 'MYBL2', 'GTF2A2', 'INTS13', 'CDC5L', 'CCNB3', 'FTSJ1', 'SUB1', 'HOGA1', 'MSH2', 'APC', 'CCNB2', 'MKI67', 'PRMT3', 'H2AB3', 'MTRF1', 'HACD3', 'RTCB', 'CSTF1', 'COL4A5', 'ELP3', 'RIOK2', 'MRPL16', 'CENPM', 'BCCIP', 'PRMT2', 'PRMT8', 'CSE1L', 'XRCC6', 'ATP5F1C', 'UBR5', 'SLC2A13', 'MCM8', 'RRAS2', 'RPL3', 'SKA3', 'DNA2', 'MSH3', 'SEPHS1', 'LIG4', 'RNPS1', 'PSAT1', 'EEF1G', 'COL6A1', 'CPSF3', 'ANP32A', 'BUB3', 'PFKL', 'MRPL15', 'UHRF1', 'NUP50', 'WDHD1', 'WARS1', 'CCNH', 'RAD21L1', 'CCNO', 'MIS12', 'PIAS2', 'ATRX', 'CUL4A', 'HAUS6', 'IAH1', 'MAGED1', 'ITM2B', 'APEX2', 'TRUB1', 'SNRPB2', 'PSMC6', 'ANP32B', 'XRCC3', 'RBPJL', 'ADAT2', 'PFKM', 'CDC123', 'PRMT5', 'UBL4A', 'PDXK', 'TRMT11', 'RBL1', 'CDKAL1', 'RIDA', 'UBE2C', 'PBK', 'CCDC33', 'SKA1', 'MPI', 'COL4A1', 'PACSIN3', 'RAD50', 'SUMO3', 'CHEK2', 'RAB33A', 'CARS2', 'MTG2', 'RBMX', 'AARS2', 'ATAD2B', 'METTL15', 'MX2', 'PFDN4', 'SLC27A2', 'GEN1', 'NUDT5', 'MPHOSPH8', 'MBD1', 'ANG', 'L3MBTL1', 'DHX35', 'WDR4', 'TXNRD2', 'SLF1', 'VIRMA', 'COL9A3', 'CDC25B', 'EP300', 'AIRE', 'HSCB', 'POLE2', 'PAPOLB', 'PSMB5', 'YWHAB', 'PI4KA', 'SCML2', 'DONSON', 'CSNK1E', 'PHF21B', 'AFG3L2', 'BCL2L1', 'MAFB', 'SNRPC', 'BRCA2', 'UBQLN2', 'MCM5', 'HMGN1', 'CKAP2', 'UFD1', 'DDX11', 'RPAP3', 'CENPK', 'MX1', 'RANBP1', 'TESMIN', 'SRSF3', 'ADSL', 'CCNT1', 'PDSS2', 'UBL7', 'HMGA1', 'BMS1', 'HIRA', 'PIK3C3', 'CRLS1', 'RANGAP1', 'APEX1', 'WRN', 'MNAT1', 'RAB9B', 'SETDB2', 'DHX32', 'SEC11A', 'CENPA', 'CMTM5', 'PNMA6A', 'NOP56', 'CENPQ', 'DHTKD1', 'COX5A', 'CUTC', 'ZFAND4', 'BORA', 'PDS5A', 'MRPL39', 'COL6A2', 'CA2', 'RPA3', 'AP5Z1', 'MAT1A', 'ASPG', 'EIF3M', 'MT-ATP6', 'ESCO1', 'N6AMT1', 'LMNB1', 'E2F1', 'CAPRIN1', 'RFC3', 'TSPYL5', 'TFDP1', 'EIF2S2', 'HDDC2', 'SMC6', 'CSNK2A1', 'PRPS2', 'PIMREG', 'ZNF367', 'ESCO2', 'PSMA7', 'MRPL13', 'RBX1', nan, 'DEK', 'MIPEP', 'COL21A1', 'TIMELESS', 'DEPDC1B', 'POLL', 'OAT', 'GADD45G', 'PRPF19', 'MRPS6', 'LRR1', 'DIAPH3', 'DPM1', 'CDCA4', 'ERCC5', 'POLN', 'AIMP2', 'CCAR1', 'CKS2', 'SNU13', 'RAD1', 'BRIX1', 'POGLUT2', 'SNRPD1', 'SHMT2', 'POLA1', 'KPNA5', 'DSTN', 'NANOG', 'EIF2AK4', 'PRPS1L1', 'UBR7', 'RPP38', 'PGK2', 'AGAP9', 'SMC1A', 'MLH3', 'HSPA13', 'CSNK1A1L', 'ASB8', 'IPO5', 'E2F8', 'THNSL1', 'RPS7', 'ASMTL', 'CHAF1B', 'UHRF2', 'SETBP1', 'MOCS3', 'RPL36A-HNRNPH2', 'PGAM1', 'REV3L', 'TOP1', 'SMC1B', 'RAD54B', 'TSPEAR', 'NUBPL']\n",
      "The following table was generated by quering the gene list against GO_Biological_Process_2021:\n"
     ]
    },
    {
     "data": {
      "text/html": [
       "<style type=\"text/css\">\n",
       "</style>\n",
       "<table id=\"T_c3947\">\n",
       "  <thead>\n",
       "    <tr>\n",
       "      <th class=\"blank level0\" >&nbsp;</th>\n",
       "      <th id=\"T_c3947_level0_col0\" class=\"col_heading level0 col0\" >rank</th>\n",
       "      <th id=\"T_c3947_level0_col1\" class=\"col_heading level0 col1\" >path_name</th>\n",
       "      <th id=\"T_c3947_level0_col2\" class=\"col_heading level0 col2\" >p_val</th>\n",
       "      <th id=\"T_c3947_level0_col3\" class=\"col_heading level0 col3\" >z_score</th>\n",
       "      <th id=\"T_c3947_level0_col4\" class=\"col_heading level0 col4\" >combined_score</th>\n",
       "      <th id=\"T_c3947_level0_col5\" class=\"col_heading level0 col5\" >overlapping_genes</th>\n",
       "      <th id=\"T_c3947_level0_col6\" class=\"col_heading level0 col6\" >adj_p_val</th>\n",
       "      <th id=\"T_c3947_level0_col7\" class=\"col_heading level0 col7\" >database</th>\n",
       "    </tr>\n",
       "  </thead>\n",
       "  <tbody>\n",
       "    <tr>\n",
       "      <th id=\"T_c3947_level0_row0\" class=\"row_heading level0 row0\" >0</th>\n",
       "      <td id=\"T_c3947_row0_col0\" class=\"data row0 col0\" >1</td>\n",
       "      <td id=\"T_c3947_row0_col1\" class=\"data row0 col1\" >DNA metabolic process (GO:0006259)</td>\n",
       "      <td id=\"T_c3947_row0_col2\" class=\"data row0 col2\" >0.000000</td>\n",
       "      <td id=\"T_c3947_row0_col3\" class=\"data row0 col3\" >9.904695</td>\n",
       "      <td id=\"T_c3947_row0_col4\" class=\"data row0 col4\" >582.320047</td>\n",
       "      <td id=\"T_c3947_row0_col5\" class=\"data row0 col5\" >['PRIM2', 'PCNA', 'UHRF2', 'MCM8', 'UHRF1', 'HMGB3', 'PDS5B', 'HMGB1', 'TYMS', 'PDS5A', 'POLD3', 'WRN', 'CDC45', 'RBBP8', 'POLI', 'POLL', 'NUDT15', 'GEN1', 'WDHD1', 'XRCC6', 'RFC3', 'MGMT', 'XRCC3', 'LIG4', 'DNTT', 'CSNK1E', 'SMC1A', 'POLA1', 'RAD50', 'RAD51', 'MSH2', 'MSH3', 'APEX1', 'RPA3', 'POLE2', 'RPA4', 'TIMELESS', 'MCM3', 'RAD1', 'MCM5', 'ERCC5', 'DNA2', 'TOP1', 'MNAT1']</td>\n",
       "      <td id=\"T_c3947_row0_col6\" class=\"data row0 col6\" >0.000000</td>\n",
       "      <td id=\"T_c3947_row0_col7\" class=\"data row0 col7\" >GO_Biological_Process_2021</td>\n",
       "    </tr>\n",
       "    <tr>\n",
       "      <th id=\"T_c3947_level0_row1\" class=\"row_heading level0 row1\" >1</th>\n",
       "      <td id=\"T_c3947_row1_col0\" class=\"data row1 col0\" >2</td>\n",
       "      <td id=\"T_c3947_row1_col1\" class=\"data row1 col1\" >DNA repair (GO:0006281)</td>\n",
       "      <td id=\"T_c3947_row1_col2\" class=\"data row1 col2\" >0.000000</td>\n",
       "      <td id=\"T_c3947_row1_col3\" class=\"data row1 col3\" >7.781802</td>\n",
       "      <td id=\"T_c3947_row1_col4\" class=\"data row1 col4\" >350.042919</td>\n",
       "      <td id=\"T_c3947_row1_col5\" class=\"data row1 col5\" >['PCNA', 'RNF8', 'PDS5B', 'BRCA2', 'PDS5A', 'BABAM1', 'POLD3', 'WRN', 'CHEK2', 'RBBP8', 'PMS2', 'POLI', 'POLL', 'WDHD1', 'MGME1', 'RFC3', 'POLN', 'MGMT', 'XRCC3', 'APEX2', 'LIG4', 'CSNK1E', 'SMC1A', 'RAD23B', 'MLH3', 'POLA1', 'RAD50', 'RAD51', 'MSH2', 'MSH3', 'APEX1', 'RPA3', 'POLE2', 'RPA4', 'TIMELESS', 'RAD1', 'ERCC5', 'DNA2', 'MNAT1']</td>\n",
       "      <td id=\"T_c3947_row1_col6\" class=\"data row1 col6\" >0.000000</td>\n",
       "      <td id=\"T_c3947_row1_col7\" class=\"data row1 col7\" >GO_Biological_Process_2021</td>\n",
       "    </tr>\n",
       "    <tr>\n",
       "      <th id=\"T_c3947_level0_row2\" class=\"row_heading level0 row2\" >2</th>\n",
       "      <td id=\"T_c3947_row2_col0\" class=\"data row2 col0\" >3</td>\n",
       "      <td id=\"T_c3947_row2_col1\" class=\"data row2 col1\" >double-strand break repair (GO:0006302)</td>\n",
       "      <td id=\"T_c3947_row2_col2\" class=\"data row2 col2\" >0.000000</td>\n",
       "      <td id=\"T_c3947_row2_col3\" class=\"data row2 col3\" >9.930600</td>\n",
       "      <td id=\"T_c3947_row2_col4\" class=\"data row2 col4\" >370.620304</td>\n",
       "      <td id=\"T_c3947_row2_col5\" class=\"data row2 col5\" >['AP5Z1', 'MCM8', 'RNF8', 'SMC6', 'HMGB1', 'BRCA2', 'PRPF19', 'RAD54B', 'BABAM1', 'WRN', 'CHEK2', 'REV3L', 'RBBP8', 'POLL', 'GEN1', 'XRCC6', 'POLN', 'XRCC3', 'LIG4', 'DNTT', 'POLA1', 'RAD50', 'RAD51', 'RPA3', 'RPA4', 'ERCC5', 'DNA2']</td>\n",
       "      <td id=\"T_c3947_row2_col6\" class=\"data row2 col6\" >0.000000</td>\n",
       "      <td id=\"T_c3947_row2_col7\" class=\"data row2 col7\" >GO_Biological_Process_2021</td>\n",
       "    </tr>\n",
       "  </tbody>\n",
       "</table>\n"
      ],
      "text/plain": [
       "<pandas.io.formats.style.Styler at 0x14d265d14910>"
      ]
     },
     "metadata": {},
     "output_type": "display_data"
    },
    {
     "name": "stderr",
     "output_type": "stream",
     "text": [
      "Thu 20 Jun 2024 11:27:17 AM EDT INFO WRITE\n"
     ]
    },
    {
     "name": "stdout",
     "output_type": "stream",
     "text": [
      "The information has been saved to: /home/jpic/BRAD/2024-06-20_11-26-20/S3-ENRICHR-GO_Biological_Process_2021.csv\n",
      "\n",
      "\n",
      "PLANNER:\n",
      "\n",
      "{'module': 'DATABASE', 'steps': [{'llm': \"model='meta/llama3-70b-instruct'\", 'prompt': \"input_variables=['history', 'input'] template='Current conversation:\\\\n{history}\\\\n    \\\\nGENEONTOLOGY: The Gene Ontology (GO) is an initiative to unify the representation of gene and gene product attributes across all species via the aims: 1) maintain and develop its controlled vocabulary of gene and gene product attributes; 2) annotate genes and gene products, and assimilate and disseminate annotation data; and 3) provide tools for easy access to all aspects of the data provided by the project, and to enable functional interpretation of experimental data using the GO.\\\\n    \\\\nENRICHR: is a tool used to lookup sets of genes and their functional association. ENRICHR has access to many gene-set libraries including Allen_Brain_Atlas_up, ENCODE_Histone_Modifications_2015, Enrichr_Libraries_Most_Popular_Genes, FANTOM6_lncRNA_KD_DEGs, GO_Biological_Process_2023, GTEx, Human_Gene_Atlas, KEGG, REACTOME, Transcription_Factor_PPIs, WikiPathways and many others databases.\\\\n    \\\\nAvailable Tables:\\\\n\\\\n\\\\nQuery:{input}\\\\n\\\\n**INSTRUCTIONS**\\\\n1. From the query, decide if GENEONTOLOGY or ENRICHR should be used\\\\n2. Identify genes in the users input that should be searched. propose genes with similar names, correct the users spelling, or make small modifications to the list, but do not propose genes that are not found in the humans input.\\\\n3. Indicate if genes need to be loaded from a file: True/False\\\\n4. Use the following output format with no additional information or explination.\\\\n\\\\ndatabase: <ENRICHR or GENEONTOLOGY>\\\\ngenes: <None or Gene 1, Gene 2, Gene 3, ...>\\\\nload: <True/False>\\\\n'\", 'input': 'Load the output file from Step 2 and use the Enrichr database to perform gene enrichment analysis and identify the pathways that PCNA is involved in. Use the gene interaction data from Step 2 as input for the enrichment analysis.', 'output': 'database: ENRICHR\\ngenes: PCNA\\nload: True', 'parsedOutput': {'database': 'ENRICHR', 'genes': ['PCNA'], 'load': 'True'}, 'purpose': 'Select database'}, {'llm': \"model='meta/llama3-70b-instruct'\", 'prompt': \"input_variables=['user_query'] template='**INSTRUCTIONS**\\\\nYou are a digital assistant responsible for determining which file we should load based on a users prompt. You many choose either the files listed under AVAILABLE FILES or found in the USER QUERY. Based upon the user query, specify which if any fields should be loaded from the table. Rather than specifying a table name, the user might specify ot load data from a particular step. In this case, files are saved with the prefix `S<number>-<File Name>` to denote which step to load them from.\\\\n\\\\n**EXAMPLES**\\\\n\\\\nHere the files are selected by name:\\\\n```\\\\nAvailable Files:\\\\nS1-<AAA>.tsv\\\\nS2-<BBB>.csv\\\\n\\\\nUser Query:\\\\nUse the <XXX> output from <BBB> for the this phase of anlaysis.\\\\n\\\\nOutput:\\\\nFile: S2-<BBB>.csv\\\\nFields: <XXX>\\\\n```\\\\n\\\\nHere the files are selected by Step:\\\\n```\\\\nAvailable Files:\\\\nS1-<AAA>.tsv\\\\nS2-<BBB>.csv\\\\n\\\\nUser Query:\\\\nUse the <YYY> identified in Step 1 as input to the codes.\\\\n\\\\nOutput:\\\\nFile: S1-<AAA>.tsv\\\\nFields: <YYY>\\\\n```\\\\n\\\\n**USER QUERY**\\\\n{user_query}\\\\n\\\\nYou must select one of the following available files based on that users query:\\\\nlog.json\\\\nS1-HWG-1stOrder-PCNA.csv\\\\n\\\\n**OUTPUT**\\\\nFile: <which file you selected>\\\\nFields: <which fields in the file are important>\\\\n'\", 'input': 'Load the output file from Step 2 and use the Enrichr database to perform gene enrichment analysis and identify the pathways that PCNA is involved in. Use the gene interaction data from Step 2 as input for the enrichment analysis.', 'output': 'Based on the user query, I select the file `S1-HWG-1stOrder-PCNA.csv`. However, the query mentions Step 2, but there is no file available with the prefix `S2-`. Therefore, I assume the user meant to refer to the file from Step 1.\\n\\nThe fields that are important in this file are not explicitly mentioned in the query, but based on the context of gene enrichment analysis, I would suggest loading the gene interaction data from the file.\\n\\n**OUTPUT**\\nFile: S1-HWG-1stOrder-PCNA.csv\\nFields: gene interaction data', 'parsedOutput': {'File': 'S1-HWG-1stOrder-PCNA.csv', 'Fields': 'gene interaction data'}, 'purpose': 'Select File'}, {'file': '/home/jpic/BRAD/2024-06-20_11-26-20/S1-HWG-1stOrder-PCNA.csv', 'delimiter': ','}, {'llm': \"model='meta/llama3-70b-instruct'\", 'prompt': \"input_variables=['user_query'] template='You are a digital assistant responsible for identifying the columns of a spreedsheet based on the users query. Below will be a list of possible columns, and please select the column the user is interested. Use the exact output format and provide no extra informations.\\\\n\\\\n**AVAILABLE COLUMNS**\\\\nGenes\\\\n\\\\n**USER QUERY**\\\\n{user_query}\\\\n\\\\nField=<selected field>\\\\n'\", 'input': 'Load the output file from Step 2 and use the Enrichr database to perform gene enrichment analysis and identify the pathways that PCNA is involved in. Use the gene interaction data from Step 2 as input for the enrichment analysis.', 'output': 'Field=Genes', 'parsedOutput': {'Fields': 'Genes'}, 'purpose': 'Select Field'}, {'func': 'utils.save', 'new file': '/home/jpic/BRAD/2024-06-20_11-26-20/S3-ENRICHR-GO_Biological_Process_2021.csv'}, {'module': 'ENRICHR', 'genes': \"['PSMG2', 'MTERF3', 'MAGOHB', 'TPX2', 'UBQLN1', 'PRIM2', 'TRDMT1', 'RCN2', 'INCENP', 'CCNY', 'VBP1', 'NDC80', 'E2F5', 'SEC61A2', 'RPS10-NUDT3', 'TFDP3', 'MAPRE1', 'HSPA12B', 'TSPYL4', 'TYMS', 'SUPT16H', 'POLD3', 'RPL36A', 'NUDT15', 'PRDX3', 'RAD23B', 'H3-5', 'CCNK', 'MCM3', 'APMAP', 'DHX33', 'YWHAQ', 'OXA1L', 'UROS', 'TEX30', 'GPD1', 'NNT', 'NUS1', 'MTFR2', 'RPUSD2', 'TXNDC5', 'AAR2', 'DSN1', 'HSPH1', 'CHD6', 'LDHC', 'ENO4', 'ITM2A', 'POLR2E', 'GNPNAT1', 'BCAT1', 'GRPEL1', 'CDCA2', 'EXOSC8', 'USP18', 'AURKA', 'TGDS', 'TXN', 'AK3', 'CNOT7', 'XPNPEP1', 'C1QBP', 'CDADC1', 'OSGEP', 'MGME1', 'NONO', 'GART', 'FAM83D', 'PSMG1', 'CDKN2B', 'TFAM', 'SLC27A5', 'RANBP6', 'COL19A1', 'TTK', 'UBE2D1', 'HMGB1', 'AHCY', 'NUDT12', 'RB1', 'MAP1LC3A', 'RPS4X', 'SUV39H2', 'CCT5', 'MIS18A', 'SPAG6', 'PSMA4', 'SLC6A8', 'NUP155', 'RTF2', 'MRPS28', 'MKKS', 'GTPBP3', 'COL4A2', 'PSMD10', 'CCNA1', 'PMS2', 'RAD51', 'RNF8', 'SUGT1', 'UBE2J1', 'TRMU', 'MGMT', 'BABAM1', 'RNASEH2B', 'MOCS1', 'FOXO3', 'PAPOLG', 'HDAC2', 'POLR2F', 'COL17A1', 'KIN', 'RBBP8', 'ERCC6L', 'CTPS2', 'ING1', 'RPL17-C18orf32', 'PDS5B', 'SUMO4', 'CDC45', 'ANK3', 'POLI', 'CCNQ', 'ARMC1', 'DHX15', 'SNRPD3', 'PPCDC', 'PDSS1', 'DSCC1', 'PRPS1', 'RACGAP1', 'SIVA1', 'ACP2', 'SMARCA2', 'AK7', 'HTRA1', 'PCNA', 'RBBP7', 'PHF11', 'ARHGAP4', 'SNX5', 'PRTFDC1', 'MCIDAS', 'KPNA3', 'MT-CYB', 'HMGB3', 'EIF2AK1', 'CCT8', 'EEF1E1', 'ZWINT', 'LDHAL6B', 'MCAT', 'RPL36AL', 'DNTT', 'DDX39A', 'SPO11', 'RPS12', 'RPA4', 'MYBL2', 'GTF2A2', 'INTS13', 'CDC5L', 'CCNB3', 'FTSJ1', 'SUB1', 'HOGA1', 'MSH2', 'APC', 'CCNB2', 'MKI67', 'PRMT3', 'H2AB3', 'MTRF1', 'HACD3', 'RTCB', 'CSTF1', 'COL4A5', 'ELP3', 'RIOK2', 'MRPL16', 'CENPM', 'BCCIP', 'PRMT2', 'PRMT8', 'CSE1L', 'XRCC6', 'ATP5F1C', 'UBR5', 'SLC2A13', 'MCM8', 'RRAS2', 'RPL3', 'SKA3', 'DNA2', 'MSH3', 'SEPHS1', 'LIG4', 'RNPS1', 'PSAT1', 'EEF1G', 'COL6A1', 'CPSF3', 'ANP32A', 'BUB3', 'PFKL', 'MRPL15', 'UHRF1', 'NUP50', 'WDHD1', 'WARS1', 'CCNH', 'RAD21L1', 'CCNO', 'MIS12', 'PIAS2', 'ATRX', 'CUL4A', 'HAUS6', 'IAH1', 'MAGED1', 'ITM2B', 'APEX2', 'TRUB1', 'SNRPB2', 'PSMC6', 'ANP32B', 'XRCC3', 'RBPJL', 'ADAT2', 'PFKM', 'CDC123', 'PRMT5', 'UBL4A', 'PDXK', 'TRMT11', 'RBL1', 'CDKAL1', 'RIDA', 'UBE2C', 'PBK', 'CCDC33', 'SKA1', 'MPI', 'COL4A1', 'PACSIN3', 'RAD50', 'SUMO3', 'CHEK2', 'RAB33A', 'CARS2', 'MTG2', 'RBMX', 'AARS2', 'ATAD2B', 'METTL15', 'MX2', 'PFDN4', 'SLC27A2', 'GEN1', 'NUDT5', 'MPHOSPH8', 'MBD1', 'ANG', 'L3MBTL1', 'DHX35', 'WDR4', 'TXNRD2', 'SLF1', 'VIRMA', 'COL9A3', 'CDC25B', 'EP300', 'AIRE', 'HSCB', 'POLE2', 'PAPOLB', 'PSMB5', 'YWHAB', 'PI4KA', 'SCML2', 'DONSON', 'CSNK1E', 'PHF21B', 'AFG3L2', 'BCL2L1', 'MAFB', 'SNRPC', 'BRCA2', 'UBQLN2', 'MCM5', 'HMGN1', 'CKAP2', 'UFD1', 'DDX11', 'RPAP3', 'CENPK', 'MX1', 'RANBP1', 'TESMIN', 'SRSF3', 'ADSL', 'CCNT1', 'PDSS2', 'UBL7', 'HMGA1', 'BMS1', 'HIRA', 'PIK3C3', 'CRLS1', 'RANGAP1', 'APEX1', 'WRN', 'MNAT1', 'RAB9B', 'SETDB2', 'DHX32', 'SEC11A', 'CENPA', 'CMTM5', 'PNMA6A', 'NOP56', 'CENPQ', 'DHTKD1', 'COX5A', 'CUTC', 'ZFAND4', 'BORA', 'PDS5A', 'MRPL39', 'COL6A2', 'CA2', 'RPA3', 'AP5Z1', 'MAT1A', 'ASPG', 'EIF3M', 'MT-ATP6', 'ESCO1', 'N6AMT1', 'LMNB1', 'E2F1', 'CAPRIN1', 'RFC3', 'TSPYL5', 'TFDP1', 'EIF2S2', 'HDDC2', 'SMC6', 'CSNK2A1', 'PRPS2', 'PIMREG', 'ZNF367', 'ESCO2', 'PSMA7', 'MRPL13', 'RBX1', nan, 'DEK', 'MIPEP', 'COL21A1', 'TIMELESS', 'DEPDC1B', 'POLL', 'OAT', 'GADD45G', 'PRPF19', 'MRPS6', 'LRR1', 'DIAPH3', 'DPM1', 'CDCA4', 'ERCC5', 'POLN', 'AIMP2', 'CCAR1', 'CKS2', 'SNU13', 'RAD1', 'BRIX1', 'POGLUT2', 'SNRPD1', 'SHMT2', 'POLA1', 'KPNA5', 'DSTN', 'NANOG', 'EIF2AK4', 'PRPS1L1', 'UBR7', 'RPP38', 'PGK2', 'AGAP9', 'SMC1A', 'MLH3', 'HSPA13', 'CSNK1A1L', 'ASB8', 'IPO5', 'E2F8', 'THNSL1', 'RPS7', 'ASMTL', 'CHAF1B', 'UHRF2', 'SETBP1', 'MOCS3', 'RPL36A-HNRNPH2', 'PGAM1', 'REV3L', 'TOP1', 'SMC1B', 'RAD54B', 'TSPEAR', 'NUBPL']\", 'plot': False, 'save': True, 'database': 'GO_Biological_Process_2021', 'default db': False}, {'func': 'utils.makeNamesConsistent', 'files': [{'old-name': '/home/jpic/BRAD/2024-06-20_11-26-20/log.json', 'new-name': '/home/jpic/BRAD/2024-06-20_11-26-20/log.json'}, {'old-name': '/home/jpic/BRAD/2024-06-20_11-26-20/S3-ENRICHR-GO_Biological_Process_2021.csv', 'new-name': '/home/jpic/BRAD/2024-06-20_11-26-20/S3-ENRICHR-GO_Biological_Process_2021.csv'}, {'old-name': '/home/jpic/BRAD/2024-06-20_11-26-20/S1-HWG-1stOrder-PCNA.csv', 'new-name': '/home/jpic/BRAD/2024-06-20_11-26-20/S1-HWG-1stOrder-PCNA.csv'}]}], 'database-function': <function queryEnrichr at 0x14d2d62009a0>}\n",
      "==================================================\n",
      "==================================================\n",
      "RAG >> 5: llm\n",
      "1\n",
      "Title Setter Output: \n",
      "\n",
      "title = PCNA's Role in Cell Cycle and Pathways\n",
      "Title=PCNA's Role in Cell Cycle and Pathways\n",
      "[{'order': 1, 'module': 'RAG', 'prompt': '/force RAG Use the RAG method to search literature and documents from a text database for the query \"What role does PCNA play in the cell cycle and cell cycle imaging?\" and return a summary of relevant findings.', 'description': '1 (RAG)**:\\nPrompt: Use the RAG method to search literature and documents from a text database for the query \"What role does PCNA play in the cell cycle and cell cycle imaging?\" and return a summary of relevant findings.\\n\\n'}, {'order': 2, 'module': 'CODE', 'prompt': '/force CODE Execute the HWG analysis pipeline to find first-order interactions of PCNA using the information gathered from Step 1. Load the results from the literature search into the pipeline to inform the analysis and generate an output file containing the interaction data.', 'description': '2 (CODE)**:\\nPrompt: Execute the HWG analysis pipeline to find first-order interactions of PCNA using the information gathered from Step 1. Load the results from the literature search into the pipeline to inform the analysis and generate an output file containing the interaction data.\\n\\n'}, {'order': 3, 'module': 'DATABASE', 'prompt': '/force DATABASE Load the output file from Step 2 and use the Enrichr database to perform gene enrichment analysis and identify the pathways that PCNA is involved in. Use the gene interaction data from Step 2 as input for the enrichment analysis.', 'description': '3 (DATABASE)**:\\nPrompt: Load the output file from Step 2 and use the Enrichr database to perform gene enrichment analysis and identify the pathways that PCNA is involved in. Use the gene interaction data from Step 2 as input for the enrichment analysis.\\n\\n'}, {'order': 4, 'module': 'WRITE', 'prompt': \"/force WRITE Write a small report summarizing the findings from each step, including the role of PCNA in the cell cycle and cell cycle imaging from Step 1, the first-order interactions of PCNA from Step 2, and the enriched pathways from Step 3. Synthesize the information to provide a comprehensive overview of PCNA's functions and interactions.\", 'description': \"4 (WRITE)**:\\nPrompt: Write a small report summarizing the findings from each step, including the role of PCNA in the cell cycle and cell cycle imaging from Step 1, the first-order interactions of PCNA from Step 2, and the enriched pathways from Step 3. Synthesize the information to provide a comprehensive overview of PCNA's functions and interactions.\\n\\n\"}]\n",
      "Process Summary Output: \n",
      "\n",
      "paragraph = The bioinformatics analysis pipeline was executed through a series of prompts to the bioinformatics chatbot. First, the chatbot utilized Retrieval Augmented Generation (RAG) to search literature and documents for relevant findings related to PCNA's role in the cell cycle and cell cycle imaging. Next, the chatbot executed a software script (CODE) to analyze first-order interactions of PCNA using the gathered information and generated an output file containing the interaction data. The chatbot then queried a database (DATABASE) to perform gene enrichment analysis and identify the pathways that PCNA is involved in, using the interaction data as input. Finally, the chatbot synthesized the findings from each step to provide a comprehensive overview of PCNA's functions and interactions in a written report.\n",
      "Process Summary=The bioinformatics analysis pipeline was executed through a series of prompts to the bioinformatics chatbot. First, the chatbot utilized Retrieval Augmented Generation (RAG) to search literature and documents for relevant findings related to PCNA's role in the cell cycle and cell cycle imaging. Next, the chatbot executed a software script (CODE) to analyze first-order interactions of PCNA using the gathered information and generated an output file containing the interaction data. The chatbot then queried a database (DATABASE) to perform gene enrichment analysis and identify the pathways that PCNA is involved in, using the interaction data as input. Finally, the chatbot synthesized the findings from each step to provide a comprehensive overview of PCNA's functions and interactions in a written report.\n",
      "The information has been saved to: /home/jpic/BRAD/2024-06-20_11-26-20/S4-REPORT.tex\n",
      "This is pdfTeX, Version 3.14159265-2.6-1.40.19 (TeX Live 2018) (preloaded format=pdflatex)\n",
      " restricted \\write18 enabled.\n",
      "entering extended mode\n",
      "(/home/jpic/BRAD/2024-06-20_11-26-20/S4-REPORT.tex\n",
      "LaTeX2e <2017-04-15>\n",
      "Babel <3.17> and hyphenation patterns for 3 language(s) loaded.\n",
      "(/usr/share/texlive/texmf-dist/tex/latex/base/article.cls\n",
      "Document Class: article 2014/09/29 v1.4h Standard LaTeX document class\n",
      "(/usr/share/texlive/texmf-dist/tex/latex/base/size10.clo))\n",
      "(/usr/share/texlive/texmf-dist/tex/latex/geometry/geometry.sty\n",
      "(/usr/share/texlive/texmf-dist/tex/latex/graphics/keyval.sty)\n",
      "(/usr/share/texlive/texmf-dist/tex/generic/oberdiek/ifpdf.sty)\n",
      "(/usr/share/texlive/texmf-dist/tex/generic/oberdiek/ifvtex.sty)\n",
      "(/usr/share/texlive/texmf-dist/tex/generic/ifxetex/ifxetex.sty))\n",
      "No file S4-REPORT.aux.\n",
      "*geometry* driver: auto-detecting\n",
      "*geometry* detected driver: pdftex\n",
      "(/usr/share/texlive/texmf-dist/tex/latex/base/omscmr.fd) [1{/usr/share/texlive/\n",
      "texmf-dist/fonts/map/pdftex/updmap/pdftex.map}]\n",
      "(/home/jpic/BRAD/2024-06-20_11-26-20/S4-REPORT.aux) )</usr/share/texlive/texmf-\n",
      "dist/fonts/type1/public/amsfonts/cm/cmbx12.pfb></usr/share/texlive/texmf-dist/f\n",
      "onts/type1/public/amsfonts/cm/cmr10.pfb></usr/share/texlive/texmf-dist/fonts/ty\n",
      "pe1/public/amsfonts/cm/cmr12.pfb></usr/share/texlive/texmf-dist/fonts/type1/pub\n",
      "lic/amsfonts/cm/cmr17.pfb></usr/share/texlive/texmf-dist/fonts/type1/public/ams\n",
      "fonts/cm/cmsy10.pfb>\n",
      "Output written on /home/jpic/BRAD/2024-06-20_11-26-20/S4-REPORT.pdf (1 page, 60\n",
      "800 bytes).\n",
      "Transcript written on /home/jpic/BRAD/2024-06-20_11-26-20/S4-REPORT.log.\n",
      "PDF generated successfully in /home/jpic/BRAD/2024-06-20_11-26-20.\n",
      "\n",
      "\n",
      "PLANNER:\n",
      "\n",
      "{'module': 'WRITE', 'steps': [{'func': 'utils.save', 'new file': '/home/jpic/BRAD/2024-06-20_11-26-20/S4-REPORT.tex'}, {'func': 'utils.makeNamesConsistent', 'files': [{'old-name': '/home/jpic/BRAD/2024-06-20_11-26-20/S4-REPORT.aux', 'new-name': '/home/jpic/BRAD/2024-06-20_11-26-20/S4-REPORT.aux'}, {'old-name': '/home/jpic/BRAD/2024-06-20_11-26-20/log.json', 'new-name': '/home/jpic/BRAD/2024-06-20_11-26-20/log.json'}, {'old-name': '/home/jpic/BRAD/2024-06-20_11-26-20/S4-REPORT.pdf', 'new-name': '/home/jpic/BRAD/2024-06-20_11-26-20/S4-REPORT.pdf'}, {'old-name': '/home/jpic/BRAD/2024-06-20_11-26-20/S3-ENRICHR-GO_Biological_Process_2021.csv', 'new-name': '/home/jpic/BRAD/2024-06-20_11-26-20/S3-ENRICHR-GO_Biological_Process_2021.csv'}, {'old-name': '/home/jpic/BRAD/2024-06-20_11-26-20/S4-REPORT.tex', 'new-name': '/home/jpic/BRAD/2024-06-20_11-26-20/S4-REPORT.tex'}, {'old-name': '/home/jpic/BRAD/2024-06-20_11-26-20/S1-HWG-1stOrder-PCNA.csv', 'new-name': '/home/jpic/BRAD/2024-06-20_11-26-20/S1-HWG-1stOrder-PCNA.csv'}, {'old-name': '/home/jpic/BRAD/2024-06-20_11-26-20/S4-REPORT.log', 'new-name': '/home/jpic/BRAD/2024-06-20_11-26-20/S4-REPORT.log'}]}]}\n",
      "==================================================\n"
     ]
    }
   ],
   "source": [
    "brad.chat(ragvectordb = vectordb)"
   ]
  },
  {
   "cell_type": "raw",
   "id": "67eb0cac-ac3a-4b1b-853b-133b0765abb9",
   "metadata": {},
   "source": [
    "/force PLANNER make a 2 step process using: Step 1 Method is Code to run the hwgFirstOrderInteractions code on PANK, and step 2 method is database to load in the Gene column from the output file created in step 1 and query it against ENRICHR. Do not provide information about the paths to files and use .csv files"
   ]
  },
  {
   "cell_type": "raw",
   "id": "14b5d6fd-1bd7-44fe-8c52-503319d184fb",
   "metadata": {},
   "source": [
    "/force PLANNER make a 3 step process using: Step 1 Method is Code to run the hwgFirstOrderInteractions code on PCNA, and step 2 method is database to load in the Gene column from the output file created in step 1 and query it against ENRICHR. Do not provide information about the paths to files and use .csv files. After using the HWG and ENRICHR, write a report of these findings"
   ]
  },
  {
   "cell_type": "raw",
   "id": "b40020d3-9d65-477e-a9f0-08f511f258ee",
   "metadata": {},
   "source": [
    "/force PLANNER write a 3 step pipeline to 1. perform a lit search of PCNA with the RAG. Use a prompt such as, \"What role does PCNA play in the cell cycle and cell cycle imaging?\", then 2. run the hwg analysis pipeline to find first order interactions of PCNA. 3. use the output of the hwg codes to perform gene enrichment and identify the pathways PCNA is involved in. Finally, write a small report summarizing each of these findings"
   ]
  },
  {
   "cell_type": "raw",
   "id": "f61ab8ee-bf55-4c60-ace3-009b6834e8db",
   "metadata": {},
   "source": []
  },
  {
   "cell_type": "raw",
   "id": "917945b8-486f-495a-a7a8-b7032e4a398e",
   "metadata": {},
   "source": []
  },
  {
   "cell_type": "raw",
   "id": "23b978fd-d593-4e2d-9e9a-b2238f50ef58",
   "metadata": {},
   "source": [
    "/force PLANNER make a 2 step process using: Step 1 Method is Code to run the hwgFirstOrderInteractions code on SOX4, and step 2 method is database to load in the Gene column from the output file created in step 1 and query it against ENRICHR. Use suitable file names and paths"
   ]
  },
  {
   "cell_type": "raw",
   "id": "e92833ca-e796-467a-888d-ebe8d5a576a0",
   "metadata": {},
   "source": [
    "/force PLANNER make a 2 step process using: Step 1 Method is Code to run the hwgFirstOrderInteractions code on PCNA, and step 2 method is database to load in the Gene column from the output file created in step 1 and query it against ENRICHR. Use suitable file names and paths"
   ]
  },
  {
   "cell_type": "raw",
   "id": "78989e5c-3917-4279-89fb-36c6bdac9310",
   "metadata": {},
   "source": [
    "/force PLANNER make a 2 step process using: Step 1 Method is Code to run the hwgFirstOrderInteractions code on PCNA, and step 2 method is database to load in the Gene column from the output file created in step 1 and query it against ENRICHR. Use suitable file names and paths"
   ]
  },
  {
   "cell_type": "raw",
   "id": "67f6fd69-8af2-4586-878c-50036072656b",
   "metadata": {},
   "source": [
    "/force PLANNER make a 2 step process using: Step 1 Method is Code to run the hwgFirstOrderInteractions code on PCNA, and step 2 method is database to load in the Gene column from the output file created in step 1 and query it against ENRICHR. Use suitable file names for saving and loading"
   ]
  },
  {
   "cell_type": "raw",
   "id": "7a0bea15-dd33-4988-8066-1005c59ef0a4",
   "metadata": {},
   "source": [
    "/force PLANNER make a 2 step process using: Step 1 Method is Code to run the hwgFirstOrderInteractions code on PCNA, and step 2 method is database to take the output of step 1 and load it to query the genes against ENRICHR"
   ]
  },
  {
   "cell_type": "raw",
   "id": "40625c32-3a23-4caa-b139-cbc08adc9bf7",
   "metadata": {},
   "source": [
    "/force PLANNER make a three step process to find the latest research on MYOD. Start by looking up the gene in erichr"
   ]
  },
  {
   "cell_type": "raw",
   "id": "5e48c8a2-073e-4ef1-b02d-867aa191c6f1",
   "metadata": {},
   "source": [
    "/force PLANNER design an analysis pipeline to find the first order interactions of PCNA in the hardwired genome (run the hwgFirstOrderInteractions). First run the hwgFirstOrderInteractions code and then take the outputs and put them into ENRICHR"
   ]
  },
  {
   "cell_type": "raw",
   "id": "16dcb516-22c1-49fb-ac95-23d40dea843f",
   "metadata": {},
   "source": [
    "/force DATABASE search MYOD, CMYC, PCNA, and CTD1 in ENRICHR"
   ]
  },
  {
   "cell_type": "raw",
   "id": "522ad48c-92eb-479c-a974-2d3a548b4151",
   "metadata": {},
   "source": [
    "/force PLANNER plan a two step process where first you run the hwg code and second you query the output genes from hwg codes into enrichr"
   ]
  },
  {
   "cell_type": "raw",
   "id": "eb0d5a2a-9941-4519-8b29-ff5133411852",
   "metadata": {},
   "source": [
    "/force PLANNER design an analysis pipeline to find the first order interactions of MYOD in the hardwired genome. Write a report about the role of the MYOD gene and which pathways, cell types, and genes are related to MYOD. The report should be structured with 1. an introduction on MYOD and its role in cellular processes. 2. details of MYOD based on the hardwired genome analysis pipeline and searching the neighboring genes in enrichr. and 3. a conclussion pointing to recent literature studying MYOD."
   ]
  },
  {
   "cell_type": "raw",
   "id": "7d5e37f4-1d55-4d88-a127-d5f143c8cf68",
   "metadata": {},
   "source": [
    "I would like steps 7 - 10 to be condensed to a single writing step. The prompt for the new step should contain the instructions to write the different sections specified in the current steps 7-10"
   ]
  },
  {
   "cell_type": "raw",
   "id": "8fa7ccf5-14b6-4671-a258-6f4e6502170f",
   "metadata": {},
   "source": [
    "/force PLANNER design an analysis pipeline to find the first order interactions of PCNA in the hardwired genome. Write a report about the role of the PCNA gene and which pathways, cell types, and genes are related to PCNA."
   ]
  },
  {
   "cell_type": "raw",
   "id": "25062031-73a1-47d8-9f28-97026601a1e9",
   "metadata": {},
   "source": [
    "/force PLANNER design an analysis pipeline to find the first order interactions of MYOD in the hardwired genome. Write a report about the role of the MYOD gene and which pathways, cell types, and genes are related to MYOD."
   ]
  },
  {
   "cell_type": "raw",
   "id": "97d6aa41-2a87-48d7-8a3d-d8a4cfa3d043",
   "metadata": {},
   "source": [
    "/force PLANNER design an analysis pipeline to find the first order interactions of MYOD in the hardwired genome. Write a small report about which pathways and cell types these genes are implicated in "
   ]
  },
  {
   "cell_type": "raw",
   "id": "233d47c7-8584-4a4d-a0f5-bb4e53cc7739",
   "metadata": {},
   "source": [
    "/force PLANNER design an analysis pipeline to find the first order interactions of MYOD in the hardwired genome from HWG.mat. Write a small report about which pathways and cell types these genes are implicated in "
   ]
  },
  {
   "cell_type": "code",
   "execution_count": 6,
   "id": "d205ed67-2b4e-494d-b8cc-982aa33cdcc4",
   "metadata": {},
   "outputs": [
    {
     "name": "stdout",
     "output_type": "stream",
     "text": [
      "You must select which code to run to help a user.\n",
      "\n",
      "**Available Scripts**\n",
      "Script Name: hwgFirstOrderInteractions, \t Description: \n",
      "\n",
      "\n",
      "**User Query**\n",
      "{user_query}\n",
      "\n",
      "**Task**\n",
      "Based on the user's query, select the best script from the available scripts. Provide the script name and explain why it is the best match. If no script is good, replace script with None\n",
      "\n",
      "**Response Template**\n",
      "SCRIPT: <selected script>\n",
      "REASON: <reasoning why the script fits the user prompt>\n",
      "\n"
     ]
    }
   ],
   "source": [
    "print(\"You must select which code to run to help a user.\\n\\n**Available Scripts**\\nScript Name: hwgFirstOrderInteractions, \\t Description: \\n\\n\\n**User Query**\\n{user_query}\\n\\n**Task**\\nBased on the user's query, select the best script from the available scripts. Provide the script name and explain why it is the best match. If no script is good, replace script with None\\n\\n**Response Template**\\nSCRIPT: <selected script>\\nREASON: <reasoning why the script fits the user prompt>\\n\")"
   ]
  },
  {
   "cell_type": "code",
   "execution_count": 5,
   "id": "1964016f-c6f7-4c18-bc69-7955fe0b758f",
   "metadata": {},
   "outputs": [
    {
     "data": {
      "text/plain": [
       "'Find the first order interactions of a gene in the Hardwired Genome'"
      ]
     },
     "execution_count": 5,
     "metadata": {},
     "output_type": "execute_result"
    }
   ],
   "source": [
    "from BRAD.pythonCaller import get_py_description\n",
    "get_py_description('/home/jpic/RAG-DEV/tutorials/planner/python/hwgFirstOrderInteractions.py')"
   ]
  },
  {
   "cell_type": "code",
   "execution_count": 7,
   "id": "b2243984-eda7-4dcf-a9e8-c59b2b836f91",
   "metadata": {},
   "outputs": [
    {
     "name": "stdout",
     "output_type": "stream",
     "text": [
      "The word 'ENRICHRICR' is closer to ENRICHR.\n"
     ]
    }
   ],
   "source": [
    "import difflib\n",
    "\n",
    "def word_similarity(word1, word2):\n",
    "    return difflib.SequenceMatcher(None, word1, word2).ratio()\n",
    "\n",
    "def closer_to_enrichr_or_geneontology(word):\n",
    "    similarity_to_enrichr = word_similarity(word, \"ENRICHR\")\n",
    "    similarity_to_geneontology = word_similarity(word, \"GENEONTOLOGY\")\n",
    "    \n",
    "    if similarity_to_enrichr > similarity_to_geneontology:\n",
    "        return \"ENRICHR\"\n",
    "    else:\n",
    "        return \"GENEONTOLOGY\"\n",
    "\n",
    "# Example usage\n",
    "word = \"ENRICHRICR\"  # Replace with your word\n",
    "result = closer_to_enrichr_or_geneontology(word)\n",
    "\n",
    "print(f\"The word '{word}' is closer to {result}.\")\n"
   ]
  },
  {
   "cell_type": "code",
   "execution_count": 11,
   "id": "2bc5b971-1a66-44ff-b48c-78a59143de7f",
   "metadata": {},
   "outputs": [
    {
     "name": "stdout",
     "output_type": "stream",
     "text": [
      "args_string=subprocess.call([sys.executable, '/home/jpic/RAG-DEV/tutorials/planner/python/hwgFirstOrderInteractions.py', 'chatstatus['output-directory']', 'S1-HWG-1stOrder-PCNA.csv', 'PCNA'])\n",
      "['subprocess.call([sys.executable', \" '/home/jpic/RAG-DEV/tutorials/planner/python/hwgFirstOrderInteractions.py'\", \" 'chatstatus['output-directory']'\", \" 'S1-HWG-1stOrder-PCNA.csv'\", \" 'PCNA'])\"]\n",
      "subprocess.call([sys.executable, '/home/jpic/RAG-DEV/tutorials/planner/python/hwgFirstOrderInteractions.py', chatstatus['output-directory'], 'S1-HWG-1stOrder-PCNA.csv', 'PCNA'])\n"
     ]
    }
   ],
   "source": [
    "python_code = \"subprocess.call([sys.executable, '/home/jpic/RAG-DEV/tutorials/planner/python/hwgFirstOrderInteractions.py', 'chatstatus[\\'output-directory\\']', 'S1-HWG-1stOrder-PCNA.csv', 'PCNA'])\"\n",
    "\n",
    "# Extract the arguments from the string\n",
    "def get_arguments_from_code(code):\n",
    "    #start = code.find('[') + 1\n",
    "    #end = code.find(']')\n",
    "    #args_string = code[start:end].strip()\n",
    "    args_string = code.strip()\n",
    "    print('args_string=' + args_string)\n",
    "    args = args_string.split(',')\n",
    "    print(args)\n",
    "    return args\n",
    "python_code = python_code.replace(get_arguments_from_code(python_code)[2].strip(), \"chatstatus['output-directory']\")\n",
    "print(python_code)"
   ]
  },
  {
   "cell_type": "code",
   "execution_count": 10,
   "id": "ec84578b-5049-4c0f-9545-61db062e9720",
   "metadata": {},
   "outputs": [
    {
     "name": "stdout",
     "output_type": "stream",
     "text": [
      "args_string=sys.executable, '/home/jpic/RAG-DEV/tutorials/planner/python/hwgFirstOrderInteractions.py', chatstatus['output-directory'\n",
      "['sys.executable', \" '/home/jpic/RAG-DEV/tutorials/planner/python/hwgFirstOrderInteractions.py'\", \" chatstatus['output-directory'\"]\n"
     ]
    },
    {
     "data": {
      "text/plain": [
       "\"chatstatus['output-directory'\""
      ]
     },
     "execution_count": 10,
     "metadata": {},
     "output_type": "execute_result"
    }
   ],
   "source": [
    "get_arguments_from_code(python_code)[2].strip()"
   ]
  },
  {
   "cell_type": "code",
   "execution_count": 8,
   "id": "8eb1c755-0dbf-4a58-adcc-9dc9e18dbe66",
   "metadata": {},
   "outputs": [
    {
     "data": {
      "text/plain": [
       "\"chatstatus['output-directory'\""
      ]
     },
     "execution_count": 8,
     "metadata": {},
     "output_type": "execute_result"
    }
   ],
   "source": [
    "get_arguments_from_code(python_code)[2].strip()"
   ]
  },
  {
   "cell_type": "markdown",
   "id": "73a585c4-e1a0-4264-98d5-9c61911e84b8",
   "metadata": {},
   "source": [
    "# Write a python script to use"
   ]
  },
  {
   "cell_type": "code",
   "execution_count": 92,
   "id": "21c3d231-14a7-49d2-8d88-2cf204a214cf",
   "metadata": {},
   "outputs": [],
   "source": [
    "import pandas as pd\n",
    "import scipy.io as sio\n",
    "import numpy as np\n",
    "from scipy.sparse import csc_matrix\n",
    "\n",
    "geneName = 'ENSG00000129152'\n",
    "\n",
    "HWG = sio.loadmat('/home/jpic/RAG-DEV/tutorials/planner/HWG.mat')            # Load Hardwired Genome A matrix\n",
    "A = HWG['HWG']['A']\n",
    "A = A[0,0].todense()\n",
    "df = pd.read_csv('/home/jpic/RAG-DEV/tutorials/planner/geneIndexTable.csv')  # Load gene index table\n",
    "df2 = pd.read_csv('GRCh38.p13.tsv', delimiter='\\t')                          # Load GRCH38 to map between gene names and ENSG IDs\n",
    "if df[df['Stable ID'].isin([geneName])].shape[0] == 0:\n",
    "    temp0 = df2[df2['Gene name'] == geneName]                                    # Find ENSG of Gene Name\n",
    "    ENSG1 = temp0['Gene stable ID'].values[0]\n",
    "else:\n",
    "    ENSG1 = geneName\n",
    "idx = df[df['Stable ID'] == ENSG1].index[0]                                  # Find position of target gene in HWG\n",
    "idxs = np.where(A[idx,:] == 1)[1]                                            # Find first order interactions in network\n",
    "firstOrderEnsg = list(df.iloc[idxs]['Stable ID'].values)                     # Get ENSG of first order interactions\n",
    "firstOrderGenes = list(set(df2[df2['Gene stable ID'].isin(firstOrderEnsg)]['Gene name'].values)) # Get gene names of first order contacts\n",
    "dfSave = pd.DataFrame({'Genes':firstOrderGenes})\n",
    "dfSave.to_csv('HWG_first_order_interactions.csv', index=False)"
   ]
  },
  {
   "cell_type": "code",
   "execution_count": 75,
   "id": "0b95bf43-8c07-4a96-bbcf-608695b5f85c",
   "metadata": {},
   "outputs": [
    {
     "name": "stdout",
     "output_type": "stream",
     "text": [
      "414\n"
     ]
    }
   ],
   "source": [
    "firstOrderGenes = list(set(df2[df2['Gene stable ID'].isin(firstOrderEnsg)]['Gene name'].values))\n",
    "print(len(firstOrderGenes))"
   ]
  },
  {
   "cell_type": "code",
   "execution_count": 64,
   "id": "6916cd11-867e-4b02-abe7-f35559842700",
   "metadata": {},
   "outputs": [
    {
     "data": {
      "text/plain": [
       "6507"
      ]
     },
     "execution_count": 64,
     "metadata": {},
     "output_type": "execute_result"
    }
   ],
   "source": [
    "idx = df[df['Stable ID'] == ENSG1].index[0]"
   ]
  },
  {
   "cell_type": "code",
   "execution_count": 65,
   "id": "2ef13b8e-887a-4183-b12f-d11d0b648fb6",
   "metadata": {},
   "outputs": [],
   "source": [
    "idx = df[df['Stable ID'] == ENSG1].index[0]\n",
    "idxs = np.where(A[idx,:] == 1)[1]\n",
    "firstOrderEnsg = list(df.iloc[idxs]['Stable ID'].values)"
   ]
  },
  {
   "cell_type": "code",
   "execution_count": 63,
   "id": "82a94368-adcd-4f33-8eb3-6be12188815a",
   "metadata": {},
   "outputs": [],
   "source": [
    "idxs = np.where(A[6507,:] == 1)[1]\n",
    "firstOrderEnsg = list(df.iloc[idxs]['Stable ID'].values)"
   ]
  },
  {
   "cell_type": "code",
   "execution_count": 43,
   "id": "48f4d525-5b3a-46a4-92d0-1d3ea698c13a",
   "metadata": {},
   "outputs": [
    {
     "ename": "TypeError",
     "evalue": "tuple indices must be integers or slices, not tuple",
     "output_type": "error",
     "traceback": [
      "\u001b[0;31m---------------------------------------------------------------------------\u001b[0m",
      "\u001b[0;31mTypeError\u001b[0m                                 Traceback (most recent call last)",
      "Cell \u001b[0;32mIn[43], line 1\u001b[0m\n\u001b[0;32m----> 1\u001b[0m A \u001b[38;5;241m=\u001b[39m \u001b[43mA\u001b[49m\u001b[43m[\u001b[49m\u001b[38;5;241;43m0\u001b[39;49m\u001b[43m,\u001b[49m\u001b[38;5;241;43m0\u001b[39;49m\u001b[43m]\u001b[49m\u001b[38;5;241m.\u001b[39mtodense()\n",
      "\u001b[0;31mTypeError\u001b[0m: tuple indices must be integers or slices, not tuple"
     ]
    }
   ],
   "source": [
    "A = A[0,0].todense()"
   ]
  },
  {
   "cell_type": "code",
   "execution_count": 27,
   "id": "c4776e82-3460-49d7-a4f9-77f21546bcbc",
   "metadata": {},
   "outputs": [
    {
     "data": {
      "text/html": [
       "<div>\n",
       "<style scoped>\n",
       "    .dataframe tbody tr th:only-of-type {\n",
       "        vertical-align: middle;\n",
       "    }\n",
       "\n",
       "    .dataframe tbody tr th {\n",
       "        vertical-align: top;\n",
       "    }\n",
       "\n",
       "    .dataframe thead th {\n",
       "        text-align: right;\n",
       "    }\n",
       "</style>\n",
       "<table border=\"1\" class=\"dataframe\">\n",
       "  <thead>\n",
       "    <tr style=\"text-align: right;\">\n",
       "      <th></th>\n",
       "      <th>Gene stable ID</th>\n",
       "      <th>Protein stable ID</th>\n",
       "      <th>Gene start (bp)</th>\n",
       "      <th>Gene end (bp)</th>\n",
       "      <th>Chromosome/scaffold name</th>\n",
       "      <th>Gene name</th>\n",
       "    </tr>\n",
       "  </thead>\n",
       "  <tbody>\n",
       "    <tr>\n",
       "      <th>50403</th>\n",
       "      <td>ENSG00000132646</td>\n",
       "      <td>ENSP00000368438</td>\n",
       "      <td>5114953</td>\n",
       "      <td>5126626</td>\n",
       "      <td>20</td>\n",
       "      <td>PCNA</td>\n",
       "    </tr>\n",
       "    <tr>\n",
       "      <th>50404</th>\n",
       "      <td>ENSG00000132646</td>\n",
       "      <td>ENSP00000368458</td>\n",
       "      <td>5114953</td>\n",
       "      <td>5126626</td>\n",
       "      <td>20</td>\n",
       "      <td>PCNA</td>\n",
       "    </tr>\n",
       "  </tbody>\n",
       "</table>\n",
       "</div>"
      ],
      "text/plain": [
       "        Gene stable ID Protein stable ID  Gene start (bp)  Gene end (bp)  \\\n",
       "50403  ENSG00000132646   ENSP00000368438          5114953        5126626   \n",
       "50404  ENSG00000132646   ENSP00000368458          5114953        5126626   \n",
       "\n",
       "      Chromosome/scaffold name Gene name  \n",
       "50403                       20      PCNA  \n",
       "50404                       20      PCNA  "
      ]
     },
     "execution_count": 27,
     "metadata": {},
     "output_type": "execute_result"
    }
   ],
   "source": [
    "df2 = pd.read_csv('GRCh38.p13.tsv', delimiter='\\t')\n",
    "df2[df2['Gene name'] == geneName]\n"
   ]
  },
  {
   "cell_type": "code",
   "execution_count": 6,
   "id": "330bf723-801d-4f70-9209-dff4c813ace2",
   "metadata": {},
   "outputs": [
    {
     "data": {
      "text/html": [
       "<div>\n",
       "<style scoped>\n",
       "    .dataframe tbody tr th:only-of-type {\n",
       "        vertical-align: middle;\n",
       "    }\n",
       "\n",
       "    .dataframe tbody tr th {\n",
       "        vertical-align: top;\n",
       "    }\n",
       "\n",
       "    .dataframe thead th {\n",
       "        text-align: right;\n",
       "    }\n",
       "</style>\n",
       "<table border=\"1\" class=\"dataframe\">\n",
       "  <thead>\n",
       "    <tr style=\"text-align: right;\">\n",
       "      <th></th>\n",
       "      <th>Stable ID</th>\n",
       "      <th>Gene Name</th>\n",
       "      <th>Transcription Factor</th>\n",
       "      <th>Chromosome</th>\n",
       "      <th>Start</th>\n",
       "      <th>End</th>\n",
       "    </tr>\n",
       "  </thead>\n",
       "  <tbody>\n",
       "  </tbody>\n",
       "</table>\n",
       "</div>"
      ],
      "text/plain": [
       "Empty DataFrame\n",
       "Columns: [Stable ID, Gene Name, Transcription Factor, Chromosome, Start, End]\n",
       "Index: []"
      ]
     },
     "execution_count": 6,
     "metadata": {},
     "output_type": "execute_result"
    }
   ],
   "source": [
    "df[df['Gene Name'] == 'PCNA']"
   ]
  },
  {
   "cell_type": "markdown",
   "id": "36f1cdd3-7a20-4ad2-a69d-706abd3ca1d5",
   "metadata": {},
   "source": [
    "# WRITER"
   ]
  },
  {
   "cell_type": "code",
   "execution_count": 1,
   "id": "ff697963-ecd1-4347-a4f5-b9dbcabd8644",
   "metadata": {},
   "outputs": [],
   "source": [
    "from BRAD import writer\n",
    "from BRAD import llms"
   ]
  },
  {
   "cell_type": "code",
   "execution_count": 2,
   "id": "52c6ea6e-efcf-4a2f-893a-cff4ba9091cc",
   "metadata": {},
   "outputs": [
    {
     "name": "stdin",
     "output_type": "stream",
     "text": [
      "Enter your NVIDIA API key:  ········\n"
     ]
    }
   ],
   "source": [
    "llm = llms.load_nvidia()"
   ]
  },
  {
   "cell_type": "code",
   "execution_count": 4,
   "id": "b50e33b5-931b-4da0-9ac8-4dcf410bb0a6",
   "metadata": {},
   "outputs": [],
   "source": [
    "chatstatus = {\n",
    "    'llm' : llm,\n",
    "    'prompt' : 'Write a small report summarizing the findings from the literature search in Step 1, the HWG analysis pipeline results in Step 2, and the gene enrichment analysis results in Step 3, highlighting the role of PCNA in the cell cycle and cell cycle imaging.',\n",
    "    'output-directory' : '/home/jpic/BRAD/2024-06-19_23-07-33',\n",
    "    'config' : {\n",
    "        'debug' : True\n",
    "    },\n",
    "    'planned':[\n",
    "        {\n",
    "            'order': 5\n",
    "        }\n",
    "    ],\n",
    "    'process': {\n",
    "        'module' : 'WRITE',\n",
    "        'steps'  : []\n",
    "    }\n",
    "}"
   ]
  },
  {
   "cell_type": "code",
   "execution_count": null,
   "id": "8dc85937-277f-45b8-be77-170a7ec0f777",
   "metadata": {},
   "outputs": [
    {
     "name": "stdout",
     "output_type": "stream",
     "text": [
      "llm\n",
      "1\n",
      "Title Setter Output: \n",
      "\n",
      "title = PCNA's Role in Cell Cycle and Imaging\n",
      "Title=PCNA's Role in Cell Cycle and Imaging\n",
      "[{'order': 1, 'module': 'RAG', 'prompt': '/force RAG Use the RAG method to search literature and documents from a text database for the query \"What role does PCNA play in the cell cycle and cell cycle imaging?\" and provide a summary of relevant findings.', 'description': '1 (RAG)**:\\nPrompt: Use the RAG method to search literature and documents from a text database for the query \"What role does PCNA play in the cell cycle and cell cycle imaging?\" and provide a summary of relevant findings.\\n\\n'}, {'order': 2, 'module': 'CODE', 'prompt': '/force CODE Execute the HWG analysis pipeline to find first-order interactions of PCNA using the information gathered from the literature search in Step 1, and provide the output of the analysis.', 'description': '2 (CODE)**:\\nPrompt: Execute the HWG analysis pipeline to find first-order interactions of PCNA using the information gathered from the literature search in Step 1, and provide the output of the analysis.\\n\\n'}, {'order': 3, 'module': 'DATABASE', 'prompt': '/force DATABASE Use the output from Step 2 to perform gene set enrichment analysis using Gene Ontology and Enrichr databases to identify the pathways PCNA is involved in, and provide a list of enriched pathways.', 'description': '3 (DATABASE)**:\\nPrompt: Use the output from Step 2 to perform gene set enrichment analysis using Gene Ontology and Enrichr databases to identify the pathways PCNA is involved in, and provide a list of enriched pathways.\\n\\n'}, {'order': 4, 'module': 'WRITE', 'prompt': '/force WRITE Write a small report summarizing the findings from the literature search in Step 1, the HWG analysis pipeline results in Step 2, and the gene enrichment analysis results in Step 3, highlighting the role of PCNA in the cell cycle and cell cycle imaging.', 'description': '4 (WRITE)**:\\nPrompt: Write a small report summarizing the findings from the literature search in Step 1, the HWG analysis pipeline results in Step 2, and the gene enrichment analysis results in Step 3, highlighting the role of PCNA in the cell cycle and cell cycle imaging.\\n\\n'}]\n"
     ]
    }
   ],
   "source": [
    "chatstatus = writer.summarizeSteps(chatstatus)\n",
    "print(report)"
   ]
  },
  {
   "cell_type": "code",
   "execution_count": 5,
   "id": "16a109bb-48a9-4480-912b-8cd54e15cff2",
   "metadata": {},
   "outputs": [
    {
     "name": "stdout",
     "output_type": "stream",
     "text": [
      "\\documentclass{article}\n",
      "\\begin{document}\n",
      "\n",
      "\\title{Report on Chat Pipeline Activity}\n",
      "\\maketitle\n",
      "\n",
      "\\section*{Driving Prompt}\n",
      "write a 3 step pipeline to 1. perform a lit search of PCNA with the RAG. Use a prompt such as, \"What role does PCNA play in the cell cycle and cell cycle imaging?\", then 2. run the hwg analysis pipeline to find first order interactions of PCNA. 3. use the output of the hwg codes to perform gene enrichment and identify the pathways PCNA is involved in. Finally, write a small report summarizing each of these findings in Step 4\n",
      "\n",
      "\\section*{Summary of Process}\n",
      "The bioinformatics analysis pipeline was executed through a series of prompts to the bioinformatics chatbot, which utilized various modules to generate a comprehensive report. Initially, the chatbot employed the RAG module to search literature and documents for relevant findings on the role of PCNA in the cell cycle and cell cycle imaging. The resulting information was then used to execute the HWG analysis pipeline through the CODE module, identifying first-order interactions of PCNA. Subsequently, the output was utilized for gene set enrichment analysis using the Gene Ontology and Enrichr databases through the DATABASE module, revealing enriched pathways involving PCNA. Finally, the chatbot generated a summary report highlighting the role of PCNA in the cell cycle and cell cycle imaging, incorporating findings from all preceding steps.\n",
      "\n",
      "\\section*{Summary of Outputs}\n",
      "\n",
      "\n",
      "\n",
      " REPORT BODY\n",
      "\n",
      "\n",
      "\n",
      "\n",
      "\\section*{References}\n",
      "\n",
      "\n",
      "\n",
      " REFERENCES GO HERE \n",
      "\n",
      "\n",
      "\n",
      "\n",
      "\\end{document}\n",
      "\n"
     ]
    }
   ],
   "source": [
    "print(report)"
   ]
  },
  {
   "cell_type": "code",
   "execution_count": 12,
   "id": "0aefd7bd-9b3b-4125-b2a7-96741c520b9b",
   "metadata": {},
   "outputs": [
    {
     "name": "stdout",
     "output_type": "stream",
     "text": [
      "This is pdfTeX, Version 3.14159265-2.6-1.40.19 (TeX Live 2018) (preloaded format=pdflatex)\n",
      " restricted \\write18 enabled.\n",
      "entering extended mode\n",
      "(/home/jpic/BRAD/2024-06-19_23-07-33/S5-REPORT.tex\n",
      "LaTeX2e <2017-04-15>\n",
      "Babel <3.17> and hyphenation patterns for 3 language(s) loaded.\n",
      "(/usr/share/texlive/texmf-dist/tex/latex/base/article.cls\n",
      "Document Class: article 2014/09/29 v1.4h Standard LaTeX document class\n",
      "(/usr/share/texlive/texmf-dist/tex/latex/base/size10.clo))\n",
      "(/home/jpic/BRAD/2024-06-19_23-07-33/S5-REPORT.aux)\n",
      "\n",
      "LaTeX Warning: No \\author given.\n",
      "\n",
      "[1{/usr/share/texlive/texmf-dist/fonts/map/pdftex/updmap/pdftex.map}]\n",
      "(/home/jpic/BRAD/2024-06-19_23-07-33/S5-REPORT.aux) )</usr/share/texlive/texmf-\n",
      "dist/fonts/type1/public/amsfonts/cm/cmbx12.pfb></usr/share/texlive/texmf-dist/f\n",
      "onts/type1/public/amsfonts/cm/cmr10.pfb></usr/share/texlive/texmf-dist/fonts/ty\n",
      "pe1/public/amsfonts/cm/cmr12.pfb></usr/share/texlive/texmf-dist/fonts/type1/pub\n",
      "lic/amsfonts/cm/cmr17.pfb>\n",
      "Output written on /home/jpic/BRAD/2024-06-19_23-07-33/S5-REPORT.pdf (1 page, 51\n",
      "465 bytes).\n",
      "Transcript written on /home/jpic/BRAD/2024-06-19_23-07-33/S5-REPORT.log.\n",
      "PDF generated successfully in /home/jpic/BRAD/2024-06-19_23-07-33.\n"
     ]
    }
   ],
   "source": [
    "def compile_latex_to_pdf(chatstatus, tex_file):\n",
    "    tex_file_path = os.path.join(chatstatus['output-directory'], tex_file)\n",
    "    \n",
    "    # Ensure the file exists\n",
    "    if not os.path.isfile(tex_file_path):\n",
    "        raise FileNotFoundError(f\"The file {tex_file_path} does not exist.\")\n",
    "    \n",
    "    # Run the pdflatex command with the specified output directory\n",
    "    try:\n",
    "        subprocess.run(\n",
    "            ['pdflatex', '-output-directory', chatstatus['output-directory'], tex_file_path], \n",
    "            check=True\n",
    "        )\n",
    "        print(f\"PDF generated successfully in {chatstatus['output-directory']}.\")\n",
    "    except subprocess.CalledProcessError as e:\n",
    "        print(f\"An error occurred: {e}\")\n",
    "\n",
    "tex_file_path = '/home/jpic/BRAD/2024-06-19_23-07-33/S5-REPORT.tex'  # replace with your .tex file path\n",
    "compile_latex_to_pdf(chatstatus, tex_file_path)"
   ]
  },
  {
   "cell_type": "code",
   "execution_count": 9,
   "id": "87d36310-820e-432e-bd2b-d8e53bf9bb87",
   "metadata": {},
   "outputs": [
    {
     "name": "stdout",
     "output_type": "stream",
     "text": [
      "This is pdfTeX, Version 3.14159265-2.6-1.40.19 (TeX Live 2018) (preloaded format=pdflatex)\n",
      " restricted \\write18 enabled.\n",
      "entering extended mode\n",
      "(/home/jpic/BRAD/2024-06-19_23-07-33/S5-REPORT.tex\n",
      "LaTeX2e <2017-04-15>\n",
      "Babel <3.17> and hyphenation patterns for 3 language(s) loaded.\n",
      "(/usr/share/texlive/texmf-dist/tex/latex/base/article.cls\n",
      "Document Class: article 2014/09/29 v1.4h Standard LaTeX document class\n",
      "(/usr/share/texlive/texmf-dist/tex/latex/base/size10.clo))\n",
      "No file S5-REPORT.aux.\n",
      "\n",
      "LaTeX Warning: No \\author given.\n",
      "\n",
      "[1{/usr/share/texlive/texmf-dist/fonts/map/pdftex/updmap/pdftex.map}]\n",
      "(./S5-REPORT.aux) )</usr/share/texlive/texmf-dist/fonts/type1/public/amsfonts/c\n",
      "m/cmbx12.pfb></usr/share/texlive/texmf-dist/fonts/type1/public/amsfonts/cm/cmr1\n",
      "0.pfb></usr/share/texlive/texmf-dist/fonts/type1/public/amsfonts/cm/cmr12.pfb><\n",
      "/usr/share/texlive/texmf-dist/fonts/type1/public/amsfonts/cm/cmr17.pfb>\n",
      "Output written on S5-REPORT.pdf (1 page, 51465 bytes).\n",
      "Transcript written on S5-REPORT.log.\n",
      "PDF generated successfully.\n"
     ]
    }
   ],
   "source": [
    "import subprocess\n",
    "import os\n",
    "\n",
    "def compile_latex_to_pdf(tex_file_path):\n",
    "    # Ensure the file exists\n",
    "    if not os.path.isfile(tex_file_path):\n",
    "        raise FileNotFoundError(f\"The file {tex_file_path} does not exist.\")\n",
    "    \n",
    "    # Run the pdflatex command\n",
    "    try:\n",
    "        subprocess.run(['pdflatex', tex_file_path], check=True)\n",
    "        print(\"PDF generated successfully.\")\n",
    "    except subprocess.CalledProcessError as e:\n",
    "        print(f\"An error occurred: {e}\")\n",
    "\n",
    "# Example usage\n",
    "tex_file_path = '/home/jpic/BRAD/2024-06-19_23-07-33/S5-REPORT.tex'  # replace with your .tex file path\n",
    "compile_latex_to_pdf(tex_file_path)\n"
   ]
  },
  {
   "cell_type": "code",
   "execution_count": 5,
   "id": "813dd728-03d0-47c4-8dcb-680d4e22da6d",
   "metadata": {},
   "outputs": [
    {
     "data": {
      "text/plain": [
       "{'llm': \"model='meta/llama3-70b-instruct'\",\n",
       " '1': {'prompt': 'write a 3 step pipeline to 1. perform a lit search of PCNA with the RAG. Use a prompt such as, \"What role does PCNA play in the cell cycle and cell cycle imaging?\", then 2. run the hwg analysis pipeline to find first order interactions of PCNA. 3. use the output of the hwg codes to perform gene enrichment and identify the pathways PCNA is involved in. Finally, write a small report summarizing each of these findings in Step 4',\n",
       "  'output': None,\n",
       "  'process': {'module': 'PLANNER', 'steps': [], 'stages': []},\n",
       "  'status': {'databases': \"{'RAG': <langchain_community.vectorstores.chroma.Chroma object at 0x14b9010eb810>}\",\n",
       "   'current table': {'key': None, 'tab': None},\n",
       "   'current documents': None},\n",
       "  'planned': [{'order': 1,\n",
       "    'module': 'RAG',\n",
       "    'prompt': '/force RAG Use the Retrieval Augmented Generation (RAG) method to search literature and documents from a text database to answer the question \"What role does PCNA play in the cell cycle and cell cycle imaging?\" and provide a summary of the findings.',\n",
       "    'description': '1 (RAG)**:\\nPrompt: Use the Retrieval Augmented Generation (RAG) method to search literature and documents from a text database to answer the question \"What role does PCNA play in the cell cycle and cell cycle imaging?\" and provide a summary of the findings.\\n\\n'},\n",
       "   {'order': 2,\n",
       "    'module': 'CODE',\n",
       "    'prompt': '/force CODE Run the hwg analysis pipeline (CODE) to find first-order interactions of PCNA using the genes and proteins mentioned in the literature search from Step 1. Execute the hwg pipeline and provide the output of the analysis.',\n",
       "    'description': '2 (CODE)**:\\nPrompt: Run the hwg analysis pipeline (CODE) to find first-order interactions of PCNA using the genes and proteins mentioned in the literature search from Step 1. Execute the hwg pipeline and provide the output of the analysis.\\n\\n'},\n",
       "   {'order': 3,\n",
       "    'module': 'DATABASE',\n",
       "    'prompt': '/force DATABASE Use the output from Step 2 and utilize the Bioinformatics Databases (DATABASE) method, specifically Gene Ontology and Enrichr, to perform gene set enrichment analyses and identify the pathways PCNA is involved in. Provide a list of enriched pathways and their corresponding significance values.',\n",
       "    'description': '3 (DATABASE)**:\\nPrompt: Use the output from Step 2 and utilize the Bioinformatics Databases (DATABASE) method, specifically Gene Ontology and Enrichr, to perform gene set enrichment analyses and identify the pathways PCNA is involved in. Provide a list of enriched pathways and their corresponding significance values.\\n\\n'},\n",
       "   {'order': 4,\n",
       "    'module': 'WRITE',\n",
       "    'prompt': '/force WRITE Write a small report (WRITE) summarizing the findings from each of the previous steps, including the role of PCNA in the cell cycle and cell cycle imaging (Step 1), the first-order interactions of PCNA (Step 2), and the enriched pathways PCNA is involved in (Step 3).',\n",
       "    'description': '4 (WRITE)**:\\nPrompt: Write a small report (WRITE) summarizing the findings from each of the previous steps, including the role of PCNA in the cell cycle and cell cycle imaging (Step 1), the first-order interactions of PCNA (Step 2), and the enriched pathways PCNA is involved in (Step 3).\\n\\n'}]},\n",
       " '2': {'prompt': 'Use the Retrieval Augmented Generation (RAG) method to search literature and documents from a text database to answer the question \"What role does PCNA play in the cell cycle and cell cycle imaging?\" and provide a summary of the findings.',\n",
       "  'output': \"A very specific and technical question!\\n\\nUsing the Retrieval Augmented Generation (RAG) method, I have searched a vast text database of scientific literature and documents to provide an answer to your question.\\n\\n**Summary of Findings:**\\n\\nProliferating Cell Nuclear Antigen (PCNA) plays a crucial role in the cell cycle, particularly in the S-phase (DNA synthesis phase). It is a protein that acts as a sliding clamp for DNA polymerase, facilitating processive DNA replication.\\n\\nPCNA's role in the cell cycle:\\n\\n1. **DNA replication**: PCNA recruits DNA polymerase to the replication fork, enabling processive DNA synthesis.\\n2. **Cell cycle regulation**: PCNA interacts with cell cycle regulators, such as p21, to coordinate DNA replication with cell cycle progression.\\n3. **Checkpoint control**: PCNA is involved in the activation of intra-S phase checkpoints, which monitor DNA replication fidelity and prevent genome instability.\\n\\nRegarding cell cycle imaging, PCNA has been used as a marker to visualize the cell cycle progression and DNA replication. Specifically:\\n\\n1. **Immunofluorescence**: PCNA antibodies can be used to stain cells, allowing for the visualization of PCNA localization and expression during different stages of the cell cycle.\\n2. **Live-cell imaging**: PCNA-GFP (green fluorescent protein) fusion proteins have been used to monitor PCNA dynamics and DNA replication in real-time.\\n\\nIn summary, PCNA plays a central role in DNA replication and cell cycle regulation, and its visualization using immunofluorescence and live-cell imaging techniques has contributed significantly to our understanding of cell cycle dynamics.\\n\\nPlease let me know if you'd like me to provide more information or clarify any specific aspects of PCNA's role in the cell cycle and cell cycle imaging!\",\n",
       "  'process': {'module': 'RAG',\n",
       "   'steps': [{'func': 'rag.retrieval',\n",
       "     'multiquery': False,\n",
       "     'num-docs': 2,\n",
       "     'docs': \"[Document(page_content='ﬁrst reconstructed the vector ﬁeld on the 4D PCA space or the 3D UMAP space that was reduced from the combined\\\\nexpression space with cell-cycle and glucocorticoid receptor (GR) response genes, using the corresponding projected cell state andvelocity vector pairs. We then calculated the Jacobian between those UMAP or PCA components in each cell. Overall high-magni-\\\\ntude Jacobian values across cells indicate a strong coupling between those processes related to those components and vice versa.\\\\nThe ﬁrst and second principal components were related to linear GR response, whereas the third and fourth principal componentswere related to the cell cycle process. The ﬁrst UMAP space is related to the GR response, whereas the second and third were related\\\\nto the cell cycle process.\\\\nAnalysis details for the Kimmerling dataset\\\\nSuccessful reconstruction of the vector ﬁeld function from transcriptomic data depends on whether the input datasets capture suf-\\\\nﬁcient dynamical information and whether', metadata={'page': 53, 'source': '/nfs/turbo/umms-indikar/shared/projects/RAG/papers/DigitalLibrary-9-June-2024/Mapping transcriptomic vector fields of single cells.pdf'}), Document(page_content='ﬁrst reconstructed the vector ﬁeld on the 4D PCA space or the 3D UMAP space that was reduced from the combined\\\\nexpression space with cell-cycle and glucocorticoid receptor (GR) response genes, using the corresponding projected cell state andvelocity vector pairs. We then calculated the Jacobian between those UMAP or PCA components in each cell. Overall high-magni-\\\\ntude Jacobian values across cells indicate a strong coupling between those processes related to those components and vice versa.\\\\nThe ﬁrst and second principal components were related to linear GR response, whereas the third and fourth principal componentswere related to the cell cycle process. The ﬁrst UMAP space is related to the GR response, whereas the second and third were related\\\\nto the cell cycle process.\\\\nAnalysis details for the Kimmerling dataset\\\\nSuccessful reconstruction of the vector ﬁeld function from transcriptomic data depends on whether the input datasets capture suf-\\\\nﬁcient dynamical information and whether', metadata={'page': 53, 'source': '/nfs/turbo/umms-indikar/shared/projects/RAG/papers/DigitalLibrary-9-June-2024/Qiu et al. - 2022 - Mapping transcriptomic vector fields of single cel.pdf'})]\"},\n",
       "    {'input_documents': {'0': {'page_content': 'None',\n",
       "       'metadata': {'source': '/nfs/turbo/umms-indikar/shared/projects/RAG/papers/DigitalLibrary-9-June-2024/Mapping transcriptomic vector fields of single cells.pdf'}},\n",
       "      '1': {'page_content': 'None',\n",
       "       'metadata': {'source': '/nfs/turbo/umms-indikar/shared/projects/RAG/papers/DigitalLibrary-9-June-2024/Qiu et al. - 2022 - Mapping transcriptomic vector fields of single cel.pdf'}}},\n",
       "     'question': 'Use the Retrieval Augmented Generation (RAG) method to search literature and documents from a text database to answer the question \"What role does PCNA play in the cell cycle and cell cycle imaging?\" and provide a summary of the findings.',\n",
       "     'output_text': \"A very specific and technical question!\\n\\nUsing the Retrieval Augmented Generation (RAG) method, I have searched a vast text database of scientific literature and documents to provide an answer to your question.\\n\\n**Summary of Findings:**\\n\\nProliferating Cell Nuclear Antigen (PCNA) plays a crucial role in the cell cycle, particularly in the S-phase (DNA synthesis phase). It is a protein that acts as a sliding clamp for DNA polymerase, facilitating processive DNA replication.\\n\\nPCNA's role in the cell cycle:\\n\\n1. **DNA replication**: PCNA recruits DNA polymerase to the replication fork, enabling processive DNA synthesis.\\n2. **Cell cycle regulation**: PCNA interacts with cell cycle regulators, such as p21, to coordinate DNA replication with cell cycle progression.\\n3. **Checkpoint control**: PCNA is involved in the activation of intra-S phase checkpoints, which monitor DNA replication fidelity and prevent genome instability.\\n\\nRegarding cell cycle imaging, PCNA has been used as a marker to visualize the cell cycle progression and DNA replication. Specifically:\\n\\n1. **Immunofluorescence**: PCNA antibodies can be used to stain cells, allowing for the visualization of PCNA localization and expression during different stages of the cell cycle.\\n2. **Live-cell imaging**: PCNA-GFP (green fluorescent protein) fusion proteins have been used to monitor PCNA dynamics and DNA replication in real-time.\\n\\nIn summary, PCNA plays a central role in DNA replication and cell cycle regulation, and its visualization using immunofluorescence and live-cell imaging techniques has contributed significantly to our understanding of cell cycle dynamics.\\n\\nPlease let me know if you'd like me to provide more information or clarify any specific aspects of PCNA's role in the cell cycle and cell cycle imaging!\"},\n",
       "    {'func': 'utils.makeNamesConsistent',\n",
       "     'files': [{'old-name': '/home/jpic/BRAD/2024-06-19_19-26-08/.ipynb_checkpoints',\n",
       "       'new-name': '/home/jpic/BRAD/2024-06-19_19-26-08/S1-.ipynb_checkpoints'},\n",
       "      {'old-name': '/home/jpic/BRAD/2024-06-19_19-26-08/log.json',\n",
       "       'new-name': '/home/jpic/BRAD/2024-06-19_19-26-08/log.json'},\n",
       "      {'old-name': '/home/jpic/BRAD/2024-06-19_19-26-08/S1-.ipynb_checkpoints',\n",
       "       'new-name': '/home/jpic/BRAD/2024-06-19_19-26-08/S1-.ipynb_checkpoints'}]}]},\n",
       "  'status': {'databases': \"{'RAG': <langchain_community.vectorstores.chroma.Chroma object at 0x14b9010eb810>}\",\n",
       "   'current table': {'key': None, 'tab': None},\n",
       "   'current documents': None},\n",
       "  'planned': [{'order': 2,\n",
       "    'module': 'CODE',\n",
       "    'prompt': '/force CODE Run the hwg analysis pipeline (CODE) to find first-order interactions of PCNA using the genes and proteins mentioned in the literature search from Step 1. Execute the hwg pipeline and provide the output of the analysis.',\n",
       "    'description': '2 (CODE)**:\\nPrompt: Run the hwg analysis pipeline (CODE) to find first-order interactions of PCNA using the genes and proteins mentioned in the literature search from Step 1. Execute the hwg pipeline and provide the output of the analysis.\\n\\n'},\n",
       "   {'order': 3,\n",
       "    'module': 'DATABASE',\n",
       "    'prompt': '/force DATABASE Use the output from Step 2 and utilize the Bioinformatics Databases (DATABASE) method, specifically Gene Ontology and Enrichr, to perform gene set enrichment analyses and identify the pathways PCNA is involved in. Provide a list of enriched pathways and their corresponding significance values.',\n",
       "    'description': '3 (DATABASE)**:\\nPrompt: Use the output from Step 2 and utilize the Bioinformatics Databases (DATABASE) method, specifically Gene Ontology and Enrichr, to perform gene set enrichment analyses and identify the pathways PCNA is involved in. Provide a list of enriched pathways and their corresponding significance values.\\n\\n'},\n",
       "   {'order': 4,\n",
       "    'module': 'WRITE',\n",
       "    'prompt': '/force WRITE Write a small report (WRITE) summarizing the findings from each of the previous steps, including the role of PCNA in the cell cycle and cell cycle imaging (Step 1), the first-order interactions of PCNA (Step 2), and the enriched pathways PCNA is involved in (Step 3).',\n",
       "    'description': '4 (WRITE)**:\\nPrompt: Write a small report (WRITE) summarizing the findings from each of the previous steps, including the role of PCNA in the cell cycle and cell cycle imaging (Step 1), the first-order interactions of PCNA (Step 2), and the enriched pathways PCNA is involved in (Step 3).\\n\\n'}]},\n",
       " '3': {'prompt': 'Run the hwg analysis pipeline (CODE) to find first-order interactions of PCNA using the genes and proteins mentioned in the literature search from Step 1. Execute the hwg pipeline and provide the output of the analysis.',\n",
       "  'output': \"A very specific and technical question!\\n\\nUsing the Retrieval Augmented Generation (RAG) method, I have searched a vast text database of scientific literature and documents to provide an answer to your question.\\n\\n**Summary of Findings:**\\n\\nProliferating Cell Nuclear Antigen (PCNA) plays a crucial role in the cell cycle, particularly in the S-phase (DNA synthesis phase). It is a protein that acts as a sliding clamp for DNA polymerase, facilitating processive DNA replication.\\n\\nPCNA's role in the cell cycle:\\n\\n1. **DNA replication**: PCNA recruits DNA polymerase to the replication fork, enabling processive DNA synthesis.\\n2. **Cell cycle regulation**: PCNA interacts with cell cycle regulators, such as p21, to coordinate DNA replication with cell cycle progression.\\n3. **Checkpoint control**: PCNA is involved in the activation of intra-S phase checkpoints, which monitor DNA replication fidelity and prevent genome instability.\\n\\nRegarding cell cycle imaging, PCNA has been used as a marker to visualize the cell cycle progression and DNA replication. Specifically:\\n\\n1. **Immunofluorescence**: PCNA antibodies can be used to stain cells, allowing for the visualization of PCNA localization and expression during different stages of the cell cycle.\\n2. **Live-cell imaging**: PCNA-GFP (green fluorescent protein) fusion proteins have been used to monitor PCNA dynamics and DNA replication in real-time.\\n\\nIn summary, PCNA plays a central role in DNA replication and cell cycle regulation, and its visualization using immunofluorescence and live-cell imaging techniques has contributed significantly to our understanding of cell cycle dynamics.\\n\\nPlease let me know if you'd like me to provide more information or clarify any specific aspects of PCNA's role in the cell cycle and cell cycle imaging!\",\n",
       "  'process': {'module': 'CODE',\n",
       "   'steps': [{'func': 'utils.makeNamesConsistent',\n",
       "     'files': [{'old-name': '/home/jpic/BRAD/2024-06-19_19-26-08/.ipynb_checkpoints',\n",
       "       'new-name': '/home/jpic/BRAD/2024-06-19_19-26-08/S2-.ipynb_checkpoints'},\n",
       "      {'old-name': '/home/jpic/BRAD/2024-06-19_19-26-08/log.json',\n",
       "       'new-name': '/home/jpic/BRAD/2024-06-19_19-26-08/log.json'},\n",
       "      {'old-name': '/home/jpic/BRAD/2024-06-19_19-26-08/S2-.ipynb_checkpoints',\n",
       "       'new-name': '/home/jpic/BRAD/2024-06-19_19-26-08/S2-.ipynb_checkpoints'},\n",
       "      {'old-name': '/home/jpic/BRAD/2024-06-19_19-26-08/S1-.ipynb_checkpoints',\n",
       "       'new-name': '/home/jpic/BRAD/2024-06-19_19-26-08/S1-.ipynb_checkpoints'}]}]},\n",
       "  'status': {'databases': \"{'RAG': <langchain_community.vectorstores.chroma.Chroma object at 0x14b9010eb810>}\",\n",
       "   'current table': {'key': None, 'tab': None},\n",
       "   'current documents': None},\n",
       "  'planned': [{'order': 3,\n",
       "    'module': 'DATABASE',\n",
       "    'prompt': '/force DATABASE Use the output from Step 2 and utilize the Bioinformatics Databases (DATABASE) method, specifically Gene Ontology and Enrichr, to perform gene set enrichment analyses and identify the pathways PCNA is involved in. Provide a list of enriched pathways and their corresponding significance values.',\n",
       "    'description': '3 (DATABASE)**:\\nPrompt: Use the output from Step 2 and utilize the Bioinformatics Databases (DATABASE) method, specifically Gene Ontology and Enrichr, to perform gene set enrichment analyses and identify the pathways PCNA is involved in. Provide a list of enriched pathways and their corresponding significance values.\\n\\n'},\n",
       "   {'order': 4,\n",
       "    'module': 'WRITE',\n",
       "    'prompt': '/force WRITE Write a small report (WRITE) summarizing the findings from each of the previous steps, including the role of PCNA in the cell cycle and cell cycle imaging (Step 1), the first-order interactions of PCNA (Step 2), and the enriched pathways PCNA is involved in (Step 3).',\n",
       "    'description': '4 (WRITE)**:\\nPrompt: Write a small report (WRITE) summarizing the findings from each of the previous steps, including the role of PCNA in the cell cycle and cell cycle imaging (Step 1), the first-order interactions of PCNA (Step 2), and the enriched pathways PCNA is involved in (Step 3).\\n\\n'}]},\n",
       " '4': {'prompt': 'Use the output from Step 2 and utilize the Bioinformatics Databases (DATABASE) method, specifically Gene Ontology and Enrichr, to perform gene set enrichment analyses and identify the pathways PCNA is involved in. Provide a list of enriched pathways and their corresponding significance values.',\n",
       "  'output': 'The following table was generated by quering the gene list against GO_Biological_Process_2021:',\n",
       "  'process': {'module': 'DATABASE',\n",
       "   'steps': [{'llm': \"model='meta/llama3-70b-instruct'\",\n",
       "     'prompt': \"input_variables=['history', 'input'] template='Current conversation:\\\\n{history}\\\\n    \\\\nGENEONTOLOGY: The Gene Ontology (GO) is an initiative to unify the representation of gene and gene product attributes across all species via the aims: 1) maintain and develop its controlled vocabulary of gene and gene product attributes; 2) annotate genes and gene products, and assimilate and disseminate annotation data; and 3) provide tools for easy access to all aspects of the data provided by the project, and to enable functional interpretation of experimental data using the GO.\\\\n    \\\\nENRICHR: is a tool used to lookup sets of genes and their functional association. ENRICHR has access to many gene-set libraries including Allen_Brain_Atlas_up, ENCODE_Histone_Modifications_2015, Enrichr_Libraries_Most_Popular_Genes, FANTOM6_lncRNA_KD_DEGs, GO_Biological_Process_2023, GTEx, Human_Gene_Atlas, KEGG, REACTOME, Transcription_Factor_PPIs, WikiPathways and many others databases.\\\\n    \\\\nAvailable Tables:\\\\n\\\\n\\\\nQuery:{input}\\\\n\\\\n**INSTRUCTIONS**\\\\n1. From the query, decide if GENEONTOLOGY or ENRICHR should be used\\\\n2. Identify genes in the users input that should be searched. propose genes with similar names, correct the users spelling, or make small modifications to the list, but do not propose genes that are not found in the humans input.\\\\n3. Indicate if genes need to be loaded from a file: True/False\\\\n4. Use the following output format with no additional information or explination.\\\\n\\\\ndatabase: <ENRICHR or GENEONTOLOGY>\\\\ngenes: <None or Gene 1, Gene 2, Gene 3, ...>\\\\nload: <True/False>\\\\n'\",\n",
       "     'input': 'Use the output from Step 2 and utilize the Bioinformatics Databases (DATABASE) method, specifically Gene Ontology and Enrichr, to perform gene set enrichment analyses and identify the pathways PCNA is involved in. Provide a list of enriched pathways and their corresponding significance values.',\n",
       "     'output': 'database: ENRICHR\\ngenes: PCNA\\nload: False',\n",
       "     'parsedOutput': {'database': 'ENRICHR',\n",
       "      'genes': ['PCNA'],\n",
       "      'load': 'False'},\n",
       "     'purpose': 'Select database'},\n",
       "    {'func': 'utils.save',\n",
       "     'new file': '/home/jpic/BRAD/2024-06-19_19-26-08/S3-ENRICHR-GO_Biological_Process_2021.csv'},\n",
       "    {'module': 'ENRICHR',\n",
       "     'genes': \"['PCNA']\",\n",
       "     'plot': False,\n",
       "     'save': True,\n",
       "     'database': 'GO_Biological_Process_2021',\n",
       "     'default db': False},\n",
       "    {'func': 'utils.makeNamesConsistent',\n",
       "     'files': [{'old-name': '/home/jpic/BRAD/2024-06-19_19-26-08/log.json',\n",
       "       'new-name': '/home/jpic/BRAD/2024-06-19_19-26-08/log.json'},\n",
       "      {'old-name': '/home/jpic/BRAD/2024-06-19_19-26-08/S2-.ipynb_checkpoints',\n",
       "       'new-name': '/home/jpic/BRAD/2024-06-19_19-26-08/S2-.ipynb_checkpoints'},\n",
       "      {'old-name': '/home/jpic/BRAD/2024-06-19_19-26-08/S3-ENRICHR-GO_Biological_Process_2021.csv',\n",
       "       'new-name': '/home/jpic/BRAD/2024-06-19_19-26-08/S3-ENRICHR-GO_Biological_Process_2021.csv'},\n",
       "      {'old-name': '/home/jpic/BRAD/2024-06-19_19-26-08/S1-.ipynb_checkpoints',\n",
       "       'new-name': '/home/jpic/BRAD/2024-06-19_19-26-08/S1-.ipynb_checkpoints'}]}],\n",
       "   'database-function': '<function queryEnrichr at 0x14b90e5658a0>'},\n",
       "  'status': {'databases': \"{'RAG': <langchain_community.vectorstores.chroma.Chroma object at 0x14b9010eb810>}\",\n",
       "   'current table': {'key': None, 'tab': None},\n",
       "   'current documents': None},\n",
       "  'planned': [{'order': 4,\n",
       "    'module': 'WRITE',\n",
       "    'prompt': '/force WRITE Write a small report (WRITE) summarizing the findings from each of the previous steps, including the role of PCNA in the cell cycle and cell cycle imaging (Step 1), the first-order interactions of PCNA (Step 2), and the enriched pathways PCNA is involved in (Step 3).',\n",
       "    'description': '4 (WRITE)**:\\nPrompt: Write a small report (WRITE) summarizing the findings from each of the previous steps, including the role of PCNA in the cell cycle and cell cycle imaging (Step 1), the first-order interactions of PCNA (Step 2), and the enriched pathways PCNA is involved in (Step 3).\\n\\n'}]},\n",
       " '5': {'prompt': 'Write a small report (WRITE) summarizing the findings from each of the previous steps, including the role of PCNA in the cell cycle and cell cycle imaging (Step 1), the first-order interactions of PCNA (Step 2), and the enriched pathways PCNA is involved in (Step 3).',\n",
       "  'output': 'The following table was generated by quering the gene list against GO_Biological_Process_2021:',\n",
       "  'process': {'module': 'WRITE',\n",
       "   'steps': [{'func': 'utils.makeNamesConsistent',\n",
       "     'files': [{'old-name': '/home/jpic/BRAD/2024-06-19_19-26-08/log.json',\n",
       "       'new-name': '/home/jpic/BRAD/2024-06-19_19-26-08/log.json'},\n",
       "      {'old-name': '/home/jpic/BRAD/2024-06-19_19-26-08/S2-.ipynb_checkpoints',\n",
       "       'new-name': '/home/jpic/BRAD/2024-06-19_19-26-08/S2-.ipynb_checkpoints'},\n",
       "      {'old-name': '/home/jpic/BRAD/2024-06-19_19-26-08/S3-ENRICHR-GO_Biological_Process_2021.csv',\n",
       "       'new-name': '/home/jpic/BRAD/2024-06-19_19-26-08/S3-ENRICHR-GO_Biological_Process_2021.csv'},\n",
       "      {'old-name': '/home/jpic/BRAD/2024-06-19_19-26-08/S1-.ipynb_checkpoints',\n",
       "       'new-name': '/home/jpic/BRAD/2024-06-19_19-26-08/S1-.ipynb_checkpoints'}]}]},\n",
       "  'status': {'databases': \"{'RAG': <langchain_community.vectorstores.chroma.Chroma object at 0x14b9010eb810>}\",\n",
       "   'current table': {'key': None, 'tab': None},\n",
       "   'current documents': None},\n",
       "  'planned': []}}"
      ]
     },
     "execution_count": 5,
     "metadata": {},
     "output_type": "execute_result"
    }
   ],
   "source": [
    "import json\n",
    "logFile = '/home/jpic/BRAD/2024-06-19_19-26-08/log.json'\n",
    "chatlog = json.load(open(logFile))\n",
    "chatlog"
   ]
  },
  {
   "cell_type": "code",
   "execution_count": 6,
   "id": "1805a9d2-894c-42e8-a9bb-fd5045f6ab16",
   "metadata": {},
   "outputs": [
    {
     "name": "stdout",
     "output_type": "stream",
     "text": [
      "PLANNER\n",
      "RAG\n",
      "CODE\n",
      "DATABASE\n",
      "WRITE\n"
     ]
    }
   ],
   "source": [
    "logFile = '/home/jpic/BRAD/2024-06-19_19-26-08/log.json'\n",
    "chatlog = json.load(open(logFile))\n",
    "for i in chatlog.keys():\n",
    "    if i == 'llm':\n",
    "        continue\n",
    "    print(chatlog[i]['process']['module'])"
   ]
  },
  {
   "cell_type": "code",
   "execution_count": 12,
   "id": "ab6d4882-81a4-422a-9ad6-6645c564f8a2",
   "metadata": {},
   "outputs": [
    {
     "data": {
      "text/plain": [
       "{'module': 'RAG',\n",
       " 'steps': [{'func': 'rag.retrieval',\n",
       "   'multiquery': False,\n",
       "   'num-docs': 2,\n",
       "   'docs': \"[Document(page_content='within S phase, but this\\\\napproach requires high magnification and high\\\\nresolution images. We describe here the use of\\\\ntotal PCNA signal variance which is amenable to\\\\nlower-magnification/lower light-intensity images.\\\\nDespite the powerful advantages of using\\\\na single localization-based fusion to mark all cell\\\\ncycle transitions, the requirements for this\\\\napproach are still beyond what is feasible in some\\\\nstudies. We thus sought to create and thoroughly\\\\nvalidate a simple intensity-based cell cycle reporter\\\\nstrategy. The G1/S transition and S/G2 transition\\\\nreporter in our PIP-FUCCI system leverages\\\\na well-characterized replication-coupled destruc-\\\\ntion pathway in metazoan cells for S phase degra-\\\\ndation via CRL4Cdt2. Degradation of the reporter\\\\nrelies solely on interaction of the minimal human\\\\nCdt1 PIP degron with PCNA when PCNA is\\\\nloaded onto DNA. Reporter dynamics are thus\\\\na direct physical readout of DNA replication\\\\nper se . Moreover, the very rapid degradation con-\\\\nferred by the Cdt1', metadata={'page': 12, 'source': '/nfs/turbo/umms-indikar/shared/projects/RAG/papers/DigitalLibrary-9-June-2024/Accurate delineation of cell cycle phase transitions in living cells with PIP FUCCI.pdf'}), Document(page_content='nucleus boundaries (60% and 70% of\\\\noriginal area in the first and second half of series\\\\nrespectively); 5. Quantification of processed PCNA\\\\nsignal. . A sum of mean and standard deviation of\\\\nvariance image (PCNA variance trace) showed the\\\\nhighest contrast at the beginning and the end of the\\\\nS phase and was therefore used for cell cycle phase\\\\ndelineation. The beginning and end of S phase were\\\\ndetected automatically using the PCNA variance trace\\\\nby smoothing this signal with filters of three different\\\\nkernel sizes and looking for points that consistently\\\\nshowed highest change in value between G1/G2 and\\\\nS phase. Cells not showing clear a point of phase\\\\ntransitions were manually removed from further\\\\nanalysis.\\\\nPhase warping of traces\\\\nThe beginning and end of S phase were detected\\\\nautomatically based on PCNA variance trace as\\\\ndescribed above. Based on these values, the median\\\\ndurations of G1, S and G2/M phases were calculated\\\\nfor each analyzed cell population. These median\\\\nvalues were used to', metadata={'page': 17, 'source': '/nfs/turbo/umms-indikar/shared/projects/RAG/papers/DigitalLibrary-9-June-2024/Accurate delineation of cell cycle phase transitions in living cells with PIP FUCCI.pdf'})]\"},\n",
       "  {'input_documents': {'0': {'page_content': 'Here is a summary of the text relevant to the user\\'s query on the role of PCNA in the cell cycle and cell cycle imaging:\\n\\nThe text describes a cell cycle reporter strategy that leverages the interaction between PCNA and the minimal human Cdt1 PIP degron to mark cell cycle transitions. Specifically, the reporter is degraded when PCNA is loaded onto DNA, providing a direct physical readout of DNA replication. This approach can be used to study the G1/S transition and S/G2 transition in cells.\\n\\nSaved as \"PCNA Lit Search Results\".',\n",
       "     'metadata': {'source': '/nfs/turbo/umms-indikar/shared/projects/RAG/papers/DigitalLibrary-9-June-2024/Accurate delineation of cell cycle phase transitions in living cells with PIP FUCCI.pdf'}},\n",
       "    '1': {'page_content': 'Here is a summary of the text relevant to the user\\'s query on the role of PCNA in the cell cycle and cell cycle imaging:\\n\\nThe PCNA signal is used to delineate cell cycle phases, particularly the beginning and end of the S phase. The PCNA variance trace shows high contrast at these points, allowing for automatic detection of phase transitions. The duration of G1, S, and G2/M phases can be calculated using the PCNA variance trace, enabling cell cycle phase analysis.\\n\\nSaved as \"PCNA Lit Search Results\".',\n",
       "     'metadata': {'source': '/nfs/turbo/umms-indikar/shared/projects/RAG/papers/DigitalLibrary-9-June-2024/Accurate delineation of cell cycle phase transitions in living cells with PIP FUCCI.pdf'}}},\n",
       "   'question': 'Use Retrieval Augmented Generation to perform a literature search on PCNA. Search for documents related to the role of PCNA in the cell cycle and cell cycle imaging. Retrieve relevant abstracts, titles, and summaries. Save the results as \"PCNA Lit Search Results\".',\n",
       "   'output_text': \"It seems like the search has already been performed, and the results are provided in the context. \\n\\nThe summaries provided give insight into the role of PCNA in the cell cycle and cell cycle imaging. Specifically, they highlight that PCNA can be used to mark cell cycle transitions, particularly the G1/S and S/G2 transitions, and that the PCNA signal can be used to delineate cell cycle phases, including the beginning and end of the S phase. \\n\\nIf you'd like me to answer any specific questions related to the results, feel free to ask!\"},\n",
       "  {'func': 'utils.makeNamesConsistent',\n",
       "   'files': [{'old-name': '/home/jpic/BRAD/2024-06-19_19-13-56/log.json',\n",
       "     'new-name': '/home/jpic/BRAD/2024-06-19_19-13-56/log.json'}]}]}"
      ]
     },
     "execution_count": 12,
     "metadata": {},
     "output_type": "execute_result"
    }
   ],
   "source": [
    "template = \"\"\"User Query: {userquery}\n",
    "\n",
    "Summary of Analysis: {Summary of Analysis}\n",
    "\n",
    "Report: {Put extended report here}\n",
    "\"\"\""
   ]
  },
  {
   "cell_type": "code",
   "execution_count": 8,
   "id": "dd9932b1-8156-4cda-ad0e-75d3402bafcb",
   "metadata": {},
   "outputs": [
    {
     "data": {
      "text/plain": [
       "dict_keys(['llm', '1', '2', '3', '4', '5'])"
      ]
     },
     "execution_count": 8,
     "metadata": {},
     "output_type": "execute_result"
    }
   ],
   "source": [
    "chatlog.keys()"
   ]
  },
  {
   "cell_type": "markdown",
   "id": "3415fc4d-7d87-4b96-95aa-f6b7c7feb46e",
   "metadata": {},
   "source": [
    "# DEBUG"
   ]
  },
  {
   "cell_type": "code",
   "execution_count": 11,
   "id": "326c4767-bc1f-4d62-8f00-d439f0291e0c",
   "metadata": {},
   "outputs": [
    {
     "data": {
      "text/plain": [
       "'Perform gene set enrichment analysis on the identified interactions from Step 2 using databases like Gene Ontology and Enrichr. This will provide information on biological pathways and cell types associated with these interactions.'"
      ]
     },
     "execution_count": 11,
     "metadata": {},
     "output_type": "execute_result"
    }
   ],
   "source": [
    "XX = \"/force DATABASE Perform gene set enrichment analysis on the identified interactions from Step 2 using databases like Gene Ontology and Enrichr. This will provide information on biological pathways and cell types associated with these interactions.\"\n",
    "\" \".join(XX.split(' ')[2:]).strip()"
   ]
  },
  {
   "cell_type": "code",
   "execution_count": 1,
   "id": "7ee58c30-e7ac-41bf-bbf7-5448f23f38c4",
   "metadata": {},
   "outputs": [],
   "source": [
    "from BRAD.matlabCaller import find_matlab_files, get_matlab_description\n",
    "from BRAD.pythonCaller import find_py_files, get_py_description"
   ]
  },
  {
   "cell_type": "code",
   "execution_count": 2,
   "id": "89d689d4-263c-48a9-90d7-dca0336f11ef",
   "metadata": {},
   "outputs": [
    {
     "data": {
      "text/plain": [
       "['animal_info', 'example', 'helloWorldPYTHON']"
      ]
     },
     "execution_count": 2,
     "metadata": {},
     "output_type": "execute_result"
    }
   ],
   "source": [
    "find_py_files('/home/jpic/RAG-DEV/tutorials/running-codes/python/')"
   ]
  },
  {
   "cell_type": "code",
   "execution_count": 3,
   "id": "ea1a7695-8668-4cd0-b79e-19ade4f3072d",
   "metadata": {},
   "outputs": [
    {
     "data": {
      "text/plain": [
       "'This script prints hello world to the terminal. No arguments are required.'"
      ]
     },
     "execution_count": 3,
     "metadata": {},
     "output_type": "execute_result"
    }
   ],
   "source": [
    "get_py_description('/home/jpic/RAG-DEV/tutorials/running-codes/python/helloWorldPYTHON.py')"
   ]
  },
  {
   "cell_type": "code",
   "execution_count": 4,
   "id": "b46e3f06-c310-4caa-b6c5-b890154fd85b",
   "metadata": {},
   "outputs": [
    {
     "data": {
      "text/plain": [
       "['matlabPipeline', 'myFunc', 'helloWorldMATLAB', 'saveplot', 'qualityControl']"
      ]
     },
     "execution_count": 4,
     "metadata": {},
     "output_type": "execute_result"
    }
   ],
   "source": [
    "find_matlab_files('/home/jpic/RAG-DEV/tutorials/running-codes/matlab/')"
   ]
  },
  {
   "cell_type": "code",
   "execution_count": 5,
   "id": "8d43c2f8-78df-4a60-a9b0-7e3a7d908a4a",
   "metadata": {},
   "outputs": [
    {
     "data": {
      "text/plain": [
       "' qualityControl - Constructs and runs a bioinformatics quality control pipeline.'"
      ]
     },
     "execution_count": 5,
     "metadata": {},
     "output_type": "execute_result"
    }
   ],
   "source": [
    "get_matlab_description('/home/jpic/RAG-DEV/tutorials/running-codes/matlab/qualityControl.m')"
   ]
  },
  {
   "cell_type": "raw",
   "id": "f1ab7fd5-53ae-466c-9c43-55e0dc3c08fa",
   "metadata": {},
   "source": [
    "/force CODE say hello world using python!"
   ]
  },
  {
   "cell_type": "code",
   "execution_count": 1,
   "id": "4dd54f73-6d6c-4add-9e82-96b9e7324026",
   "metadata": {},
   "outputs": [
    {
     "name": "stdout",
     "output_type": "stream",
     "text": [
      "Welcome to RAG! The chat log from this conversation will be saved to /home/jpic/BRAD/2024-06-16-16:50:05.318931.json. How can I help?\n"
     ]
    },
    {
     "name": "stdin",
     "output_type": "stream",
     "text": [
      "Enter your NVIDIA API key:  ········\n"
     ]
    },
    {
     "name": "stdout",
     "output_type": "stream",
     "text": [
      "\n",
      "Would you like to use a database with BRAD [Y/N]?\n"
     ]
    },
    {
     "name": "stdin",
     "output_type": "stream",
     "text": [
      " N\n"
     ]
    },
    {
     "name": "stderr",
     "output_type": "stream",
     "text": [
      "Sun 16 Jun 2024 04:50:09 PM EDT INFO local\n"
     ]
    },
    {
     "name": "stdout",
     "output_type": "stream",
     "text": [
      "==================================================\n"
     ]
    },
    {
     "name": "stdin",
     "output_type": "stream",
     "text": [
      "Input >>  /force CODE say hello world using python!\n"
     ]
    },
    {
     "name": "stderr",
     "output_type": "stream",
     "text": [
      "Sun 16 Jun 2024 04:50:14 PM EDT INFO CODE\n"
     ]
    },
    {
     "name": "stdout",
     "output_type": "stream",
     "text": [
      "==================================================\n",
      "RAG >> 1: CODER\n",
      "FIRST LLM CALL\n",
      "Warning! the type doesnt exist\n",
      "scriptPath=/home/jpic/RAG-DEV/tutorials/running-codes/python/\n",
      "pyPath=/home/jpic/RAG-DEV/tutorials/running-codes/python/\n",
      "ALL SCRIPTS FOUND. BUILDING TEMPLATE\n",
      "input_variables=['history', 'input'] template='Current conversation:\\n{history}\\n\\n**PYTHON SCRIPT**\\nYou must run this python script: \\n/home/jpic/RAG-DEV/tutorials/running-codes/python/helloWorldPYTHON.py\\n\\n**PYTHON SCRIPT DOCUMENTATION**:\\nThis is the doc string of this python script:\\n\"\"\"\\nThis script prints hello world to the terminal. No arguments are required.\\n\\nExample usage:\\n    subprocess.call([sys.executable, \\'python/helloWorldPYTHON.py\\'])\\n\"\"\"\\n\\n\\n**CALL PYTHON SCRIPTS FROM PYTHON**:\\nUse the `subprocess` module to call any Python script from another Python script. Here are some examples to call a few common Python scripts:\\n\\nTo call a Python script `example_script.py` which has no arguments:\\n    \\n```\\nExecute: subprocess.call([sys.executable, \\'<full path to script/> example_script.py\\'])\\n```\\n\\nTo call a Python script `example_script.py` with one argument:\\n\\n```\\nExecute: subprocess.call([sys.executable, \\'<full path to script/> example_script.py\\', \\'arg1\\'])\\n```\\n\\nTo call a Python script `example_script.py` with two arguments:\\n```\\nExecute: subprocess.call([sys.executable, \\'<full path to script/> example_script.py\\', \\'arg1\\', \\'arg2\\'])\\n```\\nQuery:{input}\\n\\n\\n**INSTRUCTIONS**\\n1. Given the user query and the documentation, identify each of the arguments found in the user\\'s query that should be passed to the Python script.\\n2. Using the `subprocess` module, provide the one line of code to execute the desired Python script with the given arguments. Assume the necessary modules (`subprocess` and `sys`) are already imported.\\n3. The last line of your response should say \"Execute: <Python code to execute>\"\\n4. Format the response/output as:\\n    Arguments: \\n    Python Code Explanation: <2 sentences maximum>\\n    Execute: <your code here>\\n\\n**IMPORTANT**\\nThe code to execute from your response must be formatted as:\\n    Execute: subprocess.call([sys.executable, \\'<path to python script>\\', \\'<argument 1>\\', \\'<argument 2>\\', ..., \\'<argument n>\\'])\\nThis output should be exactly one line and no longer. Stop the response after this line.\\n'\n",
      "\n",
      "\n",
      "\u001b[1m> Entering new ConversationChain chain...\u001b[0m\n",
      "Prompt after formatting:\n",
      "\u001b[32;1m\u001b[1;3mCurrent conversation:\n",
      "\n",
      "\n",
      "**PYTHON SCRIPT**\n",
      "You must run this python script: \n",
      "/home/jpic/RAG-DEV/tutorials/running-codes/python/helloWorldPYTHON.py\n",
      "\n",
      "**PYTHON SCRIPT DOCUMENTATION**:\n",
      "This is the doc string of this python script:\n",
      "\"\"\"\n",
      "This script prints hello world to the terminal. No arguments are required.\n",
      "\n",
      "Example usage:\n",
      "    subprocess.call([sys.executable, 'python/helloWorldPYTHON.py'])\n",
      "\"\"\"\n",
      "\n",
      "\n",
      "**CALL PYTHON SCRIPTS FROM PYTHON**:\n",
      "Use the `subprocess` module to call any Python script from another Python script. Here are some examples to call a few common Python scripts:\n",
      "\n",
      "To call a Python script `example_script.py` which has no arguments:\n",
      "    \n",
      "```\n",
      "Execute: subprocess.call([sys.executable, '<full path to script/> example_script.py'])\n",
      "```\n",
      "\n",
      "To call a Python script `example_script.py` with one argument:\n",
      "\n",
      "```\n",
      "Execute: subprocess.call([sys.executable, '<full path to script/> example_script.py', 'arg1'])\n",
      "```\n",
      "\n",
      "To call a Python script `example_script.py` with two arguments:\n",
      "```\n",
      "Execute: subprocess.call([sys.executable, '<full path to script/> example_script.py', 'arg1', 'arg2'])\n",
      "```\n",
      "Query:/force CODE say hello world using python!\n",
      "\n",
      "\n",
      "**INSTRUCTIONS**\n",
      "1. Given the user query and the documentation, identify each of the arguments found in the user's query that should be passed to the Python script.\n",
      "2. Using the `subprocess` module, provide the one line of code to execute the desired Python script with the given arguments. Assume the necessary modules (`subprocess` and `sys`) are already imported.\n",
      "3. The last line of your response should say \"Execute: <Python code to execute>\"\n",
      "4. Format the response/output as:\n",
      "    Arguments: \n",
      "    Python Code Explanation: <2 sentences maximum>\n",
      "    Execute: <your code here>\n",
      "\n",
      "**IMPORTANT**\n",
      "The code to execute from your response must be formatted as:\n",
      "    Execute: subprocess.call([sys.executable, '<path to python script>', '<argument 1>', '<argument 2>', ..., '<argument n>'])\n",
      "This output should be exactly one line and no longer. Stop the response after this line.\n",
      "\u001b[0m\n",
      "\n",
      "\u001b[1m> Finished chain.\u001b[0m\n",
      "LLM OUTPUT PARSER\n",
      " Arguments: The user query does not provide any arguments to be passed to the Python script. The script documentation indicates no arguments are required.\n",
      "\n",
      "Python Code Explanation: We will execute the \"helloWorldPYTHON.py\" script with no arguments.\n",
      "\n",
      "Execute: subprocess.call([sys.executable, '/home/jpic/RAG-DEV/tutorials/running-codes/python/helloWorldPYTHON.py'])\n",
      "[' Arguments: The user query does not provide any arguments to be passed to the Python script. The script documentation indicates no arguments are required.\\n\\nPython Code Explanation: We will execute the \"helloWorldPYTHON.py\" script with no arguments.\\n\\n', \" subprocess.call([sys.executable, '/home/jpic/RAG-DEV/tutorials/running-codes/python/helloWorldPYTHON.py'])\"]\n",
      "Executing Code!!\n",
      "EVAL\n",
      "subprocess.call([sys.executable, '/home/jpic/RAG-DEV/tutorials/running-codes/python/helloWorldPYTHON.py'])\n",
      "END EVAL CHECK\n",
      "Hello World from a Python Script!\n",
      "Debug: PYTHON code executed successfully.\n",
      "==================================================\n"
     ]
    },
    {
     "name": "stdin",
     "output_type": "stream",
     "text": [
      "Input >>  /force CODE say hello world using matlab\n"
     ]
    },
    {
     "name": "stderr",
     "output_type": "stream",
     "text": [
      "Sun 16 Jun 2024 04:50:26 PM EDT INFO CODE\n"
     ]
    },
    {
     "name": "stdout",
     "output_type": "stream",
     "text": [
      "==================================================\n",
      "RAG >> 2: CODER\n",
      "FIRST LLM CALL\n",
      "Warning! the type doesnt exist\n"
     ]
    },
    {
     "name": "stderr",
     "output_type": "stream",
     "text": [
      "huggingface/tokenizers: The current process just got forked, after parallelism has already been used. Disabling parallelism to avoid deadlocks...\n",
      "To disable this warning, you can either:\n",
      "\t- Avoid using `tokenizers` before the fork if possible\n",
      "\t- Explicitly set the environment variable TOKENIZERS_PARALLELISM=(true | false)\n"
     ]
    },
    {
     "name": "stdout",
     "output_type": "stream",
     "text": [
      "Matlab Engine On\n",
      "ALL SCRIPTS FOUND. BUILDING TEMPLATE\n",
      "input_variables=['history', 'input'] template='Current conversation:\\n{history}\\n\\n**MATLAB SCRIPT**\\nYou must run this python script: \\nhelloWorldMATLAB.m\\n\\n**MATLAB FUNCTION DOCUMENTATION**:\\nfunction output = helloWorldMATLAB()\\n% Print \"Hello World\"\\n%\\n% Author: Joshua Pickard\\n%         jpic@umich.edu\\n% Date: June 14, 2024\\n\\n**CALL MATLAB FUNCTIONS FROM PYTHON**:\\nUse MATLAB® Engine API for Python® to call any MATLAB function on the MATLAB path. Some examples to call a few common matlab functions include:\\n\\nTo call the matlab function myFnc which has no arguments:\\n```\\nExecute: eng.myFnc()\\n```\\n\\nTo use the is prime function which requires an input argument:\\n```\\nExecute: tf = eng.isprime(37)\\n```\\n\\nTo determine the greatest common denominator of two numbers, use the gcd function. Set nargout to return the three output arguments from gcd.\\n```\\nExecute: t = eng.gcd(100.0,80.0,nargout=3)\\n```\\n\\nQuery:{input}\\n\\n**INSTRUCTIONS**\\n1. Given the user query and the documentation, identify each of the arguments found in the users query that should be passed to the matlab function.\\n2. Using the matlab enging eng, provide the one line of code to execute the desired matlab commands. Assume all functions are added to the path and eng already exist.\\n3. The last line of your response should say \"Execute: <MATLAB codes to execute>\"\\n4. Format the response/output as:\\nArguments: \\nMATLAB Code Explanation: <2 sentences maximum>\\nExecute: <your code here>\\n\\n**IMPORTANT**\\nThe code to execute from your response must be formatted as:\\n    Execute: eng.<function name>(<arguments>)>\\nThis output should be exactly one line and no longer. Stop the response after this line.\\n'\n",
      "\n",
      "\n",
      "\u001b[1m> Entering new ConversationChain chain...\u001b[0m\n",
      "Prompt after formatting:\n",
      "\u001b[32;1m\u001b[1;3mCurrent conversation:\n",
      "Human: /force CODE say hello world using python!\n",
      "BRAD:  Arguments: The user query does not provide any arguments to be passed to the Python script. The script documentation indicates no arguments are required.\n",
      "\n",
      "Python Code Explanation: We will execute the \"helloWorldPYTHON.py\" script with no arguments.\n",
      "\n",
      "Execute: subprocess.call([sys.executable, '/home/jpic/RAG-DEV/tutorials/running-codes/python/helloWorldPYTHON.py'])\n",
      "\n",
      "**MATLAB SCRIPT**\n",
      "You must run this python script: \n",
      "helloWorldMATLAB.m\n",
      "\n",
      "**MATLAB FUNCTION DOCUMENTATION**:\n",
      "function output = helloWorldMATLAB()\n",
      "% Print \"Hello World\"\n",
      "%\n",
      "% Author: Joshua Pickard\n",
      "%         jpic@umich.edu\n",
      "% Date: June 14, 2024\n",
      "\n",
      "**CALL MATLAB FUNCTIONS FROM PYTHON**:\n",
      "Use MATLAB® Engine API for Python® to call any MATLAB function on the MATLAB path. Some examples to call a few common matlab functions include:\n",
      "\n",
      "To call the matlab function myFnc which has no arguments:\n",
      "```\n",
      "Execute: eng.myFnc()\n",
      "```\n",
      "\n",
      "To use the is prime function which requires an input argument:\n",
      "```\n",
      "Execute: tf = eng.isprime(37)\n",
      "```\n",
      "\n",
      "To determine the greatest common denominator of two numbers, use the gcd function. Set nargout to return the three output arguments from gcd.\n",
      "```\n",
      "Execute: t = eng.gcd(100.0,80.0,nargout=3)\n",
      "```\n",
      "\n",
      "Query:/force CODE say hello world using matlab\n",
      "\n",
      "**INSTRUCTIONS**\n",
      "1. Given the user query and the documentation, identify each of the arguments found in the users query that should be passed to the matlab function.\n",
      "2. Using the matlab enging eng, provide the one line of code to execute the desired matlab commands. Assume all functions are added to the path and eng already exist.\n",
      "3. The last line of your response should say \"Execute: <MATLAB codes to execute>\"\n",
      "4. Format the response/output as:\n",
      "Arguments: \n",
      "MATLAB Code Explanation: <2 sentences maximum>\n",
      "Execute: <your code here>\n",
      "\n",
      "**IMPORTANT**\n",
      "The code to execute from your response must be formatted as:\n",
      "    Execute: eng.<function name>(<arguments>)>\n",
      "This output should be exactly one line and no longer. Stop the response after this line.\n",
      "\u001b[0m\n",
      "\n",
      "\u001b[1m> Finished chain.\u001b[0m\n",
      "LLM OUTPUT PARSER\n",
      " Arguments: No arguments are required for the \"helloWorldMATLAB\" function.\n",
      "\n",
      "MATLAB Code Explanation: We will execute the \"helloWorldMATLAB.m\" function with no arguments.\n",
      "\n",
      "Execute: eng.helloWorldMATLAB()\n",
      "[' Arguments: No arguments are required for the \"helloWorldMATLAB\" function.\\n\\nMATLAB Code Explanation: We will execute the \"helloWorldMATLAB.m\" function with no arguments.\\n\\n', ' eng.helloWorldMATLAB()']\n",
      "Executing Code!!\n",
      "EVAL\n",
      "eng.helloWorldMATLAB()\n",
      "END EVAL CHECK\n",
      "Hello World! This message is generated from BRAD running the helloWorldMATLAB function!\n",
      "Debug: MATLAB code executed successfully.\n",
      "==================================================\n"
     ]
    },
    {
     "name": "stdin",
     "output_type": "stream",
     "text": [
      "Input >>  /force CODE say hello world using matlab\n"
     ]
    },
    {
     "name": "stderr",
     "output_type": "stream",
     "text": [
      "Sun 16 Jun 2024 04:50:46 PM EDT INFO CODE\n"
     ]
    },
    {
     "name": "stdout",
     "output_type": "stream",
     "text": [
      "==================================================\n",
      "RAG >> 3: CODER\n",
      "FIRST LLM CALL\n",
      "Warning! the type doesnt exist\n",
      "Matlab Engine On\n",
      "ALL SCRIPTS FOUND. BUILDING TEMPLATE\n",
      "input_variables=['history', 'input'] template='Current conversation:\\n{history}\\n\\n**MATLAB SCRIPT**\\nYou must run this python script: \\nhelloWorldMATLAB.m\\n\\n**MATLAB FUNCTION DOCUMENTATION**:\\nfunction output = helloWorldMATLAB()\\n% Print \"Hello World\"\\n%\\n% Author: Joshua Pickard\\n%         jpic@umich.edu\\n% Date: June 14, 2024\\n\\n**CALL MATLAB FUNCTIONS FROM PYTHON**:\\nUse MATLAB® Engine API for Python® to call any MATLAB function on the MATLAB path. Some examples to call a few common matlab functions include:\\n\\nTo call the matlab function myFnc which has no arguments:\\n```\\nExecute: eng.myFnc()\\n```\\n\\nTo use the is prime function which requires an input argument:\\n```\\nExecute: tf = eng.isprime(37)\\n```\\n\\nTo determine the greatest common denominator of two numbers, use the gcd function. Set nargout to return the three output arguments from gcd.\\n```\\nExecute: t = eng.gcd(100.0,80.0,nargout=3)\\n```\\n\\nQuery:{input}\\n\\n**INSTRUCTIONS**\\n1. Given the user query and the documentation, identify each of the arguments found in the users query that should be passed to the matlab function.\\n2. Using the matlab enging eng, provide the one line of code to execute the desired matlab commands. Assume all functions are added to the path and eng already exist.\\n3. The last line of your response should say \"Execute: <MATLAB codes to execute>\"\\n4. Format the response/output as:\\nArguments: \\nMATLAB Code Explanation: <2 sentences maximum>\\nExecute: <your code here>\\n\\n**IMPORTANT**\\nThe code to execute from your response must be formatted as:\\n    Execute: eng.<function name>(<arguments>)>\\nThis output should be exactly one line and no longer. Stop the response after this line.\\n'\n",
      "\n",
      "\n",
      "\u001b[1m> Entering new ConversationChain chain...\u001b[0m\n",
      "Prompt after formatting:\n",
      "\u001b[32;1m\u001b[1;3mCurrent conversation:\n",
      "Human: /force CODE say hello world using python!\n",
      "BRAD:  Arguments: The user query does not provide any arguments to be passed to the Python script. The script documentation indicates no arguments are required.\n",
      "\n",
      "Python Code Explanation: We will execute the \"helloWorldPYTHON.py\" script with no arguments.\n",
      "\n",
      "Execute: subprocess.call([sys.executable, '/home/jpic/RAG-DEV/tutorials/running-codes/python/helloWorldPYTHON.py'])\n",
      "Human: /force CODE say hello world using matlab\n",
      "BRAD:  Arguments: No arguments are required for the \"helloWorldMATLAB\" function.\n",
      "\n",
      "MATLAB Code Explanation: We will execute the \"helloWorldMATLAB.m\" function with no arguments.\n",
      "\n",
      "Execute: eng.helloWorldMATLAB()\n",
      "\n",
      "**MATLAB SCRIPT**\n",
      "You must run this python script: \n",
      "helloWorldMATLAB.m\n",
      "\n",
      "**MATLAB FUNCTION DOCUMENTATION**:\n",
      "function output = helloWorldMATLAB()\n",
      "% Print \"Hello World\"\n",
      "%\n",
      "% Author: Joshua Pickard\n",
      "%         jpic@umich.edu\n",
      "% Date: June 14, 2024\n",
      "\n",
      "**CALL MATLAB FUNCTIONS FROM PYTHON**:\n",
      "Use MATLAB® Engine API for Python® to call any MATLAB function on the MATLAB path. Some examples to call a few common matlab functions include:\n",
      "\n",
      "To call the matlab function myFnc which has no arguments:\n",
      "```\n",
      "Execute: eng.myFnc()\n",
      "```\n",
      "\n",
      "To use the is prime function which requires an input argument:\n",
      "```\n",
      "Execute: tf = eng.isprime(37)\n",
      "```\n",
      "\n",
      "To determine the greatest common denominator of two numbers, use the gcd function. Set nargout to return the three output arguments from gcd.\n",
      "```\n",
      "Execute: t = eng.gcd(100.0,80.0,nargout=3)\n",
      "```\n",
      "\n",
      "Query:/force CODE say hello world using matlab\n",
      "\n",
      "**INSTRUCTIONS**\n",
      "1. Given the user query and the documentation, identify each of the arguments found in the users query that should be passed to the matlab function.\n",
      "2. Using the matlab enging eng, provide the one line of code to execute the desired matlab commands. Assume all functions are added to the path and eng already exist.\n",
      "3. The last line of your response should say \"Execute: <MATLAB codes to execute>\"\n",
      "4. Format the response/output as:\n",
      "Arguments: \n",
      "MATLAB Code Explanation: <2 sentences maximum>\n",
      "Execute: <your code here>\n",
      "\n",
      "**IMPORTANT**\n",
      "The code to execute from your response must be formatted as:\n",
      "    Execute: eng.<function name>(<arguments>)>\n",
      "This output should be exactly one line and no longer. Stop the response after this line.\n",
      "\u001b[0m\n",
      "\n",
      "\u001b[1m> Finished chain.\u001b[0m\n",
      "LLM OUTPUT PARSER\n",
      " Arguments: No arguments are required for the \"helloWorldMATLAB\" function.\n",
      "\n",
      "MATLAB Code Explanation: We will execute the \"helloWorldMATLAB\" function with no arguments.\n",
      "\n",
      "Execute: eng.helloWorldMATLAB()\n",
      "[' Arguments: No arguments are required for the \"helloWorldMATLAB\" function.\\n\\nMATLAB Code Explanation: We will execute the \"helloWorldMATLAB\" function with no arguments.\\n\\n', ' eng.helloWorldMATLAB()']\n",
      "Executing Code!!\n",
      "EVAL\n",
      "eng.helloWorldMATLAB()\n",
      "END EVAL CHECK\n",
      "Hello World! This message is generated from BRAD running the helloWorldMATLAB function!\n",
      "Debug: MATLAB code executed successfully.\n",
      "==================================================\n"
     ]
    },
    {
     "name": "stdin",
     "output_type": "stream",
     "text": [
      "Input >>  /force CODE say hello world using python!\n"
     ]
    },
    {
     "name": "stderr",
     "output_type": "stream",
     "text": [
      "Sun 16 Jun 2024 04:50:55 PM EDT INFO CODE\n"
     ]
    },
    {
     "name": "stdout",
     "output_type": "stream",
     "text": [
      "==================================================\n",
      "RAG >> 4: CODER\n",
      "FIRST LLM CALL\n",
      "Warning! the type doesnt exist\n",
      "scriptPath=/home/jpic/RAG-DEV/tutorials/running-codes/python/\n",
      "pyPath=/home/jpic/RAG-DEV/tutorials/running-codes/python/\n",
      "ALL SCRIPTS FOUND. BUILDING TEMPLATE\n",
      "input_variables=['history', 'input'] template='Current conversation:\\n{history}\\n\\n**PYTHON SCRIPT**\\nYou must run this python script: \\n/home/jpic/RAG-DEV/tutorials/running-codes/python/helloWorldPYTHON.py\\n\\n**PYTHON SCRIPT DOCUMENTATION**:\\nThis is the doc string of this python script:\\n\"\"\"\\nThis script prints hello world to the terminal. No arguments are required.\\n\\nExample usage:\\n    subprocess.call([sys.executable, \\'python/helloWorldPYTHON.py\\'])\\n\"\"\"\\n\\n\\n**CALL PYTHON SCRIPTS FROM PYTHON**:\\nUse the `subprocess` module to call any Python script from another Python script. Here are some examples to call a few common Python scripts:\\n\\nTo call a Python script `example_script.py` which has no arguments:\\n    \\n```\\nExecute: subprocess.call([sys.executable, \\'<full path to script/> example_script.py\\'])\\n```\\n\\nTo call a Python script `example_script.py` with one argument:\\n\\n```\\nExecute: subprocess.call([sys.executable, \\'<full path to script/> example_script.py\\', \\'arg1\\'])\\n```\\n\\nTo call a Python script `example_script.py` with two arguments:\\n```\\nExecute: subprocess.call([sys.executable, \\'<full path to script/> example_script.py\\', \\'arg1\\', \\'arg2\\'])\\n```\\nQuery:{input}\\n\\n\\n**INSTRUCTIONS**\\n1. Given the user query and the documentation, identify each of the arguments found in the user\\'s query that should be passed to the Python script.\\n2. Using the `subprocess` module, provide the one line of code to execute the desired Python script with the given arguments. Assume the necessary modules (`subprocess` and `sys`) are already imported.\\n3. The last line of your response should say \"Execute: <Python code to execute>\"\\n4. Format the response/output as:\\n    Arguments: \\n    Python Code Explanation: <2 sentences maximum>\\n    Execute: <your code here>\\n\\n**IMPORTANT**\\nThe code to execute from your response must be formatted as:\\n    Execute: subprocess.call([sys.executable, \\'<path to python script>\\', \\'<argument 1>\\', \\'<argument 2>\\', ..., \\'<argument n>\\'])\\nThis output should be exactly one line and no longer. Stop the response after this line.\\n'\n",
      "\n",
      "\n",
      "\u001b[1m> Entering new ConversationChain chain...\u001b[0m\n",
      "Prompt after formatting:\n",
      "\u001b[32;1m\u001b[1;3mCurrent conversation:\n",
      "Human: /force CODE say hello world using python!\n",
      "BRAD:  Arguments: The user query does not provide any arguments to be passed to the Python script. The script documentation indicates no arguments are required.\n",
      "\n",
      "Python Code Explanation: We will execute the \"helloWorldPYTHON.py\" script with no arguments.\n",
      "\n",
      "Execute: subprocess.call([sys.executable, '/home/jpic/RAG-DEV/tutorials/running-codes/python/helloWorldPYTHON.py'])\n",
      "Human: /force CODE say hello world using matlab\n",
      "BRAD:  Arguments: No arguments are required for the \"helloWorldMATLAB\" function.\n",
      "\n",
      "MATLAB Code Explanation: We will execute the \"helloWorldMATLAB.m\" function with no arguments.\n",
      "\n",
      "Execute: eng.helloWorldMATLAB()\n",
      "Human: /force CODE say hello world using matlab\n",
      "BRAD:  Arguments: No arguments are required for the \"helloWorldMATLAB\" function.\n",
      "\n",
      "MATLAB Code Explanation: We will execute the \"helloWorldMATLAB\" function with no arguments.\n",
      "\n",
      "Execute: eng.helloWorldMATLAB()\n",
      "\n",
      "**PYTHON SCRIPT**\n",
      "You must run this python script: \n",
      "/home/jpic/RAG-DEV/tutorials/running-codes/python/helloWorldPYTHON.py\n",
      "\n",
      "**PYTHON SCRIPT DOCUMENTATION**:\n",
      "This is the doc string of this python script:\n",
      "\"\"\"\n",
      "This script prints hello world to the terminal. No arguments are required.\n",
      "\n",
      "Example usage:\n",
      "    subprocess.call([sys.executable, 'python/helloWorldPYTHON.py'])\n",
      "\"\"\"\n",
      "\n",
      "\n",
      "**CALL PYTHON SCRIPTS FROM PYTHON**:\n",
      "Use the `subprocess` module to call any Python script from another Python script. Here are some examples to call a few common Python scripts:\n",
      "\n",
      "To call a Python script `example_script.py` which has no arguments:\n",
      "    \n",
      "```\n",
      "Execute: subprocess.call([sys.executable, '<full path to script/> example_script.py'])\n",
      "```\n",
      "\n",
      "To call a Python script `example_script.py` with one argument:\n",
      "\n",
      "```\n",
      "Execute: subprocess.call([sys.executable, '<full path to script/> example_script.py', 'arg1'])\n",
      "```\n",
      "\n",
      "To call a Python script `example_script.py` with two arguments:\n",
      "```\n",
      "Execute: subprocess.call([sys.executable, '<full path to script/> example_script.py', 'arg1', 'arg2'])\n",
      "```\n",
      "Query:/force CODE say hello world using python!\n",
      "\n",
      "\n",
      "**INSTRUCTIONS**\n",
      "1. Given the user query and the documentation, identify each of the arguments found in the user's query that should be passed to the Python script.\n",
      "2. Using the `subprocess` module, provide the one line of code to execute the desired Python script with the given arguments. Assume the necessary modules (`subprocess` and `sys`) are already imported.\n",
      "3. The last line of your response should say \"Execute: <Python code to execute>\"\n",
      "4. Format the response/output as:\n",
      "    Arguments: \n",
      "    Python Code Explanation: <2 sentences maximum>\n",
      "    Execute: <your code here>\n",
      "\n",
      "**IMPORTANT**\n",
      "The code to execute from your response must be formatted as:\n",
      "    Execute: subprocess.call([sys.executable, '<path to python script>', '<argument 1>', '<argument 2>', ..., '<argument n>'])\n",
      "This output should be exactly one line and no longer. Stop the response after this line.\n",
      "\u001b[0m\n",
      "\n",
      "\u001b[1m> Finished chain.\u001b[0m\n",
      "LLM OUTPUT PARSER\n",
      " Arguments: No arguments are required for the \"helloWorldPYTHON.py\" script according to the documentation and the user query.\n",
      "\n",
      "Python Code Explanation: We will execute the \"helloWorldPYTHON.py\" script with no arguments.\n",
      "\n",
      "Execute: subprocess.call([sys.executable, '/home/jpic/RAG-DEV/tutorials/running-codes/python/helloWorldPYTHON.py'])\n",
      "[' Arguments: No arguments are required for the \"helloWorldPYTHON.py\" script according to the documentation and the user query.\\n\\nPython Code Explanation: We will execute the \"helloWorldPYTHON.py\" script with no arguments.\\n\\n', \" subprocess.call([sys.executable, '/home/jpic/RAG-DEV/tutorials/running-codes/python/helloWorldPYTHON.py'])\"]\n",
      "Executing Code!!\n",
      "EVAL\n",
      "subprocess.call([sys.executable, '/home/jpic/RAG-DEV/tutorials/running-codes/python/helloWorldPYTHON.py'])\n",
      "END EVAL CHECK\n",
      "Hello World from a Python Script!\n",
      "Debug: PYTHON code executed successfully.\n",
      "==================================================\n"
     ]
    },
    {
     "name": "stdin",
     "output_type": "stream",
     "text": [
      "Input >>  q\n"
     ]
    },
    {
     "name": "stdout",
     "output_type": "stream",
     "text": [
      "Thanks for chatting today! I hope to talk soon, and don't forget that a record of this conversation is available at: /home/jpic/BRAD/2024-06-16-16:50:05.318931.json\n"
     ]
    }
   ],
   "source": [
    "from BRAD import brad\n",
    "brad.chat()"
   ]
  },
  {
   "cell_type": "code",
   "execution_count": null,
   "id": "0638b74c-cdc3-4336-90de-7d6ef15014dc",
   "metadata": {},
   "outputs": [],
   "source": []
  },
  {
   "cell_type": "code",
   "execution_count": null,
   "id": "78878573-5b4e-437a-a112-671aa57fc425",
   "metadata": {},
   "outputs": [],
   "source": []
  },
  {
   "cell_type": "code",
   "execution_count": null,
   "id": "9247861d-8023-4c0c-88ef-484fac25932e",
   "metadata": {},
   "outputs": [],
   "source": []
  },
  {
   "cell_type": "code",
   "execution_count": null,
   "id": "094373c3-6dc9-46cb-97dc-0891ad1f4cbf",
   "metadata": {},
   "outputs": [],
   "source": []
  },
  {
   "cell_type": "code",
   "execution_count": null,
   "id": "9563c151-cef6-4efc-8175-5c71bf6a563f",
   "metadata": {},
   "outputs": [],
   "source": []
  },
  {
   "cell_type": "code",
   "execution_count": null,
   "id": "1dda72ea-7694-40b4-be8e-141e793cbbe6",
   "metadata": {},
   "outputs": [],
   "source": []
  },
  {
   "cell_type": "code",
   "execution_count": 28,
   "id": "e229f04e-ec7c-4b13-a2aa-a1d4f0e6fe5d",
   "metadata": {},
   "outputs": [
    {
     "name": "stdout",
     "output_type": "stream",
     "text": [
      "**Available Scripts**\n",
      "Script Name: animal_info, \t Description: This script provides information about different animals based on user input.\n",
      "Script Name: example, \t Description: This is the top-level docstring for the example script.\n",
      "Script Name: helloWorldPYTHON, \t Description: This script prints hello world to the terminal. No arguments are required.\n",
      "Script Name: matlabPipeline, \t Description:  matlabPipeline - A sample function to demonstrate argument handling\n",
      "Script Name: myFunc, \t Description:  myFunc - A simple function to multiply each element of the input array by 2.\n",
      "Script Name: helloWorldMATLAB, \t Description:  Print \"Hello World\"\n",
      "Script Name: saveplot, \t Description: SAVEPLOT Save the plot to a file\n",
      "Script Name: qualityControl, \t Description:  qualityControl - Constructs and runs a bioinformatics quality control pipeline.\n",
      "\n",
      "\n",
      "**User Query**\n",
      "{user_query}\n",
      "\n",
      "**Task**\n",
      "Based on the user's query, select the best script from the available scripts. Provide the script name and explain why it is the best match. If no script is good, replace script with None\n",
      "\n",
      "**Response Template**\n",
      "SCRIPT: <selected script>\n",
      "REASON: <reasoning why the script fits the user prompt>\n",
      "\n"
     ]
    }
   ],
   "source": [
    "scriptPurpose = {'animal_info': 'This script provides information about different animals based on user input.', 'example': 'This is the top-level docstring for the example script.', 'helloWorldPYTHON': 'This script prints hello world to the terminal. No arguments are required.', 'matlabPipeline': ' matlabPipeline - A sample function to demonstrate argument handling', 'myFunc': ' myFunc - A simple function to multiply each element of the input array by 2.', 'helloWorldMATLAB': ' Print \"Hello World\"', 'saveplot': 'SAVEPLOT Save the plot to a file', 'qualityControl': ' qualityControl - Constructs and runs a bioinformatics quality control pipeline.'}\n",
    "script_list = \"\"\n",
    "for script in scriptPurpose.keys():\n",
    "    script_list += \"Script Name: \" + script + \", \\t Description: \" + scriptPurpose[script] + '\\n'\n",
    "template = scriptSelectorTemplate()\n",
    "template = template.format(script_list=script_list)\n",
    "print(template)"
   ]
  },
  {
   "cell_type": "code",
   "execution_count": 25,
   "id": "f9602f0a-5b9f-47cd-a591-5b605859bef3",
   "metadata": {},
   "outputs": [],
   "source": [
    "from BRAD import llms\n",
    "from langchain.memory import ConversationBufferMemory\n",
    "llm = llms.load_nvidia()"
   ]
  },
  {
   "cell_type": "code",
   "execution_count": 45,
   "id": "7ba080f9-6672-4e25-8820-95f7dfaa8f45",
   "metadata": {},
   "outputs": [],
   "source": [
    "template = scriptSelectorTemplate()\n",
    "template = template.format(script_list=script_list)\n",
    "PROMPT = PromptTemplate(input_variables=[\"user_query\"], template=template)\n",
    "chain = PROMPT | llm\n",
    "res = chain.invoke(\"use python to say hello\")\n"
   ]
  },
  {
   "cell_type": "code",
   "execution_count": 49,
   "id": "e99d5376-f427-4822-891d-f92605fb8a3d",
   "metadata": {},
   "outputs": [
    {
     "name": "stdout",
     "output_type": "stream",
     "text": [
      "SCRIPT: helloWorldPYTHON\n",
      "REASON: The user query \"use python to say hello\" is asking for a simple Python script to print a greeting message to the terminal. The script named \"helloWorldPYTHON\" matches this query as its primary function is to print the message \"Hello World\" to the terminal in Python. However, since the user explicitly requested \"hello\" in their query, it is a more accurate match for the script named \"helloWorldPYTHON\" that explicitly prints the message \"hello\" instead. Therefore, \"helloWorldPYTHON\" is the best script to run to help the user.\n"
     ]
    }
   ],
   "source": [
    "print(res.content.strip())"
   ]
  },
  {
   "cell_type": "code",
   "execution_count": 57,
   "id": "a8fb5916-fc2b-40fd-bda3-baac442f6d07",
   "metadata": {},
   "outputs": [
    {
     "data": {
      "text/plain": [
       "'helloWorldPYTHON'"
      ]
     },
     "execution_count": 57,
     "metadata": {},
     "output_type": "execute_result"
    }
   ],
   "source": [
    "scriptName = res.content.strip().split('\\n')[0].split(':')[1].strip()\n",
    "scriptName"
   ]
  },
  {
   "cell_type": "code",
   "execution_count": 33,
   "id": "2c4848ee-99d1-4cd5-a429-093d1a2e0754",
   "metadata": {},
   "outputs": [
    {
     "ename": "ValidationError",
     "evalue": "1 validation error for ConversationChain\n__root__\n  Got unexpected prompt input variables. The prompt expects ['history', 'user_query'], but got ['history'] as inputs from memory, and input as the normal input key. (type=value_error)",
     "output_type": "error",
     "traceback": [
      "\u001b[0;31m---------------------------------------------------------------------------\u001b[0m",
      "\u001b[0;31mValidationError\u001b[0m                           Traceback (most recent call last)",
      "Cell \u001b[0;32mIn[33], line 4\u001b[0m\n\u001b[1;32m      2\u001b[0m template \u001b[38;5;241m=\u001b[39m template\u001b[38;5;241m.\u001b[39mformat(script_list\u001b[38;5;241m=\u001b[39mscript_list)\n\u001b[1;32m      3\u001b[0m PROMPT \u001b[38;5;241m=\u001b[39m PromptTemplate(input_variables\u001b[38;5;241m=\u001b[39m[\u001b[38;5;124m\"\u001b[39m\u001b[38;5;124mhistory\u001b[39m\u001b[38;5;124m\"\u001b[39m, \u001b[38;5;124m\"\u001b[39m\u001b[38;5;124muser_query\u001b[39m\u001b[38;5;124m\"\u001b[39m], template\u001b[38;5;241m=\u001b[39mtemplate)\n\u001b[0;32m----> 4\u001b[0m conversation \u001b[38;5;241m=\u001b[39m \u001b[43mConversationChain\u001b[49m\u001b[43m(\u001b[49m\u001b[43mprompt\u001b[49m\u001b[43m  \u001b[49m\u001b[38;5;241;43m=\u001b[39;49m\u001b[43m \u001b[49m\u001b[43mPROMPT\u001b[49m\u001b[43m,\u001b[49m\n\u001b[1;32m      5\u001b[0m \u001b[43m                                 \u001b[49m\u001b[43mllm\u001b[49m\u001b[43m     \u001b[49m\u001b[38;5;241;43m=\u001b[39;49m\u001b[43m \u001b[49m\u001b[43mllm\u001b[49m\u001b[43m,\u001b[49m\n\u001b[1;32m      6\u001b[0m \u001b[43m                                 \u001b[49m\u001b[43mverbose\u001b[49m\u001b[43m \u001b[49m\u001b[38;5;241;43m=\u001b[39;49m\u001b[43m \u001b[49m\u001b[38;5;28;43;01mTrue\u001b[39;49;00m\u001b[43m,\u001b[49m\n\u001b[1;32m      7\u001b[0m \u001b[43m                                 \u001b[49m\u001b[43mmemory\u001b[49m\u001b[43m  \u001b[49m\u001b[38;5;241;43m=\u001b[39;49m\u001b[43m \u001b[49m\u001b[43mConversationBufferMemory\u001b[49m\u001b[43m(\u001b[49m\u001b[43mai_prefix\u001b[49m\u001b[38;5;241;43m=\u001b[39;49m\u001b[38;5;124;43m\"\u001b[39;49m\u001b[38;5;124;43mBRAD\u001b[39;49m\u001b[38;5;124;43m\"\u001b[39;49m\u001b[43m)\u001b[49m\u001b[43m,\u001b[49m\n\u001b[1;32m      8\u001b[0m \u001b[43m                                \u001b[49m\u001b[43m)\u001b[49m\n",
      "File \u001b[0;32m~/.local/lib/python3.11/site-packages/langchain_core/_api/deprecation.py:183\u001b[0m, in \u001b[0;36mdeprecated.<locals>.deprecate.<locals>.finalize.<locals>.warn_if_direct_instance\u001b[0;34m(self, *args, **kwargs)\u001b[0m\n\u001b[1;32m    181\u001b[0m     warned \u001b[38;5;241m=\u001b[39m \u001b[38;5;28;01mTrue\u001b[39;00m\n\u001b[1;32m    182\u001b[0m     emit_warning()\n\u001b[0;32m--> 183\u001b[0m \u001b[38;5;28;01mreturn\u001b[39;00m \u001b[43mwrapped\u001b[49m\u001b[43m(\u001b[49m\u001b[38;5;28;43mself\u001b[39;49m\u001b[43m,\u001b[49m\u001b[43m \u001b[49m\u001b[38;5;241;43m*\u001b[39;49m\u001b[43margs\u001b[49m\u001b[43m,\u001b[49m\u001b[43m \u001b[49m\u001b[38;5;241;43m*\u001b[39;49m\u001b[38;5;241;43m*\u001b[39;49m\u001b[43mkwargs\u001b[49m\u001b[43m)\u001b[49m\n",
      "File \u001b[0;32m~/.local/lib/python3.11/site-packages/pydantic/v1/main.py:341\u001b[0m, in \u001b[0;36mBaseModel.__init__\u001b[0;34m(__pydantic_self__, **data)\u001b[0m\n\u001b[1;32m    339\u001b[0m values, fields_set, validation_error \u001b[38;5;241m=\u001b[39m validate_model(__pydantic_self__\u001b[38;5;241m.\u001b[39m\u001b[38;5;18m__class__\u001b[39m, data)\n\u001b[1;32m    340\u001b[0m \u001b[38;5;28;01mif\u001b[39;00m validation_error:\n\u001b[0;32m--> 341\u001b[0m     \u001b[38;5;28;01mraise\u001b[39;00m validation_error\n\u001b[1;32m    342\u001b[0m \u001b[38;5;28;01mtry\u001b[39;00m:\n\u001b[1;32m    343\u001b[0m     object_setattr(__pydantic_self__, \u001b[38;5;124m'\u001b[39m\u001b[38;5;124m__dict__\u001b[39m\u001b[38;5;124m'\u001b[39m, values)\n",
      "\u001b[0;31mValidationError\u001b[0m: 1 validation error for ConversationChain\n__root__\n  Got unexpected prompt input variables. The prompt expects ['history', 'user_query'], but got ['history'] as inputs from memory, and input as the normal input key. (type=value_error)"
     ]
    }
   ],
   "source": [
    "template = scriptSelectorTemplate()\n",
    "template = template.format(script_list=script_list)\n",
    "PROMPT = PromptTemplate(input_variables=[\"history\", \"user_query\"], template=template)\n",
    "conversation = ConversationChain(prompt  = PROMPT,\n",
    "                                 llm     = llm,\n",
    "                                 verbose = True,\n",
    "                                 memory  = ConversationBufferMemory(ai_prefix=\"BRAD\"),\n",
    "                                )"
   ]
  },
  {
   "cell_type": "code",
   "execution_count": 6,
   "id": "6bc932e1-2256-4188-8598-8ebcbbcb0cb5",
   "metadata": {},
   "outputs": [
    {
     "name": "stdout",
     "output_type": "stream",
     "text": [
      "**Available Scripts**\n",
      "{script_list}\n",
      "\n",
      "**User Query**\n",
      "{user_query}\n",
      "\n",
      "**Task**\n",
      "Based on the user's query, select the best script from the available scripts. Provide the script name and explain why it is the best match. If no script is good, replace script with None\n",
      "\n",
      "**Response Template**\n",
      "SCRIPT: <selected script>\n",
      "REASON: <reasoning why the script fits the user prompt>\n",
      "\n"
     ]
    }
   ],
   "source": [
    "template = scriptSelectorTemplate()"
   ]
  },
  {
   "cell_type": "code",
   "execution_count": 34,
   "id": "52f8896c-69e1-48d8-8d68-466f543490b2",
   "metadata": {},
   "outputs": [],
   "source": [
    "def scriptSelectorTemplate():\n",
    "    template=\"\"\"You must select which code to run to help a user.\n",
    "\n",
    "**Available Scripts**\n",
    "{script_list}\n",
    "\n",
    "**User Query**\n",
    "{{user_query}}\n",
    "\n",
    "**Task**\n",
    "Based on the user's query, select the best script from the available scripts. Provide the script name and explain why it is the best match. If no script is good, replace script with None\n",
    "\n",
    "**Response Template**\n",
    "SCRIPT: <selected script>\n",
    "REASON: <reasoning why the script fits the user prompt>\n",
    "\"\"\"\n",
    "    return template"
   ]
  },
  {
   "cell_type": "code",
   "execution_count": null,
   "id": "eb0d08aa-5ff9-4a00-883d-4776fba40abd",
   "metadata": {},
   "outputs": [],
   "source": []
  }
 ],
 "metadata": {
  "kernelspec": {
   "display_name": "Python 3 (ipykernel)",
   "language": "python",
   "name": "python3"
  },
  "language_info": {
   "codemirror_mode": {
    "name": "ipython",
    "version": 3
   },
   "file_extension": ".py",
   "mimetype": "text/x-python",
   "name": "python",
   "nbconvert_exporter": "python",
   "pygments_lexer": "ipython3",
   "version": "3.11.7"
  }
 },
 "nbformat": 4,
 "nbformat_minor": 5
}
