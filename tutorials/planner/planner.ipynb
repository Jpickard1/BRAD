{
 "cells": [
  {
   "cell_type": "markdown",
   "id": "b5645027-5ee8-4a54-8062-f9858dad8864",
   "metadata": {},
   "source": [
    "# Planning Larger Analysis"
   ]
  },
  {
   "cell_type": "code",
   "execution_count": 1,
   "id": "f7cb860d-0647-4dd4-a35b-931a580a9c61",
   "metadata": {},
   "outputs": [],
   "source": [
    "from BRAD import brad\n",
    "import importlib\n",
    "from BRAD import planner\n",
    "importlib.reload(planner)\n",
    "from BRAD.planner import *"
   ]
  },
  {
   "cell_type": "code",
   "execution_count": 18,
   "id": "0333a24d-e684-46f3-8d56-eba58f4231be",
   "metadata": {},
   "outputs": [],
   "source": [
    "import subprocess\n",
    "import os\n",
    "from langchain.document_loaders import DirectoryLoader\n",
    "from langchain.document_loaders import UnstructuredPDFLoader\n",
    "from langchain.vectorstores import Chroma\n",
    "from langchain.embeddings import HuggingFaceEmbeddings\n",
    "import chromadb\n",
    "from langchain_community.document_loaders import PyPDFLoader\n",
    "from langchain_text_splitters import RecursiveCharacterTextSplitter\n",
    "from langchain import PromptTemplate, LLMChain\n",
    "from langchain.memory import ConversationBufferMemory\n",
    "from langchain.chains import ConversationChain\n"
   ]
  },
  {
   "cell_type": "code",
   "execution_count": 3,
   "id": "a9adf57d-c10b-4abe-82b0-33a2cac0b4b1",
   "metadata": {},
   "outputs": [
    {
     "name": "stderr",
     "output_type": "stream",
     "text": [
      "Sun 16 Jun 2024 01:30:16 PM EDT INFO PyTorch version 2.0.1 available.\n",
      "Sun 16 Jun 2024 01:30:16 PM EDT INFO Use pytorch device_name: cpu\n",
      "Sun 16 Jun 2024 01:30:16 PM EDT INFO Load pretrained SentenceTransformer: BAAI/bge-base-en-v1.5\n",
      "/home/jpic/.local/lib/python3.11/site-packages/huggingface_hub/file_download.py:1132: FutureWarning: `resume_download` is deprecated and will be removed in version 1.0.0. Downloads always resume when possible. If you want to force a new download, use `force_download=True`.\n",
      "  warnings.warn(\n",
      "Sun 16 Jun 2024 01:30:18 PM EDT INFO Anonymized telemetry enabled. See                     https://docs.trychroma.com/telemetry for more information.\n",
      "Sun 16 Jun 2024 01:30:18 PM EDT INFO Collection DigitalLibrary is not created.\n"
     ]
    }
   ],
   "source": [
    "# Load the database\n",
    "persist_directory = '/nfs/turbo/umms-indikar/shared/projects/RAG/databases/DigitalLibrary-10-June-2024/'\n",
    "embeddings_model = HuggingFaceEmbeddings(model_name='BAAI/bge-base-en-v1.5')\n",
    "db_name = \"DigitalLibrary\"\n",
    "_client_settings = chromadb.PersistentClient(path=(persist_directory + db_name))\n",
    "vectordb = Chroma(persist_directory=persist_directory, embedding_function=embeddings_model, client=_client_settings, collection_name=db_name)"
   ]
  },
  {
   "cell_type": "code",
   "execution_count": 5,
   "id": "c1d9608e-39da-4584-bd70-dfceb81f6772",
   "metadata": {},
   "outputs": [
    {
     "name": "stdout",
     "output_type": "stream",
     "text": [
      "Welcome to RAG! The chat log from this conversation will be saved to /home/jpic/BRAD/2024-06-16-13:30:45.047551.json. How can I help?\n"
     ]
    },
    {
     "name": "stderr",
     "output_type": "stream",
     "text": [
      "Sun 16 Jun 2024 01:30:45 PM EDT INFO local\n"
     ]
    },
    {
     "name": "stdout",
     "output_type": "stream",
     "text": [
      "==================================================\n"
     ]
    },
    {
     "name": "stdin",
     "output_type": "stream",
     "text": [
      "Input >>  /force PLANNER design an analysis pipeline to find the first order interactions of MYOD in the hardwired genome from HWG.mat. Write a small report about which pathways and cell types these genes are implicated in \n"
     ]
    },
    {
     "name": "stderr",
     "output_type": "stream",
     "text": [
      "Sun 16 Jun 2024 01:30:52 PM EDT INFO PLANNER\n"
     ]
    },
    {
     "name": "stdout",
     "output_type": "stream",
     "text": [
      "==================================================\n",
      "RAG >> 1: \n",
      "\n",
      "\u001b[1m> Entering new ConversationChain chain...\u001b[0m\n",
      "Prompt after formatting:\n",
      "\u001b[32;1m\u001b[1;3m\n",
      "You are planning a bioinformatics analysis pipeline to address a user's query. Your task is to outline a multi-step workflow using the available methods listed below. Each method should be used appropriately to ensure a thorough analysis.\n",
      "For each step in the pipeline, explain the goal of the process as well as provide a prompt to the chatbot that will execute that step. You can use one method per step and the pipeline can be between 3-12 steps.\n",
      "\n",
      "Available Methods:\n",
      "1. **Retrieval Augmented Generation**(RAG): Look up literature and documents from a text database.\n",
      "2. **Web Search for New Literature**(SCRAPE): Search platforms like arXiv, bioRxiv, and PubMed for the latest research.\n",
      "3. **Bioinformatics Databases**(DATABASE): Utilize databases such as Gene Ontology and Enrichr to perform gene set enrichment analyses.\n",
      "4. **Run Codes**(CODE): Execute bioinformatics pipelines using Python and MATLAB. Utilize prebuilt pipelines or develop new ones as needed.\n",
      "5. **Write a Report**(WRITE): Synthesize and summarize information. This can include summarizing database searches, code pipeline results, or creating a final report to encapsulate the entire analysis.\n",
      "\n",
      "Based on the user's query, create a detailed plan outlining the steps of the analysis. Ensure that each step is clearly defined and makes use of the appropriate method(s) listed above.\n",
      "\n",
      "Current conversation: \n",
      "\n",
      "\n",
      "User Query: /force PLANNER design an analysis pipeline to find the first order interactions of MYOD in the hardwired genome from HWG.mat. Write a small report about which pathways and cell types these genes are implicated in \n",
      "\n",
      "Plan:\n",
      "**Step 1 (method, eg. RAG)**:\n",
      "Prompt: [Description of action for chatbot to do Step 1, i.e. do X, Y, Z]\n",
      "\n",
      "**Step 2 (method, eg. CODE)**:\n",
      "Prompt: [Description of action for chatbot to do Step 2, i.e. do X, Y, Z]\n",
      "\n",
      "**Step 3 (method, eg. DATABASE)**:\n",
      "Prompt: [Description of action for chatbot to do Step 3, i.e. do X, Y, Z]\n",
      "...\n",
      "\u001b[0m\n"
     ]
    },
    {
     "name": "stderr",
     "output_type": "stream",
     "text": [
      "Sun 16 Jun 2024 01:30:55 PM EDT INFO RAG\n"
     ]
    },
    {
     "name": "stdout",
     "output_type": "stream",
     "text": [
      "\n",
      "\u001b[1m> Finished chain.\u001b[0m\n",
      "==================================================\n",
      "==================================================\n",
      "RAG >> 2: \n",
      "\n",
      "\u001b[1m> Entering new StuffDocumentsChain chain...\u001b[0m\n",
      "\n",
      "\n",
      "\u001b[1m> Entering new LLMChain chain...\u001b[0m\n",
      "Prompt after formatting:\n",
      "\u001b[32;1m\u001b[1;3mSystem: Use the following pieces of context to answer the user's question. \n",
      "If you don't know the answer, just say that you don't know, don't try to make up an answer.\n",
      "----------------\n",
      "together with othertranscription factors in a feed-forward circuit and often bindsto an E-box site prior to transcriptional activation, which is deter-\n",
      "mined by the recruitment of cofactors at the speciﬁc promoter\n",
      "(Bergstrom et al., 2002; Penn et al., 2004; Rampalli et al.,\n",
      "2007 ). Together, these studies indicate that MyoD-binding\n",
      "afﬁnity is sensitive to core and ﬂanking E-box sequences, andthat MyoD transcriptional activity can be regulated indepen-dently of binding afﬁnity. Therefore, it is possible that MyoDmight bind at sites in the genome without regulating regional\n",
      "gene transcription; however, it is not known how frequently this\n",
      "might occur, nor whether it might have any other biologicalactivity.\n",
      "In this study, we have used chromatin immunoprecipitation\n",
      "and high-throughput sequencing (ChIP-seq) to identify genome-wide binding of MyoD in several skeletal muscle cell types.\n",
      "As anticipated, MyoD binds to many of the genes transcription-\n",
      "ally regulated during skeletal muscle\n",
      "\n",
      "2692\n",
      "(Bergstrom et al., 2002). Therefore, chromatin-mediated\n",
      "repression can partly explain the paradox of lineage-speciﬁcgene activation among a family of factors that bind similarDNA sequences.\n",
      "Myod and Myog have very similar DNA-binding\n",
      "domains and generally bind the same sequences ingel shift assays. Indeed, global ChIP analysis\n",
      "indicates that Myod and Myog bind to many of thesame regulatory sites (Blais et al., 2005), althougha subset of sites might be speciﬁc to either Myodor Myog. Outside the bHLH domain, Myod andMyog show signiﬁcant divergence that wouldpermit them to interact with different factors at apromoter. As noted above, the Myod Helix 3 regionis required for Myod to initiate binding at somesites by interacting with Pbx. Myog also has anamphipathic alpha helix in its C terminus – thehydrophobic surface is identical in both proteins,\n",
      "whereas the hydrophilic surface divergessigniﬁcantly. This domain of Myog can function asan activation domain, whereas the Helix 3 of\n",
      "\n",
      "polyclonal rabbit antisera\n",
      "raised against different but overlapping fragments of the MyoDprotein ( Tapscott et al., 1988 ), all of which speciﬁcally immuno-\n",
      "precipitated MyoD and not the other myogenic bHLH factors(see Figure S1 A available online). As controls for background\n",
      "enrichment, we also performed ChIPs with preimmune serum\n",
      "in C2C12 cells and with the MyoD antisera in mouse embryonic\n",
      "ﬁbroblasts (MEFs) that do not express MyoD.\n",
      "Precipitated DNA fragments, ranging from 100 to 300 nucleo-\n",
      "tides (nt), were subjected to high-throughput sequencing-by-\n",
      "synthesis on an Illumina Genome Analyzer System that yielded\n",
      "reads of /C2435–54 nt from a single end. To identify MyoD-binding\n",
      "sites, reads with a unique match in the mouse genome were\n",
      "extended to a total length of 200 nt (the estimated average frag-\n",
      "ment size), and the number of overlapping reads at each positionin the genome was computed to generate peak heights for MyoD\n",
      "or the control ChIP samples (see Experimental Procedures\n",
      "\n",
      "domain ﬂanked by bound CTCF, and 13,764 (74%) of thetotal 18,054 annotated genes have MyoD bound within thedomain ﬂanked by CTCF at one of the TSSs.\n",
      "Sequence Characteristics in Regions Bound by MyoD\n",
      "in C2C12 Myotubes\n",
      "To understand the sequence determinants of MyoD binding inmyotubes, we ﬁrst examined E-box sequences in the 200 nt\n",
      "region centered at the MyoD peak summit. A total of 96% of all\n",
      "peaks contain at least one canonical E-box (CANNTG), withan average of 2.4 E-boxes per peak, relative to 1.14 in com-\n",
      "parable control regions (see Experimental Procedures ), and\n",
      "72% of peaks have an E-box within 20 nt of the peak summit.\n",
      "A strong sequence preference was observed for the E-boxsequences in peak regions ( Figure 1 A): 74% of peaks have\n",
      "the CAGCTG E-box (enriched 11-fold); 32% have CACCTG(enriched 2.5-fold); and 89% have either or both of these twoE-box motifs. Similarly, determining the number of reads that\n",
      "cover each E-box in the genome identiﬁes CAGCTG and\n",
      "CACCTG as preferred\n",
      "\n",
      "a de novo motif search, itis likely that many other genes in addition to the Ids are similarly\n",
      "regulated.\n",
      "Another interesting ﬁnding of our study is that the majority of\n",
      "sites are constitutively bound by MyoD in both myoblastsand myotubes. In general, these sites are not associated with\n",
      "MyoD-mediated changes in regional gene expression, basedon expression arrays, regional H3K4me3, and preliminary\n",
      "studies on induced RNAs (Y. Cao, unpublished data). Studies\n",
      "of transcription factor binding in Drosophila also show binding\n",
      "at thousands of sites in the genome in addition to binding atregulated genes ( Li et al., 2008; MacArthur et al., 2009 ). In this\n",
      "case, higher-afﬁnity binding occurred at regulated genes, andlower-afﬁnity binding occurred in regions not regulated by thefactors, suggesting that the low-afﬁnity genome-wide binding\n",
      "might be ‘‘nonfunctional’’ in regard to direct transcriptional acti-\n",
      "vation. In our study, peak height as a measure of afﬁnity does notaccurately discriminate\n",
      "\n",
      "of certain\n",
      "binding sites paired with an E-box could confer promoter-speciﬁc activity to Myod, or, by extension, to Neurod or the E-proteins, depending on the availability of the cooperatingtranscription factors.\n",
      "In addition to cooperative binding, co-factor interaction or\n",
      "sequence-speciﬁc DNA/protein interactions might alter theconformation of the Myod complex to effectively exposeactivation regions. Myod and the other myogenic bHLHproteins have a conserved set of amino acids in the basic regionthat do not signiﬁcantly alter the sequence speciﬁcity of DNAbinding, but do alter the transcriptional activity of the bound\n",
      "Myod (Brennan et al., 1991; Davis et al., 1990). Introducingthis amino acid motif into the basic region of an E-protein willconvert it into a myogenic protein (Davis and Weintraub,1992). This myogenic ‘code’ in the basic region might functionby interacting with co-factors – and an interaction with Mef2factors has been demonstrated (Molkentin et al., 1995) – orthese\n",
      "\n",
      "Developmental Cell\n",
      "Resource\n",
      "Genome-wide MyoD Binding in Skeletal Muscle Cells:\n",
      "A Potential for Broad Cellular Reprogramming\n",
      "Yi Cao,1,7Zizhen Yao,2,7Deepayan Sarkar,2Michael Lawrence,2Gilson J. Sanchez,1,4Maura H. Parker,3\n",
      "Kyle L. MacQuarrie,1,4Jerry Davison,2Martin T. Morgan,2Walter L. Ruzzo,2,5Robert C. Gentleman,2,*\n",
      "and Stephen J. Tapscott1,3,6,*\n",
      "1Human Biology Division\n",
      "2Public Health Sciences Division\n",
      "3Clinical Research Division\n",
      "Fred Hutchinson Cancer Research Center, Seattle, WA 98109, USA\n",
      "4Molecular and Cellular Biology Graduate Program\n",
      "5Departments of Computer Science and Engineering and Genome Sciences\n",
      "6Department of Neurology\n",
      "University of Washington, Seattle, WA 98105, USA\n",
      "7These authors contributed equally to this work\n",
      "*Correspondence: rgentlem@fhcrc.org (R.C.G.), stapscot@fhcrc.org (S.J.T.)\n",
      "DOI 10.1016/j.devcel.2010.02.014\n",
      "SUMMARY\n",
      "Recent studies have demonstrated that MyoD initi-\n",
      "ates a feed-forward regulation of skeletal musclegene expression, predicting that MyoD binds\n",
      "\n",
      "at cutoffs 6 and 12, respectively, and gene-speciﬁcqPCR on 20 sites validated binding ( Table S1 A). At a similar strin-\n",
      "gency, an FDR of 10\n",
      "/C06, the controls (preimmune sera, beads\n",
      "alone, or MyoD antisera in MEFs) had fewer than 200 peaks(Table S1 B). An examination of 9 previously characterized\n",
      "MyoD-binding sites showed coverage ranging from 16 to 275\n",
      "reads ( Table S1 C). Except where noted, for subsequent analyses\n",
      "we will use the 12-read cutoff as the criteria for a MyoD-bindingregion, which remains a very conservative threshold for all celltypes and experimental conditions reported here.\n",
      "The 25,956 MyoD-binding sites in myotubes identiﬁed by a\n",
      "12-read cutoff are widely distributed both upstream and down-stream of gene transcription start sites (TSSs) with a high densitynear a TSS, but the majority are located more than 10 kb from\n",
      "a TSS ( Table 1 ;Figure S1 E). Approximately 41% of all annotated\n",
      "genes (7,758 out of 18,054) are bound by MyoD in C2C12Table 1. Gene Context Analysis\n",
      "\n",
      "we plotted the change in H4Ac reads in a 500 ntwindow centered on the location of MyoD peaks, at all sites\n",
      "in the genome, only at intergenic sites (deﬁned as more thanDevelopmental Cell\n",
      "MyoD Binds Genome Wide\n",
      "Developmental Cell 18, 662–674, April 20, 2010 ª2010 Elsevier Inc. 669\n",
      "\n",
      "Lassar, A. (1990). MyoD binds\n",
      "cooperatively to two sites in a target enhancer sequence: occupancy of twosites is required for activation. Proc. Natl. Acad. Sci. USA 87, 5623-5627.\n",
      "Weintraub, H., Davis, R., Tapscott, S., Thayer, M., Krause, M., Benezra,\n",
      "R., Blackwell, T. K., Turner, D., Rupp, R., Hollenberg, S. et al. (1991a).\n",
      "The myoD gene family: nodal point during speciﬁcation of the muscle celllineage. Science 251\n",
      ", 761-766.\n",
      "Weintraub, H., Dwarki, V . J., Verma, I., Davis, R. L., Hollenberg, S.,\n",
      "Snider, L., Lassar, A. B. and Tapscott, S. J. (1991b). Muscle-speciﬁc\n",
      "transcriptional activation by MyoD. Genes Dev. 5, 1377-1386.\n",
      "Westerman, B. A., Murre, C. and Oudejans, C. B. (2003). The cellular Pax-\n",
      "Hox-helix connection. Biochim. Biophys. Acta. 1629 , 1-7.\n",
      "Wold, B., Wigler, M., Lacy, E., Maniatis, T., Silverstein, S. and Axel, R.\n",
      "(1979). Introduction and expression of a rabbit beta-globin gene in mouseﬁbroblasts. Proc. Natl. Acad. Sci. USA 76, 5684-5688.\n",
      "Woloshin, P., Song, K.,\n",
      "Human: /force RAG Retrieve information about first order interactions of MYOD in the hardwired genome from existing literature and databases. Look up papers, articles, and reports that discuss MYOD's interactions in the context of HWG.mat.\u001b[0m\n",
      "\n",
      "\u001b[1m> Finished chain.\u001b[0m\n",
      "\n",
      "\u001b[1m> Finished chain.\u001b[0m\n",
      " The context provides information about MyoD, a transcription factor that plays a role in the feed-forward regulation of skeletal muscle gene expression. MyoD binds to specific sequences, known as E-boxes, which are located near the transcription start sites (TSSs) of target genes. ChIP-seq analysis has been used to identify genome-wide binding sites for MyoD in several skeletal muscle cell types. These binding sites are widespread and include both constitutively bound sites and those that are associated with MyoD-mediated changes in gene expression. The sequences surrounding MyoD-binding sites show a strong preference for the presence of certain E-box motifs, such as CAGCTG and CACCTG. Cooperative binding and co-factor interactions can also influence MyoD's transcriptional activity.\n",
      "==================================================\n"
     ]
    },
    {
     "ename": "KeyError",
     "evalue": "'CODE'",
     "output_type": "error",
     "traceback": [
      "\u001b[0;31m---------------------------------------------------------------------------\u001b[0m",
      "\u001b[0;31mKeyError\u001b[0m                                  Traceback (most recent call last)",
      "Cell \u001b[0;32mIn[5], line 1\u001b[0m\n\u001b[0;32m----> 1\u001b[0m \u001b[43mbrad\u001b[49m\u001b[38;5;241;43m.\u001b[39;49m\u001b[43mchat\u001b[49m\u001b[43m(\u001b[49m\u001b[43mragvectordb\u001b[49m\u001b[43m \u001b[49m\u001b[38;5;241;43m=\u001b[39;49m\u001b[43m \u001b[49m\u001b[43mvectordb\u001b[49m\u001b[43m)\u001b[49m\n",
      "File \u001b[0;32m~/RAG-DEV/BRAD/brad.py:443\u001b[0m, in \u001b[0;36mchat\u001b[0;34m(model_path, persist_directory, llm, ragvectordb, embeddings_model)\u001b[0m\n\u001b[1;32m    441\u001b[0m \u001b[38;5;28;01melse\u001b[39;00m:\n\u001b[1;32m    442\u001b[0m     route \u001b[38;5;241m=\u001b[39m chatstatus[\u001b[38;5;124m'\u001b[39m\u001b[38;5;124mprompt\u001b[39m\u001b[38;5;124m'\u001b[39m]\u001b[38;5;241m.\u001b[39msplit(\u001b[38;5;124m'\u001b[39m\u001b[38;5;124m \u001b[39m\u001b[38;5;124m'\u001b[39m)[\u001b[38;5;241m1\u001b[39m]            \u001b[38;5;66;03m# use the forced router\u001b[39;00m\n\u001b[0;32m--> 443\u001b[0m     \u001b[43mbuildRoutes\u001b[49m\u001b[43m(\u001b[49m\u001b[43mchatstatus\u001b[49m\u001b[43m[\u001b[49m\u001b[38;5;124;43m'\u001b[39;49m\u001b[38;5;124;43mprompt\u001b[39;49m\u001b[38;5;124;43m'\u001b[39;49m\u001b[43m]\u001b[49m\u001b[43m)\u001b[49m\n\u001b[1;32m    445\u001b[0m \u001b[38;5;28mprint\u001b[39m(\u001b[38;5;124m'\u001b[39m\u001b[38;5;124m==================================================\u001b[39m\u001b[38;5;124m'\u001b[39m)\n\u001b[1;32m    446\u001b[0m \u001b[38;5;28mprint\u001b[39m(\u001b[38;5;124m'\u001b[39m\u001b[38;5;124mRAG >> \u001b[39m\u001b[38;5;124m'\u001b[39m \u001b[38;5;241m+\u001b[39m \u001b[38;5;28mstr\u001b[39m(\u001b[38;5;28mlen\u001b[39m(chatlog)) \u001b[38;5;241m+\u001b[39m \u001b[38;5;124m'\u001b[39m\u001b[38;5;124m: \u001b[39m\u001b[38;5;124m'\u001b[39m, end\u001b[38;5;241m=\u001b[39m\u001b[38;5;124m'\u001b[39m\u001b[38;5;124m'\u001b[39m)\n",
      "File \u001b[0;32m~/RAG-DEV/BRAD/router.py:135\u001b[0m, in \u001b[0;36mbuildRoutes\u001b[0;34m(prompt)\u001b[0m\n\u001b[1;32m    123\u001b[0m     i \u001b[38;5;241m+\u001b[39m\u001b[38;5;241m=\u001b[39m \u001b[38;5;241m1\u001b[39m\n\u001b[1;32m    124\u001b[0m paths \u001b[38;5;241m=\u001b[39m {\n\u001b[1;32m    125\u001b[0m     \u001b[38;5;124m'\u001b[39m\u001b[38;5;124mGGET\u001b[39m\u001b[38;5;124m'\u001b[39m    : getRouterPath(\u001b[38;5;124m'\u001b[39m\u001b[38;5;124menrichr.txt\u001b[39m\u001b[38;5;124m'\u001b[39m),\n\u001b[1;32m    126\u001b[0m     \u001b[38;5;124m'\u001b[39m\u001b[38;5;124mSCRAPE\u001b[39m\u001b[38;5;124m'\u001b[39m  : getRouterPath(\u001b[38;5;124m'\u001b[39m\u001b[38;5;124mscrape.txt\u001b[39m\u001b[38;5;124m'\u001b[39m),\n\u001b[0;32m   (...)\u001b[0m\n\u001b[1;32m    133\u001b[0m     \u001b[38;5;124m'\u001b[39m\u001b[38;5;124mPLANNER\u001b[39m\u001b[38;5;124m'\u001b[39m : getRouterPath(\u001b[38;5;124m'\u001b[39m\u001b[38;5;124mplanner.txt\u001b[39m\u001b[38;5;124m'\u001b[39m),\n\u001b[1;32m    134\u001b[0m }\n\u001b[0;32m--> 135\u001b[0m filepath \u001b[38;5;241m=\u001b[39m \u001b[43mpaths\u001b[49m\u001b[43m[\u001b[49m\u001b[43mroute\u001b[49m\u001b[43m]\u001b[49m\n\u001b[1;32m    136\u001b[0m add_sentence(filepath, rebuiltPrompt)\n",
      "\u001b[0;31mKeyError\u001b[0m: 'CODE'"
     ]
    }
   ],
   "source": [
    "brad.chat(ragvectordb = vectordb)"
   ]
  },
  {
   "cell_type": "raw",
   "id": "233d47c7-8584-4a4d-a0f5-bb4e53cc7739",
   "metadata": {},
   "source": [
    "/force PLANNER design an analysis pipeline to find the first order interactions of MYOD in the hardwired genome from HWG.mat. Write a small report about which pathways and cell types these genes are implicated in "
   ]
  },
  {
   "cell_type": "markdown",
   "id": "3415fc4d-7d87-4b96-95aa-f6b7c7feb46e",
   "metadata": {},
   "source": [
    "# DEBUG"
   ]
  },
  {
   "cell_type": "code",
   "execution_count": 1,
   "id": "7ee58c30-e7ac-41bf-bbf7-5448f23f38c4",
   "metadata": {},
   "outputs": [],
   "source": [
    "from BRAD.matlabCaller import find_matlab_files, get_matlab_description\n",
    "from BRAD.pythonCaller import find_py_files, get_py_description"
   ]
  },
  {
   "cell_type": "code",
   "execution_count": 2,
   "id": "89d689d4-263c-48a9-90d7-dca0336f11ef",
   "metadata": {},
   "outputs": [
    {
     "data": {
      "text/plain": [
       "['animal_info', 'example', 'helloWorldPYTHON']"
      ]
     },
     "execution_count": 2,
     "metadata": {},
     "output_type": "execute_result"
    }
   ],
   "source": [
    "find_py_files('/home/jpic/RAG-DEV/tutorials/running-codes/python/')"
   ]
  },
  {
   "cell_type": "code",
   "execution_count": 3,
   "id": "ea1a7695-8668-4cd0-b79e-19ade4f3072d",
   "metadata": {},
   "outputs": [
    {
     "data": {
      "text/plain": [
       "'This script prints hello world to the terminal. No arguments are required.'"
      ]
     },
     "execution_count": 3,
     "metadata": {},
     "output_type": "execute_result"
    }
   ],
   "source": [
    "get_py_description('/home/jpic/RAG-DEV/tutorials/running-codes/python/helloWorldPYTHON.py')"
   ]
  },
  {
   "cell_type": "code",
   "execution_count": 4,
   "id": "b46e3f06-c310-4caa-b6c5-b890154fd85b",
   "metadata": {},
   "outputs": [
    {
     "data": {
      "text/plain": [
       "['matlabPipeline', 'myFunc', 'helloWorldMATLAB', 'saveplot', 'qualityControl']"
      ]
     },
     "execution_count": 4,
     "metadata": {},
     "output_type": "execute_result"
    }
   ],
   "source": [
    "find_matlab_files('/home/jpic/RAG-DEV/tutorials/running-codes/matlab/')"
   ]
  },
  {
   "cell_type": "code",
   "execution_count": 5,
   "id": "8d43c2f8-78df-4a60-a9b0-7e3a7d908a4a",
   "metadata": {},
   "outputs": [
    {
     "data": {
      "text/plain": [
       "' qualityControl - Constructs and runs a bioinformatics quality control pipeline.'"
      ]
     },
     "execution_count": 5,
     "metadata": {},
     "output_type": "execute_result"
    }
   ],
   "source": [
    "get_matlab_description('/home/jpic/RAG-DEV/tutorials/running-codes/matlab/qualityControl.m')"
   ]
  },
  {
   "cell_type": "raw",
   "id": "f1ab7fd5-53ae-466c-9c43-55e0dc3c08fa",
   "metadata": {},
   "source": [
    "/force CODE say hello world using python!"
   ]
  },
  {
   "cell_type": "code",
   "execution_count": 1,
   "id": "4dd54f73-6d6c-4add-9e82-96b9e7324026",
   "metadata": {},
   "outputs": [
    {
     "name": "stdout",
     "output_type": "stream",
     "text": [
      "Welcome to RAG! The chat log from this conversation will be saved to /home/jpic/BRAD/2024-06-16-16:50:05.318931.json. How can I help?\n"
     ]
    },
    {
     "name": "stdin",
     "output_type": "stream",
     "text": [
      "Enter your NVIDIA API key:  ········\n"
     ]
    },
    {
     "name": "stdout",
     "output_type": "stream",
     "text": [
      "\n",
      "Would you like to use a database with BRAD [Y/N]?\n"
     ]
    },
    {
     "name": "stdin",
     "output_type": "stream",
     "text": [
      " N\n"
     ]
    },
    {
     "name": "stderr",
     "output_type": "stream",
     "text": [
      "Sun 16 Jun 2024 04:50:09 PM EDT INFO local\n"
     ]
    },
    {
     "name": "stdout",
     "output_type": "stream",
     "text": [
      "==================================================\n"
     ]
    },
    {
     "name": "stdin",
     "output_type": "stream",
     "text": [
      "Input >>  /force CODE say hello world using python!\n"
     ]
    },
    {
     "name": "stderr",
     "output_type": "stream",
     "text": [
      "Sun 16 Jun 2024 04:50:14 PM EDT INFO CODE\n"
     ]
    },
    {
     "name": "stdout",
     "output_type": "stream",
     "text": [
      "==================================================\n",
      "RAG >> 1: CODER\n",
      "FIRST LLM CALL\n",
      "Warning! the type doesnt exist\n",
      "scriptPath=/home/jpic/RAG-DEV/tutorials/running-codes/python/\n",
      "pyPath=/home/jpic/RAG-DEV/tutorials/running-codes/python/\n",
      "ALL SCRIPTS FOUND. BUILDING TEMPLATE\n",
      "input_variables=['history', 'input'] template='Current conversation:\\n{history}\\n\\n**PYTHON SCRIPT**\\nYou must run this python script: \\n/home/jpic/RAG-DEV/tutorials/running-codes/python/helloWorldPYTHON.py\\n\\n**PYTHON SCRIPT DOCUMENTATION**:\\nThis is the doc string of this python script:\\n\"\"\"\\nThis script prints hello world to the terminal. No arguments are required.\\n\\nExample usage:\\n    subprocess.call([sys.executable, \\'python/helloWorldPYTHON.py\\'])\\n\"\"\"\\n\\n\\n**CALL PYTHON SCRIPTS FROM PYTHON**:\\nUse the `subprocess` module to call any Python script from another Python script. Here are some examples to call a few common Python scripts:\\n\\nTo call a Python script `example_script.py` which has no arguments:\\n    \\n```\\nExecute: subprocess.call([sys.executable, \\'<full path to script/> example_script.py\\'])\\n```\\n\\nTo call a Python script `example_script.py` with one argument:\\n\\n```\\nExecute: subprocess.call([sys.executable, \\'<full path to script/> example_script.py\\', \\'arg1\\'])\\n```\\n\\nTo call a Python script `example_script.py` with two arguments:\\n```\\nExecute: subprocess.call([sys.executable, \\'<full path to script/> example_script.py\\', \\'arg1\\', \\'arg2\\'])\\n```\\nQuery:{input}\\n\\n\\n**INSTRUCTIONS**\\n1. Given the user query and the documentation, identify each of the arguments found in the user\\'s query that should be passed to the Python script.\\n2. Using the `subprocess` module, provide the one line of code to execute the desired Python script with the given arguments. Assume the necessary modules (`subprocess` and `sys`) are already imported.\\n3. The last line of your response should say \"Execute: <Python code to execute>\"\\n4. Format the response/output as:\\n    Arguments: \\n    Python Code Explanation: <2 sentences maximum>\\n    Execute: <your code here>\\n\\n**IMPORTANT**\\nThe code to execute from your response must be formatted as:\\n    Execute: subprocess.call([sys.executable, \\'<path to python script>\\', \\'<argument 1>\\', \\'<argument 2>\\', ..., \\'<argument n>\\'])\\nThis output should be exactly one line and no longer. Stop the response after this line.\\n'\n",
      "\n",
      "\n",
      "\u001b[1m> Entering new ConversationChain chain...\u001b[0m\n",
      "Prompt after formatting:\n",
      "\u001b[32;1m\u001b[1;3mCurrent conversation:\n",
      "\n",
      "\n",
      "**PYTHON SCRIPT**\n",
      "You must run this python script: \n",
      "/home/jpic/RAG-DEV/tutorials/running-codes/python/helloWorldPYTHON.py\n",
      "\n",
      "**PYTHON SCRIPT DOCUMENTATION**:\n",
      "This is the doc string of this python script:\n",
      "\"\"\"\n",
      "This script prints hello world to the terminal. No arguments are required.\n",
      "\n",
      "Example usage:\n",
      "    subprocess.call([sys.executable, 'python/helloWorldPYTHON.py'])\n",
      "\"\"\"\n",
      "\n",
      "\n",
      "**CALL PYTHON SCRIPTS FROM PYTHON**:\n",
      "Use the `subprocess` module to call any Python script from another Python script. Here are some examples to call a few common Python scripts:\n",
      "\n",
      "To call a Python script `example_script.py` which has no arguments:\n",
      "    \n",
      "```\n",
      "Execute: subprocess.call([sys.executable, '<full path to script/> example_script.py'])\n",
      "```\n",
      "\n",
      "To call a Python script `example_script.py` with one argument:\n",
      "\n",
      "```\n",
      "Execute: subprocess.call([sys.executable, '<full path to script/> example_script.py', 'arg1'])\n",
      "```\n",
      "\n",
      "To call a Python script `example_script.py` with two arguments:\n",
      "```\n",
      "Execute: subprocess.call([sys.executable, '<full path to script/> example_script.py', 'arg1', 'arg2'])\n",
      "```\n",
      "Query:/force CODE say hello world using python!\n",
      "\n",
      "\n",
      "**INSTRUCTIONS**\n",
      "1. Given the user query and the documentation, identify each of the arguments found in the user's query that should be passed to the Python script.\n",
      "2. Using the `subprocess` module, provide the one line of code to execute the desired Python script with the given arguments. Assume the necessary modules (`subprocess` and `sys`) are already imported.\n",
      "3. The last line of your response should say \"Execute: <Python code to execute>\"\n",
      "4. Format the response/output as:\n",
      "    Arguments: \n",
      "    Python Code Explanation: <2 sentences maximum>\n",
      "    Execute: <your code here>\n",
      "\n",
      "**IMPORTANT**\n",
      "The code to execute from your response must be formatted as:\n",
      "    Execute: subprocess.call([sys.executable, '<path to python script>', '<argument 1>', '<argument 2>', ..., '<argument n>'])\n",
      "This output should be exactly one line and no longer. Stop the response after this line.\n",
      "\u001b[0m\n",
      "\n",
      "\u001b[1m> Finished chain.\u001b[0m\n",
      "LLM OUTPUT PARSER\n",
      " Arguments: The user query does not provide any arguments to be passed to the Python script. The script documentation indicates no arguments are required.\n",
      "\n",
      "Python Code Explanation: We will execute the \"helloWorldPYTHON.py\" script with no arguments.\n",
      "\n",
      "Execute: subprocess.call([sys.executable, '/home/jpic/RAG-DEV/tutorials/running-codes/python/helloWorldPYTHON.py'])\n",
      "[' Arguments: The user query does not provide any arguments to be passed to the Python script. The script documentation indicates no arguments are required.\\n\\nPython Code Explanation: We will execute the \"helloWorldPYTHON.py\" script with no arguments.\\n\\n', \" subprocess.call([sys.executable, '/home/jpic/RAG-DEV/tutorials/running-codes/python/helloWorldPYTHON.py'])\"]\n",
      "Executing Code!!\n",
      "EVAL\n",
      "subprocess.call([sys.executable, '/home/jpic/RAG-DEV/tutorials/running-codes/python/helloWorldPYTHON.py'])\n",
      "END EVAL CHECK\n",
      "Hello World from a Python Script!\n",
      "Debug: PYTHON code executed successfully.\n",
      "==================================================\n"
     ]
    },
    {
     "name": "stdin",
     "output_type": "stream",
     "text": [
      "Input >>  /force CODE say hello world using matlab\n"
     ]
    },
    {
     "name": "stderr",
     "output_type": "stream",
     "text": [
      "Sun 16 Jun 2024 04:50:26 PM EDT INFO CODE\n"
     ]
    },
    {
     "name": "stdout",
     "output_type": "stream",
     "text": [
      "==================================================\n",
      "RAG >> 2: CODER\n",
      "FIRST LLM CALL\n",
      "Warning! the type doesnt exist\n"
     ]
    },
    {
     "name": "stderr",
     "output_type": "stream",
     "text": [
      "huggingface/tokenizers: The current process just got forked, after parallelism has already been used. Disabling parallelism to avoid deadlocks...\n",
      "To disable this warning, you can either:\n",
      "\t- Avoid using `tokenizers` before the fork if possible\n",
      "\t- Explicitly set the environment variable TOKENIZERS_PARALLELISM=(true | false)\n"
     ]
    },
    {
     "name": "stdout",
     "output_type": "stream",
     "text": [
      "Matlab Engine On\n",
      "ALL SCRIPTS FOUND. BUILDING TEMPLATE\n",
      "input_variables=['history', 'input'] template='Current conversation:\\n{history}\\n\\n**MATLAB SCRIPT**\\nYou must run this python script: \\nhelloWorldMATLAB.m\\n\\n**MATLAB FUNCTION DOCUMENTATION**:\\nfunction output = helloWorldMATLAB()\\n% Print \"Hello World\"\\n%\\n% Author: Joshua Pickard\\n%         jpic@umich.edu\\n% Date: June 14, 2024\\n\\n**CALL MATLAB FUNCTIONS FROM PYTHON**:\\nUse MATLAB® Engine API for Python® to call any MATLAB function on the MATLAB path. Some examples to call a few common matlab functions include:\\n\\nTo call the matlab function myFnc which has no arguments:\\n```\\nExecute: eng.myFnc()\\n```\\n\\nTo use the is prime function which requires an input argument:\\n```\\nExecute: tf = eng.isprime(37)\\n```\\n\\nTo determine the greatest common denominator of two numbers, use the gcd function. Set nargout to return the three output arguments from gcd.\\n```\\nExecute: t = eng.gcd(100.0,80.0,nargout=3)\\n```\\n\\nQuery:{input}\\n\\n**INSTRUCTIONS**\\n1. Given the user query and the documentation, identify each of the arguments found in the users query that should be passed to the matlab function.\\n2. Using the matlab enging eng, provide the one line of code to execute the desired matlab commands. Assume all functions are added to the path and eng already exist.\\n3. The last line of your response should say \"Execute: <MATLAB codes to execute>\"\\n4. Format the response/output as:\\nArguments: \\nMATLAB Code Explanation: <2 sentences maximum>\\nExecute: <your code here>\\n\\n**IMPORTANT**\\nThe code to execute from your response must be formatted as:\\n    Execute: eng.<function name>(<arguments>)>\\nThis output should be exactly one line and no longer. Stop the response after this line.\\n'\n",
      "\n",
      "\n",
      "\u001b[1m> Entering new ConversationChain chain...\u001b[0m\n",
      "Prompt after formatting:\n",
      "\u001b[32;1m\u001b[1;3mCurrent conversation:\n",
      "Human: /force CODE say hello world using python!\n",
      "BRAD:  Arguments: The user query does not provide any arguments to be passed to the Python script. The script documentation indicates no arguments are required.\n",
      "\n",
      "Python Code Explanation: We will execute the \"helloWorldPYTHON.py\" script with no arguments.\n",
      "\n",
      "Execute: subprocess.call([sys.executable, '/home/jpic/RAG-DEV/tutorials/running-codes/python/helloWorldPYTHON.py'])\n",
      "\n",
      "**MATLAB SCRIPT**\n",
      "You must run this python script: \n",
      "helloWorldMATLAB.m\n",
      "\n",
      "**MATLAB FUNCTION DOCUMENTATION**:\n",
      "function output = helloWorldMATLAB()\n",
      "% Print \"Hello World\"\n",
      "%\n",
      "% Author: Joshua Pickard\n",
      "%         jpic@umich.edu\n",
      "% Date: June 14, 2024\n",
      "\n",
      "**CALL MATLAB FUNCTIONS FROM PYTHON**:\n",
      "Use MATLAB® Engine API for Python® to call any MATLAB function on the MATLAB path. Some examples to call a few common matlab functions include:\n",
      "\n",
      "To call the matlab function myFnc which has no arguments:\n",
      "```\n",
      "Execute: eng.myFnc()\n",
      "```\n",
      "\n",
      "To use the is prime function which requires an input argument:\n",
      "```\n",
      "Execute: tf = eng.isprime(37)\n",
      "```\n",
      "\n",
      "To determine the greatest common denominator of two numbers, use the gcd function. Set nargout to return the three output arguments from gcd.\n",
      "```\n",
      "Execute: t = eng.gcd(100.0,80.0,nargout=3)\n",
      "```\n",
      "\n",
      "Query:/force CODE say hello world using matlab\n",
      "\n",
      "**INSTRUCTIONS**\n",
      "1. Given the user query and the documentation, identify each of the arguments found in the users query that should be passed to the matlab function.\n",
      "2. Using the matlab enging eng, provide the one line of code to execute the desired matlab commands. Assume all functions are added to the path and eng already exist.\n",
      "3. The last line of your response should say \"Execute: <MATLAB codes to execute>\"\n",
      "4. Format the response/output as:\n",
      "Arguments: \n",
      "MATLAB Code Explanation: <2 sentences maximum>\n",
      "Execute: <your code here>\n",
      "\n",
      "**IMPORTANT**\n",
      "The code to execute from your response must be formatted as:\n",
      "    Execute: eng.<function name>(<arguments>)>\n",
      "This output should be exactly one line and no longer. Stop the response after this line.\n",
      "\u001b[0m\n",
      "\n",
      "\u001b[1m> Finished chain.\u001b[0m\n",
      "LLM OUTPUT PARSER\n",
      " Arguments: No arguments are required for the \"helloWorldMATLAB\" function.\n",
      "\n",
      "MATLAB Code Explanation: We will execute the \"helloWorldMATLAB.m\" function with no arguments.\n",
      "\n",
      "Execute: eng.helloWorldMATLAB()\n",
      "[' Arguments: No arguments are required for the \"helloWorldMATLAB\" function.\\n\\nMATLAB Code Explanation: We will execute the \"helloWorldMATLAB.m\" function with no arguments.\\n\\n', ' eng.helloWorldMATLAB()']\n",
      "Executing Code!!\n",
      "EVAL\n",
      "eng.helloWorldMATLAB()\n",
      "END EVAL CHECK\n",
      "Hello World! This message is generated from BRAD running the helloWorldMATLAB function!\n",
      "Debug: MATLAB code executed successfully.\n",
      "==================================================\n"
     ]
    },
    {
     "name": "stdin",
     "output_type": "stream",
     "text": [
      "Input >>  /force CODE say hello world using matlab\n"
     ]
    },
    {
     "name": "stderr",
     "output_type": "stream",
     "text": [
      "Sun 16 Jun 2024 04:50:46 PM EDT INFO CODE\n"
     ]
    },
    {
     "name": "stdout",
     "output_type": "stream",
     "text": [
      "==================================================\n",
      "RAG >> 3: CODER\n",
      "FIRST LLM CALL\n",
      "Warning! the type doesnt exist\n",
      "Matlab Engine On\n",
      "ALL SCRIPTS FOUND. BUILDING TEMPLATE\n",
      "input_variables=['history', 'input'] template='Current conversation:\\n{history}\\n\\n**MATLAB SCRIPT**\\nYou must run this python script: \\nhelloWorldMATLAB.m\\n\\n**MATLAB FUNCTION DOCUMENTATION**:\\nfunction output = helloWorldMATLAB()\\n% Print \"Hello World\"\\n%\\n% Author: Joshua Pickard\\n%         jpic@umich.edu\\n% Date: June 14, 2024\\n\\n**CALL MATLAB FUNCTIONS FROM PYTHON**:\\nUse MATLAB® Engine API for Python® to call any MATLAB function on the MATLAB path. Some examples to call a few common matlab functions include:\\n\\nTo call the matlab function myFnc which has no arguments:\\n```\\nExecute: eng.myFnc()\\n```\\n\\nTo use the is prime function which requires an input argument:\\n```\\nExecute: tf = eng.isprime(37)\\n```\\n\\nTo determine the greatest common denominator of two numbers, use the gcd function. Set nargout to return the three output arguments from gcd.\\n```\\nExecute: t = eng.gcd(100.0,80.0,nargout=3)\\n```\\n\\nQuery:{input}\\n\\n**INSTRUCTIONS**\\n1. Given the user query and the documentation, identify each of the arguments found in the users query that should be passed to the matlab function.\\n2. Using the matlab enging eng, provide the one line of code to execute the desired matlab commands. Assume all functions are added to the path and eng already exist.\\n3. The last line of your response should say \"Execute: <MATLAB codes to execute>\"\\n4. Format the response/output as:\\nArguments: \\nMATLAB Code Explanation: <2 sentences maximum>\\nExecute: <your code here>\\n\\n**IMPORTANT**\\nThe code to execute from your response must be formatted as:\\n    Execute: eng.<function name>(<arguments>)>\\nThis output should be exactly one line and no longer. Stop the response after this line.\\n'\n",
      "\n",
      "\n",
      "\u001b[1m> Entering new ConversationChain chain...\u001b[0m\n",
      "Prompt after formatting:\n",
      "\u001b[32;1m\u001b[1;3mCurrent conversation:\n",
      "Human: /force CODE say hello world using python!\n",
      "BRAD:  Arguments: The user query does not provide any arguments to be passed to the Python script. The script documentation indicates no arguments are required.\n",
      "\n",
      "Python Code Explanation: We will execute the \"helloWorldPYTHON.py\" script with no arguments.\n",
      "\n",
      "Execute: subprocess.call([sys.executable, '/home/jpic/RAG-DEV/tutorials/running-codes/python/helloWorldPYTHON.py'])\n",
      "Human: /force CODE say hello world using matlab\n",
      "BRAD:  Arguments: No arguments are required for the \"helloWorldMATLAB\" function.\n",
      "\n",
      "MATLAB Code Explanation: We will execute the \"helloWorldMATLAB.m\" function with no arguments.\n",
      "\n",
      "Execute: eng.helloWorldMATLAB()\n",
      "\n",
      "**MATLAB SCRIPT**\n",
      "You must run this python script: \n",
      "helloWorldMATLAB.m\n",
      "\n",
      "**MATLAB FUNCTION DOCUMENTATION**:\n",
      "function output = helloWorldMATLAB()\n",
      "% Print \"Hello World\"\n",
      "%\n",
      "% Author: Joshua Pickard\n",
      "%         jpic@umich.edu\n",
      "% Date: June 14, 2024\n",
      "\n",
      "**CALL MATLAB FUNCTIONS FROM PYTHON**:\n",
      "Use MATLAB® Engine API for Python® to call any MATLAB function on the MATLAB path. Some examples to call a few common matlab functions include:\n",
      "\n",
      "To call the matlab function myFnc which has no arguments:\n",
      "```\n",
      "Execute: eng.myFnc()\n",
      "```\n",
      "\n",
      "To use the is prime function which requires an input argument:\n",
      "```\n",
      "Execute: tf = eng.isprime(37)\n",
      "```\n",
      "\n",
      "To determine the greatest common denominator of two numbers, use the gcd function. Set nargout to return the three output arguments from gcd.\n",
      "```\n",
      "Execute: t = eng.gcd(100.0,80.0,nargout=3)\n",
      "```\n",
      "\n",
      "Query:/force CODE say hello world using matlab\n",
      "\n",
      "**INSTRUCTIONS**\n",
      "1. Given the user query and the documentation, identify each of the arguments found in the users query that should be passed to the matlab function.\n",
      "2. Using the matlab enging eng, provide the one line of code to execute the desired matlab commands. Assume all functions are added to the path and eng already exist.\n",
      "3. The last line of your response should say \"Execute: <MATLAB codes to execute>\"\n",
      "4. Format the response/output as:\n",
      "Arguments: \n",
      "MATLAB Code Explanation: <2 sentences maximum>\n",
      "Execute: <your code here>\n",
      "\n",
      "**IMPORTANT**\n",
      "The code to execute from your response must be formatted as:\n",
      "    Execute: eng.<function name>(<arguments>)>\n",
      "This output should be exactly one line and no longer. Stop the response after this line.\n",
      "\u001b[0m\n",
      "\n",
      "\u001b[1m> Finished chain.\u001b[0m\n",
      "LLM OUTPUT PARSER\n",
      " Arguments: No arguments are required for the \"helloWorldMATLAB\" function.\n",
      "\n",
      "MATLAB Code Explanation: We will execute the \"helloWorldMATLAB\" function with no arguments.\n",
      "\n",
      "Execute: eng.helloWorldMATLAB()\n",
      "[' Arguments: No arguments are required for the \"helloWorldMATLAB\" function.\\n\\nMATLAB Code Explanation: We will execute the \"helloWorldMATLAB\" function with no arguments.\\n\\n', ' eng.helloWorldMATLAB()']\n",
      "Executing Code!!\n",
      "EVAL\n",
      "eng.helloWorldMATLAB()\n",
      "END EVAL CHECK\n",
      "Hello World! This message is generated from BRAD running the helloWorldMATLAB function!\n",
      "Debug: MATLAB code executed successfully.\n",
      "==================================================\n"
     ]
    },
    {
     "name": "stdin",
     "output_type": "stream",
     "text": [
      "Input >>  /force CODE say hello world using python!\n"
     ]
    },
    {
     "name": "stderr",
     "output_type": "stream",
     "text": [
      "Sun 16 Jun 2024 04:50:55 PM EDT INFO CODE\n"
     ]
    },
    {
     "name": "stdout",
     "output_type": "stream",
     "text": [
      "==================================================\n",
      "RAG >> 4: CODER\n",
      "FIRST LLM CALL\n",
      "Warning! the type doesnt exist\n",
      "scriptPath=/home/jpic/RAG-DEV/tutorials/running-codes/python/\n",
      "pyPath=/home/jpic/RAG-DEV/tutorials/running-codes/python/\n",
      "ALL SCRIPTS FOUND. BUILDING TEMPLATE\n",
      "input_variables=['history', 'input'] template='Current conversation:\\n{history}\\n\\n**PYTHON SCRIPT**\\nYou must run this python script: \\n/home/jpic/RAG-DEV/tutorials/running-codes/python/helloWorldPYTHON.py\\n\\n**PYTHON SCRIPT DOCUMENTATION**:\\nThis is the doc string of this python script:\\n\"\"\"\\nThis script prints hello world to the terminal. No arguments are required.\\n\\nExample usage:\\n    subprocess.call([sys.executable, \\'python/helloWorldPYTHON.py\\'])\\n\"\"\"\\n\\n\\n**CALL PYTHON SCRIPTS FROM PYTHON**:\\nUse the `subprocess` module to call any Python script from another Python script. Here are some examples to call a few common Python scripts:\\n\\nTo call a Python script `example_script.py` which has no arguments:\\n    \\n```\\nExecute: subprocess.call([sys.executable, \\'<full path to script/> example_script.py\\'])\\n```\\n\\nTo call a Python script `example_script.py` with one argument:\\n\\n```\\nExecute: subprocess.call([sys.executable, \\'<full path to script/> example_script.py\\', \\'arg1\\'])\\n```\\n\\nTo call a Python script `example_script.py` with two arguments:\\n```\\nExecute: subprocess.call([sys.executable, \\'<full path to script/> example_script.py\\', \\'arg1\\', \\'arg2\\'])\\n```\\nQuery:{input}\\n\\n\\n**INSTRUCTIONS**\\n1. Given the user query and the documentation, identify each of the arguments found in the user\\'s query that should be passed to the Python script.\\n2. Using the `subprocess` module, provide the one line of code to execute the desired Python script with the given arguments. Assume the necessary modules (`subprocess` and `sys`) are already imported.\\n3. The last line of your response should say \"Execute: <Python code to execute>\"\\n4. Format the response/output as:\\n    Arguments: \\n    Python Code Explanation: <2 sentences maximum>\\n    Execute: <your code here>\\n\\n**IMPORTANT**\\nThe code to execute from your response must be formatted as:\\n    Execute: subprocess.call([sys.executable, \\'<path to python script>\\', \\'<argument 1>\\', \\'<argument 2>\\', ..., \\'<argument n>\\'])\\nThis output should be exactly one line and no longer. Stop the response after this line.\\n'\n",
      "\n",
      "\n",
      "\u001b[1m> Entering new ConversationChain chain...\u001b[0m\n",
      "Prompt after formatting:\n",
      "\u001b[32;1m\u001b[1;3mCurrent conversation:\n",
      "Human: /force CODE say hello world using python!\n",
      "BRAD:  Arguments: The user query does not provide any arguments to be passed to the Python script. The script documentation indicates no arguments are required.\n",
      "\n",
      "Python Code Explanation: We will execute the \"helloWorldPYTHON.py\" script with no arguments.\n",
      "\n",
      "Execute: subprocess.call([sys.executable, '/home/jpic/RAG-DEV/tutorials/running-codes/python/helloWorldPYTHON.py'])\n",
      "Human: /force CODE say hello world using matlab\n",
      "BRAD:  Arguments: No arguments are required for the \"helloWorldMATLAB\" function.\n",
      "\n",
      "MATLAB Code Explanation: We will execute the \"helloWorldMATLAB.m\" function with no arguments.\n",
      "\n",
      "Execute: eng.helloWorldMATLAB()\n",
      "Human: /force CODE say hello world using matlab\n",
      "BRAD:  Arguments: No arguments are required for the \"helloWorldMATLAB\" function.\n",
      "\n",
      "MATLAB Code Explanation: We will execute the \"helloWorldMATLAB\" function with no arguments.\n",
      "\n",
      "Execute: eng.helloWorldMATLAB()\n",
      "\n",
      "**PYTHON SCRIPT**\n",
      "You must run this python script: \n",
      "/home/jpic/RAG-DEV/tutorials/running-codes/python/helloWorldPYTHON.py\n",
      "\n",
      "**PYTHON SCRIPT DOCUMENTATION**:\n",
      "This is the doc string of this python script:\n",
      "\"\"\"\n",
      "This script prints hello world to the terminal. No arguments are required.\n",
      "\n",
      "Example usage:\n",
      "    subprocess.call([sys.executable, 'python/helloWorldPYTHON.py'])\n",
      "\"\"\"\n",
      "\n",
      "\n",
      "**CALL PYTHON SCRIPTS FROM PYTHON**:\n",
      "Use the `subprocess` module to call any Python script from another Python script. Here are some examples to call a few common Python scripts:\n",
      "\n",
      "To call a Python script `example_script.py` which has no arguments:\n",
      "    \n",
      "```\n",
      "Execute: subprocess.call([sys.executable, '<full path to script/> example_script.py'])\n",
      "```\n",
      "\n",
      "To call a Python script `example_script.py` with one argument:\n",
      "\n",
      "```\n",
      "Execute: subprocess.call([sys.executable, '<full path to script/> example_script.py', 'arg1'])\n",
      "```\n",
      "\n",
      "To call a Python script `example_script.py` with two arguments:\n",
      "```\n",
      "Execute: subprocess.call([sys.executable, '<full path to script/> example_script.py', 'arg1', 'arg2'])\n",
      "```\n",
      "Query:/force CODE say hello world using python!\n",
      "\n",
      "\n",
      "**INSTRUCTIONS**\n",
      "1. Given the user query and the documentation, identify each of the arguments found in the user's query that should be passed to the Python script.\n",
      "2. Using the `subprocess` module, provide the one line of code to execute the desired Python script with the given arguments. Assume the necessary modules (`subprocess` and `sys`) are already imported.\n",
      "3. The last line of your response should say \"Execute: <Python code to execute>\"\n",
      "4. Format the response/output as:\n",
      "    Arguments: \n",
      "    Python Code Explanation: <2 sentences maximum>\n",
      "    Execute: <your code here>\n",
      "\n",
      "**IMPORTANT**\n",
      "The code to execute from your response must be formatted as:\n",
      "    Execute: subprocess.call([sys.executable, '<path to python script>', '<argument 1>', '<argument 2>', ..., '<argument n>'])\n",
      "This output should be exactly one line and no longer. Stop the response after this line.\n",
      "\u001b[0m\n",
      "\n",
      "\u001b[1m> Finished chain.\u001b[0m\n",
      "LLM OUTPUT PARSER\n",
      " Arguments: No arguments are required for the \"helloWorldPYTHON.py\" script according to the documentation and the user query.\n",
      "\n",
      "Python Code Explanation: We will execute the \"helloWorldPYTHON.py\" script with no arguments.\n",
      "\n",
      "Execute: subprocess.call([sys.executable, '/home/jpic/RAG-DEV/tutorials/running-codes/python/helloWorldPYTHON.py'])\n",
      "[' Arguments: No arguments are required for the \"helloWorldPYTHON.py\" script according to the documentation and the user query.\\n\\nPython Code Explanation: We will execute the \"helloWorldPYTHON.py\" script with no arguments.\\n\\n', \" subprocess.call([sys.executable, '/home/jpic/RAG-DEV/tutorials/running-codes/python/helloWorldPYTHON.py'])\"]\n",
      "Executing Code!!\n",
      "EVAL\n",
      "subprocess.call([sys.executable, '/home/jpic/RAG-DEV/tutorials/running-codes/python/helloWorldPYTHON.py'])\n",
      "END EVAL CHECK\n",
      "Hello World from a Python Script!\n",
      "Debug: PYTHON code executed successfully.\n",
      "==================================================\n"
     ]
    },
    {
     "name": "stdin",
     "output_type": "stream",
     "text": [
      "Input >>  q\n"
     ]
    },
    {
     "name": "stdout",
     "output_type": "stream",
     "text": [
      "Thanks for chatting today! I hope to talk soon, and don't forget that a record of this conversation is available at: /home/jpic/BRAD/2024-06-16-16:50:05.318931.json\n"
     ]
    }
   ],
   "source": [
    "from BRAD import brad\n",
    "brad.chat()"
   ]
  },
  {
   "cell_type": "code",
   "execution_count": null,
   "id": "0638b74c-cdc3-4336-90de-7d6ef15014dc",
   "metadata": {},
   "outputs": [],
   "source": []
  },
  {
   "cell_type": "code",
   "execution_count": null,
   "id": "78878573-5b4e-437a-a112-671aa57fc425",
   "metadata": {},
   "outputs": [],
   "source": []
  },
  {
   "cell_type": "code",
   "execution_count": null,
   "id": "9247861d-8023-4c0c-88ef-484fac25932e",
   "metadata": {},
   "outputs": [],
   "source": []
  },
  {
   "cell_type": "code",
   "execution_count": null,
   "id": "094373c3-6dc9-46cb-97dc-0891ad1f4cbf",
   "metadata": {},
   "outputs": [],
   "source": []
  },
  {
   "cell_type": "code",
   "execution_count": null,
   "id": "9563c151-cef6-4efc-8175-5c71bf6a563f",
   "metadata": {},
   "outputs": [],
   "source": []
  },
  {
   "cell_type": "code",
   "execution_count": null,
   "id": "1dda72ea-7694-40b4-be8e-141e793cbbe6",
   "metadata": {},
   "outputs": [],
   "source": []
  },
  {
   "cell_type": "code",
   "execution_count": 28,
   "id": "e229f04e-ec7c-4b13-a2aa-a1d4f0e6fe5d",
   "metadata": {},
   "outputs": [
    {
     "name": "stdout",
     "output_type": "stream",
     "text": [
      "**Available Scripts**\n",
      "Script Name: animal_info, \t Description: This script provides information about different animals based on user input.\n",
      "Script Name: example, \t Description: This is the top-level docstring for the example script.\n",
      "Script Name: helloWorldPYTHON, \t Description: This script prints hello world to the terminal. No arguments are required.\n",
      "Script Name: matlabPipeline, \t Description:  matlabPipeline - A sample function to demonstrate argument handling\n",
      "Script Name: myFunc, \t Description:  myFunc - A simple function to multiply each element of the input array by 2.\n",
      "Script Name: helloWorldMATLAB, \t Description:  Print \"Hello World\"\n",
      "Script Name: saveplot, \t Description: SAVEPLOT Save the plot to a file\n",
      "Script Name: qualityControl, \t Description:  qualityControl - Constructs and runs a bioinformatics quality control pipeline.\n",
      "\n",
      "\n",
      "**User Query**\n",
      "{user_query}\n",
      "\n",
      "**Task**\n",
      "Based on the user's query, select the best script from the available scripts. Provide the script name and explain why it is the best match. If no script is good, replace script with None\n",
      "\n",
      "**Response Template**\n",
      "SCRIPT: <selected script>\n",
      "REASON: <reasoning why the script fits the user prompt>\n",
      "\n"
     ]
    }
   ],
   "source": [
    "scriptPurpose = {'animal_info': 'This script provides information about different animals based on user input.', 'example': 'This is the top-level docstring for the example script.', 'helloWorldPYTHON': 'This script prints hello world to the terminal. No arguments are required.', 'matlabPipeline': ' matlabPipeline - A sample function to demonstrate argument handling', 'myFunc': ' myFunc - A simple function to multiply each element of the input array by 2.', 'helloWorldMATLAB': ' Print \"Hello World\"', 'saveplot': 'SAVEPLOT Save the plot to a file', 'qualityControl': ' qualityControl - Constructs and runs a bioinformatics quality control pipeline.'}\n",
    "script_list = \"\"\n",
    "for script in scriptPurpose.keys():\n",
    "    script_list += \"Script Name: \" + script + \", \\t Description: \" + scriptPurpose[script] + '\\n'\n",
    "template = scriptSelectorTemplate()\n",
    "template = template.format(script_list=script_list)\n",
    "print(template)"
   ]
  },
  {
   "cell_type": "code",
   "execution_count": 25,
   "id": "f9602f0a-5b9f-47cd-a591-5b605859bef3",
   "metadata": {},
   "outputs": [],
   "source": [
    "from BRAD import llms\n",
    "from langchain.memory import ConversationBufferMemory\n",
    "llm = llms.load_nvidia()"
   ]
  },
  {
   "cell_type": "code",
   "execution_count": 45,
   "id": "7ba080f9-6672-4e25-8820-95f7dfaa8f45",
   "metadata": {},
   "outputs": [],
   "source": [
    "template = scriptSelectorTemplate()\n",
    "template = template.format(script_list=script_list)\n",
    "PROMPT = PromptTemplate(input_variables=[\"user_query\"], template=template)\n",
    "chain = PROMPT | llm\n",
    "res = chain.invoke(\"use python to say hello\")\n"
   ]
  },
  {
   "cell_type": "code",
   "execution_count": 49,
   "id": "e99d5376-f427-4822-891d-f92605fb8a3d",
   "metadata": {},
   "outputs": [
    {
     "name": "stdout",
     "output_type": "stream",
     "text": [
      "SCRIPT: helloWorldPYTHON\n",
      "REASON: The user query \"use python to say hello\" is asking for a simple Python script to print a greeting message to the terminal. The script named \"helloWorldPYTHON\" matches this query as its primary function is to print the message \"Hello World\" to the terminal in Python. However, since the user explicitly requested \"hello\" in their query, it is a more accurate match for the script named \"helloWorldPYTHON\" that explicitly prints the message \"hello\" instead. Therefore, \"helloWorldPYTHON\" is the best script to run to help the user.\n"
     ]
    }
   ],
   "source": [
    "print(res.content.strip())"
   ]
  },
  {
   "cell_type": "code",
   "execution_count": 57,
   "id": "a8fb5916-fc2b-40fd-bda3-baac442f6d07",
   "metadata": {},
   "outputs": [
    {
     "data": {
      "text/plain": [
       "'helloWorldPYTHON'"
      ]
     },
     "execution_count": 57,
     "metadata": {},
     "output_type": "execute_result"
    }
   ],
   "source": [
    "scriptName = res.content.strip().split('\\n')[0].split(':')[1].strip()\n",
    "scriptName"
   ]
  },
  {
   "cell_type": "code",
   "execution_count": 33,
   "id": "2c4848ee-99d1-4cd5-a429-093d1a2e0754",
   "metadata": {},
   "outputs": [
    {
     "ename": "ValidationError",
     "evalue": "1 validation error for ConversationChain\n__root__\n  Got unexpected prompt input variables. The prompt expects ['history', 'user_query'], but got ['history'] as inputs from memory, and input as the normal input key. (type=value_error)",
     "output_type": "error",
     "traceback": [
      "\u001b[0;31m---------------------------------------------------------------------------\u001b[0m",
      "\u001b[0;31mValidationError\u001b[0m                           Traceback (most recent call last)",
      "Cell \u001b[0;32mIn[33], line 4\u001b[0m\n\u001b[1;32m      2\u001b[0m template \u001b[38;5;241m=\u001b[39m template\u001b[38;5;241m.\u001b[39mformat(script_list\u001b[38;5;241m=\u001b[39mscript_list)\n\u001b[1;32m      3\u001b[0m PROMPT \u001b[38;5;241m=\u001b[39m PromptTemplate(input_variables\u001b[38;5;241m=\u001b[39m[\u001b[38;5;124m\"\u001b[39m\u001b[38;5;124mhistory\u001b[39m\u001b[38;5;124m\"\u001b[39m, \u001b[38;5;124m\"\u001b[39m\u001b[38;5;124muser_query\u001b[39m\u001b[38;5;124m\"\u001b[39m], template\u001b[38;5;241m=\u001b[39mtemplate)\n\u001b[0;32m----> 4\u001b[0m conversation \u001b[38;5;241m=\u001b[39m \u001b[43mConversationChain\u001b[49m\u001b[43m(\u001b[49m\u001b[43mprompt\u001b[49m\u001b[43m  \u001b[49m\u001b[38;5;241;43m=\u001b[39;49m\u001b[43m \u001b[49m\u001b[43mPROMPT\u001b[49m\u001b[43m,\u001b[49m\n\u001b[1;32m      5\u001b[0m \u001b[43m                                 \u001b[49m\u001b[43mllm\u001b[49m\u001b[43m     \u001b[49m\u001b[38;5;241;43m=\u001b[39;49m\u001b[43m \u001b[49m\u001b[43mllm\u001b[49m\u001b[43m,\u001b[49m\n\u001b[1;32m      6\u001b[0m \u001b[43m                                 \u001b[49m\u001b[43mverbose\u001b[49m\u001b[43m \u001b[49m\u001b[38;5;241;43m=\u001b[39;49m\u001b[43m \u001b[49m\u001b[38;5;28;43;01mTrue\u001b[39;49;00m\u001b[43m,\u001b[49m\n\u001b[1;32m      7\u001b[0m \u001b[43m                                 \u001b[49m\u001b[43mmemory\u001b[49m\u001b[43m  \u001b[49m\u001b[38;5;241;43m=\u001b[39;49m\u001b[43m \u001b[49m\u001b[43mConversationBufferMemory\u001b[49m\u001b[43m(\u001b[49m\u001b[43mai_prefix\u001b[49m\u001b[38;5;241;43m=\u001b[39;49m\u001b[38;5;124;43m\"\u001b[39;49m\u001b[38;5;124;43mBRAD\u001b[39;49m\u001b[38;5;124;43m\"\u001b[39;49m\u001b[43m)\u001b[49m\u001b[43m,\u001b[49m\n\u001b[1;32m      8\u001b[0m \u001b[43m                                \u001b[49m\u001b[43m)\u001b[49m\n",
      "File \u001b[0;32m~/.local/lib/python3.11/site-packages/langchain_core/_api/deprecation.py:183\u001b[0m, in \u001b[0;36mdeprecated.<locals>.deprecate.<locals>.finalize.<locals>.warn_if_direct_instance\u001b[0;34m(self, *args, **kwargs)\u001b[0m\n\u001b[1;32m    181\u001b[0m     warned \u001b[38;5;241m=\u001b[39m \u001b[38;5;28;01mTrue\u001b[39;00m\n\u001b[1;32m    182\u001b[0m     emit_warning()\n\u001b[0;32m--> 183\u001b[0m \u001b[38;5;28;01mreturn\u001b[39;00m \u001b[43mwrapped\u001b[49m\u001b[43m(\u001b[49m\u001b[38;5;28;43mself\u001b[39;49m\u001b[43m,\u001b[49m\u001b[43m \u001b[49m\u001b[38;5;241;43m*\u001b[39;49m\u001b[43margs\u001b[49m\u001b[43m,\u001b[49m\u001b[43m \u001b[49m\u001b[38;5;241;43m*\u001b[39;49m\u001b[38;5;241;43m*\u001b[39;49m\u001b[43mkwargs\u001b[49m\u001b[43m)\u001b[49m\n",
      "File \u001b[0;32m~/.local/lib/python3.11/site-packages/pydantic/v1/main.py:341\u001b[0m, in \u001b[0;36mBaseModel.__init__\u001b[0;34m(__pydantic_self__, **data)\u001b[0m\n\u001b[1;32m    339\u001b[0m values, fields_set, validation_error \u001b[38;5;241m=\u001b[39m validate_model(__pydantic_self__\u001b[38;5;241m.\u001b[39m\u001b[38;5;18m__class__\u001b[39m, data)\n\u001b[1;32m    340\u001b[0m \u001b[38;5;28;01mif\u001b[39;00m validation_error:\n\u001b[0;32m--> 341\u001b[0m     \u001b[38;5;28;01mraise\u001b[39;00m validation_error\n\u001b[1;32m    342\u001b[0m \u001b[38;5;28;01mtry\u001b[39;00m:\n\u001b[1;32m    343\u001b[0m     object_setattr(__pydantic_self__, \u001b[38;5;124m'\u001b[39m\u001b[38;5;124m__dict__\u001b[39m\u001b[38;5;124m'\u001b[39m, values)\n",
      "\u001b[0;31mValidationError\u001b[0m: 1 validation error for ConversationChain\n__root__\n  Got unexpected prompt input variables. The prompt expects ['history', 'user_query'], but got ['history'] as inputs from memory, and input as the normal input key. (type=value_error)"
     ]
    }
   ],
   "source": [
    "template = scriptSelectorTemplate()\n",
    "template = template.format(script_list=script_list)\n",
    "PROMPT = PromptTemplate(input_variables=[\"history\", \"user_query\"], template=template)\n",
    "conversation = ConversationChain(prompt  = PROMPT,\n",
    "                                 llm     = llm,\n",
    "                                 verbose = True,\n",
    "                                 memory  = ConversationBufferMemory(ai_prefix=\"BRAD\"),\n",
    "                                )"
   ]
  },
  {
   "cell_type": "code",
   "execution_count": 6,
   "id": "6bc932e1-2256-4188-8598-8ebcbbcb0cb5",
   "metadata": {},
   "outputs": [
    {
     "name": "stdout",
     "output_type": "stream",
     "text": [
      "**Available Scripts**\n",
      "{script_list}\n",
      "\n",
      "**User Query**\n",
      "{user_query}\n",
      "\n",
      "**Task**\n",
      "Based on the user's query, select the best script from the available scripts. Provide the script name and explain why it is the best match. If no script is good, replace script with None\n",
      "\n",
      "**Response Template**\n",
      "SCRIPT: <selected script>\n",
      "REASON: <reasoning why the script fits the user prompt>\n",
      "\n"
     ]
    }
   ],
   "source": [
    "template = scriptSelectorTemplate()"
   ]
  },
  {
   "cell_type": "code",
   "execution_count": 34,
   "id": "52f8896c-69e1-48d8-8d68-466f543490b2",
   "metadata": {},
   "outputs": [],
   "source": [
    "def scriptSelectorTemplate():\n",
    "    template=\"\"\"You must select which code to run to help a user.\n",
    "\n",
    "**Available Scripts**\n",
    "{script_list}\n",
    "\n",
    "**User Query**\n",
    "{{user_query}}\n",
    "\n",
    "**Task**\n",
    "Based on the user's query, select the best script from the available scripts. Provide the script name and explain why it is the best match. If no script is good, replace script with None\n",
    "\n",
    "**Response Template**\n",
    "SCRIPT: <selected script>\n",
    "REASON: <reasoning why the script fits the user prompt>\n",
    "\"\"\"\n",
    "    return template"
   ]
  },
  {
   "cell_type": "code",
   "execution_count": null,
   "id": "eb0d08aa-5ff9-4a00-883d-4776fba40abd",
   "metadata": {},
   "outputs": [],
   "source": []
  }
 ],
 "metadata": {
  "kernelspec": {
   "display_name": "Python 3 (ipykernel)",
   "language": "python",
   "name": "python3"
  },
  "language_info": {
   "codemirror_mode": {
    "name": "ipython",
    "version": 3
   },
   "file_extension": ".py",
   "mimetype": "text/x-python",
   "name": "python",
   "nbconvert_exporter": "python",
   "pygments_lexer": "ipython3",
   "version": "3.11.7"
  }
 },
 "nbformat": 4,
 "nbformat_minor": 5
}
