{
 "cells": [
  {
   "cell_type": "markdown",
   "id": "b5645027-5ee8-4a54-8062-f9858dad8864",
   "metadata": {},
   "source": [
    "# Planning Larger Analysis"
   ]
  },
  {
   "cell_type": "code",
   "execution_count": 1,
   "id": "f7cb860d-0647-4dd4-a35b-931a580a9c61",
   "metadata": {},
   "outputs": [],
   "source": [
    "from BRAD import brad\n",
    "import importlib\n",
    "from BRAD import planner\n",
    "importlib.reload(planner)\n",
    "from BRAD.planner import *"
   ]
  },
  {
   "cell_type": "code",
   "execution_count": 2,
   "id": "0333a24d-e684-46f3-8d56-eba58f4231be",
   "metadata": {},
   "outputs": [],
   "source": [
    "import subprocess\n",
    "import os\n",
    "from langchain.document_loaders import DirectoryLoader\n",
    "from langchain.document_loaders import UnstructuredPDFLoader\n",
    "from langchain.vectorstores import Chroma\n",
    "from langchain.embeddings import HuggingFaceEmbeddings\n",
    "import chromadb\n",
    "from langchain_community.document_loaders import PyPDFLoader\n",
    "from langchain_text_splitters import RecursiveCharacterTextSplitter\n",
    "from langchain import PromptTemplate, LLMChain\n",
    "from langchain.memory import ConversationBufferMemory\n",
    "from langchain.chains import ConversationChain\n"
   ]
  },
  {
   "cell_type": "code",
   "execution_count": 3,
   "id": "a9adf57d-c10b-4abe-82b0-33a2cac0b4b1",
   "metadata": {},
   "outputs": [
    {
     "name": "stderr",
     "output_type": "stream",
     "text": [
      "Sun 16 Jun 2024 06:23:34 PM EDT INFO PyTorch version 2.0.1 available.\n",
      "Sun 16 Jun 2024 06:23:35 PM EDT INFO Use pytorch device_name: cpu\n",
      "Sun 16 Jun 2024 06:23:35 PM EDT INFO Load pretrained SentenceTransformer: BAAI/bge-base-en-v1.5\n",
      "/home/jpic/.local/lib/python3.11/site-packages/huggingface_hub/file_download.py:1132: FutureWarning: `resume_download` is deprecated and will be removed in version 1.0.0. Downloads always resume when possible. If you want to force a new download, use `force_download=True`.\n",
      "  warnings.warn(\n",
      "Sun 16 Jun 2024 06:23:37 PM EDT INFO Anonymized telemetry enabled. See                     https://docs.trychroma.com/telemetry for more information.\n",
      "Sun 16 Jun 2024 06:23:37 PM EDT INFO Collection DigitalLibrary is not created.\n"
     ]
    }
   ],
   "source": [
    "# Load the database\n",
    "persist_directory = '/nfs/turbo/umms-indikar/shared/projects/RAG/databases/DigitalLibrary-10-June-2024/'\n",
    "embeddings_model = HuggingFaceEmbeddings(model_name='BAAI/bge-base-en-v1.5')\n",
    "db_name = \"DigitalLibrary\"\n",
    "_client_settings = chromadb.PersistentClient(path=(persist_directory + db_name))\n",
    "vectordb = Chroma(persist_directory=persist_directory, embedding_function=embeddings_model, client=_client_settings, collection_name=db_name)"
   ]
  },
  {
   "cell_type": "code",
   "execution_count": 4,
   "id": "c1d9608e-39da-4584-bd70-dfceb81f6772",
   "metadata": {},
   "outputs": [
    {
     "name": "stdout",
     "output_type": "stream",
     "text": [
      "Welcome to RAG! The chat log from this conversation will be saved to /home/jpic/BRAD/2024-06-16-18:23:37.901705.json. How can I help?\n"
     ]
    },
    {
     "name": "stdin",
     "output_type": "stream",
     "text": [
      "Enter your NVIDIA API key:  ········\n"
     ]
    },
    {
     "name": "stderr",
     "output_type": "stream",
     "text": [
      "Sun 16 Jun 2024 06:23:43 PM EDT INFO local\n"
     ]
    },
    {
     "name": "stdout",
     "output_type": "stream",
     "text": [
      "==================================================\n"
     ]
    },
    {
     "name": "stdin",
     "output_type": "stream",
     "text": [
      "Input >>  /force PLANNER design an analysis pipeline to find the first order interactions of MYOD in the hardwired genome from HWG.mat. Write a small report about which pathways and cell types these genes are implicated in \n"
     ]
    },
    {
     "name": "stderr",
     "output_type": "stream",
     "text": [
      "Sun 16 Jun 2024 06:23:59 PM EDT INFO PLANNER\n"
     ]
    },
    {
     "name": "stdout",
     "output_type": "stream",
     "text": [
      "==================================================\n",
      "RAG >> 1: \n",
      "\n",
      "\u001b[1m> Entering new ConversationChain chain...\u001b[0m\n",
      "Prompt after formatting:\n",
      "\u001b[32;1m\u001b[1;3m\n",
      "You are planning a bioinformatics analysis pipeline to address a user's query. Your task is to outline a multi-step workflow using the available methods listed below. Each method should be used appropriately to ensure a thorough analysis.\n",
      "For each step in the pipeline, explain the goal of the process as well as provide a prompt to the chatbot that will execute that step. You can use one method per step and the pipeline can be between 3-12 steps.\n",
      "\n",
      "Available Methods:\n",
      "1. **Retrieval Augmented Generation**(RAG): Look up literature and documents from a text database.\n",
      "2. **Web Search for New Literature**(SCRAPE): Search platforms like arXiv, bioRxiv, and PubMed for the latest research.\n",
      "3. **Bioinformatics Databases**(DATABASE): Utilize databases such as Gene Ontology and Enrichr to perform gene set enrichment analyses.\n",
      "4. **Run Codes**(CODE): Execute bioinformatics pipelines. Utilize prebuilt pipelines or develop new ones as needed.\n",
      "5. **Write a Report**(WRITE): Synthesize and summarize information. This can include summarizing database searches, code pipeline results, or creating a final report to encapsulate the entire analysis.\n",
      "\n",
      "Based on the user's query, create a detailed plan outlining the steps of the analysis. Ensure that each step is clearly defined and makes use of the appropriate method(s) listed above. Clarify which steps are dependent on one another, such as if information from a CODE step is used by DATABASE step, if information from a RAG step is used by a SCRAPE step, or if all previous steps are needed in a WRITE step, or any other dependencies.\n",
      "\n",
      "Current conversation: \n",
      "\n",
      "\n",
      "User Query: design an analysis pipeline to find the first order interactions of MYOD in the hardwired genome from HWG.mat. Write a small report about which pathways and cell types these genes are implicated in\n",
      "\n",
      "Plan:\n",
      "**Step 1 (method, eg. RAG)**:\n",
      "Prompt: [Description of action for chatbot to do Step 1, i.e. do X, Y, Z]\n",
      "\n",
      "**Step 2 (method, eg. CODE)**:\n",
      "Prompt: [Description of action for chatbot to do Step 2, i.e. do X, Y, Z]\n",
      "\n",
      "**Step 3 (method, eg. DATABASE)**:\n",
      "Prompt: [Description of action for chatbot to do Step 3, i.e. do X, Y, Z]\n",
      "...\n",
      "\u001b[0m\n"
     ]
    },
    {
     "name": "stderr",
     "output_type": "stream",
     "text": [
      "Sun 16 Jun 2024 06:24:02 PM EDT INFO RAG\n"
     ]
    },
    {
     "name": "stdout",
     "output_type": "stream",
     "text": [
      "\n",
      "\u001b[1m> Finished chain.\u001b[0m\n",
      " **Step 1 (method: RAG)**:\n",
      "Prompt: Retrieve information about \"MYOD\" in the context of genomic research from relevant literature and documents stored in text databases. Focus on interactions in the hardwired genome from HWG.mat.\n",
      "\n",
      "**Step 2 (method: CODE)**:\n",
      "Prompt: Develop a custom bioinformatics pipeline using R or Python to identify first-order interactions of MYOD in HWG.mat. Utilize appropriate tools such as ChIPSeeker, GenomeQuest, or HOMER for analyses.\n",
      "\n",
      "**Step 3 (method: SCRAPE)**:\n",
      "Prompt: Search biomedical literature platforms like bioRxiv, PubMed, and preprint servers for recent research on MYOD interactions with the hardwired genome in HWG.mat.\n",
      "\n",
      "**Step 4 (method: DATABASE)**:\n",
      "Prompt: Perform gene set enrichment analysis (GSEA) using databases such as the Gene Ontology (GO) and Enrichr to identify significant pathways and functional terms related to the first-order MYOD interactions.\n",
      "\n",
      "**Step 5 (method: CODE)**:\n",
      "Prompt: Use the identified genes and pathways from the GSEA to perform additional analyses, such as further gene expression analyses or pathway analyses if needed. This can be accomplished using R or Python and relevant libraries or tools.\n",
      "\n",
      "**Step 6 (method: RAG)**:\n",
      "Prompt: Search the literature for studies linking the identified pathways or cell types to MYOD and the hardwired genome.\n",
      "\n",
      "**Step 7 (method: DATABASE)**:\n",
      "Prompt: Perform searches in specific databases such as Human Protein Atlas/UniProt and GeneCards to infer potential cell types enriched for the identified pathways.\n",
      "\n",
      "**Step 8 (method: WRITE)**:\n",
      "Prompt: Synthesize and summarize the findings of the gene interaction and enrichment analyses along with the literature search outcomes to create a comprehensive report on the interaction of MYOD in the hardwired genome, the associated pathways, and implicated cell types.\n",
      "\n",
      "\n",
      "==================================================\n",
      "==================================================\n",
      "RAG >> 2: "
     ]
    },
    {
     "name": "stderr",
     "output_type": "stream",
     "text": [
      "/home/jpic/.local/lib/python3.11/site-packages/langchain_core/_api/deprecation.py:119: LangChainDeprecationWarning: The method `Chain.__call__` was deprecated in langchain 0.1.0 and will be removed in 0.3.0. Use invoke instead.\n",
      "  warn_deprecated(\n"
     ]
    },
    {
     "name": "stdout",
     "output_type": "stream",
     "text": [
      "\n",
      "\n",
      "\u001b[1m> Entering new StuffDocumentsChain chain...\u001b[0m\n",
      "\n",
      "\n",
      "\u001b[1m> Entering new LLMChain chain...\u001b[0m\n",
      "Prompt after formatting:\n",
      "\u001b[32;1m\u001b[1;3mSystem: Use the following pieces of context to answer the user's question. \n",
      "If you don't know the answer, just say that you don't know, don't try to make up an answer.\n",
      "----------------\n",
      "not be mapped to PubMed. We also removed\n",
      "highly unspecific articles that mention more than 200 rel-\n",
      "evant biomedical entities such as proteins, chemicals, dis-eases or tissues. The final corpus consists of 28 579 637\n",
      "scientific publications, of which 2 106 542 are available as\n",
      "full-text articles and the remainder as abstracts. While thetext-miningpipelineitselfhasremainedunchanged(lastde-\n",
      "s c r i b e di n( 29)), its dictionary of gene and protein names\n",
      "has been updated to the new set of genomes and the stop-word list improved to increase precision, especially for hu-\n",
      "man proteins.\n",
      "NEW ENRICHMENT DETECTION MODE\n",
      "For users that query the STRING database with a set of\n",
      "proteins (as opposed to a single query protein only), the\n",
      "website computes a functional enrichment analysis in thebackground; this can then be inspected and browsed by\n",
      "the user, and includes interactive projections of the results\n",
      "ontotheuser’sproteinnetwork.Thisfunctionalityhasbeenavailable since version 9.1, and is based on\n",
      "\n",
      "interaction evidence directly from the source\n",
      "publications,andtheyarecoordinatingtheireffortsthrough\n",
      "theIMExconsortium ( 19). They provide highly valuable\n",
      "addedservicessuchascuratingmetadata,maintainingcom-mon name spaces and devising ontologies and standards.\n",
      "Asecondsourceofprotein–proteininteractioninformation\n",
      "is provided by computational prediction efforts, some ofwhicharehostedbydedicateddatabases,e.g.( 20,21).Lastly,\n",
      "a third class of databases is dedicated to protein interac-\n",
      "tions at the widest scope, integrating both primary as wellas predicted interactions, often including annotated path-\n",
      "way knowledge, text-mining results, inter-organism trans-\n",
      "fersorotheraccessoryinformation.TheSTRINGdatabase(‘Search Tool for Retrieval of Interacting Genes /Proteins’)\n",
      "belongs to this latter class, along with GeneMania ( 22),\n",
      "FunCoup ( 23), I2D (24), ConsensusPathDb ( 25), IMP\n",
      "(26) and HumanNet ( 27)––most of which have recently\n",
      "been reviewedand benchmarked in ( 7).\n",
      "STRING is one of the\n",
      "\n",
      "to the STRING website, we expect to provide tighter\n",
      "integrationoffunctionalenrichmentandnetworksearchre-\n",
      "sults,andareexploringoptionstoprovidemorecontextonthe various networks (such as cell type, tissues, organelles).\n",
      "Wewillalsostrivetoprovidebetterinteroperabilityoptions\n",
      "and increase our list of partnered, crosslinked resources aswellasapplicabledirectdataimportoptionstofacilitateour\n",
      "regular dataupdates.\n",
      "ACKNOWLEDGEMENTS\n",
      "WeareindebtedtoJuriRappsilberandhisteamforsharing\n",
      "ProteomeHDdatapriortopublication,andtoYanP.Yuanfor excellent IT support at EMBL. Thomas Rattei and his\n",
      "SIMAP project at University of Vienna provided essential\n",
      "protein similarity data for our very large sequence space.WethankTudorOpreaandtheIlluminatingtheDruggable\n",
      "Genome project for help in improving the text mining, and\n",
      "DanielMendeandSofiaForslundfortheirhelpinselectinganon-redundant setof high-qualitygenomes.\n",
      "FUNDING\n",
      "The Swiss Institute of Bioinformatics (Lausanne) provides\n",
      "long-term core funding for STRING, as do\n",
      "\n",
      "interactome (BCI):  http://amdec-bioinfo.cu-genome.\n",
      "org/html/BCellInteractome.html\n",
      "Biochemical Genetic and Genomics knowledgebase (BIGG):  \n",
      "http://bigg.ucsd.edu\n",
      "Biological General Repository for Interaction Datasets \n",
      "(BioGRID):  http://thebiogrid.or g\n",
      "Biomolecular Interaction Network Database (BIND):   \n",
      "http://www.bind.ca\n",
      "CBS prediction server:  http://www.cbs.dtu.dk/services\n",
      "Database of Interacting Proteins (DIP):   \n",
      "http://dip.doe-mbi.ucla.edu/dip\n",
      "Human Protein Reference Database (HPRD):   \n",
      "http://www.hprd.or g\n",
      "JASPAR:  http://jaspar.genereg.net\n",
      "Kyoto Encyclopedia of Genes and Genomes (KEGG):   \n",
      "http://www.genome.jp/kegg\n",
      "microRNA:  http://www.microrna.or g\n",
      "miRBase:  http://www.mirbase.or g\n",
      "miRDB:  http://mirdb.or g\n",
      "miRecords:  http://mirecords.biolead.or g Molecular Interaction database (MINT):   \n",
      "http://mint.bio.uniroma2.it/mint\n",
      "Munich Information Center for Protein Sequence (MIPS) \n",
      "Mammalian Protein–Protein Interaction Database:\n",
      "\n",
      "by TFs\n",
      "and enhance gene expression downstream of the genome. The en-hancer data were subdivided based on the tissue; therefore, we\n",
      "extracted data on specific tissues (e.g. liver tissue), which were\n",
      "manually curated.\n",
      "2.5 Molecular interaction data\n",
      "We obtained gene–gene association data from ‘ Homo sapiens ’ from\n",
      "the STRING database ( Szklarczyk et al. , 2019 ). Several types of\n",
      "interaction exist such as conserved neighborhood, co-occurrence, fu-sion, coexpression, experiment, database and text mining interac-\n",
      "tions. In the present study, we used gene–gene associations based on\n",
      "coexpression associations, coexpression; accordingly, our resultsincluded 6 080 249 associations among 18 201 genes.\n",
      "2.6 Cell ontology data\n",
      "To create cell ontology tree, we obtained cell ontology data from the\n",
      "National Center for Biomedical Ontology (NCBO) Bioportal ( Diehl\n",
      "et al. , 2016 ), in which ontology terms are assigned according to the\n",
      "principles of the Open Biological and Biomedical Ontologies\n",
      "Foundry (\n",
      "\n",
      "high-throughput text-mining as well as on a hi-\n",
      "erarchical clustering of the association network it-\n",
      "self. The STRING resource is available online at\n",
      "https://string-db.org/ .\n",
      "INTRODUCTION\n",
      "While an impressive amount of structural and functional\n",
      "information on individual proteins has been amassed ( 1–\n",
      "3), our knowledge about their interactions remains more\n",
      "fragmented. Some interactions are quite well documentedand understood, for example in the context of three-\n",
      "dimensional reconstructions of large cellular machineries\n",
      "(4–6), while others are only hinted at so far, through in-\n",
      "direct evidence such as genetic observations or statistical\n",
      "predictions. Furthermore, the space of potential protein–protein interactions is much larger, and also more context-\n",
      "dependent,thanthespaceofintrinsicmolecularfunctionof\n",
      "individual molecules. Interactions may not only be\n",
      "\n",
      "on the curators’ expertise [ 7–10]. Databases that use automated methods for literature \n",
      "searching, such as predictive text mining, are relatively easy to maintain but tend to have \n",
      "many erroneous entries [ 11]. Different databases may represent the same  biological event in \n",
      "different ways, making them difficult to standardize for computational use.\n",
      "In this opinion, we lay out the common representations that have been used in computational \n",
      "analyses of signaling pathways. After examining the limitations of these representations, we \n",
      "encourage the use of hypergraphs as models that better capture the complex relationships in \n",
      "the underlying biological mechanisms. We describe three applications to motivate the need \n",
      "for more powerful representations of signaling pathways. Pathway enrichment  assesses \n",
      "whether discovered proteins are significantly enriched for proteins/interactions in a pathway \n",
      "of interest. Pathway reconstruction  aims to explicitly reconstruct and discover missing\n",
      "\n",
      "functional \n",
      "profiling of gene lists from large- scale experiments. \n",
      "Nucleic Acids Res. 35, W193–W200 (2007).\n",
      "172. Uhlén, M. et al. Tissue- based map of the human \n",
      "proteome. Science 347, 1260419 (2015).\n",
      "173. Szklarczyk, D. et al. STRING v11: protein–protein \n",
      "association networks with increased coverage, \n",
      "supporting functional discovery in genome- wide \n",
      "experimental datasets. Nucleic Acids Res. 47, \n",
      "D607–D613 (2019).\n",
      "174. Stark, C. et al. BioGRID: a general repository for \n",
      "interaction datasets. Nucleic Acids Res. 34, \n",
      "D535–D539 (2006).\n",
      "175. Gioutlakis, A., Klapa, M. I. & Moschonas, N. K. PICKLE \n",
      "2.0: a human protein- protein interaction meta- database \n",
      "employing data integration via genetic information \n",
      "ontology. PLoS ONE 12, e0186039 (2017).\n",
      "176. Prieto, C. & De Las Rivas, J. APID: agile protein \n",
      "interaction DataAnalyzer. Nucleic Acids Res. 34, \n",
      "W298–W302 (2006).\n",
      "177. Hermjakob, H. et al. IntAct: an open source molecular \n",
      "interaction database. Nucleic Acids Res. 32, \n",
      "D452–D455\n",
      "\n",
      "D608NucleicAcidsResearch,2019,Vol.47,Databaseissue\n",
      "tein,orwhentwoenzymesexchangeaspecificsubstratevia\n",
      "diffusion.\n",
      "Arguably, the common denominator of the various\n",
      "forms of protein–protein associations is informationflow––biologically meaningful interfaces have evolved to\n",
      "allowtheflowofinformationthroughthecell,andtheyare\n",
      "ultimately essential for implementing a functional system.Hence, it is desirable to collect and integrate all types of\n",
      "protein–protein interactions under one framework; this\n",
      "then provides support for data analysis pipelines in diverseareas, ranging from disease module identification ( 7,8)t o\n",
      "biomarker discovery ( 9–11) and allows manual browsing,\n",
      "adhocdiscovery and annotation.\n",
      "Protein–protein interactions can be collected from a\n",
      "number of online databases (reviewed in ( 12,13)), as well\n",
      "as from individual high-throughput efforts, e.g. ( 14). Pri-\n",
      "maryinteractiondatabases( 3,15–18)arejointlyannotating\n",
      "experimental interaction evidence directly from the\n",
      "\n",
      "https://www.orthodb.org/170\n",
      "gProfiler https://biit.cs.ut.ee/gprofiler/orth171\n",
      "Databases of protein–protein interactionsThe Human Protein Atlas https://www.proteinatlas.org/\n",
      "172\n",
      "STRING https://string-db.org/173\n",
      "BioGRID https://thebiogrid.org/174\n",
      "PICKLE http://www.pickle.gr175\n",
      "APID http://apid.dep.usal.es176\n",
      "IntAct https://www.ebi.ac.uk/intact177\n",
      "Pathway Commons http://www.pathwaycommons.org/178\n",
      "Ligand–receptor interactionsIUPHAR/BPS Guide to Pharmacology https://www.guidetopharmacology.org/\n",
      "179\n",
      "Resources for cell–cell interactions from \n",
      "the Bader laboratoryhttp://baderlab.org/CellCellInteractions32\n",
      "Compendium of ligand–receptor pairs in the literaturehttps://github.com/LewisLabUCSD/\n",
      "Ligand-Receptor-Pairshttps://doi.org/10.1038/\n",
      "s41576-020-00292-x\n",
      "www.nature.com/nrgReviews\n",
      "78 | February 2021 | volume 22\n",
      "Human: Retrieve information about \"MYOD\" in the context of genomic research from relevant literature and documents stored in text databases. Focus on interactions in the hardwired genome from HWG.mat.\u001b[0m\n"
     ]
    },
    {
     "name": "stderr",
     "output_type": "stream",
     "text": [
      "Sun 16 Jun 2024 06:24:07 PM EDT INFO CODE\n"
     ]
    },
    {
     "name": "stdout",
     "output_type": "stream",
     "text": [
      "\n",
      "\u001b[1m> Finished chain.\u001b[0m\n",
      "\n",
      "\u001b[1m> Finished chain.\u001b[0m\n",
      " To retrieve information about \"MYOD\" in the context of genomic research from relevant literature and documents stored in text databases, you can use biomedical text mining tools or databases that provide this functionality. One such database is the STRING database, which provides a functional enrichment analysis in the background for users who query the website with a set of proteins. It uses interaction evidence directly from source publications and provides a more comprehensive view of protein networks and their functions. It also integrates data from various sources, including automated predictions and computational methods, as well as curated data from dedicated databases and other resources.\n",
      "\n",
      "Another option is to use specialized text mining tools or services, such as gProfiler or the Human Protein Atlas, which focus on specific domains of genomic research and provide more targeted information about protein–protein interactions and other genomic features. For example, the Human Protein Atlas provides comprehensive information about the localization and expression of proteins in normal and disease tissues, and allows users to explore the interactions of proteins of interest with other proteins and pathways.\n",
      "\n",
      "It is important to note that retrieving accurate and reliable information from text databases and literature requires careful consideration of the quality and reliability of the data sources, as well as the methods used for information extraction and analysis. The examples provided above are just a few of the many resources available for genomic research, and it is always recommended to carefully evaluate their strengths and limitations before using them for specific research purposes.\n",
      "\n",
      "Regarding your specific request for information about \"MYOD\" in the context of genomic research from the HWG, unfortunately, the context provided does not contain enough information to directly answer this question. However, you can use the resources and tools mentioned above to search for \"MYOD\" in relation to genomic research, and you may be able to find potentially relevant information about its interactions and functions in the HWG or related databases.\n",
      "==================================================\n",
      "==================================================\n",
      "RAG >> 3: CODER\n",
      "input_variables=['user_query'] template='You must select which code to run to help a user.\\n\\n**Available Scripts**\\nScript Name: animal_info, \\t Description: This script provides information about different animals based on user input.\\nScript Name: example, \\t Description: This is the top-level docstring for the example script.\\nScript Name: helloWorldPYTHON, \\t Description: This script prints hello world to the terminal. No arguments are required.\\nScript Name: matlabPipeline, \\t Description:  matlabPipeline - A sample function to demonstrate argument handling\\nScript Name: myFunc, \\t Description:  myFunc - A simple function to multiply each element of the input array by 2.\\nScript Name: helloWorldMATLAB, \\t Description:  Print \"Hello World\"\\nScript Name: saveplot, \\t Description: SAVEPLOT Save the plot to a file\\nScript Name: qualityControl, \\t Description:  qualityControl - Constructs and runs a bioinformatics quality control pipeline.\\n\\n\\n**User Query**\\n{user_query}\\n\\n**Task**\\nBased on the user\\'s query, select the best script from the available scripts. Provide the script name and explain why it is the best match. If no script is good, replace script with None\\n\\n**Response Template**\\nSCRIPT: <selected script>\\nREASON: <reasoning why the script fits the user prompt>\\n'\n",
      "FIRST LLM CALL\n",
      "Warning! the type doesnt exist\n"
     ]
    },
    {
     "name": "stderr",
     "output_type": "stream",
     "text": [
      "huggingface/tokenizers: The current process just got forked, after parallelism has already been used. Disabling parallelism to avoid deadlocks...\n",
      "To disable this warning, you can either:\n",
      "\t- Avoid using `tokenizers` before the fork if possible\n",
      "\t- Explicitly set the environment variable TOKENIZERS_PARALLELISM=(true | false)\n"
     ]
    },
    {
     "name": "stdout",
     "output_type": "stream",
     "text": [
      "Matlab Engine On\n",
      "ALL SCRIPTS FOUND. BUILDING TEMPLATE\n",
      "input_variables=['history', 'input'] template='Current conversation:\\n{history}\\n\\n**MATLAB SCRIPT**\\nYou must run this python script: \\nqualityControl.m\\n\\n**MATLAB FUNCTION DOCUMENTATION**:\\nfunction output = qualityControl(fileName)\\n% qualityControl - Constructs and runs a bioinformatics quality control pipeline.\\n%\\n% BRAD\\'s Example to call this function:\\n%    Execute: eng.qualityControl(\"SRR005164_1_50.fastq\");\\n%\\n% This function creates a bioinformatics quality control pipeline using the\\n% MATLAB bioinformatics toolbox. It reads a FASTQ file, applies sequence\\n% filtering, and generates a quality control plot.\\n%\\n% The pipeline consists of the following steps:\\n% 1. FileChooser block to select the input FASTQ file.\\n% 2. SeqFilter block to filter the sequences based on quality thresholds.\\n% 3. UserFunction block to generate a quality control plot of the filtered sequences.\\n%\\n% The blocks are connected in sequence and executed in the specified order.\\n%\\n% Reference: https://www.mathworks.com/help/bioinfo/ref/bioinfo.pipeline.pipeline.run.html\\n%\\n% Auth: Joshua Pickard\\n%       jpic@umich.edu\\n% Date: June 14, 2024\\n\\n**CALL MATLAB FUNCTIONS FROM PYTHON**:\\nUse MATLAB® Engine API for Python® to call any MATLAB function on the MATLAB path. Some examples to call a few common matlab functions include:\\n\\nTo call the matlab function myFnc which has no arguments:\\n```\\nExecute: eng.myFnc()\\n```\\n\\nTo use the is prime function which requires an input argument:\\n```\\nExecute: tf = eng.isprime(37)\\n```\\n\\nTo determine the greatest common denominator of two numbers, use the gcd function. Set nargout to return the three output arguments from gcd.\\n```\\nExecute: t = eng.gcd(100.0,80.0,nargout=3)\\n```\\n\\nQuery:{input}\\n\\n**INSTRUCTIONS**\\n1. Given the user query and the documentation, identify each of the arguments found in the users query that should be passed to the matlab function.\\n2. Using the matlab enging eng, provide the one line of code to execute the desired matlab commands. Assume all functions are added to the path and eng already exist.\\n3. The last line of your response should say \"Execute: <MATLAB codes to execute>\"\\n4. Format the response/output as:\\nArguments: \\nMATLAB Code Explanation: <2 sentences maximum>\\nExecute: <your code here>\\n\\n**IMPORTANT**\\nThe code to execute from your response must be formatted as:\\n    Execute: eng.<function name>(<arguments>)>\\nThis output should be exactly one line and no longer. Stop the response after this line.\\n'\n",
      "\n",
      "\n",
      "\u001b[1m> Entering new ConversationChain chain...\u001b[0m\n",
      "Prompt after formatting:\n",
      "\u001b[32;1m\u001b[1;3mCurrent conversation:\n",
      "Human: design an analysis pipeline to find the first order interactions of MYOD in the hardwired genome from HWG.mat. Write a small report about which pathways and cell types these genes are implicated in\n",
      "BRAD:  **Step 1 (method: RAG)**:\n",
      "Prompt: Retrieve information about \"MYOD\" in the context of genomic research from relevant literature and documents stored in text databases. Focus on interactions in the hardwired genome from HWG.mat.\n",
      "\n",
      "**Step 2 (method: CODE)**:\n",
      "Prompt: Develop a custom bioinformatics pipeline using R or Python to identify first-order interactions of MYOD in HWG.mat. Utilize appropriate tools such as ChIPSeeker, GenomeQuest, or HOMER for analyses.\n",
      "\n",
      "**Step 3 (method: SCRAPE)**:\n",
      "Prompt: Search biomedical literature platforms like bioRxiv, PubMed, and preprint servers for recent research on MYOD interactions with the hardwired genome in HWG.mat.\n",
      "\n",
      "**Step 4 (method: DATABASE)**:\n",
      "Prompt: Perform gene set enrichment analysis (GSEA) using databases such as the Gene Ontology (GO) and Enrichr to identify significant pathways and functional terms related to the first-order MYOD interactions.\n",
      "\n",
      "**Step 5 (method: CODE)**:\n",
      "Prompt: Use the identified genes and pathways from the GSEA to perform additional analyses, such as further gene expression analyses or pathway analyses if needed. This can be accomplished using R or Python and relevant libraries or tools.\n",
      "\n",
      "**Step 6 (method: RAG)**:\n",
      "Prompt: Search the literature for studies linking the identified pathways or cell types to MYOD and the hardwired genome.\n",
      "\n",
      "**Step 7 (method: DATABASE)**:\n",
      "Prompt: Perform searches in specific databases such as Human Protein Atlas/UniProt and GeneCards to infer potential cell types enriched for the identified pathways.\n",
      "\n",
      "**Step 8 (method: WRITE)**:\n",
      "Prompt: Synthesize and summarize the findings of the gene interaction and enrichment analyses along with the literature search outcomes to create a comprehensive report on the interaction of MYOD in the hardwired genome, the associated pathways, and implicated cell types.\n",
      "\n",
      "**MATLAB SCRIPT**\n",
      "You must run this python script: \n",
      "qualityControl.m\n",
      "\n",
      "**MATLAB FUNCTION DOCUMENTATION**:\n",
      "function output = qualityControl(fileName)\n",
      "% qualityControl - Constructs and runs a bioinformatics quality control pipeline.\n",
      "%\n",
      "% BRAD's Example to call this function:\n",
      "%    Execute: eng.qualityControl(\"SRR005164_1_50.fastq\");\n",
      "%\n",
      "% This function creates a bioinformatics quality control pipeline using the\n",
      "% MATLAB bioinformatics toolbox. It reads a FASTQ file, applies sequence\n",
      "% filtering, and generates a quality control plot.\n",
      "%\n",
      "% The pipeline consists of the following steps:\n",
      "% 1. FileChooser block to select the input FASTQ file.\n",
      "% 2. SeqFilter block to filter the sequences based on quality thresholds.\n",
      "% 3. UserFunction block to generate a quality control plot of the filtered sequences.\n",
      "%\n",
      "% The blocks are connected in sequence and executed in the specified order.\n",
      "%\n",
      "% Reference: https://www.mathworks.com/help/bioinfo/ref/bioinfo.pipeline.pipeline.run.html\n",
      "%\n",
      "% Auth: Joshua Pickard\n",
      "%       jpic@umich.edu\n",
      "% Date: June 14, 2024\n",
      "\n",
      "**CALL MATLAB FUNCTIONS FROM PYTHON**:\n",
      "Use MATLAB® Engine API for Python® to call any MATLAB function on the MATLAB path. Some examples to call a few common matlab functions include:\n",
      "\n",
      "To call the matlab function myFnc which has no arguments:\n",
      "```\n",
      "Execute: eng.myFnc()\n",
      "```\n",
      "\n",
      "To use the is prime function which requires an input argument:\n",
      "```\n",
      "Execute: tf = eng.isprime(37)\n",
      "```\n",
      "\n",
      "To determine the greatest common denominator of two numbers, use the gcd function. Set nargout to return the three output arguments from gcd.\n",
      "```\n",
      "Execute: t = eng.gcd(100.0,80.0,nargout=3)\n",
      "```\n",
      "\n",
      "Query:Develop a custom bioinformatics pipeline using R or Python to identify first-order interactions of MYOD in HWG.mat. Utilize appropriate tools such as ChIPSeeker, GenomeQuest, or HOMER for analyses.\n",
      "\n",
      "**INSTRUCTIONS**\n",
      "1. Given the user query and the documentation, identify each of the arguments found in the users query that should be passed to the matlab function.\n",
      "2. Using the matlab enging eng, provide the one line of code to execute the desired matlab commands. Assume all functions are added to the path and eng already exist.\n",
      "3. The last line of your response should say \"Execute: <MATLAB codes to execute>\"\n",
      "4. Format the response/output as:\n",
      "Arguments: \n",
      "MATLAB Code Explanation: <2 sentences maximum>\n",
      "Execute: <your code here>\n",
      "\n",
      "**IMPORTANT**\n",
      "The code to execute from your response must be formatted as:\n",
      "    Execute: eng.<function name>(<arguments>)>\n",
      "This output should be exactly one line and no longer. Stop the response after this line.\n",
      "\u001b[0m\n"
     ]
    },
    {
     "name": "stderr",
     "output_type": "stream",
     "text": [
      "Sun 16 Jun 2024 06:24:24 PM EDT INFO SCRAPE\n"
     ]
    },
    {
     "name": "stdout",
     "output_type": "stream",
     "text": [
      "\n",
      "\u001b[1m> Finished chain.\u001b[0m\n",
      "LLM OUTPUT PARSER\n",
      " Arguments: \"HWG.mat\", \"MYOD\", \"ChIPSeeker\", \"GenomeQuest\", \"HOMER\"\n",
      "MATLAB Code Explanation: Reads the input matrix and begins the analysis using the specified bioinformatics tools.\n",
      "Execute: eng.qualityControl(@(arg1) { readmatrix(arg1, '*'); myod_analysis(arg1, \"MYOD\", \"ChIPSeeker\", \"GenomeQuest\", \"HOMER\") }, \"HWG.mat\");\n",
      "\n",
      "Function definition:\n",
      "function myod_analysis(data, gene, tool1, tool2, tool3)\n",
      "% myod_analysis - Analysis of first-order interactions of MYOD in HWG.mat\n",
      "%\n",
      "% Reads the input data and performs the analysis using the specified bioinformatics tools\n",
      "%\n",
      "% Tool1, Tool2, and Tool3 arguments are passed as strings containing the tool names and are used to call the specific analysis functions within each tool.\n",
      "%\n",
      "% BRAD's Example to call this function:\n",
      "%    Execute: eng.myod_analysis(eng.readmatrix(\"HWG.mat\"), \"MYOD\", 'ChIPSeeker', 'GenomeQuest', 'HOMER');\n",
      "%\n",
      "end\n",
      "[' Arguments: \"HWG.mat\", \"MYOD\", \"ChIPSeeker\", \"GenomeQuest\", \"HOMER\"\\nMATLAB Code Explanation: Reads the input matrix and begins the analysis using the specified bioinformatics tools.\\n', ' eng.qualityControl(@(arg1) { readmatrix(arg1, \\'*\\'); myod_analysis(arg1, \"MYOD\", \"ChIPSeeker\", \"GenomeQuest\", \"HOMER\") }, \"HWG.mat\");\\n\\nFunction definition:\\nfunction myod_analysis(data, gene, tool1, tool2, tool3)\\n% myod_analysis - Analysis of first-order interactions of MYOD in HWG.mat\\n%\\n% Reads the input data and performs the analysis using the specified bioinformatics tools\\n%\\n% Tool1, Tool2, and Tool3 arguments are passed as strings containing the tool names and are used to call the specific analysis functions within each tool.\\n%\\n% BRAD\\'s Example to call this function:\\n%    ', ' eng.myod_analysis(eng.readmatrix(\"HWG.mat\"), \"MYOD\", \\'ChIPSeeker\\', \\'GenomeQuest\\', \\'HOMER\\');\\n%\\nend']\n",
      "Executing Code!!\n",
      "EVAL\n",
      "eng.myod_analysis(eng.readmatrix(\"HWG.mat\"), \"MYOD\", 'ChIPSeeker', 'GenomeQuest', 'HOMER');\n",
      "%\n",
      "end\n",
      "END EVAL CHECK\n",
      "Debug: Syntax error in the MATLAB code: invalid syntax (<string>, line 1)\n",
      "==================================================\n",
      "==================================================\n",
      "RAG >> 4: \n",
      "\n",
      "\u001b[1m> Entering new ConversationChain chain...\u001b[0m\n",
      "Prompt after formatting:\n",
      "\u001b[32;1m\u001b[1;3mCurrent conversation:\n",
      "Human: design an analysis pipeline to find the first order interactions of MYOD in the hardwired genome from HWG.mat. Write a small report about which pathways and cell types these genes are implicated in\n",
      "BRAD:  **Step 1 (method: RAG)**:\n",
      "Prompt: Retrieve information about \"MYOD\" in the context of genomic research from relevant literature and documents stored in text databases. Focus on interactions in the hardwired genome from HWG.mat.\n",
      "\n",
      "**Step 2 (method: CODE)**:\n",
      "Prompt: Develop a custom bioinformatics pipeline using R or Python to identify first-order interactions of MYOD in HWG.mat. Utilize appropriate tools such as ChIPSeeker, GenomeQuest, or HOMER for analyses.\n",
      "\n",
      "**Step 3 (method: SCRAPE)**:\n",
      "Prompt: Search biomedical literature platforms like bioRxiv, PubMed, and preprint servers for recent research on MYOD interactions with the hardwired genome in HWG.mat.\n",
      "\n",
      "**Step 4 (method: DATABASE)**:\n",
      "Prompt: Perform gene set enrichment analysis (GSEA) using databases such as the Gene Ontology (GO) and Enrichr to identify significant pathways and functional terms related to the first-order MYOD interactions.\n",
      "\n",
      "**Step 5 (method: CODE)**:\n",
      "Prompt: Use the identified genes and pathways from the GSEA to perform additional analyses, such as further gene expression analyses or pathway analyses if needed. This can be accomplished using R or Python and relevant libraries or tools.\n",
      "\n",
      "**Step 6 (method: RAG)**:\n",
      "Prompt: Search the literature for studies linking the identified pathways or cell types to MYOD and the hardwired genome.\n",
      "\n",
      "**Step 7 (method: DATABASE)**:\n",
      "Prompt: Perform searches in specific databases such as Human Protein Atlas/UniProt and GeneCards to infer potential cell types enriched for the identified pathways.\n",
      "\n",
      "**Step 8 (method: WRITE)**:\n",
      "Prompt: Synthesize and summarize the findings of the gene interaction and enrichment analyses along with the literature search outcomes to create a comprehensive report on the interaction of MYOD in the hardwired genome, the associated pathways, and implicated cell types.\n",
      "Human: Develop a custom bioinformatics pipeline using R or Python to identify first-order interactions of MYOD in HWG.mat. Utilize appropriate tools such as ChIPSeeker, GenomeQuest, or HOMER for analyses.\n",
      "BRAD:  Arguments: \"HWG.mat\", \"MYOD\", \"ChIPSeeker\", \"GenomeQuest\", \"HOMER\"\n",
      "MATLAB Code Explanation: Reads the input matrix and begins the analysis using the specified bioinformatics tools.\n",
      "Execute: eng.qualityControl(@(arg1) { readmatrix(arg1, '*'); myod_analysis(arg1, \"MYOD\", \"ChIPSeeker\", \"GenomeQuest\", \"HOMER\") }, \"HWG.mat\");\n",
      "\n",
      "Function definition:\n",
      "function myod_analysis(data, gene, tool1, tool2, tool3)\n",
      "% myod_analysis - Analysis of first-order interactions of MYOD in HWG.mat\n",
      "%\n",
      "% Reads the input data and performs the analysis using the specified bioinformatics tools\n",
      "%\n",
      "% Tool1, Tool2, and Tool3 arguments are passed as strings containing the tool names and are used to call the specific analysis functions within each tool.\n",
      "%\n",
      "% BRAD's Example to call this function:\n",
      "%    Execute: eng.myod_analysis(eng.readmatrix(\"HWG.mat\"), \"MYOD\", 'ChIPSeeker', 'GenomeQuest', 'HOMER');\n",
      "%\n",
      "end\n",
      "    \n",
      "    Query:Search biomedical literature platforms like bioRxiv, PubMed, and preprint servers for recent research on MYOD interactions with the hardwired genome in HWG.mat.\n",
      "    \n",
      "    From the query, decide if ARXIV, PUBMED, or BIORXIV should be searched, and propose no more than 10 search terms for this query and database. Separate each term with a comma, and provide no extra information/explination for either the database or search terms. Format your output as follows with no additions:\n",
      "    \n",
      "    Database: <ARXIV, PUBMED, or BIORXIV>\n",
      "    Search Terms: <improved search terms>\n",
      "    \u001b[0m\n",
      "\n",
      "\u001b[1m> Finished chain.\u001b[0m\n",
      "searching on PUBMED...\n",
      "Search Terms: ['MYOD AND hardwired genome AND HWG.mat', 'MYOD interaction AND hardwired genome', 'MYOD binding AND HWG.mat', 'MYODtranscription AND HWG.mat', 'MYOD ChIP-Seq AND HWG.mat', 'MYOD regulation AND HWG.mat', 'MYOD AND gene expression AND HWG.mat', 'MYOD AND genome research AND HWG.mat', 'MYOD AND chromatin modification AND HWG.mat', 'MYOD AND epigenetics AND HWG.mat']\n",
      "no articles found\n",
      "pdf collection complete!\n",
      "no articles found\n",
      "pdf collection complete!\n",
      "no articles found\n",
      "pdf collection complete!\n",
      "no articles found\n",
      "pdf collection complete!\n",
      "no articles found\n",
      "pdf collection complete!\n",
      "no articles found\n",
      "pdf collection complete!\n",
      "no articles found\n",
      "pdf collection complete!\n",
      "no articles found\n",
      "pdf collection complete!\n",
      "no articles found\n",
      "pdf collection complete!\n",
      "no articles found\n",
      "pdf collection complete!\n"
     ]
    },
    {
     "name": "stderr",
     "output_type": "stream",
     "text": [
      "Sun 16 Jun 2024 06:24:29 PM EDT INFO DATABASE\n"
     ]
    },
    {
     "name": "stdout",
     "output_type": "stream",
     "text": [
      "no articles found\n",
      "pdf collection complete!\n",
      "==================================================\n",
      "==================================================\n",
      "RAG >> 5: \n",
      "\n",
      "\u001b[1m> Entering new ConversationChain chain...\u001b[0m\n",
      "Prompt after formatting:\n",
      "\u001b[32;1m\u001b[1;3mCurrent conversation:\n",
      "Human: design an analysis pipeline to find the first order interactions of MYOD in the hardwired genome from HWG.mat. Write a small report about which pathways and cell types these genes are implicated in\n",
      "BRAD:  **Step 1 (method: RAG)**:\n",
      "Prompt: Retrieve information about \"MYOD\" in the context of genomic research from relevant literature and documents stored in text databases. Focus on interactions in the hardwired genome from HWG.mat.\n",
      "\n",
      "**Step 2 (method: CODE)**:\n",
      "Prompt: Develop a custom bioinformatics pipeline using R or Python to identify first-order interactions of MYOD in HWG.mat. Utilize appropriate tools such as ChIPSeeker, GenomeQuest, or HOMER for analyses.\n",
      "\n",
      "**Step 3 (method: SCRAPE)**:\n",
      "Prompt: Search biomedical literature platforms like bioRxiv, PubMed, and preprint servers for recent research on MYOD interactions with the hardwired genome in HWG.mat.\n",
      "\n",
      "**Step 4 (method: DATABASE)**:\n",
      "Prompt: Perform gene set enrichment analysis (GSEA) using databases such as the Gene Ontology (GO) and Enrichr to identify significant pathways and functional terms related to the first-order MYOD interactions.\n",
      "\n",
      "**Step 5 (method: CODE)**:\n",
      "Prompt: Use the identified genes and pathways from the GSEA to perform additional analyses, such as further gene expression analyses or pathway analyses if needed. This can be accomplished using R or Python and relevant libraries or tools.\n",
      "\n",
      "**Step 6 (method: RAG)**:\n",
      "Prompt: Search the literature for studies linking the identified pathways or cell types to MYOD and the hardwired genome.\n",
      "\n",
      "**Step 7 (method: DATABASE)**:\n",
      "Prompt: Perform searches in specific databases such as Human Protein Atlas/UniProt and GeneCards to infer potential cell types enriched for the identified pathways.\n",
      "\n",
      "**Step 8 (method: WRITE)**:\n",
      "Prompt: Synthesize and summarize the findings of the gene interaction and enrichment analyses along with the literature search outcomes to create a comprehensive report on the interaction of MYOD in the hardwired genome, the associated pathways, and implicated cell types.\n",
      "Human: Develop a custom bioinformatics pipeline using R or Python to identify first-order interactions of MYOD in HWG.mat. Utilize appropriate tools such as ChIPSeeker, GenomeQuest, or HOMER for analyses.\n",
      "BRAD:  Arguments: \"HWG.mat\", \"MYOD\", \"ChIPSeeker\", \"GenomeQuest\", \"HOMER\"\n",
      "MATLAB Code Explanation: Reads the input matrix and begins the analysis using the specified bioinformatics tools.\n",
      "Execute: eng.qualityControl(@(arg1) { readmatrix(arg1, '*'); myod_analysis(arg1, \"MYOD\", \"ChIPSeeker\", \"GenomeQuest\", \"HOMER\") }, \"HWG.mat\");\n",
      "\n",
      "Function definition:\n",
      "function myod_analysis(data, gene, tool1, tool2, tool3)\n",
      "% myod_analysis - Analysis of first-order interactions of MYOD in HWG.mat\n",
      "%\n",
      "% Reads the input data and performs the analysis using the specified bioinformatics tools\n",
      "%\n",
      "% Tool1, Tool2, and Tool3 arguments are passed as strings containing the tool names and are used to call the specific analysis functions within each tool.\n",
      "%\n",
      "% BRAD's Example to call this function:\n",
      "%    Execute: eng.myod_analysis(eng.readmatrix(\"HWG.mat\"), \"MYOD\", 'ChIPSeeker', 'GenomeQuest', 'HOMER');\n",
      "%\n",
      "end\n",
      "Human: Search biomedical literature platforms like bioRxiv, PubMed, and preprint servers for recent research on MYOD interactions with the hardwired genome in HWG.mat.\n",
      "BRAD:  Database: bioRxiv, PubMed, Biotorrent, arXiv\n",
      "Search Terms: MYOD AND hardwired genome AND HWG.mat, MYOD interaction AND hardwired genome, MYOD binding AND HWG.mat, MYODtranscription AND HWG.mat, MYOD ChIP-Seq AND HWG.mat, MYOD regulation AND HWG.mat, MYOD AND gene expression AND HWG.mat, MYOD AND genome research AND HWG.mat, MYOD AND chromatin modification AND HWG.mat, MYOD AND epigenetics AND HWG.mat\n",
      "    \n",
      "    GENEONTOLOGY: The Gene Ontology (GO) is an initiative to unify the representation of gene and gene product attributes across all species via the aims: 1) maintain and develop its controlled vocabulary of gene and gene product attributes; 2) annotate genes and gene products, and assimilate and disseminate annotation data; and 3) provide tools for easy access to all aspects of the data provided by the project, and to enable functional interpretation of experimental data using the GO.\n",
      "    \n",
      "    ENRICHR: is a tool used to lookup sets of genes and their functional association. ENRICHR has access to many gene-set libraries including Allen_Brain_Atlas_up, ENCODE_Histone_Modifications_2015, Enrichr_Libraries_Most_Popular_Genes, FANTOM6_lncRNA_KD_DEGs, GO_Biological_Process_2023, GTEx, Human_Gene_Atlas, KEGG, REACTOME, Transcription_Factor_PPIs, WikiPathways and many others databases.\n",
      "    \n",
      "    Available Tables:\n",
      "    \n",
      "    \n",
      "    Query:Perform gene set enrichment analysis (GSEA) using databases such as the Gene Ontology (GO) and Enrichr to identify significant pathways and functional terms related to the first-order MYOD interactions.\n",
      "    \n",
      "    **INSTRUCTIONS**\n",
      "    1. From the query, decide if GENEONTOLOGY or ENRICHR should be used\n",
      "    2. Identify genes in the users input that should be searched. propose genes with similar names, correct the users spelling, or make small modifications to the list, but do not propose genes that are not found in the humans input.\n",
      "    3. If the user wants to extract genes from a table (python dataframe), provide the necessary code to get the genes into a python list, otherwise, say None.\n",
      "    4. If there is code required, identify the name of the table, otherwise say None\n",
      "    5. If there is code required, identify the row or column name of the table, otherwise say None\n",
      "    6. If there is code required, specify if it is a row or column\n",
      "    Format your output as follows with no additional information:\n",
      "    \n",
      "    database: <ENRICHR or GENEONTOLOGY>\n",
      "    genes: <List of genes separated by commas in query or None if code is required>\n",
      "    code: <True or None>\n",
      "    table: <Table Name>\n",
      "    mode name: <Row or Column Name>\n",
      "    mode: <Row or Column>\n",
      "    \u001b[0m\n"
     ]
    },
    {
     "name": "stderr",
     "output_type": "stream",
     "text": [
      "Sun 16 Jun 2024 06:24:30 PM EDT INFO Performing Enichr analysis using database GO_Biological_Process_2021.\n"
     ]
    },
    {
     "name": "stdout",
     "output_type": "stream",
     "text": [
      "\n",
      "\u001b[1m> Finished chain.\u001b[0m\n",
      " database: ENRICHR\n",
      "genes: None\n",
      "code: None\n",
      "table: None\n",
      "mode name: None\n",
      "mode: None\n",
      " database: ENRICHR\n",
      "genes: None\n",
      "code: None\n",
      "table: None\n",
      "mode name: None\n",
      "mode: None\n",
      "None\n",
      "{'database': 'ENRICHR', 'genes': ['None'], 'code': 'None'}\n",
      "['None']\n"
     ]
    },
    {
     "name": "stderr",
     "output_type": "stream",
     "text": [
      "Sun 16 Jun 2024 06:24:30 PM EDT ERROR \n",
      "            No Enrichr results were found for genes ['None'] and database GO_Biological_Process_2021. \n",
      "\n",
      "            If the genes are Ensembl IDs, please set argument 'ensembl=True' (for terminal, add flag: [--ensembl]).\n",
      "            \n"
     ]
    },
    {
     "name": "stdout",
     "output_type": "stream",
     "text": [
      "The following table was generated by quering the gene list against GO_Biological_Process_2021:\n"
     ]
    },
    {
     "data": {
      "text/html": [
       "<style type=\"text/css\">\n",
       "</style>\n",
       "<table id=\"T_8a22f\">\n",
       "  <thead>\n",
       "    <tr>\n",
       "      <th class=\"blank level0\" >&nbsp;</th>\n",
       "      <th id=\"T_8a22f_level0_col0\" class=\"col_heading level0 col0\" >rank</th>\n",
       "      <th id=\"T_8a22f_level0_col1\" class=\"col_heading level0 col1\" >path_name</th>\n",
       "      <th id=\"T_8a22f_level0_col2\" class=\"col_heading level0 col2\" >p_val</th>\n",
       "      <th id=\"T_8a22f_level0_col3\" class=\"col_heading level0 col3\" >z_score</th>\n",
       "      <th id=\"T_8a22f_level0_col4\" class=\"col_heading level0 col4\" >combined_score</th>\n",
       "      <th id=\"T_8a22f_level0_col5\" class=\"col_heading level0 col5\" >overlapping_genes</th>\n",
       "      <th id=\"T_8a22f_level0_col6\" class=\"col_heading level0 col6\" >adj_p_val</th>\n",
       "      <th id=\"T_8a22f_level0_col7\" class=\"col_heading level0 col7\" >database</th>\n",
       "    </tr>\n",
       "  </thead>\n",
       "  <tbody>\n",
       "  </tbody>\n",
       "</table>\n"
      ],
      "text/plain": [
       "<pandas.io.formats.style.Styler at 0x14a861c98450>"
      ]
     },
     "metadata": {},
     "output_type": "display_data"
    },
    {
     "name": "stderr",
     "output_type": "stream",
     "text": [
      "Sun 16 Jun 2024 06:24:31 PM EDT INFO CODE\n"
     ]
    },
    {
     "name": "stdout",
     "output_type": "stream",
     "text": [
      "The table has been saved to: RAG-gget-GO_Biological_Process_2021-2024-06-1618:24:31.212674.csv\n",
      "==================================================\n",
      "==================================================\n",
      "RAG >> 6: CODER\n",
      "input_variables=['user_query'] template='You must select which code to run to help a user.\\n\\n**Available Scripts**\\nScript Name: animal_info, \\t Description: This script provides information about different animals based on user input.\\nScript Name: example, \\t Description: This is the top-level docstring for the example script.\\nScript Name: helloWorldPYTHON, \\t Description: This script prints hello world to the terminal. No arguments are required.\\nScript Name: matlabPipeline, \\t Description:  matlabPipeline - A sample function to demonstrate argument handling\\nScript Name: myFunc, \\t Description:  myFunc - A simple function to multiply each element of the input array by 2.\\nScript Name: helloWorldMATLAB, \\t Description:  Print \"Hello World\"\\nScript Name: saveplot, \\t Description: SAVEPLOT Save the plot to a file\\nScript Name: qualityControl, \\t Description:  qualityControl - Constructs and runs a bioinformatics quality control pipeline.\\n\\n\\n**User Query**\\n{user_query}\\n\\n**Task**\\nBased on the user\\'s query, select the best script from the available scripts. Provide the script name and explain why it is the best match. If no script is good, replace script with None\\n\\n**Response Template**\\nSCRIPT: <selected script>\\nREASON: <reasoning why the script fits the user prompt>\\n'\n",
      "FIRST LLM CALL\n"
     ]
    },
    {
     "ename": "IndexError",
     "evalue": "list index out of range",
     "output_type": "error",
     "traceback": [
      "\u001b[0;31m---------------------------------------------------------------------------\u001b[0m",
      "\u001b[0;31mIndexError\u001b[0m                                Traceback (most recent call last)",
      "Cell \u001b[0;32mIn[4], line 1\u001b[0m\n\u001b[0;32m----> 1\u001b[0m \u001b[43mbrad\u001b[49m\u001b[38;5;241;43m.\u001b[39;49m\u001b[43mchat\u001b[49m\u001b[43m(\u001b[49m\u001b[43mragvectordb\u001b[49m\u001b[43m \u001b[49m\u001b[38;5;241;43m=\u001b[39;49m\u001b[43m \u001b[49m\u001b[43mvectordb\u001b[49m\u001b[43m)\u001b[49m\n",
      "File \u001b[0;32m~/RAG-DEV/BRAD/brad.py:462\u001b[0m, in \u001b[0;36mchat\u001b[0;34m(model_path, persist_directory, llm, ragvectordb, embeddings_model)\u001b[0m\n\u001b[1;32m    459\u001b[0m module \u001b[38;5;241m=\u001b[39m module_functions[routeName]\n\u001b[1;32m    461\u001b[0m \u001b[38;5;66;03m# Query database\u001b[39;00m\n\u001b[0;32m--> 462\u001b[0m chatstatus \u001b[38;5;241m=\u001b[39m \u001b[43mmodule\u001b[49m\u001b[43m(\u001b[49m\u001b[43mchatstatus\u001b[49m\u001b[43m)\u001b[49m\n\u001b[1;32m    464\u001b[0m \u001b[38;5;66;03m# Log and reset these values\u001b[39;00m\n\u001b[1;32m    465\u001b[0m chatlog, chatstatus \u001b[38;5;241m=\u001b[39m logger(chatlog, chatstatus, chatname)\n",
      "File \u001b[0;32m~/RAG-DEV/BRAD/coder.py:53\u001b[0m, in \u001b[0;36mcodeCaller\u001b[0;34m(chatstatus)\u001b[0m\n\u001b[1;32m     51\u001b[0m \u001b[38;5;28mprint\u001b[39m(\u001b[38;5;124m'\u001b[39m\u001b[38;5;124mFIRST LLM CALL\u001b[39m\u001b[38;5;124m'\u001b[39m) \u001b[38;5;28;01mif\u001b[39;00m chatstatus[\u001b[38;5;124m'\u001b[39m\u001b[38;5;124mconfig\u001b[39m\u001b[38;5;124m'\u001b[39m][\u001b[38;5;124m'\u001b[39m\u001b[38;5;124mdebug\u001b[39m\u001b[38;5;124m'\u001b[39m] \u001b[38;5;28;01melse\u001b[39;00m \u001b[38;5;28;01mNone\u001b[39;00m\n\u001b[1;32m     52\u001b[0m res \u001b[38;5;241m=\u001b[39m chain\u001b[38;5;241m.\u001b[39minvoke(prompt)\n\u001b[0;32m---> 53\u001b[0m scriptName   \u001b[38;5;241m=\u001b[39m \u001b[43mres\u001b[49m\u001b[38;5;241;43m.\u001b[39;49m\u001b[43mcontent\u001b[49m\u001b[38;5;241;43m.\u001b[39;49m\u001b[43mstrip\u001b[49m\u001b[43m(\u001b[49m\u001b[43m)\u001b[49m\u001b[38;5;241;43m.\u001b[39;49m\u001b[43msplit\u001b[49m\u001b[43m(\u001b[49m\u001b[38;5;124;43m'\u001b[39;49m\u001b[38;5;130;43;01m\\n\u001b[39;49;00m\u001b[38;5;124;43m'\u001b[39;49m\u001b[43m)\u001b[49m\u001b[43m[\u001b[49m\u001b[38;5;241;43m0\u001b[39;49m\u001b[43m]\u001b[49m\u001b[38;5;241;43m.\u001b[39;49m\u001b[43msplit\u001b[49m\u001b[43m(\u001b[49m\u001b[38;5;124;43m'\u001b[39;49m\u001b[38;5;124;43m:\u001b[39;49m\u001b[38;5;124;43m'\u001b[39;49m\u001b[43m)\u001b[49m\u001b[43m[\u001b[49m\u001b[38;5;241;43m1\u001b[39;49m\u001b[43m]\u001b[49m\u001b[38;5;241m.\u001b[39mstrip()\n\u001b[1;32m     54\u001b[0m scriptType   \u001b[38;5;241m=\u001b[39m scriptPurpose[scriptName][\u001b[38;5;124m'\u001b[39m\u001b[38;5;124mtype\u001b[39m\u001b[38;5;124m'\u001b[39m]\n\u001b[1;32m     55\u001b[0m scriptPath   \u001b[38;5;241m=\u001b[39m {\u001b[38;5;124m'\u001b[39m\u001b[38;5;124mpython\u001b[39m\u001b[38;5;124m'\u001b[39m: pyPath, \u001b[38;5;124m'\u001b[39m\u001b[38;5;124mMATLAB\u001b[39m\u001b[38;5;124m'\u001b[39m: matlabPath}\u001b[38;5;241m.\u001b[39mget(scriptType, \u001b[38;5;28mprint\u001b[39m(\u001b[38;5;124m'\u001b[39m\u001b[38;5;124mWarning! the type doesnt exist\u001b[39m\u001b[38;5;124m'\u001b[39m))\n",
      "\u001b[0;31mIndexError\u001b[0m: list index out of range"
     ]
    }
   ],
   "source": [
    "brad.chat(ragvectordb = vectordb)"
   ]
  },
  {
   "cell_type": "raw",
   "id": "233d47c7-8584-4a4d-a0f5-bb4e53cc7739",
   "metadata": {},
   "source": [
    "/force PLANNER design an analysis pipeline to find the first order interactions of MYOD in the hardwired genome from HWG.mat. Write a small report about which pathways and cell types these genes are implicated in "
   ]
  },
  {
   "cell_type": "markdown",
   "id": "3415fc4d-7d87-4b96-95aa-f6b7c7feb46e",
   "metadata": {},
   "source": [
    "# DEBUG"
   ]
  },
  {
   "cell_type": "code",
   "execution_count": 11,
   "id": "326c4767-bc1f-4d62-8f00-d439f0291e0c",
   "metadata": {},
   "outputs": [
    {
     "data": {
      "text/plain": [
       "'Perform gene set enrichment analysis on the identified interactions from Step 2 using databases like Gene Ontology and Enrichr. This will provide information on biological pathways and cell types associated with these interactions.'"
      ]
     },
     "execution_count": 11,
     "metadata": {},
     "output_type": "execute_result"
    }
   ],
   "source": [
    "XX = \"/force DATABASE Perform gene set enrichment analysis on the identified interactions from Step 2 using databases like Gene Ontology and Enrichr. This will provide information on biological pathways and cell types associated with these interactions.\"\n",
    "\" \".join(XX.split(' ')[2:]).strip()"
   ]
  },
  {
   "cell_type": "code",
   "execution_count": 1,
   "id": "7ee58c30-e7ac-41bf-bbf7-5448f23f38c4",
   "metadata": {},
   "outputs": [],
   "source": [
    "from BRAD.matlabCaller import find_matlab_files, get_matlab_description\n",
    "from BRAD.pythonCaller import find_py_files, get_py_description"
   ]
  },
  {
   "cell_type": "code",
   "execution_count": 2,
   "id": "89d689d4-263c-48a9-90d7-dca0336f11ef",
   "metadata": {},
   "outputs": [
    {
     "data": {
      "text/plain": [
       "['animal_info', 'example', 'helloWorldPYTHON']"
      ]
     },
     "execution_count": 2,
     "metadata": {},
     "output_type": "execute_result"
    }
   ],
   "source": [
    "find_py_files('/home/jpic/RAG-DEV/tutorials/running-codes/python/')"
   ]
  },
  {
   "cell_type": "code",
   "execution_count": 3,
   "id": "ea1a7695-8668-4cd0-b79e-19ade4f3072d",
   "metadata": {},
   "outputs": [
    {
     "data": {
      "text/plain": [
       "'This script prints hello world to the terminal. No arguments are required.'"
      ]
     },
     "execution_count": 3,
     "metadata": {},
     "output_type": "execute_result"
    }
   ],
   "source": [
    "get_py_description('/home/jpic/RAG-DEV/tutorials/running-codes/python/helloWorldPYTHON.py')"
   ]
  },
  {
   "cell_type": "code",
   "execution_count": 4,
   "id": "b46e3f06-c310-4caa-b6c5-b890154fd85b",
   "metadata": {},
   "outputs": [
    {
     "data": {
      "text/plain": [
       "['matlabPipeline', 'myFunc', 'helloWorldMATLAB', 'saveplot', 'qualityControl']"
      ]
     },
     "execution_count": 4,
     "metadata": {},
     "output_type": "execute_result"
    }
   ],
   "source": [
    "find_matlab_files('/home/jpic/RAG-DEV/tutorials/running-codes/matlab/')"
   ]
  },
  {
   "cell_type": "code",
   "execution_count": 5,
   "id": "8d43c2f8-78df-4a60-a9b0-7e3a7d908a4a",
   "metadata": {},
   "outputs": [
    {
     "data": {
      "text/plain": [
       "' qualityControl - Constructs and runs a bioinformatics quality control pipeline.'"
      ]
     },
     "execution_count": 5,
     "metadata": {},
     "output_type": "execute_result"
    }
   ],
   "source": [
    "get_matlab_description('/home/jpic/RAG-DEV/tutorials/running-codes/matlab/qualityControl.m')"
   ]
  },
  {
   "cell_type": "raw",
   "id": "f1ab7fd5-53ae-466c-9c43-55e0dc3c08fa",
   "metadata": {},
   "source": [
    "/force CODE say hello world using python!"
   ]
  },
  {
   "cell_type": "code",
   "execution_count": 1,
   "id": "4dd54f73-6d6c-4add-9e82-96b9e7324026",
   "metadata": {},
   "outputs": [
    {
     "name": "stdout",
     "output_type": "stream",
     "text": [
      "Welcome to RAG! The chat log from this conversation will be saved to /home/jpic/BRAD/2024-06-16-16:50:05.318931.json. How can I help?\n"
     ]
    },
    {
     "name": "stdin",
     "output_type": "stream",
     "text": [
      "Enter your NVIDIA API key:  ········\n"
     ]
    },
    {
     "name": "stdout",
     "output_type": "stream",
     "text": [
      "\n",
      "Would you like to use a database with BRAD [Y/N]?\n"
     ]
    },
    {
     "name": "stdin",
     "output_type": "stream",
     "text": [
      " N\n"
     ]
    },
    {
     "name": "stderr",
     "output_type": "stream",
     "text": [
      "Sun 16 Jun 2024 04:50:09 PM EDT INFO local\n"
     ]
    },
    {
     "name": "stdout",
     "output_type": "stream",
     "text": [
      "==================================================\n"
     ]
    },
    {
     "name": "stdin",
     "output_type": "stream",
     "text": [
      "Input >>  /force CODE say hello world using python!\n"
     ]
    },
    {
     "name": "stderr",
     "output_type": "stream",
     "text": [
      "Sun 16 Jun 2024 04:50:14 PM EDT INFO CODE\n"
     ]
    },
    {
     "name": "stdout",
     "output_type": "stream",
     "text": [
      "==================================================\n",
      "RAG >> 1: CODER\n",
      "FIRST LLM CALL\n",
      "Warning! the type doesnt exist\n",
      "scriptPath=/home/jpic/RAG-DEV/tutorials/running-codes/python/\n",
      "pyPath=/home/jpic/RAG-DEV/tutorials/running-codes/python/\n",
      "ALL SCRIPTS FOUND. BUILDING TEMPLATE\n",
      "input_variables=['history', 'input'] template='Current conversation:\\n{history}\\n\\n**PYTHON SCRIPT**\\nYou must run this python script: \\n/home/jpic/RAG-DEV/tutorials/running-codes/python/helloWorldPYTHON.py\\n\\n**PYTHON SCRIPT DOCUMENTATION**:\\nThis is the doc string of this python script:\\n\"\"\"\\nThis script prints hello world to the terminal. No arguments are required.\\n\\nExample usage:\\n    subprocess.call([sys.executable, \\'python/helloWorldPYTHON.py\\'])\\n\"\"\"\\n\\n\\n**CALL PYTHON SCRIPTS FROM PYTHON**:\\nUse the `subprocess` module to call any Python script from another Python script. Here are some examples to call a few common Python scripts:\\n\\nTo call a Python script `example_script.py` which has no arguments:\\n    \\n```\\nExecute: subprocess.call([sys.executable, \\'<full path to script/> example_script.py\\'])\\n```\\n\\nTo call a Python script `example_script.py` with one argument:\\n\\n```\\nExecute: subprocess.call([sys.executable, \\'<full path to script/> example_script.py\\', \\'arg1\\'])\\n```\\n\\nTo call a Python script `example_script.py` with two arguments:\\n```\\nExecute: subprocess.call([sys.executable, \\'<full path to script/> example_script.py\\', \\'arg1\\', \\'arg2\\'])\\n```\\nQuery:{input}\\n\\n\\n**INSTRUCTIONS**\\n1. Given the user query and the documentation, identify each of the arguments found in the user\\'s query that should be passed to the Python script.\\n2. Using the `subprocess` module, provide the one line of code to execute the desired Python script with the given arguments. Assume the necessary modules (`subprocess` and `sys`) are already imported.\\n3. The last line of your response should say \"Execute: <Python code to execute>\"\\n4. Format the response/output as:\\n    Arguments: \\n    Python Code Explanation: <2 sentences maximum>\\n    Execute: <your code here>\\n\\n**IMPORTANT**\\nThe code to execute from your response must be formatted as:\\n    Execute: subprocess.call([sys.executable, \\'<path to python script>\\', \\'<argument 1>\\', \\'<argument 2>\\', ..., \\'<argument n>\\'])\\nThis output should be exactly one line and no longer. Stop the response after this line.\\n'\n",
      "\n",
      "\n",
      "\u001b[1m> Entering new ConversationChain chain...\u001b[0m\n",
      "Prompt after formatting:\n",
      "\u001b[32;1m\u001b[1;3mCurrent conversation:\n",
      "\n",
      "\n",
      "**PYTHON SCRIPT**\n",
      "You must run this python script: \n",
      "/home/jpic/RAG-DEV/tutorials/running-codes/python/helloWorldPYTHON.py\n",
      "\n",
      "**PYTHON SCRIPT DOCUMENTATION**:\n",
      "This is the doc string of this python script:\n",
      "\"\"\"\n",
      "This script prints hello world to the terminal. No arguments are required.\n",
      "\n",
      "Example usage:\n",
      "    subprocess.call([sys.executable, 'python/helloWorldPYTHON.py'])\n",
      "\"\"\"\n",
      "\n",
      "\n",
      "**CALL PYTHON SCRIPTS FROM PYTHON**:\n",
      "Use the `subprocess` module to call any Python script from another Python script. Here are some examples to call a few common Python scripts:\n",
      "\n",
      "To call a Python script `example_script.py` which has no arguments:\n",
      "    \n",
      "```\n",
      "Execute: subprocess.call([sys.executable, '<full path to script/> example_script.py'])\n",
      "```\n",
      "\n",
      "To call a Python script `example_script.py` with one argument:\n",
      "\n",
      "```\n",
      "Execute: subprocess.call([sys.executable, '<full path to script/> example_script.py', 'arg1'])\n",
      "```\n",
      "\n",
      "To call a Python script `example_script.py` with two arguments:\n",
      "```\n",
      "Execute: subprocess.call([sys.executable, '<full path to script/> example_script.py', 'arg1', 'arg2'])\n",
      "```\n",
      "Query:/force CODE say hello world using python!\n",
      "\n",
      "\n",
      "**INSTRUCTIONS**\n",
      "1. Given the user query and the documentation, identify each of the arguments found in the user's query that should be passed to the Python script.\n",
      "2. Using the `subprocess` module, provide the one line of code to execute the desired Python script with the given arguments. Assume the necessary modules (`subprocess` and `sys`) are already imported.\n",
      "3. The last line of your response should say \"Execute: <Python code to execute>\"\n",
      "4. Format the response/output as:\n",
      "    Arguments: \n",
      "    Python Code Explanation: <2 sentences maximum>\n",
      "    Execute: <your code here>\n",
      "\n",
      "**IMPORTANT**\n",
      "The code to execute from your response must be formatted as:\n",
      "    Execute: subprocess.call([sys.executable, '<path to python script>', '<argument 1>', '<argument 2>', ..., '<argument n>'])\n",
      "This output should be exactly one line and no longer. Stop the response after this line.\n",
      "\u001b[0m\n",
      "\n",
      "\u001b[1m> Finished chain.\u001b[0m\n",
      "LLM OUTPUT PARSER\n",
      " Arguments: The user query does not provide any arguments to be passed to the Python script. The script documentation indicates no arguments are required.\n",
      "\n",
      "Python Code Explanation: We will execute the \"helloWorldPYTHON.py\" script with no arguments.\n",
      "\n",
      "Execute: subprocess.call([sys.executable, '/home/jpic/RAG-DEV/tutorials/running-codes/python/helloWorldPYTHON.py'])\n",
      "[' Arguments: The user query does not provide any arguments to be passed to the Python script. The script documentation indicates no arguments are required.\\n\\nPython Code Explanation: We will execute the \"helloWorldPYTHON.py\" script with no arguments.\\n\\n', \" subprocess.call([sys.executable, '/home/jpic/RAG-DEV/tutorials/running-codes/python/helloWorldPYTHON.py'])\"]\n",
      "Executing Code!!\n",
      "EVAL\n",
      "subprocess.call([sys.executable, '/home/jpic/RAG-DEV/tutorials/running-codes/python/helloWorldPYTHON.py'])\n",
      "END EVAL CHECK\n",
      "Hello World from a Python Script!\n",
      "Debug: PYTHON code executed successfully.\n",
      "==================================================\n"
     ]
    },
    {
     "name": "stdin",
     "output_type": "stream",
     "text": [
      "Input >>  /force CODE say hello world using matlab\n"
     ]
    },
    {
     "name": "stderr",
     "output_type": "stream",
     "text": [
      "Sun 16 Jun 2024 04:50:26 PM EDT INFO CODE\n"
     ]
    },
    {
     "name": "stdout",
     "output_type": "stream",
     "text": [
      "==================================================\n",
      "RAG >> 2: CODER\n",
      "FIRST LLM CALL\n",
      "Warning! the type doesnt exist\n"
     ]
    },
    {
     "name": "stderr",
     "output_type": "stream",
     "text": [
      "huggingface/tokenizers: The current process just got forked, after parallelism has already been used. Disabling parallelism to avoid deadlocks...\n",
      "To disable this warning, you can either:\n",
      "\t- Avoid using `tokenizers` before the fork if possible\n",
      "\t- Explicitly set the environment variable TOKENIZERS_PARALLELISM=(true | false)\n"
     ]
    },
    {
     "name": "stdout",
     "output_type": "stream",
     "text": [
      "Matlab Engine On\n",
      "ALL SCRIPTS FOUND. BUILDING TEMPLATE\n",
      "input_variables=['history', 'input'] template='Current conversation:\\n{history}\\n\\n**MATLAB SCRIPT**\\nYou must run this python script: \\nhelloWorldMATLAB.m\\n\\n**MATLAB FUNCTION DOCUMENTATION**:\\nfunction output = helloWorldMATLAB()\\n% Print \"Hello World\"\\n%\\n% Author: Joshua Pickard\\n%         jpic@umich.edu\\n% Date: June 14, 2024\\n\\n**CALL MATLAB FUNCTIONS FROM PYTHON**:\\nUse MATLAB® Engine API for Python® to call any MATLAB function on the MATLAB path. Some examples to call a few common matlab functions include:\\n\\nTo call the matlab function myFnc which has no arguments:\\n```\\nExecute: eng.myFnc()\\n```\\n\\nTo use the is prime function which requires an input argument:\\n```\\nExecute: tf = eng.isprime(37)\\n```\\n\\nTo determine the greatest common denominator of two numbers, use the gcd function. Set nargout to return the three output arguments from gcd.\\n```\\nExecute: t = eng.gcd(100.0,80.0,nargout=3)\\n```\\n\\nQuery:{input}\\n\\n**INSTRUCTIONS**\\n1. Given the user query and the documentation, identify each of the arguments found in the users query that should be passed to the matlab function.\\n2. Using the matlab enging eng, provide the one line of code to execute the desired matlab commands. Assume all functions are added to the path and eng already exist.\\n3. The last line of your response should say \"Execute: <MATLAB codes to execute>\"\\n4. Format the response/output as:\\nArguments: \\nMATLAB Code Explanation: <2 sentences maximum>\\nExecute: <your code here>\\n\\n**IMPORTANT**\\nThe code to execute from your response must be formatted as:\\n    Execute: eng.<function name>(<arguments>)>\\nThis output should be exactly one line and no longer. Stop the response after this line.\\n'\n",
      "\n",
      "\n",
      "\u001b[1m> Entering new ConversationChain chain...\u001b[0m\n",
      "Prompt after formatting:\n",
      "\u001b[32;1m\u001b[1;3mCurrent conversation:\n",
      "Human: /force CODE say hello world using python!\n",
      "BRAD:  Arguments: The user query does not provide any arguments to be passed to the Python script. The script documentation indicates no arguments are required.\n",
      "\n",
      "Python Code Explanation: We will execute the \"helloWorldPYTHON.py\" script with no arguments.\n",
      "\n",
      "Execute: subprocess.call([sys.executable, '/home/jpic/RAG-DEV/tutorials/running-codes/python/helloWorldPYTHON.py'])\n",
      "\n",
      "**MATLAB SCRIPT**\n",
      "You must run this python script: \n",
      "helloWorldMATLAB.m\n",
      "\n",
      "**MATLAB FUNCTION DOCUMENTATION**:\n",
      "function output = helloWorldMATLAB()\n",
      "% Print \"Hello World\"\n",
      "%\n",
      "% Author: Joshua Pickard\n",
      "%         jpic@umich.edu\n",
      "% Date: June 14, 2024\n",
      "\n",
      "**CALL MATLAB FUNCTIONS FROM PYTHON**:\n",
      "Use MATLAB® Engine API for Python® to call any MATLAB function on the MATLAB path. Some examples to call a few common matlab functions include:\n",
      "\n",
      "To call the matlab function myFnc which has no arguments:\n",
      "```\n",
      "Execute: eng.myFnc()\n",
      "```\n",
      "\n",
      "To use the is prime function which requires an input argument:\n",
      "```\n",
      "Execute: tf = eng.isprime(37)\n",
      "```\n",
      "\n",
      "To determine the greatest common denominator of two numbers, use the gcd function. Set nargout to return the three output arguments from gcd.\n",
      "```\n",
      "Execute: t = eng.gcd(100.0,80.0,nargout=3)\n",
      "```\n",
      "\n",
      "Query:/force CODE say hello world using matlab\n",
      "\n",
      "**INSTRUCTIONS**\n",
      "1. Given the user query and the documentation, identify each of the arguments found in the users query that should be passed to the matlab function.\n",
      "2. Using the matlab enging eng, provide the one line of code to execute the desired matlab commands. Assume all functions are added to the path and eng already exist.\n",
      "3. The last line of your response should say \"Execute: <MATLAB codes to execute>\"\n",
      "4. Format the response/output as:\n",
      "Arguments: \n",
      "MATLAB Code Explanation: <2 sentences maximum>\n",
      "Execute: <your code here>\n",
      "\n",
      "**IMPORTANT**\n",
      "The code to execute from your response must be formatted as:\n",
      "    Execute: eng.<function name>(<arguments>)>\n",
      "This output should be exactly one line and no longer. Stop the response after this line.\n",
      "\u001b[0m\n",
      "\n",
      "\u001b[1m> Finished chain.\u001b[0m\n",
      "LLM OUTPUT PARSER\n",
      " Arguments: No arguments are required for the \"helloWorldMATLAB\" function.\n",
      "\n",
      "MATLAB Code Explanation: We will execute the \"helloWorldMATLAB.m\" function with no arguments.\n",
      "\n",
      "Execute: eng.helloWorldMATLAB()\n",
      "[' Arguments: No arguments are required for the \"helloWorldMATLAB\" function.\\n\\nMATLAB Code Explanation: We will execute the \"helloWorldMATLAB.m\" function with no arguments.\\n\\n', ' eng.helloWorldMATLAB()']\n",
      "Executing Code!!\n",
      "EVAL\n",
      "eng.helloWorldMATLAB()\n",
      "END EVAL CHECK\n",
      "Hello World! This message is generated from BRAD running the helloWorldMATLAB function!\n",
      "Debug: MATLAB code executed successfully.\n",
      "==================================================\n"
     ]
    },
    {
     "name": "stdin",
     "output_type": "stream",
     "text": [
      "Input >>  /force CODE say hello world using matlab\n"
     ]
    },
    {
     "name": "stderr",
     "output_type": "stream",
     "text": [
      "Sun 16 Jun 2024 04:50:46 PM EDT INFO CODE\n"
     ]
    },
    {
     "name": "stdout",
     "output_type": "stream",
     "text": [
      "==================================================\n",
      "RAG >> 3: CODER\n",
      "FIRST LLM CALL\n",
      "Warning! the type doesnt exist\n",
      "Matlab Engine On\n",
      "ALL SCRIPTS FOUND. BUILDING TEMPLATE\n",
      "input_variables=['history', 'input'] template='Current conversation:\\n{history}\\n\\n**MATLAB SCRIPT**\\nYou must run this python script: \\nhelloWorldMATLAB.m\\n\\n**MATLAB FUNCTION DOCUMENTATION**:\\nfunction output = helloWorldMATLAB()\\n% Print \"Hello World\"\\n%\\n% Author: Joshua Pickard\\n%         jpic@umich.edu\\n% Date: June 14, 2024\\n\\n**CALL MATLAB FUNCTIONS FROM PYTHON**:\\nUse MATLAB® Engine API for Python® to call any MATLAB function on the MATLAB path. Some examples to call a few common matlab functions include:\\n\\nTo call the matlab function myFnc which has no arguments:\\n```\\nExecute: eng.myFnc()\\n```\\n\\nTo use the is prime function which requires an input argument:\\n```\\nExecute: tf = eng.isprime(37)\\n```\\n\\nTo determine the greatest common denominator of two numbers, use the gcd function. Set nargout to return the three output arguments from gcd.\\n```\\nExecute: t = eng.gcd(100.0,80.0,nargout=3)\\n```\\n\\nQuery:{input}\\n\\n**INSTRUCTIONS**\\n1. Given the user query and the documentation, identify each of the arguments found in the users query that should be passed to the matlab function.\\n2. Using the matlab enging eng, provide the one line of code to execute the desired matlab commands. Assume all functions are added to the path and eng already exist.\\n3. The last line of your response should say \"Execute: <MATLAB codes to execute>\"\\n4. Format the response/output as:\\nArguments: \\nMATLAB Code Explanation: <2 sentences maximum>\\nExecute: <your code here>\\n\\n**IMPORTANT**\\nThe code to execute from your response must be formatted as:\\n    Execute: eng.<function name>(<arguments>)>\\nThis output should be exactly one line and no longer. Stop the response after this line.\\n'\n",
      "\n",
      "\n",
      "\u001b[1m> Entering new ConversationChain chain...\u001b[0m\n",
      "Prompt after formatting:\n",
      "\u001b[32;1m\u001b[1;3mCurrent conversation:\n",
      "Human: /force CODE say hello world using python!\n",
      "BRAD:  Arguments: The user query does not provide any arguments to be passed to the Python script. The script documentation indicates no arguments are required.\n",
      "\n",
      "Python Code Explanation: We will execute the \"helloWorldPYTHON.py\" script with no arguments.\n",
      "\n",
      "Execute: subprocess.call([sys.executable, '/home/jpic/RAG-DEV/tutorials/running-codes/python/helloWorldPYTHON.py'])\n",
      "Human: /force CODE say hello world using matlab\n",
      "BRAD:  Arguments: No arguments are required for the \"helloWorldMATLAB\" function.\n",
      "\n",
      "MATLAB Code Explanation: We will execute the \"helloWorldMATLAB.m\" function with no arguments.\n",
      "\n",
      "Execute: eng.helloWorldMATLAB()\n",
      "\n",
      "**MATLAB SCRIPT**\n",
      "You must run this python script: \n",
      "helloWorldMATLAB.m\n",
      "\n",
      "**MATLAB FUNCTION DOCUMENTATION**:\n",
      "function output = helloWorldMATLAB()\n",
      "% Print \"Hello World\"\n",
      "%\n",
      "% Author: Joshua Pickard\n",
      "%         jpic@umich.edu\n",
      "% Date: June 14, 2024\n",
      "\n",
      "**CALL MATLAB FUNCTIONS FROM PYTHON**:\n",
      "Use MATLAB® Engine API for Python® to call any MATLAB function on the MATLAB path. Some examples to call a few common matlab functions include:\n",
      "\n",
      "To call the matlab function myFnc which has no arguments:\n",
      "```\n",
      "Execute: eng.myFnc()\n",
      "```\n",
      "\n",
      "To use the is prime function which requires an input argument:\n",
      "```\n",
      "Execute: tf = eng.isprime(37)\n",
      "```\n",
      "\n",
      "To determine the greatest common denominator of two numbers, use the gcd function. Set nargout to return the three output arguments from gcd.\n",
      "```\n",
      "Execute: t = eng.gcd(100.0,80.0,nargout=3)\n",
      "```\n",
      "\n",
      "Query:/force CODE say hello world using matlab\n",
      "\n",
      "**INSTRUCTIONS**\n",
      "1. Given the user query and the documentation, identify each of the arguments found in the users query that should be passed to the matlab function.\n",
      "2. Using the matlab enging eng, provide the one line of code to execute the desired matlab commands. Assume all functions are added to the path and eng already exist.\n",
      "3. The last line of your response should say \"Execute: <MATLAB codes to execute>\"\n",
      "4. Format the response/output as:\n",
      "Arguments: \n",
      "MATLAB Code Explanation: <2 sentences maximum>\n",
      "Execute: <your code here>\n",
      "\n",
      "**IMPORTANT**\n",
      "The code to execute from your response must be formatted as:\n",
      "    Execute: eng.<function name>(<arguments>)>\n",
      "This output should be exactly one line and no longer. Stop the response after this line.\n",
      "\u001b[0m\n",
      "\n",
      "\u001b[1m> Finished chain.\u001b[0m\n",
      "LLM OUTPUT PARSER\n",
      " Arguments: No arguments are required for the \"helloWorldMATLAB\" function.\n",
      "\n",
      "MATLAB Code Explanation: We will execute the \"helloWorldMATLAB\" function with no arguments.\n",
      "\n",
      "Execute: eng.helloWorldMATLAB()\n",
      "[' Arguments: No arguments are required for the \"helloWorldMATLAB\" function.\\n\\nMATLAB Code Explanation: We will execute the \"helloWorldMATLAB\" function with no arguments.\\n\\n', ' eng.helloWorldMATLAB()']\n",
      "Executing Code!!\n",
      "EVAL\n",
      "eng.helloWorldMATLAB()\n",
      "END EVAL CHECK\n",
      "Hello World! This message is generated from BRAD running the helloWorldMATLAB function!\n",
      "Debug: MATLAB code executed successfully.\n",
      "==================================================\n"
     ]
    },
    {
     "name": "stdin",
     "output_type": "stream",
     "text": [
      "Input >>  /force CODE say hello world using python!\n"
     ]
    },
    {
     "name": "stderr",
     "output_type": "stream",
     "text": [
      "Sun 16 Jun 2024 04:50:55 PM EDT INFO CODE\n"
     ]
    },
    {
     "name": "stdout",
     "output_type": "stream",
     "text": [
      "==================================================\n",
      "RAG >> 4: CODER\n",
      "FIRST LLM CALL\n",
      "Warning! the type doesnt exist\n",
      "scriptPath=/home/jpic/RAG-DEV/tutorials/running-codes/python/\n",
      "pyPath=/home/jpic/RAG-DEV/tutorials/running-codes/python/\n",
      "ALL SCRIPTS FOUND. BUILDING TEMPLATE\n",
      "input_variables=['history', 'input'] template='Current conversation:\\n{history}\\n\\n**PYTHON SCRIPT**\\nYou must run this python script: \\n/home/jpic/RAG-DEV/tutorials/running-codes/python/helloWorldPYTHON.py\\n\\n**PYTHON SCRIPT DOCUMENTATION**:\\nThis is the doc string of this python script:\\n\"\"\"\\nThis script prints hello world to the terminal. No arguments are required.\\n\\nExample usage:\\n    subprocess.call([sys.executable, \\'python/helloWorldPYTHON.py\\'])\\n\"\"\"\\n\\n\\n**CALL PYTHON SCRIPTS FROM PYTHON**:\\nUse the `subprocess` module to call any Python script from another Python script. Here are some examples to call a few common Python scripts:\\n\\nTo call a Python script `example_script.py` which has no arguments:\\n    \\n```\\nExecute: subprocess.call([sys.executable, \\'<full path to script/> example_script.py\\'])\\n```\\n\\nTo call a Python script `example_script.py` with one argument:\\n\\n```\\nExecute: subprocess.call([sys.executable, \\'<full path to script/> example_script.py\\', \\'arg1\\'])\\n```\\n\\nTo call a Python script `example_script.py` with two arguments:\\n```\\nExecute: subprocess.call([sys.executable, \\'<full path to script/> example_script.py\\', \\'arg1\\', \\'arg2\\'])\\n```\\nQuery:{input}\\n\\n\\n**INSTRUCTIONS**\\n1. Given the user query and the documentation, identify each of the arguments found in the user\\'s query that should be passed to the Python script.\\n2. Using the `subprocess` module, provide the one line of code to execute the desired Python script with the given arguments. Assume the necessary modules (`subprocess` and `sys`) are already imported.\\n3. The last line of your response should say \"Execute: <Python code to execute>\"\\n4. Format the response/output as:\\n    Arguments: \\n    Python Code Explanation: <2 sentences maximum>\\n    Execute: <your code here>\\n\\n**IMPORTANT**\\nThe code to execute from your response must be formatted as:\\n    Execute: subprocess.call([sys.executable, \\'<path to python script>\\', \\'<argument 1>\\', \\'<argument 2>\\', ..., \\'<argument n>\\'])\\nThis output should be exactly one line and no longer. Stop the response after this line.\\n'\n",
      "\n",
      "\n",
      "\u001b[1m> Entering new ConversationChain chain...\u001b[0m\n",
      "Prompt after formatting:\n",
      "\u001b[32;1m\u001b[1;3mCurrent conversation:\n",
      "Human: /force CODE say hello world using python!\n",
      "BRAD:  Arguments: The user query does not provide any arguments to be passed to the Python script. The script documentation indicates no arguments are required.\n",
      "\n",
      "Python Code Explanation: We will execute the \"helloWorldPYTHON.py\" script with no arguments.\n",
      "\n",
      "Execute: subprocess.call([sys.executable, '/home/jpic/RAG-DEV/tutorials/running-codes/python/helloWorldPYTHON.py'])\n",
      "Human: /force CODE say hello world using matlab\n",
      "BRAD:  Arguments: No arguments are required for the \"helloWorldMATLAB\" function.\n",
      "\n",
      "MATLAB Code Explanation: We will execute the \"helloWorldMATLAB.m\" function with no arguments.\n",
      "\n",
      "Execute: eng.helloWorldMATLAB()\n",
      "Human: /force CODE say hello world using matlab\n",
      "BRAD:  Arguments: No arguments are required for the \"helloWorldMATLAB\" function.\n",
      "\n",
      "MATLAB Code Explanation: We will execute the \"helloWorldMATLAB\" function with no arguments.\n",
      "\n",
      "Execute: eng.helloWorldMATLAB()\n",
      "\n",
      "**PYTHON SCRIPT**\n",
      "You must run this python script: \n",
      "/home/jpic/RAG-DEV/tutorials/running-codes/python/helloWorldPYTHON.py\n",
      "\n",
      "**PYTHON SCRIPT DOCUMENTATION**:\n",
      "This is the doc string of this python script:\n",
      "\"\"\"\n",
      "This script prints hello world to the terminal. No arguments are required.\n",
      "\n",
      "Example usage:\n",
      "    subprocess.call([sys.executable, 'python/helloWorldPYTHON.py'])\n",
      "\"\"\"\n",
      "\n",
      "\n",
      "**CALL PYTHON SCRIPTS FROM PYTHON**:\n",
      "Use the `subprocess` module to call any Python script from another Python script. Here are some examples to call a few common Python scripts:\n",
      "\n",
      "To call a Python script `example_script.py` which has no arguments:\n",
      "    \n",
      "```\n",
      "Execute: subprocess.call([sys.executable, '<full path to script/> example_script.py'])\n",
      "```\n",
      "\n",
      "To call a Python script `example_script.py` with one argument:\n",
      "\n",
      "```\n",
      "Execute: subprocess.call([sys.executable, '<full path to script/> example_script.py', 'arg1'])\n",
      "```\n",
      "\n",
      "To call a Python script `example_script.py` with two arguments:\n",
      "```\n",
      "Execute: subprocess.call([sys.executable, '<full path to script/> example_script.py', 'arg1', 'arg2'])\n",
      "```\n",
      "Query:/force CODE say hello world using python!\n",
      "\n",
      "\n",
      "**INSTRUCTIONS**\n",
      "1. Given the user query and the documentation, identify each of the arguments found in the user's query that should be passed to the Python script.\n",
      "2. Using the `subprocess` module, provide the one line of code to execute the desired Python script with the given arguments. Assume the necessary modules (`subprocess` and `sys`) are already imported.\n",
      "3. The last line of your response should say \"Execute: <Python code to execute>\"\n",
      "4. Format the response/output as:\n",
      "    Arguments: \n",
      "    Python Code Explanation: <2 sentences maximum>\n",
      "    Execute: <your code here>\n",
      "\n",
      "**IMPORTANT**\n",
      "The code to execute from your response must be formatted as:\n",
      "    Execute: subprocess.call([sys.executable, '<path to python script>', '<argument 1>', '<argument 2>', ..., '<argument n>'])\n",
      "This output should be exactly one line and no longer. Stop the response after this line.\n",
      "\u001b[0m\n",
      "\n",
      "\u001b[1m> Finished chain.\u001b[0m\n",
      "LLM OUTPUT PARSER\n",
      " Arguments: No arguments are required for the \"helloWorldPYTHON.py\" script according to the documentation and the user query.\n",
      "\n",
      "Python Code Explanation: We will execute the \"helloWorldPYTHON.py\" script with no arguments.\n",
      "\n",
      "Execute: subprocess.call([sys.executable, '/home/jpic/RAG-DEV/tutorials/running-codes/python/helloWorldPYTHON.py'])\n",
      "[' Arguments: No arguments are required for the \"helloWorldPYTHON.py\" script according to the documentation and the user query.\\n\\nPython Code Explanation: We will execute the \"helloWorldPYTHON.py\" script with no arguments.\\n\\n', \" subprocess.call([sys.executable, '/home/jpic/RAG-DEV/tutorials/running-codes/python/helloWorldPYTHON.py'])\"]\n",
      "Executing Code!!\n",
      "EVAL\n",
      "subprocess.call([sys.executable, '/home/jpic/RAG-DEV/tutorials/running-codes/python/helloWorldPYTHON.py'])\n",
      "END EVAL CHECK\n",
      "Hello World from a Python Script!\n",
      "Debug: PYTHON code executed successfully.\n",
      "==================================================\n"
     ]
    },
    {
     "name": "stdin",
     "output_type": "stream",
     "text": [
      "Input >>  q\n"
     ]
    },
    {
     "name": "stdout",
     "output_type": "stream",
     "text": [
      "Thanks for chatting today! I hope to talk soon, and don't forget that a record of this conversation is available at: /home/jpic/BRAD/2024-06-16-16:50:05.318931.json\n"
     ]
    }
   ],
   "source": [
    "from BRAD import brad\n",
    "brad.chat()"
   ]
  },
  {
   "cell_type": "code",
   "execution_count": null,
   "id": "0638b74c-cdc3-4336-90de-7d6ef15014dc",
   "metadata": {},
   "outputs": [],
   "source": []
  },
  {
   "cell_type": "code",
   "execution_count": null,
   "id": "78878573-5b4e-437a-a112-671aa57fc425",
   "metadata": {},
   "outputs": [],
   "source": []
  },
  {
   "cell_type": "code",
   "execution_count": null,
   "id": "9247861d-8023-4c0c-88ef-484fac25932e",
   "metadata": {},
   "outputs": [],
   "source": []
  },
  {
   "cell_type": "code",
   "execution_count": null,
   "id": "094373c3-6dc9-46cb-97dc-0891ad1f4cbf",
   "metadata": {},
   "outputs": [],
   "source": []
  },
  {
   "cell_type": "code",
   "execution_count": null,
   "id": "9563c151-cef6-4efc-8175-5c71bf6a563f",
   "metadata": {},
   "outputs": [],
   "source": []
  },
  {
   "cell_type": "code",
   "execution_count": null,
   "id": "1dda72ea-7694-40b4-be8e-141e793cbbe6",
   "metadata": {},
   "outputs": [],
   "source": []
  },
  {
   "cell_type": "code",
   "execution_count": 28,
   "id": "e229f04e-ec7c-4b13-a2aa-a1d4f0e6fe5d",
   "metadata": {},
   "outputs": [
    {
     "name": "stdout",
     "output_type": "stream",
     "text": [
      "**Available Scripts**\n",
      "Script Name: animal_info, \t Description: This script provides information about different animals based on user input.\n",
      "Script Name: example, \t Description: This is the top-level docstring for the example script.\n",
      "Script Name: helloWorldPYTHON, \t Description: This script prints hello world to the terminal. No arguments are required.\n",
      "Script Name: matlabPipeline, \t Description:  matlabPipeline - A sample function to demonstrate argument handling\n",
      "Script Name: myFunc, \t Description:  myFunc - A simple function to multiply each element of the input array by 2.\n",
      "Script Name: helloWorldMATLAB, \t Description:  Print \"Hello World\"\n",
      "Script Name: saveplot, \t Description: SAVEPLOT Save the plot to a file\n",
      "Script Name: qualityControl, \t Description:  qualityControl - Constructs and runs a bioinformatics quality control pipeline.\n",
      "\n",
      "\n",
      "**User Query**\n",
      "{user_query}\n",
      "\n",
      "**Task**\n",
      "Based on the user's query, select the best script from the available scripts. Provide the script name and explain why it is the best match. If no script is good, replace script with None\n",
      "\n",
      "**Response Template**\n",
      "SCRIPT: <selected script>\n",
      "REASON: <reasoning why the script fits the user prompt>\n",
      "\n"
     ]
    }
   ],
   "source": [
    "scriptPurpose = {'animal_info': 'This script provides information about different animals based on user input.', 'example': 'This is the top-level docstring for the example script.', 'helloWorldPYTHON': 'This script prints hello world to the terminal. No arguments are required.', 'matlabPipeline': ' matlabPipeline - A sample function to demonstrate argument handling', 'myFunc': ' myFunc - A simple function to multiply each element of the input array by 2.', 'helloWorldMATLAB': ' Print \"Hello World\"', 'saveplot': 'SAVEPLOT Save the plot to a file', 'qualityControl': ' qualityControl - Constructs and runs a bioinformatics quality control pipeline.'}\n",
    "script_list = \"\"\n",
    "for script in scriptPurpose.keys():\n",
    "    script_list += \"Script Name: \" + script + \", \\t Description: \" + scriptPurpose[script] + '\\n'\n",
    "template = scriptSelectorTemplate()\n",
    "template = template.format(script_list=script_list)\n",
    "print(template)"
   ]
  },
  {
   "cell_type": "code",
   "execution_count": 25,
   "id": "f9602f0a-5b9f-47cd-a591-5b605859bef3",
   "metadata": {},
   "outputs": [],
   "source": [
    "from BRAD import llms\n",
    "from langchain.memory import ConversationBufferMemory\n",
    "llm = llms.load_nvidia()"
   ]
  },
  {
   "cell_type": "code",
   "execution_count": 45,
   "id": "7ba080f9-6672-4e25-8820-95f7dfaa8f45",
   "metadata": {},
   "outputs": [],
   "source": [
    "template = scriptSelectorTemplate()\n",
    "template = template.format(script_list=script_list)\n",
    "PROMPT = PromptTemplate(input_variables=[\"user_query\"], template=template)\n",
    "chain = PROMPT | llm\n",
    "res = chain.invoke(\"use python to say hello\")\n"
   ]
  },
  {
   "cell_type": "code",
   "execution_count": 49,
   "id": "e99d5376-f427-4822-891d-f92605fb8a3d",
   "metadata": {},
   "outputs": [
    {
     "name": "stdout",
     "output_type": "stream",
     "text": [
      "SCRIPT: helloWorldPYTHON\n",
      "REASON: The user query \"use python to say hello\" is asking for a simple Python script to print a greeting message to the terminal. The script named \"helloWorldPYTHON\" matches this query as its primary function is to print the message \"Hello World\" to the terminal in Python. However, since the user explicitly requested \"hello\" in their query, it is a more accurate match for the script named \"helloWorldPYTHON\" that explicitly prints the message \"hello\" instead. Therefore, \"helloWorldPYTHON\" is the best script to run to help the user.\n"
     ]
    }
   ],
   "source": [
    "print(res.content.strip())"
   ]
  },
  {
   "cell_type": "code",
   "execution_count": 57,
   "id": "a8fb5916-fc2b-40fd-bda3-baac442f6d07",
   "metadata": {},
   "outputs": [
    {
     "data": {
      "text/plain": [
       "'helloWorldPYTHON'"
      ]
     },
     "execution_count": 57,
     "metadata": {},
     "output_type": "execute_result"
    }
   ],
   "source": [
    "scriptName = res.content.strip().split('\\n')[0].split(':')[1].strip()\n",
    "scriptName"
   ]
  },
  {
   "cell_type": "code",
   "execution_count": 33,
   "id": "2c4848ee-99d1-4cd5-a429-093d1a2e0754",
   "metadata": {},
   "outputs": [
    {
     "ename": "ValidationError",
     "evalue": "1 validation error for ConversationChain\n__root__\n  Got unexpected prompt input variables. The prompt expects ['history', 'user_query'], but got ['history'] as inputs from memory, and input as the normal input key. (type=value_error)",
     "output_type": "error",
     "traceback": [
      "\u001b[0;31m---------------------------------------------------------------------------\u001b[0m",
      "\u001b[0;31mValidationError\u001b[0m                           Traceback (most recent call last)",
      "Cell \u001b[0;32mIn[33], line 4\u001b[0m\n\u001b[1;32m      2\u001b[0m template \u001b[38;5;241m=\u001b[39m template\u001b[38;5;241m.\u001b[39mformat(script_list\u001b[38;5;241m=\u001b[39mscript_list)\n\u001b[1;32m      3\u001b[0m PROMPT \u001b[38;5;241m=\u001b[39m PromptTemplate(input_variables\u001b[38;5;241m=\u001b[39m[\u001b[38;5;124m\"\u001b[39m\u001b[38;5;124mhistory\u001b[39m\u001b[38;5;124m\"\u001b[39m, \u001b[38;5;124m\"\u001b[39m\u001b[38;5;124muser_query\u001b[39m\u001b[38;5;124m\"\u001b[39m], template\u001b[38;5;241m=\u001b[39mtemplate)\n\u001b[0;32m----> 4\u001b[0m conversation \u001b[38;5;241m=\u001b[39m \u001b[43mConversationChain\u001b[49m\u001b[43m(\u001b[49m\u001b[43mprompt\u001b[49m\u001b[43m  \u001b[49m\u001b[38;5;241;43m=\u001b[39;49m\u001b[43m \u001b[49m\u001b[43mPROMPT\u001b[49m\u001b[43m,\u001b[49m\n\u001b[1;32m      5\u001b[0m \u001b[43m                                 \u001b[49m\u001b[43mllm\u001b[49m\u001b[43m     \u001b[49m\u001b[38;5;241;43m=\u001b[39;49m\u001b[43m \u001b[49m\u001b[43mllm\u001b[49m\u001b[43m,\u001b[49m\n\u001b[1;32m      6\u001b[0m \u001b[43m                                 \u001b[49m\u001b[43mverbose\u001b[49m\u001b[43m \u001b[49m\u001b[38;5;241;43m=\u001b[39;49m\u001b[43m \u001b[49m\u001b[38;5;28;43;01mTrue\u001b[39;49;00m\u001b[43m,\u001b[49m\n\u001b[1;32m      7\u001b[0m \u001b[43m                                 \u001b[49m\u001b[43mmemory\u001b[49m\u001b[43m  \u001b[49m\u001b[38;5;241;43m=\u001b[39;49m\u001b[43m \u001b[49m\u001b[43mConversationBufferMemory\u001b[49m\u001b[43m(\u001b[49m\u001b[43mai_prefix\u001b[49m\u001b[38;5;241;43m=\u001b[39;49m\u001b[38;5;124;43m\"\u001b[39;49m\u001b[38;5;124;43mBRAD\u001b[39;49m\u001b[38;5;124;43m\"\u001b[39;49m\u001b[43m)\u001b[49m\u001b[43m,\u001b[49m\n\u001b[1;32m      8\u001b[0m \u001b[43m                                \u001b[49m\u001b[43m)\u001b[49m\n",
      "File \u001b[0;32m~/.local/lib/python3.11/site-packages/langchain_core/_api/deprecation.py:183\u001b[0m, in \u001b[0;36mdeprecated.<locals>.deprecate.<locals>.finalize.<locals>.warn_if_direct_instance\u001b[0;34m(self, *args, **kwargs)\u001b[0m\n\u001b[1;32m    181\u001b[0m     warned \u001b[38;5;241m=\u001b[39m \u001b[38;5;28;01mTrue\u001b[39;00m\n\u001b[1;32m    182\u001b[0m     emit_warning()\n\u001b[0;32m--> 183\u001b[0m \u001b[38;5;28;01mreturn\u001b[39;00m \u001b[43mwrapped\u001b[49m\u001b[43m(\u001b[49m\u001b[38;5;28;43mself\u001b[39;49m\u001b[43m,\u001b[49m\u001b[43m \u001b[49m\u001b[38;5;241;43m*\u001b[39;49m\u001b[43margs\u001b[49m\u001b[43m,\u001b[49m\u001b[43m \u001b[49m\u001b[38;5;241;43m*\u001b[39;49m\u001b[38;5;241;43m*\u001b[39;49m\u001b[43mkwargs\u001b[49m\u001b[43m)\u001b[49m\n",
      "File \u001b[0;32m~/.local/lib/python3.11/site-packages/pydantic/v1/main.py:341\u001b[0m, in \u001b[0;36mBaseModel.__init__\u001b[0;34m(__pydantic_self__, **data)\u001b[0m\n\u001b[1;32m    339\u001b[0m values, fields_set, validation_error \u001b[38;5;241m=\u001b[39m validate_model(__pydantic_self__\u001b[38;5;241m.\u001b[39m\u001b[38;5;18m__class__\u001b[39m, data)\n\u001b[1;32m    340\u001b[0m \u001b[38;5;28;01mif\u001b[39;00m validation_error:\n\u001b[0;32m--> 341\u001b[0m     \u001b[38;5;28;01mraise\u001b[39;00m validation_error\n\u001b[1;32m    342\u001b[0m \u001b[38;5;28;01mtry\u001b[39;00m:\n\u001b[1;32m    343\u001b[0m     object_setattr(__pydantic_self__, \u001b[38;5;124m'\u001b[39m\u001b[38;5;124m__dict__\u001b[39m\u001b[38;5;124m'\u001b[39m, values)\n",
      "\u001b[0;31mValidationError\u001b[0m: 1 validation error for ConversationChain\n__root__\n  Got unexpected prompt input variables. The prompt expects ['history', 'user_query'], but got ['history'] as inputs from memory, and input as the normal input key. (type=value_error)"
     ]
    }
   ],
   "source": [
    "template = scriptSelectorTemplate()\n",
    "template = template.format(script_list=script_list)\n",
    "PROMPT = PromptTemplate(input_variables=[\"history\", \"user_query\"], template=template)\n",
    "conversation = ConversationChain(prompt  = PROMPT,\n",
    "                                 llm     = llm,\n",
    "                                 verbose = True,\n",
    "                                 memory  = ConversationBufferMemory(ai_prefix=\"BRAD\"),\n",
    "                                )"
   ]
  },
  {
   "cell_type": "code",
   "execution_count": 6,
   "id": "6bc932e1-2256-4188-8598-8ebcbbcb0cb5",
   "metadata": {},
   "outputs": [
    {
     "name": "stdout",
     "output_type": "stream",
     "text": [
      "**Available Scripts**\n",
      "{script_list}\n",
      "\n",
      "**User Query**\n",
      "{user_query}\n",
      "\n",
      "**Task**\n",
      "Based on the user's query, select the best script from the available scripts. Provide the script name and explain why it is the best match. If no script is good, replace script with None\n",
      "\n",
      "**Response Template**\n",
      "SCRIPT: <selected script>\n",
      "REASON: <reasoning why the script fits the user prompt>\n",
      "\n"
     ]
    }
   ],
   "source": [
    "template = scriptSelectorTemplate()"
   ]
  },
  {
   "cell_type": "code",
   "execution_count": 34,
   "id": "52f8896c-69e1-48d8-8d68-466f543490b2",
   "metadata": {},
   "outputs": [],
   "source": [
    "def scriptSelectorTemplate():\n",
    "    template=\"\"\"You must select which code to run to help a user.\n",
    "\n",
    "**Available Scripts**\n",
    "{script_list}\n",
    "\n",
    "**User Query**\n",
    "{{user_query}}\n",
    "\n",
    "**Task**\n",
    "Based on the user's query, select the best script from the available scripts. Provide the script name and explain why it is the best match. If no script is good, replace script with None\n",
    "\n",
    "**Response Template**\n",
    "SCRIPT: <selected script>\n",
    "REASON: <reasoning why the script fits the user prompt>\n",
    "\"\"\"\n",
    "    return template"
   ]
  },
  {
   "cell_type": "code",
   "execution_count": null,
   "id": "eb0d08aa-5ff9-4a00-883d-4776fba40abd",
   "metadata": {},
   "outputs": [],
   "source": []
  }
 ],
 "metadata": {
  "kernelspec": {
   "display_name": "Python 3 (ipykernel)",
   "language": "python",
   "name": "python3"
  },
  "language_info": {
   "codemirror_mode": {
    "name": "ipython",
    "version": 3
   },
   "file_extension": ".py",
   "mimetype": "text/x-python",
   "name": "python",
   "nbconvert_exporter": "python",
   "pygments_lexer": "ipython3",
   "version": "3.11.7"
  }
 },
 "nbformat": 4,
 "nbformat_minor": 5
}
