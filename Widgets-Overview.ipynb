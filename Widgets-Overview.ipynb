{
 "cells": [
  {
   "cell_type": "markdown",
   "metadata": {},
   "source": [
    "# Introduction: IPython Widgets\n",
    "\n",
    "In this notebook, we will get an introduction to IPython widgets. These are tools that allow us to build interactivity into our notebooks often with a single line of code. These widgets are very useful for data exploration and analysis, for example, selecting certain data or updating charts. In effect, Widgets allow you to make Jupyter Notebooks into an interactive dashboard instead of a static document."
   ]
  },
  {
   "cell_type": "markdown",
   "metadata": {},
   "source": [
    "Run the below cell if needed. You can also do this from the command line. If in Jupyter lab, [check out the instructions for that environment](https://ipywidgets.readthedocs.io/en/stable/user_install.html). "
   ]
  },
  {
   "cell_type": "code",
   "execution_count": 1,
   "metadata": {
    "ExecuteTime": {
     "end_time": "2019-02-11T21:59:15.249992Z",
     "start_time": "2019-02-11T21:59:12.848653Z"
    }
   },
   "outputs": [
    {
     "name": "stdout",
     "output_type": "stream",
     "text": [
      "Enabling notebook extension jupyter-js-widgets/extension...\n",
      "      - Validating: \u001b[32mOK\u001b[0m\n"
     ]
    }
   ],
   "source": [
    "!pip install -U -q ipywidgets\n",
    "!jupyter nbextension enable --py widgetsnbextension"
   ]
  },
  {
   "cell_type": "markdown",
   "metadata": {},
   "source": [
    "These are the other imports will use. "
   ]
  },
  {
   "cell_type": "code",
   "execution_count": 7,
   "metadata": {
    "ExecuteTime": {
     "end_time": "2019-02-11T21:59:16.649010Z",
     "start_time": "2019-02-11T21:59:15.252863Z"
    }
   },
   "outputs": [
    {
     "data": {
      "text/html": [
       "        <script type=\"text/javascript\">\n",
       "        window.PlotlyConfig = {MathJaxConfig: 'local'};\n",
       "        if (window.MathJax && window.MathJax.Hub && window.MathJax.Hub.Config) {window.MathJax.Hub.Config({SVG: {font: \"STIX-Web\"}});}\n",
       "        if (typeof require !== 'undefined') {\n",
       "        require.undef(\"plotly\");\n",
       "        requirejs.config({\n",
       "            paths: {\n",
       "                'plotly': ['https://cdn.plot.ly/plotly-2.12.1.min']\n",
       "            }\n",
       "        });\n",
       "        require(['plotly'], function(Plotly) {\n",
       "            window._Plotly = Plotly;\n",
       "        });\n",
       "        }\n",
       "        </script>\n",
       "        "
      ]
     },
     "metadata": {},
     "output_type": "display_data"
    },
    {
     "data": {
      "text/html": [
       "        <script type=\"text/javascript\">\n",
       "        window.PlotlyConfig = {MathJaxConfig: 'local'};\n",
       "        if (window.MathJax && window.MathJax.Hub && window.MathJax.Hub.Config) {window.MathJax.Hub.Config({SVG: {font: \"STIX-Web\"}});}\n",
       "        if (typeof require !== 'undefined') {\n",
       "        require.undef(\"plotly\");\n",
       "        requirejs.config({\n",
       "            paths: {\n",
       "                'plotly': ['https://cdn.plot.ly/plotly-2.12.1.min']\n",
       "            }\n",
       "        });\n",
       "        require(['plotly'], function(Plotly) {\n",
       "            window._Plotly = Plotly;\n",
       "        });\n",
       "        }\n",
       "        </script>\n",
       "        "
      ]
     },
     "metadata": {},
     "output_type": "display_data"
    }
   ],
   "source": [
    "# Standard Data Science Helpers\n",
    "import numpy as np\n",
    "import pandas as pd\n",
    "import scipy\n",
    "\n",
    "import chart_studio.plotly as py\n",
    "\n",
    "import plotly.graph_objs as go\n",
    "from plotly.offline import iplot, init_notebook_mode\n",
    "init_notebook_mode(connected=True)\n",
    "\n",
    "import cufflinks as cf\n",
    "cf.go_offline(connected=True)\n",
    "cf.set_config_file(colorscale='plotly', world_readable=True)\n",
    "\n",
    "# Extra options\n",
    "pd.options.display.max_rows = 30\n",
    "pd.options.display.max_columns = 25\n",
    "\n",
    "# Show all code cells outputs\n",
    "from IPython.core.interactiveshell import InteractiveShell\n",
    "InteractiveShell.ast_node_interactivity = 'all'"
   ]
  },
  {
   "cell_type": "code",
   "execution_count": 8,
   "metadata": {
    "ExecuteTime": {
     "end_time": "2019-02-11T21:59:16.677478Z",
     "start_time": "2019-02-11T21:59:16.650547Z"
    }
   },
   "outputs": [],
   "source": [
    "import os\n",
    "from IPython.display import Image, display, HTML"
   ]
  },
  {
   "cell_type": "markdown",
   "metadata": {},
   "source": [
    "## Data\n",
    "\n",
    "For this project, we'll work with my medium stats data. You can grab your own data or just use mine! "
   ]
  },
  {
   "cell_type": "code",
   "execution_count": 14,
   "metadata": {
    "ExecuteTime": {
     "end_time": "2019-02-11T21:59:17.739135Z",
     "start_time": "2019-02-11T21:59:16.679089Z"
    }
   },
   "outputs": [
    {
     "data": {
      "text/html": [
       "<div>\n",
       "<style scoped>\n",
       "    .dataframe tbody tr th:only-of-type {\n",
       "        vertical-align: middle;\n",
       "    }\n",
       "\n",
       "    .dataframe tbody tr th {\n",
       "        vertical-align: top;\n",
       "    }\n",
       "\n",
       "    .dataframe thead th {\n",
       "        text-align: right;\n",
       "    }\n",
       "</style>\n",
       "<table border=\"1\" class=\"dataframe\">\n",
       "  <thead>\n",
       "    <tr style=\"text-align: right;\">\n",
       "      <th></th>\n",
       "      <th>claps</th>\n",
       "      <th>days_since_publication</th>\n",
       "      <th>fans</th>\n",
       "      <th>link</th>\n",
       "      <th>num_responses</th>\n",
       "      <th>publication</th>\n",
       "      <th>published_date</th>\n",
       "      <th>read_ratio</th>\n",
       "      <th>read_time</th>\n",
       "      <th>reads</th>\n",
       "      <th>started_date</th>\n",
       "      <th>tags</th>\n",
       "      <th>text</th>\n",
       "      <th>title</th>\n",
       "      <th>title_word_count</th>\n",
       "      <th>type</th>\n",
       "      <th>views</th>\n",
       "      <th>word_count</th>\n",
       "      <th>claps_per_word</th>\n",
       "      <th>editing_days</th>\n",
       "      <th>&lt;tag&gt;Education</th>\n",
       "      <th>&lt;tag&gt;Data Science</th>\n",
       "      <th>&lt;tag&gt;Towards Data Science</th>\n",
       "      <th>&lt;tag&gt;Machine Learning</th>\n",
       "      <th>&lt;tag&gt;Python</th>\n",
       "    </tr>\n",
       "  </thead>\n",
       "  <tbody>\n",
       "    <tr>\n",
       "      <th>129</th>\n",
       "      <td>2</td>\n",
       "      <td>597.301123</td>\n",
       "      <td>2</td>\n",
       "      <td>https://medium.com/p/screw-the-environment-but...</td>\n",
       "      <td>0</td>\n",
       "      <td>None</td>\n",
       "      <td>2017-06-10 14:25:00+00:00</td>\n",
       "      <td>42.17</td>\n",
       "      <td>7</td>\n",
       "      <td>70</td>\n",
       "      <td>2017-06-10 14:24:00+00:00</td>\n",
       "      <td>[Climate Change, Economics]</td>\n",
       "      <td>Screw the Environment, but Consider Your Walle...</td>\n",
       "      <td>Screw the Environment, but Consider Your Wallet</td>\n",
       "      <td>8</td>\n",
       "      <td>published</td>\n",
       "      <td>166</td>\n",
       "      <td>1859</td>\n",
       "      <td>0.001076</td>\n",
       "      <td>0</td>\n",
       "      <td>0</td>\n",
       "      <td>0</td>\n",
       "      <td>0</td>\n",
       "      <td>0</td>\n",
       "      <td>0</td>\n",
       "    </tr>\n",
       "    <tr>\n",
       "      <th>125</th>\n",
       "      <td>18</td>\n",
       "      <td>589.983168</td>\n",
       "      <td>3</td>\n",
       "      <td>https://medium.com/p/the-vanquishing-of-war-pl...</td>\n",
       "      <td>0</td>\n",
       "      <td>None</td>\n",
       "      <td>2017-06-17 22:02:00+00:00</td>\n",
       "      <td>30.34</td>\n",
       "      <td>14</td>\n",
       "      <td>54</td>\n",
       "      <td>2017-06-17 22:02:00+00:00</td>\n",
       "      <td>[Climate Change, Humanity, Optimism, History]</td>\n",
       "      <td>The Vanquishing of War, Plague and Famine Part...</td>\n",
       "      <td>The Vanquishing of War, Plague and Famine</td>\n",
       "      <td>8</td>\n",
       "      <td>published</td>\n",
       "      <td>178</td>\n",
       "      <td>3891</td>\n",
       "      <td>0.004626</td>\n",
       "      <td>0</td>\n",
       "      <td>0</td>\n",
       "      <td>0</td>\n",
       "      <td>0</td>\n",
       "      <td>0</td>\n",
       "      <td>0</td>\n",
       "    </tr>\n",
       "    <tr>\n",
       "      <th>132</th>\n",
       "      <td>51</td>\n",
       "      <td>577.363292</td>\n",
       "      <td>20</td>\n",
       "      <td>https://medium.com/p/capstone-project-mercedes...</td>\n",
       "      <td>0</td>\n",
       "      <td>None</td>\n",
       "      <td>2017-06-30 12:55:00+00:00</td>\n",
       "      <td>20.02</td>\n",
       "      <td>42</td>\n",
       "      <td>222</td>\n",
       "      <td>2017-06-30 12:00:00+00:00</td>\n",
       "      <td>[Machine Learning, Python, Udacity, Kaggle]</td>\n",
       "      <td>Capstone Project: Mercedes-Benz Greener Manufa...</td>\n",
       "      <td>Capstone Project: Mercedes-Benz Greener Manufa...</td>\n",
       "      <td>7</td>\n",
       "      <td>published</td>\n",
       "      <td>1109</td>\n",
       "      <td>12025</td>\n",
       "      <td>0.004241</td>\n",
       "      <td>0</td>\n",
       "      <td>0</td>\n",
       "      <td>0</td>\n",
       "      <td>0</td>\n",
       "      <td>1</td>\n",
       "      <td>1</td>\n",
       "    </tr>\n",
       "    <tr>\n",
       "      <th>126</th>\n",
       "      <td>0</td>\n",
       "      <td>576.520688</td>\n",
       "      <td>0</td>\n",
       "      <td>https://medium.com/p/home-of-the-scared-5af0fe...</td>\n",
       "      <td>0</td>\n",
       "      <td>None</td>\n",
       "      <td>2017-07-01 09:08:00+00:00</td>\n",
       "      <td>35.85</td>\n",
       "      <td>9</td>\n",
       "      <td>19</td>\n",
       "      <td>2017-06-30 18:21:00+00:00</td>\n",
       "      <td>[Politics, Books, News, Media Criticism]</td>\n",
       "      <td>Home of the Scared A review of A Culture of Fe...</td>\n",
       "      <td>Home of the Scared</td>\n",
       "      <td>4</td>\n",
       "      <td>published</td>\n",
       "      <td>53</td>\n",
       "      <td>2533</td>\n",
       "      <td>0.000000</td>\n",
       "      <td>0</td>\n",
       "      <td>0</td>\n",
       "      <td>0</td>\n",
       "      <td>0</td>\n",
       "      <td>0</td>\n",
       "      <td>0</td>\n",
       "    </tr>\n",
       "    <tr>\n",
       "      <th>121</th>\n",
       "      <td>0</td>\n",
       "      <td>572.533035</td>\n",
       "      <td>0</td>\n",
       "      <td>https://medium.com/p/the-triumph-of-peace-f485...</td>\n",
       "      <td>0</td>\n",
       "      <td>None</td>\n",
       "      <td>2017-07-05 08:51:00+00:00</td>\n",
       "      <td>8.47</td>\n",
       "      <td>14</td>\n",
       "      <td>5</td>\n",
       "      <td>2017-07-03 20:18:00+00:00</td>\n",
       "      <td>[Books, Psychology, History, Humanism]</td>\n",
       "      <td>The Triumph of Peace A review of The Better An...</td>\n",
       "      <td>The Triumph of Peace</td>\n",
       "      <td>4</td>\n",
       "      <td>published</td>\n",
       "      <td>59</td>\n",
       "      <td>3892</td>\n",
       "      <td>0.000000</td>\n",
       "      <td>1</td>\n",
       "      <td>0</td>\n",
       "      <td>0</td>\n",
       "      <td>0</td>\n",
       "      <td>0</td>\n",
       "      <td>0</td>\n",
       "    </tr>\n",
       "  </tbody>\n",
       "</table>\n",
       "</div>"
      ],
      "text/plain": [
       "     claps  days_since_publication  fans  \\\n",
       "129      2              597.301123     2   \n",
       "125     18              589.983168     3   \n",
       "132     51              577.363292    20   \n",
       "126      0              576.520688     0   \n",
       "121      0              572.533035     0   \n",
       "\n",
       "                                                  link  num_responses  \\\n",
       "129  https://medium.com/p/screw-the-environment-but...              0   \n",
       "125  https://medium.com/p/the-vanquishing-of-war-pl...              0   \n",
       "132  https://medium.com/p/capstone-project-mercedes...              0   \n",
       "126  https://medium.com/p/home-of-the-scared-5af0fe...              0   \n",
       "121  https://medium.com/p/the-triumph-of-peace-f485...              0   \n",
       "\n",
       "    publication            published_date  read_ratio  read_time  reads  \\\n",
       "129        None 2017-06-10 14:25:00+00:00       42.17          7     70   \n",
       "125        None 2017-06-17 22:02:00+00:00       30.34         14     54   \n",
       "132        None 2017-06-30 12:55:00+00:00       20.02         42    222   \n",
       "126        None 2017-07-01 09:08:00+00:00       35.85          9     19   \n",
       "121        None 2017-07-05 08:51:00+00:00        8.47         14      5   \n",
       "\n",
       "                 started_date                                           tags  \\\n",
       "129 2017-06-10 14:24:00+00:00                    [Climate Change, Economics]   \n",
       "125 2017-06-17 22:02:00+00:00  [Climate Change, Humanity, Optimism, History]   \n",
       "132 2017-06-30 12:00:00+00:00    [Machine Learning, Python, Udacity, Kaggle]   \n",
       "126 2017-06-30 18:21:00+00:00       [Politics, Books, News, Media Criticism]   \n",
       "121 2017-07-03 20:18:00+00:00         [Books, Psychology, History, Humanism]   \n",
       "\n",
       "                                                  text  \\\n",
       "129  Screw the Environment, but Consider Your Walle...   \n",
       "125  The Vanquishing of War, Plague and Famine Part...   \n",
       "132  Capstone Project: Mercedes-Benz Greener Manufa...   \n",
       "126  Home of the Scared A review of A Culture of Fe...   \n",
       "121  The Triumph of Peace A review of The Better An...   \n",
       "\n",
       "                                                 title  title_word_count  \\\n",
       "129    Screw the Environment, but Consider Your Wallet                 8   \n",
       "125          The Vanquishing of War, Plague and Famine                 8   \n",
       "132  Capstone Project: Mercedes-Benz Greener Manufa...                 7   \n",
       "126                                 Home of the Scared                 4   \n",
       "121                               The Triumph of Peace                 4   \n",
       "\n",
       "          type  views  word_count  claps_per_word  editing_days  \\\n",
       "129  published    166        1859        0.001076             0   \n",
       "125  published    178        3891        0.004626             0   \n",
       "132  published   1109       12025        0.004241             0   \n",
       "126  published     53        2533        0.000000             0   \n",
       "121  published     59        3892        0.000000             1   \n",
       "\n",
       "     <tag>Education  <tag>Data Science  <tag>Towards Data Science  \\\n",
       "129               0                  0                          0   \n",
       "125               0                  0                          0   \n",
       "132               0                  0                          0   \n",
       "126               0                  0                          0   \n",
       "121               0                  0                          0   \n",
       "\n",
       "     <tag>Machine Learning  <tag>Python  \n",
       "129                      0            0  \n",
       "125                      0            0  \n",
       "132                      1            1  \n",
       "126                      0            0  \n",
       "121                      0            0  "
      ]
     },
     "execution_count": 14,
     "metadata": {},
     "output_type": "execute_result"
    }
   ],
   "source": [
    "df = pd.read_parquet('https://github.com/WillKoehrsen/Data-Analysis/blob/master/medium/data/medium_data_2019_01_26?raw=true')\n",
    "df.head()"
   ]
  },
  {
   "cell_type": "code",
   "execution_count": 15,
   "metadata": {
    "ExecuteTime": {
     "end_time": "2019-02-11T21:59:17.847235Z",
     "start_time": "2019-02-11T21:59:17.741021Z"
    }
   },
   "outputs": [
    {
     "data": {
      "text/html": [
       "<div>\n",
       "<style scoped>\n",
       "    .dataframe tbody tr th:only-of-type {\n",
       "        vertical-align: middle;\n",
       "    }\n",
       "\n",
       "    .dataframe tbody tr th {\n",
       "        vertical-align: top;\n",
       "    }\n",
       "\n",
       "    .dataframe thead th {\n",
       "        text-align: right;\n",
       "    }\n",
       "</style>\n",
       "<table border=\"1\" class=\"dataframe\">\n",
       "  <thead>\n",
       "    <tr style=\"text-align: right;\">\n",
       "      <th></th>\n",
       "      <th>claps</th>\n",
       "      <th>days_since_publication</th>\n",
       "      <th>fans</th>\n",
       "      <th>num_responses</th>\n",
       "      <th>read_ratio</th>\n",
       "      <th>read_time</th>\n",
       "      <th>reads</th>\n",
       "      <th>title_word_count</th>\n",
       "      <th>views</th>\n",
       "      <th>word_count</th>\n",
       "      <th>claps_per_word</th>\n",
       "      <th>editing_days</th>\n",
       "      <th>&lt;tag&gt;Education</th>\n",
       "      <th>&lt;tag&gt;Data Science</th>\n",
       "      <th>&lt;tag&gt;Towards Data Science</th>\n",
       "      <th>&lt;tag&gt;Machine Learning</th>\n",
       "      <th>&lt;tag&gt;Python</th>\n",
       "    </tr>\n",
       "  </thead>\n",
       "  <tbody>\n",
       "    <tr>\n",
       "      <th>count</th>\n",
       "      <td>133.000000</td>\n",
       "      <td>133.000000</td>\n",
       "      <td>133.000000</td>\n",
       "      <td>133.000000</td>\n",
       "      <td>133.000000</td>\n",
       "      <td>133.000000</td>\n",
       "      <td>133.000000</td>\n",
       "      <td>133.000000</td>\n",
       "      <td>133.000000</td>\n",
       "      <td>133.000000</td>\n",
       "      <td>133.000000</td>\n",
       "      <td>133.000000</td>\n",
       "      <td>133.000000</td>\n",
       "      <td>133.000000</td>\n",
       "      <td>133.000000</td>\n",
       "      <td>133.000000</td>\n",
       "      <td>133.000000</td>\n",
       "    </tr>\n",
       "    <tr>\n",
       "      <th>mean</th>\n",
       "      <td>1815.263158</td>\n",
       "      <td>248.407273</td>\n",
       "      <td>352.052632</td>\n",
       "      <td>7.045113</td>\n",
       "      <td>29.074662</td>\n",
       "      <td>12.917293</td>\n",
       "      <td>6336.300752</td>\n",
       "      <td>7.127820</td>\n",
       "      <td>23404.030075</td>\n",
       "      <td>3029.120301</td>\n",
       "      <td>0.957638</td>\n",
       "      <td>20.330827</td>\n",
       "      <td>0.729323</td>\n",
       "      <td>0.609023</td>\n",
       "      <td>0.436090</td>\n",
       "      <td>0.383459</td>\n",
       "      <td>0.315789</td>\n",
       "    </tr>\n",
       "    <tr>\n",
       "      <th>std</th>\n",
       "      <td>2449.074661</td>\n",
       "      <td>179.370879</td>\n",
       "      <td>479.060117</td>\n",
       "      <td>9.056108</td>\n",
       "      <td>12.417670</td>\n",
       "      <td>9.510795</td>\n",
       "      <td>9007.284726</td>\n",
       "      <td>3.158475</td>\n",
       "      <td>33995.636496</td>\n",
       "      <td>2393.414456</td>\n",
       "      <td>1.846756</td>\n",
       "      <td>74.111579</td>\n",
       "      <td>0.445989</td>\n",
       "      <td>0.489814</td>\n",
       "      <td>0.497774</td>\n",
       "      <td>0.488067</td>\n",
       "      <td>0.466587</td>\n",
       "    </tr>\n",
       "    <tr>\n",
       "      <th>min</th>\n",
       "      <td>0.000000</td>\n",
       "      <td>1.218629</td>\n",
       "      <td>0.000000</td>\n",
       "      <td>0.000000</td>\n",
       "      <td>8.110000</td>\n",
       "      <td>1.000000</td>\n",
       "      <td>1.000000</td>\n",
       "      <td>2.000000</td>\n",
       "      <td>3.000000</td>\n",
       "      <td>163.000000</td>\n",
       "      <td>0.000000</td>\n",
       "      <td>-13.000000</td>\n",
       "      <td>0.000000</td>\n",
       "      <td>0.000000</td>\n",
       "      <td>0.000000</td>\n",
       "      <td>0.000000</td>\n",
       "      <td>0.000000</td>\n",
       "    </tr>\n",
       "    <tr>\n",
       "      <th>25%</th>\n",
       "      <td>121.000000</td>\n",
       "      <td>74.543822</td>\n",
       "      <td>23.000000</td>\n",
       "      <td>0.000000</td>\n",
       "      <td>20.020000</td>\n",
       "      <td>8.000000</td>\n",
       "      <td>363.000000</td>\n",
       "      <td>5.000000</td>\n",
       "      <td>1375.000000</td>\n",
       "      <td>1653.000000</td>\n",
       "      <td>0.052115</td>\n",
       "      <td>0.000000</td>\n",
       "      <td>0.000000</td>\n",
       "      <td>0.000000</td>\n",
       "      <td>0.000000</td>\n",
       "      <td>0.000000</td>\n",
       "      <td>0.000000</td>\n",
       "    </tr>\n",
       "    <tr>\n",
       "      <th>50%</th>\n",
       "      <td>815.000000</td>\n",
       "      <td>245.416130</td>\n",
       "      <td>136.000000</td>\n",
       "      <td>4.000000</td>\n",
       "      <td>27.060000</td>\n",
       "      <td>10.000000</td>\n",
       "      <td>2049.000000</td>\n",
       "      <td>7.000000</td>\n",
       "      <td>7608.000000</td>\n",
       "      <td>2456.000000</td>\n",
       "      <td>0.421525</td>\n",
       "      <td>1.000000</td>\n",
       "      <td>1.000000</td>\n",
       "      <td>1.000000</td>\n",
       "      <td>0.000000</td>\n",
       "      <td>0.000000</td>\n",
       "      <td>0.000000</td>\n",
       "    </tr>\n",
       "    <tr>\n",
       "      <th>75%</th>\n",
       "      <td>2700.000000</td>\n",
       "      <td>376.080598</td>\n",
       "      <td>528.000000</td>\n",
       "      <td>12.000000</td>\n",
       "      <td>34.910000</td>\n",
       "      <td>14.000000</td>\n",
       "      <td>7815.000000</td>\n",
       "      <td>8.000000</td>\n",
       "      <td>30141.000000</td>\n",
       "      <td>3553.000000</td>\n",
       "      <td>1.099366</td>\n",
       "      <td>5.000000</td>\n",
       "      <td>1.000000</td>\n",
       "      <td>1.000000</td>\n",
       "      <td>1.000000</td>\n",
       "      <td>1.000000</td>\n",
       "      <td>1.000000</td>\n",
       "    </tr>\n",
       "    <tr>\n",
       "      <th>max</th>\n",
       "      <td>13600.000000</td>\n",
       "      <td>597.301123</td>\n",
       "      <td>2588.000000</td>\n",
       "      <td>59.000000</td>\n",
       "      <td>74.370000</td>\n",
       "      <td>54.000000</td>\n",
       "      <td>41978.000000</td>\n",
       "      <td>16.000000</td>\n",
       "      <td>173714.000000</td>\n",
       "      <td>15063.000000</td>\n",
       "      <td>17.891817</td>\n",
       "      <td>349.000000</td>\n",
       "      <td>1.000000</td>\n",
       "      <td>1.000000</td>\n",
       "      <td>1.000000</td>\n",
       "      <td>1.000000</td>\n",
       "      <td>1.000000</td>\n",
       "    </tr>\n",
       "  </tbody>\n",
       "</table>\n",
       "</div>"
      ],
      "text/plain": [
       "              claps  days_since_publication         fans  num_responses  \\\n",
       "count    133.000000              133.000000   133.000000     133.000000   \n",
       "mean    1815.263158              248.407273   352.052632       7.045113   \n",
       "std     2449.074661              179.370879   479.060117       9.056108   \n",
       "min        0.000000                1.218629     0.000000       0.000000   \n",
       "25%      121.000000               74.543822    23.000000       0.000000   \n",
       "50%      815.000000              245.416130   136.000000       4.000000   \n",
       "75%     2700.000000              376.080598   528.000000      12.000000   \n",
       "max    13600.000000              597.301123  2588.000000      59.000000   \n",
       "\n",
       "       read_ratio   read_time         reads  title_word_count          views  \\\n",
       "count  133.000000  133.000000    133.000000        133.000000     133.000000   \n",
       "mean    29.074662   12.917293   6336.300752          7.127820   23404.030075   \n",
       "std     12.417670    9.510795   9007.284726          3.158475   33995.636496   \n",
       "min      8.110000    1.000000      1.000000          2.000000       3.000000   \n",
       "25%     20.020000    8.000000    363.000000          5.000000    1375.000000   \n",
       "50%     27.060000   10.000000   2049.000000          7.000000    7608.000000   \n",
       "75%     34.910000   14.000000   7815.000000          8.000000   30141.000000   \n",
       "max     74.370000   54.000000  41978.000000         16.000000  173714.000000   \n",
       "\n",
       "         word_count  claps_per_word  editing_days  <tag>Education  \\\n",
       "count    133.000000      133.000000    133.000000      133.000000   \n",
       "mean    3029.120301        0.957638     20.330827        0.729323   \n",
       "std     2393.414456        1.846756     74.111579        0.445989   \n",
       "min      163.000000        0.000000    -13.000000        0.000000   \n",
       "25%     1653.000000        0.052115      0.000000        0.000000   \n",
       "50%     2456.000000        0.421525      1.000000        1.000000   \n",
       "75%     3553.000000        1.099366      5.000000        1.000000   \n",
       "max    15063.000000       17.891817    349.000000        1.000000   \n",
       "\n",
       "       <tag>Data Science  <tag>Towards Data Science  <tag>Machine Learning  \\\n",
       "count         133.000000                 133.000000             133.000000   \n",
       "mean            0.609023                   0.436090               0.383459   \n",
       "std             0.489814                   0.497774               0.488067   \n",
       "min             0.000000                   0.000000               0.000000   \n",
       "25%             0.000000                   0.000000               0.000000   \n",
       "50%             1.000000                   0.000000               0.000000   \n",
       "75%             1.000000                   1.000000               1.000000   \n",
       "max             1.000000                   1.000000               1.000000   \n",
       "\n",
       "       <tag>Python  \n",
       "count   133.000000  \n",
       "mean      0.315789  \n",
       "std       0.466587  \n",
       "min       0.000000  \n",
       "25%       0.000000  \n",
       "50%       0.000000  \n",
       "75%       1.000000  \n",
       "max       1.000000  "
      ]
     },
     "execution_count": 15,
     "metadata": {},
     "output_type": "execute_result"
    }
   ],
   "source": [
    "df.describe()"
   ]
  },
  {
   "cell_type": "markdown",
   "metadata": {},
   "source": [
    "# Simple Widgets\n",
    "\n",
    "Let's get started using some widgets! We'll start off pretty simple just to see how the interface works."
   ]
  },
  {
   "cell_type": "code",
   "execution_count": 16,
   "metadata": {
    "ExecuteTime": {
     "end_time": "2019-02-11T21:59:17.894781Z",
     "start_time": "2019-02-11T21:59:17.849710Z"
    }
   },
   "outputs": [],
   "source": [
    "import ipywidgets as widgets\n",
    "from ipywidgets import interact, interact_manual"
   ]
  },
  {
   "cell_type": "markdown",
   "metadata": {},
   "source": [
    "To make a function interactive, all we have to do is use the `interact` decorator. This will automatically infer the input types for us! "
   ]
  },
  {
   "cell_type": "code",
   "execution_count": 17,
   "metadata": {
    "ExecuteTime": {
     "end_time": "2019-02-11T21:59:18.144261Z",
     "start_time": "2019-02-11T21:59:17.897741Z"
    }
   },
   "outputs": [
    {
     "data": {
      "text/html": [
       "<h2>Showing articles with more than 5000 claps<h2>"
      ],
      "text/plain": [
       "<IPython.core.display.HTML object>"
      ]
     },
     "metadata": {},
     "output_type": "display_data"
    },
    {
     "data": {
      "text/html": [
       "<div>\n",
       "<style scoped>\n",
       "    .dataframe tbody tr th:only-of-type {\n",
       "        vertical-align: middle;\n",
       "    }\n",
       "\n",
       "    .dataframe tbody tr th {\n",
       "        vertical-align: top;\n",
       "    }\n",
       "\n",
       "    .dataframe thead th {\n",
       "        text-align: right;\n",
       "    }\n",
       "</style>\n",
       "<table border=\"1\" class=\"dataframe\">\n",
       "  <thead>\n",
       "    <tr style=\"text-align: right;\">\n",
       "      <th></th>\n",
       "      <th>title</th>\n",
       "      <th>published_date</th>\n",
       "      <th>read_time</th>\n",
       "      <th>tags</th>\n",
       "      <th>views</th>\n",
       "      <th>reads</th>\n",
       "    </tr>\n",
       "  </thead>\n",
       "  <tbody>\n",
       "    <tr>\n",
       "      <th>100</th>\n",
       "      <td>Stock Prediction in Python</td>\n",
       "      <td>2018-01-19 15:30:00+00:00</td>\n",
       "      <td>12</td>\n",
       "      <td>[Machine Learning, Data Science, Programming, ...</td>\n",
       "      <td>134699</td>\n",
       "      <td>41978</td>\n",
       "    </tr>\n",
       "    <tr>\n",
       "      <th>88</th>\n",
       "      <td>Python is the Perfect Tool for any Problem</td>\n",
       "      <td>2018-02-04 09:12:00+00:00</td>\n",
       "      <td>3</td>\n",
       "      <td>[Python, Programming, Education, Data Science,...</td>\n",
       "      <td>48157</td>\n",
       "      <td>30099</td>\n",
       "    </tr>\n",
       "    <tr>\n",
       "      <th>89</th>\n",
       "      <td>Markov Chain Monte Carlo in Python</td>\n",
       "      <td>2018-02-09 22:29:00+00:00</td>\n",
       "      <td>12</td>\n",
       "      <td>[Machine Learning, Data Science, Programming, ...</td>\n",
       "      <td>57830</td>\n",
       "      <td>16735</td>\n",
       "    </tr>\n",
       "    <tr>\n",
       "      <th>83</th>\n",
       "      <td>Bayes’ Rule Applied</td>\n",
       "      <td>2018-02-14 11:27:00+00:00</td>\n",
       "      <td>9</td>\n",
       "      <td>[Statistics, Programming, Education, Data Anal...</td>\n",
       "      <td>35505</td>\n",
       "      <td>11491</td>\n",
       "    </tr>\n",
       "    <tr>\n",
       "      <th>82</th>\n",
       "      <td>Beyond Accuracy: Precision and Recall</td>\n",
       "      <td>2018-03-03 11:10:00+00:00</td>\n",
       "      <td>11</td>\n",
       "      <td>[Machine Learning, Data Science, Education, St...</td>\n",
       "      <td>128661</td>\n",
       "      <td>26327</td>\n",
       "    </tr>\n",
       "    <tr>\n",
       "      <th>84</th>\n",
       "      <td>Controlling the Web with Python</td>\n",
       "      <td>2018-03-10 16:16:00+00:00</td>\n",
       "      <td>9</td>\n",
       "      <td>[Python, Education, Programming, Internet, Tow...</td>\n",
       "      <td>65054</td>\n",
       "      <td>14614</td>\n",
       "    </tr>\n",
       "    <tr>\n",
       "      <th>75</th>\n",
       "      <td>Introduction to Bayesian Linear Regression</td>\n",
       "      <td>2018-04-13 20:38:00+00:00</td>\n",
       "      <td>10</td>\n",
       "      <td>[Data Science, Education, Statistics, Learning...</td>\n",
       "      <td>58471</td>\n",
       "      <td>19805</td>\n",
       "    </tr>\n",
       "    <tr>\n",
       "      <th>65</th>\n",
       "      <td>Web Scraping, Regular Expressions, and Data Vi...</td>\n",
       "      <td>2018-04-28 15:27:00+00:00</td>\n",
       "      <td>7</td>\n",
       "      <td>[Data Science, Programming, Education, Compute...</td>\n",
       "      <td>68317</td>\n",
       "      <td>21607</td>\n",
       "    </tr>\n",
       "    <tr>\n",
       "      <th>69</th>\n",
       "      <td>A Complete Machine Learning Project Walk-Throu...</td>\n",
       "      <td>2018-05-16 12:33:00+00:00</td>\n",
       "      <td>15</td>\n",
       "      <td>[Machine Learning, Education, Data Science, Py...</td>\n",
       "      <td>124970</td>\n",
       "      <td>23587</td>\n",
       "    </tr>\n",
       "    <tr>\n",
       "      <th>62</th>\n",
       "      <td>Machine Learning Kaggle Competition Part One: ...</td>\n",
       "      <td>2018-05-28 11:39:00+00:00</td>\n",
       "      <td>12</td>\n",
       "      <td>[Data Science, Machine Learning, Towards Data ...</td>\n",
       "      <td>43577</td>\n",
       "      <td>10398</td>\n",
       "    </tr>\n",
       "    <tr>\n",
       "      <th>66</th>\n",
       "      <td>Automated Feature Engineering in Python</td>\n",
       "      <td>2018-06-02 10:01:00+00:00</td>\n",
       "      <td>11</td>\n",
       "      <td>[Machine Learning, Towards Data Science, Data ...</td>\n",
       "      <td>114762</td>\n",
       "      <td>25139</td>\n",
       "    </tr>\n",
       "    <tr>\n",
       "      <th>63</th>\n",
       "      <td>A Feature Selection Tool for Machine Learning ...</td>\n",
       "      <td>2018-06-22 10:12:00+00:00</td>\n",
       "      <td>10</td>\n",
       "      <td>[Machine Learning, Python, Education, Programm...</td>\n",
       "      <td>80618</td>\n",
       "      <td>20592</td>\n",
       "    </tr>\n",
       "    <tr>\n",
       "      <th>19</th>\n",
       "      <td>The Next Level of Data Visualization in Python</td>\n",
       "      <td>2019-01-08 22:09:00+00:00</td>\n",
       "      <td>8</td>\n",
       "      <td>[Data Science, Data Visualization, Python, Edu...</td>\n",
       "      <td>71225</td>\n",
       "      <td>24002</td>\n",
       "    </tr>\n",
       "  </tbody>\n",
       "</table>\n",
       "</div>"
      ],
      "text/plain": [
       "                                                 title  \\\n",
       "100                         Stock Prediction in Python   \n",
       "88          Python is the Perfect Tool for any Problem   \n",
       "89                  Markov Chain Monte Carlo in Python   \n",
       "83                                 Bayes’ Rule Applied   \n",
       "82               Beyond Accuracy: Precision and Recall   \n",
       "84                     Controlling the Web with Python   \n",
       "75          Introduction to Bayesian Linear Regression   \n",
       "65   Web Scraping, Regular Expressions, and Data Vi...   \n",
       "69   A Complete Machine Learning Project Walk-Throu...   \n",
       "62   Machine Learning Kaggle Competition Part One: ...   \n",
       "66             Automated Feature Engineering in Python   \n",
       "63   A Feature Selection Tool for Machine Learning ...   \n",
       "19      The Next Level of Data Visualization in Python   \n",
       "\n",
       "               published_date  read_time  \\\n",
       "100 2018-01-19 15:30:00+00:00         12   \n",
       "88  2018-02-04 09:12:00+00:00          3   \n",
       "89  2018-02-09 22:29:00+00:00         12   \n",
       "83  2018-02-14 11:27:00+00:00          9   \n",
       "82  2018-03-03 11:10:00+00:00         11   \n",
       "84  2018-03-10 16:16:00+00:00          9   \n",
       "75  2018-04-13 20:38:00+00:00         10   \n",
       "65  2018-04-28 15:27:00+00:00          7   \n",
       "69  2018-05-16 12:33:00+00:00         15   \n",
       "62  2018-05-28 11:39:00+00:00         12   \n",
       "66  2018-06-02 10:01:00+00:00         11   \n",
       "63  2018-06-22 10:12:00+00:00         10   \n",
       "19  2019-01-08 22:09:00+00:00          8   \n",
       "\n",
       "                                                  tags   views  reads  \n",
       "100  [Machine Learning, Data Science, Programming, ...  134699  41978  \n",
       "88   [Python, Programming, Education, Data Science,...   48157  30099  \n",
       "89   [Machine Learning, Data Science, Programming, ...   57830  16735  \n",
       "83   [Statistics, Programming, Education, Data Anal...   35505  11491  \n",
       "82   [Machine Learning, Data Science, Education, St...  128661  26327  \n",
       "84   [Python, Education, Programming, Internet, Tow...   65054  14614  \n",
       "75   [Data Science, Education, Statistics, Learning...   58471  19805  \n",
       "65   [Data Science, Programming, Education, Compute...   68317  21607  \n",
       "69   [Machine Learning, Education, Data Science, Py...  124970  23587  \n",
       "62   [Data Science, Machine Learning, Towards Data ...   43577  10398  \n",
       "66   [Machine Learning, Towards Data Science, Data ...  114762  25139  \n",
       "63   [Machine Learning, Python, Education, Programm...   80618  20592  \n",
       "19   [Data Science, Data Visualization, Python, Edu...   71225  24002  "
      ]
     },
     "metadata": {},
     "output_type": "display_data"
    },
    {
     "data": {
      "application/vnd.jupyter.widget-view+json": {
       "model_id": "a6cc90b5603f4ec2b0938e6dbcf5e96a",
       "version_major": 2,
       "version_minor": 0
      },
      "text/plain": [
       "interactive(children=(Text(value='claps', description='column'), IntSlider(value=5000, description='x', max=15…"
      ]
     },
     "metadata": {},
     "output_type": "display_data"
    }
   ],
   "source": [
    "@interact\n",
    "def show_articles_more_than(column='claps', x=5000):\n",
    "    display(HTML(f'<h2>Showing articles with more than {x} {column}<h2>'))\n",
    "    display(df.loc[df[column] > x, ['title', 'published_date', 'read_time', 'tags', 'views', 'reads']])"
   ]
  },
  {
   "cell_type": "markdown",
   "metadata": {},
   "source": [
    "The `interact` decorator automatically inferred we want a `text` box for the `column` and an `int` slider for `x`! This makes it incredibly simple to add interactivity. We can also set the options how we want."
   ]
  },
  {
   "cell_type": "code",
   "execution_count": 18,
   "metadata": {
    "ExecuteTime": {
     "end_time": "2019-02-11T21:59:18.251039Z",
     "start_time": "2019-02-11T21:59:18.147133Z"
    }
   },
   "outputs": [
    {
     "data": {
      "text/html": [
       "<div>\n",
       "<style scoped>\n",
       "    .dataframe tbody tr th:only-of-type {\n",
       "        vertical-align: middle;\n",
       "    }\n",
       "\n",
       "    .dataframe tbody tr th {\n",
       "        vertical-align: top;\n",
       "    }\n",
       "\n",
       "    .dataframe thead th {\n",
       "        text-align: right;\n",
       "    }\n",
       "</style>\n",
       "<table border=\"1\" class=\"dataframe\">\n",
       "  <thead>\n",
       "    <tr style=\"text-align: right;\">\n",
       "      <th></th>\n",
       "      <th>title</th>\n",
       "      <th>published_date</th>\n",
       "      <th>read_time</th>\n",
       "      <th>tags</th>\n",
       "      <th>views</th>\n",
       "      <th>reads</th>\n",
       "    </tr>\n",
       "  </thead>\n",
       "  <tbody>\n",
       "    <tr>\n",
       "      <th>110</th>\n",
       "      <td>Random Forest in Python</td>\n",
       "      <td>2017-12-27 11:20:00+00:00</td>\n",
       "      <td>21</td>\n",
       "      <td>[Machine Learning, Data Science, Random Forest...</td>\n",
       "      <td>173714</td>\n",
       "      <td>30709</td>\n",
       "    </tr>\n",
       "    <tr>\n",
       "      <th>104</th>\n",
       "      <td>Time Series Analysis in Python: An Introduction</td>\n",
       "      <td>2018-01-12 20:48:00+00:00</td>\n",
       "      <td>14</td>\n",
       "      <td>[Data Science, Data, Programming, Python, Towa...</td>\n",
       "      <td>130417</td>\n",
       "      <td>32752</td>\n",
       "    </tr>\n",
       "    <tr>\n",
       "      <th>100</th>\n",
       "      <td>Stock Prediction in Python</td>\n",
       "      <td>2018-01-19 15:30:00+00:00</td>\n",
       "      <td>12</td>\n",
       "      <td>[Machine Learning, Data Science, Programming, ...</td>\n",
       "      <td>134699</td>\n",
       "      <td>41978</td>\n",
       "    </tr>\n",
       "    <tr>\n",
       "      <th>98</th>\n",
       "      <td>How to Master New Skills</td>\n",
       "      <td>2018-01-31 11:41:00+00:00</td>\n",
       "      <td>6</td>\n",
       "      <td>[Data Science, Education, Programming, Space, ...</td>\n",
       "      <td>15370</td>\n",
       "      <td>7282</td>\n",
       "    </tr>\n",
       "    <tr>\n",
       "      <th>93</th>\n",
       "      <td>Statistical Significance Explained</td>\n",
       "      <td>2018-02-02 09:26:00+00:00</td>\n",
       "      <td>10</td>\n",
       "      <td>[Data Science, Hypothesis Testing, P Value, St...</td>\n",
       "      <td>50691</td>\n",
       "      <td>15106</td>\n",
       "    </tr>\n",
       "    <tr>\n",
       "      <th>88</th>\n",
       "      <td>Python is the Perfect Tool for any Problem</td>\n",
       "      <td>2018-02-04 09:12:00+00:00</td>\n",
       "      <td>3</td>\n",
       "      <td>[Python, Programming, Education, Data Science,...</td>\n",
       "      <td>48157</td>\n",
       "      <td>30099</td>\n",
       "    </tr>\n",
       "    <tr>\n",
       "      <th>89</th>\n",
       "      <td>Markov Chain Monte Carlo in Python</td>\n",
       "      <td>2018-02-09 22:29:00+00:00</td>\n",
       "      <td>12</td>\n",
       "      <td>[Machine Learning, Data Science, Programming, ...</td>\n",
       "      <td>57830</td>\n",
       "      <td>16735</td>\n",
       "    </tr>\n",
       "    <tr>\n",
       "      <th>83</th>\n",
       "      <td>Bayes’ Rule Applied</td>\n",
       "      <td>2018-02-14 11:27:00+00:00</td>\n",
       "      <td>9</td>\n",
       "      <td>[Statistics, Programming, Education, Data Anal...</td>\n",
       "      <td>35505</td>\n",
       "      <td>11491</td>\n",
       "    </tr>\n",
       "    <tr>\n",
       "      <th>82</th>\n",
       "      <td>Beyond Accuracy: Precision and Recall</td>\n",
       "      <td>2018-03-03 11:10:00+00:00</td>\n",
       "      <td>11</td>\n",
       "      <td>[Machine Learning, Data Science, Education, St...</td>\n",
       "      <td>128661</td>\n",
       "      <td>26327</td>\n",
       "    </tr>\n",
       "    <tr>\n",
       "      <th>84</th>\n",
       "      <td>Controlling the Web with Python</td>\n",
       "      <td>2018-03-10 16:16:00+00:00</td>\n",
       "      <td>9</td>\n",
       "      <td>[Python, Education, Programming, Internet, Tow...</td>\n",
       "      <td>65054</td>\n",
       "      <td>14614</td>\n",
       "    </tr>\n",
       "    <tr>\n",
       "      <th>75</th>\n",
       "      <td>Introduction to Bayesian Linear Regression</td>\n",
       "      <td>2018-04-13 20:38:00+00:00</td>\n",
       "      <td>10</td>\n",
       "      <td>[Data Science, Education, Statistics, Learning...</td>\n",
       "      <td>58471</td>\n",
       "      <td>19805</td>\n",
       "    </tr>\n",
       "    <tr>\n",
       "      <th>65</th>\n",
       "      <td>Web Scraping, Regular Expressions, and Data Vi...</td>\n",
       "      <td>2018-04-28 15:27:00+00:00</td>\n",
       "      <td>7</td>\n",
       "      <td>[Data Science, Programming, Education, Compute...</td>\n",
       "      <td>68317</td>\n",
       "      <td>21607</td>\n",
       "    </tr>\n",
       "    <tr>\n",
       "      <th>69</th>\n",
       "      <td>A Complete Machine Learning Project Walk-Throu...</td>\n",
       "      <td>2018-05-16 12:33:00+00:00</td>\n",
       "      <td>15</td>\n",
       "      <td>[Machine Learning, Education, Data Science, Py...</td>\n",
       "      <td>124970</td>\n",
       "      <td>23587</td>\n",
       "    </tr>\n",
       "    <tr>\n",
       "      <th>67</th>\n",
       "      <td>A Complete Machine Learning Walk-Through in Py...</td>\n",
       "      <td>2018-05-17 09:34:00+00:00</td>\n",
       "      <td>13</td>\n",
       "      <td>[Machine Learning, Education, Towards Data Sci...</td>\n",
       "      <td>46238</td>\n",
       "      <td>9629</td>\n",
       "    </tr>\n",
       "    <tr>\n",
       "      <th>77</th>\n",
       "      <td>Automated Machine Learning on the Cloud in Python</td>\n",
       "      <td>2018-05-21 14:16:00+00:00</td>\n",
       "      <td>9</td>\n",
       "      <td>[Machine Learning, Towards Data Science, Data ...</td>\n",
       "      <td>33761</td>\n",
       "      <td>8467</td>\n",
       "    </tr>\n",
       "    <tr>\n",
       "      <th>62</th>\n",
       "      <td>Machine Learning Kaggle Competition Part One: ...</td>\n",
       "      <td>2018-05-28 11:39:00+00:00</td>\n",
       "      <td>12</td>\n",
       "      <td>[Data Science, Machine Learning, Towards Data ...</td>\n",
       "      <td>43577</td>\n",
       "      <td>10398</td>\n",
       "    </tr>\n",
       "    <tr>\n",
       "      <th>66</th>\n",
       "      <td>Automated Feature Engineering in Python</td>\n",
       "      <td>2018-06-02 10:01:00+00:00</td>\n",
       "      <td>11</td>\n",
       "      <td>[Machine Learning, Towards Data Science, Data ...</td>\n",
       "      <td>114762</td>\n",
       "      <td>25139</td>\n",
       "    </tr>\n",
       "    <tr>\n",
       "      <th>63</th>\n",
       "      <td>A Feature Selection Tool for Machine Learning ...</td>\n",
       "      <td>2018-06-22 10:12:00+00:00</td>\n",
       "      <td>10</td>\n",
       "      <td>[Machine Learning, Python, Education, Programm...</td>\n",
       "      <td>80618</td>\n",
       "      <td>20592</td>\n",
       "    </tr>\n",
       "    <tr>\n",
       "      <th>60</th>\n",
       "      <td>Why Automated Feature Engineering Will Change ...</td>\n",
       "      <td>2018-08-09 09:04:00+00:00</td>\n",
       "      <td>11</td>\n",
       "      <td>[Machine Learning, Data Science, Towards Data ...</td>\n",
       "      <td>29190</td>\n",
       "      <td>7077</td>\n",
       "    </tr>\n",
       "    <tr>\n",
       "      <th>51</th>\n",
       "      <td>The most important part of a data science proj...</td>\n",
       "      <td>2018-08-11 05:53:00+00:00</td>\n",
       "      <td>8</td>\n",
       "      <td>[Data Science, Education, Towards Data Science...</td>\n",
       "      <td>18228</td>\n",
       "      <td>5924</td>\n",
       "    </tr>\n",
       "    <tr>\n",
       "      <th>54</th>\n",
       "      <td>A “Data Science for Good“ Machine Learning Pro...</td>\n",
       "      <td>2018-08-20 09:48:00+00:00</td>\n",
       "      <td>17</td>\n",
       "      <td>[Machine Learning, Data Science, Education, Py...</td>\n",
       "      <td>44201</td>\n",
       "      <td>7398</td>\n",
       "    </tr>\n",
       "    <tr>\n",
       "      <th>50</th>\n",
       "      <td>Another Machine Learning Walk-Through and a Ch...</td>\n",
       "      <td>2018-09-10 09:26:00+00:00</td>\n",
       "      <td>15</td>\n",
       "      <td>[Machine Learning, Data Science, Python, Towar...</td>\n",
       "      <td>24975</td>\n",
       "      <td>4714</td>\n",
       "    </tr>\n",
       "    <tr>\n",
       "      <th>41</th>\n",
       "      <td>Wikipedia Data Science: Working with the World...</td>\n",
       "      <td>2018-09-23 10:26:00+00:00</td>\n",
       "      <td>17</td>\n",
       "      <td>[Programming, Data Science, Education, Towards...</td>\n",
       "      <td>24517</td>\n",
       "      <td>4462</td>\n",
       "    </tr>\n",
       "    <tr>\n",
       "      <th>38</th>\n",
       "      <td>My Weaknesses as a Data Scientist</td>\n",
       "      <td>2018-10-26 15:32:00+00:00</td>\n",
       "      <td>11</td>\n",
       "      <td>[Data Science, Education, Learning, Writing, T...</td>\n",
       "      <td>33755</td>\n",
       "      <td>9583</td>\n",
       "    </tr>\n",
       "    <tr>\n",
       "      <th>25</th>\n",
       "      <td>Jupyter Notebook Extensions</td>\n",
       "      <td>2018-12-07 16:16:00+00:00</td>\n",
       "      <td>5</td>\n",
       "      <td>[Data Science, Programming, Towards Data Scien...</td>\n",
       "      <td>26603</td>\n",
       "      <td>11925</td>\n",
       "    </tr>\n",
       "    <tr>\n",
       "      <th>19</th>\n",
       "      <td>The Next Level of Data Visualization in Python</td>\n",
       "      <td>2019-01-08 22:09:00+00:00</td>\n",
       "      <td>8</td>\n",
       "      <td>[Data Science, Data Visualization, Python, Edu...</td>\n",
       "      <td>71225</td>\n",
       "      <td>24002</td>\n",
       "    </tr>\n",
       "  </tbody>\n",
       "</table>\n",
       "</div>"
      ],
      "text/plain": [
       "                                                 title  \\\n",
       "110                            Random Forest in Python   \n",
       "104    Time Series Analysis in Python: An Introduction   \n",
       "100                         Stock Prediction in Python   \n",
       "98                            How to Master New Skills   \n",
       "93                  Statistical Significance Explained   \n",
       "88          Python is the Perfect Tool for any Problem   \n",
       "89                  Markov Chain Monte Carlo in Python   \n",
       "83                                 Bayes’ Rule Applied   \n",
       "82               Beyond Accuracy: Precision and Recall   \n",
       "84                     Controlling the Web with Python   \n",
       "75          Introduction to Bayesian Linear Regression   \n",
       "65   Web Scraping, Regular Expressions, and Data Vi...   \n",
       "69   A Complete Machine Learning Project Walk-Throu...   \n",
       "67   A Complete Machine Learning Walk-Through in Py...   \n",
       "77   Automated Machine Learning on the Cloud in Python   \n",
       "62   Machine Learning Kaggle Competition Part One: ...   \n",
       "66             Automated Feature Engineering in Python   \n",
       "63   A Feature Selection Tool for Machine Learning ...   \n",
       "60   Why Automated Feature Engineering Will Change ...   \n",
       "51   The most important part of a data science proj...   \n",
       "54   A “Data Science for Good“ Machine Learning Pro...   \n",
       "50   Another Machine Learning Walk-Through and a Ch...   \n",
       "41   Wikipedia Data Science: Working with the World...   \n",
       "38                   My Weaknesses as a Data Scientist   \n",
       "25                         Jupyter Notebook Extensions   \n",
       "19      The Next Level of Data Visualization in Python   \n",
       "\n",
       "               published_date  read_time  \\\n",
       "110 2017-12-27 11:20:00+00:00         21   \n",
       "104 2018-01-12 20:48:00+00:00         14   \n",
       "100 2018-01-19 15:30:00+00:00         12   \n",
       "98  2018-01-31 11:41:00+00:00          6   \n",
       "93  2018-02-02 09:26:00+00:00         10   \n",
       "88  2018-02-04 09:12:00+00:00          3   \n",
       "89  2018-02-09 22:29:00+00:00         12   \n",
       "83  2018-02-14 11:27:00+00:00          9   \n",
       "82  2018-03-03 11:10:00+00:00         11   \n",
       "84  2018-03-10 16:16:00+00:00          9   \n",
       "75  2018-04-13 20:38:00+00:00         10   \n",
       "65  2018-04-28 15:27:00+00:00          7   \n",
       "69  2018-05-16 12:33:00+00:00         15   \n",
       "67  2018-05-17 09:34:00+00:00         13   \n",
       "77  2018-05-21 14:16:00+00:00          9   \n",
       "62  2018-05-28 11:39:00+00:00         12   \n",
       "66  2018-06-02 10:01:00+00:00         11   \n",
       "63  2018-06-22 10:12:00+00:00         10   \n",
       "60  2018-08-09 09:04:00+00:00         11   \n",
       "51  2018-08-11 05:53:00+00:00          8   \n",
       "54  2018-08-20 09:48:00+00:00         17   \n",
       "50  2018-09-10 09:26:00+00:00         15   \n",
       "41  2018-09-23 10:26:00+00:00         17   \n",
       "38  2018-10-26 15:32:00+00:00         11   \n",
       "25  2018-12-07 16:16:00+00:00          5   \n",
       "19  2019-01-08 22:09:00+00:00          8   \n",
       "\n",
       "                                                  tags   views  reads  \n",
       "110  [Machine Learning, Data Science, Random Forest...  173714  30709  \n",
       "104  [Data Science, Data, Programming, Python, Towa...  130417  32752  \n",
       "100  [Machine Learning, Data Science, Programming, ...  134699  41978  \n",
       "98   [Data Science, Education, Programming, Space, ...   15370   7282  \n",
       "93   [Data Science, Hypothesis Testing, P Value, St...   50691  15106  \n",
       "88   [Python, Programming, Education, Data Science,...   48157  30099  \n",
       "89   [Machine Learning, Data Science, Programming, ...   57830  16735  \n",
       "83   [Statistics, Programming, Education, Data Anal...   35505  11491  \n",
       "82   [Machine Learning, Data Science, Education, St...  128661  26327  \n",
       "84   [Python, Education, Programming, Internet, Tow...   65054  14614  \n",
       "75   [Data Science, Education, Statistics, Learning...   58471  19805  \n",
       "65   [Data Science, Programming, Education, Compute...   68317  21607  \n",
       "69   [Machine Learning, Education, Data Science, Py...  124970  23587  \n",
       "67   [Machine Learning, Education, Towards Data Sci...   46238   9629  \n",
       "77   [Machine Learning, Towards Data Science, Data ...   33761   8467  \n",
       "62   [Data Science, Machine Learning, Towards Data ...   43577  10398  \n",
       "66   [Machine Learning, Towards Data Science, Data ...  114762  25139  \n",
       "63   [Machine Learning, Python, Education, Programm...   80618  20592  \n",
       "60   [Machine Learning, Data Science, Towards Data ...   29190   7077  \n",
       "51   [Data Science, Education, Towards Data Science...   18228   5924  \n",
       "54   [Machine Learning, Data Science, Education, Py...   44201   7398  \n",
       "50   [Machine Learning, Data Science, Python, Towar...   24975   4714  \n",
       "41   [Programming, Data Science, Education, Towards...   24517   4462  \n",
       "38   [Data Science, Education, Learning, Writing, T...   33755   9583  \n",
       "25   [Data Science, Programming, Towards Data Scien...   26603  11925  \n",
       "19   [Data Science, Data Visualization, Python, Edu...   71225  24002  "
      ]
     },
     "metadata": {},
     "output_type": "display_data"
    },
    {
     "data": {
      "application/vnd.jupyter.widget-view+json": {
       "model_id": "61d86cba2a0e414a9cada45e8a38ffad",
       "version_major": 2,
       "version_minor": 0
      },
      "text/plain": [
       "interactive(children=(IntSlider(value=3000, description='x', max=5000, min=1000, step=100), Dropdown(descripti…"
      ]
     },
     "metadata": {},
     "output_type": "display_data"
    }
   ],
   "source": [
    "@interact\n",
    "def show_titles_more_than(x=(1000, 5000, 100),\n",
    "                          column=list(df.select_dtypes('number').columns), \n",
    "                          ):\n",
    "    # display(HTML(f'<h2>Showing articles with more than {x} {column}<h2>'))\n",
    "    display(df.loc[df[column] > x, ['title', 'published_date', 'read_time', 'tags', 'views', 'reads']])"
   ]
  },
  {
   "cell_type": "markdown",
   "metadata": {},
   "source": [
    "This now gives us a `dropdown` for the `column` selection and still an `int` slider for `x`, but with limits. This can be useful when we need to enforce certains constraints on the interaction."
   ]
  },
  {
   "cell_type": "markdown",
   "metadata": {},
   "source": [
    "# Image Explorer\n",
    "\n",
    "Let's see another quick example of creating an interactive function. This one allows us to display images from a folder."
   ]
  },
  {
   "cell_type": "code",
   "execution_count": 19,
   "metadata": {
    "ExecuteTime": {
     "end_time": "2019-02-11T21:59:18.359381Z",
     "start_time": "2019-02-11T21:59:18.253803Z"
    }
   },
   "outputs": [
    {
     "ename": "FileNotFoundError",
     "evalue": "[Errno 2] No such file or directory: 'nature/'",
     "output_type": "error",
     "traceback": [
      "\u001b[0;31m---------------------------------------------------------------------------\u001b[0m",
      "\u001b[0;31mFileNotFoundError\u001b[0m                         Traceback (most recent call last)",
      "Cell \u001b[0;32mIn[19], line 4\u001b[0m\n\u001b[1;32m      1\u001b[0m fdir \u001b[38;5;241m=\u001b[39m \u001b[38;5;124m'\u001b[39m\u001b[38;5;124mnature/\u001b[39m\u001b[38;5;124m'\u001b[39m\n\u001b[1;32m      3\u001b[0m \u001b[38;5;129m@interact\u001b[39m\n\u001b[0;32m----> 4\u001b[0m \u001b[38;5;28;01mdef\u001b[39;00m \u001b[38;5;21mshow_images\u001b[39m(file\u001b[38;5;241m=\u001b[39m\u001b[43mos\u001b[49m\u001b[38;5;241;43m.\u001b[39;49m\u001b[43mlistdir\u001b[49m\u001b[43m(\u001b[49m\u001b[43mfdir\u001b[49m\u001b[43m)\u001b[49m):\n\u001b[1;32m      5\u001b[0m     display(Image(fdir\u001b[38;5;241m+\u001b[39mfile))\n",
      "\u001b[0;31mFileNotFoundError\u001b[0m: [Errno 2] No such file or directory: 'nature/'"
     ]
    }
   ],
   "source": [
    "fdir = 'nature/'\n",
    "\n",
    "@interact\n",
    "def show_images(file=os.listdir(fdir)):\n",
    "    display(Image(fdir+file))"
   ]
  },
  {
   "cell_type": "markdown",
   "metadata": {},
   "source": [
    "You could use this for example if you have a training set of images that you'd quickly like to run through."
   ]
  },
  {
   "cell_type": "markdown",
   "metadata": {},
   "source": [
    "# File Browser\n",
    "\n",
    "We can do a similar operation to create a very basic file browser. Instead of having to manually run the command every time, we just can use this function to look through our files."
   ]
  },
  {
   "cell_type": "code",
   "execution_count": 10,
   "metadata": {
    "ExecuteTime": {
     "end_time": "2019-02-11T21:59:18.526419Z",
     "start_time": "2019-02-11T21:59:18.361052Z"
    }
   },
   "outputs": [
    {
     "name": "stdout",
     "output_type": "stream",
     "text": [
      "total 23368\n",
      "drwxr-xr-x  26 williamkoehrsen  staff      832 Jan 26 10:09 \u001b[34mnature\u001b[m\u001b[m\n",
      "drwxr-xr-x  42 williamkoehrsen  staff     1344 Jan 26 10:35 \u001b[34mimages\u001b[m\u001b[m\n",
      "drwxr-xr-x  18 williamkoehrsen  staff      576 Jan 27 09:55 \u001b[34massorted\u001b[m\u001b[m\n",
      "-rw-r--r--   1 williamkoehrsen  staff  5978832 Jan 27 17:02 Widgets Overview-Extended Work.ipynb\n",
      "drwxr-xr-x   4 williamkoehrsen  staff      128 Jan 27 17:30 \u001b[34m.ipynb_checkpoints\u001b[m\u001b[m\n",
      "-rw-r--r--@  1 williamkoehrsen  staff     8196 Jan 28 09:03 .DS_Store\n",
      "drwxr-xr-x  38 williamkoehrsen  staff     1216 Feb 11 09:20 \u001b[34m..\u001b[m\u001b[m\n",
      "-rw-r--r--   1 williamkoehrsen  staff  5968304 Feb 11 16:59 Widgets-Overview.ipynb\n",
      "drwxr-xr-x   9 williamkoehrsen  staff      288 Feb 11 16:59 \u001b[34m.\u001b[m\u001b[m\n"
     ]
    }
   ],
   "source": [
    "!ls -a -t -r -l"
   ]
  },
  {
   "cell_type": "code",
   "execution_count": 11,
   "metadata": {
    "ExecuteTime": {
     "end_time": "2019-02-11T21:59:18.608223Z",
     "start_time": "2019-02-11T21:59:18.528880Z"
    }
   },
   "outputs": [
    {
     "data": {
      "application/vnd.jupyter.widget-view+json": {
       "model_id": "4a2c8e4c49cd4428b116b44f9b5812ef",
       "version_major": 2,
       "version_minor": 0
      },
      "text/plain": [
       "interactive(children=(Dropdown(description='dir', options=('additive_models', 'statistics', 'recall_precision'…"
      ]
     },
     "metadata": {},
     "output_type": "display_data"
    }
   ],
   "source": [
    "import subprocess\n",
    "import pprint\n",
    "\n",
    "root_dir = '../'\n",
    "dirs = [d for d in os.listdir(root_dir) if not '.' in d]\n",
    "\n",
    "@interact\n",
    "def show_dir(dir=dirs):\n",
    "    x = subprocess.check_output(f\"cd {root_dir}{dir} && ls -a -t -r -l -h\", shell=True).decode()\n",
    "    print(x)"
   ]
  },
  {
   "cell_type": "markdown",
   "metadata": {},
   "source": [
    "# Dataframe Explorer\n",
    "\n",
    "Let's look at a few more examples of using widgets to explore data. Here we create a widget that quickly lets us find correlations between columns."
   ]
  },
  {
   "cell_type": "code",
   "execution_count": 20,
   "metadata": {
    "ExecuteTime": {
     "end_time": "2019-02-11T21:59:18.682329Z",
     "start_time": "2019-02-11T21:59:18.610843Z"
    }
   },
   "outputs": [
    {
     "name": "stdout",
     "output_type": "stream",
     "text": [
      "Correlation: 1.0\n"
     ]
    },
    {
     "data": {
      "application/vnd.jupyter.widget-view+json": {
       "model_id": "6289e492072a41548ac8fae40097374a",
       "version_major": 2,
       "version_minor": 0
      },
      "text/plain": [
       "interactive(children=(Dropdown(description='column1', options=('claps', 'days_since_publication', 'fans', 'num…"
      ]
     },
     "metadata": {},
     "output_type": "display_data"
    }
   ],
   "source": [
    "@interact\n",
    "def correlations(column1=list(df.select_dtypes('number').columns), \n",
    "                 column2=list(df.select_dtypes('number').columns)):\n",
    "    print(f\"Correlation: {df[column1].corr(df[column2])}\")"
   ]
  },
  {
   "cell_type": "markdown",
   "metadata": {},
   "source": [
    "Here's one to describe a specific column."
   ]
  },
  {
   "cell_type": "code",
   "execution_count": 21,
   "metadata": {
    "ExecuteTime": {
     "end_time": "2019-02-11T21:59:18.734969Z",
     "start_time": "2019-02-11T21:59:18.683939Z"
    }
   },
   "outputs": [
    {
     "name": "stdout",
     "output_type": "stream",
     "text": [
      "count      133.000000\n",
      "mean      1815.263158\n",
      "std       2449.074661\n",
      "min          0.000000\n",
      "25%        121.000000\n",
      "50%        815.000000\n",
      "75%       2700.000000\n",
      "max      13600.000000\n",
      "Name: claps, dtype: float64\n"
     ]
    },
    {
     "data": {
      "application/vnd.jupyter.widget-view+json": {
       "model_id": "3ad941eda4aa4cdbbaf2308a28e3829a",
       "version_major": 2,
       "version_minor": 0
      },
      "text/plain": [
       "interactive(children=(Dropdown(description='column', options=('claps', 'days_since_publication', 'fans', 'link…"
      ]
     },
     "metadata": {},
     "output_type": "display_data"
    }
   ],
   "source": [
    "@interact\n",
    "def describe(column=list(df.columns)):\n",
    "    print(df[column].describe())"
   ]
  },
  {
   "cell_type": "markdown",
   "metadata": {},
   "source": [
    "# Interactive Widgets for Plots\n",
    "\n",
    "We can use the same basic approach to create interactive widgets for plots. This expands the capabilities of the already powerful plotly visualization library."
   ]
  },
  {
   "cell_type": "code",
   "execution_count": 22,
   "metadata": {
    "ExecuteTime": {
     "end_time": "2019-02-11T21:59:19.742380Z",
     "start_time": "2019-02-11T21:59:18.736434Z"
    }
   },
   "outputs": [
    {
     "data": {
      "application/vnd.plotly.v1+json": {
       "config": {
        "linkText": "Export to plot.ly",
        "plotlyServerURL": "https://plot.ly",
        "showLink": true
       },
       "data": [
        {
         "line": {
          "color": "rgba(31, 119, 180, 1.0)",
          "dash": "solid",
          "shape": "linear",
          "width": 1.3
         },
         "marker": {
          "size": 12,
          "symbol": "circle"
         },
         "mode": "markers",
         "name": "days_since_publication",
         "text": "",
         "type": "scatter",
         "x": [
          2,
          18,
          51,
          0,
          0,
          0,
          73,
          240,
          2,
          0,
          704,
          58,
          5,
          7,
          87,
          23,
          5,
          167,
          8,
          17,
          9,
          4900,
          3000,
          72,
          123,
          865,
          186,
          11,
          120,
          2100,
          4100,
          59,
          2800,
          82,
          21,
          7300,
          1200,
          285,
          1600,
          1600,
          1100,
          4300,
          4970,
          12900,
          225,
          5100,
          101,
          6000,
          647,
          977,
          7000,
          7000,
          2700,
          1100,
          3000,
          2600,
          2900,
          5500,
          1300,
          1000,
          8000,
          363,
          13600,
          4100,
          2200,
          3900,
          6400,
          8500,
          1300,
          5500,
          2400,
          2800,
          2400,
          715,
          717,
          3300,
          4400,
          844,
          906,
          3800,
          662,
          658,
          1100,
          2900,
          3100,
          797,
          246,
          3400,
          347,
          2600,
          981,
          2100,
          966,
          3300,
          710,
          2500,
          815,
          755,
          603,
          940,
          2300,
          1400,
          787,
          2800,
          2100,
          3800,
          547,
          856,
          1000,
          205,
          730,
          121,
          418,
          31,
          0,
          24,
          5,
          0,
          6,
          0,
          539,
          730,
          582,
          453,
          626,
          386,
          7600,
          1800,
          370,
          315,
          2000,
          53,
          901
         ],
         "y": [
          597.3011234928935,
          589.9831678934722,
          577.3632923185879,
          576.5206880427894,
          572.5330352605787,
          558.0200849386921,
          552.1556248098611,
          550.0150101095486,
          547.1585928973843,
          545.3034809904862,
          539.3015251376505,
          538.3616333815626,
          538.3616308881944,
          536.0693024557986,
          534.2649433761227,
          534.1913703218287,
          531.3165667823959,
          526.1891594631713,
          524.2700156780787,
          493.27377432550924,
          408.4711316033102,
          397.4293953507986,
          397.4277877258797,
          395.11609148437503,
          392.3287214495833,
          387.0576305824537,
          386.0425008728935,
          385.4954133210764,
          385.1945411716667,
          383.9926222874884,
          381.0352299594097,
          380.49090689327545,
          376.26001103743056,
          376.08059837900464,
          375.5302295332639,
          374.25597562319444,
          374.057076269838,
          371.30287774083337,
          369.1330005642593,
          366.05627657653935,
          365.5400972110185,
          362.41502231988426,
          360.50850330781253,
          358.51825893546294,
          355.52055696855325,
          352.9647862130903,
          351.1118723947454,
          348.4246294948727,
          342.3672663808449,
          338.5035495385648,
          331.4365996720949,
          324.2237845179977,
          317.4644109924653,
          314.49385861916664,
          311.37095904774304,
          303.5431680369791,
          297.31014599925925,
          290.0418619020949,
          283.33863078045135,
          283.33590105774306,
          275.2574436720486,
          273.4401389939236,
          257.37869697715274,
          256.5031338793634,
          255.49303694083335,
          252.30707613392363,
          245.41612982315974,
          240.48394241055556,
          223.04379871745368,
          220.4763571140278,
          218.55013955496528,
          214.54560088826392,
          209.44029542083334,
          192.52871201636574,
          186.50202452077545,
          172.5235798258449,
          170.65633337769677,
          165.28853490334492,
          163.07584995606481,
          161.4928592507176,
          161.4909019917708,
          152.1039705243287,
          151.37068348711804,
          147.1741579396412,
          140.50823078605325,
          134.46337733312498,
          134.1546791284375,
          127.46704148513888,
          124.33105608341435,
          119.0234442440625,
          116.35277775572916,
          108.38023233480325,
          103.46704841506943,
          94.25432953921296,
          88.03775204251157,
          85.00553926068287,
          82.47490355932871,
          82.47320225390047,
          77.52644544283565,
          74.5438217130787,
          71.98887388260417,
          71.06999180240742,
          63.34277000334491,
          61.469023250590276,
          58.40827168365741,
          52.2235387972801,
          51.289980235289356,
          50.015705424664354,
          44.37431741674769,
          43.02407055767361,
          42.06569560732639,
          35.0521156375,
          34.25713649174769,
          34.01111164185185,
          34.00981653321759,
          34.009006550671295,
          34.00856147113426,
          34.00809835439815,
          34.007692483854164,
          32.568144913657406,
          32.38009209974537,
          30.417934632164354,
          28.156351569837963,
          26.557568693715275,
          26.506609918437498,
          23.02377654986111,
          19.978734082060186,
          18.266623060266202,
          16.337141827581018,
          12.204313545636573,
          8.215424677094907,
          3.547005433310185,
          1.2186292689930556
         ]
        }
       ],
       "layout": {
        "autosize": true,
        "legend": {
         "bgcolor": "#F5F6F9",
         "font": {
          "color": "#4D5663"
         }
        },
        "paper_bgcolor": "#F5F6F9",
        "plot_bgcolor": "#F5F6F9",
        "template": {
         "data": {
          "bar": [
           {
            "error_x": {
             "color": "#2a3f5f"
            },
            "error_y": {
             "color": "#2a3f5f"
            },
            "marker": {
             "line": {
              "color": "#E5ECF6",
              "width": 0.5
             },
             "pattern": {
              "fillmode": "overlay",
              "size": 10,
              "solidity": 0.2
             }
            },
            "type": "bar"
           }
          ],
          "barpolar": [
           {
            "marker": {
             "line": {
              "color": "#E5ECF6",
              "width": 0.5
             },
             "pattern": {
              "fillmode": "overlay",
              "size": 10,
              "solidity": 0.2
             }
            },
            "type": "barpolar"
           }
          ],
          "carpet": [
           {
            "aaxis": {
             "endlinecolor": "#2a3f5f",
             "gridcolor": "white",
             "linecolor": "white",
             "minorgridcolor": "white",
             "startlinecolor": "#2a3f5f"
            },
            "baxis": {
             "endlinecolor": "#2a3f5f",
             "gridcolor": "white",
             "linecolor": "white",
             "minorgridcolor": "white",
             "startlinecolor": "#2a3f5f"
            },
            "type": "carpet"
           }
          ],
          "choropleth": [
           {
            "colorbar": {
             "outlinewidth": 0,
             "ticks": ""
            },
            "type": "choropleth"
           }
          ],
          "contour": [
           {
            "colorbar": {
             "outlinewidth": 0,
             "ticks": ""
            },
            "colorscale": [
             [
              0,
              "#0d0887"
             ],
             [
              0.1111111111111111,
              "#46039f"
             ],
             [
              0.2222222222222222,
              "#7201a8"
             ],
             [
              0.3333333333333333,
              "#9c179e"
             ],
             [
              0.4444444444444444,
              "#bd3786"
             ],
             [
              0.5555555555555556,
              "#d8576b"
             ],
             [
              0.6666666666666666,
              "#ed7953"
             ],
             [
              0.7777777777777778,
              "#fb9f3a"
             ],
             [
              0.8888888888888888,
              "#fdca26"
             ],
             [
              1,
              "#f0f921"
             ]
            ],
            "type": "contour"
           }
          ],
          "contourcarpet": [
           {
            "colorbar": {
             "outlinewidth": 0,
             "ticks": ""
            },
            "type": "contourcarpet"
           }
          ],
          "heatmap": [
           {
            "colorbar": {
             "outlinewidth": 0,
             "ticks": ""
            },
            "colorscale": [
             [
              0,
              "#0d0887"
             ],
             [
              0.1111111111111111,
              "#46039f"
             ],
             [
              0.2222222222222222,
              "#7201a8"
             ],
             [
              0.3333333333333333,
              "#9c179e"
             ],
             [
              0.4444444444444444,
              "#bd3786"
             ],
             [
              0.5555555555555556,
              "#d8576b"
             ],
             [
              0.6666666666666666,
              "#ed7953"
             ],
             [
              0.7777777777777778,
              "#fb9f3a"
             ],
             [
              0.8888888888888888,
              "#fdca26"
             ],
             [
              1,
              "#f0f921"
             ]
            ],
            "type": "heatmap"
           }
          ],
          "heatmapgl": [
           {
            "colorbar": {
             "outlinewidth": 0,
             "ticks": ""
            },
            "colorscale": [
             [
              0,
              "#0d0887"
             ],
             [
              0.1111111111111111,
              "#46039f"
             ],
             [
              0.2222222222222222,
              "#7201a8"
             ],
             [
              0.3333333333333333,
              "#9c179e"
             ],
             [
              0.4444444444444444,
              "#bd3786"
             ],
             [
              0.5555555555555556,
              "#d8576b"
             ],
             [
              0.6666666666666666,
              "#ed7953"
             ],
             [
              0.7777777777777778,
              "#fb9f3a"
             ],
             [
              0.8888888888888888,
              "#fdca26"
             ],
             [
              1,
              "#f0f921"
             ]
            ],
            "type": "heatmapgl"
           }
          ],
          "histogram": [
           {
            "marker": {
             "pattern": {
              "fillmode": "overlay",
              "size": 10,
              "solidity": 0.2
             }
            },
            "type": "histogram"
           }
          ],
          "histogram2d": [
           {
            "colorbar": {
             "outlinewidth": 0,
             "ticks": ""
            },
            "colorscale": [
             [
              0,
              "#0d0887"
             ],
             [
              0.1111111111111111,
              "#46039f"
             ],
             [
              0.2222222222222222,
              "#7201a8"
             ],
             [
              0.3333333333333333,
              "#9c179e"
             ],
             [
              0.4444444444444444,
              "#bd3786"
             ],
             [
              0.5555555555555556,
              "#d8576b"
             ],
             [
              0.6666666666666666,
              "#ed7953"
             ],
             [
              0.7777777777777778,
              "#fb9f3a"
             ],
             [
              0.8888888888888888,
              "#fdca26"
             ],
             [
              1,
              "#f0f921"
             ]
            ],
            "type": "histogram2d"
           }
          ],
          "histogram2dcontour": [
           {
            "colorbar": {
             "outlinewidth": 0,
             "ticks": ""
            },
            "colorscale": [
             [
              0,
              "#0d0887"
             ],
             [
              0.1111111111111111,
              "#46039f"
             ],
             [
              0.2222222222222222,
              "#7201a8"
             ],
             [
              0.3333333333333333,
              "#9c179e"
             ],
             [
              0.4444444444444444,
              "#bd3786"
             ],
             [
              0.5555555555555556,
              "#d8576b"
             ],
             [
              0.6666666666666666,
              "#ed7953"
             ],
             [
              0.7777777777777778,
              "#fb9f3a"
             ],
             [
              0.8888888888888888,
              "#fdca26"
             ],
             [
              1,
              "#f0f921"
             ]
            ],
            "type": "histogram2dcontour"
           }
          ],
          "mesh3d": [
           {
            "colorbar": {
             "outlinewidth": 0,
             "ticks": ""
            },
            "type": "mesh3d"
           }
          ],
          "parcoords": [
           {
            "line": {
             "colorbar": {
              "outlinewidth": 0,
              "ticks": ""
             }
            },
            "type": "parcoords"
           }
          ],
          "pie": [
           {
            "automargin": true,
            "type": "pie"
           }
          ],
          "scatter": [
           {
            "fillpattern": {
             "fillmode": "overlay",
             "size": 10,
             "solidity": 0.2
            },
            "type": "scatter"
           }
          ],
          "scatter3d": [
           {
            "line": {
             "colorbar": {
              "outlinewidth": 0,
              "ticks": ""
             }
            },
            "marker": {
             "colorbar": {
              "outlinewidth": 0,
              "ticks": ""
             }
            },
            "type": "scatter3d"
           }
          ],
          "scattercarpet": [
           {
            "marker": {
             "colorbar": {
              "outlinewidth": 0,
              "ticks": ""
             }
            },
            "type": "scattercarpet"
           }
          ],
          "scattergeo": [
           {
            "marker": {
             "colorbar": {
              "outlinewidth": 0,
              "ticks": ""
             }
            },
            "type": "scattergeo"
           }
          ],
          "scattergl": [
           {
            "marker": {
             "colorbar": {
              "outlinewidth": 0,
              "ticks": ""
             }
            },
            "type": "scattergl"
           }
          ],
          "scattermapbox": [
           {
            "marker": {
             "colorbar": {
              "outlinewidth": 0,
              "ticks": ""
             }
            },
            "type": "scattermapbox"
           }
          ],
          "scatterpolar": [
           {
            "marker": {
             "colorbar": {
              "outlinewidth": 0,
              "ticks": ""
             }
            },
            "type": "scatterpolar"
           }
          ],
          "scatterpolargl": [
           {
            "marker": {
             "colorbar": {
              "outlinewidth": 0,
              "ticks": ""
             }
            },
            "type": "scatterpolargl"
           }
          ],
          "scatterternary": [
           {
            "marker": {
             "colorbar": {
              "outlinewidth": 0,
              "ticks": ""
             }
            },
            "type": "scatterternary"
           }
          ],
          "surface": [
           {
            "colorbar": {
             "outlinewidth": 0,
             "ticks": ""
            },
            "colorscale": [
             [
              0,
              "#0d0887"
             ],
             [
              0.1111111111111111,
              "#46039f"
             ],
             [
              0.2222222222222222,
              "#7201a8"
             ],
             [
              0.3333333333333333,
              "#9c179e"
             ],
             [
              0.4444444444444444,
              "#bd3786"
             ],
             [
              0.5555555555555556,
              "#d8576b"
             ],
             [
              0.6666666666666666,
              "#ed7953"
             ],
             [
              0.7777777777777778,
              "#fb9f3a"
             ],
             [
              0.8888888888888888,
              "#fdca26"
             ],
             [
              1,
              "#f0f921"
             ]
            ],
            "type": "surface"
           }
          ],
          "table": [
           {
            "cells": {
             "fill": {
              "color": "#EBF0F8"
             },
             "line": {
              "color": "white"
             }
            },
            "header": {
             "fill": {
              "color": "#C8D4E3"
             },
             "line": {
              "color": "white"
             }
            },
            "type": "table"
           }
          ]
         },
         "layout": {
          "annotationdefaults": {
           "arrowcolor": "#2a3f5f",
           "arrowhead": 0,
           "arrowwidth": 1
          },
          "autotypenumbers": "strict",
          "coloraxis": {
           "colorbar": {
            "outlinewidth": 0,
            "ticks": ""
           }
          },
          "colorscale": {
           "diverging": [
            [
             0,
             "#8e0152"
            ],
            [
             0.1,
             "#c51b7d"
            ],
            [
             0.2,
             "#de77ae"
            ],
            [
             0.3,
             "#f1b6da"
            ],
            [
             0.4,
             "#fde0ef"
            ],
            [
             0.5,
             "#f7f7f7"
            ],
            [
             0.6,
             "#e6f5d0"
            ],
            [
             0.7,
             "#b8e186"
            ],
            [
             0.8,
             "#7fbc41"
            ],
            [
             0.9,
             "#4d9221"
            ],
            [
             1,
             "#276419"
            ]
           ],
           "sequential": [
            [
             0,
             "#0d0887"
            ],
            [
             0.1111111111111111,
             "#46039f"
            ],
            [
             0.2222222222222222,
             "#7201a8"
            ],
            [
             0.3333333333333333,
             "#9c179e"
            ],
            [
             0.4444444444444444,
             "#bd3786"
            ],
            [
             0.5555555555555556,
             "#d8576b"
            ],
            [
             0.6666666666666666,
             "#ed7953"
            ],
            [
             0.7777777777777778,
             "#fb9f3a"
            ],
            [
             0.8888888888888888,
             "#fdca26"
            ],
            [
             1,
             "#f0f921"
            ]
           ],
           "sequentialminus": [
            [
             0,
             "#0d0887"
            ],
            [
             0.1111111111111111,
             "#46039f"
            ],
            [
             0.2222222222222222,
             "#7201a8"
            ],
            [
             0.3333333333333333,
             "#9c179e"
            ],
            [
             0.4444444444444444,
             "#bd3786"
            ],
            [
             0.5555555555555556,
             "#d8576b"
            ],
            [
             0.6666666666666666,
             "#ed7953"
            ],
            [
             0.7777777777777778,
             "#fb9f3a"
            ],
            [
             0.8888888888888888,
             "#fdca26"
            ],
            [
             1,
             "#f0f921"
            ]
           ]
          },
          "colorway": [
           "#636efa",
           "#EF553B",
           "#00cc96",
           "#ab63fa",
           "#FFA15A",
           "#19d3f3",
           "#FF6692",
           "#B6E880",
           "#FF97FF",
           "#FECB52"
          ],
          "font": {
           "color": "#2a3f5f"
          },
          "geo": {
           "bgcolor": "white",
           "lakecolor": "white",
           "landcolor": "#E5ECF6",
           "showlakes": true,
           "showland": true,
           "subunitcolor": "white"
          },
          "hoverlabel": {
           "align": "left"
          },
          "hovermode": "closest",
          "mapbox": {
           "style": "light"
          },
          "paper_bgcolor": "white",
          "plot_bgcolor": "#E5ECF6",
          "polar": {
           "angularaxis": {
            "gridcolor": "white",
            "linecolor": "white",
            "ticks": ""
           },
           "bgcolor": "#E5ECF6",
           "radialaxis": {
            "gridcolor": "white",
            "linecolor": "white",
            "ticks": ""
           }
          },
          "scene": {
           "xaxis": {
            "backgroundcolor": "#E5ECF6",
            "gridcolor": "white",
            "gridwidth": 2,
            "linecolor": "white",
            "showbackground": true,
            "ticks": "",
            "zerolinecolor": "white"
           },
           "yaxis": {
            "backgroundcolor": "#E5ECF6",
            "gridcolor": "white",
            "gridwidth": 2,
            "linecolor": "white",
            "showbackground": true,
            "ticks": "",
            "zerolinecolor": "white"
           },
           "zaxis": {
            "backgroundcolor": "#E5ECF6",
            "gridcolor": "white",
            "gridwidth": 2,
            "linecolor": "white",
            "showbackground": true,
            "ticks": "",
            "zerolinecolor": "white"
           }
          },
          "shapedefaults": {
           "line": {
            "color": "#2a3f5f"
           }
          },
          "ternary": {
           "aaxis": {
            "gridcolor": "white",
            "linecolor": "white",
            "ticks": ""
           },
           "baxis": {
            "gridcolor": "white",
            "linecolor": "white",
            "ticks": ""
           },
           "bgcolor": "#E5ECF6",
           "caxis": {
            "gridcolor": "white",
            "linecolor": "white",
            "ticks": ""
           }
          },
          "title": {
           "x": 0.05
          },
          "xaxis": {
           "automargin": true,
           "gridcolor": "white",
           "linecolor": "white",
           "ticks": "",
           "title": {
            "standoff": 15
           },
           "zerolinecolor": "white",
           "zerolinewidth": 2
          },
          "yaxis": {
           "automargin": true,
           "gridcolor": "white",
           "linecolor": "white",
           "ticks": "",
           "title": {
            "standoff": 15
           },
           "zerolinecolor": "white",
           "zerolinewidth": 2
          }
         }
        },
        "title": {
         "font": {
          "color": "#4D5663"
         },
         "text": "Days_Since_Publication vs Claps"
        },
        "xaxis": {
         "autorange": true,
         "gridcolor": "#E1E5ED",
         "range": [
          -913.8865604917576,
          14513.886560491757
         ],
         "showgrid": true,
         "tickfont": {
          "color": "#4D5663"
         },
         "title": {
          "font": {
           "color": "#4D5663"
          },
          "text": "Claps"
         },
         "type": "linear",
         "zerolinecolor": "#E1E5ED"
        },
        "yaxis": {
         "autorange": true,
         "gridcolor": "#E1E5ED",
         "range": [
          -65.68858947042433,
          664.2083422323109
         ],
         "showgrid": true,
         "tickfont": {
          "color": "#4D5663"
         },
         "title": {
          "font": {
           "color": "#4D5663"
          },
          "text": "Days_Since_Publication"
         },
         "type": "linear",
         "zerolinecolor": "#E1E5ED"
        }
       }
      },
      "image/png": "[encoded data removed]",
      "text/html": [
       "<div>                            <div id=\"d0fe795b-a7da-456a-9dbb-38b6c0ca5724\" class=\"plotly-graph-div\" style=\"height:525px; width:100%;\"></div>            <script type=\"text/javascript\">                require([\"plotly\"], function(Plotly) {                    window.PLOTLYENV=window.PLOTLYENV || {};\n",
       "                    window.PLOTLYENV.BASE_URL='https://plot.ly';                                    if (document.getElementById(\"d0fe795b-a7da-456a-9dbb-38b6c0ca5724\")) {                    Plotly.newPlot(                        \"d0fe795b-a7da-456a-9dbb-38b6c0ca5724\",                        [{\"line\":{\"color\":\"rgba(31, 119, 180, 1.0)\",\"dash\":\"solid\",\"shape\":\"linear\",\"width\":1.3},\"marker\":{\"size\":12,\"symbol\":\"circle\"},\"mode\":\"markers\",\"name\":\"days_since_publication\",\"text\":\"\",\"x\":[2,18,51,0,0,0,73,240,2,0,704,58,5,7,87,23,5,167,8,17,9,4900,3000,72,123,865,186,11,120,2100,4100,59,2800,82,21,7300,1200,285,1600,1600,1100,4300,4970,12900,225,5100,101,6000,647,977,7000,7000,2700,1100,3000,2600,2900,5500,1300,1000,8000,363,13600,4100,2200,3900,6400,8500,1300,5500,2400,2800,2400,715,717,3300,4400,844,906,3800,662,658,1100,2900,3100,797,246,3400,347,2600,981,2100,966,3300,710,2500,815,755,603,940,2300,1400,787,2800,2100,3800,547,856,1000,205,730,121,418,31,0,24,5,0,6,0,539,730,582,453,626,386,7600,1800,370,315,2000,53,901],\"y\":[597.3011234928935,589.9831678934722,577.3632923185879,576.5206880427894,572.5330352605787,558.0200849386921,552.1556248098611,550.0150101095486,547.1585928973843,545.3034809904862,539.3015251376505,538.3616333815626,538.3616308881944,536.0693024557986,534.2649433761227,534.1913703218287,531.3165667823959,526.1891594631713,524.2700156780787,493.27377432550924,408.4711316033102,397.4293953507986,397.4277877258797,395.11609148437503,392.3287214495833,387.0576305824537,386.0425008728935,385.4954133210764,385.1945411716667,383.9926222874884,381.0352299594097,380.49090689327545,376.26001103743056,376.08059837900464,375.5302295332639,374.25597562319444,374.057076269838,371.30287774083337,369.1330005642593,366.05627657653935,365.5400972110185,362.41502231988426,360.50850330781253,358.51825893546294,355.52055696855325,352.9647862130903,351.1118723947454,348.4246294948727,342.3672663808449,338.5035495385648,331.4365996720949,324.2237845179977,317.4644109924653,314.49385861916664,311.37095904774304,303.5431680369791,297.31014599925925,290.0418619020949,283.33863078045135,283.33590105774306,275.2574436720486,273.4401389939236,257.37869697715274,256.5031338793634,255.49303694083335,252.30707613392363,245.41612982315974,240.48394241055556,223.04379871745368,220.4763571140278,218.55013955496528,214.54560088826392,209.44029542083334,192.52871201636574,186.50202452077545,172.5235798258449,170.65633337769677,165.28853490334492,163.07584995606481,161.4928592507176,161.4909019917708,152.1039705243287,151.37068348711804,147.1741579396412,140.50823078605325,134.46337733312498,134.1546791284375,127.46704148513888,124.33105608341435,119.0234442440625,116.35277775572916,108.38023233480325,103.46704841506943,94.25432953921296,88.03775204251157,85.00553926068287,82.47490355932871,82.47320225390047,77.52644544283565,74.5438217130787,71.98887388260417,71.06999180240742,63.34277000334491,61.469023250590276,58.40827168365741,52.2235387972801,51.289980235289356,50.015705424664354,44.37431741674769,43.02407055767361,42.06569560732639,35.0521156375,34.25713649174769,34.01111164185185,34.00981653321759,34.009006550671295,34.00856147113426,34.00809835439815,34.007692483854164,32.568144913657406,32.38009209974537,30.417934632164354,28.156351569837963,26.557568693715275,26.506609918437498,23.02377654986111,19.978734082060186,18.266623060266202,16.337141827581018,12.204313545636573,8.215424677094907,3.547005433310185,1.2186292689930556],\"type\":\"scatter\"}],                        {\"legend\":{\"bgcolor\":\"#F5F6F9\",\"font\":{\"color\":\"#4D5663\"}},\"paper_bgcolor\":\"#F5F6F9\",\"plot_bgcolor\":\"#F5F6F9\",\"template\":{\"data\":{\"barpolar\":[{\"marker\":{\"line\":{\"color\":\"#E5ECF6\",\"width\":0.5},\"pattern\":{\"fillmode\":\"overlay\",\"size\":10,\"solidity\":0.2}},\"type\":\"barpolar\"}],\"bar\":[{\"error_x\":{\"color\":\"#2a3f5f\"},\"error_y\":{\"color\":\"#2a3f5f\"},\"marker\":{\"line\":{\"color\":\"#E5ECF6\",\"width\":0.5},\"pattern\":{\"fillmode\":\"overlay\",\"size\":10,\"solidity\":0.2}},\"type\":\"bar\"}],\"carpet\":[{\"aaxis\":{\"endlinecolor\":\"#2a3f5f\",\"gridcolor\":\"white\",\"linecolor\":\"white\",\"minorgridcolor\":\"white\",\"startlinecolor\":\"#2a3f5f\"},\"baxis\":{\"endlinecolor\":\"#2a3f5f\",\"gridcolor\":\"white\",\"linecolor\":\"white\",\"minorgridcolor\":\"white\",\"startlinecolor\":\"#2a3f5f\"},\"type\":\"carpet\"}],\"choropleth\":[{\"colorbar\":{\"outlinewidth\":0,\"ticks\":\"\"},\"type\":\"choropleth\"}],\"contourcarpet\":[{\"colorbar\":{\"outlinewidth\":0,\"ticks\":\"\"},\"type\":\"contourcarpet\"}],\"contour\":[{\"colorbar\":{\"outlinewidth\":0,\"ticks\":\"\"},\"colorscale\":[[0.0,\"#0d0887\"],[0.1111111111111111,\"#46039f\"],[0.2222222222222222,\"#7201a8\"],[0.3333333333333333,\"#9c179e\"],[0.4444444444444444,\"#bd3786\"],[0.5555555555555556,\"#d8576b\"],[0.6666666666666666,\"#ed7953\"],[0.7777777777777778,\"#fb9f3a\"],[0.8888888888888888,\"#fdca26\"],[1.0,\"#f0f921\"]],\"type\":\"contour\"}],\"heatmapgl\":[{\"colorbar\":{\"outlinewidth\":0,\"ticks\":\"\"},\"colorscale\":[[0.0,\"#0d0887\"],[0.1111111111111111,\"#46039f\"],[0.2222222222222222,\"#7201a8\"],[0.3333333333333333,\"#9c179e\"],[0.4444444444444444,\"#bd3786\"],[0.5555555555555556,\"#d8576b\"],[0.6666666666666666,\"#ed7953\"],[0.7777777777777778,\"#fb9f3a\"],[0.8888888888888888,\"#fdca26\"],[1.0,\"#f0f921\"]],\"type\":\"heatmapgl\"}],\"heatmap\":[{\"colorbar\":{\"outlinewidth\":0,\"ticks\":\"\"},\"colorscale\":[[0.0,\"#0d0887\"],[0.1111111111111111,\"#46039f\"],[0.2222222222222222,\"#7201a8\"],[0.3333333333333333,\"#9c179e\"],[0.4444444444444444,\"#bd3786\"],[0.5555555555555556,\"#d8576b\"],[0.6666666666666666,\"#ed7953\"],[0.7777777777777778,\"#fb9f3a\"],[0.8888888888888888,\"#fdca26\"],[1.0,\"#f0f921\"]],\"type\":\"heatmap\"}],\"histogram2dcontour\":[{\"colorbar\":{\"outlinewidth\":0,\"ticks\":\"\"},\"colorscale\":[[0.0,\"#0d0887\"],[0.1111111111111111,\"#46039f\"],[0.2222222222222222,\"#7201a8\"],[0.3333333333333333,\"#9c179e\"],[0.4444444444444444,\"#bd3786\"],[0.5555555555555556,\"#d8576b\"],[0.6666666666666666,\"#ed7953\"],[0.7777777777777778,\"#fb9f3a\"],[0.8888888888888888,\"#fdca26\"],[1.0,\"#f0f921\"]],\"type\":\"histogram2dcontour\"}],\"histogram2d\":[{\"colorbar\":{\"outlinewidth\":0,\"ticks\":\"\"},\"colorscale\":[[0.0,\"#0d0887\"],[0.1111111111111111,\"#46039f\"],[0.2222222222222222,\"#7201a8\"],[0.3333333333333333,\"#9c179e\"],[0.4444444444444444,\"#bd3786\"],[0.5555555555555556,\"#d8576b\"],[0.6666666666666666,\"#ed7953\"],[0.7777777777777778,\"#fb9f3a\"],[0.8888888888888888,\"#fdca26\"],[1.0,\"#f0f921\"]],\"type\":\"histogram2d\"}],\"histogram\":[{\"marker\":{\"pattern\":{\"fillmode\":\"overlay\",\"size\":10,\"solidity\":0.2}},\"type\":\"histogram\"}],\"mesh3d\":[{\"colorbar\":{\"outlinewidth\":0,\"ticks\":\"\"},\"type\":\"mesh3d\"}],\"parcoords\":[{\"line\":{\"colorbar\":{\"outlinewidth\":0,\"ticks\":\"\"}},\"type\":\"parcoords\"}],\"pie\":[{\"automargin\":true,\"type\":\"pie\"}],\"scatter3d\":[{\"line\":{\"colorbar\":{\"outlinewidth\":0,\"ticks\":\"\"}},\"marker\":{\"colorbar\":{\"outlinewidth\":0,\"ticks\":\"\"}},\"type\":\"scatter3d\"}],\"scattercarpet\":[{\"marker\":{\"colorbar\":{\"outlinewidth\":0,\"ticks\":\"\"}},\"type\":\"scattercarpet\"}],\"scattergeo\":[{\"marker\":{\"colorbar\":{\"outlinewidth\":0,\"ticks\":\"\"}},\"type\":\"scattergeo\"}],\"scattergl\":[{\"marker\":{\"colorbar\":{\"outlinewidth\":0,\"ticks\":\"\"}},\"type\":\"scattergl\"}],\"scattermapbox\":[{\"marker\":{\"colorbar\":{\"outlinewidth\":0,\"ticks\":\"\"}},\"type\":\"scattermapbox\"}],\"scatterpolargl\":[{\"marker\":{\"colorbar\":{\"outlinewidth\":0,\"ticks\":\"\"}},\"type\":\"scatterpolargl\"}],\"scatterpolar\":[{\"marker\":{\"colorbar\":{\"outlinewidth\":0,\"ticks\":\"\"}},\"type\":\"scatterpolar\"}],\"scatter\":[{\"fillpattern\":{\"fillmode\":\"overlay\",\"size\":10,\"solidity\":0.2},\"type\":\"scatter\"}],\"scatterternary\":[{\"marker\":{\"colorbar\":{\"outlinewidth\":0,\"ticks\":\"\"}},\"type\":\"scatterternary\"}],\"surface\":[{\"colorbar\":{\"outlinewidth\":0,\"ticks\":\"\"},\"colorscale\":[[0.0,\"#0d0887\"],[0.1111111111111111,\"#46039f\"],[0.2222222222222222,\"#7201a8\"],[0.3333333333333333,\"#9c179e\"],[0.4444444444444444,\"#bd3786\"],[0.5555555555555556,\"#d8576b\"],[0.6666666666666666,\"#ed7953\"],[0.7777777777777778,\"#fb9f3a\"],[0.8888888888888888,\"#fdca26\"],[1.0,\"#f0f921\"]],\"type\":\"surface\"}],\"table\":[{\"cells\":{\"fill\":{\"color\":\"#EBF0F8\"},\"line\":{\"color\":\"white\"}},\"header\":{\"fill\":{\"color\":\"#C8D4E3\"},\"line\":{\"color\":\"white\"}},\"type\":\"table\"}]},\"layout\":{\"annotationdefaults\":{\"arrowcolor\":\"#2a3f5f\",\"arrowhead\":0,\"arrowwidth\":1},\"autotypenumbers\":\"strict\",\"coloraxis\":{\"colorbar\":{\"outlinewidth\":0,\"ticks\":\"\"}},\"colorscale\":{\"diverging\":[[0,\"#8e0152\"],[0.1,\"#c51b7d\"],[0.2,\"#de77ae\"],[0.3,\"#f1b6da\"],[0.4,\"#fde0ef\"],[0.5,\"#f7f7f7\"],[0.6,\"#e6f5d0\"],[0.7,\"#b8e186\"],[0.8,\"#7fbc41\"],[0.9,\"#4d9221\"],[1,\"#276419\"]],\"sequential\":[[0.0,\"#0d0887\"],[0.1111111111111111,\"#46039f\"],[0.2222222222222222,\"#7201a8\"],[0.3333333333333333,\"#9c179e\"],[0.4444444444444444,\"#bd3786\"],[0.5555555555555556,\"#d8576b\"],[0.6666666666666666,\"#ed7953\"],[0.7777777777777778,\"#fb9f3a\"],[0.8888888888888888,\"#fdca26\"],[1.0,\"#f0f921\"]],\"sequentialminus\":[[0.0,\"#0d0887\"],[0.1111111111111111,\"#46039f\"],[0.2222222222222222,\"#7201a8\"],[0.3333333333333333,\"#9c179e\"],[0.4444444444444444,\"#bd3786\"],[0.5555555555555556,\"#d8576b\"],[0.6666666666666666,\"#ed7953\"],[0.7777777777777778,\"#fb9f3a\"],[0.8888888888888888,\"#fdca26\"],[1.0,\"#f0f921\"]]},\"colorway\":[\"#636efa\",\"#EF553B\",\"#00cc96\",\"#ab63fa\",\"#FFA15A\",\"#19d3f3\",\"#FF6692\",\"#B6E880\",\"#FF97FF\",\"#FECB52\"],\"font\":{\"color\":\"#2a3f5f\"},\"geo\":{\"bgcolor\":\"white\",\"lakecolor\":\"white\",\"landcolor\":\"#E5ECF6\",\"showlakes\":true,\"showland\":true,\"subunitcolor\":\"white\"},\"hoverlabel\":{\"align\":\"left\"},\"hovermode\":\"closest\",\"mapbox\":{\"style\":\"light\"},\"paper_bgcolor\":\"white\",\"plot_bgcolor\":\"#E5ECF6\",\"polar\":{\"angularaxis\":{\"gridcolor\":\"white\",\"linecolor\":\"white\",\"ticks\":\"\"},\"bgcolor\":\"#E5ECF6\",\"radialaxis\":{\"gridcolor\":\"white\",\"linecolor\":\"white\",\"ticks\":\"\"}},\"scene\":{\"xaxis\":{\"backgroundcolor\":\"#E5ECF6\",\"gridcolor\":\"white\",\"gridwidth\":2,\"linecolor\":\"white\",\"showbackground\":true,\"ticks\":\"\",\"zerolinecolor\":\"white\"},\"yaxis\":{\"backgroundcolor\":\"#E5ECF6\",\"gridcolor\":\"white\",\"gridwidth\":2,\"linecolor\":\"white\",\"showbackground\":true,\"ticks\":\"\",\"zerolinecolor\":\"white\"},\"zaxis\":{\"backgroundcolor\":\"#E5ECF6\",\"gridcolor\":\"white\",\"gridwidth\":2,\"linecolor\":\"white\",\"showbackground\":true,\"ticks\":\"\",\"zerolinecolor\":\"white\"}},\"shapedefaults\":{\"line\":{\"color\":\"#2a3f5f\"}},\"ternary\":{\"aaxis\":{\"gridcolor\":\"white\",\"linecolor\":\"white\",\"ticks\":\"\"},\"baxis\":{\"gridcolor\":\"white\",\"linecolor\":\"white\",\"ticks\":\"\"},\"bgcolor\":\"#E5ECF6\",\"caxis\":{\"gridcolor\":\"white\",\"linecolor\":\"white\",\"ticks\":\"\"}},\"title\":{\"x\":0.05},\"xaxis\":{\"automargin\":true,\"gridcolor\":\"white\",\"linecolor\":\"white\",\"ticks\":\"\",\"title\":{\"standoff\":15},\"zerolinecolor\":\"white\",\"zerolinewidth\":2},\"yaxis\":{\"automargin\":true,\"gridcolor\":\"white\",\"linecolor\":\"white\",\"ticks\":\"\",\"title\":{\"standoff\":15},\"zerolinecolor\":\"white\",\"zerolinewidth\":2}}},\"title\":{\"font\":{\"color\":\"#4D5663\"},\"text\":\"Days_Since_Publication vs Claps\"},\"xaxis\":{\"gridcolor\":\"#E1E5ED\",\"showgrid\":true,\"tickfont\":{\"color\":\"#4D5663\"},\"title\":{\"font\":{\"color\":\"#4D5663\"},\"text\":\"Claps\"},\"zerolinecolor\":\"#E1E5ED\"},\"yaxis\":{\"gridcolor\":\"#E1E5ED\",\"showgrid\":true,\"tickfont\":{\"color\":\"#4D5663\"},\"title\":{\"font\":{\"color\":\"#4D5663\"},\"text\":\"Days_Since_Publication\"},\"zerolinecolor\":\"#E1E5ED\"}},                        {\"showLink\": true, \"linkText\": \"Export to plot.ly\", \"plotlyServerURL\": \"https://plot.ly\", \"responsive\": true}                    ).then(function(){\n",
       "                            \n",
       "var gd = document.getElementById('d0fe795b-a7da-456a-9dbb-38b6c0ca5724');\n",
       "var x = new MutationObserver(function (mutations, observer) {{\n",
       "        var display = window.getComputedStyle(gd).display;\n",
       "        if (!display || display === 'none') {{\n",
       "            console.log([gd, 'removed!']);\n",
       "            Plotly.purge(gd);\n",
       "            observer.disconnect();\n",
       "        }}\n",
       "}});\n",
       "\n",
       "// Listen for the removal of the full notebook cells\n",
       "var notebookContainer = gd.closest('#notebook-container');\n",
       "if (notebookContainer) {{\n",
       "    x.observe(notebookContainer, {childList: true});\n",
       "}}\n",
       "\n",
       "// Listen for the clearing of the current output cell\n",
       "var outputEl = gd.closest('.output');\n",
       "if (outputEl) {{\n",
       "    x.observe(outputEl, {childList: true});\n",
       "}}\n",
       "\n",
       "                        })                };                });            </script>        </div>"
      ]
     },
     "metadata": {},
     "output_type": "display_data"
    },
    {
     "data": {
      "application/vnd.jupyter.widget-view+json": {
       "model_id": "b202b546419c49589022da4478c3493a",
       "version_major": 2,
       "version_minor": 0
      },
      "text/plain": [
       "interactive(children=(Dropdown(description='x', options=('claps', 'days_since_publication', 'fans', 'num_respo…"
      ]
     },
     "metadata": {},
     "output_type": "display_data"
    }
   ],
   "source": [
    "@interact\n",
    "def scatter_plot(x=list(df.select_dtypes('number').columns), \n",
    "                 y=list(df.select_dtypes('number').columns)[1:]):\n",
    "    df.iplot(kind='scatter', x=x, y=y, mode='markers', \n",
    "             xTitle=x.title(), yTitle=y.title(), title=f'{y.title()} vs {x.title()}')"
   ]
  },
  {
   "cell_type": "markdown",
   "metadata": {},
   "source": [
    "Let's add some options to control the column scheme."
   ]
  },
  {
   "cell_type": "code",
   "execution_count": 23,
   "metadata": {
    "ExecuteTime": {
     "end_time": "2019-02-11T21:59:20.056907Z",
     "start_time": "2019-02-11T21:59:19.745853Z"
    }
   },
   "outputs": [
    {
     "data": {
      "application/vnd.plotly.v1+json": {
       "config": {
        "linkText": "Export to plot.ly",
        "plotlyServerURL": "https://plot.ly",
        "showLink": true
       },
       "data": [
        {
         "line": {
          "color": "rgba(216, 179, 101, 1.0)",
          "dash": "solid",
          "shape": "linear",
          "width": 1.3
         },
         "marker": {
          "size": 12,
          "symbol": "circle"
         },
         "mode": "markers",
         "name": "days_since_publication",
         "text": [
          "Screw the Environment, but Consider Your Wallet",
          "The Vanquishing of War, Plague and Famine",
          "Capstone Project: Mercedes-Benz Greener Manufacturing Competition",
          "Home of the Scared",
          "The Triumph of Peace",
          "NASA Internship Report",
          "Deep Neural Network Classifier",
          "Object Recognition with Google’s Convolutional Neural Networks",
          "Make an Effort, Not an Excuse",
          "The Ascent of Humanity",
          "Facial Recognition Using Google’s Convolutional Neural Network",
          "Exploratory Data Analysis with R",
          "Exploratory Data Analysis with R (No Code)",
          "The Technology Frontier",
          "Data Analysis with Python",
          "Data Wrangling with Python and SQLite",
          "Controlling your Location in Google Chrome",
          "Machine Learning with Python on the Enron Dataset",
          "The Worst They Can Say is No",
          "Artificial Intelligence Part 1: Search",
          "The Case for Criticism",
          "Random Forest in Python",
          "Random Forest Simple Explanation",
          "Complete Books of 2017",
          "Top Books of 2017",
          "Improving the Random Forest in Python Part 1",
          "Data Science: A Personal Application",
          "The Simple Science of Global Warming",
          "A Theory of Prediction",
          "Hyperparameter Tuning the Random Forest in Python",
          "Time Series Analysis in Python: An Introduction",
          "The Failures of Common Sense",
          "Stock Analysis in Python",
          "A Review of the Coursera Machine Learning Specialization",
          "The Perils of Rare Events",
          "Stock Prediction in Python",
          "Correlation vs. Causation: An Example",
          "Real Life Superpowers",
          "Learn By Sharing",
          "Overfitting vs. Underfitting: A Conceptual Explanation",
          "Overfitting vs. Underfitting: A Complete Example",
          "How to Master New Skills",
          "Statistical Significance Explained",
          "Python is the Perfect Tool for any Problem",
          "The Misleading Effect of Noise: The Multiple Comparisons Problem",
          "Markov Chain Monte Carlo in Python",
          "Slow Tech: Take Back Your Mind",
          "Bayes’ Rule Applied",
          "Data Visualization Hackathon Style",
          "Unintended Consequences and Goodhart’s Law",
          "Beyond Accuracy: Precision and Recall",
          "Controlling the Web with Python",
          "Data Visualization with Bokeh in Python, Part I: Getting Started",
          "Data Visualization with Bokeh in Python, Part II: Interactions",
          "Histograms and Density Plots in Python",
          "Data Visualization with Bokeh in Python, Part III: Making a Complete Dashboard",
          "Visualizing Data with Pairs Plots in Python",
          "Introduction to Bayesian Linear Regression",
          "Bayesian Linear Regression in Python: Using Machine Learning to Predict Student Grades Part 1",
          "Bayesian Linear Regression in Python: Using Machine Learning to Predict Student Grades Part 2",
          "Web Scraping, Regular Expressions, and Data Visualization: Doing it all in Python",
          "If your files are saved only on your laptop they might as well not exist!",
          "A Complete Machine Learning Project Walk-Through in Python: Part One",
          "A Complete Machine Learning Walk-Through in Python: Part Two",
          "A Complete Machine Learning Walk-Through in Python: Part Three",
          "Automated Machine Learning on the Cloud in Python",
          "Machine Learning Kaggle Competition Part One: Getting Started",
          "Automated Feature Engineering in Python",
          "Machine Learning Kaggle Competition Part Two: Improving",
          "A Feature Selection Tool for Machine Learning in Python",
          "A Conceptual Explanation of Bayesian Hyperparameter Optimization for Machine Learning",
          "An Introductory Example of Bayesian Optimization in Python with Hyperopt",
          "Automated Machine Learning Hyperparameter Tuning in Python",
          "Machine Learning Kaggle Competition: Part Three Optimization",
          "How to get the right data? Trying asking for it.",
          "Why Automated Feature Engineering Will Change the Way You Do Machine Learning",
          "The most important part of a data science project is writing a blog post",
          "Parallelizing Feature Engineering with Dask",
          "How to Visualize a Decision Tree from a Random Forest in Python using Scikit-Learn",
          "A “Data Science for Good“ Machine Learning Project Walk-Through in Python: Part One",
          "A “Data Science for Good” Machine Learning Project Walk-Through in Python: Part Two",
          "How to Put Fully Interactive, Runnable Code in a Medium Post",
          "An Implementation and Explanation of the Random Forest in Python",
          "Practical Advice for Data Science Writing",
          "Another Machine Learning Walk-Through and a Challenge",
          "Five Minutes to Your Own Website",
          "Converting Medium Posts to Markdown for Your Blog",
          "Wikipedia Data Science: Working with the World’s Largest Encyclopedia",
          "Featuretools on Spark",
          "Neural Network Embeddings Explained",
          "Building a Recommendation System Using Neural Network Embeddings",
          "Simpson’s Paradox: How to Prove Opposite Arguments with the Same Data",
          "The Power of I Don’t Know",
          "My Weaknesses as a Data Scientist",
          "Overcome Your Biases with Data",
          "Recurrent Neural Networks by Example in Python",
          "Prediction Engineering: How to Set Up Your Machine Learning Problem",
          "How to Create Value with Machine Learning",
          "Feature Engineering: What Powers Machine Learning",
          "Modeling: Teaching a Machine Learning Algorithm to Deliver Business Value",
          "Deploying a Keras Deep Learning Model as a Web Application in Python",
          "Deploying a Python Web App on AWS",
          "Transfer Learning with Convolutional Neural Networks in PyTorch",
          "Estimating Probabilities with Bayesian Modeling in Python",
          "Python and Slack: A Natural Match",
          "Jupyter Notebook Extensions",
          "How to Write a Jupyter Notebook Extension",
          "Please Steal My Articles",
          "Introduction to Interactive Time Series Visualizations with Plotly in Python",
          "Stop Regretting the Present",
          "Docker for Data Science Without the Hassle",
          "On Blame",
          "What I learned in 2018",
          "Data Science for Virtual Energy Audits",
          "Virtual Building Energy Audits — Preliminary Report",
          "Building Energy Data Analysis Part Four",
          "Building Energy Data Analysis Part Three",
          "Building Energy Data Analysis Part Two",
          "Building Energy Data Analysis Part One",
          "Books of 2018 Notes",
          "Books of 2018",
          "The Copernican Principle and How to Use Statistics to Figure Out How Long Anything Will Last",
          "Data Science with Medium Story Stats in Python",
          "Announcing the Reality Project",
          "The Disappearing Poor",
          "Has Global Violence Declined? A Look at the Data",
          "The Next Level of Data Visualization in Python",
          "A Non-Technical Reading List for Data Science",
          "The Reality of Global Nuclear Weapons and How Russian Nukes Turned On Your Lights",
          "The Myth of Us vs Them",
          "The Poisson Distribution and Poisson Process Explained",
          "A Great Public Health Conspiracy?",
          "Interactive Controls in Jupyter Notebooks"
         ],
         "type": "scatter",
         "x": [
          2,
          18,
          51,
          0,
          0,
          0,
          73,
          240,
          2,
          0,
          704,
          58,
          5,
          7,
          87,
          23,
          5,
          167,
          8,
          17,
          9,
          4900,
          3000,
          72,
          123,
          865,
          186,
          11,
          120,
          2100,
          4100,
          59,
          2800,
          82,
          21,
          7300,
          1200,
          285,
          1600,
          1600,
          1100,
          4300,
          4970,
          12900,
          225,
          5100,
          101,
          6000,
          647,
          977,
          7000,
          7000,
          2700,
          1100,
          3000,
          2600,
          2900,
          5500,
          1300,
          1000,
          8000,
          363,
          13600,
          4100,
          2200,
          3900,
          6400,
          8500,
          1300,
          5500,
          2400,
          2800,
          2400,
          715,
          717,
          3300,
          4400,
          844,
          906,
          3800,
          662,
          658,
          1100,
          2900,
          3100,
          797,
          246,
          3400,
          347,
          2600,
          981,
          2100,
          966,
          3300,
          710,
          2500,
          815,
          755,
          603,
          940,
          2300,
          1400,
          787,
          2800,
          2100,
          3800,
          547,
          856,
          1000,
          205,
          730,
          121,
          418,
          31,
          0,
          24,
          5,
          0,
          6,
          0,
          539,
          730,
          582,
          453,
          626,
          386,
          7600,
          1800,
          370,
          315,
          2000,
          53,
          901
         ],
         "y": [
          597.3011234928935,
          589.9831678934722,
          577.3632923185879,
          576.5206880427894,
          572.5330352605787,
          558.0200849386921,
          552.1556248098611,
          550.0150101095486,
          547.1585928973843,
          545.3034809904862,
          539.3015251376505,
          538.3616333815626,
          538.3616308881944,
          536.0693024557986,
          534.2649433761227,
          534.1913703218287,
          531.3165667823959,
          526.1891594631713,
          524.2700156780787,
          493.27377432550924,
          408.4711316033102,
          397.4293953507986,
          397.4277877258797,
          395.11609148437503,
          392.3287214495833,
          387.0576305824537,
          386.0425008728935,
          385.4954133210764,
          385.1945411716667,
          383.9926222874884,
          381.0352299594097,
          380.49090689327545,
          376.26001103743056,
          376.08059837900464,
          375.5302295332639,
          374.25597562319444,
          374.057076269838,
          371.30287774083337,
          369.1330005642593,
          366.05627657653935,
          365.5400972110185,
          362.41502231988426,
          360.50850330781253,
          358.51825893546294,
          355.52055696855325,
          352.9647862130903,
          351.1118723947454,
          348.4246294948727,
          342.3672663808449,
          338.5035495385648,
          331.4365996720949,
          324.2237845179977,
          317.4644109924653,
          314.49385861916664,
          311.37095904774304,
          303.5431680369791,
          297.31014599925925,
          290.0418619020949,
          283.33863078045135,
          283.33590105774306,
          275.2574436720486,
          273.4401389939236,
          257.37869697715274,
          256.5031338793634,
          255.49303694083335,
          252.30707613392363,
          245.41612982315974,
          240.48394241055556,
          223.04379871745368,
          220.4763571140278,
          218.55013955496528,
          214.54560088826392,
          209.44029542083334,
          192.52871201636574,
          186.50202452077545,
          172.5235798258449,
          170.65633337769677,
          165.28853490334492,
          163.07584995606481,
          161.4928592507176,
          161.4909019917708,
          152.1039705243287,
          151.37068348711804,
          147.1741579396412,
          140.50823078605325,
          134.46337733312498,
          134.1546791284375,
          127.46704148513888,
          124.33105608341435,
          119.0234442440625,
          116.35277775572916,
          108.38023233480325,
          103.46704841506943,
          94.25432953921296,
          88.03775204251157,
          85.00553926068287,
          82.47490355932871,
          82.47320225390047,
          77.52644544283565,
          74.5438217130787,
          71.98887388260417,
          71.06999180240742,
          63.34277000334491,
          61.469023250590276,
          58.40827168365741,
          52.2235387972801,
          51.289980235289356,
          50.015705424664354,
          44.37431741674769,
          43.02407055767361,
          42.06569560732639,
          35.0521156375,
          34.25713649174769,
          34.01111164185185,
          34.00981653321759,
          34.009006550671295,
          34.00856147113426,
          34.00809835439815,
          34.007692483854164,
          32.568144913657406,
          32.38009209974537,
          30.417934632164354,
          28.156351569837963,
          26.557568693715275,
          26.506609918437498,
          23.02377654986111,
          19.978734082060186,
          18.266623060266202,
          16.337141827581018,
          12.204313545636573,
          8.215424677094907,
          3.547005433310185,
          1.2186292689930556
         ]
        }
       ],
       "layout": {
        "autosize": true,
        "legend": {
         "bgcolor": "#FFFFFF",
         "font": {
          "color": "#666666"
         }
        },
        "paper_bgcolor": "#FFFFFF",
        "plot_bgcolor": "#E5E5E5",
        "template": {
         "data": {
          "bar": [
           {
            "error_x": {
             "color": "#2a3f5f"
            },
            "error_y": {
             "color": "#2a3f5f"
            },
            "marker": {
             "line": {
              "color": "#E5ECF6",
              "width": 0.5
             },
             "pattern": {
              "fillmode": "overlay",
              "size": 10,
              "solidity": 0.2
             }
            },
            "type": "bar"
           }
          ],
          "barpolar": [
           {
            "marker": {
             "line": {
              "color": "#E5ECF6",
              "width": 0.5
             },
             "pattern": {
              "fillmode": "overlay",
              "size": 10,
              "solidity": 0.2
             }
            },
            "type": "barpolar"
           }
          ],
          "carpet": [
           {
            "aaxis": {
             "endlinecolor": "#2a3f5f",
             "gridcolor": "white",
             "linecolor": "white",
             "minorgridcolor": "white",
             "startlinecolor": "#2a3f5f"
            },
            "baxis": {
             "endlinecolor": "#2a3f5f",
             "gridcolor": "white",
             "linecolor": "white",
             "minorgridcolor": "white",
             "startlinecolor": "#2a3f5f"
            },
            "type": "carpet"
           }
          ],
          "choropleth": [
           {
            "colorbar": {
             "outlinewidth": 0,
             "ticks": ""
            },
            "type": "choropleth"
           }
          ],
          "contour": [
           {
            "colorbar": {
             "outlinewidth": 0,
             "ticks": ""
            },
            "colorscale": [
             [
              0,
              "#0d0887"
             ],
             [
              0.1111111111111111,
              "#46039f"
             ],
             [
              0.2222222222222222,
              "#7201a8"
             ],
             [
              0.3333333333333333,
              "#9c179e"
             ],
             [
              0.4444444444444444,
              "#bd3786"
             ],
             [
              0.5555555555555556,
              "#d8576b"
             ],
             [
              0.6666666666666666,
              "#ed7953"
             ],
             [
              0.7777777777777778,
              "#fb9f3a"
             ],
             [
              0.8888888888888888,
              "#fdca26"
             ],
             [
              1,
              "#f0f921"
             ]
            ],
            "type": "contour"
           }
          ],
          "contourcarpet": [
           {
            "colorbar": {
             "outlinewidth": 0,
             "ticks": ""
            },
            "type": "contourcarpet"
           }
          ],
          "heatmap": [
           {
            "colorbar": {
             "outlinewidth": 0,
             "ticks": ""
            },
            "colorscale": [
             [
              0,
              "#0d0887"
             ],
             [
              0.1111111111111111,
              "#46039f"
             ],
             [
              0.2222222222222222,
              "#7201a8"
             ],
             [
              0.3333333333333333,
              "#9c179e"
             ],
             [
              0.4444444444444444,
              "#bd3786"
             ],
             [
              0.5555555555555556,
              "#d8576b"
             ],
             [
              0.6666666666666666,
              "#ed7953"
             ],
             [
              0.7777777777777778,
              "#fb9f3a"
             ],
             [
              0.8888888888888888,
              "#fdca26"
             ],
             [
              1,
              "#f0f921"
             ]
            ],
            "type": "heatmap"
           }
          ],
          "heatmapgl": [
           {
            "colorbar": {
             "outlinewidth": 0,
             "ticks": ""
            },
            "colorscale": [
             [
              0,
              "#0d0887"
             ],
             [
              0.1111111111111111,
              "#46039f"
             ],
             [
              0.2222222222222222,
              "#7201a8"
             ],
             [
              0.3333333333333333,
              "#9c179e"
             ],
             [
              0.4444444444444444,
              "#bd3786"
             ],
             [
              0.5555555555555556,
              "#d8576b"
             ],
             [
              0.6666666666666666,
              "#ed7953"
             ],
             [
              0.7777777777777778,
              "#fb9f3a"
             ],
             [
              0.8888888888888888,
              "#fdca26"
             ],
             [
              1,
              "#f0f921"
             ]
            ],
            "type": "heatmapgl"
           }
          ],
          "histogram": [
           {
            "marker": {
             "pattern": {
              "fillmode": "overlay",
              "size": 10,
              "solidity": 0.2
             }
            },
            "type": "histogram"
           }
          ],
          "histogram2d": [
           {
            "colorbar": {
             "outlinewidth": 0,
             "ticks": ""
            },
            "colorscale": [
             [
              0,
              "#0d0887"
             ],
             [
              0.1111111111111111,
              "#46039f"
             ],
             [
              0.2222222222222222,
              "#7201a8"
             ],
             [
              0.3333333333333333,
              "#9c179e"
             ],
             [
              0.4444444444444444,
              "#bd3786"
             ],
             [
              0.5555555555555556,
              "#d8576b"
             ],
             [
              0.6666666666666666,
              "#ed7953"
             ],
             [
              0.7777777777777778,
              "#fb9f3a"
             ],
             [
              0.8888888888888888,
              "#fdca26"
             ],
             [
              1,
              "#f0f921"
             ]
            ],
            "type": "histogram2d"
           }
          ],
          "histogram2dcontour": [
           {
            "colorbar": {
             "outlinewidth": 0,
             "ticks": ""
            },
            "colorscale": [
             [
              0,
              "#0d0887"
             ],
             [
              0.1111111111111111,
              "#46039f"
             ],
             [
              0.2222222222222222,
              "#7201a8"
             ],
             [
              0.3333333333333333,
              "#9c179e"
             ],
             [
              0.4444444444444444,
              "#bd3786"
             ],
             [
              0.5555555555555556,
              "#d8576b"
             ],
             [
              0.6666666666666666,
              "#ed7953"
             ],
             [
              0.7777777777777778,
              "#fb9f3a"
             ],
             [
              0.8888888888888888,
              "#fdca26"
             ],
             [
              1,
              "#f0f921"
             ]
            ],
            "type": "histogram2dcontour"
           }
          ],
          "mesh3d": [
           {
            "colorbar": {
             "outlinewidth": 0,
             "ticks": ""
            },
            "type": "mesh3d"
           }
          ],
          "parcoords": [
           {
            "line": {
             "colorbar": {
              "outlinewidth": 0,
              "ticks": ""
             }
            },
            "type": "parcoords"
           }
          ],
          "pie": [
           {
            "automargin": true,
            "type": "pie"
           }
          ],
          "scatter": [
           {
            "fillpattern": {
             "fillmode": "overlay",
             "size": 10,
             "solidity": 0.2
            },
            "type": "scatter"
           }
          ],
          "scatter3d": [
           {
            "line": {
             "colorbar": {
              "outlinewidth": 0,
              "ticks": ""
             }
            },
            "marker": {
             "colorbar": {
              "outlinewidth": 0,
              "ticks": ""
             }
            },
            "type": "scatter3d"
           }
          ],
          "scattercarpet": [
           {
            "marker": {
             "colorbar": {
              "outlinewidth": 0,
              "ticks": ""
             }
            },
            "type": "scattercarpet"
           }
          ],
          "scattergeo": [
           {
            "marker": {
             "colorbar": {
              "outlinewidth": 0,
              "ticks": ""
             }
            },
            "type": "scattergeo"
           }
          ],
          "scattergl": [
           {
            "marker": {
             "colorbar": {
              "outlinewidth": 0,
              "ticks": ""
             }
            },
            "type": "scattergl"
           }
          ],
          "scattermapbox": [
           {
            "marker": {
             "colorbar": {
              "outlinewidth": 0,
              "ticks": ""
             }
            },
            "type": "scattermapbox"
           }
          ],
          "scatterpolar": [
           {
            "marker": {
             "colorbar": {
              "outlinewidth": 0,
              "ticks": ""
             }
            },
            "type": "scatterpolar"
           }
          ],
          "scatterpolargl": [
           {
            "marker": {
             "colorbar": {
              "outlinewidth": 0,
              "ticks": ""
             }
            },
            "type": "scatterpolargl"
           }
          ],
          "scatterternary": [
           {
            "marker": {
             "colorbar": {
              "outlinewidth": 0,
              "ticks": ""
             }
            },
            "type": "scatterternary"
           }
          ],
          "surface": [
           {
            "colorbar": {
             "outlinewidth": 0,
             "ticks": ""
            },
            "colorscale": [
             [
              0,
              "#0d0887"
             ],
             [
              0.1111111111111111,
              "#46039f"
             ],
             [
              0.2222222222222222,
              "#7201a8"
             ],
             [
              0.3333333333333333,
              "#9c179e"
             ],
             [
              0.4444444444444444,
              "#bd3786"
             ],
             [
              0.5555555555555556,
              "#d8576b"
             ],
             [
              0.6666666666666666,
              "#ed7953"
             ],
             [
              0.7777777777777778,
              "#fb9f3a"
             ],
             [
              0.8888888888888888,
              "#fdca26"
             ],
             [
              1,
              "#f0f921"
             ]
            ],
            "type": "surface"
           }
          ],
          "table": [
           {
            "cells": {
             "fill": {
              "color": "#EBF0F8"
             },
             "line": {
              "color": "white"
             }
            },
            "header": {
             "fill": {
              "color": "#C8D4E3"
             },
             "line": {
              "color": "white"
             }
            },
            "type": "table"
           }
          ]
         },
         "layout": {
          "annotationdefaults": {
           "arrowcolor": "#2a3f5f",
           "arrowhead": 0,
           "arrowwidth": 1
          },
          "autotypenumbers": "strict",
          "coloraxis": {
           "colorbar": {
            "outlinewidth": 0,
            "ticks": ""
           }
          },
          "colorscale": {
           "diverging": [
            [
             0,
             "#8e0152"
            ],
            [
             0.1,
             "#c51b7d"
            ],
            [
             0.2,
             "#de77ae"
            ],
            [
             0.3,
             "#f1b6da"
            ],
            [
             0.4,
             "#fde0ef"
            ],
            [
             0.5,
             "#f7f7f7"
            ],
            [
             0.6,
             "#e6f5d0"
            ],
            [
             0.7,
             "#b8e186"
            ],
            [
             0.8,
             "#7fbc41"
            ],
            [
             0.9,
             "#4d9221"
            ],
            [
             1,
             "#276419"
            ]
           ],
           "sequential": [
            [
             0,
             "#0d0887"
            ],
            [
             0.1111111111111111,
             "#46039f"
            ],
            [
             0.2222222222222222,
             "#7201a8"
            ],
            [
             0.3333333333333333,
             "#9c179e"
            ],
            [
             0.4444444444444444,
             "#bd3786"
            ],
            [
             0.5555555555555556,
             "#d8576b"
            ],
            [
             0.6666666666666666,
             "#ed7953"
            ],
            [
             0.7777777777777778,
             "#fb9f3a"
            ],
            [
             0.8888888888888888,
             "#fdca26"
            ],
            [
             1,
             "#f0f921"
            ]
           ],
           "sequentialminus": [
            [
             0,
             "#0d0887"
            ],
            [
             0.1111111111111111,
             "#46039f"
            ],
            [
             0.2222222222222222,
             "#7201a8"
            ],
            [
             0.3333333333333333,
             "#9c179e"
            ],
            [
             0.4444444444444444,
             "#bd3786"
            ],
            [
             0.5555555555555556,
             "#d8576b"
            ],
            [
             0.6666666666666666,
             "#ed7953"
            ],
            [
             0.7777777777777778,
             "#fb9f3a"
            ],
            [
             0.8888888888888888,
             "#fdca26"
            ],
            [
             1,
             "#f0f921"
            ]
           ]
          },
          "colorway": [
           "#636efa",
           "#EF553B",
           "#00cc96",
           "#ab63fa",
           "#FFA15A",
           "#19d3f3",
           "#FF6692",
           "#B6E880",
           "#FF97FF",
           "#FECB52"
          ],
          "font": {
           "color": "#2a3f5f"
          },
          "geo": {
           "bgcolor": "white",
           "lakecolor": "white",
           "landcolor": "#E5ECF6",
           "showlakes": true,
           "showland": true,
           "subunitcolor": "white"
          },
          "hoverlabel": {
           "align": "left"
          },
          "hovermode": "closest",
          "mapbox": {
           "style": "light"
          },
          "paper_bgcolor": "white",
          "plot_bgcolor": "#E5ECF6",
          "polar": {
           "angularaxis": {
            "gridcolor": "white",
            "linecolor": "white",
            "ticks": ""
           },
           "bgcolor": "#E5ECF6",
           "radialaxis": {
            "gridcolor": "white",
            "linecolor": "white",
            "ticks": ""
           }
          },
          "scene": {
           "xaxis": {
            "backgroundcolor": "#E5ECF6",
            "gridcolor": "white",
            "gridwidth": 2,
            "linecolor": "white",
            "showbackground": true,
            "ticks": "",
            "zerolinecolor": "white"
           },
           "yaxis": {
            "backgroundcolor": "#E5ECF6",
            "gridcolor": "white",
            "gridwidth": 2,
            "linecolor": "white",
            "showbackground": true,
            "ticks": "",
            "zerolinecolor": "white"
           },
           "zaxis": {
            "backgroundcolor": "#E5ECF6",
            "gridcolor": "white",
            "gridwidth": 2,
            "linecolor": "white",
            "showbackground": true,
            "ticks": "",
            "zerolinecolor": "white"
           }
          },
          "shapedefaults": {
           "line": {
            "color": "#2a3f5f"
           }
          },
          "ternary": {
           "aaxis": {
            "gridcolor": "white",
            "linecolor": "white",
            "ticks": ""
           },
           "baxis": {
            "gridcolor": "white",
            "linecolor": "white",
            "ticks": ""
           },
           "bgcolor": "#E5ECF6",
           "caxis": {
            "gridcolor": "white",
            "linecolor": "white",
            "ticks": ""
           }
          },
          "title": {
           "x": 0.05
          },
          "xaxis": {
           "automargin": true,
           "gridcolor": "white",
           "linecolor": "white",
           "ticks": "",
           "title": {
            "standoff": 15
           },
           "zerolinecolor": "white",
           "zerolinewidth": 2
          },
          "yaxis": {
           "automargin": true,
           "gridcolor": "white",
           "linecolor": "white",
           "ticks": "",
           "title": {
            "standoff": 15
           },
           "zerolinecolor": "white",
           "zerolinewidth": 2
          }
         }
        },
        "title": {
         "font": {
          "color": "#151516"
         },
         "text": "Days_Since_Publication vs Claps"
        },
        "xaxis": {
         "autorange": true,
         "gridcolor": "#F6F6F6",
         "range": [
          -913.8865604917576,
          14513.886560491757
         ],
         "showgrid": true,
         "tickfont": {
          "color": "#666666"
         },
         "title": {
          "font": {
           "color": "#666666"
          },
          "text": "Claps"
         },
         "type": "linear",
         "zerolinecolor": "#F6F6F6"
        },
        "yaxis": {
         "autorange": true,
         "gridcolor": "#F6F6F6",
         "range": [
          -65.68858947042433,
          664.2083422323109
         ],
         "showgrid": true,
         "tickfont": {
          "color": "#666666"
         },
         "title": {
          "font": {
           "color": "#666666"
          },
          "text": "Days_Since_Publication"
         },
         "type": "linear",
         "zerolinecolor": "#F6F6F6"
        }
       }
      },
      "image/png": "[encoded data removed]",
      "text/html": [
       "<div>                            <div id=\"ca5c5a82-d9a6-444f-a5c3-35f6c4753f02\" class=\"plotly-graph-div\" style=\"height:525px; width:100%;\"></div>            <script type=\"text/javascript\">                require([\"plotly\"], function(Plotly) {                    window.PLOTLYENV=window.PLOTLYENV || {};\n",
       "                    window.PLOTLYENV.BASE_URL='https://plot.ly';                                    if (document.getElementById(\"ca5c5a82-d9a6-444f-a5c3-35f6c4753f02\")) {                    Plotly.newPlot(                        \"ca5c5a82-d9a6-444f-a5c3-35f6c4753f02\",                        [{\"line\":{\"color\":\"rgba(216, 179, 101, 1.0)\",\"dash\":\"solid\",\"shape\":\"linear\",\"width\":1.3},\"marker\":{\"size\":12,\"symbol\":\"circle\"},\"mode\":\"markers\",\"name\":\"days_since_publication\",\"text\":[\"Screw the Environment, but Consider Your Wallet\",\"The Vanquishing of War, Plague and Famine\",\"Capstone Project: Mercedes-Benz Greener Manufacturing Competition\",\"Home of the Scared\",\"The Triumph of Peace\",\"NASA Internship Report\",\"Deep Neural Network Classifier\",\"Object Recognition with Google’s Convolutional Neural Networks\",\"Make an Effort, Not an Excuse\",\"The Ascent of Humanity\",\"Facial Recognition Using Google’s Convolutional Neural Network\",\"Exploratory Data Analysis with R\",\"Exploratory Data Analysis with R (No Code)\",\"The Technology Frontier\",\"Data Analysis with Python\",\"Data Wrangling with Python and SQLite\",\"Controlling your Location in Google Chrome\",\"Machine Learning with Python on the Enron Dataset\",\"The Worst They Can Say is No\",\"Artificial Intelligence Part 1: Search\",\"The Case for Criticism\",\"Random Forest in Python\",\"Random Forest Simple Explanation\",\"Complete Books of 2017\",\"Top Books of 2017\",\"Improving the Random Forest in Python Part 1\",\"Data Science: A Personal Application\",\"The Simple Science of Global Warming\",\"A Theory of Prediction\",\"Hyperparameter Tuning the Random Forest in Python\",\"Time Series Analysis in Python: An Introduction\",\"The Failures of Common Sense\",\"Stock Analysis in Python\",\"A Review of the Coursera Machine Learning Specialization\",\"The Perils of Rare Events\",\"Stock Prediction in Python\",\"Correlation vs. Causation: An Example\",\"Real Life Superpowers\",\"Learn By Sharing\",\"Overfitting vs. Underfitting: A Conceptual Explanation\",\"Overfitting vs. Underfitting: A Complete Example\",\"How to Master New Skills\",\"Statistical Significance Explained\",\"Python is the Perfect Tool for any Problem\",\"The Misleading Effect of Noise: The Multiple Comparisons Problem\",\"Markov Chain Monte Carlo in Python\",\"Slow Tech: Take Back Your Mind\",\"Bayes’ Rule Applied\",\"Data Visualization Hackathon Style\",\"Unintended Consequences and Goodhart’s Law\",\"Beyond Accuracy: Precision and Recall\",\"Controlling the Web with Python\",\"Data Visualization with Bokeh in Python, Part I: Getting Started\",\"Data Visualization with Bokeh in Python, Part II: Interactions\",\"Histograms and Density Plots in Python\",\"Data Visualization with Bokeh in Python, Part III: Making a Complete Dashboard\",\"Visualizing Data with Pairs Plots in Python\",\"Introduction to Bayesian Linear Regression\",\"Bayesian Linear Regression in Python: Using Machine Learning to Predict Student Grades Part 1\",\"Bayesian Linear Regression in Python: Using Machine Learning to Predict Student Grades Part 2\",\"Web Scraping, Regular Expressions, and Data Visualization: Doing it all in Python\",\"If your files are saved only on your laptop they might as well not exist!\",\"A Complete Machine Learning Project Walk-Through in Python: Part One\",\"A Complete Machine Learning Walk-Through in Python: Part Two\",\"A Complete Machine Learning Walk-Through in Python: Part Three\",\"Automated Machine Learning on the Cloud in Python\",\"Machine Learning Kaggle Competition Part One: Getting Started\",\"Automated Feature Engineering in Python\",\"Machine Learning Kaggle Competition Part Two: Improving\",\"A Feature Selection Tool for Machine Learning in Python\",\"A Conceptual Explanation of Bayesian Hyperparameter Optimization for Machine Learning\",\"An Introductory Example of Bayesian Optimization in Python with Hyperopt\",\"Automated Machine Learning Hyperparameter Tuning in Python\",\"Machine Learning Kaggle Competition: Part Three Optimization\",\"How to get the right data? Trying asking for it.\",\"Why Automated Feature Engineering Will Change the Way You Do Machine Learning\",\"The most important part of a data science project is writing a blog post\",\"Parallelizing Feature Engineering with Dask\",\"How to Visualize a Decision Tree from a Random Forest in Python using Scikit-Learn\",\"A “Data Science for Good“ Machine Learning Project Walk-Through in Python: Part One\",\"A “Data Science for Good” Machine Learning Project Walk-Through in Python: Part Two\",\"How to Put Fully Interactive, Runnable Code in a Medium Post\",\"An Implementation and Explanation of the Random Forest in Python\",\"Practical Advice for Data Science Writing\",\"Another Machine Learning Walk-Through and a Challenge\",\"Five Minutes to Your Own Website\",\"Converting Medium Posts to Markdown for Your Blog\",\"Wikipedia Data Science: Working with the World’s Largest Encyclopedia\",\"Featuretools on Spark\",\"Neural Network Embeddings Explained\",\"Building a Recommendation System Using Neural Network Embeddings\",\"Simpson’s Paradox: How to Prove Opposite Arguments with the Same Data\",\"The Power of I Don’t Know\",\"My Weaknesses as a Data Scientist\",\"Overcome Your Biases with Data\",\"Recurrent Neural Networks by Example in Python\",\"Prediction Engineering: How to Set Up Your Machine Learning Problem\",\"How to Create Value with Machine Learning\",\"Feature Engineering: What Powers Machine Learning\",\"Modeling: Teaching a Machine Learning Algorithm to Deliver Business Value\",\"Deploying a Keras Deep Learning Model as a Web Application in Python\",\"Deploying a Python Web App on AWS\",\"Transfer Learning with Convolutional Neural Networks in PyTorch\",\"Estimating Probabilities with Bayesian Modeling in Python\",\"Python and Slack: A Natural Match\",\"Jupyter Notebook Extensions\",\"How to Write a Jupyter Notebook Extension\",\"Please Steal My Articles\",\"Introduction to Interactive Time Series Visualizations with Plotly in Python\",\"Stop Regretting the Present\",\"Docker for Data Science Without the Hassle\",\"On Blame\",\"What I learned in 2018\",\"Data Science for Virtual Energy Audits\",\"Virtual Building Energy Audits — Preliminary Report\",\"Building Energy Data Analysis Part Four\",\"Building Energy Data Analysis Part Three\",\"Building Energy Data Analysis Part Two\",\"Building Energy Data Analysis Part One\",\"Books of 2018 Notes\",\"Books of 2018\",\"The Copernican Principle and How to Use Statistics to Figure Out How Long Anything Will Last\",\"Data Science with Medium Story Stats in Python\",\"Announcing the Reality Project\",\"The Disappearing Poor\",\"Has Global Violence Declined? A Look at the Data\",\"The Next Level of Data Visualization in Python\",\"A Non-Technical Reading List for Data Science\",\"The Reality of Global Nuclear Weapons and How Russian Nukes Turned On Your Lights\",\"The Myth of Us vs Them\",\"The Poisson Distribution and Poisson Process Explained\",\"A Great Public Health Conspiracy?\",\"Interactive Controls in Jupyter Notebooks\"],\"x\":[2,18,51,0,0,0,73,240,2,0,704,58,5,7,87,23,5,167,8,17,9,4900,3000,72,123,865,186,11,120,2100,4100,59,2800,82,21,7300,1200,285,1600,1600,1100,4300,4970,12900,225,5100,101,6000,647,977,7000,7000,2700,1100,3000,2600,2900,5500,1300,1000,8000,363,13600,4100,2200,3900,6400,8500,1300,5500,2400,2800,2400,715,717,3300,4400,844,906,3800,662,658,1100,2900,3100,797,246,3400,347,2600,981,2100,966,3300,710,2500,815,755,603,940,2300,1400,787,2800,2100,3800,547,856,1000,205,730,121,418,31,0,24,5,0,6,0,539,730,582,453,626,386,7600,1800,370,315,2000,53,901],\"y\":[597.3011234928935,589.9831678934722,577.3632923185879,576.5206880427894,572.5330352605787,558.0200849386921,552.1556248098611,550.0150101095486,547.1585928973843,545.3034809904862,539.3015251376505,538.3616333815626,538.3616308881944,536.0693024557986,534.2649433761227,534.1913703218287,531.3165667823959,526.1891594631713,524.2700156780787,493.27377432550924,408.4711316033102,397.4293953507986,397.4277877258797,395.11609148437503,392.3287214495833,387.0576305824537,386.0425008728935,385.4954133210764,385.1945411716667,383.9926222874884,381.0352299594097,380.49090689327545,376.26001103743056,376.08059837900464,375.5302295332639,374.25597562319444,374.057076269838,371.30287774083337,369.1330005642593,366.05627657653935,365.5400972110185,362.41502231988426,360.50850330781253,358.51825893546294,355.52055696855325,352.9647862130903,351.1118723947454,348.4246294948727,342.3672663808449,338.5035495385648,331.4365996720949,324.2237845179977,317.4644109924653,314.49385861916664,311.37095904774304,303.5431680369791,297.31014599925925,290.0418619020949,283.33863078045135,283.33590105774306,275.2574436720486,273.4401389939236,257.37869697715274,256.5031338793634,255.49303694083335,252.30707613392363,245.41612982315974,240.48394241055556,223.04379871745368,220.4763571140278,218.55013955496528,214.54560088826392,209.44029542083334,192.52871201636574,186.50202452077545,172.5235798258449,170.65633337769677,165.28853490334492,163.07584995606481,161.4928592507176,161.4909019917708,152.1039705243287,151.37068348711804,147.1741579396412,140.50823078605325,134.46337733312498,134.1546791284375,127.46704148513888,124.33105608341435,119.0234442440625,116.35277775572916,108.38023233480325,103.46704841506943,94.25432953921296,88.03775204251157,85.00553926068287,82.47490355932871,82.47320225390047,77.52644544283565,74.5438217130787,71.98887388260417,71.06999180240742,63.34277000334491,61.469023250590276,58.40827168365741,52.2235387972801,51.289980235289356,50.015705424664354,44.37431741674769,43.02407055767361,42.06569560732639,35.0521156375,34.25713649174769,34.01111164185185,34.00981653321759,34.009006550671295,34.00856147113426,34.00809835439815,34.007692483854164,32.568144913657406,32.38009209974537,30.417934632164354,28.156351569837963,26.557568693715275,26.506609918437498,23.02377654986111,19.978734082060186,18.266623060266202,16.337141827581018,12.204313545636573,8.215424677094907,3.547005433310185,1.2186292689930556],\"type\":\"scatter\"}],                        {\"legend\":{\"bgcolor\":\"#FFFFFF\",\"font\":{\"color\":\"#666666\"}},\"paper_bgcolor\":\"#FFFFFF\",\"plot_bgcolor\":\"#E5E5E5\",\"template\":{\"data\":{\"barpolar\":[{\"marker\":{\"line\":{\"color\":\"#E5ECF6\",\"width\":0.5},\"pattern\":{\"fillmode\":\"overlay\",\"size\":10,\"solidity\":0.2}},\"type\":\"barpolar\"}],\"bar\":[{\"error_x\":{\"color\":\"#2a3f5f\"},\"error_y\":{\"color\":\"#2a3f5f\"},\"marker\":{\"line\":{\"color\":\"#E5ECF6\",\"width\":0.5},\"pattern\":{\"fillmode\":\"overlay\",\"size\":10,\"solidity\":0.2}},\"type\":\"bar\"}],\"carpet\":[{\"aaxis\":{\"endlinecolor\":\"#2a3f5f\",\"gridcolor\":\"white\",\"linecolor\":\"white\",\"minorgridcolor\":\"white\",\"startlinecolor\":\"#2a3f5f\"},\"baxis\":{\"endlinecolor\":\"#2a3f5f\",\"gridcolor\":\"white\",\"linecolor\":\"white\",\"minorgridcolor\":\"white\",\"startlinecolor\":\"#2a3f5f\"},\"type\":\"carpet\"}],\"choropleth\":[{\"colorbar\":{\"outlinewidth\":0,\"ticks\":\"\"},\"type\":\"choropleth\"}],\"contourcarpet\":[{\"colorbar\":{\"outlinewidth\":0,\"ticks\":\"\"},\"type\":\"contourcarpet\"}],\"contour\":[{\"colorbar\":{\"outlinewidth\":0,\"ticks\":\"\"},\"colorscale\":[[0.0,\"#0d0887\"],[0.1111111111111111,\"#46039f\"],[0.2222222222222222,\"#7201a8\"],[0.3333333333333333,\"#9c179e\"],[0.4444444444444444,\"#bd3786\"],[0.5555555555555556,\"#d8576b\"],[0.6666666666666666,\"#ed7953\"],[0.7777777777777778,\"#fb9f3a\"],[0.8888888888888888,\"#fdca26\"],[1.0,\"#f0f921\"]],\"type\":\"contour\"}],\"heatmapgl\":[{\"colorbar\":{\"outlinewidth\":0,\"ticks\":\"\"},\"colorscale\":[[0.0,\"#0d0887\"],[0.1111111111111111,\"#46039f\"],[0.2222222222222222,\"#7201a8\"],[0.3333333333333333,\"#9c179e\"],[0.4444444444444444,\"#bd3786\"],[0.5555555555555556,\"#d8576b\"],[0.6666666666666666,\"#ed7953\"],[0.7777777777777778,\"#fb9f3a\"],[0.8888888888888888,\"#fdca26\"],[1.0,\"#f0f921\"]],\"type\":\"heatmapgl\"}],\"heatmap\":[{\"colorbar\":{\"outlinewidth\":0,\"ticks\":\"\"},\"colorscale\":[[0.0,\"#0d0887\"],[0.1111111111111111,\"#46039f\"],[0.2222222222222222,\"#7201a8\"],[0.3333333333333333,\"#9c179e\"],[0.4444444444444444,\"#bd3786\"],[0.5555555555555556,\"#d8576b\"],[0.6666666666666666,\"#ed7953\"],[0.7777777777777778,\"#fb9f3a\"],[0.8888888888888888,\"#fdca26\"],[1.0,\"#f0f921\"]],\"type\":\"heatmap\"}],\"histogram2dcontour\":[{\"colorbar\":{\"outlinewidth\":0,\"ticks\":\"\"},\"colorscale\":[[0.0,\"#0d0887\"],[0.1111111111111111,\"#46039f\"],[0.2222222222222222,\"#7201a8\"],[0.3333333333333333,\"#9c179e\"],[0.4444444444444444,\"#bd3786\"],[0.5555555555555556,\"#d8576b\"],[0.6666666666666666,\"#ed7953\"],[0.7777777777777778,\"#fb9f3a\"],[0.8888888888888888,\"#fdca26\"],[1.0,\"#f0f921\"]],\"type\":\"histogram2dcontour\"}],\"histogram2d\":[{\"colorbar\":{\"outlinewidth\":0,\"ticks\":\"\"},\"colorscale\":[[0.0,\"#0d0887\"],[0.1111111111111111,\"#46039f\"],[0.2222222222222222,\"#7201a8\"],[0.3333333333333333,\"#9c179e\"],[0.4444444444444444,\"#bd3786\"],[0.5555555555555556,\"#d8576b\"],[0.6666666666666666,\"#ed7953\"],[0.7777777777777778,\"#fb9f3a\"],[0.8888888888888888,\"#fdca26\"],[1.0,\"#f0f921\"]],\"type\":\"histogram2d\"}],\"histogram\":[{\"marker\":{\"pattern\":{\"fillmode\":\"overlay\",\"size\":10,\"solidity\":0.2}},\"type\":\"histogram\"}],\"mesh3d\":[{\"colorbar\":{\"outlinewidth\":0,\"ticks\":\"\"},\"type\":\"mesh3d\"}],\"parcoords\":[{\"line\":{\"colorbar\":{\"outlinewidth\":0,\"ticks\":\"\"}},\"type\":\"parcoords\"}],\"pie\":[{\"automargin\":true,\"type\":\"pie\"}],\"scatter3d\":[{\"line\":{\"colorbar\":{\"outlinewidth\":0,\"ticks\":\"\"}},\"marker\":{\"colorbar\":{\"outlinewidth\":0,\"ticks\":\"\"}},\"type\":\"scatter3d\"}],\"scattercarpet\":[{\"marker\":{\"colorbar\":{\"outlinewidth\":0,\"ticks\":\"\"}},\"type\":\"scattercarpet\"}],\"scattergeo\":[{\"marker\":{\"colorbar\":{\"outlinewidth\":0,\"ticks\":\"\"}},\"type\":\"scattergeo\"}],\"scattergl\":[{\"marker\":{\"colorbar\":{\"outlinewidth\":0,\"ticks\":\"\"}},\"type\":\"scattergl\"}],\"scattermapbox\":[{\"marker\":{\"colorbar\":{\"outlinewidth\":0,\"ticks\":\"\"}},\"type\":\"scattermapbox\"}],\"scatterpolargl\":[{\"marker\":{\"colorbar\":{\"outlinewidth\":0,\"ticks\":\"\"}},\"type\":\"scatterpolargl\"}],\"scatterpolar\":[{\"marker\":{\"colorbar\":{\"outlinewidth\":0,\"ticks\":\"\"}},\"type\":\"scatterpolar\"}],\"scatter\":[{\"fillpattern\":{\"fillmode\":\"overlay\",\"size\":10,\"solidity\":0.2},\"type\":\"scatter\"}],\"scatterternary\":[{\"marker\":{\"colorbar\":{\"outlinewidth\":0,\"ticks\":\"\"}},\"type\":\"scatterternary\"}],\"surface\":[{\"colorbar\":{\"outlinewidth\":0,\"ticks\":\"\"},\"colorscale\":[[0.0,\"#0d0887\"],[0.1111111111111111,\"#46039f\"],[0.2222222222222222,\"#7201a8\"],[0.3333333333333333,\"#9c179e\"],[0.4444444444444444,\"#bd3786\"],[0.5555555555555556,\"#d8576b\"],[0.6666666666666666,\"#ed7953\"],[0.7777777777777778,\"#fb9f3a\"],[0.8888888888888888,\"#fdca26\"],[1.0,\"#f0f921\"]],\"type\":\"surface\"}],\"table\":[{\"cells\":{\"fill\":{\"color\":\"#EBF0F8\"},\"line\":{\"color\":\"white\"}},\"header\":{\"fill\":{\"color\":\"#C8D4E3\"},\"line\":{\"color\":\"white\"}},\"type\":\"table\"}]},\"layout\":{\"annotationdefaults\":{\"arrowcolor\":\"#2a3f5f\",\"arrowhead\":0,\"arrowwidth\":1},\"autotypenumbers\":\"strict\",\"coloraxis\":{\"colorbar\":{\"outlinewidth\":0,\"ticks\":\"\"}},\"colorscale\":{\"diverging\":[[0,\"#8e0152\"],[0.1,\"#c51b7d\"],[0.2,\"#de77ae\"],[0.3,\"#f1b6da\"],[0.4,\"#fde0ef\"],[0.5,\"#f7f7f7\"],[0.6,\"#e6f5d0\"],[0.7,\"#b8e186\"],[0.8,\"#7fbc41\"],[0.9,\"#4d9221\"],[1,\"#276419\"]],\"sequential\":[[0.0,\"#0d0887\"],[0.1111111111111111,\"#46039f\"],[0.2222222222222222,\"#7201a8\"],[0.3333333333333333,\"#9c179e\"],[0.4444444444444444,\"#bd3786\"],[0.5555555555555556,\"#d8576b\"],[0.6666666666666666,\"#ed7953\"],[0.7777777777777778,\"#fb9f3a\"],[0.8888888888888888,\"#fdca26\"],[1.0,\"#f0f921\"]],\"sequentialminus\":[[0.0,\"#0d0887\"],[0.1111111111111111,\"#46039f\"],[0.2222222222222222,\"#7201a8\"],[0.3333333333333333,\"#9c179e\"],[0.4444444444444444,\"#bd3786\"],[0.5555555555555556,\"#d8576b\"],[0.6666666666666666,\"#ed7953\"],[0.7777777777777778,\"#fb9f3a\"],[0.8888888888888888,\"#fdca26\"],[1.0,\"#f0f921\"]]},\"colorway\":[\"#636efa\",\"#EF553B\",\"#00cc96\",\"#ab63fa\",\"#FFA15A\",\"#19d3f3\",\"#FF6692\",\"#B6E880\",\"#FF97FF\",\"#FECB52\"],\"font\":{\"color\":\"#2a3f5f\"},\"geo\":{\"bgcolor\":\"white\",\"lakecolor\":\"white\",\"landcolor\":\"#E5ECF6\",\"showlakes\":true,\"showland\":true,\"subunitcolor\":\"white\"},\"hoverlabel\":{\"align\":\"left\"},\"hovermode\":\"closest\",\"mapbox\":{\"style\":\"light\"},\"paper_bgcolor\":\"white\",\"plot_bgcolor\":\"#E5ECF6\",\"polar\":{\"angularaxis\":{\"gridcolor\":\"white\",\"linecolor\":\"white\",\"ticks\":\"\"},\"bgcolor\":\"#E5ECF6\",\"radialaxis\":{\"gridcolor\":\"white\",\"linecolor\":\"white\",\"ticks\":\"\"}},\"scene\":{\"xaxis\":{\"backgroundcolor\":\"#E5ECF6\",\"gridcolor\":\"white\",\"gridwidth\":2,\"linecolor\":\"white\",\"showbackground\":true,\"ticks\":\"\",\"zerolinecolor\":\"white\"},\"yaxis\":{\"backgroundcolor\":\"#E5ECF6\",\"gridcolor\":\"white\",\"gridwidth\":2,\"linecolor\":\"white\",\"showbackground\":true,\"ticks\":\"\",\"zerolinecolor\":\"white\"},\"zaxis\":{\"backgroundcolor\":\"#E5ECF6\",\"gridcolor\":\"white\",\"gridwidth\":2,\"linecolor\":\"white\",\"showbackground\":true,\"ticks\":\"\",\"zerolinecolor\":\"white\"}},\"shapedefaults\":{\"line\":{\"color\":\"#2a3f5f\"}},\"ternary\":{\"aaxis\":{\"gridcolor\":\"white\",\"linecolor\":\"white\",\"ticks\":\"\"},\"baxis\":{\"gridcolor\":\"white\",\"linecolor\":\"white\",\"ticks\":\"\"},\"bgcolor\":\"#E5ECF6\",\"caxis\":{\"gridcolor\":\"white\",\"linecolor\":\"white\",\"ticks\":\"\"}},\"title\":{\"x\":0.05},\"xaxis\":{\"automargin\":true,\"gridcolor\":\"white\",\"linecolor\":\"white\",\"ticks\":\"\",\"title\":{\"standoff\":15},\"zerolinecolor\":\"white\",\"zerolinewidth\":2},\"yaxis\":{\"automargin\":true,\"gridcolor\":\"white\",\"linecolor\":\"white\",\"ticks\":\"\",\"title\":{\"standoff\":15},\"zerolinecolor\":\"white\",\"zerolinewidth\":2}}},\"title\":{\"font\":{\"color\":\"#151516\"},\"text\":\"Days_Since_Publication vs Claps\"},\"xaxis\":{\"gridcolor\":\"#F6F6F6\",\"showgrid\":true,\"tickfont\":{\"color\":\"#666666\"},\"title\":{\"font\":{\"color\":\"#666666\"},\"text\":\"Claps\"},\"zerolinecolor\":\"#F6F6F6\"},\"yaxis\":{\"gridcolor\":\"#F6F6F6\",\"showgrid\":true,\"tickfont\":{\"color\":\"#666666\"},\"title\":{\"font\":{\"color\":\"#666666\"},\"text\":\"Days_Since_Publication\"},\"zerolinecolor\":\"#F6F6F6\"}},                        {\"showLink\": true, \"linkText\": \"Export to plot.ly\", \"plotlyServerURL\": \"https://plot.ly\", \"responsive\": true}                    ).then(function(){\n",
       "                            \n",
       "var gd = document.getElementById('ca5c5a82-d9a6-444f-a5c3-35f6c4753f02');\n",
       "var x = new MutationObserver(function (mutations, observer) {{\n",
       "        var display = window.getComputedStyle(gd).display;\n",
       "        if (!display || display === 'none') {{\n",
       "            console.log([gd, 'removed!']);\n",
       "            Plotly.purge(gd);\n",
       "            observer.disconnect();\n",
       "        }}\n",
       "}});\n",
       "\n",
       "// Listen for the removal of the full notebook cells\n",
       "var notebookContainer = gd.closest('#notebook-container');\n",
       "if (notebookContainer) {{\n",
       "    x.observe(notebookContainer, {childList: true});\n",
       "}}\n",
       "\n",
       "// Listen for the clearing of the current output cell\n",
       "var outputEl = gd.closest('.output');\n",
       "if (outputEl) {{\n",
       "    x.observe(outputEl, {childList: true});\n",
       "}}\n",
       "\n",
       "                        })                };                });            </script>        </div>"
      ]
     },
     "metadata": {},
     "output_type": "display_data"
    },
    {
     "data": {
      "application/vnd.jupyter.widget-view+json": {
       "model_id": "d40f01b3cf39406eb4289b29d6ef2a22",
       "version_major": 2,
       "version_minor": 0
      },
      "text/plain": [
       "interactive(children=(Dropdown(description='x', options=('claps', 'days_since_publication', 'fans', 'num_respo…"
      ]
     },
     "metadata": {},
     "output_type": "display_data"
    }
   ],
   "source": [
    "@interact\n",
    "def scatter_plot(x=list(df.select_dtypes('number').columns), \n",
    "                 y=list(df.select_dtypes('number').columns)[1:],\n",
    "                 theme=list(cf.themes.THEMES.keys()), \n",
    "                 colorscale=list(cf.colors._scales_names.keys())):\n",
    "    \n",
    "    df.iplot(kind='scatter', x=x, y=y, mode='markers', \n",
    "             xTitle=x.title(), yTitle=y.title(), \n",
    "             text='title',\n",
    "             title=f'{y.title()} vs {x.title()}',\n",
    "            theme=theme, colorscale=colorscale)"
   ]
  },
  {
   "cell_type": "markdown",
   "metadata": {},
   "source": [
    "The next plot lets us choose the grouping category for the plot. "
   ]
  },
  {
   "cell_type": "code",
   "execution_count": 24,
   "metadata": {
    "ExecuteTime": {
     "end_time": "2019-02-11T21:59:20.694691Z",
     "start_time": "2019-02-11T21:59:20.059308Z"
    }
   },
   "outputs": [
    {
     "name": "stderr",
     "output_type": "stream",
     "text": [
      "/home/jpic/.local/lib/python3.10/site-packages/cufflinks/plotlytools.py:807: FutureWarning:\n",
      "\n",
      "The pandas.np module is deprecated and will be removed from pandas in a future version. Import numpy directly instead.\n",
      "\n",
      "/home/jpic/.local/lib/python3.10/site-packages/cufflinks/plotlytools.py:810: FutureWarning:\n",
      "\n",
      "The pandas.np module is deprecated and will be removed from pandas in a future version. Import numpy directly instead.\n",
      "\n"
     ]
    },
    {
     "data": {
      "application/vnd.plotly.v1+json": {
       "config": {
        "linkText": "Export to plot.ly",
        "plotlyServerURL": "https://plot.ly",
        "showLink": true
       },
       "data": [
        {
         "marker": {
          "color": "rgba(84, 48, 5, 1.0)",
          "line": {
           "width": 1.3
          },
          "opacity": 0.8,
          "size": 12,
          "symbol": "circle"
         },
         "mode": "markers",
         "name": "(5, 10]",
         "text": [
          "Screw the Environment, but Consider Your Wallet",
          "Home of the Scared",
          "Make an Effort, Not an Excuse",
          "Controlling your Location in Google Chrome",
          "The Worst They Can Say is No",
          "The Case for Criticism",
          "Complete Books of 2017",
          "The Failures of Common Sense",
          "The Perils of Rare Events",
          "Correlation vs. Causation: An Example",
          "Real Life Superpowers",
          "Overfitting vs. Underfitting: A Conceptual Explanation",
          "How to Master New Skills",
          "Statistical Significance Explained",
          "The Misleading Effect of Noise: The Multiple Comparisons Problem",
          "Bayes’ Rule Applied",
          "Data Visualization Hackathon Style",
          "Controlling the Web with Python",
          "Data Visualization with Bokeh in Python, Part II: Interactions",
          "Data Visualization with Bokeh in Python, Part III: Making a Complete Dashboard",
          "Visualizing Data with Pairs Plots in Python",
          "Introduction to Bayesian Linear Regression",
          "Web Scraping, Regular Expressions, and Data Visualization: Doing it all in Python",
          "Automated Machine Learning on the Cloud in Python",
          "A Feature Selection Tool for Machine Learning in Python",
          "An Introductory Example of Bayesian Optimization in Python with Hyperopt",
          "How to get the right data? Trying asking for it.",
          "The most important part of a data science project is writing a blog post",
          "Parallelizing Feature Engineering with Dask",
          "Practical Advice for Data Science Writing",
          "Converting Medium Posts to Markdown for Your Blog",
          "Featuretools on Spark",
          "Neural Network Embeddings Explained",
          "Simpson’s Paradox: How to Prove Opposite Arguments with the Same Data",
          "The Power of I Don’t Know",
          "Overcome Your Biases with Data",
          "Prediction Engineering: How to Set Up Your Machine Learning Problem",
          "How to Create Value with Machine Learning",
          "Feature Engineering: What Powers Machine Learning",
          "Modeling: Teaching a Machine Learning Algorithm to Deliver Business Value",
          "Deploying a Keras Deep Learning Model as a Web Application in Python",
          "Deploying a Python Web App on AWS",
          "Python and Slack: A Natural Match",
          "How to Write a Jupyter Notebook Extension",
          "Please Steal My Articles",
          "Introduction to Interactive Time Series Visualizations with Plotly in Python",
          "Stop Regretting the Present",
          "On Blame",
          "What I learned in 2018",
          "The Copernican Principle and How to Use Statistics to Figure Out How Long Anything Will Last",
          "Announcing the Reality Project",
          "The Disappearing Poor",
          "The Next Level of Data Visualization in Python",
          "The Myth of Us vs Them",
          "Interactive Controls in Jupyter Notebooks"
         ],
         "textfont": {
          "color": "#666666"
         },
         "type": "scatter",
         "x": [
          2,
          0,
          2,
          5,
          8,
          9,
          72,
          59,
          21,
          1200,
          285,
          1600,
          4300,
          4970,
          225,
          6000,
          647,
          7000,
          1100,
          2600,
          2900,
          5500,
          8000,
          3900,
          5500,
          2800,
          717,
          4400,
          844,
          2900,
          246,
          347,
          2600,
          2100,
          966,
          710,
          815,
          755,
          603,
          940,
          2300,
          1400,
          2100,
          547,
          856,
          1000,
          205,
          121,
          418,
          730,
          453,
          626,
          7600,
          315,
          901
         ],
         "y": [
          597.3011234928935,
          576.5206880427894,
          547.1585928973843,
          531.3165667823959,
          524.2700156780787,
          408.4711316033102,
          395.11609148437503,
          380.49090689327545,
          375.5302295332639,
          374.057076269838,
          371.30287774083337,
          366.05627657653935,
          362.41502231988426,
          360.50850330781253,
          355.52055696855325,
          348.4246294948727,
          342.3672663808449,
          324.2237845179977,
          314.49385861916664,
          303.5431680369791,
          297.31014599925925,
          290.0418619020949,
          275.2574436720486,
          252.30707613392363,
          220.4763571140278,
          214.54560088826392,
          186.50202452077545,
          170.65633337769677,
          165.28853490334492,
          147.1741579396412,
          134.1546791284375,
          124.33105608341435,
          119.0234442440625,
          108.38023233480325,
          103.46704841506943,
          88.03775204251157,
          82.47490355932871,
          82.47320225390047,
          77.52644544283565,
          74.5438217130787,
          71.98887388260417,
          71.06999180240742,
          58.40827168365741,
          51.289980235289356,
          50.015705424664354,
          44.37431741674769,
          43.02407055767361,
          35.0521156375,
          34.25713649174769,
          30.417934632164354,
          26.557568693715275,
          26.506609918437498,
          19.978734082060186,
          12.204313545636573,
          1.2186292689930556
         ]
        },
        {
         "marker": {
          "color": "rgba(140, 81, 10, 1.0)",
          "line": {
           "width": 1.3
          },
          "opacity": 0.8,
          "size": 12,
          "symbol": "circle"
         },
         "mode": "markers",
         "name": "(10, 15]",
         "text": [
          "The Vanquishing of War, Plague and Famine",
          "The Triumph of Peace",
          "Deep Neural Network Classifier",
          "Object Recognition with Google’s Convolutional Neural Networks",
          "The Technology Frontier",
          "Random Forest Simple Explanation",
          "Data Science: A Personal Application",
          "A Theory of Prediction",
          "Hyperparameter Tuning the Random Forest in Python",
          "Time Series Analysis in Python: An Introduction",
          "Stock Analysis in Python",
          "Stock Prediction in Python",
          "Overfitting vs. Underfitting: A Complete Example",
          "Markov Chain Monte Carlo in Python",
          "Beyond Accuracy: Precision and Recall",
          "Data Visualization with Bokeh in Python, Part I: Getting Started",
          "Histograms and Density Plots in Python",
          "Bayesian Linear Regression in Python: Using Machine Learning to Predict Student Grades Part 1",
          "Bayesian Linear Regression in Python: Using Machine Learning to Predict Student Grades Part 2",
          "A Complete Machine Learning Project Walk-Through in Python: Part One",
          "A Complete Machine Learning Walk-Through in Python: Part Two",
          "A Complete Machine Learning Walk-Through in Python: Part Three",
          "Machine Learning Kaggle Competition Part One: Getting Started",
          "Automated Feature Engineering in Python",
          "A Conceptual Explanation of Bayesian Hyperparameter Optimization for Machine Learning",
          "Machine Learning Kaggle Competition: Part Three Optimization",
          "Why Automated Feature Engineering Will Change the Way You Do Machine Learning",
          "A “Data Science for Good” Machine Learning Project Walk-Through in Python: Part Two",
          "Another Machine Learning Walk-Through and a Challenge",
          "Building a Recommendation System Using Neural Network Embeddings",
          "My Weaknesses as a Data Scientist",
          "Recurrent Neural Networks by Example in Python",
          "Transfer Learning with Convolutional Neural Networks in PyTorch",
          "Estimating Probabilities with Bayesian Modeling in Python",
          "Virtual Building Energy Audits — Preliminary Report",
          "Building Energy Data Analysis Part One",
          "Data Science with Medium Story Stats in Python",
          "Has Global Violence Declined? A Look at the Data",
          "A Non-Technical Reading List for Data Science",
          "The Reality of Global Nuclear Weapons and How Russian Nukes Turned On Your Lights",
          "The Poisson Distribution and Poisson Process Explained",
          "A Great Public Health Conspiracy?"
         ],
         "textfont": {
          "color": "#666666"
         },
         "type": "scatter",
         "x": [
          18,
          0,
          73,
          240,
          7,
          3000,
          186,
          120,
          2100,
          4100,
          2800,
          7300,
          1100,
          5100,
          7000,
          2700,
          3000,
          1300,
          1000,
          13600,
          4100,
          2200,
          6400,
          8500,
          2400,
          715,
          3300,
          662,
          3100,
          981,
          3300,
          2500,
          787,
          2800,
          0,
          6,
          582,
          386,
          1800,
          370,
          2000,
          53
         ],
         "y": [
          589.9831678934722,
          572.5330352605787,
          552.1556248098611,
          550.0150101095486,
          536.0693024557986,
          397.4277877258797,
          386.0425008728935,
          385.1945411716667,
          383.9926222874884,
          381.0352299594097,
          376.26001103743056,
          374.25597562319444,
          365.5400972110185,
          352.9647862130903,
          331.4365996720949,
          317.4644109924653,
          311.37095904774304,
          283.33863078045135,
          283.33590105774306,
          257.37869697715274,
          256.5031338793634,
          255.49303694083335,
          245.41612982315974,
          240.48394241055556,
          218.55013955496528,
          192.52871201636574,
          172.5235798258449,
          161.4909019917708,
          140.50823078605325,
          116.35277775572916,
          94.25432953921296,
          85.00553926068287,
          63.34277000334491,
          61.469023250590276,
          34.00981653321759,
          34.007692483854164,
          28.156351569837963,
          23.02377654986111,
          18.266623060266202,
          16.337141827581018,
          8.215424677094907,
          3.547005433310185
         ]
        },
        {
         "marker": {
          "color": "rgba(191, 129, 45, 1.0)",
          "line": {
           "width": 1.3
          },
          "opacity": 0.8,
          "size": 12,
          "symbol": "circle"
         },
         "mode": "markers",
         "name": "(40, 45]",
         "text": [
          "Capstone Project: Mercedes-Benz Greener Manufacturing Competition",
          "Exploratory Data Analysis with R",
          "Building Energy Data Analysis Part Three",
          "Books of 2018 Notes"
         ],
         "textfont": {
          "color": "#666666"
         },
         "type": "scatter",
         "x": [
          51,
          58,
          5,
          0
         ],
         "y": [
          577.3632923185879,
          538.3616333815626,
          34.00856147113426,
          32.568144913657406
         ]
        },
        {
         "marker": {
          "color": "rgba(223, 194, 125, 1.0)",
          "line": {
           "width": 1.3
          },
          "opacity": 0.8,
          "size": 12,
          "symbol": "circle"
         },
         "mode": "markers",
         "name": "(45, 50]",
         "text": [
          "NASA Internship Report"
         ],
         "textfont": {
          "color": "#666666"
         },
         "type": "scatter",
         "x": [
          0
         ],
         "y": [
          558.0200849386921
         ]
        },
        {
         "marker": {
          "color": "rgba(246, 232, 195, 1.0)",
          "line": {
           "width": 1.3
          },
          "opacity": 0.8,
          "size": 12,
          "symbol": "circle"
         },
         "mode": "markers",
         "name": "(15, 20]",
         "text": [
          "The Ascent of Humanity",
          "Top Books of 2017",
          "Improving the Random Forest in Python Part 1",
          "Machine Learning Kaggle Competition Part Two: Improving",
          "Automated Machine Learning Hyperparameter Tuning in Python",
          "A “Data Science for Good“ Machine Learning Project Walk-Through in Python: Part One",
          "An Implementation and Explanation of the Random Forest in Python",
          "Wikipedia Data Science: Working with the World’s Largest Encyclopedia"
         ],
         "textfont": {
          "color": "#666666"
         },
         "type": "scatter",
         "x": [
          0,
          123,
          865,
          1300,
          2400,
          3800,
          1100,
          3400
         ],
         "y": [
          545.3034809904862,
          392.3287214495833,
          387.0576305824537,
          223.04379871745368,
          209.44029542083334,
          161.4928592507176,
          151.37068348711804,
          127.46704148513888
         ]
        },
        {
         "marker": {
          "color": "rgba(245, 245, 245, 1.0)",
          "line": {
           "width": 1.3
          },
          "opacity": 0.8,
          "size": 12,
          "symbol": "circle"
         },
         "mode": "markers",
         "name": "(35, 40]",
         "text": [
          "Facial Recognition Using Google’s Convolutional Neural Network"
         ],
         "textfont": {
          "color": "#666666"
         },
         "type": "scatter",
         "x": [
          704
         ],
         "y": [
          539.3015251376505
         ]
        },
        {
         "marker": {
          "color": "rgba(199, 234, 229, 1.0)",
          "line": {
           "width": 1.3
          },
          "opacity": 0.8,
          "size": 12,
          "symbol": "circle"
         },
         "mode": "markers",
         "name": "(30, 35]",
         "text": [
          "Exploratory Data Analysis with R (No Code)",
          "Machine Learning with Python on the Enron Dataset",
          "Building Energy Data Analysis Part Four"
         ],
         "textfont": {
          "color": "#666666"
         },
         "type": "scatter",
         "x": [
          5,
          167,
          24
         ],
         "y": [
          538.3616308881944,
          526.1891594631713,
          34.009006550671295
         ]
        },
        {
         "marker": {
          "color": "rgba(128, 205, 193, 1.0)",
          "line": {
           "width": 1.3
          },
          "opacity": 0.8,
          "size": 12,
          "symbol": "circle"
         },
         "mode": "markers",
         "name": "(25, 30]",
         "text": [
          "Data Analysis with Python",
          "Data Wrangling with Python and SQLite",
          "Books of 2018"
         ],
         "textfont": {
          "color": "#666666"
         },
         "type": "scatter",
         "x": [
          87,
          23,
          539
         ],
         "y": [
          534.2649433761227,
          534.1913703218287,
          32.38009209974537
         ]
        },
        {
         "marker": {
          "color": "rgba(53, 151, 143, 1.0)",
          "line": {
           "width": 1.3
          },
          "opacity": 0.8,
          "size": 12,
          "symbol": "circle"
         },
         "mode": "markers",
         "name": "(20, 25]",
         "text": [
          "Artificial Intelligence Part 1: Search",
          "Random Forest in Python",
          "Building Energy Data Analysis Part Two"
         ],
         "textfont": {
          "color": "#666666"
         },
         "type": "scatter",
         "x": [
          17,
          4900,
          0
         ],
         "y": [
          493.27377432550924,
          397.4293953507986,
          34.00809835439815
         ]
        },
        {
         "marker": {
          "color": "rgba(1, 102, 94, 1.0)",
          "line": {
           "width": 1.3
          },
          "opacity": 0.8,
          "size": 12,
          "symbol": "circle"
         },
         "mode": "markers",
         "name": "(0, 5]",
         "text": [
          "The Simple Science of Global Warming",
          "A Review of the Coursera Machine Learning Specialization",
          "Learn By Sharing",
          "Python is the Perfect Tool for any Problem",
          "Slow Tech: Take Back Your Mind",
          "Unintended Consequences and Goodhart’s Law",
          "If your files are saved only on your laptop they might as well not exist!",
          "How to Visualize a Decision Tree from a Random Forest in Python using Scikit-Learn",
          "How to Put Fully Interactive, Runnable Code in a Medium Post",
          "Five Minutes to Your Own Website",
          "Jupyter Notebook Extensions",
          "Docker for Data Science Without the Hassle"
         ],
         "textfont": {
          "color": "#666666"
         },
         "type": "scatter",
         "x": [
          11,
          82,
          1600,
          12900,
          101,
          977,
          363,
          906,
          658,
          797,
          3800,
          730
         ],
         "y": [
          385.4954133210764,
          376.08059837900464,
          369.1330005642593,
          358.51825893546294,
          351.1118723947454,
          338.5035495385648,
          273.4401389939236,
          163.07584995606481,
          152.1039705243287,
          134.46337733312498,
          52.2235387972801,
          42.06569560732639
         ]
        },
        {
         "marker": {
          "color": "rgba(0, 60, 48, 1.0)",
          "line": {
           "width": 1.3
          },
          "opacity": 0.8,
          "size": 12,
          "symbol": "circle"
         },
         "mode": "markers",
         "name": "(50, 55]",
         "text": [
          "Data Science for Virtual Energy Audits"
         ],
         "textfont": {
          "color": "#666666"
         },
         "type": "scatter",
         "x": [
          31
         ],
         "y": [
          34.01111164185185
         ]
        }
       ],
       "layout": {
        "autosize": true,
        "legend": {
         "bgcolor": "#FFFFFF",
         "font": {
          "color": "#666666"
         }
        },
        "paper_bgcolor": "#FFFFFF",
        "plot_bgcolor": "#E5E5E5",
        "template": {
         "data": {
          "bar": [
           {
            "error_x": {
             "color": "#2a3f5f"
            },
            "error_y": {
             "color": "#2a3f5f"
            },
            "marker": {
             "line": {
              "color": "#E5ECF6",
              "width": 0.5
             },
             "pattern": {
              "fillmode": "overlay",
              "size": 10,
              "solidity": 0.2
             }
            },
            "type": "bar"
           }
          ],
          "barpolar": [
           {
            "marker": {
             "line": {
              "color": "#E5ECF6",
              "width": 0.5
             },
             "pattern": {
              "fillmode": "overlay",
              "size": 10,
              "solidity": 0.2
             }
            },
            "type": "barpolar"
           }
          ],
          "carpet": [
           {
            "aaxis": {
             "endlinecolor": "#2a3f5f",
             "gridcolor": "white",
             "linecolor": "white",
             "minorgridcolor": "white",
             "startlinecolor": "#2a3f5f"
            },
            "baxis": {
             "endlinecolor": "#2a3f5f",
             "gridcolor": "white",
             "linecolor": "white",
             "minorgridcolor": "white",
             "startlinecolor": "#2a3f5f"
            },
            "type": "carpet"
           }
          ],
          "choropleth": [
           {
            "colorbar": {
             "outlinewidth": 0,
             "ticks": ""
            },
            "type": "choropleth"
           }
          ],
          "contour": [
           {
            "colorbar": {
             "outlinewidth": 0,
             "ticks": ""
            },
            "colorscale": [
             [
              0,
              "#0d0887"
             ],
             [
              0.1111111111111111,
              "#46039f"
             ],
             [
              0.2222222222222222,
              "#7201a8"
             ],
             [
              0.3333333333333333,
              "#9c179e"
             ],
             [
              0.4444444444444444,
              "#bd3786"
             ],
             [
              0.5555555555555556,
              "#d8576b"
             ],
             [
              0.6666666666666666,
              "#ed7953"
             ],
             [
              0.7777777777777778,
              "#fb9f3a"
             ],
             [
              0.8888888888888888,
              "#fdca26"
             ],
             [
              1,
              "#f0f921"
             ]
            ],
            "type": "contour"
           }
          ],
          "contourcarpet": [
           {
            "colorbar": {
             "outlinewidth": 0,
             "ticks": ""
            },
            "type": "contourcarpet"
           }
          ],
          "heatmap": [
           {
            "colorbar": {
             "outlinewidth": 0,
             "ticks": ""
            },
            "colorscale": [
             [
              0,
              "#0d0887"
             ],
             [
              0.1111111111111111,
              "#46039f"
             ],
             [
              0.2222222222222222,
              "#7201a8"
             ],
             [
              0.3333333333333333,
              "#9c179e"
             ],
             [
              0.4444444444444444,
              "#bd3786"
             ],
             [
              0.5555555555555556,
              "#d8576b"
             ],
             [
              0.6666666666666666,
              "#ed7953"
             ],
             [
              0.7777777777777778,
              "#fb9f3a"
             ],
             [
              0.8888888888888888,
              "#fdca26"
             ],
             [
              1,
              "#f0f921"
             ]
            ],
            "type": "heatmap"
           }
          ],
          "heatmapgl": [
           {
            "colorbar": {
             "outlinewidth": 0,
             "ticks": ""
            },
            "colorscale": [
             [
              0,
              "#0d0887"
             ],
             [
              0.1111111111111111,
              "#46039f"
             ],
             [
              0.2222222222222222,
              "#7201a8"
             ],
             [
              0.3333333333333333,
              "#9c179e"
             ],
             [
              0.4444444444444444,
              "#bd3786"
             ],
             [
              0.5555555555555556,
              "#d8576b"
             ],
             [
              0.6666666666666666,
              "#ed7953"
             ],
             [
              0.7777777777777778,
              "#fb9f3a"
             ],
             [
              0.8888888888888888,
              "#fdca26"
             ],
             [
              1,
              "#f0f921"
             ]
            ],
            "type": "heatmapgl"
           }
          ],
          "histogram": [
           {
            "marker": {
             "pattern": {
              "fillmode": "overlay",
              "size": 10,
              "solidity": 0.2
             }
            },
            "type": "histogram"
           }
          ],
          "histogram2d": [
           {
            "colorbar": {
             "outlinewidth": 0,
             "ticks": ""
            },
            "colorscale": [
             [
              0,
              "#0d0887"
             ],
             [
              0.1111111111111111,
              "#46039f"
             ],
             [
              0.2222222222222222,
              "#7201a8"
             ],
             [
              0.3333333333333333,
              "#9c179e"
             ],
             [
              0.4444444444444444,
              "#bd3786"
             ],
             [
              0.5555555555555556,
              "#d8576b"
             ],
             [
              0.6666666666666666,
              "#ed7953"
             ],
             [
              0.7777777777777778,
              "#fb9f3a"
             ],
             [
              0.8888888888888888,
              "#fdca26"
             ],
             [
              1,
              "#f0f921"
             ]
            ],
            "type": "histogram2d"
           }
          ],
          "histogram2dcontour": [
           {
            "colorbar": {
             "outlinewidth": 0,
             "ticks": ""
            },
            "colorscale": [
             [
              0,
              "#0d0887"
             ],
             [
              0.1111111111111111,
              "#46039f"
             ],
             [
              0.2222222222222222,
              "#7201a8"
             ],
             [
              0.3333333333333333,
              "#9c179e"
             ],
             [
              0.4444444444444444,
              "#bd3786"
             ],
             [
              0.5555555555555556,
              "#d8576b"
             ],
             [
              0.6666666666666666,
              "#ed7953"
             ],
             [
              0.7777777777777778,
              "#fb9f3a"
             ],
             [
              0.8888888888888888,
              "#fdca26"
             ],
             [
              1,
              "#f0f921"
             ]
            ],
            "type": "histogram2dcontour"
           }
          ],
          "mesh3d": [
           {
            "colorbar": {
             "outlinewidth": 0,
             "ticks": ""
            },
            "type": "mesh3d"
           }
          ],
          "parcoords": [
           {
            "line": {
             "colorbar": {
              "outlinewidth": 0,
              "ticks": ""
             }
            },
            "type": "parcoords"
           }
          ],
          "pie": [
           {
            "automargin": true,
            "type": "pie"
           }
          ],
          "scatter": [
           {
            "fillpattern": {
             "fillmode": "overlay",
             "size": 10,
             "solidity": 0.2
            },
            "type": "scatter"
           }
          ],
          "scatter3d": [
           {
            "line": {
             "colorbar": {
              "outlinewidth": 0,
              "ticks": ""
             }
            },
            "marker": {
             "colorbar": {
              "outlinewidth": 0,
              "ticks": ""
             }
            },
            "type": "scatter3d"
           }
          ],
          "scattercarpet": [
           {
            "marker": {
             "colorbar": {
              "outlinewidth": 0,
              "ticks": ""
             }
            },
            "type": "scattercarpet"
           }
          ],
          "scattergeo": [
           {
            "marker": {
             "colorbar": {
              "outlinewidth": 0,
              "ticks": ""
             }
            },
            "type": "scattergeo"
           }
          ],
          "scattergl": [
           {
            "marker": {
             "colorbar": {
              "outlinewidth": 0,
              "ticks": ""
             }
            },
            "type": "scattergl"
           }
          ],
          "scattermapbox": [
           {
            "marker": {
             "colorbar": {
              "outlinewidth": 0,
              "ticks": ""
             }
            },
            "type": "scattermapbox"
           }
          ],
          "scatterpolar": [
           {
            "marker": {
             "colorbar": {
              "outlinewidth": 0,
              "ticks": ""
             }
            },
            "type": "scatterpolar"
           }
          ],
          "scatterpolargl": [
           {
            "marker": {
             "colorbar": {
              "outlinewidth": 0,
              "ticks": ""
             }
            },
            "type": "scatterpolargl"
           }
          ],
          "scatterternary": [
           {
            "marker": {
             "colorbar": {
              "outlinewidth": 0,
              "ticks": ""
             }
            },
            "type": "scatterternary"
           }
          ],
          "surface": [
           {
            "colorbar": {
             "outlinewidth": 0,
             "ticks": ""
            },
            "colorscale": [
             [
              0,
              "#0d0887"
             ],
             [
              0.1111111111111111,
              "#46039f"
             ],
             [
              0.2222222222222222,
              "#7201a8"
             ],
             [
              0.3333333333333333,
              "#9c179e"
             ],
             [
              0.4444444444444444,
              "#bd3786"
             ],
             [
              0.5555555555555556,
              "#d8576b"
             ],
             [
              0.6666666666666666,
              "#ed7953"
             ],
             [
              0.7777777777777778,
              "#fb9f3a"
             ],
             [
              0.8888888888888888,
              "#fdca26"
             ],
             [
              1,
              "#f0f921"
             ]
            ],
            "type": "surface"
           }
          ],
          "table": [
           {
            "cells": {
             "fill": {
              "color": "#EBF0F8"
             },
             "line": {
              "color": "white"
             }
            },
            "header": {
             "fill": {
              "color": "#C8D4E3"
             },
             "line": {
              "color": "white"
             }
            },
            "type": "table"
           }
          ]
         },
         "layout": {
          "annotationdefaults": {
           "arrowcolor": "#2a3f5f",
           "arrowhead": 0,
           "arrowwidth": 1
          },
          "autotypenumbers": "strict",
          "coloraxis": {
           "colorbar": {
            "outlinewidth": 0,
            "ticks": ""
           }
          },
          "colorscale": {
           "diverging": [
            [
             0,
             "#8e0152"
            ],
            [
             0.1,
             "#c51b7d"
            ],
            [
             0.2,
             "#de77ae"
            ],
            [
             0.3,
             "#f1b6da"
            ],
            [
             0.4,
             "#fde0ef"
            ],
            [
             0.5,
             "#f7f7f7"
            ],
            [
             0.6,
             "#e6f5d0"
            ],
            [
             0.7,
             "#b8e186"
            ],
            [
             0.8,
             "#7fbc41"
            ],
            [
             0.9,
             "#4d9221"
            ],
            [
             1,
             "#276419"
            ]
           ],
           "sequential": [
            [
             0,
             "#0d0887"
            ],
            [
             0.1111111111111111,
             "#46039f"
            ],
            [
             0.2222222222222222,
             "#7201a8"
            ],
            [
             0.3333333333333333,
             "#9c179e"
            ],
            [
             0.4444444444444444,
             "#bd3786"
            ],
            [
             0.5555555555555556,
             "#d8576b"
            ],
            [
             0.6666666666666666,
             "#ed7953"
            ],
            [
             0.7777777777777778,
             "#fb9f3a"
            ],
            [
             0.8888888888888888,
             "#fdca26"
            ],
            [
             1,
             "#f0f921"
            ]
           ],
           "sequentialminus": [
            [
             0,
             "#0d0887"
            ],
            [
             0.1111111111111111,
             "#46039f"
            ],
            [
             0.2222222222222222,
             "#7201a8"
            ],
            [
             0.3333333333333333,
             "#9c179e"
            ],
            [
             0.4444444444444444,
             "#bd3786"
            ],
            [
             0.5555555555555556,
             "#d8576b"
            ],
            [
             0.6666666666666666,
             "#ed7953"
            ],
            [
             0.7777777777777778,
             "#fb9f3a"
            ],
            [
             0.8888888888888888,
             "#fdca26"
            ],
            [
             1,
             "#f0f921"
            ]
           ]
          },
          "colorway": [
           "#636efa",
           "#EF553B",
           "#00cc96",
           "#ab63fa",
           "#FFA15A",
           "#19d3f3",
           "#FF6692",
           "#B6E880",
           "#FF97FF",
           "#FECB52"
          ],
          "font": {
           "color": "#2a3f5f"
          },
          "geo": {
           "bgcolor": "white",
           "lakecolor": "white",
           "landcolor": "#E5ECF6",
           "showlakes": true,
           "showland": true,
           "subunitcolor": "white"
          },
          "hoverlabel": {
           "align": "left"
          },
          "hovermode": "closest",
          "mapbox": {
           "style": "light"
          },
          "paper_bgcolor": "white",
          "plot_bgcolor": "#E5ECF6",
          "polar": {
           "angularaxis": {
            "gridcolor": "white",
            "linecolor": "white",
            "ticks": ""
           },
           "bgcolor": "#E5ECF6",
           "radialaxis": {
            "gridcolor": "white",
            "linecolor": "white",
            "ticks": ""
           }
          },
          "scene": {
           "xaxis": {
            "backgroundcolor": "#E5ECF6",
            "gridcolor": "white",
            "gridwidth": 2,
            "linecolor": "white",
            "showbackground": true,
            "ticks": "",
            "zerolinecolor": "white"
           },
           "yaxis": {
            "backgroundcolor": "#E5ECF6",
            "gridcolor": "white",
            "gridwidth": 2,
            "linecolor": "white",
            "showbackground": true,
            "ticks": "",
            "zerolinecolor": "white"
           },
           "zaxis": {
            "backgroundcolor": "#E5ECF6",
            "gridcolor": "white",
            "gridwidth": 2,
            "linecolor": "white",
            "showbackground": true,
            "ticks": "",
            "zerolinecolor": "white"
           }
          },
          "shapedefaults": {
           "line": {
            "color": "#2a3f5f"
           }
          },
          "ternary": {
           "aaxis": {
            "gridcolor": "white",
            "linecolor": "white",
            "ticks": ""
           },
           "baxis": {
            "gridcolor": "white",
            "linecolor": "white",
            "ticks": ""
           },
           "bgcolor": "#E5ECF6",
           "caxis": {
            "gridcolor": "white",
            "linecolor": "white",
            "ticks": ""
           }
          },
          "title": {
           "x": 0.05
          },
          "xaxis": {
           "automargin": true,
           "gridcolor": "white",
           "linecolor": "white",
           "ticks": "",
           "title": {
            "standoff": 15
           },
           "zerolinecolor": "white",
           "zerolinewidth": 2
          },
          "yaxis": {
           "automargin": true,
           "gridcolor": "white",
           "linecolor": "white",
           "ticks": "",
           "title": {
            "standoff": 15
           },
           "zerolinecolor": "white",
           "zerolinewidth": 2
          }
         }
        },
        "title": {
         "font": {
          "color": "#151516"
         },
         "text": "Days_Since_Publication vs Claps"
        },
        "xaxis": {
         "autorange": true,
         "gridcolor": "#F6F6F6",
         "range": [
          -922.7138643067847,
          14522.713864306785
         ],
         "showgrid": true,
         "tickfont": {
          "color": "#666666"
         },
         "title": {
          "font": {
           "color": "#666666"
          },
          "text": "Claps"
         },
         "type": "linear",
         "zerolinecolor": "#F6F6F6"
        },
        "yaxis": {
         "autorange": true,
         "gridcolor": "#F6F6F6",
         "range": [
          -65.68858947042433,
          664.2083422323109
         ],
         "showgrid": true,
         "tickfont": {
          "color": "#666666"
         },
         "title": {
          "font": {
           "color": "#666666"
          },
          "text": "Days_Since_Publication"
         },
         "type": "linear",
         "zerolinecolor": "#F6F6F6"
        }
       }
      },
      "image/png": "[encoded data removed]",
      "text/html": [
       "<div>                            <div id=\"d78dd742-e867-46be-a6bf-d4d8253e1c1d\" class=\"plotly-graph-div\" style=\"height:525px; width:100%;\"></div>            <script type=\"text/javascript\">                require([\"plotly\"], function(Plotly) {                    window.PLOTLYENV=window.PLOTLYENV || {};\n",
       "                    window.PLOTLYENV.BASE_URL='https://plot.ly';                                    if (document.getElementById(\"d78dd742-e867-46be-a6bf-d4d8253e1c1d\")) {                    Plotly.newPlot(                        \"d78dd742-e867-46be-a6bf-d4d8253e1c1d\",                        [{\"marker\":{\"color\":\"rgba(84, 48, 5, 1.0)\",\"line\":{\"width\":1.3},\"opacity\":0.8,\"size\":12,\"symbol\":\"circle\"},\"mode\":\"markers\",\"name\":\"(5, 10]\",\"text\":[\"Screw the Environment, but Consider Your Wallet\",\"Home of the Scared\",\"Make an Effort, Not an Excuse\",\"Controlling your Location in Google Chrome\",\"The Worst They Can Say is No\",\"The Case for Criticism\",\"Complete Books of 2017\",\"The Failures of Common Sense\",\"The Perils of Rare Events\",\"Correlation vs. Causation: An Example\",\"Real Life Superpowers\",\"Overfitting vs. Underfitting: A Conceptual Explanation\",\"How to Master New Skills\",\"Statistical Significance Explained\",\"The Misleading Effect of Noise: The Multiple Comparisons Problem\",\"Bayes’ Rule Applied\",\"Data Visualization Hackathon Style\",\"Controlling the Web with Python\",\"Data Visualization with Bokeh in Python, Part II: Interactions\",\"Data Visualization with Bokeh in Python, Part III: Making a Complete Dashboard\",\"Visualizing Data with Pairs Plots in Python\",\"Introduction to Bayesian Linear Regression\",\"Web Scraping, Regular Expressions, and Data Visualization: Doing it all in Python\",\"Automated Machine Learning on the Cloud in Python\",\"A Feature Selection Tool for Machine Learning in Python\",\"An Introductory Example of Bayesian Optimization in Python with Hyperopt\",\"How to get the right data? Trying asking for it.\",\"The most important part of a data science project is writing a blog post\",\"Parallelizing Feature Engineering with Dask\",\"Practical Advice for Data Science Writing\",\"Converting Medium Posts to Markdown for Your Blog\",\"Featuretools on Spark\",\"Neural Network Embeddings Explained\",\"Simpson’s Paradox: How to Prove Opposite Arguments with the Same Data\",\"The Power of I Don’t Know\",\"Overcome Your Biases with Data\",\"Prediction Engineering: How to Set Up Your Machine Learning Problem\",\"How to Create Value with Machine Learning\",\"Feature Engineering: What Powers Machine Learning\",\"Modeling: Teaching a Machine Learning Algorithm to Deliver Business Value\",\"Deploying a Keras Deep Learning Model as a Web Application in Python\",\"Deploying a Python Web App on AWS\",\"Python and Slack: A Natural Match\",\"How to Write a Jupyter Notebook Extension\",\"Please Steal My Articles\",\"Introduction to Interactive Time Series Visualizations with Plotly in Python\",\"Stop Regretting the Present\",\"On Blame\",\"What I learned in 2018\",\"The Copernican Principle and How to Use Statistics to Figure Out How Long Anything Will Last\",\"Announcing the Reality Project\",\"The Disappearing Poor\",\"The Next Level of Data Visualization in Python\",\"The Myth of Us vs Them\",\"Interactive Controls in Jupyter Notebooks\"],\"textfont\":{\"color\":\"#666666\"},\"x\":[2,0,2,5,8,9,72,59,21,1200,285,1600,4300,4970,225,6000,647,7000,1100,2600,2900,5500,8000,3900,5500,2800,717,4400,844,2900,246,347,2600,2100,966,710,815,755,603,940,2300,1400,2100,547,856,1000,205,121,418,730,453,626,7600,315,901],\"y\":[597.3011234928935,576.5206880427894,547.1585928973843,531.3165667823959,524.2700156780787,408.4711316033102,395.11609148437503,380.49090689327545,375.5302295332639,374.057076269838,371.30287774083337,366.05627657653935,362.41502231988426,360.50850330781253,355.52055696855325,348.4246294948727,342.3672663808449,324.2237845179977,314.49385861916664,303.5431680369791,297.31014599925925,290.0418619020949,275.2574436720486,252.30707613392363,220.4763571140278,214.54560088826392,186.50202452077545,170.65633337769677,165.28853490334492,147.1741579396412,134.1546791284375,124.33105608341435,119.0234442440625,108.38023233480325,103.46704841506943,88.03775204251157,82.47490355932871,82.47320225390047,77.52644544283565,74.5438217130787,71.98887388260417,71.06999180240742,58.40827168365741,51.289980235289356,50.015705424664354,44.37431741674769,43.02407055767361,35.0521156375,34.25713649174769,30.417934632164354,26.557568693715275,26.506609918437498,19.978734082060186,12.204313545636573,1.2186292689930556],\"type\":\"scatter\"},{\"marker\":{\"color\":\"rgba(140, 81, 10, 1.0)\",\"line\":{\"width\":1.3},\"opacity\":0.8,\"size\":12,\"symbol\":\"circle\"},\"mode\":\"markers\",\"name\":\"(10, 15]\",\"text\":[\"The Vanquishing of War, Plague and Famine\",\"The Triumph of Peace\",\"Deep Neural Network Classifier\",\"Object Recognition with Google’s Convolutional Neural Networks\",\"The Technology Frontier\",\"Random Forest Simple Explanation\",\"Data Science: A Personal Application\",\"A Theory of Prediction\",\"Hyperparameter Tuning the Random Forest in Python\",\"Time Series Analysis in Python: An Introduction\",\"Stock Analysis in Python\",\"Stock Prediction in Python\",\"Overfitting vs. Underfitting: A Complete Example\",\"Markov Chain Monte Carlo in Python\",\"Beyond Accuracy: Precision and Recall\",\"Data Visualization with Bokeh in Python, Part I: Getting Started\",\"Histograms and Density Plots in Python\",\"Bayesian Linear Regression in Python: Using Machine Learning to Predict Student Grades Part 1\",\"Bayesian Linear Regression in Python: Using Machine Learning to Predict Student Grades Part 2\",\"A Complete Machine Learning Project Walk-Through in Python: Part One\",\"A Complete Machine Learning Walk-Through in Python: Part Two\",\"A Complete Machine Learning Walk-Through in Python: Part Three\",\"Machine Learning Kaggle Competition Part One: Getting Started\",\"Automated Feature Engineering in Python\",\"A Conceptual Explanation of Bayesian Hyperparameter Optimization for Machine Learning\",\"Machine Learning Kaggle Competition: Part Three Optimization\",\"Why Automated Feature Engineering Will Change the Way You Do Machine Learning\",\"A “Data Science for Good” Machine Learning Project Walk-Through in Python: Part Two\",\"Another Machine Learning Walk-Through and a Challenge\",\"Building a Recommendation System Using Neural Network Embeddings\",\"My Weaknesses as a Data Scientist\",\"Recurrent Neural Networks by Example in Python\",\"Transfer Learning with Convolutional Neural Networks in PyTorch\",\"Estimating Probabilities with Bayesian Modeling in Python\",\"Virtual Building Energy Audits — Preliminary Report\",\"Building Energy Data Analysis Part One\",\"Data Science with Medium Story Stats in Python\",\"Has Global Violence Declined? A Look at the Data\",\"A Non-Technical Reading List for Data Science\",\"The Reality of Global Nuclear Weapons and How Russian Nukes Turned On Your Lights\",\"The Poisson Distribution and Poisson Process Explained\",\"A Great Public Health Conspiracy?\"],\"textfont\":{\"color\":\"#666666\"},\"x\":[18,0,73,240,7,3000,186,120,2100,4100,2800,7300,1100,5100,7000,2700,3000,1300,1000,13600,4100,2200,6400,8500,2400,715,3300,662,3100,981,3300,2500,787,2800,0,6,582,386,1800,370,2000,53],\"y\":[589.9831678934722,572.5330352605787,552.1556248098611,550.0150101095486,536.0693024557986,397.4277877258797,386.0425008728935,385.1945411716667,383.9926222874884,381.0352299594097,376.26001103743056,374.25597562319444,365.5400972110185,352.9647862130903,331.4365996720949,317.4644109924653,311.37095904774304,283.33863078045135,283.33590105774306,257.37869697715274,256.5031338793634,255.49303694083335,245.41612982315974,240.48394241055556,218.55013955496528,192.52871201636574,172.5235798258449,161.4909019917708,140.50823078605325,116.35277775572916,94.25432953921296,85.00553926068287,63.34277000334491,61.469023250590276,34.00981653321759,34.007692483854164,28.156351569837963,23.02377654986111,18.266623060266202,16.337141827581018,8.215424677094907,3.547005433310185],\"type\":\"scatter\"},{\"marker\":{\"color\":\"rgba(191, 129, 45, 1.0)\",\"line\":{\"width\":1.3},\"opacity\":0.8,\"size\":12,\"symbol\":\"circle\"},\"mode\":\"markers\",\"name\":\"(40, 45]\",\"text\":[\"Capstone Project: Mercedes-Benz Greener Manufacturing Competition\",\"Exploratory Data Analysis with R\",\"Building Energy Data Analysis Part Three\",\"Books of 2018 Notes\"],\"textfont\":{\"color\":\"#666666\"},\"x\":[51,58,5,0],\"y\":[577.3632923185879,538.3616333815626,34.00856147113426,32.568144913657406],\"type\":\"scatter\"},{\"marker\":{\"color\":\"rgba(223, 194, 125, 1.0)\",\"line\":{\"width\":1.3},\"opacity\":0.8,\"size\":12,\"symbol\":\"circle\"},\"mode\":\"markers\",\"name\":\"(45, 50]\",\"text\":[\"NASA Internship Report\"],\"textfont\":{\"color\":\"#666666\"},\"x\":[0],\"y\":[558.0200849386921],\"type\":\"scatter\"},{\"marker\":{\"color\":\"rgba(246, 232, 195, 1.0)\",\"line\":{\"width\":1.3},\"opacity\":0.8,\"size\":12,\"symbol\":\"circle\"},\"mode\":\"markers\",\"name\":\"(15, 20]\",\"text\":[\"The Ascent of Humanity\",\"Top Books of 2017\",\"Improving the Random Forest in Python Part 1\",\"Machine Learning Kaggle Competition Part Two: Improving\",\"Automated Machine Learning Hyperparameter Tuning in Python\",\"A “Data Science for Good“ Machine Learning Project Walk-Through in Python: Part One\",\"An Implementation and Explanation of the Random Forest in Python\",\"Wikipedia Data Science: Working with the World’s Largest Encyclopedia\"],\"textfont\":{\"color\":\"#666666\"},\"x\":[0,123,865,1300,2400,3800,1100,3400],\"y\":[545.3034809904862,392.3287214495833,387.0576305824537,223.04379871745368,209.44029542083334,161.4928592507176,151.37068348711804,127.46704148513888],\"type\":\"scatter\"},{\"marker\":{\"color\":\"rgba(245, 245, 245, 1.0)\",\"line\":{\"width\":1.3},\"opacity\":0.8,\"size\":12,\"symbol\":\"circle\"},\"mode\":\"markers\",\"name\":\"(35, 40]\",\"text\":[\"Facial Recognition Using Google’s Convolutional Neural Network\"],\"textfont\":{\"color\":\"#666666\"},\"x\":[704],\"y\":[539.3015251376505],\"type\":\"scatter\"},{\"marker\":{\"color\":\"rgba(199, 234, 229, 1.0)\",\"line\":{\"width\":1.3},\"opacity\":0.8,\"size\":12,\"symbol\":\"circle\"},\"mode\":\"markers\",\"name\":\"(30, 35]\",\"text\":[\"Exploratory Data Analysis with R (No Code)\",\"Machine Learning with Python on the Enron Dataset\",\"Building Energy Data Analysis Part Four\"],\"textfont\":{\"color\":\"#666666\"},\"x\":[5,167,24],\"y\":[538.3616308881944,526.1891594631713,34.009006550671295],\"type\":\"scatter\"},{\"marker\":{\"color\":\"rgba(128, 205, 193, 1.0)\",\"line\":{\"width\":1.3},\"opacity\":0.8,\"size\":12,\"symbol\":\"circle\"},\"mode\":\"markers\",\"name\":\"(25, 30]\",\"text\":[\"Data Analysis with Python\",\"Data Wrangling with Python and SQLite\",\"Books of 2018\"],\"textfont\":{\"color\":\"#666666\"},\"x\":[87,23,539],\"y\":[534.2649433761227,534.1913703218287,32.38009209974537],\"type\":\"scatter\"},{\"marker\":{\"color\":\"rgba(53, 151, 143, 1.0)\",\"line\":{\"width\":1.3},\"opacity\":0.8,\"size\":12,\"symbol\":\"circle\"},\"mode\":\"markers\",\"name\":\"(20, 25]\",\"text\":[\"Artificial Intelligence Part 1: Search\",\"Random Forest in Python\",\"Building Energy Data Analysis Part Two\"],\"textfont\":{\"color\":\"#666666\"},\"x\":[17,4900,0],\"y\":[493.27377432550924,397.4293953507986,34.00809835439815],\"type\":\"scatter\"},{\"marker\":{\"color\":\"rgba(1, 102, 94, 1.0)\",\"line\":{\"width\":1.3},\"opacity\":0.8,\"size\":12,\"symbol\":\"circle\"},\"mode\":\"markers\",\"name\":\"(0, 5]\",\"text\":[\"The Simple Science of Global Warming\",\"A Review of the Coursera Machine Learning Specialization\",\"Learn By Sharing\",\"Python is the Perfect Tool for any Problem\",\"Slow Tech: Take Back Your Mind\",\"Unintended Consequences and Goodhart’s Law\",\"If your files are saved only on your laptop they might as well not exist!\",\"How to Visualize a Decision Tree from a Random Forest in Python using Scikit-Learn\",\"How to Put Fully Interactive, Runnable Code in a Medium Post\",\"Five Minutes to Your Own Website\",\"Jupyter Notebook Extensions\",\"Docker for Data Science Without the Hassle\"],\"textfont\":{\"color\":\"#666666\"},\"x\":[11,82,1600,12900,101,977,363,906,658,797,3800,730],\"y\":[385.4954133210764,376.08059837900464,369.1330005642593,358.51825893546294,351.1118723947454,338.5035495385648,273.4401389939236,163.07584995606481,152.1039705243287,134.46337733312498,52.2235387972801,42.06569560732639],\"type\":\"scatter\"},{\"marker\":{\"color\":\"rgba(0, 60, 48, 1.0)\",\"line\":{\"width\":1.3},\"opacity\":0.8,\"size\":12,\"symbol\":\"circle\"},\"mode\":\"markers\",\"name\":\"(50, 55]\",\"text\":[\"Data Science for Virtual Energy Audits\"],\"textfont\":{\"color\":\"#666666\"},\"x\":[31],\"y\":[34.01111164185185],\"type\":\"scatter\"}],                        {\"legend\":{\"bgcolor\":\"#FFFFFF\",\"font\":{\"color\":\"#666666\"}},\"paper_bgcolor\":\"#FFFFFF\",\"plot_bgcolor\":\"#E5E5E5\",\"template\":{\"data\":{\"barpolar\":[{\"marker\":{\"line\":{\"color\":\"#E5ECF6\",\"width\":0.5},\"pattern\":{\"fillmode\":\"overlay\",\"size\":10,\"solidity\":0.2}},\"type\":\"barpolar\"}],\"bar\":[{\"error_x\":{\"color\":\"#2a3f5f\"},\"error_y\":{\"color\":\"#2a3f5f\"},\"marker\":{\"line\":{\"color\":\"#E5ECF6\",\"width\":0.5},\"pattern\":{\"fillmode\":\"overlay\",\"size\":10,\"solidity\":0.2}},\"type\":\"bar\"}],\"carpet\":[{\"aaxis\":{\"endlinecolor\":\"#2a3f5f\",\"gridcolor\":\"white\",\"linecolor\":\"white\",\"minorgridcolor\":\"white\",\"startlinecolor\":\"#2a3f5f\"},\"baxis\":{\"endlinecolor\":\"#2a3f5f\",\"gridcolor\":\"white\",\"linecolor\":\"white\",\"minorgridcolor\":\"white\",\"startlinecolor\":\"#2a3f5f\"},\"type\":\"carpet\"}],\"choropleth\":[{\"colorbar\":{\"outlinewidth\":0,\"ticks\":\"\"},\"type\":\"choropleth\"}],\"contourcarpet\":[{\"colorbar\":{\"outlinewidth\":0,\"ticks\":\"\"},\"type\":\"contourcarpet\"}],\"contour\":[{\"colorbar\":{\"outlinewidth\":0,\"ticks\":\"\"},\"colorscale\":[[0.0,\"#0d0887\"],[0.1111111111111111,\"#46039f\"],[0.2222222222222222,\"#7201a8\"],[0.3333333333333333,\"#9c179e\"],[0.4444444444444444,\"#bd3786\"],[0.5555555555555556,\"#d8576b\"],[0.6666666666666666,\"#ed7953\"],[0.7777777777777778,\"#fb9f3a\"],[0.8888888888888888,\"#fdca26\"],[1.0,\"#f0f921\"]],\"type\":\"contour\"}],\"heatmapgl\":[{\"colorbar\":{\"outlinewidth\":0,\"ticks\":\"\"},\"colorscale\":[[0.0,\"#0d0887\"],[0.1111111111111111,\"#46039f\"],[0.2222222222222222,\"#7201a8\"],[0.3333333333333333,\"#9c179e\"],[0.4444444444444444,\"#bd3786\"],[0.5555555555555556,\"#d8576b\"],[0.6666666666666666,\"#ed7953\"],[0.7777777777777778,\"#fb9f3a\"],[0.8888888888888888,\"#fdca26\"],[1.0,\"#f0f921\"]],\"type\":\"heatmapgl\"}],\"heatmap\":[{\"colorbar\":{\"outlinewidth\":0,\"ticks\":\"\"},\"colorscale\":[[0.0,\"#0d0887\"],[0.1111111111111111,\"#46039f\"],[0.2222222222222222,\"#7201a8\"],[0.3333333333333333,\"#9c179e\"],[0.4444444444444444,\"#bd3786\"],[0.5555555555555556,\"#d8576b\"],[0.6666666666666666,\"#ed7953\"],[0.7777777777777778,\"#fb9f3a\"],[0.8888888888888888,\"#fdca26\"],[1.0,\"#f0f921\"]],\"type\":\"heatmap\"}],\"histogram2dcontour\":[{\"colorbar\":{\"outlinewidth\":0,\"ticks\":\"\"},\"colorscale\":[[0.0,\"#0d0887\"],[0.1111111111111111,\"#46039f\"],[0.2222222222222222,\"#7201a8\"],[0.3333333333333333,\"#9c179e\"],[0.4444444444444444,\"#bd3786\"],[0.5555555555555556,\"#d8576b\"],[0.6666666666666666,\"#ed7953\"],[0.7777777777777778,\"#fb9f3a\"],[0.8888888888888888,\"#fdca26\"],[1.0,\"#f0f921\"]],\"type\":\"histogram2dcontour\"}],\"histogram2d\":[{\"colorbar\":{\"outlinewidth\":0,\"ticks\":\"\"},\"colorscale\":[[0.0,\"#0d0887\"],[0.1111111111111111,\"#46039f\"],[0.2222222222222222,\"#7201a8\"],[0.3333333333333333,\"#9c179e\"],[0.4444444444444444,\"#bd3786\"],[0.5555555555555556,\"#d8576b\"],[0.6666666666666666,\"#ed7953\"],[0.7777777777777778,\"#fb9f3a\"],[0.8888888888888888,\"#fdca26\"],[1.0,\"#f0f921\"]],\"type\":\"histogram2d\"}],\"histogram\":[{\"marker\":{\"pattern\":{\"fillmode\":\"overlay\",\"size\":10,\"solidity\":0.2}},\"type\":\"histogram\"}],\"mesh3d\":[{\"colorbar\":{\"outlinewidth\":0,\"ticks\":\"\"},\"type\":\"mesh3d\"}],\"parcoords\":[{\"line\":{\"colorbar\":{\"outlinewidth\":0,\"ticks\":\"\"}},\"type\":\"parcoords\"}],\"pie\":[{\"automargin\":true,\"type\":\"pie\"}],\"scatter3d\":[{\"line\":{\"colorbar\":{\"outlinewidth\":0,\"ticks\":\"\"}},\"marker\":{\"colorbar\":{\"outlinewidth\":0,\"ticks\":\"\"}},\"type\":\"scatter3d\"}],\"scattercarpet\":[{\"marker\":{\"colorbar\":{\"outlinewidth\":0,\"ticks\":\"\"}},\"type\":\"scattercarpet\"}],\"scattergeo\":[{\"marker\":{\"colorbar\":{\"outlinewidth\":0,\"ticks\":\"\"}},\"type\":\"scattergeo\"}],\"scattergl\":[{\"marker\":{\"colorbar\":{\"outlinewidth\":0,\"ticks\":\"\"}},\"type\":\"scattergl\"}],\"scattermapbox\":[{\"marker\":{\"colorbar\":{\"outlinewidth\":0,\"ticks\":\"\"}},\"type\":\"scattermapbox\"}],\"scatterpolargl\":[{\"marker\":{\"colorbar\":{\"outlinewidth\":0,\"ticks\":\"\"}},\"type\":\"scatterpolargl\"}],\"scatterpolar\":[{\"marker\":{\"colorbar\":{\"outlinewidth\":0,\"ticks\":\"\"}},\"type\":\"scatterpolar\"}],\"scatter\":[{\"fillpattern\":{\"fillmode\":\"overlay\",\"size\":10,\"solidity\":0.2},\"type\":\"scatter\"}],\"scatterternary\":[{\"marker\":{\"colorbar\":{\"outlinewidth\":0,\"ticks\":\"\"}},\"type\":\"scatterternary\"}],\"surface\":[{\"colorbar\":{\"outlinewidth\":0,\"ticks\":\"\"},\"colorscale\":[[0.0,\"#0d0887\"],[0.1111111111111111,\"#46039f\"],[0.2222222222222222,\"#7201a8\"],[0.3333333333333333,\"#9c179e\"],[0.4444444444444444,\"#bd3786\"],[0.5555555555555556,\"#d8576b\"],[0.6666666666666666,\"#ed7953\"],[0.7777777777777778,\"#fb9f3a\"],[0.8888888888888888,\"#fdca26\"],[1.0,\"#f0f921\"]],\"type\":\"surface\"}],\"table\":[{\"cells\":{\"fill\":{\"color\":\"#EBF0F8\"},\"line\":{\"color\":\"white\"}},\"header\":{\"fill\":{\"color\":\"#C8D4E3\"},\"line\":{\"color\":\"white\"}},\"type\":\"table\"}]},\"layout\":{\"annotationdefaults\":{\"arrowcolor\":\"#2a3f5f\",\"arrowhead\":0,\"arrowwidth\":1},\"autotypenumbers\":\"strict\",\"coloraxis\":{\"colorbar\":{\"outlinewidth\":0,\"ticks\":\"\"}},\"colorscale\":{\"diverging\":[[0,\"#8e0152\"],[0.1,\"#c51b7d\"],[0.2,\"#de77ae\"],[0.3,\"#f1b6da\"],[0.4,\"#fde0ef\"],[0.5,\"#f7f7f7\"],[0.6,\"#e6f5d0\"],[0.7,\"#b8e186\"],[0.8,\"#7fbc41\"],[0.9,\"#4d9221\"],[1,\"#276419\"]],\"sequential\":[[0.0,\"#0d0887\"],[0.1111111111111111,\"#46039f\"],[0.2222222222222222,\"#7201a8\"],[0.3333333333333333,\"#9c179e\"],[0.4444444444444444,\"#bd3786\"],[0.5555555555555556,\"#d8576b\"],[0.6666666666666666,\"#ed7953\"],[0.7777777777777778,\"#fb9f3a\"],[0.8888888888888888,\"#fdca26\"],[1.0,\"#f0f921\"]],\"sequentialminus\":[[0.0,\"#0d0887\"],[0.1111111111111111,\"#46039f\"],[0.2222222222222222,\"#7201a8\"],[0.3333333333333333,\"#9c179e\"],[0.4444444444444444,\"#bd3786\"],[0.5555555555555556,\"#d8576b\"],[0.6666666666666666,\"#ed7953\"],[0.7777777777777778,\"#fb9f3a\"],[0.8888888888888888,\"#fdca26\"],[1.0,\"#f0f921\"]]},\"colorway\":[\"#636efa\",\"#EF553B\",\"#00cc96\",\"#ab63fa\",\"#FFA15A\",\"#19d3f3\",\"#FF6692\",\"#B6E880\",\"#FF97FF\",\"#FECB52\"],\"font\":{\"color\":\"#2a3f5f\"},\"geo\":{\"bgcolor\":\"white\",\"lakecolor\":\"white\",\"landcolor\":\"#E5ECF6\",\"showlakes\":true,\"showland\":true,\"subunitcolor\":\"white\"},\"hoverlabel\":{\"align\":\"left\"},\"hovermode\":\"closest\",\"mapbox\":{\"style\":\"light\"},\"paper_bgcolor\":\"white\",\"plot_bgcolor\":\"#E5ECF6\",\"polar\":{\"angularaxis\":{\"gridcolor\":\"white\",\"linecolor\":\"white\",\"ticks\":\"\"},\"bgcolor\":\"#E5ECF6\",\"radialaxis\":{\"gridcolor\":\"white\",\"linecolor\":\"white\",\"ticks\":\"\"}},\"scene\":{\"xaxis\":{\"backgroundcolor\":\"#E5ECF6\",\"gridcolor\":\"white\",\"gridwidth\":2,\"linecolor\":\"white\",\"showbackground\":true,\"ticks\":\"\",\"zerolinecolor\":\"white\"},\"yaxis\":{\"backgroundcolor\":\"#E5ECF6\",\"gridcolor\":\"white\",\"gridwidth\":2,\"linecolor\":\"white\",\"showbackground\":true,\"ticks\":\"\",\"zerolinecolor\":\"white\"},\"zaxis\":{\"backgroundcolor\":\"#E5ECF6\",\"gridcolor\":\"white\",\"gridwidth\":2,\"linecolor\":\"white\",\"showbackground\":true,\"ticks\":\"\",\"zerolinecolor\":\"white\"}},\"shapedefaults\":{\"line\":{\"color\":\"#2a3f5f\"}},\"ternary\":{\"aaxis\":{\"gridcolor\":\"white\",\"linecolor\":\"white\",\"ticks\":\"\"},\"baxis\":{\"gridcolor\":\"white\",\"linecolor\":\"white\",\"ticks\":\"\"},\"bgcolor\":\"#E5ECF6\",\"caxis\":{\"gridcolor\":\"white\",\"linecolor\":\"white\",\"ticks\":\"\"}},\"title\":{\"x\":0.05},\"xaxis\":{\"automargin\":true,\"gridcolor\":\"white\",\"linecolor\":\"white\",\"ticks\":\"\",\"title\":{\"standoff\":15},\"zerolinecolor\":\"white\",\"zerolinewidth\":2},\"yaxis\":{\"automargin\":true,\"gridcolor\":\"white\",\"linecolor\":\"white\",\"ticks\":\"\",\"title\":{\"standoff\":15},\"zerolinecolor\":\"white\",\"zerolinewidth\":2}}},\"title\":{\"font\":{\"color\":\"#151516\"},\"text\":\"Days_Since_Publication vs Claps\"},\"xaxis\":{\"gridcolor\":\"#F6F6F6\",\"showgrid\":true,\"tickfont\":{\"color\":\"#666666\"},\"title\":{\"font\":{\"color\":\"#666666\"},\"text\":\"Claps\"},\"zerolinecolor\":\"#F6F6F6\"},\"yaxis\":{\"gridcolor\":\"#F6F6F6\",\"showgrid\":true,\"tickfont\":{\"color\":\"#666666\"},\"title\":{\"font\":{\"color\":\"#666666\"},\"text\":\"Days_Since_Publication\"},\"zerolinecolor\":\"#F6F6F6\"}},                        {\"showLink\": true, \"linkText\": \"Export to plot.ly\", \"plotlyServerURL\": \"https://plot.ly\", \"responsive\": true}                    ).then(function(){\n",
       "                            \n",
       "var gd = document.getElementById('d78dd742-e867-46be-a6bf-d4d8253e1c1d');\n",
       "var x = new MutationObserver(function (mutations, observer) {{\n",
       "        var display = window.getComputedStyle(gd).display;\n",
       "        if (!display || display === 'none') {{\n",
       "            console.log([gd, 'removed!']);\n",
       "            Plotly.purge(gd);\n",
       "            observer.disconnect();\n",
       "        }}\n",
       "}});\n",
       "\n",
       "// Listen for the removal of the full notebook cells\n",
       "var notebookContainer = gd.closest('#notebook-container');\n",
       "if (notebookContainer) {{\n",
       "    x.observe(notebookContainer, {childList: true});\n",
       "}}\n",
       "\n",
       "// Listen for the clearing of the current output cell\n",
       "var outputEl = gd.closest('.output');\n",
       "if (outputEl) {{\n",
       "    x.observe(outputEl, {childList: true});\n",
       "}}\n",
       "\n",
       "                        })                };                });            </script>        </div>"
      ]
     },
     "metadata": {},
     "output_type": "display_data"
    },
    {
     "data": {
      "application/vnd.jupyter.widget-view+json": {
       "model_id": "2fccf3a60fcb46cf8be51e861ef99782",
       "version_major": 2,
       "version_minor": 0
      },
      "text/plain": [
       "interactive(children=(Dropdown(description='x', options=('claps', 'days_since_publication', 'fans', 'num_respo…"
      ]
     },
     "metadata": {},
     "output_type": "display_data"
    }
   ],
   "source": [
    "df['binned_read_time'] = pd.cut(df['read_time'], bins=range(0, 56, 5))\n",
    "df['binned_read_time'] = df['binned_read_time'].astype(str)\n",
    "\n",
    "df['binned_word_count'] = pd.cut(df['word_count'], bins=range(0, 100001, 1000))\n",
    "df['binned_word_count'] = df['binned_word_count'].astype(str)\n",
    "\n",
    "@interact\n",
    "def scatter_plot(x=list(df.select_dtypes('number').columns), \n",
    "                 y=list(df.select_dtypes('number').columns)[1:],\n",
    "                 categories=['binned_read_time', 'binned_word_count', 'publication', 'type'],\n",
    "                 theme=list(cf.themes.THEMES.keys()), \n",
    "                 colorscale=list(cf.colors._scales_names.keys())):\n",
    "    \n",
    "    df.iplot(kind='scatter', x=x, y=y, mode='markers', \n",
    "             categories=categories, \n",
    "             xTitle=x.title(), yTitle=y.title(), \n",
    "             text='title',\n",
    "             title=f'{y.title()} vs {x.title()}',\n",
    "             theme=theme, colorscale=colorscale)"
   ]
  },
  {
   "cell_type": "markdown",
   "metadata": {},
   "source": [
    "You may have noticed this plot was a little slow to update. When that is the case, we can use `interact_manual` which only updates the function when the button is pressed."
   ]
  },
  {
   "cell_type": "code",
   "execution_count": 17,
   "metadata": {
    "ExecuteTime": {
     "end_time": "2019-02-11T21:59:20.751182Z",
     "start_time": "2019-02-11T21:59:20.696239Z"
    }
   },
   "outputs": [],
   "source": [
    "from ipywidgets import interact_manual"
   ]
  },
  {
   "cell_type": "code",
   "execution_count": 18,
   "metadata": {
    "ExecuteTime": {
     "end_time": "2019-02-11T21:59:20.859857Z",
     "start_time": "2019-02-11T21:59:20.753440Z"
    }
   },
   "outputs": [
    {
     "data": {
      "application/vnd.jupyter.widget-view+json": {
       "model_id": "672948c1f1da4ea49b694808966eadbe",
       "version_major": 2,
       "version_minor": 0
      },
      "text/plain": [
       "interactive(children=(Dropdown(description='x', options=('claps', 'days_since_publication', 'fans', 'num_respo…"
      ]
     },
     "metadata": {},
     "output_type": "display_data"
    }
   ],
   "source": [
    "@interact_manual\n",
    "def scatter_plot(x=list(df.select_dtypes('number').columns), \n",
    "                 y=list(df.select_dtypes('number').columns)[1:],\n",
    "                 categories=['binned_read_time', 'binned_word_count', 'publication', 'type'],\n",
    "                 theme=list(cf.themes.THEMES.keys()), \n",
    "                 colorscale=list(cf.colors._scales_names.keys())):\n",
    "    \n",
    "    df.iplot(kind='scatter', x=x, y=y, mode='markers', \n",
    "             categories=categories, \n",
    "             xTitle=x.title(), yTitle=y.title(), \n",
    "             text='title',\n",
    "             title=f'{y.title()} vs {x.title()}',\n",
    "             theme=theme, colorscale=colorscale)"
   ]
  },
  {
   "cell_type": "markdown",
   "metadata": {},
   "source": [
    "# Making Our Own Widgets\n",
    "\n",
    "The decorator `interact` (or `interact_manual`) is not the only way to use widgets. We can also explicity create our own. One of the most useful I've found is the `DataPicker`."
   ]
  },
  {
   "cell_type": "code",
   "execution_count": 19,
   "metadata": {
    "ExecuteTime": {
     "end_time": "2019-02-11T21:59:20.916568Z",
     "start_time": "2019-02-11T21:59:20.861736Z"
    }
   },
   "outputs": [],
   "source": [
    "df.set_index('published_date', inplace=True)"
   ]
  },
  {
   "cell_type": "code",
   "execution_count": 20,
   "metadata": {
    "ExecuteTime": {
     "end_time": "2019-02-11T21:59:21.047340Z",
     "start_time": "2019-02-11T21:59:20.920596Z"
    }
   },
   "outputs": [
    {
     "data": {
      "application/vnd.jupyter.widget-view+json": {
       "model_id": "01f5a46fd1854010b895745b3de75f5c",
       "version_major": 2,
       "version_minor": 0
      },
      "text/plain": [
       "interactive(children=(DatePicker(value=Timestamp('2018-01-01 00:00:00'), description='start_date'), DatePicker…"
      ]
     },
     "metadata": {},
     "output_type": "display_data"
    }
   ],
   "source": [
    "def print_articles_published(start_date, end_date):\n",
    "    start_date = pd.Timestamp(start_date)\n",
    "    end_date = pd.Timestamp(end_date)\n",
    "    stat_df = df.loc[(df.index >= start_date) & (df.index <= end_date)].copy()\n",
    "    total_words = stat_df['word_count'].sum()\n",
    "    total_read_time = stat_df['read_time'].sum()\n",
    "    num_articles = len(stat_df)\n",
    "    print(f'You published {num_articles} articles between {start_date.date()} and {end_date.date()}.')\n",
    "    print(f'These articles totalled {total_words:,} words and {total_read_time/60:.2f} hours to read.')\n",
    "    \n",
    "_ = interact(print_articles_published,\n",
    "             start_date=widgets.DatePicker(value=pd.to_datetime('2018-01-01')),\n",
    "             end_date=widgets.DatePicker(value=pd.to_datetime('2019-01-01')))"
   ]
  },
  {
   "cell_type": "markdown",
   "metadata": {},
   "source": [
    "For this function, we use a `Dropdown` and a `DatePicker` to plot one column cumulatively up to a certain time. Instead of having to write this ourselves, we can just let `ipywidgets` do all the work!"
   ]
  },
  {
   "cell_type": "code",
   "execution_count": 21,
   "metadata": {
    "ExecuteTime": {
     "end_time": "2019-02-11T21:59:21.284716Z",
     "start_time": "2019-02-11T21:59:21.049952Z"
    }
   },
   "outputs": [
    {
     "data": {
      "application/vnd.jupyter.widget-view+json": {
       "model_id": "a74cbf5512d645438d4670e35f37b202",
       "version_major": 2,
       "version_minor": 0
      },
      "text/plain": [
       "interactive(children=(Dropdown(description='column', options=('claps', 'days_since_publication', 'fans', 'num_…"
      ]
     },
     "metadata": {},
     "output_type": "display_data"
    }
   ],
   "source": [
    "def plot_up_to(column, date):\n",
    "    date = pd.Timestamp(date)\n",
    "    plot_df = df.loc[df.index <= date].copy()\n",
    "    plot_df[column].cumsum().iplot(mode='markers+lines', \n",
    "                                   xTitle='published date',\n",
    "                                   yTitle=column, \n",
    "                                  title=f'Cumulative {column.title()} Until {date.date()}')\n",
    "    \n",
    "_ = interact(plot_up_to, column=widgets.Dropdown(options=list(df.select_dtypes('number').columns)), \n",
    "             date = widgets.DatePicker(value=pd.to_datetime('2019-01-01')))"
   ]
  },
  {
   "cell_type": "markdown",
   "metadata": {},
   "source": [
    "# Dependent Widgets\n",
    "\n",
    "How do we get a value of a widget to depend on that of another? Using the `observe` method.\n",
    "\n",
    "Going back to the Image Browser earlier, let's make a function that allows us to change the directory for the images to list."
   ]
  },
  {
   "cell_type": "code",
   "execution_count": 22,
   "metadata": {
    "ExecuteTime": {
     "end_time": "2019-02-11T21:59:21.382907Z",
     "start_time": "2019-02-11T21:59:21.286742Z"
    }
   },
   "outputs": [
    {
     "data": {
      "application/vnd.jupyter.widget-view+json": {
       "model_id": "62525add0f8948c78862cc59528dc710",
       "version_major": 2,
       "version_minor": 0
      },
      "text/plain": [
       "interactive(children=(Dropdown(description='fdir', options=('images', 'nature', 'assorted'), value='images'), …"
      ]
     },
     "metadata": {},
     "output_type": "display_data"
    }
   ],
   "source": [
    "directory = widgets.Dropdown(options=['images', 'nature', 'assorted'])\n",
    "images = widgets.Dropdown(options=os.listdir(directory.value))\n",
    "\n",
    "def update_images(*args):\n",
    "    images.options = os.listdir(directory.value)\n",
    "\n",
    "directory.observe(update_images, 'value')\n",
    "\n",
    "def show_images(fdir, file):\n",
    "    display(Image(f'{fdir}/{file}'))\n",
    "\n",
    "_ = interact(show_images, fdir=directory, file=images)"
   ]
  },
  {
   "cell_type": "markdown",
   "metadata": {},
   "source": [
    "We can also assign to the `interact` call and then reuse the widget. This has unintended affects though! "
   ]
  },
  {
   "cell_type": "code",
   "execution_count": 23,
   "metadata": {
    "ExecuteTime": {
     "end_time": "2019-02-11T21:59:21.616488Z",
     "start_time": "2019-02-11T21:59:21.387700Z"
    }
   },
   "outputs": [
    {
     "data": {
      "application/vnd.jupyter.widget-view+json": {
       "model_id": "c01e7415a1d84c2a842dce775337afc1",
       "version_major": 2,
       "version_minor": 0
      },
      "text/plain": [
       "interactive(children=(Dropdown(description='tag', options=('Towards Data Science', 'Education', 'Machine Learn…"
      ]
     },
     "metadata": {},
     "output_type": "display_data"
    }
   ],
   "source": [
    "def show_stats_by_tag(tag):\n",
    "    display(df.groupby(f'<tag>{tag}').describe()[['views', 'reads', 'claps', 'read_ratio']])\n",
    "    \n",
    "stats = interact(show_stats_by_tag,\n",
    "                tag=widgets.Dropdown(options=['Towards Data Science', 'Education', 'Machine Learning', 'Python', 'Data Science']))"
   ]
  },
  {
   "cell_type": "code",
   "execution_count": 24,
   "metadata": {
    "ExecuteTime": {
     "end_time": "2019-02-11T21:59:21.815239Z",
     "start_time": "2019-02-11T21:59:21.620545Z"
    }
   },
   "outputs": [
    {
     "data": {
      "application/vnd.jupyter.widget-view+json": {
       "model_id": "c01e7415a1d84c2a842dce775337afc1",
       "version_major": 2,
       "version_minor": 0
      },
      "text/plain": [
       "interactive(children=(Dropdown(description='tag', options=('Towards Data Science', 'Education', 'Machine Learn…"
      ]
     },
     "metadata": {},
     "output_type": "display_data"
    }
   ],
   "source": [
    "stats.widget"
   ]
  },
  {
   "cell_type": "markdown",
   "metadata": {},
   "source": [
    "Now changing the value in one location changes it in both places! This can be a slight inconvenience, but on the plus side, now we can reuse the interactive element."
   ]
  },
  {
   "cell_type": "markdown",
   "metadata": {},
   "source": [
    "# Linked Values\n",
    "\n",
    "We can link the value of two widgets to each other using the `jslink` function. This ties the values to be the same."
   ]
  },
  {
   "cell_type": "code",
   "execution_count": 25,
   "metadata": {
    "ExecuteTime": {
     "end_time": "2019-02-11T21:59:21.947232Z",
     "start_time": "2019-02-11T21:59:21.817802Z"
    }
   },
   "outputs": [
    {
     "data": {
      "application/vnd.jupyter.widget-view+json": {
       "model_id": "f8fbc7b1bbc44bc7897d704e60446181",
       "version_major": 2,
       "version_minor": 0
      },
      "text/plain": [
       "interactive(children=(IntText(value=100, description='column1_value'), IntSlider(value=100, description='colum…"
      ]
     },
     "metadata": {},
     "output_type": "display_data"
    }
   ],
   "source": [
    "def show_less_than(column1_value, column2_value):\n",
    "    display(df.loc[(df['views'] < column1_value) & \n",
    "                    (df['reads'] < column2_value), \n",
    "                   ['title', 'read_time', 'tags', 'views', 'reads']])\n",
    "        \n",
    "column1_value=widgets.IntText(value=100, label='First')\n",
    "column2_value=widgets.IntSlider(value=100, label='Second')\n",
    "\n",
    "linked = widgets.jslink((column1_value, 'value'),\n",
    "                        (column2_value, 'value'))\n",
    "\n",
    "less_than = interact(show_less_than, column1_value=column1_value,\n",
    "                 column2_value=column2_value)"
   ]
  },
  {
   "cell_type": "markdown",
   "metadata": {},
   "source": [
    "I'm not exactly sure why you would want to link two widgets, but there you go! We can unlink them using the `unlink` command (sometimes syntax does make sense)."
   ]
  },
  {
   "cell_type": "code",
   "execution_count": 26,
   "metadata": {
    "ExecuteTime": {
     "end_time": "2019-02-11T21:59:22.001784Z",
     "start_time": "2019-02-11T21:59:21.948880Z"
    }
   },
   "outputs": [],
   "source": [
    "linked.unlink()"
   ]
  },
  {
   "cell_type": "code",
   "execution_count": 27,
   "metadata": {
    "ExecuteTime": {
     "end_time": "2019-02-11T21:59:22.072554Z",
     "start_time": "2019-02-11T21:59:22.003500Z"
    }
   },
   "outputs": [
    {
     "data": {
      "application/vnd.jupyter.widget-view+json": {
       "model_id": "f8fbc7b1bbc44bc7897d704e60446181",
       "version_major": 2,
       "version_minor": 0
      },
      "text/plain": [
       "interactive(children=(IntText(value=100, description='column1_value'), IntSlider(value=100, description='colum…"
      ]
     },
     "metadata": {},
     "output_type": "display_data"
    }
   ],
   "source": [
    "less_than.widget"
   ]
  },
  {
   "cell_type": "markdown",
   "metadata": {},
   "source": [
    "# Conclusions\n",
    "\n",
    "These widgets are not going to change your life, but they do make notebooks closer to interactive dashboards. I've only shown you some of the capabilities so be sure to look at the [documentation for the full details]. The Jupyter Notebook is useful by itself, but with additional tools, it can be an even better data exploration and analysis technology. Thanks to the efforts of many developers and contributors to open-source, we have these great technologies, so we might as well get the most from these libraries! "
   ]
  },
  {
   "cell_type": "code",
   "execution_count": 28,
   "metadata": {
    "ExecuteTime": {
     "end_time": "2019-02-11T21:59:22.128193Z",
     "start_time": "2019-02-11T21:59:22.074179Z"
    }
   },
   "outputs": [],
   "source": [
    "cscales = ['Greys', 'YlGnBu', 'Greens', 'YlOrRd', 'Bluered', 'RdBu',\n",
    "            'Reds', 'Blues', 'Picnic', 'Rainbow', 'Portland', 'Jet',\n",
    "            'Hot', 'Blackbody', 'Earth', 'Electric', 'Viridis', 'Cividis']"
   ]
  },
  {
   "cell_type": "code",
   "execution_count": 29,
   "metadata": {
    "ExecuteTime": {
     "end_time": "2019-02-11T21:59:22.211843Z",
     "start_time": "2019-02-11T21:59:22.130241Z"
    }
   },
   "outputs": [
    {
     "data": {
      "application/vnd.jupyter.widget-view+json": {
       "model_id": "7be3c5f5f98049a992d708dd400d7ffb",
       "version_major": 2,
       "version_minor": 0
      },
      "text/plain": [
       "interactive(children=(Dropdown(description='colorscale', options=('Greys', 'YlGnBu', 'Greens', 'YlOrRd', 'Blue…"
      ]
     },
     "metadata": {},
     "output_type": "display_data"
    }
   ],
   "source": [
    "import plotly.figure_factory as ff\n",
    "\n",
    "corrs = df.corr()\n",
    "\n",
    "@interact_manual\n",
    "def plot_corrs(colorscale=cscales):\n",
    "    figure = ff.create_annotated_heatmap(z = corrs.round(2).values, \n",
    "                                     x =list(corrs.columns), \n",
    "                                     y=list(corrs.index), \n",
    "                                     colorscale=colorscale,\n",
    "                                     annotation_text=corrs.round(2).values)\n",
    "    iplot(figure)"
   ]
  },
  {
   "cell_type": "code",
   "execution_count": 30,
   "metadata": {
    "ExecuteTime": {
     "end_time": "2019-02-11T21:59:22.438146Z",
     "start_time": "2019-02-11T21:59:22.213746Z"
    }
   },
   "outputs": [
    {
     "data": {
      "application/vnd.jupyter.widget-view+json": {
       "model_id": "964144e410ac466cb6c10667659cc9c5",
       "version_major": 2,
       "version_minor": 0
      },
      "text/plain": [
       "interactive(children=(Dropdown(description='column1', options=('claps', 'views', 'read', 'word_count'), value=…"
      ]
     },
     "metadata": {},
     "output_type": "display_data"
    }
   ],
   "source": [
    "@interact\n",
    "def plot_spread(column1=['claps', 'views', 'read', 'word_count'], \n",
    "                 column2=['views', 'claps', 'read', 'word_count']):\n",
    "    df.iplot(kind='ratio',\n",
    "                                                   y=column1,\n",
    "                                                   secondary_y=column2,\n",
    "                                                   title=f'{column1.title()} and {column2.title()} Spread Plot',\n",
    "                                 xTitle='Published Date')"
   ]
  },
  {
   "cell_type": "code",
   "execution_count": null,
   "metadata": {},
   "outputs": [],
   "source": []
  }
 ],
 "metadata": {
  "hide_input": false,
  "kernelspec": {
   "display_name": "Python 3 (ipykernel)",
   "language": "python",
   "name": "python3"
  },
  "language_info": {
   "codemirror_mode": {
    "name": "ipython",
    "version": 3
   },
   "file_extension": ".py",
   "mimetype": "text/x-python",
   "name": "python",
   "nbconvert_exporter": "python",
   "pygments_lexer": "ipython3",
   "version": "3.10.9"
  },
  "toc": {
   "base_numbering": 1,
   "nav_menu": {},
   "number_sections": true,
   "sideBar": true,
   "skip_h1_title": false,
   "title_cell": "Table of Contents",
   "title_sidebar": "Contents",
   "toc_cell": false,
   "toc_position": {},
   "toc_section_display": true,
   "toc_window_display": false
  },
  "varInspector": {
   "cols": {
    "lenName": 16,
    "lenType": 16,
    "lenVar": 40
   },
   "kernels_config": {
    "python": {
     "delete_cmd_postfix": "",
     "delete_cmd_prefix": "del ",
     "library": "var_list.py",
     "varRefreshCmd": "print(var_dic_list())"
    },
    "r": {
     "delete_cmd_postfix": ") ",
     "delete_cmd_prefix": "rm(",
     "library": "var_list.r",
     "varRefreshCmd": "cat(var_dic_list()) "
    }
   },
   "types_to_exclude": [
    "module",
    "function",
    "builtin_function_or_method",
    "instance",
    "_Feature"
   ],
   "window_display": false
  }
 },
 "nbformat": 4,
 "nbformat_minor": 4
}
