{
 "cells": [
  {
   "cell_type": "markdown",
   "id": "0408d8b8-3aef-491e-9a17-babc6c6d9c33",
   "metadata": {},
   "source": [
    "# Getting Started with BRAD"
   ]
  },
  {
   "cell_type": "code",
   "execution_count": 1,
   "id": "a497d4d2-95c9-4f2d-8521-bc8ff6d7ec3a",
   "metadata": {},
   "outputs": [],
   "source": [
    "# This documentaiton is both a jupyter notebook and part of the read the docs"
   ]
  },
  {
   "cell_type": "markdown",
   "id": "6df09a5f-6bae-41fd-869f-8457e3c5bd38",
   "metadata": {},
   "source": [
    "# Instillation\n",
    "\n",
    "**Here we will explain how to install BRAD** Once we have 100% working version, we will upload the package to PyPI (similar to what we did with HAT) so that it is available in a standard format."
   ]
  },
  {
   "cell_type": "markdown",
   "id": "701172af-b30e-47e5-a34f-0102ca5084aa",
   "metadata": {},
   "source": [
    "## Install with PIP"
   ]
  },
  {
   "cell_type": "code",
   "execution_count": 2,
   "id": "e9c097c0-9ca5-4800-b17a-c88e2883175e",
   "metadata": {},
   "outputs": [],
   "source": [
    "# This needs to be filled in once we upload to PyPI"
   ]
  },
  {
   "cell_type": "markdown",
   "id": "d798084c-9f68-4914-ac37-b33129d1db56",
   "metadata": {},
   "source": [
    "## Local and Development Instillation\n",
    "\n",
    "To install the local version, you can download the code by cloning the [github repository here](https://github.com/Jpickard1/RAG-DEV/tree/main). In the main directory of the repository, you can install the codes locally using the command `pip install -e .` Then, changes you make locally will be available as you chat with BRAD. - Do this @ Marc and Nat"
   ]
  },
  {
   "cell_type": "markdown",
   "id": "0abdfa00-de91-43d9-9289-cf6d4723bed7",
   "metadata": {},
   "source": [
    "# Chatting with BRAD\n",
    "\n",
    "BRAD provides an interface between your data, online bioinformatics databases, a large language model (LLM), and many other tools. Chatting with BRAD allows an LLM of your choice to access to all of these different tools. By default, BRAD currently LLMs hosted by NVIDIA, but BRAD is configurable to use LLMs downloaded locally to your own computer."
   ]
  },
  {
   "cell_type": "markdown",
   "id": "b05634d5-f7ad-42c6-bd57-ed6cf8f4b0d2",
   "metadata": {},
   "source": [
    "## Choosing your Large Language Model (LLM)\n",
    "\n",
    "Here we show how to specify which LLM to run. Feel free to skip this section if you will use the default model.\n",
    "\n",
    "The llms module of BRAD provides access to the different places we can select LLMs from. Each LLM can have its own requirements and interface for loading, so BRAD provides a simple `load_XXX` interface to load either local or NVIDIA hosted models"
   ]
  },
  {
   "cell_type": "code",
   "execution_count": 3,
   "id": "5e0f6892-aa51-4d98-aa12-839b2d8cd561",
   "metadata": {},
   "outputs": [
    {
     "name": "stderr",
     "output_type": "stream",
     "text": [
      "[nltk_data] Downloading package words to /home/machoi/nltk_data...\n",
      "[nltk_data]   Package words is already up-to-date!\n",
      "[nltk_data] Downloading package wordnet to /home/machoi/nltk_data...\n",
      "[nltk_data]   Package wordnet is already up-to-date!\n",
      "[nltk_data] Downloading package omw-1.4 to /home/machoi/nltk_data...\n",
      "[nltk_data]   Package omw-1.4 is already up-to-date!\n"
     ]
    }
   ],
   "source": [
    "from BRAD import llms"
   ]
  },
  {
   "cell_type": "markdown",
   "id": "e5bbde14-21b6-4ba9-942d-3ae05624d730",
   "metadata": {},
   "source": [
    "### Local LLMs\n",
    "\n",
    "To run a LLM downloaded to your computer, we use the `load_llama` function. The [Large Language Model Meta AI (llama)](https://arxiv.org/pdf/2307.09288) is an open source LLM that can be downloaded here:\n",
    "* [llama2](https://huggingface.co/docs/transformers/en/model_doc/llama2)\n",
    "* [llama3](https://huggingface.co/docs/transformers/en/model_doc/llama3)\n",
    "\n",
    "When running local llms, you should be mindful of the recommended compute requirements for each model and the available RAM and GPUs on your machine. The `load_llama` function loads a pre-trained Llama model from a given file path, configures it with a specified context length, and maximum number of tokens to generate per query."
   ]
  },
  {
   "cell_type": "code",
   "execution_count": 4,
   "id": "5fa667c1-d555-4928-b234-883809a67e06",
   "metadata": {},
   "outputs": [
    {
     "ename": "ValidationError",
     "evalue": "1 validation error for LlamaCpp\n__root__\n  Could not load Llama model from path: <PATH-TO-YOUR-LLAMA.gguf MODEL>. Received error Model path does not exist: <PATH-TO-YOUR-LLAMA.gguf MODEL> (type=value_error)",
     "output_type": "error",
     "traceback": [
      "\u001b[0;31m---------------------------------------------------------------------------\u001b[0m",
      "\u001b[0;31mValidationError\u001b[0m                           Traceback (most recent call last)",
      "\u001b[0;32m/tmp/ipykernel_3862813/1607911391.py\u001b[0m in \u001b[0;36m<module>\u001b[0;34m\u001b[0m\n\u001b[0;32m----> 1\u001b[0;31m llm = llms.load_llama(\n\u001b[0m\u001b[1;32m      2\u001b[0m     \u001b[0mmodel_path\u001b[0m \u001b[0;34m=\u001b[0m \u001b[0;34m'<PATH-TO-YOUR-LLAMA.gguf MODEL>'\u001b[0m\u001b[0;34m,\u001b[0m \u001b[0;31m# specify where you downloaded llama\u001b[0m\u001b[0;34m\u001b[0m\u001b[0;34m\u001b[0m\u001b[0m\n\u001b[1;32m      3\u001b[0m     \u001b[0mn_ctx\u001b[0m      \u001b[0;34m=\u001b[0m \u001b[0;36m4096\u001b[0m\u001b[0;34m,\u001b[0m                              \u001b[0;31m# specify the maximum context for your model\u001b[0m\u001b[0;34m\u001b[0m\u001b[0;34m\u001b[0m\u001b[0m\n\u001b[1;32m      4\u001b[0m     \u001b[0mmax_tokens\u001b[0m \u001b[0;34m=\u001b[0m \u001b[0;36m1000\u001b[0m\u001b[0;34m,\u001b[0m                              \u001b[0;31m# the maximum number of tokens (similar to words) your model can generate\u001b[0m\u001b[0;34m\u001b[0m\u001b[0;34m\u001b[0m\u001b[0m\n\u001b[1;32m      5\u001b[0m )\n",
      "\u001b[0;32m~/RAG2/RAG-DEV/BRAD/llms.py\u001b[0m in \u001b[0;36mload_llama\u001b[0;34m(model_path, n_ctx, max_tokens, verbose)\u001b[0m\n\u001b[1;32m     23\u001b[0m     \u001b[0;32mfrom\u001b[0m \u001b[0mlangchain\u001b[0m\u001b[0;34m.\u001b[0m\u001b[0mcallbacks\u001b[0m\u001b[0;34m.\u001b[0m\u001b[0mstreaming_stdout\u001b[0m \u001b[0;32mimport\u001b[0m \u001b[0mStreamingStdOutCallbackHandler\u001b[0m\u001b[0;34m\u001b[0m\u001b[0;34m\u001b[0m\u001b[0m\n\u001b[1;32m     24\u001b[0m     \u001b[0mcallback_manager\u001b[0m \u001b[0;34m=\u001b[0m \u001b[0mCallbackManager\u001b[0m\u001b[0;34m(\u001b[0m\u001b[0;34m[\u001b[0m\u001b[0mStreamingStdOutCallbackHandler\u001b[0m\u001b[0;34m(\u001b[0m\u001b[0;34m)\u001b[0m\u001b[0;34m]\u001b[0m\u001b[0;34m)\u001b[0m\u001b[0;34m\u001b[0m\u001b[0;34m\u001b[0m\u001b[0m\n\u001b[0;32m---> 25\u001b[0;31m     llm = LlamaCpp(model_path       = model_path,\n\u001b[0m\u001b[1;32m     26\u001b[0m                    \u001b[0mn_ctx\u001b[0m            \u001b[0;34m=\u001b[0m \u001b[0mn_ctx\u001b[0m\u001b[0;34m,\u001b[0m\u001b[0;34m\u001b[0m\u001b[0;34m\u001b[0m\u001b[0m\n\u001b[1;32m     27\u001b[0m                    \u001b[0mmax_tokens\u001b[0m       \u001b[0;34m=\u001b[0m \u001b[0mmax_tokens\u001b[0m\u001b[0;34m,\u001b[0m\u001b[0;34m\u001b[0m\u001b[0;34m\u001b[0m\u001b[0m\n",
      "\u001b[0;32m~/.local/lib/python3.9/site-packages/langchain_core/load/serializable.py\u001b[0m in \u001b[0;36m__init__\u001b[0;34m(self, **kwargs)\u001b[0m\n\u001b[1;32m    118\u001b[0m \u001b[0;34m\u001b[0m\u001b[0m\n\u001b[1;32m    119\u001b[0m     \u001b[0;32mdef\u001b[0m \u001b[0m__init__\u001b[0m\u001b[0;34m(\u001b[0m\u001b[0mself\u001b[0m\u001b[0;34m,\u001b[0m \u001b[0;34m**\u001b[0m\u001b[0mkwargs\u001b[0m\u001b[0;34m:\u001b[0m \u001b[0mAny\u001b[0m\u001b[0;34m)\u001b[0m \u001b[0;34m->\u001b[0m \u001b[0;32mNone\u001b[0m\u001b[0;34m:\u001b[0m\u001b[0;34m\u001b[0m\u001b[0;34m\u001b[0m\u001b[0m\n\u001b[0;32m--> 120\u001b[0;31m         \u001b[0msuper\u001b[0m\u001b[0;34m(\u001b[0m\u001b[0;34m)\u001b[0m\u001b[0;34m.\u001b[0m\u001b[0m__init__\u001b[0m\u001b[0;34m(\u001b[0m\u001b[0;34m**\u001b[0m\u001b[0mkwargs\u001b[0m\u001b[0;34m)\u001b[0m\u001b[0;34m\u001b[0m\u001b[0;34m\u001b[0m\u001b[0m\n\u001b[0m\u001b[1;32m    121\u001b[0m         \u001b[0mself\u001b[0m\u001b[0;34m.\u001b[0m\u001b[0m_lc_kwargs\u001b[0m \u001b[0;34m=\u001b[0m \u001b[0mkwargs\u001b[0m\u001b[0;34m\u001b[0m\u001b[0;34m\u001b[0m\u001b[0m\n\u001b[1;32m    122\u001b[0m \u001b[0;34m\u001b[0m\u001b[0m\n",
      "\u001b[0;32m~/.local/lib/python3.9/site-packages/pydantic/v1/main.py\u001b[0m in \u001b[0;36m__init__\u001b[0;34m(__pydantic_self__, **data)\u001b[0m\n\u001b[1;32m    339\u001b[0m         \u001b[0mvalues\u001b[0m\u001b[0;34m,\u001b[0m \u001b[0mfields_set\u001b[0m\u001b[0;34m,\u001b[0m \u001b[0mvalidation_error\u001b[0m \u001b[0;34m=\u001b[0m \u001b[0mvalidate_model\u001b[0m\u001b[0;34m(\u001b[0m\u001b[0m__pydantic_self__\u001b[0m\u001b[0;34m.\u001b[0m\u001b[0m__class__\u001b[0m\u001b[0;34m,\u001b[0m \u001b[0mdata\u001b[0m\u001b[0;34m)\u001b[0m\u001b[0;34m\u001b[0m\u001b[0;34m\u001b[0m\u001b[0m\n\u001b[1;32m    340\u001b[0m         \u001b[0;32mif\u001b[0m \u001b[0mvalidation_error\u001b[0m\u001b[0;34m:\u001b[0m\u001b[0;34m\u001b[0m\u001b[0;34m\u001b[0m\u001b[0m\n\u001b[0;32m--> 341\u001b[0;31m             \u001b[0;32mraise\u001b[0m \u001b[0mvalidation_error\u001b[0m\u001b[0;34m\u001b[0m\u001b[0;34m\u001b[0m\u001b[0m\n\u001b[0m\u001b[1;32m    342\u001b[0m         \u001b[0;32mtry\u001b[0m\u001b[0;34m:\u001b[0m\u001b[0;34m\u001b[0m\u001b[0;34m\u001b[0m\u001b[0m\n\u001b[1;32m    343\u001b[0m             \u001b[0mobject_setattr\u001b[0m\u001b[0;34m(\u001b[0m\u001b[0m__pydantic_self__\u001b[0m\u001b[0;34m,\u001b[0m \u001b[0;34m'__dict__'\u001b[0m\u001b[0;34m,\u001b[0m \u001b[0mvalues\u001b[0m\u001b[0;34m)\u001b[0m\u001b[0;34m\u001b[0m\u001b[0;34m\u001b[0m\u001b[0m\n",
      "\u001b[0;31mValidationError\u001b[0m: 1 validation error for LlamaCpp\n__root__\n  Could not load Llama model from path: <PATH-TO-YOUR-LLAMA.gguf MODEL>. Received error Model path does not exist: <PATH-TO-YOUR-LLAMA.gguf MODEL> (type=value_error)"
     ]
    }
   ],
   "source": [
    "llm = llms.load_llama(\n",
    "    model_path = '<PATH-TO-YOUR-LLAMA.gguf MODEL>', # specify where you downloaded llama\n",
    "    n_ctx      = 4096,                              # specify the maximum context for your model\n",
    "    max_tokens = 1000,                              # the maximum number of tokens (similar to words) your model can generate\n",
    ")"
   ]
  },
  {
   "cell_type": "markdown",
   "id": "5fca6611-ec64-4b3d-990d-4cac92646367",
   "metadata": {},
   "source": [
    "### NVIDIA LLMs\n",
    "\n",
    "To run a LLM hosted by NVIDIA, we use the `load_nvidia` function. This method gives access to any of the LLMs that are available here [NVIDIA's Website](https://build.nvidia.com/explore/discover), which includes llama 3 and many more. Using these hosted models can increase the ease of use and reduce the time it takes for BRAD to respond to each query. NVIDIA provides free usage for at least the first 1000 queries to BRAD.\n",
    "\n",
    "The `load_nvidia` function loads a pre-trained NVIDIA model using the provided model name and API key. If the API key is not supplied as an argument, the function will prompt the user to input it securely. See [NVIDIA's documentation](https://build.nvidia.com/explore/discover) to find your API key."
   ]
  },
  {
   "cell_type": "code",
   "execution_count": null,
   "id": "663c10a8-85e0-4c73-9a7c-19bf01854769",
   "metadata": {},
   "outputs": [],
   "source": [
    "llm = llms.load_nvidia()"
   ]
  },
  {
   "cell_type": "markdown",
   "id": "c6c1f53b-e3a1-48a5-bdb7-babaa0ac2bcf",
   "metadata": {},
   "source": [
    "## Running BRAD\n",
    "\n",
    "With our model selected, run the following commands to chat with BRAD. If you didn't use the above section to select a particular LLM and want the default option, run the command `brad.chat()`."
   ]
  },
  {
   "cell_type": "code",
   "execution_count": 1,
   "id": "42424e60-5900-4998-9283-84be3745ffc0",
   "metadata": {},
   "outputs": [
    {
     "name": "stderr",
     "output_type": "stream",
     "text": [
      "[nltk_data] Downloading package words to /home/machoi/nltk_data...\n",
      "[nltk_data]   Package words is already up-to-date!\n",
      "[nltk_data] Downloading package wordnet to /home/machoi/nltk_data...\n",
      "[nltk_data]   Package wordnet is already up-to-date!\n",
      "[nltk_data] Downloading package omw-1.4 to /home/machoi/nltk_data...\n",
      "[nltk_data]   Package omw-1.4 is already up-to-date!\n",
      "/home/machoi/.local/lib/python3.9/site-packages/pandas/core/computation/expressions.py:21: UserWarning: Pandas requires version '2.8.4' or newer of 'numexpr' (version '2.7.3' currently installed).\n",
      "  from pandas.core.computation.check import NUMEXPR_INSTALLED\n",
      "/home/machoi/.local/lib/python3.9/site-packages/pandas/core/arrays/masked.py:60: UserWarning: Pandas requires version '1.3.6' or newer of 'bottleneck' (version '1.3.2' currently installed).\n",
      "  from pandas.core import (\n"
     ]
    }
   ],
   "source": [
    "from BRAD import brad"
   ]
  },
  {
   "cell_type": "code",
   "execution_count": null,
   "id": "c364aea9-3bff-4119-91f2-c102e6700e04",
   "metadata": {},
   "outputs": [
    {
     "name": "stdout",
     "output_type": "stream",
     "text": [
      "Welcome to RAG! The chat log from this conversation will be saved to ~/BRAD/2024-06-07-13:11:46.100604.json. How can I help?\n"
     ]
    },
    {
     "name": "stdin",
     "output_type": "stream",
     "text": [
      "Enter your NVIDIA API key:  ······································································\n"
     ]
    },
    {
     "name": "stdout",
     "output_type": "stream",
     "text": [
      "\n",
      "Would you like to use a database with BRAD [Y/N]?\n"
     ]
    },
    {
     "name": "stdin",
     "output_type": "stream",
     "text": [
      " Y\n"
     ]
    },
    {
     "name": "stderr",
     "output_type": "stream",
     "text": [
      "Fri Jun  7 13:11:53 2024 INFO Load pretrained SentenceTransformer: BAAI/bge-base-en-v1.5\n",
      "/home/machoi/.local/lib/python3.9/site-packages/huggingface_hub/file_download.py:1132: FutureWarning: `resume_download` is deprecated and will be removed in version 1.0.0. Downloads always resume when possible. If you want to force a new download, use `force_download=True`.\n",
      "  warnings.warn(\n",
      "Fri Jun  7 13:11:54 2024 INFO Use pytorch device_name: cpu\n",
      "Fri Jun  7 13:11:54 2024 INFO Anonymized telemetry enabled. See                     https://docs.trychroma.com/telemetry for more information.\n",
      "Fri Jun  7 13:11:54 2024 INFO Collection DB_cosine_cSize_700_cOver_200 is not created.\n",
      "\u001b[32m2024-06-07 13:11:57 INFO semantic_router.utils.logger local\u001b[0m\n"
     ]
    },
    {
     "name": "stdout",
     "output_type": "stream",
     "text": [
      "==================================================\n"
     ]
    },
    {
     "name": "stdin",
     "output_type": "stream",
     "text": [
      "Input >>  BERTscore What transcription factors are important for myogenic reprogramming?\n"
     ]
    },
    {
     "name": "stdout",
     "output_type": "stream",
     "text": [
      "==================================================\n",
      "RAG >> 1: output of similarity search: [0.83705664 0.82117969 0.8205992  0.80539453]\n",
      "Masked Document: and the other functions slightly later in the myotome and also during the activation of adult muscle satellite cells in muscle regeneration (Asakura et al., 1995; Goldhamer et al., 1995); however, the factors regulating these functions remain largely unknown.\n",
      "\n",
      "It appears, therefore, that complex signaling events from surrounding embryonic tissues are integrated by complex regulatory elements at the Myf5 and Myod loci to accomplish a simple binary decision: whether or not to express Myod or\n",
      "\n",
      "2687\n",
      "\n",
      "Development\n",
      "\n",
      "2688\n",
      "\n",
      "Development 132 (12)\n",
      "\n",
      "Myf5. As noted above, these transcription factors are necessary and sufficient for skeletal muscle formation, and the instruction to express either of them\n",
      "\n"
     ]
    },
    {
     "name": "stderr",
     "output_type": "stream",
     "text": [
      "/home/machoi/.local/lib/python3.9/site-packages/langchain_core/_api/deprecation.py:119: LangChainDeprecationWarning: The method `Chain.__call__` was deprecated in langchain 0.1.0 and will be removed in 0.2.0. Use invoke instead.\n",
      "  warn_deprecated(\n"
     ]
    },
    {
     "name": "stdout",
     "output_type": "stream",
     "text": [
      "RAG response:  Myod and Myf5 are important transcription factors for myogenic reprogramming. These factors have the capability to access muscle-specific promoters and specify the skeletal muscle lineage. They can recruit histone-modifying and chromatin-remodeling complexes to muscle promoters and reset the cellular chromatin structure and transcriptional program. Chromatin context establishes an instructive environment for their activity. These factors are crucial for the initial muscle cell programming during embryonic development, and their ability to engage silenced genes contributes to their capacity to reprogram cells into the muscle lineage.\n",
      "\n",
      "However, the context does not provide information about any specific pioneer transcription factors that have been identified as being crucial for myogenic reprogramming, beyond mentioning that Myod and Myf5 possess these capabilities. Pioneer transcription factors are a broader category of factors capable of opening up access to the chromatin of silenced genes during cellular reprogramming, and more specific factors may exist within the myogenic context that warrant further study.\n",
      "Masked Document: 132 (12)\n",
      "\n",
      "Myf5. As noted above, these transcription factors are necessary and sufficient for skeletal muscle formation, and the instruction to express either of them effectively speciﬁes the skeletal muscle lineage. In addition, auto-regulation and cross- regulation exists among the myogenic bHLH proteins (Thayer et al., 1989), such that a transient embryonically instructed induction results in stable expression of these factors. The convergence of multiple embryonic signals on this simple binary decision has been referred to as a ‘nodal point’ in muscle cell speciﬁcation (Weintraub et al., 1991a). The identiﬁcation of other bHLH proteins that regulate complex programs of differentiation,\n",
      "\n",
      "RAG response:  Myod and Myf5 are important transcription factors for myogenic reprogramming as they are crucial for skeletal muscle formation during embryonic development. They can access muscle-specific promoters and specify the skeletal muscle lineage by recruiting histone-modifying and chromatin-remodeling complexes to reset the cellular chromatin structure and transcriptional program. Chromatin context plays an instructive role in their activity by providing an environment for their binding. Other factors, such as those discovered through recent studies on chromatin-associated complexes, may also contribute to myogenic reprogramming, but they are not mentioned in the provided context.\n",
      "Masked Document: have lacked the current\n",
      "\n",
      "Instructive chromatin and muscle lineage speciﬁcation How are Myod and Myf5 capable of accessing the appropriate muscle-speciﬁc promoters and specifying the skeletal muscle lineage? As noted above, these factors can recruit histone- modifying and chromatin-remodeling complexes to muscle promoters and reset the cellular chromatin structure and transcriptional program. Rather than acting independently of the pre-existing chromatin, however, recent studies indicate that chromatin-associated complexes instruct these factors about where to bind. As such, chromatin context establishes an instructive environment for the activity of these master regulatory transcription\n",
      "\n",
      "RAG response:  The context provided discusses the role of Myf5 and Myod transcription factors in skeletal muscle formation during embryonic development. It mentions that these factors are necessary and sufficient for specifying the skeletal muscle lineage and that their expression is regulated by complex signaling events from surrounding embryonic tissues. The context also notes that the identifications of other bHLH proteins that regulate complex programs of differentiation are referred to as a \"nodal point\" in muscle cell specification. The review article, on the other hand, discusses pioneer transcription factors and their ability to reprogram cell fate, but it does not specifically mention Myf5 or Myod in relation to myogenic reprogramming. Therefore, based on the information given, it is unclear which specific transcription factors are important for myogenic reprogramming.\n",
      "Masked Document: REVIEW\n",
      "\n",
      "Pioneer transcription factors in cell reprogramming\n",
      "\n",
      "Makiko Iwafuchi-Doi and Kenneth S. Zaret\n",
      "\n",
      "Institute for Regenerative Medicine, Department of Cell and Developmental Biology, Perelman School of Medicine, University of Pennsylvania, Philadelphia, Pennsylvania 19104, USA\n",
      "\n",
      "A subset of eukaryotic transcription factors possesses the remarkable ability to reprogram one type of cell into another. The transcription factors that reprogram cell fate are invariably those that are crucial for the initial cell programming in embryonic development. To elicit cell programming or reprogramming, transcription fac- tors must be able to engage genes that are developmen- tally silenced and\n",
      "\n",
      "RAG response:  Myod and Myf5 are important transcription factors for skeletal muscle formation. They access the appropriate muscle-specific promoters and specify the skeletal muscle lineage by recruiting histone-modifying and chromatin-remodeling complexes to reset the cellular chromatin structure and transcriptional program. However, recent studies suggest that chromatin-associated complexes instruct these factors about where to bind, indicating that chromatin context plays an instructive role in their activity.\n",
      "\n",
      "The regulation of myogenic reprogramming involves other transcription factors beyond Myod and Myf5. The identification of these factors and their roles in myogenic reprogramming have lacked extensive research.\n"
     ]
    },
    {
     "name": "stderr",
     "output_type": "stream",
     "text": [
      "/home/machoi/.local/lib/python3.9/site-packages/huggingface_hub/file_download.py:1132: FutureWarning: `resume_download` is deprecated and will be removed in version 1.0.0. Downloads always resume when possible. If you want to force a new download, use `force_download=True`.\n",
      "  warnings.warn(\n"
     ]
    },
    {
     "name": "stdout",
     "output_type": "stream",
     "text": [
      "tensor([ 0.0122,  0.0330,  0.0476, -0.0596])\n",
      "==================================================\n"
     ]
    }
   ],
   "source": [
    "brad.chat()"
   ]
  },
  {
   "cell_type": "code",
   "execution_count": null,
   "id": "b16554c0-e33e-4d05-a08f-c20aa601fb6b",
   "metadata": {},
   "outputs": [],
   "source": [
    "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\n",
    "BERTscore What transcription factors are important for myogenic reprogramming?"
   ]
  },
  {
   "cell_type": "code",
   "execution_count": null,
   "id": "2dfb1d13-1785-415b-9961-eb1af9112b47",
   "metadata": {},
   "outputs": [],
   "source": [
    "page_content='and the other functions slightly later in the myotome and also during the activation of adult muscle satellite cells in muscle regeneration (Asakura et al., 1995; Goldhamer et al., 1995); however, the factors regulating these functions remain largely unknown.\\n\\nIt appears, therefore, that complex signaling events from surrounding embryonic tissues are integrated by complex regulatory elements at the Myf5 and Myod loci to accomplish a simple binary decision: whether or not to express Myod or\\n\\n2687\\n\\nDevelopment\\n\\n2688\\n\\nDevelopment 132 (12)\\n\\nMyf5. As noted above, these transcription factors are necessary and sufficient for skeletal muscle formation, and the instruction to express either of them' metadata={'source': '/nfs/turbo/umms-indikar/shared/projects/RAG/papers/Transcription-Factors/The circuitry of a master switch.pdf'}\n",
    "page_content='132 (12)\\n\\nMyf5. As noted above, these transcription factors are necessary and sufficient for skeletal muscle formation, and the instruction to express either of them effectively speciﬁes the skeletal muscle lineage. In addition, auto-regulation and cross- regulation exists among the myogenic bHLH proteins (Thayer et al., 1989), such that a transient embryonically instructed induction results in stable expression of these factors. The convergence of multiple embryonic signals on this simple binary decision has been referred to as a ‘nodal point’ in muscle cell speciﬁcation (Weintraub et al., 1991a). The identiﬁcation of other bHLH proteins that regulate complex programs of differentiation,' metadata={'source': '/nfs/turbo/umms-indikar/shared/projects/RAG/papers/Transcription-Factors/The circuitry of a master switch.pdf'}\n",
    "page_content='have lacked the current\\n\\nInstructive chromatin and muscle lineage speciﬁcation How are Myod and Myf5 capable of accessing the appropriate muscle-speciﬁc promoters and specifying the skeletal muscle lineage? As noted above, these factors can recruit histone- modifying and chromatin-remodeling complexes to muscle promoters and reset the cellular chromatin structure and transcriptional program. Rather than acting independently of the pre-existing chromatin, however, recent studies indicate that chromatin-associated complexes instruct these factors about where to bind. As such, chromatin context establishes an instructive environment for the activity of these master regulatory transcription' metadata={'source': '/nfs/turbo/umms-indikar/shared/projects/RAG/papers/Transcription-Factors/The circuitry of a master switch.pdf'}\n",
    "page_content='REVIEW\\n\\nPioneer transcription factors in cell reprogramming\\n\\nMakiko Iwafuchi-Doi and Kenneth S. Zaret\\n\\nInstitute for Regenerative Medicine, Department of Cell and Developmental Biology, Perelman School of Medicine, University of Pennsylvania, Philadelphia, Pennsylvania 19104, USA\\n\\nA subset of eukaryotic transcription factors possesses the remarkable ability to reprogram one type of cell into another. The transcription factors that reprogram cell fate are invariably those that are crucial for the initial cell programming in embryonic development. To elicit cell programming or reprogramming, transcription fac- tors must be able to engage genes that are developmen- tally silenced and' metadata={'source': '/nfs/turbo/umms-indikar/shared/projects/RAG/papers/Transcription-Factors/Pioneer transcription factors in cell reprogramming.pdf'}"
   ]
  },
  {
   "cell_type": "code",
   "execution_count": 27,
   "id": "c91b6c8e-832b-4b25-82bd-9cb2278c33ce",
   "metadata": {},
   "outputs": [
    {
     "name": "stdout",
     "output_type": "stream",
     "text": [
      "RAG score: tensor([0.0772])\n",
      "GPT score: tensor([-0.0659])\n"
     ]
    }
   ],
   "source": [
    "from bert_score import BERTScorer\n",
    "scorer = BERTScorer(lang=\"en\", rescale_with_baseline=True)\n",
    "\n",
    "\n",
    "baseline = [\"\"\"\n",
    "Myogenic reprogramming refers to the conversion of non-myogenic cells, such as fibroblasts, into myoblasts or muscle progenitor cells. This process is crucial for regenerative medicine and muscle repair. Several transcription factors (TFs) have been identified as key players in myogenic reprogramming. These include:\n",
    "\n",
    "1. MyoD (Myoblast Determination Factor 1) and Myog (Myogenin): These two TFs are the primary forces driving myogenic differentiation. MyoD induces the expression of other myogenic genes, and Myog is essential for terminal differentiation and muscle fiber formation.\n",
    "\n",
    "2. E2A (E2A-E12 and Pax3/4): These TFs are also known as myogenic regulatory factors (MRFs) and work together with MyoD and Myog. They influence the expression of various muscle-specific genes, leading to myogenic lineage commitment.\n",
    "\n",
    "3. Sox9 and Pax7: These TFs play an important role in the early stages of muscle development and muscle stem cell identity maintenance. Sox9 is required for muscle lineage commitment, expressing marker genes like MyoD, while Pax7 acts as a muscle stem cell identity gene.\n",
    "\n",
    "4. MEF2A, MEF2C, and MEF2D: They form the myocyte-specific MADF (Myocyte Enhancer Factors) family, which, together with myogenic TFs, promote muscle differentiation.\n",
    "\n",
    "5. GATA series: GATA4, GATA6, and GATA3 have been shown to play a role in myogenic reprogramming by cooperating with MRFs in muscle fiber formation and activation.\n",
    "\n",
    "6. NFATc1 (Nuclear factor of activated T cells 1): It is required for muscle differentiation by activating genes critical for muscle fiber maturation and contractile function.\n",
    "\n",
    "When planning myogenic reprogramming experiments or analyzing literature on this topic, researchers often use databases (like Gene Ontology or Enrichr) to gain more information about TFs involved. Furthermore, they may use tools like snakemake for data processing or R/Python for differential analysis of gene expression data to identify secondary relevant TFs.\n",
    "\"\"\"]\n",
    "cands = [\"Myod and Myf5 are important transcription factors for myogenic reprogramming. These factors have the capability to access muscle-specific promoters and specify the skeletal muscle lineage. They can recruit histone-modifying and chromatin-remodeling complexes to muscle promoters and reset the cellular chromatin structure and transcriptional program. Chromatin context establishes an instructive environment for their activity. These factors are crucial for the initial muscle cell programming during embryonic development, and their ability to engage silenced genes contributes to their capacity to reprogram cells into the muscle lineage.\"]\n",
    "#cands_chatgpt = [\"Myogenic reprogramming converts non-muscle cells into muscle cells, requiring key transcription factors: MyoD: A master regulator, capable of converting non-muscle cells into myoblasts. Myf5: Works with MyoD for early muscle development. Myogenin: Essential for the terminal differentiation of myoblasts into muscle fibers. MRF4 (Myf6): Involved in both early and late muscle differentiation stages. Pax7: Crucial for satellite cell specification and muscle regeneration. Pax3: Important for early myogenic progenitor cell formation. MEF2 (A, B, C, D): Regulates muscle gene expression downstream of MRFs. Six1 and Eya2: Enhance myogenic gene activation and reprogramming efficiency. These factors collectively regulate muscle cell development, making them essential for myogenic reprogramming.\"]\n",
    "refs = [\"and the other functions slightly later in the myotome and also during the activation of adult muscle satellite cells in muscle regeneration (Asakura et al., 1995; Goldhamer et al., 1995); however, the factors regulating these functions remain largely unknown. It appears, therefore, that complex signaling events from surrounding embryonic tissues are integrated by complex regulatory elements at the Myf5 and Myod loci to accomplish a simple binary decision: whether or not to express Myod or Myf5. As noted above, these transcription factors are necessary and sufficient for skeletal muscle formation, and the instruction to express either of them\"]\n",
    "#candreal = cands.split('.')\n",
    "P, R, F1 = scorer.score(cands, refs)\n",
    "print(f\"RAG score: {F1}\")\n",
    "\n",
    "P_GPT, R_GPT, F1_GPT = scorer.score(baseline, refs)\n",
    "print(f\"GPT score: {F1_GPT}\")"
   ]
  },
  {
   "cell_type": "code",
   "execution_count": 32,
   "id": "e206ed8c-8c6a-464e-836d-969c48dab161",
   "metadata": {},
   "outputs": [
    {
     "name": "stderr",
     "output_type": "stream",
     "text": [
      "/home/machoi/.local/lib/python3.9/site-packages/huggingface_hub/file_download.py:1132: FutureWarning: `resume_download` is deprecated and will be removed in version 1.0.0. Downloads always resume when possible. If you want to force a new download, use `force_download=True`.\n",
      "  warnings.warn(\n"
     ]
    },
    {
     "name": "stdout",
     "output_type": "stream",
     "text": [
      "tensor([0.8405])\n"
     ]
    }
   ],
   "source": [
    "from bert_score import BERTScorer\n",
    "scorer = BERTScorer(lang=\"en\")#, rescale_with_baseline=True)\n",
    "cand = [\"Myod and Myf5 are important transcription factors for myogenic reprogramming as they are crucial for skeletal muscle formation during embryonic development. They can access muscle-specific promoters and specify the skeletal muscle lineage by recruiting histone-modifying and chromatin-remodeling complexes to reset the cellular chromatin structure and transcriptional program. Chromatin context plays an instructive role in their activity by providing an environment for their binding. Other factors, such as those discovered through recent studies on chromatin-associated complexes, may also contribute to myogenic reprogramming, but they are not mentioned in the provided context.\"]\n",
    "refs = [\"Myf5. As noted above, these transcription factors are necessary and sufficient for skeletal muscle formation, and the instruction to express either of them effectively speciﬁes the skeletal muscle lineage. In addition, auto-regulation and cross- regulation exists among the myogenic bHLH proteins, such that a transient embryonically instructed induction results in stable expression of these factors. The convergence of multiple embryonic signals on this simple binary decision has been referred to as a ‘nodal point’ in muscle cell speciﬁcation. The identiﬁcation of other bHLH proteins that regulate complex programs of differentiation\"]\n",
    "P, R, F1 = scorer.score(cand, refs)\n",
    "print(F1)"
   ]
  },
  {
   "cell_type": "code",
   "execution_count": 31,
   "id": "d11f5961-eb00-4acd-ba66-3297e143c217",
   "metadata": {},
   "outputs": [
    {
     "name": "stdout",
     "output_type": "stream",
     "text": [
      "tensor([0.1608])\n"
     ]
    }
   ],
   "source": [
    "masked_doc1 = [\"\"\"and the other functions slightly later in the myotome and also during the activation of adult muscle satellite cells in muscle regeneration (Asakura et al., 1995; Goldhamer et al., 1995); however, the factors regulating these functions remain largely unknown.\n",
    "\n",
    "It appears, therefore, that complex signaling events from surrounding embryonic tissues are integrated by complex regulatory elements at the Myf5 and Myod loci to accomplish a simple binary decision: whether or not to express Myod or\n",
    "\n",
    "Myf5. As noted above, these transcription factors are necessary and sufficient for skeletal muscle formation, and the instruction to express either of them\"\"\"]\n",
    "\n",
    "masked_doc2 = [\"\"\"Myf5. As noted above, these transcription factors are necessary and sufficient for skeletal muscle formation, and the instruction to express either of them effectively speciﬁes the skeletal muscle lineage. In addition, auto-regulation and cross- regulation exists among the myogenic bHLH proteins (Thayer et al., 1989), such that a transient embryonically instructed induction results in stable expression of these factors. The convergence of multiple embryonic signals on this simple binary decision has been referred to as a ‘nodal point’ in muscle cell speciﬁcation (Weintraub et al., 1991a). The identiﬁcation of other bHLH proteins that regulate complex programs of differentiation,\"\"\"]\n",
    "scorer = BERTScorer(lang=\"en\", rescale_with_baseline=True)\n",
    "P, R, F1 = scorer.score(masked_doc1, masked_doc2)\n",
    "print(F1)"
   ]
  },
  {
   "cell_type": "markdown",
   "id": "68f26af9-74fa-47a1-9f4c-bc2937249546",
   "metadata": {},
   "source": [
    "Works for the cross validation but results are bad (probably because the format of the string is quite poor but does not give super negative values???) maybe this shows more of a no correlation than anything else though.\n",
    "\n",
    "errors when trying with 1 on 1 situation and chatgpt (will work on this tmrw)"
   ]
  },
  {
   "cell_type": "markdown",
   "id": "de8f265c-aa61-4c30-a3fc-aba98ed6ecc6",
   "metadata": {},
   "source": [
    "# Anatomy of BRAD\n",
    "- help, force, set, configs, logs, modules"
   ]
  },
  {
   "cell_type": "markdown",
   "id": "a5bcbb43-502f-4306-98d1-849bcb729229",
   "metadata": {},
   "source": [
    "## Helpful Prompts"
   ]
  },
  {
   "cell_type": "markdown",
   "id": "139759b0-2cdb-4b67-aec9-2e5bc568a588",
   "metadata": {},
   "source": [
    "## Configurations"
   ]
  }
 ],
 "metadata": {
  "kernelspec": {
   "display_name": "Python 3 (ipykernel)",
   "language": "python",
   "name": "python3"
  },
  "language_info": {
   "codemirror_mode": {
    "name": "ipython",
    "version": 3
   },
   "file_extension": ".py",
   "mimetype": "text/x-python",
   "name": "python",
   "nbconvert_exporter": "python",
   "pygments_lexer": "ipython3",
   "version": "3.9.7"
  }
 },
 "nbformat": 4,
 "nbformat_minor": 5
}
