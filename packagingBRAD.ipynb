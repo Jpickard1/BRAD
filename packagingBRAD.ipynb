{
 "cells": [
  {
   "cell_type": "code",
   "execution_count": 2,
   "id": "6b2a9d9d-3775-4988-8fb2-dcb75344f8a4",
   "metadata": {},
   "outputs": [],
   "source": [
    "from BRAD import *\n",
    "from BRAD import brad"
   ]
  },
  {
   "cell_type": "code",
   "execution_count": 4,
   "id": "ababf939-0b57-479f-879b-c4d9236ae5bf",
   "metadata": {},
   "outputs": [
    {
     "name": "stderr",
     "output_type": "stream",
     "text": [
      "Sun Jun  2 18:07:15 2024 INFO Use pytorch device_name: cpu\n",
      "Sun Jun  2 18:07:15 2024 INFO Load pretrained SentenceTransformer: BAAI/bge-base-en-v1.5\n",
      "/home/jpic/.local/lib/python3.11/site-packages/huggingface_hub/file_download.py:1132: FutureWarning: `resume_download` is deprecated and will be removed in version 1.0.0. Downloads always resume when possible. If you want to force a new download, use `force_download=True`.\n",
      "  warnings.warn(\n",
      "Sun Jun  2 18:07:16 2024 INFO Anonymized telemetry enabled. See                     https://docs.trychroma.com/telemetry for more information.\n",
      "Sun Jun  2 18:07:16 2024 INFO Collection DB_cosine_cSize_700_cOver_200 is not created.\n"
     ]
    }
   ],
   "source": [
    "model_path            = '/nfs/turbo/umms-indikar/shared/projects/RAG/models/llama-2-7b-chat.Q2_K.gguf' # llama-2-7b-chat.Q8_0.gguf'\n",
    "persist_directory     = \"/nfs/turbo/umms-indikar/shared/projects/RAG/databases/Transcription-Factors-5-10-2024/\"\n",
    "llm, callback_manager = brad.load_llama(nvidia_api_key = \"XXXXX\",\n",
    "                                   nvidia_model   = \"mistral_7b\",\n",
    "                                  )\n",
    "ragvectordb, embeddings_model = brad.load_literature_db(persist_directory)"
   ]
  },
  {
   "cell_type": "code",
   "execution_count": 5,
   "id": "4169bb2c-c4a5-4938-8c0c-49909709d6f4",
   "metadata": {},
   "outputs": [
    {
     "name": "stderr",
     "output_type": "stream",
     "text": [
      "Sun Jun  2 18:07:38 2024 INFO local\n"
     ]
    },
    {
     "name": "stdout",
     "output_type": "stream",
     "text": [
      "Welcome to RAG! The chat log from this conversation will be saved to logs/RAG2024-06-02-18:07:38.251982.json. How can I help?\n",
      "==================================================\n"
     ]
    },
    {
     "name": "stdin",
     "output_type": "stream",
     "text": [
      "Input >>  what transcription factors are involved in iPSC reprogramming and what are involved in myogenic reprogramming?\n"
     ]
    },
    {
     "name": "stderr",
     "output_type": "stream",
     "text": [
      "Sun Jun  2 18:08:07 2024 INFO RAG\n"
     ]
    },
    {
     "name": "stdout",
     "output_type": "stream",
     "text": [
      "==================================================\n",
      "RAG >> 1: "
     ]
    },
    {
     "name": "stderr",
     "output_type": "stream",
     "text": [
      "/home/jpic/.local/lib/python3.11/site-packages/langchain_core/_api/deprecation.py:119: LangChainDeprecationWarning: The method `Chain.__call__` was deprecated in langchain 0.1.0 and will be removed in 0.3.0. Use invoke instead.\n",
      "  warn_deprecated(\n"
     ]
    },
    {
     "name": "stdout",
     "output_type": "stream",
     "text": [
      " Based on the context provided, the 7 transcription factors selected for use in iPSC-derived cardiac myocyte transdifferentiation are SP3, ZBTB10, ZBTB44, NFIA, SSH2, ZFN770, and ZFX91. These factors were found to be frequently up-regulated in iPSC-derived cardiac myocytes and were cloned into pMXs retroviral expression vectors for use in the study.\n",
      "\n",
      "Regarding iPSC reprogramming, the context does not provide sufficient information to answer your question directly. However, it does mention that genes contributing to the identities of fertilized eggs or ES cells were thought to be responsible for the reconstitution of specific transcriptional networks during reprogramming. In 2000, a study identified several factors, such as Myc, Klf4, Oct4, and Sox2, as being essential for iPSC generation. These factors are commonly referred to as the \"Yamanaka factors\" and are widely used for iPSC generation. However, the context does not directly address which transcription factors are specifically involved in iPSC reprogramming.\n",
      "['']\n",
      "\n",
      " would you search Gene Ontology for these terms [Y/N]?\n"
     ]
    },
    {
     "name": "stdin",
     "output_type": "stream",
     "text": [
      " N\n"
     ]
    },
    {
     "name": "stdout",
     "output_type": "stream",
     "text": [
      "==================================================\n"
     ]
    },
    {
     "name": "stdin",
     "output_type": "stream",
     "text": [
      "Input >>  which transcription factors are involved in myogenic reprogramming?\n"
     ]
    },
    {
     "name": "stderr",
     "output_type": "stream",
     "text": [
      "Sun Jun  2 18:08:42 2024 INFO RAG\n"
     ]
    },
    {
     "name": "stdout",
     "output_type": "stream",
     "text": [
      "==================================================\n",
      "RAG >> 2:  Based on the provided context, Myf5 and Myod are the key transcription factors involved in skeletal muscle formation. Other myogenic bHLH proteins also play roles in muscle differentiation and regeneration, and they interact with each other through auto-regulation and cross-regulation. Factors regulating these functions are largely unknown. There are also references to the identification of other bHLH proteins that regulate complex programs of differentiation, interacting proteins, and the role of p300 in MyoD-dependent gene transcription and cell cycle arrest. However, the context does not directly answer the question about which transcription factors are involved in myogenic reprogramming.\n",
      "['', 'MYF5', 'MYOD']\n",
      "\n",
      " would you search Gene Ontology for these terms [Y/N]?\n"
     ]
    },
    {
     "name": "stdin",
     "output_type": "stream",
     "text": [
      " N\n"
     ]
    },
    {
     "name": "stdout",
     "output_type": "stream",
     "text": [
      "==================================================\n"
     ]
    },
    {
     "name": "stdin",
     "output_type": "stream",
     "text": [
      "Input >>  whihc transcription factors are involved in iPSC and who discovered them?\n"
     ]
    },
    {
     "name": "stderr",
     "output_type": "stream",
     "text": [
      "Sun Jun  2 18:09:04 2024 INFO RAG\n"
     ]
    },
    {
     "name": "stdout",
     "output_type": "stream",
     "text": [
      "==================================================\n",
      "RAG >> 3:  The reprogramming factors involved in the generation of induced pluripotent stem cells (iPSCs) include MYOD (for fibroblast conversion), GATA1 (for hematopoiesis), and CEBP (for B lymphocyte) along with the master transcription factors Oct4, Sox2, Klf4, and c-Myc (collectively known as OSKM) which were first discovered for their roles in iPSCs by Shinya Yamanaka and his team in 2006. These factors were discovered through various studies that showed transcription factors, especially the master regulators of cell identity, could modify cell fate (as mentioned in the context you provided).\n",
      "['', 'MYOD', 'GATA1']\n",
      "\n",
      " would you search Gene Ontology for these terms [Y/N]?\n"
     ]
    },
    {
     "name": "stdin",
     "output_type": "stream",
     "text": [
      " which transcription factors are involved in iPSC and who discovered them?\n"
     ]
    },
    {
     "name": "stdout",
     "output_type": "stream",
     "text": [
      "==================================================\n"
     ]
    },
    {
     "name": "stdin",
     "output_type": "stream",
     "text": [
      "Input >>  which transcription factors are involved in iPSC and who discovered them?\n"
     ]
    },
    {
     "name": "stderr",
     "output_type": "stream",
     "text": [
      "Sun Jun  2 18:09:43 2024 INFO RAG\n"
     ]
    },
    {
     "name": "stdout",
     "output_type": "stream",
     "text": [
      "==================================================\n",
      "RAG >> 4:  The discovery of the specific transcription factors involved in the generation of induced pluripotent stem cells (iPSCs) was not explicitly stated in the provided text. However, it mentions that genes that contribute to the identities of fertilized eggs or ES cells were initially thought to be responsible for reprogramming. In 2000, researchers identified candidate reprogramming factors by looking at genes involved in the identities of these cell types, paving the way for the discovery of iPSCs around 10 years later.\n",
      "\n",
      "While the text does not mention the names of the specific transcription factors, it does mention some key players in the field of cellular reprogramming, such as MYOD for fibroblast differentiation, GATA1 for myeloblast differentiation, and CEBP for B lymphocyte differentiation. These transcription factors are examples of the master regulators mentioned in the text that can modify cell fate.\n",
      "\n",
      "Therefore, without directly stating the names of the transcription factors involved in generating iPSCs, the text hints that they are likely to be among the genes that contribute to cell identities and that have been studied for their role in differentiation before. Ultimately, further research was required to identify the exact factors and validate their roles in generating iPSCs.\n",
      "['', 'WAS', 'MYOD', 'GATA1', 'WAS']\n",
      "\n",
      " would you search Gene Ontology for these terms [Y/N]?\n"
     ]
    },
    {
     "name": "stdin",
     "output_type": "stream",
     "text": [
      " N\n"
     ]
    },
    {
     "name": "stdout",
     "output_type": "stream",
     "text": [
      "==================================================\n"
     ]
    },
    {
     "name": "stdin",
     "output_type": "stream",
     "text": [
      "Input >>  what are the yamanaka factors?\n"
     ]
    },
    {
     "name": "stderr",
     "output_type": "stream",
     "text": [
      "Sun Jun  2 18:10:00 2024 INFO RAG\n"
     ]
    },
    {
     "name": "stdout",
     "output_type": "stream",
     "text": [
      "==================================================\n",
      "RAG >> 5:  The Yamanaka factors are a set of four transcription factors: Oct4, Sox2, Klf4, and c-Myc. They were discovered in 2006 by Shinya Yamanaka and his team, who used them to reprogram adult mouse fibroblasts back into an embryonic stem cell-like state, a process now known as induced pluripotent stem cell (iPSC) reprogramming. The Yamanaka factors are essential for the re-activation of the embryonic gene expression program and the establishment of pluripotency in the reprogrammed cells.\n",
      "['', 'SET']\n",
      "\n",
      " would you search Gene Ontology for these terms [Y/N]?\n"
     ]
    },
    {
     "name": "stdin",
     "output_type": "stream",
     "text": [
      " N\n"
     ]
    },
    {
     "name": "stdout",
     "output_type": "stream",
     "text": [
      "==================================================\n"
     ]
    },
    {
     "name": "stdin",
     "output_type": "stream",
     "text": [
      "Input >>  q\n"
     ]
    }
   ],
   "source": [
    "brad.main(llm=llm, ragvectordb=ragvectordb, embeddings_model=embeddings_model)"
   ]
  }
 ],
 "metadata": {
  "kernelspec": {
   "display_name": "Python 3 (ipykernel)",
   "language": "python",
   "name": "python3"
  },
  "language_info": {
   "codemirror_mode": {
    "name": "ipython",
    "version": 3
   },
   "file_extension": ".py",
   "mimetype": "text/x-python",
   "name": "python",
   "nbconvert_exporter": "python",
   "pygments_lexer": "ipython3",
   "version": "3.11.7"
  }
 },
 "nbformat": 4,
 "nbformat_minor": 5
}
