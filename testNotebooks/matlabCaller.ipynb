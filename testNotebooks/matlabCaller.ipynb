{
 "cells": [
  {
   "cell_type": "markdown",
   "id": "158c9c2a-1ec0-4bac-9c15-647f0fff29c4",
   "metadata": {},
   "source": [
    "# Matlab Caller"
   ]
  },
  {
   "cell_type": "code",
   "execution_count": 1,
   "id": "e8a35939-c6d5-427c-82f0-4476a146c041",
   "metadata": {},
   "outputs": [
    {
     "name": "stdout",
     "output_type": "stream",
     "text": [
      "Hello Python World from MATLAB!\n",
      "5.0\n"
     ]
    }
   ],
   "source": [
    "import matlab.engine\n",
    "eng = matlab.engine.start_matlab()\n",
    "eng.cd(r'matlab', nargout=0)\n",
    "XX = eng.myFunc()\n",
    "print(XX)"
   ]
  },
  {
   "cell_type": "code",
   "execution_count": 2,
   "id": "d17dbf15-4332-422d-916d-f0256a9c0c43",
   "metadata": {},
   "outputs": [],
   "source": [
    "eng = matlab.engine.start_matlab()"
   ]
  },
  {
   "cell_type": "code",
   "execution_count": 3,
   "id": "0f31e9b1-cca6-49b2-97b8-b0ce3bddcb47",
   "metadata": {},
   "outputs": [],
   "source": [
    "eng.cd(r'matlab', nargout=0)"
   ]
  },
  {
   "cell_type": "code",
   "execution_count": 15,
   "id": "b6f67b94-dbeb-42de-a0f6-5843a8cceaae",
   "metadata": {},
   "outputs": [
    {
     "name": "stdout",
     "output_type": "stream",
     "text": [
      "Hello Python World from MATLAB!\n",
      "5.0\n"
     ]
    }
   ],
   "source": [
    "XX = eng.myFunc()\n",
    "print(XX)"
   ]
  },
  {
   "cell_type": "code",
   "execution_count": null,
   "id": "6618fcda-d7bc-4bf7-bb50-9335c019d46f",
   "metadata": {},
   "outputs": [],
   "source": []
  }
 ],
 "metadata": {
  "kernelspec": {
   "display_name": "Python 3 (ipykernel)",
   "language": "python",
   "name": "python3"
  },
  "language_info": {
   "codemirror_mode": {
    "name": "ipython",
    "version": 3
   },
   "file_extension": ".py",
   "mimetype": "text/x-python",
   "name": "python",
   "nbconvert_exporter": "python",
   "pygments_lexer": "ipython3",
   "version": "3.9.7"
  }
 },
 "nbformat": 4,
 "nbformat_minor": 5
}
