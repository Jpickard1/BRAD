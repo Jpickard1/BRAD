{
 "cells": [
  {
   "cell_type": "markdown",
   "id": "912b5508-dc52-4738-a81b-91d27dc4dcb7",
   "metadata": {},
   "source": [
    "# NVIDIA Usage"
   ]
  },
  {
   "cell_type": "markdown",
   "id": "256843cf-f76a-40ff-b254-332a707bff64",
   "metadata": {},
   "source": [
    "## https://blog.langchain.dev/nvidia-nim/"
   ]
  },
  {
   "cell_type": "code",
   "execution_count": 1,
   "id": "e389b1ac-0f4e-4341-8e22-260d83bd30bc",
   "metadata": {},
   "outputs": [
    {
     "ename": "ModuleNotFoundError",
     "evalue": "No module named 'chatbot'",
     "output_type": "error",
     "traceback": [
      "\u001b[0;31m---------------------------------------------------------------------------\u001b[0m",
      "\u001b[0;31mModuleNotFoundError\u001b[0m                       Traceback (most recent call last)",
      "Cell \u001b[0;32mIn[1], line 1\u001b[0m\n\u001b[0;32m----> 1\u001b[0m \u001b[38;5;28;01mfrom\u001b[39;00m \u001b[38;5;21;01mchatbot\u001b[39;00m \u001b[38;5;28;01mimport\u001b[39;00m load_literature_db\n\u001b[1;32m      2\u001b[0m persist_directory     \u001b[38;5;241m=\u001b[39m \u001b[38;5;124m\"\u001b[39m\u001b[38;5;124m/nfs/turbo/umms-indikar/shared/projects/RAG/databases/Transcription-Factors-5-10-2024/\u001b[39m\u001b[38;5;124m\"\u001b[39m\n\u001b[1;32m      3\u001b[0m ragvectordb, embeddings_model \u001b[38;5;241m=\u001b[39m load_literature_db(persist_directory)\n",
      "\u001b[0;31mModuleNotFoundError\u001b[0m: No module named 'chatbot'"
     ]
    }
   ],
   "source": [
    "from chatbot import load_literature_db\n",
    "persist_directory     = \"/nfs/turbo/umms-indikar/shared/projects/RAG/databases/Transcription-Factors-5-10-2024/\"\n",
    "ragvectordb, embeddings_model = load_literature_db(persist_directory)"
   ]
  },
  {
   "cell_type": "code",
   "execution_count": 2,
   "id": "46e3addb-76d5-47b7-a849-653668a6ee45",
   "metadata": {},
   "outputs": [],
   "source": [
    "from langchain_nvidia_ai_endpoints import NVIDIAEmbeddings, ChatNVIDIA\n",
    "from langchain_community.document_loaders import WebBaseLoader\n",
    "from langchain_nvidia_ai_endpoints import NVIDIAEmbeddings\n",
    "from langchain_community.vectorstores import FAISS\n",
    "from langchain_text_splitters import RecursiveCharacterTextSplitter\n",
    "from langchain_core.prompts import ChatPromptTemplate\n",
    "from langchain_nvidia_ai_endpoints import ChatNVIDIA\n",
    "from langchain_core.output_parsers import StrOutputParser"
   ]
  },
  {
   "cell_type": "code",
   "execution_count": 3,
   "id": "6b24173e-05dc-4e22-90ef-501832e44b5a",
   "metadata": {},
   "outputs": [],
   "source": [
    "retriever = ragvectordb.as_retriever()"
   ]
  },
  {
   "cell_type": "code",
   "execution_count": 4,
   "id": "fa21e57f-4459-4066-a0b1-fc21377a109b",
   "metadata": {},
   "outputs": [],
   "source": [
    "model = ChatNVIDIA(model=\"mistral_7b\",\n",
    "                    api_key = \"XXXXX\")"
   ]
  },
  {
   "cell_type": "code",
   "execution_count": 5,
   "id": "14d443ea-f38f-472c-b30a-d89f7bfb9f5a",
   "metadata": {},
   "outputs": [],
   "source": [
    "hyde_template = \"\"\"Even if you do not know the full answer, generate a one-paragraph hypothetical answer to the below question:\n",
    "\n",
    "{question}\"\"\"\n",
    "hyde_prompt = ChatPromptTemplate.from_template(hyde_template)\n",
    "hyde_query_transformer = hyde_prompt | model | StrOutputParser()"
   ]
  },
  {
   "cell_type": "code",
   "execution_count": 6,
   "id": "35e1c344-65f3-4683-9e12-68012bd7fffa",
   "metadata": {},
   "outputs": [],
   "source": [
    "from langchain_core.runnables import chain\n",
    "\n",
    "@chain\n",
    "def hyde_retriever(question):\n",
    "    hypothetical_document = hyde_query_transformer.invoke({\"question\": question})\n",
    "    return retriever.invoke(hypothetical_document)"
   ]
  },
  {
   "cell_type": "code",
   "execution_count": 7,
   "id": "449082e9-1139-4c36-bd55-716421980b9e",
   "metadata": {},
   "outputs": [],
   "source": [
    "template = \"\"\"Answer the question based only on the following context:\n",
    "{context}\n",
    "\n",
    "Question: {question}\n",
    "\"\"\"\n",
    "prompt = ChatPromptTemplate.from_template(template)\n",
    "answer_chain = prompt | model | StrOutputParser()"
   ]
  },
  {
   "cell_type": "code",
   "execution_count": 8,
   "id": "57181f27-4dcf-4b34-899b-05e87a0edfd6",
   "metadata": {},
   "outputs": [],
   "source": [
    "@chain\n",
    "def final_chain(question):\n",
    "    documents = hyde_retriever.invoke(question)\n",
    "    for s in answer_chain.stream({\"question\": question, \"context\": documents}):\n",
    "        yield s"
   ]
  },
  {
   "cell_type": "code",
   "execution_count": 9,
   "id": "deddac0e-3100-40d9-ab90-ea6b981bf4cd",
   "metadata": {},
   "outputs": [
    {
     "name": "stdout",
     "output_type": "stream",
     "text": [
      " Transcription factors (TFs) play a crucial role in the process of reprogramming somatic cells into pluripotent stem cells (PSCs), also known as induced pluripotent stem cells (iPSCs). By introducing specific TFs, such as Oct3/4, Sox2, Klf4, and c-Myc, researchers have been able to trigger endogenous expression of pluripotent factors, resulting in the reprogramming of fibroblasts into PSCs. These TFs have been found to be sufficient for converting fibroblasts into iPSCs, and while alternative sets of TFs have been reported for iPSC reprogramming, most studies include Oct3/4 and Sox2. These TFs help erase the memories of somatic cells, enabling them to adopt a pluripotent state. The use of TFs for this purpose has revolutionized the field of regenerative medicine."
     ]
    }
   ],
   "source": [
    "for s in final_chain.stream(\"how can transcription factors help reprogramming?\"):\n",
    "    print(s, end=\"\")"
   ]
  },
  {
   "cell_type": "code",
   "execution_count": 10,
   "id": "141c4e65-79b4-41d0-be7e-cb8b7385cc78",
   "metadata": {},
   "outputs": [
    {
     "name": "stdout",
     "output_type": "stream",
     "text": [
      " Based on the context provided, there are no specific mentions of databases about Transcription Factors. However, the text does discuss the importance of continued effort to understand TF-mediated gene regulation and mentions two previous comprehensive reviews of human TFs published in 2009. These reviews may contain or be associated with databases of human TFs and binding motifs. The text also mentions the limitations of existing data and the challenges of systematically detecting higher-order interactions, which suggests that there may be ongoing efforts to develop and improve databases in this area."
     ]
    }
   ],
   "source": [
    "for s in final_chain.stream(\"What some databases about Transcription Factors?\"):\n",
    "    print(s, end=\"\")"
   ]
  },
  {
   "cell_type": "code",
   "execution_count": 11,
   "id": "ff8cb2e2-8d47-4219-8466-f3b7dcecbec9",
   "metadata": {},
   "outputs": [
    {
     "name": "stdout",
     "output_type": "stream",
     "text": [
      " The text mentions several databases related to Transcription Factors (TFs) that have been used to study TF-DNA interactions: TRANSFAC, JASPAR, HT-SELEX, CisBP, Interpro, and TFClass. These databases provide information on TF motifs and genomic binding sites. The papers cited in the text for this information are: Matys et al. (2006), Mathelier et al. (2016), Weirauch et al. (2014), Wingender et al. (2015), and Berman et al. (2000)."
     ]
    }
   ],
   "source": [
    "for s in final_chain.stream(\"What some databases about Transcription Factors? Which papers are you referencing to answer this question?\"):\n",
    "    print(s, end=\"\")"
   ]
  },
  {
   "cell_type": "code",
   "execution_count": 12,
   "id": "6728bf85-9f6b-4e25-94c1-ae2e6acd9aeb",
   "metadata": {},
   "outputs": [
    {
     "name": "stdout",
     "output_type": "stream",
     "text": [
      " The context does not directly provide information about specific databases related to Transcription Factors. The text discusses papers that have reviewed human Transcription Factors and compiled lists of them, but it does not mention any specific databases.\n",
      "\n",
      "The papers cited in the context are \"The Human Transcription Factors\" by Fulton et al., 2009 and \"Human Transcription Factors: A Comprehensive Catalogue and Profile-based Analysis\" by Vaquerizas et al., 2009."
     ]
    }
   ],
   "source": [
    "for s in final_chain.stream(\"What some databases about Transcription Factors? Provide the title and authors of the papers used to answer this question?\"):\n",
    "    print(s, end=\"\")"
   ]
  },
  {
   "cell_type": "markdown",
   "id": "614e0cd9-68a1-4cfa-8b54-005f32597cf6",
   "metadata": {},
   "source": [
    "## Guessing Game with Memory"
   ]
  },
  {
   "cell_type": "code",
   "execution_count": 1,
   "id": "b35683e2-2198-4ce2-a5b0-9c32cae8cdb7",
   "metadata": {},
   "outputs": [],
   "source": [
    "from langchain_nvidia_ai_endpoints import NVIDIAEmbeddings, ChatNVIDIA\n",
    "from langchain.prompts import PromptTemplate\n",
    "from langchain_core.prompts.prompt import PromptTemplate\n",
    "from langchain.memory import ConversationBufferMemory\n",
    "from langchain.chains import ConversationChain"
   ]
  },
  {
   "cell_type": "code",
   "execution_count": 2,
   "id": "69997fd4-e491-499f-a76f-4e086fcff5a0",
   "metadata": {},
   "outputs": [
    {
     "name": "stderr",
     "output_type": "stream",
     "text": [
      "/home/jpic/.local/lib/python3.11/site-packages/langchain_nvidia_ai_endpoints/_statics.py:313: UserWarning: Model mistral_7b is deprecated. Using mistralai/mistral-7b-instruct-v0.2 instead.\n",
      "  warnings.warn(\n"
     ]
    }
   ],
   "source": [
    "model = ChatNVIDIA(model=\"mistral_7b\",\n",
    "                   api_key = \"XXXXX\",\n",
    "                   stop=['\\n', \"\\n\", \"Human\", \"Stop\"])"
   ]
  },
  {
   "cell_type": "code",
   "execution_count": 19,
   "id": "288006f9-35ab-40ea-b6ed-36312ff73444",
   "metadata": {},
   "outputs": [],
   "source": [
    "template = \"\"\"The following is a guessing game between you (BRAD) and a human. You guess an integer X between an upper and lower bound and the human will give information of higher > X, lower < X, or = X until you guess correctly. Each turn, use information from the human to update one of either your upper or lower bound for X. By updating your bounds over time, you will narrow the options for X.\n",
    "\n",
    "Use a binary search strategy. For instance, if we know X is between 0 and 10, guess in the middle 5, or if X is in between 5 and 10, guess in the middle 8.\n",
    "\n",
    "At each step, answer with your upper bound for X, your lower bound for X, and your guess for X.\n",
    "\n",
    "You want to use the lowest upper bound and the highest lower bound. These bounds can be found in the chat history where z < x or x > z indicates z is a lower bound for x and x is an upper bound for z.\n",
    "\n",
    "**Important:** Only provide your output in the specified format below. Do not continue the conversation beyond this format.\n",
    "\n",
    "Format your response as:\n",
    "\n",
    "\"The upper bound is (Y) and lower bound is (Z). My guess is (X) and (Z) < (X) < (Y). Stop\"\n",
    "\n",
    "Do not continue generating any code after the word \"Stop\". There will be multiple iterations but you only create the response one time per iteration.\n",
    "\n",
    "Example:\n",
    "\n",
    "Iteration 0:\n",
    "Human: Guess a number between 0 and 20\n",
    "System: The upper bound is 20 and lower bound is 0. My guess is 8 and 0 < 8 < 20\n",
    "\n",
    "Iteration 1:\n",
    "Human: the number is > 8\n",
    "System: The upper bound is 20 and lower bound is 8. My guess is 15 and 8 < 15 < 20\n",
    "\n",
    "Iteration 2\n",
    "Human: the number is < 15\n",
    "System: The upper bound is 15 and lower bound is 8. My guess is 12 and 8 < 12 < 15\n",
    "END EXAMPLE. The numbers above are just for a workflow. Do not base your guesses on these\n",
    "\n",
    "Current conversation:\n",
    "{history}\n",
    "\n",
    "Human: {input}\n",
    "BRAD:\"\"\"\n",
    "\n",
    "# Ensure PROMPT object uses the new template\n",
    "PROMPT = PromptTemplate(input_variables=[\"history\", \"input\"], template=template)\n",
    "memory = ConversationBufferMemory(ai_prefix=\"BRAD\")\n",
    "\n",
    "conversation = ConversationChain(\n",
    "    prompt=PROMPT,\n",
    "    llm=model,\n",
    "    verbose=True,\n",
    "    memory=memory,\n",
    ")"
   ]
  },
  {
   "cell_type": "code",
   "execution_count": 20,
   "id": "15e551b8-763c-4c8b-b42c-adf4e19c9727",
   "metadata": {},
   "outputs": [
    {
     "name": "stdout",
     "output_type": "stream",
     "text": [
      "\n",
      "\n",
      "\u001b[1m> Entering new ConversationChain chain...\u001b[0m\n",
      "Prompt after formatting:\n",
      "\u001b[32;1m\u001b[1;3mThe following is a guessing game between you (BRAD) and a human. You guess an integer X between an upper and lower bound and the human will give information of higher > X, lower < X, or = X until you guess correctly. Each turn, use information from the human to update one of either your upper or lower bound for X. By updating your bounds over time, you will narrow the options for X.\n",
      "\n",
      "Use a binary search strategy. For instance, if we know X is between 0 and 10, guess in the middle 5, or if X is in between 5 and 10, guess in the middle 8.\n",
      "\n",
      "At each step, answer with your upper bound for X, your lower bound for X, and your guess for X.\n",
      "\n",
      "You want to use the lowest upper bound and the highest lower bound. These bounds can be found in the chat history where z < x or x > z indicates z is a lower bound for x and x is an upper bound for z.\n",
      "\n",
      "**Important:** Only provide your output in the specified format below. Do not continue the conversation beyond this format.\n",
      "\n",
      "Format your response as:\n",
      "\n",
      "\"The upper bound is (Y) and lower bound is (Z). My guess is (X) and (Z) < (X) < (Y). Stop\"\n",
      "\n",
      "Do not continue generating any code after the word \"Stop\". There will be multiple iterations but you only create the response one time per iteration.\n",
      "\n",
      "Example:\n",
      "\n",
      "Iteration 0:\n",
      "Human: Guess a number between 0 and 20\n",
      "System: The upper bound is 20 and lower bound is 0. My guess is 8 and 0 < 8 < 20\n",
      "\n",
      "Iteration 1:\n",
      "Human: the number is > 8\n",
      "System: The upper bound is 20 and lower bound is 8. My guess is 15 and 8 < 15 < 20\n",
      "\n",
      "Iteration 2\n",
      "Human: the number is < 15\n",
      "System: The upper bound is 15 and lower bound is 8. My guess is 12 and 8 < 12 < 15\n",
      "END EXAMPLE. The numbers above are just for a workflow. Do not base your guesses on these\n",
      "\n",
      "Current conversation:\n",
      "\n",
      "\n",
      "Human: Guess a number with a lower bound of 0 and upper bound 100.\n",
      "BRAD:\u001b[0m\n",
      "\n",
      "\u001b[1m> Finished chain.\u001b[0m\n",
      " The upper bound is 100 and lower bound is 0. My guess is 50 and 0 < 50 < 100.\n",
      "Stop.\n"
     ]
    }
   ],
   "source": [
    "user_input = \"Guess a number with a lower bound of 0 and upper bound 100.\"\n",
    "response = conversation.predict(input=user_input)\n",
    "print(response)"
   ]
  },
  {
   "cell_type": "code",
   "execution_count": 21,
   "id": "afad92cf-5cb5-4f0f-a81e-f4c751cda155",
   "metadata": {},
   "outputs": [
    {
     "name": "stdout",
     "output_type": "stream",
     "text": [
      "\n",
      "\n",
      "\u001b[1m> Entering new ConversationChain chain...\u001b[0m\n",
      "Prompt after formatting:\n",
      "\u001b[32;1m\u001b[1;3mThe following is a guessing game between you (BRAD) and a human. You guess an integer X between an upper and lower bound and the human will give information of higher > X, lower < X, or = X until you guess correctly. Each turn, use information from the human to update one of either your upper or lower bound for X. By updating your bounds over time, you will narrow the options for X.\n",
      "\n",
      "Use a binary search strategy. For instance, if we know X is between 0 and 10, guess in the middle 5, or if X is in between 5 and 10, guess in the middle 8.\n",
      "\n",
      "At each step, answer with your upper bound for X, your lower bound for X, and your guess for X.\n",
      "\n",
      "You want to use the lowest upper bound and the highest lower bound. These bounds can be found in the chat history where z < x or x > z indicates z is a lower bound for x and x is an upper bound for z.\n",
      "\n",
      "**Important:** Only provide your output in the specified format below. Do not continue the conversation beyond this format.\n",
      "\n",
      "Format your response as:\n",
      "\n",
      "\"The upper bound is (Y) and lower bound is (Z). My guess is (X) and (Z) < (X) < (Y). Stop\"\n",
      "\n",
      "Do not continue generating any code after the word \"Stop\". There will be multiple iterations but you only create the response one time per iteration.\n",
      "\n",
      "Example:\n",
      "\n",
      "Iteration 0:\n",
      "Human: Guess a number between 0 and 20\n",
      "System: The upper bound is 20 and lower bound is 0. My guess is 8 and 0 < 8 < 20\n",
      "\n",
      "Iteration 1:\n",
      "Human: the number is > 8\n",
      "System: The upper bound is 20 and lower bound is 8. My guess is 15 and 8 < 15 < 20\n",
      "\n",
      "Iteration 2\n",
      "Human: the number is < 15\n",
      "System: The upper bound is 15 and lower bound is 8. My guess is 12 and 8 < 12 < 15\n",
      "END EXAMPLE. The numbers above are just for a workflow. Do not base your guesses on these\n",
      "\n",
      "Current conversation:\n",
      "Human: Guess a number with a lower bound of 0 and upper bound 100.\n",
      "BRAD:  The upper bound is 100 and lower bound is 0. My guess is 50 and 0 < 50 < 100.\n",
      "Stop.\n",
      "\n",
      "Human: The number is < 50. Give the next iteration and stop the response at the word Stop\n",
      "BRAD:\u001b[0m\n",
      "\n",
      "\u001b[1m> Finished chain.\u001b[0m\n",
      " The upper bound is 50 and lower bound is 0. My guess is 25 and 0 < 25 < 50.\n",
      "Stop.\n"
     ]
    }
   ],
   "source": [
    "user_input = \"The number is < 50. Give the next iteration and stop the response at the word Stop\"\n",
    "response = conversation.predict(input=user_input)\n",
    "print(response)"
   ]
  },
  {
   "cell_type": "code",
   "execution_count": 22,
   "id": "d83f1d1b-1064-4e6b-8688-d13f4ad47711",
   "metadata": {},
   "outputs": [
    {
     "name": "stdout",
     "output_type": "stream",
     "text": [
      "\n",
      "\n",
      "\u001b[1m> Entering new ConversationChain chain...\u001b[0m\n",
      "Prompt after formatting:\n",
      "\u001b[32;1m\u001b[1;3mThe following is a guessing game between you (BRAD) and a human. You guess an integer X between an upper and lower bound and the human will give information of higher > X, lower < X, or = X until you guess correctly. Each turn, use information from the human to update one of either your upper or lower bound for X. By updating your bounds over time, you will narrow the options for X.\n",
      "\n",
      "Use a binary search strategy. For instance, if we know X is between 0 and 10, guess in the middle 5, or if X is in between 5 and 10, guess in the middle 8.\n",
      "\n",
      "At each step, answer with your upper bound for X, your lower bound for X, and your guess for X.\n",
      "\n",
      "You want to use the lowest upper bound and the highest lower bound. These bounds can be found in the chat history where z < x or x > z indicates z is a lower bound for x and x is an upper bound for z.\n",
      "\n",
      "**Important:** Only provide your output in the specified format below. Do not continue the conversation beyond this format.\n",
      "\n",
      "Format your response as:\n",
      "\n",
      "\"The upper bound is (Y) and lower bound is (Z). My guess is (X) and (Z) < (X) < (Y). Stop\"\n",
      "\n",
      "Do not continue generating any code after the word \"Stop\". There will be multiple iterations but you only create the response one time per iteration.\n",
      "\n",
      "Example:\n",
      "\n",
      "Iteration 0:\n",
      "Human: Guess a number between 0 and 20\n",
      "System: The upper bound is 20 and lower bound is 0. My guess is 8 and 0 < 8 < 20\n",
      "\n",
      "Iteration 1:\n",
      "Human: the number is > 8\n",
      "System: The upper bound is 20 and lower bound is 8. My guess is 15 and 8 < 15 < 20\n",
      "\n",
      "Iteration 2\n",
      "Human: the number is < 15\n",
      "System: The upper bound is 15 and lower bound is 8. My guess is 12 and 8 < 12 < 15\n",
      "END EXAMPLE. The numbers above are just for a workflow. Do not base your guesses on these\n",
      "\n",
      "Current conversation:\n",
      "Human: Guess a number with a lower bound of 0 and upper bound 100.\n",
      "BRAD:  The upper bound is 100 and lower bound is 0. My guess is 50 and 0 < 50 < 100.\n",
      "Stop.\n",
      "Human: The number is < 50. Give the next iteration and stop the response at the word Stop\n",
      "BRAD:  The upper bound is 50 and lower bound is 0. My guess is 25 and 0 < 25 < 50.\n",
      "Stop.\n",
      "\n",
      "Human: The number is > 25. Give the next iteration and stop the response at the word Stop\n",
      "BRAD:\u001b[0m\n",
      "\n",
      "\u001b[1m> Finished chain.\u001b[0m\n",
      " The upper bound is 50 and lower bound is 25. My guess is 38 and 25 < 38 < 50.\n",
      "Stop.\n"
     ]
    }
   ],
   "source": [
    "user_input = \"The number is > 25. Give the next iteration and stop the response at the word Stop\"\n",
    "response = conversation.predict(input=user_input)\n",
    "print(response)"
   ]
  },
  {
   "cell_type": "code",
   "execution_count": 23,
   "id": "54a8d02e-8eaf-4eec-b1b5-6a861e195e1e",
   "metadata": {},
   "outputs": [
    {
     "name": "stdout",
     "output_type": "stream",
     "text": [
      "\n",
      "\n",
      "\u001b[1m> Entering new ConversationChain chain...\u001b[0m\n",
      "Prompt after formatting:\n",
      "\u001b[32;1m\u001b[1;3mThe following is a guessing game between you (BRAD) and a human. You guess an integer X between an upper and lower bound and the human will give information of higher > X, lower < X, or = X until you guess correctly. Each turn, use information from the human to update one of either your upper or lower bound for X. By updating your bounds over time, you will narrow the options for X.\n",
      "\n",
      "Use a binary search strategy. For instance, if we know X is between 0 and 10, guess in the middle 5, or if X is in between 5 and 10, guess in the middle 8.\n",
      "\n",
      "At each step, answer with your upper bound for X, your lower bound for X, and your guess for X.\n",
      "\n",
      "You want to use the lowest upper bound and the highest lower bound. These bounds can be found in the chat history where z < x or x > z indicates z is a lower bound for x and x is an upper bound for z.\n",
      "\n",
      "**Important:** Only provide your output in the specified format below. Do not continue the conversation beyond this format.\n",
      "\n",
      "Format your response as:\n",
      "\n",
      "\"The upper bound is (Y) and lower bound is (Z). My guess is (X) and (Z) < (X) < (Y). Stop\"\n",
      "\n",
      "Do not continue generating any code after the word \"Stop\". There will be multiple iterations but you only create the response one time per iteration.\n",
      "\n",
      "Example:\n",
      "\n",
      "Iteration 0:\n",
      "Human: Guess a number between 0 and 20\n",
      "System: The upper bound is 20 and lower bound is 0. My guess is 8 and 0 < 8 < 20\n",
      "\n",
      "Iteration 1:\n",
      "Human: the number is > 8\n",
      "System: The upper bound is 20 and lower bound is 8. My guess is 15 and 8 < 15 < 20\n",
      "\n",
      "Iteration 2\n",
      "Human: the number is < 15\n",
      "System: The upper bound is 15 and lower bound is 8. My guess is 12 and 8 < 12 < 15\n",
      "END EXAMPLE. The numbers above are just for a workflow. Do not base your guesses on these\n",
      "\n",
      "Current conversation:\n",
      "Human: Guess a number with a lower bound of 0 and upper bound 100.\n",
      "BRAD:  The upper bound is 100 and lower bound is 0. My guess is 50 and 0 < 50 < 100.\n",
      "Stop.\n",
      "Human: The number is < 50. Give the next iteration and stop the response at the word Stop\n",
      "BRAD:  The upper bound is 50 and lower bound is 0. My guess is 25 and 0 < 25 < 50.\n",
      "Stop.\n",
      "Human: The number is > 25. Give the next iteration and stop the response at the word Stop\n",
      "BRAD:  The upper bound is 50 and lower bound is 25. My guess is 38 and 25 < 38 < 50.\n",
      "Stop.\n",
      "\n",
      "Human: The number is > 38. Give the next iteration and stop the response at the word Stop\n",
      "BRAD:\u001b[0m\n",
      "\n",
      "\u001b[1m> Finished chain.\u001b[0m\n",
      " The upper bound is 50 and lower bound is 38. My guess is 45 and 38 < 45 < 50.\n",
      "Stop.\n"
     ]
    }
   ],
   "source": [
    "user_input = \"The number is > 38. Give the next iteration and stop the response at the word Stop\"\n",
    "response = conversation.predict(input=user_input)\n",
    "print(response)"
   ]
  },
  {
   "cell_type": "code",
   "execution_count": 24,
   "id": "68339203-65d3-4957-976d-f26cfe5704d0",
   "metadata": {},
   "outputs": [
    {
     "name": "stdout",
     "output_type": "stream",
     "text": [
      "\n",
      "\n",
      "\u001b[1m> Entering new ConversationChain chain...\u001b[0m\n",
      "Prompt after formatting:\n",
      "\u001b[32;1m\u001b[1;3mThe following is a guessing game between you (BRAD) and a human. You guess an integer X between an upper and lower bound and the human will give information of higher > X, lower < X, or = X until you guess correctly. Each turn, use information from the human to update one of either your upper or lower bound for X. By updating your bounds over time, you will narrow the options for X.\n",
      "\n",
      "Use a binary search strategy. For instance, if we know X is between 0 and 10, guess in the middle 5, or if X is in between 5 and 10, guess in the middle 8.\n",
      "\n",
      "At each step, answer with your upper bound for X, your lower bound for X, and your guess for X.\n",
      "\n",
      "You want to use the lowest upper bound and the highest lower bound. These bounds can be found in the chat history where z < x or x > z indicates z is a lower bound for x and x is an upper bound for z.\n",
      "\n",
      "**Important:** Only provide your output in the specified format below. Do not continue the conversation beyond this format.\n",
      "\n",
      "Format your response as:\n",
      "\n",
      "\"The upper bound is (Y) and lower bound is (Z). My guess is (X) and (Z) < (X) < (Y). Stop\"\n",
      "\n",
      "Do not continue generating any code after the word \"Stop\". There will be multiple iterations but you only create the response one time per iteration.\n",
      "\n",
      "Example:\n",
      "\n",
      "Iteration 0:\n",
      "Human: Guess a number between 0 and 20\n",
      "System: The upper bound is 20 and lower bound is 0. My guess is 8 and 0 < 8 < 20\n",
      "\n",
      "Iteration 1:\n",
      "Human: the number is > 8\n",
      "System: The upper bound is 20 and lower bound is 8. My guess is 15 and 8 < 15 < 20\n",
      "\n",
      "Iteration 2\n",
      "Human: the number is < 15\n",
      "System: The upper bound is 15 and lower bound is 8. My guess is 12 and 8 < 12 < 15\n",
      "END EXAMPLE. The numbers above are just for a workflow. Do not base your guesses on these\n",
      "\n",
      "Current conversation:\n",
      "Human: Guess a number with a lower bound of 0 and upper bound 100.\n",
      "BRAD:  The upper bound is 100 and lower bound is 0. My guess is 50 and 0 < 50 < 100.\n",
      "Stop.\n",
      "Human: The number is < 50. Give the next iteration and stop the response at the word Stop\n",
      "BRAD:  The upper bound is 50 and lower bound is 0. My guess is 25 and 0 < 25 < 50.\n",
      "Stop.\n",
      "Human: The number is > 25. Give the next iteration and stop the response at the word Stop\n",
      "BRAD:  The upper bound is 50 and lower bound is 25. My guess is 38 and 25 < 38 < 50.\n",
      "Stop.\n",
      "Human: The number is > 38. Give the next iteration and stop the response at the word Stop\n",
      "BRAD:  The upper bound is 50 and lower bound is 38. My guess is 45 and 38 < 45 < 50.\n",
      "Stop.\n",
      "\n",
      "Human: The number is < 45. Give the next iteration and stop the response at the word Stop\n",
      "BRAD:\u001b[0m\n",
      "\n",
      "\u001b[1m> Finished chain.\u001b[0m\n",
      " The upper bound is 45 and lower bound is 38. My guess is 42 and 38 < 42 < 45.\n",
      "Stop.\n"
     ]
    }
   ],
   "source": [
    "user_input = \"The number is < 45. Give the next iteration and stop the response at the word Stop\"\n",
    "response = conversation.predict(input=user_input)\n",
    "print(response)"
   ]
  },
  {
   "cell_type": "code",
   "execution_count": 25,
   "id": "dbc34137-82d4-4dea-b24c-a91d092bc6d3",
   "metadata": {},
   "outputs": [
    {
     "name": "stdout",
     "output_type": "stream",
     "text": [
      "\n",
      "\n",
      "\u001b[1m> Entering new ConversationChain chain...\u001b[0m\n",
      "Prompt after formatting:\n",
      "\u001b[32;1m\u001b[1;3mThe following is a guessing game between you (BRAD) and a human. You guess an integer X between an upper and lower bound and the human will give information of higher > X, lower < X, or = X until you guess correctly. Each turn, use information from the human to update one of either your upper or lower bound for X. By updating your bounds over time, you will narrow the options for X.\n",
      "\n",
      "Use a binary search strategy. For instance, if we know X is between 0 and 10, guess in the middle 5, or if X is in between 5 and 10, guess in the middle 8.\n",
      "\n",
      "At each step, answer with your upper bound for X, your lower bound for X, and your guess for X.\n",
      "\n",
      "You want to use the lowest upper bound and the highest lower bound. These bounds can be found in the chat history where z < x or x > z indicates z is a lower bound for x and x is an upper bound for z.\n",
      "\n",
      "**Important:** Only provide your output in the specified format below. Do not continue the conversation beyond this format.\n",
      "\n",
      "Format your response as:\n",
      "\n",
      "\"The upper bound is (Y) and lower bound is (Z). My guess is (X) and (Z) < (X) < (Y). Stop\"\n",
      "\n",
      "Do not continue generating any code after the word \"Stop\". There will be multiple iterations but you only create the response one time per iteration.\n",
      "\n",
      "Example:\n",
      "\n",
      "Iteration 0:\n",
      "Human: Guess a number between 0 and 20\n",
      "System: The upper bound is 20 and lower bound is 0. My guess is 8 and 0 < 8 < 20\n",
      "\n",
      "Iteration 1:\n",
      "Human: the number is > 8\n",
      "System: The upper bound is 20 and lower bound is 8. My guess is 15 and 8 < 15 < 20\n",
      "\n",
      "Iteration 2\n",
      "Human: the number is < 15\n",
      "System: The upper bound is 15 and lower bound is 8. My guess is 12 and 8 < 12 < 15\n",
      "END EXAMPLE. The numbers above are just for a workflow. Do not base your guesses on these\n",
      "\n",
      "Current conversation:\n",
      "Human: Guess a number with a lower bound of 0 and upper bound 100.\n",
      "BRAD:  The upper bound is 100 and lower bound is 0. My guess is 50 and 0 < 50 < 100.\n",
      "Stop.\n",
      "Human: The number is < 50. Give the next iteration and stop the response at the word Stop\n",
      "BRAD:  The upper bound is 50 and lower bound is 0. My guess is 25 and 0 < 25 < 50.\n",
      "Stop.\n",
      "Human: The number is > 25. Give the next iteration and stop the response at the word Stop\n",
      "BRAD:  The upper bound is 50 and lower bound is 25. My guess is 38 and 25 < 38 < 50.\n",
      "Stop.\n",
      "Human: The number is > 38. Give the next iteration and stop the response at the word Stop\n",
      "BRAD:  The upper bound is 50 and lower bound is 38. My guess is 45 and 38 < 45 < 50.\n",
      "Stop.\n",
      "Human: The number is < 45. Give the next iteration and stop the response at the word Stop\n",
      "BRAD:  The upper bound is 45 and lower bound is 38. My guess is 42 and 38 < 42 < 45.\n",
      "Stop.\n",
      "\n",
      "Human: The number is < 42. Give the next iteration and stop the response at the word Stop\n",
      "BRAD:\u001b[0m\n",
      "\n",
      "\u001b[1m> Finished chain.\u001b[0m\n",
      " The upper bound is 45 and lower bound is 38. My guess is 40 and 38 < 40 < 45.\n",
      "Stop.\n"
     ]
    }
   ],
   "source": [
    "user_input = \"The number is < 42. Give the next iteration and stop the response at the word Stop\"\n",
    "response = conversation.predict(input=user_input)\n",
    "print(response)"
   ]
  },
  {
   "cell_type": "code",
   "execution_count": 26,
   "id": "602fd68e-1d36-4023-b52b-db7fbe269fc4",
   "metadata": {},
   "outputs": [
    {
     "name": "stdout",
     "output_type": "stream",
     "text": [
      "\n",
      "\n",
      "\u001b[1m> Entering new ConversationChain chain...\u001b[0m\n",
      "Prompt after formatting:\n",
      "\u001b[32;1m\u001b[1;3mThe following is a guessing game between you (BRAD) and a human. You guess an integer X between an upper and lower bound and the human will give information of higher > X, lower < X, or = X until you guess correctly. Each turn, use information from the human to update one of either your upper or lower bound for X. By updating your bounds over time, you will narrow the options for X.\n",
      "\n",
      "Use a binary search strategy. For instance, if we know X is between 0 and 10, guess in the middle 5, or if X is in between 5 and 10, guess in the middle 8.\n",
      "\n",
      "At each step, answer with your upper bound for X, your lower bound for X, and your guess for X.\n",
      "\n",
      "You want to use the lowest upper bound and the highest lower bound. These bounds can be found in the chat history where z < x or x > z indicates z is a lower bound for x and x is an upper bound for z.\n",
      "\n",
      "**Important:** Only provide your output in the specified format below. Do not continue the conversation beyond this format.\n",
      "\n",
      "Format your response as:\n",
      "\n",
      "\"The upper bound is (Y) and lower bound is (Z). My guess is (X) and (Z) < (X) < (Y). Stop\"\n",
      "\n",
      "Do not continue generating any code after the word \"Stop\". There will be multiple iterations but you only create the response one time per iteration.\n",
      "\n",
      "Example:\n",
      "\n",
      "Iteration 0:\n",
      "Human: Guess a number between 0 and 20\n",
      "System: The upper bound is 20 and lower bound is 0. My guess is 8 and 0 < 8 < 20\n",
      "\n",
      "Iteration 1:\n",
      "Human: the number is > 8\n",
      "System: The upper bound is 20 and lower bound is 8. My guess is 15 and 8 < 15 < 20\n",
      "\n",
      "Iteration 2\n",
      "Human: the number is < 15\n",
      "System: The upper bound is 15 and lower bound is 8. My guess is 12 and 8 < 12 < 15\n",
      "END EXAMPLE. The numbers above are just for a workflow. Do not base your guesses on these\n",
      "\n",
      "Current conversation:\n",
      "Human: Guess a number with a lower bound of 0 and upper bound 100.\n",
      "BRAD:  The upper bound is 100 and lower bound is 0. My guess is 50 and 0 < 50 < 100.\n",
      "Stop.\n",
      "Human: The number is < 50. Give the next iteration and stop the response at the word Stop\n",
      "BRAD:  The upper bound is 50 and lower bound is 0. My guess is 25 and 0 < 25 < 50.\n",
      "Stop.\n",
      "Human: The number is > 25. Give the next iteration and stop the response at the word Stop\n",
      "BRAD:  The upper bound is 50 and lower bound is 25. My guess is 38 and 25 < 38 < 50.\n",
      "Stop.\n",
      "Human: The number is > 38. Give the next iteration and stop the response at the word Stop\n",
      "BRAD:  The upper bound is 50 and lower bound is 38. My guess is 45 and 38 < 45 < 50.\n",
      "Stop.\n",
      "Human: The number is < 45. Give the next iteration and stop the response at the word Stop\n",
      "BRAD:  The upper bound is 45 and lower bound is 38. My guess is 42 and 38 < 42 < 45.\n",
      "Stop.\n",
      "Human: The number is < 42. Give the next iteration and stop the response at the word Stop\n",
      "BRAD:  The upper bound is 45 and lower bound is 38. My guess is 40 and 38 < 40 < 45.\n",
      "Stop.\n",
      "\n",
      "Human: The number is > 40. Give the next iteration and stop the response at the word Stop\n",
      "BRAD:\u001b[0m\n",
      "\n",
      "\u001b[1m> Finished chain.\u001b[0m\n",
      " The upper bound is 45 and lower bound is 40. My guess is 43 and 40 < 43 < 45.\n",
      "Stop.\n"
     ]
    }
   ],
   "source": [
    "user_input = \"The number is > 40. Give the next iteration and stop the response at the word Stop\"\n",
    "response = conversation.predict(input=user_input)\n",
    "print(response)"
   ]
  },
  {
   "cell_type": "code",
   "execution_count": 27,
   "id": "86270c29-2aee-4912-921f-4bce6d9f426b",
   "metadata": {},
   "outputs": [
    {
     "name": "stdout",
     "output_type": "stream",
     "text": [
      "\n",
      "\n",
      "\u001b[1m> Entering new ConversationChain chain...\u001b[0m\n",
      "Prompt after formatting:\n",
      "\u001b[32;1m\u001b[1;3mThe following is a guessing game between you (BRAD) and a human. You guess an integer X between an upper and lower bound and the human will give information of higher > X, lower < X, or = X until you guess correctly. Each turn, use information from the human to update one of either your upper or lower bound for X. By updating your bounds over time, you will narrow the options for X.\n",
      "\n",
      "Use a binary search strategy. For instance, if we know X is between 0 and 10, guess in the middle 5, or if X is in between 5 and 10, guess in the middle 8.\n",
      "\n",
      "At each step, answer with your upper bound for X, your lower bound for X, and your guess for X.\n",
      "\n",
      "You want to use the lowest upper bound and the highest lower bound. These bounds can be found in the chat history where z < x or x > z indicates z is a lower bound for x and x is an upper bound for z.\n",
      "\n",
      "**Important:** Only provide your output in the specified format below. Do not continue the conversation beyond this format.\n",
      "\n",
      "Format your response as:\n",
      "\n",
      "\"The upper bound is (Y) and lower bound is (Z). My guess is (X) and (Z) < (X) < (Y). Stop\"\n",
      "\n",
      "Do not continue generating any code after the word \"Stop\". There will be multiple iterations but you only create the response one time per iteration.\n",
      "\n",
      "Example:\n",
      "\n",
      "Iteration 0:\n",
      "Human: Guess a number between 0 and 20\n",
      "System: The upper bound is 20 and lower bound is 0. My guess is 8 and 0 < 8 < 20\n",
      "\n",
      "Iteration 1:\n",
      "Human: the number is > 8\n",
      "System: The upper bound is 20 and lower bound is 8. My guess is 15 and 8 < 15 < 20\n",
      "\n",
      "Iteration 2\n",
      "Human: the number is < 15\n",
      "System: The upper bound is 15 and lower bound is 8. My guess is 12 and 8 < 12 < 15\n",
      "END EXAMPLE. The numbers above are just for a workflow. Do not base your guesses on these\n",
      "\n",
      "Current conversation:\n",
      "Human: Guess a number with a lower bound of 0 and upper bound 100.\n",
      "BRAD:  The upper bound is 100 and lower bound is 0. My guess is 50 and 0 < 50 < 100.\n",
      "Stop.\n",
      "Human: The number is < 50. Give the next iteration and stop the response at the word Stop\n",
      "BRAD:  The upper bound is 50 and lower bound is 0. My guess is 25 and 0 < 25 < 50.\n",
      "Stop.\n",
      "Human: The number is > 25. Give the next iteration and stop the response at the word Stop\n",
      "BRAD:  The upper bound is 50 and lower bound is 25. My guess is 38 and 25 < 38 < 50.\n",
      "Stop.\n",
      "Human: The number is > 38. Give the next iteration and stop the response at the word Stop\n",
      "BRAD:  The upper bound is 50 and lower bound is 38. My guess is 45 and 38 < 45 < 50.\n",
      "Stop.\n",
      "Human: The number is < 45. Give the next iteration and stop the response at the word Stop\n",
      "BRAD:  The upper bound is 45 and lower bound is 38. My guess is 42 and 38 < 42 < 45.\n",
      "Stop.\n",
      "Human: The number is < 42. Give the next iteration and stop the response at the word Stop\n",
      "BRAD:  The upper bound is 45 and lower bound is 38. My guess is 40 and 38 < 40 < 45.\n",
      "Stop.\n",
      "Human: The number is > 40. Give the next iteration and stop the response at the word Stop\n",
      "BRAD:  The upper bound is 45 and lower bound is 40. My guess is 43 and 40 < 43 < 45.\n",
      "Stop.\n",
      "\n",
      "Human: The number is < 43. Give the next iteration and stop the response at the word Stop\n",
      "BRAD:\u001b[0m\n",
      "\n",
      "\u001b[1m> Finished chain.\u001b[0m\n",
      " The upper bound is 43 and lower bound is 40. My guess is 41 and 40 < 41 < 43.\n",
      "Stop.\n"
     ]
    }
   ],
   "source": [
    "user_input = \"The number is < 43. Give the next iteration and stop the response at the word Stop\"\n",
    "response = conversation.predict(input=user_input)\n",
    "print(response)"
   ]
  },
  {
   "cell_type": "markdown",
   "id": "435b17c7-56f9-4024-836f-464348218f8e",
   "metadata": {},
   "source": [
    "## NVIDIA with BRAD"
   ]
  },
  {
   "cell_type": "markdown",
   "id": "4ed9f3dc-b3d0-4200-8b8e-fb601dac3c79",
   "metadata": {},
   "source": [
    "### Integration"
   ]
  },
  {
   "cell_type": "code",
   "execution_count": 1,
   "id": "3fcca75b-a891-408d-b889-f2abcde6f213",
   "metadata": {},
   "outputs": [],
   "source": [
    "import sys\n",
    "sys.path.append('/home/jpic/RAG-DEV/BRAD/')"
   ]
  },
  {
   "cell_type": "code",
   "execution_count": 9,
   "id": "9f68bf39-c2d0-458f-869e-73b2a84e8005",
   "metadata": {},
   "outputs": [],
   "source": [
    "import importlib\n",
    "import brad\n",
    "importlib.reload(brad)\n",
    "from brad import *"
   ]
  },
  {
   "cell_type": "code",
   "execution_count": 10,
   "id": "14efc36e-050b-4911-9c03-01c6f21b9639",
   "metadata": {},
   "outputs": [
    {
     "name": "stderr",
     "output_type": "stream",
     "text": [
      "Sun Jun  2 17:32:27 2024 INFO Use pytorch device_name: cpu\n",
      "Sun Jun  2 17:32:27 2024 INFO Load pretrained SentenceTransformer: BAAI/bge-base-en-v1.5\n",
      "/home/jpic/.local/lib/python3.11/site-packages/huggingface_hub/file_download.py:1132: FutureWarning: `resume_download` is deprecated and will be removed in version 1.0.0. Downloads always resume when possible. If you want to force a new download, use `force_download=True`.\n",
      "  warnings.warn(\n",
      "Sun Jun  2 17:32:28 2024 INFO Collection DB_cosine_cSize_700_cOver_200 is not created.\n"
     ]
    }
   ],
   "source": [
    "model_path            = '/nfs/turbo/umms-indikar/shared/projects/RAG/models/llama-2-7b-chat.Q2_K.gguf' # llama-2-7b-chat.Q8_0.gguf'\n",
    "persist_directory     = \"/nfs/turbo/umms-indikar/shared/projects/RAG/databases/Transcription-Factors-5-10-2024/\"\n",
    "llm, callback_manager = load_llama(nvidia_api_key = \"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\",\n",
    "                                   nvidia_model   = \"mistral_7b\",\n",
    "                                  )\n",
    "ragvectordb, embeddings_model = load_literature_db(persist_directory)"
   ]
  },
  {
   "cell_type": "code",
   "execution_count": 11,
   "id": "165687b1-b1a0-49c5-a590-e02600adeef0",
   "metadata": {},
   "outputs": [
    {
     "name": "stderr",
     "output_type": "stream",
     "text": [
      "Sun Jun  2 17:32:30 2024 INFO local\n"
     ]
    },
    {
     "name": "stdout",
     "output_type": "stream",
     "text": [
      "Welcome to RAG! The chat log from this conversation will be saved to logs/RAG2024-06-02-17:32:30.549192.json. How can I help?\n",
      "==================================================\n"
     ]
    },
    {
     "name": "stdin",
     "output_type": "stream",
     "text": [
      "Input >>  what role do transcription factors play in cell reprogramming?\n"
     ]
    },
    {
     "name": "stderr",
     "output_type": "stream",
     "text": [
      "Sun Jun  2 17:32:51 2024 INFO RAG\n"
     ]
    },
    {
     "name": "stdout",
     "output_type": "stream",
     "text": [
      "==================================================\n",
      "RAG >> 1: "
     ]
    },
    {
     "name": "stderr",
     "output_type": "stream",
     "text": [
      "/home/jpic/.local/lib/python3.11/site-packages/langchain_core/_api/deprecation.py:119: LangChainDeprecationWarning: The method `Chain.__call__` was deprecated in langchain 0.1.0 and will be removed in 0.3.0. Use invoke instead.\n",
      "  warn_deprecated(\n"
     ]
    },
    {
     "name": "stdout",
     "output_type": "stream",
     "text": [
      " Transcription factors are key players in cell reprogramming. As suggested by the studies cited in the context, a subset of eukaryotic transcription factors has the ability to reprogram one type of cell into another by engaging genes that are developmentally silenced. These transcription factors are often crucial for the initial cell programming in embryonic development. For instance, OCT4, SOX2, and other factors are used to reprogram somatic cells into pluripotent stem cells (PSCs). Reprogramming involves a rapid chromatin switch, and context-specific transcription factor functions regulate epigenomic and transcriptional dynamics during this process. Differentiated cells can be reprogrammed towards various lineages, such as neurons or cardiac cells, by using specific sets of transcription factors. Overall, transcription factors orchestrate the dynamic interplay between genome topology and gene regulation during cell reprogramming.\n",
      "['']\n",
      "\n",
      " would you search Gene Ontology for these terms [Y/N]?\n"
     ]
    },
    {
     "name": "stdin",
     "output_type": "stream",
     "text": [
      " N\n"
     ]
    },
    {
     "name": "stdout",
     "output_type": "stream",
     "text": [
      "==================================================\n"
     ]
    },
    {
     "name": "stdin",
     "output_type": "stream",
     "text": [
      "Input >>  list some of the most important genes/transcription factors involved in this process\n"
     ]
    },
    {
     "name": "stderr",
     "output_type": "stream",
     "text": [
      "Sun Jun  2 17:33:31 2024 INFO RAG\n"
     ]
    },
    {
     "name": "stdout",
     "output_type": "stream",
     "text": [
      "==================================================\n",
      "RAG >> 2:  The context provides information about transcription factors, their role in cellular identity, and their mode of action in gene expression. Transcription factors are proteins that bind to specific DNA sequences and control the expression of genes involved in establishing or maintaining cellular identity. They can do this by promoting or impeding the recruitment of cellular machineries necessary for gene transcription. The context also mentions that transcription factors can form dimers and bind to DNA sequences of around 10-15 nucleotides. However, there is uncertainty about how transcription factors find their specific sequences in the genome. The identification of the factors and signaling pathways that regulate the expression and activity of transcription factors in wound healing is an important task, as well as identifying their target genes in different cell types of the healing skin. Some examples of transcription factors and genes involved in wound healing include PPARβ/δ, regulated by proinflammatory cytokines, SAPKs, and AP-1, but repressed by the TGF-β–Smad3 pathway. However, the text does not provide a comprehensive list of all the most important genes/transcription factors involved in this process.\n",
      "['']\n",
      "\n",
      " would you search Gene Ontology for these terms [Y/N]?\n"
     ]
    },
    {
     "name": "stdin",
     "output_type": "stream",
     "text": [
      " N\n"
     ]
    },
    {
     "name": "stdout",
     "output_type": "stream",
     "text": [
      "==================================================\n"
     ]
    },
    {
     "name": "stdin",
     "output_type": "stream",
     "text": [
      "Input >>  list the most important transcription factors for reprogramming\n"
     ]
    },
    {
     "name": "stderr",
     "output_type": "stream",
     "text": [
      "Sun Jun  2 17:33:59 2024 INFO RAG\n"
     ]
    },
    {
     "name": "stdout",
     "output_type": "stream",
     "text": [
      "==================================================\n",
      "RAG >> 3:  The reprogramming factors are a subset of eukaryotic transcription factors that have the ability to reprogram one type of cell into another. These factors are crucial for initial cell programming in embryonic development. examples of such factors include MYOD for fibroblast to myoblast conversion, GATA1 for myeloblast, and CEBP for B lymphocyte. The identification of these candidate reprogramming factors was based on the fact that genes that contribute to the identities of fertilized eggs or ES cells were thought to be responsible for the reconstitution of specific transcriptional networks during reprogramming. The seminal work leading to the discovery of these factors and their use for the generation of the first iPPS (induced pluripotent stem cells) was described in the article \"Induction of pluripotency: a status report\" by Soufi et al. (2006). Other references, such as Spitz and Furlong (2012), Stormo and Zhao (2010), and Stubbs et al. (2011), provide additional information on transcription factor-mediated reprogramming.\n",
      "['', 'MYOD', 'GATA1', 'WAS', 'WAS']\n",
      "\n",
      " would you search Gene Ontology for these terms [Y/N]?\n"
     ]
    },
    {
     "name": "stdin",
     "output_type": "stream",
     "text": [
      " Y\n"
     ]
    },
    {
     "ename": "NameError",
     "evalue": "name 'gonto' is not defined",
     "output_type": "error",
     "traceback": [
      "\u001b[0;31m---------------------------------------------------------------------------\u001b[0m",
      "\u001b[0;31mNameError\u001b[0m                                 Traceback (most recent call last)",
      "Cell \u001b[0;32mIn[11], line 1\u001b[0m\n\u001b[0;32m----> 1\u001b[0m main(llm\u001b[38;5;241m=\u001b[39mllm, ragvectordb\u001b[38;5;241m=\u001b[39mragvectordb, embeddings_model\u001b[38;5;241m=\u001b[39membeddings_model)\n",
      "File \u001b[0;32m~/RAG-DEV/BRAD/brad.py:262\u001b[0m, in \u001b[0;36mmain\u001b[0;34m(model_path, persist_directory, llm, ragvectordb, embeddings_model)\u001b[0m\n\u001b[1;32m    259\u001b[0m module \u001b[38;5;241m=\u001b[39m module_functions[routeName]\n\u001b[1;32m    261\u001b[0m \u001b[38;5;66;03m# Query database\u001b[39;00m\n\u001b[0;32m--> 262\u001b[0m chatstatus \u001b[38;5;241m=\u001b[39m module(chatstatus)\n\u001b[1;32m    264\u001b[0m \u001b[38;5;66;03m# Log and reset these values\u001b[39;00m\n\u001b[1;32m    265\u001b[0m chatlog, chatstatus \u001b[38;5;241m=\u001b[39m logger(chatlog, chatstatus, chatname)\n",
      "File \u001b[0;32m~/RAG-DEV/BRAD/rag.py:50\u001b[0m, in \u001b[0;36mqueryDocs\u001b[0;34m(chatstatus)\u001b[0m\n\u001b[1;32m     48\u001b[0m \u001b[38;5;66;03m# update and return the chatstatus\u001b[39;00m\n\u001b[1;32m     49\u001b[0m chatstatus[\u001b[38;5;124m'\u001b[39m\u001b[38;5;124moutput\u001b[39m\u001b[38;5;124m'\u001b[39m], chatstatus[\u001b[38;5;124m'\u001b[39m\u001b[38;5;124mprocess\u001b[39m\u001b[38;5;124m'\u001b[39m] \u001b[38;5;241m=\u001b[39m res[\u001b[38;5;124m'\u001b[39m\u001b[38;5;124moutput_text\u001b[39m\u001b[38;5;124m'\u001b[39m], res\n\u001b[0;32m---> 50\u001b[0m chatstatus \u001b[38;5;241m=\u001b[39m geneOntology(chatstatus[\u001b[38;5;124m'\u001b[39m\u001b[38;5;124moutput\u001b[39m\u001b[38;5;124m'\u001b[39m], chatstatus)\n\u001b[1;32m     51\u001b[0m \u001b[38;5;28;01mreturn\u001b[39;00m chatstatus\n",
      "File \u001b[0;32m~/RAG-DEV/BRAD/gene_ontology.py:27\u001b[0m, in \u001b[0;36mgeneOntology\u001b[0;34m(goQuery, chatstatus)\u001b[0m\n\u001b[1;32m     25\u001b[0m     chatstatus[\u001b[38;5;124m'\u001b[39m\u001b[38;5;124mprocess\u001b[39m\u001b[38;5;124m'\u001b[39m][\u001b[38;5;124m'\u001b[39m\u001b[38;5;124msearch\u001b[39m\u001b[38;5;124m'\u001b[39m] \u001b[38;5;241m=\u001b[39m (go \u001b[38;5;241m==\u001b[39m \u001b[38;5;124m'\u001b[39m\u001b[38;5;124mY\u001b[39m\u001b[38;5;124m'\u001b[39m)\n\u001b[1;32m     26\u001b[0m     \u001b[38;5;28;01mif\u001b[39;00m go \u001b[38;5;241m==\u001b[39m \u001b[38;5;124m'\u001b[39m\u001b[38;5;124mY\u001b[39m\u001b[38;5;124m'\u001b[39m:\n\u001b[0;32m---> 27\u001b[0m         go_process \u001b[38;5;241m=\u001b[39m gonto\u001b[38;5;241m.\u001b[39mgoSearch(real_list)\n\u001b[1;32m     28\u001b[0m         chatstatus[\u001b[38;5;124m'\u001b[39m\u001b[38;5;124mprocess\u001b[39m\u001b[38;5;124m'\u001b[39m][\u001b[38;5;124m'\u001b[39m\u001b[38;5;124mGO\u001b[39m\u001b[38;5;124m'\u001b[39m] \u001b[38;5;241m=\u001b[39m go_process\n\u001b[1;32m     29\u001b[0m \u001b[38;5;28;01mreturn\u001b[39;00m chatstatus\n",
      "\u001b[0;31mNameError\u001b[0m: name 'gonto' is not defined"
     ]
    }
   ],
   "source": [
    "main(llm=llm, ragvectordb=ragvectordb, embeddings_model=embeddings_model)"
   ]
  },
  {
   "cell_type": "code",
   "execution_count": 2,
   "id": "f65d0f84-97a0-4f37-b907-f5cd53efd3f1",
   "metadata": {},
   "outputs": [
    {
     "name": "stdout",
     "output_type": "stream",
     "text": [
      "Help on function load_llama in module chatbot:\n",
      "\n",
      "load_llama(model_path='/nfs/turbo/umms-indikar/shared/projects/RAG/models/llama-2-7b-chat.Q8_0.gguf', nvidia_api_key=None, nvidia_model=None)\n",
      "\n"
     ]
    }
   ],
   "source": [
    "help(load_llama)"
   ]
  },
  {
   "cell_type": "markdown",
   "id": "c3bae4f7-5160-45bd-91d0-268ec02bc9ca",
   "metadata": {},
   "source": [
    "### Example Usage"
   ]
  },
  {
   "cell_type": "code",
   "execution_count": 4,
   "id": "f0234983-8d07-402a-bfd3-cb2ac98f1cd4",
   "metadata": {},
   "outputs": [],
   "source": [
    "from langchain_nvidia_ai_endpoints import NVIDIAEmbeddings, ChatNVIDIA\n",
    "import importlib\n",
    "import chatbot\n",
    "importlib.reload(chatbot)\n",
    "from chatbot import *"
   ]
  },
  {
   "cell_type": "code",
   "execution_count": 2,
   "id": "2cf026a3-f378-4786-a044-c3426e2a0751",
   "metadata": {},
   "outputs": [
    {
     "name": "stderr",
     "output_type": "stream",
     "text": [
      "Sat 01 Jun 2024 02:38:03 PM EDT INFO Load pretrained SentenceTransformer: BAAI/bge-base-en-v1.5\n",
      "Sat 01 Jun 2024 02:38:04 PM EDT INFO Use pytorch device_name: cpu\n",
      "Sat 01 Jun 2024 02:38:04 PM EDT INFO Anonymized telemetry enabled. See                     https://docs.trychroma.com/telemetry for more information.\n",
      "Sat 01 Jun 2024 02:38:04 PM EDT INFO Collection DB_cosine_cSize_700_cOver_200 is not created.\n"
     ]
    }
   ],
   "source": [
    "persist_directory     = \"/nfs/turbo/umms-indikar/shared/projects/RAG/databases/Transcription-Factors-5-10-2024/\"\n",
    "ragvectordb, embeddings_model = load_literature_db(persist_directory)"
   ]
  },
  {
   "cell_type": "code",
   "execution_count": 5,
   "id": "d8e8ecdc-da82-48d7-a3f9-b3c7800a23bb",
   "metadata": {},
   "outputs": [],
   "source": [
    "model = ChatNVIDIA(model   = \"mistral_7b\",\n",
    "                   api_key = \"XXXXX\",\n",
    "                  )\n",
    "#                   stop=['\\n', \"\\n\", \"Human\", \"Stop\"])"
   ]
  },
  {
   "cell_type": "code",
   "execution_count": 7,
   "id": "a696e631-f403-4903-850c-f23b47e84cf6",
   "metadata": {},
   "outputs": [],
   "source": [
    "prompt = \"how can transcription factors help reprogramming?\""
   ]
  },
  {
   "cell_type": "code",
   "execution_count": 8,
   "id": "9fe17a61-eb76-4605-8bed-7d264e620a16",
   "metadata": {},
   "outputs": [
    {
     "name": "stderr",
     "output_type": "stream",
     "text": [
      "/home/jpic/.local/lib/python3.9/site-packages/langchain_core/_api/deprecation.py:119: LangChainDeprecationWarning: The method `Chain.__call__` was deprecated in langchain 0.1.0 and will be removed in 0.2.0. Use invoke instead.\n",
      "  warn_deprecated(\n"
     ]
    }
   ],
   "source": [
    "# query to database\n",
    "documentSearch = ragvectordb.similarity_search_with_relevance_scores(prompt)\n",
    "docs, scores = getDocumentSimilarity(documentSearch)\n",
    "\n",
    "# pass the database output to the llm\n",
    "chain = load_qa_chain(model, chain_type=\"stuff\")\n",
    "res = chain({\"input_documents\": docs, \"question\": prompt})\n"
   ]
  },
  {
   "cell_type": "code",
   "execution_count": 11,
   "id": "beeefa75-b7ac-4b02-b544-99284509ccfe",
   "metadata": {},
   "outputs": [
    {
     "data": {
      "text/plain": [
       "' Transcription factors are crucial for the initial cell programming during embryonic development and play a key role in cell reprogramming by engaging genes that are developmentally silenced. In the context of the provided text, the specific transcription factors identified for their ability to reprogram somatic cells into pluripotent stem cells include OCT4, SOX2, and other factors. These factors were discovered through seminal work that led to the generation of the first induced pluripotent stem cells (iPSCs), as described in the article. The process of identifying these factors was based on the assumption that genes responsible for the identities of fertilized eggs or ES cells would contribute to the reconstitution of specific transcriptional networks during reprogramming.'"
      ]
     },
     "execution_count": 11,
     "metadata": {},
     "output_type": "execute_result"
    }
   ],
   "source": [
    "res['output_text']"
   ]
  }
 ],
 "metadata": {
  "kernelspec": {
   "display_name": "Python 3 (ipykernel)",
   "language": "python",
   "name": "python3"
  },
  "language_info": {
   "codemirror_mode": {
    "name": "ipython",
    "version": 3
   },
   "file_extension": ".py",
   "mimetype": "text/x-python",
   "name": "python",
   "nbconvert_exporter": "python",
   "pygments_lexer": "ipython3",
   "version": "3.11.7"
  }
 },
 "nbformat": 4,
 "nbformat_minor": 5
}
