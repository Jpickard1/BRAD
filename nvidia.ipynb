{
 "cells": [
  {
   "cell_type": "markdown",
   "id": "912b5508-dc52-4738-a81b-91d27dc4dcb7",
   "metadata": {},
   "source": [
    "# NVIDIA Usage"
   ]
  },
  {
   "cell_type": "markdown",
   "id": "256843cf-f76a-40ff-b254-332a707bff64",
   "metadata": {},
   "source": [
    "## https://blog.langchain.dev/nvidia-nim/"
   ]
  },
  {
   "cell_type": "code",
   "execution_count": 1,
   "id": "e389b1ac-0f4e-4341-8e22-260d83bd30bc",
   "metadata": {},
   "outputs": [
    {
     "name": "stderr",
     "output_type": "stream",
     "text": [
      "/home/jpic/.local/lib/python3.9/site-packages/pandas/core/computation/expressions.py:21: UserWarning: Pandas requires version '2.8.4' or newer of 'numexpr' (version '2.7.3' currently installed).\n",
      "  from pandas.core.computation.check import NUMEXPR_INSTALLED\n",
      "/home/jpic/.local/lib/python3.9/site-packages/pandas/core/arrays/masked.py:60: UserWarning: Pandas requires version '1.3.6' or newer of 'bottleneck' (version '1.3.2' currently installed).\n",
      "  from pandas.core import (\n",
      "[nltk_data] Downloading package words to /home/jpic/nltk_data...\n",
      "[nltk_data]   Package words is already up-to-date!\n",
      "[nltk_data] Downloading package wordnet to /home/jpic/nltk_data...\n",
      "[nltk_data]   Package wordnet is already up-to-date!\n",
      "[nltk_data] Downloading package omw-1.4 to /home/jpic/nltk_data...\n",
      "[nltk_data]   Package omw-1.4 is already up-to-date!\n",
      "Sat 01 Jun 2024 01:45:18 PM EDT INFO Load pretrained SentenceTransformer: BAAI/bge-base-en-v1.5\n",
      "Sat 01 Jun 2024 01:45:19 PM EDT INFO Use pytorch device_name: cpu\n",
      "Sat 01 Jun 2024 01:45:19 PM EDT INFO Anonymized telemetry enabled. See                     https://docs.trychroma.com/telemetry for more information.\n",
      "Sat 01 Jun 2024 01:45:19 PM EDT INFO Collection DB_cosine_cSize_700_cOver_200 is not created.\n"
     ]
    }
   ],
   "source": [
    "from chatbot import load_literature_db\n",
    "persist_directory     = \"/nfs/turbo/umms-indikar/shared/projects/RAG/databases/Transcription-Factors-5-10-2024/\"\n",
    "ragvectordb, embeddings_model = load_literature_db(persist_directory)"
   ]
  },
  {
   "cell_type": "code",
   "execution_count": 2,
   "id": "46e3addb-76d5-47b7-a849-653668a6ee45",
   "metadata": {},
   "outputs": [],
   "source": [
    "from langchain_nvidia_ai_endpoints import NVIDIAEmbeddings, ChatNVIDIA\n",
    "from langchain_community.document_loaders import WebBaseLoader\n",
    "from langchain_nvidia_ai_endpoints import NVIDIAEmbeddings\n",
    "from langchain_community.vectorstores import FAISS\n",
    "from langchain_text_splitters import RecursiveCharacterTextSplitter\n",
    "from langchain_core.prompts import ChatPromptTemplate\n",
    "from langchain_nvidia_ai_endpoints import ChatNVIDIA\n",
    "from langchain_core.output_parsers import StrOutputParser"
   ]
  },
  {
   "cell_type": "code",
   "execution_count": 3,
   "id": "6b24173e-05dc-4e22-90ef-501832e44b5a",
   "metadata": {},
   "outputs": [],
   "source": [
    "retriever = ragvectordb.as_retriever()"
   ]
  },
  {
   "cell_type": "code",
   "execution_count": 4,
   "id": "fa21e57f-4459-4066-a0b1-fc21377a109b",
   "metadata": {},
   "outputs": [],
   "source": [
    "model = ChatNVIDIA(model=\"mistral_7b\",\n",
    "                    api_key = \"XXXXX\")"
   ]
  },
  {
   "cell_type": "code",
   "execution_count": 5,
   "id": "14d443ea-f38f-472c-b30a-d89f7bfb9f5a",
   "metadata": {},
   "outputs": [],
   "source": [
    "hyde_template = \"\"\"Even if you do not know the full answer, generate a one-paragraph hypothetical answer to the below question:\n",
    "\n",
    "{question}\"\"\"\n",
    "hyde_prompt = ChatPromptTemplate.from_template(hyde_template)\n",
    "hyde_query_transformer = hyde_prompt | model | StrOutputParser()"
   ]
  },
  {
   "cell_type": "code",
   "execution_count": 6,
   "id": "35e1c344-65f3-4683-9e12-68012bd7fffa",
   "metadata": {},
   "outputs": [],
   "source": [
    "from langchain_core.runnables import chain\n",
    "\n",
    "@chain\n",
    "def hyde_retriever(question):\n",
    "    hypothetical_document = hyde_query_transformer.invoke({\"question\": question})\n",
    "    return retriever.invoke(hypothetical_document)"
   ]
  },
  {
   "cell_type": "code",
   "execution_count": 7,
   "id": "449082e9-1139-4c36-bd55-716421980b9e",
   "metadata": {},
   "outputs": [],
   "source": [
    "template = \"\"\"Answer the question based only on the following context:\n",
    "{context}\n",
    "\n",
    "Question: {question}\n",
    "\"\"\"\n",
    "prompt = ChatPromptTemplate.from_template(template)\n",
    "answer_chain = prompt | model | StrOutputParser()"
   ]
  },
  {
   "cell_type": "code",
   "execution_count": 8,
   "id": "57181f27-4dcf-4b34-899b-05e87a0edfd6",
   "metadata": {},
   "outputs": [],
   "source": [
    "@chain\n",
    "def final_chain(question):\n",
    "    documents = hyde_retriever.invoke(question)\n",
    "    for s in answer_chain.stream({\"question\": question, \"context\": documents}):\n",
    "        yield s"
   ]
  },
  {
   "cell_type": "code",
   "execution_count": 9,
   "id": "deddac0e-3100-40d9-ab90-ea6b981bf4cd",
   "metadata": {},
   "outputs": [
    {
     "name": "stdout",
     "output_type": "stream",
     "text": [
      " Transcription factors (TFs) play a crucial role in the process of reprogramming somatic cells into pluripotent stem cells (PSCs), also known as induced pluripotent stem cells (iPSCs). By introducing specific TFs, such as Oct3/4, Sox2, Klf4, and c-Myc, researchers have been able to trigger endogenous expression of pluripotent factors, resulting in the reprogramming of fibroblasts into PSCs. These TFs have been found to be sufficient for converting fibroblasts into iPSCs, and while alternative sets of TFs have been reported for iPSC reprogramming, most studies include Oct3/4 and Sox2. These TFs help erase the memories of somatic cells, enabling them to adopt a pluripotent state. The use of TFs for this purpose has revolutionized the field of regenerative medicine."
     ]
    }
   ],
   "source": [
    "for s in final_chain.stream(\"how can transcription factors help reprogramming?\"):\n",
    "    print(s, end=\"\")"
   ]
  },
  {
   "cell_type": "code",
   "execution_count": 10,
   "id": "141c4e65-79b4-41d0-be7e-cb8b7385cc78",
   "metadata": {},
   "outputs": [
    {
     "name": "stdout",
     "output_type": "stream",
     "text": [
      " Based on the context provided, there are no specific mentions of databases about Transcription Factors. However, the text does discuss the importance of continued effort to understand TF-mediated gene regulation and mentions two previous comprehensive reviews of human TFs published in 2009. These reviews may contain or be associated with databases of human TFs and binding motifs. The text also mentions the limitations of existing data and the challenges of systematically detecting higher-order interactions, which suggests that there may be ongoing efforts to develop and improve databases in this area."
     ]
    }
   ],
   "source": [
    "for s in final_chain.stream(\"What some databases about Transcription Factors?\"):\n",
    "    print(s, end=\"\")"
   ]
  },
  {
   "cell_type": "code",
   "execution_count": 11,
   "id": "ff8cb2e2-8d47-4219-8466-f3b7dcecbec9",
   "metadata": {},
   "outputs": [
    {
     "name": "stdout",
     "output_type": "stream",
     "text": [
      " The text mentions several databases related to Transcription Factors (TFs) that have been used to study TF-DNA interactions: TRANSFAC, JASPAR, HT-SELEX, CisBP, Interpro, and TFClass. These databases provide information on TF motifs and genomic binding sites. The papers cited in the text for this information are: Matys et al. (2006), Mathelier et al. (2016), Weirauch et al. (2014), Wingender et al. (2015), and Berman et al. (2000)."
     ]
    }
   ],
   "source": [
    "for s in final_chain.stream(\"What some databases about Transcription Factors? Which papers are you referencing to answer this question?\"):\n",
    "    print(s, end=\"\")"
   ]
  },
  {
   "cell_type": "code",
   "execution_count": 12,
   "id": "6728bf85-9f6b-4e25-94c1-ae2e6acd9aeb",
   "metadata": {},
   "outputs": [
    {
     "name": "stdout",
     "output_type": "stream",
     "text": [
      " The context does not directly provide information about specific databases related to Transcription Factors. The text discusses papers that have reviewed human Transcription Factors and compiled lists of them, but it does not mention any specific databases.\n",
      "\n",
      "The papers cited in the context are \"The Human Transcription Factors\" by Fulton et al., 2009 and \"Human Transcription Factors: A Comprehensive Catalogue and Profile-based Analysis\" by Vaquerizas et al., 2009."
     ]
    }
   ],
   "source": [
    "for s in final_chain.stream(\"What some databases about Transcription Factors? Provide the title and authors of the papers used to answer this question?\"):\n",
    "    print(s, end=\"\")"
   ]
  },
  {
   "cell_type": "markdown",
   "id": "614e0cd9-68a1-4cfa-8b54-005f32597cf6",
   "metadata": {},
   "source": [
    "## Guessing Game with Memory"
   ]
  },
  {
   "cell_type": "code",
   "execution_count": 9,
   "id": "b35683e2-2198-4ce2-a5b0-9c32cae8cdb7",
   "metadata": {},
   "outputs": [],
   "source": [
    "from langchain_nvidia_ai_endpoints import NVIDIAEmbeddings, ChatNVIDIA\n",
    "from langchain.prompts import PromptTemplate\n",
    "from langchain_core.prompts.prompt import PromptTemplate\n",
    "from langchain.memory import ConversationBufferMemory\n",
    "from langchain.chains import ConversationChain"
   ]
  },
  {
   "cell_type": "code",
   "execution_count": 13,
   "id": "69997fd4-e491-499f-a76f-4e086fcff5a0",
   "metadata": {},
   "outputs": [
    {
     "name": "stderr",
     "output_type": "stream",
     "text": [
      "/home/jpic/.local/lib/python3.9/site-packages/langchain_nvidia_ai_endpoints/_statics.py:313: UserWarning: Model mistral_7b is deprecated. Using mistralai/mistral-7b-instruct-v0.2 instead.\n",
      "  warnings.warn(\n"
     ]
    }
   ],
   "source": [
    "model = ChatNVIDIA(model=\"mistral_7b\",\n",
    "                   api_key = \"XXXXX\",\n",
    "                   stop=['\\n', \"\\n\", \"Human\", \"Stop\"])"
   ]
  },
  {
   "cell_type": "code",
   "execution_count": 19,
   "id": "288006f9-35ab-40ea-b6ed-36312ff73444",
   "metadata": {},
   "outputs": [],
   "source": [
    "template = \"\"\"The following is a guessing game between you (BRAD) and a human. You guess an integer X between an upper and lower bound and the human will give information of higher > X, lower < X, or = X until you guess correctly. Each turn, use information from the human to update one of either your upper or lower bound for X. By updating your bounds over time, you will narrow the options for X.\n",
    "\n",
    "Use a binary search strategy. For instance, if we know X is between 0 and 10, guess in the middle 5, or if X is in between 5 and 10, guess in the middle 8.\n",
    "\n",
    "At each step, answer with your upper bound for X, your lower bound for X, and your guess for X.\n",
    "\n",
    "You want to use the lowest upper bound and the highest lower bound. These bounds can be found in the chat history where z < x or x > z indicates z is a lower bound for x and x is an upper bound for z.\n",
    "\n",
    "**Important:** Only provide your output in the specified format below. Do not continue the conversation beyond this format.\n",
    "\n",
    "Format your response as:\n",
    "\n",
    "\"The upper bound is (Y) and lower bound is (Z). My guess is (X) and (Z) < (X) < (Y). Stop\"\n",
    "\n",
    "Do not continue generating any code after the word \"Stop\". There will be multiple iterations but you only create the response one time per iteration.\n",
    "\n",
    "Example:\n",
    "\n",
    "Iteration 0:\n",
    "Human: Guess a number between 0 and 20\n",
    "System: The upper bound is 20 and lower bound is 0. My guess is 8 and 0 < 8 < 20\n",
    "\n",
    "Iteration 1:\n",
    "Human: the number is > 8\n",
    "System: The upper bound is 20 and lower bound is 8. My guess is 15 and 8 < 15 < 20\n",
    "\n",
    "Iteration 2\n",
    "Human: the number is < 15\n",
    "System: The upper bound is 15 and lower bound is 8. My guess is 12 and 8 < 12 < 15\n",
    "END EXAMPLE. The numbers above are just for a workflow. Do not base your guesses on these\n",
    "\n",
    "Current conversation:\n",
    "{history}\n",
    "\n",
    "Human: {input}\n",
    "BRAD:\"\"\"\n",
    "\n",
    "# Ensure PROMPT object uses the new template\n",
    "PROMPT = PromptTemplate(input_variables=[\"history\", \"input\"], template=template)\n",
    "memory = ConversationBufferMemory(ai_prefix=\"BRAD\")\n",
    "\n",
    "conversation = ConversationChain(\n",
    "    prompt=PROMPT,\n",
    "    llm=model,\n",
    "    verbose=True,\n",
    "    memory=memory,\n",
    ")"
   ]
  },
  {
   "cell_type": "code",
   "execution_count": 20,
   "id": "15e551b8-763c-4c8b-b42c-adf4e19c9727",
   "metadata": {},
   "outputs": [
    {
     "name": "stdout",
     "output_type": "stream",
     "text": [
      "\n",
      "\n",
      "\u001b[1m> Entering new ConversationChain chain...\u001b[0m\n",
      "Prompt after formatting:\n",
      "\u001b[32;1m\u001b[1;3mThe following is a guessing game between you (BRAD) and a human. You guess an integer X between an upper and lower bound and the human will give information of higher > X, lower < X, or = X until you guess correctly. Each turn, use information from the human to update one of either your upper or lower bound for X. By updating your bounds over time, you will narrow the options for X.\n",
      "\n",
      "Use a binary search strategy. For instance, if we know X is between 0 and 10, guess in the middle 5, or if X is in between 5 and 10, guess in the middle 8.\n",
      "\n",
      "At each step, answer with your upper bound for X, your lower bound for X, and your guess for X.\n",
      "\n",
      "You want to use the lowest upper bound and the highest lower bound. These bounds can be found in the chat history where z < x or x > z indicates z is a lower bound for x and x is an upper bound for z.\n",
      "\n",
      "**Important:** Only provide your output in the specified format below. Do not continue the conversation beyond this format.\n",
      "\n",
      "Format your response as:\n",
      "\n",
      "\"The upper bound is (Y) and lower bound is (Z). My guess is (X) and (Z) < (X) < (Y). Stop\"\n",
      "\n",
      "Do not continue generating any code after the word \"Stop\". There will be multiple iterations but you only create the response one time per iteration.\n",
      "\n",
      "Example:\n",
      "\n",
      "Iteration 0:\n",
      "Human: Guess a number between 0 and 20\n",
      "System: The upper bound is 20 and lower bound is 0. My guess is 8 and 0 < 8 < 20\n",
      "\n",
      "Iteration 1:\n",
      "Human: the number is > 8\n",
      "System: The upper bound is 20 and lower bound is 8. My guess is 15 and 8 < 15 < 20\n",
      "\n",
      "Iteration 2\n",
      "Human: the number is < 15\n",
      "System: The upper bound is 15 and lower bound is 8. My guess is 12 and 8 < 12 < 15\n",
      "END EXAMPLE. The numbers above are just for a workflow. Do not base your guesses on these\n",
      "\n",
      "Current conversation:\n",
      "\n",
      "\n",
      "Human: Guess a number with a lower bound of 0 and upper bound 100.\n",
      "BRAD:\u001b[0m\n",
      "\n",
      "\u001b[1m> Finished chain.\u001b[0m\n",
      " The upper bound is 100 and lower bound is 0. My guess is 50 and 0 < 50 < 100.\n",
      "Stop.\n"
     ]
    }
   ],
   "source": [
    "user_input = \"Guess a number with a lower bound of 0 and upper bound 100.\"\n",
    "response = conversation.predict(input=user_input)\n",
    "print(response)"
   ]
  },
  {
   "cell_type": "code",
   "execution_count": 21,
   "id": "afad92cf-5cb5-4f0f-a81e-f4c751cda155",
   "metadata": {},
   "outputs": [
    {
     "name": "stdout",
     "output_type": "stream",
     "text": [
      "\n",
      "\n",
      "\u001b[1m> Entering new ConversationChain chain...\u001b[0m\n",
      "Prompt after formatting:\n",
      "\u001b[32;1m\u001b[1;3mThe following is a guessing game between you (BRAD) and a human. You guess an integer X between an upper and lower bound and the human will give information of higher > X, lower < X, or = X until you guess correctly. Each turn, use information from the human to update one of either your upper or lower bound for X. By updating your bounds over time, you will narrow the options for X.\n",
      "\n",
      "Use a binary search strategy. For instance, if we know X is between 0 and 10, guess in the middle 5, or if X is in between 5 and 10, guess in the middle 8.\n",
      "\n",
      "At each step, answer with your upper bound for X, your lower bound for X, and your guess for X.\n",
      "\n",
      "You want to use the lowest upper bound and the highest lower bound. These bounds can be found in the chat history where z < x or x > z indicates z is a lower bound for x and x is an upper bound for z.\n",
      "\n",
      "**Important:** Only provide your output in the specified format below. Do not continue the conversation beyond this format.\n",
      "\n",
      "Format your response as:\n",
      "\n",
      "\"The upper bound is (Y) and lower bound is (Z). My guess is (X) and (Z) < (X) < (Y). Stop\"\n",
      "\n",
      "Do not continue generating any code after the word \"Stop\". There will be multiple iterations but you only create the response one time per iteration.\n",
      "\n",
      "Example:\n",
      "\n",
      "Iteration 0:\n",
      "Human: Guess a number between 0 and 20\n",
      "System: The upper bound is 20 and lower bound is 0. My guess is 8 and 0 < 8 < 20\n",
      "\n",
      "Iteration 1:\n",
      "Human: the number is > 8\n",
      "System: The upper bound is 20 and lower bound is 8. My guess is 15 and 8 < 15 < 20\n",
      "\n",
      "Iteration 2\n",
      "Human: the number is < 15\n",
      "System: The upper bound is 15 and lower bound is 8. My guess is 12 and 8 < 12 < 15\n",
      "END EXAMPLE. The numbers above are just for a workflow. Do not base your guesses on these\n",
      "\n",
      "Current conversation:\n",
      "Human: Guess a number with a lower bound of 0 and upper bound 100.\n",
      "BRAD:  The upper bound is 100 and lower bound is 0. My guess is 50 and 0 < 50 < 100.\n",
      "Stop.\n",
      "\n",
      "Human: The number is < 50. Give the next iteration and stop the response at the word Stop\n",
      "BRAD:\u001b[0m\n",
      "\n",
      "\u001b[1m> Finished chain.\u001b[0m\n",
      " The upper bound is 50 and lower bound is 0. My guess is 25 and 0 < 25 < 50.\n",
      "Stop.\n"
     ]
    }
   ],
   "source": [
    "user_input = \"The number is < 50. Give the next iteration and stop the response at the word Stop\"\n",
    "response = conversation.predict(input=user_input)\n",
    "print(response)"
   ]
  },
  {
   "cell_type": "code",
   "execution_count": 22,
   "id": "d83f1d1b-1064-4e6b-8688-d13f4ad47711",
   "metadata": {},
   "outputs": [
    {
     "name": "stdout",
     "output_type": "stream",
     "text": [
      "\n",
      "\n",
      "\u001b[1m> Entering new ConversationChain chain...\u001b[0m\n",
      "Prompt after formatting:\n",
      "\u001b[32;1m\u001b[1;3mThe following is a guessing game between you (BRAD) and a human. You guess an integer X between an upper and lower bound and the human will give information of higher > X, lower < X, or = X until you guess correctly. Each turn, use information from the human to update one of either your upper or lower bound for X. By updating your bounds over time, you will narrow the options for X.\n",
      "\n",
      "Use a binary search strategy. For instance, if we know X is between 0 and 10, guess in the middle 5, or if X is in between 5 and 10, guess in the middle 8.\n",
      "\n",
      "At each step, answer with your upper bound for X, your lower bound for X, and your guess for X.\n",
      "\n",
      "You want to use the lowest upper bound and the highest lower bound. These bounds can be found in the chat history where z < x or x > z indicates z is a lower bound for x and x is an upper bound for z.\n",
      "\n",
      "**Important:** Only provide your output in the specified format below. Do not continue the conversation beyond this format.\n",
      "\n",
      "Format your response as:\n",
      "\n",
      "\"The upper bound is (Y) and lower bound is (Z). My guess is (X) and (Z) < (X) < (Y). Stop\"\n",
      "\n",
      "Do not continue generating any code after the word \"Stop\". There will be multiple iterations but you only create the response one time per iteration.\n",
      "\n",
      "Example:\n",
      "\n",
      "Iteration 0:\n",
      "Human: Guess a number between 0 and 20\n",
      "System: The upper bound is 20 and lower bound is 0. My guess is 8 and 0 < 8 < 20\n",
      "\n",
      "Iteration 1:\n",
      "Human: the number is > 8\n",
      "System: The upper bound is 20 and lower bound is 8. My guess is 15 and 8 < 15 < 20\n",
      "\n",
      "Iteration 2\n",
      "Human: the number is < 15\n",
      "System: The upper bound is 15 and lower bound is 8. My guess is 12 and 8 < 12 < 15\n",
      "END EXAMPLE. The numbers above are just for a workflow. Do not base your guesses on these\n",
      "\n",
      "Current conversation:\n",
      "Human: Guess a number with a lower bound of 0 and upper bound 100.\n",
      "BRAD:  The upper bound is 100 and lower bound is 0. My guess is 50 and 0 < 50 < 100.\n",
      "Stop.\n",
      "Human: The number is < 50. Give the next iteration and stop the response at the word Stop\n",
      "BRAD:  The upper bound is 50 and lower bound is 0. My guess is 25 and 0 < 25 < 50.\n",
      "Stop.\n",
      "\n",
      "Human: The number is > 25. Give the next iteration and stop the response at the word Stop\n",
      "BRAD:\u001b[0m\n",
      "\n",
      "\u001b[1m> Finished chain.\u001b[0m\n",
      " The upper bound is 50 and lower bound is 25. My guess is 38 and 25 < 38 < 50.\n",
      "Stop.\n"
     ]
    }
   ],
   "source": [
    "user_input = \"The number is > 25. Give the next iteration and stop the response at the word Stop\"\n",
    "response = conversation.predict(input=user_input)\n",
    "print(response)"
   ]
  },
  {
   "cell_type": "code",
   "execution_count": 23,
   "id": "54a8d02e-8eaf-4eec-b1b5-6a861e195e1e",
   "metadata": {},
   "outputs": [
    {
     "name": "stdout",
     "output_type": "stream",
     "text": [
      "\n",
      "\n",
      "\u001b[1m> Entering new ConversationChain chain...\u001b[0m\n",
      "Prompt after formatting:\n",
      "\u001b[32;1m\u001b[1;3mThe following is a guessing game between you (BRAD) and a human. You guess an integer X between an upper and lower bound and the human will give information of higher > X, lower < X, or = X until you guess correctly. Each turn, use information from the human to update one of either your upper or lower bound for X. By updating your bounds over time, you will narrow the options for X.\n",
      "\n",
      "Use a binary search strategy. For instance, if we know X is between 0 and 10, guess in the middle 5, or if X is in between 5 and 10, guess in the middle 8.\n",
      "\n",
      "At each step, answer with your upper bound for X, your lower bound for X, and your guess for X.\n",
      "\n",
      "You want to use the lowest upper bound and the highest lower bound. These bounds can be found in the chat history where z < x or x > z indicates z is a lower bound for x and x is an upper bound for z.\n",
      "\n",
      "**Important:** Only provide your output in the specified format below. Do not continue the conversation beyond this format.\n",
      "\n",
      "Format your response as:\n",
      "\n",
      "\"The upper bound is (Y) and lower bound is (Z). My guess is (X) and (Z) < (X) < (Y). Stop\"\n",
      "\n",
      "Do not continue generating any code after the word \"Stop\". There will be multiple iterations but you only create the response one time per iteration.\n",
      "\n",
      "Example:\n",
      "\n",
      "Iteration 0:\n",
      "Human: Guess a number between 0 and 20\n",
      "System: The upper bound is 20 and lower bound is 0. My guess is 8 and 0 < 8 < 20\n",
      "\n",
      "Iteration 1:\n",
      "Human: the number is > 8\n",
      "System: The upper bound is 20 and lower bound is 8. My guess is 15 and 8 < 15 < 20\n",
      "\n",
      "Iteration 2\n",
      "Human: the number is < 15\n",
      "System: The upper bound is 15 and lower bound is 8. My guess is 12 and 8 < 12 < 15\n",
      "END EXAMPLE. The numbers above are just for a workflow. Do not base your guesses on these\n",
      "\n",
      "Current conversation:\n",
      "Human: Guess a number with a lower bound of 0 and upper bound 100.\n",
      "BRAD:  The upper bound is 100 and lower bound is 0. My guess is 50 and 0 < 50 < 100.\n",
      "Stop.\n",
      "Human: The number is < 50. Give the next iteration and stop the response at the word Stop\n",
      "BRAD:  The upper bound is 50 and lower bound is 0. My guess is 25 and 0 < 25 < 50.\n",
      "Stop.\n",
      "Human: The number is > 25. Give the next iteration and stop the response at the word Stop\n",
      "BRAD:  The upper bound is 50 and lower bound is 25. My guess is 38 and 25 < 38 < 50.\n",
      "Stop.\n",
      "\n",
      "Human: The number is > 38. Give the next iteration and stop the response at the word Stop\n",
      "BRAD:\u001b[0m\n",
      "\n",
      "\u001b[1m> Finished chain.\u001b[0m\n",
      " The upper bound is 50 and lower bound is 38. My guess is 45 and 38 < 45 < 50.\n",
      "Stop.\n"
     ]
    }
   ],
   "source": [
    "user_input = \"The number is > 38. Give the next iteration and stop the response at the word Stop\"\n",
    "response = conversation.predict(input=user_input)\n",
    "print(response)"
   ]
  },
  {
   "cell_type": "code",
   "execution_count": 24,
   "id": "68339203-65d3-4957-976d-f26cfe5704d0",
   "metadata": {},
   "outputs": [
    {
     "name": "stdout",
     "output_type": "stream",
     "text": [
      "\n",
      "\n",
      "\u001b[1m> Entering new ConversationChain chain...\u001b[0m\n",
      "Prompt after formatting:\n",
      "\u001b[32;1m\u001b[1;3mThe following is a guessing game between you (BRAD) and a human. You guess an integer X between an upper and lower bound and the human will give information of higher > X, lower < X, or = X until you guess correctly. Each turn, use information from the human to update one of either your upper or lower bound for X. By updating your bounds over time, you will narrow the options for X.\n",
      "\n",
      "Use a binary search strategy. For instance, if we know X is between 0 and 10, guess in the middle 5, or if X is in between 5 and 10, guess in the middle 8.\n",
      "\n",
      "At each step, answer with your upper bound for X, your lower bound for X, and your guess for X.\n",
      "\n",
      "You want to use the lowest upper bound and the highest lower bound. These bounds can be found in the chat history where z < x or x > z indicates z is a lower bound for x and x is an upper bound for z.\n",
      "\n",
      "**Important:** Only provide your output in the specified format below. Do not continue the conversation beyond this format.\n",
      "\n",
      "Format your response as:\n",
      "\n",
      "\"The upper bound is (Y) and lower bound is (Z). My guess is (X) and (Z) < (X) < (Y). Stop\"\n",
      "\n",
      "Do not continue generating any code after the word \"Stop\". There will be multiple iterations but you only create the response one time per iteration.\n",
      "\n",
      "Example:\n",
      "\n",
      "Iteration 0:\n",
      "Human: Guess a number between 0 and 20\n",
      "System: The upper bound is 20 and lower bound is 0. My guess is 8 and 0 < 8 < 20\n",
      "\n",
      "Iteration 1:\n",
      "Human: the number is > 8\n",
      "System: The upper bound is 20 and lower bound is 8. My guess is 15 and 8 < 15 < 20\n",
      "\n",
      "Iteration 2\n",
      "Human: the number is < 15\n",
      "System: The upper bound is 15 and lower bound is 8. My guess is 12 and 8 < 12 < 15\n",
      "END EXAMPLE. The numbers above are just for a workflow. Do not base your guesses on these\n",
      "\n",
      "Current conversation:\n",
      "Human: Guess a number with a lower bound of 0 and upper bound 100.\n",
      "BRAD:  The upper bound is 100 and lower bound is 0. My guess is 50 and 0 < 50 < 100.\n",
      "Stop.\n",
      "Human: The number is < 50. Give the next iteration and stop the response at the word Stop\n",
      "BRAD:  The upper bound is 50 and lower bound is 0. My guess is 25 and 0 < 25 < 50.\n",
      "Stop.\n",
      "Human: The number is > 25. Give the next iteration and stop the response at the word Stop\n",
      "BRAD:  The upper bound is 50 and lower bound is 25. My guess is 38 and 25 < 38 < 50.\n",
      "Stop.\n",
      "Human: The number is > 38. Give the next iteration and stop the response at the word Stop\n",
      "BRAD:  The upper bound is 50 and lower bound is 38. My guess is 45 and 38 < 45 < 50.\n",
      "Stop.\n",
      "\n",
      "Human: The number is < 45. Give the next iteration and stop the response at the word Stop\n",
      "BRAD:\u001b[0m\n",
      "\n",
      "\u001b[1m> Finished chain.\u001b[0m\n",
      " The upper bound is 45 and lower bound is 38. My guess is 42 and 38 < 42 < 45.\n",
      "Stop.\n"
     ]
    }
   ],
   "source": [
    "user_input = \"The number is < 45. Give the next iteration and stop the response at the word Stop\"\n",
    "response = conversation.predict(input=user_input)\n",
    "print(response)"
   ]
  },
  {
   "cell_type": "code",
   "execution_count": 25,
   "id": "dbc34137-82d4-4dea-b24c-a91d092bc6d3",
   "metadata": {},
   "outputs": [
    {
     "name": "stdout",
     "output_type": "stream",
     "text": [
      "\n",
      "\n",
      "\u001b[1m> Entering new ConversationChain chain...\u001b[0m\n",
      "Prompt after formatting:\n",
      "\u001b[32;1m\u001b[1;3mThe following is a guessing game between you (BRAD) and a human. You guess an integer X between an upper and lower bound and the human will give information of higher > X, lower < X, or = X until you guess correctly. Each turn, use information from the human to update one of either your upper or lower bound for X. By updating your bounds over time, you will narrow the options for X.\n",
      "\n",
      "Use a binary search strategy. For instance, if we know X is between 0 and 10, guess in the middle 5, or if X is in between 5 and 10, guess in the middle 8.\n",
      "\n",
      "At each step, answer with your upper bound for X, your lower bound for X, and your guess for X.\n",
      "\n",
      "You want to use the lowest upper bound and the highest lower bound. These bounds can be found in the chat history where z < x or x > z indicates z is a lower bound for x and x is an upper bound for z.\n",
      "\n",
      "**Important:** Only provide your output in the specified format below. Do not continue the conversation beyond this format.\n",
      "\n",
      "Format your response as:\n",
      "\n",
      "\"The upper bound is (Y) and lower bound is (Z). My guess is (X) and (Z) < (X) < (Y). Stop\"\n",
      "\n",
      "Do not continue generating any code after the word \"Stop\". There will be multiple iterations but you only create the response one time per iteration.\n",
      "\n",
      "Example:\n",
      "\n",
      "Iteration 0:\n",
      "Human: Guess a number between 0 and 20\n",
      "System: The upper bound is 20 and lower bound is 0. My guess is 8 and 0 < 8 < 20\n",
      "\n",
      "Iteration 1:\n",
      "Human: the number is > 8\n",
      "System: The upper bound is 20 and lower bound is 8. My guess is 15 and 8 < 15 < 20\n",
      "\n",
      "Iteration 2\n",
      "Human: the number is < 15\n",
      "System: The upper bound is 15 and lower bound is 8. My guess is 12 and 8 < 12 < 15\n",
      "END EXAMPLE. The numbers above are just for a workflow. Do not base your guesses on these\n",
      "\n",
      "Current conversation:\n",
      "Human: Guess a number with a lower bound of 0 and upper bound 100.\n",
      "BRAD:  The upper bound is 100 and lower bound is 0. My guess is 50 and 0 < 50 < 100.\n",
      "Stop.\n",
      "Human: The number is < 50. Give the next iteration and stop the response at the word Stop\n",
      "BRAD:  The upper bound is 50 and lower bound is 0. My guess is 25 and 0 < 25 < 50.\n",
      "Stop.\n",
      "Human: The number is > 25. Give the next iteration and stop the response at the word Stop\n",
      "BRAD:  The upper bound is 50 and lower bound is 25. My guess is 38 and 25 < 38 < 50.\n",
      "Stop.\n",
      "Human: The number is > 38. Give the next iteration and stop the response at the word Stop\n",
      "BRAD:  The upper bound is 50 and lower bound is 38. My guess is 45 and 38 < 45 < 50.\n",
      "Stop.\n",
      "Human: The number is < 45. Give the next iteration and stop the response at the word Stop\n",
      "BRAD:  The upper bound is 45 and lower bound is 38. My guess is 42 and 38 < 42 < 45.\n",
      "Stop.\n",
      "\n",
      "Human: The number is < 42. Give the next iteration and stop the response at the word Stop\n",
      "BRAD:\u001b[0m\n",
      "\n",
      "\u001b[1m> Finished chain.\u001b[0m\n",
      " The upper bound is 45 and lower bound is 38. My guess is 40 and 38 < 40 < 45.\n",
      "Stop.\n"
     ]
    }
   ],
   "source": [
    "user_input = \"The number is < 42. Give the next iteration and stop the response at the word Stop\"\n",
    "response = conversation.predict(input=user_input)\n",
    "print(response)"
   ]
  },
  {
   "cell_type": "code",
   "execution_count": 26,
   "id": "602fd68e-1d36-4023-b52b-db7fbe269fc4",
   "metadata": {},
   "outputs": [
    {
     "name": "stdout",
     "output_type": "stream",
     "text": [
      "\n",
      "\n",
      "\u001b[1m> Entering new ConversationChain chain...\u001b[0m\n",
      "Prompt after formatting:\n",
      "\u001b[32;1m\u001b[1;3mThe following is a guessing game between you (BRAD) and a human. You guess an integer X between an upper and lower bound and the human will give information of higher > X, lower < X, or = X until you guess correctly. Each turn, use information from the human to update one of either your upper or lower bound for X. By updating your bounds over time, you will narrow the options for X.\n",
      "\n",
      "Use a binary search strategy. For instance, if we know X is between 0 and 10, guess in the middle 5, or if X is in between 5 and 10, guess in the middle 8.\n",
      "\n",
      "At each step, answer with your upper bound for X, your lower bound for X, and your guess for X.\n",
      "\n",
      "You want to use the lowest upper bound and the highest lower bound. These bounds can be found in the chat history where z < x or x > z indicates z is a lower bound for x and x is an upper bound for z.\n",
      "\n",
      "**Important:** Only provide your output in the specified format below. Do not continue the conversation beyond this format.\n",
      "\n",
      "Format your response as:\n",
      "\n",
      "\"The upper bound is (Y) and lower bound is (Z). My guess is (X) and (Z) < (X) < (Y). Stop\"\n",
      "\n",
      "Do not continue generating any code after the word \"Stop\". There will be multiple iterations but you only create the response one time per iteration.\n",
      "\n",
      "Example:\n",
      "\n",
      "Iteration 0:\n",
      "Human: Guess a number between 0 and 20\n",
      "System: The upper bound is 20 and lower bound is 0. My guess is 8 and 0 < 8 < 20\n",
      "\n",
      "Iteration 1:\n",
      "Human: the number is > 8\n",
      "System: The upper bound is 20 and lower bound is 8. My guess is 15 and 8 < 15 < 20\n",
      "\n",
      "Iteration 2\n",
      "Human: the number is < 15\n",
      "System: The upper bound is 15 and lower bound is 8. My guess is 12 and 8 < 12 < 15\n",
      "END EXAMPLE. The numbers above are just for a workflow. Do not base your guesses on these\n",
      "\n",
      "Current conversation:\n",
      "Human: Guess a number with a lower bound of 0 and upper bound 100.\n",
      "BRAD:  The upper bound is 100 and lower bound is 0. My guess is 50 and 0 < 50 < 100.\n",
      "Stop.\n",
      "Human: The number is < 50. Give the next iteration and stop the response at the word Stop\n",
      "BRAD:  The upper bound is 50 and lower bound is 0. My guess is 25 and 0 < 25 < 50.\n",
      "Stop.\n",
      "Human: The number is > 25. Give the next iteration and stop the response at the word Stop\n",
      "BRAD:  The upper bound is 50 and lower bound is 25. My guess is 38 and 25 < 38 < 50.\n",
      "Stop.\n",
      "Human: The number is > 38. Give the next iteration and stop the response at the word Stop\n",
      "BRAD:  The upper bound is 50 and lower bound is 38. My guess is 45 and 38 < 45 < 50.\n",
      "Stop.\n",
      "Human: The number is < 45. Give the next iteration and stop the response at the word Stop\n",
      "BRAD:  The upper bound is 45 and lower bound is 38. My guess is 42 and 38 < 42 < 45.\n",
      "Stop.\n",
      "Human: The number is < 42. Give the next iteration and stop the response at the word Stop\n",
      "BRAD:  The upper bound is 45 and lower bound is 38. My guess is 40 and 38 < 40 < 45.\n",
      "Stop.\n",
      "\n",
      "Human: The number is > 40. Give the next iteration and stop the response at the word Stop\n",
      "BRAD:\u001b[0m\n",
      "\n",
      "\u001b[1m> Finished chain.\u001b[0m\n",
      " The upper bound is 45 and lower bound is 40. My guess is 43 and 40 < 43 < 45.\n",
      "Stop.\n"
     ]
    }
   ],
   "source": [
    "user_input = \"The number is > 40. Give the next iteration and stop the response at the word Stop\"\n",
    "response = conversation.predict(input=user_input)\n",
    "print(response)"
   ]
  },
  {
   "cell_type": "code",
   "execution_count": 27,
   "id": "86270c29-2aee-4912-921f-4bce6d9f426b",
   "metadata": {},
   "outputs": [
    {
     "name": "stdout",
     "output_type": "stream",
     "text": [
      "\n",
      "\n",
      "\u001b[1m> Entering new ConversationChain chain...\u001b[0m\n",
      "Prompt after formatting:\n",
      "\u001b[32;1m\u001b[1;3mThe following is a guessing game between you (BRAD) and a human. You guess an integer X between an upper and lower bound and the human will give information of higher > X, lower < X, or = X until you guess correctly. Each turn, use information from the human to update one of either your upper or lower bound for X. By updating your bounds over time, you will narrow the options for X.\n",
      "\n",
      "Use a binary search strategy. For instance, if we know X is between 0 and 10, guess in the middle 5, or if X is in between 5 and 10, guess in the middle 8.\n",
      "\n",
      "At each step, answer with your upper bound for X, your lower bound for X, and your guess for X.\n",
      "\n",
      "You want to use the lowest upper bound and the highest lower bound. These bounds can be found in the chat history where z < x or x > z indicates z is a lower bound for x and x is an upper bound for z.\n",
      "\n",
      "**Important:** Only provide your output in the specified format below. Do not continue the conversation beyond this format.\n",
      "\n",
      "Format your response as:\n",
      "\n",
      "\"The upper bound is (Y) and lower bound is (Z). My guess is (X) and (Z) < (X) < (Y). Stop\"\n",
      "\n",
      "Do not continue generating any code after the word \"Stop\". There will be multiple iterations but you only create the response one time per iteration.\n",
      "\n",
      "Example:\n",
      "\n",
      "Iteration 0:\n",
      "Human: Guess a number between 0 and 20\n",
      "System: The upper bound is 20 and lower bound is 0. My guess is 8 and 0 < 8 < 20\n",
      "\n",
      "Iteration 1:\n",
      "Human: the number is > 8\n",
      "System: The upper bound is 20 and lower bound is 8. My guess is 15 and 8 < 15 < 20\n",
      "\n",
      "Iteration 2\n",
      "Human: the number is < 15\n",
      "System: The upper bound is 15 and lower bound is 8. My guess is 12 and 8 < 12 < 15\n",
      "END EXAMPLE. The numbers above are just for a workflow. Do not base your guesses on these\n",
      "\n",
      "Current conversation:\n",
      "Human: Guess a number with a lower bound of 0 and upper bound 100.\n",
      "BRAD:  The upper bound is 100 and lower bound is 0. My guess is 50 and 0 < 50 < 100.\n",
      "Stop.\n",
      "Human: The number is < 50. Give the next iteration and stop the response at the word Stop\n",
      "BRAD:  The upper bound is 50 and lower bound is 0. My guess is 25 and 0 < 25 < 50.\n",
      "Stop.\n",
      "Human: The number is > 25. Give the next iteration and stop the response at the word Stop\n",
      "BRAD:  The upper bound is 50 and lower bound is 25. My guess is 38 and 25 < 38 < 50.\n",
      "Stop.\n",
      "Human: The number is > 38. Give the next iteration and stop the response at the word Stop\n",
      "BRAD:  The upper bound is 50 and lower bound is 38. My guess is 45 and 38 < 45 < 50.\n",
      "Stop.\n",
      "Human: The number is < 45. Give the next iteration and stop the response at the word Stop\n",
      "BRAD:  The upper bound is 45 and lower bound is 38. My guess is 42 and 38 < 42 < 45.\n",
      "Stop.\n",
      "Human: The number is < 42. Give the next iteration and stop the response at the word Stop\n",
      "BRAD:  The upper bound is 45 and lower bound is 38. My guess is 40 and 38 < 40 < 45.\n",
      "Stop.\n",
      "Human: The number is > 40. Give the next iteration and stop the response at the word Stop\n",
      "BRAD:  The upper bound is 45 and lower bound is 40. My guess is 43 and 40 < 43 < 45.\n",
      "Stop.\n",
      "\n",
      "Human: The number is < 43. Give the next iteration and stop the response at the word Stop\n",
      "BRAD:\u001b[0m\n",
      "\n",
      "\u001b[1m> Finished chain.\u001b[0m\n",
      " The upper bound is 43 and lower bound is 40. My guess is 41 and 40 < 41 < 43.\n",
      "Stop.\n"
     ]
    }
   ],
   "source": [
    "user_input = \"The number is < 43. Give the next iteration and stop the response at the word Stop\"\n",
    "response = conversation.predict(input=user_input)\n",
    "print(response)"
   ]
  },
  {
   "cell_type": "code",
   "execution_count": null,
   "id": "be8395de-9440-46c8-aac5-67ddc334f97a",
   "metadata": {},
   "outputs": [],
   "source": []
  },
  {
   "cell_type": "code",
   "execution_count": null,
   "id": "beeefa75-b7ac-4b02-b544-99284509ccfe",
   "metadata": {},
   "outputs": [],
   "source": []
  }
 ],
 "metadata": {
  "kernelspec": {
   "display_name": "Python 3 (ipykernel)",
   "language": "python",
   "name": "python3"
  },
  "language_info": {
   "codemirror_mode": {
    "name": "ipython",
    "version": 3
   },
   "file_extension": ".py",
   "mimetype": "text/x-python",
   "name": "python",
   "nbconvert_exporter": "python",
   "pygments_lexer": "ipython3",
   "version": "3.9.7"
  }
 },
 "nbformat": 4,
 "nbformat_minor": 5
}
